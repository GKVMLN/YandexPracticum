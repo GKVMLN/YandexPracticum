{
 "cells": [
  {
   "cell_type": "markdown",
   "id": "856a20af",
   "metadata": {
    "deletable": false,
    "editable": false,
    "id": "c81daeeb"
   },
   "source": [
    "# Исследование надежности заемщиков\n"
   ]
  },
  {
   "cell_type": "markdown",
   "id": "e7ac7ae1",
   "metadata": {},
   "source": [
    "Заказчик — кредитный отдел банка. Нужно разобраться, влияет ли семейное положение и количество детей клиента на факт погашения кредита в срок. Входные данные от банка — статистика о платёжеспособности клиентов.\n",
    "\n",
    "Результаты исследования будут учтены при построении модели кредитного скоринга — специальной системы, которая оценивает способность потенциального заёмщика вернуть кредит банку."
   ]
  },
  {
   "cell_type": "markdown",
   "id": "1f70573e",
   "metadata": {
    "deletable": false,
    "editable": false,
    "id": "827c20bf"
   },
   "source": [
    "Во второй части проекта вы выполните шаги 3 и 4. Их вручную проверит ревьюер.\n",
    "Чтобы вам не пришлось писать код заново для шагов 1 и 2, мы добавили авторские решения в ячейки с кодом. \n",
    "\n"
   ]
  },
  {
   "cell_type": "markdown",
   "id": "97129f04",
   "metadata": {
    "deletable": false,
    "editable": false,
    "id": "744d7639"
   },
   "source": [
    "## Откройте таблицу и изучите общую информацию о данных"
   ]
  },
  {
   "cell_type": "markdown",
   "id": "2127558c",
   "metadata": {
    "deletable": false,
    "editable": false,
    "id": "e7a14c31"
   },
   "source": [
    "**Задание 1. Импортируйте библиотеку pandas. Считайте данные из csv-файла в датафрейм и сохраните в переменную `data`. Путь к файлу:**\n",
    "\n",
    "`/datasets/data.csv`"
   ]
  },
  {
   "cell_type": "code",
   "execution_count": 2,
   "id": "de80f495",
   "metadata": {
    "deletable": false,
    "id": "7bcf75c9"
   },
   "outputs": [],
   "source": [
    "import pandas as pd\n",
    "\n",
    "try:\n",
    "    data = pd.read_csv('DATA')\n",
    "except:\n",
    "    data = pd.read_csv('DATA')"
   ]
  },
  {
   "cell_type": "markdown",
   "id": "5f5a3ace",
   "metadata": {
    "deletable": false,
    "editable": false,
    "id": "b8038fe3"
   },
   "source": [
    "**Задание 2. Выведите первые 20 строчек датафрейма `data` на экран.**"
   ]
  },
  {
   "cell_type": "code",
   "execution_count": 3,
   "id": "c7515a09",
   "metadata": {
    "deletable": false,
    "id": "2a7cab99",
    "outputId": "1a8f3ef2-d323-4ec2-ddf7-89670b5944c4"
   },
   "outputs": [
    {
     "data": {
      "text/html": [
       "<div>\n",
       "<style scoped>\n",
       "    .dataframe tbody tr th:only-of-type {\n",
       "        vertical-align: middle;\n",
       "    }\n",
       "\n",
       "    .dataframe tbody tr th {\n",
       "        vertical-align: top;\n",
       "    }\n",
       "\n",
       "    .dataframe thead th {\n",
       "        text-align: right;\n",
       "    }\n",
       "</style>\n",
       "<table border=\"1\" class=\"dataframe\">\n",
       "  <thead>\n",
       "    <tr style=\"text-align: right;\">\n",
       "      <th></th>\n",
       "      <th>children</th>\n",
       "      <th>days_employed</th>\n",
       "      <th>dob_years</th>\n",
       "      <th>education</th>\n",
       "      <th>education_id</th>\n",
       "      <th>family_status</th>\n",
       "      <th>family_status_id</th>\n",
       "      <th>gender</th>\n",
       "      <th>income_type</th>\n",
       "      <th>debt</th>\n",
       "      <th>total_income</th>\n",
       "      <th>purpose</th>\n",
       "    </tr>\n",
       "  </thead>\n",
       "  <tbody>\n",
       "    <tr>\n",
       "      <th>0</th>\n",
       "      <td>1</td>\n",
       "      <td>-8437.673028</td>\n",
       "      <td>42</td>\n",
       "      <td>высшее</td>\n",
       "      <td>0</td>\n",
       "      <td>женат / замужем</td>\n",
       "      <td>0</td>\n",
       "      <td>F</td>\n",
       "      <td>сотрудник</td>\n",
       "      <td>0</td>\n",
       "      <td>253875.639453</td>\n",
       "      <td>покупка жилья</td>\n",
       "    </tr>\n",
       "    <tr>\n",
       "      <th>1</th>\n",
       "      <td>1</td>\n",
       "      <td>-4024.803754</td>\n",
       "      <td>36</td>\n",
       "      <td>среднее</td>\n",
       "      <td>1</td>\n",
       "      <td>женат / замужем</td>\n",
       "      <td>0</td>\n",
       "      <td>F</td>\n",
       "      <td>сотрудник</td>\n",
       "      <td>0</td>\n",
       "      <td>112080.014102</td>\n",
       "      <td>приобретение автомобиля</td>\n",
       "    </tr>\n",
       "    <tr>\n",
       "      <th>2</th>\n",
       "      <td>0</td>\n",
       "      <td>-5623.422610</td>\n",
       "      <td>33</td>\n",
       "      <td>Среднее</td>\n",
       "      <td>1</td>\n",
       "      <td>женат / замужем</td>\n",
       "      <td>0</td>\n",
       "      <td>M</td>\n",
       "      <td>сотрудник</td>\n",
       "      <td>0</td>\n",
       "      <td>145885.952297</td>\n",
       "      <td>покупка жилья</td>\n",
       "    </tr>\n",
       "    <tr>\n",
       "      <th>3</th>\n",
       "      <td>3</td>\n",
       "      <td>-4124.747207</td>\n",
       "      <td>32</td>\n",
       "      <td>среднее</td>\n",
       "      <td>1</td>\n",
       "      <td>женат / замужем</td>\n",
       "      <td>0</td>\n",
       "      <td>M</td>\n",
       "      <td>сотрудник</td>\n",
       "      <td>0</td>\n",
       "      <td>267628.550329</td>\n",
       "      <td>дополнительное образование</td>\n",
       "    </tr>\n",
       "    <tr>\n",
       "      <th>4</th>\n",
       "      <td>0</td>\n",
       "      <td>340266.072047</td>\n",
       "      <td>53</td>\n",
       "      <td>среднее</td>\n",
       "      <td>1</td>\n",
       "      <td>гражданский брак</td>\n",
       "      <td>1</td>\n",
       "      <td>F</td>\n",
       "      <td>пенсионер</td>\n",
       "      <td>0</td>\n",
       "      <td>158616.077870</td>\n",
       "      <td>сыграть свадьбу</td>\n",
       "    </tr>\n",
       "    <tr>\n",
       "      <th>5</th>\n",
       "      <td>0</td>\n",
       "      <td>-926.185831</td>\n",
       "      <td>27</td>\n",
       "      <td>высшее</td>\n",
       "      <td>0</td>\n",
       "      <td>гражданский брак</td>\n",
       "      <td>1</td>\n",
       "      <td>M</td>\n",
       "      <td>компаньон</td>\n",
       "      <td>0</td>\n",
       "      <td>255763.565419</td>\n",
       "      <td>покупка жилья</td>\n",
       "    </tr>\n",
       "    <tr>\n",
       "      <th>6</th>\n",
       "      <td>0</td>\n",
       "      <td>-2879.202052</td>\n",
       "      <td>43</td>\n",
       "      <td>высшее</td>\n",
       "      <td>0</td>\n",
       "      <td>женат / замужем</td>\n",
       "      <td>0</td>\n",
       "      <td>F</td>\n",
       "      <td>компаньон</td>\n",
       "      <td>0</td>\n",
       "      <td>240525.971920</td>\n",
       "      <td>операции с жильем</td>\n",
       "    </tr>\n",
       "    <tr>\n",
       "      <th>7</th>\n",
       "      <td>0</td>\n",
       "      <td>-152.779569</td>\n",
       "      <td>50</td>\n",
       "      <td>СРЕДНЕЕ</td>\n",
       "      <td>1</td>\n",
       "      <td>женат / замужем</td>\n",
       "      <td>0</td>\n",
       "      <td>M</td>\n",
       "      <td>сотрудник</td>\n",
       "      <td>0</td>\n",
       "      <td>135823.934197</td>\n",
       "      <td>образование</td>\n",
       "    </tr>\n",
       "    <tr>\n",
       "      <th>8</th>\n",
       "      <td>2</td>\n",
       "      <td>-6929.865299</td>\n",
       "      <td>35</td>\n",
       "      <td>ВЫСШЕЕ</td>\n",
       "      <td>0</td>\n",
       "      <td>гражданский брак</td>\n",
       "      <td>1</td>\n",
       "      <td>F</td>\n",
       "      <td>сотрудник</td>\n",
       "      <td>0</td>\n",
       "      <td>95856.832424</td>\n",
       "      <td>на проведение свадьбы</td>\n",
       "    </tr>\n",
       "    <tr>\n",
       "      <th>9</th>\n",
       "      <td>0</td>\n",
       "      <td>-2188.756445</td>\n",
       "      <td>41</td>\n",
       "      <td>среднее</td>\n",
       "      <td>1</td>\n",
       "      <td>женат / замужем</td>\n",
       "      <td>0</td>\n",
       "      <td>M</td>\n",
       "      <td>сотрудник</td>\n",
       "      <td>0</td>\n",
       "      <td>144425.938277</td>\n",
       "      <td>покупка жилья для семьи</td>\n",
       "    </tr>\n",
       "    <tr>\n",
       "      <th>10</th>\n",
       "      <td>2</td>\n",
       "      <td>-4171.483647</td>\n",
       "      <td>36</td>\n",
       "      <td>высшее</td>\n",
       "      <td>0</td>\n",
       "      <td>женат / замужем</td>\n",
       "      <td>0</td>\n",
       "      <td>M</td>\n",
       "      <td>компаньон</td>\n",
       "      <td>0</td>\n",
       "      <td>113943.491460</td>\n",
       "      <td>покупка недвижимости</td>\n",
       "    </tr>\n",
       "    <tr>\n",
       "      <th>11</th>\n",
       "      <td>0</td>\n",
       "      <td>-792.701887</td>\n",
       "      <td>40</td>\n",
       "      <td>среднее</td>\n",
       "      <td>1</td>\n",
       "      <td>женат / замужем</td>\n",
       "      <td>0</td>\n",
       "      <td>F</td>\n",
       "      <td>сотрудник</td>\n",
       "      <td>0</td>\n",
       "      <td>77069.234271</td>\n",
       "      <td>покупка коммерческой недвижимости</td>\n",
       "    </tr>\n",
       "    <tr>\n",
       "      <th>12</th>\n",
       "      <td>0</td>\n",
       "      <td>NaN</td>\n",
       "      <td>65</td>\n",
       "      <td>среднее</td>\n",
       "      <td>1</td>\n",
       "      <td>гражданский брак</td>\n",
       "      <td>1</td>\n",
       "      <td>M</td>\n",
       "      <td>пенсионер</td>\n",
       "      <td>0</td>\n",
       "      <td>NaN</td>\n",
       "      <td>сыграть свадьбу</td>\n",
       "    </tr>\n",
       "    <tr>\n",
       "      <th>13</th>\n",
       "      <td>0</td>\n",
       "      <td>-1846.641941</td>\n",
       "      <td>54</td>\n",
       "      <td>неоконченное высшее</td>\n",
       "      <td>2</td>\n",
       "      <td>женат / замужем</td>\n",
       "      <td>0</td>\n",
       "      <td>F</td>\n",
       "      <td>сотрудник</td>\n",
       "      <td>0</td>\n",
       "      <td>130458.228857</td>\n",
       "      <td>приобретение автомобиля</td>\n",
       "    </tr>\n",
       "    <tr>\n",
       "      <th>14</th>\n",
       "      <td>0</td>\n",
       "      <td>-1844.956182</td>\n",
       "      <td>56</td>\n",
       "      <td>высшее</td>\n",
       "      <td>0</td>\n",
       "      <td>гражданский брак</td>\n",
       "      <td>1</td>\n",
       "      <td>F</td>\n",
       "      <td>компаньон</td>\n",
       "      <td>1</td>\n",
       "      <td>165127.911772</td>\n",
       "      <td>покупка жилой недвижимости</td>\n",
       "    </tr>\n",
       "    <tr>\n",
       "      <th>15</th>\n",
       "      <td>1</td>\n",
       "      <td>-972.364419</td>\n",
       "      <td>26</td>\n",
       "      <td>среднее</td>\n",
       "      <td>1</td>\n",
       "      <td>женат / замужем</td>\n",
       "      <td>0</td>\n",
       "      <td>F</td>\n",
       "      <td>сотрудник</td>\n",
       "      <td>0</td>\n",
       "      <td>116820.904450</td>\n",
       "      <td>строительство собственной недвижимости</td>\n",
       "    </tr>\n",
       "    <tr>\n",
       "      <th>16</th>\n",
       "      <td>0</td>\n",
       "      <td>-1719.934226</td>\n",
       "      <td>35</td>\n",
       "      <td>среднее</td>\n",
       "      <td>1</td>\n",
       "      <td>женат / замужем</td>\n",
       "      <td>0</td>\n",
       "      <td>F</td>\n",
       "      <td>сотрудник</td>\n",
       "      <td>0</td>\n",
       "      <td>289202.704229</td>\n",
       "      <td>недвижимость</td>\n",
       "    </tr>\n",
       "    <tr>\n",
       "      <th>17</th>\n",
       "      <td>0</td>\n",
       "      <td>-2369.999720</td>\n",
       "      <td>33</td>\n",
       "      <td>высшее</td>\n",
       "      <td>0</td>\n",
       "      <td>гражданский брак</td>\n",
       "      <td>1</td>\n",
       "      <td>M</td>\n",
       "      <td>сотрудник</td>\n",
       "      <td>0</td>\n",
       "      <td>90410.586745</td>\n",
       "      <td>строительство недвижимости</td>\n",
       "    </tr>\n",
       "    <tr>\n",
       "      <th>18</th>\n",
       "      <td>0</td>\n",
       "      <td>400281.136913</td>\n",
       "      <td>53</td>\n",
       "      <td>среднее</td>\n",
       "      <td>1</td>\n",
       "      <td>вдовец / вдова</td>\n",
       "      <td>2</td>\n",
       "      <td>F</td>\n",
       "      <td>пенсионер</td>\n",
       "      <td>0</td>\n",
       "      <td>56823.777243</td>\n",
       "      <td>на покупку подержанного автомобиля</td>\n",
       "    </tr>\n",
       "    <tr>\n",
       "      <th>19</th>\n",
       "      <td>0</td>\n",
       "      <td>-10038.818549</td>\n",
       "      <td>48</td>\n",
       "      <td>СРЕДНЕЕ</td>\n",
       "      <td>1</td>\n",
       "      <td>в разводе</td>\n",
       "      <td>3</td>\n",
       "      <td>F</td>\n",
       "      <td>сотрудник</td>\n",
       "      <td>0</td>\n",
       "      <td>242831.107982</td>\n",
       "      <td>на покупку своего автомобиля</td>\n",
       "    </tr>\n",
       "  </tbody>\n",
       "</table>\n",
       "</div>"
      ],
      "text/plain": [
       "    children  days_employed  dob_years            education  education_id  \\\n",
       "0          1   -8437.673028         42               высшее             0   \n",
       "1          1   -4024.803754         36              среднее             1   \n",
       "2          0   -5623.422610         33              Среднее             1   \n",
       "3          3   -4124.747207         32              среднее             1   \n",
       "4          0  340266.072047         53              среднее             1   \n",
       "5          0    -926.185831         27               высшее             0   \n",
       "6          0   -2879.202052         43               высшее             0   \n",
       "7          0    -152.779569         50              СРЕДНЕЕ             1   \n",
       "8          2   -6929.865299         35               ВЫСШЕЕ             0   \n",
       "9          0   -2188.756445         41              среднее             1   \n",
       "10         2   -4171.483647         36               высшее             0   \n",
       "11         0    -792.701887         40              среднее             1   \n",
       "12         0            NaN         65              среднее             1   \n",
       "13         0   -1846.641941         54  неоконченное высшее             2   \n",
       "14         0   -1844.956182         56               высшее             0   \n",
       "15         1    -972.364419         26              среднее             1   \n",
       "16         0   -1719.934226         35              среднее             1   \n",
       "17         0   -2369.999720         33               высшее             0   \n",
       "18         0  400281.136913         53              среднее             1   \n",
       "19         0  -10038.818549         48              СРЕДНЕЕ             1   \n",
       "\n",
       "       family_status  family_status_id gender income_type  debt  \\\n",
       "0    женат / замужем                 0      F   сотрудник     0   \n",
       "1    женат / замужем                 0      F   сотрудник     0   \n",
       "2    женат / замужем                 0      M   сотрудник     0   \n",
       "3    женат / замужем                 0      M   сотрудник     0   \n",
       "4   гражданский брак                 1      F   пенсионер     0   \n",
       "5   гражданский брак                 1      M   компаньон     0   \n",
       "6    женат / замужем                 0      F   компаньон     0   \n",
       "7    женат / замужем                 0      M   сотрудник     0   \n",
       "8   гражданский брак                 1      F   сотрудник     0   \n",
       "9    женат / замужем                 0      M   сотрудник     0   \n",
       "10   женат / замужем                 0      M   компаньон     0   \n",
       "11   женат / замужем                 0      F   сотрудник     0   \n",
       "12  гражданский брак                 1      M   пенсионер     0   \n",
       "13   женат / замужем                 0      F   сотрудник     0   \n",
       "14  гражданский брак                 1      F   компаньон     1   \n",
       "15   женат / замужем                 0      F   сотрудник     0   \n",
       "16   женат / замужем                 0      F   сотрудник     0   \n",
       "17  гражданский брак                 1      M   сотрудник     0   \n",
       "18    вдовец / вдова                 2      F   пенсионер     0   \n",
       "19         в разводе                 3      F   сотрудник     0   \n",
       "\n",
       "     total_income                                 purpose  \n",
       "0   253875.639453                           покупка жилья  \n",
       "1   112080.014102                 приобретение автомобиля  \n",
       "2   145885.952297                           покупка жилья  \n",
       "3   267628.550329              дополнительное образование  \n",
       "4   158616.077870                         сыграть свадьбу  \n",
       "5   255763.565419                           покупка жилья  \n",
       "6   240525.971920                       операции с жильем  \n",
       "7   135823.934197                             образование  \n",
       "8    95856.832424                   на проведение свадьбы  \n",
       "9   144425.938277                 покупка жилья для семьи  \n",
       "10  113943.491460                    покупка недвижимости  \n",
       "11   77069.234271       покупка коммерческой недвижимости  \n",
       "12            NaN                         сыграть свадьбу  \n",
       "13  130458.228857                 приобретение автомобиля  \n",
       "14  165127.911772              покупка жилой недвижимости  \n",
       "15  116820.904450  строительство собственной недвижимости  \n",
       "16  289202.704229                            недвижимость  \n",
       "17   90410.586745              строительство недвижимости  \n",
       "18   56823.777243      на покупку подержанного автомобиля  \n",
       "19  242831.107982            на покупку своего автомобиля  "
      ]
     },
     "execution_count": 3,
     "metadata": {},
     "output_type": "execute_result"
    }
   ],
   "source": [
    "data.head(20)"
   ]
  },
  {
   "cell_type": "markdown",
   "id": "a9d3229d",
   "metadata": {
    "deletable": false,
    "editable": false,
    "id": "1c12e233"
   },
   "source": [
    "**Задание 3. Выведите основную информацию о датафрейме с помощью метода `info()`.**"
   ]
  },
  {
   "cell_type": "code",
   "execution_count": 4,
   "id": "df8ee4f8",
   "metadata": {
    "deletable": false,
    "id": "2b757bca",
    "outputId": "15376089-8dad-46c9-b520-c05248d43158"
   },
   "outputs": [
    {
     "name": "stdout",
     "output_type": "stream",
     "text": [
      "<class 'pandas.core.frame.DataFrame'>\n",
      "RangeIndex: 21525 entries, 0 to 21524\n",
      "Data columns (total 12 columns):\n",
      " #   Column            Non-Null Count  Dtype  \n",
      "---  ------            --------------  -----  \n",
      " 0   children          21525 non-null  int64  \n",
      " 1   days_employed     19351 non-null  float64\n",
      " 2   dob_years         21525 non-null  int64  \n",
      " 3   education         21525 non-null  object \n",
      " 4   education_id      21525 non-null  int64  \n",
      " 5   family_status     21525 non-null  object \n",
      " 6   family_status_id  21525 non-null  int64  \n",
      " 7   gender            21525 non-null  object \n",
      " 8   income_type       21525 non-null  object \n",
      " 9   debt              21525 non-null  int64  \n",
      " 10  total_income      19351 non-null  float64\n",
      " 11  purpose           21525 non-null  object \n",
      "dtypes: float64(2), int64(5), object(5)\n",
      "memory usage: 2.0+ MB\n"
     ]
    }
   ],
   "source": [
    "data.info()"
   ]
  },
  {
   "cell_type": "markdown",
   "id": "196b5fb2",
   "metadata": {
    "deletable": false,
    "editable": false,
    "id": "333ec665"
   },
   "source": [
    "## Предобработка данных"
   ]
  },
  {
   "cell_type": "markdown",
   "id": "cf924d5e",
   "metadata": {
    "deletable": false,
    "editable": false,
    "id": "02d92d53"
   },
   "source": [
    "### Удаление пропусков"
   ]
  },
  {
   "cell_type": "markdown",
   "id": "40a90977",
   "metadata": {
    "deletable": false,
    "editable": false,
    "id": "cd84967c"
   },
   "source": [
    "**Задание 4. Выведите количество пропущенных значений для каждого столбца. Используйте комбинацию двух методов.**"
   ]
  },
  {
   "cell_type": "code",
   "execution_count": 5,
   "id": "8aeb94cc",
   "metadata": {
    "deletable": false,
    "id": "7f9b2309",
    "outputId": "81f4d817-781c-465c-ed15-91ce4446810d"
   },
   "outputs": [
    {
     "data": {
      "text/plain": [
       "children               0\n",
       "days_employed       2174\n",
       "dob_years              0\n",
       "education              0\n",
       "education_id           0\n",
       "family_status          0\n",
       "family_status_id       0\n",
       "gender                 0\n",
       "income_type            0\n",
       "debt                   0\n",
       "total_income        2174\n",
       "purpose                0\n",
       "dtype: int64"
      ]
     },
     "execution_count": 5,
     "metadata": {},
     "output_type": "execute_result"
    }
   ],
   "source": [
    "data.isna().sum()"
   ]
  },
  {
   "cell_type": "markdown",
   "id": "9e57b0f2",
   "metadata": {
    "deletable": false,
    "editable": false,
    "id": "db86e27b"
   },
   "source": [
    "**Задание 5. В двух столбцах есть пропущенные значения. Один из них — `days_employed`. Пропуски в этом столбце вы обработаете на следующем этапе. Другой столбец с пропущенными значениями — `total_income` — хранит данные о доходах. На сумму дохода сильнее всего влияет тип занятости, поэтому заполнить пропуски в этом столбце нужно медианным значением по каждому типу из столбца `income_type`. Например, у человека с типом занятости `сотрудник` пропуск в столбце `total_income` должен быть заполнен медианным доходом среди всех записей с тем же типом.**"
   ]
  },
  {
   "cell_type": "code",
   "execution_count": 6,
   "id": "a752cd2a",
   "metadata": {
    "deletable": false,
    "id": "42006a93"
   },
   "outputs": [],
   "source": [
    "for t in data['income_type'].unique():\n",
    "    data.loc[(data['income_type'] == t) & (data['total_income'].isna()), 'total_income'] = \\\n",
    "    data.loc[(data['income_type'] == t), 'total_income'].median()"
   ]
  },
  {
   "cell_type": "markdown",
   "id": "0fe375b4",
   "metadata": {
    "deletable": false,
    "editable": false,
    "id": "89da5ece"
   },
   "source": [
    "### Обработка аномальных значений"
   ]
  },
  {
   "cell_type": "markdown",
   "id": "d4dd6a92",
   "metadata": {
    "deletable": false,
    "editable": false,
    "id": "57964554"
   },
   "source": [
    "**Задание 6. В данных могут встречаться артефакты (аномалии) — значения, которые не отражают действительность и появились по какой-то ошибке. таким артефактом будет отрицательное количество дней трудового стажа в столбце `days_employed`. Для реальных данных это нормально. Обработайте значения в этом столбце: замените все отрицательные значения положительными с помощью метода `abs()`.**"
   ]
  },
  {
   "cell_type": "code",
   "execution_count": 7,
   "id": "170b09a9",
   "metadata": {
    "deletable": false,
    "id": "f6f055bf"
   },
   "outputs": [],
   "source": [
    "data['days_employed'] = data['days_employed'].abs()"
   ]
  },
  {
   "cell_type": "markdown",
   "id": "71360276",
   "metadata": {
    "deletable": false,
    "editable": false,
    "id": "6107dd2f"
   },
   "source": [
    "**Задание 7. Для каждого типа занятости выведите медианное значение трудового стажа `days_employed` в днях.**"
   ]
  },
  {
   "cell_type": "code",
   "execution_count": 8,
   "id": "02d9cd42",
   "metadata": {
    "deletable": false,
    "id": "85a5faf6",
    "outputId": "801ef80e-522b-4668-f34e-565af7432bcf"
   },
   "outputs": [
    {
     "data": {
      "text/plain": [
       "income_type\n",
       "безработный        366413.652744\n",
       "в декрете            3296.759962\n",
       "госслужащий          2689.368353\n",
       "компаньон            1547.382223\n",
       "пенсионер          365213.306266\n",
       "предприниматель       520.848083\n",
       "сотрудник            1574.202821\n",
       "студент               578.751554\n",
       "Name: days_employed, dtype: float64"
      ]
     },
     "execution_count": 8,
     "metadata": {},
     "output_type": "execute_result"
    }
   ],
   "source": [
    "data.groupby('income_type')['days_employed'].agg('median')"
   ]
  },
  {
   "cell_type": "markdown",
   "id": "d21b22df",
   "metadata": {
    "deletable": false,
    "editable": false,
    "id": "38d1a030"
   },
   "source": [
    "У двух типов (безработные и пенсионеры) получатся аномально большие значения. Исправить такие значения сложно, поэтому оставьте их как есть. Тем более этот столбец не понадобится вам для исследования."
   ]
  },
  {
   "cell_type": "markdown",
   "id": "57551d07",
   "metadata": {
    "deletable": false,
    "editable": false,
    "id": "d8a9f147"
   },
   "source": [
    "**Задание 8. Выведите перечень уникальных значений столбца `children`.**"
   ]
  },
  {
   "cell_type": "code",
   "execution_count": 9,
   "id": "8db73352",
   "metadata": {
    "deletable": false,
    "id": "ef5056eb",
    "outputId": "6975b15c-7f95-4697-d16d-a0c79b657b03"
   },
   "outputs": [
    {
     "data": {
      "text/plain": [
       "array([ 1,  0,  3,  2, -1,  4, 20,  5])"
      ]
     },
     "execution_count": 9,
     "metadata": {},
     "output_type": "execute_result"
    }
   ],
   "source": [
    "data['children'].unique()"
   ]
  },
  {
   "cell_type": "markdown",
   "id": "9facd58d",
   "metadata": {
    "deletable": false,
    "editable": false,
    "id": "40b9ebf2"
   },
   "source": [
    "**Задание 9. В столбце `children` есть два аномальных значения. Удалите строки, в которых встречаются такие аномальные значения из датафрейма `data`.**"
   ]
  },
  {
   "cell_type": "code",
   "execution_count": 10,
   "id": "e89a0eb2",
   "metadata": {
    "deletable": false,
    "id": "3ff9801d"
   },
   "outputs": [],
   "source": [
    "data = data[(data['children'] != -1) & (data['children'] != 20)]"
   ]
  },
  {
   "cell_type": "markdown",
   "id": "2e6880d9",
   "metadata": {
    "deletable": false,
    "editable": false,
    "id": "bbc4d0ce"
   },
   "source": [
    "**Задание 10. Ещё раз выведите перечень уникальных значений столбца `children`, чтобы убедиться, что артефакты удалены.**"
   ]
  },
  {
   "cell_type": "code",
   "execution_count": 11,
   "id": "35f6ee68",
   "metadata": {
    "deletable": false,
    "id": "ad4fa8b7",
    "outputId": "b2097101-d49d-44d9-901b-32a65c9463d1"
   },
   "outputs": [
    {
     "data": {
      "text/plain": [
       "array([1, 0, 3, 2, 4, 5])"
      ]
     },
     "execution_count": 11,
     "metadata": {},
     "output_type": "execute_result"
    }
   ],
   "source": [
    "data['children'].unique()"
   ]
  },
  {
   "cell_type": "markdown",
   "id": "347554cb",
   "metadata": {
    "deletable": false,
    "editable": false,
    "id": "75440b63"
   },
   "source": [
    "### Удаление пропусков (продолжение)"
   ]
  },
  {
   "cell_type": "markdown",
   "id": "3badc403",
   "metadata": {
    "deletable": false,
    "editable": false,
    "id": "f4ea573f"
   },
   "source": [
    "**Задание 11. Заполните пропуски в столбце `days_employed` медианными значениями по каждого типа занятости `income_type`.**"
   ]
  },
  {
   "cell_type": "code",
   "execution_count": 12,
   "id": "272a6951",
   "metadata": {
    "deletable": false,
    "id": "af6b1a7e"
   },
   "outputs": [],
   "source": [
    "for t in data['income_type'].unique():\n",
    "    data.loc[(data['income_type'] == t) & (data['days_employed'].isna()), 'days_employed'] = \\\n",
    "    data.loc[(data['income_type'] == t), 'days_employed'].median()"
   ]
  },
  {
   "cell_type": "markdown",
   "id": "9e926698",
   "metadata": {
    "deletable": false,
    "editable": false,
    "id": "2753f40d"
   },
   "source": [
    "**Задание 12. Убедитесь, что все пропуски заполнены. Проверьте себя и ещё раз выведите количество пропущенных значений для каждого столбца с помощью двух методов.**"
   ]
  },
  {
   "cell_type": "code",
   "execution_count": 13,
   "id": "ab6ad1f7",
   "metadata": {
    "deletable": false,
    "id": "55f78bc2",
    "outputId": "8da1e4e1-358e-4e87-98c9-f261bce0a7b2"
   },
   "outputs": [
    {
     "data": {
      "text/plain": [
       "children            0\n",
       "days_employed       0\n",
       "dob_years           0\n",
       "education           0\n",
       "education_id        0\n",
       "family_status       0\n",
       "family_status_id    0\n",
       "gender              0\n",
       "income_type         0\n",
       "debt                0\n",
       "total_income        0\n",
       "purpose             0\n",
       "dtype: int64"
      ]
     },
     "execution_count": 13,
     "metadata": {},
     "output_type": "execute_result"
    }
   ],
   "source": [
    "data.isna().sum()"
   ]
  },
  {
   "cell_type": "markdown",
   "id": "86645f60",
   "metadata": {
    "deletable": false,
    "editable": false,
    "id": "ddc81e43"
   },
   "source": [
    "### Изменение типов данных"
   ]
  },
  {
   "cell_type": "markdown",
   "id": "0f6345d2",
   "metadata": {
    "deletable": false,
    "editable": false,
    "id": "42d19d24"
   },
   "source": [
    "**Задание 13. Замените вещественный тип данных в столбце `total_income` на целочисленный с помощью метода `astype()`.**"
   ]
  },
  {
   "cell_type": "code",
   "execution_count": 14,
   "id": "c88b70bd",
   "metadata": {
    "deletable": false,
    "id": "920b65ad"
   },
   "outputs": [],
   "source": [
    "data['total_income'] = data['total_income'].astype(int)"
   ]
  },
  {
   "cell_type": "markdown",
   "id": "b2000ca3",
   "metadata": {
    "deletable": false,
    "editable": false,
    "id": "80c420ba"
   },
   "source": [
    "### Обработка дубликатов"
   ]
  },
  {
   "cell_type": "markdown",
   "id": "f7172a26",
   "metadata": {
    "deletable": false,
    "editable": false
   },
   "source": [
    "**Задание 14. Обработайте неявные дубликаты в столбце `education`. В этом столбце есть одни и те же значения, но записанные по-разному: с использованием заглавных и строчных букв. Приведите их к нижнему регистру. Проверьте остальные столбцы.**"
   ]
  },
  {
   "cell_type": "code",
   "execution_count": 15,
   "id": "24a21782",
   "metadata": {
    "deletable": false
   },
   "outputs": [],
   "source": [
    "data['education'] = data['education'].str.lower()"
   ]
  },
  {
   "cell_type": "markdown",
   "id": "46bc841d",
   "metadata": {
    "deletable": false,
    "editable": false,
    "id": "dc587695"
   },
   "source": [
    "**Задание 15. Выведите на экран количество строк-дубликатов в данных. Если такие строки присутствуют, удалите их.**"
   ]
  },
  {
   "cell_type": "code",
   "execution_count": 16,
   "id": "cf7d08db",
   "metadata": {
    "deletable": false,
    "id": "3ee445e4",
    "outputId": "9684deba-1934-42d1-99e1-cda61740f822"
   },
   "outputs": [
    {
     "data": {
      "text/plain": [
       "71"
      ]
     },
     "execution_count": 16,
     "metadata": {},
     "output_type": "execute_result"
    }
   ],
   "source": [
    "data.duplicated().sum()"
   ]
  },
  {
   "cell_type": "code",
   "execution_count": 17,
   "id": "7756393c",
   "metadata": {
    "deletable": false,
    "id": "8575fe05"
   },
   "outputs": [],
   "source": [
    "data = data.drop_duplicates()"
   ]
  },
  {
   "cell_type": "markdown",
   "id": "ba054262",
   "metadata": {
    "deletable": false,
    "editable": false,
    "id": "9904cf55"
   },
   "source": [
    "### Категоризация данных"
   ]
  },
  {
   "cell_type": "markdown",
   "id": "decc785a",
   "metadata": {
    "deletable": false,
    "editable": false,
    "id": "72fcc8a2"
   },
   "source": [
    "**Задание 16. На основании диапазонов, указанных ниже, создайте в датафрейме `data` столбец `total_income_category` с категориями:**\n",
    "\n",
    "- 0–30000 — `'E'`;\n",
    "- 30001–50000 — `'D'`;\n",
    "- 50001–200000 — `'C'`;\n",
    "- 200001–1000000 — `'B'`;\n",
    "- 1000001 и выше — `'A'`.\n",
    "\n",
    "\n",
    "**Например, кредитополучателю с доходом 25000 нужно назначить категорию `'E'`, а клиенту, получающему 235000, — `'B'`. Используйте собственную функцию с именем `categorize_income()` и метод `apply()`.**"
   ]
  },
  {
   "cell_type": "code",
   "execution_count": 18,
   "id": "f92783c9",
   "metadata": {
    "deletable": false,
    "id": "e1771346"
   },
   "outputs": [],
   "source": [
    "def categorize_income(income):\n",
    "    try:\n",
    "        if 0 <= income <= 30000:\n",
    "            return 'E'\n",
    "        elif 30001 <= income <= 50000:\n",
    "            return 'D'\n",
    "        elif 50001 <= income <= 200000:\n",
    "            return 'C'\n",
    "        elif 200001 <= income <= 1000000:\n",
    "            return 'B'\n",
    "        elif income >= 1000001:\n",
    "            return 'A'\n",
    "    except:\n",
    "        pass"
   ]
  },
  {
   "cell_type": "code",
   "execution_count": 19,
   "id": "c067b648",
   "metadata": {
    "deletable": false,
    "id": "d5f3586d"
   },
   "outputs": [],
   "source": [
    "data['total_income_category'] = data['total_income'].apply(categorize_income)"
   ]
  },
  {
   "cell_type": "markdown",
   "id": "42305a59",
   "metadata": {
    "deletable": false,
    "editable": false,
    "id": "dde49b5c"
   },
   "source": [
    "**Задание 17. Выведите на экран перечень уникальных целей взятия кредита из столбца `purpose`.**"
   ]
  },
  {
   "cell_type": "code",
   "execution_count": 20,
   "id": "0e0bd920",
   "metadata": {
    "deletable": false,
    "id": "f67ce9b3",
    "outputId": "673c12d9-7d7e-4ae0-9812-c622c89dd244"
   },
   "outputs": [
    {
     "data": {
      "text/plain": [
       "array(['покупка жилья', 'приобретение автомобиля',\n",
       "       'дополнительное образование', 'сыграть свадьбу',\n",
       "       'операции с жильем', 'образование', 'на проведение свадьбы',\n",
       "       'покупка жилья для семьи', 'покупка недвижимости',\n",
       "       'покупка коммерческой недвижимости', 'покупка жилой недвижимости',\n",
       "       'строительство собственной недвижимости', 'недвижимость',\n",
       "       'строительство недвижимости', 'на покупку подержанного автомобиля',\n",
       "       'на покупку своего автомобиля',\n",
       "       'операции с коммерческой недвижимостью',\n",
       "       'строительство жилой недвижимости', 'жилье',\n",
       "       'операции со своей недвижимостью', 'автомобили',\n",
       "       'заняться образованием', 'сделка с подержанным автомобилем',\n",
       "       'получение образования', 'автомобиль', 'свадьба',\n",
       "       'получение дополнительного образования', 'покупка своего жилья',\n",
       "       'операции с недвижимостью', 'получение высшего образования',\n",
       "       'свой автомобиль', 'сделка с автомобилем',\n",
       "       'профильное образование', 'высшее образование',\n",
       "       'покупка жилья для сдачи', 'на покупку автомобиля', 'ремонт жилью',\n",
       "       'заняться высшим образованием'], dtype=object)"
      ]
     },
     "execution_count": 20,
     "metadata": {},
     "output_type": "execute_result"
    }
   ],
   "source": [
    "data['purpose'].unique()"
   ]
  },
  {
   "cell_type": "markdown",
   "id": "a2f5250e",
   "metadata": {
    "deletable": false,
    "editable": false,
    "id": "85d0aef0"
   },
   "source": [
    "**Задание 18. Создайте функцию, которая на основании данных из столбца `purpose` сформирует новый столбец `purpose_category`, в который войдут следующие категории:**\n",
    "\n",
    "- `'операции с автомобилем'`,\n",
    "- `'операции с недвижимостью'`,\n",
    "- `'проведение свадьбы'`,\n",
    "- `'получение образования'`.\n",
    "\n",
    "**Например, если в столбце `purpose` находится подстрока `'на покупку автомобиля'`, то в столбце `purpose_category` должна появиться строка `'операции с автомобилем'`.**\n",
    "\n",
    "**Используйте собственную функцию с именем `categorize_purpose()` и метод `apply()`. Изучите данные в столбце `purpose` и определите, какие подстроки помогут вам правильно определить категорию.**"
   ]
  },
  {
   "cell_type": "code",
   "execution_count": 21,
   "id": "0aad332a",
   "metadata": {
    "deletable": false,
    "id": "e149fab4"
   },
   "outputs": [],
   "source": [
    "def categorize_purpose(row):\n",
    "    try:\n",
    "        if 'автом' in row:\n",
    "            return 'операции с автомобилем'\n",
    "        elif 'жил' in row or 'недвиж' in row:\n",
    "            return 'операции с недвижимостью'\n",
    "        elif 'свад' in row:\n",
    "            return 'проведение свадьбы'\n",
    "        elif 'образов' in row:\n",
    "            return 'получение образования'\n",
    "    except:\n",
    "        return 'нет категории'"
   ]
  },
  {
   "cell_type": "code",
   "execution_count": 22,
   "id": "025d4eb9",
   "metadata": {
    "deletable": false,
    "id": "bf36e69b"
   },
   "outputs": [],
   "source": [
    "data['purpose_category'] = data['purpose'].apply(categorize_purpose)"
   ]
  },
  {
   "cell_type": "markdown",
   "id": "ea4dd5af",
   "metadata": {
    "deletable": false,
    "editable": false,
    "id": "09b242bf"
   },
   "source": [
    "### Шаг 3. Исследуйте данные и ответьте на вопросы"
   ]
  },
  {
   "cell_type": "markdown",
   "id": "8fda20fb",
   "metadata": {
    "deletable": false,
    "editable": false,
    "id": "c5d66278"
   },
   "source": [
    "#### 3.1 Есть ли зависимость между количеством детей и возвратом кредита в срок?"
   ]
  },
  {
   "cell_type": "code",
   "execution_count": null,
   "id": "2c602fca",
   "metadata": {
    "deletable": false,
    "id": "2cacfc4a",
    "scrolled": false
   },
   "outputs": [],
   "source": []
  },
  {
   "cell_type": "code",
   "execution_count": 31,
   "id": "1238bfdb",
   "metadata": {
    "scrolled": true
   },
   "outputs": [
    {
     "data": {
      "text/html": [
       "<div>\n",
       "<style scoped>\n",
       "    .dataframe tbody tr th:only-of-type {\n",
       "        vertical-align: middle;\n",
       "    }\n",
       "\n",
       "    .dataframe tbody tr th {\n",
       "        vertical-align: top;\n",
       "    }\n",
       "\n",
       "    .dataframe thead th {\n",
       "        text-align: right;\n",
       "    }\n",
       "</style>\n",
       "<table border=\"1\" class=\"dataframe\">\n",
       "  <thead>\n",
       "    <tr style=\"text-align: right;\">\n",
       "      <th></th>\n",
       "      <th>Общее количество</th>\n",
       "      <th>Среднее значение</th>\n",
       "      <th>Количество должников</th>\n",
       "    </tr>\n",
       "    <tr>\n",
       "      <th>children</th>\n",
       "      <th></th>\n",
       "      <th></th>\n",
       "      <th></th>\n",
       "    </tr>\n",
       "  </thead>\n",
       "  <tbody>\n",
       "    <tr>\n",
       "      <th>0</th>\n",
       "      <td>14091.0</td>\n",
       "      <td>7.54%</td>\n",
       "      <td>1063.0</td>\n",
       "    </tr>\n",
       "    <tr>\n",
       "      <th>1</th>\n",
       "      <td>4808.0</td>\n",
       "      <td>9.23%</td>\n",
       "      <td>444.0</td>\n",
       "    </tr>\n",
       "    <tr>\n",
       "      <th>2</th>\n",
       "      <td>2052.0</td>\n",
       "      <td>9.45%</td>\n",
       "      <td>194.0</td>\n",
       "    </tr>\n",
       "    <tr>\n",
       "      <th>3</th>\n",
       "      <td>330.0</td>\n",
       "      <td>8.18%</td>\n",
       "      <td>27.0</td>\n",
       "    </tr>\n",
       "    <tr>\n",
       "      <th>4</th>\n",
       "      <td>41.0</td>\n",
       "      <td>9.76%</td>\n",
       "      <td>4.0</td>\n",
       "    </tr>\n",
       "    <tr>\n",
       "      <th>5</th>\n",
       "      <td>9.0</td>\n",
       "      <td>0.00%</td>\n",
       "      <td>0.0</td>\n",
       "    </tr>\n",
       "  </tbody>\n",
       "</table>\n",
       "</div>"
      ],
      "text/plain": [
       "          Общее количество Среднее значение  Количество должников\n",
       "children                                                         \n",
       "0                  14091.0            7.54%                1063.0\n",
       "1                   4808.0            9.23%                 444.0\n",
       "2                   2052.0            9.45%                 194.0\n",
       "3                    330.0            8.18%                  27.0\n",
       "4                     41.0            9.76%                   4.0\n",
       "5                      9.0            0.00%                   0.0"
      ]
     },
     "execution_count": 31,
     "metadata": {},
     "output_type": "execute_result"
    }
   ],
   "source": [
    "data_children = data.pivot_table(index=['children'], values='debt', aggfunc={'count', 'sum', 'mean'})#пишем сводную таблицу\n",
    "\n",
    "def d_ch_percent(x):\n",
    "    return '{0:.2%}'.format(x) #опреции с процентами\n",
    "\n",
    "data_children['mean'] = data_children['mean'].apply(d_ch_percent)#применить к mean метод для перевода в проценты\n",
    "\n",
    "data_children = data_children.rename(columns={\n",
    "    'count':'Общее количество',\n",
    "    'mean':'Среднее значение',\n",
    "    'sum':'Количество должников'})#меняем названия столбцов \n",
    "\n",
    "\n",
    "\n",
    "data_children"
   ]
  },
  {
   "cell_type": "markdown",
   "id": "ca1c2613",
   "metadata": {
    "deletable": false,
    "id": "3a6b99ec"
   },
   "source": [
    "**Вывод:** Да, есть. \n",
    "- Количество задолжников больше в категории тех, у кого нет детей, это 7.54% от общего количества в 14091 где количество задолжников составляет 1063 клиента.\n",
    "- Те, у кого детей 1, 2 или 4 практически одинаковое процентное соотношение 9.23%, 9.76% и 9.45%. Клиенты из этих категорий лучше выплачивают кредит.** "
   ]
  },
  {
   "cell_type": "markdown",
   "id": "502d066f",
   "metadata": {
    "deletable": false,
    "editable": false,
    "id": "97be82ca"
   },
   "source": [
    "#### 3.2 Есть ли зависимость между семейным положением и возвратом кредита в срок?"
   ]
  },
  {
   "cell_type": "code",
   "execution_count": 25,
   "id": "8fa0b585",
   "metadata": {
    "deletable": false,
    "id": "dc3f7ee8"
   },
   "outputs": [
    {
     "data": {
      "text/html": [
       "<div>\n",
       "<style scoped>\n",
       "    .dataframe tbody tr th:only-of-type {\n",
       "        vertical-align: middle;\n",
       "    }\n",
       "\n",
       "    .dataframe tbody tr th {\n",
       "        vertical-align: top;\n",
       "    }\n",
       "\n",
       "    .dataframe thead th {\n",
       "        text-align: right;\n",
       "    }\n",
       "</style>\n",
       "<table border=\"1\" class=\"dataframe\">\n",
       "  <thead>\n",
       "    <tr style=\"text-align: right;\">\n",
       "      <th></th>\n",
       "      <th>Общее количество</th>\n",
       "      <th>Среднее значение</th>\n",
       "      <th>Количество должников</th>\n",
       "    </tr>\n",
       "    <tr>\n",
       "      <th>family_status</th>\n",
       "      <th></th>\n",
       "      <th></th>\n",
       "      <th></th>\n",
       "    </tr>\n",
       "  </thead>\n",
       "  <tbody>\n",
       "    <tr>\n",
       "      <th>Не женат / не замужем</th>\n",
       "      <td>2796.0</td>\n",
       "      <td>9.76%</td>\n",
       "      <td>273.0</td>\n",
       "    </tr>\n",
       "    <tr>\n",
       "      <th>в разводе</th>\n",
       "      <td>1189.0</td>\n",
       "      <td>7.06%</td>\n",
       "      <td>84.0</td>\n",
       "    </tr>\n",
       "    <tr>\n",
       "      <th>вдовец / вдова</th>\n",
       "      <td>951.0</td>\n",
       "      <td>6.62%</td>\n",
       "      <td>63.0</td>\n",
       "    </tr>\n",
       "    <tr>\n",
       "      <th>гражданский брак</th>\n",
       "      <td>4134.0</td>\n",
       "      <td>9.31%</td>\n",
       "      <td>385.0</td>\n",
       "    </tr>\n",
       "    <tr>\n",
       "      <th>женат / замужем</th>\n",
       "      <td>12261.0</td>\n",
       "      <td>7.56%</td>\n",
       "      <td>927.0</td>\n",
       "    </tr>\n",
       "  </tbody>\n",
       "</table>\n",
       "</div>"
      ],
      "text/plain": [
       "                       Общее количество Среднее значение  Количество должников\n",
       "family_status                                                                 \n",
       "Не женат / не замужем            2796.0            9.76%                 273.0\n",
       "в разводе                        1189.0            7.06%                  84.0\n",
       "вдовец / вдова                    951.0            6.62%                  63.0\n",
       "гражданский брак                 4134.0            9.31%                 385.0\n",
       "женат / замужем                 12261.0            7.56%                 927.0"
      ]
     },
     "execution_count": 25,
     "metadata": {},
     "output_type": "execute_result"
    }
   ],
   "source": [
    "#пишем сводную таблицу\n",
    "data_family = data.pivot_table(index=['family_status'], \n",
    "                               values='debt', aggfunc={'count', 'sum', 'mean'})\n",
    "\n",
    "def percent(x):\n",
    "    #опреции с процентами\n",
    "    return '{0:.2%}'.format(x) \n",
    "\n",
    "#применить к mean метод для перевода в проценты\n",
    "data_family['mean'] = data_family['mean'].apply(percent)\n",
    "\n",
    "#меняем названия столбцов\n",
    "data_family = data_family.rename(columns={\n",
    "    'count':'Общее количество',\n",
    "    'mean':'Среднее значение',\n",
    "    'sum':'Количество должников'})\n",
    "\n",
    "data_family"
   ]
  },
  {
   "cell_type": "markdown",
   "id": "b9309317",
   "metadata": {
    "deletable": false,
    "id": "1cef7837"
   },
   "source": [
    "**Вывод:**\n",
    "- Лучшее всего кредит выплачивают клиенты из категорий: 'Не женат / не замужем', 'гражданский брак'. Для категории 'Не женат / не замужем': на общее количество 2 796 человек приходится 273 должникаё, что составляет 9.76%. Для категории 'гражданский брак': на 4 134 человек, приходится 385 должников, что составляет 9.31%.\n",
    "- Хуже - клиенты из категории \"вдовец / вдова\". На 951 человек приходится 63 должника** "
   ]
  },
  {
   "cell_type": "markdown",
   "id": "f87ed8e3",
   "metadata": {
    "deletable": false,
    "editable": false,
    "id": "1e8b2fca"
   },
   "source": [
    "#### 3.3 Есть ли зависимость между уровнем дохода и возвратом кредита в срок?"
   ]
  },
  {
   "cell_type": "code",
   "execution_count": 104,
   "id": "613e8806",
   "metadata": {
    "deletable": false,
    "id": "cd7e3720",
    "scrolled": true
   },
   "outputs": [
    {
     "data": {
      "text/html": [
       "<div>\n",
       "<style scoped>\n",
       "    .dataframe tbody tr th:only-of-type {\n",
       "        vertical-align: middle;\n",
       "    }\n",
       "\n",
       "    .dataframe tbody tr th {\n",
       "        vertical-align: top;\n",
       "    }\n",
       "\n",
       "    .dataframe thead th {\n",
       "        text-align: right;\n",
       "    }\n",
       "</style>\n",
       "<table border=\"1\" class=\"dataframe\">\n",
       "  <thead>\n",
       "    <tr style=\"text-align: right;\">\n",
       "      <th></th>\n",
       "      <th>Общее количество</th>\n",
       "      <th>Среднее значение</th>\n",
       "      <th>Количество должников</th>\n",
       "    </tr>\n",
       "    <tr>\n",
       "      <th>total_income_category</th>\n",
       "      <th></th>\n",
       "      <th></th>\n",
       "      <th></th>\n",
       "    </tr>\n",
       "  </thead>\n",
       "  <tbody>\n",
       "    <tr>\n",
       "      <th>A</th>\n",
       "      <td>25.0</td>\n",
       "      <td>8.00%</td>\n",
       "      <td>2.0</td>\n",
       "    </tr>\n",
       "    <tr>\n",
       "      <th>B</th>\n",
       "      <td>5014.0</td>\n",
       "      <td>7.06%</td>\n",
       "      <td>354.0</td>\n",
       "    </tr>\n",
       "    <tr>\n",
       "      <th>C</th>\n",
       "      <td>15921.0</td>\n",
       "      <td>8.50%</td>\n",
       "      <td>1353.0</td>\n",
       "    </tr>\n",
       "    <tr>\n",
       "      <th>D</th>\n",
       "      <td>349.0</td>\n",
       "      <td>6.02%</td>\n",
       "      <td>21.0</td>\n",
       "    </tr>\n",
       "    <tr>\n",
       "      <th>E</th>\n",
       "      <td>22.0</td>\n",
       "      <td>9.09%</td>\n",
       "      <td>2.0</td>\n",
       "    </tr>\n",
       "  </tbody>\n",
       "</table>\n",
       "</div>"
      ],
      "text/plain": [
       "                       Общее количество Среднее значение  Количество должников\n",
       "total_income_category                                                         \n",
       "A                                  25.0            8.00%                   2.0\n",
       "B                                5014.0            7.06%                 354.0\n",
       "C                               15921.0            8.50%                1353.0\n",
       "D                                 349.0            6.02%                  21.0\n",
       "E                                  22.0            9.09%                   2.0"
      ]
     },
     "execution_count": 104,
     "metadata": {},
     "output_type": "execute_result"
    }
   ],
   "source": [
    "#пишем сводную таблицу\n",
    "data_income = data.pivot_table(index=['total_income_category'], \n",
    "                               values='debt', aggfunc={'count', 'sum', 'mean'})\n",
    "\n",
    "def percent(x):\n",
    "    return '{0:.2%}'.format(x)\n",
    "\n",
    "#применить к mean метод для перевода в проценты\n",
    "data_income['mean'] = data_income['mean'].apply(percent)\n",
    "\n",
    "#меняем названия столбцов\n",
    "data_income = data_income.rename(columns={\n",
    "    'count':'Общее количество',\n",
    "    'mean':'Среднее значение',\n",
    "    'sum':'Количество должников'})\n",
    "\n",
    "data_income"
   ]
  },
  {
   "cell_type": "markdown",
   "id": "1dd0a64f",
   "metadata": {},
   "source": [
    "0–30000 — 'E';\n",
    "30001–50000 — 'D';\n",
    "50001–200000 — 'C';\n",
    "200001–1000000 — 'B';\n",
    "1000001 и выше — 'A'."
   ]
  },
  {
   "cell_type": "markdown",
   "id": "16d9ccba",
   "metadata": {
    "deletable": false,
    "id": "e8593def"
   },
   "source": [
    "**Вывод:** Да, есть. \n",
    "- Хуже всего кредит выплачивают должники из категории 'С', это люди чей доход находится в диапазоне 50001–200000. На 15 921 клиента процент должников будет составлять 8.50% это 1 353 человек. \n",
    "- Далее группа 'В', там на общее количество в 5 014 человек приходится 354 клиентов должников, что составляет 7.06%. \n",
    "- Для котегорий 'A', 'E', на количество 25 и 22 прикходтся должников: 2.** "
   ]
  },
  {
   "cell_type": "markdown",
   "id": "722afe65",
   "metadata": {
    "deletable": false,
    "editable": false,
    "id": "99ecbd1f"
   },
   "source": [
    "#### 3.4 Как разные цели кредита влияют на его возврат в срок?"
   ]
  },
  {
   "cell_type": "code",
   "execution_count": 118,
   "id": "10f5f716",
   "metadata": {
    "deletable": false,
    "id": "2b687290"
   },
   "outputs": [
    {
     "data": {
      "text/html": [
       "<div>\n",
       "<style scoped>\n",
       "    .dataframe tbody tr th:only-of-type {\n",
       "        vertical-align: middle;\n",
       "    }\n",
       "\n",
       "    .dataframe tbody tr th {\n",
       "        vertical-align: top;\n",
       "    }\n",
       "\n",
       "    .dataframe thead th {\n",
       "        text-align: right;\n",
       "    }\n",
       "</style>\n",
       "<table border=\"1\" class=\"dataframe\">\n",
       "  <thead>\n",
       "    <tr style=\"text-align: right;\">\n",
       "      <th></th>\n",
       "      <th>Общее количество</th>\n",
       "      <th>Среднее значение</th>\n",
       "      <th>Количество должников</th>\n",
       "    </tr>\n",
       "    <tr>\n",
       "      <th>purpose_category</th>\n",
       "      <th></th>\n",
       "      <th></th>\n",
       "      <th></th>\n",
       "    </tr>\n",
       "  </thead>\n",
       "  <tbody>\n",
       "    <tr>\n",
       "      <th>операции с автомобилем</th>\n",
       "      <td>4279.0</td>\n",
       "      <td>9.35%</td>\n",
       "      <td>400.0</td>\n",
       "    </tr>\n",
       "    <tr>\n",
       "      <th>операции с недвижимостью</th>\n",
       "      <td>10751.0</td>\n",
       "      <td>7.26%</td>\n",
       "      <td>780.0</td>\n",
       "    </tr>\n",
       "    <tr>\n",
       "      <th>получение образования</th>\n",
       "      <td>3988.0</td>\n",
       "      <td>9.25%</td>\n",
       "      <td>369.0</td>\n",
       "    </tr>\n",
       "    <tr>\n",
       "      <th>проведение свадьбы</th>\n",
       "      <td>2313.0</td>\n",
       "      <td>7.91%</td>\n",
       "      <td>183.0</td>\n",
       "    </tr>\n",
       "  </tbody>\n",
       "</table>\n",
       "</div>"
      ],
      "text/plain": [
       "                          Общее количество Среднее значение  \\\n",
       "purpose_category                                              \n",
       "операции с автомобилем              4279.0            9.35%   \n",
       "операции с недвижимостью           10751.0            7.26%   \n",
       "получение образования               3988.0            9.25%   \n",
       "проведение свадьбы                  2313.0            7.91%   \n",
       "\n",
       "                          Количество должников  \n",
       "purpose_category                                \n",
       "операции с автомобилем                   400.0  \n",
       "операции с недвижимостью                 780.0  \n",
       "получение образования                    369.0  \n",
       "проведение свадьбы                       183.0  "
      ]
     },
     "execution_count": 118,
     "metadata": {},
     "output_type": "execute_result"
    }
   ],
   "source": [
    "#пишем сводную таблицу\n",
    "data_purpose = data.pivot_table(index=['purpose_category'], \n",
    "                                values='debt', aggfunc={'count', 'sum', 'mean'})\n",
    "\n",
    "#опреции с процентами\n",
    "def percent(x):\n",
    "    return '{0:.2%}'.format(x) \n",
    "\n",
    "#применить к mean метод для перевода в проценты\n",
    "data_purpose['mean'] = data_purpose['mean'].apply(percent)\n",
    "\n",
    "#меняем названия столбцов\n",
    "data_purpose = data_purpose.rename(columns={\n",
    "    'count':'Общее количество',\n",
    "    'mean':'Среднее значение',\n",
    "    'sum':'Количество должников'})\n",
    "\n",
    "\n",
    "data_purpose"
   ]
  },
  {
   "cell_type": "markdown",
   "id": "92cc324e",
   "metadata": {
    "deletable": false,
    "id": "b4bb2ce6"
   },
   "source": [
    "**Вывод:**\n",
    "- Хуже всего выплачивают кредит те, кто проводит операции с недвижимостью на 10751 человек приходится 780 должников, что составляет 7.26%. \n",
    "- Лучше - клиенты которые получают кредит для образования и покупки автомобили, к соотношению 1:1, 9% с небольшой разницей, на общее количество 4 279 и 3 988.** "
   ]
  },
  {
   "cell_type": "markdown",
   "id": "e2aec01d",
   "metadata": {
    "deletable": false,
    "editable": false,
    "id": "09c3ac4c"
   },
   "source": [
    "#### 3.5 Приведите возможные причины появления пропусков в исходных данных."
   ]
  },
  {
   "cell_type": "markdown",
   "id": "7272c065",
   "metadata": {
    "deletable": false,
    "id": "9da2ceda"
   },
   "source": [
    "**Ответ:** неправильный ввод, сокрытие информации, ошибки* "
   ]
  },
  {
   "cell_type": "markdown",
   "id": "58441459",
   "metadata": {
    "deletable": false,
    "editable": false,
    "id": "7b0487d6"
   },
   "source": [
    "#### 3.6 Объясните, почему заполнить пропуски медианным значением — лучшее решение для количественных переменных."
   ]
  },
  {
   "cell_type": "markdown",
   "id": "6821426b",
   "metadata": {
    "deletable": false,
    "id": "7ecf2b8e"
   },
   "source": [
    "**Ответ:** Диапазон данных может сильно отличаться друг от друга, одни могут быть сильно бльше, другие меньше. Следовательно применение медианы наоболее разумно для чистоты значиний"
   ]
  },
  {
   "cell_type": "markdown",
   "id": "f19c45a7",
   "metadata": {
    "deletable": false,
    "editable": false,
    "id": "6db5255a"
   },
   "source": [
    "### Шаг 4: общий вывод."
   ]
  },
  {
   "cell_type": "markdown",
   "id": "cbac80dd",
   "metadata": {
    "deletable": false,
    "id": "bad65432"
   },
   "source": []
  },
  {
   "cell_type": "markdown",
   "id": "62e28937",
   "metadata": {},
   "source": [
    "**Есть ли зависимость между количеством детей и возвратом кредита в срок?**\n",
    "\n",
    "- Количество задолжников больше в категории тех, у кого нет детей, это 7.54% от общего количества в 14091 где количество задолжников составляет 1063 клиента.\n",
    "- Те, у кого детей 1, 2 или 4 практически одинаковое процентное соотношение 9.23%, 9.76% и 9.45%. Клиенты из этих категорий лучше выплачивают кредит."
   ]
  },
  {
   "cell_type": "markdown",
   "id": "ddbefa2b",
   "metadata": {},
   "source": [
    "**Есть ли зависимость между семейным положением и возвратом кредита в срок?**\n",
    "\n",
    "- Лучшее всего кредит выплачивают клиенты из категорий: 'Не женат / не замужем', 'гражданский брак'. \n",
    "Для категории 'Не женат / не замужем': на общее количество 2 796 человек приходится 273 должникаё, что составляет 9.76%. Для категории 'гражданский брак': на 4 134 человек, приходится 385 должников, что составляет 9.31%.\n",
    "- Хуже - клиенты из категории \"вдовец / вдова\". На 951 человек приходится 63 должника"
   ]
  },
  {
   "cell_type": "markdown",
   "id": "c3d786df",
   "metadata": {},
   "source": [
    "**Есть ли зависимость между уровнем дохода и возвратом кредита в срок?**\n",
    "\n",
    "- Хуже всего кредит выплачивают должники из категории 'С', это люди чей доход находится в диапазоне 50001–200000. На 15 921 клиента процент должников будет составлять 8.50% это 1 353 человек.\n",
    "- Далее группа 'В', там на общее количество в 5 014 человек приходится 354 клиентов должников, что составляет 7.06%.\n",
    "- Для котегорий 'A', 'E', на количество 25 и 22 прикходтся должников: 2."
   ]
  },
  {
   "cell_type": "markdown",
   "id": "3afd64d1",
   "metadata": {},
   "source": [
    "**Как разные цели кредита влияют на его возврат в срок?**\n",
    "- Хуже всего выплачивают кредит те, кто проводит операции с недвижимостью на 10751 человек приходится 780 должников, что составляет 7.26%.\n",
    "- Лучше - клиенты которые получают кредит для образования и покупки автомобили, к соотношению 1:1,  9% с небольшой разницей, на общее количество 4 279 и 3 988.*"
   ]
  },
  {
   "cell_type": "markdown",
   "id": "44924926",
   "metadata": {},
   "source": [
    "**Рекомендации:**\n",
    "\n",
    "Для скоринга так же можно использовать такие данные о человеке, как модель телефона. Получить эти данные можно, если у человека установлено приложение банка. \n",
    "\n",
    "Использовать для анализа данные о покупках, оплачиваемые картой. Так можно будет отследить не только соотношение доходов и расходов, но и на какие категории он тратит.\n",
    "\n",
    "\n",
    "    "
   ]
  }
 ],
 "metadata": {
  "ExecuteTimeLog": [
   {
    "duration": 416,
    "start_time": "2023-02-03T20:56:27.438Z"
   },
   {
    "duration": 23,
    "start_time": "2023-02-03T20:56:30.838Z"
   },
   {
    "duration": 16,
    "start_time": "2023-02-03T20:56:39.061Z"
   },
   {
    "duration": 12,
    "start_time": "2023-02-03T20:56:46.535Z"
   },
   {
    "duration": 34,
    "start_time": "2023-02-03T20:56:56.897Z"
   },
   {
    "duration": 3,
    "start_time": "2023-02-03T20:56:58.384Z"
   },
   {
    "duration": 8,
    "start_time": "2023-02-03T20:56:59.283Z"
   },
   {
    "duration": 16,
    "start_time": "2023-02-03T20:58:02.310Z"
   },
   {
    "duration": 3,
    "start_time": "2023-02-03T20:58:12.111Z"
   },
   {
    "duration": 14,
    "start_time": "2023-02-03T20:58:12.711Z"
   },
   {
    "duration": 71,
    "start_time": "2023-02-04T13:11:28.690Z"
   },
   {
    "duration": 560,
    "start_time": "2023-02-04T13:11:33.442Z"
   },
   {
    "duration": 24,
    "start_time": "2023-02-04T13:11:34.111Z"
   },
   {
    "duration": 19,
    "start_time": "2023-02-04T13:11:34.827Z"
   },
   {
    "duration": 12,
    "start_time": "2023-02-04T13:11:37.945Z"
   },
   {
    "duration": 40,
    "start_time": "2023-02-04T13:11:39.127Z"
   },
   {
    "duration": 4,
    "start_time": "2023-02-04T13:11:40.826Z"
   },
   {
    "duration": 8,
    "start_time": "2023-02-04T13:11:41.979Z"
   },
   {
    "duration": 5,
    "start_time": "2023-02-04T13:11:43.943Z"
   },
   {
    "duration": 7,
    "start_time": "2023-02-04T13:11:44.674Z"
   },
   {
    "duration": 4,
    "start_time": "2023-02-04T13:11:45.358Z"
   },
   {
    "duration": 33,
    "start_time": "2023-02-04T13:11:46.250Z"
   },
   {
    "duration": 10,
    "start_time": "2023-02-04T13:11:46.780Z"
   },
   {
    "duration": 4,
    "start_time": "2023-02-04T13:11:47.781Z"
   },
   {
    "duration": 14,
    "start_time": "2023-02-04T13:11:48.919Z"
   },
   {
    "duration": 19,
    "start_time": "2023-02-04T13:11:49.567Z"
   },
   {
    "duration": 17,
    "start_time": "2023-02-04T13:11:49.910Z"
   },
   {
    "duration": 4,
    "start_time": "2023-02-04T13:11:50.917Z"
   },
   {
    "duration": 11,
    "start_time": "2023-02-04T13:11:51.234Z"
   },
   {
    "duration": 6,
    "start_time": "2023-02-04T13:11:51.956Z"
   },
   {
    "duration": 3,
    "start_time": "2023-02-04T13:11:52.843Z"
   },
   {
    "duration": 9,
    "start_time": "2023-02-04T13:11:53.239Z"
   },
   {
    "duration": 3,
    "start_time": "2023-02-04T13:11:54.264Z"
   },
   {
    "duration": 45,
    "start_time": "2023-02-04T13:13:27.969Z"
   },
   {
    "duration": 36,
    "start_time": "2023-02-04T13:14:31.708Z"
   },
   {
    "duration": 13,
    "start_time": "2023-02-04T13:14:49.440Z"
   },
   {
    "duration": 8,
    "start_time": "2023-02-04T13:16:06.273Z"
   },
   {
    "duration": 5,
    "start_time": "2023-02-04T13:16:12.170Z"
   },
   {
    "duration": 8,
    "start_time": "2023-02-04T13:16:12.614Z"
   },
   {
    "duration": 15,
    "start_time": "2023-02-04T13:43:40.408Z"
   },
   {
    "duration": 14,
    "start_time": "2023-02-04T13:43:48.089Z"
   },
   {
    "duration": 11,
    "start_time": "2023-02-04T13:45:01.611Z"
   },
   {
    "duration": 39,
    "start_time": "2023-02-04T13:45:11.118Z"
   },
   {
    "duration": 12,
    "start_time": "2023-02-04T13:45:16.248Z"
   },
   {
    "duration": 13,
    "start_time": "2023-02-04T13:45:25.867Z"
   },
   {
    "duration": 14,
    "start_time": "2023-02-04T13:46:40.371Z"
   },
   {
    "duration": 22,
    "start_time": "2023-02-04T13:48:55.863Z"
   },
   {
    "duration": 8,
    "start_time": "2023-02-04T13:56:06.362Z"
   },
   {
    "duration": 8,
    "start_time": "2023-02-04T13:56:11.319Z"
   },
   {
    "duration": 23,
    "start_time": "2023-02-04T13:56:19.922Z"
   },
   {
    "duration": 18,
    "start_time": "2023-02-04T13:56:39.189Z"
   },
   {
    "duration": 21,
    "start_time": "2023-02-04T13:56:50.881Z"
   },
   {
    "duration": 10,
    "start_time": "2023-02-04T14:07:49.505Z"
   },
   {
    "duration": 14,
    "start_time": "2023-02-04T14:07:54.808Z"
   },
   {
    "duration": 43,
    "start_time": "2023-02-04T14:08:12.165Z"
   },
   {
    "duration": 12,
    "start_time": "2023-02-04T14:08:48.107Z"
   },
   {
    "duration": 665,
    "start_time": "2023-02-04T14:11:49.188Z"
   },
   {
    "duration": 16,
    "start_time": "2023-02-04T14:12:29.745Z"
   },
   {
    "duration": 14,
    "start_time": "2023-02-04T14:12:39.550Z"
   },
   {
    "duration": 15,
    "start_time": "2023-02-04T14:14:28.551Z"
   },
   {
    "duration": 14,
    "start_time": "2023-02-04T14:14:33.147Z"
   },
   {
    "duration": 15,
    "start_time": "2023-02-04T14:14:43.174Z"
   },
   {
    "duration": 14,
    "start_time": "2023-02-04T14:14:50.151Z"
   },
   {
    "duration": 16,
    "start_time": "2023-02-04T14:15:03.142Z"
   },
   {
    "duration": 20,
    "start_time": "2023-02-04T14:15:10.229Z"
   },
   {
    "duration": 12,
    "start_time": "2023-02-04T14:15:58.027Z"
   },
   {
    "duration": 70,
    "start_time": "2023-02-04T15:04:15.147Z"
   },
   {
    "duration": 46,
    "start_time": "2023-02-04T15:04:49.783Z"
   },
   {
    "duration": 45,
    "start_time": "2023-02-04T15:04:57.378Z"
   },
   {
    "duration": 46,
    "start_time": "2023-02-04T15:05:11.668Z"
   },
   {
    "duration": 16,
    "start_time": "2023-02-04T15:05:50.250Z"
   },
   {
    "duration": 20,
    "start_time": "2023-02-04T15:05:56.672Z"
   },
   {
    "duration": 42,
    "start_time": "2023-02-04T15:17:43.505Z"
   },
   {
    "duration": 42,
    "start_time": "2023-02-04T15:18:22.951Z"
   },
   {
    "duration": 46,
    "start_time": "2023-02-04T15:18:37.286Z"
   },
   {
    "duration": 66,
    "start_time": "2023-02-04T15:19:33.804Z"
   },
   {
    "duration": 51,
    "start_time": "2023-02-04T15:19:41.779Z"
   },
   {
    "duration": 45,
    "start_time": "2023-02-04T15:19:46.191Z"
   },
   {
    "duration": 20,
    "start_time": "2023-02-04T15:20:10.329Z"
   },
   {
    "duration": 16,
    "start_time": "2023-02-04T15:20:27.272Z"
   },
   {
    "duration": 22,
    "start_time": "2023-02-04T15:21:07.463Z"
   },
   {
    "duration": 42,
    "start_time": "2023-02-04T15:23:32.823Z"
   },
   {
    "duration": 29,
    "start_time": "2023-02-04T15:23:49.880Z"
   },
   {
    "duration": 21,
    "start_time": "2023-02-04T15:24:11.847Z"
   },
   {
    "duration": 20,
    "start_time": "2023-02-04T15:24:45.362Z"
   },
   {
    "duration": 18,
    "start_time": "2023-02-04T15:27:29.430Z"
   },
   {
    "duration": 742,
    "start_time": "2023-02-04T15:29:19.060Z"
   },
   {
    "duration": 17,
    "start_time": "2023-02-04T15:29:45.276Z"
   },
   {
    "duration": 24,
    "start_time": "2023-02-04T15:29:51.759Z"
   },
   {
    "duration": 23,
    "start_time": "2023-02-04T15:30:23.759Z"
   },
   {
    "duration": 22,
    "start_time": "2023-02-04T15:32:42.749Z"
   },
   {
    "duration": 26,
    "start_time": "2023-02-04T15:44:53.640Z"
   },
   {
    "duration": 421,
    "start_time": "2023-02-04T16:06:37.194Z"
   },
   {
    "duration": 14,
    "start_time": "2023-02-04T16:08:01.468Z"
   },
   {
    "duration": 442,
    "start_time": "2023-02-04T16:08:07.738Z"
   },
   {
    "duration": 22,
    "start_time": "2023-02-04T16:09:49.534Z"
   },
   {
    "duration": 25,
    "start_time": "2023-02-04T16:10:04.550Z"
   },
   {
    "duration": 750,
    "start_time": "2023-02-04T16:10:39.667Z"
   },
   {
    "duration": 23,
    "start_time": "2023-02-04T16:10:53.046Z"
   },
   {
    "duration": 23,
    "start_time": "2023-02-04T16:12:09.341Z"
   },
   {
    "duration": 418,
    "start_time": "2023-02-04T16:12:39.456Z"
   },
   {
    "duration": 421,
    "start_time": "2023-02-04T16:13:29.040Z"
   },
   {
    "duration": 424,
    "start_time": "2023-02-04T16:13:46.642Z"
   },
   {
    "duration": 451,
    "start_time": "2023-02-04T16:13:55.939Z"
   },
   {
    "duration": 31,
    "start_time": "2023-02-04T16:14:48.559Z"
   },
   {
    "duration": 23,
    "start_time": "2023-02-04T16:15:03.334Z"
   },
   {
    "duration": 23,
    "start_time": "2023-02-04T16:26:30.044Z"
   },
   {
    "duration": 26,
    "start_time": "2023-02-04T16:26:39.947Z"
   },
   {
    "duration": 27,
    "start_time": "2023-02-04T16:55:12.479Z"
   },
   {
    "duration": 22,
    "start_time": "2023-02-04T17:02:03.552Z"
   },
   {
    "duration": 23,
    "start_time": "2023-02-04T17:02:15.216Z"
   },
   {
    "duration": 23,
    "start_time": "2023-02-04T17:03:34.333Z"
   },
   {
    "duration": 24,
    "start_time": "2023-02-04T17:03:45.545Z"
   },
   {
    "duration": 33,
    "start_time": "2023-02-04T17:08:00.769Z"
   },
   {
    "duration": 30,
    "start_time": "2023-02-04T17:08:58.544Z"
   },
   {
    "duration": 30,
    "start_time": "2023-02-04T17:09:19.567Z"
   },
   {
    "duration": 33,
    "start_time": "2023-02-04T17:09:35.141Z"
   },
   {
    "duration": 31,
    "start_time": "2023-02-04T17:09:48.369Z"
   },
   {
    "duration": 32,
    "start_time": "2023-02-04T17:10:21.827Z"
   },
   {
    "duration": 31,
    "start_time": "2023-02-04T17:13:44.171Z"
   },
   {
    "duration": 29,
    "start_time": "2023-02-04T17:13:57.636Z"
   },
   {
    "duration": 696,
    "start_time": "2023-02-04T17:17:52.563Z"
   },
   {
    "duration": 32,
    "start_time": "2023-02-04T17:18:35.528Z"
   },
   {
    "duration": 28,
    "start_time": "2023-02-04T17:23:20.956Z"
   },
   {
    "duration": 26,
    "start_time": "2023-02-04T17:23:41.584Z"
   },
   {
    "duration": 25,
    "start_time": "2023-02-04T17:23:55.674Z"
   },
   {
    "duration": 25,
    "start_time": "2023-02-04T17:24:05.688Z"
   },
   {
    "duration": 25,
    "start_time": "2023-02-04T17:24:21.291Z"
   },
   {
    "duration": 32,
    "start_time": "2023-02-04T17:24:35.255Z"
   },
   {
    "duration": 29,
    "start_time": "2023-02-04T17:26:47.678Z"
   },
   {
    "duration": 33,
    "start_time": "2023-02-04T17:27:12.465Z"
   },
   {
    "duration": 41,
    "start_time": "2023-02-04T17:27:39.097Z"
   },
   {
    "duration": 33,
    "start_time": "2023-02-04T17:27:45.555Z"
   },
   {
    "duration": 31,
    "start_time": "2023-02-04T17:27:58.035Z"
   },
   {
    "duration": 30,
    "start_time": "2023-02-04T17:28:03.458Z"
   },
   {
    "duration": 34,
    "start_time": "2023-02-04T17:28:16.871Z"
   },
   {
    "duration": 31,
    "start_time": "2023-02-04T17:43:24.839Z"
   },
   {
    "duration": 46,
    "start_time": "2023-02-05T18:49:14.816Z"
   },
   {
    "duration": 8,
    "start_time": "2023-02-05T18:49:21.105Z"
   },
   {
    "duration": 672,
    "start_time": "2023-02-05T18:49:32.863Z"
   },
   {
    "duration": 20,
    "start_time": "2023-02-05T18:49:33.552Z"
   },
   {
    "duration": 16,
    "start_time": "2023-02-05T18:49:33.974Z"
   },
   {
    "duration": 9,
    "start_time": "2023-02-05T18:49:34.979Z"
   },
   {
    "duration": 30,
    "start_time": "2023-02-05T18:49:35.510Z"
   },
   {
    "duration": 4,
    "start_time": "2023-02-05T18:49:36.222Z"
   },
   {
    "duration": 7,
    "start_time": "2023-02-05T18:49:36.535Z"
   },
   {
    "duration": 4,
    "start_time": "2023-02-05T18:49:37.185Z"
   },
   {
    "duration": 11,
    "start_time": "2023-02-05T18:49:37.495Z"
   },
   {
    "duration": 12,
    "start_time": "2023-02-05T18:49:37.988Z"
   },
   {
    "duration": 31,
    "start_time": "2023-02-05T18:49:38.724Z"
   },
   {
    "duration": 14,
    "start_time": "2023-02-05T18:49:39.088Z"
   },
   {
    "duration": 4,
    "start_time": "2023-02-05T18:49:39.767Z"
   },
   {
    "duration": 10,
    "start_time": "2023-02-05T18:49:40.606Z"
   },
   {
    "duration": 19,
    "start_time": "2023-02-05T18:49:41.129Z"
   },
   {
    "duration": 19,
    "start_time": "2023-02-05T18:49:41.358Z"
   },
   {
    "duration": 4,
    "start_time": "2023-02-05T18:49:41.952Z"
   },
   {
    "duration": 10,
    "start_time": "2023-02-05T18:49:42.151Z"
   },
   {
    "duration": 6,
    "start_time": "2023-02-05T18:49:42.910Z"
   },
   {
    "duration": 3,
    "start_time": "2023-02-05T18:49:43.406Z"
   },
   {
    "duration": 7,
    "start_time": "2023-02-05T18:49:43.561Z"
   },
   {
    "duration": 28,
    "start_time": "2023-02-05T18:49:44.431Z"
   },
   {
    "duration": 25,
    "start_time": "2023-02-05T18:49:45.540Z"
   },
   {
    "duration": 25,
    "start_time": "2023-02-05T18:49:46.330Z"
   },
   {
    "duration": 30,
    "start_time": "2023-02-05T18:49:47.093Z"
   },
   {
    "duration": 25,
    "start_time": "2023-02-05T18:49:49.756Z"
   },
   {
    "duration": 25,
    "start_time": "2023-02-05T18:49:50.314Z"
   },
   {
    "duration": 74,
    "start_time": "2023-02-05T18:49:51.515Z"
   },
   {
    "duration": 50,
    "start_time": "2023-02-05T19:00:39.706Z"
   },
   {
    "duration": 29,
    "start_time": "2023-02-05T19:01:06.261Z"
   },
   {
    "duration": 33,
    "start_time": "2023-02-05T19:01:17.078Z"
   },
   {
    "duration": 23,
    "start_time": "2023-02-05T19:03:04.658Z"
   },
   {
    "duration": 81,
    "start_time": "2023-02-05T19:06:17.639Z"
   },
   {
    "duration": 87,
    "start_time": "2023-02-05T19:06:38.526Z"
   },
   {
    "duration": 83,
    "start_time": "2023-02-05T19:06:47.025Z"
   },
   {
    "duration": 68,
    "start_time": "2023-02-05T19:06:57.216Z"
   },
   {
    "duration": 25,
    "start_time": "2023-02-05T19:08:29.454Z"
   },
   {
    "duration": 19,
    "start_time": "2023-02-05T19:08:45.089Z"
   },
   {
    "duration": 23,
    "start_time": "2023-02-05T19:09:08.207Z"
   },
   {
    "duration": 22,
    "start_time": "2023-02-05T19:10:02.241Z"
   },
   {
    "duration": 22,
    "start_time": "2023-02-05T19:10:25.237Z"
   },
   {
    "duration": 1171,
    "start_time": "2023-02-05T19:10:53.518Z"
   },
   {
    "duration": 23,
    "start_time": "2023-02-05T19:11:17.828Z"
   },
   {
    "duration": 4,
    "start_time": "2023-02-05T19:11:58.645Z"
   },
   {
    "duration": 90,
    "start_time": "2023-02-05T19:12:17.990Z"
   },
   {
    "duration": 3,
    "start_time": "2023-02-05T19:12:23.270Z"
   },
   {
    "duration": 5,
    "start_time": "2023-02-05T19:12:36.429Z"
   },
   {
    "duration": 1243,
    "start_time": "2023-02-05T19:14:34.274Z"
   },
   {
    "duration": 1170,
    "start_time": "2023-02-05T19:15:25.966Z"
   },
   {
    "duration": 1201,
    "start_time": "2023-02-05T19:18:21.306Z"
   },
   {
    "duration": 32,
    "start_time": "2023-02-05T19:18:37.795Z"
   },
   {
    "duration": 41,
    "start_time": "2023-02-05T19:18:52.565Z"
   },
   {
    "duration": 26,
    "start_time": "2023-02-05T19:19:02.897Z"
   },
   {
    "duration": 303,
    "start_time": "2023-02-05T19:22:51.408Z"
   },
   {
    "duration": 598,
    "start_time": "2023-02-05T19:24:30.561Z"
   },
   {
    "duration": 24,
    "start_time": "2023-02-05T19:25:33.859Z"
   },
   {
    "duration": 27,
    "start_time": "2023-02-05T19:25:37.748Z"
   },
   {
    "duration": 25,
    "start_time": "2023-02-05T19:26:17.134Z"
   },
   {
    "duration": 25,
    "start_time": "2023-02-05T19:26:24.142Z"
   },
   {
    "duration": 21,
    "start_time": "2023-02-05T19:28:34.710Z"
   },
   {
    "duration": 22,
    "start_time": "2023-02-05T19:28:42.125Z"
   },
   {
    "duration": 25,
    "start_time": "2023-02-05T19:29:34.129Z"
   },
   {
    "duration": 29,
    "start_time": "2023-02-05T19:29:52.830Z"
   },
   {
    "duration": 1226,
    "start_time": "2023-02-05T19:30:13.184Z"
   },
   {
    "duration": 26,
    "start_time": "2023-02-05T19:30:24.057Z"
   },
   {
    "duration": 24,
    "start_time": "2023-02-05T19:31:46.466Z"
   },
   {
    "duration": 9,
    "start_time": "2023-02-05T19:59:23.419Z"
   },
   {
    "duration": 9,
    "start_time": "2023-02-05T20:01:17.964Z"
   },
   {
    "duration": 8,
    "start_time": "2023-02-05T20:01:21.705Z"
   },
   {
    "duration": 23,
    "start_time": "2023-02-05T20:02:33.527Z"
   },
   {
    "duration": 14,
    "start_time": "2023-02-05T20:03:43.300Z"
   },
   {
    "duration": 13,
    "start_time": "2023-02-05T20:05:45.538Z"
   },
   {
    "duration": 1251,
    "start_time": "2023-02-05T20:06:34.456Z"
   },
   {
    "duration": 1351,
    "start_time": "2023-02-05T20:06:59.727Z"
   },
   {
    "duration": 80,
    "start_time": "2023-02-05T20:07:07.016Z"
   },
   {
    "duration": 1168,
    "start_time": "2023-02-05T20:07:33.221Z"
   },
   {
    "duration": 8,
    "start_time": "2023-02-05T20:22:45.171Z"
   },
   {
    "duration": 30,
    "start_time": "2023-02-05T20:23:02.253Z"
   },
   {
    "duration": 13,
    "start_time": "2023-02-05T20:23:24.436Z"
   },
   {
    "duration": 12,
    "start_time": "2023-02-05T20:24:10.529Z"
   },
   {
    "duration": 14,
    "start_time": "2023-02-05T20:26:12.180Z"
   },
   {
    "duration": 14,
    "start_time": "2023-02-05T20:26:48.019Z"
   },
   {
    "duration": 79,
    "start_time": "2023-02-05T20:27:00.121Z"
   },
   {
    "duration": 75,
    "start_time": "2023-02-05T20:27:09.037Z"
   },
   {
    "duration": 26,
    "start_time": "2023-02-05T20:27:24.277Z"
   },
   {
    "duration": 21,
    "start_time": "2023-02-05T20:27:35.460Z"
   },
   {
    "duration": 1198,
    "start_time": "2023-02-05T20:29:08.521Z"
   },
   {
    "duration": 27,
    "start_time": "2023-02-05T20:29:27.206Z"
   },
   {
    "duration": 93,
    "start_time": "2023-02-05T20:36:43.042Z"
   },
   {
    "duration": 23,
    "start_time": "2023-02-05T20:37:06.730Z"
   },
   {
    "duration": 97,
    "start_time": "2023-02-05T20:37:14.159Z"
   },
   {
    "duration": 97,
    "start_time": "2023-02-05T20:37:23.342Z"
   },
   {
    "duration": 92,
    "start_time": "2023-02-05T20:37:32.376Z"
   },
   {
    "duration": 30,
    "start_time": "2023-02-05T20:37:39.976Z"
   },
   {
    "duration": 23,
    "start_time": "2023-02-05T20:38:21.118Z"
   },
   {
    "duration": 25,
    "start_time": "2023-02-05T20:39:54.262Z"
   },
   {
    "duration": 22,
    "start_time": "2023-02-05T20:40:01.717Z"
   },
   {
    "duration": 23,
    "start_time": "2023-02-05T20:42:16.749Z"
   },
   {
    "duration": 25,
    "start_time": "2023-02-05T20:50:57.410Z"
   },
   {
    "duration": 22,
    "start_time": "2023-02-05T20:53:30.752Z"
   },
   {
    "duration": 25,
    "start_time": "2023-02-05T20:53:44.034Z"
   },
   {
    "duration": 26,
    "start_time": "2023-02-05T21:26:10.676Z"
   },
   {
    "duration": 25,
    "start_time": "2023-02-05T21:38:50.317Z"
   },
   {
    "duration": 38,
    "start_time": "2023-02-05T21:39:00.084Z"
   },
   {
    "duration": 39,
    "start_time": "2023-02-05T21:39:11.214Z"
   },
   {
    "duration": 28,
    "start_time": "2023-02-05T21:44:38.553Z"
   },
   {
    "duration": 36,
    "start_time": "2023-02-05T21:45:01.978Z"
   },
   {
    "duration": 29,
    "start_time": "2023-02-05T21:45:43.522Z"
   },
   {
    "duration": 31,
    "start_time": "2023-02-05T21:50:58.680Z"
   },
   {
    "duration": 37,
    "start_time": "2023-02-05T21:57:20.768Z"
   },
   {
    "duration": 25,
    "start_time": "2023-02-05T21:57:32.947Z"
   },
   {
    "duration": 31,
    "start_time": "2023-02-05T21:57:40.171Z"
   },
   {
    "duration": 27,
    "start_time": "2023-02-05T22:06:11.548Z"
   },
   {
    "duration": 29,
    "start_time": "2023-02-05T22:06:17.689Z"
   },
   {
    "duration": 27,
    "start_time": "2023-02-05T22:06:53.705Z"
   },
   {
    "duration": 23,
    "start_time": "2023-02-05T22:08:06.906Z"
   },
   {
    "duration": 47,
    "start_time": "2023-02-06T19:24:34.272Z"
   },
   {
    "duration": 696,
    "start_time": "2023-02-06T19:24:44.365Z"
   },
   {
    "duration": 30,
    "start_time": "2023-02-06T19:24:45.288Z"
   },
   {
    "duration": 17,
    "start_time": "2023-02-06T19:24:45.389Z"
   },
   {
    "duration": 12,
    "start_time": "2023-02-06T19:24:46.441Z"
   },
   {
    "duration": 63,
    "start_time": "2023-02-06T19:24:47.051Z"
   },
   {
    "duration": 4,
    "start_time": "2023-02-06T19:24:47.810Z"
   },
   {
    "duration": 9,
    "start_time": "2023-02-06T19:24:48.189Z"
   },
   {
    "duration": 6,
    "start_time": "2023-02-06T19:24:48.780Z"
   },
   {
    "duration": 7,
    "start_time": "2023-02-06T19:24:49.181Z"
   },
   {
    "duration": 4,
    "start_time": "2023-02-06T19:24:49.715Z"
   },
   {
    "duration": 31,
    "start_time": "2023-02-06T19:24:50.292Z"
   },
   {
    "duration": 11,
    "start_time": "2023-02-06T19:24:50.650Z"
   },
   {
    "duration": 4,
    "start_time": "2023-02-06T19:24:51.246Z"
   },
   {
    "duration": 10,
    "start_time": "2023-02-06T19:24:51.851Z"
   },
   {
    "duration": 19,
    "start_time": "2023-02-06T19:24:52.228Z"
   },
   {
    "duration": 17,
    "start_time": "2023-02-06T19:24:52.417Z"
   },
   {
    "duration": 4,
    "start_time": "2023-02-06T19:24:52.995Z"
   },
   {
    "duration": 11,
    "start_time": "2023-02-06T19:24:53.208Z"
   },
   {
    "duration": 5,
    "start_time": "2023-02-06T19:24:53.783Z"
   },
   {
    "duration": 3,
    "start_time": "2023-02-06T19:24:54.172Z"
   },
   {
    "duration": 8,
    "start_time": "2023-02-06T19:24:54.358Z"
   },
   {
    "duration": 29,
    "start_time": "2023-02-06T19:24:55.383Z"
   },
   {
    "duration": 27,
    "start_time": "2023-02-06T19:24:56.980Z"
   },
   {
    "duration": 23,
    "start_time": "2023-02-06T19:28:17.153Z"
   },
   {
    "duration": 23,
    "start_time": "2023-02-06T19:29:53.203Z"
   },
   {
    "duration": 29,
    "start_time": "2023-02-06T19:29:59.111Z"
   },
   {
    "duration": 23,
    "start_time": "2023-02-06T19:30:11.731Z"
   },
   {
    "duration": 27,
    "start_time": "2023-02-06T19:30:13.496Z"
   },
   {
    "duration": 24,
    "start_time": "2023-02-06T19:30:32.420Z"
   },
   {
    "duration": 24,
    "start_time": "2023-02-06T19:35:09.976Z"
   },
   {
    "duration": 74,
    "start_time": "2023-02-06T19:56:06.445Z"
   },
   {
    "duration": 88,
    "start_time": "2023-02-06T19:56:10.048Z"
   },
   {
    "duration": 75,
    "start_time": "2023-02-06T19:56:17.643Z"
   },
   {
    "duration": 75,
    "start_time": "2023-02-06T19:56:23.595Z"
   }
  ],
  "colab": {
   "name": "dpp_template_part2.ipynb",
   "provenance": []
  },
  "kernelspec": {
   "display_name": "Python 3 (ipykernel)",
   "language": "python",
   "name": "python3"
  },
  "language_info": {
   "codemirror_mode": {
    "name": "ipython",
    "version": 3
   },
   "file_extension": ".py",
   "mimetype": "text/x-python",
   "name": "python",
   "nbconvert_exporter": "python",
   "pygments_lexer": "ipython3",
   "version": "3.9.12"
  },
  "toc": {
   "base_numbering": 1,
   "nav_menu": {},
   "number_sections": true,
   "sideBar": true,
   "skip_h1_title": true,
   "title_cell": "Table of Contents",
   "title_sidebar": "Contents",
   "toc_cell": false,
   "toc_position": {},
   "toc_section_display": true,
   "toc_window_display": false
  }
 },
 "nbformat": 4,
 "nbformat_minor": 5
}
