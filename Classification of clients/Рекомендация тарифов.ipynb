{
 "cells": [
  {
   "cell_type": "markdown",
   "metadata": {},
   "source": [
    "# Рекомендация тарифов"
   ]
  },
  {
   "cell_type": "markdown",
   "metadata": {},
   "source": [
    "В вашем распоряжении данные о поведении клиентов, которые уже перешли на эти тарифы (из проекта курса «Статистический анализ данных»). Нужно построить модель для задачи классификации, которая выберет подходящий тариф. Предобработка данных не понадобится — вы её уже сделали.\n",
    "\n",
    "Постройте модель с максимально большим значением *accuracy*. Чтобы сдать проект успешно, нужно довести долю правильных ответов по крайней мере до 0.75. Проверьте *accuracy* на тестовой выборке самостоятельно."
   ]
  },
  {
   "cell_type": "markdown",
   "metadata": {},
   "source": [
    "## Откройте и изучите файл"
   ]
  },
  {
   "cell_type": "code",
   "execution_count": 1,
   "metadata": {},
   "outputs": [],
   "source": [
    "import pandas as pd\n",
    "\n",
    "from sklearn.model_selection import train_test_split\n",
    "from sklearn.metrics import accuracy_score\n",
    "\n",
    "from sklearn.tree import DecisionTreeClassifier\n",
    "from sklearn.ensemble import RandomForestClassifier \n",
    "from sklearn.linear_model import LogisticRegression\n",
    "\n",
    "from sklearn.dummy import DummyClassifier"
   ]
  },
  {
   "cell_type": "code",
   "execution_count": 2,
   "metadata": {},
   "outputs": [],
   "source": [
    "df = pd.read_csv('/datasets/users_behavior.csv')"
   ]
  },
  {
   "cell_type": "code",
   "execution_count": 3,
   "metadata": {},
   "outputs": [
    {
     "name": "stdout",
     "output_type": "stream",
     "text": [
      "<class 'pandas.core.frame.DataFrame'>\n",
      "RangeIndex: 3214 entries, 0 to 3213\n",
      "Data columns (total 5 columns):\n",
      " #   Column    Non-Null Count  Dtype  \n",
      "---  ------    --------------  -----  \n",
      " 0   calls     3214 non-null   float64\n",
      " 1   minutes   3214 non-null   float64\n",
      " 2   messages  3214 non-null   float64\n",
      " 3   mb_used   3214 non-null   float64\n",
      " 4   is_ultra  3214 non-null   int64  \n",
      "dtypes: float64(4), int64(1)\n",
      "memory usage: 125.7 KB\n"
     ]
    }
   ],
   "source": [
    "df.info()"
   ]
  },
  {
   "cell_type": "code",
   "execution_count": 4,
   "metadata": {},
   "outputs": [
    {
     "data": {
      "text/html": [
       "<div>\n",
       "<style scoped>\n",
       "    .dataframe tbody tr th:only-of-type {\n",
       "        vertical-align: middle;\n",
       "    }\n",
       "\n",
       "    .dataframe tbody tr th {\n",
       "        vertical-align: top;\n",
       "    }\n",
       "\n",
       "    .dataframe thead th {\n",
       "        text-align: right;\n",
       "    }\n",
       "</style>\n",
       "<table border=\"1\" class=\"dataframe\">\n",
       "  <thead>\n",
       "    <tr style=\"text-align: right;\">\n",
       "      <th></th>\n",
       "      <th>calls</th>\n",
       "      <th>minutes</th>\n",
       "      <th>messages</th>\n",
       "      <th>mb_used</th>\n",
       "      <th>is_ultra</th>\n",
       "    </tr>\n",
       "  </thead>\n",
       "  <tbody>\n",
       "    <tr>\n",
       "      <th>0</th>\n",
       "      <td>40.0</td>\n",
       "      <td>311.90</td>\n",
       "      <td>83.0</td>\n",
       "      <td>19915.42</td>\n",
       "      <td>0</td>\n",
       "    </tr>\n",
       "    <tr>\n",
       "      <th>1</th>\n",
       "      <td>85.0</td>\n",
       "      <td>516.75</td>\n",
       "      <td>56.0</td>\n",
       "      <td>22696.96</td>\n",
       "      <td>0</td>\n",
       "    </tr>\n",
       "    <tr>\n",
       "      <th>2</th>\n",
       "      <td>77.0</td>\n",
       "      <td>467.66</td>\n",
       "      <td>86.0</td>\n",
       "      <td>21060.45</td>\n",
       "      <td>0</td>\n",
       "    </tr>\n",
       "    <tr>\n",
       "      <th>3</th>\n",
       "      <td>106.0</td>\n",
       "      <td>745.53</td>\n",
       "      <td>81.0</td>\n",
       "      <td>8437.39</td>\n",
       "      <td>1</td>\n",
       "    </tr>\n",
       "    <tr>\n",
       "      <th>4</th>\n",
       "      <td>66.0</td>\n",
       "      <td>418.74</td>\n",
       "      <td>1.0</td>\n",
       "      <td>14502.75</td>\n",
       "      <td>0</td>\n",
       "    </tr>\n",
       "  </tbody>\n",
       "</table>\n",
       "</div>"
      ],
      "text/plain": [
       "   calls  minutes  messages   mb_used  is_ultra\n",
       "0   40.0   311.90      83.0  19915.42         0\n",
       "1   85.0   516.75      56.0  22696.96         0\n",
       "2   77.0   467.66      86.0  21060.45         0\n",
       "3  106.0   745.53      81.0   8437.39         1\n",
       "4   66.0   418.74       1.0  14502.75         0"
      ]
     },
     "execution_count": 4,
     "metadata": {},
     "output_type": "execute_result"
    }
   ],
   "source": [
    "df.head(5)"
   ]
  },
  {
   "cell_type": "markdown",
   "metadata": {},
   "source": [
    "В распоряжении данные о пользователях «Мегалайн» пользующимися двуми тарифами «Смарт» или «Ультра». Они прописаны в столбце is_ultra: «Ультра» — 1, «Смарт» — 0.\n",
    "-Предстоит работать с задачей классификации"
   ]
  },
  {
   "cell_type": "markdown",
   "metadata": {},
   "source": [
    "## Разбейте данные на выборки"
   ]
  },
  {
   "cell_type": "code",
   "execution_count": 5,
   "metadata": {},
   "outputs": [],
   "source": [
    "#Деление на три выборки\n",
    "df_train, df_data = train_test_split(df, test_size=0.4, random_state=12345)\n",
    "df_test, df_valid = train_test_split(df_data, test_size=0.5, random_state=12345)"
   ]
  },
  {
   "cell_type": "code",
   "execution_count": 6,
   "metadata": {},
   "outputs": [
    {
     "name": "stdout",
     "output_type": "stream",
     "text": [
      "Тренировочная выборка: 1928\n",
      "Валидационная выборка: 643\n",
      "Тестовая выборка: 643\n"
     ]
    }
   ],
   "source": [
    "print('Тренировочная выборка:', df_train.shape[0])\n",
    "print('Валидационная выборка:', df_valid.shape[0])\n",
    "print('Тестовая выборка:', df_test.shape[0])"
   ]
  },
  {
   "cell_type": "code",
   "execution_count": 7,
   "metadata": {},
   "outputs": [],
   "source": [
    "#переменные для признаков и целевого признака тренировочной выборки\n",
    "df_train_features = df_train.drop(['is_ultra'], axis=1)\n",
    "df_train_target = df_train['is_ultra']"
   ]
  },
  {
   "cell_type": "code",
   "execution_count": 8,
   "metadata": {},
   "outputs": [],
   "source": [
    "#переменные для признаков и целевого признака валидационной выборки\n",
    "df_valid_features = df_valid.drop(['is_ultra'], axis=1)\n",
    "df_valid_target = df_valid['is_ultra']"
   ]
  },
  {
   "cell_type": "code",
   "execution_count": 9,
   "metadata": {},
   "outputs": [],
   "source": [
    "#переменные для признаков и целевого признака тестовой выборки\n",
    "df_test_features = df_test.drop(['is_ultra'], axis=1)\n",
    "df_test_target = df_test['is_ultra']"
   ]
  },
  {
   "cell_type": "markdown",
   "metadata": {},
   "source": [
    "Данные разбиты на три выборки: тренировочная, валидационная и тестовая; в соотношении 60/20/20"
   ]
  },
  {
   "cell_type": "markdown",
   "metadata": {},
   "source": [
    "Далее каждая выборка была разделена на целевой признак и обучающие признаки"
   ]
  },
  {
   "cell_type": "markdown",
   "metadata": {},
   "source": [
    "## Исследуйте модели"
   ]
  },
  {
   "cell_type": "markdown",
   "metadata": {},
   "source": [
    "**Модель дерево решений**"
   ]
  },
  {
   "cell_type": "code",
   "execution_count": 10,
   "metadata": {},
   "outputs": [
    {
     "name": "stdout",
     "output_type": "stream",
     "text": [
      "max_depth = 1 :  0.7356143079315708\n",
      "max_depth = 2 :  0.7744945567651633\n",
      "max_depth = 3 :  0.7791601866251944\n",
      "max_depth = 4 :  0.7744945567651633\n",
      "max_depth = 5 :  0.7838258164852255\n",
      "max_depth = 6 :  0.776049766718507\n",
      "max_depth = 7 :  0.7993779160186625\n",
      "max_depth = 8 :  0.7931570762052877\n",
      "max_depth = 9 :  0.7807153965785381\n",
      "max_depth = 10 :  0.7884914463452566\n",
      "Глубина дерева: 7 = 0.7993779160186625\n"
     ]
    }
   ],
   "source": [
    "best_model = 0\n",
    "best_result = 0\n",
    "\n",
    "for depth in range(1, 11):\n",
    "    \n",
    "    model_decision_tree = DecisionTreeClassifier(random_state=12345, max_depth=depth)\n",
    "    model_decision_tree.fit(df_train_features, df_train_target)\n",
    "    \n",
    "    predictions_valid_dt = model_decision_tree.predict(df_valid_features)\n",
    "    \n",
    "    result = accuracy_score(df_valid_target, predictions_valid_dt)\n",
    "    \n",
    "    print(\"max_depth =\", depth, \": \", result)\n",
    "    \n",
    "    if result > best_result:\n",
    "        \n",
    "        # наилучшая модель\n",
    "        best_model = depth \n",
    "        \n",
    "        #  сохранение наилучшего значения метрики accuracy на валидационных данных\n",
    "        best_result = result\n",
    "\n",
    "print(\"Глубина дерева:\", best_model, '=', best_result)"
   ]
  },
  {
   "cell_type": "code",
   "execution_count": 11,
   "metadata": {},
   "outputs": [
    {
     "name": "stdout",
     "output_type": "stream",
     "text": [
      "Глубина дерева: = 0.7962674961119751\n"
     ]
    }
   ],
   "source": [
    "model_decision_tree = DecisionTreeClassifier(random_state=12345, max_depth=8, splitter='random')\n",
    "\n",
    "model_decision_tree.fit(df_train_features, df_train_target)\n",
    "\n",
    "predictions_valid_dt = model_decision_tree.predict(df_valid_features)\n",
    "\n",
    "result = accuracy_score(df_valid_target, predictions_valid_dt)\n",
    "    \n",
    "print(\"Глубина дерева: =\", result)"
   ]
  },
  {
   "cell_type": "markdown",
   "metadata": {},
   "source": [
    "'random' для выбора лучшего рандомного разбиения"
   ]
  },
  {
   "cell_type": "code",
   "execution_count": 12,
   "metadata": {},
   "outputs": [
    {
     "name": "stdout",
     "output_type": "stream",
     "text": [
      "Глубина дерева: = 0.7931570762052877\n"
     ]
    }
   ],
   "source": [
    "model_decision_tree = DecisionTreeClassifier(random_state=12345, max_depth=8, criterion='gini')\n",
    "\n",
    "model_decision_tree.fit(df_train_features, df_train_target)\n",
    "\n",
    "predictions_valid_dt = model_decision_tree.predict(df_valid_features)\n",
    "\n",
    "result = accuracy_score(df_valid_target, predictions_valid_dt)\n",
    "    \n",
    "print(\"Глубина дерева: =\", result)"
   ]
  },
  {
   "cell_type": "markdown",
   "metadata": {},
   "source": [
    "Критерий Джини, показывает сходства двух наборов данных. Обучаясь, дерево в каждом узле из возможных вопросов задаёт наилучший."
   ]
  },
  {
   "cell_type": "code",
   "execution_count": 13,
   "metadata": {},
   "outputs": [
    {
     "name": "stdout",
     "output_type": "stream",
     "text": [
      "Глубина дерева: = 0.7931570762052877\n"
     ]
    }
   ],
   "source": [
    "model_decision_tree = DecisionTreeClassifier(random_state=12345, max_depth=8, splitter='best')\n",
    "\n",
    "model_decision_tree.fit(df_train_features, df_train_target)\n",
    "\n",
    "predictions_valid_dt = model_decision_tree.predict(df_valid_features)\n",
    "\n",
    "result = accuracy_score(df_valid_target, predictions_valid_dt)\n",
    "    \n",
    "print(\"Глубина дерева: =\", result)"
   ]
  },
  {
   "cell_type": "markdown",
   "metadata": {},
   "source": [
    "Стратегии 'best' для выбора лучшего разбиения"
   ]
  },
  {
   "cell_type": "markdown",
   "metadata": {},
   "source": [
    "Изменение гиперпараметров для модели  дерево решений практически не влияют на исход, разница слишком мала"
   ]
  },
  {
   "cell_type": "markdown",
   "metadata": {},
   "source": [
    "**Модель случайный лес**"
   ]
  },
  {
   "cell_type": "code",
   "execution_count": 14,
   "metadata": {
    "scrolled": true
   },
   "outputs": [
    {
     "name": "stdout",
     "output_type": "stream",
     "text": [
      "max_depth = 1 :  0.7402799377916018\n",
      "max_depth = 2 :  0.7589424572317263\n",
      "max_depth = 3 :  0.7573872472783826\n",
      "max_depth = 4 :  0.7729393468118196\n",
      "max_depth = 5 :  0.7667185069984448\n",
      "max_depth = 6 :  0.7791601866251944\n",
      "max_depth = 7 :  0.7807153965785381\n",
      "max_depth = 8 :  0.7869362363919129\n",
      "max_depth = 9 :  0.7838258164852255\n",
      "max_depth = 10 :  0.7807153965785381\n",
      "Количество деревьев: 8 = 0.7869362363919129\n"
     ]
    }
   ],
   "source": [
    "best_model = 0\n",
    "best_result = 0\n",
    "\n",
    "for est in range(1, 11):\n",
    "    \n",
    "    #обучение модели с заданным количеством деревьев\n",
    "    model_random_forest = RandomForestClassifier(random_state=12345, n_estimators=est)\n",
    "    \n",
    "    # обучение модели на тренировочной выборке\n",
    "    model_random_forest.fit(df_train_features, df_train_target)\n",
    "    \n",
    "    predictions_valid_rf = model_random_forest.predict(df_valid_features)\n",
    "    \n",
    "    # качество модели на валидационной выборке\n",
    "    result = accuracy_score(df_valid_target, predictions_valid_rf)\n",
    "    \n",
    "    print(\"max_depth =\", est, \": \", result)\n",
    "    \n",
    "    if result > best_result:\n",
    "        # наилучшая модель\n",
    "        best_model = est \n",
    "        #  сохранение наилучшего значения метрики accuracy на валидационных данных\n",
    "        best_result = result \n",
    "\n",
    "#print(\"Accuracy наилучшей модели на валидационной выборке:\", best_model, '=', best_result)\n",
    "print(\"Количество деревьев:\", best_model, '=', best_result)"
   ]
  },
  {
   "cell_type": "code",
   "execution_count": 15,
   "metadata": {},
   "outputs": [
    {
     "name": "stdout",
     "output_type": "stream",
     "text": [
      "Accuracy наилучшей модели на валидационной выборке: 0.7807153965785381\n"
     ]
    }
   ],
   "source": [
    "    #обучение модели с заданным количеством деревьев\n",
    "model_random_forest = RandomForestClassifier(random_state=12345, n_estimators=best_model, criterion='entropy')\n",
    "    \n",
    "    # обучение модели на тренировочной выборке\n",
    "model_random_forest.fit(df_train_features, df_train_target)\n",
    "    \n",
    "predictions_valid_rf = model_random_forest.predict(df_valid_features)\n",
    "    \n",
    "    # качество модели на валидационной выборке\n",
    "result = accuracy_score(df_valid_target, predictions_valid_rf)\n",
    "    \n",
    "print(\"Accuracy наилучшей модели на валидационной выборке:\", result)"
   ]
  },
  {
   "cell_type": "markdown",
   "metadata": {},
   "source": [
    "Для прироста информации воспользуемся критерием 'entropy'"
   ]
  },
  {
   "cell_type": "code",
   "execution_count": 16,
   "metadata": {},
   "outputs": [
    {
     "name": "stdout",
     "output_type": "stream",
     "text": [
      "Accuracy наилучшей модели на валидационной выборке: 0.7869362363919129\n"
     ]
    }
   ],
   "source": [
    "    #обучение модели с заданным количеством деревьев\n",
    "model_random_forest = RandomForestClassifier(random_state=12345, n_estimators=best_model, criterion='gini')\n",
    "    \n",
    "    # обучение модели на тренировочной выборке\n",
    "model_random_forest.fit(df_train_features, df_train_target)\n",
    "    \n",
    "predictions_valid_rf = model_random_forest.predict(df_valid_features)\n",
    "    \n",
    "    # качество модели на валидационной выборке\n",
    "result = accuracy_score(df_valid_target, predictions_valid_rf)\n",
    "    \n",
    "print(\"Accuracy наилучшей модели на валидационной выборке:\", result)"
   ]
  },
  {
   "cell_type": "markdown",
   "metadata": {},
   "source": [
    "Добавим критерий Джини для неоднородности "
   ]
  },
  {
   "cell_type": "markdown",
   "metadata": {},
   "source": [
    "Критерий Джини показывает себя лучше 'entropy'"
   ]
  },
  {
   "cell_type": "markdown",
   "metadata": {},
   "source": [
    "Здесь аналогичная ситуация, влияние гиперпараметров слишком мало, его практичски нет"
   ]
  },
  {
   "cell_type": "markdown",
   "metadata": {},
   "source": [
    "**Логистическая регрессия**"
   ]
  },
  {
   "cell_type": "code",
   "execution_count": 17,
   "metadata": {},
   "outputs": [
    {
     "name": "stdout",
     "output_type": "stream",
     "text": [
      "Accuracy наилучшей модели на валидационной выборке: 0.7869362363919129\n"
     ]
    }
   ],
   "source": [
    "# инициализируем модель LinearRegression\n",
    "model_lg = LogisticRegression(random_state=12345, solver='lbfgs', max_iter=1000)\n",
    "# обучаем модель на тренировочной выборке\n",
    "model_lg.fit(df_train_features, df_train_target) \n",
    "# получаем предсказание модели на валидационной выборке\n",
    "predictions_valid = model_lg.predict(df_valid_features) \n",
    "\n",
    "result = accuracy_score(df_valid_target, predictions_valid_rf)\n",
    "print(\"Accuracy наилучшей модели на валидационной выборке:\", result)"
   ]
  },
  {
   "cell_type": "markdown",
   "metadata": {},
   "source": [
    "Изменим значение параметра max_iter на 1000 "
   ]
  },
  {
   "cell_type": "markdown",
   "metadata": {},
   "source": [
    "**ВЫВОД**\n",
    "- **Модель дерево решений:** Глубина дерева 7: 0.7993779160186625\n",
    "- **Модель случайный лес:** Количество деревьев 8: 0.7869362363919129\n",
    "- **Логистическая регрессия:** Accuracy наилучшей модели: 0.7807153965785381"
   ]
  },
  {
   "cell_type": "markdown",
   "metadata": {},
   "source": [
    "## Проверьте модель на тестовой выборке"
   ]
  },
  {
   "cell_type": "code",
   "execution_count": 18,
   "metadata": {},
   "outputs": [
    {
     "name": "stdout",
     "output_type": "stream",
     "text": [
      "Accuracy наилучшей модели на тествой выборке, для дерева решений: 0.7791601866251944\n",
      "Accuracy наилучшей модели на тествой выборке, для модели случайный лес: 0.7822706065318819\n",
      "Accuracy наилучшей модели на тествой выборке, для логистической регресси: 0.7107309486780715\n"
     ]
    }
   ],
   "source": [
    "predict_test1 = model_decision_tree.predict(df_test_features)\n",
    "result = accuracy_score(df_test_target, predict_test1)\n",
    "\n",
    "print(\"Accuracy наилучшей модели на тествой выборке, для дерева решений:\", result)\n",
    "\n",
    "predict_test2 = model_random_forest.predict(df_test_features)\n",
    "result = accuracy_score(df_test_target, predict_test2)\n",
    "\n",
    "print(\"Accuracy наилучшей модели на тествой выборке, для модели случайный лес:\", result)\n",
    "\n",
    "predict_test3 = model_lg.predict(df_test_features)\n",
    "result = accuracy_score(df_test_target, predict_test3)\n",
    "\n",
    "print(\"Accuracy наилучшей модели на тествой выборке, для логистической регресси:\", result)"
   ]
  },
  {
   "cell_type": "markdown",
   "metadata": {},
   "source": [
    "**ВЫВОД**\n",
    "- На тестовой выборке лучше всего показала себя модель **случайного леса**, со значением 0.7822706065318819\n",
    "- Хуже **логистическая регрессия** - 0.7107309486780715"
   ]
  },
  {
   "cell_type": "markdown",
   "metadata": {},
   "source": [
    "Разница между вадидационной и тестовой выборками мала, это говорит о слабой обученности системы"
   ]
  },
  {
   "cell_type": "markdown",
   "metadata": {},
   "source": [
    "## (бонус) Проверьте модели на адекватность"
   ]
  },
  {
   "cell_type": "code",
   "execution_count": 19,
   "metadata": {},
   "outputs": [],
   "source": [
    "dummy_clf = DummyClassifier(strategy=\"most_frequent\")"
   ]
  },
  {
   "cell_type": "code",
   "execution_count": 20,
   "metadata": {},
   "outputs": [
    {
     "data": {
      "text/plain": [
       "0.6842923794712286"
      ]
     },
     "execution_count": 20,
     "metadata": {},
     "output_type": "execute_result"
    }
   ],
   "source": [
    "dummy_clf.fit(df_train_features, df_train_target)\n",
    "dummy_clf.predict(df_valid_features)\n",
    "dummy_clf.score(df_valid_features, df_valid_target)"
   ]
  },
  {
   "cell_type": "markdown",
   "metadata": {},
   "source": [
    "Получили значение равное 0.6842923794712286, что меньше Accuracy наилучшей модели, это говорит об адекватности получившейся модели."
   ]
  },
  {
   "cell_type": "markdown",
   "metadata": {},
   "source": [
    "**Общий вывод**"
   ]
  },
  {
   "cell_type": "markdown",
   "metadata": {},
   "source": [
    "В распоряжении были данные о клиентах «Мегалайн» что перешли на один из двух тарифов.\n",
    "\n",
    "Нужно было решить задачу классификации и построить модель с максимально большим значением accuracy. \n",
    "\n",
    "В процессе работы были:\n",
    "- Разделены исходные данные на три выборки;\n",
    "- Исследовано качество разных моделей;\n",
    "- Проверено качество модели на тестовой выборке."
   ]
  },
  {
   "cell_type": "markdown",
   "metadata": {},
   "source": [
    "Наилучшее Accuracy у модели случайный лес: Количество деревьев 8: 0.7869362363919129\n",
    "\n",
    "Разница между вадидационной и тестовой выборками мала, что говорит о слабой обученности системы"
   ]
  }
 ],
 "metadata": {
  "ExecuteTimeLog": [
   {
    "duration": 56,
    "start_time": "2023-03-29T18:06:28.613Z"
   },
   {
    "duration": 366,
    "start_time": "2023-03-29T18:06:31.903Z"
   },
   {
    "duration": 62,
    "start_time": "2023-03-29T18:06:32.372Z"
   },
   {
    "duration": 12,
    "start_time": "2023-03-29T18:06:45.462Z"
   },
   {
    "duration": 16,
    "start_time": "2023-03-29T18:09:05.472Z"
   },
   {
    "duration": 372,
    "start_time": "2023-03-30T16:21:43.793Z"
   },
   {
    "duration": 72,
    "start_time": "2023-03-30T16:21:44.166Z"
   },
   {
    "duration": 12,
    "start_time": "2023-03-30T16:21:44.239Z"
   },
   {
    "duration": 14,
    "start_time": "2023-03-30T16:21:44.327Z"
   },
   {
    "duration": 605,
    "start_time": "2023-03-30T16:26:07.178Z"
   },
   {
    "duration": 6,
    "start_time": "2023-03-30T16:33:56.798Z"
   },
   {
    "duration": 12,
    "start_time": "2023-03-30T16:34:29.715Z"
   },
   {
    "duration": 12,
    "start_time": "2023-03-30T16:34:43.487Z"
   },
   {
    "duration": 13,
    "start_time": "2023-03-30T16:35:03.308Z"
   },
   {
    "duration": 14,
    "start_time": "2023-03-30T16:35:31.218Z"
   },
   {
    "duration": 12,
    "start_time": "2023-03-30T16:35:56.077Z"
   },
   {
    "duration": 6,
    "start_time": "2023-03-30T16:36:40.191Z"
   },
   {
    "duration": 12,
    "start_time": "2023-03-30T16:36:40.940Z"
   },
   {
    "duration": 12,
    "start_time": "2023-03-30T16:36:41.732Z"
   },
   {
    "duration": 12,
    "start_time": "2023-03-30T16:36:42.416Z"
   },
   {
    "duration": 7,
    "start_time": "2023-03-30T16:37:24.437Z"
   },
   {
    "duration": 16,
    "start_time": "2023-03-30T16:37:25.088Z"
   },
   {
    "duration": 15,
    "start_time": "2023-03-30T16:37:25.871Z"
   },
   {
    "duration": 12,
    "start_time": "2023-03-30T16:37:26.512Z"
   },
   {
    "duration": 105,
    "start_time": "2023-03-30T16:40:52.170Z"
   },
   {
    "duration": 59,
    "start_time": "2023-03-30T16:41:38.564Z"
   },
   {
    "duration": 39,
    "start_time": "2023-03-30T16:41:54.339Z"
   },
   {
    "duration": 3,
    "start_time": "2023-03-30T16:42:02.284Z"
   },
   {
    "duration": 42,
    "start_time": "2023-03-30T16:42:06.677Z"
   },
   {
    "duration": 4,
    "start_time": "2023-03-30T16:42:10.251Z"
   },
   {
    "duration": 4,
    "start_time": "2023-03-30T16:42:35.198Z"
   },
   {
    "duration": 4,
    "start_time": "2023-03-30T16:42:45.021Z"
   },
   {
    "duration": 3,
    "start_time": "2023-03-30T16:47:04.269Z"
   },
   {
    "duration": 3,
    "start_time": "2023-03-30T16:48:16.678Z"
   },
   {
    "duration": 4,
    "start_time": "2023-03-30T16:51:10.816Z"
   },
   {
    "duration": 4,
    "start_time": "2023-03-30T16:51:11.122Z"
   },
   {
    "duration": 4,
    "start_time": "2023-03-30T16:51:11.287Z"
   },
   {
    "duration": 6,
    "start_time": "2023-03-30T16:51:12.841Z"
   },
   {
    "duration": 4,
    "start_time": "2023-03-30T16:51:12.982Z"
   },
   {
    "duration": 4,
    "start_time": "2023-03-30T16:51:13.135Z"
   },
   {
    "duration": 5,
    "start_time": "2023-03-30T16:51:15.474Z"
   },
   {
    "duration": 3,
    "start_time": "2023-03-30T16:51:15.739Z"
   },
   {
    "duration": 4,
    "start_time": "2023-03-30T16:51:16.035Z"
   },
   {
    "duration": 4,
    "start_time": "2023-03-30T16:51:16.232Z"
   },
   {
    "duration": 11,
    "start_time": "2023-03-30T17:15:51.452Z"
   },
   {
    "duration": 2,
    "start_time": "2023-03-30T17:16:34.577Z"
   },
   {
    "duration": 10,
    "start_time": "2023-03-30T17:19:49.654Z"
   },
   {
    "duration": 50,
    "start_time": "2023-03-30T17:19:58.219Z"
   },
   {
    "duration": 25,
    "start_time": "2023-03-30T17:19:58.559Z"
   },
   {
    "duration": 11,
    "start_time": "2023-03-30T17:19:58.754Z"
   },
   {
    "duration": 8,
    "start_time": "2023-03-30T17:19:59.161Z"
   },
   {
    "duration": 6,
    "start_time": "2023-03-30T17:19:59.497Z"
   },
   {
    "duration": 6,
    "start_time": "2023-03-30T17:19:59.654Z"
   },
   {
    "duration": 4,
    "start_time": "2023-03-30T17:19:59.789Z"
   },
   {
    "duration": 14,
    "start_time": "2023-03-30T17:20:00.338Z"
   },
   {
    "duration": 4,
    "start_time": "2023-03-30T17:20:00.756Z"
   },
   {
    "duration": 3,
    "start_time": "2023-03-30T17:20:01.082Z"
   },
   {
    "duration": 17,
    "start_time": "2023-03-30T17:20:01.221Z"
   },
   {
    "duration": 14,
    "start_time": "2023-03-30T17:20:19.123Z"
   },
   {
    "duration": 5,
    "start_time": "2023-03-30T17:20:37.785Z"
   },
   {
    "duration": 25,
    "start_time": "2023-03-30T17:20:38.184Z"
   },
   {
    "duration": 10,
    "start_time": "2023-03-30T17:20:38.359Z"
   },
   {
    "duration": 9,
    "start_time": "2023-03-30T17:20:38.509Z"
   },
   {
    "duration": 7,
    "start_time": "2023-03-30T17:20:38.813Z"
   },
   {
    "duration": 3,
    "start_time": "2023-03-30T17:20:38.961Z"
   },
   {
    "duration": 5,
    "start_time": "2023-03-30T17:20:39.139Z"
   },
   {
    "duration": 4,
    "start_time": "2023-03-30T17:20:39.294Z"
   },
   {
    "duration": 4,
    "start_time": "2023-03-30T17:20:39.451Z"
   },
   {
    "duration": 2,
    "start_time": "2023-03-30T17:20:39.952Z"
   },
   {
    "duration": 44,
    "start_time": "2023-03-30T17:20:40.303Z"
   },
   {
    "duration": 37,
    "start_time": "2023-03-30T17:20:53.688Z"
   },
   {
    "duration": 84,
    "start_time": "2023-03-30T17:21:00.979Z"
   },
   {
    "duration": 16,
    "start_time": "2023-03-30T17:21:07.003Z"
   },
   {
    "duration": 128,
    "start_time": "2023-03-30T17:21:12.506Z"
   },
   {
    "duration": 67,
    "start_time": "2023-03-30T17:21:19.263Z"
   },
   {
    "duration": 73,
    "start_time": "2023-03-30T17:22:06.709Z"
   },
   {
    "duration": 71,
    "start_time": "2023-03-30T17:22:17.318Z"
   },
   {
    "duration": 10,
    "start_time": "2023-03-30T17:24:55.785Z"
   },
   {
    "duration": 2,
    "start_time": "2023-03-30T17:26:02.710Z"
   },
   {
    "duration": 11,
    "start_time": "2023-03-30T17:29:08.675Z"
   },
   {
    "duration": 74,
    "start_time": "2023-03-30T17:29:17.433Z"
   },
   {
    "duration": 24,
    "start_time": "2023-03-30T17:34:57.203Z"
   },
   {
    "duration": 14,
    "start_time": "2023-03-30T17:35:31.512Z"
   },
   {
    "duration": 72,
    "start_time": "2023-03-30T17:35:43.560Z"
   },
   {
    "duration": 82,
    "start_time": "2023-03-30T17:36:54.297Z"
   },
   {
    "duration": 49,
    "start_time": "2023-03-30T17:37:45.823Z"
   },
   {
    "duration": 77,
    "start_time": "2023-03-30T17:37:54.828Z"
   },
   {
    "duration": 82,
    "start_time": "2023-03-30T17:38:12.272Z"
   },
   {
    "duration": 190,
    "start_time": "2023-03-30T17:38:33.902Z"
   },
   {
    "duration": 183,
    "start_time": "2023-03-30T17:39:13.601Z"
   },
   {
    "duration": 192,
    "start_time": "2023-03-30T17:39:52.254Z"
   },
   {
    "duration": 206,
    "start_time": "2023-03-30T17:40:23.800Z"
   },
   {
    "duration": 187,
    "start_time": "2023-03-30T17:40:53.614Z"
   },
   {
    "duration": 174,
    "start_time": "2023-03-30T17:41:03.591Z"
   },
   {
    "duration": 76,
    "start_time": "2023-03-30T17:41:09.146Z"
   },
   {
    "duration": 74,
    "start_time": "2023-03-30T17:42:04.062Z"
   },
   {
    "duration": 15,
    "start_time": "2023-03-30T17:42:12.057Z"
   },
   {
    "duration": 248,
    "start_time": "2023-03-30T17:44:41.904Z"
   },
   {
    "duration": 272,
    "start_time": "2023-03-30T17:46:07.877Z"
   },
   {
    "duration": 294,
    "start_time": "2023-03-30T17:47:11.726Z"
   },
   {
    "duration": 76,
    "start_time": "2023-03-30T17:48:47.112Z"
   },
   {
    "duration": 292,
    "start_time": "2023-03-30T17:51:50.028Z"
   },
   {
    "duration": 268,
    "start_time": "2023-03-30T17:52:25.157Z"
   },
   {
    "duration": 296,
    "start_time": "2023-03-30T17:55:46.622Z"
   },
   {
    "duration": 295,
    "start_time": "2023-03-30T17:56:13.906Z"
   },
   {
    "duration": 288,
    "start_time": "2023-03-30T17:56:30.030Z"
   },
   {
    "duration": 293,
    "start_time": "2023-03-30T17:56:37.271Z"
   },
   {
    "duration": 273,
    "start_time": "2023-03-30T17:57:18.700Z"
   },
   {
    "duration": 274,
    "start_time": "2023-03-30T17:57:28.419Z"
   },
   {
    "duration": 288,
    "start_time": "2023-03-30T17:58:02.668Z"
   },
   {
    "duration": 306,
    "start_time": "2023-03-30T17:58:28.986Z"
   },
   {
    "duration": 295,
    "start_time": "2023-03-30T17:58:54.756Z"
   },
   {
    "duration": 289,
    "start_time": "2023-03-30T17:59:07.563Z"
   },
   {
    "duration": 79,
    "start_time": "2023-03-30T17:59:45.282Z"
   },
   {
    "duration": 3,
    "start_time": "2023-03-30T17:59:49.764Z"
   },
   {
    "duration": 359,
    "start_time": "2023-03-30T17:59:50.292Z"
   },
   {
    "duration": 275,
    "start_time": "2023-03-30T18:00:13.320Z"
   },
   {
    "duration": 294,
    "start_time": "2023-03-30T18:01:20.691Z"
   },
   {
    "duration": 277,
    "start_time": "2023-03-30T18:01:37.830Z"
   },
   {
    "duration": 316,
    "start_time": "2023-03-30T18:02:33.658Z"
   },
   {
    "duration": 276,
    "start_time": "2023-03-30T18:04:11.055Z"
   },
   {
    "duration": 303,
    "start_time": "2023-03-30T18:04:26.003Z"
   },
   {
    "duration": 276,
    "start_time": "2023-03-30T18:04:38.178Z"
   },
   {
    "duration": 288,
    "start_time": "2023-03-30T18:06:27.903Z"
   },
   {
    "duration": 96,
    "start_time": "2023-03-30T18:07:47.201Z"
   },
   {
    "duration": 98,
    "start_time": "2023-03-30T18:09:45.526Z"
   },
   {
    "duration": 70,
    "start_time": "2023-03-30T18:10:39.616Z"
   },
   {
    "duration": 71,
    "start_time": "2023-03-30T18:11:25.352Z"
   },
   {
    "duration": 67,
    "start_time": "2023-03-30T18:11:35.769Z"
   },
   {
    "duration": 76,
    "start_time": "2023-03-30T18:11:50.679Z"
   },
   {
    "duration": 288,
    "start_time": "2023-03-30T18:12:24.095Z"
   },
   {
    "duration": 84,
    "start_time": "2023-03-30T18:13:14.474Z"
   },
   {
    "duration": 269,
    "start_time": "2023-03-30T18:14:02.158Z"
   },
   {
    "duration": 269,
    "start_time": "2023-03-30T18:14:08.894Z"
   },
   {
    "duration": 79,
    "start_time": "2023-03-30T18:15:21.493Z"
   },
   {
    "duration": 75,
    "start_time": "2023-03-30T18:15:40.035Z"
   },
   {
    "duration": 100,
    "start_time": "2023-03-30T18:15:56.732Z"
   },
   {
    "duration": 24,
    "start_time": "2023-03-30T18:16:36.847Z"
   },
   {
    "duration": 74,
    "start_time": "2023-03-30T18:16:53.115Z"
   },
   {
    "duration": 280,
    "start_time": "2023-03-30T18:17:01.704Z"
   },
   {
    "duration": 80,
    "start_time": "2023-03-30T18:17:58.046Z"
   },
   {
    "duration": 78,
    "start_time": "2023-03-30T18:18:11.587Z"
   },
   {
    "duration": 310,
    "start_time": "2023-03-30T18:18:50.818Z"
   },
   {
    "duration": 72,
    "start_time": "2023-03-30T18:20:01.366Z"
   },
   {
    "duration": 2,
    "start_time": "2023-03-30T18:20:04.889Z"
   },
   {
    "duration": 274,
    "start_time": "2023-03-30T18:20:05.439Z"
   },
   {
    "duration": 133,
    "start_time": "2023-03-30T18:20:26.923Z"
   },
   {
    "duration": 266,
    "start_time": "2023-03-30T18:20:47.579Z"
   },
   {
    "duration": 299,
    "start_time": "2023-03-30T18:22:40.513Z"
   },
   {
    "duration": 92,
    "start_time": "2023-03-30T18:23:18.340Z"
   },
   {
    "duration": 2,
    "start_time": "2023-03-30T18:23:22.636Z"
   },
   {
    "duration": 295,
    "start_time": "2023-03-30T18:23:23.265Z"
   },
   {
    "duration": 315,
    "start_time": "2023-03-30T18:23:44.368Z"
   },
   {
    "duration": 337,
    "start_time": "2023-03-30T18:23:50.459Z"
   },
   {
    "duration": 5,
    "start_time": "2023-03-30T18:26:43.351Z"
   },
   {
    "duration": 10,
    "start_time": "2023-03-30T18:29:17.916Z"
   },
   {
    "duration": 11,
    "start_time": "2023-03-30T18:29:37.501Z"
   },
   {
    "duration": 167,
    "start_time": "2023-03-30T18:29:55.955Z"
   },
   {
    "duration": 170,
    "start_time": "2023-03-30T18:30:07.728Z"
   },
   {
    "duration": 166,
    "start_time": "2023-03-30T18:30:31.656Z"
   },
   {
    "duration": 195,
    "start_time": "2023-03-30T18:31:28.464Z"
   },
   {
    "duration": 241,
    "start_time": "2023-03-30T18:31:35.066Z"
   },
   {
    "duration": 196,
    "start_time": "2023-03-30T18:31:41.623Z"
   },
   {
    "duration": 190,
    "start_time": "2023-03-30T18:32:29.900Z"
   },
   {
    "duration": 227,
    "start_time": "2023-03-30T18:32:58.237Z"
   },
   {
    "duration": 375,
    "start_time": "2023-03-30T18:33:29.686Z"
   },
   {
    "duration": 183,
    "start_time": "2023-03-30T18:37:55.086Z"
   },
   {
    "duration": 14,
    "start_time": "2023-03-30T18:53:48.794Z"
   },
   {
    "duration": 18,
    "start_time": "2023-03-30T18:54:57.407Z"
   },
   {
    "duration": 27,
    "start_time": "2023-03-30T18:55:50.828Z"
   },
   {
    "duration": 17,
    "start_time": "2023-03-30T18:56:06.997Z"
   },
   {
    "duration": 19,
    "start_time": "2023-03-30T18:56:11.255Z"
   },
   {
    "duration": 23,
    "start_time": "2023-03-30T18:58:11.039Z"
   },
   {
    "duration": 14,
    "start_time": "2023-03-30T19:02:49.384Z"
   },
   {
    "duration": 1245,
    "start_time": "2023-03-31T09:57:04.372Z"
   },
   {
    "duration": 62,
    "start_time": "2023-03-31T09:57:05.619Z"
   },
   {
    "duration": 12,
    "start_time": "2023-03-31T09:57:05.683Z"
   },
   {
    "duration": 48,
    "start_time": "2023-03-31T09:57:05.697Z"
   },
   {
    "duration": 19,
    "start_time": "2023-03-31T09:57:05.747Z"
   },
   {
    "duration": 14,
    "start_time": "2023-03-31T09:57:05.768Z"
   },
   {
    "duration": 28,
    "start_time": "2023-03-31T09:57:05.783Z"
   },
   {
    "duration": 11,
    "start_time": "2023-03-31T09:57:05.826Z"
   },
   {
    "duration": 4,
    "start_time": "2023-03-31T09:57:06.000Z"
   },
   {
    "duration": 3,
    "start_time": "2023-03-31T09:57:06.742Z"
   },
   {
    "duration": 101,
    "start_time": "2023-03-31T09:57:06.965Z"
   },
   {
    "duration": 16,
    "start_time": "2023-03-31T09:57:09.783Z"
   },
   {
    "duration": 14,
    "start_time": "2023-03-31T09:57:11.643Z"
   },
   {
    "duration": 14,
    "start_time": "2023-03-31T09:57:11.942Z"
   },
   {
    "duration": 3,
    "start_time": "2023-03-31T09:57:13.583Z"
   },
   {
    "duration": 403,
    "start_time": "2023-03-31T09:57:13.881Z"
   },
   {
    "duration": 242,
    "start_time": "2023-03-31T09:57:16.231Z"
   },
   {
    "duration": 228,
    "start_time": "2023-03-31T09:57:32.515Z"
   },
   {
    "duration": 243,
    "start_time": "2023-03-31T09:58:28.564Z"
   },
   {
    "duration": 228,
    "start_time": "2023-03-31T10:01:42.255Z"
   },
   {
    "duration": 268,
    "start_time": "2023-03-31T10:02:02.866Z"
   },
   {
    "duration": 141,
    "start_time": "2023-03-31T10:03:27.305Z"
   },
   {
    "duration": 11,
    "start_time": "2023-03-31T10:03:41.446Z"
   },
   {
    "duration": 10,
    "start_time": "2023-03-31T10:04:34.174Z"
   },
   {
    "duration": 16,
    "start_time": "2023-03-31T10:06:57.785Z"
   },
   {
    "duration": 11,
    "start_time": "2023-03-31T10:11:09.709Z"
   },
   {
    "duration": 21,
    "start_time": "2023-03-31T10:11:35.074Z"
   },
   {
    "duration": 4279,
    "start_time": "2023-03-31T10:11:50.605Z"
   },
   {
    "duration": 4371,
    "start_time": "2023-03-31T10:12:23.022Z"
   },
   {
    "duration": 856,
    "start_time": "2023-03-31T10:12:47.052Z"
   },
   {
    "duration": 4612,
    "start_time": "2023-03-31T10:13:21.754Z"
   },
   {
    "duration": 4176,
    "start_time": "2023-03-31T10:13:44.162Z"
   },
   {
    "duration": 431,
    "start_time": "2023-03-31T10:14:31.323Z"
   },
   {
    "duration": 432,
    "start_time": "2023-03-31T10:14:46.124Z"
   },
   {
    "duration": 448,
    "start_time": "2023-03-31T10:15:02.308Z"
   },
   {
    "duration": 31,
    "start_time": "2023-03-31T10:16:13.262Z"
   },
   {
    "duration": 32,
    "start_time": "2023-03-31T10:16:30.874Z"
   },
   {
    "duration": 29,
    "start_time": "2023-03-31T10:16:50.779Z"
   },
   {
    "duration": 42,
    "start_time": "2023-03-31T10:17:12.579Z"
   },
   {
    "duration": 38,
    "start_time": "2023-03-31T10:18:15.484Z"
   },
   {
    "duration": 31,
    "start_time": "2023-03-31T10:18:36.187Z"
   },
   {
    "duration": 27,
    "start_time": "2023-03-31T10:18:47.811Z"
   },
   {
    "duration": 28,
    "start_time": "2023-03-31T10:19:15.712Z"
   },
   {
    "duration": 29,
    "start_time": "2023-03-31T10:19:27.026Z"
   },
   {
    "duration": 73,
    "start_time": "2023-03-31T10:24:33.177Z"
   },
   {
    "duration": 14,
    "start_time": "2023-03-31T10:25:08.270Z"
   },
   {
    "duration": 13,
    "start_time": "2023-03-31T10:25:22.356Z"
   },
   {
    "duration": 19,
    "start_time": "2023-03-31T10:25:28.059Z"
   },
   {
    "duration": 285,
    "start_time": "2023-03-31T10:26:08.254Z"
   },
   {
    "duration": 889,
    "start_time": "2023-03-31T10:27:10.214Z"
   },
   {
    "duration": 281,
    "start_time": "2023-03-31T10:27:17.630Z"
   },
   {
    "duration": 46,
    "start_time": "2023-03-31T10:29:16.946Z"
   },
   {
    "duration": 67,
    "start_time": "2023-03-31T10:29:56.771Z"
   },
   {
    "duration": 67,
    "start_time": "2023-03-31T10:30:09.039Z"
   },
   {
    "duration": 47,
    "start_time": "2023-03-31T10:30:46.399Z"
   },
   {
    "duration": 309,
    "start_time": "2023-03-31T10:31:01.477Z"
   },
   {
    "duration": 61,
    "start_time": "2023-03-31T10:31:05.871Z"
   },
   {
    "duration": 15,
    "start_time": "2023-03-31T10:33:07.294Z"
   },
   {
    "duration": 64,
    "start_time": "2023-03-31T10:33:16.752Z"
   },
   {
    "duration": 42,
    "start_time": "2023-03-31T10:33:39.702Z"
   },
   {
    "duration": 61,
    "start_time": "2023-03-31T10:34:27.206Z"
   },
   {
    "duration": 11,
    "start_time": "2023-03-31T10:36:38.616Z"
   },
   {
    "duration": 16,
    "start_time": "2023-03-31T10:37:33.999Z"
   },
   {
    "duration": 56,
    "start_time": "2023-03-31T10:38:31.963Z"
   },
   {
    "duration": 48,
    "start_time": "2023-03-31T10:38:40.684Z"
   },
   {
    "duration": 58,
    "start_time": "2023-03-31T10:38:53.506Z"
   },
   {
    "duration": 59,
    "start_time": "2023-03-31T10:38:59.504Z"
   },
   {
    "duration": 43,
    "start_time": "2023-03-31T10:39:04.381Z"
   },
   {
    "duration": 45,
    "start_time": "2023-03-31T10:39:07.282Z"
   },
   {
    "duration": 57,
    "start_time": "2023-03-31T10:39:10.207Z"
   },
   {
    "duration": 44,
    "start_time": "2023-03-31T10:39:16.625Z"
   },
   {
    "duration": 47,
    "start_time": "2023-03-31T10:39:25.168Z"
   },
   {
    "duration": 44,
    "start_time": "2023-03-31T10:39:30.790Z"
   },
   {
    "duration": 50,
    "start_time": "2023-03-31T10:39:43.776Z"
   },
   {
    "duration": 287,
    "start_time": "2023-03-31T10:39:48.387Z"
   },
   {
    "duration": 13,
    "start_time": "2023-03-31T10:39:57.355Z"
   },
   {
    "duration": 12,
    "start_time": "2023-03-31T10:40:02.302Z"
   },
   {
    "duration": 14,
    "start_time": "2023-03-31T10:40:05.846Z"
   },
   {
    "duration": 77,
    "start_time": "2023-03-31T10:40:10.905Z"
   },
   {
    "duration": 79,
    "start_time": "2023-03-31T10:41:12.089Z"
   },
   {
    "duration": 14,
    "start_time": "2023-03-31T10:41:16.386Z"
   },
   {
    "duration": 12,
    "start_time": "2023-03-31T10:41:19.112Z"
   },
   {
    "duration": 13,
    "start_time": "2023-03-31T10:41:22.544Z"
   },
   {
    "duration": 3,
    "start_time": "2023-03-31T10:41:23.286Z"
   },
   {
    "duration": 266,
    "start_time": "2023-03-31T10:41:24.376Z"
   },
   {
    "duration": 53,
    "start_time": "2023-03-31T10:41:48.911Z"
   },
   {
    "duration": 54,
    "start_time": "2023-03-31T10:41:49.482Z"
   },
   {
    "duration": 56,
    "start_time": "2023-03-31T10:41:49.918Z"
   },
   {
    "duration": 88,
    "start_time": "2023-03-31T10:42:08.515Z"
   },
   {
    "duration": 16,
    "start_time": "2023-03-31T10:42:39.746Z"
   },
   {
    "duration": 13,
    "start_time": "2023-03-31T10:42:52.785Z"
   },
   {
    "duration": 13,
    "start_time": "2023-03-31T10:42:53.209Z"
   },
   {
    "duration": 13,
    "start_time": "2023-03-31T10:42:53.842Z"
   },
   {
    "duration": 14,
    "start_time": "2023-03-31T10:42:57.880Z"
   },
   {
    "duration": 13,
    "start_time": "2023-03-31T10:43:14.787Z"
   },
   {
    "duration": 18,
    "start_time": "2023-03-31T10:43:30.072Z"
   },
   {
    "duration": 16,
    "start_time": "2023-03-31T10:43:32.348Z"
   },
   {
    "duration": 16,
    "start_time": "2023-03-31T10:43:40.193Z"
   },
   {
    "duration": 44,
    "start_time": "2023-03-31T10:44:06.399Z"
   },
   {
    "duration": 45,
    "start_time": "2023-03-31T10:44:29.967Z"
   },
   {
    "duration": 47,
    "start_time": "2023-03-31T10:44:41.541Z"
   },
   {
    "duration": 49,
    "start_time": "2023-03-31T10:44:47.866Z"
   },
   {
    "duration": 55,
    "start_time": "2023-03-31T10:44:54.027Z"
   },
   {
    "duration": 41,
    "start_time": "2023-03-31T10:45:02.792Z"
   },
   {
    "duration": 13,
    "start_time": "2023-03-31T10:45:12.223Z"
   },
   {
    "duration": 13,
    "start_time": "2023-03-31T10:45:16.550Z"
   },
   {
    "duration": 14,
    "start_time": "2023-03-31T10:45:20.857Z"
   },
   {
    "duration": 3,
    "start_time": "2023-03-31T10:45:27.190Z"
   },
   {
    "duration": 273,
    "start_time": "2023-03-31T10:45:28.098Z"
   },
   {
    "duration": 54,
    "start_time": "2023-03-31T10:45:28.374Z"
   },
   {
    "duration": 51,
    "start_time": "2023-03-31T10:45:28.884Z"
   },
   {
    "duration": 39,
    "start_time": "2023-03-31T10:45:29.451Z"
   },
   {
    "duration": 84,
    "start_time": "2023-03-31T10:49:02.188Z"
   },
   {
    "duration": 13,
    "start_time": "2023-03-31T10:49:15.151Z"
   },
   {
    "duration": 17,
    "start_time": "2023-03-31T10:49:16.002Z"
   },
   {
    "duration": 12,
    "start_time": "2023-03-31T10:49:17.191Z"
   },
   {
    "duration": 299,
    "start_time": "2023-03-31T10:49:22.359Z"
   },
   {
    "duration": 47,
    "start_time": "2023-03-31T10:49:29.726Z"
   },
   {
    "duration": 69,
    "start_time": "2023-03-31T10:49:36.114Z"
   },
   {
    "duration": 51,
    "start_time": "2023-03-31T10:49:36.368Z"
   },
   {
    "duration": 266,
    "start_time": "2023-03-31T10:50:54.372Z"
   },
   {
    "duration": 11,
    "start_time": "2023-03-31T10:51:28.651Z"
   },
   {
    "duration": 42,
    "start_time": "2023-03-31T10:51:35.867Z"
   },
   {
    "duration": 318,
    "start_time": "2023-03-31T10:54:15.391Z"
   },
   {
    "duration": 4382,
    "start_time": "2023-03-31T10:54:51.811Z"
   },
   {
    "duration": 4070,
    "start_time": "2023-03-31T10:56:21.477Z"
   },
   {
    "duration": 4156,
    "start_time": "2023-03-31T10:56:50.660Z"
   },
   {
    "duration": 289,
    "start_time": "2023-03-31T10:56:56.823Z"
   },
   {
    "duration": 4230,
    "start_time": "2023-03-31T10:57:51.332Z"
   },
   {
    "duration": 298,
    "start_time": "2023-03-31T10:59:17.315Z"
   },
   {
    "duration": 49,
    "start_time": "2023-03-31T10:59:47.617Z"
   },
   {
    "duration": 78,
    "start_time": "2023-03-31T11:01:26.592Z"
   },
   {
    "duration": 12,
    "start_time": "2023-03-31T11:01:42.680Z"
   },
   {
    "duration": 9,
    "start_time": "2023-03-31T11:02:50.051Z"
   },
   {
    "duration": 10,
    "start_time": "2023-03-31T11:02:55.224Z"
   },
   {
    "duration": 11,
    "start_time": "2023-03-31T11:02:57.647Z"
   },
   {
    "duration": 17,
    "start_time": "2023-03-31T11:03:00.263Z"
   },
   {
    "duration": 16,
    "start_time": "2023-03-31T11:03:01.619Z"
   },
   {
    "duration": 16,
    "start_time": "2023-03-31T11:03:25.659Z"
   },
   {
    "duration": 291,
    "start_time": "2023-03-31T11:03:27.376Z"
   },
   {
    "duration": 280,
    "start_time": "2023-03-31T11:06:05.731Z"
   },
   {
    "duration": 46,
    "start_time": "2023-03-31T11:06:12.866Z"
   },
   {
    "duration": 42,
    "start_time": "2023-03-31T11:06:13.752Z"
   },
   {
    "duration": 12,
    "start_time": "2023-03-31T11:08:48.630Z"
   },
   {
    "duration": 4,
    "start_time": "2023-03-31T11:09:02.659Z"
   },
   {
    "duration": 24,
    "start_time": "2023-03-31T11:09:16.870Z"
   },
   {
    "duration": 4,
    "start_time": "2023-03-31T11:11:25.967Z"
   },
   {
    "duration": 9,
    "start_time": "2023-03-31T11:11:33.882Z"
   },
   {
    "duration": 9,
    "start_time": "2023-03-31T11:11:38.287Z"
   },
   {
    "duration": 10,
    "start_time": "2023-03-31T11:12:53.797Z"
   },
   {
    "duration": 25,
    "start_time": "2023-03-31T11:13:39.148Z"
   },
   {
    "duration": 25,
    "start_time": "2023-03-31T11:15:23.356Z"
   },
   {
    "duration": 27,
    "start_time": "2023-03-31T11:15:53.864Z"
   },
   {
    "duration": 25,
    "start_time": "2023-03-31T11:18:10.782Z"
   },
   {
    "duration": 50,
    "start_time": "2023-03-31T11:19:16.920Z"
   },
   {
    "duration": 47,
    "start_time": "2023-03-31T11:19:24.847Z"
   },
   {
    "duration": 291,
    "start_time": "2023-03-31T11:19:30.584Z"
   },
   {
    "duration": 51,
    "start_time": "2023-03-31T11:19:31.211Z"
   },
   {
    "duration": 42,
    "start_time": "2023-03-31T11:19:32.304Z"
   },
   {
    "duration": 20,
    "start_time": "2023-03-31T11:27:58.612Z"
   },
   {
    "duration": 15,
    "start_time": "2023-03-31T11:28:09.305Z"
   },
   {
    "duration": 11,
    "start_time": "2023-03-31T11:28:50.999Z"
   },
   {
    "duration": 9,
    "start_time": "2023-03-31T11:29:35.244Z"
   },
   {
    "duration": 18,
    "start_time": "2023-03-31T11:29:42.359Z"
   },
   {
    "duration": 17,
    "start_time": "2023-03-31T11:29:43.377Z"
   },
   {
    "duration": 14,
    "start_time": "2023-03-31T11:30:06.877Z"
   },
   {
    "duration": 13,
    "start_time": "2023-03-31T11:30:19.259Z"
   },
   {
    "duration": 10,
    "start_time": "2023-03-31T11:30:29.484Z"
   },
   {
    "duration": 15,
    "start_time": "2023-03-31T11:30:35.247Z"
   },
   {
    "duration": 14,
    "start_time": "2023-03-31T11:30:35.608Z"
   },
   {
    "duration": 287,
    "start_time": "2023-03-31T11:30:36.981Z"
   },
   {
    "duration": 15,
    "start_time": "2023-03-31T11:30:55.760Z"
   },
   {
    "duration": 14,
    "start_time": "2023-03-31T11:32:48.141Z"
   },
   {
    "duration": 16,
    "start_time": "2023-03-31T11:33:35.349Z"
   },
   {
    "duration": 9,
    "start_time": "2023-03-31T11:42:29.822Z"
   },
   {
    "duration": 9,
    "start_time": "2023-03-31T11:42:31.689Z"
   },
   {
    "duration": 13,
    "start_time": "2023-03-31T11:42:47.057Z"
   },
   {
    "duration": 13,
    "start_time": "2023-03-31T11:42:48.635Z"
   },
   {
    "duration": 277,
    "start_time": "2023-03-31T11:43:24.357Z"
   },
   {
    "duration": 47,
    "start_time": "2023-03-31T11:43:49.850Z"
   },
   {
    "duration": 43,
    "start_time": "2023-03-31T11:53:08.961Z"
   },
   {
    "duration": 83,
    "start_time": "2023-03-31T11:56:27.901Z"
   },
   {
    "duration": 38,
    "start_time": "2023-03-31T11:57:59.062Z"
   },
   {
    "duration": 43,
    "start_time": "2023-03-31T11:58:02.764Z"
   },
   {
    "duration": 54,
    "start_time": "2023-03-31T11:58:03.983Z"
   },
   {
    "duration": 41,
    "start_time": "2023-03-31T11:58:51.952Z"
   },
   {
    "duration": 283,
    "start_time": "2023-03-31T11:58:58.872Z"
   },
   {
    "duration": 50,
    "start_time": "2023-03-31T11:59:00.747Z"
   },
   {
    "duration": 43,
    "start_time": "2023-03-31T11:59:02.620Z"
   },
   {
    "duration": 30,
    "start_time": "2023-03-31T12:02:54.995Z"
   },
   {
    "duration": 14,
    "start_time": "2023-03-31T12:02:57.968Z"
   },
   {
    "duration": 27,
    "start_time": "2023-03-31T12:03:03.238Z"
   },
   {
    "duration": 15,
    "start_time": "2023-03-31T12:03:06.623Z"
   },
   {
    "duration": 48,
    "start_time": "2023-03-31T12:30:44.786Z"
   },
   {
    "duration": 44,
    "start_time": "2023-03-31T12:30:55.846Z"
   },
   {
    "duration": 11,
    "start_time": "2023-03-31T12:33:50.475Z"
   },
   {
    "duration": 10,
    "start_time": "2023-03-31T12:34:06.111Z"
   },
   {
    "duration": 9,
    "start_time": "2023-03-31T12:35:23.320Z"
   },
   {
    "duration": 8,
    "start_time": "2023-03-31T12:36:08.355Z"
   },
   {
    "duration": 1248,
    "start_time": "2023-03-31T19:47:20.885Z"
   },
   {
    "duration": 87,
    "start_time": "2023-03-31T19:47:22.134Z"
   },
   {
    "duration": 12,
    "start_time": "2023-03-31T19:47:28.642Z"
   },
   {
    "duration": 23,
    "start_time": "2023-03-31T19:47:29.125Z"
   },
   {
    "duration": 8,
    "start_time": "2023-03-31T19:47:29.922Z"
   },
   {
    "duration": 6,
    "start_time": "2023-03-31T19:47:30.179Z"
   },
   {
    "duration": 4,
    "start_time": "2023-03-31T19:47:30.455Z"
   },
   {
    "duration": 6,
    "start_time": "2023-03-31T19:47:30.630Z"
   },
   {
    "duration": 5,
    "start_time": "2023-03-31T19:47:30.842Z"
   },
   {
    "duration": 92,
    "start_time": "2023-03-31T19:47:31.835Z"
   },
   {
    "duration": 11,
    "start_time": "2023-03-31T19:47:32.045Z"
   },
   {
    "duration": 14,
    "start_time": "2023-03-31T19:47:32.424Z"
   },
   {
    "duration": 12,
    "start_time": "2023-03-31T19:47:32.838Z"
   },
   {
    "duration": 285,
    "start_time": "2023-03-31T19:47:46.495Z"
   },
   {
    "duration": 46,
    "start_time": "2023-03-31T19:47:49.869Z"
   },
   {
    "duration": 49,
    "start_time": "2023-03-31T19:47:53.685Z"
   },
   {
    "duration": 29,
    "start_time": "2023-03-31T19:48:05.421Z"
   },
   {
    "duration": 21,
    "start_time": "2023-03-31T19:48:11.463Z"
   },
   {
    "duration": 4,
    "start_time": "2023-03-31T19:50:12.015Z"
   },
   {
    "duration": 183,
    "start_time": "2023-03-31T20:02:10.157Z"
   },
   {
    "duration": 6,
    "start_time": "2023-03-31T20:02:19.298Z"
   },
   {
    "duration": 20,
    "start_time": "2023-03-31T20:02:19.787Z"
   },
   {
    "duration": 6,
    "start_time": "2023-03-31T20:09:08.127Z"
   },
   {
    "duration": 6,
    "start_time": "2023-03-31T20:10:33.830Z"
   },
   {
    "duration": 6,
    "start_time": "2023-03-31T20:10:38.037Z"
   },
   {
    "duration": 8,
    "start_time": "2023-03-31T20:10:43.458Z"
   },
   {
    "duration": 14,
    "start_time": "2023-03-31T20:40:52.780Z"
   },
   {
    "duration": 3,
    "start_time": "2023-03-31T20:41:16.236Z"
   },
   {
    "duration": 25,
    "start_time": "2023-03-31T20:41:16.700Z"
   },
   {
    "duration": 11,
    "start_time": "2023-03-31T20:41:16.999Z"
   },
   {
    "duration": 12,
    "start_time": "2023-03-31T20:41:17.219Z"
   },
   {
    "duration": 6,
    "start_time": "2023-03-31T20:41:17.731Z"
   },
   {
    "duration": 5,
    "start_time": "2023-03-31T20:41:17.878Z"
   },
   {
    "duration": 4,
    "start_time": "2023-03-31T20:41:18.035Z"
   },
   {
    "duration": 4,
    "start_time": "2023-03-31T20:41:18.201Z"
   },
   {
    "duration": 5,
    "start_time": "2023-03-31T20:41:18.374Z"
   },
   {
    "duration": 80,
    "start_time": "2023-03-31T20:41:19.210Z"
   },
   {
    "duration": 9,
    "start_time": "2023-03-31T20:41:19.376Z"
   },
   {
    "duration": 14,
    "start_time": "2023-03-31T20:41:19.709Z"
   },
   {
    "duration": 14,
    "start_time": "2023-03-31T20:41:20.036Z"
   },
   {
    "duration": 292,
    "start_time": "2023-03-31T20:41:20.711Z"
   },
   {
    "duration": 68,
    "start_time": "2023-03-31T20:41:21.005Z"
   },
   {
    "duration": 42,
    "start_time": "2023-03-31T20:41:21.209Z"
   },
   {
    "duration": 34,
    "start_time": "2023-03-31T20:41:22.229Z"
   },
   {
    "duration": 14,
    "start_time": "2023-03-31T20:41:22.932Z"
   },
   {
    "duration": 3,
    "start_time": "2023-03-31T20:41:40.411Z"
   },
   {
    "duration": 5,
    "start_time": "2023-03-31T20:41:40.996Z"
   },
   {
    "duration": 14,
    "start_time": "2023-03-31T20:42:42.528Z"
   },
   {
    "duration": 10,
    "start_time": "2023-03-31T20:43:50.158Z"
   },
   {
    "duration": 24,
    "start_time": "2023-03-31T20:43:58.149Z"
   },
   {
    "duration": 14,
    "start_time": "2023-03-31T20:44:07.807Z"
   },
   {
    "duration": 14,
    "start_time": "2023-03-31T20:44:16.430Z"
   },
   {
    "duration": 47,
    "start_time": "2023-03-31T20:44:46.295Z"
   },
   {
    "duration": 48,
    "start_time": "2023-03-31T20:44:54.341Z"
   },
   {
    "duration": 5,
    "start_time": "2023-03-31T20:45:19.900Z"
   },
   {
    "duration": 38,
    "start_time": "2023-03-31T20:46:04.142Z"
   },
   {
    "duration": 25,
    "start_time": "2023-03-31T20:46:26.420Z"
   },
   {
    "duration": 37,
    "start_time": "2023-03-31T20:46:43.384Z"
   },
   {
    "duration": 26,
    "start_time": "2023-03-31T20:46:49.447Z"
   },
   {
    "duration": 14,
    "start_time": "2023-03-31T20:47:58.356Z"
   },
   {
    "duration": 2,
    "start_time": "2023-03-31T20:48:09.579Z"
   },
   {
    "duration": 6,
    "start_time": "2023-03-31T20:48:09.829Z"
   },
   {
    "duration": 2858,
    "start_time": "2023-03-31T21:25:44.111Z"
   },
   {
    "duration": 63,
    "start_time": "2023-03-31T21:25:46.971Z"
   },
   {
    "duration": 11,
    "start_time": "2023-03-31T21:25:47.036Z"
   },
   {
    "duration": 16,
    "start_time": "2023-03-31T21:25:47.049Z"
   },
   {
    "duration": 7,
    "start_time": "2023-03-31T21:25:47.067Z"
   },
   {
    "duration": 4,
    "start_time": "2023-03-31T21:25:47.075Z"
   },
   {
    "duration": 4,
    "start_time": "2023-03-31T21:25:47.081Z"
   },
   {
    "duration": 6,
    "start_time": "2023-03-31T21:25:47.086Z"
   },
   {
    "duration": 7,
    "start_time": "2023-03-31T21:25:47.093Z"
   },
   {
    "duration": 104,
    "start_time": "2023-03-31T21:25:47.102Z"
   },
   {
    "duration": 11,
    "start_time": "2023-03-31T21:25:47.208Z"
   },
   {
    "duration": 31,
    "start_time": "2023-03-31T21:25:47.220Z"
   },
   {
    "duration": 19,
    "start_time": "2023-03-31T21:25:47.253Z"
   },
   {
    "duration": 294,
    "start_time": "2023-03-31T21:25:47.274Z"
   },
   {
    "duration": 44,
    "start_time": "2023-03-31T21:25:47.570Z"
   },
   {
    "duration": 68,
    "start_time": "2023-03-31T21:25:47.616Z"
   },
   {
    "duration": 24,
    "start_time": "2023-03-31T21:25:47.685Z"
   },
   {
    "duration": 30,
    "start_time": "2023-03-31T21:25:47.710Z"
   },
   {
    "duration": 2,
    "start_time": "2023-03-31T21:25:47.742Z"
   },
   {
    "duration": 12,
    "start_time": "2023-03-31T21:25:47.746Z"
   },
   {
    "duration": 118,
    "start_time": "2023-03-31T23:58:13.760Z"
   },
   {
    "duration": 110,
    "start_time": "2023-04-01T09:40:53.570Z"
   }
  ],
  "kernelspec": {
   "display_name": "Python 3 (ipykernel)",
   "language": "python",
   "name": "python3"
  },
  "language_info": {
   "codemirror_mode": {
    "name": "ipython",
    "version": 3
   },
   "file_extension": ".py",
   "mimetype": "text/x-python",
   "name": "python",
   "nbconvert_exporter": "python",
   "pygments_lexer": "ipython3",
   "version": "3.9.12"
  },
  "toc": {
   "base_numbering": 1,
   "nav_menu": {},
   "number_sections": true,
   "sideBar": true,
   "skip_h1_title": true,
   "title_cell": "Table of Contents",
   "title_sidebar": "Contents",
   "toc_cell": false,
   "toc_position": {},
   "toc_section_display": true,
   "toc_window_display": false
  }
 },
 "nbformat": 4,
 "nbformat_minor": 2
}
