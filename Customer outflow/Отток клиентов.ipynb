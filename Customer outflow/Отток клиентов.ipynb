{
 "cells": [
  {
   "cell_type": "markdown",
   "metadata": {
    "toc": true
   },
   "source": [
    "<h1>Содержание<span class=\"tocSkip\"></span></h1>\n",
    "<div class=\"toc\"><ul class=\"toc-item\"><li><span><a href=\"#Подготовка-данных\" data-toc-modified-id=\"Подготовка-данных-1\"><span class=\"toc-item-num\">1&nbsp;&nbsp;</span>Подготовка данных</a></span></li><li><span><a href=\"#Исследование-задачи\" data-toc-modified-id=\"Исследование-задачи-2\"><span class=\"toc-item-num\">2&nbsp;&nbsp;</span>Исследование задачи</a></span></li><li><span><a href=\"#Борьба-с-дисбалансом\" data-toc-modified-id=\"Борьба-с-дисбалансом-3\"><span class=\"toc-item-num\">3&nbsp;&nbsp;</span>Борьба с дисбалансом</a></span></li><li><span><a href=\"#Тестирование-модели\" data-toc-modified-id=\"Тестирование-модели-4\"><span class=\"toc-item-num\">4&nbsp;&nbsp;</span>Тестирование модели</a></span></li><li><span><a href=\"#Чек-лист-готовности-проекта\" data-toc-modified-id=\"Чек-лист-готовности-проекта-5\"><span class=\"toc-item-num\">5&nbsp;&nbsp;</span>Чек-лист готовности проекта</a></span></li></ul></div>"
   ]
  },
  {
   "cell_type": "markdown",
   "metadata": {},
   "source": [
    "# Отток клиентов"
   ]
  },
  {
   "cell_type": "markdown",
   "metadata": {},
   "source": [
    "Из «Бета-Банка» стали уходить клиенты. Каждый месяц. Немного, но заметно. Банковские маркетологи посчитали: сохранять текущих клиентов дешевле, чем привлекать новых.\n",
    "\n",
    "Нужно спрогнозировать, уйдёт клиент из банка в ближайшее время или нет. Вам предоставлены исторические данные о поведении клиентов и расторжении договоров с банком. \n",
    "\n",
    "Постройте модель с предельно большим значением *F1*-меры. Чтобы сдать проект успешно, нужно довести метрику до 0.59. Проверьте *F1*-меру на тестовой выборке самостоятельно.\n",
    "\n",
    "Дополнительно измеряйте *AUC-ROC*, сравнивайте её значение с *F1*-мерой.\n",
    "\n",
    "Источник данных: [https://www.kaggle.com/barelydedicated/bank-customer-churn-modeling](https://www.kaggle.com/barelydedicated/bank-customer-churn-modeling)"
   ]
  },
  {
   "cell_type": "markdown",
   "metadata": {},
   "source": [
    "## Подготовка данных"
   ]
  },
  {
   "cell_type": "code",
   "execution_count": 1,
   "metadata": {},
   "outputs": [],
   "source": [
    "import pandas as pd\n",
    "import numpy as np\n",
    "\n",
    "import seaborn as sns\n",
    "import matplotlib.pyplot as plt\n",
    "\n",
    "from sklearn.model_selection import train_test_split\n",
    "from sklearn.preprocessing import StandardScaler \n",
    "\n",
    "from sklearn.tree import DecisionTreeClassifier\n",
    "from sklearn.ensemble import RandomForestClassifier \n",
    "from sklearn.linear_model import LogisticRegression\n",
    "\n",
    "from sklearn.metrics import accuracy_score\n",
    "from sklearn.utils import shuffle\n",
    "\n",
    "from sklearn.dummy import DummyClassifier\n",
    "from sklearn.preprocessing import OneHotEncoder\n",
    "from sklearn.metrics import confusion_matrix\n",
    "\n",
    "from sklearn.metrics import f1_score\n",
    "from sklearn.metrics import recall_score\n",
    "from sklearn.metrics import precision_score\n",
    "from sklearn.metrics import precision_recall_curve\n",
    "from sklearn.metrics import roc_curve \n",
    "from sklearn.metrics import roc_auc_score"
   ]
  },
  {
   "cell_type": "code",
   "execution_count": 2,
   "metadata": {},
   "outputs": [],
   "source": [
    "data = pd.read_csv('/datasets/Churn.csv')"
   ]
  },
  {
   "cell_type": "code",
   "execution_count": 3,
   "metadata": {
    "scrolled": true
   },
   "outputs": [
    {
     "data": {
      "text/html": [
       "<div>\n",
       "<style scoped>\n",
       "    .dataframe tbody tr th:only-of-type {\n",
       "        vertical-align: middle;\n",
       "    }\n",
       "\n",
       "    .dataframe tbody tr th {\n",
       "        vertical-align: top;\n",
       "    }\n",
       "\n",
       "    .dataframe thead th {\n",
       "        text-align: right;\n",
       "    }\n",
       "</style>\n",
       "<table border=\"1\" class=\"dataframe\">\n",
       "  <thead>\n",
       "    <tr style=\"text-align: right;\">\n",
       "      <th></th>\n",
       "      <th>RowNumber</th>\n",
       "      <th>CustomerId</th>\n",
       "      <th>Surname</th>\n",
       "      <th>CreditScore</th>\n",
       "      <th>Geography</th>\n",
       "      <th>Gender</th>\n",
       "      <th>Age</th>\n",
       "      <th>Tenure</th>\n",
       "      <th>Balance</th>\n",
       "      <th>NumOfProducts</th>\n",
       "      <th>HasCrCard</th>\n",
       "      <th>IsActiveMember</th>\n",
       "      <th>EstimatedSalary</th>\n",
       "      <th>Exited</th>\n",
       "    </tr>\n",
       "  </thead>\n",
       "  <tbody>\n",
       "    <tr>\n",
       "      <th>0</th>\n",
       "      <td>1</td>\n",
       "      <td>15634602</td>\n",
       "      <td>Hargrave</td>\n",
       "      <td>619</td>\n",
       "      <td>France</td>\n",
       "      <td>Female</td>\n",
       "      <td>42</td>\n",
       "      <td>2.0</td>\n",
       "      <td>0.00</td>\n",
       "      <td>1</td>\n",
       "      <td>1</td>\n",
       "      <td>1</td>\n",
       "      <td>101348.88</td>\n",
       "      <td>1</td>\n",
       "    </tr>\n",
       "    <tr>\n",
       "      <th>1</th>\n",
       "      <td>2</td>\n",
       "      <td>15647311</td>\n",
       "      <td>Hill</td>\n",
       "      <td>608</td>\n",
       "      <td>Spain</td>\n",
       "      <td>Female</td>\n",
       "      <td>41</td>\n",
       "      <td>1.0</td>\n",
       "      <td>83807.86</td>\n",
       "      <td>1</td>\n",
       "      <td>0</td>\n",
       "      <td>1</td>\n",
       "      <td>112542.58</td>\n",
       "      <td>0</td>\n",
       "    </tr>\n",
       "    <tr>\n",
       "      <th>2</th>\n",
       "      <td>3</td>\n",
       "      <td>15619304</td>\n",
       "      <td>Onio</td>\n",
       "      <td>502</td>\n",
       "      <td>France</td>\n",
       "      <td>Female</td>\n",
       "      <td>42</td>\n",
       "      <td>8.0</td>\n",
       "      <td>159660.80</td>\n",
       "      <td>3</td>\n",
       "      <td>1</td>\n",
       "      <td>0</td>\n",
       "      <td>113931.57</td>\n",
       "      <td>1</td>\n",
       "    </tr>\n",
       "    <tr>\n",
       "      <th>3</th>\n",
       "      <td>4</td>\n",
       "      <td>15701354</td>\n",
       "      <td>Boni</td>\n",
       "      <td>699</td>\n",
       "      <td>France</td>\n",
       "      <td>Female</td>\n",
       "      <td>39</td>\n",
       "      <td>1.0</td>\n",
       "      <td>0.00</td>\n",
       "      <td>2</td>\n",
       "      <td>0</td>\n",
       "      <td>0</td>\n",
       "      <td>93826.63</td>\n",
       "      <td>0</td>\n",
       "    </tr>\n",
       "    <tr>\n",
       "      <th>4</th>\n",
       "      <td>5</td>\n",
       "      <td>15737888</td>\n",
       "      <td>Mitchell</td>\n",
       "      <td>850</td>\n",
       "      <td>Spain</td>\n",
       "      <td>Female</td>\n",
       "      <td>43</td>\n",
       "      <td>2.0</td>\n",
       "      <td>125510.82</td>\n",
       "      <td>1</td>\n",
       "      <td>1</td>\n",
       "      <td>1</td>\n",
       "      <td>79084.10</td>\n",
       "      <td>0</td>\n",
       "    </tr>\n",
       "    <tr>\n",
       "      <th>5</th>\n",
       "      <td>6</td>\n",
       "      <td>15574012</td>\n",
       "      <td>Chu</td>\n",
       "      <td>645</td>\n",
       "      <td>Spain</td>\n",
       "      <td>Male</td>\n",
       "      <td>44</td>\n",
       "      <td>8.0</td>\n",
       "      <td>113755.78</td>\n",
       "      <td>2</td>\n",
       "      <td>1</td>\n",
       "      <td>0</td>\n",
       "      <td>149756.71</td>\n",
       "      <td>1</td>\n",
       "    </tr>\n",
       "    <tr>\n",
       "      <th>6</th>\n",
       "      <td>7</td>\n",
       "      <td>15592531</td>\n",
       "      <td>Bartlett</td>\n",
       "      <td>822</td>\n",
       "      <td>France</td>\n",
       "      <td>Male</td>\n",
       "      <td>50</td>\n",
       "      <td>7.0</td>\n",
       "      <td>0.00</td>\n",
       "      <td>2</td>\n",
       "      <td>1</td>\n",
       "      <td>1</td>\n",
       "      <td>10062.80</td>\n",
       "      <td>0</td>\n",
       "    </tr>\n",
       "    <tr>\n",
       "      <th>7</th>\n",
       "      <td>8</td>\n",
       "      <td>15656148</td>\n",
       "      <td>Obinna</td>\n",
       "      <td>376</td>\n",
       "      <td>Germany</td>\n",
       "      <td>Female</td>\n",
       "      <td>29</td>\n",
       "      <td>4.0</td>\n",
       "      <td>115046.74</td>\n",
       "      <td>4</td>\n",
       "      <td>1</td>\n",
       "      <td>0</td>\n",
       "      <td>119346.88</td>\n",
       "      <td>1</td>\n",
       "    </tr>\n",
       "    <tr>\n",
       "      <th>8</th>\n",
       "      <td>9</td>\n",
       "      <td>15792365</td>\n",
       "      <td>He</td>\n",
       "      <td>501</td>\n",
       "      <td>France</td>\n",
       "      <td>Male</td>\n",
       "      <td>44</td>\n",
       "      <td>4.0</td>\n",
       "      <td>142051.07</td>\n",
       "      <td>2</td>\n",
       "      <td>0</td>\n",
       "      <td>1</td>\n",
       "      <td>74940.50</td>\n",
       "      <td>0</td>\n",
       "    </tr>\n",
       "    <tr>\n",
       "      <th>9</th>\n",
       "      <td>10</td>\n",
       "      <td>15592389</td>\n",
       "      <td>H?</td>\n",
       "      <td>684</td>\n",
       "      <td>France</td>\n",
       "      <td>Male</td>\n",
       "      <td>27</td>\n",
       "      <td>2.0</td>\n",
       "      <td>134603.88</td>\n",
       "      <td>1</td>\n",
       "      <td>1</td>\n",
       "      <td>1</td>\n",
       "      <td>71725.73</td>\n",
       "      <td>0</td>\n",
       "    </tr>\n",
       "  </tbody>\n",
       "</table>\n",
       "</div>"
      ],
      "text/plain": [
       "   RowNumber  CustomerId   Surname  CreditScore Geography  Gender  Age  \\\n",
       "0          1    15634602  Hargrave          619    France  Female   42   \n",
       "1          2    15647311      Hill          608     Spain  Female   41   \n",
       "2          3    15619304      Onio          502    France  Female   42   \n",
       "3          4    15701354      Boni          699    France  Female   39   \n",
       "4          5    15737888  Mitchell          850     Spain  Female   43   \n",
       "5          6    15574012       Chu          645     Spain    Male   44   \n",
       "6          7    15592531  Bartlett          822    France    Male   50   \n",
       "7          8    15656148    Obinna          376   Germany  Female   29   \n",
       "8          9    15792365        He          501    France    Male   44   \n",
       "9         10    15592389        H?          684    France    Male   27   \n",
       "\n",
       "   Tenure    Balance  NumOfProducts  HasCrCard  IsActiveMember  \\\n",
       "0     2.0       0.00              1          1               1   \n",
       "1     1.0   83807.86              1          0               1   \n",
       "2     8.0  159660.80              3          1               0   \n",
       "3     1.0       0.00              2          0               0   \n",
       "4     2.0  125510.82              1          1               1   \n",
       "5     8.0  113755.78              2          1               0   \n",
       "6     7.0       0.00              2          1               1   \n",
       "7     4.0  115046.74              4          1               0   \n",
       "8     4.0  142051.07              2          0               1   \n",
       "9     2.0  134603.88              1          1               1   \n",
       "\n",
       "   EstimatedSalary  Exited  \n",
       "0        101348.88       1  \n",
       "1        112542.58       0  \n",
       "2        113931.57       1  \n",
       "3         93826.63       0  \n",
       "4         79084.10       0  \n",
       "5        149756.71       1  \n",
       "6         10062.80       0  \n",
       "7        119346.88       1  \n",
       "8         74940.50       0  \n",
       "9         71725.73       0  "
      ]
     },
     "execution_count": 3,
     "metadata": {},
     "output_type": "execute_result"
    }
   ],
   "source": [
    "data.head(10)"
   ]
  },
  {
   "cell_type": "code",
   "execution_count": 4,
   "metadata": {
    "scrolled": false
   },
   "outputs": [
    {
     "name": "stdout",
     "output_type": "stream",
     "text": [
      "<class 'pandas.core.frame.DataFrame'>\n",
      "RangeIndex: 10000 entries, 0 to 9999\n",
      "Data columns (total 14 columns):\n",
      " #   Column           Non-Null Count  Dtype  \n",
      "---  ------           --------------  -----  \n",
      " 0   RowNumber        10000 non-null  int64  \n",
      " 1   CustomerId       10000 non-null  int64  \n",
      " 2   Surname          10000 non-null  object \n",
      " 3   CreditScore      10000 non-null  int64  \n",
      " 4   Geography        10000 non-null  object \n",
      " 5   Gender           10000 non-null  object \n",
      " 6   Age              10000 non-null  int64  \n",
      " 7   Tenure           9091 non-null   float64\n",
      " 8   Balance          10000 non-null  float64\n",
      " 9   NumOfProducts    10000 non-null  int64  \n",
      " 10  HasCrCard        10000 non-null  int64  \n",
      " 11  IsActiveMember   10000 non-null  int64  \n",
      " 12  EstimatedSalary  10000 non-null  float64\n",
      " 13  Exited           10000 non-null  int64  \n",
      "dtypes: float64(3), int64(8), object(3)\n",
      "memory usage: 1.1+ MB\n"
     ]
    }
   ],
   "source": [
    "data.info()"
   ]
  },
  {
   "cell_type": "code",
   "execution_count": 5,
   "metadata": {},
   "outputs": [
    {
     "data": {
      "text/plain": [
       "RowNumber            0\n",
       "CustomerId           0\n",
       "Surname              0\n",
       "CreditScore          0\n",
       "Geography            0\n",
       "Gender               0\n",
       "Age                  0\n",
       "Tenure             909\n",
       "Balance              0\n",
       "NumOfProducts        0\n",
       "HasCrCard            0\n",
       "IsActiveMember       0\n",
       "EstimatedSalary      0\n",
       "Exited               0\n",
       "dtype: int64"
      ]
     },
     "execution_count": 5,
     "metadata": {},
     "output_type": "execute_result"
    }
   ],
   "source": [
    "data.isna().sum()"
   ]
  },
  {
   "cell_type": "code",
   "execution_count": 6,
   "metadata": {},
   "outputs": [
    {
     "data": {
      "text/plain": [
       "array([ 2.,  1.,  8.,  7.,  4.,  6.,  3., 10.,  5.,  9.,  0., nan])"
      ]
     },
     "execution_count": 6,
     "metadata": {},
     "output_type": "execute_result"
    }
   ],
   "source": [
    "data['Tenure'].unique()"
   ]
  },
  {
   "cell_type": "code",
   "execution_count": 7,
   "metadata": {},
   "outputs": [],
   "source": [
    "mdn = data['Tenure'].median()\n",
    "data['Tenure'] = data['Tenure'].fillna(value=mdn)"
   ]
  },
  {
   "cell_type": "markdown",
   "metadata": {},
   "source": [
    "Столбец Tenure — сколько лет человек является клиентом банка, хранит 909 пропусков, найти медиану или среднее в данном случае будет некорректно, поставим заглушку и в последующем будем обрабатывать её фильтром"
   ]
  },
  {
   "cell_type": "code",
   "execution_count": 8,
   "metadata": {},
   "outputs": [
    {
     "data": {
      "text/plain": [
       "RowNumber          0\n",
       "CustomerId         0\n",
       "Surname            0\n",
       "CreditScore        0\n",
       "Geography          0\n",
       "Gender             0\n",
       "Age                0\n",
       "Tenure             0\n",
       "Balance            0\n",
       "NumOfProducts      0\n",
       "HasCrCard          0\n",
       "IsActiveMember     0\n",
       "EstimatedSalary    0\n",
       "Exited             0\n",
       "dtype: int64"
      ]
     },
     "execution_count": 8,
     "metadata": {},
     "output_type": "execute_result"
    }
   ],
   "source": [
    "data.isna().sum()"
   ]
  },
  {
   "cell_type": "code",
   "execution_count": 9,
   "metadata": {},
   "outputs": [
    {
     "data": {
      "text/plain": [
       "array(['France', 'Spain', 'Germany'], dtype=object)"
      ]
     },
     "execution_count": 9,
     "metadata": {},
     "output_type": "execute_result"
    }
   ],
   "source": [
    "data['Geography'].unique()"
   ]
  },
  {
   "cell_type": "code",
   "execution_count": 10,
   "metadata": {},
   "outputs": [
    {
     "data": {
      "text/plain": [
       "array(['Female', 'Male'], dtype=object)"
      ]
     },
     "execution_count": 10,
     "metadata": {},
     "output_type": "execute_result"
    }
   ],
   "source": [
    "data['Gender'].unique()"
   ]
  },
  {
   "cell_type": "code",
   "execution_count": 11,
   "metadata": {},
   "outputs": [
    {
     "data": {
      "text/plain": [
       "array([1, 0])"
      ]
     },
     "execution_count": 11,
     "metadata": {},
     "output_type": "execute_result"
    }
   ],
   "source": [
    "data['Exited'].unique()"
   ]
  },
  {
   "cell_type": "code",
   "execution_count": 12,
   "metadata": {},
   "outputs": [
    {
     "data": {
      "text/plain": [
       "0"
      ]
     },
     "execution_count": 12,
     "metadata": {},
     "output_type": "execute_result"
    }
   ],
   "source": [
    "#Проверяем на наличие дубликатов\n",
    "data.duplicated().sum()"
   ]
  },
  {
   "cell_type": "code",
   "execution_count": 13,
   "metadata": {},
   "outputs": [
    {
     "name": "stdout",
     "output_type": "stream",
     "text": [
      "<class 'pandas.core.frame.DataFrame'>\n",
      "RangeIndex: 10000 entries, 0 to 9999\n",
      "Data columns (total 11 columns):\n",
      " #   Column           Non-Null Count  Dtype  \n",
      "---  ------           --------------  -----  \n",
      " 0   CreditScore      10000 non-null  int64  \n",
      " 1   Geography        10000 non-null  object \n",
      " 2   Gender           10000 non-null  object \n",
      " 3   Age              10000 non-null  int64  \n",
      " 4   Tenure           10000 non-null  float64\n",
      " 5   Balance          10000 non-null  float64\n",
      " 6   NumOfProducts    10000 non-null  int64  \n",
      " 7   HasCrCard        10000 non-null  int64  \n",
      " 8   IsActiveMember   10000 non-null  int64  \n",
      " 9   EstimatedSalary  10000 non-null  float64\n",
      " 10  Exited           10000 non-null  int64  \n",
      "dtypes: float64(3), int64(6), object(2)\n",
      "memory usage: 859.5+ KB\n"
     ]
    }
   ],
   "source": [
    "#Удаляем столбец\n",
    "data = data.drop(['RowNumber', 'Surname', 'CustomerId'], axis=1)\n",
    "data.info()"
   ]
  },
  {
   "cell_type": "markdown",
   "metadata": {},
   "source": [
    "Столбцы RowNumber, CustomerId и Surname, не несут никакой ценности для обучения модели, поэтому можно от них избавится"
   ]
  },
  {
   "cell_type": "code",
   "execution_count": 14,
   "metadata": {},
   "outputs": [
    {
     "data": {
      "text/plain": [
       "(10000, 11)"
      ]
     },
     "execution_count": 14,
     "metadata": {},
     "output_type": "execute_result"
    }
   ],
   "source": [
    "data.shape"
   ]
  },
  {
   "cell_type": "code",
   "execution_count": 15,
   "metadata": {},
   "outputs": [
    {
     "data": {
      "text/plain": [
       "(10000, 12)"
      ]
     },
     "execution_count": 15,
     "metadata": {},
     "output_type": "execute_result"
    }
   ],
   "source": [
    "#С помощью метода OHE подгоовим данные\n",
    "data = pd.get_dummies(data, drop_first=True)\n",
    "data.shape"
   ]
  },
  {
   "cell_type": "code",
   "execution_count": 16,
   "metadata": {},
   "outputs": [],
   "source": [
    "#Переменные для признаков и целевого признака\n",
    "features = data.drop(['Exited'], axis=1)\n",
    "target = data['Exited']"
   ]
  },
  {
   "cell_type": "code",
   "execution_count": 17,
   "metadata": {},
   "outputs": [],
   "source": [
    "#Деление на выборки\n",
    "features_train, features_fv, target_train, target_fv = train_test_split(\n",
    "    features, target, test_size=0.4, random_state=12345)"
   ]
  },
  {
   "cell_type": "code",
   "execution_count": 18,
   "metadata": {},
   "outputs": [],
   "source": [
    "#Деление на выборки\n",
    "features_test, features_valid, target_test, target_valid = train_test_split(\n",
    "    features_fv, target_fv, test_size=0.5, random_state=12345)"
   ]
  },
  {
   "cell_type": "code",
   "execution_count": 19,
   "metadata": {},
   "outputs": [
    {
     "name": "stdout",
     "output_type": "stream",
     "text": [
      "Тренировочная выборка: (6000, 11)\n",
      "Валидационная выборка: (2000, 11)\n",
      "Тестовая выборка: (2000, 11)\n"
     ]
    }
   ],
   "source": [
    "print('Тренировочная выборка:', features_train.shape)\n",
    "print('Валидационная выборка:', features_valid.shape)\n",
    "print('Тестовая выборка:', features_test.shape)"
   ]
  },
  {
   "cell_type": "markdown",
   "metadata": {},
   "source": [
    "Данные разбиты на три выборки: тренировочная, валидационная и тестовая; в соотношении 60/20/20\n",
    "* Тренировочная выборка:\n",
    "    - features_train\n",
    "    - target_train\n",
    "* Валидационная выборка:\n",
    "    - features_valid\n",
    "    - target_valid\n",
    "* Тестовая выборка:\n",
    "    - features_test\n",
    "    - target_test"
   ]
  },
  {
   "cell_type": "markdown",
   "metadata": {},
   "source": [
    "У признаков разный масштаб, чтобы избежать ловушки необходимо их стандартизировать. Это можно сделать с StandardScaler()"
   ]
  },
  {
   "cell_type": "code",
   "execution_count": 20,
   "metadata": {},
   "outputs": [],
   "source": [
    "#Создадим список всех численных признаков\n",
    "numeric = ['CreditScore', 'Age', 'Tenure', 'Balance', 'NumOfProducts', 'EstimatedSalary']"
   ]
  },
  {
   "cell_type": "code",
   "execution_count": 21,
   "metadata": {},
   "outputs": [
    {
     "data": {
      "text/plain": [
       "StandardScaler()"
      ]
     },
     "execution_count": 21,
     "metadata": {},
     "output_type": "execute_result"
    }
   ],
   "source": [
    "#Создадим объект этой структуры и настроим его на обучающих данных\n",
    "scaler = StandardScaler()\n",
    "scaler.fit(features_train[numeric]) "
   ]
  },
  {
   "cell_type": "code",
   "execution_count": 22,
   "metadata": {},
   "outputs": [],
   "source": [
    "pd.options.mode.chained_assignment = None"
   ]
  },
  {
   "cell_type": "code",
   "execution_count": 23,
   "metadata": {},
   "outputs": [],
   "source": [
    "#Сохраним проеобразование для тренировочный выборки \n",
    "features_train[numeric] = scaler.transform(features_train[numeric])"
   ]
  },
  {
   "cell_type": "code",
   "execution_count": 24,
   "metadata": {},
   "outputs": [],
   "source": [
    "#Сохраним проеобразование для валидационной выборки\n",
    "features_valid[numeric] = scaler.transform(features_valid[numeric])"
   ]
  },
  {
   "cell_type": "code",
   "execution_count": 25,
   "metadata": {},
   "outputs": [],
   "source": [
    "#Сохраним проеобразование для тестовой выборки\n",
    "features_test[numeric] = scaler.transform(features_test[numeric])"
   ]
  },
  {
   "cell_type": "markdown",
   "metadata": {},
   "source": [
    "**Подводя итоги:**\n",
    "- В нашем расопоряжении данные из 10000 строк и 14 столбцов которые были успешно разделены на три выборки(обучающая, валидационная и тестовая), что касается стобцов, то здесть были отброшены признаки которые не влияют на обучение, это: 'RowNumber', 'Surname', 'CustomerId'.\n",
    "- Во избежании дамми-ловушки данные были подготовлены методом OHE\n",
    "- Последний шаг - численные признаки приведены к единному масштабу\n",
    "\n"
   ]
  },
  {
   "cell_type": "markdown",
   "metadata": {},
   "source": [
    "Целевой признак Exited — факт ухода клиента, содержит два значения: 1 и 0. \n",
    "Следовательно работа предстоит с задачей классификации."
   ]
  },
  {
   "cell_type": "markdown",
   "metadata": {},
   "source": [
    "## Исследование задачи"
   ]
  },
  {
   "cell_type": "markdown",
   "metadata": {},
   "source": [
    "**Случайный лес**"
   ]
  },
  {
   "cell_type": "code",
   "execution_count": 26,
   "metadata": {},
   "outputs": [
    {
     "name": "stdout",
     "output_type": "stream",
     "text": [
      "Accuracy: 0.8465\n",
      "Полнота 0.425531914893617\n",
      "Точность 0.7377049180327869\n",
      "F1-мера 0.5397301349325337\n",
      "CPU times: user 457 ms, sys: 10.4 ms, total: 467 ms\n",
      "Wall time: 477 ms\n"
     ]
    }
   ],
   "source": [
    "%%time\n",
    "\n",
    "model = RandomForestClassifier(random_state=12345, n_estimators=60, max_depth=20)\n",
    "\n",
    "# обучаем модель на тренировочной выборке\n",
    "model.fit(features_train, target_train)\n",
    "\n",
    "# получаем предсказание модели на валидационной выборке\n",
    "predicted_valid = model.predict(features_valid)\n",
    "\n",
    "\n",
    "print(\"Accuracy:\", accuracy_score(target_valid, predicted_valid))\n",
    "print(\"Полнота\" , recall_score(target_valid, predicted_valid))\n",
    "print(\"Точность\", precision_score(target_valid, predicted_valid))\n",
    "print(\"F1-мера\", f1_score(target_valid, predicted_valid))"
   ]
  },
  {
   "cell_type": "markdown",
   "metadata": {},
   "source": [
    "**Дерево решений**"
   ]
  },
  {
   "cell_type": "code",
   "execution_count": 27,
   "metadata": {},
   "outputs": [
    {
     "name": "stdout",
     "output_type": "stream",
     "text": [
      "Accuracy: 0.7865\n",
      "Полнота 0.458628841607565\n",
      "Точность 0.49489795918367346\n",
      "F1-мера 0.4760736196319018\n",
      "CPU times: user 31.6 ms, sys: 11.9 ms, total: 43.6 ms\n",
      "Wall time: 40.5 ms\n"
     ]
    }
   ],
   "source": [
    "%%time\n",
    "\n",
    "model = DecisionTreeClassifier(random_state=12345)\n",
    "\n",
    "# обучаем модель на тренировочной выборке\n",
    "model.fit(features_train, target_train)\n",
    "\n",
    "# получаем предсказание модели на валидационной выборке\n",
    "predicted_valid = model.predict(features_valid)\n",
    "\n",
    "\n",
    "print(\"Accuracy:\", accuracy_score(target_valid, predicted_valid))\n",
    "print(\"Полнота\" , recall_score(target_valid, predicted_valid))\n",
    "print(\"Точность\", precision_score(target_valid, predicted_valid))\n",
    "print(\"F1-мера\", f1_score(target_valid, predicted_valid))"
   ]
  },
  {
   "cell_type": "markdown",
   "metadata": {},
   "source": [
    "**Логистическая регрессия**"
   ]
  },
  {
   "cell_type": "code",
   "execution_count": 28,
   "metadata": {},
   "outputs": [
    {
     "name": "stdout",
     "output_type": "stream",
     "text": [
      "Accuracy: 0.791\n",
      "Полнота 0.18439716312056736\n",
      "Точность 0.5165562913907285\n",
      "F1-мера 0.27177700348432055\n",
      "CPU times: user 80.5 ms, sys: 90.1 ms, total: 171 ms\n",
      "Wall time: 157 ms\n"
     ]
    }
   ],
   "source": [
    "%%time\n",
    "\n",
    "# инициализируем модель LinearRegression\n",
    "model = LogisticRegression(random_state=12345, solver='lbfgs', max_iter=1000)\n",
    "\n",
    "# обучаем модель на тренировочной выборке\n",
    "model.fit(features_train, target_train) \n",
    "\n",
    "# получаем предсказание модели на валидационной выборке\n",
    "predicted_valid = model.predict(features_valid) \n",
    "\n",
    "result = accuracy_score(target_valid, predicted_valid)\n",
    "\n",
    "print(\"Accuracy:\", accuracy_score(target_valid, predicted_valid))\n",
    "print(\"Полнота\" , recall_score(target_valid, predicted_valid))\n",
    "print(\"Точность\", precision_score(target_valid, predicted_valid))\n",
    "print(\"F1-мера\", f1_score(target_valid, predicted_valid))"
   ]
  },
  {
   "cell_type": "markdown",
   "metadata": {},
   "source": [
    "Низкое значние F1 говорит о низком качестве исследуемых моделей"
   ]
  },
  {
   "cell_type": "markdown",
   "metadata": {},
   "source": [
    "Исследуем баланс классов целевого признака:"
   ]
  },
  {
   "cell_type": "code",
   "execution_count": 29,
   "metadata": {},
   "outputs": [
    {
     "data": {
      "text/plain": [
       "0    0.800667\n",
       "1    0.199333\n",
       "Name: Exited, dtype: float64"
      ]
     },
     "execution_count": 29,
     "metadata": {},
     "output_type": "execute_result"
    }
   ],
   "source": [
    "target_train.value_counts(normalize=True)"
   ]
  },
  {
   "cell_type": "code",
   "execution_count": 30,
   "metadata": {},
   "outputs": [
    {
     "data": {
      "text/plain": [
       "0    0.7885\n",
       "1    0.2115\n",
       "Name: Exited, dtype: float64"
      ]
     },
     "execution_count": 30,
     "metadata": {},
     "output_type": "execute_result"
    }
   ],
   "source": [
    "target_valid.value_counts(normalize=True)"
   ]
  },
  {
   "cell_type": "code",
   "execution_count": 31,
   "metadata": {},
   "outputs": [
    {
     "data": {
      "text/plain": [
       "0    0.791\n",
       "1    0.209\n",
       "Name: Exited, dtype: float64"
      ]
     },
     "execution_count": 31,
     "metadata": {},
     "output_type": "execute_result"
    }
   ],
   "source": [
    "target_test.value_counts(normalize=True)"
   ]
  },
  {
   "cell_type": "markdown",
   "metadata": {},
   "source": [
    "Во всех трёх выборках наблюдается сильный перекос в пользу значения \"0\""
   ]
  },
  {
   "cell_type": "markdown",
   "metadata": {},
   "source": [
    "**Проверка адекватности модели**"
   ]
  },
  {
   "cell_type": "code",
   "execution_count": 32,
   "metadata": {},
   "outputs": [
    {
     "name": "stdout",
     "output_type": "stream",
     "text": [
      "0    0.862\n",
      "1    0.138\n",
      "dtype: float64\n"
     ]
    },
    {
     "data": {
      "text/plain": [
       "<AxesSubplot:>"
      ]
     },
     "execution_count": 32,
     "metadata": {},
     "output_type": "execute_result"
    },
    {
     "data": {
      "image/png": "[encoded data removed]",
      "text/plain": [
       "<Figure size 432x288 with 1 Axes>"
      ]
     },
     "metadata": {
      "needs_background": "light"
     },
     "output_type": "display_data"
    }
   ],
   "source": [
    "model = DecisionTreeClassifier(random_state=12345, max_depth=10)\n",
    "model.fit(features_train, target_train)\n",
    "\n",
    "# чтобы работала функция value_counts(),\n",
    "# преобразовали результат к pd.Series\n",
    "predicted_valid = pd.Series(model.predict(features_valid))\n",
    "class_frequency = predicted_valid.value_counts(normalize = True)\n",
    "\n",
    "print(class_frequency)\n",
    "\n",
    "class_frequency.plot(kind='bar')"
   ]
  },
  {
   "cell_type": "code",
   "execution_count": 33,
   "metadata": {},
   "outputs": [
    {
     "name": "stdout",
     "output_type": "stream",
     "text": [
      "0    0.893\n",
      "1    0.107\n",
      "dtype: float64\n"
     ]
    },
    {
     "data": {
      "text/plain": [
       "<AxesSubplot:>"
      ]
     },
     "execution_count": 33,
     "metadata": {},
     "output_type": "execute_result"
    },
    {
     "data": {
      "image/png": "[encoded data removed]",
      "text/plain": [
       "<Figure size 432x288 with 1 Axes>"
      ]
     },
     "metadata": {
      "needs_background": "light"
     },
     "output_type": "display_data"
    }
   ],
   "source": [
    "model = RandomForestClassifier(random_state=12345, n_estimators=60, max_depth=10)\n",
    "model.fit(features_train, target_train)\n",
    "\n",
    "# чтобы работала функция value_counts(),\n",
    "# преобразовали результат к pd.Series\n",
    "predicted_valid = pd.Series(model.predict(features_valid))\n",
    "class_frequency = predicted_valid.value_counts(normalize = True)\n",
    "\n",
    "print(class_frequency)\n",
    "\n",
    "class_frequency.plot(kind='bar')"
   ]
  },
  {
   "cell_type": "code",
   "execution_count": 34,
   "metadata": {},
   "outputs": [
    {
     "name": "stdout",
     "output_type": "stream",
     "text": [
      "0    0.9245\n",
      "1    0.0755\n",
      "dtype: float64\n"
     ]
    },
    {
     "data": {
      "text/plain": [
       "<AxesSubplot:>"
      ]
     },
     "execution_count": 34,
     "metadata": {},
     "output_type": "execute_result"
    },
    {
     "data": {
      "image/png": "[encoded data removed]",
      "text/plain": [
       "<Figure size 432x288 with 1 Axes>"
      ]
     },
     "metadata": {
      "needs_background": "light"
     },
     "output_type": "display_data"
    }
   ],
   "source": [
    "model = LogisticRegression(random_state=12345, solver='lbfgs', max_iter=1000)\n",
    "model.fit(features_train, target_train)\n",
    "\n",
    "# чтобы работала функция value_counts(),\n",
    "# преобразовали результат к pd.Series\n",
    "predicted_valid = pd.Series(model.predict(features_valid))\n",
    "\n",
    "class_frequency = predicted_valid.value_counts(normalize=True)\n",
    "\n",
    "print(class_frequency)\n",
    "\n",
    "class_frequency.plot(kind='bar')"
   ]
  },
  {
   "cell_type": "code",
   "execution_count": 35,
   "metadata": {},
   "outputs": [],
   "source": [
    "dummy_clf = DummyClassifier(strategy=\"most_frequent\")"
   ]
  },
  {
   "cell_type": "code",
   "execution_count": 36,
   "metadata": {},
   "outputs": [
    {
     "data": {
      "text/plain": [
       "0.7885"
      ]
     },
     "execution_count": 36,
     "metadata": {},
     "output_type": "execute_result"
    }
   ],
   "source": [
    "dummy_clf.fit(features_train, target_train)\n",
    "dummy_clf.predict(features_valid)\n",
    "dummy_clf.score(features_valid, target_valid)"
   ]
  },
  {
   "cell_type": "markdown",
   "metadata": {},
   "source": [
    "Значение фиктивного классификатора равно 0.78, что ниже Accuracy исследуемых моделей"
   ]
  },
  {
   "cell_type": "markdown",
   "metadata": {},
   "source": [
    "Построим матрицу ошибок для трех моделей:"
   ]
  },
  {
   "cell_type": "code",
   "execution_count": 37,
   "metadata": {},
   "outputs": [
    {
     "data": {
      "text/plain": [
       "array([[1477,  100],\n",
       "       [ 247,  176]])"
      ]
     },
     "execution_count": 37,
     "metadata": {},
     "output_type": "execute_result"
    }
   ],
   "source": [
    "model = DecisionTreeClassifier(random_state=12345, max_depth=10)\n",
    "model.fit(features_train, target_train)\n",
    "predicted_dtc = model.predict(features_valid)\n",
    "\n",
    "confusion_matrix(target_valid, predicted_dtc)"
   ]
  },
  {
   "cell_type": "code",
   "execution_count": 38,
   "metadata": {},
   "outputs": [
    {
     "data": {
      "text/plain": [
       "array([[1504,   73],\n",
       "       [ 345,   78]])"
      ]
     },
     "execution_count": 38,
     "metadata": {},
     "output_type": "execute_result"
    }
   ],
   "source": [
    "model = LogisticRegression(random_state=12345, solver='lbfgs', max_iter=1000)\n",
    "model.fit(features_train, target_train) \n",
    "predicted_lr = model.predict(features_valid)\n",
    "\n",
    "confusion_matrix(target_valid, predicted_lr)"
   ]
  },
  {
   "cell_type": "code",
   "execution_count": 39,
   "metadata": {},
   "outputs": [
    {
     "data": {
      "text/plain": [
       "array([[1513,   64],\n",
       "       [ 243,  180]])"
      ]
     },
     "execution_count": 39,
     "metadata": {},
     "output_type": "execute_result"
    }
   ],
   "source": [
    "model = RandomForestClassifier(random_state=12345, n_estimators=60, max_depth=20)\n",
    "model.fit(features_train, target_train)\n",
    "predicted_rfc = model.predict(features_valid)\n",
    "\n",
    "confusion_matrix(target_valid, predicted_rfc)"
   ]
  },
  {
   "cell_type": "markdown",
   "metadata": {},
   "source": [
    "Во всех трех случаях истинноположительных ответов меньше ложноотрицательных"
   ]
  },
  {
   "cell_type": "markdown",
   "metadata": {},
   "source": [
    "Изучим значение AUC-ROC, для логистической регрессии"
   ]
  },
  {
   "cell_type": "code",
   "execution_count": 40,
   "metadata": {},
   "outputs": [
    {
     "name": "stdout",
     "output_type": "stream",
     "text": [
      "0.7386410142248726\n"
     ]
    },
    {
     "data": {
      "image/png": "[encoded data removed]",
      "text/plain": [
       "<Figure size 432x288 with 1 Axes>"
      ]
     },
     "metadata": {
      "needs_background": "light"
     },
     "output_type": "display_data"
    }
   ],
   "source": [
    "model = LogisticRegression(random_state=12345, solver='liblinear')\n",
    "model.fit(features_train, target_train)\n",
    "\n",
    "probabilities_valid = model.predict_proba(features_valid)[:, 1]\n",
    "probabilities_one_valid = probabilities_valid\n",
    "\n",
    "fpr, tpr, thresholds = roc_curve(target_valid, probabilities_one_valid) \n",
    "\n",
    "plt.figure()\n",
    "plt.plot(fpr, tpr)\n",
    "plt.xlim([0.0, 1.0])\n",
    "plt.ylim([0.0, 1.0])\n",
    "plt.xlabel('False Positive Rate')\n",
    "plt.ylabel('True Positive Rate')\n",
    "plt.title('ROC-кривая')\n",
    "\n",
    "plt.plot([0, 1], [0, 1], linestyle='--')\n",
    "\n",
    "auc_roc = roc_auc_score(target_valid, probabilities_valid)\n",
    "print(auc_roc)"
   ]
  },
  {
   "cell_type": "code",
   "execution_count": 41,
   "metadata": {},
   "outputs": [
    {
     "name": "stdout",
     "output_type": "stream",
     "text": [
      "0.7546123276232964\n"
     ]
    },
    {
     "data": {
      "image/png": "[encoded data removed]",
      "text/plain": [
       "<Figure size 432x288 with 1 Axes>"
      ]
     },
     "metadata": {
      "needs_background": "light"
     },
     "output_type": "display_data"
    }
   ],
   "source": [
    "model = DecisionTreeClassifier(random_state=12345, max_depth=10)\n",
    "model.fit(features_train, target_train)\n",
    "\n",
    "probabilities_valid = model.predict_proba(features_valid)[:, 1]\n",
    "probabilities_one_valid = probabilities_valid\n",
    "\n",
    "fpr, tpr, thresholds = roc_curve(target_valid, probabilities_one_valid) \n",
    "\n",
    "plt.figure()\n",
    "plt.plot(fpr, tpr)\n",
    "plt.xlim([0.0, 1.0])\n",
    "plt.ylim([0.0, 1.0])\n",
    "plt.xlabel('False Positive Rate')\n",
    "plt.ylabel('True Positive Rate')\n",
    "plt.title('ROC-кривая')\n",
    "\n",
    "plt.plot([0, 1], [0, 1], linestyle='--')\n",
    "\n",
    "auc_roc = roc_auc_score(target_valid, probabilities_valid)\n",
    "print(auc_roc)"
   ]
  },
  {
   "cell_type": "code",
   "execution_count": 42,
   "metadata": {},
   "outputs": [
    {
     "name": "stdout",
     "output_type": "stream",
     "text": [
      "0.848231297717934\n"
     ]
    },
    {
     "data": {
      "image/png": "[encoded data removed]",
      "text/plain": [
       "<Figure size 432x288 with 1 Axes>"
      ]
     },
     "metadata": {
      "needs_background": "light"
     },
     "output_type": "display_data"
    }
   ],
   "source": [
    "model = RandomForestClassifier(random_state=12345, n_estimators=60, max_depth=20)\n",
    "model.fit(features_train, target_train)\n",
    "\n",
    "probabilities_valid = model.predict_proba(features_valid)[:, 1]\n",
    "probabilities_one_valid = probabilities_valid\n",
    "\n",
    "fpr, tpr, thresholds = roc_curve(target_valid, probabilities_one_valid) \n",
    "\n",
    "plt.figure()\n",
    "plt.plot(fpr, tpr)\n",
    "plt.xlim([0.0, 1.0])\n",
    "plt.ylim([0.0, 1.0])\n",
    "plt.xlabel('False Positive Rate')\n",
    "plt.ylabel('True Positive Rate')\n",
    "plt.title('ROC-кривая')\n",
    "\n",
    "plt.plot([0, 1], [0, 1], linestyle='--')\n",
    "\n",
    "auc_roc = roc_auc_score(target_valid, probabilities_valid)\n",
    "print(auc_roc)"
   ]
  },
  {
   "cell_type": "markdown",
   "metadata": {},
   "source": [
    "auc_roc для логистической регрессии показывет результат - 0.7386679978592984\n",
    "для случайного леса 0.84 - лучший показатель, у модели дерева решений 0.75"
   ]
  },
  {
   "cell_type": "markdown",
   "metadata": {},
   "source": [
    "**Подводя итоги:**\n",
    "- Исследовали метрики: Accuracy, Полнота, Точность, F1-мера; для трёх моделей \n",
    "- Исследовали баланс классов\n",
    "- Проверили модель на адекватность\n",
    "- Построили матрицу ошибок и изучили значение auc_roc"
   ]
  },
  {
   "cell_type": "markdown",
   "metadata": {},
   "source": [
    "## Борьба с дисбалансом"
   ]
  },
  {
   "cell_type": "markdown",
   "metadata": {},
   "source": [
    "Увеличим выборки с помощью техники upsample"
   ]
  },
  {
   "cell_type": "code",
   "execution_count": 43,
   "metadata": {},
   "outputs": [],
   "source": [
    "def upsample(features, target, repeat):\n",
    "    \n",
    "    features_zeros = features[target == 0]\n",
    "    features_ones = features[target == 1]\n",
    "    target_zeros = target[target == 0]\n",
    "    target_ones = target[target == 1]\n",
    "    \n",
    "    repeat = 4\n",
    "    \n",
    "    features_upsampled = pd.concat([features_zeros] + [features_ones] * repeat)\n",
    "    target_upsampled = pd.concat([target_zeros] + [target_ones] * repeat)\n",
    "    features_upsampled, target_upsampled = shuffle(\n",
    "        features_upsampled, target_upsampled, random_state=12345)\n",
    "    \n",
    "    return features_upsampled, target_upsampled"
   ]
  },
  {
   "cell_type": "code",
   "execution_count": 44,
   "metadata": {},
   "outputs": [],
   "source": [
    "features_train_upsampled, target_train_upsampled = upsample(features_train, target_train, 4)"
   ]
  },
  {
   "cell_type": "code",
   "execution_count": 45,
   "metadata": {},
   "outputs": [
    {
     "data": {
      "text/plain": [
       "0    0.501043\n",
       "1    0.498957\n",
       "Name: Exited, dtype: float64"
      ]
     },
     "execution_count": 45,
     "metadata": {},
     "output_type": "execute_result"
    }
   ],
   "source": [
    "mmm = target_train_upsampled.value_counts(normalize=True)\n",
    "mmm"
   ]
  },
  {
   "cell_type": "code",
   "execution_count": 46,
   "metadata": {},
   "outputs": [
    {
     "data": {
      "text/plain": [
       "<AxesSubplot:>"
      ]
     },
     "execution_count": 46,
     "metadata": {},
     "output_type": "execute_result"
    },
    {
     "data": {
      "image/png": "[encoded data removed]",
      "text/plain": [
       "<Figure size 288x144 with 1 Axes>"
      ]
     },
     "metadata": {
      "needs_background": "light"
     },
     "output_type": "display_data"
    }
   ],
   "source": [
    "mmm.plot(kind='bar', figsize=(4, 2))"
   ]
  },
  {
   "cell_type": "code",
   "execution_count": 47,
   "metadata": {},
   "outputs": [
    {
     "name": "stdout",
     "output_type": "stream",
     "text": [
      "F1: 0.47619047619047616\n"
     ]
    }
   ],
   "source": [
    "model_LR = LogisticRegression(random_state=12345, solver='lbfgs')\n",
    "model_LR.fit(features_train_upsampled, target_train_upsampled)\n",
    "m = model_LR.predict(features_valid)\n",
    "\n",
    "print(\"F1:\", f1_score(target_valid, m))"
   ]
  },
  {
   "cell_type": "code",
   "execution_count": 48,
   "metadata": {},
   "outputs": [
    {
     "name": "stdout",
     "output_type": "stream",
     "text": [
      "0.7417306403666176\n"
     ]
    },
    {
     "data": {
      "image/png": "[encoded data removed]",
      "text/plain": [
       "<Figure size 432x288 with 1 Axes>"
      ]
     },
     "metadata": {
      "needs_background": "light"
     },
     "output_type": "display_data"
    }
   ],
   "source": [
    "probabilities_valid = model_LR.predict_proba(features_valid)[:, 1]\n",
    "probabilities_one_valid = probabilities_valid\n",
    "\n",
    "fpr, tpr, thresholds = roc_curve(target_valid, probabilities_one_valid) \n",
    "\n",
    "plt.figure()\n",
    "plt.plot(fpr, tpr)\n",
    "plt.xlim([0.0, 1.0])\n",
    "plt.ylim([0.0, 1.0])\n",
    "plt.xlabel('False Positive Rate')\n",
    "plt.ylabel('True Positive Rate')\n",
    "plt.title('ROC-кривая')\n",
    "\n",
    "plt.plot([0, 1], [0, 1], linestyle='--')\n",
    "\n",
    "auc_roc = roc_auc_score(target_valid, probabilities_valid)\n",
    "print(auc_roc)"
   ]
  },
  {
   "cell_type": "code",
   "execution_count": 49,
   "metadata": {},
   "outputs": [
    {
     "name": "stdout",
     "output_type": "stream",
     "text": [
      "F1: 0.6066452304394426\n"
     ]
    }
   ],
   "source": [
    "model_RFC = RandomForestClassifier(random_state=12345, n_estimators=80, max_depth=10, criterion='gini')\n",
    "model_RFC.fit(features_train_upsampled, target_train_upsampled)\n",
    "m = model_RFC.predict(features_valid)\n",
    "\n",
    "print(\"F1:\", f1_score(target_valid, m))"
   ]
  },
  {
   "cell_type": "code",
   "execution_count": 50,
   "metadata": {},
   "outputs": [
    {
     "name": "stdout",
     "output_type": "stream",
     "text": [
      "0.8552402967600151\n"
     ]
    },
    {
     "data": {
      "image/png": "[encoded data removed]",
      "text/plain": [
       "<Figure size 432x288 with 1 Axes>"
      ]
     },
     "metadata": {
      "needs_background": "light"
     },
     "output_type": "display_data"
    }
   ],
   "source": [
    "probabilities_valid = model_RFC.predict_proba(features_valid)[:, 1]\n",
    "probabilities_one_valid = probabilities_valid\n",
    "\n",
    "fpr, tpr, thresholds = roc_curve(target_valid, probabilities_one_valid) \n",
    "\n",
    "plt.figure()\n",
    "plt.plot(fpr, tpr)\n",
    "plt.xlim([0.0, 1.0])\n",
    "plt.ylim([0.0, 1.0])\n",
    "plt.xlabel('False Positive Rate')\n",
    "plt.ylabel('True Positive Rate')\n",
    "plt.title('ROC-кривая')\n",
    "\n",
    "plt.plot([0, 1], [0, 1], linestyle='--')\n",
    "\n",
    "auc_roc = roc_auc_score(target_valid, probabilities_valid)\n",
    "print(auc_roc)"
   ]
  },
  {
   "cell_type": "code",
   "execution_count": 51,
   "metadata": {},
   "outputs": [
    {
     "name": "stdout",
     "output_type": "stream",
     "text": [
      "F1: 0.5809128630705395\n"
     ]
    }
   ],
   "source": [
    "model_DTC = DecisionTreeClassifier(random_state=12345, max_depth=5, splitter='best')\n",
    "model_DTC.fit(features_train_upsampled, target_train_upsampled)\n",
    "m = model_DTC.predict(features_valid)\n",
    "\n",
    "print(\"F1:\", f1_score(target_valid, m))"
   ]
  },
  {
   "cell_type": "code",
   "execution_count": 52,
   "metadata": {},
   "outputs": [
    {
     "name": "stdout",
     "output_type": "stream",
     "text": [
      "0.8355347481752318\n"
     ]
    },
    {
     "data": {
      "image/png": "[encoded data removed]",
      "text/plain": [
       "<Figure size 432x288 with 1 Axes>"
      ]
     },
     "metadata": {
      "needs_background": "light"
     },
     "output_type": "display_data"
    }
   ],
   "source": [
    "probabilities_valid = model_DTC.predict_proba(features_valid)[:, 1]\n",
    "probabilities_one_valid = probabilities_valid\n",
    "\n",
    "fpr, tpr, thresholds = roc_curve(target_valid, probabilities_one_valid) \n",
    "\n",
    "plt.figure()\n",
    "plt.plot(fpr, tpr)\n",
    "plt.xlim([0.0, 1.0])\n",
    "plt.ylim([0.0, 1.0])\n",
    "plt.xlabel('False Positive Rate')\n",
    "plt.ylabel('True Positive Rate')\n",
    "plt.title('ROC-кривая')\n",
    "\n",
    "plt.plot([0, 1], [0, 1], linestyle='--')\n",
    "\n",
    "auc_roc = roc_auc_score(target_valid, probabilities_valid)\n",
    "print(auc_roc)"
   ]
  },
  {
   "cell_type": "markdown",
   "metadata": {},
   "source": [
    "Наилучший результат показывает модель Случайного леса, где F1 = 0.6\n",
    "Хуже - Логистическая регрессия со значением F1: 0.477"
   ]
  },
  {
   "cell_type": "markdown",
   "metadata": {},
   "source": [
    "Показатели roc_auc моделей после применения техники upsample показали следующие резултаты: \n",
    "- Логистическая регрессия с 0.73 увеличилась до 0.74\n",
    "- Случайный лес с 0.84 до 0.85\n",
    "- Дерево решений с 0.75 до 0.83"
   ]
  },
  {
   "cell_type": "markdown",
   "metadata": {},
   "source": [
    "Посмотрим какой результат покажут модели если выборки уменьшить, это можно сделать с помошью техники downsampling"
   ]
  },
  {
   "cell_type": "code",
   "execution_count": 53,
   "metadata": {},
   "outputs": [],
   "source": [
    "def downsample(features, target, fraction):\n",
    "    features_zeros = features[target == 0]\n",
    "    features_ones = features[target == 1]\n",
    "    target_zeros = target[target == 0]\n",
    "    target_ones = target[target == 1]\n",
    "\n",
    "    features_downsampled = pd.concat(\n",
    "        [features_zeros.sample(frac=fraction, random_state=12345)] + [features_ones])\n",
    "    target_downsampled = pd.concat(\n",
    "        [target_zeros.sample(frac=fraction, random_state=12345)] + [target_ones])\n",
    "    \n",
    "    features_downsampled, target_downsampled = shuffle(\n",
    "        features_downsampled, target_downsampled, random_state=12345)\n",
    "    \n",
    "    return features_downsampled, target_downsampled\n"
   ]
  },
  {
   "cell_type": "code",
   "execution_count": 54,
   "metadata": {},
   "outputs": [],
   "source": [
    "features_downsampled, target_downsampled = downsample(features_train, target_train, 0.25)"
   ]
  },
  {
   "cell_type": "code",
   "execution_count": 55,
   "metadata": {},
   "outputs": [
    {
     "data": {
      "text/plain": [
       "0    0.501043\n",
       "1    0.498957\n",
       "Name: Exited, dtype: float64"
      ]
     },
     "execution_count": 55,
     "metadata": {},
     "output_type": "execute_result"
    }
   ],
   "source": [
    "nnn = target_downsampled.value_counts(normalize=True)\n",
    "nnn"
   ]
  },
  {
   "cell_type": "code",
   "execution_count": 56,
   "metadata": {},
   "outputs": [
    {
     "data": {
      "text/plain": [
       "<AxesSubplot:>"
      ]
     },
     "execution_count": 56,
     "metadata": {},
     "output_type": "execute_result"
    },
    {
     "data": {
      "image/png": "[encoded data removed]",
      "text/plain": [
       "<Figure size 288x144 with 1 Axes>"
      ]
     },
     "metadata": {
      "needs_background": "light"
     },
     "output_type": "display_data"
    }
   ],
   "source": [
    "nnn.plot(kind='bar', figsize=(4, 2))"
   ]
  },
  {
   "cell_type": "code",
   "execution_count": 57,
   "metadata": {},
   "outputs": [
    {
     "name": "stdout",
     "output_type": "stream",
     "text": [
      "F1: 0.48417450812660395\n"
     ]
    }
   ],
   "source": [
    "model = LogisticRegression(random_state=12345, solver='liblinear')\n",
    "model.fit(features_downsampled, target_downsampled)\n",
    "m = model.predict(features_valid)\n",
    "\n",
    "print(\"F1:\", f1_score(target_valid, m))"
   ]
  },
  {
   "cell_type": "code",
   "execution_count": 58,
   "metadata": {},
   "outputs": [
    {
     "name": "stdout",
     "output_type": "stream",
     "text": [
      "F1: 0.5822550831792976\n"
     ]
    }
   ],
   "source": [
    "model = RandomForestClassifier(random_state=12345, n_estimators=90, max_depth=10, criterion='gini')\n",
    "model.fit(features_downsampled, target_downsampled)\n",
    "m = model.predict(features_valid)\n",
    "\n",
    "print(\"F1:\", f1_score(target_valid, m))"
   ]
  },
  {
   "cell_type": "code",
   "execution_count": 59,
   "metadata": {},
   "outputs": [
    {
     "name": "stdout",
     "output_type": "stream",
     "text": [
      "F1: 0.608066184074457\n"
     ]
    }
   ],
   "source": [
    "model = DecisionTreeClassifier(random_state=12345, max_depth=5, splitter='best')\n",
    "model.fit(features_downsampled, target_downsampled)\n",
    "m = model.predict(features_valid)\n",
    "\n",
    "print(\"F1:\", f1_score(target_valid, m))"
   ]
  },
  {
   "cell_type": "markdown",
   "metadata": {},
   "source": [
    "Лучшее значение F1 у модели дерево решений, модель Случайного леса показала себя хуже по сравнению с предыдушим разом.\n",
    "Что же касается Логистической регрессии, то значение F1 от предыдушего раза несильно отличается 0.47 и 0.48"
   ]
  },
  {
   "cell_type": "markdown",
   "metadata": {},
   "source": [
    "**Подводя итоги:** Для борьбы с дисбалансов были использованы две техники: upsample и downsampling\n",
    "- Хуже всего себя показала модель Логистической регрессии 0.47 и 0.48\n",
    "- Лучше в upsample: модель случайного леса 0.60\n",
    "- Лучше в downsampling: модель дерево решений 0.60"
   ]
  },
  {
   "cell_type": "markdown",
   "metadata": {},
   "source": [
    "Для тестирования будем использовать модель Случайного леса"
   ]
  },
  {
   "cell_type": "markdown",
   "metadata": {},
   "source": [
    "## Тестирование модели"
   ]
  },
  {
   "cell_type": "code",
   "execution_count": 60,
   "metadata": {},
   "outputs": [
    {
     "data": {
      "text/plain": [
       "RandomForestClassifier(max_depth=10, n_estimators=80, random_state=12345)"
      ]
     },
     "execution_count": 60,
     "metadata": {},
     "output_type": "execute_result"
    }
   ],
   "source": [
    "model_random_forest = RandomForestClassifier(random_state=12345, n_estimators=80, max_depth=10, criterion='gini')\n",
    "model_random_forest.fit(features_train_upsampled, target_train_upsampled)"
   ]
  },
  {
   "cell_type": "code",
   "execution_count": 61,
   "metadata": {},
   "outputs": [],
   "source": [
    "predict_test = model_random_forest.predict(features_test)\n",
    "result = accuracy_score(target_test, predict_test)"
   ]
  },
  {
   "cell_type": "code",
   "execution_count": 62,
   "metadata": {},
   "outputs": [
    {
     "name": "stdout",
     "output_type": "stream",
     "text": [
      "Accuracy: 0.826\n",
      "Полнота 0.6770334928229665\n",
      "Точность 0.5705645161290323\n",
      "F1-мера 0.6192560175054704\n"
     ]
    }
   ],
   "source": [
    "print(\"Accuracy:\", accuracy_score(target_test, predict_test))\n",
    "print(\"Полнота\" , recall_score(target_test, predict_test))\n",
    "print(\"Точность\", precision_score(target_test, predict_test))\n",
    "print(\"F1-мера\", f1_score(target_test, predict_test))"
   ]
  },
  {
   "cell_type": "markdown",
   "metadata": {},
   "source": [
    "Исследуем значение AUC-ROC на тестовых данных"
   ]
  },
  {
   "cell_type": "code",
   "execution_count": 63,
   "metadata": {},
   "outputs": [
    {
     "data": {
      "text/plain": [
       "[<matplotlib.lines.Line2D at 0x7f8af4e43580>]"
      ]
     },
     "execution_count": 63,
     "metadata": {},
     "output_type": "execute_result"
    },
    {
     "data": {
      "image/png": "[encoded data removed]",
      "text/plain": [
       "<Figure size 432x288 with 1 Axes>"
      ]
     },
     "metadata": {
      "needs_background": "light"
     },
     "output_type": "display_data"
    }
   ],
   "source": [
    "probabilities_test = model_random_forest.predict_proba(features_test)[:, 1]\n",
    "\n",
    "fpr, tpr, thresholds = roc_curve(target_test, probabilities_test) \n",
    "\n",
    "plt.figure()\n",
    "plt.plot(fpr, tpr)\n",
    "plt.xlim([0.0, 1.0])\n",
    "plt.ylim([0.0, 1.0])\n",
    "plt.xlabel('False Positive Rate')\n",
    "plt.ylabel('True Positive Rate')\n",
    "plt.title('ROC-кривая')\n",
    "\n",
    "plt.plot([0, 1], [0, 1], linestyle='--')"
   ]
  },
  {
   "cell_type": "code",
   "execution_count": 64,
   "metadata": {},
   "outputs": [
    {
     "data": {
      "text/plain": [
       "0.8540881568361773"
      ]
     },
     "execution_count": 64,
     "metadata": {},
     "output_type": "execute_result"
    }
   ],
   "source": [
    "auc_roc = roc_auc_score(target_test, probabilities_test)\n",
    "auc_roc"
   ]
  },
  {
   "cell_type": "markdown",
   "metadata": {},
   "source": [
    "Показатель AUC-ROC исследуемой модели равен 0.85"
   ]
  },
  {
   "cell_type": "markdown",
   "metadata": {},
   "source": [
    "Создадим фиктивный классификатор и проверим модель на адекватность"
   ]
  },
  {
   "cell_type": "code",
   "execution_count": 65,
   "metadata": {},
   "outputs": [],
   "source": [
    "dummy_clf = DummyClassifier(strategy=\"most_frequent\")"
   ]
  },
  {
   "cell_type": "code",
   "execution_count": 66,
   "metadata": {},
   "outputs": [
    {
     "data": {
      "text/plain": [
       "0.7885"
      ]
     },
     "execution_count": 66,
     "metadata": {},
     "output_type": "execute_result"
    }
   ],
   "source": [
    "dummy_clf.fit(features_test, target_test)\n",
    "dummy_clf.predict(features_valid)\n",
    "dummy_clf.score(features_valid, target_valid)"
   ]
  },
  {
   "cell_type": "markdown",
   "metadata": {},
   "source": [
    "**Подводя итоги:**\n",
    "На тестовой выборке получили следующие значения:\n",
    "\n",
    "- F1-мера 0.61\n",
    "- AUC-ROC 0.85\n",
    "\n",
    "Проверили модель на адекватность, значение фиктивного классификатора равно 0.78, что ниже значения Accuracy наилучшей модели(0.82)\n"
   ]
  },
  {
   "cell_type": "markdown",
   "metadata": {},
   "source": [
    "**Общий вывод:**\n",
    "В рамках проекта были представлены данные из «Бета-Банка». \n",
    "- Задача: спрогнозировать, уйдёт клиент из банка в ближайшее время или нет. \n",
    "- Цель: построить модель с предельно большим значением F1-меры."
   ]
  },
  {
   "cell_type": "markdown",
   "metadata": {},
   "source": [
    "В процессе реализации проекта были выполнены следующие шаги:\n",
    "- Подготовлены данные для последующих манипуляций;\n",
    "- Для моделей: Случайный лес, Дерево решений, Логистическая регрессия, были исследованы следующие метрики: \n",
    "   - Accuracy, \n",
    "   - полнота, \n",
    "   - точность, \n",
    "   - F1-мера.\n",
    "- Исследован баланс классов целевого признака;\n",
    "- Проведена проверка адекватности;\n",
    "- Построили матрицу ошибок для трех моделей;\n",
    "- Проведены работы по борьбе с дисбалансом;\n",
    "- Проведено тестирование модели "
   ]
  },
  {
   "cell_type": "markdown",
   "metadata": {},
   "source": [
    "Для тестирования была выбрана модель Случайного леса, т.к. после увеличения выборки показала наилучний результат F1 = 0.6 \n",
    "\n"
   ]
  },
  {
   "cell_type": "markdown",
   "metadata": {},
   "source": [
    "На тестовой выборке получили следующие значения:\n",
    "\n",
    "- Accuracy: 0.82\n",
    "- Полнота 0.68\n",
    "- Точность 0.56\n",
    "- F1-мера 0.61\n",
    "- AUC-ROC 0.85"
   ]
  }
 ],
 "metadata": {
  "ExecuteTimeLog": [
   {
    "duration": 548,
    "start_time": "2023-04-18T11:49:08.344Z"
   },
   {
    "duration": 86,
    "start_time": "2023-04-18T11:49:24.719Z"
   },
   {
    "duration": 5,
    "start_time": "2023-04-18T11:49:38.737Z"
   },
   {
    "duration": 10,
    "start_time": "2023-04-18T11:49:39.229Z"
   },
   {
    "duration": 96,
    "start_time": "2023-04-18T11:49:43.339Z"
   },
   {
    "duration": 28,
    "start_time": "2023-04-18T11:50:40.721Z"
   },
   {
    "duration": 19,
    "start_time": "2023-04-18T11:52:02.855Z"
   },
   {
    "duration": 11,
    "start_time": "2023-04-18T11:52:27.618Z"
   },
   {
    "duration": 7,
    "start_time": "2023-04-18T11:55:53.380Z"
   },
   {
    "duration": 9,
    "start_time": "2023-04-18T11:56:17.434Z"
   },
   {
    "duration": 1451,
    "start_time": "2023-04-18T11:58:03.963Z"
   },
   {
    "duration": 62,
    "start_time": "2023-04-18T11:58:57.962Z"
   },
   {
    "duration": 0,
    "start_time": "2023-04-18T11:59:16.989Z"
   },
   {
    "duration": 0,
    "start_time": "2023-04-18T11:59:16.992Z"
   },
   {
    "duration": 0,
    "start_time": "2023-04-18T11:59:16.993Z"
   },
   {
    "duration": 0,
    "start_time": "2023-04-18T11:59:16.995Z"
   },
   {
    "duration": 0,
    "start_time": "2023-04-18T11:59:16.996Z"
   },
   {
    "duration": 0,
    "start_time": "2023-04-18T11:59:16.997Z"
   },
   {
    "duration": 0,
    "start_time": "2023-04-18T11:59:16.998Z"
   },
   {
    "duration": 13457,
    "start_time": "2023-04-18T12:00:30.406Z"
   },
   {
    "duration": 14315,
    "start_time": "2023-04-18T12:00:47.935Z"
   },
   {
    "duration": 14,
    "start_time": "2023-04-18T12:01:06.686Z"
   },
   {
    "duration": 29462,
    "start_time": "2023-04-18T12:01:38.929Z"
   },
   {
    "duration": 27,
    "start_time": "2023-04-18T12:03:01.184Z"
   },
   {
    "duration": 0,
    "start_time": "2023-04-18T12:03:09.530Z"
   },
   {
    "duration": 977,
    "start_time": "2023-04-18T12:03:17.871Z"
   },
   {
    "duration": 4365,
    "start_time": "2023-04-18T12:03:47.759Z"
   },
   {
    "duration": 32,
    "start_time": "2023-04-18T12:04:06.325Z"
   },
   {
    "duration": 15,
    "start_time": "2023-04-18T12:04:09.784Z"
   },
   {
    "duration": 32205,
    "start_time": "2023-04-18T12:04:57.914Z"
   },
   {
    "duration": 17790,
    "start_time": "2023-04-18T12:06:21.974Z"
   },
   {
    "duration": 353,
    "start_time": "2023-04-18T12:08:19.866Z"
   },
   {
    "duration": 401,
    "start_time": "2023-04-18T12:08:29.382Z"
   },
   {
    "duration": 3,
    "start_time": "2023-04-18T12:08:33.870Z"
   },
   {
    "duration": 45,
    "start_time": "2023-04-18T12:08:34.568Z"
   },
   {
    "duration": 17,
    "start_time": "2023-04-18T12:08:34.869Z"
   },
   {
    "duration": 15,
    "start_time": "2023-04-18T12:08:35.083Z"
   },
   {
    "duration": 10,
    "start_time": "2023-04-18T12:08:35.285Z"
   },
   {
    "duration": 6,
    "start_time": "2023-04-18T12:08:35.870Z"
   },
   {
    "duration": 371,
    "start_time": "2023-04-18T12:08:36.448Z"
   },
   {
    "duration": 0,
    "start_time": "2023-04-18T12:09:55.203Z"
   },
   {
    "duration": 22892,
    "start_time": "2023-04-18T12:10:04.270Z"
   },
   {
    "duration": 42670,
    "start_time": "2023-04-18T12:11:02.320Z"
   },
   {
    "duration": 15,
    "start_time": "2023-04-18T12:16:26.520Z"
   },
   {
    "duration": 12,
    "start_time": "2023-04-18T12:18:55.906Z"
   },
   {
    "duration": 7,
    "start_time": "2023-04-18T12:18:59.268Z"
   },
   {
    "duration": 26,
    "start_time": "2023-04-18T12:19:09.220Z"
   },
   {
    "duration": 30,
    "start_time": "2023-04-18T12:19:31.966Z"
   },
   {
    "duration": 1185,
    "start_time": "2023-04-19T08:31:55.600Z"
   },
   {
    "duration": 154,
    "start_time": "2023-04-19T08:31:56.787Z"
   },
   {
    "duration": 18,
    "start_time": "2023-04-19T08:31:56.943Z"
   },
   {
    "duration": 12,
    "start_time": "2023-04-19T08:31:57.164Z"
   },
   {
    "duration": 7,
    "start_time": "2023-04-19T08:31:57.800Z"
   },
   {
    "duration": 11,
    "start_time": "2023-04-19T08:31:58.326Z"
   },
   {
    "duration": 5,
    "start_time": "2023-04-19T08:31:58.968Z"
   },
   {
    "duration": 4,
    "start_time": "2023-04-19T08:34:50.555Z"
   },
   {
    "duration": 2,
    "start_time": "2023-04-19T08:34:55.502Z"
   },
   {
    "duration": 36,
    "start_time": "2023-04-19T08:34:55.694Z"
   },
   {
    "duration": 13,
    "start_time": "2023-04-19T08:34:55.868Z"
   },
   {
    "duration": 13,
    "start_time": "2023-04-19T08:34:56.074Z"
   },
   {
    "duration": 6,
    "start_time": "2023-04-19T08:34:56.219Z"
   },
   {
    "duration": 10,
    "start_time": "2023-04-19T08:34:56.398Z"
   },
   {
    "duration": 5,
    "start_time": "2023-04-19T08:34:56.564Z"
   },
   {
    "duration": 4,
    "start_time": "2023-04-19T08:34:56.751Z"
   },
   {
    "duration": 14,
    "start_time": "2023-04-19T08:35:26.541Z"
   },
   {
    "duration": 9,
    "start_time": "2023-04-19T08:35:59.872Z"
   },
   {
    "duration": 10,
    "start_time": "2023-04-19T08:36:22.023Z"
   },
   {
    "duration": 872,
    "start_time": "2023-04-19T08:41:18.400Z"
   },
   {
    "duration": 4,
    "start_time": "2023-04-19T08:41:29.411Z"
   },
   {
    "duration": 3,
    "start_time": "2023-04-19T08:47:52.333Z"
   },
   {
    "duration": 9,
    "start_time": "2023-04-19T08:48:14.003Z"
   },
   {
    "duration": 8,
    "start_time": "2023-04-19T08:49:43.714Z"
   },
   {
    "duration": 7,
    "start_time": "2023-04-19T08:49:49.460Z"
   },
   {
    "duration": 10,
    "start_time": "2023-04-19T08:50:09.080Z"
   },
   {
    "duration": 8,
    "start_time": "2023-04-19T08:50:13.127Z"
   },
   {
    "duration": 10,
    "start_time": "2023-04-19T08:51:43.106Z"
   },
   {
    "duration": 7,
    "start_time": "2023-04-19T08:52:10.708Z"
   },
   {
    "duration": 8,
    "start_time": "2023-04-19T08:53:07.973Z"
   },
   {
    "duration": 8,
    "start_time": "2023-04-19T08:54:38.020Z"
   },
   {
    "duration": 2,
    "start_time": "2023-04-19T08:54:45.009Z"
   },
   {
    "duration": 7,
    "start_time": "2023-04-19T08:54:48.639Z"
   },
   {
    "duration": 3,
    "start_time": "2023-04-19T08:54:56.136Z"
   },
   {
    "duration": 36,
    "start_time": "2023-04-19T08:54:56.610Z"
   },
   {
    "duration": 13,
    "start_time": "2023-04-19T08:54:56.887Z"
   },
   {
    "duration": 11,
    "start_time": "2023-04-19T08:54:57.103Z"
   },
   {
    "duration": 6,
    "start_time": "2023-04-19T08:54:57.398Z"
   },
   {
    "duration": 4,
    "start_time": "2023-04-19T08:54:57.684Z"
   },
   {
    "duration": 3,
    "start_time": "2023-04-19T08:54:57.995Z"
   },
   {
    "duration": 10,
    "start_time": "2023-04-19T08:54:58.613Z"
   },
   {
    "duration": 4,
    "start_time": "2023-04-19T08:54:58.873Z"
   },
   {
    "duration": 4,
    "start_time": "2023-04-19T08:54:59.241Z"
   },
   {
    "duration": 19,
    "start_time": "2023-04-19T08:55:08.250Z"
   },
   {
    "duration": 13,
    "start_time": "2023-04-19T08:55:21.276Z"
   },
   {
    "duration": 12,
    "start_time": "2023-04-19T08:55:31.798Z"
   },
   {
    "duration": 12,
    "start_time": "2023-04-19T08:55:44.726Z"
   },
   {
    "duration": 13,
    "start_time": "2023-04-19T09:01:01.212Z"
   },
   {
    "duration": 2,
    "start_time": "2023-04-19T09:01:19.792Z"
   },
   {
    "duration": 39,
    "start_time": "2023-04-19T09:01:20.234Z"
   },
   {
    "duration": 13,
    "start_time": "2023-04-19T09:01:20.519Z"
   },
   {
    "duration": 12,
    "start_time": "2023-04-19T09:01:20.726Z"
   },
   {
    "duration": 13,
    "start_time": "2023-04-19T09:01:21.043Z"
   },
   {
    "duration": 5,
    "start_time": "2023-04-19T09:01:21.278Z"
   },
   {
    "duration": 4,
    "start_time": "2023-04-19T09:01:21.569Z"
   },
   {
    "duration": 11,
    "start_time": "2023-04-19T09:01:22.073Z"
   },
   {
    "duration": 4,
    "start_time": "2023-04-19T09:01:22.349Z"
   },
   {
    "duration": 12,
    "start_time": "2023-04-19T09:01:22.580Z"
   },
   {
    "duration": 186,
    "start_time": "2023-04-19T09:16:04.463Z"
   },
   {
    "duration": 78,
    "start_time": "2023-04-19T09:16:18.875Z"
   },
   {
    "duration": 7,
    "start_time": "2023-04-19T09:16:33.252Z"
   },
   {
    "duration": 4,
    "start_time": "2023-04-19T09:17:04.552Z"
   },
   {
    "duration": 4,
    "start_time": "2023-04-19T09:17:14.004Z"
   },
   {
    "duration": 18,
    "start_time": "2023-04-19T09:17:18.833Z"
   },
   {
    "duration": 4,
    "start_time": "2023-04-19T09:17:21.799Z"
   },
   {
    "duration": 3,
    "start_time": "2023-04-19T09:17:29.148Z"
   },
   {
    "duration": 4,
    "start_time": "2023-04-19T09:18:01.763Z"
   },
   {
    "duration": 8,
    "start_time": "2023-04-19T09:18:06.935Z"
   },
   {
    "duration": 2,
    "start_time": "2023-04-19T09:18:31.608Z"
   },
   {
    "duration": 36,
    "start_time": "2023-04-19T09:18:31.876Z"
   },
   {
    "duration": 13,
    "start_time": "2023-04-19T09:18:32.123Z"
   },
   {
    "duration": 10,
    "start_time": "2023-04-19T09:18:32.393Z"
   },
   {
    "duration": 7,
    "start_time": "2023-04-19T09:18:33.093Z"
   },
   {
    "duration": 4,
    "start_time": "2023-04-19T09:18:33.517Z"
   },
   {
    "duration": 4,
    "start_time": "2023-04-19T09:18:34.190Z"
   },
   {
    "duration": 11,
    "start_time": "2023-04-19T09:18:35.257Z"
   },
   {
    "duration": 4,
    "start_time": "2023-04-19T09:18:35.848Z"
   },
   {
    "duration": 3,
    "start_time": "2023-04-19T09:18:37.303Z"
   },
   {
    "duration": 15,
    "start_time": "2023-04-19T09:18:44.956Z"
   },
   {
    "duration": 3,
    "start_time": "2023-04-19T09:18:48.298Z"
   },
   {
    "duration": 15,
    "start_time": "2023-04-19T09:21:04.936Z"
   },
   {
    "duration": 4,
    "start_time": "2023-04-19T09:21:14.952Z"
   },
   {
    "duration": 36,
    "start_time": "2023-04-19T09:21:15.250Z"
   },
   {
    "duration": 15,
    "start_time": "2023-04-19T09:21:15.647Z"
   },
   {
    "duration": 11,
    "start_time": "2023-04-19T09:21:15.862Z"
   },
   {
    "duration": 8,
    "start_time": "2023-04-19T09:21:16.064Z"
   },
   {
    "duration": 5,
    "start_time": "2023-04-19T09:21:16.248Z"
   },
   {
    "duration": 4,
    "start_time": "2023-04-19T09:21:16.437Z"
   },
   {
    "duration": 10,
    "start_time": "2023-04-19T09:21:16.865Z"
   },
   {
    "duration": 5,
    "start_time": "2023-04-19T09:21:17.071Z"
   },
   {
    "duration": 12,
    "start_time": "2023-04-19T09:21:17.282Z"
   },
   {
    "duration": 4,
    "start_time": "2023-04-19T09:21:18.498Z"
   },
   {
    "duration": 12,
    "start_time": "2023-04-19T09:21:32.011Z"
   },
   {
    "duration": 12,
    "start_time": "2023-04-19T09:21:33.426Z"
   },
   {
    "duration": 2,
    "start_time": "2023-04-19T09:21:38.383Z"
   },
   {
    "duration": 36,
    "start_time": "2023-04-19T09:21:38.710Z"
   },
   {
    "duration": 12,
    "start_time": "2023-04-19T09:21:38.943Z"
   },
   {
    "duration": 11,
    "start_time": "2023-04-19T09:21:39.148Z"
   },
   {
    "duration": 7,
    "start_time": "2023-04-19T09:21:39.465Z"
   },
   {
    "duration": 5,
    "start_time": "2023-04-19T09:21:39.752Z"
   },
   {
    "duration": 3,
    "start_time": "2023-04-19T09:21:40.013Z"
   },
   {
    "duration": 10,
    "start_time": "2023-04-19T09:21:40.970Z"
   },
   {
    "duration": 4,
    "start_time": "2023-04-19T09:21:41.150Z"
   },
   {
    "duration": 15,
    "start_time": "2023-04-19T09:21:41.734Z"
   },
   {
    "duration": 4,
    "start_time": "2023-04-19T09:21:50.679Z"
   },
   {
    "duration": 4,
    "start_time": "2023-04-19T09:22:31.512Z"
   },
   {
    "duration": 11,
    "start_time": "2023-04-19T09:23:37.750Z"
   },
   {
    "duration": 2,
    "start_time": "2023-04-19T09:23:42.413Z"
   },
   {
    "duration": 36,
    "start_time": "2023-04-19T09:23:42.599Z"
   },
   {
    "duration": 13,
    "start_time": "2023-04-19T09:23:42.884Z"
   },
   {
    "duration": 11,
    "start_time": "2023-04-19T09:23:43.108Z"
   },
   {
    "duration": 7,
    "start_time": "2023-04-19T09:23:43.311Z"
   },
   {
    "duration": 4,
    "start_time": "2023-04-19T09:23:43.491Z"
   },
   {
    "duration": 3,
    "start_time": "2023-04-19T09:23:43.703Z"
   },
   {
    "duration": 11,
    "start_time": "2023-04-19T09:23:44.278Z"
   },
   {
    "duration": 4,
    "start_time": "2023-04-19T09:23:44.477Z"
   },
   {
    "duration": 12,
    "start_time": "2023-04-19T09:23:44.680Z"
   },
   {
    "duration": 3,
    "start_time": "2023-04-19T09:23:46.611Z"
   },
   {
    "duration": 8,
    "start_time": "2023-04-19T09:23:47.793Z"
   },
   {
    "duration": 7,
    "start_time": "2023-04-19T09:23:54.725Z"
   },
   {
    "duration": 7,
    "start_time": "2023-04-19T09:24:05.405Z"
   },
   {
    "duration": 8,
    "start_time": "2023-04-19T09:24:25.609Z"
   },
   {
    "duration": 8,
    "start_time": "2023-04-19T09:24:36.821Z"
   },
   {
    "duration": 9,
    "start_time": "2023-04-19T09:24:44.626Z"
   },
   {
    "duration": 8,
    "start_time": "2023-04-19T09:24:55.378Z"
   },
   {
    "duration": 770,
    "start_time": "2023-04-19T09:26:03.117Z"
   },
   {
    "duration": 2,
    "start_time": "2023-04-19T09:26:19.302Z"
   },
   {
    "duration": 37,
    "start_time": "2023-04-19T09:26:19.777Z"
   },
   {
    "duration": 13,
    "start_time": "2023-04-19T09:26:20.073Z"
   },
   {
    "duration": 12,
    "start_time": "2023-04-19T09:26:20.276Z"
   },
   {
    "duration": 7,
    "start_time": "2023-04-19T09:26:20.587Z"
   },
   {
    "duration": 5,
    "start_time": "2023-04-19T09:26:20.894Z"
   },
   {
    "duration": 4,
    "start_time": "2023-04-19T09:26:21.365Z"
   },
   {
    "duration": 5,
    "start_time": "2023-04-19T09:26:21.967Z"
   },
   {
    "duration": 4,
    "start_time": "2023-04-19T09:26:46.610Z"
   },
   {
    "duration": 4,
    "start_time": "2023-04-19T09:27:19.523Z"
   },
   {
    "duration": 5,
    "start_time": "2023-04-19T09:28:30.950Z"
   },
   {
    "duration": 4,
    "start_time": "2023-04-19T09:28:31.530Z"
   },
   {
    "duration": 12,
    "start_time": "2023-04-19T09:28:34.949Z"
   },
   {
    "duration": 4,
    "start_time": "2023-04-19T09:28:36.524Z"
   },
   {
    "duration": 4,
    "start_time": "2023-04-19T09:29:01.624Z"
   },
   {
    "duration": 9,
    "start_time": "2023-04-19T09:29:05.297Z"
   },
   {
    "duration": 4,
    "start_time": "2023-04-19T09:31:05.220Z"
   },
   {
    "duration": 8,
    "start_time": "2023-04-19T09:32:49.274Z"
   },
   {
    "duration": 223,
    "start_time": "2023-04-19T09:33:04.304Z"
   },
   {
    "duration": 7,
    "start_time": "2023-04-19T09:33:09.156Z"
   },
   {
    "duration": 59,
    "start_time": "2023-04-19T09:33:16.108Z"
   },
   {
    "duration": 6,
    "start_time": "2023-04-19T09:33:23.986Z"
   },
   {
    "duration": 6,
    "start_time": "2023-04-19T09:36:53.186Z"
   },
   {
    "duration": 16,
    "start_time": "2023-04-19T09:36:55.162Z"
   },
   {
    "duration": 7,
    "start_time": "2023-04-19T09:36:55.491Z"
   },
   {
    "duration": 12,
    "start_time": "2023-04-19T09:37:04.578Z"
   },
   {
    "duration": 2,
    "start_time": "2023-04-19T09:37:09.274Z"
   },
   {
    "duration": 35,
    "start_time": "2023-04-19T09:37:09.473Z"
   },
   {
    "duration": 13,
    "start_time": "2023-04-19T09:37:09.673Z"
   },
   {
    "duration": 11,
    "start_time": "2023-04-19T09:37:10.112Z"
   },
   {
    "duration": 6,
    "start_time": "2023-04-19T09:37:10.351Z"
   },
   {
    "duration": 4,
    "start_time": "2023-04-19T09:37:10.582Z"
   },
   {
    "duration": 4,
    "start_time": "2023-04-19T09:37:10.831Z"
   },
   {
    "duration": 6,
    "start_time": "2023-04-19T09:37:11.307Z"
   },
   {
    "duration": 5,
    "start_time": "2023-04-19T09:37:11.530Z"
   },
   {
    "duration": 4,
    "start_time": "2023-04-19T09:37:11.873Z"
   },
   {
    "duration": 11,
    "start_time": "2023-04-19T09:37:11.972Z"
   },
   {
    "duration": 11,
    "start_time": "2023-04-19T09:37:12.174Z"
   },
   {
    "duration": 4,
    "start_time": "2023-04-19T09:37:12.828Z"
   },
   {
    "duration": 11,
    "start_time": "2023-04-19T09:37:13.078Z"
   },
   {
    "duration": 6,
    "start_time": "2023-04-19T09:37:13.310Z"
   },
   {
    "duration": 10,
    "start_time": "2023-04-19T09:37:13.552Z"
   },
   {
    "duration": 8,
    "start_time": "2023-04-19T09:37:13.852Z"
   },
   {
    "duration": 7,
    "start_time": "2023-04-19T09:37:24.732Z"
   },
   {
    "duration": 5,
    "start_time": "2023-04-19T09:37:29.222Z"
   },
   {
    "duration": 5,
    "start_time": "2023-04-19T09:38:43.324Z"
   },
   {
    "duration": 5,
    "start_time": "2023-04-19T09:38:43.857Z"
   },
   {
    "duration": 6,
    "start_time": "2023-04-19T09:58:29.421Z"
   },
   {
    "duration": 9,
    "start_time": "2023-04-19T10:00:50.338Z"
   },
   {
    "duration": 4,
    "start_time": "2023-04-19T10:01:06.380Z"
   },
   {
    "duration": 3,
    "start_time": "2023-04-19T10:01:06.887Z"
   },
   {
    "duration": 6,
    "start_time": "2023-04-19T10:01:23.874Z"
   },
   {
    "duration": 6,
    "start_time": "2023-04-19T10:01:24.174Z"
   },
   {
    "duration": 4,
    "start_time": "2023-04-19T10:01:24.432Z"
   },
   {
    "duration": 5,
    "start_time": "2023-04-19T10:01:55.798Z"
   },
   {
    "duration": 5,
    "start_time": "2023-04-19T10:02:05.057Z"
   },
   {
    "duration": 3,
    "start_time": "2023-04-19T10:08:59.587Z"
   },
   {
    "duration": 3,
    "start_time": "2023-04-19T10:12:15.983Z"
   },
   {
    "duration": 9,
    "start_time": "2023-04-19T10:12:31.751Z"
   },
   {
    "duration": 24,
    "start_time": "2023-04-19T10:13:53.956Z"
   },
   {
    "duration": 35,
    "start_time": "2023-04-19T10:14:09.405Z"
   },
   {
    "duration": 20,
    "start_time": "2023-04-19T10:14:22.392Z"
   },
   {
    "duration": 12,
    "start_time": "2023-04-19T10:14:34.121Z"
   },
   {
    "duration": 9,
    "start_time": "2023-04-19T10:15:01.428Z"
   },
   {
    "duration": 12,
    "start_time": "2023-04-19T10:15:04.629Z"
   },
   {
    "duration": 8,
    "start_time": "2023-04-19T10:25:43.015Z"
   },
   {
    "duration": 8,
    "start_time": "2023-04-19T10:41:08.131Z"
   },
   {
    "duration": 44,
    "start_time": "2023-04-19T10:42:49.534Z"
   },
   {
    "duration": 65,
    "start_time": "2023-04-19T10:54:07.680Z"
   },
   {
    "duration": 20163,
    "start_time": "2023-04-19T10:54:27.130Z"
   },
   {
    "duration": 220,
    "start_time": "2023-04-19T11:02:33.491Z"
   },
   {
    "duration": 250,
    "start_time": "2023-04-19T11:03:19.535Z"
   },
   {
    "duration": 234,
    "start_time": "2023-04-19T11:03:33.558Z"
   },
   {
    "duration": 193,
    "start_time": "2023-04-19T11:03:40.777Z"
   },
   {
    "duration": 19342,
    "start_time": "2023-04-19T11:04:13.148Z"
   },
   {
    "duration": 270,
    "start_time": "2023-04-19T11:04:42.472Z"
   },
   {
    "duration": 299,
    "start_time": "2023-04-19T11:04:54.453Z"
   },
   {
    "duration": 390,
    "start_time": "2023-04-19T11:05:26.210Z"
   },
   {
    "duration": 411,
    "start_time": "2023-04-19T11:05:32.165Z"
   },
   {
    "duration": 19820,
    "start_time": "2023-04-19T11:06:18.697Z"
   },
   {
    "duration": 4468,
    "start_time": "2023-04-19T11:12:01.711Z"
   },
   {
    "duration": 8,
    "start_time": "2023-04-19T11:14:16.363Z"
   },
   {
    "duration": 888,
    "start_time": "2023-04-19T11:14:22.350Z"
   },
   {
    "duration": 675,
    "start_time": "2023-04-19T11:14:29.373Z"
   },
   {
    "duration": 721,
    "start_time": "2023-04-19T11:15:08.516Z"
   },
   {
    "duration": 3,
    "start_time": "2023-04-19T11:15:48.364Z"
   },
   {
    "duration": 1132,
    "start_time": "2023-04-19T11:15:55.215Z"
   },
   {
    "duration": 688,
    "start_time": "2023-04-19T11:17:16.854Z"
   },
   {
    "duration": 664,
    "start_time": "2023-04-19T11:18:08.779Z"
   },
   {
    "duration": 783,
    "start_time": "2023-04-19T11:18:19.761Z"
   },
   {
    "duration": 367,
    "start_time": "2023-04-19T11:20:10.124Z"
   },
   {
    "duration": 384,
    "start_time": "2023-04-19T11:20:46.149Z"
   },
   {
    "duration": 377,
    "start_time": "2023-04-19T11:22:00.395Z"
   },
   {
    "duration": 393,
    "start_time": "2023-04-19T11:22:20.293Z"
   },
   {
    "duration": 359,
    "start_time": "2023-04-19T11:22:33.822Z"
   },
   {
    "duration": 384,
    "start_time": "2023-04-19T11:22:49.809Z"
   },
   {
    "duration": 379,
    "start_time": "2023-04-19T11:22:59.479Z"
   },
   {
    "duration": 17,
    "start_time": "2023-04-19T11:23:30.143Z"
   },
   {
    "duration": 21,
    "start_time": "2023-04-19T11:24:07.425Z"
   },
   {
    "duration": 17,
    "start_time": "2023-04-19T11:24:30.184Z"
   },
   {
    "duration": 17,
    "start_time": "2023-04-19T11:25:08.808Z"
   },
   {
    "duration": 15,
    "start_time": "2023-04-19T11:25:15.279Z"
   },
   {
    "duration": 14,
    "start_time": "2023-04-19T11:25:20.999Z"
   },
   {
    "duration": 9,
    "start_time": "2023-04-19T11:25:25.507Z"
   },
   {
    "duration": 16,
    "start_time": "2023-04-19T11:25:34.114Z"
   },
   {
    "duration": 17,
    "start_time": "2023-04-19T11:25:36.651Z"
   },
   {
    "duration": 18896,
    "start_time": "2023-04-19T11:25:38.504Z"
   },
   {
    "duration": 16,
    "start_time": "2023-04-19T11:25:57.402Z"
   },
   {
    "duration": 821,
    "start_time": "2023-04-19T11:25:57.420Z"
   },
   {
    "duration": 18,
    "start_time": "2023-04-19T11:26:00.732Z"
   },
   {
    "duration": 21,
    "start_time": "2023-04-19T11:26:31.037Z"
   },
   {
    "duration": 775,
    "start_time": "2023-04-19T11:26:36.264Z"
   },
   {
    "duration": 10,
    "start_time": "2023-04-19T11:27:05.855Z"
   },
   {
    "duration": 11,
    "start_time": "2023-04-19T11:27:11.641Z"
   },
   {
    "duration": 15,
    "start_time": "2023-04-19T11:27:16.386Z"
   },
   {
    "duration": 17,
    "start_time": "2023-04-19T11:27:25.543Z"
   },
   {
    "duration": 16,
    "start_time": "2023-04-19T11:27:34.275Z"
   },
   {
    "duration": 16,
    "start_time": "2023-04-19T11:27:38.485Z"
   },
   {
    "duration": 19,
    "start_time": "2023-04-19T11:27:44.931Z"
   },
   {
    "duration": 17,
    "start_time": "2023-04-19T11:27:49.678Z"
   },
   {
    "duration": 15,
    "start_time": "2023-04-19T11:27:53.953Z"
   },
   {
    "duration": 194,
    "start_time": "2023-04-19T11:29:47.188Z"
   },
   {
    "duration": 387,
    "start_time": "2023-04-19T11:30:11.105Z"
   },
   {
    "duration": 6,
    "start_time": "2023-04-19T11:30:37.375Z"
   },
   {
    "duration": 5,
    "start_time": "2023-04-19T11:30:38.311Z"
   },
   {
    "duration": 4,
    "start_time": "2023-04-19T11:30:38.777Z"
   },
   {
    "duration": 442,
    "start_time": "2023-04-19T11:30:47.487Z"
   },
   {
    "duration": 20,
    "start_time": "2023-04-19T11:30:51.655Z"
   },
   {
    "duration": 632,
    "start_time": "2023-04-19T11:30:53.207Z"
   },
   {
    "duration": 5,
    "start_time": "2023-04-19T11:31:31.827Z"
   },
   {
    "duration": 6,
    "start_time": "2023-04-19T11:31:32.274Z"
   },
   {
    "duration": 5,
    "start_time": "2023-04-19T11:31:32.628Z"
   },
   {
    "duration": 6,
    "start_time": "2023-04-19T11:31:39.935Z"
   },
   {
    "duration": 5,
    "start_time": "2023-04-19T11:31:40.719Z"
   },
   {
    "duration": 4,
    "start_time": "2023-04-19T11:31:40.969Z"
   },
   {
    "duration": 573,
    "start_time": "2023-04-19T11:31:44.814Z"
   },
   {
    "duration": 31,
    "start_time": "2023-04-19T11:31:46.436Z"
   },
   {
    "duration": 134,
    "start_time": "2023-04-19T11:31:47.920Z"
   },
   {
    "duration": 293,
    "start_time": "2023-04-19T11:32:39.554Z"
   },
   {
    "duration": 24,
    "start_time": "2023-04-19T11:32:44.159Z"
   },
   {
    "duration": 227,
    "start_time": "2023-04-19T11:32:55.912Z"
   },
   {
    "duration": 261,
    "start_time": "2023-04-19T11:33:02.084Z"
   },
   {
    "duration": 280,
    "start_time": "2023-04-19T11:34:04.050Z"
   },
   {
    "duration": 220,
    "start_time": "2023-04-19T11:36:00.226Z"
   },
   {
    "duration": 17,
    "start_time": "2023-04-19T11:49:57.135Z"
   },
   {
    "duration": 5,
    "start_time": "2023-04-19T11:50:18.398Z"
   },
   {
    "duration": 6,
    "start_time": "2023-04-19T11:50:38.513Z"
   },
   {
    "duration": 8,
    "start_time": "2023-04-19T11:50:39.262Z"
   },
   {
    "duration": 20,
    "start_time": "2023-04-19T11:57:18.841Z"
   },
   {
    "duration": 3,
    "start_time": "2023-04-19T11:57:41.858Z"
   },
   {
    "duration": 13,
    "start_time": "2023-04-19T11:57:47.014Z"
   },
   {
    "duration": 5,
    "start_time": "2023-04-19T12:04:13.807Z"
   },
   {
    "duration": 5,
    "start_time": "2023-04-19T12:04:23.543Z"
   },
   {
    "duration": 138,
    "start_time": "2023-04-19T12:05:36.278Z"
   },
   {
    "duration": 596,
    "start_time": "2023-04-19T12:07:05.576Z"
   },
   {
    "duration": 382,
    "start_time": "2023-04-19T12:08:16.700Z"
   },
   {
    "duration": 127,
    "start_time": "2023-04-19T12:09:23.532Z"
   },
   {
    "duration": 427,
    "start_time": "2023-04-19T12:09:38.370Z"
   },
   {
    "duration": 17,
    "start_time": "2023-04-19T12:13:17.759Z"
   },
   {
    "duration": 4,
    "start_time": "2023-04-19T12:13:54.150Z"
   },
   {
    "duration": 12,
    "start_time": "2023-04-19T12:14:00.123Z"
   },
   {
    "duration": 17,
    "start_time": "2023-04-19T12:14:42.956Z"
   },
   {
    "duration": 6,
    "start_time": "2023-04-19T12:15:18.843Z"
   },
   {
    "duration": 5,
    "start_time": "2023-04-19T12:16:15.545Z"
   },
   {
    "duration": 8,
    "start_time": "2023-04-19T12:16:21.459Z"
   },
   {
    "duration": 1661,
    "start_time": "2023-04-20T11:39:54.672Z"
   },
   {
    "duration": 87,
    "start_time": "2023-04-20T11:39:56.335Z"
   },
   {
    "duration": 24,
    "start_time": "2023-04-20T11:39:56.424Z"
   },
   {
    "duration": 28,
    "start_time": "2023-04-20T11:39:56.450Z"
   },
   {
    "duration": 21,
    "start_time": "2023-04-20T11:39:56.479Z"
   },
   {
    "duration": 22,
    "start_time": "2023-04-20T11:39:56.501Z"
   },
   {
    "duration": 4,
    "start_time": "2023-04-20T11:39:56.583Z"
   },
   {
    "duration": 9,
    "start_time": "2023-04-20T11:39:57.439Z"
   },
   {
    "duration": 5,
    "start_time": "2023-04-20T11:39:57.687Z"
   },
   {
    "duration": 6,
    "start_time": "2023-04-20T11:39:57.928Z"
   },
   {
    "duration": 6,
    "start_time": "2023-04-20T11:39:58.147Z"
   },
   {
    "duration": 13,
    "start_time": "2023-04-20T11:39:58.404Z"
   },
   {
    "duration": 13,
    "start_time": "2023-04-20T11:39:58.624Z"
   },
   {
    "duration": 5,
    "start_time": "2023-04-20T11:39:59.023Z"
   },
   {
    "duration": 17,
    "start_time": "2023-04-20T11:39:59.203Z"
   },
   {
    "duration": 7,
    "start_time": "2023-04-20T11:39:59.571Z"
   },
   {
    "duration": 6,
    "start_time": "2023-04-20T11:39:59.795Z"
   },
   {
    "duration": 5,
    "start_time": "2023-04-20T11:39:59.999Z"
   },
   {
    "duration": 4,
    "start_time": "2023-04-20T11:40:00.199Z"
   },
   {
    "duration": 2,
    "start_time": "2023-04-20T11:40:04.156Z"
   },
   {
    "duration": 11,
    "start_time": "2023-04-20T11:40:04.427Z"
   },
   {
    "duration": 15,
    "start_time": "2023-04-20T11:40:04.871Z"
   },
   {
    "duration": 12,
    "start_time": "2023-04-20T11:40:05.315Z"
   },
   {
    "duration": 13,
    "start_time": "2023-04-20T11:40:05.835Z"
   },
   {
    "duration": 318,
    "start_time": "2023-04-20T11:40:08.303Z"
   },
   {
    "duration": 13,
    "start_time": "2023-04-20T11:40:23.572Z"
   },
   {
    "duration": 20,
    "start_time": "2023-04-20T11:41:12.947Z"
   },
   {
    "duration": 13,
    "start_time": "2023-04-20T11:41:21.175Z"
   },
   {
    "duration": 12,
    "start_time": "2023-04-20T11:41:31.385Z"
   },
   {
    "duration": 9,
    "start_time": "2023-04-20T11:41:32.119Z"
   },
   {
    "duration": 9,
    "start_time": "2023-04-20T11:41:33.115Z"
   },
   {
    "duration": 3,
    "start_time": "2023-04-20T11:41:53.923Z"
   },
   {
    "duration": 12,
    "start_time": "2023-04-20T11:41:54.431Z"
   },
   {
    "duration": 9,
    "start_time": "2023-04-20T11:41:54.911Z"
   },
   {
    "duration": 9,
    "start_time": "2023-04-20T11:41:55.340Z"
   },
   {
    "duration": 197,
    "start_time": "2023-04-20T11:42:19.335Z"
   },
   {
    "duration": 14,
    "start_time": "2023-04-20T11:42:29.779Z"
   },
   {
    "duration": 338,
    "start_time": "2023-04-20T11:42:37.588Z"
   },
   {
    "duration": 7,
    "start_time": "2023-04-20T11:42:41.431Z"
   },
   {
    "duration": 6,
    "start_time": "2023-04-20T11:42:42.167Z"
   },
   {
    "duration": 6,
    "start_time": "2023-04-20T11:42:42.880Z"
   },
   {
    "duration": 143,
    "start_time": "2023-04-20T11:42:47.711Z"
   },
   {
    "duration": 363,
    "start_time": "2023-04-20T11:43:00.535Z"
   },
   {
    "duration": 450,
    "start_time": "2023-04-20T11:43:14.927Z"
   },
   {
    "duration": 7,
    "start_time": "2023-04-20T11:43:29.539Z"
   },
   {
    "duration": 6,
    "start_time": "2023-04-20T11:46:22.683Z"
   },
   {
    "duration": 6,
    "start_time": "2023-04-20T11:46:27.015Z"
   },
   {
    "duration": 204,
    "start_time": "2023-04-20T11:49:02.239Z"
   },
   {
    "duration": 210,
    "start_time": "2023-04-20T11:49:46.291Z"
   },
   {
    "duration": 248,
    "start_time": "2023-04-20T11:49:53.623Z"
   },
   {
    "duration": 326,
    "start_time": "2023-04-20T11:50:03.241Z"
   },
   {
    "duration": 279,
    "start_time": "2023-04-20T11:50:12.275Z"
   },
   {
    "duration": 17,
    "start_time": "2023-04-20T11:51:13.421Z"
   },
   {
    "duration": 264,
    "start_time": "2023-04-20T11:52:32.942Z"
   },
   {
    "duration": 16,
    "start_time": "2023-04-20T11:52:34.564Z"
   },
   {
    "duration": 342,
    "start_time": "2023-04-20T11:52:35.877Z"
   },
   {
    "duration": 7,
    "start_time": "2023-04-20T11:53:09.384Z"
   },
   {
    "duration": 7,
    "start_time": "2023-04-20T11:53:09.947Z"
   },
   {
    "duration": 6,
    "start_time": "2023-04-20T11:53:10.342Z"
   },
   {
    "duration": 131,
    "start_time": "2023-04-20T11:53:11.357Z"
   },
   {
    "duration": 424,
    "start_time": "2023-04-20T11:53:13.076Z"
   },
   {
    "duration": 661,
    "start_time": "2023-04-20T11:53:14.560Z"
   },
   {
    "duration": 480,
    "start_time": "2023-04-20T11:53:35.914Z"
   },
   {
    "duration": 3,
    "start_time": "2023-04-20T11:55:08.447Z"
   },
   {
    "duration": 41,
    "start_time": "2023-04-20T11:55:10.194Z"
   },
   {
    "duration": 18,
    "start_time": "2023-04-20T11:55:11.029Z"
   },
   {
    "duration": 16,
    "start_time": "2023-04-20T11:55:11.935Z"
   },
   {
    "duration": 8,
    "start_time": "2023-04-20T11:55:13.026Z"
   },
   {
    "duration": 6,
    "start_time": "2023-04-20T11:55:14.325Z"
   },
   {
    "duration": 4,
    "start_time": "2023-04-20T11:55:14.987Z"
   },
   {
    "duration": 13,
    "start_time": "2023-04-20T11:55:16.364Z"
   },
   {
    "duration": 6,
    "start_time": "2023-04-20T11:55:17.114Z"
   },
   {
    "duration": 5,
    "start_time": "2023-04-20T11:55:21.025Z"
   },
   {
    "duration": 5,
    "start_time": "2023-04-20T11:55:22.005Z"
   },
   {
    "duration": 12,
    "start_time": "2023-04-20T11:55:24.305Z"
   },
   {
    "duration": 14,
    "start_time": "2023-04-20T11:55:27.182Z"
   },
   {
    "duration": 4,
    "start_time": "2023-04-20T11:55:37.487Z"
   },
   {
    "duration": 11,
    "start_time": "2023-04-20T11:55:38.388Z"
   },
   {
    "duration": 5,
    "start_time": "2023-04-20T11:55:40.774Z"
   },
   {
    "duration": 7,
    "start_time": "2023-04-20T11:55:41.936Z"
   },
   {
    "duration": 6,
    "start_time": "2023-04-20T11:55:44.148Z"
   },
   {
    "duration": 4,
    "start_time": "2023-04-20T11:55:45.018Z"
   },
   {
    "duration": 3,
    "start_time": "2023-04-20T11:55:57.895Z"
   },
   {
    "duration": 7,
    "start_time": "2023-04-20T11:55:59.645Z"
   },
   {
    "duration": 2,
    "start_time": "2023-04-20T11:56:03.514Z"
   },
   {
    "duration": 12,
    "start_time": "2023-04-20T11:56:04.762Z"
   },
   {
    "duration": 11,
    "start_time": "2023-04-20T11:56:06.570Z"
   },
   {
    "duration": 10,
    "start_time": "2023-04-20T11:56:07.643Z"
   },
   {
    "duration": 383,
    "start_time": "2023-04-20T11:56:17.322Z"
   },
   {
    "duration": 28,
    "start_time": "2023-04-20T11:56:19.086Z"
   },
   {
    "duration": 97,
    "start_time": "2023-04-20T11:56:27.132Z"
   },
   {
    "duration": 7,
    "start_time": "2023-04-20T11:56:41.886Z"
   },
   {
    "duration": 7,
    "start_time": "2023-04-20T11:56:42.854Z"
   },
   {
    "duration": 7,
    "start_time": "2023-04-20T11:56:43.769Z"
   },
   {
    "duration": 148,
    "start_time": "2023-04-20T11:56:53.304Z"
   },
   {
    "duration": 460,
    "start_time": "2023-04-20T11:56:54.391Z"
   },
   {
    "duration": 405,
    "start_time": "2023-04-20T11:56:56.084Z"
   },
   {
    "duration": 6,
    "start_time": "2023-04-20T11:57:02.366Z"
   },
   {
    "duration": 126,
    "start_time": "2023-04-20T11:59:16.734Z"
   },
   {
    "duration": 5,
    "start_time": "2023-04-20T12:04:31.816Z"
   },
   {
    "duration": 3,
    "start_time": "2023-04-20T12:06:40.314Z"
   },
   {
    "duration": 3,
    "start_time": "2023-04-20T12:06:48.015Z"
   },
   {
    "duration": 5,
    "start_time": "2023-04-20T12:06:48.667Z"
   },
   {
    "duration": 138,
    "start_time": "2023-04-20T12:07:56.998Z"
   },
   {
    "duration": 424,
    "start_time": "2023-04-20T12:07:58.600Z"
   },
   {
    "duration": 338,
    "start_time": "2023-04-20T12:08:00.463Z"
   },
   {
    "duration": 4,
    "start_time": "2023-04-20T12:08:04.000Z"
   },
   {
    "duration": 6,
    "start_time": "2023-04-20T12:08:04.523Z"
   },
   {
    "duration": 6,
    "start_time": "2023-04-20T12:08:46.771Z"
   },
   {
    "duration": 712,
    "start_time": "2023-04-20T12:09:06.910Z"
   },
   {
    "duration": 6,
    "start_time": "2023-04-20T12:12:05.735Z"
   },
   {
    "duration": 31,
    "start_time": "2023-04-20T12:21:03.519Z"
   },
   {
    "duration": 4,
    "start_time": "2023-04-20T12:21:21.009Z"
   },
   {
    "duration": 30,
    "start_time": "2023-04-20T12:21:26.595Z"
   },
   {
    "duration": 154,
    "start_time": "2023-04-20T12:22:41.767Z"
   },
   {
    "duration": 30,
    "start_time": "2023-04-20T12:23:08.513Z"
   },
   {
    "duration": 184,
    "start_time": "2023-04-20T12:23:09.652Z"
   },
   {
    "duration": 397,
    "start_time": "2023-04-20T12:24:02.491Z"
   },
   {
    "duration": 30,
    "start_time": "2023-04-20T12:24:07.854Z"
   },
   {
    "duration": 119,
    "start_time": "2023-04-20T12:24:08.809Z"
   },
   {
    "duration": 374,
    "start_time": "2023-04-20T12:24:09.773Z"
   },
   {
    "duration": 31,
    "start_time": "2023-04-20T12:31:42.048Z"
   },
   {
    "duration": 166,
    "start_time": "2023-04-20T12:31:42.957Z"
   },
   {
    "duration": 393,
    "start_time": "2023-04-20T12:31:43.518Z"
   },
   {
    "duration": 10,
    "start_time": "2023-04-20T12:34:51.008Z"
   },
   {
    "duration": 4,
    "start_time": "2023-04-20T12:35:54.140Z"
   },
   {
    "duration": 18,
    "start_time": "2023-04-20T12:35:59.115Z"
   },
   {
    "duration": 10,
    "start_time": "2023-04-20T12:37:06.696Z"
   },
   {
    "duration": 12,
    "start_time": "2023-04-20T12:37:27.117Z"
   },
   {
    "duration": 9,
    "start_time": "2023-04-20T12:38:30.295Z"
   },
   {
    "duration": 381,
    "start_time": "2023-04-20T12:38:33.620Z"
   },
   {
    "duration": 400,
    "start_time": "2023-04-20T12:38:36.676Z"
   },
   {
    "duration": 9,
    "start_time": "2023-04-20T12:38:37.522Z"
   },
   {
    "duration": 9,
    "start_time": "2023-04-20T12:43:38.320Z"
   },
   {
    "duration": 385,
    "start_time": "2023-04-20T13:10:39.112Z"
   },
   {
    "duration": 251,
    "start_time": "2023-04-20T13:11:49.173Z"
   },
   {
    "duration": 396,
    "start_time": "2023-04-20T13:12:20.059Z"
   },
   {
    "duration": 39,
    "start_time": "2023-04-20T13:12:21.913Z"
   },
   {
    "duration": 302,
    "start_time": "2023-04-20T13:12:26.517Z"
   },
   {
    "duration": 6,
    "start_time": "2023-04-20T13:12:44.814Z"
   },
   {
    "duration": 6,
    "start_time": "2023-04-20T13:12:45.671Z"
   },
   {
    "duration": 6,
    "start_time": "2023-04-20T13:12:46.118Z"
   },
   {
    "duration": 139,
    "start_time": "2023-04-20T13:12:57.538Z"
   },
   {
    "duration": 138,
    "start_time": "2023-04-20T13:13:28.428Z"
   },
   {
    "duration": 432,
    "start_time": "2023-04-20T13:13:31.803Z"
   },
   {
    "duration": 417,
    "start_time": "2023-04-20T13:13:34.673Z"
   },
   {
    "duration": 14,
    "start_time": "2023-04-20T13:28:55.519Z"
   },
   {
    "duration": 14,
    "start_time": "2023-04-20T13:29:52.090Z"
   },
   {
    "duration": 12,
    "start_time": "2023-04-20T13:30:01.659Z"
   },
   {
    "duration": 38,
    "start_time": "2023-04-20T13:30:57.010Z"
   },
   {
    "duration": 4,
    "start_time": "2023-04-20T13:31:01.369Z"
   },
   {
    "duration": 11,
    "start_time": "2023-04-20T13:31:01.691Z"
   },
   {
    "duration": 41,
    "start_time": "2023-04-20T13:31:02.040Z"
   },
   {
    "duration": 664,
    "start_time": "2023-04-20T13:32:02.209Z"
   },
   {
    "duration": 42,
    "start_time": "2023-04-20T13:32:03.998Z"
   },
   {
    "duration": 76,
    "start_time": "2023-04-20T13:33:17.867Z"
   },
   {
    "duration": 45,
    "start_time": "2023-04-20T13:33:26.673Z"
   },
   {
    "duration": 27,
    "start_time": "2023-04-20T13:39:30.653Z"
   },
   {
    "duration": 40,
    "start_time": "2023-04-20T13:44:51.390Z"
   },
   {
    "duration": 40,
    "start_time": "2023-04-20T13:45:23.228Z"
   },
   {
    "duration": 50,
    "start_time": "2023-04-20T13:45:51.768Z"
   },
   {
    "duration": 4,
    "start_time": "2023-04-20T13:46:40.001Z"
   },
   {
    "duration": 10,
    "start_time": "2023-04-20T13:46:40.409Z"
   },
   {
    "duration": 83,
    "start_time": "2023-04-20T13:46:41.238Z"
   },
   {
    "duration": 20,
    "start_time": "2023-04-20T13:46:46.780Z"
   },
   {
    "duration": 105,
    "start_time": "2023-04-20T13:46:52.717Z"
   },
   {
    "duration": 5,
    "start_time": "2023-04-20T13:46:56.482Z"
   },
   {
    "duration": 11,
    "start_time": "2023-04-20T13:46:56.893Z"
   },
   {
    "duration": 47,
    "start_time": "2023-04-20T13:46:57.675Z"
   },
   {
    "duration": 47,
    "start_time": "2023-04-20T13:47:33.874Z"
   },
   {
    "duration": 146,
    "start_time": "2023-04-20T13:47:45.174Z"
   },
   {
    "duration": 110,
    "start_time": "2023-04-20T13:47:56.411Z"
   },
   {
    "duration": 507,
    "start_time": "2023-04-20T13:47:58.923Z"
   },
   {
    "duration": 10,
    "start_time": "2023-04-20T13:48:07.687Z"
   },
   {
    "duration": 96,
    "start_time": "2023-04-20T13:48:08.727Z"
   },
   {
    "duration": 4,
    "start_time": "2023-04-20T13:48:13.483Z"
   },
   {
    "duration": 12,
    "start_time": "2023-04-20T13:48:14.097Z"
   },
   {
    "duration": 43,
    "start_time": "2023-04-20T13:48:14.894Z"
   },
   {
    "duration": 4,
    "start_time": "2023-04-20T13:48:25.474Z"
   },
   {
    "duration": 14,
    "start_time": "2023-04-20T13:48:25.890Z"
   },
   {
    "duration": 118,
    "start_time": "2023-04-20T13:48:26.402Z"
   },
   {
    "duration": 4,
    "start_time": "2023-04-20T13:48:35.414Z"
   },
   {
    "duration": 11,
    "start_time": "2023-04-20T13:48:35.967Z"
   },
   {
    "duration": 39,
    "start_time": "2023-04-20T13:48:36.679Z"
   },
   {
    "duration": 12,
    "start_time": "2023-04-20T13:49:10.203Z"
   },
   {
    "duration": 4,
    "start_time": "2023-04-20T13:49:11.785Z"
   },
   {
    "duration": 12,
    "start_time": "2023-04-20T13:49:12.218Z"
   },
   {
    "duration": 34,
    "start_time": "2023-04-20T13:49:13.019Z"
   },
   {
    "duration": 5,
    "start_time": "2023-04-20T13:49:21.058Z"
   },
   {
    "duration": 11,
    "start_time": "2023-04-20T13:49:22.098Z"
   },
   {
    "duration": 31,
    "start_time": "2023-04-20T13:49:22.236Z"
   },
   {
    "duration": 4,
    "start_time": "2023-04-20T13:49:31.446Z"
   },
   {
    "duration": 11,
    "start_time": "2023-04-20T13:49:31.755Z"
   },
   {
    "duration": 85,
    "start_time": "2023-04-20T13:49:32.332Z"
   },
   {
    "duration": 648,
    "start_time": "2023-04-20T13:49:51.703Z"
   },
   {
    "duration": 44,
    "start_time": "2023-04-20T13:50:07.216Z"
   },
   {
    "duration": 4,
    "start_time": "2023-04-20T13:50:47.379Z"
   },
   {
    "duration": 44,
    "start_time": "2023-04-20T13:50:48.019Z"
   },
   {
    "duration": 15,
    "start_time": "2023-04-20T13:50:48.475Z"
   },
   {
    "duration": 15,
    "start_time": "2023-04-20T13:50:48.904Z"
   },
   {
    "duration": 8,
    "start_time": "2023-04-20T13:50:49.371Z"
   },
   {
    "duration": 5,
    "start_time": "2023-04-20T13:50:49.814Z"
   },
   {
    "duration": 4,
    "start_time": "2023-04-20T13:50:50.271Z"
   },
   {
    "duration": 8,
    "start_time": "2023-04-20T13:50:50.867Z"
   },
   {
    "duration": 5,
    "start_time": "2023-04-20T13:50:51.111Z"
   },
   {
    "duration": 6,
    "start_time": "2023-04-20T13:50:51.325Z"
   },
   {
    "duration": 5,
    "start_time": "2023-04-20T13:50:51.580Z"
   },
   {
    "duration": 15,
    "start_time": "2023-04-20T13:50:51.786Z"
   },
   {
    "duration": 14,
    "start_time": "2023-04-20T13:50:51.991Z"
   },
   {
    "duration": 4,
    "start_time": "2023-04-20T13:50:52.375Z"
   },
   {
    "duration": 17,
    "start_time": "2023-04-20T13:50:52.531Z"
   },
   {
    "duration": 7,
    "start_time": "2023-04-20T13:50:52.723Z"
   },
   {
    "duration": 6,
    "start_time": "2023-04-20T13:50:52.919Z"
   },
   {
    "duration": 7,
    "start_time": "2023-04-20T13:50:53.425Z"
   },
   {
    "duration": 4,
    "start_time": "2023-04-20T13:50:53.779Z"
   },
   {
    "duration": 3,
    "start_time": "2023-04-20T13:50:59.970Z"
   },
   {
    "duration": 8,
    "start_time": "2023-04-20T13:51:00.383Z"
   },
   {
    "duration": 3,
    "start_time": "2023-04-20T13:51:00.733Z"
   },
   {
    "duration": 12,
    "start_time": "2023-04-20T13:51:01.261Z"
   },
   {
    "duration": 10,
    "start_time": "2023-04-20T13:51:01.571Z"
   },
   {
    "duration": 10,
    "start_time": "2023-04-20T13:51:01.807Z"
   },
   {
    "duration": 390,
    "start_time": "2023-04-20T13:51:04.143Z"
   },
   {
    "duration": 34,
    "start_time": "2023-04-20T13:51:04.595Z"
   },
   {
    "duration": 302,
    "start_time": "2023-04-20T13:51:06.927Z"
   },
   {
    "duration": 9,
    "start_time": "2023-04-20T13:51:11.870Z"
   },
   {
    "duration": 6,
    "start_time": "2023-04-20T13:51:12.295Z"
   },
   {
    "duration": 6,
    "start_time": "2023-04-20T13:51:13.175Z"
   },
   {
    "duration": 159,
    "start_time": "2023-04-20T13:51:22.115Z"
   },
   {
    "duration": 525,
    "start_time": "2023-04-20T13:51:24.336Z"
   },
   {
    "duration": 433,
    "start_time": "2023-04-20T13:51:24.864Z"
   },
   {
    "duration": 5,
    "start_time": "2023-04-20T13:51:25.640Z"
   },
   {
    "duration": 6,
    "start_time": "2023-04-20T13:51:26.655Z"
   },
   {
    "duration": 31,
    "start_time": "2023-04-20T13:51:30.687Z"
   },
   {
    "duration": 42,
    "start_time": "2023-04-20T13:51:34.483Z"
   },
   {
    "duration": 399,
    "start_time": "2023-04-20T13:51:35.519Z"
   },
   {
    "duration": 4,
    "start_time": "2023-04-20T13:51:40.119Z"
   },
   {
    "duration": 14,
    "start_time": "2023-04-20T13:51:41.346Z"
   },
   {
    "duration": 48,
    "start_time": "2023-04-20T13:51:42.871Z"
   },
   {
    "duration": 571,
    "start_time": "2023-04-20T13:51:45.303Z"
   },
   {
    "duration": 44,
    "start_time": "2023-04-20T13:51:45.877Z"
   },
   {
    "duration": 44,
    "start_time": "2023-04-20T13:52:24.275Z"
   },
   {
    "duration": 36,
    "start_time": "2023-04-20T13:52:27.482Z"
   },
   {
    "duration": 4,
    "start_time": "2023-04-20T13:52:30.475Z"
   },
   {
    "duration": 11,
    "start_time": "2023-04-20T13:52:30.887Z"
   },
   {
    "duration": 55,
    "start_time": "2023-04-20T13:52:31.964Z"
   },
   {
    "duration": 557,
    "start_time": "2023-04-20T13:52:47.727Z"
   },
   {
    "duration": 585,
    "start_time": "2023-04-20T13:53:07.587Z"
   },
   {
    "duration": 41,
    "start_time": "2023-04-20T13:53:27.115Z"
   },
   {
    "duration": 41,
    "start_time": "2023-04-20T13:53:29.915Z"
   },
   {
    "duration": 15,
    "start_time": "2023-04-20T13:54:04.228Z"
   },
   {
    "duration": 49,
    "start_time": "2023-04-20T13:54:04.971Z"
   },
   {
    "duration": 623,
    "start_time": "2023-04-20T13:54:06.634Z"
   },
   {
    "duration": 4,
    "start_time": "2023-04-20T13:54:12.167Z"
   },
   {
    "duration": 11,
    "start_time": "2023-04-20T13:54:12.807Z"
   },
   {
    "duration": 36,
    "start_time": "2023-04-20T13:54:13.291Z"
   },
   {
    "duration": 650,
    "start_time": "2023-04-20T13:54:14.851Z"
   },
   {
    "duration": 4,
    "start_time": "2023-04-20T13:54:25.303Z"
   },
   {
    "duration": 11,
    "start_time": "2023-04-20T13:54:25.815Z"
   },
   {
    "duration": 109,
    "start_time": "2023-04-20T13:54:26.411Z"
   },
   {
    "duration": 664,
    "start_time": "2023-04-20T13:54:27.795Z"
   },
   {
    "duration": 43,
    "start_time": "2023-04-20T13:54:29.639Z"
   },
   {
    "duration": 19,
    "start_time": "2023-04-20T13:54:52.510Z"
   },
   {
    "duration": 19,
    "start_time": "2023-04-20T13:55:47.503Z"
   },
   {
    "duration": 14,
    "start_time": "2023-04-20T13:55:55.779Z"
   },
   {
    "duration": 5,
    "start_time": "2023-04-20T13:55:57.798Z"
   },
   {
    "duration": 12,
    "start_time": "2023-04-20T13:55:58.250Z"
   },
   {
    "duration": 4,
    "start_time": "2023-04-20T13:56:06.896Z"
   },
   {
    "duration": 16,
    "start_time": "2023-04-20T13:56:07.312Z"
   },
   {
    "duration": 4,
    "start_time": "2023-04-20T13:56:14.683Z"
   },
   {
    "duration": 15,
    "start_time": "2023-04-20T13:56:15.034Z"
   },
   {
    "duration": 4,
    "start_time": "2023-04-20T13:56:19.597Z"
   },
   {
    "duration": 12,
    "start_time": "2023-04-20T13:56:20.999Z"
   },
   {
    "duration": 14,
    "start_time": "2023-04-20T13:56:26.090Z"
   },
   {
    "duration": 4,
    "start_time": "2023-04-20T13:56:30.175Z"
   },
   {
    "duration": 33,
    "start_time": "2023-04-20T13:56:30.531Z"
   },
   {
    "duration": 4,
    "start_time": "2023-04-20T13:56:35.891Z"
   },
   {
    "duration": 13,
    "start_time": "2023-04-20T13:56:36.199Z"
   },
   {
    "duration": 6,
    "start_time": "2023-04-20T13:56:41.455Z"
   },
   {
    "duration": 15,
    "start_time": "2023-04-20T13:56:42.267Z"
   },
   {
    "duration": 4,
    "start_time": "2023-04-20T13:56:45.843Z"
   },
   {
    "duration": 11,
    "start_time": "2023-04-20T13:56:46.291Z"
   },
   {
    "duration": 4,
    "start_time": "2023-04-20T13:56:50.136Z"
   },
   {
    "duration": 16,
    "start_time": "2023-04-20T13:56:50.507Z"
   },
   {
    "duration": 12,
    "start_time": "2023-04-20T13:56:58.903Z"
   },
   {
    "duration": 34,
    "start_time": "2023-04-20T13:57:04.491Z"
   },
   {
    "duration": 147,
    "start_time": "2023-04-20T13:58:22.454Z"
   },
   {
    "duration": 14,
    "start_time": "2023-04-20T13:58:35.043Z"
   },
   {
    "duration": 15,
    "start_time": "2023-04-20T13:58:46.815Z"
   },
   {
    "duration": 112,
    "start_time": "2023-04-20T13:58:47.851Z"
   },
   {
    "duration": 6,
    "start_time": "2023-04-20T13:59:26.983Z"
   },
   {
    "duration": 124,
    "start_time": "2023-04-20T13:59:36.814Z"
   },
   {
    "duration": 92,
    "start_time": "2023-04-20T14:00:42.634Z"
   },
   {
    "duration": 77,
    "start_time": "2023-04-20T14:00:51.327Z"
   },
   {
    "duration": 119,
    "start_time": "2023-04-20T14:00:59.015Z"
   },
   {
    "duration": 4,
    "start_time": "2023-04-20T14:01:13.951Z"
   },
   {
    "duration": 11,
    "start_time": "2023-04-20T14:01:14.267Z"
   },
   {
    "duration": 6,
    "start_time": "2023-04-20T14:01:14.543Z"
   },
   {
    "duration": 94,
    "start_time": "2023-04-20T14:01:16.778Z"
   },
   {
    "duration": 6,
    "start_time": "2023-04-20T14:01:46.867Z"
   },
   {
    "duration": 4,
    "start_time": "2023-04-20T14:01:51.511Z"
   },
   {
    "duration": 9,
    "start_time": "2023-04-20T14:01:52.055Z"
   },
   {
    "duration": 6,
    "start_time": "2023-04-20T14:01:52.497Z"
   },
   {
    "duration": 0,
    "start_time": "2023-04-20T14:05:34.341Z"
   },
   {
    "duration": 0,
    "start_time": "2023-04-20T14:05:34.342Z"
   },
   {
    "duration": 0,
    "start_time": "2023-04-20T14:05:34.344Z"
   },
   {
    "duration": 4,
    "start_time": "2023-04-20T14:05:38.279Z"
   },
   {
    "duration": 52,
    "start_time": "2023-04-20T14:05:38.988Z"
   },
   {
    "duration": 15,
    "start_time": "2023-04-20T14:05:40.154Z"
   },
   {
    "duration": 13,
    "start_time": "2023-04-20T14:05:42.185Z"
   },
   {
    "duration": 9,
    "start_time": "2023-04-20T14:05:42.811Z"
   },
   {
    "duration": 5,
    "start_time": "2023-04-20T14:05:43.363Z"
   },
   {
    "duration": 4,
    "start_time": "2023-04-20T14:05:43.949Z"
   },
   {
    "duration": 9,
    "start_time": "2023-04-20T14:05:44.962Z"
   },
   {
    "duration": 8,
    "start_time": "2023-04-20T14:05:45.638Z"
   },
   {
    "duration": 10,
    "start_time": "2023-04-20T14:05:46.217Z"
   },
   {
    "duration": 7,
    "start_time": "2023-04-20T14:05:46.735Z"
   },
   {
    "duration": 12,
    "start_time": "2023-04-20T14:05:47.562Z"
   },
   {
    "duration": 13,
    "start_time": "2023-04-20T14:05:48.363Z"
   },
   {
    "duration": 4,
    "start_time": "2023-04-20T14:05:54.165Z"
   },
   {
    "duration": 23,
    "start_time": "2023-04-20T14:05:55.108Z"
   },
   {
    "duration": 6,
    "start_time": "2023-04-20T14:05:55.971Z"
   },
   {
    "duration": 8,
    "start_time": "2023-04-20T14:05:57.243Z"
   },
   {
    "duration": 5,
    "start_time": "2023-04-20T14:05:57.810Z"
   },
   {
    "duration": 4,
    "start_time": "2023-04-20T14:05:58.159Z"
   },
   {
    "duration": 7,
    "start_time": "2023-04-20T14:06:08.842Z"
   },
   {
    "duration": 6,
    "start_time": "2023-04-20T14:06:09.352Z"
   },
   {
    "duration": 7,
    "start_time": "2023-04-20T14:06:09.716Z"
   },
   {
    "duration": 8,
    "start_time": "2023-04-20T14:06:14.464Z"
   },
   {
    "duration": 7,
    "start_time": "2023-04-20T14:06:14.985Z"
   },
   {
    "duration": 5,
    "start_time": "2023-04-20T14:06:15.359Z"
   },
   {
    "duration": 4,
    "start_time": "2023-04-20T14:06:17.013Z"
   },
   {
    "duration": 14,
    "start_time": "2023-04-20T14:06:17.414Z"
   },
   {
    "duration": 3,
    "start_time": "2023-04-20T14:06:17.953Z"
   },
   {
    "duration": 12,
    "start_time": "2023-04-20T14:06:18.543Z"
   },
   {
    "duration": 13,
    "start_time": "2023-04-20T14:06:19.024Z"
   },
   {
    "duration": 9,
    "start_time": "2023-04-20T14:06:19.653Z"
   },
   {
    "duration": 470,
    "start_time": "2023-04-20T14:06:23.923Z"
   },
   {
    "duration": 135,
    "start_time": "2023-04-20T14:06:29.001Z"
   },
   {
    "duration": 132,
    "start_time": "2023-04-20T14:06:37.732Z"
   },
   {
    "duration": 4,
    "start_time": "2023-04-20T14:06:51.081Z"
   },
   {
    "duration": 52,
    "start_time": "2023-04-20T14:06:51.695Z"
   },
   {
    "duration": 26,
    "start_time": "2023-04-20T14:06:52.095Z"
   },
   {
    "duration": 17,
    "start_time": "2023-04-20T14:06:52.921Z"
   },
   {
    "duration": 9,
    "start_time": "2023-04-20T14:06:53.183Z"
   },
   {
    "duration": 14,
    "start_time": "2023-04-20T14:06:53.412Z"
   },
   {
    "duration": 4,
    "start_time": "2023-04-20T14:06:53.652Z"
   },
   {
    "duration": 8,
    "start_time": "2023-04-20T14:06:54.695Z"
   },
   {
    "duration": 5,
    "start_time": "2023-04-20T14:06:55.000Z"
   },
   {
    "duration": 6,
    "start_time": "2023-04-20T14:06:55.283Z"
   },
   {
    "duration": 4,
    "start_time": "2023-04-20T14:06:55.500Z"
   },
   {
    "duration": 14,
    "start_time": "2023-04-20T14:06:55.757Z"
   },
   {
    "duration": 15,
    "start_time": "2023-04-20T14:06:55.996Z"
   },
   {
    "duration": 5,
    "start_time": "2023-04-20T14:06:56.472Z"
   },
   {
    "duration": 16,
    "start_time": "2023-04-20T14:06:56.714Z"
   },
   {
    "duration": 5,
    "start_time": "2023-04-20T14:06:56.955Z"
   },
   {
    "duration": 8,
    "start_time": "2023-04-20T14:06:57.189Z"
   },
   {
    "duration": 14,
    "start_time": "2023-04-20T14:06:57.419Z"
   },
   {
    "duration": 6,
    "start_time": "2023-04-20T14:06:57.651Z"
   },
   {
    "duration": 3,
    "start_time": "2023-04-20T14:06:58.346Z"
   },
   {
    "duration": 9,
    "start_time": "2023-04-20T14:06:58.571Z"
   },
   {
    "duration": 3,
    "start_time": "2023-04-20T14:06:58.790Z"
   },
   {
    "duration": 21,
    "start_time": "2023-04-20T14:06:59.021Z"
   },
   {
    "duration": 11,
    "start_time": "2023-04-20T14:06:59.235Z"
   },
   {
    "duration": 10,
    "start_time": "2023-04-20T14:06:59.447Z"
   },
   {
    "duration": 488,
    "start_time": "2023-04-20T14:07:00.905Z"
   },
   {
    "duration": 135,
    "start_time": "2023-04-20T14:07:02.258Z"
   },
   {
    "duration": 659,
    "start_time": "2023-04-20T14:07:04.668Z"
   },
   {
    "duration": 48,
    "start_time": "2023-04-20T14:07:23.304Z"
   },
   {
    "duration": 43,
    "start_time": "2023-04-20T14:07:33.563Z"
   },
   {
    "duration": 714,
    "start_time": "2023-04-20T14:07:35.428Z"
   },
   {
    "duration": 17,
    "start_time": "2023-04-20T14:07:48.715Z"
   },
   {
    "duration": 20,
    "start_time": "2023-04-20T14:07:50.013Z"
   },
   {
    "duration": 8,
    "start_time": "2023-04-20T14:07:51.216Z"
   },
   {
    "duration": 132,
    "start_time": "2023-04-20T14:07:53.265Z"
   },
   {
    "duration": 553,
    "start_time": "2023-04-20T14:07:56.950Z"
   },
   {
    "duration": 525,
    "start_time": "2023-04-20T14:07:57.672Z"
   },
   {
    "duration": 3,
    "start_time": "2023-04-20T14:07:58.578Z"
   },
   {
    "duration": 7,
    "start_time": "2023-04-20T14:07:59.463Z"
   },
   {
    "duration": 45,
    "start_time": "2023-04-20T14:08:14.701Z"
   },
   {
    "duration": 524,
    "start_time": "2023-04-20T14:08:17.011Z"
   },
   {
    "duration": 479,
    "start_time": "2023-04-20T14:08:17.798Z"
   },
   {
    "duration": 4,
    "start_time": "2023-04-20T14:08:30.607Z"
   },
   {
    "duration": 12,
    "start_time": "2023-04-20T14:08:31.101Z"
   },
   {
    "duration": 7,
    "start_time": "2023-04-20T14:08:31.463Z"
   },
   {
    "duration": 11,
    "start_time": "2023-04-20T14:08:32.680Z"
   },
   {
    "duration": 92,
    "start_time": "2023-04-20T14:08:41.760Z"
   },
   {
    "duration": 10,
    "start_time": "2023-04-20T14:09:09.596Z"
   },
   {
    "duration": 32,
    "start_time": "2023-04-20T14:09:46.665Z"
   },
   {
    "duration": 14,
    "start_time": "2023-04-20T14:11:05.109Z"
   },
   {
    "duration": 10,
    "start_time": "2023-04-20T14:11:38.649Z"
   },
   {
    "duration": 13,
    "start_time": "2023-04-20T14:11:44.610Z"
   },
   {
    "duration": 6,
    "start_time": "2023-04-20T14:11:45.078Z"
   },
   {
    "duration": 12,
    "start_time": "2023-04-20T14:11:49.813Z"
   },
   {
    "duration": 6,
    "start_time": "2023-04-20T14:11:50.294Z"
   },
   {
    "duration": 13,
    "start_time": "2023-04-20T14:11:54.397Z"
   },
   {
    "duration": 12,
    "start_time": "2023-04-20T14:11:54.927Z"
   },
   {
    "duration": 12,
    "start_time": "2023-04-20T14:12:01.465Z"
   },
   {
    "duration": 11,
    "start_time": "2023-04-20T14:12:01.916Z"
   },
   {
    "duration": 15,
    "start_time": "2023-04-20T14:12:06.229Z"
   },
   {
    "duration": 6,
    "start_time": "2023-04-20T14:12:06.574Z"
   },
   {
    "duration": 9,
    "start_time": "2023-04-20T14:13:04.221Z"
   },
   {
    "duration": 44,
    "start_time": "2023-04-20T14:16:17.180Z"
   },
   {
    "duration": 658,
    "start_time": "2023-04-20T14:17:01.549Z"
   },
   {
    "duration": 40,
    "start_time": "2023-04-20T14:17:16.518Z"
   },
   {
    "duration": 165,
    "start_time": "2023-04-20T14:17:42.661Z"
   },
   {
    "duration": 668,
    "start_time": "2023-04-20T14:17:44.658Z"
   },
   {
    "duration": 38,
    "start_time": "2023-04-20T14:17:45.328Z"
   },
   {
    "duration": 32,
    "start_time": "2023-04-20T14:17:49.456Z"
   },
   {
    "duration": 641,
    "start_time": "2023-04-20T14:17:50.115Z"
   },
   {
    "duration": 41,
    "start_time": "2023-04-20T14:17:52.086Z"
   },
   {
    "duration": 727,
    "start_time": "2023-04-20T14:17:59.464Z"
   },
   {
    "duration": 913,
    "start_time": "2023-04-20T14:18:06.042Z"
   },
   {
    "duration": 694,
    "start_time": "2023-04-20T14:18:13.143Z"
   },
   {
    "duration": 39,
    "start_time": "2023-04-20T14:18:18.683Z"
   },
   {
    "duration": 47,
    "start_time": "2023-04-20T14:18:26.032Z"
   },
   {
    "duration": 50,
    "start_time": "2023-04-20T14:18:30.577Z"
   },
   {
    "duration": 32,
    "start_time": "2023-04-20T14:18:34.915Z"
   },
   {
    "duration": 39,
    "start_time": "2023-04-20T14:18:39.155Z"
   },
   {
    "duration": 40,
    "start_time": "2023-04-20T14:18:42.760Z"
   },
   {
    "duration": 26,
    "start_time": "2023-04-20T14:18:47.976Z"
   },
   {
    "duration": 64,
    "start_time": "2023-04-20T14:18:53.155Z"
   },
   {
    "duration": 22,
    "start_time": "2023-04-20T14:18:59.658Z"
   },
   {
    "duration": 26,
    "start_time": "2023-04-20T14:19:03.805Z"
   },
   {
    "duration": 74,
    "start_time": "2023-04-20T14:19:10.856Z"
   },
   {
    "duration": 41,
    "start_time": "2023-04-20T14:19:37.111Z"
   },
   {
    "duration": 34,
    "start_time": "2023-04-20T14:19:43.043Z"
   },
   {
    "duration": 32,
    "start_time": "2023-04-20T14:20:03.037Z"
   },
   {
    "duration": 35,
    "start_time": "2023-04-20T14:20:08.845Z"
   },
   {
    "duration": 39,
    "start_time": "2023-04-20T14:20:14.347Z"
   },
   {
    "duration": 33,
    "start_time": "2023-04-20T14:20:18.956Z"
   },
   {
    "duration": 683,
    "start_time": "2023-04-20T14:20:49.903Z"
   },
   {
    "duration": 30,
    "start_time": "2023-04-20T14:21:20.077Z"
   },
   {
    "duration": 28,
    "start_time": "2023-04-20T14:21:22.805Z"
   },
   {
    "duration": 42,
    "start_time": "2023-04-20T14:21:40.660Z"
   },
   {
    "duration": 27,
    "start_time": "2023-04-20T14:21:45.865Z"
   },
   {
    "duration": 73,
    "start_time": "2023-04-20T14:23:00.348Z"
   },
   {
    "duration": 156,
    "start_time": "2023-04-20T14:23:26.863Z"
   },
   {
    "duration": 247,
    "start_time": "2023-04-20T14:23:41.371Z"
   },
   {
    "duration": 1774,
    "start_time": "2023-04-22T07:40:17.718Z"
   },
   {
    "duration": 83,
    "start_time": "2023-04-22T07:40:19.495Z"
   },
   {
    "duration": 29,
    "start_time": "2023-04-22T07:40:19.580Z"
   },
   {
    "duration": 14,
    "start_time": "2023-04-22T07:40:19.611Z"
   },
   {
    "duration": 9,
    "start_time": "2023-04-22T07:40:19.709Z"
   },
   {
    "duration": 6,
    "start_time": "2023-04-22T07:40:19.988Z"
   },
   {
    "duration": 4,
    "start_time": "2023-04-22T07:40:20.309Z"
   },
   {
    "duration": 9,
    "start_time": "2023-04-22T07:40:20.809Z"
   },
   {
    "duration": 5,
    "start_time": "2023-04-22T07:40:21.060Z"
   },
   {
    "duration": 5,
    "start_time": "2023-04-22T07:40:21.312Z"
   },
   {
    "duration": 4,
    "start_time": "2023-04-22T07:40:21.544Z"
   },
   {
    "duration": 12,
    "start_time": "2023-04-22T07:40:21.781Z"
   },
   {
    "duration": 14,
    "start_time": "2023-04-22T07:40:22.032Z"
   },
   {
    "duration": 5,
    "start_time": "2023-04-22T07:40:22.409Z"
   },
   {
    "duration": 14,
    "start_time": "2023-04-22T07:40:22.609Z"
   },
   {
    "duration": 6,
    "start_time": "2023-04-22T07:40:22.760Z"
   },
   {
    "duration": 7,
    "start_time": "2023-04-22T07:40:22.978Z"
   },
   {
    "duration": 6,
    "start_time": "2023-04-22T07:40:23.179Z"
   },
   {
    "duration": 4,
    "start_time": "2023-04-22T07:40:23.373Z"
   },
   {
    "duration": 3,
    "start_time": "2023-04-22T07:40:23.930Z"
   },
   {
    "duration": 11,
    "start_time": "2023-04-22T07:40:24.434Z"
   },
   {
    "duration": 3,
    "start_time": "2023-04-22T07:40:24.669Z"
   },
   {
    "duration": 13,
    "start_time": "2023-04-22T07:40:24.907Z"
   },
   {
    "duration": 10,
    "start_time": "2023-04-22T07:40:25.108Z"
   },
   {
    "duration": 9,
    "start_time": "2023-04-22T07:40:25.315Z"
   },
   {
    "duration": 463,
    "start_time": "2023-04-22T07:40:27.442Z"
   },
   {
    "duration": 240,
    "start_time": "2023-04-22T07:40:30.156Z"
   },
   {
    "duration": 49,
    "start_time": "2023-04-22T07:40:58.151Z"
   },
   {
    "duration": 469,
    "start_time": "2023-04-22T07:41:01.768Z"
   },
   {
    "duration": 204,
    "start_time": "2023-04-22T07:41:45.332Z"
   },
   {
    "duration": 8,
    "start_time": "2023-04-22T07:41:49.709Z"
   },
   {
    "duration": 6,
    "start_time": "2023-04-22T07:41:50.266Z"
   },
   {
    "duration": 15,
    "start_time": "2023-04-22T07:41:50.813Z"
   },
   {
    "duration": 151,
    "start_time": "2023-04-22T07:42:06.646Z"
   },
   {
    "duration": 508,
    "start_time": "2023-04-22T07:42:09.155Z"
   },
   {
    "duration": 715,
    "start_time": "2023-04-22T07:42:09.665Z"
   },
   {
    "duration": 5,
    "start_time": "2023-04-22T07:42:11.124Z"
   },
   {
    "duration": 5,
    "start_time": "2023-04-22T07:42:12.266Z"
   },
   {
    "duration": 45,
    "start_time": "2023-04-22T07:42:28.178Z"
   },
   {
    "duration": 168,
    "start_time": "2023-04-22T07:42:29.465Z"
   },
   {
    "duration": 7,
    "start_time": "2023-04-22T07:42:42.453Z"
   },
   {
    "duration": 8,
    "start_time": "2023-04-22T07:42:42.647Z"
   },
   {
    "duration": 6,
    "start_time": "2023-04-22T07:42:43.052Z"
   },
   {
    "duration": 131,
    "start_time": "2023-04-22T07:42:44.059Z"
   },
   {
    "duration": 484,
    "start_time": "2023-04-22T07:42:44.759Z"
   },
   {
    "duration": 496,
    "start_time": "2023-04-22T07:42:45.437Z"
   },
   {
    "duration": 3,
    "start_time": "2023-04-22T07:43:15.811Z"
   },
   {
    "duration": 6,
    "start_time": "2023-04-22T07:43:16.508Z"
   },
   {
    "duration": 33,
    "start_time": "2023-04-22T07:43:30.537Z"
   },
   {
    "duration": 165,
    "start_time": "2023-04-22T07:43:41.674Z"
   },
   {
    "duration": 491,
    "start_time": "2023-04-22T07:43:42.022Z"
   },
   {
    "duration": 5,
    "start_time": "2023-04-22T07:43:45.109Z"
   },
   {
    "duration": 12,
    "start_time": "2023-04-22T07:43:45.649Z"
   },
   {
    "duration": 7,
    "start_time": "2023-04-22T07:43:46.363Z"
   },
   {
    "duration": 90,
    "start_time": "2023-04-22T07:43:47.909Z"
   },
   {
    "duration": 231,
    "start_time": "2023-04-22T07:43:51.806Z"
   },
   {
    "duration": 762,
    "start_time": "2023-04-22T07:43:56.477Z"
   },
   {
    "duration": 28,
    "start_time": "2023-04-22T07:44:01.690Z"
   },
   {
    "duration": 29,
    "start_time": "2023-04-22T07:44:09.974Z"
   },
   {
    "duration": 24,
    "start_time": "2023-04-22T07:44:16.331Z"
   },
   {
    "duration": 27,
    "start_time": "2023-04-22T07:44:20.528Z"
   },
   {
    "duration": 14,
    "start_time": "2023-04-22T07:44:32.465Z"
   },
   {
    "duration": 8,
    "start_time": "2023-04-22T07:44:33.717Z"
   },
   {
    "duration": 21,
    "start_time": "2023-04-22T07:44:38.038Z"
   },
   {
    "duration": 95,
    "start_time": "2023-04-22T07:45:11.886Z"
   },
   {
    "duration": 82,
    "start_time": "2023-04-22T07:45:23.813Z"
   },
   {
    "duration": 233,
    "start_time": "2023-04-22T07:49:49.993Z"
   },
   {
    "duration": 381,
    "start_time": "2023-04-22T07:51:23.338Z"
   },
   {
    "duration": 456,
    "start_time": "2023-04-22T07:51:40.364Z"
   },
   {
    "duration": 224,
    "start_time": "2023-04-22T07:52:04.697Z"
   },
   {
    "duration": 325,
    "start_time": "2023-04-22T07:52:23.394Z"
   },
   {
    "duration": 357,
    "start_time": "2023-04-22T07:52:28.562Z"
   },
   {
    "duration": 378,
    "start_time": "2023-04-22T07:52:38.641Z"
   },
   {
    "duration": 221,
    "start_time": "2023-04-22T07:52:47.300Z"
   },
   {
    "duration": 163,
    "start_time": "2023-04-22T07:53:36.863Z"
   },
   {
    "duration": 379,
    "start_time": "2023-04-22T07:54:52.940Z"
   },
   {
    "duration": 295,
    "start_time": "2023-04-22T07:55:19.123Z"
   },
   {
    "duration": 58,
    "start_time": "2023-04-22T07:55:25.369Z"
   },
   {
    "duration": 4,
    "start_time": "2023-04-22T07:58:57.978Z"
   },
   {
    "duration": 20,
    "start_time": "2023-04-22T07:58:58.743Z"
   },
   {
    "duration": 5,
    "start_time": "2023-04-22T07:58:59.626Z"
   },
   {
    "duration": 4,
    "start_time": "2023-04-22T07:59:40.599Z"
   },
   {
    "duration": 23,
    "start_time": "2023-04-22T07:59:41.282Z"
   },
   {
    "duration": 12,
    "start_time": "2023-04-22T07:59:56.509Z"
   },
   {
    "duration": 7,
    "start_time": "2023-04-22T07:59:58.249Z"
   },
   {
    "duration": 80,
    "start_time": "2023-04-22T08:00:00.321Z"
   },
   {
    "duration": 926,
    "start_time": "2023-04-22T08:00:03.693Z"
   },
   {
    "duration": 1060,
    "start_time": "2023-04-22T08:00:22.165Z"
   },
   {
    "duration": 38,
    "start_time": "2023-04-22T08:00:28.739Z"
   },
   {
    "duration": 4,
    "start_time": "2023-04-22T08:00:53.859Z"
   },
   {
    "duration": 16,
    "start_time": "2023-04-22T08:00:54.274Z"
   },
   {
    "duration": 6,
    "start_time": "2023-04-22T08:00:54.691Z"
   },
   {
    "duration": 81,
    "start_time": "2023-04-22T08:00:55.699Z"
   },
   {
    "duration": 5,
    "start_time": "2023-04-22T08:01:31.414Z"
   },
   {
    "duration": 12,
    "start_time": "2023-04-22T08:01:32.193Z"
   },
   {
    "duration": 7,
    "start_time": "2023-04-22T08:01:34.221Z"
   },
   {
    "duration": 82,
    "start_time": "2023-04-22T08:01:35.078Z"
   },
   {
    "duration": 929,
    "start_time": "2023-04-22T08:01:37.594Z"
   },
   {
    "duration": 1023,
    "start_time": "2023-04-22T08:01:39.307Z"
   },
   {
    "duration": 40,
    "start_time": "2023-04-22T08:01:41.140Z"
   },
   {
    "duration": 4,
    "start_time": "2023-04-22T08:02:02.291Z"
   },
   {
    "duration": 16,
    "start_time": "2023-04-22T08:02:02.624Z"
   },
   {
    "duration": 6,
    "start_time": "2023-04-22T08:02:02.901Z"
   },
   {
    "duration": 85,
    "start_time": "2023-04-22T08:02:03.726Z"
   },
   {
    "duration": 1680,
    "start_time": "2023-04-22T08:02:04.542Z"
   },
   {
    "duration": 1606,
    "start_time": "2023-04-22T08:02:06.225Z"
   },
   {
    "duration": 52,
    "start_time": "2023-04-22T08:02:07.833Z"
   },
   {
    "duration": 12,
    "start_time": "2023-04-22T08:02:07.887Z"
   },
   {
    "duration": 5,
    "start_time": "2023-04-22T08:02:17.199Z"
   },
   {
    "duration": 11,
    "start_time": "2023-04-22T08:02:17.565Z"
   },
   {
    "duration": 6,
    "start_time": "2023-04-22T08:02:17.816Z"
   },
   {
    "duration": 78,
    "start_time": "2023-04-22T08:02:18.131Z"
   },
   {
    "duration": 1077,
    "start_time": "2023-04-22T08:02:18.449Z"
   },
   {
    "duration": 1080,
    "start_time": "2023-04-22T08:02:19.619Z"
   },
   {
    "duration": 40,
    "start_time": "2023-04-22T08:02:20.701Z"
   },
   {
    "duration": 11,
    "start_time": "2023-04-22T08:02:20.743Z"
   },
   {
    "duration": 10,
    "start_time": "2023-04-22T08:03:37.726Z"
   },
   {
    "duration": 11,
    "start_time": "2023-04-22T08:05:06.846Z"
   },
   {
    "duration": 7,
    "start_time": "2023-04-22T08:05:07.465Z"
   },
   {
    "duration": 76,
    "start_time": "2023-04-22T08:05:08.449Z"
   },
   {
    "duration": 9,
    "start_time": "2023-04-22T08:05:08.886Z"
   },
   {
    "duration": 10,
    "start_time": "2023-04-22T08:05:53.700Z"
   },
   {
    "duration": 6,
    "start_time": "2023-04-22T08:06:05.456Z"
   },
   {
    "duration": 78,
    "start_time": "2023-04-22T08:06:06.448Z"
   },
   {
    "duration": 142,
    "start_time": "2023-04-22T08:06:37.180Z"
   },
   {
    "duration": 240,
    "start_time": "2023-04-22T08:07:09.979Z"
   },
   {
    "duration": 251,
    "start_time": "2023-04-22T08:09:21.175Z"
   },
   {
    "duration": 11,
    "start_time": "2023-04-22T08:09:26.817Z"
   },
   {
    "duration": 7,
    "start_time": "2023-04-22T08:09:27.421Z"
   },
   {
    "duration": 82,
    "start_time": "2023-04-22T08:09:27.812Z"
   },
   {
    "duration": 142,
    "start_time": "2023-04-22T08:09:28.284Z"
   },
   {
    "duration": 670,
    "start_time": "2023-04-22T08:09:37.818Z"
   },
   {
    "duration": 768,
    "start_time": "2023-04-22T08:10:07.300Z"
   },
   {
    "duration": 78,
    "start_time": "2023-04-22T08:11:20.042Z"
   },
   {
    "duration": 24,
    "start_time": "2023-04-22T08:11:55.341Z"
   },
   {
    "duration": 24,
    "start_time": "2023-04-22T08:11:58.909Z"
   },
   {
    "duration": 26,
    "start_time": "2023-04-22T08:12:23.249Z"
   },
   {
    "duration": 296,
    "start_time": "2023-04-22T08:13:59.521Z"
   },
   {
    "duration": 638,
    "start_time": "2023-04-22T08:15:28.066Z"
   },
   {
    "duration": 27,
    "start_time": "2023-04-22T08:15:43.722Z"
   },
   {
    "duration": 11,
    "start_time": "2023-04-22T08:16:43.564Z"
   },
   {
    "duration": 7,
    "start_time": "2023-04-22T08:16:43.948Z"
   },
   {
    "duration": 90,
    "start_time": "2023-04-22T08:16:44.217Z"
   },
   {
    "duration": 17,
    "start_time": "2023-04-22T08:16:44.950Z"
   },
   {
    "duration": 10,
    "start_time": "2023-04-22T08:18:11.455Z"
   },
   {
    "duration": 6,
    "start_time": "2023-04-22T08:18:19.813Z"
   },
   {
    "duration": 81,
    "start_time": "2023-04-22T08:18:20.442Z"
   },
   {
    "duration": 19,
    "start_time": "2023-04-22T08:18:21.472Z"
   },
   {
    "duration": 10,
    "start_time": "2023-04-22T08:18:36.939Z"
   },
   {
    "duration": 7,
    "start_time": "2023-04-22T08:18:37.523Z"
   },
   {
    "duration": 89,
    "start_time": "2023-04-22T08:18:39.048Z"
   },
   {
    "duration": 16,
    "start_time": "2023-04-22T08:18:39.918Z"
   },
   {
    "duration": 9,
    "start_time": "2023-04-22T08:18:48.945Z"
   },
   {
    "duration": 6,
    "start_time": "2023-04-22T08:18:49.361Z"
   },
   {
    "duration": 10,
    "start_time": "2023-04-22T08:18:53.155Z"
   },
   {
    "duration": 7,
    "start_time": "2023-04-22T08:18:53.623Z"
   },
   {
    "duration": 10,
    "start_time": "2023-04-22T08:18:57.180Z"
   },
   {
    "duration": 6,
    "start_time": "2023-04-22T08:18:57.621Z"
   },
   {
    "duration": 9,
    "start_time": "2023-04-22T08:19:04.989Z"
   },
   {
    "duration": 6,
    "start_time": "2023-04-22T08:19:05.487Z"
   },
   {
    "duration": 11,
    "start_time": "2023-04-22T08:19:09.045Z"
   },
   {
    "duration": 7,
    "start_time": "2023-04-22T08:19:09.382Z"
   },
   {
    "duration": 120,
    "start_time": "2023-04-22T08:19:12.409Z"
   },
   {
    "duration": 20,
    "start_time": "2023-04-22T08:19:16.440Z"
   },
   {
    "duration": 301,
    "start_time": "2023-04-22T08:19:46.961Z"
   },
   {
    "duration": 16,
    "start_time": "2023-04-22T08:20:29.852Z"
   },
   {
    "duration": 252,
    "start_time": "2023-04-22T08:20:39.289Z"
   },
   {
    "duration": 318,
    "start_time": "2023-04-22T08:20:43.747Z"
   },
   {
    "duration": 340,
    "start_time": "2023-04-22T08:20:48.545Z"
   },
   {
    "duration": 3596,
    "start_time": "2023-04-22T08:20:52.799Z"
   },
   {
    "duration": 294,
    "start_time": "2023-04-22T08:21:08.965Z"
   },
   {
    "duration": 304,
    "start_time": "2023-04-22T08:21:12.861Z"
   },
   {
    "duration": 335,
    "start_time": "2023-04-22T08:21:19.473Z"
   },
   {
    "duration": 316,
    "start_time": "2023-04-22T08:21:24.124Z"
   },
   {
    "duration": 341,
    "start_time": "2023-04-22T08:21:32.228Z"
   },
   {
    "duration": 315,
    "start_time": "2023-04-22T08:21:36.852Z"
   },
   {
    "duration": 331,
    "start_time": "2023-04-22T08:21:44.246Z"
   },
   {
    "duration": 341,
    "start_time": "2023-04-22T08:21:48.352Z"
   },
   {
    "duration": 330,
    "start_time": "2023-04-22T08:21:52.704Z"
   },
   {
    "duration": 324,
    "start_time": "2023-04-22T08:21:58.441Z"
   },
   {
    "duration": 314,
    "start_time": "2023-04-22T08:22:03.094Z"
   },
   {
    "duration": 333,
    "start_time": "2023-04-22T08:22:08.801Z"
   },
   {
    "duration": 344,
    "start_time": "2023-04-22T08:22:15.233Z"
   },
   {
    "duration": 335,
    "start_time": "2023-04-22T08:22:19.906Z"
   },
   {
    "duration": 162,
    "start_time": "2023-04-22T08:22:26.242Z"
   },
   {
    "duration": 175,
    "start_time": "2023-04-22T08:22:29.894Z"
   },
   {
    "duration": 194,
    "start_time": "2023-04-22T08:22:36.960Z"
   },
   {
    "duration": 196,
    "start_time": "2023-04-22T08:22:45.462Z"
   },
   {
    "duration": 216,
    "start_time": "2023-04-22T08:22:54.344Z"
   },
   {
    "duration": 220,
    "start_time": "2023-04-22T08:22:59.287Z"
   },
   {
    "duration": 196,
    "start_time": "2023-04-22T08:23:02.845Z"
   },
   {
    "duration": 190,
    "start_time": "2023-04-22T08:23:09.470Z"
   },
   {
    "duration": 208,
    "start_time": "2023-04-22T08:23:13.537Z"
   },
   {
    "duration": 213,
    "start_time": "2023-04-22T08:23:17.532Z"
   },
   {
    "duration": 198,
    "start_time": "2023-04-22T08:23:23.653Z"
   },
   {
    "duration": 204,
    "start_time": "2023-04-22T08:23:27.518Z"
   },
   {
    "duration": 188,
    "start_time": "2023-04-22T08:23:36.578Z"
   },
   {
    "duration": 235,
    "start_time": "2023-04-22T08:23:50.031Z"
   },
   {
    "duration": 236,
    "start_time": "2023-04-22T08:23:54.990Z"
   },
   {
    "duration": 247,
    "start_time": "2023-04-22T08:24:00.092Z"
   },
   {
    "duration": 206,
    "start_time": "2023-04-22T08:24:09.257Z"
   },
   {
    "duration": 300,
    "start_time": "2023-04-22T08:24:14.267Z"
   },
   {
    "duration": 60,
    "start_time": "2023-04-22T08:25:38.164Z"
   },
   {
    "duration": 4,
    "start_time": "2023-04-22T08:34:01.749Z"
   },
   {
    "duration": 76,
    "start_time": "2023-04-22T08:34:08.543Z"
   },
   {
    "duration": 4,
    "start_time": "2023-04-22T08:34:25.341Z"
   },
   {
    "duration": 288,
    "start_time": "2023-04-22T08:34:35.748Z"
   },
   {
    "duration": 321,
    "start_time": "2023-04-22T08:35:38.224Z"
   },
   {
    "duration": 261,
    "start_time": "2023-04-22T08:35:56.168Z"
   },
   {
    "duration": 266,
    "start_time": "2023-04-22T08:38:05.978Z"
   },
   {
    "duration": 44,
    "start_time": "2023-04-22T08:38:26.074Z"
   },
   {
    "duration": 5,
    "start_time": "2023-04-22T08:38:46.770Z"
   },
   {
    "duration": 209,
    "start_time": "2023-04-22T08:38:51.647Z"
   },
   {
    "duration": 259,
    "start_time": "2023-04-22T08:40:35.700Z"
   },
   {
    "duration": 198,
    "start_time": "2023-04-22T08:41:04.372Z"
   },
   {
    "duration": 261,
    "start_time": "2023-04-22T08:41:31.630Z"
   },
   {
    "duration": 235,
    "start_time": "2023-04-22T08:41:42.540Z"
   },
   {
    "duration": 12,
    "start_time": "2023-04-22T08:41:52.342Z"
   },
   {
    "duration": 19,
    "start_time": "2023-04-22T08:41:58.405Z"
   },
   {
    "duration": 18,
    "start_time": "2023-04-22T08:42:13.634Z"
   },
   {
    "duration": 247,
    "start_time": "2023-04-22T08:42:20.726Z"
   },
   {
    "duration": 652,
    "start_time": "2023-04-22T08:42:33.280Z"
   },
   {
    "duration": 275,
    "start_time": "2023-04-22T08:43:02.218Z"
   },
   {
    "duration": 182,
    "start_time": "2023-04-22T08:44:19.560Z"
   },
   {
    "duration": 148,
    "start_time": "2023-04-22T08:44:29.291Z"
   },
   {
    "duration": 6,
    "start_time": "2023-04-22T08:48:14.722Z"
   },
   {
    "duration": 271,
    "start_time": "2023-04-22T08:49:36.077Z"
   },
   {
    "duration": 138,
    "start_time": "2023-04-22T08:51:33.882Z"
   },
   {
    "duration": 133,
    "start_time": "2023-04-22T08:51:37.393Z"
   },
   {
    "duration": 7,
    "start_time": "2023-04-22T08:52:31.327Z"
   },
   {
    "duration": 167,
    "start_time": "2023-04-22T08:52:35.768Z"
   },
   {
    "duration": 137,
    "start_time": "2023-04-22T08:52:36.980Z"
   },
   {
    "duration": 167,
    "start_time": "2023-04-22T08:52:51.789Z"
   },
   {
    "duration": 349,
    "start_time": "2023-04-22T08:52:57.893Z"
   },
   {
    "duration": 20,
    "start_time": "2023-04-22T08:53:42.925Z"
   },
   {
    "duration": 113,
    "start_time": "2023-04-22T08:54:05.207Z"
   },
   {
    "duration": 5,
    "start_time": "2023-04-22T08:54:07.108Z"
   },
   {
    "duration": 7,
    "start_time": "2023-04-22T08:54:14.841Z"
   },
   {
    "duration": 362,
    "start_time": "2023-04-22T08:54:25.987Z"
   },
   {
    "duration": 7,
    "start_time": "2023-04-22T08:54:31.675Z"
   },
   {
    "duration": 513,
    "start_time": "2023-04-22T08:58:33.684Z"
   },
   {
    "duration": 523,
    "start_time": "2023-04-22T08:58:44.182Z"
   },
   {
    "duration": 459,
    "start_time": "2023-04-22T08:58:49.352Z"
   },
   {
    "duration": 461,
    "start_time": "2023-04-22T08:58:54.339Z"
   },
   {
    "duration": 650,
    "start_time": "2023-04-22T08:59:12.795Z"
   },
   {
    "duration": 708,
    "start_time": "2023-04-22T08:59:18.115Z"
   },
   {
    "duration": 238,
    "start_time": "2023-04-22T08:59:33.530Z"
   },
   {
    "duration": 355,
    "start_time": "2023-04-22T08:59:42.009Z"
   },
   {
    "duration": 711,
    "start_time": "2023-04-22T09:00:09.532Z"
   },
   {
    "duration": 500,
    "start_time": "2023-04-22T09:00:14.832Z"
   },
   {
    "duration": 43,
    "start_time": "2023-04-22T09:00:37.853Z"
   },
   {
    "duration": 52,
    "start_time": "2023-04-22T09:00:43.812Z"
   },
   {
    "duration": 271,
    "start_time": "2023-04-22T09:20:50.653Z"
   },
   {
    "duration": 297,
    "start_time": "2023-04-22T09:21:22.157Z"
   },
   {
    "duration": 818,
    "start_time": "2023-04-22T09:21:32.068Z"
   },
   {
    "duration": 646,
    "start_time": "2023-04-22T09:21:53.267Z"
   },
   {
    "duration": 675,
    "start_time": "2023-04-22T09:22:13.530Z"
   },
   {
    "duration": 10,
    "start_time": "2023-04-22T09:22:38.626Z"
   },
   {
    "duration": 45,
    "start_time": "2023-04-22T09:23:28.880Z"
   },
   {
    "duration": 628,
    "start_time": "2023-04-22T09:23:34.542Z"
   },
   {
    "duration": 67,
    "start_time": "2023-04-22T09:23:35.172Z"
   },
   {
    "duration": 45,
    "start_time": "2023-04-22T09:24:04.771Z"
   },
   {
    "duration": 11,
    "start_time": "2023-04-22T09:24:57.132Z"
   },
   {
    "duration": 41,
    "start_time": "2023-04-22T09:25:07.513Z"
   },
   {
    "duration": 665,
    "start_time": "2023-04-22T09:25:13.180Z"
   },
   {
    "duration": 467,
    "start_time": "2023-04-22T09:27:21.466Z"
   },
   {
    "duration": 39,
    "start_time": "2023-04-22T09:27:22.973Z"
   },
   {
    "duration": 11,
    "start_time": "2023-04-22T09:27:23.397Z"
   },
   {
    "duration": 667,
    "start_time": "2023-04-22T09:27:35.850Z"
   },
   {
    "duration": 43,
    "start_time": "2023-04-22T09:27:36.519Z"
   },
   {
    "duration": 11,
    "start_time": "2023-04-22T09:27:36.688Z"
   },
   {
    "duration": 14,
    "start_time": "2023-04-22T09:30:31.835Z"
   },
   {
    "duration": 10,
    "start_time": "2023-04-22T09:30:32.217Z"
   },
   {
    "duration": 24,
    "start_time": "2023-04-22T09:31:12.381Z"
   },
   {
    "duration": 22,
    "start_time": "2023-04-22T09:33:11.871Z"
   },
   {
    "duration": 647,
    "start_time": "2023-04-22T09:33:13.642Z"
   },
   {
    "duration": 52,
    "start_time": "2023-04-22T09:33:14.291Z"
   },
   {
    "duration": 10,
    "start_time": "2023-04-22T09:33:15.072Z"
   },
   {
    "duration": 23,
    "start_time": "2023-04-22T09:33:30.851Z"
   },
   {
    "duration": 22,
    "start_time": "2023-04-22T09:33:42.046Z"
   },
   {
    "duration": 729,
    "start_time": "2023-04-22T09:33:42.643Z"
   },
   {
    "duration": 40,
    "start_time": "2023-04-22T09:33:44.601Z"
   },
   {
    "duration": 10,
    "start_time": "2023-04-22T09:33:45.109Z"
   },
   {
    "duration": 20,
    "start_time": "2023-04-22T09:34:51.208Z"
   },
   {
    "duration": 23,
    "start_time": "2023-04-22T09:34:58.176Z"
   },
   {
    "duration": 25,
    "start_time": "2023-04-22T09:35:05.763Z"
   },
   {
    "duration": 30,
    "start_time": "2023-04-22T09:35:13.619Z"
   },
   {
    "duration": 764,
    "start_time": "2023-04-22T09:35:21.484Z"
   },
   {
    "duration": 41,
    "start_time": "2023-04-22T09:35:22.250Z"
   },
   {
    "duration": 27,
    "start_time": "2023-04-22T09:35:22.293Z"
   },
   {
    "duration": 647,
    "start_time": "2023-04-22T09:36:25.716Z"
   },
   {
    "duration": 52,
    "start_time": "2023-04-22T09:36:26.365Z"
   },
   {
    "duration": 11,
    "start_time": "2023-04-22T09:36:26.420Z"
   },
   {
    "duration": 29,
    "start_time": "2023-04-22T09:52:36.867Z"
   },
   {
    "duration": 10,
    "start_time": "2023-04-22T09:52:39.533Z"
   },
   {
    "duration": 13,
    "start_time": "2023-04-22T09:52:40.682Z"
   },
   {
    "duration": 11,
    "start_time": "2023-04-22T09:52:41.524Z"
   },
   {
    "duration": 20,
    "start_time": "2023-04-22T09:52:58.202Z"
   },
   {
    "duration": 18,
    "start_time": "2023-04-22T09:53:15.061Z"
   },
   {
    "duration": 9,
    "start_time": "2023-04-22T09:53:15.800Z"
   },
   {
    "duration": 13,
    "start_time": "2023-04-22T09:53:17.521Z"
   },
   {
    "duration": 18,
    "start_time": "2023-04-22T09:56:42.252Z"
   },
   {
    "duration": 17,
    "start_time": "2023-04-22T09:56:46.907Z"
   },
   {
    "duration": 15,
    "start_time": "2023-04-22T09:57:56.266Z"
   },
   {
    "duration": 653,
    "start_time": "2023-04-22T10:02:26.397Z"
   },
   {
    "duration": 40,
    "start_time": "2023-04-22T10:02:27.052Z"
   },
   {
    "duration": 86,
    "start_time": "2023-04-22T10:05:21.080Z"
   },
   {
    "duration": 87,
    "start_time": "2023-04-22T10:05:29.012Z"
   },
   {
    "duration": 91,
    "start_time": "2023-04-22T10:05:58.902Z"
   },
   {
    "duration": 81,
    "start_time": "2023-04-22T10:06:58.298Z"
   },
   {
    "duration": 108,
    "start_time": "2023-04-22T10:07:31.812Z"
   },
   {
    "duration": 85,
    "start_time": "2023-04-22T10:07:47.784Z"
   },
   {
    "duration": 88,
    "start_time": "2023-04-22T10:07:57.469Z"
   },
   {
    "duration": 15,
    "start_time": "2023-04-22T10:08:22.403Z"
   },
   {
    "duration": 6,
    "start_time": "2023-04-22T10:09:00.906Z"
   },
   {
    "duration": 13,
    "start_time": "2023-04-22T10:09:05.994Z"
   },
   {
    "duration": 19,
    "start_time": "2023-04-22T10:09:52.669Z"
   },
   {
    "duration": 4,
    "start_time": "2023-04-22T10:11:40.041Z"
   },
   {
    "duration": 12,
    "start_time": "2023-04-22T10:11:40.332Z"
   },
   {
    "duration": 9,
    "start_time": "2023-04-22T10:11:40.532Z"
   },
   {
    "duration": 6,
    "start_time": "2023-04-22T10:11:40.739Z"
   },
   {
    "duration": 100,
    "start_time": "2023-04-22T10:11:40.953Z"
   },
   {
    "duration": 192,
    "start_time": "2023-04-22T10:11:41.133Z"
   },
   {
    "duration": 922,
    "start_time": "2023-04-22T10:11:41.327Z"
   },
   {
    "duration": 28,
    "start_time": "2023-04-22T10:11:42.251Z"
   },
   {
    "duration": 15,
    "start_time": "2023-04-22T10:11:42.280Z"
   },
   {
    "duration": 21,
    "start_time": "2023-04-22T10:11:42.297Z"
   },
   {
    "duration": 17,
    "start_time": "2023-04-22T10:11:42.321Z"
   },
   {
    "duration": 131,
    "start_time": "2023-04-22T10:11:42.341Z"
   },
   {
    "duration": 58,
    "start_time": "2023-04-22T10:11:42.474Z"
   },
   {
    "duration": 525,
    "start_time": "2023-04-22T10:11:42.542Z"
   },
   {
    "duration": 18,
    "start_time": "2023-04-22T10:11:43.070Z"
   },
   {
    "duration": 673,
    "start_time": "2023-04-22T10:11:49.979Z"
   },
   {
    "duration": 40,
    "start_time": "2023-04-22T10:11:50.669Z"
   },
   {
    "duration": 10,
    "start_time": "2023-04-22T10:11:51.677Z"
   },
   {
    "duration": 6,
    "start_time": "2023-04-22T10:16:01.063Z"
   },
   {
    "duration": 3,
    "start_time": "2023-04-22T10:16:18.456Z"
   },
   {
    "duration": 9,
    "start_time": "2023-04-22T10:16:18.831Z"
   },
   {
    "duration": 3,
    "start_time": "2023-04-22T10:17:13.864Z"
   },
   {
    "duration": 8,
    "start_time": "2023-04-22T10:17:14.258Z"
   },
   {
    "duration": 14,
    "start_time": "2023-04-22T10:18:07.946Z"
   },
   {
    "duration": 16,
    "start_time": "2023-04-22T10:18:22.016Z"
   },
   {
    "duration": 5,
    "start_time": "2023-04-22T10:18:22.400Z"
   },
   {
    "duration": 8,
    "start_time": "2023-04-22T10:18:22.724Z"
   },
   {
    "duration": 7,
    "start_time": "2023-04-22T10:19:30.303Z"
   },
   {
    "duration": 169,
    "start_time": "2023-04-22T10:21:26.297Z"
   },
   {
    "duration": 422,
    "start_time": "2023-04-22T10:21:51.108Z"
   },
   {
    "duration": 7,
    "start_time": "2023-04-22T10:22:07.208Z"
   },
   {
    "duration": 183,
    "start_time": "2023-04-22T10:23:55.708Z"
   },
   {
    "duration": 7,
    "start_time": "2023-04-22T10:23:59.663Z"
   },
   {
    "duration": 6,
    "start_time": "2023-04-22T10:24:10.508Z"
   },
   {
    "duration": 169,
    "start_time": "2023-04-22T10:24:26.062Z"
   },
   {
    "duration": 177,
    "start_time": "2023-04-22T10:24:43.532Z"
   },
   {
    "duration": 194,
    "start_time": "2023-04-22T10:24:51.319Z"
   },
   {
    "duration": 7,
    "start_time": "2023-04-22T10:24:57.437Z"
   },
   {
    "duration": 710,
    "start_time": "2023-04-22T10:25:25.373Z"
   },
   {
    "duration": 43,
    "start_time": "2023-04-22T10:25:26.343Z"
   },
   {
    "duration": 14,
    "start_time": "2023-04-22T10:25:27.510Z"
   },
   {
    "duration": 190,
    "start_time": "2023-04-22T10:25:31.579Z"
   },
   {
    "duration": 8,
    "start_time": "2023-04-22T10:25:34.446Z"
   },
   {
    "duration": 4,
    "start_time": "2023-04-22T10:26:14.306Z"
   },
   {
    "duration": 8,
    "start_time": "2023-04-22T10:28:10.439Z"
   },
   {
    "duration": 3,
    "start_time": "2023-04-22T10:28:13.542Z"
   },
   {
    "duration": 8,
    "start_time": "2023-04-22T10:28:14.397Z"
   },
   {
    "duration": 46,
    "start_time": "2023-04-22T10:29:32.699Z"
   },
   {
    "duration": 12,
    "start_time": "2023-04-22T10:29:36.102Z"
   },
   {
    "duration": 200,
    "start_time": "2023-04-22T10:29:43.124Z"
   },
   {
    "duration": 9,
    "start_time": "2023-04-22T10:29:49.279Z"
   },
   {
    "duration": 4,
    "start_time": "2023-04-22T10:29:50.077Z"
   },
   {
    "duration": 7,
    "start_time": "2023-04-22T10:29:50.511Z"
   },
   {
    "duration": 8,
    "start_time": "2023-04-22T10:30:14.704Z"
   },
   {
    "duration": 4,
    "start_time": "2023-04-22T10:32:45.197Z"
   },
   {
    "duration": 6,
    "start_time": "2023-04-22T10:32:45.668Z"
   },
   {
    "duration": 164,
    "start_time": "2023-04-22T10:36:40.359Z"
   },
   {
    "duration": 7,
    "start_time": "2023-04-22T10:36:41.575Z"
   },
   {
    "duration": 159,
    "start_time": "2023-04-22T10:40:01.710Z"
   },
   {
    "duration": 86,
    "start_time": "2023-04-22T10:42:31.479Z"
   },
   {
    "duration": 7,
    "start_time": "2023-04-22T10:42:47.072Z"
   },
   {
    "duration": 293,
    "start_time": "2023-04-22T10:42:51.357Z"
   },
   {
    "duration": 19,
    "start_time": "2023-04-22T10:42:52.414Z"
   },
   {
    "duration": 17,
    "start_time": "2023-04-22T10:54:41.217Z"
   },
   {
    "duration": 11,
    "start_time": "2023-04-22T10:54:41.659Z"
   },
   {
    "duration": 8,
    "start_time": "2023-04-22T10:54:41.973Z"
   },
   {
    "duration": 130,
    "start_time": "2023-04-22T10:54:42.511Z"
   },
   {
    "duration": 18,
    "start_time": "2023-04-22T10:54:43.336Z"
   },
   {
    "duration": 337,
    "start_time": "2023-04-22T10:54:43.911Z"
   },
   {
    "duration": 15,
    "start_time": "2023-04-22T10:54:44.250Z"
   },
   {
    "duration": 86,
    "start_time": "2023-04-22T11:16:25.051Z"
   },
   {
    "duration": 732,
    "start_time": "2023-04-22T11:26:08.778Z"
   },
   {
    "duration": 49,
    "start_time": "2023-04-22T11:26:09.512Z"
   },
   {
    "duration": 16,
    "start_time": "2023-04-22T11:26:09.610Z"
   },
   {
    "duration": 194,
    "start_time": "2023-04-22T11:26:11.762Z"
   },
   {
    "duration": 8,
    "start_time": "2023-04-22T11:26:12.557Z"
   },
   {
    "duration": 3,
    "start_time": "2023-04-22T11:26:13.549Z"
   },
   {
    "duration": 9,
    "start_time": "2023-04-22T11:26:13.727Z"
   },
   {
    "duration": 1718,
    "start_time": "2023-04-23T11:30:14.422Z"
   },
   {
    "duration": 165,
    "start_time": "2023-04-23T11:30:16.143Z"
   },
   {
    "duration": 21,
    "start_time": "2023-04-23T11:30:16.309Z"
   },
   {
    "duration": 15,
    "start_time": "2023-04-23T11:30:16.334Z"
   },
   {
    "duration": 10,
    "start_time": "2023-04-23T11:30:16.351Z"
   },
   {
    "duration": 6,
    "start_time": "2023-04-23T11:30:16.363Z"
   },
   {
    "duration": 8,
    "start_time": "2023-04-23T11:30:16.371Z"
   },
   {
    "duration": 37,
    "start_time": "2023-04-23T11:30:16.380Z"
   },
   {
    "duration": 16,
    "start_time": "2023-04-23T11:30:16.419Z"
   },
   {
    "duration": 5,
    "start_time": "2023-04-23T11:30:16.465Z"
   },
   {
    "duration": 6,
    "start_time": "2023-04-23T11:30:16.937Z"
   },
   {
    "duration": 18,
    "start_time": "2023-04-23T11:30:17.611Z"
   },
   {
    "duration": 18,
    "start_time": "2023-04-23T11:30:17.814Z"
   },
   {
    "duration": 4,
    "start_time": "2023-04-23T11:30:18.846Z"
   },
   {
    "duration": 16,
    "start_time": "2023-04-23T11:30:19.061Z"
   },
   {
    "duration": 5,
    "start_time": "2023-04-23T11:30:19.417Z"
   },
   {
    "duration": 6,
    "start_time": "2023-04-23T11:30:19.596Z"
   },
   {
    "duration": 6,
    "start_time": "2023-04-23T11:30:19.747Z"
   },
   {
    "duration": 4,
    "start_time": "2023-04-23T11:30:19.929Z"
   },
   {
    "duration": 3,
    "start_time": "2023-04-23T11:30:20.408Z"
   },
   {
    "duration": 11,
    "start_time": "2023-04-23T11:30:20.582Z"
   },
   {
    "duration": 3,
    "start_time": "2023-04-23T11:30:20.745Z"
   },
   {
    "duration": 14,
    "start_time": "2023-04-23T11:30:20.906Z"
   },
   {
    "duration": 10,
    "start_time": "2023-04-23T11:30:21.399Z"
   },
   {
    "duration": 10,
    "start_time": "2023-04-23T11:30:21.576Z"
   },
   {
    "duration": 472,
    "start_time": "2023-04-23T11:30:22.975Z"
   },
   {
    "duration": 45,
    "start_time": "2023-04-23T11:30:23.504Z"
   },
   {
    "duration": 276,
    "start_time": "2023-04-23T11:30:23.846Z"
   },
   {
    "duration": 9,
    "start_time": "2023-04-23T11:30:24.366Z"
   },
   {
    "duration": 8,
    "start_time": "2023-04-23T11:30:24.545Z"
   },
   {
    "duration": 7,
    "start_time": "2023-04-23T11:30:24.707Z"
   },
   {
    "duration": 135,
    "start_time": "2023-04-23T11:30:25.472Z"
   },
   {
    "duration": 466,
    "start_time": "2023-04-23T11:30:25.625Z"
   },
   {
    "duration": 402,
    "start_time": "2023-04-23T11:30:26.094Z"
   },
   {
    "duration": 15,
    "start_time": "2023-04-23T11:30:26.497Z"
   },
   {
    "duration": 12,
    "start_time": "2023-04-23T11:30:26.515Z"
   },
   {
    "duration": 31,
    "start_time": "2023-04-23T11:30:26.653Z"
   },
   {
    "duration": 204,
    "start_time": "2023-04-23T11:30:26.816Z"
   },
   {
    "duration": 556,
    "start_time": "2023-04-23T11:30:27.113Z"
   },
   {
    "duration": 301,
    "start_time": "2023-04-23T11:30:27.671Z"
   },
   {
    "duration": 7,
    "start_time": "2023-04-23T11:30:27.974Z"
   },
   {
    "duration": 4,
    "start_time": "2023-04-23T11:30:28.667Z"
   },
   {
    "duration": 13,
    "start_time": "2023-04-23T11:30:28.835Z"
   },
   {
    "duration": 7,
    "start_time": "2023-04-23T11:30:29.173Z"
   },
   {
    "duration": 156,
    "start_time": "2023-04-23T11:30:29.342Z"
   },
   {
    "duration": 296,
    "start_time": "2023-04-23T11:30:29.517Z"
   },
   {
    "duration": 756,
    "start_time": "2023-04-23T11:30:29.815Z"
   },
   {
    "duration": 38,
    "start_time": "2023-04-23T11:30:30.574Z"
   },
   {
    "duration": 4,
    "start_time": "2023-04-23T11:30:30.687Z"
   },
   {
    "duration": 10,
    "start_time": "2023-04-23T11:30:30.876Z"
   },
   {
    "duration": 6,
    "start_time": "2023-04-23T11:30:31.280Z"
   },
   {
    "duration": 87,
    "start_time": "2023-04-23T11:30:31.468Z"
   },
   {
    "duration": 21,
    "start_time": "2023-04-23T11:30:31.691Z"
   },
   {
    "duration": 315,
    "start_time": "2023-04-23T11:30:31.913Z"
   },
   {
    "duration": 16,
    "start_time": "2023-04-23T11:30:32.230Z"
   },
   {
    "duration": 633,
    "start_time": "2023-04-23T11:30:34.076Z"
   },
   {
    "duration": 42,
    "start_time": "2023-04-23T11:30:34.712Z"
   },
   {
    "duration": 12,
    "start_time": "2023-04-23T11:30:34.755Z"
   },
   {
    "duration": 159,
    "start_time": "2023-04-23T11:30:34.867Z"
   },
   {
    "duration": 6,
    "start_time": "2023-04-23T11:30:35.047Z"
   },
   {
    "duration": 3,
    "start_time": "2023-04-23T11:30:35.676Z"
   },
   {
    "duration": 121,
    "start_time": "2023-04-23T11:30:35.911Z"
   },
   {
    "duration": 11,
    "start_time": "2023-04-23T11:30:54.566Z"
   },
   {
    "duration": 11,
    "start_time": "2023-04-23T11:31:00.431Z"
   },
   {
    "duration": 6,
    "start_time": "2023-04-23T11:31:05.366Z"
   },
   {
    "duration": 1459,
    "start_time": "2023-04-23T20:48:51.893Z"
   },
   {
    "duration": 76,
    "start_time": "2023-04-23T20:48:53.354Z"
   },
   {
    "duration": 15,
    "start_time": "2023-04-23T20:48:53.431Z"
   },
   {
    "duration": 12,
    "start_time": "2023-04-23T20:48:53.826Z"
   },
   {
    "duration": 6,
    "start_time": "2023-04-23T20:48:54.349Z"
   },
   {
    "duration": 4,
    "start_time": "2023-04-23T20:48:54.934Z"
   },
   {
    "duration": 4,
    "start_time": "2023-04-23T20:48:55.515Z"
   },
   {
    "duration": 3,
    "start_time": "2023-04-23T20:48:58.959Z"
   },
   {
    "duration": 6,
    "start_time": "2023-04-23T20:49:00.522Z"
   },
   {
    "duration": 4,
    "start_time": "2023-04-23T20:49:01.153Z"
   },
   {
    "duration": 5,
    "start_time": "2023-04-23T20:49:01.447Z"
   },
   {
    "duration": 4,
    "start_time": "2023-04-23T20:49:01.716Z"
   },
   {
    "duration": 10,
    "start_time": "2023-04-23T20:49:01.978Z"
   },
   {
    "duration": 10,
    "start_time": "2023-04-23T20:49:02.233Z"
   },
   {
    "duration": 3,
    "start_time": "2023-04-23T20:49:08.089Z"
   },
   {
    "duration": 10,
    "start_time": "2023-04-23T20:49:08.703Z"
   },
   {
    "duration": 5,
    "start_time": "2023-04-23T20:49:09.737Z"
   },
   {
    "duration": 5,
    "start_time": "2023-04-23T20:49:10.244Z"
   },
   {
    "duration": 4,
    "start_time": "2023-04-23T20:49:10.574Z"
   },
   {
    "duration": 4,
    "start_time": "2023-04-23T20:49:11.023Z"
   },
   {
    "duration": 3,
    "start_time": "2023-04-23T20:49:13.027Z"
   },
   {
    "duration": 8,
    "start_time": "2023-04-23T20:49:13.355Z"
   },
   {
    "duration": 2,
    "start_time": "2023-04-23T20:49:13.841Z"
   },
   {
    "duration": 11,
    "start_time": "2023-04-23T20:49:14.187Z"
   },
   {
    "duration": 8,
    "start_time": "2023-04-23T20:49:14.423Z"
   },
   {
    "duration": 7,
    "start_time": "2023-04-23T20:49:14.614Z"
   },
   {
    "duration": 401,
    "start_time": "2023-04-23T20:49:36.666Z"
   },
   {
    "duration": 37,
    "start_time": "2023-04-23T20:49:40.315Z"
   },
   {
    "duration": 194,
    "start_time": "2023-04-23T20:49:40.780Z"
   },
   {
    "duration": 6,
    "start_time": "2023-04-23T20:49:41.538Z"
   },
   {
    "duration": 5,
    "start_time": "2023-04-23T20:49:41.836Z"
   },
   {
    "duration": 6,
    "start_time": "2023-04-23T20:49:42.135Z"
   },
   {
    "duration": 115,
    "start_time": "2023-04-23T20:49:43.485Z"
   },
   {
    "duration": 405,
    "start_time": "2023-04-23T20:49:43.868Z"
   },
   {
    "duration": 413,
    "start_time": "2023-04-23T20:49:44.274Z"
   },
   {
    "duration": 2,
    "start_time": "2023-04-23T20:49:44.689Z"
   },
   {
    "duration": 7,
    "start_time": "2023-04-23T20:49:44.692Z"
   },
   {
    "duration": 29,
    "start_time": "2023-04-23T20:49:46.476Z"
   },
   {
    "duration": 96,
    "start_time": "2023-04-23T20:49:47.080Z"
   },
   {
    "duration": 411,
    "start_time": "2023-04-23T20:49:47.787Z"
   },
   {
    "duration": 289,
    "start_time": "2023-04-23T20:49:49.297Z"
   },
   {
    "duration": 6,
    "start_time": "2023-04-23T20:49:50.365Z"
   },
   {
    "duration": 4,
    "start_time": "2023-04-23T20:49:53.234Z"
   },
   {
    "duration": 9,
    "start_time": "2023-04-23T20:49:53.445Z"
   },
   {
    "duration": 5,
    "start_time": "2023-04-23T20:49:53.847Z"
   },
   {
    "duration": 63,
    "start_time": "2023-04-23T20:49:54.041Z"
   },
   {
    "duration": 45,
    "start_time": "2023-04-23T20:49:54.233Z"
   },
   {
    "duration": 645,
    "start_time": "2023-04-23T20:49:54.473Z"
   },
   {
    "duration": 23,
    "start_time": "2023-04-23T20:49:55.119Z"
   },
   {
    "duration": 3,
    "start_time": "2023-04-23T20:49:56.245Z"
   },
   {
    "duration": 9,
    "start_time": "2023-04-23T20:49:56.695Z"
   },
   {
    "duration": 5,
    "start_time": "2023-04-23T20:49:57.309Z"
   },
   {
    "duration": 65,
    "start_time": "2023-04-23T20:49:57.471Z"
   },
   {
    "duration": 12,
    "start_time": "2023-04-23T20:49:57.643Z"
   },
   {
    "duration": 292,
    "start_time": "2023-04-23T20:49:57.804Z"
   },
   {
    "duration": 13,
    "start_time": "2023-04-23T20:49:58.227Z"
   },
   {
    "duration": 270,
    "start_time": "2023-04-23T20:51:41.989Z"
   },
   {
    "duration": 5,
    "start_time": "2023-04-23T20:51:44.183Z"
   },
   {
    "duration": 306,
    "start_time": "2023-04-23T20:51:52.067Z"
   },
   {
    "duration": 6,
    "start_time": "2023-04-23T20:51:56.902Z"
   },
   {
    "duration": 256,
    "start_time": "2023-04-23T20:53:46.799Z"
   },
   {
    "duration": 5,
    "start_time": "2023-04-23T20:54:14.840Z"
   },
   {
    "duration": 10,
    "start_time": "2023-04-23T20:57:48.784Z"
   },
   {
    "duration": 67,
    "start_time": "2023-04-23T20:57:53.312Z"
   },
   {
    "duration": 289,
    "start_time": "2023-04-23T20:57:54.048Z"
   },
   {
    "duration": 245,
    "start_time": "2023-04-23T20:58:21.408Z"
   },
   {
    "duration": 244,
    "start_time": "2023-04-23T20:58:48.194Z"
   },
   {
    "duration": 289,
    "start_time": "2023-04-23T21:00:07.356Z"
   },
   {
    "duration": 125,
    "start_time": "2023-04-23T21:00:38.508Z"
   },
   {
    "duration": 576,
    "start_time": "2023-04-23T21:00:56.081Z"
   },
   {
    "duration": 264,
    "start_time": "2023-04-23T21:01:20.108Z"
   },
   {
    "duration": 10,
    "start_time": "2023-04-23T21:05:43.756Z"
   },
   {
    "duration": 572,
    "start_time": "2023-04-23T21:05:48.112Z"
   },
   {
    "duration": 123,
    "start_time": "2023-04-23T21:05:48.895Z"
   },
   {
    "duration": 580,
    "start_time": "2023-04-23T21:06:15.476Z"
   },
   {
    "duration": 598,
    "start_time": "2023-04-23T21:06:32.555Z"
   },
   {
    "duration": 124,
    "start_time": "2023-04-23T21:06:44.039Z"
   },
   {
    "duration": 14,
    "start_time": "2023-04-23T21:07:28.409Z"
   },
   {
    "duration": 27,
    "start_time": "2023-04-23T21:07:30.173Z"
   },
   {
    "duration": 177,
    "start_time": "2023-04-23T21:07:31.233Z"
   },
   {
    "duration": 24,
    "start_time": "2023-04-23T21:07:54.647Z"
   },
   {
    "duration": 110,
    "start_time": "2023-04-23T21:07:55.396Z"
   },
   {
    "duration": 9,
    "start_time": "2023-04-23T21:15:14.143Z"
   },
   {
    "duration": 5,
    "start_time": "2023-04-23T21:15:21.635Z"
   },
   {
    "duration": 1607,
    "start_time": "2023-08-20T16:53:37.204Z"
   },
   {
    "duration": 166,
    "start_time": "2023-08-20T16:53:38.813Z"
   },
   {
    "duration": 28,
    "start_time": "2023-08-20T16:53:38.981Z"
   },
   {
    "duration": 17,
    "start_time": "2023-08-20T16:53:39.012Z"
   },
   {
    "duration": 28,
    "start_time": "2023-08-20T16:53:39.031Z"
   },
   {
    "duration": 6,
    "start_time": "2023-08-20T16:53:39.062Z"
   },
   {
    "duration": 5,
    "start_time": "2023-08-20T16:53:39.070Z"
   },
   {
    "duration": 27,
    "start_time": "2023-08-20T16:53:39.077Z"
   },
   {
    "duration": 6,
    "start_time": "2023-08-20T16:53:39.106Z"
   },
   {
    "duration": 51,
    "start_time": "2023-08-20T16:53:39.116Z"
   },
   {
    "duration": 12,
    "start_time": "2023-08-20T16:53:39.169Z"
   },
   {
    "duration": 19,
    "start_time": "2023-08-20T16:53:39.184Z"
   },
   {
    "duration": 19,
    "start_time": "2023-08-20T16:53:39.205Z"
   },
   {
    "duration": 5,
    "start_time": "2023-08-20T16:53:39.226Z"
   },
   {
    "duration": 18,
    "start_time": "2023-08-20T16:53:39.258Z"
   },
   {
    "duration": 7,
    "start_time": "2023-08-20T16:53:39.278Z"
   },
   {
    "duration": 7,
    "start_time": "2023-08-20T16:53:39.287Z"
   },
   {
    "duration": 7,
    "start_time": "2023-08-20T16:53:39.296Z"
   },
   {
    "duration": 11,
    "start_time": "2023-08-20T16:53:39.305Z"
   },
   {
    "duration": 41,
    "start_time": "2023-08-20T16:53:39.318Z"
   },
   {
    "duration": 16,
    "start_time": "2023-08-20T16:53:39.362Z"
   },
   {
    "duration": 6,
    "start_time": "2023-08-20T16:53:39.381Z"
   },
   {
    "duration": 27,
    "start_time": "2023-08-20T16:53:39.389Z"
   },
   {
    "duration": 13,
    "start_time": "2023-08-20T16:53:39.419Z"
   },
   {
    "duration": 28,
    "start_time": "2023-08-20T16:53:39.434Z"
   },
   {
    "duration": 483,
    "start_time": "2023-08-20T16:53:39.467Z"
   },
   {
    "duration": 49,
    "start_time": "2023-08-20T16:53:39.952Z"
   },
   {
    "duration": 160,
    "start_time": "2023-08-20T16:53:40.005Z"
   },
   {
    "duration": 93,
    "start_time": "2023-08-20T16:53:40.168Z"
   },
   {
    "duration": 21,
    "start_time": "2023-08-20T16:53:40.263Z"
   },
   {
    "duration": 9,
    "start_time": "2023-08-20T16:53:40.287Z"
   },
   {
    "duration": 152,
    "start_time": "2023-08-20T16:53:40.298Z"
   },
   {
    "duration": 504,
    "start_time": "2023-08-20T16:53:40.459Z"
   },
   {
    "duration": 712,
    "start_time": "2023-08-20T16:53:40.966Z"
   },
   {
    "duration": 3,
    "start_time": "2023-08-20T16:53:41.680Z"
   },
   {
    "duration": 7,
    "start_time": "2023-08-20T16:53:41.684Z"
   },
   {
    "duration": 31,
    "start_time": "2023-08-20T16:53:41.693Z"
   },
   {
    "duration": 142,
    "start_time": "2023-08-20T16:53:41.726Z"
   },
   {
    "duration": 606,
    "start_time": "2023-08-20T16:53:41.870Z"
   },
   {
    "duration": 281,
    "start_time": "2023-08-20T16:53:42.478Z"
   },
   {
    "duration": 242,
    "start_time": "2023-08-20T16:53:42.761Z"
   },
   {
    "duration": 584,
    "start_time": "2023-08-20T16:53:43.005Z"
   },
   {
    "duration": 4,
    "start_time": "2023-08-20T16:53:43.591Z"
   },
   {
    "duration": 16,
    "start_time": "2023-08-20T16:53:43.598Z"
   },
   {
    "duration": 8,
    "start_time": "2023-08-20T16:53:43.616Z"
   },
   {
    "duration": 111,
    "start_time": "2023-08-20T16:53:43.626Z"
   },
   {
    "duration": 625,
    "start_time": "2023-08-20T16:53:43.739Z"
   },
   {
    "duration": 345,
    "start_time": "2023-08-20T16:53:44.365Z"
   },
   {
    "duration": 647,
    "start_time": "2023-08-20T16:53:44.712Z"
   },
   {
    "duration": 171,
    "start_time": "2023-08-20T16:53:45.362Z"
   },
   {
    "duration": 46,
    "start_time": "2023-08-20T16:53:45.535Z"
   },
   {
    "duration": 150,
    "start_time": "2023-08-20T16:53:45.584Z"
   },
   {
    "duration": 5,
    "start_time": "2023-08-20T16:53:45.737Z"
   },
   {
    "duration": 20,
    "start_time": "2023-08-20T16:53:45.750Z"
   },
   {
    "duration": 8,
    "start_time": "2023-08-20T16:53:45.772Z"
   },
   {
    "duration": 100,
    "start_time": "2023-08-20T16:53:45.782Z"
   },
   {
    "duration": 175,
    "start_time": "2023-08-20T16:53:45.884Z"
   },
   {
    "duration": 370,
    "start_time": "2023-08-20T16:53:46.062Z"
   },
   {
    "duration": 15,
    "start_time": "2023-08-20T16:53:46.433Z"
   },
   {
    "duration": 794,
    "start_time": "2023-08-20T16:53:46.450Z"
   },
   {
    "duration": 43,
    "start_time": "2023-08-20T16:53:47.246Z"
   },
   {
    "duration": 11,
    "start_time": "2023-08-20T16:53:47.291Z"
   },
   {
    "duration": 189,
    "start_time": "2023-08-20T16:53:47.304Z"
   },
   {
    "duration": 7,
    "start_time": "2023-08-20T16:53:47.494Z"
   },
   {
    "duration": 3,
    "start_time": "2023-08-20T16:53:47.502Z"
   },
   {
    "duration": 8,
    "start_time": "2023-08-20T16:53:47.507Z"
   }
  ],
  "kernelspec": {
   "display_name": "Python 3 (ipykernel)",
   "language": "python",
   "name": "python3"
  },
  "language_info": {
   "codemirror_mode": {
    "name": "ipython",
    "version": 3
   },
   "file_extension": ".py",
   "mimetype": "text/x-python",
   "name": "python",
   "nbconvert_exporter": "python",
   "pygments_lexer": "ipython3",
   "version": "3.9.12"
  },
  "toc": {
   "base_numbering": 1,
   "nav_menu": {},
   "number_sections": true,
   "sideBar": true,
   "skip_h1_title": true,
   "title_cell": "Содержание",
   "title_sidebar": "Contents",
   "toc_cell": true,
   "toc_position": {
    "height": "calc(100% - 180px)",
    "left": "10px",
    "top": "150px",
    "width": "165px"
   },
   "toc_section_display": true,
   "toc_window_display": true
  }
 },
 "nbformat": 4,
 "nbformat_minor": 2
}
