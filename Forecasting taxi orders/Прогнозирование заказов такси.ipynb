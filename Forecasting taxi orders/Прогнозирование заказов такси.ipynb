{
 "cells": [
  {
   "cell_type": "markdown",
   "metadata": {
    "toc": true
   },
   "source": [
    "<h1>Содержание<span class=\"tocSkip\"></span></h1>\n",
    "<div class=\"toc\"><ul class=\"toc-item\"><li><span><a href=\"#Подготовка\" data-toc-modified-id=\"Подготовка-1\"><span class=\"toc-item-num\">1&nbsp;&nbsp;</span>Подготовка</a></span></li><li><span><a href=\"#Анализ\" data-toc-modified-id=\"Анализ-2\"><span class=\"toc-item-num\">2&nbsp;&nbsp;</span>Анализ</a></span></li><li><span><a href=\"#Обучение\" data-toc-modified-id=\"Обучение-3\"><span class=\"toc-item-num\">3&nbsp;&nbsp;</span>Обучение</a></span></li><li><span><a href=\"#Тестирование\" data-toc-modified-id=\"Тестирование-4\"><span class=\"toc-item-num\">4&nbsp;&nbsp;</span>Тестирование</a></span></li><li><span><a href=\"#Чек-лист-проверки\" data-toc-modified-id=\"Чек-лист-проверки-5\"><span class=\"toc-item-num\">5&nbsp;&nbsp;</span>Чек-лист проверки</a></span></li></ul></div>"
   ]
  },
  {
   "cell_type": "markdown",
   "metadata": {},
   "source": [
    "#  Прогнозирование заказов такси"
   ]
  },
  {
   "cell_type": "markdown",
   "metadata": {},
   "source": [
    "Компания «Чётенькое такси» собрала исторические данные о заказах такси в аэропортах. Чтобы привлекать больше водителей в период пиковой нагрузки, нужно спрогнозировать количество заказов такси на следующий час. Постройте модель для такого предсказания.\n",
    "\n",
    "Значение метрики *RMSE* на тестовой выборке должно быть не больше 48.\n",
    "\n",
    "Вам нужно:\n",
    "\n",
    "1. Загрузить данные и выполнить их ресемплирование по одному часу.\n",
    "2. Проанализировать данные.\n",
    "3. Обучить разные модели с различными гиперпараметрами. Сделать тестовую выборку размером 10% от исходных данных.\n",
    "4. Проверить данные на тестовой выборке и сделать выводы.\n",
    "\n",
    "\n",
    "Данные лежат в файле `taxi.csv`. Количество заказов находится в столбце `num_orders` (от англ. *number of orders*, «число заказов»)."
   ]
  },
  {
   "cell_type": "markdown",
   "metadata": {},
   "source": [
    "## Подготовка"
   ]
  },
  {
   "cell_type": "code",
   "execution_count": 1,
   "metadata": {},
   "outputs": [],
   "source": [
    "import pandas as pd\n",
    "import numpy as np\n",
    "\n",
    "import seaborn as sns\n",
    "import matplotlib.pyplot as plt\n",
    "from statsmodels.tsa.seasonal import seasonal_decompose\n",
    "\n",
    "from sklearn.model_selection import train_test_split, cross_val_score, TimeSeriesSplit, GridSearchCV\n",
    "\n",
    "\n",
    "from sklearn.linear_model import LinearRegression\n",
    "from catboost import CatBoostRegressor\n",
    "from sklearn.tree import DecisionTreeRegressor\n",
    "\n",
    "from sklearn.metrics import make_scorer, mean_squared_error \n",
    "from sklearn.preprocessing import StandardScaler"
   ]
  },
  {
   "cell_type": "code",
   "execution_count": 2,
   "metadata": {},
   "outputs": [],
   "source": [
    "data = pd.read_csv('/datasets/taxi.csv', index_col=[0], parse_dates=[0])"
   ]
  },
  {
   "cell_type": "code",
   "execution_count": 3,
   "metadata": {},
   "outputs": [
    {
     "name": "stdout",
     "output_type": "stream",
     "text": [
      "<class 'pandas.core.frame.DataFrame'>\n",
      "DatetimeIndex: 26496 entries, 2018-03-01 00:00:00 to 2018-08-31 23:50:00\n",
      "Data columns (total 1 columns):\n",
      " #   Column      Non-Null Count  Dtype\n",
      "---  ------      --------------  -----\n",
      " 0   num_orders  26496 non-null  int64\n",
      "dtypes: int64(1)\n",
      "memory usage: 414.0 KB\n"
     ]
    }
   ],
   "source": [
    "data.info()"
   ]
  },
  {
   "cell_type": "code",
   "execution_count": 4,
   "metadata": {},
   "outputs": [
    {
     "data": {
      "text/html": [
       "<div>\n",
       "<style scoped>\n",
       "    .dataframe tbody tr th:only-of-type {\n",
       "        vertical-align: middle;\n",
       "    }\n",
       "\n",
       "    .dataframe tbody tr th {\n",
       "        vertical-align: top;\n",
       "    }\n",
       "\n",
       "    .dataframe thead th {\n",
       "        text-align: right;\n",
       "    }\n",
       "</style>\n",
       "<table border=\"1\" class=\"dataframe\">\n",
       "  <thead>\n",
       "    <tr style=\"text-align: right;\">\n",
       "      <th></th>\n",
       "      <th>num_orders</th>\n",
       "    </tr>\n",
       "    <tr>\n",
       "      <th>datetime</th>\n",
       "      <th></th>\n",
       "    </tr>\n",
       "  </thead>\n",
       "  <tbody>\n",
       "    <tr>\n",
       "      <th>2018-03-01 00:00:00</th>\n",
       "      <td>9</td>\n",
       "    </tr>\n",
       "    <tr>\n",
       "      <th>2018-03-01 00:10:00</th>\n",
       "      <td>14</td>\n",
       "    </tr>\n",
       "    <tr>\n",
       "      <th>2018-03-01 00:20:00</th>\n",
       "      <td>28</td>\n",
       "    </tr>\n",
       "    <tr>\n",
       "      <th>2018-03-01 00:30:00</th>\n",
       "      <td>20</td>\n",
       "    </tr>\n",
       "    <tr>\n",
       "      <th>2018-03-01 00:40:00</th>\n",
       "      <td>32</td>\n",
       "    </tr>\n",
       "  </tbody>\n",
       "</table>\n",
       "</div>"
      ],
      "text/plain": [
       "                     num_orders\n",
       "datetime                       \n",
       "2018-03-01 00:00:00           9\n",
       "2018-03-01 00:10:00          14\n",
       "2018-03-01 00:20:00          28\n",
       "2018-03-01 00:30:00          20\n",
       "2018-03-01 00:40:00          32"
      ]
     },
     "execution_count": 4,
     "metadata": {},
     "output_type": "execute_result"
    }
   ],
   "source": [
    "data.head()"
   ]
  },
  {
   "cell_type": "code",
   "execution_count": 5,
   "metadata": {},
   "outputs": [
    {
     "data": {
      "text/plain": [
       "True"
      ]
     },
     "execution_count": 5,
     "metadata": {},
     "output_type": "execute_result"
    }
   ],
   "source": [
    "data.index.is_monotonic"
   ]
  },
  {
   "cell_type": "code",
   "execution_count": 6,
   "metadata": {},
   "outputs": [],
   "source": [
    "#выполним ресемплирование по одному часу\n",
    "data = data.resample('1H').sum()"
   ]
  },
  {
   "cell_type": "code",
   "execution_count": 7,
   "metadata": {},
   "outputs": [
    {
     "data": {
      "image/png": "[encoded data removed]",
      "text/plain": [
       "<Figure size 720x360 with 1 Axes>"
      ]
     },
     "metadata": {
      "needs_background": "light"
     },
     "output_type": "display_data"
    }
   ],
   "source": [
    "data['num_orders'].plot(subplots=True, figsize=(10, 5))\n",
    "\n",
    "plt.title('График распределения числа заказов')\n",
    "plt.xlabel('Месяц')\n",
    "\n",
    "plt.show()"
   ]
  },
  {
   "cell_type": "markdown",
   "metadata": {},
   "source": [
    "**ВЫВОД 1:**"
   ]
  },
  {
   "cell_type": "markdown",
   "metadata": {},
   "source": [
    "В нашем распоряжении данные за период 2018-03-01 : 2018-08-31, целевой признак 'num_orders' хранит количество заказов. \n",
    "Чтобы привлекать больше водителей в период пиковой нагрузки, нужно спрогнозировать количество заказов такси на следующий час."
   ]
  },
  {
   "cell_type": "markdown",
   "metadata": {},
   "source": [
    "На первом этапе мы загрузили и подготовили данные, сделали ресемплирование по 1 часу, построили график распределения частот "
   ]
  },
  {
   "cell_type": "markdown",
   "metadata": {},
   "source": [
    "## Анализ"
   ]
  },
  {
   "cell_type": "code",
   "execution_count": 8,
   "metadata": {},
   "outputs": [],
   "source": [
    "decomposed = seasonal_decompose(data)"
   ]
  },
  {
   "cell_type": "code",
   "execution_count": 9,
   "metadata": {},
   "outputs": [
    {
     "data": {
      "image/png": "[encoded data removed]",
      "text/plain": [
       "<Figure size 576x720 with 3 Axes>"
      ]
     },
     "metadata": {
      "needs_background": "light"
     },
     "output_type": "display_data"
    }
   ],
   "source": [
    "plt.figure(figsize=(8, 10))\n",
    "plt.subplot(311)\n",
    "\n",
    "decomposed.trend.plot(ax=plt.gca())\n",
    "plt.title('Trend')\n",
    "plt.xlabel('Месяц')\n",
    "plt.subplot(312)\n",
    "\n",
    "decomposed.seasonal.plot(ax=plt.gca())\n",
    "plt.title('Seasonality')\n",
    "plt.xlabel('Месяц')\n",
    "plt.subplot(313)\n",
    "\n",
    "decomposed.resid.plot(ax=plt.gca())\n",
    "plt.title('Residuals')\n",
    "plt.xlabel('Месяц')\n",
    "plt.tight_layout()"
   ]
  },
  {
   "cell_type": "markdown",
   "metadata": {},
   "source": [
    "На этом этапе виден четко выраженный тренд: за пять месяцев количество заказов увеличевается. Рост начинается в теплое время года: Май, Июнь, Июль, Август.\n",
    "\n",
    "Так как тренды и сезонность зависят от масштаба данных. Нельзя увидеть закономерности, повторяющиеся каждое лето, если есть данные только за полгода.\n",
    "\n",
    "График сезонности в данном масштабе малоинформативен, сделаем срез данных за неделю и посмотрим на результат:"
   ]
  },
  {
   "cell_type": "code",
   "execution_count": 10,
   "metadata": {
    "scrolled": false
   },
   "outputs": [
    {
     "data": {
      "image/png": "[encoded data removed]",
      "text/plain": [
       "<Figure size 1080x360 with 1 Axes>"
      ]
     },
     "metadata": {
      "needs_background": "light"
     },
     "output_type": "display_data"
    }
   ],
   "source": [
    "plt.figure(figsize=(15, 5))\n",
    "decomposed.seasonal['2018-03-01':'2018-03-07'].plot(ax=plt.gca())\n",
    "plt.title('Seasonality')\n",
    "plt.xlabel('День')\n",
    "\n",
    "plt.show()"
   ]
  },
  {
   "cell_type": "markdown",
   "metadata": {},
   "source": [
    "График сезонности показывает что количество заказов увеличивается на протяжении одного дня"
   ]
  },
  {
   "cell_type": "markdown",
   "metadata": {},
   "source": [
    "Построим график показывающий стандартное отклонение по скользящему окну:"
   ]
  },
  {
   "cell_type": "code",
   "execution_count": 11,
   "metadata": {},
   "outputs": [
    {
     "data": {
      "image/png": "[encoded data removed]",
      "text/plain": [
       "<Figure size 1296x432 with 1 Axes>"
      ]
     },
     "metadata": {
      "needs_background": "light"
     },
     "output_type": "display_data"
    }
   ],
   "source": [
    "df = data.copy()\n",
    "df['mean'] = data['num_orders'].rolling(15).mean()\n",
    "df['std'] = data['num_orders'].rolling(15).std()\n",
    "df.plot(figsize=(18, 6))\n",
    "\n",
    "plt.title('График стандартного отклонения по скользящему окну')\n",
    "plt.xlabel('Месяц')\n",
    "plt.show()"
   ]
  },
  {
   "cell_type": "markdown",
   "metadata": {},
   "source": [
    "Построим график распределения разностей времянного ряда"
   ]
  },
  {
   "cell_type": "code",
   "execution_count": 12,
   "metadata": {},
   "outputs": [
    {
     "data": {
      "image/png": "[encoded data removed]",
      "text/plain": [
       "<Figure size 1296x432 with 1 Axes>"
      ]
     },
     "metadata": {
      "needs_background": "light"
     },
     "output_type": "display_data"
    }
   ],
   "source": [
    "df = df - df.shift()\n",
    "\n",
    "df['mean'] = df['num_orders'].rolling(15).mean()\n",
    "df['std'] = df['num_orders'].rolling(15).std()\n",
    "df.plot(figsize=(18, 6))\n",
    "\n",
    "plt.title('График распределения разностей времянного ряда')\n",
    "plt.xlabel('Месяц')\n",
    "plt.show()"
   ]
  },
  {
   "cell_type": "markdown",
   "metadata": {},
   "source": [
    "**ВЫВОД 2:**\n",
    "\n",
    "* Данные показывают суточную сезонность: минимальная точка начинается с полночи и далее на протяжении дня наблюдается рост "
   ]
  },
  {
   "cell_type": "markdown",
   "metadata": {},
   "source": [
    "## Обучение"
   ]
  },
  {
   "cell_type": "markdown",
   "metadata": {},
   "source": [
    "Напишем функцию make_features(), чтобы прибавить к таблице три новых признака: день, день недели и час"
   ]
  },
  {
   "cell_type": "code",
   "execution_count": 13,
   "metadata": {},
   "outputs": [],
   "source": [
    "def make_features(df, max_lag, rolling_mean_size):\n",
    "    \n",
    "    df_new = df.copy()\n",
    "    \n",
    "    df['day'] = df.index.day\n",
    "    df['dayofweek'] = df.index.dayofweek\n",
    "    df['hour'] = df.index.hour\n",
    "    \n",
    "    #максимальный размер отставания\n",
    "    for lag in range(1, max_lag + 1):\n",
    "        df['lag_{}'.format(lag)] = df['num_orders'].shift(lag)\n",
    "        \n",
    "    #скользящее среднее    \n",
    "    df['rolling_mean'] = df['num_orders'].shift().rolling(rolling_mean_size).mean()\n",
    "    \n",
    "    return df_new"
   ]
  },
  {
   "cell_type": "code",
   "execution_count": 14,
   "metadata": {},
   "outputs": [],
   "source": [
    "make_features(data, 24, 10)"
   ]
  },
  {
   "cell_type": "code",
   "execution_count": 15,
   "metadata": {},
   "outputs": [
    {
     "data": {
      "text/html": [
       "<div>\n",
       "<style scoped>\n",
       "    .dataframe tbody tr th:only-of-type {\n",
       "        vertical-align: middle;\n",
       "    }\n",
       "\n",
       "    .dataframe tbody tr th {\n",
       "        vertical-align: top;\n",
       "    }\n",
       "\n",
       "    .dataframe thead th {\n",
       "        text-align: right;\n",
       "    }\n",
       "</style>\n",
       "<table border=\"1\" class=\"dataframe\">\n",
       "  <thead>\n",
       "    <tr style=\"text-align: right;\">\n",
       "      <th></th>\n",
       "      <th>num_orders</th>\n",
       "      <th>day</th>\n",
       "      <th>dayofweek</th>\n",
       "      <th>hour</th>\n",
       "      <th>lag_1</th>\n",
       "      <th>lag_2</th>\n",
       "      <th>lag_3</th>\n",
       "      <th>lag_4</th>\n",
       "      <th>lag_5</th>\n",
       "      <th>lag_6</th>\n",
       "      <th>...</th>\n",
       "      <th>lag_16</th>\n",
       "      <th>lag_17</th>\n",
       "      <th>lag_18</th>\n",
       "      <th>lag_19</th>\n",
       "      <th>lag_20</th>\n",
       "      <th>lag_21</th>\n",
       "      <th>lag_22</th>\n",
       "      <th>lag_23</th>\n",
       "      <th>lag_24</th>\n",
       "      <th>rolling_mean</th>\n",
       "    </tr>\n",
       "    <tr>\n",
       "      <th>datetime</th>\n",
       "      <th></th>\n",
       "      <th></th>\n",
       "      <th></th>\n",
       "      <th></th>\n",
       "      <th></th>\n",
       "      <th></th>\n",
       "      <th></th>\n",
       "      <th></th>\n",
       "      <th></th>\n",
       "      <th></th>\n",
       "      <th></th>\n",
       "      <th></th>\n",
       "      <th></th>\n",
       "      <th></th>\n",
       "      <th></th>\n",
       "      <th></th>\n",
       "      <th></th>\n",
       "      <th></th>\n",
       "      <th></th>\n",
       "      <th></th>\n",
       "      <th></th>\n",
       "    </tr>\n",
       "  </thead>\n",
       "  <tbody>\n",
       "    <tr>\n",
       "      <th>2018-03-01 00:00:00</th>\n",
       "      <td>124</td>\n",
       "      <td>1</td>\n",
       "      <td>3</td>\n",
       "      <td>0</td>\n",
       "      <td>NaN</td>\n",
       "      <td>NaN</td>\n",
       "      <td>NaN</td>\n",
       "      <td>NaN</td>\n",
       "      <td>NaN</td>\n",
       "      <td>NaN</td>\n",
       "      <td>...</td>\n",
       "      <td>NaN</td>\n",
       "      <td>NaN</td>\n",
       "      <td>NaN</td>\n",
       "      <td>NaN</td>\n",
       "      <td>NaN</td>\n",
       "      <td>NaN</td>\n",
       "      <td>NaN</td>\n",
       "      <td>NaN</td>\n",
       "      <td>NaN</td>\n",
       "      <td>NaN</td>\n",
       "    </tr>\n",
       "    <tr>\n",
       "      <th>2018-03-01 01:00:00</th>\n",
       "      <td>85</td>\n",
       "      <td>1</td>\n",
       "      <td>3</td>\n",
       "      <td>1</td>\n",
       "      <td>124.0</td>\n",
       "      <td>NaN</td>\n",
       "      <td>NaN</td>\n",
       "      <td>NaN</td>\n",
       "      <td>NaN</td>\n",
       "      <td>NaN</td>\n",
       "      <td>...</td>\n",
       "      <td>NaN</td>\n",
       "      <td>NaN</td>\n",
       "      <td>NaN</td>\n",
       "      <td>NaN</td>\n",
       "      <td>NaN</td>\n",
       "      <td>NaN</td>\n",
       "      <td>NaN</td>\n",
       "      <td>NaN</td>\n",
       "      <td>NaN</td>\n",
       "      <td>NaN</td>\n",
       "    </tr>\n",
       "  </tbody>\n",
       "</table>\n",
       "<p>2 rows × 29 columns</p>\n",
       "</div>"
      ],
      "text/plain": [
       "                     num_orders  day  dayofweek  hour  lag_1  lag_2  lag_3  \\\n",
       "datetime                                                                     \n",
       "2018-03-01 00:00:00         124    1          3     0    NaN    NaN    NaN   \n",
       "2018-03-01 01:00:00          85    1          3     1  124.0    NaN    NaN   \n",
       "\n",
       "                     lag_4  lag_5  lag_6  ...  lag_16  lag_17  lag_18  lag_19  \\\n",
       "datetime                                  ...                                   \n",
       "2018-03-01 00:00:00    NaN    NaN    NaN  ...     NaN     NaN     NaN     NaN   \n",
       "2018-03-01 01:00:00    NaN    NaN    NaN  ...     NaN     NaN     NaN     NaN   \n",
       "\n",
       "                     lag_20  lag_21  lag_22  lag_23  lag_24  rolling_mean  \n",
       "datetime                                                                   \n",
       "2018-03-01 00:00:00     NaN     NaN     NaN     NaN     NaN           NaN  \n",
       "2018-03-01 01:00:00     NaN     NaN     NaN     NaN     NaN           NaN  \n",
       "\n",
       "[2 rows x 29 columns]"
      ]
     },
     "execution_count": 15,
     "metadata": {},
     "output_type": "execute_result"
    }
   ],
   "source": [
    "data.head(2)"
   ]
  },
  {
   "cell_type": "code",
   "execution_count": 16,
   "metadata": {},
   "outputs": [],
   "source": [
    "data = data.dropna()"
   ]
  },
  {
   "cell_type": "code",
   "execution_count": 17,
   "metadata": {},
   "outputs": [
    {
     "data": {
      "text/plain": [
       "num_orders      0\n",
       "day             0\n",
       "dayofweek       0\n",
       "hour            0\n",
       "lag_1           0\n",
       "lag_2           0\n",
       "lag_3           0\n",
       "lag_4           0\n",
       "lag_5           0\n",
       "lag_6           0\n",
       "lag_7           0\n",
       "lag_8           0\n",
       "lag_9           0\n",
       "lag_10          0\n",
       "lag_11          0\n",
       "lag_12          0\n",
       "lag_13          0\n",
       "lag_14          0\n",
       "lag_15          0\n",
       "lag_16          0\n",
       "lag_17          0\n",
       "lag_18          0\n",
       "lag_19          0\n",
       "lag_20          0\n",
       "lag_21          0\n",
       "lag_22          0\n",
       "lag_23          0\n",
       "lag_24          0\n",
       "rolling_mean    0\n",
       "dtype: int64"
      ]
     },
     "execution_count": 17,
     "metadata": {},
     "output_type": "execute_result"
    }
   ],
   "source": [
    "data.isna().sum()"
   ]
  },
  {
   "cell_type": "code",
   "execution_count": 18,
   "metadata": {},
   "outputs": [
    {
     "data": {
      "text/html": [
       "<div>\n",
       "<style scoped>\n",
       "    .dataframe tbody tr th:only-of-type {\n",
       "        vertical-align: middle;\n",
       "    }\n",
       "\n",
       "    .dataframe tbody tr th {\n",
       "        vertical-align: top;\n",
       "    }\n",
       "\n",
       "    .dataframe thead th {\n",
       "        text-align: right;\n",
       "    }\n",
       "</style>\n",
       "<table border=\"1\" class=\"dataframe\">\n",
       "  <thead>\n",
       "    <tr style=\"text-align: right;\">\n",
       "      <th></th>\n",
       "      <th>num_orders</th>\n",
       "      <th>day</th>\n",
       "      <th>dayofweek</th>\n",
       "      <th>hour</th>\n",
       "      <th>lag_1</th>\n",
       "      <th>lag_2</th>\n",
       "      <th>lag_3</th>\n",
       "      <th>lag_4</th>\n",
       "      <th>lag_5</th>\n",
       "      <th>lag_6</th>\n",
       "      <th>...</th>\n",
       "      <th>lag_16</th>\n",
       "      <th>lag_17</th>\n",
       "      <th>lag_18</th>\n",
       "      <th>lag_19</th>\n",
       "      <th>lag_20</th>\n",
       "      <th>lag_21</th>\n",
       "      <th>lag_22</th>\n",
       "      <th>lag_23</th>\n",
       "      <th>lag_24</th>\n",
       "      <th>rolling_mean</th>\n",
       "    </tr>\n",
       "    <tr>\n",
       "      <th>datetime</th>\n",
       "      <th></th>\n",
       "      <th></th>\n",
       "      <th></th>\n",
       "      <th></th>\n",
       "      <th></th>\n",
       "      <th></th>\n",
       "      <th></th>\n",
       "      <th></th>\n",
       "      <th></th>\n",
       "      <th></th>\n",
       "      <th></th>\n",
       "      <th></th>\n",
       "      <th></th>\n",
       "      <th></th>\n",
       "      <th></th>\n",
       "      <th></th>\n",
       "      <th></th>\n",
       "      <th></th>\n",
       "      <th></th>\n",
       "      <th></th>\n",
       "      <th></th>\n",
       "    </tr>\n",
       "  </thead>\n",
       "  <tbody>\n",
       "    <tr>\n",
       "      <th>2018-03-02 00:00:00</th>\n",
       "      <td>90</td>\n",
       "      <td>2</td>\n",
       "      <td>4</td>\n",
       "      <td>0</td>\n",
       "      <td>58.0</td>\n",
       "      <td>113.0</td>\n",
       "      <td>66.0</td>\n",
       "      <td>61.0</td>\n",
       "      <td>45.0</td>\n",
       "      <td>73.0</td>\n",
       "      <td>...</td>\n",
       "      <td>34.0</td>\n",
       "      <td>15.0</td>\n",
       "      <td>12.0</td>\n",
       "      <td>6.0</td>\n",
       "      <td>43.0</td>\n",
       "      <td>66.0</td>\n",
       "      <td>71.0</td>\n",
       "      <td>85.0</td>\n",
       "      <td>124.0</td>\n",
       "      <td>61.7</td>\n",
       "    </tr>\n",
       "    <tr>\n",
       "      <th>2018-03-02 01:00:00</th>\n",
       "      <td>120</td>\n",
       "      <td>2</td>\n",
       "      <td>4</td>\n",
       "      <td>1</td>\n",
       "      <td>90.0</td>\n",
       "      <td>58.0</td>\n",
       "      <td>113.0</td>\n",
       "      <td>66.0</td>\n",
       "      <td>61.0</td>\n",
       "      <td>45.0</td>\n",
       "      <td>...</td>\n",
       "      <td>69.0</td>\n",
       "      <td>34.0</td>\n",
       "      <td>15.0</td>\n",
       "      <td>12.0</td>\n",
       "      <td>6.0</td>\n",
       "      <td>43.0</td>\n",
       "      <td>66.0</td>\n",
       "      <td>71.0</td>\n",
       "      <td>85.0</td>\n",
       "      <td>65.9</td>\n",
       "    </tr>\n",
       "  </tbody>\n",
       "</table>\n",
       "<p>2 rows × 29 columns</p>\n",
       "</div>"
      ],
      "text/plain": [
       "                     num_orders  day  dayofweek  hour  lag_1  lag_2  lag_3  \\\n",
       "datetime                                                                     \n",
       "2018-03-02 00:00:00          90    2          4     0   58.0  113.0   66.0   \n",
       "2018-03-02 01:00:00         120    2          4     1   90.0   58.0  113.0   \n",
       "\n",
       "                     lag_4  lag_5  lag_6  ...  lag_16  lag_17  lag_18  lag_19  \\\n",
       "datetime                                  ...                                   \n",
       "2018-03-02 00:00:00   61.0   45.0   73.0  ...    34.0    15.0    12.0     6.0   \n",
       "2018-03-02 01:00:00   66.0   61.0   45.0  ...    69.0    34.0    15.0    12.0   \n",
       "\n",
       "                     lag_20  lag_21  lag_22  lag_23  lag_24  rolling_mean  \n",
       "datetime                                                                   \n",
       "2018-03-02 00:00:00    43.0    66.0    71.0    85.0   124.0          61.7  \n",
       "2018-03-02 01:00:00     6.0    43.0    66.0    71.0    85.0          65.9  \n",
       "\n",
       "[2 rows x 29 columns]"
      ]
     },
     "execution_count": 18,
     "metadata": {},
     "output_type": "execute_result"
    }
   ],
   "source": [
    "data.head(2)"
   ]
  },
  {
   "cell_type": "code",
   "execution_count": 19,
   "metadata": {},
   "outputs": [],
   "source": [
    "features_train, features_test, target_train, target_test = train_test_split(\n",
    "    data.drop('num_orders', axis=1), data.num_orders, test_size=0.1, shuffle=False)"
   ]
  },
  {
   "cell_type": "code",
   "execution_count": 20,
   "metadata": {},
   "outputs": [
    {
     "name": "stdout",
     "output_type": "stream",
     "text": [
      "Тренировочная выборка: (3952, 28)\n",
      "Тестовая выборка: (440, 28)\n",
      "\n",
      "Целевой признак тренировочная выборки: (3952,)\n",
      "Целевой признак тестовой выборки: (440,)\n"
     ]
    }
   ],
   "source": [
    "print('Тренировочная выборка:', features_train.shape)\n",
    "print('Тестовая выборка:', features_test.shape)\n",
    "print()\n",
    "print('Целевой признак тренировочная выборки:', target_train.shape)\n",
    "print('Целевой признак тестовой выборки:', target_test.shape)"
   ]
  },
  {
   "cell_type": "markdown",
   "metadata": {},
   "source": [
    "С помощью StandardScaler() стандартизируем данные"
   ]
  },
  {
   "cell_type": "code",
   "execution_count": 21,
   "metadata": {},
   "outputs": [
    {
     "data": {
      "text/plain": [
       "StandardScaler()"
      ]
     },
     "execution_count": 21,
     "metadata": {},
     "output_type": "execute_result"
    }
   ],
   "source": [
    "#Создадим объект этой структуры и настроим его на обучающих данных\n",
    "scaler = StandardScaler()\n",
    "scaler.fit(features_train) "
   ]
  },
  {
   "cell_type": "code",
   "execution_count": 22,
   "metadata": {},
   "outputs": [],
   "source": [
    "#Сохраним проеобразование для тренировочный выборки \n",
    "features_train = scaler.transform(features_train)"
   ]
  },
  {
   "cell_type": "code",
   "execution_count": 23,
   "metadata": {},
   "outputs": [],
   "source": [
    "#Сохраним проеобразование для тестовой выборки\n",
    "features_test = scaler.transform(features_test)"
   ]
  },
  {
   "cell_type": "code",
   "execution_count": 24,
   "metadata": {},
   "outputs": [],
   "source": [
    "#функция для вычисления RMSE\n",
    "def RMSE(target, predict):\n",
    "    return (mean_squared_error(target, predict))**0.5"
   ]
  },
  {
   "cell_type": "markdown",
   "metadata": {},
   "source": [
    "Так как перед нами задача минимизации метрики RMSE, и подбор параметров бедет проводится с GridSearchCV - указываем greater_is_better=False. Чтобы убрать минус домножаем на -1 "
   ]
  },
  {
   "cell_type": "code",
   "execution_count": 25,
   "metadata": {},
   "outputs": [],
   "source": [
    "#подготовим скорер \n",
    "rmse_score = make_scorer(RMSE, greater_is_better=False)"
   ]
  },
  {
   "cell_type": "markdown",
   "metadata": {},
   "source": [
    "**LinearRegression**"
   ]
  },
  {
   "cell_type": "code",
   "execution_count": 26,
   "metadata": {},
   "outputs": [
    {
     "name": "stdout",
     "output_type": "stream",
     "text": [
      "----------------\n",
      "Среднее абсолютных разностей между наблюдаемым и предсказанным значениями: 27.15147999894407\n",
      "----------------\n",
      "CPU times: user 251 ms, sys: 496 ms, total: 747 ms\n",
      "Wall time: 748 ms\n"
     ]
    }
   ],
   "source": [
    "%%time\n",
    "#Количество разделений n_splits=5\n",
    "time_cv = TimeSeriesSplit(n_splits=5)\n",
    "\n",
    "model = LinearRegression()\n",
    "model.fit(features_train, target_train)\n",
    "\n",
    "scores = cross_val_score(model, \n",
    "                         features_train, \n",
    "                         target_train,\n",
    "                         scoring=rmse_score,\n",
    "                         cv=time_cv) \n",
    "\n",
    "final_score = pd.Series(scores).mean()*(-1)\n",
    "\n",
    "print('----------------')\n",
    "print(\"Среднее абсолютных разностей между наблюдаемым и предсказанным значениями:\", final_score)\n",
    "print('----------------')"
   ]
  },
  {
   "cell_type": "markdown",
   "metadata": {},
   "source": [
    "**CatBoostRegressor**"
   ]
  },
  {
   "cell_type": "code",
   "execution_count": 27,
   "metadata": {},
   "outputs": [
    {
     "name": "stdout",
     "output_type": "stream",
     "text": [
      "----------------\n",
      "Оптимальные гиперпараметры: {'depth': 6, 'iterations': 60, 'learning_rate': 0.1}\n",
      "Среднее абсолютных разностей между наблюдаемым и предсказанным значениями: 25.166995448002403\n",
      "----------------\n",
      "CPU times: user 2min 34s, sys: 1.45 s, total: 2min 35s\n",
      "Wall time: 4min 49s\n"
     ]
    }
   ],
   "source": [
    "%%time\n",
    "#Количество разделений n_splits=5\n",
    "time_cv = TimeSeriesSplit(n_splits=5)\n",
    "\n",
    "model = CatBoostRegressor(verbose=False)\n",
    "params = {'learning_rate': [0.03, 0.1],\n",
    "          \"depth\": [4, 6, 10],\n",
    "          \"iterations\": [60]}\n",
    "\n",
    "grid = GridSearchCV(model, params, cv=time_cv)\n",
    "grid.fit(features_train, target_train)\n",
    "\n",
    "scores = cross_val_score(grid, \n",
    "                         features_train, \n",
    "                         target_train,\n",
    "                         scoring=rmse_score,\n",
    "                         cv=time_cv) \n",
    "\n",
    "final_score = pd.Series(scores).mean()*(-1)\n",
    "\n",
    "print('----------------')\n",
    "print('Оптимальные гиперпараметры:', grid.best_params_)\n",
    "print(\"Среднее абсолютных разностей между наблюдаемым и предсказанным значениями:\", final_score)\n",
    "print('----------------')"
   ]
  },
  {
   "cell_type": "markdown",
   "metadata": {},
   "source": [
    "**RandomForestRegressor**"
   ]
  },
  {
   "cell_type": "code",
   "execution_count": 28,
   "metadata": {},
   "outputs": [
    {
     "name": "stdout",
     "output_type": "stream",
     "text": [
      "----------------\n",
      "Оптимальные гиперпараметры: {'max_depth': 5, 'min_samples_leaf': 6, 'min_samples_split': 2}\n",
      "Среднее абсолютных разностей между наблюдаемым и предсказанным значениями: 29.26170036342548\n",
      "----------------\n",
      "CPU times: user 42.7 s, sys: 58.6 ms, total: 42.8 s\n",
      "Wall time: 42.8 s\n"
     ]
    }
   ],
   "source": [
    "%%time\n",
    "#Количество разделений n_splits=5\n",
    "time_cv = TimeSeriesSplit(n_splits=5)\n",
    "\n",
    "model = DecisionTreeRegressor()\n",
    "params = {'max_depth': range (1, 13, 2),\n",
    "          'min_samples_leaf': range (1, 8),\n",
    "          'min_samples_split': range(2, 8, 2)}\n",
    " \n",
    "grid = GridSearchCV(model, params, cv=time_cv)\n",
    "grid.fit(features_train, target_train)\n",
    "\n",
    "scores = cross_val_score(grid, \n",
    "                         features_train, \n",
    "                         target_train,\n",
    "                         scoring=rmse_score,\n",
    "                         cv=time_cv) \n",
    "\n",
    "final_score = pd.Series(scores).mean()*(-1)\n",
    "\n",
    "print('----------------')\n",
    "print('Оптимальные гиперпараметры:', grid.best_params_)\n",
    "print(\"Среднее абсолютных разностей между наблюдаемым и предсказанным значениями:\", final_score)\n",
    "print('----------------')"
   ]
  },
  {
   "cell_type": "markdown",
   "metadata": {},
   "source": [
    "**ВЫВОД 3:**\n",
    "На этапе 3 мы реализовали функцию для создания признаков:\n",
    "* добавили календарные признаки\n",
    "* отстающие значения\n",
    "* скользящее среднее\n",
    "\n",
    "Обучили три модели ML. Тестирование будем проводить на модели CatBoostRegressor, так как у него лучший показатель метрики rmse"
   ]
  },
  {
   "cell_type": "markdown",
   "metadata": {},
   "source": [
    "## Тестирование"
   ]
  },
  {
   "cell_type": "code",
   "execution_count": 29,
   "metadata": {},
   "outputs": [
    {
     "name": "stdout",
     "output_type": "stream",
     "text": [
      "Среднее абсолютных разностей между наблюдаемым и предсказанным значениями: 45.66731232023949\n",
      "CPU times: user 365 ms, sys: 159 µs, total: 365 ms\n",
      "Wall time: 1.01 s\n"
     ]
    }
   ],
   "source": [
    "%%time\n",
    "model = CatBoostRegressor(depth=6, iterations=60, learning_rate=0.1, verbose=0)\n",
    "model.fit(features_train, target_train)\n",
    "\n",
    "predict = model.predict(features_test)\n",
    "rmse = mean_squared_error(target_test, predict)\n",
    "print(\"Среднее абсолютных разностей между наблюдаемым и предсказанным значениями:\", rmse**0.5)"
   ]
  },
  {
   "cell_type": "code",
   "execution_count": 34,
   "metadata": {},
   "outputs": [
    {
     "data": {
      "image/png": "[encoded data removed]",
      "text/plain": [
       "<Figure size 1296x432 with 1 Axes>"
      ]
     },
     "metadata": {
      "needs_background": "light"
     },
     "output_type": "display_data"
    }
   ],
   "source": [
    "plt.figure(figsize=(18, 6))\n",
    "plt.plot(target_test.index, target_test, 'b-', \n",
    "         target_test.index, predict, 'r-')\n",
    "\n",
    "plt.title('График распределения предсказаний и целевого значения')\n",
    "plt.show()"
   ]
  },
  {
   "cell_type": "markdown",
   "metadata": {},
   "source": [
    "Спрогнозировать временные ряды без обучения можно двумя способами:\n",
    "\n",
    "1. Все значения тестовой выборки предсказываются одним и тем же числом (константой).\n",
    "2. Новое значение x(t) прогнозируется предыдущим значением ряда, то есть x(t-1). Этот способ не зависит от метрики.\n",
    "\n",
    "Воспользуемся вторым способом и проверим модель на адекватность:"
   ]
  },
  {
   "cell_type": "code",
   "execution_count": 31,
   "metadata": {},
   "outputs": [],
   "source": [
    "pred_previous = target_test.shift()\n",
    "pred_previous.iloc[0] = target_train.iloc[-1]"
   ]
  },
  {
   "cell_type": "code",
   "execution_count": 32,
   "metadata": {},
   "outputs": [
    {
     "name": "stdout",
     "output_type": "stream",
     "text": [
      "Средний объём заказов: 139.56136363636364\n",
      "------------------\n",
      "RMSE: 58.881776776551476\n"
     ]
    }
   ],
   "source": [
    "print(\"Средний объём заказов:\", target_test.mean())\n",
    "print(\"------------------\")\n",
    "print(\"RMSE:\", mean_squared_error(target_test, pred_previous)**0.5)"
   ]
  },
  {
   "cell_type": "markdown",
   "metadata": {},
   "source": [
    "Проверка на адекватность есть 🙌"
   ]
  },
  {
   "cell_type": "markdown",
   "metadata": {},
   "source": [
    "**ОБЩИЙ ВЫВОД:**\n",
    "\n",
    "В рамках проекта были представлены данные компании «Чётенькое такси».\n",
    "\n",
    "Цель проекта: Разработка модели ML для прогноза количества заказов такси на следующий час.\n",
    "\n",
    "Для достижения цели необходимо выполнить следущие критерий заказчика:\n",
    "* Значение метрики RMSE на тестовой выборке должно быть не больше 48\n",
    "\n",
    "В процессе реализации проекта были выполнены следующие шаги:\n",
    "   - Проведена преобработка и анализ данных;\n",
    "   - Обучены 3 модели;\n",
    "   - Была выбрана модель CatBoostRegressor и проверена на тестовой выборке.\n",
    "   \n",
    "Показатель rmse модели CatBoostRegressor на тестовой выборке равен 45"
   ]
  }
 ],
 "metadata": {
  "ExecuteTimeLog": [
   {
    "duration": 494,
    "start_time": "2023-06-21T18:38:36.668Z"
   },
   {
    "duration": 212,
    "start_time": "2023-06-21T18:38:53.743Z"
   },
   {
    "duration": 17,
    "start_time": "2023-06-21T18:39:01.250Z"
   },
   {
    "duration": 31,
    "start_time": "2023-06-21T18:39:23.653Z"
   },
   {
    "duration": 1123,
    "start_time": "2023-06-21T18:40:01.204Z"
   },
   {
    "duration": 54,
    "start_time": "2023-06-21T18:42:04.347Z"
   },
   {
    "duration": 14,
    "start_time": "2023-06-21T18:42:04.831Z"
   },
   {
    "duration": 7,
    "start_time": "2023-06-21T18:42:13.963Z"
   },
   {
    "duration": 47,
    "start_time": "2023-06-21T18:42:38.073Z"
   },
   {
    "duration": 12,
    "start_time": "2023-06-21T18:42:38.444Z"
   },
   {
    "duration": 9,
    "start_time": "2023-06-21T18:42:38.807Z"
   },
   {
    "duration": 5,
    "start_time": "2023-06-21T18:43:08.251Z"
   },
   {
    "duration": 7,
    "start_time": "2023-06-21T18:45:02.788Z"
   },
   {
    "duration": 27663,
    "start_time": "2023-06-21T18:45:29.904Z"
   },
   {
    "duration": 18,
    "start_time": "2023-06-21T18:47:09.396Z"
   },
   {
    "duration": 606,
    "start_time": "2023-06-21T18:47:31.524Z"
   },
   {
    "duration": 50,
    "start_time": "2023-06-21T18:47:35.006Z"
   },
   {
    "duration": 1109,
    "start_time": "2023-06-21T18:47:48.711Z"
   },
   {
    "duration": 30084,
    "start_time": "2023-06-21T18:48:25.634Z"
   },
   {
    "duration": 12,
    "start_time": "2023-06-21T18:50:21.912Z"
   },
   {
    "duration": 12,
    "start_time": "2023-06-21T18:50:48.296Z"
   },
   {
    "duration": 13,
    "start_time": "2023-06-21T18:51:35.371Z"
   },
   {
    "duration": 12,
    "start_time": "2023-06-21T18:51:49.102Z"
   },
   {
    "duration": 13,
    "start_time": "2023-06-21T18:52:05.074Z"
   },
   {
    "duration": 11,
    "start_time": "2023-06-21T18:52:17.196Z"
   },
   {
    "duration": 64,
    "start_time": "2023-06-21T18:53:06.602Z"
   },
   {
    "duration": 45,
    "start_time": "2023-06-21T18:53:32.205Z"
   },
   {
    "duration": 5,
    "start_time": "2023-06-21T18:53:35.778Z"
   },
   {
    "duration": 44,
    "start_time": "2023-06-21T18:53:38.889Z"
   },
   {
    "duration": 11,
    "start_time": "2023-06-21T18:53:39.359Z"
   },
   {
    "duration": 8,
    "start_time": "2023-06-21T18:53:39.672Z"
   },
   {
    "duration": 4,
    "start_time": "2023-06-21T18:53:39.894Z"
   },
   {
    "duration": 4,
    "start_time": "2023-06-21T18:53:40.155Z"
   },
   {
    "duration": 25434,
    "start_time": "2023-06-21T18:53:40.422Z"
   },
   {
    "duration": 35,
    "start_time": "2023-06-21T18:54:05.859Z"
   },
   {
    "duration": 4,
    "start_time": "2023-06-21T18:54:27.334Z"
   },
   {
    "duration": 56,
    "start_time": "2023-06-21T18:54:27.595Z"
   },
   {
    "duration": 4,
    "start_time": "2023-06-21T18:54:27.883Z"
   },
   {
    "duration": 12,
    "start_time": "2023-06-21T18:54:28.647Z"
   },
   {
    "duration": 7,
    "start_time": "2023-06-21T18:54:29.157Z"
   },
   {
    "duration": 4,
    "start_time": "2023-06-21T18:54:29.633Z"
   },
   {
    "duration": 4,
    "start_time": "2023-06-21T18:54:31.727Z"
   },
   {
    "duration": 27825,
    "start_time": "2023-06-21T18:54:33.234Z"
   },
   {
    "duration": 41,
    "start_time": "2023-06-21T18:55:01.062Z"
   },
   {
    "duration": 148,
    "start_time": "2023-06-21T18:55:14.057Z"
   },
   {
    "duration": 13,
    "start_time": "2023-06-21T18:56:32.397Z"
   },
   {
    "duration": 9,
    "start_time": "2023-06-21T18:56:40.531Z"
   },
   {
    "duration": 1278,
    "start_time": "2023-06-21T18:57:03.893Z"
   },
   {
    "duration": 63,
    "start_time": "2023-06-21T18:57:05.176Z"
   },
   {
    "duration": 11,
    "start_time": "2023-06-21T18:57:05.241Z"
   },
   {
    "duration": 49,
    "start_time": "2023-06-21T18:57:05.254Z"
   },
   {
    "duration": 29,
    "start_time": "2023-06-21T18:57:05.305Z"
   },
   {
    "duration": 20,
    "start_time": "2023-06-21T18:57:05.336Z"
   },
   {
    "duration": 251,
    "start_time": "2023-06-21T18:57:05.357Z"
   },
   {
    "duration": 6,
    "start_time": "2023-06-21T18:57:05.610Z"
   },
   {
    "duration": 746,
    "start_time": "2023-06-21T18:57:05.618Z"
   },
   {
    "duration": 1621,
    "start_time": "2023-06-22T08:23:52.928Z"
   },
   {
    "duration": 171,
    "start_time": "2023-06-22T08:23:54.551Z"
   },
   {
    "duration": 13,
    "start_time": "2023-06-22T08:23:54.724Z"
   },
   {
    "duration": 28,
    "start_time": "2023-06-22T08:23:54.740Z"
   },
   {
    "duration": 18,
    "start_time": "2023-06-22T08:23:54.771Z"
   },
   {
    "duration": 56,
    "start_time": "2023-06-22T08:23:54.791Z"
   },
   {
    "duration": 278,
    "start_time": "2023-06-22T08:23:54.849Z"
   },
   {
    "duration": 9,
    "start_time": "2023-06-22T08:23:55.129Z"
   },
   {
    "duration": 789,
    "start_time": "2023-06-22T08:23:55.142Z"
   },
   {
    "duration": 244,
    "start_time": "2023-06-22T08:26:07.720Z"
   },
   {
    "duration": 215,
    "start_time": "2023-06-22T08:26:14.227Z"
   },
   {
    "duration": 194,
    "start_time": "2023-06-22T08:26:21.533Z"
   },
   {
    "duration": 207,
    "start_time": "2023-06-22T08:26:33.351Z"
   },
   {
    "duration": 243,
    "start_time": "2023-06-22T08:26:40.514Z"
   },
   {
    "duration": 6,
    "start_time": "2023-06-22T08:30:49.925Z"
   },
   {
    "duration": 9,
    "start_time": "2023-06-22T08:31:10.912Z"
   },
   {
    "duration": 7,
    "start_time": "2023-06-22T08:31:52.613Z"
   },
   {
    "duration": 194,
    "start_time": "2023-06-22T08:43:25.463Z"
   },
   {
    "duration": 182,
    "start_time": "2023-06-22T08:43:58.360Z"
   },
   {
    "duration": 1249,
    "start_time": "2023-06-22T16:15:51.870Z"
   },
   {
    "duration": 120,
    "start_time": "2023-06-22T16:15:53.121Z"
   },
   {
    "duration": 12,
    "start_time": "2023-06-22T16:15:53.243Z"
   },
   {
    "duration": 18,
    "start_time": "2023-06-22T16:15:53.257Z"
   },
   {
    "duration": 5,
    "start_time": "2023-06-22T16:15:53.277Z"
   },
   {
    "duration": 12,
    "start_time": "2023-06-22T16:15:53.283Z"
   },
   {
    "duration": 256,
    "start_time": "2023-06-22T16:15:53.297Z"
   },
   {
    "duration": 5,
    "start_time": "2023-06-22T16:15:53.555Z"
   },
   {
    "duration": 108,
    "start_time": "2023-06-22T16:15:53.562Z"
   },
   {
    "duration": 516,
    "start_time": "2023-06-22T16:15:53.672Z"
   },
   {
    "duration": 584,
    "start_time": "2023-06-22T16:16:15.940Z"
   },
   {
    "duration": 280,
    "start_time": "2023-06-22T16:17:57.860Z"
   },
   {
    "duration": 250,
    "start_time": "2023-06-22T16:18:11.811Z"
   },
   {
    "duration": 13,
    "start_time": "2023-06-22T16:18:28.002Z"
   },
   {
    "duration": 243,
    "start_time": "2023-06-22T16:18:51.378Z"
   },
   {
    "duration": 1160,
    "start_time": "2023-06-22T16:19:30.990Z"
   },
   {
    "duration": 49,
    "start_time": "2023-06-22T16:19:32.152Z"
   },
   {
    "duration": 10,
    "start_time": "2023-06-22T16:19:32.203Z"
   },
   {
    "duration": 17,
    "start_time": "2023-06-22T16:19:32.215Z"
   },
   {
    "duration": 69,
    "start_time": "2023-06-22T16:19:32.234Z"
   },
   {
    "duration": 33,
    "start_time": "2023-06-22T16:19:32.304Z"
   },
   {
    "duration": 272,
    "start_time": "2023-06-22T16:19:32.338Z"
   },
   {
    "duration": 6,
    "start_time": "2023-06-22T16:19:32.612Z"
   },
   {
    "duration": 745,
    "start_time": "2023-06-22T16:19:32.620Z"
   },
   {
    "duration": 306,
    "start_time": "2023-06-22T16:19:33.367Z"
   },
   {
    "duration": 202,
    "start_time": "2023-06-22T16:19:44.649Z"
   },
   {
    "duration": 167,
    "start_time": "2023-06-22T16:20:27.282Z"
   },
   {
    "duration": 643,
    "start_time": "2023-06-22T16:21:14.155Z"
   },
   {
    "duration": 539,
    "start_time": "2023-06-22T16:21:43.471Z"
   },
   {
    "duration": 553,
    "start_time": "2023-06-22T16:21:53.228Z"
   },
   {
    "duration": 550,
    "start_time": "2023-06-22T16:21:54.084Z"
   },
   {
    "duration": 523,
    "start_time": "2023-06-22T16:21:59.550Z"
   },
   {
    "duration": 505,
    "start_time": "2023-06-22T16:22:00.365Z"
   },
   {
    "duration": 650,
    "start_time": "2023-06-22T16:22:24.905Z"
   },
   {
    "duration": 502,
    "start_time": "2023-06-22T16:22:28.879Z"
   },
   {
    "duration": 1191,
    "start_time": "2023-06-22T16:22:39.480Z"
   },
   {
    "duration": 47,
    "start_time": "2023-06-22T16:22:40.673Z"
   },
   {
    "duration": 10,
    "start_time": "2023-06-22T16:22:40.721Z"
   },
   {
    "duration": 22,
    "start_time": "2023-06-22T16:22:40.732Z"
   },
   {
    "duration": 31,
    "start_time": "2023-06-22T16:22:40.757Z"
   },
   {
    "duration": 21,
    "start_time": "2023-06-22T16:22:40.789Z"
   },
   {
    "duration": 212,
    "start_time": "2023-06-22T16:22:40.811Z"
   },
   {
    "duration": 5,
    "start_time": "2023-06-22T16:22:41.031Z"
   },
   {
    "duration": 728,
    "start_time": "2023-06-22T16:22:41.037Z"
   },
   {
    "duration": 552,
    "start_time": "2023-06-22T16:22:41.766Z"
   },
   {
    "duration": 511,
    "start_time": "2023-06-22T16:22:56.988Z"
   },
   {
    "duration": 101,
    "start_time": "2023-06-22T16:23:07.572Z"
   },
   {
    "duration": 617,
    "start_time": "2023-06-22T16:23:15.101Z"
   },
   {
    "duration": 1068,
    "start_time": "2023-06-22T16:24:58.186Z"
   },
   {
    "duration": 47,
    "start_time": "2023-06-22T16:24:59.256Z"
   },
   {
    "duration": 10,
    "start_time": "2023-06-22T16:24:59.305Z"
   },
   {
    "duration": 10,
    "start_time": "2023-06-22T16:24:59.316Z"
   },
   {
    "duration": 8,
    "start_time": "2023-06-22T16:24:59.328Z"
   },
   {
    "duration": 19,
    "start_time": "2023-06-22T16:24:59.338Z"
   },
   {
    "duration": 213,
    "start_time": "2023-06-22T16:24:59.359Z"
   },
   {
    "duration": 7,
    "start_time": "2023-06-22T16:24:59.573Z"
   },
   {
    "duration": 755,
    "start_time": "2023-06-22T16:24:59.581Z"
   },
   {
    "duration": 549,
    "start_time": "2023-06-22T16:25:00.338Z"
   },
   {
    "duration": 642,
    "start_time": "2023-06-22T16:26:13.031Z"
   },
   {
    "duration": 482,
    "start_time": "2023-06-22T16:26:31.680Z"
   },
   {
    "duration": 230,
    "start_time": "2023-06-22T16:40:50.403Z"
   },
   {
    "duration": 307,
    "start_time": "2023-06-22T16:41:17.293Z"
   },
   {
    "duration": 388,
    "start_time": "2023-06-22T16:43:17.578Z"
   },
   {
    "duration": 313,
    "start_time": "2023-06-22T16:43:33.014Z"
   },
   {
    "duration": 303,
    "start_time": "2023-06-22T16:43:40.295Z"
   },
   {
    "duration": 289,
    "start_time": "2023-06-22T16:43:45.397Z"
   },
   {
    "duration": 392,
    "start_time": "2023-06-22T16:43:52.995Z"
   },
   {
    "duration": 354,
    "start_time": "2023-06-22T16:45:36.900Z"
   },
   {
    "duration": 302,
    "start_time": "2023-06-22T16:45:49.099Z"
   },
   {
    "duration": 296,
    "start_time": "2023-06-22T16:45:55.598Z"
   },
   {
    "duration": 3,
    "start_time": "2023-06-22T16:52:07.145Z"
   },
   {
    "duration": 1085,
    "start_time": "2023-06-22T17:07:24.683Z"
   },
   {
    "duration": 47,
    "start_time": "2023-06-22T17:07:25.770Z"
   },
   {
    "duration": 19,
    "start_time": "2023-06-22T17:07:25.819Z"
   },
   {
    "duration": 31,
    "start_time": "2023-06-22T17:07:25.840Z"
   },
   {
    "duration": 40,
    "start_time": "2023-06-22T17:07:25.873Z"
   },
   {
    "duration": 33,
    "start_time": "2023-06-22T17:07:25.915Z"
   },
   {
    "duration": 241,
    "start_time": "2023-06-22T17:07:25.950Z"
   },
   {
    "duration": 10,
    "start_time": "2023-06-22T17:07:26.193Z"
   },
   {
    "duration": 865,
    "start_time": "2023-06-22T17:07:26.204Z"
   },
   {
    "duration": 454,
    "start_time": "2023-06-22T17:07:27.070Z"
   },
   {
    "duration": 411,
    "start_time": "2023-06-22T17:07:27.525Z"
   },
   {
    "duration": 316,
    "start_time": "2023-06-22T17:07:27.938Z"
   },
   {
    "duration": 4,
    "start_time": "2023-06-22T17:07:28.255Z"
   },
   {
    "duration": 4,
    "start_time": "2023-06-22T17:10:24.870Z"
   },
   {
    "duration": 1568,
    "start_time": "2023-06-22T17:10:34.420Z"
   },
   {
    "duration": 4,
    "start_time": "2023-06-22T17:10:56.263Z"
   },
   {
    "duration": 10,
    "start_time": "2023-06-22T17:10:57.007Z"
   },
   {
    "duration": 13,
    "start_time": "2023-06-22T17:11:10.717Z"
   },
   {
    "duration": 323,
    "start_time": "2023-06-22T17:12:23.369Z"
   },
   {
    "duration": 628,
    "start_time": "2023-06-22T17:13:10.719Z"
   },
   {
    "duration": 1232,
    "start_time": "2023-06-22T17:13:53.773Z"
   },
   {
    "duration": 72,
    "start_time": "2023-06-22T17:13:55.009Z"
   },
   {
    "duration": 13,
    "start_time": "2023-06-22T17:13:55.083Z"
   },
   {
    "duration": 11,
    "start_time": "2023-06-22T17:13:55.098Z"
   },
   {
    "duration": 11,
    "start_time": "2023-06-22T17:13:55.110Z"
   },
   {
    "duration": 18,
    "start_time": "2023-06-22T17:13:55.122Z"
   },
   {
    "duration": 249,
    "start_time": "2023-06-22T17:13:55.145Z"
   },
   {
    "duration": 7,
    "start_time": "2023-06-22T17:13:55.396Z"
   },
   {
    "duration": 815,
    "start_time": "2023-06-22T17:13:55.405Z"
   },
   {
    "duration": 499,
    "start_time": "2023-06-22T17:13:56.223Z"
   },
   {
    "duration": 397,
    "start_time": "2023-06-22T17:13:56.724Z"
   },
   {
    "duration": 329,
    "start_time": "2023-06-22T17:13:57.122Z"
   },
   {
    "duration": 5,
    "start_time": "2023-06-22T17:13:57.453Z"
   },
   {
    "duration": 19,
    "start_time": "2023-06-22T17:13:57.459Z"
   },
   {
    "duration": 15,
    "start_time": "2023-06-22T17:13:57.480Z"
   },
   {
    "duration": 32,
    "start_time": "2023-06-22T17:14:37.017Z"
   },
   {
    "duration": 21,
    "start_time": "2023-06-22T17:15:06.158Z"
   },
   {
    "duration": 14,
    "start_time": "2023-06-22T17:15:33.278Z"
   },
   {
    "duration": 22,
    "start_time": "2023-06-22T17:20:29.531Z"
   },
   {
    "duration": 107,
    "start_time": "2023-06-22T17:24:55.876Z"
   },
   {
    "duration": 3574,
    "start_time": "2023-06-22T17:25:23.849Z"
   },
   {
    "duration": 30,
    "start_time": "2023-06-22T17:29:58.878Z"
   },
   {
    "duration": 2452,
    "start_time": "2023-06-22T17:30:35.476Z"
   },
   {
    "duration": 15,
    "start_time": "2023-06-22T17:30:45.749Z"
   },
   {
    "duration": 5,
    "start_time": "2023-06-22T17:30:46.359Z"
   },
   {
    "duration": 23,
    "start_time": "2023-06-22T17:32:27.472Z"
   },
   {
    "duration": 15,
    "start_time": "2023-06-22T17:32:47.968Z"
   },
   {
    "duration": 13,
    "start_time": "2023-06-22T17:34:42.016Z"
   },
   {
    "duration": 8,
    "start_time": "2023-06-22T17:38:11.028Z"
   },
   {
    "duration": 8,
    "start_time": "2023-06-22T17:38:23.653Z"
   },
   {
    "duration": 7,
    "start_time": "2023-06-22T17:38:37.780Z"
   },
   {
    "duration": 12,
    "start_time": "2023-06-22T17:39:46.735Z"
   },
   {
    "duration": 4,
    "start_time": "2023-06-22T17:42:39.529Z"
   },
   {
    "duration": 7,
    "start_time": "2023-06-22T17:43:39.941Z"
   },
   {
    "duration": 160,
    "start_time": "2023-06-22T17:46:26.426Z"
   },
   {
    "duration": 3,
    "start_time": "2023-06-22T17:46:31.402Z"
   },
   {
    "duration": 3,
    "start_time": "2023-06-22T17:47:25.864Z"
   },
   {
    "duration": 5,
    "start_time": "2023-06-22T17:52:03.848Z"
   },
   {
    "duration": 4,
    "start_time": "2023-06-22T17:57:53.055Z"
   },
   {
    "duration": 12,
    "start_time": "2023-06-22T17:58:25.764Z"
   },
   {
    "duration": 3,
    "start_time": "2023-06-22T17:59:04.182Z"
   },
   {
    "duration": 5,
    "start_time": "2023-06-22T17:59:36.532Z"
   },
   {
    "duration": 940,
    "start_time": "2023-06-22T18:00:09.011Z"
   },
   {
    "duration": 21,
    "start_time": "2023-06-22T18:00:37.778Z"
   },
   {
    "duration": 262,
    "start_time": "2023-06-22T18:03:41.825Z"
   },
   {
    "duration": 8,
    "start_time": "2023-06-22T18:04:05.366Z"
   },
   {
    "duration": 18,
    "start_time": "2023-06-22T18:04:22.887Z"
   },
   {
    "duration": 9,
    "start_time": "2023-06-22T18:04:24.367Z"
   },
   {
    "duration": 11,
    "start_time": "2023-06-22T18:04:38.958Z"
   },
   {
    "duration": 12,
    "start_time": "2023-06-22T18:04:40.064Z"
   },
   {
    "duration": 9,
    "start_time": "2023-06-22T18:04:43.877Z"
   },
   {
    "duration": 10,
    "start_time": "2023-06-22T18:04:44.669Z"
   },
   {
    "duration": 9,
    "start_time": "2023-06-22T18:04:45.258Z"
   },
   {
    "duration": 6,
    "start_time": "2023-06-22T18:04:45.761Z"
   },
   {
    "duration": 202,
    "start_time": "2023-06-22T18:04:46.253Z"
   },
   {
    "duration": 22,
    "start_time": "2023-06-22T18:06:04.547Z"
   },
   {
    "duration": 1388,
    "start_time": "2023-06-22T18:06:17.986Z"
   },
   {
    "duration": 48,
    "start_time": "2023-06-22T18:06:19.377Z"
   },
   {
    "duration": 11,
    "start_time": "2023-06-22T18:06:19.427Z"
   },
   {
    "duration": 47,
    "start_time": "2023-06-22T18:06:19.443Z"
   },
   {
    "duration": 7,
    "start_time": "2023-06-22T18:06:19.492Z"
   },
   {
    "duration": 18,
    "start_time": "2023-06-22T18:06:19.501Z"
   },
   {
    "duration": 273,
    "start_time": "2023-06-22T18:06:19.521Z"
   },
   {
    "duration": 9,
    "start_time": "2023-06-22T18:06:19.796Z"
   },
   {
    "duration": 945,
    "start_time": "2023-06-22T18:06:19.807Z"
   },
   {
    "duration": 547,
    "start_time": "2023-06-22T18:06:20.756Z"
   },
   {
    "duration": 340,
    "start_time": "2023-06-22T18:06:21.305Z"
   },
   {
    "duration": 338,
    "start_time": "2023-06-22T18:06:21.650Z"
   },
   {
    "duration": 5,
    "start_time": "2023-06-22T18:06:21.990Z"
   },
   {
    "duration": 28,
    "start_time": "2023-06-22T18:06:21.997Z"
   },
   {
    "duration": 70,
    "start_time": "2023-06-22T18:06:22.027Z"
   },
   {
    "duration": 18,
    "start_time": "2023-06-22T18:06:22.098Z"
   },
   {
    "duration": 10,
    "start_time": "2023-06-22T18:06:22.118Z"
   },
   {
    "duration": 32,
    "start_time": "2023-06-22T18:06:22.130Z"
   },
   {
    "duration": 11,
    "start_time": "2023-06-22T18:06:22.164Z"
   },
   {
    "duration": 12,
    "start_time": "2023-06-22T18:06:22.177Z"
   },
   {
    "duration": 10,
    "start_time": "2023-06-22T18:06:22.190Z"
   },
   {
    "duration": 49,
    "start_time": "2023-06-22T18:06:22.202Z"
   },
   {
    "duration": 33,
    "start_time": "2023-06-22T18:06:53.973Z"
   },
   {
    "duration": 35,
    "start_time": "2023-06-22T18:07:04.405Z"
   },
   {
    "duration": 30,
    "start_time": "2023-06-22T18:09:11.712Z"
   },
   {
    "duration": 23,
    "start_time": "2023-06-22T18:11:07.587Z"
   },
   {
    "duration": 38,
    "start_time": "2023-06-22T18:11:17.256Z"
   },
   {
    "duration": 230,
    "start_time": "2023-06-22T18:12:28.631Z"
   },
   {
    "duration": 280,
    "start_time": "2023-06-22T18:12:50.192Z"
   },
   {
    "duration": 130,
    "start_time": "2023-06-22T18:12:58.568Z"
   },
   {
    "duration": 46,
    "start_time": "2023-06-22T18:13:12.278Z"
   },
   {
    "duration": 31,
    "start_time": "2023-06-22T18:13:39.447Z"
   },
   {
    "duration": 4,
    "start_time": "2023-06-22T18:14:19.751Z"
   },
   {
    "duration": 31,
    "start_time": "2023-06-22T18:14:24.556Z"
   },
   {
    "duration": 34,
    "start_time": "2023-06-22T18:14:33.693Z"
   },
   {
    "duration": 25,
    "start_time": "2023-06-22T18:14:56.146Z"
   },
   {
    "duration": 26,
    "start_time": "2023-06-22T18:15:10.430Z"
   },
   {
    "duration": 33,
    "start_time": "2023-06-22T18:15:20.223Z"
   },
   {
    "duration": 39,
    "start_time": "2023-06-22T18:15:31.828Z"
   },
   {
    "duration": 7,
    "start_time": "2023-06-22T18:15:51.872Z"
   },
   {
    "duration": 20,
    "start_time": "2023-06-22T18:15:52.727Z"
   },
   {
    "duration": 6,
    "start_time": "2023-06-22T18:15:56.056Z"
   },
   {
    "duration": 6,
    "start_time": "2023-06-22T18:15:56.500Z"
   },
   {
    "duration": 9,
    "start_time": "2023-06-22T18:15:57.010Z"
   },
   {
    "duration": 5,
    "start_time": "2023-06-22T18:15:57.564Z"
   },
   {
    "duration": 3,
    "start_time": "2023-06-22T18:15:58.053Z"
   },
   {
    "duration": 3,
    "start_time": "2023-06-22T18:15:58.403Z"
   },
   {
    "duration": 42,
    "start_time": "2023-06-22T18:15:58.722Z"
   },
   {
    "duration": 4,
    "start_time": "2023-06-22T18:16:12.247Z"
   },
   {
    "duration": 10,
    "start_time": "2023-06-22T18:16:12.826Z"
   },
   {
    "duration": 20,
    "start_time": "2023-06-22T18:16:13.182Z"
   },
   {
    "duration": 7,
    "start_time": "2023-06-22T18:16:13.786Z"
   },
   {
    "duration": 5,
    "start_time": "2023-06-22T18:16:14.260Z"
   },
   {
    "duration": 9,
    "start_time": "2023-06-22T18:16:14.527Z"
   },
   {
    "duration": 5,
    "start_time": "2023-06-22T18:16:14.960Z"
   },
   {
    "duration": 5,
    "start_time": "2023-06-22T18:16:15.340Z"
   },
   {
    "duration": 3,
    "start_time": "2023-06-22T18:16:15.670Z"
   },
   {
    "duration": 113,
    "start_time": "2023-06-22T18:16:15.943Z"
   },
   {
    "duration": 1430,
    "start_time": "2023-06-22T18:16:28.669Z"
   },
   {
    "duration": 53,
    "start_time": "2023-06-22T18:16:30.102Z"
   },
   {
    "duration": 11,
    "start_time": "2023-06-22T18:16:30.156Z"
   },
   {
    "duration": 25,
    "start_time": "2023-06-22T18:16:30.168Z"
   },
   {
    "duration": 54,
    "start_time": "2023-06-22T18:16:30.195Z"
   },
   {
    "duration": 50,
    "start_time": "2023-06-22T18:16:30.250Z"
   },
   {
    "duration": 296,
    "start_time": "2023-06-22T18:16:30.303Z"
   },
   {
    "duration": 7,
    "start_time": "2023-06-22T18:16:30.601Z"
   },
   {
    "duration": 920,
    "start_time": "2023-06-22T18:16:30.609Z"
   },
   {
    "duration": 521,
    "start_time": "2023-06-22T18:16:31.531Z"
   },
   {
    "duration": 331,
    "start_time": "2023-06-22T18:16:32.054Z"
   },
   {
    "duration": 388,
    "start_time": "2023-06-22T18:16:32.387Z"
   },
   {
    "duration": 4,
    "start_time": "2023-06-22T18:16:32.777Z"
   },
   {
    "duration": 33,
    "start_time": "2023-06-22T18:16:32.784Z"
   },
   {
    "duration": 32,
    "start_time": "2023-06-22T18:16:32.819Z"
   },
   {
    "duration": 28,
    "start_time": "2023-06-22T18:16:32.853Z"
   },
   {
    "duration": 9,
    "start_time": "2023-06-22T18:16:32.882Z"
   },
   {
    "duration": 14,
    "start_time": "2023-06-22T18:16:32.893Z"
   },
   {
    "duration": 18,
    "start_time": "2023-06-22T18:16:32.909Z"
   },
   {
    "duration": 37,
    "start_time": "2023-06-22T18:16:32.929Z"
   },
   {
    "duration": 49,
    "start_time": "2023-06-22T18:16:32.969Z"
   },
   {
    "duration": 227,
    "start_time": "2023-06-22T18:16:33.020Z"
   },
   {
    "duration": 1369,
    "start_time": "2023-06-22T18:16:47.258Z"
   },
   {
    "duration": 51,
    "start_time": "2023-06-22T18:16:48.629Z"
   },
   {
    "duration": 10,
    "start_time": "2023-06-22T18:16:48.681Z"
   },
   {
    "duration": 25,
    "start_time": "2023-06-22T18:16:48.694Z"
   },
   {
    "duration": 8,
    "start_time": "2023-06-22T18:16:48.721Z"
   },
   {
    "duration": 26,
    "start_time": "2023-06-22T18:16:48.731Z"
   },
   {
    "duration": 251,
    "start_time": "2023-06-22T18:16:48.759Z"
   },
   {
    "duration": 22,
    "start_time": "2023-06-22T18:16:49.012Z"
   },
   {
    "duration": 861,
    "start_time": "2023-06-22T18:16:49.039Z"
   },
   {
    "duration": 486,
    "start_time": "2023-06-22T18:16:49.903Z"
   },
   {
    "duration": 326,
    "start_time": "2023-06-22T18:16:50.391Z"
   },
   {
    "duration": 324,
    "start_time": "2023-06-22T18:16:50.719Z"
   },
   {
    "duration": 6,
    "start_time": "2023-06-22T18:16:51.044Z"
   },
   {
    "duration": 49,
    "start_time": "2023-06-22T18:16:51.052Z"
   },
   {
    "duration": 41,
    "start_time": "2023-06-22T18:16:51.103Z"
   },
   {
    "duration": 29,
    "start_time": "2023-06-22T18:16:51.151Z"
   },
   {
    "duration": 28,
    "start_time": "2023-06-22T18:16:51.182Z"
   },
   {
    "duration": 25,
    "start_time": "2023-06-22T18:16:51.211Z"
   },
   {
    "duration": 26,
    "start_time": "2023-06-22T18:16:51.239Z"
   },
   {
    "duration": 15,
    "start_time": "2023-06-22T18:16:51.266Z"
   },
   {
    "duration": 17,
    "start_time": "2023-06-22T18:16:51.283Z"
   },
   {
    "duration": 45,
    "start_time": "2023-06-22T18:16:51.301Z"
   },
   {
    "duration": 23,
    "start_time": "2023-06-22T18:19:57.673Z"
   },
   {
    "duration": 5,
    "start_time": "2023-06-22T18:20:51.993Z"
   },
   {
    "duration": 214,
    "start_time": "2023-06-22T18:21:42.149Z"
   },
   {
    "duration": 3,
    "start_time": "2023-06-22T18:22:23.485Z"
   },
   {
    "duration": 151,
    "start_time": "2023-06-22T18:22:27.607Z"
   },
   {
    "duration": 101,
    "start_time": "2023-06-22T18:22:58.749Z"
   },
   {
    "duration": 147,
    "start_time": "2023-06-22T18:23:20.302Z"
   },
   {
    "duration": 5,
    "start_time": "2023-06-22T18:24:21.573Z"
   },
   {
    "duration": 5,
    "start_time": "2023-06-22T18:25:33.705Z"
   },
   {
    "duration": 38543,
    "start_time": "2023-06-22T18:26:48.159Z"
   },
   {
    "duration": 38783,
    "start_time": "2023-06-22T18:27:46.374Z"
   },
   {
    "duration": 8,
    "start_time": "2023-06-22T18:28:25.159Z"
   },
   {
    "duration": 1360,
    "start_time": "2023-06-22T18:30:22.794Z"
   },
   {
    "duration": 48,
    "start_time": "2023-06-22T18:30:24.156Z"
   },
   {
    "duration": 10,
    "start_time": "2023-06-22T18:30:24.206Z"
   },
   {
    "duration": 11,
    "start_time": "2023-06-22T18:30:24.218Z"
   },
   {
    "duration": 44,
    "start_time": "2023-06-22T18:30:24.231Z"
   },
   {
    "duration": 22,
    "start_time": "2023-06-22T18:30:24.277Z"
   },
   {
    "duration": 260,
    "start_time": "2023-06-22T18:30:24.301Z"
   },
   {
    "duration": 9,
    "start_time": "2023-06-22T18:30:24.563Z"
   },
   {
    "duration": 947,
    "start_time": "2023-06-22T18:30:24.574Z"
   },
   {
    "duration": 517,
    "start_time": "2023-06-22T18:30:25.523Z"
   },
   {
    "duration": 321,
    "start_time": "2023-06-22T18:30:26.045Z"
   },
   {
    "duration": 337,
    "start_time": "2023-06-22T18:30:26.367Z"
   },
   {
    "duration": 4,
    "start_time": "2023-06-22T18:30:26.706Z"
   },
   {
    "duration": 28,
    "start_time": "2023-06-22T18:30:26.713Z"
   },
   {
    "duration": 16,
    "start_time": "2023-06-22T18:30:26.747Z"
   },
   {
    "duration": 12,
    "start_time": "2023-06-22T18:30:26.765Z"
   },
   {
    "duration": 9,
    "start_time": "2023-06-22T18:30:26.778Z"
   },
   {
    "duration": 23,
    "start_time": "2023-06-22T18:30:26.789Z"
   },
   {
    "duration": 6,
    "start_time": "2023-06-22T18:30:26.813Z"
   },
   {
    "duration": 18,
    "start_time": "2023-06-22T18:30:26.821Z"
   },
   {
    "duration": 25,
    "start_time": "2023-06-22T18:30:26.840Z"
   },
   {
    "duration": 43,
    "start_time": "2023-06-22T18:30:26.866Z"
   },
   {
    "duration": 30273,
    "start_time": "2023-06-22T18:30:26.912Z"
   },
   {
    "duration": 3,
    "start_time": "2023-06-22T18:30:57.186Z"
   },
   {
    "duration": 1487,
    "start_time": "2023-06-22T18:32:11.475Z"
   },
   {
    "duration": 50,
    "start_time": "2023-06-22T18:32:12.964Z"
   },
   {
    "duration": 10,
    "start_time": "2023-06-22T18:32:13.016Z"
   },
   {
    "duration": 28,
    "start_time": "2023-06-22T18:32:13.028Z"
   },
   {
    "duration": 7,
    "start_time": "2023-06-22T18:32:13.058Z"
   },
   {
    "duration": 35,
    "start_time": "2023-06-22T18:32:13.066Z"
   },
   {
    "duration": 246,
    "start_time": "2023-06-22T18:32:13.103Z"
   },
   {
    "duration": 9,
    "start_time": "2023-06-22T18:32:13.353Z"
   },
   {
    "duration": 864,
    "start_time": "2023-06-22T18:32:13.364Z"
   },
   {
    "duration": 552,
    "start_time": "2023-06-22T18:32:14.231Z"
   },
   {
    "duration": 366,
    "start_time": "2023-06-22T18:32:14.785Z"
   },
   {
    "duration": 327,
    "start_time": "2023-06-22T18:32:15.153Z"
   },
   {
    "duration": 4,
    "start_time": "2023-06-22T18:32:15.481Z"
   },
   {
    "duration": 15,
    "start_time": "2023-06-22T18:32:15.487Z"
   },
   {
    "duration": 36,
    "start_time": "2023-06-22T18:32:15.503Z"
   },
   {
    "duration": 29,
    "start_time": "2023-06-22T18:32:15.546Z"
   },
   {
    "duration": 8,
    "start_time": "2023-06-22T18:32:15.576Z"
   },
   {
    "duration": 9,
    "start_time": "2023-06-22T18:32:15.585Z"
   },
   {
    "duration": 9,
    "start_time": "2023-06-22T18:32:15.595Z"
   },
   {
    "duration": 11,
    "start_time": "2023-06-22T18:32:15.606Z"
   },
   {
    "duration": 9,
    "start_time": "2023-06-22T18:32:15.619Z"
   },
   {
    "duration": 59,
    "start_time": "2023-06-22T18:32:15.630Z"
   },
   {
    "duration": 3,
    "start_time": "2023-06-22T18:32:46.534Z"
   },
   {
    "duration": 1415,
    "start_time": "2023-06-22T18:35:40.691Z"
   },
   {
    "duration": 58,
    "start_time": "2023-06-22T18:35:42.108Z"
   },
   {
    "duration": 12,
    "start_time": "2023-06-22T18:35:42.167Z"
   },
   {
    "duration": 15,
    "start_time": "2023-06-22T18:35:42.181Z"
   },
   {
    "duration": 31,
    "start_time": "2023-06-22T18:35:42.198Z"
   },
   {
    "duration": 37,
    "start_time": "2023-06-22T18:35:42.235Z"
   },
   {
    "duration": 239,
    "start_time": "2023-06-22T18:35:42.274Z"
   },
   {
    "duration": 21,
    "start_time": "2023-06-22T18:35:42.515Z"
   },
   {
    "duration": 822,
    "start_time": "2023-06-22T18:35:42.538Z"
   },
   {
    "duration": 481,
    "start_time": "2023-06-22T18:35:43.362Z"
   },
   {
    "duration": 318,
    "start_time": "2023-06-22T18:35:43.844Z"
   },
   {
    "duration": 312,
    "start_time": "2023-06-22T18:35:44.164Z"
   },
   {
    "duration": 3,
    "start_time": "2023-06-22T18:35:44.478Z"
   },
   {
    "duration": 12,
    "start_time": "2023-06-22T18:35:44.483Z"
   },
   {
    "duration": 13,
    "start_time": "2023-06-22T18:35:44.496Z"
   },
   {
    "duration": 37,
    "start_time": "2023-06-22T18:35:44.511Z"
   },
   {
    "duration": 21,
    "start_time": "2023-06-22T18:35:44.553Z"
   },
   {
    "duration": 12,
    "start_time": "2023-06-22T18:35:44.576Z"
   },
   {
    "duration": 13,
    "start_time": "2023-06-22T18:35:44.590Z"
   },
   {
    "duration": 48,
    "start_time": "2023-06-22T18:35:44.605Z"
   },
   {
    "duration": 13,
    "start_time": "2023-06-22T18:35:44.655Z"
   },
   {
    "duration": 41,
    "start_time": "2023-06-22T18:35:44.669Z"
   },
   {
    "duration": 27905,
    "start_time": "2023-06-22T18:35:44.712Z"
   },
   {
    "duration": 3,
    "start_time": "2023-06-22T18:36:12.619Z"
   },
   {
    "duration": 133700,
    "start_time": "2023-06-22T18:36:12.624Z"
   },
   {
    "duration": 3,
    "start_time": "2023-06-22T18:38:26.326Z"
   },
   {
    "duration": 173778,
    "start_time": "2023-06-22T18:40:45.449Z"
   },
   {
    "duration": 79,
    "start_time": "2023-06-22T18:48:41.894Z"
   },
   {
    "duration": 113,
    "start_time": "2023-06-22T18:49:07.316Z"
   },
   {
    "duration": 46,
    "start_time": "2023-06-22T18:49:12.268Z"
   },
   {
    "duration": 226,
    "start_time": "2023-06-22T18:49:23.014Z"
   },
   {
    "duration": 1392,
    "start_time": "2023-06-22T18:49:57.164Z"
   },
   {
    "duration": 47,
    "start_time": "2023-06-22T18:49:58.558Z"
   },
   {
    "duration": 10,
    "start_time": "2023-06-22T18:49:58.606Z"
   },
   {
    "duration": 17,
    "start_time": "2023-06-22T18:49:58.617Z"
   },
   {
    "duration": 15,
    "start_time": "2023-06-22T18:49:58.636Z"
   },
   {
    "duration": 24,
    "start_time": "2023-06-22T18:49:58.652Z"
   },
   {
    "duration": 218,
    "start_time": "2023-06-22T18:49:58.677Z"
   },
   {
    "duration": 7,
    "start_time": "2023-06-22T18:49:58.896Z"
   },
   {
    "duration": 804,
    "start_time": "2023-06-22T18:49:58.904Z"
   },
   {
    "duration": 514,
    "start_time": "2023-06-22T18:49:59.712Z"
   },
   {
    "duration": 334,
    "start_time": "2023-06-22T18:50:00.227Z"
   },
   {
    "duration": 334,
    "start_time": "2023-06-22T18:50:00.563Z"
   },
   {
    "duration": 4,
    "start_time": "2023-06-22T18:50:00.899Z"
   },
   {
    "duration": 71,
    "start_time": "2023-06-22T18:50:00.905Z"
   },
   {
    "duration": 51,
    "start_time": "2023-06-22T18:50:00.978Z"
   },
   {
    "duration": 67,
    "start_time": "2023-06-22T18:50:01.030Z"
   },
   {
    "duration": 58,
    "start_time": "2023-06-22T18:50:01.098Z"
   },
   {
    "duration": 45,
    "start_time": "2023-06-22T18:50:01.158Z"
   },
   {
    "duration": 49,
    "start_time": "2023-06-22T18:50:01.205Z"
   },
   {
    "duration": 51,
    "start_time": "2023-06-22T18:50:01.256Z"
   },
   {
    "duration": 59,
    "start_time": "2023-06-22T18:50:01.309Z"
   },
   {
    "duration": 134,
    "start_time": "2023-06-22T18:50:01.369Z"
   },
   {
    "duration": 1487,
    "start_time": "2023-06-22T18:50:24.033Z"
   },
   {
    "duration": 57,
    "start_time": "2023-06-22T18:50:25.522Z"
   },
   {
    "duration": 10,
    "start_time": "2023-06-22T18:50:25.583Z"
   },
   {
    "duration": 11,
    "start_time": "2023-06-22T18:50:25.594Z"
   },
   {
    "duration": 8,
    "start_time": "2023-06-22T18:50:25.606Z"
   },
   {
    "duration": 27,
    "start_time": "2023-06-22T18:50:25.615Z"
   },
   {
    "duration": 229,
    "start_time": "2023-06-22T18:50:25.643Z"
   },
   {
    "duration": 7,
    "start_time": "2023-06-22T18:50:25.874Z"
   },
   {
    "duration": 837,
    "start_time": "2023-06-22T18:50:25.883Z"
   },
   {
    "duration": 529,
    "start_time": "2023-06-22T18:50:26.722Z"
   },
   {
    "duration": 316,
    "start_time": "2023-06-22T18:50:27.253Z"
   },
   {
    "duration": 353,
    "start_time": "2023-06-22T18:50:27.571Z"
   },
   {
    "duration": 12,
    "start_time": "2023-06-22T18:50:27.926Z"
   },
   {
    "duration": 38,
    "start_time": "2023-06-22T18:50:27.942Z"
   },
   {
    "duration": 26,
    "start_time": "2023-06-22T18:50:27.982Z"
   },
   {
    "duration": 64,
    "start_time": "2023-06-22T18:50:28.010Z"
   },
   {
    "duration": 28,
    "start_time": "2023-06-22T18:50:28.076Z"
   },
   {
    "duration": 23,
    "start_time": "2023-06-22T18:50:28.106Z"
   },
   {
    "duration": 23,
    "start_time": "2023-06-22T18:50:28.130Z"
   },
   {
    "duration": 30,
    "start_time": "2023-06-22T18:50:28.155Z"
   },
   {
    "duration": 14,
    "start_time": "2023-06-22T18:50:28.187Z"
   },
   {
    "duration": 51,
    "start_time": "2023-06-22T18:50:28.202Z"
   },
   {
    "duration": 174966,
    "start_time": "2023-06-22T18:50:28.255Z"
   },
   {
    "duration": 1517,
    "start_time": "2023-06-22T19:01:56.697Z"
   },
   {
    "duration": 55,
    "start_time": "2023-06-22T19:01:58.216Z"
   },
   {
    "duration": 9,
    "start_time": "2023-06-22T19:01:58.273Z"
   },
   {
    "duration": 13,
    "start_time": "2023-06-22T19:01:58.284Z"
   },
   {
    "duration": 4,
    "start_time": "2023-06-22T19:01:58.299Z"
   },
   {
    "duration": 9,
    "start_time": "2023-06-22T19:01:58.304Z"
   },
   {
    "duration": 236,
    "start_time": "2023-06-22T19:01:58.314Z"
   },
   {
    "duration": 9,
    "start_time": "2023-06-22T19:01:58.552Z"
   },
   {
    "duration": 830,
    "start_time": "2023-06-22T19:01:58.562Z"
   },
   {
    "duration": 495,
    "start_time": "2023-06-22T19:01:59.394Z"
   },
   {
    "duration": 364,
    "start_time": "2023-06-22T19:01:59.891Z"
   },
   {
    "duration": 356,
    "start_time": "2023-06-22T19:02:00.257Z"
   },
   {
    "duration": 18,
    "start_time": "2023-06-22T19:02:00.615Z"
   },
   {
    "duration": 85,
    "start_time": "2023-06-22T19:02:00.645Z"
   },
   {
    "duration": 58,
    "start_time": "2023-06-22T19:02:00.736Z"
   },
   {
    "duration": 156,
    "start_time": "2023-06-22T19:02:00.796Z"
   },
   {
    "duration": 113,
    "start_time": "2023-06-22T19:02:00.954Z"
   },
   {
    "duration": 46,
    "start_time": "2023-06-22T19:02:01.069Z"
   },
   {
    "duration": 72,
    "start_time": "2023-06-22T19:02:01.116Z"
   },
   {
    "duration": 30,
    "start_time": "2023-06-22T19:02:01.190Z"
   },
   {
    "duration": 87,
    "start_time": "2023-06-22T19:02:01.222Z"
   },
   {
    "duration": 88,
    "start_time": "2023-06-22T19:02:01.311Z"
   },
   {
    "duration": 114,
    "start_time": "2023-06-22T19:09:41.293Z"
   },
   {
    "duration": 3,
    "start_time": "2023-06-22T19:09:59.861Z"
   },
   {
    "duration": 1451,
    "start_time": "2023-06-22T19:10:22.497Z"
   },
   {
    "duration": 46,
    "start_time": "2023-06-22T19:10:23.950Z"
   },
   {
    "duration": 10,
    "start_time": "2023-06-22T19:10:23.998Z"
   },
   {
    "duration": 10,
    "start_time": "2023-06-22T19:10:24.009Z"
   },
   {
    "duration": 14,
    "start_time": "2023-06-22T19:10:24.021Z"
   },
   {
    "duration": 32,
    "start_time": "2023-06-22T19:10:24.036Z"
   },
   {
    "duration": 225,
    "start_time": "2023-06-22T19:10:24.069Z"
   },
   {
    "duration": 8,
    "start_time": "2023-06-22T19:10:24.295Z"
   },
   {
    "duration": 856,
    "start_time": "2023-06-22T19:10:24.304Z"
   },
   {
    "duration": 456,
    "start_time": "2023-06-22T19:10:25.162Z"
   },
   {
    "duration": 319,
    "start_time": "2023-06-22T19:10:25.620Z"
   },
   {
    "duration": 309,
    "start_time": "2023-06-22T19:10:25.940Z"
   },
   {
    "duration": 4,
    "start_time": "2023-06-22T19:10:26.250Z"
   },
   {
    "duration": 17,
    "start_time": "2023-06-22T19:10:26.256Z"
   },
   {
    "duration": 40,
    "start_time": "2023-06-22T19:10:26.274Z"
   },
   {
    "duration": 44,
    "start_time": "2023-06-22T19:10:26.315Z"
   },
   {
    "duration": 23,
    "start_time": "2023-06-22T19:10:26.361Z"
   },
   {
    "duration": 7,
    "start_time": "2023-06-22T19:10:26.385Z"
   },
   {
    "duration": 25,
    "start_time": "2023-06-22T19:10:26.394Z"
   },
   {
    "duration": 44,
    "start_time": "2023-06-22T19:10:26.420Z"
   },
   {
    "duration": 20,
    "start_time": "2023-06-22T19:10:26.465Z"
   },
   {
    "duration": 57,
    "start_time": "2023-06-22T19:10:26.486Z"
   },
   {
    "duration": 1461,
    "start_time": "2023-06-22T19:12:58.721Z"
   },
   {
    "duration": 55,
    "start_time": "2023-06-22T19:13:00.184Z"
   },
   {
    "duration": 13,
    "start_time": "2023-06-22T19:13:00.247Z"
   },
   {
    "duration": 31,
    "start_time": "2023-06-22T19:13:00.262Z"
   },
   {
    "duration": 29,
    "start_time": "2023-06-22T19:13:00.294Z"
   },
   {
    "duration": 58,
    "start_time": "2023-06-22T19:13:00.325Z"
   },
   {
    "duration": 264,
    "start_time": "2023-06-22T19:13:00.385Z"
   },
   {
    "duration": 8,
    "start_time": "2023-06-22T19:13:00.651Z"
   },
   {
    "duration": 884,
    "start_time": "2023-06-22T19:13:00.660Z"
   },
   {
    "duration": 512,
    "start_time": "2023-06-22T19:13:01.547Z"
   },
   {
    "duration": 345,
    "start_time": "2023-06-22T19:13:02.060Z"
   },
   {
    "duration": 369,
    "start_time": "2023-06-22T19:13:02.407Z"
   },
   {
    "duration": 4,
    "start_time": "2023-06-22T19:13:02.778Z"
   },
   {
    "duration": 43,
    "start_time": "2023-06-22T19:13:02.783Z"
   },
   {
    "duration": 35,
    "start_time": "2023-06-22T19:13:02.828Z"
   },
   {
    "duration": 33,
    "start_time": "2023-06-22T19:13:02.864Z"
   },
   {
    "duration": 23,
    "start_time": "2023-06-22T19:13:02.899Z"
   },
   {
    "duration": 36,
    "start_time": "2023-06-22T19:13:02.923Z"
   },
   {
    "duration": 27,
    "start_time": "2023-06-22T19:13:02.961Z"
   },
   {
    "duration": 29,
    "start_time": "2023-06-22T19:13:02.990Z"
   },
   {
    "duration": 15,
    "start_time": "2023-06-22T19:13:03.020Z"
   },
   {
    "duration": 104,
    "start_time": "2023-06-22T19:13:03.037Z"
   },
   {
    "duration": 180204,
    "start_time": "2023-06-22T19:13:03.143Z"
   },
   {
    "duration": 22096,
    "start_time": "2023-06-22T19:16:03.351Z"
   },
   {
    "duration": 6,
    "start_time": "2023-06-22T19:20:55.900Z"
   },
   {
    "duration": 5,
    "start_time": "2023-06-22T19:20:56.509Z"
   },
   {
    "duration": 3,
    "start_time": "2023-06-22T19:21:00.891Z"
   },
   {
    "duration": 3,
    "start_time": "2023-06-22T19:21:02.100Z"
   },
   {
    "duration": 40,
    "start_time": "2023-06-22T19:21:02.696Z"
   },
   {
    "duration": 171572,
    "start_time": "2023-06-22T19:21:05.040Z"
   },
   {
    "duration": 24164,
    "start_time": "2023-06-22T19:23:56.614Z"
   },
   {
    "duration": 835,
    "start_time": "2023-06-22T19:25:16.656Z"
   },
   {
    "duration": 897,
    "start_time": "2023-06-22T19:25:49.443Z"
   },
   {
    "duration": 900,
    "start_time": "2023-06-22T19:26:01.948Z"
   },
   {
    "duration": 4,
    "start_time": "2023-06-22T19:28:33.930Z"
   },
   {
    "duration": 4,
    "start_time": "2023-06-22T19:28:50.488Z"
   },
   {
    "duration": 18,
    "start_time": "2023-06-22T19:28:50.987Z"
   },
   {
    "duration": 23,
    "start_time": "2023-06-22T19:28:52.091Z"
   },
   {
    "duration": 21,
    "start_time": "2023-06-22T19:28:59.091Z"
   },
   {
    "duration": 9,
    "start_time": "2023-06-22T19:29:05.307Z"
   },
   {
    "duration": 7,
    "start_time": "2023-06-22T19:29:06.006Z"
   },
   {
    "duration": 7,
    "start_time": "2023-06-22T19:29:10.538Z"
   },
   {
    "duration": 5,
    "start_time": "2023-06-22T19:29:11.053Z"
   },
   {
    "duration": 3,
    "start_time": "2023-06-22T19:29:13.029Z"
   },
   {
    "duration": 8,
    "start_time": "2023-06-22T19:30:40.123Z"
   },
   {
    "duration": 5,
    "start_time": "2023-06-22T19:30:40.522Z"
   },
   {
    "duration": 19,
    "start_time": "2023-06-22T19:32:42.404Z"
   },
   {
    "duration": 4,
    "start_time": "2023-06-22T19:35:25.000Z"
   },
   {
    "duration": 13,
    "start_time": "2023-06-22T19:35:32.320Z"
   },
   {
    "duration": 5,
    "start_time": "2023-06-22T19:36:00.498Z"
   },
   {
    "duration": 6,
    "start_time": "2023-06-22T19:36:19.490Z"
   },
   {
    "duration": 5,
    "start_time": "2023-06-22T19:36:43.594Z"
   },
   {
    "duration": 2,
    "start_time": "2023-06-22T19:36:45.258Z"
   },
   {
    "duration": 2,
    "start_time": "2023-06-22T19:36:45.745Z"
   },
   {
    "duration": 8,
    "start_time": "2023-06-22T19:36:46.756Z"
   },
   {
    "duration": 341,
    "start_time": "2023-06-22T19:37:01.796Z"
   },
   {
    "duration": 1488,
    "start_time": "2023-06-22T19:38:43.315Z"
   },
   {
    "duration": 58,
    "start_time": "2023-06-22T19:38:44.805Z"
   },
   {
    "duration": 11,
    "start_time": "2023-06-22T19:38:44.865Z"
   },
   {
    "duration": 9,
    "start_time": "2023-06-22T19:38:44.878Z"
   },
   {
    "duration": 7,
    "start_time": "2023-06-22T19:38:44.889Z"
   },
   {
    "duration": 11,
    "start_time": "2023-06-22T19:38:44.897Z"
   },
   {
    "duration": 237,
    "start_time": "2023-06-22T19:38:44.909Z"
   },
   {
    "duration": 7,
    "start_time": "2023-06-22T19:38:45.147Z"
   },
   {
    "duration": 845,
    "start_time": "2023-06-22T19:38:45.156Z"
   },
   {
    "duration": 483,
    "start_time": "2023-06-22T19:38:46.004Z"
   },
   {
    "duration": 317,
    "start_time": "2023-06-22T19:38:46.489Z"
   },
   {
    "duration": 320,
    "start_time": "2023-06-22T19:38:46.808Z"
   },
   {
    "duration": 3,
    "start_time": "2023-06-22T19:38:47.130Z"
   },
   {
    "duration": 27,
    "start_time": "2023-06-22T19:38:47.135Z"
   },
   {
    "duration": 19,
    "start_time": "2023-06-22T19:38:47.163Z"
   },
   {
    "duration": 8,
    "start_time": "2023-06-22T19:38:47.183Z"
   },
   {
    "duration": 6,
    "start_time": "2023-06-22T19:38:47.192Z"
   },
   {
    "duration": 45,
    "start_time": "2023-06-22T19:38:47.199Z"
   },
   {
    "duration": 9,
    "start_time": "2023-06-22T19:38:47.245Z"
   },
   {
    "duration": 17,
    "start_time": "2023-06-22T19:38:47.255Z"
   },
   {
    "duration": 8,
    "start_time": "2023-06-22T19:38:47.274Z"
   },
   {
    "duration": 5,
    "start_time": "2023-06-22T19:38:47.284Z"
   },
   {
    "duration": 7,
    "start_time": "2023-06-22T19:38:47.290Z"
   },
   {
    "duration": 9,
    "start_time": "2023-06-22T19:38:47.298Z"
   },
   {
    "duration": 7,
    "start_time": "2023-06-22T19:38:47.309Z"
   },
   {
    "duration": 15,
    "start_time": "2023-06-22T19:38:47.318Z"
   },
   {
    "duration": 197,
    "start_time": "2023-06-22T19:38:47.334Z"
   },
   {
    "duration": 597,
    "start_time": "2023-06-22T19:38:47.536Z"
   },
   {
    "duration": 256825,
    "start_time": "2023-06-22T19:38:48.136Z"
   },
   {
    "duration": 28099,
    "start_time": "2023-06-22T19:43:04.963Z"
   },
   {
    "duration": 1532,
    "start_time": "2023-06-22T19:43:33.063Z"
   },
   {
    "duration": 3145,
    "start_time": "2023-06-22T19:43:49.842Z"
   },
   {
    "duration": 926,
    "start_time": "2023-06-22T19:44:08.814Z"
   },
   {
    "duration": 1475,
    "start_time": "2023-06-22T19:46:39.428Z"
   },
   {
    "duration": 1576,
    "start_time": "2023-06-22T19:46:44.837Z"
   },
   {
    "duration": 1056,
    "start_time": "2023-06-22T19:46:55.417Z"
   },
   {
    "duration": 927,
    "start_time": "2023-06-22T19:47:16.936Z"
   },
   {
    "duration": 1737,
    "start_time": "2023-06-23T19:29:02.320Z"
   },
   {
    "duration": 291,
    "start_time": "2023-06-23T19:29:04.060Z"
   },
   {
    "duration": 20,
    "start_time": "2023-06-23T19:29:04.352Z"
   },
   {
    "duration": 14,
    "start_time": "2023-06-23T19:29:04.374Z"
   },
   {
    "duration": 7,
    "start_time": "2023-06-23T19:29:04.390Z"
   },
   {
    "duration": 16,
    "start_time": "2023-06-23T19:29:04.399Z"
   },
   {
    "duration": 255,
    "start_time": "2023-06-23T19:29:04.417Z"
   },
   {
    "duration": 8,
    "start_time": "2023-06-23T19:29:04.674Z"
   },
   {
    "duration": 915,
    "start_time": "2023-06-23T19:29:04.684Z"
   },
   {
    "duration": 493,
    "start_time": "2023-06-23T19:29:05.600Z"
   },
   {
    "duration": 334,
    "start_time": "2023-06-23T19:29:06.095Z"
   },
   {
    "duration": 381,
    "start_time": "2023-06-23T19:29:06.431Z"
   },
   {
    "duration": 4,
    "start_time": "2023-06-23T19:29:06.814Z"
   },
   {
    "duration": 56,
    "start_time": "2023-06-23T19:29:06.820Z"
   },
   {
    "duration": 22,
    "start_time": "2023-06-23T19:29:06.879Z"
   },
   {
    "duration": 8,
    "start_time": "2023-06-23T19:29:06.902Z"
   },
   {
    "duration": 15,
    "start_time": "2023-06-23T19:29:06.912Z"
   },
   {
    "duration": 46,
    "start_time": "2023-06-23T19:29:06.928Z"
   },
   {
    "duration": 10,
    "start_time": "2023-06-23T19:29:06.976Z"
   },
   {
    "duration": 18,
    "start_time": "2023-06-23T19:29:06.988Z"
   },
   {
    "duration": 25,
    "start_time": "2023-06-23T19:29:07.008Z"
   },
   {
    "duration": 11,
    "start_time": "2023-06-23T19:29:07.034Z"
   },
   {
    "duration": 138,
    "start_time": "2023-06-23T19:29:07.047Z"
   },
   {
    "duration": 0,
    "start_time": "2023-06-23T19:29:07.186Z"
   },
   {
    "duration": 0,
    "start_time": "2023-06-23T19:29:07.187Z"
   },
   {
    "duration": 0,
    "start_time": "2023-06-23T19:29:07.188Z"
   },
   {
    "duration": 1,
    "start_time": "2023-06-23T19:29:07.189Z"
   },
   {
    "duration": 0,
    "start_time": "2023-06-23T19:29:07.190Z"
   },
   {
    "duration": 0,
    "start_time": "2023-06-23T19:29:07.191Z"
   },
   {
    "duration": 0,
    "start_time": "2023-06-23T19:29:07.192Z"
   },
   {
    "duration": 1539,
    "start_time": "2023-06-23T19:29:25.051Z"
   },
   {
    "duration": 53,
    "start_time": "2023-06-23T19:29:26.592Z"
   },
   {
    "duration": 19,
    "start_time": "2023-06-23T19:29:26.647Z"
   },
   {
    "duration": 12,
    "start_time": "2023-06-23T19:29:26.669Z"
   },
   {
    "duration": 4,
    "start_time": "2023-06-23T19:29:26.684Z"
   },
   {
    "duration": 11,
    "start_time": "2023-06-23T19:29:26.690Z"
   },
   {
    "duration": 270,
    "start_time": "2023-06-23T19:29:26.703Z"
   },
   {
    "duration": 9,
    "start_time": "2023-06-23T19:29:26.974Z"
   },
   {
    "duration": 934,
    "start_time": "2023-06-23T19:29:26.985Z"
   },
   {
    "duration": 498,
    "start_time": "2023-06-23T19:29:27.920Z"
   },
   {
    "duration": 353,
    "start_time": "2023-06-23T19:29:28.419Z"
   },
   {
    "duration": 389,
    "start_time": "2023-06-23T19:29:28.774Z"
   },
   {
    "duration": 6,
    "start_time": "2023-06-23T19:29:29.167Z"
   },
   {
    "duration": 28,
    "start_time": "2023-06-23T19:29:29.176Z"
   },
   {
    "duration": 27,
    "start_time": "2023-06-23T19:29:29.206Z"
   },
   {
    "duration": 32,
    "start_time": "2023-06-23T19:29:29.235Z"
   },
   {
    "duration": 8,
    "start_time": "2023-06-23T19:29:29.269Z"
   },
   {
    "duration": 31,
    "start_time": "2023-06-23T19:29:29.279Z"
   },
   {
    "duration": 7,
    "start_time": "2023-06-23T19:29:29.312Z"
   },
   {
    "duration": 5,
    "start_time": "2023-06-23T19:29:29.321Z"
   },
   {
    "duration": 43,
    "start_time": "2023-06-23T19:29:29.328Z"
   },
   {
    "duration": 5,
    "start_time": "2023-06-23T19:29:29.373Z"
   },
   {
    "duration": 7,
    "start_time": "2023-06-23T19:29:29.380Z"
   },
   {
    "duration": 4,
    "start_time": "2023-06-23T19:29:29.388Z"
   },
   {
    "duration": 4,
    "start_time": "2023-06-23T19:29:29.394Z"
   },
   {
    "duration": 669,
    "start_time": "2023-06-23T19:29:29.399Z"
   },
   {
    "duration": 300035,
    "start_time": "2023-06-23T19:29:30.071Z"
   },
   {
    "duration": 43090,
    "start_time": "2023-06-23T19:34:30.107Z"
   },
   {
    "duration": 1165,
    "start_time": "2023-06-23T19:35:13.199Z"
   },
   {
    "duration": 94,
    "start_time": "2023-06-23T19:35:14.368Z"
   },
   {
    "duration": 1160,
    "start_time": "2023-06-23T20:03:20.715Z"
   },
   {
    "duration": 122,
    "start_time": "2023-06-23T20:10:54.099Z"
   },
   {
    "duration": 1790,
    "start_time": "2023-06-24T07:59:48.600Z"
   },
   {
    "duration": 157,
    "start_time": "2023-06-24T07:59:50.393Z"
   },
   {
    "duration": 15,
    "start_time": "2023-06-24T07:59:50.553Z"
   },
   {
    "duration": 13,
    "start_time": "2023-06-24T07:59:50.570Z"
   },
   {
    "duration": 9,
    "start_time": "2023-06-24T07:59:50.586Z"
   },
   {
    "duration": 14,
    "start_time": "2023-06-24T07:59:50.597Z"
   },
   {
    "duration": 269,
    "start_time": "2023-06-24T07:59:50.613Z"
   },
   {
    "duration": 10,
    "start_time": "2023-06-24T07:59:50.884Z"
   },
   {
    "duration": 1054,
    "start_time": "2023-06-24T07:59:50.895Z"
   },
   {
    "duration": 578,
    "start_time": "2023-06-24T07:59:51.952Z"
   },
   {
    "duration": 385,
    "start_time": "2023-06-24T07:59:52.532Z"
   },
   {
    "duration": 383,
    "start_time": "2023-06-24T07:59:52.920Z"
   },
   {
    "duration": 5,
    "start_time": "2023-06-24T07:59:53.305Z"
   },
   {
    "duration": 51,
    "start_time": "2023-06-24T07:59:53.315Z"
   },
   {
    "duration": 29,
    "start_time": "2023-06-24T07:59:53.369Z"
   },
   {
    "duration": 26,
    "start_time": "2023-06-24T07:59:53.400Z"
   },
   {
    "duration": 7,
    "start_time": "2023-06-24T07:59:53.428Z"
   },
   {
    "duration": 32,
    "start_time": "2023-06-24T07:59:53.437Z"
   },
   {
    "duration": 36,
    "start_time": "2023-06-24T07:59:53.471Z"
   },
   {
    "duration": 16,
    "start_time": "2023-06-24T07:59:53.509Z"
   },
   {
    "duration": 13,
    "start_time": "2023-06-24T07:59:53.527Z"
   },
   {
    "duration": 6,
    "start_time": "2023-06-24T07:59:53.542Z"
   },
   {
    "duration": 25,
    "start_time": "2023-06-24T07:59:53.549Z"
   },
   {
    "duration": 9,
    "start_time": "2023-06-24T07:59:53.576Z"
   },
   {
    "duration": 20,
    "start_time": "2023-06-24T07:59:53.587Z"
   },
   {
    "duration": 869,
    "start_time": "2023-06-24T07:59:53.610Z"
   },
   {
    "duration": 371962,
    "start_time": "2023-06-24T07:59:54.482Z"
   },
   {
    "duration": 43816,
    "start_time": "2023-06-24T08:06:06.446Z"
   },
   {
    "duration": 1146,
    "start_time": "2023-06-24T08:06:50.266Z"
   },
   {
    "duration": 155,
    "start_time": "2023-06-24T08:19:40.505Z"
   },
   {
    "duration": 147,
    "start_time": "2023-06-24T08:23:29.626Z"
   },
   {
    "duration": 1543,
    "start_time": "2023-06-24T08:23:37.026Z"
   },
   {
    "duration": 49,
    "start_time": "2023-06-24T08:23:38.572Z"
   },
   {
    "duration": 12,
    "start_time": "2023-06-24T08:23:38.623Z"
   },
   {
    "duration": 12,
    "start_time": "2023-06-24T08:23:38.637Z"
   },
   {
    "duration": 17,
    "start_time": "2023-06-24T08:23:38.651Z"
   },
   {
    "duration": 26,
    "start_time": "2023-06-24T08:23:38.670Z"
   },
   {
    "duration": 283,
    "start_time": "2023-06-24T08:23:38.698Z"
   },
   {
    "duration": 9,
    "start_time": "2023-06-24T08:23:38.984Z"
   },
   {
    "duration": 938,
    "start_time": "2023-06-24T08:23:38.995Z"
   },
   {
    "duration": 565,
    "start_time": "2023-06-24T08:23:39.936Z"
   },
   {
    "duration": 109,
    "start_time": "2023-06-24T08:23:40.503Z"
   },
   {
    "duration": 0,
    "start_time": "2023-06-24T08:23:40.614Z"
   },
   {
    "duration": 1,
    "start_time": "2023-06-24T08:23:40.615Z"
   },
   {
    "duration": 0,
    "start_time": "2023-06-24T08:23:40.617Z"
   },
   {
    "duration": 0,
    "start_time": "2023-06-24T08:23:40.618Z"
   },
   {
    "duration": 0,
    "start_time": "2023-06-24T08:23:40.620Z"
   },
   {
    "duration": 0,
    "start_time": "2023-06-24T08:23:40.621Z"
   },
   {
    "duration": 0,
    "start_time": "2023-06-24T08:23:40.623Z"
   },
   {
    "duration": 0,
    "start_time": "2023-06-24T08:23:40.623Z"
   },
   {
    "duration": 0,
    "start_time": "2023-06-24T08:23:40.625Z"
   },
   {
    "duration": 0,
    "start_time": "2023-06-24T08:23:40.626Z"
   },
   {
    "duration": 0,
    "start_time": "2023-06-24T08:23:40.627Z"
   },
   {
    "duration": 0,
    "start_time": "2023-06-24T08:23:40.629Z"
   },
   {
    "duration": 0,
    "start_time": "2023-06-24T08:23:40.630Z"
   },
   {
    "duration": 0,
    "start_time": "2023-06-24T08:23:40.632Z"
   },
   {
    "duration": 0,
    "start_time": "2023-06-24T08:23:40.632Z"
   },
   {
    "duration": 0,
    "start_time": "2023-06-24T08:23:40.634Z"
   },
   {
    "duration": 0,
    "start_time": "2023-06-24T08:23:40.635Z"
   },
   {
    "duration": 0,
    "start_time": "2023-06-24T08:23:40.636Z"
   },
   {
    "duration": 0,
    "start_time": "2023-06-24T08:23:40.637Z"
   },
   {
    "duration": 1698,
    "start_time": "2023-06-24T08:24:13.835Z"
   },
   {
    "duration": 50,
    "start_time": "2023-06-24T08:24:15.535Z"
   },
   {
    "duration": 15,
    "start_time": "2023-06-24T08:24:15.592Z"
   },
   {
    "duration": 32,
    "start_time": "2023-06-24T08:24:15.608Z"
   },
   {
    "duration": 28,
    "start_time": "2023-06-24T08:24:15.643Z"
   },
   {
    "duration": 26,
    "start_time": "2023-06-24T08:24:15.674Z"
   },
   {
    "duration": 285,
    "start_time": "2023-06-24T08:24:15.703Z"
   },
   {
    "duration": 12,
    "start_time": "2023-06-24T08:24:15.990Z"
   },
   {
    "duration": 967,
    "start_time": "2023-06-24T08:24:16.006Z"
   },
   {
    "duration": 553,
    "start_time": "2023-06-24T08:24:16.976Z"
   },
   {
    "duration": 392,
    "start_time": "2023-06-24T08:24:17.532Z"
   },
   {
    "duration": 385,
    "start_time": "2023-06-24T08:24:17.927Z"
   },
   {
    "duration": 5,
    "start_time": "2023-06-24T08:24:18.315Z"
   },
   {
    "duration": 63,
    "start_time": "2023-06-24T08:24:18.323Z"
   },
   {
    "duration": 24,
    "start_time": "2023-06-24T08:24:18.389Z"
   },
   {
    "duration": 27,
    "start_time": "2023-06-24T08:24:18.416Z"
   },
   {
    "duration": 8,
    "start_time": "2023-06-24T08:24:18.445Z"
   },
   {
    "duration": 37,
    "start_time": "2023-06-24T08:24:18.455Z"
   },
   {
    "duration": 19,
    "start_time": "2023-06-24T08:24:18.494Z"
   },
   {
    "duration": 22,
    "start_time": "2023-06-24T08:24:18.515Z"
   },
   {
    "duration": 17,
    "start_time": "2023-06-24T08:24:18.538Z"
   },
   {
    "duration": 13,
    "start_time": "2023-06-24T08:24:18.557Z"
   },
   {
    "duration": 24,
    "start_time": "2023-06-24T08:24:18.573Z"
   },
   {
    "duration": 6,
    "start_time": "2023-06-24T08:24:18.600Z"
   },
   {
    "duration": 9,
    "start_time": "2023-06-24T08:24:18.608Z"
   },
   {
    "duration": 560,
    "start_time": "2023-06-24T08:24:18.619Z"
   },
   {
    "duration": 332663,
    "start_time": "2023-06-24T08:24:19.183Z"
   },
   {
    "duration": 48643,
    "start_time": "2023-06-24T08:29:51.848Z"
   },
   {
    "duration": 1310,
    "start_time": "2023-06-24T08:30:40.493Z"
   },
   {
    "duration": 130,
    "start_time": "2023-06-24T08:30:41.805Z"
   },
   {
    "duration": 111,
    "start_time": "2023-06-24T08:33:32.918Z"
   },
   {
    "duration": 141,
    "start_time": "2023-06-24T08:33:55.064Z"
   },
   {
    "duration": 130,
    "start_time": "2023-06-24T08:42:22.386Z"
   },
   {
    "duration": 282,
    "start_time": "2023-06-24T08:42:30.393Z"
   },
   {
    "duration": 230,
    "start_time": "2023-06-24T08:42:53.707Z"
   },
   {
    "duration": 196,
    "start_time": "2023-06-24T08:43:09.720Z"
   },
   {
    "duration": 264,
    "start_time": "2023-06-24T08:43:18.666Z"
   },
   {
    "duration": 169,
    "start_time": "2023-06-24T08:43:39.465Z"
   },
   {
    "duration": 222,
    "start_time": "2023-06-24T08:44:44.674Z"
   },
   {
    "duration": 2027,
    "start_time": "2023-06-24T08:54:28.398Z"
   },
   {
    "duration": 2082,
    "start_time": "2023-06-24T08:54:48.674Z"
   },
   {
    "duration": 1561,
    "start_time": "2023-06-24T08:55:18.610Z"
   },
   {
    "duration": 52,
    "start_time": "2023-06-24T08:55:20.173Z"
   },
   {
    "duration": 13,
    "start_time": "2023-06-24T08:55:20.230Z"
   },
   {
    "duration": 12,
    "start_time": "2023-06-24T08:55:20.245Z"
   },
   {
    "duration": 10,
    "start_time": "2023-06-24T08:55:20.259Z"
   },
   {
    "duration": 13,
    "start_time": "2023-06-24T08:55:20.271Z"
   },
   {
    "duration": 262,
    "start_time": "2023-06-24T08:55:20.286Z"
   },
   {
    "duration": 18,
    "start_time": "2023-06-24T08:55:20.549Z"
   },
   {
    "duration": 928,
    "start_time": "2023-06-24T08:55:20.569Z"
   },
   {
    "duration": 515,
    "start_time": "2023-06-24T08:55:21.501Z"
   },
   {
    "duration": 388,
    "start_time": "2023-06-24T08:55:22.018Z"
   },
   {
    "duration": 405,
    "start_time": "2023-06-24T08:55:22.408Z"
   },
   {
    "duration": 5,
    "start_time": "2023-06-24T08:55:22.816Z"
   },
   {
    "duration": 48,
    "start_time": "2023-06-24T08:55:22.823Z"
   },
   {
    "duration": 30,
    "start_time": "2023-06-24T08:55:22.874Z"
   },
   {
    "duration": 18,
    "start_time": "2023-06-24T08:55:22.907Z"
   },
   {
    "duration": 9,
    "start_time": "2023-06-24T08:55:22.928Z"
   },
   {
    "duration": 61,
    "start_time": "2023-06-24T08:55:22.939Z"
   },
   {
    "duration": 21,
    "start_time": "2023-06-24T08:55:23.002Z"
   },
   {
    "duration": 21,
    "start_time": "2023-06-24T08:55:23.026Z"
   },
   {
    "duration": 21,
    "start_time": "2023-06-24T08:55:23.049Z"
   },
   {
    "duration": 6,
    "start_time": "2023-06-24T08:55:23.072Z"
   },
   {
    "duration": 15,
    "start_time": "2023-06-24T08:55:23.080Z"
   },
   {
    "duration": 26,
    "start_time": "2023-06-24T08:55:23.097Z"
   },
   {
    "duration": 10,
    "start_time": "2023-06-24T08:55:23.126Z"
   },
   {
    "duration": 732,
    "start_time": "2023-06-24T08:55:23.138Z"
   },
   {
    "duration": 335130,
    "start_time": "2023-06-24T08:55:23.873Z"
   },
   {
    "duration": 49606,
    "start_time": "2023-06-24T09:00:59.005Z"
   },
   {
    "duration": 1484,
    "start_time": "2023-06-24T09:01:48.613Z"
   },
   {
    "duration": 328,
    "start_time": "2023-06-24T09:01:50.099Z"
   },
   {
    "duration": 4,
    "start_time": "2023-06-24T09:05:33.099Z"
   },
   {
    "duration": 125,
    "start_time": "2023-06-24T09:06:43.253Z"
   },
   {
    "duration": 5,
    "start_time": "2023-06-24T09:07:02.605Z"
   },
   {
    "duration": 4,
    "start_time": "2023-06-24T09:07:08.003Z"
   },
   {
    "duration": 13,
    "start_time": "2023-06-24T09:08:15.506Z"
   },
   {
    "duration": 6,
    "start_time": "2023-06-24T09:08:20.055Z"
   },
   {
    "duration": 4,
    "start_time": "2023-06-24T09:08:20.575Z"
   },
   {
    "duration": 6,
    "start_time": "2023-06-24T09:08:21.043Z"
   },
   {
    "duration": 4,
    "start_time": "2023-06-24T09:14:40.141Z"
   },
   {
    "duration": 4,
    "start_time": "2023-06-24T09:15:05.608Z"
   },
   {
    "duration": 4,
    "start_time": "2023-06-24T09:15:39.418Z"
   },
   {
    "duration": 4,
    "start_time": "2023-06-24T09:16:24.673Z"
   },
   {
    "duration": 108,
    "start_time": "2023-06-24T09:16:55.609Z"
   },
   {
    "duration": 4,
    "start_time": "2023-06-24T09:17:00.194Z"
   },
   {
    "duration": 6,
    "start_time": "2023-06-24T09:18:10.530Z"
   },
   {
    "duration": 6,
    "start_time": "2023-06-24T09:18:29.584Z"
   },
   {
    "duration": 1737,
    "start_time": "2023-06-24T09:23:43.817Z"
   },
   {
    "duration": 60,
    "start_time": "2023-06-24T09:23:45.556Z"
   },
   {
    "duration": 17,
    "start_time": "2023-06-24T09:23:45.618Z"
   },
   {
    "duration": 14,
    "start_time": "2023-06-24T09:23:45.637Z"
   },
   {
    "duration": 6,
    "start_time": "2023-06-24T09:23:45.654Z"
   },
   {
    "duration": 16,
    "start_time": "2023-06-24T09:23:45.669Z"
   },
   {
    "duration": 286,
    "start_time": "2023-06-24T09:23:45.688Z"
   },
   {
    "duration": 12,
    "start_time": "2023-06-24T09:23:45.977Z"
   },
   {
    "duration": 1110,
    "start_time": "2023-06-24T09:23:45.991Z"
   },
   {
    "duration": 592,
    "start_time": "2023-06-24T09:23:47.104Z"
   },
   {
    "duration": 391,
    "start_time": "2023-06-24T09:23:47.698Z"
   },
   {
    "duration": 419,
    "start_time": "2023-06-24T09:23:48.091Z"
   },
   {
    "duration": 6,
    "start_time": "2023-06-24T09:23:48.512Z"
   },
   {
    "duration": 42,
    "start_time": "2023-06-24T09:23:48.522Z"
   },
   {
    "duration": 29,
    "start_time": "2023-06-24T09:23:48.566Z"
   },
   {
    "duration": 28,
    "start_time": "2023-06-24T09:23:48.597Z"
   },
   {
    "duration": 21,
    "start_time": "2023-06-24T09:23:48.626Z"
   },
   {
    "duration": 44,
    "start_time": "2023-06-24T09:23:48.649Z"
   },
   {
    "duration": 20,
    "start_time": "2023-06-24T09:23:48.695Z"
   },
   {
    "duration": 13,
    "start_time": "2023-06-24T09:23:48.717Z"
   },
   {
    "duration": 43,
    "start_time": "2023-06-24T09:23:48.731Z"
   },
   {
    "duration": 29,
    "start_time": "2023-06-24T09:23:48.776Z"
   },
   {
    "duration": 72,
    "start_time": "2023-06-24T09:23:48.808Z"
   },
   {
    "duration": 22,
    "start_time": "2023-06-24T09:23:48.882Z"
   },
   {
    "duration": 29,
    "start_time": "2023-06-24T09:23:48.906Z"
   },
   {
    "duration": 834,
    "start_time": "2023-06-24T09:23:48.937Z"
   },
   {
    "duration": 317602,
    "start_time": "2023-06-24T09:23:49.774Z"
   },
   {
    "duration": 45344,
    "start_time": "2023-06-24T09:29:07.378Z"
   },
   {
    "duration": 1253,
    "start_time": "2023-06-24T09:29:52.724Z"
   },
   {
    "duration": 360,
    "start_time": "2023-06-24T09:29:53.979Z"
   },
   {
    "duration": 5,
    "start_time": "2023-06-24T09:29:54.342Z"
   },
   {
    "duration": 41,
    "start_time": "2023-06-24T09:29:54.350Z"
   },
   {
    "duration": 1626,
    "start_time": "2023-06-24T11:23:03.239Z"
   },
   {
    "duration": 265,
    "start_time": "2023-06-24T11:23:04.867Z"
   },
   {
    "duration": 11,
    "start_time": "2023-06-24T11:23:05.913Z"
   },
   {
    "duration": 11,
    "start_time": "2023-06-24T11:23:06.808Z"
   },
   {
    "duration": 4,
    "start_time": "2023-06-24T11:23:07.635Z"
   },
   {
    "duration": 9,
    "start_time": "2023-06-24T11:23:07.995Z"
   },
   {
    "duration": 228,
    "start_time": "2023-06-24T11:23:08.590Z"
   },
   {
    "duration": 342,
    "start_time": "2023-06-24T11:23:20.593Z"
   },
   {
    "duration": 290,
    "start_time": "2023-06-24T11:23:28.909Z"
   },
   {
    "duration": 10,
    "start_time": "2023-06-24T11:23:44.657Z"
   },
   {
    "duration": 849,
    "start_time": "2023-06-24T11:23:45.270Z"
   },
   {
    "duration": 741,
    "start_time": "2023-06-24T11:23:58.420Z"
   },
   {
    "duration": 838,
    "start_time": "2023-06-24T11:24:42.117Z"
   },
   {
    "duration": 147,
    "start_time": "2023-06-24T11:24:48.477Z"
   },
   {
    "duration": 258,
    "start_time": "2023-06-24T11:25:09.545Z"
   },
   {
    "duration": 224,
    "start_time": "2023-06-24T11:25:18.971Z"
   },
   {
    "duration": 174,
    "start_time": "2023-06-24T11:25:35.675Z"
   },
   {
    "duration": 170,
    "start_time": "2023-06-24T11:25:41.037Z"
   },
   {
    "duration": 190,
    "start_time": "2023-06-24T11:25:51.677Z"
   },
   {
    "duration": 162,
    "start_time": "2023-06-24T11:25:58.622Z"
   },
   {
    "duration": 179,
    "start_time": "2023-06-24T11:26:03.907Z"
   },
   {
    "duration": 169,
    "start_time": "2023-06-24T11:27:08.943Z"
   },
   {
    "duration": 456,
    "start_time": "2023-06-24T11:29:02.107Z"
   },
   {
    "duration": 316,
    "start_time": "2023-06-24T11:29:55.358Z"
   },
   {
    "duration": 4,
    "start_time": "2023-06-24T11:38:44.993Z"
   },
   {
    "duration": 4,
    "start_time": "2023-06-24T11:41:09.018Z"
   },
   {
    "duration": 31,
    "start_time": "2023-06-24T11:41:10.627Z"
   },
   {
    "duration": 23,
    "start_time": "2023-06-24T11:41:13.575Z"
   },
   {
    "duration": 14,
    "start_time": "2023-06-24T11:46:34.672Z"
   },
   {
    "duration": 1463,
    "start_time": "2023-06-24T11:46:51.205Z"
   },
   {
    "duration": 48,
    "start_time": "2023-06-24T11:46:52.670Z"
   },
   {
    "duration": 11,
    "start_time": "2023-06-24T11:46:52.719Z"
   },
   {
    "duration": 21,
    "start_time": "2023-06-24T11:46:52.731Z"
   },
   {
    "duration": 26,
    "start_time": "2023-06-24T11:46:52.754Z"
   },
   {
    "duration": 10,
    "start_time": "2023-06-24T11:46:52.782Z"
   },
   {
    "duration": 230,
    "start_time": "2023-06-24T11:46:52.793Z"
   },
   {
    "duration": 7,
    "start_time": "2023-06-24T11:46:53.025Z"
   },
   {
    "duration": 873,
    "start_time": "2023-06-24T11:46:53.034Z"
   },
   {
    "duration": 188,
    "start_time": "2023-06-24T11:46:53.909Z"
   },
   {
    "duration": 340,
    "start_time": "2023-06-24T11:46:54.099Z"
   },
   {
    "duration": 340,
    "start_time": "2023-06-24T11:46:54.441Z"
   },
   {
    "duration": 3,
    "start_time": "2023-06-24T11:46:54.783Z"
   },
   {
    "duration": 34,
    "start_time": "2023-06-24T11:46:54.789Z"
   },
   {
    "duration": 22,
    "start_time": "2023-06-24T11:46:54.825Z"
   },
   {
    "duration": 9,
    "start_time": "2023-06-24T11:46:54.854Z"
   },
   {
    "duration": 16,
    "start_time": "2023-06-24T11:46:54.865Z"
   },
   {
    "duration": 34,
    "start_time": "2023-06-24T11:46:54.882Z"
   },
   {
    "duration": 8,
    "start_time": "2023-06-24T11:46:54.918Z"
   },
   {
    "duration": 13,
    "start_time": "2023-06-24T11:46:54.927Z"
   },
   {
    "duration": 18,
    "start_time": "2023-06-24T11:46:54.941Z"
   },
   {
    "duration": 15,
    "start_time": "2023-06-24T11:46:54.961Z"
   },
   {
    "duration": 10,
    "start_time": "2023-06-24T11:46:54.978Z"
   },
   {
    "duration": 5,
    "start_time": "2023-06-24T11:46:54.989Z"
   },
   {
    "duration": 5,
    "start_time": "2023-06-24T11:46:54.995Z"
   },
   {
    "duration": 761,
    "start_time": "2023-06-24T11:46:55.001Z"
   },
   {
    "duration": 289248,
    "start_time": "2023-06-24T11:46:55.764Z"
   },
   {
    "duration": 42787,
    "start_time": "2023-06-24T11:51:45.014Z"
   },
   {
    "duration": 1011,
    "start_time": "2023-06-24T11:52:27.803Z"
   },
   {
    "duration": 289,
    "start_time": "2023-06-24T11:52:28.816Z"
   },
   {
    "duration": 3,
    "start_time": "2023-06-24T11:52:29.107Z"
   },
   {
    "duration": 8,
    "start_time": "2023-06-24T11:52:29.112Z"
   },
   {
    "duration": 236,
    "start_time": "2023-06-24T11:58:48.044Z"
   },
   {
    "duration": 286,
    "start_time": "2023-06-24T11:59:34.327Z"
   }
  ],
  "kernelspec": {
   "display_name": "Python 3 (ipykernel)",
   "language": "python",
   "name": "python3"
  },
  "language_info": {
   "codemirror_mode": {
    "name": "ipython",
    "version": 3
   },
   "file_extension": ".py",
   "mimetype": "text/x-python",
   "name": "python",
   "nbconvert_exporter": "python",
   "pygments_lexer": "ipython3",
   "version": "3.9.12"
  },
  "toc": {
   "base_numbering": 1,
   "nav_menu": {},
   "number_sections": true,
   "sideBar": true,
   "skip_h1_title": true,
   "title_cell": "Содержание",
   "title_sidebar": "Contents",
   "toc_cell": true,
   "toc_position": {
    "height": "calc(100% - 180px)",
    "left": "10px",
    "top": "150px",
    "width": "165px"
   },
   "toc_section_display": true,
   "toc_window_display": false
  }
 },
 "nbformat": 4,
 "nbformat_minor": 2
}
