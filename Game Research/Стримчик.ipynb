{
 "cells": [
  {
   "cell_type": "markdown",
   "metadata": {},
   "source": [
    "# Исследование индустрии компьютерных игр\n",
    "\n",
    "В рамках проекта нужно выявить определяющие успешность игры закономерности. Это позволит сделать ставку на потенциально популярный продукт и спланировать рекламные кампании для интернет-магазина «Стримчик».\n",
    "\n",
    "В распоряжении данные до 2016 года. Нужно спланировать рекламную кампанию на 2017 год."
   ]
  },
  {
   "cell_type": "markdown",
   "metadata": {},
   "source": [
    "### Откройте файл с данными и изучите общую информацию. "
   ]
  },
  {
   "cell_type": "code",
   "execution_count": 1,
   "metadata": {},
   "outputs": [],
   "source": [
    "import pandas as pd\n",
    "import numpy as np\n",
    "import matplotlib.pyplot as plt \n",
    "from scipy import stats as st\n",
    "import seaborn as sns"
   ]
  },
  {
   "cell_type": "code",
   "execution_count": 2,
   "metadata": {},
   "outputs": [],
   "source": [
    "data = pd.read_csv('/datasets/games.csv')"
   ]
  },
  {
   "cell_type": "code",
   "execution_count": 3,
   "metadata": {
    "scrolled": true
   },
   "outputs": [
    {
     "data": {
      "text/html": [
       "<div>\n",
       "<style scoped>\n",
       "    .dataframe tbody tr th:only-of-type {\n",
       "        vertical-align: middle;\n",
       "    }\n",
       "\n",
       "    .dataframe tbody tr th {\n",
       "        vertical-align: top;\n",
       "    }\n",
       "\n",
       "    .dataframe thead th {\n",
       "        text-align: right;\n",
       "    }\n",
       "</style>\n",
       "<table border=\"1\" class=\"dataframe\">\n",
       "  <thead>\n",
       "    <tr style=\"text-align: right;\">\n",
       "      <th></th>\n",
       "      <th>Name</th>\n",
       "      <th>Platform</th>\n",
       "      <th>Year_of_Release</th>\n",
       "      <th>Genre</th>\n",
       "      <th>NA_sales</th>\n",
       "      <th>EU_sales</th>\n",
       "      <th>JP_sales</th>\n",
       "      <th>Other_sales</th>\n",
       "      <th>Critic_Score</th>\n",
       "      <th>User_Score</th>\n",
       "      <th>Rating</th>\n",
       "    </tr>\n",
       "  </thead>\n",
       "  <tbody>\n",
       "    <tr>\n",
       "      <th>0</th>\n",
       "      <td>Wii Sports</td>\n",
       "      <td>Wii</td>\n",
       "      <td>2006.0</td>\n",
       "      <td>Sports</td>\n",
       "      <td>41.36</td>\n",
       "      <td>28.96</td>\n",
       "      <td>3.77</td>\n",
       "      <td>8.45</td>\n",
       "      <td>76.0</td>\n",
       "      <td>8</td>\n",
       "      <td>E</td>\n",
       "    </tr>\n",
       "    <tr>\n",
       "      <th>1</th>\n",
       "      <td>Super Mario Bros.</td>\n",
       "      <td>NES</td>\n",
       "      <td>1985.0</td>\n",
       "      <td>Platform</td>\n",
       "      <td>29.08</td>\n",
       "      <td>3.58</td>\n",
       "      <td>6.81</td>\n",
       "      <td>0.77</td>\n",
       "      <td>NaN</td>\n",
       "      <td>NaN</td>\n",
       "      <td>NaN</td>\n",
       "    </tr>\n",
       "    <tr>\n",
       "      <th>2</th>\n",
       "      <td>Mario Kart Wii</td>\n",
       "      <td>Wii</td>\n",
       "      <td>2008.0</td>\n",
       "      <td>Racing</td>\n",
       "      <td>15.68</td>\n",
       "      <td>12.76</td>\n",
       "      <td>3.79</td>\n",
       "      <td>3.29</td>\n",
       "      <td>82.0</td>\n",
       "      <td>8.3</td>\n",
       "      <td>E</td>\n",
       "    </tr>\n",
       "    <tr>\n",
       "      <th>3</th>\n",
       "      <td>Wii Sports Resort</td>\n",
       "      <td>Wii</td>\n",
       "      <td>2009.0</td>\n",
       "      <td>Sports</td>\n",
       "      <td>15.61</td>\n",
       "      <td>10.93</td>\n",
       "      <td>3.28</td>\n",
       "      <td>2.95</td>\n",
       "      <td>80.0</td>\n",
       "      <td>8</td>\n",
       "      <td>E</td>\n",
       "    </tr>\n",
       "    <tr>\n",
       "      <th>4</th>\n",
       "      <td>Pokemon Red/Pokemon Blue</td>\n",
       "      <td>GB</td>\n",
       "      <td>1996.0</td>\n",
       "      <td>Role-Playing</td>\n",
       "      <td>11.27</td>\n",
       "      <td>8.89</td>\n",
       "      <td>10.22</td>\n",
       "      <td>1.00</td>\n",
       "      <td>NaN</td>\n",
       "      <td>NaN</td>\n",
       "      <td>NaN</td>\n",
       "    </tr>\n",
       "  </tbody>\n",
       "</table>\n",
       "</div>"
      ],
      "text/plain": [
       "                       Name Platform  Year_of_Release         Genre  NA_sales  \\\n",
       "0                Wii Sports      Wii           2006.0        Sports     41.36   \n",
       "1         Super Mario Bros.      NES           1985.0      Platform     29.08   \n",
       "2            Mario Kart Wii      Wii           2008.0        Racing     15.68   \n",
       "3         Wii Sports Resort      Wii           2009.0        Sports     15.61   \n",
       "4  Pokemon Red/Pokemon Blue       GB           1996.0  Role-Playing     11.27   \n",
       "\n",
       "   EU_sales  JP_sales  Other_sales  Critic_Score User_Score Rating  \n",
       "0     28.96      3.77         8.45          76.0          8      E  \n",
       "1      3.58      6.81         0.77           NaN        NaN    NaN  \n",
       "2     12.76      3.79         3.29          82.0        8.3      E  \n",
       "3     10.93      3.28         2.95          80.0          8      E  \n",
       "4      8.89     10.22         1.00           NaN        NaN    NaN  "
      ]
     },
     "execution_count": 3,
     "metadata": {},
     "output_type": "execute_result"
    }
   ],
   "source": [
    "data.head(5)"
   ]
  },
  {
   "cell_type": "code",
   "execution_count": 4,
   "metadata": {},
   "outputs": [
    {
     "name": "stdout",
     "output_type": "stream",
     "text": [
      "<class 'pandas.core.frame.DataFrame'>\n",
      "RangeIndex: 16715 entries, 0 to 16714\n",
      "Data columns (total 11 columns):\n",
      " #   Column           Non-Null Count  Dtype  \n",
      "---  ------           --------------  -----  \n",
      " 0   Name             16713 non-null  object \n",
      " 1   Platform         16715 non-null  object \n",
      " 2   Year_of_Release  16446 non-null  float64\n",
      " 3   Genre            16713 non-null  object \n",
      " 4   NA_sales         16715 non-null  float64\n",
      " 5   EU_sales         16715 non-null  float64\n",
      " 6   JP_sales         16715 non-null  float64\n",
      " 7   Other_sales      16715 non-null  float64\n",
      " 8   Critic_Score     8137 non-null   float64\n",
      " 9   User_Score       10014 non-null  object \n",
      " 10  Rating           9949 non-null   object \n",
      "dtypes: float64(6), object(5)\n",
      "memory usage: 1.4+ MB\n"
     ]
    }
   ],
   "source": [
    "data.info()"
   ]
  },
  {
   "cell_type": "code",
   "execution_count": 5,
   "metadata": {},
   "outputs": [
    {
     "data": {
      "text/plain": [
       "Name                  2\n",
       "Platform              0\n",
       "Year_of_Release     269\n",
       "Genre                 2\n",
       "NA_sales              0\n",
       "EU_sales              0\n",
       "JP_sales              0\n",
       "Other_sales           0\n",
       "Critic_Score       8578\n",
       "User_Score         6701\n",
       "Rating             6766\n",
       "dtype: int64"
      ]
     },
     "execution_count": 5,
     "metadata": {},
     "output_type": "execute_result"
    }
   ],
   "source": [
    "#количество пропусков в каждом столбце\n",
    "data.isna().sum()"
   ]
  },
  {
   "cell_type": "code",
   "execution_count": 6,
   "metadata": {},
   "outputs": [
    {
     "data": {
      "text/plain": [
       "0"
      ]
     },
     "execution_count": 6,
     "metadata": {},
     "output_type": "execute_result"
    }
   ],
   "source": [
    "#количество явных дубликатов\n",
    "data.duplicated().sum()"
   ]
  },
  {
   "cell_type": "markdown",
   "metadata": {},
   "source": [
    "В 5 из 11 столбцов есть пропуски, их нужно обработать. Явных дубликатов в данных нет. Есть столбцы, в которых нужно изменить тип данных: YearofRelease, Criticscore, Userscore. Нужно привести названия столбцов в единый регистр."
   ]
  },
  {
   "cell_type": "markdown",
   "metadata": {},
   "source": [
    "### Подготовьте данные"
   ]
  },
  {
   "cell_type": "markdown",
   "metadata": {},
   "source": [
    "**Замените названия столбцов (приведите к нижнему регистру);**"
   ]
  },
  {
   "cell_type": "code",
   "execution_count": 7,
   "metadata": {},
   "outputs": [
    {
     "data": {
      "text/plain": [
       "Index(['name', 'platform', 'year_of_release', 'genre', 'na_sales', 'eu_sales',\n",
       "       'jp_sales', 'other_sales', 'critic_score', 'user_score', 'rating'],\n",
       "      dtype='object')"
      ]
     },
     "execution_count": 7,
     "metadata": {},
     "output_type": "execute_result"
    }
   ],
   "source": [
    "#Замените названия столбцов\n",
    "data.columns = data.columns.str.lower()\n",
    "data.columns"
   ]
  },
  {
   "cell_type": "markdown",
   "metadata": {},
   "source": [
    "**Преобразуйте данные в нужные типы. Опишите, в каких столбцах заменили тип данных и почему**"
   ]
  },
  {
   "cell_type": "code",
   "execution_count": 8,
   "metadata": {},
   "outputs": [],
   "source": [
    "#меняем тип данных на числовой\n",
    "data['year_of_release'] = pd.to_numeric(data['year_of_release'], downcast='integer')\n",
    "data['critic_score'] = pd.to_numeric(data['critic_score'], downcast='integer')"
   ]
  },
  {
   "cell_type": "code",
   "execution_count": 9,
   "metadata": {},
   "outputs": [],
   "source": [
    "# если errors='coerce', то некорректные значения принудительно заменяются на NaN\n",
    "# тип данных менаяем на 'float'\n",
    "data['user_score'] = pd.to_numeric(data['user_score'], \n",
    "                                   errors ='coerce', downcast='float')"
   ]
  },
  {
   "cell_type": "markdown",
   "metadata": {},
   "source": [
    "- В 'year_of_release' тип данных с float64 заменили на int, так как столбец хранит данные о годах релиза, числа с плавоющей точкой тут ни к чему;\n",
    "- Тип данных столбца 'critic_score' с float64 заменили на int, так как там целочисленные значения в пределах 100;\n",
    "- Для 'user_score' нужет тип float, а не object, так как столбец хранит занчения в пределах 10\n"
   ]
  },
  {
   "cell_type": "markdown",
   "metadata": {},
   "source": [
    "**Обработайте пропуски при необходимости**\n",
    "- Объясните, почему заполнили пропуски определённым образом или почему не стали это делать;\n",
    "- Опишите причины, которые могли привести к пропускам;\n",
    " \n",
    "- Обратите внимание на аббревиатуру 'tbd' в столбце с оценкой пользователей. Отдельно разберите это значение и опишите, как его обработать;"
   ]
  },
  {
   "cell_type": "code",
   "execution_count": 10,
   "metadata": {},
   "outputs": [],
   "source": [
    "# удаляем строки с пропусками в name\n",
    "data = data[~data['name'].isna()]\n",
    "\n",
    "#Заменяем пропуски на значение 'INDEFINED'\n",
    "data['rating'] = data['rating'].fillna('INDEFINED')"
   ]
  },
  {
   "cell_type": "code",
   "execution_count": 12,
   "metadata": {},
   "outputs": [],
   "source": [
    "data['critic_score'] = data['critic_score'].fillna(-1)\n",
    "data['user_score'] = data['user_score'].fillna(-1)"
   ]
  },
  {
   "cell_type": "code",
   "execution_count": 13,
   "metadata": {},
   "outputs": [],
   "source": [
    "data = data[~data['year_of_release'].isna()] "
   ]
  },
  {
   "cell_type": "markdown",
   "metadata": {},
   "source": [
    "- В 'name'(название игры) было два пропуска, их мы удаляем. Есть вероятность что просто еще не утвердили название игры, отсюда и пропуск;\n",
    "- 'rating' содержит категориальные значения, пропуски в этом столбце заменили на значение 'INDEFINED', пропущенных значеий тут 6676;\n",
    "- Для 'critic_score' и 'user_score', которые хранят такие данные как  оценка критиков (максимум 100) и  оценка пользователей (максимум 10), нашли и заменили пропуски медианным значением;\n",
    "- 'year_of_release' строки с пропусками было решено удалить. Возможно год выпуска не определен или банально забыли его указать вот и причина возникновения пропусков;\n",
    "- Аббревиатура 'tbd' спользуется если какая-то информация еще не определена или решение по вопросу не принято, для обработки этого значения в столбце 'user_score', значение 'tbd' принудительно заменили на NaN."
   ]
  },
  {
   "cell_type": "code",
   "execution_count": 14,
   "metadata": {},
   "outputs": [
    {
     "name": "stdout",
     "output_type": "stream",
     "text": [
      "<class 'pandas.core.frame.DataFrame'>\n",
      "Int64Index: 16444 entries, 0 to 16714\n",
      "Data columns (total 11 columns):\n",
      " #   Column           Non-Null Count  Dtype  \n",
      "---  ------           --------------  -----  \n",
      " 0   name             16444 non-null  object \n",
      " 1   platform         16444 non-null  object \n",
      " 2   year_of_release  16444 non-null  float64\n",
      " 3   genre            16444 non-null  object \n",
      " 4   na_sales         16444 non-null  float64\n",
      " 5   eu_sales         16444 non-null  float64\n",
      " 6   jp_sales         16444 non-null  float64\n",
      " 7   other_sales      16444 non-null  float64\n",
      " 8   critic_score     16444 non-null  float64\n",
      " 9   user_score       16444 non-null  float32\n",
      " 10  rating           16444 non-null  object \n",
      "dtypes: float32(1), float64(6), object(4)\n",
      "memory usage: 1.4+ MB\n"
     ]
    }
   ],
   "source": [
    "data.info()"
   ]
  },
  {
   "cell_type": "code",
   "execution_count": 15,
   "metadata": {
    "scrolled": true
   },
   "outputs": [
    {
     "data": {
      "text/plain": [
       "name               0\n",
       "platform           0\n",
       "year_of_release    0\n",
       "genre              0\n",
       "na_sales           0\n",
       "eu_sales           0\n",
       "jp_sales           0\n",
       "other_sales        0\n",
       "critic_score       0\n",
       "user_score         0\n",
       "rating             0\n",
       "dtype: int64"
      ]
     },
     "execution_count": 15,
     "metadata": {},
     "output_type": "execute_result"
    }
   ],
   "source": [
    "data.isna().sum() "
   ]
  },
  {
   "cell_type": "code",
   "execution_count": 16,
   "metadata": {},
   "outputs": [
    {
     "data": {
      "text/plain": [
       "INDEFINED    6676\n",
       "E            3921\n",
       "T            2905\n",
       "M            1536\n",
       "E10+         1393\n",
       "EC              8\n",
       "K-A             3\n",
       "AO              1\n",
       "RP              1\n",
       "Name: rating, dtype: int64"
      ]
     },
     "execution_count": 16,
     "metadata": {},
     "output_type": "execute_result"
    }
   ],
   "source": [
    "data['rating'].value_counts()"
   ]
  },
  {
   "cell_type": "markdown",
   "metadata": {},
   "source": [
    "**Посчитайте суммарные продажи во всех регионах и запишите их в отдельный столбец**"
   ]
  },
  {
   "cell_type": "code",
   "execution_count": 17,
   "metadata": {},
   "outputs": [],
   "source": [
    "data['all_regions'] = data[['na_sales', 'eu_sales', 'jp_sales', 'other_sales']].sum(axis = 1)"
   ]
  },
  {
   "cell_type": "code",
   "execution_count": 18,
   "metadata": {},
   "outputs": [
    {
     "data": {
      "text/html": [
       "<div>\n",
       "<style scoped>\n",
       "    .dataframe tbody tr th:only-of-type {\n",
       "        vertical-align: middle;\n",
       "    }\n",
       "\n",
       "    .dataframe tbody tr th {\n",
       "        vertical-align: top;\n",
       "    }\n",
       "\n",
       "    .dataframe thead th {\n",
       "        text-align: right;\n",
       "    }\n",
       "</style>\n",
       "<table border=\"1\" class=\"dataframe\">\n",
       "  <thead>\n",
       "    <tr style=\"text-align: right;\">\n",
       "      <th></th>\n",
       "      <th>name</th>\n",
       "      <th>platform</th>\n",
       "      <th>year_of_release</th>\n",
       "      <th>genre</th>\n",
       "      <th>na_sales</th>\n",
       "      <th>eu_sales</th>\n",
       "      <th>jp_sales</th>\n",
       "      <th>other_sales</th>\n",
       "      <th>critic_score</th>\n",
       "      <th>user_score</th>\n",
       "      <th>rating</th>\n",
       "      <th>all_regions</th>\n",
       "    </tr>\n",
       "  </thead>\n",
       "  <tbody>\n",
       "    <tr>\n",
       "      <th>0</th>\n",
       "      <td>Wii Sports</td>\n",
       "      <td>Wii</td>\n",
       "      <td>2006.0</td>\n",
       "      <td>Sports</td>\n",
       "      <td>41.36</td>\n",
       "      <td>28.96</td>\n",
       "      <td>3.77</td>\n",
       "      <td>8.45</td>\n",
       "      <td>76.0</td>\n",
       "      <td>8.0</td>\n",
       "      <td>E</td>\n",
       "      <td>82.54</td>\n",
       "    </tr>\n",
       "    <tr>\n",
       "      <th>1</th>\n",
       "      <td>Super Mario Bros.</td>\n",
       "      <td>NES</td>\n",
       "      <td>1985.0</td>\n",
       "      <td>Platform</td>\n",
       "      <td>29.08</td>\n",
       "      <td>3.58</td>\n",
       "      <td>6.81</td>\n",
       "      <td>0.77</td>\n",
       "      <td>-1.0</td>\n",
       "      <td>-1.0</td>\n",
       "      <td>INDEFINED</td>\n",
       "      <td>40.24</td>\n",
       "    </tr>\n",
       "    <tr>\n",
       "      <th>2</th>\n",
       "      <td>Mario Kart Wii</td>\n",
       "      <td>Wii</td>\n",
       "      <td>2008.0</td>\n",
       "      <td>Racing</td>\n",
       "      <td>15.68</td>\n",
       "      <td>12.76</td>\n",
       "      <td>3.79</td>\n",
       "      <td>3.29</td>\n",
       "      <td>82.0</td>\n",
       "      <td>8.3</td>\n",
       "      <td>E</td>\n",
       "      <td>35.52</td>\n",
       "    </tr>\n",
       "    <tr>\n",
       "      <th>3</th>\n",
       "      <td>Wii Sports Resort</td>\n",
       "      <td>Wii</td>\n",
       "      <td>2009.0</td>\n",
       "      <td>Sports</td>\n",
       "      <td>15.61</td>\n",
       "      <td>10.93</td>\n",
       "      <td>3.28</td>\n",
       "      <td>2.95</td>\n",
       "      <td>80.0</td>\n",
       "      <td>8.0</td>\n",
       "      <td>E</td>\n",
       "      <td>32.77</td>\n",
       "    </tr>\n",
       "    <tr>\n",
       "      <th>4</th>\n",
       "      <td>Pokemon Red/Pokemon Blue</td>\n",
       "      <td>GB</td>\n",
       "      <td>1996.0</td>\n",
       "      <td>Role-Playing</td>\n",
       "      <td>11.27</td>\n",
       "      <td>8.89</td>\n",
       "      <td>10.22</td>\n",
       "      <td>1.00</td>\n",
       "      <td>-1.0</td>\n",
       "      <td>-1.0</td>\n",
       "      <td>INDEFINED</td>\n",
       "      <td>31.38</td>\n",
       "    </tr>\n",
       "  </tbody>\n",
       "</table>\n",
       "</div>"
      ],
      "text/plain": [
       "                       name platform  year_of_release         genre  na_sales  \\\n",
       "0                Wii Sports      Wii           2006.0        Sports     41.36   \n",
       "1         Super Mario Bros.      NES           1985.0      Platform     29.08   \n",
       "2            Mario Kart Wii      Wii           2008.0        Racing     15.68   \n",
       "3         Wii Sports Resort      Wii           2009.0        Sports     15.61   \n",
       "4  Pokemon Red/Pokemon Blue       GB           1996.0  Role-Playing     11.27   \n",
       "\n",
       "   eu_sales  jp_sales  other_sales  critic_score  user_score     rating  \\\n",
       "0     28.96      3.77         8.45          76.0         8.0          E   \n",
       "1      3.58      6.81         0.77          -1.0        -1.0  INDEFINED   \n",
       "2     12.76      3.79         3.29          82.0         8.3          E   \n",
       "3     10.93      3.28         2.95          80.0         8.0          E   \n",
       "4      8.89     10.22         1.00          -1.0        -1.0  INDEFINED   \n",
       "\n",
       "   all_regions  \n",
       "0        82.54  \n",
       "1        40.24  \n",
       "2        35.52  \n",
       "3        32.77  \n",
       "4        31.38  "
      ]
     },
     "execution_count": 18,
     "metadata": {},
     "output_type": "execute_result"
    }
   ],
   "source": [
    "data.head()"
   ]
  },
  {
   "cell_type": "markdown",
   "metadata": {},
   "source": [
    "В этой части проекта были подготовлены данные для дальнейших манипуляций, а именно:\n",
    "- Изменены названия столбцов;\n",
    "- Данные преобразованы в нужные типы;\n",
    "- Обработаны пропуски;\n",
    "- Посчитаны суммарные продажи по всем регионам."
   ]
  },
  {
   "cell_type": "markdown",
   "metadata": {},
   "source": [
    "### Проведите исследовательский анализ данных"
   ]
  },
  {
   "cell_type": "markdown",
   "metadata": {},
   "source": [
    "**Посмотрите, сколько игр выпускалось в разные годы. Важны ли данные за все периоды?**"
   ]
  },
  {
   "cell_type": "code",
   "execution_count": 20,
   "metadata": {},
   "outputs": [
    {
     "data": {
      "image/png": "[encoded data removed]",
      "text/plain": [
       "<Figure size 432x288 with 1 Axes>"
      ]
     },
     "metadata": {
      "needs_background": "light"
     },
     "output_type": "display_data"
    }
   ],
   "source": [
    "sss = data.pivot_table(index='year_of_release', values='name', aggfunc='count')\n",
    "\n",
    "sss.plot(y='name', title='Количество игр что выпускалось в разные годы')\n",
    "\n",
    "plt.xlabel('Год выпуска')\n",
    "plt.ylabel('Количество')\n",
    "plt.show()"
   ]
  },
  {
   "cell_type": "code",
   "execution_count": 21,
   "metadata": {},
   "outputs": [
    {
     "data": {
      "text/html": [
       "<div>\n",
       "<style scoped>\n",
       "    .dataframe tbody tr th:only-of-type {\n",
       "        vertical-align: middle;\n",
       "    }\n",
       "\n",
       "    .dataframe tbody tr th {\n",
       "        vertical-align: top;\n",
       "    }\n",
       "\n",
       "    .dataframe thead th {\n",
       "        text-align: right;\n",
       "    }\n",
       "</style>\n",
       "<table border=\"1\" class=\"dataframe\">\n",
       "  <thead>\n",
       "    <tr style=\"text-align: right;\">\n",
       "      <th></th>\n",
       "      <th>name</th>\n",
       "    </tr>\n",
       "    <tr>\n",
       "      <th>year_of_release</th>\n",
       "      <th></th>\n",
       "    </tr>\n",
       "  </thead>\n",
       "  <tbody>\n",
       "    <tr>\n",
       "      <th>2016.0</th>\n",
       "      <td>502</td>\n",
       "    </tr>\n",
       "    <tr>\n",
       "      <th>2015.0</th>\n",
       "      <td>606</td>\n",
       "    </tr>\n",
       "    <tr>\n",
       "      <th>2014.0</th>\n",
       "      <td>581</td>\n",
       "    </tr>\n",
       "    <tr>\n",
       "      <th>2013.0</th>\n",
       "      <td>544</td>\n",
       "    </tr>\n",
       "    <tr>\n",
       "      <th>2012.0</th>\n",
       "      <td>653</td>\n",
       "    </tr>\n",
       "    <tr>\n",
       "      <th>2011.0</th>\n",
       "      <td>1136</td>\n",
       "    </tr>\n",
       "    <tr>\n",
       "      <th>2010.0</th>\n",
       "      <td>1255</td>\n",
       "    </tr>\n",
       "    <tr>\n",
       "      <th>2009.0</th>\n",
       "      <td>1426</td>\n",
       "    </tr>\n",
       "    <tr>\n",
       "      <th>2008.0</th>\n",
       "      <td>1427</td>\n",
       "    </tr>\n",
       "    <tr>\n",
       "      <th>2007.0</th>\n",
       "      <td>1197</td>\n",
       "    </tr>\n",
       "  </tbody>\n",
       "</table>\n",
       "</div>"
      ],
      "text/plain": [
       "                 name\n",
       "year_of_release      \n",
       "2016.0            502\n",
       "2015.0            606\n",
       "2014.0            581\n",
       "2013.0            544\n",
       "2012.0            653\n",
       "2011.0           1136\n",
       "2010.0           1255\n",
       "2009.0           1426\n",
       "2008.0           1427\n",
       "2007.0           1197"
      ]
     },
     "execution_count": 21,
     "metadata": {},
     "output_type": "execute_result"
    }
   ],
   "source": [
    "sss.sort_values(by='year_of_release', ascending=False).head(10)"
   ]
  },
  {
   "cell_type": "markdown",
   "metadata": {},
   "source": [
    "На графике видно что кривая начинаяет свой рост с 1990 года, вероятно рост обусловлен развитием технологий. Пик приходтся на 2008-2010 гг.\n",
    "С 2010 начинаетя спад. Для дальнейшей работы можно не брать данные за все периоды."
   ]
  },
  {
   "cell_type": "markdown",
   "metadata": {},
   "source": [
    "**Посмотрите, как менялись продажи по платформам. Выберите платформы с наибольшими суммарными продажами и постройте распределение по годам. За какой характерный срок появляются новые и исчезают старые платформы?**"
   ]
  },
  {
   "cell_type": "code",
   "execution_count": 22,
   "metadata": {},
   "outputs": [
    {
     "data": {
      "image/png": "[encoded data removed]",
      "text/plain": [
       "<Figure size 720x360 with 1 Axes>"
      ]
     },
     "metadata": {
      "needs_background": "light"
     },
     "output_type": "display_data"
    }
   ],
   "source": [
    "ddd = (data\n",
    "       .pivot_table(index='platform', values='all_regions', aggfunc='sum')\n",
    "       .sort_values(by='all_regions', ascending=False)\n",
    "       .reset_index()\n",
    "      )\n",
    "\n",
    "ddd.plot(x='platform', y='all_regions', kind = 'bar', figsize=(10,5), grid=True, title='Изменение продаж по платформам')\n",
    "plt.xlabel('Платформа')\n",
    "plt.ylabel('Сумма продаж')\n",
    "plt.show()"
   ]
  },
  {
   "cell_type": "code",
   "execution_count": 23,
   "metadata": {},
   "outputs": [
    {
     "data": {
      "text/html": [
       "<div>\n",
       "<style scoped>\n",
       "    .dataframe tbody tr th:only-of-type {\n",
       "        vertical-align: middle;\n",
       "    }\n",
       "\n",
       "    .dataframe tbody tr th {\n",
       "        vertical-align: top;\n",
       "    }\n",
       "\n",
       "    .dataframe thead th {\n",
       "        text-align: right;\n",
       "    }\n",
       "</style>\n",
       "<table border=\"1\" class=\"dataframe\">\n",
       "  <thead>\n",
       "    <tr style=\"text-align: right;\">\n",
       "      <th></th>\n",
       "      <th>platform</th>\n",
       "      <th>all_regions</th>\n",
       "    </tr>\n",
       "  </thead>\n",
       "  <tbody>\n",
       "    <tr>\n",
       "      <th>0</th>\n",
       "      <td>PS2</td>\n",
       "      <td>1233.56</td>\n",
       "    </tr>\n",
       "    <tr>\n",
       "      <th>1</th>\n",
       "      <td>X360</td>\n",
       "      <td>961.24</td>\n",
       "    </tr>\n",
       "    <tr>\n",
       "      <th>2</th>\n",
       "      <td>PS3</td>\n",
       "      <td>931.34</td>\n",
       "    </tr>\n",
       "    <tr>\n",
       "      <th>3</th>\n",
       "      <td>Wii</td>\n",
       "      <td>891.18</td>\n",
       "    </tr>\n",
       "    <tr>\n",
       "      <th>4</th>\n",
       "      <td>DS</td>\n",
       "      <td>802.78</td>\n",
       "    </tr>\n",
       "    <tr>\n",
       "      <th>5</th>\n",
       "      <td>PS</td>\n",
       "      <td>727.58</td>\n",
       "    </tr>\n",
       "  </tbody>\n",
       "</table>\n",
       "</div>"
      ],
      "text/plain": [
       "  platform  all_regions\n",
       "0      PS2      1233.56\n",
       "1     X360       961.24\n",
       "2      PS3       931.34\n",
       "3      Wii       891.18\n",
       "4       DS       802.78\n",
       "5       PS       727.58"
      ]
     },
     "execution_count": 23,
     "metadata": {},
     "output_type": "execute_result"
    }
   ],
   "source": [
    "top_platform = ddd[:6]\n",
    "top_platform"
   ]
  },
  {
   "cell_type": "code",
   "execution_count": 24,
   "metadata": {},
   "outputs": [
    {
     "data": {
      "image/png": "[encoded data removed]",
      "text/plain": [
       "<Figure size 864x648 with 1 Axes>"
      ]
     },
     "metadata": {
      "needs_background": "light"
     },
     "output_type": "display_data"
    }
   ],
   "source": [
    "qw = (data\n",
    "      .pivot_table(index='year_of_release', columns = 'platform', values='all_regions', aggfunc='sum')\n",
    "      .plot(grid=True, figsize=(12, 9)))\n",
    "plt.legend(bbox_to_anchor=[0, 1], loc='upper left', ncol=2)\n",
    "plt.title('Распределение платформ')\n",
    "plt.show()"
   ]
  },
  {
   "cell_type": "code",
   "execution_count": 26,
   "metadata": {},
   "outputs": [
    {
     "data": {
      "text/html": [
       "<div>\n",
       "<style scoped>\n",
       "    .dataframe tbody tr th:only-of-type {\n",
       "        vertical-align: middle;\n",
       "    }\n",
       "\n",
       "    .dataframe tbody tr th {\n",
       "        vertical-align: top;\n",
       "    }\n",
       "\n",
       "    .dataframe thead th {\n",
       "        text-align: right;\n",
       "    }\n",
       "</style>\n",
       "<table border=\"1\" class=\"dataframe\">\n",
       "  <thead>\n",
       "    <tr style=\"text-align: right;\">\n",
       "      <th></th>\n",
       "      <th></th>\n",
       "      <th>all_regions</th>\n",
       "    </tr>\n",
       "    <tr>\n",
       "      <th>platform</th>\n",
       "      <th>year_of_release</th>\n",
       "      <th></th>\n",
       "    </tr>\n",
       "  </thead>\n",
       "  <tbody>\n",
       "    <tr>\n",
       "      <th rowspan=\"5\" valign=\"top\">2600</th>\n",
       "      <th>1980.0</th>\n",
       "      <td>11.38</td>\n",
       "    </tr>\n",
       "    <tr>\n",
       "      <th>1981.0</th>\n",
       "      <td>35.68</td>\n",
       "    </tr>\n",
       "    <tr>\n",
       "      <th>1982.0</th>\n",
       "      <td>28.88</td>\n",
       "    </tr>\n",
       "    <tr>\n",
       "      <th>1983.0</th>\n",
       "      <td>5.84</td>\n",
       "    </tr>\n",
       "    <tr>\n",
       "      <th>1984.0</th>\n",
       "      <td>0.27</td>\n",
       "    </tr>\n",
       "    <tr>\n",
       "      <th>...</th>\n",
       "      <th>...</th>\n",
       "      <td>...</td>\n",
       "    </tr>\n",
       "    <tr>\n",
       "      <th>XB</th>\n",
       "      <th>2008.0</th>\n",
       "      <td>0.18</td>\n",
       "    </tr>\n",
       "    <tr>\n",
       "      <th rowspan=\"4\" valign=\"top\">XOne</th>\n",
       "      <th>2013.0</th>\n",
       "      <td>18.96</td>\n",
       "    </tr>\n",
       "    <tr>\n",
       "      <th>2014.0</th>\n",
       "      <td>54.07</td>\n",
       "    </tr>\n",
       "    <tr>\n",
       "      <th>2015.0</th>\n",
       "      <td>60.14</td>\n",
       "    </tr>\n",
       "    <tr>\n",
       "      <th>2016.0</th>\n",
       "      <td>26.15</td>\n",
       "    </tr>\n",
       "  </tbody>\n",
       "</table>\n",
       "<p>238 rows × 1 columns</p>\n",
       "</div>"
      ],
      "text/plain": [
       "                          all_regions\n",
       "platform year_of_release             \n",
       "2600     1980.0                 11.38\n",
       "         1981.0                 35.68\n",
       "         1982.0                 28.88\n",
       "         1983.0                  5.84\n",
       "         1984.0                  0.27\n",
       "...                               ...\n",
       "XB       2008.0                  0.18\n",
       "XOne     2013.0                 18.96\n",
       "         2014.0                 54.07\n",
       "         2015.0                 60.14\n",
       "         2016.0                 26.15\n",
       "\n",
       "[238 rows x 1 columns]"
      ]
     },
     "execution_count": 26,
     "metadata": {},
     "output_type": "execute_result"
    }
   ],
   "source": [
    "for i in top_platform:\n",
    "    ttt = data.pivot_table(index=['platform','year_of_release'], values='all_regions', aggfunc='sum')\n",
    "ttt"
   ]
  },
  {
   "cell_type": "markdown",
   "metadata": {},
   "source": [
    "Платформ с наибольшими суммарными продажами шесть - это PS2, X360, PS3, Wii, DS, PS. Срок жизни популярных платформ находятся в промежутках от 9 до 11 лет. "
   ]
  },
  {
   "cell_type": "markdown",
   "metadata": {},
   "source": [
    "**Возьмите данные за соответствующий актуальный период. Актуальный период определите самостоятельно в результате исследования предыдущих вопросов. Основной фактор — эти данные помогут построить прогноз на 2017 год.**"
   ]
  },
  {
   "cell_type": "code",
   "execution_count": 27,
   "metadata": {},
   "outputs": [],
   "source": [
    "data = data[data['year_of_release'] >= 2014]"
   ]
  },
  {
   "cell_type": "markdown",
   "metadata": {},
   "source": [
    "Актуальный период на мой взгляд, для прогноза на 2017 год это период с 2014 года включительно."
   ]
  },
  {
   "cell_type": "markdown",
   "metadata": {},
   "source": [
    "**Не учитывайте в работе данные за предыдущие годы.**"
   ]
  },
  {
   "cell_type": "markdown",
   "metadata": {},
   "source": [
    "**Какие платформы лидируют по продажам, растут или падают? Выберите несколько потенциально прибыльных платформ.**"
   ]
  },
  {
   "cell_type": "code",
   "execution_count": 28,
   "metadata": {
    "scrolled": false
   },
   "outputs": [
    {
     "data": {
      "text/plain": [
       "Text(0.5, 1.0, 'Диаграмма распределения платформ во всех регионах')"
      ]
     },
     "execution_count": 28,
     "metadata": {},
     "output_type": "execute_result"
    },
    {
     "data": {
      "image/png": "[encoded data removed]",
      "text/plain": [
       "<Figure size 576x360 with 1 Axes>"
      ]
     },
     "metadata": {
      "needs_background": "light"
     },
     "output_type": "display_data"
    }
   ],
   "source": [
    "qwq = data.pivot_table(index=['platform'], values='all_regions',\n",
    "                       aggfunc='sum').sort_values(by='all_regions', ascending=False)\n",
    "\n",
    "qwq.plot(kind='bar',grid=True, figsize=(8, 5))\n",
    "plt.title('Диаграмма распределения платформ во всех регионах')"
   ]
  },
  {
   "cell_type": "code",
   "execution_count": 29,
   "metadata": {},
   "outputs": [
    {
     "data": {
      "text/html": [
       "<div>\n",
       "<style scoped>\n",
       "    .dataframe tbody tr th:only-of-type {\n",
       "        vertical-align: middle;\n",
       "    }\n",
       "\n",
       "    .dataframe tbody tr th {\n",
       "        vertical-align: top;\n",
       "    }\n",
       "\n",
       "    .dataframe thead th {\n",
       "        text-align: right;\n",
       "    }\n",
       "</style>\n",
       "<table border=\"1\" class=\"dataframe\">\n",
       "  <thead>\n",
       "    <tr style=\"text-align: right;\">\n",
       "      <th></th>\n",
       "      <th>all_regions</th>\n",
       "    </tr>\n",
       "    <tr>\n",
       "      <th>platform</th>\n",
       "      <th></th>\n",
       "    </tr>\n",
       "  </thead>\n",
       "  <tbody>\n",
       "    <tr>\n",
       "      <th>PS4</th>\n",
       "      <td>288.15</td>\n",
       "    </tr>\n",
       "    <tr>\n",
       "      <th>XOne</th>\n",
       "      <td>140.36</td>\n",
       "    </tr>\n",
       "    <tr>\n",
       "      <th>3DS</th>\n",
       "      <td>86.68</td>\n",
       "    </tr>\n",
       "    <tr>\n",
       "      <th>PS3</th>\n",
       "      <td>68.18</td>\n",
       "    </tr>\n",
       "    <tr>\n",
       "      <th>X360</th>\n",
       "      <td>48.22</td>\n",
       "    </tr>\n",
       "    <tr>\n",
       "      <th>WiiU</th>\n",
       "      <td>42.98</td>\n",
       "    </tr>\n",
       "    <tr>\n",
       "      <th>PC</th>\n",
       "      <td>27.05</td>\n",
       "    </tr>\n",
       "    <tr>\n",
       "      <th>PSV</th>\n",
       "      <td>22.40</td>\n",
       "    </tr>\n",
       "    <tr>\n",
       "      <th>Wii</th>\n",
       "      <td>5.07</td>\n",
       "    </tr>\n",
       "    <tr>\n",
       "      <th>PSP</th>\n",
       "      <td>0.36</td>\n",
       "    </tr>\n",
       "  </tbody>\n",
       "</table>\n",
       "</div>"
      ],
      "text/plain": [
       "          all_regions\n",
       "platform             \n",
       "PS4            288.15\n",
       "XOne           140.36\n",
       "3DS             86.68\n",
       "PS3             68.18\n",
       "X360            48.22\n",
       "WiiU            42.98\n",
       "PC              27.05\n",
       "PSV             22.40\n",
       "Wii              5.07\n",
       "PSP              0.36"
      ]
     },
     "execution_count": 29,
     "metadata": {},
     "output_type": "execute_result"
    }
   ],
   "source": [
    "qwq.sort_values(by='all_regions', ascending=False)"
   ]
  },
  {
   "cell_type": "markdown",
   "metadata": {},
   "source": [
    "Топ 3 лидеров по продажам это: PS4, XOne, 3DS. Меньшая активность у PSP, Wii, PSV и PC"
   ]
  },
  {
   "cell_type": "markdown",
   "metadata": {},
   "source": [
    "**Постройте график «ящик с усами» по глобальным продажам игр в разбивке по платформам. Опишите результат.**"
   ]
  },
  {
   "cell_type": "code",
   "execution_count": 30,
   "metadata": {},
   "outputs": [
    {
     "data": {
      "text/html": [
       "<div>\n",
       "<style scoped>\n",
       "    .dataframe tbody tr th:only-of-type {\n",
       "        vertical-align: middle;\n",
       "    }\n",
       "\n",
       "    .dataframe tbody tr th {\n",
       "        vertical-align: top;\n",
       "    }\n",
       "\n",
       "    .dataframe thead th {\n",
       "        text-align: right;\n",
       "    }\n",
       "</style>\n",
       "<table border=\"1\" class=\"dataframe\">\n",
       "  <thead>\n",
       "    <tr style=\"text-align: right;\">\n",
       "      <th></th>\n",
       "      <th>count</th>\n",
       "      <th>mean</th>\n",
       "      <th>std</th>\n",
       "      <th>min</th>\n",
       "      <th>25%</th>\n",
       "      <th>50%</th>\n",
       "      <th>75%</th>\n",
       "      <th>max</th>\n",
       "    </tr>\n",
       "    <tr>\n",
       "      <th>platform</th>\n",
       "      <th></th>\n",
       "      <th></th>\n",
       "      <th></th>\n",
       "      <th></th>\n",
       "      <th></th>\n",
       "      <th></th>\n",
       "      <th></th>\n",
       "      <th></th>\n",
       "    </tr>\n",
       "  </thead>\n",
       "  <tbody>\n",
       "    <tr>\n",
       "      <th>3DS</th>\n",
       "      <td>212.0</td>\n",
       "      <td>0.408868</td>\n",
       "      <td>1.188368</td>\n",
       "      <td>0.01</td>\n",
       "      <td>0.0300</td>\n",
       "      <td>0.090</td>\n",
       "      <td>0.2500</td>\n",
       "      <td>11.68</td>\n",
       "    </tr>\n",
       "    <tr>\n",
       "      <th>PC</th>\n",
       "      <td>151.0</td>\n",
       "      <td>0.179139</td>\n",
       "      <td>0.329359</td>\n",
       "      <td>0.01</td>\n",
       "      <td>0.0200</td>\n",
       "      <td>0.060</td>\n",
       "      <td>0.2000</td>\n",
       "      <td>3.05</td>\n",
       "    </tr>\n",
       "    <tr>\n",
       "      <th>PS3</th>\n",
       "      <td>219.0</td>\n",
       "      <td>0.311324</td>\n",
       "      <td>0.633059</td>\n",
       "      <td>0.01</td>\n",
       "      <td>0.0400</td>\n",
       "      <td>0.110</td>\n",
       "      <td>0.3250</td>\n",
       "      <td>5.27</td>\n",
       "    </tr>\n",
       "    <tr>\n",
       "      <th>PS4</th>\n",
       "      <td>376.0</td>\n",
       "      <td>0.766356</td>\n",
       "      <td>1.614969</td>\n",
       "      <td>0.01</td>\n",
       "      <td>0.0575</td>\n",
       "      <td>0.185</td>\n",
       "      <td>0.6900</td>\n",
       "      <td>14.63</td>\n",
       "    </tr>\n",
       "    <tr>\n",
       "      <th>PSP</th>\n",
       "      <td>13.0</td>\n",
       "      <td>0.027692</td>\n",
       "      <td>0.027735</td>\n",
       "      <td>0.01</td>\n",
       "      <td>0.0100</td>\n",
       "      <td>0.020</td>\n",
       "      <td>0.0200</td>\n",
       "      <td>0.09</td>\n",
       "    </tr>\n",
       "    <tr>\n",
       "      <th>PSV</th>\n",
       "      <td>295.0</td>\n",
       "      <td>0.075932</td>\n",
       "      <td>0.141591</td>\n",
       "      <td>0.01</td>\n",
       "      <td>0.0200</td>\n",
       "      <td>0.040</td>\n",
       "      <td>0.0900</td>\n",
       "      <td>1.96</td>\n",
       "    </tr>\n",
       "    <tr>\n",
       "      <th>Wii</th>\n",
       "      <td>11.0</td>\n",
       "      <td>0.460909</td>\n",
       "      <td>0.625451</td>\n",
       "      <td>0.01</td>\n",
       "      <td>0.0350</td>\n",
       "      <td>0.180</td>\n",
       "      <td>0.7550</td>\n",
       "      <td>2.01</td>\n",
       "    </tr>\n",
       "    <tr>\n",
       "      <th>WiiU</th>\n",
       "      <td>73.0</td>\n",
       "      <td>0.588767</td>\n",
       "      <td>1.161467</td>\n",
       "      <td>0.01</td>\n",
       "      <td>0.0500</td>\n",
       "      <td>0.190</td>\n",
       "      <td>0.5700</td>\n",
       "      <td>7.09</td>\n",
       "    </tr>\n",
       "    <tr>\n",
       "      <th>X360</th>\n",
       "      <td>111.0</td>\n",
       "      <td>0.434414</td>\n",
       "      <td>0.628967</td>\n",
       "      <td>0.01</td>\n",
       "      <td>0.0700</td>\n",
       "      <td>0.180</td>\n",
       "      <td>0.5050</td>\n",
       "      <td>4.28</td>\n",
       "    </tr>\n",
       "    <tr>\n",
       "      <th>XOne</th>\n",
       "      <td>228.0</td>\n",
       "      <td>0.615614</td>\n",
       "      <td>1.046513</td>\n",
       "      <td>0.01</td>\n",
       "      <td>0.0500</td>\n",
       "      <td>0.205</td>\n",
       "      <td>0.6325</td>\n",
       "      <td>7.39</td>\n",
       "    </tr>\n",
       "  </tbody>\n",
       "</table>\n",
       "</div>"
      ],
      "text/plain": [
       "          count      mean       std   min     25%    50%     75%    max\n",
       "platform                                                               \n",
       "3DS       212.0  0.408868  1.188368  0.01  0.0300  0.090  0.2500  11.68\n",
       "PC        151.0  0.179139  0.329359  0.01  0.0200  0.060  0.2000   3.05\n",
       "PS3       219.0  0.311324  0.633059  0.01  0.0400  0.110  0.3250   5.27\n",
       "PS4       376.0  0.766356  1.614969  0.01  0.0575  0.185  0.6900  14.63\n",
       "PSP        13.0  0.027692  0.027735  0.01  0.0100  0.020  0.0200   0.09\n",
       "PSV       295.0  0.075932  0.141591  0.01  0.0200  0.040  0.0900   1.96\n",
       "Wii        11.0  0.460909  0.625451  0.01  0.0350  0.180  0.7550   2.01\n",
       "WiiU       73.0  0.588767  1.161467  0.01  0.0500  0.190  0.5700   7.09\n",
       "X360      111.0  0.434414  0.628967  0.01  0.0700  0.180  0.5050   4.28\n",
       "XOne      228.0  0.615614  1.046513  0.01  0.0500  0.205  0.6325   7.39"
      ]
     },
     "execution_count": 30,
     "metadata": {},
     "output_type": "execute_result"
    }
   ],
   "source": [
    "data.groupby('platform')['all_regions'].describe()"
   ]
  },
  {
   "cell_type": "code",
   "execution_count": 31,
   "metadata": {},
   "outputs": [
    {
     "data": {
      "image/png": "[encoded data removed]",
      "text/plain": [
       "<Figure size 2160x504 with 1 Axes>"
      ]
     },
     "metadata": {
      "needs_background": "light"
     },
     "output_type": "display_data"
    }
   ],
   "source": [
    "data.boxplot(column='all_regions', by='platform', figsize=(30,7))\n",
    "plt.show()"
   ]
  },
  {
   "cell_type": "code",
   "execution_count": 32,
   "metadata": {},
   "outputs": [
    {
     "data": {
      "text/plain": [
       "(0.0, 2.0)"
      ]
     },
     "execution_count": 32,
     "metadata": {},
     "output_type": "execute_result"
    },
    {
     "data": {
      "image/png": "[encoded data removed]",
      "text/plain": [
       "<Figure size 648x648 with 1 Axes>"
      ]
     },
     "metadata": {
      "needs_background": "light"
     },
     "output_type": "display_data"
    }
   ],
   "source": [
    "plt.figure(figsize=(9, 9))\n",
    "sns.boxplot(y=\"platform\", x=\"all_regions\",data=data, orient=\"h\")\n",
    "plt.xlim(0, 2)"
   ]
  },
  {
   "cell_type": "markdown",
   "metadata": {},
   "source": [
    "В выборке 10 платформ. На грфике видны популярные платформы ( их продажи выше 6 млн долларов), платформа с наиболее низкоим значением - PSP, максимальное значение у PS4"
   ]
  },
  {
   "cell_type": "markdown",
   "metadata": {},
   "source": [
    "**Посмотрите, как влияют на продажи внутри одной популярной платформы отзывы пользователей и критиков. Постройте диаграмму рассеяния и посчитайте корреляцию между отзывами и продажами. Сформулируйте выводы.**"
   ]
  },
  {
   "cell_type": "code",
   "execution_count": 33,
   "metadata": {},
   "outputs": [
    {
     "data": {
      "image/png": "[encoded data removed]",
      "text/plain": [
       "<Figure size 432x216 with 1 Axes>"
      ]
     },
     "metadata": {
      "needs_background": "light"
     },
     "output_type": "display_data"
    },
    {
     "data": {
      "text/plain": [
       "0.10411505493850104"
      ]
     },
     "execution_count": 33,
     "metadata": {},
     "output_type": "execute_result"
    }
   ],
   "source": [
    "data_ps4 = (data\n",
    "            .query('(platform == \"PS4\") and (user_score > 0)')\n",
    "            .plot(x='user_score', y='all_regions', kind='scatter', alpha=0.4, figsize=(6,3), grid=True)\n",
    "           )\n",
    "plt.show()\n",
    "data_ps4 = data[data['platform']=='PS4']\n",
    "data_ps4['user_score'].corr(data_ps4['all_regions'])"
   ]
  },
  {
   "cell_type": "markdown",
   "metadata": {},
   "source": [
    "Корреляция 0.1 - очень слабая взаимосвязь"
   ]
  },
  {
   "cell_type": "markdown",
   "metadata": {},
   "source": [
    "Чем ближе коэффициент корреляции Пирсона к крайним значениям 1 или -1, тем теснее линейная взаимосвязь. В данном случае 'user_score' и 'all_regions' корреляция 0.1 - очень слабая взаимосвязь"
   ]
  },
  {
   "cell_type": "code",
   "execution_count": 34,
   "metadata": {},
   "outputs": [
    {
     "data": {
      "image/png": "[encoded data removed]",
      "text/plain": [
       "<Figure size 432x216 with 1 Axes>"
      ]
     },
     "metadata": {
      "needs_background": "light"
     },
     "output_type": "display_data"
    },
    {
     "data": {
      "text/plain": [
       "0.2108468533672136"
      ]
     },
     "execution_count": 34,
     "metadata": {},
     "output_type": "execute_result"
    }
   ],
   "source": [
    "data_ps4 = (data\n",
    "            .query('(platform == \"PS4\") and (critic_score > 0)')\n",
    "            .plot(x='critic_score', y='all_regions', kind='scatter', alpha=0.4, figsize=(6, 3), grid=True)\n",
    "           )\n",
    "plt.show()\n",
    "\n",
    "data_ps4 = data[data['platform']=='PS4']\n",
    "data_ps4['critic_score'].corr(data_ps4['all_regions'])"
   ]
  },
  {
   "cell_type": "markdown",
   "metadata": {},
   "source": [
    "Корреляция равна 0.2, это значит что между 'critic_score' и 'all_regions' есть не сильно выраженная взаимосвязь."
   ]
  },
  {
   "cell_type": "markdown",
   "metadata": {},
   "source": [
    "**Соотнесите выводы с продажами игр на других платформах.**"
   ]
  },
  {
   "cell_type": "code",
   "execution_count": 35,
   "metadata": {},
   "outputs": [
    {
     "data": {
      "text/html": [
       "<div>\n",
       "<style scoped>\n",
       "    .dataframe tbody tr th:only-of-type {\n",
       "        vertical-align: middle;\n",
       "    }\n",
       "\n",
       "    .dataframe tbody tr th {\n",
       "        vertical-align: top;\n",
       "    }\n",
       "\n",
       "    .dataframe thead th {\n",
       "        text-align: right;\n",
       "    }\n",
       "</style>\n",
       "<table border=\"1\" class=\"dataframe\">\n",
       "  <thead>\n",
       "    <tr style=\"text-align: right;\">\n",
       "      <th></th>\n",
       "      <th>count</th>\n",
       "      <th>mean</th>\n",
       "      <th>std</th>\n",
       "      <th>min</th>\n",
       "      <th>25%</th>\n",
       "      <th>50%</th>\n",
       "      <th>75%</th>\n",
       "      <th>max</th>\n",
       "    </tr>\n",
       "    <tr>\n",
       "      <th>platform</th>\n",
       "      <th></th>\n",
       "      <th></th>\n",
       "      <th></th>\n",
       "      <th></th>\n",
       "      <th></th>\n",
       "      <th></th>\n",
       "      <th></th>\n",
       "      <th></th>\n",
       "    </tr>\n",
       "  </thead>\n",
       "  <tbody>\n",
       "    <tr>\n",
       "      <th>3DS</th>\n",
       "      <td>1.0</td>\n",
       "      <td>86.68</td>\n",
       "      <td>NaN</td>\n",
       "      <td>86.68</td>\n",
       "      <td>86.68</td>\n",
       "      <td>86.68</td>\n",
       "      <td>86.68</td>\n",
       "      <td>86.68</td>\n",
       "    </tr>\n",
       "    <tr>\n",
       "      <th>PC</th>\n",
       "      <td>1.0</td>\n",
       "      <td>27.05</td>\n",
       "      <td>NaN</td>\n",
       "      <td>27.05</td>\n",
       "      <td>27.05</td>\n",
       "      <td>27.05</td>\n",
       "      <td>27.05</td>\n",
       "      <td>27.05</td>\n",
       "    </tr>\n",
       "    <tr>\n",
       "      <th>PS3</th>\n",
       "      <td>1.0</td>\n",
       "      <td>68.18</td>\n",
       "      <td>NaN</td>\n",
       "      <td>68.18</td>\n",
       "      <td>68.18</td>\n",
       "      <td>68.18</td>\n",
       "      <td>68.18</td>\n",
       "      <td>68.18</td>\n",
       "    </tr>\n",
       "    <tr>\n",
       "      <th>PS4</th>\n",
       "      <td>1.0</td>\n",
       "      <td>288.15</td>\n",
       "      <td>NaN</td>\n",
       "      <td>288.15</td>\n",
       "      <td>288.15</td>\n",
       "      <td>288.15</td>\n",
       "      <td>288.15</td>\n",
       "      <td>288.15</td>\n",
       "    </tr>\n",
       "    <tr>\n",
       "      <th>PSP</th>\n",
       "      <td>1.0</td>\n",
       "      <td>0.36</td>\n",
       "      <td>NaN</td>\n",
       "      <td>0.36</td>\n",
       "      <td>0.36</td>\n",
       "      <td>0.36</td>\n",
       "      <td>0.36</td>\n",
       "      <td>0.36</td>\n",
       "    </tr>\n",
       "    <tr>\n",
       "      <th>PSV</th>\n",
       "      <td>1.0</td>\n",
       "      <td>22.40</td>\n",
       "      <td>NaN</td>\n",
       "      <td>22.40</td>\n",
       "      <td>22.40</td>\n",
       "      <td>22.40</td>\n",
       "      <td>22.40</td>\n",
       "      <td>22.40</td>\n",
       "    </tr>\n",
       "    <tr>\n",
       "      <th>Wii</th>\n",
       "      <td>1.0</td>\n",
       "      <td>5.07</td>\n",
       "      <td>NaN</td>\n",
       "      <td>5.07</td>\n",
       "      <td>5.07</td>\n",
       "      <td>5.07</td>\n",
       "      <td>5.07</td>\n",
       "      <td>5.07</td>\n",
       "    </tr>\n",
       "    <tr>\n",
       "      <th>WiiU</th>\n",
       "      <td>1.0</td>\n",
       "      <td>42.98</td>\n",
       "      <td>NaN</td>\n",
       "      <td>42.98</td>\n",
       "      <td>42.98</td>\n",
       "      <td>42.98</td>\n",
       "      <td>42.98</td>\n",
       "      <td>42.98</td>\n",
       "    </tr>\n",
       "    <tr>\n",
       "      <th>X360</th>\n",
       "      <td>1.0</td>\n",
       "      <td>48.22</td>\n",
       "      <td>NaN</td>\n",
       "      <td>48.22</td>\n",
       "      <td>48.22</td>\n",
       "      <td>48.22</td>\n",
       "      <td>48.22</td>\n",
       "      <td>48.22</td>\n",
       "    </tr>\n",
       "    <tr>\n",
       "      <th>XOne</th>\n",
       "      <td>1.0</td>\n",
       "      <td>140.36</td>\n",
       "      <td>NaN</td>\n",
       "      <td>140.36</td>\n",
       "      <td>140.36</td>\n",
       "      <td>140.36</td>\n",
       "      <td>140.36</td>\n",
       "      <td>140.36</td>\n",
       "    </tr>\n",
       "  </tbody>\n",
       "</table>\n",
       "</div>"
      ],
      "text/plain": [
       "          count    mean  std     min     25%     50%     75%     max\n",
       "platform                                                            \n",
       "3DS         1.0   86.68  NaN   86.68   86.68   86.68   86.68   86.68\n",
       "PC          1.0   27.05  NaN   27.05   27.05   27.05   27.05   27.05\n",
       "PS3         1.0   68.18  NaN   68.18   68.18   68.18   68.18   68.18\n",
       "PS4         1.0  288.15  NaN  288.15  288.15  288.15  288.15  288.15\n",
       "PSP         1.0    0.36  NaN    0.36    0.36    0.36    0.36    0.36\n",
       "PSV         1.0   22.40  NaN   22.40   22.40   22.40   22.40   22.40\n",
       "Wii         1.0    5.07  NaN    5.07    5.07    5.07    5.07    5.07\n",
       "WiiU        1.0   42.98  NaN   42.98   42.98   42.98   42.98   42.98\n",
       "X360        1.0   48.22  NaN   48.22   48.22   48.22   48.22   48.22\n",
       "XOne        1.0  140.36  NaN  140.36  140.36  140.36  140.36  140.36"
      ]
     },
     "execution_count": 35,
     "metadata": {},
     "output_type": "execute_result"
    }
   ],
   "source": [
    "#воспользуемся переменной которая хранит список платформ начиная с 2014 года\n",
    "qwq.groupby('platform')['all_regions'].describe()"
   ]
  },
  {
   "cell_type": "code",
   "execution_count": 36,
   "metadata": {},
   "outputs": [
    {
     "data": {
      "image/png": "[encoded data removed]",
      "text/plain": [
       "<Figure size 432x216 with 1 Axes>"
      ]
     },
     "metadata": {
      "needs_background": "light"
     },
     "output_type": "display_data"
    },
    {
     "data": {
      "text/plain": [
       "0.27147591419241845"
      ]
     },
     "execution_count": 36,
     "metadata": {},
     "output_type": "execute_result"
    }
   ],
   "source": [
    "data_xone = (data\n",
    "            .query('(platform == \"XOne\") and (critic_score > 0)')\n",
    "            .plot(x='critic_score', y='all_regions', kind='scatter', alpha=0.4, figsize=(6, 3), grid=True)\n",
    "           )\n",
    "plt.show()\n",
    "\n",
    "data_xone = data[data['platform']=='XOne']\n",
    "data_xone['critic_score'].corr(data_xone['all_regions'])"
   ]
  },
  {
   "cell_type": "code",
   "execution_count": 37,
   "metadata": {},
   "outputs": [
    {
     "data": {
      "image/png": "[encoded data removed]",
      "text/plain": [
       "<Figure size 432x216 with 1 Axes>"
      ]
     },
     "metadata": {
      "needs_background": "light"
     },
     "output_type": "display_data"
    },
    {
     "data": {
      "text/plain": [
       "0.10671381873447282"
      ]
     },
     "execution_count": 37,
     "metadata": {},
     "output_type": "execute_result"
    }
   ],
   "source": [
    "data_xone = (data\n",
    "            .query('(platform == \"XOne\") and (user_score > 0)')\n",
    "            .plot(x='user_score', y='all_regions', kind='scatter', alpha=0.4, figsize=(6, 3), grid=True)\n",
    "           )\n",
    "plt.show()\n",
    "\n",
    "data_xone = data[data['platform']=='XOne']\n",
    "data_xone['user_score'].corr(data_xone['all_regions'])"
   ]
  },
  {
   "cell_type": "markdown",
   "metadata": {},
   "source": [
    "Для платформы XOne:\n",
    "- Корреляция между отзывами критиков и продажами 0.27 - слабая связь\n",
    "- Корреляция между отзывами пользователей и продажами 0.1 - очень слабая связь"
   ]
  },
  {
   "cell_type": "code",
   "execution_count": 38,
   "metadata": {},
   "outputs": [
    {
     "data": {
      "image/png": "[encoded data removed]",
      "text/plain": [
       "<Figure size 432x216 with 1 Axes>"
      ]
     },
     "metadata": {
      "needs_background": "light"
     },
     "output_type": "display_data"
    },
    {
     "data": {
      "text/plain": [
       "0.05328739657697874"
      ]
     },
     "execution_count": 38,
     "metadata": {},
     "output_type": "execute_result"
    }
   ],
   "source": [
    "data_3ds = (data\n",
    "            .query('(platform == \"3DS\") and (user_score > 0)')\n",
    "            .plot(x='user_score', y='all_regions', kind='scatter', alpha=0.4, figsize=(6, 3), grid=True)\n",
    "           )\n",
    "plt.show()\n",
    "\n",
    "data_3ds = data[data['platform']=='3DS']\n",
    "data_3ds['user_score'].corr(data_3ds['all_regions'])"
   ]
  },
  {
   "cell_type": "code",
   "execution_count": 39,
   "metadata": {},
   "outputs": [
    {
     "data": {
      "image/png": "[encoded data removed]",
      "text/plain": [
       "<Figure size 432x216 with 1 Axes>"
      ]
     },
     "metadata": {
      "needs_background": "light"
     },
     "output_type": "display_data"
    },
    {
     "data": {
      "text/plain": [
       "0.052992079088970565"
      ]
     },
     "execution_count": 39,
     "metadata": {},
     "output_type": "execute_result"
    }
   ],
   "source": [
    "data_3ds = (data\n",
    "            .query('(platform == \"3DS\") and (critic_score > 0)')\n",
    "            .plot(x='critic_score', y='all_regions', kind='scatter', alpha=0.4, figsize=(6, 3), grid=True)\n",
    "           )\n",
    "plt.show()\n",
    "\n",
    "data_3ds = data[data['platform']=='3DS']\n",
    "data_3ds['critic_score'].corr(data_3ds['all_regions'])"
   ]
  },
  {
   "cell_type": "markdown",
   "metadata": {},
   "source": [
    "Для платформы 3DS:\n",
    "- Корреляция между отзывами критиков и продажами 0.05 - отсутствует взаимосвязь\n",
    "- Корреляция между отзывами пользователей и продажами 0.05 - отсутствует взаимосвязь"
   ]
  },
  {
   "cell_type": "code",
   "execution_count": 40,
   "metadata": {},
   "outputs": [
    {
     "data": {
      "image/png": "[encoded data removed]",
      "text/plain": [
       "<Figure size 432x216 with 1 Axes>"
      ]
     },
     "metadata": {
      "needs_background": "light"
     },
     "output_type": "display_data"
    },
    {
     "data": {
      "text/plain": [
       "0.2075281404209758"
      ]
     },
     "execution_count": 40,
     "metadata": {},
     "output_type": "execute_result"
    }
   ],
   "source": [
    "data_ps3 = (data\n",
    "            .query('(platform == \"PS3\") and (user_score > 0)')\n",
    "            .plot(x='user_score', y='all_regions', kind='scatter', alpha=0.4, figsize=(6,3), grid=True)\n",
    "           )\n",
    "plt.show()\n",
    "data_ps3 = data[data['platform']=='PS3']\n",
    "data_ps3['user_score'].corr(data_ps3['all_regions'])"
   ]
  },
  {
   "cell_type": "code",
   "execution_count": 41,
   "metadata": {},
   "outputs": [
    {
     "data": {
      "image/png": "[encoded data removed]",
      "text/plain": [
       "<Figure size 432x216 with 1 Axes>"
      ]
     },
     "metadata": {
      "needs_background": "light"
     },
     "output_type": "display_data"
    },
    {
     "data": {
      "text/plain": [
       "0.023612142901272865"
      ]
     },
     "execution_count": 41,
     "metadata": {},
     "output_type": "execute_result"
    }
   ],
   "source": [
    "data_ps3 = (data\n",
    "            .query('(platform == \"PS3\") and (critic_score > 0)')\n",
    "            .plot(x='critic_score', y='all_regions', kind='scatter', alpha=0.4, figsize=(6,3), grid=True)\n",
    "           )\n",
    "plt.show()\n",
    "data_ps3 = data[data['platform']=='PS3']\n",
    "data_ps3['critic_score'].corr(data_ps3['all_regions'])"
   ]
  },
  {
   "cell_type": "markdown",
   "metadata": {},
   "source": [
    "Для платформы PS3:\n",
    "\n",
    "- Корреляция между отзывами критиков и продажами 0.2 - очень слабая взаимосвязь\n",
    "- Корреляция между отзывами пользователей и продажами 0.2 - очень слабая взаимосвязь"
   ]
  },
  {
   "cell_type": "markdown",
   "metadata": {},
   "source": [
    "Для сравнения были взяты следующие платформы с наибольшим числом продаж: PS3, 3DS, XOne, PS4.\n",
    "\n",
    "- У всех 4 платформ взаимосвясь между продажами и оценками пользователей очень слабая или отсутствует вовсе.\n",
    "\n",
    "- У XOne, PS3 как и у PS4 есть слабая взаимосвязь между продажами и оценками критиков, у 3DS она отсутствует\n"
   ]
  },
  {
   "cell_type": "markdown",
   "metadata": {},
   "source": [
    "**Посмотрите на общее распределение игр по жанрам. Что можно сказать о самых прибыльных жанрах? Выделяются ли жанры с высокими и низкими продажами?**"
   ]
  },
  {
   "cell_type": "code",
   "execution_count": 42,
   "metadata": {},
   "outputs": [
    {
     "data": {
      "text/plain": [
       "(0.0, 2.0)"
      ]
     },
     "execution_count": 42,
     "metadata": {},
     "output_type": "execute_result"
    },
    {
     "data": {
      "image/png": "[encoded data removed]",
      "text/plain": [
       "<Figure size 936x648 with 1 Axes>"
      ]
     },
     "metadata": {
      "needs_background": "light"
     },
     "output_type": "display_data"
    },
    {
     "data": {
      "image/png": "[encoded data removed]",
      "text/plain": [
       "<Figure size 936x648 with 1 Axes>"
      ]
     },
     "metadata": {
      "needs_background": "light"
     },
     "output_type": "display_data"
    }
   ],
   "source": [
    "plt.figure(figsize=(13, 9))\n",
    "sns.boxplot(y=\"genre\", x=\"all_regions\",data=data, orient=\"h\")\n",
    "\n",
    "plt.figure(figsize=(13, 9))\n",
    "sns.boxplot(y=\"genre\", x=\"all_regions\",data=data, orient=\"h\")\n",
    "plt.xlim(0, 2)"
   ]
  },
  {
   "cell_type": "markdown",
   "metadata": {},
   "source": [
    "Топ 3 жанра:\n",
    "- Шутер, у жанра наибольшее значение \n",
    "- Спорт\n",
    "- Платформер\n",
    "\n",
    "Начиная с 2014 года жанры: Adventure, Puzzle,Strategy,  не пользуются популярностью"
   ]
  },
  {
   "cell_type": "markdown",
   "metadata": {},
   "source": [
    "**Вывод**\n",
    "\n",
    "В процессе исследовательского анализа данных были выполнены следующие шаги:\n",
    "- Были найдены платформы с наибольшими суммарными продажами и построено распределение по годам;\n",
    "- В качестве актуального периода взяты года с 2014;\n",
    "- Выявлены платформы которые лидируют по продажам, растут или падают;\n",
    "- Выявлено взаимосвясь между продажами и оценками пользователей/оценками критиков и прочее"
   ]
  },
  {
   "cell_type": "markdown",
   "metadata": {},
   "source": [
    "### Составьте портрет пользователя каждого региона"
   ]
  },
  {
   "cell_type": "markdown",
   "metadata": {},
   "source": [
    "**Определите для пользователя каждого региона (NA, EU, JP):**"
   ]
  },
  {
   "cell_type": "markdown",
   "metadata": {},
   "source": [
    "**Самые популярные платформы (топ-5). Опишите различия в долях продаж.**"
   ]
  },
  {
   "cell_type": "code",
   "execution_count": 44,
   "metadata": {},
   "outputs": [
    {
     "data": {
      "text/plain": [
       "Text(0.5, 1.0, 'Продажи в Северной Америке')"
      ]
     },
     "execution_count": 44,
     "metadata": {},
     "output_type": "execute_result"
    },
    {
     "data": {
      "image/png": "[encoded data removed]",
      "text/plain": [
       "<Figure size 360x432 with 1 Axes>"
      ]
     },
     "metadata": {},
     "output_type": "display_data"
    }
   ],
   "source": [
    "#продажи в Северной Америке (миллионы проданных копий)\n",
    "na = (data\n",
    "      .query('year_of_release >= 2014')\n",
    "       .pivot_table(index='platform', values='na_sales', aggfunc='sum')\n",
    "       .sort_values(by='na_sales', ascending=False)\n",
    "       .head(5)\n",
    "      )\n",
    "\n",
    "na.groupby(['platform']).sum().plot(kind='pie', y='na_sales', autopct='%1.0f%%', figsize=(5,6))\n",
    "\n",
    "plt.title('Продажи в Северной Америке')"
   ]
  },
  {
   "cell_type": "code",
   "execution_count": 45,
   "metadata": {},
   "outputs": [
    {
     "data": {
      "text/plain": [
       "Text(0.5, 1.0, 'Продажи в Европе')"
      ]
     },
     "execution_count": 45,
     "metadata": {},
     "output_type": "execute_result"
    },
    {
     "data": {
      "image/png": "[encoded data removed]",
      "text/plain": [
       "<Figure size 360x432 with 1 Axes>"
      ]
     },
     "metadata": {},
     "output_type": "display_data"
    }
   ],
   "source": [
    "#продажи в Европе (миллионы проданных копий)\n",
    "eu = (data\n",
    "      .query('year_of_release >= 2014')\n",
    "       .pivot_table(index='platform', values='eu_sales', aggfunc='sum')\n",
    "       .sort_values(by='eu_sales', ascending=False)\n",
    "       .head(5)\n",
    "      )\n",
    "\n",
    "eu.groupby(['platform']).sum().plot(kind='pie', y='eu_sales', \n",
    "                                    autopct='%1.0f%%', figsize=(5,6))\n",
    "\n",
    "plt.title('Продажи в Европе')"
   ]
  },
  {
   "cell_type": "code",
   "execution_count": 46,
   "metadata": {
    "scrolled": true
   },
   "outputs": [
    {
     "data": {
      "text/plain": [
       "Text(0.5, 1.0, 'Продажи в Японии')"
      ]
     },
     "execution_count": 46,
     "metadata": {},
     "output_type": "execute_result"
    },
    {
     "data": {
      "image/png": "[encoded data removed]",
      "text/plain": [
       "<Figure size 360x432 with 1 Axes>"
      ]
     },
     "metadata": {},
     "output_type": "display_data"
    }
   ],
   "source": [
    "#продажи в Японии (миллионы проданных копий)\n",
    "jp = (data\n",
    "      .query('year_of_release >= 2014')\n",
    "       .pivot_table(index='platform', values='jp_sales', aggfunc='sum')\n",
    "       .sort_values(by='jp_sales', ascending=False)\n",
    "       .head(5)\n",
    "      )\n",
    "\n",
    "jp.groupby(['platform']).sum().plot(kind='pie', y='jp_sales', \n",
    "                                    autopct='%1.0f%%', figsize=(5, 6))\n",
    "\n",
    "plt.title('Продажи в Японии')"
   ]
  },
  {
   "cell_type": "code",
   "execution_count": 47,
   "metadata": {},
   "outputs": [
    {
     "data": {
      "text/plain": [
       "Text(0.5, 1.0, 'Продажи в других странах')"
      ]
     },
     "execution_count": 47,
     "metadata": {},
     "output_type": "execute_result"
    },
    {
     "data": {
      "image/png": "[encoded data removed]",
      "text/plain": [
       "<Figure size 360x432 with 1 Axes>"
      ]
     },
     "metadata": {},
     "output_type": "display_data"
    }
   ],
   "source": [
    "#продажи в других странах \n",
    "os = (data\n",
    "      .query('year_of_release >= 2014')\n",
    "       .pivot_table(index='platform', values='other_sales', aggfunc='sum')\n",
    "       .sort_values(by='other_sales', ascending=False)\n",
    "       .head(5)\n",
    "      )\n",
    "\n",
    "os.groupby(['platform']).sum().plot(kind='pie', y='other_sales', \n",
    "                                    autopct='%1.0f%%', figsize=(5,6))\n",
    "\n",
    "plt.title('Продажи в других странах')"
   ]
  },
  {
   "cell_type": "markdown",
   "metadata": {},
   "source": [
    "В Северной Америке(39) и в Европе(55%) наиболее популярной платформай явлется PS4, в Северной Америке с ней конкурирует XOne.\n",
    "В Японии преобладает 3DS - 48%, тут пользователей PS4 в два раза меньше - 16%. У PS4 продажи в других странах достигают 60% а вот доля XOne всего 17%"
   ]
  },
  {
   "cell_type": "markdown",
   "metadata": {},
   "source": [
    "**Самые популярные жанры (топ-5). Поясните разницу.**"
   ]
  },
  {
   "cell_type": "code",
   "execution_count": 48,
   "metadata": {},
   "outputs": [
    {
     "data": {
      "text/plain": [
       "Text(0.5, 1.0, 'Жанры топ-5 в Северной Америке')"
      ]
     },
     "execution_count": 48,
     "metadata": {},
     "output_type": "execute_result"
    },
    {
     "data": {
      "image/png": "[encoded data removed]",
      "text/plain": [
       "<Figure size 432x432 with 1 Axes>"
      ]
     },
     "metadata": {},
     "output_type": "display_data"
    }
   ],
   "source": [
    "#в Северной Америке\n",
    "na_g = (data.query('year_of_release >= 2014')\n",
    "       .pivot_table(index='genre', values='na_sales', aggfunc='sum')\n",
    "       .sort_values(by='na_sales', ascending=False).head(5)\n",
    "      )\n",
    "\n",
    "na_g.groupby(['genre']).sum().plot(kind='pie', \n",
    "                                   y='na_sales', autopct='%1.0f%%', figsize=(6,6))\n",
    "\n",
    "plt.title('Жанры топ-5 в Северной Америке')"
   ]
  },
  {
   "cell_type": "markdown",
   "metadata": {},
   "source": [
    "Самые популярные жанры (топ-5) в Северной Америке: Shooter, Action, Sports, Role-Playing, Misc.\n",
    " Большая доля приходится на жанры шутер и экшен 32 и 29 процентов"
   ]
  },
  {
   "cell_type": "code",
   "execution_count": 49,
   "metadata": {},
   "outputs": [
    {
     "data": {
      "text/plain": [
       "Text(0.5, 1.0, 'Жанры топ-5 в Европе')"
      ]
     },
     "execution_count": 49,
     "metadata": {},
     "output_type": "execute_result"
    },
    {
     "data": {
      "image/png": "[encoded data removed]",
      "text/plain": [
       "<Figure size 432x432 with 1 Axes>"
      ]
     },
     "metadata": {},
     "output_type": "display_data"
    }
   ],
   "source": [
    "#в Европе \n",
    "eu_g = (data\n",
    "        .query('year_of_release >= 2014')\n",
    "       .pivot_table(index='genre', values='eu_sales', aggfunc='sum')\n",
    "       .sort_values(by='eu_sales', ascending=False).head(5)\n",
    "      )\n",
    "\n",
    "eu_g.groupby(['genre']).sum().plot(kind='pie', y='eu_sales',\n",
    "                                   autopct='%1.0f%%', figsize=(6,6))\n",
    "\n",
    "plt.title('Жанры топ-5 в Европе')"
   ]
  },
  {
   "cell_type": "markdown",
   "metadata": {},
   "source": [
    "Самые популярные жанры (топ-5) в Европе: Action, Shooter, Sports, Role-Playing, Racing.\n",
    "Популярностью пользуются жанры экшен и шутер"
   ]
  },
  {
   "cell_type": "code",
   "execution_count": 50,
   "metadata": {
    "scrolled": false
   },
   "outputs": [
    {
     "data": {
      "text/plain": [
       "Text(0.5, 1.0, 'Жанры топ-5 в Японии')"
      ]
     },
     "execution_count": 50,
     "metadata": {},
     "output_type": "execute_result"
    },
    {
     "data": {
      "image/png": "[encoded data removed]",
      "text/plain": [
       "<Figure size 432x432 with 1 Axes>"
      ]
     },
     "metadata": {},
     "output_type": "display_data"
    }
   ],
   "source": [
    "#в Японии\n",
    "jp_g = (data.query('year_of_release >= 2014')\n",
    "       .pivot_table(index='genre', values='jp_sales', aggfunc='sum')\n",
    "       .sort_values(by='jp_sales', ascending=False).head(5)\n",
    "      )\n",
    "\n",
    "jp_g.groupby(['genre']).sum().plot(kind='pie', y='jp_sales', \n",
    "                                   autopct='%1.0f%%', figsize=(6,6))\n",
    "\n",
    "plt.title('Жанры топ-5 в Японии')"
   ]
  },
  {
   "cell_type": "markdown",
   "metadata": {},
   "source": [
    "Самые популярные жанры (топ-5) в Японии: Role-Playing, Action, Fighting, Misc, Shooter. Наиболее популярные жанры Role-Playing, Action."
   ]
  },
  {
   "cell_type": "code",
   "execution_count": 51,
   "metadata": {},
   "outputs": [
    {
     "data": {
      "text/plain": [
       "Text(0.5, 1.0, 'Жанры топ-5 в других странах')"
      ]
     },
     "execution_count": 51,
     "metadata": {},
     "output_type": "execute_result"
    },
    {
     "data": {
      "image/png": "[encoded data removed]",
      "text/plain": [
       "<Figure size 432x432 with 1 Axes>"
      ]
     },
     "metadata": {},
     "output_type": "display_data"
    }
   ],
   "source": [
    "#в других странах\n",
    "os_g = (data.query('year_of_release >= 2014')\n",
    "       .pivot_table(index='genre', values='other_sales', aggfunc='sum')\n",
    "       .sort_values(by='other_sales', ascending=False).head(5)\n",
    "      )\n",
    "\n",
    "os_g.groupby(['genre']).sum().plot(kind='pie', y='other_sales', \n",
    "                                   autopct='%1.0f%%', figsize=(6,6))\n",
    "\n",
    "plt.title('Жанры топ-5 в других странах')"
   ]
  },
  {
   "cell_type": "markdown",
   "metadata": {},
   "source": [
    "По продажам в других странах лидируют жанры: экшен, шутер, спорт, ролевая игра и misc. Лидируют два жанра экшем и шутер"
   ]
  },
  {
   "cell_type": "markdown",
   "metadata": {},
   "source": [
    "В Северной Америке и в Европе у игроков схожие жанровые предпочтения. Популярные жанры в рейтинге Японии отличаются от Америки и Европы. Если жанр Shooter в других случаях занимает лидирующие позиции, то в Японии он занимает 5-е место в топе.\n",
    "Жанр Экшен популярен во всех регионах\n"
   ]
  },
  {
   "cell_type": "markdown",
   "metadata": {},
   "source": [
    "**Влияет ли рейтинг ESRB на продажи в отдельном регионе?**"
   ]
  },
  {
   "cell_type": "code",
   "execution_count": 52,
   "metadata": {
    "scrolled": false
   },
   "outputs": [
    {
     "data": {
      "text/plain": [
       "Text(0.5, 1.0, 'График влияния ESRB на продажи в Северной Америке')"
      ]
     },
     "execution_count": 52,
     "metadata": {},
     "output_type": "execute_result"
    },
    {
     "data": {
      "image/png": "[encoded data removed]",
      "text/plain": [
       "<Figure size 576x360 with 1 Axes>"
      ]
     },
     "metadata": {
      "needs_background": "light"
     },
     "output_type": "display_data"
    }
   ],
   "source": [
    "# в Северной Америке\n",
    "esrb_na = (data\n",
    "           .groupby('rating')['na_sales'].sum().sort_values(ascending=False)\n",
    "           .plot(x='rating', y='na_sales', kind='bar', figsize=(8,5), grid=True)\n",
    "          ) \n",
    "\n",
    "plt.title('График влияния ESRB на продажи в Северной Америке')"
   ]
  },
  {
   "cell_type": "markdown",
   "metadata": {},
   "source": [
    "В Северной Америке преобладает рейтинг \"М\", далее игры чей возрастной рейтинг не определен."
   ]
  },
  {
   "cell_type": "code",
   "execution_count": 53,
   "metadata": {},
   "outputs": [
    {
     "data": {
      "text/plain": [
       "Text(0.5, 1.0, 'График влияния ESRB на продажи в Японии')"
      ]
     },
     "execution_count": 53,
     "metadata": {},
     "output_type": "execute_result"
    },
    {
     "data": {
      "image/png": "[encoded data removed]",
      "text/plain": [
       "<Figure size 576x360 with 1 Axes>"
      ]
     },
     "metadata": {
      "needs_background": "light"
     },
     "output_type": "display_data"
    }
   ],
   "source": [
    "# в Японии\n",
    "esrb_jp = (data\n",
    "           .groupby('rating')['jp_sales'].sum().sort_values(ascending=False)\n",
    "           .plot(x='rating', y='jp_sales', kind='bar', figsize=(8,5), grid=True)\n",
    "          ) \n",
    "\n",
    "plt.title('График влияния ESRB на продажи в Японии')"
   ]
  },
  {
   "cell_type": "markdown",
   "metadata": {},
   "source": [
    "В Японии преобладают игры где не определена возрастная категория"
   ]
  },
  {
   "cell_type": "code",
   "execution_count": 54,
   "metadata": {},
   "outputs": [
    {
     "data": {
      "text/plain": [
       "Text(0.5, 1.0, 'График влияния ESRB на продажи в Европе')"
      ]
     },
     "execution_count": 54,
     "metadata": {},
     "output_type": "execute_result"
    },
    {
     "data": {
      "image/png": "[encoded data removed]",
      "text/plain": [
       "<Figure size 576x360 with 1 Axes>"
      ]
     },
     "metadata": {
      "needs_background": "light"
     },
     "output_type": "display_data"
    }
   ],
   "source": [
    "# в Европе\n",
    "esrb_eu = (data\n",
    "           .groupby('rating')['eu_sales'].sum().sort_values(ascending=False)\n",
    "           .plot(x='rating', y='eu_sales', kind='bar', figsize=(8,5), grid=True)\n",
    "          ) \n",
    "\n",
    "plt.title('График влияния ESRB на продажи в Европе')"
   ]
  },
  {
   "cell_type": "markdown",
   "metadata": {},
   "source": [
    "В Европе преобладают игры в возрастной категории \"М\""
   ]
  },
  {
   "cell_type": "code",
   "execution_count": 55,
   "metadata": {},
   "outputs": [
    {
     "data": {
      "text/plain": [
       "Text(0.5, 1.0, 'График влияния ESRB на продажи в других странах')"
      ]
     },
     "execution_count": 55,
     "metadata": {},
     "output_type": "execute_result"
    },
    {
     "data": {
      "image/png": "[encoded data removed]",
      "text/plain": [
       "<Figure size 576x360 with 1 Axes>"
      ]
     },
     "metadata": {
      "needs_background": "light"
     },
     "output_type": "display_data"
    }
   ],
   "source": [
    "esrb_os = (data\n",
    "           .groupby('rating')['other_sales'].sum().sort_values(ascending=False)\n",
    "           .plot(x='rating', y='other_sales', kind='bar', figsize=(8,5), grid=True)\n",
    "          ) \n",
    "\n",
    "plt.title('График влияния ESRB на продажи в других странах')"
   ]
  },
  {
   "cell_type": "markdown",
   "metadata": {},
   "source": [
    "Возрастная категория: Старше 17"
   ]
  },
  {
   "cell_type": "markdown",
   "metadata": {},
   "source": [
    "**Для Японии:**\n",
    "\n",
    " - Наиболее популярной платформой считается 3DS - которая занимает 48% рынка. \n",
    " - Так как в Японии не придерживаются рейтинга ESRB, то сдесь не определена возрастная категория, \n",
    " - Наиболее популярны жанры Role-Playing, Action.\n"
   ]
  },
  {
   "cell_type": "markdown",
   "metadata": {},
   "source": [
    "**Для Европы:**\n",
    "\n",
    " - Платформа PS4 занимает 55% рынка\n",
    " - Жанры экшен и шутер- 33% и 29%\n",
    " - Возрастная категория: Старше 17 "
   ]
  },
  {
   "cell_type": "markdown",
   "metadata": {},
   "source": [
    "**Для Северной Америки:**\n",
    "\n",
    " - Платформы: PS4 и XOne\n",
    " - Наиболее популярны жанры: Экшен и шутер\n",
    " - Возрастная категория: Старше 17"
   ]
  },
  {
   "cell_type": "markdown",
   "metadata": {},
   "source": [
    "### Проверьте гипотезы"
   ]
  },
  {
   "cell_type": "markdown",
   "metadata": {},
   "source": [
    "**Средние пользовательские рейтинги платформ Xbox One и PC одинаковые;**"
   ]
  },
  {
   "cell_type": "markdown",
   "metadata": {},
   "source": [
    "Проверка гипотезы: \"Средние пользовательские рейтинги платформ Xbox One и PC одинаковые\":\n",
    "- Нулевая гипотеза H0: Средние пользовательские рейтинги платформ Xbox One и PC одинаковые\n",
    "- Альтернативная гипотеза H1: Средние пользовательские рейтинги платформ Xbox One и PC разные"
   ]
  },
  {
   "cell_type": "code",
   "execution_count": 56,
   "metadata": {},
   "outputs": [],
   "source": [
    "xbox_data = data.query('(platform == \"XOne\") and (user_score > 0)')['user_score']\n",
    "pc_data = data.query('(platform == \"PC\") and (user_score > 0)')['user_score']"
   ]
  },
  {
   "cell_type": "code",
   "execution_count": 58,
   "metadata": {},
   "outputs": [
    {
     "data": {
      "text/plain": [
       "(165      7.9\n",
       " 179      5.4\n",
       " 242      6.4\n",
       " 270      6.2\n",
       " 373      4.1\n",
       "         ... \n",
       " 16544    6.8\n",
       " 16597    6.0\n",
       " 16630    8.2\n",
       " 16643    6.6\n",
       " 16660    6.7\n",
       " Name: user_score, Length: 165, dtype: float32,\n",
       " 458      3.9\n",
       " 1530     5.4\n",
       " 1730     7.9\n",
       " 2303     5.7\n",
       " 2784     5.9\n",
       "         ... \n",
       " 16456    8.3\n",
       " 16463    6.8\n",
       " 16509    7.9\n",
       " 16518    1.4\n",
       " 16692    7.6\n",
       " Name: user_score, Length: 122, dtype: float32)"
      ]
     },
     "execution_count": 58,
     "metadata": {},
     "output_type": "execute_result"
    }
   ],
   "source": [
    "# Комментарий ревьюера 3\n",
    "xbox_data, pc_data"
   ]
  },
  {
   "cell_type": "code",
   "execution_count": 59,
   "metadata": {},
   "outputs": [
    {
     "data": {
      "text/plain": [
       "(1.6, 1.4)"
      ]
     },
     "execution_count": 59,
     "metadata": {},
     "output_type": "execute_result"
    }
   ],
   "source": [
    "# Комментарий ревьюера 2\n",
    "xbox_data.min(), pc_data.min()"
   ]
  },
  {
   "cell_type": "code",
   "execution_count": 60,
   "metadata": {},
   "outputs": [
    {
     "data": {
      "text/plain": [
       "6.5945444"
      ]
     },
     "execution_count": 60,
     "metadata": {},
     "output_type": "execute_result"
    }
   ],
   "source": [
    "xbox_data.mean()"
   ]
  },
  {
   "cell_type": "code",
   "execution_count": 61,
   "metadata": {},
   "outputs": [
    {
     "data": {
      "text/plain": [
       "6.298361"
      ]
     },
     "execution_count": 61,
     "metadata": {},
     "output_type": "execute_result"
    }
   ],
   "source": [
    "pc_data.mean()"
   ]
  },
  {
   "cell_type": "code",
   "execution_count": 62,
   "metadata": {},
   "outputs": [
    {
     "name": "stdout",
     "output_type": "stream",
     "text": [
      "p-значение: 0.11601545900050317\n",
      "Не получилось отвергнуть нулевую гипотезу\n"
     ]
    }
   ],
   "source": [
    "# уровень стат. значимости\n",
    "alpha = 0.01\n",
    "\n",
    "results = st.ttest_ind(xbox_data, pc_data, equal_var=False)\n",
    "print('p-значение:', results.pvalue)\n",
    "\n",
    "\n",
    "# сравнение p-значение с alpha\n",
    "if results.pvalue < alpha:   \n",
    "    print('Отвергаем нулевую гипотезу')    \n",
    "else:\n",
    "    print('Не получилось отвергнуть нулевую гипотезу')"
   ]
  },
  {
   "cell_type": "markdown",
   "metadata": {},
   "source": [
    "Подтвердили нулевую гипотезу H0: Средние пользовательские рейтинги платформ Xbox One и PC одинаковые"
   ]
  },
  {
   "cell_type": "markdown",
   "metadata": {},
   "source": [
    "**Средние пользовательские рейтинги жанров Action (англ. «действие», экшен-игры) и Sports (англ. «спортивные соревнования») разные.**"
   ]
  },
  {
   "cell_type": "markdown",
   "metadata": {},
   "source": [
    "Проверка гипотезы: \"Средние пользовательские рейтинги жанров Action (англ. «действие», экшен-игры) и Sports (англ. «спортивные соревнования») разные\"\n",
    "- Нулевая гипотеза H0: Средние пользовательские рейтинги жанров Action и Sports одинаковые.\n",
    "- Альтернативная гипотеза H1: Средние пользовательские рейтинги жанров Action и Sports разные."
   ]
  },
  {
   "cell_type": "code",
   "execution_count": 63,
   "metadata": {},
   "outputs": [],
   "source": [
    "action_data = data.query('(genre == \"Action\") and (user_score > 0)')['user_score']\n",
    "\n",
    "sports = data.query('(genre == \"Sports\") and (user_score > 0)')['user_score']"
   ]
  },
  {
   "cell_type": "code",
   "execution_count": 65,
   "metadata": {},
   "outputs": [
    {
     "data": {
      "text/plain": [
       "(42       8.3\n",
       " 165      7.9\n",
       " 231      8.1\n",
       " 295      6.3\n",
       " 304      4.9\n",
       "         ... \n",
       " 16544    6.8\n",
       " 16597    6.0\n",
       " 16652    8.5\n",
       " 16660    6.7\n",
       " 16692    7.6\n",
       " Name: user_score, Length: 297, dtype: float32,\n",
       " 77       4.3\n",
       " 94       5.0\n",
       " 143      5.7\n",
       " 264      4.5\n",
       " 314      6.7\n",
       "         ... \n",
       " 16120    6.3\n",
       " 16142    8.8\n",
       " 16146    6.9\n",
       " 16518    1.4\n",
       " 16643    6.6\n",
       " Name: user_score, Length: 127, dtype: float32)"
      ]
     },
     "execution_count": 65,
     "metadata": {},
     "output_type": "execute_result"
    }
   ],
   "source": [
    "# Комментарий ревьюера 3\n",
    "action_data, sports"
   ]
  },
  {
   "cell_type": "code",
   "execution_count": 66,
   "metadata": {},
   "outputs": [
    {
     "data": {
      "text/plain": [
       "6.760606"
      ]
     },
     "execution_count": 66,
     "metadata": {},
     "output_type": "execute_result"
    }
   ],
   "source": [
    "action_data.mean()"
   ]
  },
  {
   "cell_type": "code",
   "execution_count": 67,
   "metadata": {},
   "outputs": [
    {
     "data": {
      "text/plain": [
       "5.225197"
      ]
     },
     "execution_count": 67,
     "metadata": {},
     "output_type": "execute_result"
    }
   ],
   "source": [
    "sports.mean()"
   ]
  },
  {
   "cell_type": "code",
   "execution_count": 68,
   "metadata": {},
   "outputs": [
    {
     "name": "stdout",
     "output_type": "stream",
     "text": [
      "p-значение: 1.1825638224397033e-14\n",
      "Отвергаем нулевую гипотезу\n"
     ]
    }
   ],
   "source": [
    "# уровень стат. значимости\n",
    "alpha = 0.01\n",
    "\n",
    "results = st.ttest_ind(action_data, sports, equal_var=False)\n",
    "print('p-значение:', results.pvalue)\n",
    "\n",
    "\n",
    "# сравнение p-значение с alpha\n",
    "if results.pvalue < alpha: \n",
    "    print('Отвергаем нулевую гипотезу')   \n",
    "else:\n",
    "    print('Не получилось отвергнуть нулевую гипотезу')"
   ]
  },
  {
   "cell_type": "markdown",
   "metadata": {},
   "source": [
    "Подтвердили альтернативную гипотезу H1: Средние пользовательские рейтинги жанров Action и Sports разные"
   ]
  },
  {
   "cell_type": "markdown",
   "metadata": {},
   "source": [
    "Для проверки гипотезы воспользовались методом: scipy.stats.ttest_1samp(). Так как в обоих случаях мы проверили двустороннюю гипотезу о равенстве двух совокупностей.\n",
    "В таком слуячае Н0: они равны, Н1: различаются. Различия могут быть как большую так и в меньшу сторону."
   ]
  },
  {
   "cell_type": "markdown",
   "metadata": {},
   "source": [
    "###  Общий вывод"
   ]
  },
  {
   "cell_type": "markdown",
   "metadata": {},
   "source": [
    "В процессе работы были выполнены следующие шаги:\n",
    "- Данные преобразованы в нужные типы, обработаны пропуски, заменены названия столбцов;\n",
    "- Выбраны платформы с наибольшими суммарными продажами, построены распределения по годам. Выбран актульный период (с 2014) для прогназа на 2017 год, рассмотрены платформы что лидируют по продажам, растут или падают. Изучено влияние на продажи внутри одной популярной платформы отзывы пользователей и критиков;\n",
    "- Составлен портрет пользователя для следующих регионов: NA, EU, JP.\n",
    "- Проверены две гипотезы: \n",
    "   - Средние пользовательские рейтинги платформ Xbox One и PC одинаковые;\n",
    "   - Средние пользовательские рейтинги жанров Action и Sports разные.\n"
   ]
  },
  {
   "cell_type": "markdown",
   "metadata": {},
   "source": [
    "**Вывод:**\n",
    " Есть три фактора - это платформа, жанр, возрастноя категрия."
   ]
  },
  {
   "cell_type": "markdown",
   "metadata": {},
   "source": [
    "Для Европы:\n",
    " - Платформа PS4 занимает 55% рынка\n",
    " - Жанры экшен и шутер- 33% и 29%\n",
    " - Возрастная категория: Старше 17 "
   ]
  },
  {
   "cell_type": "markdown",
   "metadata": {},
   "source": [
    "Для Японии:\n",
    " - Наиболее популярной платформой считается 3DS - которая занимает 48% рынка. \n",
    " - Так как в Японии не придерживаются рейтинга ESRB, то сдесь не определена возрастная категория, \n",
    " - Наиболее популярны жанры Role-Playing, Action."
   ]
  },
  {
   "cell_type": "markdown",
   "metadata": {},
   "source": [
    "Для Северной Америки:\n",
    " - Платформы: PS4 и XOne\n",
    " - Наиболее популярны жанры: Экшен и шутер\n",
    " - Возрастная категория: Старше 17"
   ]
  },
  {
   "cell_type": "markdown",
   "metadata": {},
   "source": [
    "Для других регионов:\n",
    "\n",
    "- Платформы: PS4 - 60%\n",
    "- Наиболее популярны жанры: Экшен и шутер\n",
    "- Возрастная категория: Старше 17"
   ]
  },
  {
   "cell_type": "markdown",
   "metadata": {},
   "source": [
    "**Кампания на 2017 год:**\n",
    "- Возрастная категория: Старше 17;\n",
    "- Игры для платформ: PS4, XOne, 3DS;\n",
    "- Игры в жанре: экшен, шутер, ролевые и спорт."
   ]
  }
 ],
 "metadata": {
  "ExecuteTimeLog": [
   {
    "duration": 438,
    "start_time": "2023-03-13T18:00:10.880Z"
   },
   {
    "duration": 81,
    "start_time": "2023-03-13T18:00:45.816Z"
   },
   {
    "duration": 2,
    "start_time": "2023-03-13T18:01:16.490Z"
   },
   {
    "duration": 270,
    "start_time": "2023-03-13T18:01:16.908Z"
   },
   {
    "duration": 94,
    "start_time": "2023-03-13T18:01:25.934Z"
   },
   {
    "duration": 70,
    "start_time": "2023-03-13T18:02:56.096Z"
   },
   {
    "duration": 60,
    "start_time": "2023-03-13T18:03:01.114Z"
   },
   {
    "duration": 15,
    "start_time": "2023-03-13T18:03:03.698Z"
   },
   {
    "duration": 22,
    "start_time": "2023-03-13T18:03:11.020Z"
   },
   {
    "duration": 10,
    "start_time": "2023-03-13T18:03:55.472Z"
   },
   {
    "duration": 21,
    "start_time": "2023-03-13T18:04:23.475Z"
   },
   {
    "duration": 11,
    "start_time": "2023-03-13T18:13:31.764Z"
   },
   {
    "duration": 4,
    "start_time": "2023-03-13T18:14:21.997Z"
   },
   {
    "duration": 8,
    "start_time": "2023-03-13T18:14:36.037Z"
   },
   {
    "duration": 6,
    "start_time": "2023-03-13T18:14:48.605Z"
   },
   {
    "duration": 8,
    "start_time": "2023-03-13T18:15:01.497Z"
   },
   {
    "duration": 4,
    "start_time": "2023-03-13T18:15:52.210Z"
   },
   {
    "duration": 7,
    "start_time": "2023-03-13T18:15:55.316Z"
   },
   {
    "duration": 7,
    "start_time": "2023-03-13T18:16:02.228Z"
   },
   {
    "duration": 7,
    "start_time": "2023-03-13T18:16:11.279Z"
   },
   {
    "duration": 5,
    "start_time": "2023-03-13T18:17:22.301Z"
   },
   {
    "duration": 4,
    "start_time": "2023-03-13T18:17:34.414Z"
   },
   {
    "duration": 5,
    "start_time": "2023-03-13T18:17:38.509Z"
   },
   {
    "duration": 9,
    "start_time": "2023-03-13T18:24:03.786Z"
   },
   {
    "duration": 8,
    "start_time": "2023-03-13T18:24:12.080Z"
   },
   {
    "duration": 8,
    "start_time": "2023-03-13T18:24:19.612Z"
   },
   {
    "duration": 8,
    "start_time": "2023-03-13T18:24:33.794Z"
   },
   {
    "duration": 10,
    "start_time": "2023-03-13T18:27:34.231Z"
   },
   {
    "duration": 5,
    "start_time": "2023-03-13T18:27:57.293Z"
   },
   {
    "duration": 5,
    "start_time": "2023-03-13T18:27:58.995Z"
   },
   {
    "duration": 2,
    "start_time": "2023-03-13T18:28:01.712Z"
   },
   {
    "duration": 47,
    "start_time": "2023-03-13T18:28:02.093Z"
   },
   {
    "duration": 13,
    "start_time": "2023-03-13T18:28:02.584Z"
   },
   {
    "duration": 16,
    "start_time": "2023-03-13T18:28:02.992Z"
   },
   {
    "duration": 10,
    "start_time": "2023-03-13T18:28:03.613Z"
   },
   {
    "duration": 879,
    "start_time": "2023-03-13T18:28:40.896Z"
   },
   {
    "duration": 2,
    "start_time": "2023-03-13T18:28:51.876Z"
   },
   {
    "duration": 50,
    "start_time": "2023-03-13T18:28:52.171Z"
   },
   {
    "duration": 16,
    "start_time": "2023-03-13T18:28:52.393Z"
   },
   {
    "duration": 13,
    "start_time": "2023-03-13T18:28:52.596Z"
   },
   {
    "duration": 10,
    "start_time": "2023-03-13T18:28:52.800Z"
   },
   {
    "duration": 23,
    "start_time": "2023-03-13T18:28:53.051Z"
   },
   {
    "duration": 9,
    "start_time": "2023-03-13T18:28:53.876Z"
   },
   {
    "duration": 888,
    "start_time": "2023-03-13T18:28:54.199Z"
   },
   {
    "duration": 8,
    "start_time": "2023-03-13T18:28:59.599Z"
   },
   {
    "duration": 1005,
    "start_time": "2023-03-13T18:29:00.345Z"
   },
   {
    "duration": 8,
    "start_time": "2023-03-13T18:29:24.295Z"
   },
   {
    "duration": 6,
    "start_time": "2023-03-13T18:29:41.351Z"
   },
   {
    "duration": 69,
    "start_time": "2023-03-13T18:29:41.745Z"
   },
   {
    "duration": 14,
    "start_time": "2023-03-13T18:29:42.022Z"
   },
   {
    "duration": 14,
    "start_time": "2023-03-13T18:29:42.519Z"
   },
   {
    "duration": 10,
    "start_time": "2023-03-13T18:29:42.997Z"
   },
   {
    "duration": 21,
    "start_time": "2023-03-13T18:29:43.441Z"
   },
   {
    "duration": 8,
    "start_time": "2023-03-13T18:29:44.720Z"
   },
   {
    "duration": 3,
    "start_time": "2023-03-13T18:30:23.100Z"
   },
   {
    "duration": 59,
    "start_time": "2023-03-13T18:30:23.520Z"
   },
   {
    "duration": 14,
    "start_time": "2023-03-13T18:30:23.808Z"
   },
   {
    "duration": 22,
    "start_time": "2023-03-13T18:30:24.198Z"
   },
   {
    "duration": 10,
    "start_time": "2023-03-13T18:30:24.703Z"
   },
   {
    "duration": 29,
    "start_time": "2023-03-13T18:30:25.148Z"
   },
   {
    "duration": 15,
    "start_time": "2023-03-13T18:30:26.405Z"
   },
   {
    "duration": 8,
    "start_time": "2023-03-13T18:30:32.693Z"
   },
   {
    "duration": 17,
    "start_time": "2023-03-13T18:30:36.348Z"
   },
   {
    "duration": 8,
    "start_time": "2023-03-13T18:30:40.894Z"
   },
   {
    "duration": 12,
    "start_time": "2023-03-13T18:30:51.998Z"
   },
   {
    "duration": 9,
    "start_time": "2023-03-13T18:30:59.126Z"
   },
   {
    "duration": 3,
    "start_time": "2023-03-13T18:32:20.539Z"
   },
   {
    "duration": 68,
    "start_time": "2023-03-13T18:32:20.948Z"
   },
   {
    "duration": 14,
    "start_time": "2023-03-13T18:32:21.311Z"
   },
   {
    "duration": 14,
    "start_time": "2023-03-13T18:32:21.684Z"
   },
   {
    "duration": 10,
    "start_time": "2023-03-13T18:32:22.085Z"
   },
   {
    "duration": 28,
    "start_time": "2023-03-13T18:32:22.652Z"
   },
   {
    "duration": 9,
    "start_time": "2023-03-13T18:32:43.297Z"
   },
   {
    "duration": 8,
    "start_time": "2023-03-13T18:32:52.021Z"
   },
   {
    "duration": 8,
    "start_time": "2023-03-13T18:33:07.712Z"
   },
   {
    "duration": 4,
    "start_time": "2023-03-13T18:35:00.635Z"
   },
   {
    "duration": 24,
    "start_time": "2023-03-13T18:35:05.212Z"
   },
   {
    "duration": 4,
    "start_time": "2023-03-13T18:35:17.736Z"
   },
   {
    "duration": 23,
    "start_time": "2023-03-13T18:35:31.456Z"
   },
   {
    "duration": 5,
    "start_time": "2023-03-13T18:36:43.742Z"
   },
   {
    "duration": 12,
    "start_time": "2023-03-13T18:38:34.010Z"
   },
   {
    "duration": 12,
    "start_time": "2023-03-13T18:38:47.598Z"
   },
   {
    "duration": 17,
    "start_time": "2023-03-13T18:39:03.673Z"
   },
   {
    "duration": 15,
    "start_time": "2023-03-13T18:46:36.036Z"
   },
   {
    "duration": 4,
    "start_time": "2023-03-13T18:46:48.198Z"
   },
   {
    "duration": 18,
    "start_time": "2023-03-13T18:55:06.953Z"
   },
   {
    "duration": 3,
    "start_time": "2023-03-13T18:59:35.504Z"
   },
   {
    "duration": 5,
    "start_time": "2023-03-13T19:00:33.499Z"
   },
   {
    "duration": 8,
    "start_time": "2023-03-13T19:00:41.025Z"
   },
   {
    "duration": 6,
    "start_time": "2023-03-13T19:05:44.628Z"
   },
   {
    "duration": 11,
    "start_time": "2023-03-13T19:05:58.452Z"
   },
   {
    "duration": 10,
    "start_time": "2023-03-13T19:09:27.842Z"
   },
   {
    "duration": 8,
    "start_time": "2023-03-13T19:09:44.725Z"
   },
   {
    "duration": 5,
    "start_time": "2023-03-13T19:11:18.604Z"
   },
   {
    "duration": 5,
    "start_time": "2023-03-13T19:11:20.915Z"
   },
   {
    "duration": 6,
    "start_time": "2023-03-13T19:11:24.001Z"
   },
   {
    "duration": 6,
    "start_time": "2023-03-13T19:11:24.306Z"
   },
   {
    "duration": 6,
    "start_time": "2023-03-13T19:11:28.509Z"
   },
   {
    "duration": 3,
    "start_time": "2023-03-13T19:11:33.517Z"
   },
   {
    "duration": 58,
    "start_time": "2023-03-13T19:11:33.995Z"
   },
   {
    "duration": 22,
    "start_time": "2023-03-13T19:11:34.216Z"
   },
   {
    "duration": 17,
    "start_time": "2023-03-13T19:11:34.433Z"
   },
   {
    "duration": 10,
    "start_time": "2023-03-13T19:11:34.618Z"
   },
   {
    "duration": 18,
    "start_time": "2023-03-13T19:11:34.893Z"
   },
   {
    "duration": 5,
    "start_time": "2023-03-13T19:11:35.895Z"
   },
   {
    "duration": 930,
    "start_time": "2023-03-13T19:11:36.181Z"
   },
   {
    "duration": 971,
    "start_time": "2023-03-13T19:11:51.152Z"
   },
   {
    "duration": 0,
    "start_time": "2023-03-13T19:11:52.126Z"
   },
   {
    "duration": 892,
    "start_time": "2023-03-13T19:12:07.529Z"
   },
   {
    "duration": 5,
    "start_time": "2023-03-13T19:12:13.654Z"
   },
   {
    "duration": 62,
    "start_time": "2023-03-13T19:12:13.949Z"
   },
   {
    "duration": 14,
    "start_time": "2023-03-13T19:12:14.195Z"
   },
   {
    "duration": 18,
    "start_time": "2023-03-13T19:12:14.444Z"
   },
   {
    "duration": 9,
    "start_time": "2023-03-13T19:12:14.838Z"
   },
   {
    "duration": 24,
    "start_time": "2023-03-13T19:12:15.139Z"
   },
   {
    "duration": 4,
    "start_time": "2023-03-13T19:12:16.223Z"
   },
   {
    "duration": 831,
    "start_time": "2023-03-13T19:12:16.701Z"
   },
   {
    "duration": 0,
    "start_time": "2023-03-13T19:12:17.534Z"
   },
   {
    "duration": 1107,
    "start_time": "2023-03-13T19:12:20.397Z"
   },
   {
    "duration": 861,
    "start_time": "2023-03-13T19:12:22.191Z"
   },
   {
    "duration": 5,
    "start_time": "2023-03-13T19:12:36.623Z"
   },
   {
    "duration": 3,
    "start_time": "2023-03-13T19:13:16.522Z"
   },
   {
    "duration": 57,
    "start_time": "2023-03-13T19:13:16.813Z"
   },
   {
    "duration": 15,
    "start_time": "2023-03-13T19:13:17.095Z"
   },
   {
    "duration": 15,
    "start_time": "2023-03-13T19:13:17.336Z"
   },
   {
    "duration": 10,
    "start_time": "2023-03-13T19:13:17.612Z"
   },
   {
    "duration": 21,
    "start_time": "2023-03-13T19:13:17.849Z"
   },
   {
    "duration": 4,
    "start_time": "2023-03-13T19:13:18.727Z"
   },
   {
    "duration": 1074,
    "start_time": "2023-03-13T19:13:19.026Z"
   },
   {
    "duration": 0,
    "start_time": "2023-03-13T19:13:20.102Z"
   },
   {
    "duration": 885,
    "start_time": "2023-03-13T19:13:26.832Z"
   },
   {
    "duration": 5,
    "start_time": "2023-03-13T19:13:35.345Z"
   },
   {
    "duration": 4,
    "start_time": "2023-03-13T19:13:43.281Z"
   },
   {
    "duration": 9,
    "start_time": "2023-03-13T19:13:46.026Z"
   },
   {
    "duration": 12,
    "start_time": "2023-03-13T19:13:46.738Z"
   },
   {
    "duration": 7,
    "start_time": "2023-03-13T19:13:54.829Z"
   },
   {
    "duration": 7,
    "start_time": "2023-03-13T19:14:02.196Z"
   },
   {
    "duration": 9,
    "start_time": "2023-03-13T19:14:05.701Z"
   },
   {
    "duration": 10,
    "start_time": "2023-03-13T19:14:30.209Z"
   },
   {
    "duration": 9,
    "start_time": "2023-03-13T19:14:30.910Z"
   },
   {
    "duration": 12,
    "start_time": "2023-03-13T19:14:31.414Z"
   },
   {
    "duration": 3,
    "start_time": "2023-03-13T19:14:43.794Z"
   },
   {
    "duration": 54,
    "start_time": "2023-03-13T19:14:43.997Z"
   },
   {
    "duration": 17,
    "start_time": "2023-03-13T19:14:44.225Z"
   },
   {
    "duration": 21,
    "start_time": "2023-03-13T19:14:44.435Z"
   },
   {
    "duration": 14,
    "start_time": "2023-03-13T19:14:44.699Z"
   },
   {
    "duration": 16,
    "start_time": "2023-03-13T19:14:44.923Z"
   },
   {
    "duration": 5,
    "start_time": "2023-03-13T19:14:45.635Z"
   },
   {
    "duration": 5,
    "start_time": "2023-03-13T19:14:45.894Z"
   },
   {
    "duration": 10,
    "start_time": "2023-03-13T19:14:46.127Z"
   },
   {
    "duration": 4,
    "start_time": "2023-03-13T19:15:06.400Z"
   },
   {
    "duration": 9,
    "start_time": "2023-03-13T19:15:13.436Z"
   },
   {
    "duration": 8,
    "start_time": "2023-03-13T19:15:18.625Z"
   },
   {
    "duration": 9,
    "start_time": "2023-03-13T19:15:24.842Z"
   },
   {
    "duration": 4,
    "start_time": "2023-03-13T19:17:07.695Z"
   },
   {
    "duration": 8,
    "start_time": "2023-03-13T19:20:55.991Z"
   },
   {
    "duration": 6,
    "start_time": "2023-03-13T19:21:10.633Z"
   },
   {
    "duration": 9,
    "start_time": "2023-03-13T19:22:53.052Z"
   },
   {
    "duration": 11,
    "start_time": "2023-03-13T19:23:03.897Z"
   },
   {
    "duration": 4,
    "start_time": "2023-03-13T19:23:28.400Z"
   },
   {
    "duration": 4,
    "start_time": "2023-03-13T19:23:38.581Z"
   },
   {
    "duration": 7,
    "start_time": "2023-03-13T19:24:07.296Z"
   },
   {
    "duration": 4,
    "start_time": "2023-03-13T19:24:20.599Z"
   },
   {
    "duration": 6,
    "start_time": "2023-03-13T19:28:41.204Z"
   },
   {
    "duration": 4,
    "start_time": "2023-03-13T19:28:55.100Z"
   },
   {
    "duration": 4,
    "start_time": "2023-03-13T19:29:07.211Z"
   },
   {
    "duration": 7,
    "start_time": "2023-03-13T19:29:11.278Z"
   },
   {
    "duration": 5,
    "start_time": "2023-03-13T19:31:12.298Z"
   },
   {
    "duration": 4,
    "start_time": "2023-03-13T19:31:13.621Z"
   },
   {
    "duration": 6,
    "start_time": "2023-03-13T19:31:14.648Z"
   },
   {
    "duration": 5,
    "start_time": "2023-03-13T19:37:13.695Z"
   },
   {
    "duration": 7,
    "start_time": "2023-03-13T19:37:20.993Z"
   },
   {
    "duration": 16,
    "start_time": "2023-03-13T19:39:54.516Z"
   },
   {
    "duration": 11,
    "start_time": "2023-03-13T19:40:10.148Z"
   },
   {
    "duration": 14,
    "start_time": "2023-03-13T19:40:32.892Z"
   },
   {
    "duration": 5,
    "start_time": "2023-03-13T19:40:55.492Z"
   },
   {
    "duration": 5,
    "start_time": "2023-03-13T19:40:56.094Z"
   },
   {
    "duration": 19,
    "start_time": "2023-03-13T19:40:57.054Z"
   },
   {
    "duration": 8,
    "start_time": "2023-03-13T19:41:07.219Z"
   },
   {
    "duration": 13,
    "start_time": "2023-03-13T19:41:08.482Z"
   },
   {
    "duration": 5,
    "start_time": "2023-03-13T19:41:12.897Z"
   },
   {
    "duration": 5,
    "start_time": "2023-03-13T19:41:13.595Z"
   },
   {
    "duration": 8,
    "start_time": "2023-03-13T19:41:13.996Z"
   },
   {
    "duration": 15,
    "start_time": "2023-03-13T19:41:14.767Z"
   },
   {
    "duration": 13,
    "start_time": "2023-03-13T19:41:15.682Z"
   },
   {
    "duration": 10,
    "start_time": "2023-03-13T19:42:24.728Z"
   },
   {
    "duration": 24,
    "start_time": "2023-03-13T19:42:43.571Z"
   },
   {
    "duration": 2,
    "start_time": "2023-03-13T19:43:26.853Z"
   },
   {
    "duration": 57,
    "start_time": "2023-03-13T19:43:27.116Z"
   },
   {
    "duration": 16,
    "start_time": "2023-03-13T19:43:27.383Z"
   },
   {
    "duration": 22,
    "start_time": "2023-03-13T19:43:27.651Z"
   },
   {
    "duration": 9,
    "start_time": "2023-03-13T19:43:27.982Z"
   },
   {
    "duration": 17,
    "start_time": "2023-03-13T19:43:28.290Z"
   },
   {
    "duration": 20,
    "start_time": "2023-03-13T19:43:29.051Z"
   },
   {
    "duration": 13,
    "start_time": "2023-03-13T19:43:29.335Z"
   },
   {
    "duration": 20,
    "start_time": "2023-03-13T19:43:29.650Z"
   },
   {
    "duration": 15,
    "start_time": "2023-03-13T19:43:30.947Z"
   },
   {
    "duration": 25,
    "start_time": "2023-03-13T19:43:31.769Z"
   },
   {
    "duration": 14,
    "start_time": "2023-03-13T19:43:36.900Z"
   },
   {
    "duration": 5,
    "start_time": "2023-03-13T19:43:39.304Z"
   },
   {
    "duration": 13,
    "start_time": "2023-03-13T19:43:39.836Z"
   },
   {
    "duration": 12,
    "start_time": "2023-03-13T19:43:59.832Z"
   },
   {
    "duration": 3,
    "start_time": "2023-03-13T19:44:03.998Z"
   },
   {
    "duration": 12,
    "start_time": "2023-03-13T19:44:12.735Z"
   },
   {
    "duration": 12,
    "start_time": "2023-03-13T19:44:27.985Z"
   },
   {
    "duration": 3,
    "start_time": "2023-03-13T19:45:04.133Z"
   },
   {
    "duration": 51,
    "start_time": "2023-03-13T19:45:04.574Z"
   },
   {
    "duration": 25,
    "start_time": "2023-03-13T19:45:04.948Z"
   },
   {
    "duration": 13,
    "start_time": "2023-03-13T19:45:05.696Z"
   },
   {
    "duration": 13,
    "start_time": "2023-03-13T19:45:06.695Z"
   },
   {
    "duration": 26,
    "start_time": "2023-03-13T19:45:07.548Z"
   },
   {
    "duration": 5,
    "start_time": "2023-03-13T19:45:09.008Z"
   },
   {
    "duration": 13,
    "start_time": "2023-03-13T19:45:09.499Z"
   },
   {
    "duration": 19,
    "start_time": "2023-03-13T19:45:10.144Z"
   },
   {
    "duration": 10,
    "start_time": "2023-03-13T19:45:10.916Z"
   },
   {
    "duration": 10,
    "start_time": "2023-03-13T19:45:12.227Z"
   },
   {
    "duration": 23,
    "start_time": "2023-03-13T19:45:13.195Z"
   },
   {
    "duration": 4,
    "start_time": "2023-03-13T19:45:24.894Z"
   },
   {
    "duration": 16,
    "start_time": "2023-03-13T19:46:16.773Z"
   },
   {
    "duration": 4,
    "start_time": "2023-03-13T19:46:22.321Z"
   },
   {
    "duration": 16,
    "start_time": "2023-03-13T19:46:31.142Z"
   },
   {
    "duration": 4,
    "start_time": "2023-03-13T19:47:41.068Z"
   },
   {
    "duration": 6,
    "start_time": "2023-03-13T19:48:21.423Z"
   },
   {
    "duration": 6,
    "start_time": "2023-03-13T19:48:42.500Z"
   },
   {
    "duration": 4,
    "start_time": "2023-03-13T19:48:43.288Z"
   },
   {
    "duration": 8,
    "start_time": "2023-03-13T19:49:10.893Z"
   },
   {
    "duration": 34,
    "start_time": "2023-03-13T19:49:50.236Z"
   },
   {
    "duration": 10,
    "start_time": "2023-03-13T19:49:51.220Z"
   },
   {
    "duration": 6,
    "start_time": "2023-03-13T19:49:57.621Z"
   },
   {
    "duration": 8,
    "start_time": "2023-03-13T19:49:58.300Z"
   },
   {
    "duration": 6,
    "start_time": "2023-03-13T19:53:54.712Z"
   },
   {
    "duration": 9,
    "start_time": "2023-03-13T19:54:31.194Z"
   },
   {
    "duration": 18,
    "start_time": "2023-03-13T19:54:34.291Z"
   },
   {
    "duration": 6,
    "start_time": "2023-03-13T19:54:45.612Z"
   },
   {
    "duration": 7,
    "start_time": "2023-03-13T19:59:07.923Z"
   },
   {
    "duration": 9,
    "start_time": "2023-03-13T19:59:08.742Z"
   },
   {
    "duration": 6,
    "start_time": "2023-03-13T20:02:15.775Z"
   },
   {
    "duration": 9,
    "start_time": "2023-03-13T20:02:17.232Z"
   },
   {
    "duration": 9,
    "start_time": "2023-03-13T20:02:49.393Z"
   },
   {
    "duration": 13,
    "start_time": "2023-03-13T20:03:04.624Z"
   },
   {
    "duration": 2,
    "start_time": "2023-03-13T20:04:22.116Z"
   },
   {
    "duration": 8,
    "start_time": "2023-03-13T20:04:23.139Z"
   },
   {
    "duration": 7,
    "start_time": "2023-03-13T20:04:29.707Z"
   },
   {
    "duration": 10,
    "start_time": "2023-03-13T20:04:30.227Z"
   },
   {
    "duration": 11,
    "start_time": "2023-03-13T20:04:39.475Z"
   },
   {
    "duration": 3,
    "start_time": "2023-03-13T20:05:00.097Z"
   },
   {
    "duration": 63,
    "start_time": "2023-03-13T20:05:00.726Z"
   },
   {
    "duration": 15,
    "start_time": "2023-03-13T20:05:01.081Z"
   },
   {
    "duration": 17,
    "start_time": "2023-03-13T20:05:01.410Z"
   },
   {
    "duration": 12,
    "start_time": "2023-03-13T20:05:01.694Z"
   },
   {
    "duration": 16,
    "start_time": "2023-03-13T20:05:01.893Z"
   },
   {
    "duration": 5,
    "start_time": "2023-03-13T20:05:02.421Z"
   },
   {
    "duration": 6,
    "start_time": "2023-03-13T20:05:02.611Z"
   },
   {
    "duration": 10,
    "start_time": "2023-03-13T20:05:02.790Z"
   },
   {
    "duration": 4,
    "start_time": "2023-03-13T20:05:03.033Z"
   },
   {
    "duration": 9,
    "start_time": "2023-03-13T20:05:03.293Z"
   },
   {
    "duration": 7,
    "start_time": "2023-03-13T20:05:03.939Z"
   },
   {
    "duration": 12,
    "start_time": "2023-03-13T20:05:04.291Z"
   },
   {
    "duration": 24,
    "start_time": "2023-03-13T20:05:05.489Z"
   },
   {
    "duration": 7,
    "start_time": "2023-03-13T20:06:15.096Z"
   },
   {
    "duration": 10,
    "start_time": "2023-03-13T20:06:15.633Z"
   },
   {
    "duration": 25,
    "start_time": "2023-03-13T20:06:18.808Z"
   },
   {
    "duration": 5,
    "start_time": "2023-03-13T20:07:17.992Z"
   },
   {
    "duration": 7,
    "start_time": "2023-03-13T20:07:27.024Z"
   },
   {
    "duration": 10,
    "start_time": "2023-03-13T20:07:28.232Z"
   },
   {
    "duration": 810,
    "start_time": "2023-03-13T20:12:31.993Z"
   },
   {
    "duration": 7,
    "start_time": "2023-03-13T20:12:44.992Z"
   },
   {
    "duration": 20,
    "start_time": "2023-03-13T20:13:02.924Z"
   },
   {
    "duration": 7,
    "start_time": "2023-03-13T20:13:20.792Z"
   },
   {
    "duration": 22,
    "start_time": "2023-03-13T20:13:21.293Z"
   },
   {
    "duration": 15,
    "start_time": "2023-03-13T20:14:17.912Z"
   },
   {
    "duration": 401,
    "start_time": "2023-03-14T06:07:57.339Z"
   },
   {
    "duration": 190,
    "start_time": "2023-03-14T06:07:57.771Z"
   },
   {
    "duration": 19,
    "start_time": "2023-03-14T06:07:58.219Z"
   },
   {
    "duration": 13,
    "start_time": "2023-03-14T06:07:58.950Z"
   },
   {
    "duration": 8,
    "start_time": "2023-03-14T06:07:59.499Z"
   },
   {
    "duration": 15,
    "start_time": "2023-03-14T06:08:00.059Z"
   },
   {
    "duration": 5,
    "start_time": "2023-03-14T06:08:01.456Z"
   },
   {
    "duration": 5,
    "start_time": "2023-03-14T06:08:02.146Z"
   },
   {
    "duration": 7,
    "start_time": "2023-03-14T06:08:02.645Z"
   },
   {
    "duration": 6,
    "start_time": "2023-03-14T06:08:03.265Z"
   },
   {
    "duration": 7,
    "start_time": "2023-03-14T06:08:03.796Z"
   },
   {
    "duration": 5,
    "start_time": "2023-03-14T06:08:04.330Z"
   },
   {
    "duration": 7,
    "start_time": "2023-03-14T06:08:04.781Z"
   },
   {
    "duration": 5,
    "start_time": "2023-03-14T06:08:05.426Z"
   },
   {
    "duration": 13,
    "start_time": "2023-03-14T06:08:06.125Z"
   },
   {
    "duration": 20,
    "start_time": "2023-03-14T06:15:16.520Z"
   },
   {
    "duration": 13,
    "start_time": "2023-03-14T06:15:25.410Z"
   },
   {
    "duration": 758,
    "start_time": "2023-03-14T06:16:00.530Z"
   },
   {
    "duration": 2,
    "start_time": "2023-03-14T06:25:21.869Z"
   },
   {
    "duration": 47,
    "start_time": "2023-03-14T06:25:22.253Z"
   },
   {
    "duration": 11,
    "start_time": "2023-03-14T06:25:22.766Z"
   },
   {
    "duration": 11,
    "start_time": "2023-03-14T06:25:23.174Z"
   },
   {
    "duration": 8,
    "start_time": "2023-03-14T06:25:23.770Z"
   },
   {
    "duration": 15,
    "start_time": "2023-03-14T06:25:24.217Z"
   },
   {
    "duration": 4,
    "start_time": "2023-03-14T06:25:33.100Z"
   },
   {
    "duration": 5,
    "start_time": "2023-03-14T06:25:33.600Z"
   },
   {
    "duration": 8,
    "start_time": "2023-03-14T06:25:33.936Z"
   },
   {
    "duration": 7,
    "start_time": "2023-03-14T06:25:34.222Z"
   },
   {
    "duration": 5,
    "start_time": "2023-03-14T06:25:34.453Z"
   },
   {
    "duration": 4,
    "start_time": "2023-03-14T06:25:35.172Z"
   },
   {
    "duration": 7,
    "start_time": "2023-03-14T06:25:35.462Z"
   },
   {
    "duration": 5,
    "start_time": "2023-03-14T06:25:35.953Z"
   },
   {
    "duration": 13,
    "start_time": "2023-03-14T06:25:37.177Z"
   },
   {
    "duration": 4,
    "start_time": "2023-03-14T06:35:48.201Z"
   },
   {
    "duration": 8,
    "start_time": "2023-03-14T06:35:49.318Z"
   },
   {
    "duration": 6,
    "start_time": "2023-03-14T06:35:49.745Z"
   },
   {
    "duration": 5,
    "start_time": "2023-03-14T06:35:50.101Z"
   },
   {
    "duration": 8,
    "start_time": "2023-03-14T06:35:50.548Z"
   },
   {
    "duration": 4,
    "start_time": "2023-03-14T06:35:50.950Z"
   },
   {
    "duration": 15,
    "start_time": "2023-03-14T06:35:52.509Z"
   },
   {
    "duration": 5,
    "start_time": "2023-03-14T06:40:13.376Z"
   },
   {
    "duration": 3,
    "start_time": "2023-03-14T06:40:15.201Z"
   },
   {
    "duration": 7,
    "start_time": "2023-03-14T06:40:15.475Z"
   },
   {
    "duration": 5,
    "start_time": "2023-03-14T06:40:15.704Z"
   },
   {
    "duration": 5,
    "start_time": "2023-03-14T06:40:15.902Z"
   },
   {
    "duration": 8,
    "start_time": "2023-03-14T06:40:16.212Z"
   },
   {
    "duration": 4,
    "start_time": "2023-03-14T06:40:16.746Z"
   },
   {
    "duration": 14,
    "start_time": "2023-03-14T06:40:17.426Z"
   },
   {
    "duration": 3,
    "start_time": "2023-03-14T06:40:45.843Z"
   },
   {
    "duration": 12,
    "start_time": "2023-03-14T06:40:59.356Z"
   },
   {
    "duration": 3,
    "start_time": "2023-03-14T06:41:33.382Z"
   },
   {
    "duration": 12,
    "start_time": "2023-03-14T06:41:34.041Z"
   },
   {
    "duration": 11,
    "start_time": "2023-03-14T06:42:07.153Z"
   },
   {
    "duration": 4,
    "start_time": "2023-03-14T06:44:00.727Z"
   },
   {
    "duration": 11,
    "start_time": "2023-03-14T06:44:01.266Z"
   },
   {
    "duration": 3,
    "start_time": "2023-03-14T06:44:32.045Z"
   },
   {
    "duration": 43,
    "start_time": "2023-03-14T06:44:55.953Z"
   },
   {
    "duration": 4,
    "start_time": "2023-03-14T06:44:59.945Z"
   },
   {
    "duration": 4,
    "start_time": "2023-03-14T06:45:02.542Z"
   },
   {
    "duration": 7,
    "start_time": "2023-03-14T06:47:02.325Z"
   },
   {
    "duration": 2,
    "start_time": "2023-03-14T06:47:11.615Z"
   },
   {
    "duration": 8,
    "start_time": "2023-03-14T06:47:13.313Z"
   },
   {
    "duration": 2,
    "start_time": "2023-03-14T06:47:14.362Z"
   },
   {
    "duration": 8,
    "start_time": "2023-03-14T06:47:14.731Z"
   },
   {
    "duration": 2,
    "start_time": "2023-03-14T06:47:19.867Z"
   },
   {
    "duration": 47,
    "start_time": "2023-03-14T06:47:20.166Z"
   },
   {
    "duration": 12,
    "start_time": "2023-03-14T06:47:20.445Z"
   },
   {
    "duration": 12,
    "start_time": "2023-03-14T06:47:21.062Z"
   },
   {
    "duration": 8,
    "start_time": "2023-03-14T06:47:21.719Z"
   },
   {
    "duration": 14,
    "start_time": "2023-03-14T06:47:22.407Z"
   },
   {
    "duration": 4,
    "start_time": "2023-03-14T06:47:24.434Z"
   },
   {
    "duration": 14,
    "start_time": "2023-03-14T06:47:24.938Z"
   },
   {
    "duration": 11,
    "start_time": "2023-03-14T06:47:25.405Z"
   },
   {
    "duration": 12,
    "start_time": "2023-03-14T06:48:43.906Z"
   },
   {
    "duration": 2,
    "start_time": "2023-03-14T06:48:53.469Z"
   },
   {
    "duration": 10,
    "start_time": "2023-03-14T06:49:05.572Z"
   },
   {
    "duration": 5,
    "start_time": "2023-03-14T06:49:11.311Z"
   },
   {
    "duration": 7,
    "start_time": "2023-03-14T06:49:11.708Z"
   },
   {
    "duration": 6,
    "start_time": "2023-03-14T06:49:11.953Z"
   },
   {
    "duration": 11,
    "start_time": "2023-03-14T06:49:12.165Z"
   },
   {
    "duration": 3,
    "start_time": "2023-03-14T06:49:12.858Z"
   },
   {
    "duration": 8,
    "start_time": "2023-03-14T06:49:13.436Z"
   },
   {
    "duration": 4,
    "start_time": "2023-03-14T06:49:14.462Z"
   },
   {
    "duration": 2,
    "start_time": "2023-03-14T06:51:40.601Z"
   },
   {
    "duration": 4,
    "start_time": "2023-03-14T06:51:40.906Z"
   },
   {
    "duration": 7,
    "start_time": "2023-03-14T06:51:41.141Z"
   },
   {
    "duration": 5,
    "start_time": "2023-03-14T06:51:41.335Z"
   },
   {
    "duration": 10,
    "start_time": "2023-03-14T06:51:41.528Z"
   },
   {
    "duration": 2,
    "start_time": "2023-03-14T06:51:41.805Z"
   },
   {
    "duration": 8,
    "start_time": "2023-03-14T06:51:42.038Z"
   },
   {
    "duration": 5,
    "start_time": "2023-03-14T06:51:42.623Z"
   },
   {
    "duration": 14,
    "start_time": "2023-03-14T06:51:43.259Z"
   },
   {
    "duration": 3,
    "start_time": "2023-03-14T06:53:56.947Z"
   },
   {
    "duration": 2,
    "start_time": "2023-03-14T06:54:05.504Z"
   },
   {
    "duration": 7,
    "start_time": "2023-03-14T06:54:05.941Z"
   },
   {
    "duration": 3,
    "start_time": "2023-03-14T06:56:47.008Z"
   },
   {
    "duration": 6,
    "start_time": "2023-03-14T06:56:47.356Z"
   },
   {
    "duration": 5,
    "start_time": "2023-03-14T06:56:47.656Z"
   },
   {
    "duration": 2,
    "start_time": "2023-03-14T06:56:47.908Z"
   },
   {
    "duration": 3,
    "start_time": "2023-03-14T06:56:48.173Z"
   },
   {
    "duration": 8,
    "start_time": "2023-03-14T06:56:48.452Z"
   },
   {
    "duration": 4,
    "start_time": "2023-03-14T06:56:48.792Z"
   },
   {
    "duration": 11,
    "start_time": "2023-03-14T06:57:09.532Z"
   },
   {
    "duration": 10,
    "start_time": "2023-03-14T07:00:11.275Z"
   },
   {
    "duration": 37,
    "start_time": "2023-03-14T07:00:38.361Z"
   },
   {
    "duration": 5,
    "start_time": "2023-03-14T07:03:01.581Z"
   },
   {
    "duration": 4,
    "start_time": "2023-03-14T07:03:02.507Z"
   },
   {
    "duration": 8,
    "start_time": "2023-03-14T07:06:48.018Z"
   },
   {
    "duration": 5,
    "start_time": "2023-03-14T07:07:00.583Z"
   },
   {
    "duration": 13,
    "start_time": "2023-03-14T07:07:01.341Z"
   },
   {
    "duration": 9,
    "start_time": "2023-03-14T07:07:03.469Z"
   },
   {
    "duration": 3,
    "start_time": "2023-03-14T07:15:22.406Z"
   },
   {
    "duration": 5,
    "start_time": "2023-03-14T07:20:21.377Z"
   },
   {
    "duration": 5,
    "start_time": "2023-03-14T07:21:22.151Z"
   },
   {
    "duration": 4,
    "start_time": "2023-03-14T07:39:12.577Z"
   },
   {
    "duration": 12,
    "start_time": "2023-03-14T07:39:26.326Z"
   },
   {
    "duration": 9,
    "start_time": "2023-03-14T07:39:27.165Z"
   },
   {
    "duration": 5,
    "start_time": "2023-03-14T07:39:32.326Z"
   },
   {
    "duration": 50,
    "start_time": "2023-03-14T07:48:50.526Z"
   },
   {
    "duration": 54,
    "start_time": "2023-03-14T07:49:09.799Z"
   },
   {
    "duration": 46,
    "start_time": "2023-03-14T07:49:29.430Z"
   },
   {
    "duration": 5,
    "start_time": "2023-03-14T07:51:47.800Z"
   },
   {
    "duration": 3,
    "start_time": "2023-03-14T07:51:48.910Z"
   },
   {
    "duration": 7,
    "start_time": "2023-03-14T07:51:49.563Z"
   },
   {
    "duration": 5,
    "start_time": "2023-03-14T07:51:49.817Z"
   },
   {
    "duration": 5,
    "start_time": "2023-03-14T07:51:50.107Z"
   },
   {
    "duration": 13,
    "start_time": "2023-03-14T07:51:50.635Z"
   },
   {
    "duration": 9,
    "start_time": "2023-03-14T07:51:56.378Z"
   },
   {
    "duration": 7,
    "start_time": "2023-03-14T07:51:56.739Z"
   },
   {
    "duration": 5,
    "start_time": "2023-03-14T07:51:57.844Z"
   },
   {
    "duration": 12,
    "start_time": "2023-03-14T07:51:58.422Z"
   },
   {
    "duration": 15,
    "start_time": "2023-03-14T07:52:44.598Z"
   },
   {
    "duration": 603,
    "start_time": "2023-03-14T07:54:16.753Z"
   },
   {
    "duration": 8,
    "start_time": "2023-03-14T07:54:30.195Z"
   },
   {
    "duration": 56,
    "start_time": "2023-03-14T08:02:28.720Z"
   },
   {
    "duration": 9,
    "start_time": "2023-03-14T08:05:40.870Z"
   },
   {
    "duration": 15,
    "start_time": "2023-03-14T08:05:46.051Z"
   },
   {
    "duration": 56,
    "start_time": "2023-03-14T08:07:45.949Z"
   },
   {
    "duration": 13,
    "start_time": "2023-03-14T08:09:46.798Z"
   },
   {
    "duration": 9,
    "start_time": "2023-03-14T08:10:01.352Z"
   },
   {
    "duration": 16,
    "start_time": "2023-03-14T08:10:07.308Z"
   },
   {
    "duration": 23,
    "start_time": "2023-03-14T08:11:10.919Z"
   },
   {
    "duration": 14,
    "start_time": "2023-03-14T08:11:15.094Z"
   },
   {
    "duration": 9,
    "start_time": "2023-03-14T08:11:55.576Z"
   },
   {
    "duration": 701,
    "start_time": "2023-03-14T08:12:38.464Z"
   },
   {
    "duration": 11,
    "start_time": "2023-03-14T08:12:47.411Z"
   },
   {
    "duration": 3,
    "start_time": "2023-03-14T08:14:54.516Z"
   },
   {
    "duration": 9,
    "start_time": "2023-03-14T08:14:58.595Z"
   },
   {
    "duration": 9,
    "start_time": "2023-03-14T08:15:01.411Z"
   },
   {
    "duration": 12,
    "start_time": "2023-03-14T08:22:00.301Z"
   },
   {
    "duration": 10,
    "start_time": "2023-03-14T08:22:02.221Z"
   },
   {
    "duration": 11,
    "start_time": "2023-03-14T08:22:13.018Z"
   },
   {
    "duration": 8,
    "start_time": "2023-03-14T08:22:14.015Z"
   },
   {
    "duration": 10,
    "start_time": "2023-03-14T08:22:41.445Z"
   },
   {
    "duration": 7,
    "start_time": "2023-03-14T08:22:43.066Z"
   },
   {
    "duration": 9,
    "start_time": "2023-03-14T08:22:51.730Z"
   },
   {
    "duration": 9,
    "start_time": "2023-03-14T08:22:52.324Z"
   },
   {
    "duration": 12,
    "start_time": "2023-03-14T08:23:27.669Z"
   },
   {
    "duration": 9,
    "start_time": "2023-03-14T08:23:28.333Z"
   },
   {
    "duration": 11,
    "start_time": "2023-03-14T08:23:58.945Z"
   },
   {
    "duration": 8,
    "start_time": "2023-03-14T08:24:00.832Z"
   },
   {
    "duration": 11,
    "start_time": "2023-03-14T08:24:25.417Z"
   },
   {
    "duration": 9,
    "start_time": "2023-03-14T08:24:26.029Z"
   },
   {
    "duration": 11,
    "start_time": "2023-03-14T08:24:33.930Z"
   },
   {
    "duration": 9,
    "start_time": "2023-03-14T08:24:35.605Z"
   },
   {
    "duration": 16,
    "start_time": "2023-03-14T08:25:23.915Z"
   },
   {
    "duration": 9,
    "start_time": "2023-03-14T08:25:24.591Z"
   },
   {
    "duration": 16,
    "start_time": "2023-03-14T08:25:37.768Z"
   },
   {
    "duration": 9,
    "start_time": "2023-03-14T08:25:38.315Z"
   },
   {
    "duration": 34,
    "start_time": "2023-03-14T08:25:47.340Z"
   },
   {
    "duration": 413,
    "start_time": "2023-03-14T08:27:16.892Z"
   },
   {
    "duration": 4,
    "start_time": "2023-03-14T08:27:17.546Z"
   },
   {
    "duration": 448,
    "start_time": "2023-03-14T08:27:45.592Z"
   },
   {
    "duration": 31,
    "start_time": "2023-03-14T08:27:49.148Z"
   },
   {
    "duration": 391,
    "start_time": "2023-03-14T08:27:59.043Z"
   },
   {
    "duration": 389,
    "start_time": "2023-03-14T08:28:15.990Z"
   },
   {
    "duration": 405,
    "start_time": "2023-03-14T08:28:36.756Z"
   },
   {
    "duration": 305,
    "start_time": "2023-03-14T08:29:22.394Z"
   },
   {
    "duration": 301,
    "start_time": "2023-03-14T08:29:49.619Z"
   },
   {
    "duration": 463,
    "start_time": "2023-03-14T08:30:45.995Z"
   },
   {
    "duration": 686,
    "start_time": "2023-03-14T08:31:30.893Z"
   },
   {
    "duration": 543,
    "start_time": "2023-03-14T08:31:37.041Z"
   },
   {
    "duration": 14,
    "start_time": "2023-03-14T08:36:12.747Z"
   },
   {
    "duration": 5,
    "start_time": "2023-03-14T08:37:58.441Z"
   },
   {
    "duration": 4,
    "start_time": "2023-03-14T08:38:17.200Z"
   },
   {
    "duration": 7,
    "start_time": "2023-03-14T08:38:19.774Z"
   },
   {
    "duration": 8,
    "start_time": "2023-03-14T08:38:29.022Z"
   },
   {
    "duration": 9,
    "start_time": "2023-03-14T08:40:05.524Z"
   },
   {
    "duration": 9,
    "start_time": "2023-03-14T08:40:15.260Z"
   },
   {
    "duration": 7,
    "start_time": "2023-03-14T08:40:18.807Z"
   },
   {
    "duration": 8,
    "start_time": "2023-03-14T08:40:20.705Z"
   },
   {
    "duration": 8,
    "start_time": "2023-03-14T08:40:33.873Z"
   },
   {
    "duration": 9,
    "start_time": "2023-03-14T08:41:00.916Z"
   },
   {
    "duration": 10,
    "start_time": "2023-03-14T08:44:55.358Z"
   },
   {
    "duration": 9,
    "start_time": "2023-03-14T08:45:16.013Z"
   },
   {
    "duration": 2,
    "start_time": "2023-03-14T08:45:42.788Z"
   },
   {
    "duration": 50,
    "start_time": "2023-03-14T08:45:43.301Z"
   },
   {
    "duration": 13,
    "start_time": "2023-03-14T08:45:43.795Z"
   },
   {
    "duration": 14,
    "start_time": "2023-03-14T08:45:44.491Z"
   },
   {
    "duration": 10,
    "start_time": "2023-03-14T08:45:44.738Z"
   },
   {
    "duration": 14,
    "start_time": "2023-03-14T08:45:44.955Z"
   },
   {
    "duration": 4,
    "start_time": "2023-03-14T08:45:45.790Z"
   },
   {
    "duration": 5,
    "start_time": "2023-03-14T08:45:46.190Z"
   },
   {
    "duration": 8,
    "start_time": "2023-03-14T08:45:46.392Z"
   },
   {
    "duration": 7,
    "start_time": "2023-03-14T08:45:46.948Z"
   },
   {
    "duration": 6,
    "start_time": "2023-03-14T08:45:47.118Z"
   },
   {
    "duration": 5,
    "start_time": "2023-03-14T08:45:47.293Z"
   },
   {
    "duration": 13,
    "start_time": "2023-03-14T08:45:47.645Z"
   },
   {
    "duration": 9,
    "start_time": "2023-03-14T08:45:47.807Z"
   },
   {
    "duration": 7,
    "start_time": "2023-03-14T08:45:48.006Z"
   },
   {
    "duration": 5,
    "start_time": "2023-03-14T08:45:48.538Z"
   },
   {
    "duration": 12,
    "start_time": "2023-03-14T08:45:48.795Z"
   },
   {
    "duration": 140,
    "start_time": "2023-03-14T08:45:49.797Z"
   },
   {
    "duration": 9,
    "start_time": "2023-03-14T08:45:50.069Z"
   },
   {
    "duration": 15,
    "start_time": "2023-03-14T08:45:57.100Z"
   },
   {
    "duration": 22,
    "start_time": "2023-03-14T08:46:50.343Z"
   },
   {
    "duration": 16,
    "start_time": "2023-03-14T08:46:55.367Z"
   },
   {
    "duration": 20,
    "start_time": "2023-03-14T08:48:28.252Z"
   },
   {
    "duration": 20,
    "start_time": "2023-03-14T08:50:25.974Z"
   },
   {
    "duration": 11,
    "start_time": "2023-03-14T08:50:34.418Z"
   },
   {
    "duration": 15,
    "start_time": "2023-03-14T08:50:43.603Z"
   },
   {
    "duration": 5,
    "start_time": "2023-03-14T08:50:50.473Z"
   },
   {
    "duration": 811,
    "start_time": "2023-03-14T13:00:45.633Z"
   },
   {
    "duration": 160,
    "start_time": "2023-03-14T13:00:46.447Z"
   },
   {
    "duration": 22,
    "start_time": "2023-03-14T13:00:46.609Z"
   },
   {
    "duration": 17,
    "start_time": "2023-03-14T13:00:46.633Z"
   },
   {
    "duration": 10,
    "start_time": "2023-03-14T13:00:46.651Z"
   },
   {
    "duration": 44,
    "start_time": "2023-03-14T13:00:46.663Z"
   },
   {
    "duration": 5,
    "start_time": "2023-03-14T13:00:47.492Z"
   },
   {
    "duration": 5,
    "start_time": "2023-03-14T13:00:47.894Z"
   },
   {
    "duration": 9,
    "start_time": "2023-03-14T13:00:48.375Z"
   },
   {
    "duration": 8,
    "start_time": "2023-03-14T13:00:49.773Z"
   },
   {
    "duration": 9,
    "start_time": "2023-03-14T13:00:50.034Z"
   },
   {
    "duration": 5,
    "start_time": "2023-03-14T13:00:50.320Z"
   },
   {
    "duration": 14,
    "start_time": "2023-03-14T13:00:51.064Z"
   },
   {
    "duration": 8,
    "start_time": "2023-03-14T13:00:51.728Z"
   },
   {
    "duration": 8,
    "start_time": "2023-03-14T13:00:52.365Z"
   },
   {
    "duration": 6,
    "start_time": "2023-03-14T13:00:53.697Z"
   },
   {
    "duration": 17,
    "start_time": "2023-03-14T13:00:54.142Z"
   },
   {
    "duration": 186,
    "start_time": "2023-03-14T13:00:58.426Z"
   },
   {
    "duration": 13,
    "start_time": "2023-03-14T13:00:59.818Z"
   },
   {
    "duration": 16,
    "start_time": "2023-03-14T13:01:11.208Z"
   },
   {
    "duration": 4,
    "start_time": "2023-03-14T13:01:12.646Z"
   },
   {
    "duration": 836,
    "start_time": "2023-03-14T13:03:24.396Z"
   },
   {
    "duration": 13,
    "start_time": "2023-03-14T13:03:45.159Z"
   },
   {
    "duration": 7,
    "start_time": "2023-03-14T13:04:24.333Z"
   },
   {
    "duration": 10,
    "start_time": "2023-03-14T13:05:24.566Z"
   },
   {
    "duration": 15,
    "start_time": "2023-03-14T13:08:58.949Z"
   },
   {
    "duration": 23,
    "start_time": "2023-03-14T13:09:24.980Z"
   },
   {
    "duration": 21,
    "start_time": "2023-03-14T13:09:45.214Z"
   },
   {
    "duration": 15,
    "start_time": "2023-03-14T13:10:34.018Z"
   },
   {
    "duration": 10,
    "start_time": "2023-03-14T13:15:47.356Z"
   },
   {
    "duration": 8,
    "start_time": "2023-03-14T13:15:48.360Z"
   },
   {
    "duration": 11,
    "start_time": "2023-03-14T13:16:10.621Z"
   },
   {
    "duration": 8,
    "start_time": "2023-03-14T13:16:11.365Z"
   },
   {
    "duration": 10,
    "start_time": "2023-03-14T13:16:16.658Z"
   },
   {
    "duration": 7,
    "start_time": "2023-03-14T13:16:17.213Z"
   },
   {
    "duration": 19,
    "start_time": "2023-03-14T13:21:07.115Z"
   },
   {
    "duration": 10,
    "start_time": "2023-03-14T13:21:18.496Z"
   },
   {
    "duration": 11,
    "start_time": "2023-03-14T13:21:30.125Z"
   },
   {
    "duration": 10,
    "start_time": "2023-03-14T13:21:34.585Z"
   },
   {
    "duration": 21,
    "start_time": "2023-03-14T13:22:02.747Z"
   },
   {
    "duration": 20,
    "start_time": "2023-03-14T13:22:54.860Z"
   },
   {
    "duration": 19,
    "start_time": "2023-03-14T13:23:02.203Z"
   },
   {
    "duration": 10,
    "start_time": "2023-03-14T13:23:07.229Z"
   },
   {
    "duration": 13,
    "start_time": "2023-03-14T13:23:27.237Z"
   },
   {
    "duration": 9,
    "start_time": "2023-03-14T13:23:38.605Z"
   },
   {
    "duration": 13,
    "start_time": "2023-03-14T13:23:48.040Z"
   },
   {
    "duration": 19,
    "start_time": "2023-03-14T13:26:47.451Z"
   },
   {
    "duration": 20,
    "start_time": "2023-03-14T13:27:18.075Z"
   },
   {
    "duration": 3010,
    "start_time": "2023-03-14T13:30:09.073Z"
   },
   {
    "duration": 2994,
    "start_time": "2023-03-14T13:30:19.264Z"
   },
   {
    "duration": 11,
    "start_time": "2023-03-14T13:30:51.570Z"
   },
   {
    "duration": 11,
    "start_time": "2023-03-14T13:30:54.636Z"
   },
   {
    "duration": 559,
    "start_time": "2023-03-14T13:31:32.018Z"
   },
   {
    "duration": 8,
    "start_time": "2023-03-14T13:33:01.029Z"
   },
   {
    "duration": 9,
    "start_time": "2023-03-14T13:33:17.486Z"
   },
   {
    "duration": 22,
    "start_time": "2023-03-14T13:33:29.351Z"
   },
   {
    "duration": 21,
    "start_time": "2023-03-14T13:33:52.519Z"
   },
   {
    "duration": 19,
    "start_time": "2023-03-14T13:34:18.010Z"
   },
   {
    "duration": 107,
    "start_time": "2023-03-14T13:34:35.210Z"
   },
   {
    "duration": 18,
    "start_time": "2023-03-14T13:34:45.837Z"
   },
   {
    "duration": 846,
    "start_time": "2023-03-14T13:35:37.034Z"
   },
   {
    "duration": 674,
    "start_time": "2023-03-14T13:35:50.405Z"
   },
   {
    "duration": 11,
    "start_time": "2023-03-14T13:36:20.475Z"
   },
   {
    "duration": 9,
    "start_time": "2023-03-14T13:36:25.645Z"
   },
   {
    "duration": 9,
    "start_time": "2023-03-14T13:36:28.273Z"
   },
   {
    "duration": 10,
    "start_time": "2023-03-14T13:36:38.698Z"
   },
   {
    "duration": 50,
    "start_time": "2023-03-14T13:36:44.889Z"
   },
   {
    "duration": 694,
    "start_time": "2023-03-14T13:36:57.544Z"
   },
   {
    "duration": 663,
    "start_time": "2023-03-14T13:37:02.359Z"
   },
   {
    "duration": 8,
    "start_time": "2023-03-14T13:41:19.820Z"
   },
   {
    "duration": 20,
    "start_time": "2023-03-14T13:41:36.757Z"
   },
   {
    "duration": 2837,
    "start_time": "2023-03-14T13:42:24.777Z"
   },
   {
    "duration": 13,
    "start_time": "2023-03-14T13:42:49.058Z"
   },
   {
    "duration": 14,
    "start_time": "2023-03-14T13:42:54.555Z"
   },
   {
    "duration": 14,
    "start_time": "2023-03-14T13:43:05.078Z"
   },
   {
    "duration": 13,
    "start_time": "2023-03-14T13:43:53.974Z"
   },
   {
    "duration": 12,
    "start_time": "2023-03-14T13:47:55.329Z"
   },
   {
    "duration": 13,
    "start_time": "2023-03-14T13:48:00.821Z"
   },
   {
    "duration": 20,
    "start_time": "2023-03-14T13:48:05.110Z"
   },
   {
    "duration": 21,
    "start_time": "2023-03-14T13:50:33.109Z"
   },
   {
    "duration": 11,
    "start_time": "2023-03-14T13:51:46.010Z"
   },
   {
    "duration": 6,
    "start_time": "2023-03-14T13:51:47.113Z"
   },
   {
    "duration": 10,
    "start_time": "2023-03-14T13:52:01.373Z"
   },
   {
    "duration": 7,
    "start_time": "2023-03-14T13:52:01.888Z"
   },
   {
    "duration": 10,
    "start_time": "2023-03-14T13:52:09.009Z"
   },
   {
    "duration": 7,
    "start_time": "2023-03-14T13:52:10.028Z"
   },
   {
    "duration": 28,
    "start_time": "2023-03-14T13:52:15.140Z"
   },
   {
    "duration": 20,
    "start_time": "2023-03-14T13:52:17.806Z"
   },
   {
    "duration": 20,
    "start_time": "2023-03-14T13:52:49.133Z"
   },
   {
    "duration": 22,
    "start_time": "2023-03-14T13:53:39.939Z"
   },
   {
    "duration": 2854,
    "start_time": "2023-03-14T13:53:57.726Z"
   },
   {
    "duration": 15,
    "start_time": "2023-03-14T13:54:14.907Z"
   },
   {
    "duration": 14,
    "start_time": "2023-03-14T13:54:25.756Z"
   },
   {
    "duration": 337,
    "start_time": "2023-03-14T13:54:48.427Z"
   },
   {
    "duration": 9,
    "start_time": "2023-03-14T13:55:15.377Z"
   },
   {
    "duration": 8,
    "start_time": "2023-03-14T13:55:19.723Z"
   },
   {
    "duration": 9,
    "start_time": "2023-03-14T13:57:48.674Z"
   },
   {
    "duration": 7,
    "start_time": "2023-03-14T13:57:49.677Z"
   },
   {
    "duration": 11,
    "start_time": "2023-03-14T13:58:02.361Z"
   },
   {
    "duration": 11,
    "start_time": "2023-03-14T13:58:19.077Z"
   },
   {
    "duration": 9,
    "start_time": "2023-03-14T13:58:19.949Z"
   },
   {
    "duration": 706,
    "start_time": "2023-03-14T13:58:25.458Z"
   },
   {
    "duration": 10,
    "start_time": "2023-03-14T13:58:49.532Z"
   },
   {
    "duration": 9,
    "start_time": "2023-03-14T13:58:53.973Z"
   },
   {
    "duration": 8,
    "start_time": "2023-03-14T13:59:48.450Z"
   },
   {
    "duration": 8,
    "start_time": "2023-03-14T14:00:13.616Z"
   },
   {
    "duration": 9,
    "start_time": "2023-03-14T14:00:26.274Z"
   },
   {
    "duration": 8,
    "start_time": "2023-03-14T14:00:39.957Z"
   },
   {
    "duration": 9,
    "start_time": "2023-03-14T14:00:53.581Z"
   },
   {
    "duration": 8,
    "start_time": "2023-03-14T14:04:39.120Z"
   },
   {
    "duration": 7,
    "start_time": "2023-03-14T14:04:46.947Z"
   },
   {
    "duration": 2,
    "start_time": "2023-03-14T14:06:58.632Z"
   },
   {
    "duration": 46,
    "start_time": "2023-03-14T14:06:58.972Z"
   },
   {
    "duration": 13,
    "start_time": "2023-03-14T14:06:59.265Z"
   },
   {
    "duration": 13,
    "start_time": "2023-03-14T14:06:59.479Z"
   },
   {
    "duration": 11,
    "start_time": "2023-03-14T14:06:59.728Z"
   },
   {
    "duration": 18,
    "start_time": "2023-03-14T14:06:59.935Z"
   },
   {
    "duration": 6,
    "start_time": "2023-03-14T14:07:00.807Z"
   },
   {
    "duration": 6,
    "start_time": "2023-03-14T14:07:01.213Z"
   },
   {
    "duration": 8,
    "start_time": "2023-03-14T14:07:01.446Z"
   },
   {
    "duration": 9,
    "start_time": "2023-03-14T14:07:02.414Z"
   },
   {
    "duration": 7,
    "start_time": "2023-03-14T14:07:02.729Z"
   },
   {
    "duration": 6,
    "start_time": "2023-03-14T14:07:03.013Z"
   },
   {
    "duration": 13,
    "start_time": "2023-03-14T14:07:03.852Z"
   },
   {
    "duration": 9,
    "start_time": "2023-03-14T14:07:04.146Z"
   },
   {
    "duration": 6,
    "start_time": "2023-03-14T14:07:04.397Z"
   },
   {
    "duration": 5,
    "start_time": "2023-03-14T14:07:04.851Z"
   },
   {
    "duration": 16,
    "start_time": "2023-03-14T14:07:05.054Z"
   },
   {
    "duration": 152,
    "start_time": "2023-03-14T14:07:06.010Z"
   },
   {
    "duration": 9,
    "start_time": "2023-03-14T14:07:06.210Z"
   },
   {
    "duration": 10,
    "start_time": "2023-03-14T14:07:07.054Z"
   },
   {
    "duration": 8,
    "start_time": "2023-03-14T14:07:07.283Z"
   },
   {
    "duration": 3,
    "start_time": "2023-03-14T14:07:07.548Z"
   },
   {
    "duration": 10,
    "start_time": "2023-03-14T14:07:38.212Z"
   },
   {
    "duration": 7,
    "start_time": "2023-03-14T14:07:50.713Z"
   },
   {
    "duration": 8,
    "start_time": "2023-03-14T14:07:55.306Z"
   },
   {
    "duration": 7,
    "start_time": "2023-03-14T14:09:43.422Z"
   },
   {
    "duration": 736,
    "start_time": "2023-03-14T14:11:17.711Z"
   },
   {
    "duration": 721,
    "start_time": "2023-03-14T14:11:46.524Z"
   },
   {
    "duration": 833,
    "start_time": "2023-03-14T14:12:10.111Z"
   },
   {
    "duration": 743,
    "start_time": "2023-03-14T14:12:39.840Z"
   },
   {
    "duration": 689,
    "start_time": "2023-03-14T14:12:52.076Z"
   },
   {
    "duration": 21,
    "start_time": "2023-03-14T14:13:08.947Z"
   },
   {
    "duration": 23,
    "start_time": "2023-03-14T14:13:28.902Z"
   },
   {
    "duration": 33,
    "start_time": "2023-03-14T14:13:40.015Z"
   },
   {
    "duration": 16,
    "start_time": "2023-03-14T14:13:52.655Z"
   },
   {
    "duration": 15,
    "start_time": "2023-03-14T14:14:00.610Z"
   },
   {
    "duration": 15,
    "start_time": "2023-03-14T14:14:02.789Z"
   },
   {
    "duration": 3,
    "start_time": "2023-03-14T14:15:36.875Z"
   },
   {
    "duration": 4,
    "start_time": "2023-03-14T14:15:43.767Z"
   },
   {
    "duration": 11,
    "start_time": "2023-03-14T14:16:26.955Z"
   },
   {
    "duration": 48,
    "start_time": "2023-03-14T14:16:40.837Z"
   },
   {
    "duration": 9,
    "start_time": "2023-03-14T14:16:47.374Z"
   },
   {
    "duration": 3,
    "start_time": "2023-03-14T14:16:57.001Z"
   },
   {
    "duration": 3,
    "start_time": "2023-03-14T14:17:09.646Z"
   },
   {
    "duration": 103,
    "start_time": "2023-03-14T14:17:34.627Z"
   },
   {
    "duration": 98,
    "start_time": "2023-03-14T14:17:41.348Z"
   },
   {
    "duration": 96,
    "start_time": "2023-03-14T14:17:56.343Z"
   },
   {
    "duration": 104,
    "start_time": "2023-03-14T14:18:16.894Z"
   },
   {
    "duration": 99,
    "start_time": "2023-03-14T14:18:21.816Z"
   },
   {
    "duration": 8,
    "start_time": "2023-03-14T14:19:58.601Z"
   },
   {
    "duration": 8,
    "start_time": "2023-03-14T14:20:27.606Z"
   },
   {
    "duration": 8,
    "start_time": "2023-03-14T14:25:26.506Z"
   },
   {
    "duration": 19,
    "start_time": "2023-03-14T14:25:37.037Z"
   },
   {
    "duration": 11,
    "start_time": "2023-03-14T14:34:59.510Z"
   },
   {
    "duration": 485,
    "start_time": "2023-03-14T14:35:13.270Z"
   },
   {
    "duration": 2,
    "start_time": "2023-03-14T14:35:46.313Z"
   },
   {
    "duration": 24,
    "start_time": "2023-03-14T14:37:56.559Z"
   },
   {
    "duration": 561,
    "start_time": "2023-03-14T14:38:07.510Z"
   },
   {
    "duration": 2846,
    "start_time": "2023-03-14T14:38:47.910Z"
   },
   {
    "duration": 17,
    "start_time": "2023-03-14T14:38:54.838Z"
   },
   {
    "duration": 2853,
    "start_time": "2023-03-14T14:39:13.611Z"
   },
   {
    "duration": 66,
    "start_time": "2023-03-14T14:39:58.764Z"
   },
   {
    "duration": 34,
    "start_time": "2023-03-14T14:40:05.613Z"
   },
   {
    "duration": 30,
    "start_time": "2023-03-14T14:40:17.577Z"
   },
   {
    "duration": 495,
    "start_time": "2023-03-14T14:40:28.860Z"
   },
   {
    "duration": 3,
    "start_time": "2023-03-14T14:52:25.809Z"
   },
   {
    "duration": 55,
    "start_time": "2023-03-14T14:56:11.805Z"
   },
   {
    "duration": 25,
    "start_time": "2023-03-14T14:56:18.143Z"
   },
   {
    "duration": 5,
    "start_time": "2023-03-14T14:56:30.022Z"
   },
   {
    "duration": 4,
    "start_time": "2023-03-14T15:04:21.315Z"
   },
   {
    "duration": 5,
    "start_time": "2023-03-14T15:05:30.034Z"
   },
   {
    "duration": 145,
    "start_time": "2023-03-14T15:05:34.301Z"
   },
   {
    "duration": 702,
    "start_time": "2023-03-14T15:06:05.650Z"
   },
   {
    "duration": 727,
    "start_time": "2023-03-14T15:06:12.683Z"
   },
   {
    "duration": 648,
    "start_time": "2023-03-14T15:06:26.073Z"
   },
   {
    "duration": 130,
    "start_time": "2023-03-14T15:06:33.857Z"
   },
   {
    "duration": 127,
    "start_time": "2023-03-14T15:06:49.238Z"
   },
   {
    "duration": 7,
    "start_time": "2023-03-14T15:06:59.316Z"
   },
   {
    "duration": 8,
    "start_time": "2023-03-14T15:07:21.077Z"
   },
   {
    "duration": 213,
    "start_time": "2023-03-14T15:08:07.726Z"
   },
   {
    "duration": 147,
    "start_time": "2023-03-14T15:08:14.695Z"
   },
   {
    "duration": 15,
    "start_time": "2023-03-14T15:08:15.106Z"
   },
   {
    "duration": 156,
    "start_time": "2023-03-14T15:08:41.564Z"
   },
   {
    "duration": 15,
    "start_time": "2023-03-14T15:08:48.342Z"
   },
   {
    "duration": 181,
    "start_time": "2023-03-14T15:09:01.300Z"
   },
   {
    "duration": 15,
    "start_time": "2023-03-14T15:09:03.778Z"
   },
   {
    "duration": 152,
    "start_time": "2023-03-14T15:09:27.028Z"
   },
   {
    "duration": 18,
    "start_time": "2023-03-14T15:09:27.870Z"
   },
   {
    "duration": 154,
    "start_time": "2023-03-14T15:09:33.163Z"
   },
   {
    "duration": 16,
    "start_time": "2023-03-14T15:09:33.753Z"
   },
   {
    "duration": 15,
    "start_time": "2023-03-14T15:09:51.976Z"
   },
   {
    "duration": 16,
    "start_time": "2023-03-14T15:10:18.198Z"
   },
   {
    "duration": 15,
    "start_time": "2023-03-14T15:10:27.445Z"
   },
   {
    "duration": 154,
    "start_time": "2023-03-14T15:10:34.499Z"
   },
   {
    "duration": 14,
    "start_time": "2023-03-14T15:10:36.064Z"
   },
   {
    "duration": 149,
    "start_time": "2023-03-14T15:10:50.526Z"
   },
   {
    "duration": 151,
    "start_time": "2023-03-14T15:10:55.201Z"
   },
   {
    "duration": 14,
    "start_time": "2023-03-14T15:10:56.809Z"
   },
   {
    "duration": 182,
    "start_time": "2023-03-14T15:11:19.003Z"
   },
   {
    "duration": 15,
    "start_time": "2023-03-14T15:11:37.277Z"
   },
   {
    "duration": 12,
    "start_time": "2023-03-14T15:12:43.665Z"
   },
   {
    "duration": 186,
    "start_time": "2023-03-14T15:13:13.307Z"
   },
   {
    "duration": 14,
    "start_time": "2023-03-14T15:13:24.208Z"
   },
   {
    "duration": 8,
    "start_time": "2023-03-14T15:14:03.544Z"
   },
   {
    "duration": 15,
    "start_time": "2023-03-14T15:14:38.446Z"
   },
   {
    "duration": 8,
    "start_time": "2023-03-14T15:14:47.520Z"
   },
   {
    "duration": 225,
    "start_time": "2023-03-14T15:14:54.832Z"
   },
   {
    "duration": 7,
    "start_time": "2023-03-14T15:14:55.059Z"
   },
   {
    "duration": 12,
    "start_time": "2023-03-14T15:14:55.512Z"
   },
   {
    "duration": 8,
    "start_time": "2023-03-14T15:14:55.699Z"
   },
   {
    "duration": 151,
    "start_time": "2023-03-14T15:15:20.272Z"
   },
   {
    "duration": 8,
    "start_time": "2023-03-14T15:15:21.305Z"
   },
   {
    "duration": 3,
    "start_time": "2023-03-14T15:16:14.931Z"
   },
   {
    "duration": 47,
    "start_time": "2023-03-14T15:16:15.113Z"
   },
   {
    "duration": 14,
    "start_time": "2023-03-14T15:16:15.307Z"
   },
   {
    "duration": 14,
    "start_time": "2023-03-14T15:16:15.469Z"
   },
   {
    "duration": 9,
    "start_time": "2023-03-14T15:16:15.640Z"
   },
   {
    "duration": 17,
    "start_time": "2023-03-14T15:16:15.810Z"
   },
   {
    "duration": 5,
    "start_time": "2023-03-14T15:16:16.498Z"
   },
   {
    "duration": 6,
    "start_time": "2023-03-14T15:16:16.859Z"
   },
   {
    "duration": 8,
    "start_time": "2023-03-14T15:16:17.508Z"
   },
   {
    "duration": 7,
    "start_time": "2023-03-14T15:16:18.508Z"
   },
   {
    "duration": 3,
    "start_time": "2023-03-14T15:17:20.910Z"
   },
   {
    "duration": 48,
    "start_time": "2023-03-14T15:17:21.120Z"
   },
   {
    "duration": 14,
    "start_time": "2023-03-14T15:17:21.349Z"
   },
   {
    "duration": 13,
    "start_time": "2023-03-14T15:17:21.557Z"
   },
   {
    "duration": 10,
    "start_time": "2023-03-14T15:17:21.766Z"
   },
   {
    "duration": 15,
    "start_time": "2023-03-14T15:17:22.098Z"
   },
   {
    "duration": 4,
    "start_time": "2023-03-14T15:17:23.014Z"
   },
   {
    "duration": 5,
    "start_time": "2023-03-14T15:17:23.453Z"
   },
   {
    "duration": 7,
    "start_time": "2023-03-14T15:17:23.719Z"
   },
   {
    "duration": 8,
    "start_time": "2023-03-14T15:17:24.502Z"
   },
   {
    "duration": 8,
    "start_time": "2023-03-14T15:17:24.738Z"
   },
   {
    "duration": 5,
    "start_time": "2023-03-14T15:17:25.010Z"
   },
   {
    "duration": 12,
    "start_time": "2023-03-14T15:17:25.615Z"
   },
   {
    "duration": 10,
    "start_time": "2023-03-14T15:17:25.863Z"
   },
   {
    "duration": 6,
    "start_time": "2023-03-14T15:17:26.523Z"
   },
   {
    "duration": 6,
    "start_time": "2023-03-14T15:17:27.506Z"
   },
   {
    "duration": 15,
    "start_time": "2023-03-14T15:17:27.866Z"
   },
   {
    "duration": 147,
    "start_time": "2023-03-14T15:17:29.437Z"
   },
   {
    "duration": 8,
    "start_time": "2023-03-14T15:17:30.659Z"
   },
   {
    "duration": 7,
    "start_time": "2023-03-14T15:17:43.909Z"
   },
   {
    "duration": 13,
    "start_time": "2023-03-14T15:17:46.228Z"
   },
   {
    "duration": 8,
    "start_time": "2023-03-14T15:17:46.632Z"
   },
   {
    "duration": 487,
    "start_time": "2023-03-14T15:17:46.931Z"
   },
   {
    "duration": 29,
    "start_time": "2023-03-14T15:17:47.526Z"
   },
   {
    "duration": 2,
    "start_time": "2023-03-14T15:17:49.243Z"
   },
   {
    "duration": 4,
    "start_time": "2023-03-14T15:17:54.064Z"
   },
   {
    "duration": 180,
    "start_time": "2023-03-14T15:17:56.967Z"
   },
   {
    "duration": 15,
    "start_time": "2023-03-14T15:17:58.800Z"
   },
   {
    "duration": 15,
    "start_time": "2023-03-14T15:18:12.170Z"
   },
   {
    "duration": 4,
    "start_time": "2023-03-14T15:19:49.953Z"
   },
   {
    "duration": 178,
    "start_time": "2023-03-14T15:19:51.224Z"
   },
   {
    "duration": 13,
    "start_time": "2023-03-14T15:19:52.801Z"
   },
   {
    "duration": 173,
    "start_time": "2023-03-14T15:21:30.519Z"
   },
   {
    "duration": 9,
    "start_time": "2023-03-14T15:21:31.106Z"
   },
   {
    "duration": 9,
    "start_time": "2023-03-14T15:21:45.453Z"
   },
   {
    "duration": 682,
    "start_time": "2023-03-14T15:22:41.857Z"
   },
   {
    "duration": 168,
    "start_time": "2023-03-14T15:22:46.683Z"
   },
   {
    "duration": 164,
    "start_time": "2023-03-14T15:22:55.766Z"
   },
   {
    "duration": 168,
    "start_time": "2023-03-14T15:23:03.948Z"
   },
   {
    "duration": 152,
    "start_time": "2023-03-14T15:23:09.942Z"
   },
   {
    "duration": 138,
    "start_time": "2023-03-14T15:23:44.560Z"
   },
   {
    "duration": 234,
    "start_time": "2023-03-14T15:23:48.509Z"
   },
   {
    "duration": 142,
    "start_time": "2023-03-14T15:23:57.205Z"
   },
   {
    "duration": 155,
    "start_time": "2023-03-14T15:26:09.127Z"
   },
   {
    "duration": 149,
    "start_time": "2023-03-14T15:28:09.169Z"
   },
   {
    "duration": 100,
    "start_time": "2023-03-14T15:29:00.299Z"
   },
   {
    "duration": 103,
    "start_time": "2023-03-14T15:29:46.754Z"
   },
   {
    "duration": 1013,
    "start_time": "2023-03-14T18:35:59.541Z"
   },
   {
    "duration": 142,
    "start_time": "2023-03-14T18:36:00.557Z"
   },
   {
    "duration": 24,
    "start_time": "2023-03-14T18:36:00.702Z"
   },
   {
    "duration": 35,
    "start_time": "2023-03-14T18:36:00.729Z"
   },
   {
    "duration": 40,
    "start_time": "2023-03-14T18:36:00.767Z"
   },
   {
    "duration": 31,
    "start_time": "2023-03-14T18:36:00.819Z"
   },
   {
    "duration": 5,
    "start_time": "2023-03-14T18:36:01.653Z"
   },
   {
    "duration": 8,
    "start_time": "2023-03-14T18:36:02.112Z"
   },
   {
    "duration": 10,
    "start_time": "2023-03-14T18:36:02.347Z"
   },
   {
    "duration": 8,
    "start_time": "2023-03-14T18:36:03.002Z"
   },
   {
    "duration": 7,
    "start_time": "2023-03-14T18:36:03.199Z"
   },
   {
    "duration": 6,
    "start_time": "2023-03-14T18:36:03.413Z"
   },
   {
    "duration": 22,
    "start_time": "2023-03-14T18:36:03.811Z"
   },
   {
    "duration": 9,
    "start_time": "2023-03-14T18:36:04.001Z"
   },
   {
    "duration": 8,
    "start_time": "2023-03-14T18:36:04.211Z"
   },
   {
    "duration": 6,
    "start_time": "2023-03-14T18:36:04.569Z"
   },
   {
    "duration": 29,
    "start_time": "2023-03-14T18:36:04.756Z"
   },
   {
    "duration": 221,
    "start_time": "2023-03-14T18:36:05.525Z"
   },
   {
    "duration": 9,
    "start_time": "2023-03-14T18:36:05.749Z"
   },
   {
    "duration": 16,
    "start_time": "2023-03-14T18:36:06.308Z"
   },
   {
    "duration": 10,
    "start_time": "2023-03-14T18:36:06.504Z"
   },
   {
    "duration": 604,
    "start_time": "2023-03-14T18:36:06.699Z"
   },
   {
    "duration": 49,
    "start_time": "2023-03-14T18:36:07.306Z"
   },
   {
    "duration": 3,
    "start_time": "2023-03-14T18:36:07.446Z"
   },
   {
    "duration": 5,
    "start_time": "2023-03-14T18:36:07.921Z"
   },
   {
    "duration": 205,
    "start_time": "2023-03-14T18:36:08.871Z"
   },
   {
    "duration": 10,
    "start_time": "2023-03-14T18:36:09.104Z"
   },
   {
    "duration": 208,
    "start_time": "2023-03-14T18:36:10.355Z"
   },
   {
    "duration": 5,
    "start_time": "2023-03-14T18:36:54.769Z"
   },
   {
    "duration": 39,
    "start_time": "2023-03-14T18:37:01.072Z"
   },
   {
    "duration": 6,
    "start_time": "2023-03-14T18:37:08.430Z"
   },
   {
    "duration": 91,
    "start_time": "2023-03-14T18:39:41.248Z"
   },
   {
    "duration": 174,
    "start_time": "2023-03-14T18:39:47.660Z"
   },
   {
    "duration": 168,
    "start_time": "2023-03-14T18:39:59.900Z"
   },
   {
    "duration": 159,
    "start_time": "2023-03-14T18:40:12.113Z"
   },
   {
    "duration": 201,
    "start_time": "2023-03-14T18:42:45.401Z"
   },
   {
    "duration": 182,
    "start_time": "2023-03-14T18:43:02.133Z"
   },
   {
    "duration": 186,
    "start_time": "2023-03-14T18:45:12.570Z"
   },
   {
    "duration": 259,
    "start_time": "2023-03-14T18:52:55.677Z"
   },
   {
    "duration": 90,
    "start_time": "2023-03-14T19:00:05.872Z"
   },
   {
    "duration": 44,
    "start_time": "2023-03-14T19:00:33.670Z"
   },
   {
    "duration": 12,
    "start_time": "2023-03-14T19:01:56.207Z"
   },
   {
    "duration": 269,
    "start_time": "2023-03-14T19:02:04.698Z"
   },
   {
    "duration": 370,
    "start_time": "2023-03-14T19:02:09.792Z"
   },
   {
    "duration": 40,
    "start_time": "2023-03-14T19:02:15.999Z"
   },
   {
    "duration": 397,
    "start_time": "2023-03-14T19:02:16.404Z"
   },
   {
    "duration": 54,
    "start_time": "2023-03-14T19:07:40.972Z"
   },
   {
    "duration": 48,
    "start_time": "2023-03-14T19:07:48.251Z"
   },
   {
    "duration": 14,
    "start_time": "2023-03-14T19:10:57.136Z"
   },
   {
    "duration": 4,
    "start_time": "2023-03-14T19:11:02.734Z"
   },
   {
    "duration": 206,
    "start_time": "2023-03-14T19:11:03.176Z"
   },
   {
    "duration": 43,
    "start_time": "2023-03-14T19:12:29.574Z"
   },
   {
    "duration": 186,
    "start_time": "2023-03-14T19:12:46.203Z"
   },
   {
    "duration": 161,
    "start_time": "2023-03-14T19:13:31.743Z"
   },
   {
    "duration": 180,
    "start_time": "2023-03-14T19:13:40.571Z"
   },
   {
    "duration": 221,
    "start_time": "2023-03-14T19:15:25.799Z"
   },
   {
    "duration": 48,
    "start_time": "2023-03-14T19:15:46.873Z"
   },
   {
    "duration": 209,
    "start_time": "2023-03-14T19:19:59.719Z"
   },
   {
    "duration": 206,
    "start_time": "2023-03-14T19:20:15.303Z"
   },
   {
    "duration": 8,
    "start_time": "2023-03-14T19:20:34.747Z"
   },
   {
    "duration": 205,
    "start_time": "2023-03-14T19:20:52.299Z"
   },
   {
    "duration": 281,
    "start_time": "2023-03-14T19:22:17.538Z"
   },
   {
    "duration": 250,
    "start_time": "2023-03-14T19:22:36.351Z"
   },
   {
    "duration": 1695,
    "start_time": "2023-03-14T19:22:56.012Z"
   },
   {
    "duration": 206,
    "start_time": "2023-03-14T19:23:09.450Z"
   },
   {
    "duration": 256,
    "start_time": "2023-03-14T19:24:08.423Z"
   },
   {
    "duration": 30,
    "start_time": "2023-03-14T19:24:16.876Z"
   },
   {
    "duration": 11,
    "start_time": "2023-03-14T19:24:26.348Z"
   },
   {
    "duration": 4,
    "start_time": "2023-03-14T19:24:43.410Z"
   },
   {
    "duration": 64,
    "start_time": "2023-03-14T19:24:43.611Z"
   },
   {
    "duration": 15,
    "start_time": "2023-03-14T19:24:43.841Z"
   },
   {
    "duration": 23,
    "start_time": "2023-03-14T19:24:44.037Z"
   },
   {
    "duration": 18,
    "start_time": "2023-03-14T19:24:44.267Z"
   },
   {
    "duration": 27,
    "start_time": "2023-03-14T19:24:44.471Z"
   },
   {
    "duration": 8,
    "start_time": "2023-03-14T19:24:45.220Z"
   },
   {
    "duration": 6,
    "start_time": "2023-03-14T19:24:45.545Z"
   },
   {
    "duration": 9,
    "start_time": "2023-03-14T19:24:45.715Z"
   },
   {
    "duration": 12,
    "start_time": "2023-03-14T19:24:46.223Z"
   },
   {
    "duration": 8,
    "start_time": "2023-03-14T19:24:46.550Z"
   },
   {
    "duration": 7,
    "start_time": "2023-03-14T19:24:46.771Z"
   },
   {
    "duration": 6,
    "start_time": "2023-03-14T19:26:16.796Z"
   },
   {
    "duration": 95,
    "start_time": "2023-03-14T19:26:17.171Z"
   },
   {
    "duration": 20,
    "start_time": "2023-03-14T19:26:17.369Z"
   },
   {
    "duration": 17,
    "start_time": "2023-03-14T19:26:17.612Z"
   },
   {
    "duration": 11,
    "start_time": "2023-03-14T19:26:17.828Z"
   },
   {
    "duration": 16,
    "start_time": "2023-03-14T19:26:18.020Z"
   },
   {
    "duration": 5,
    "start_time": "2023-03-14T19:26:18.845Z"
   },
   {
    "duration": 6,
    "start_time": "2023-03-14T19:26:19.229Z"
   },
   {
    "duration": 13,
    "start_time": "2023-03-14T19:26:19.406Z"
   },
   {
    "duration": 9,
    "start_time": "2023-03-14T19:26:19.870Z"
   },
   {
    "duration": 8,
    "start_time": "2023-03-14T19:26:20.015Z"
   },
   {
    "duration": 7,
    "start_time": "2023-03-14T19:26:20.170Z"
   },
   {
    "duration": 19,
    "start_time": "2023-03-14T19:26:20.510Z"
   },
   {
    "duration": 19,
    "start_time": "2023-03-14T19:26:20.669Z"
   },
   {
    "duration": 7,
    "start_time": "2023-03-14T19:26:20.820Z"
   },
   {
    "duration": 10,
    "start_time": "2023-03-14T19:26:21.298Z"
   },
   {
    "duration": 21,
    "start_time": "2023-03-14T19:26:21.670Z"
   },
   {
    "duration": 198,
    "start_time": "2023-03-14T19:26:22.421Z"
   },
   {
    "duration": 11,
    "start_time": "2023-03-14T19:26:22.643Z"
   },
   {
    "duration": 13,
    "start_time": "2023-03-14T19:26:23.427Z"
   },
   {
    "duration": 8,
    "start_time": "2023-03-14T19:26:23.630Z"
   },
   {
    "duration": 617,
    "start_time": "2023-03-14T19:26:23.839Z"
   },
   {
    "duration": 54,
    "start_time": "2023-03-14T19:26:24.459Z"
   },
   {
    "duration": 3,
    "start_time": "2023-03-14T19:26:24.672Z"
   },
   {
    "duration": 6,
    "start_time": "2023-03-14T19:26:25.143Z"
   },
   {
    "duration": 216,
    "start_time": "2023-03-14T19:26:26.014Z"
   },
   {
    "duration": 18,
    "start_time": "2023-03-14T19:26:26.233Z"
   },
   {
    "duration": 134,
    "start_time": "2023-03-14T19:26:26.823Z"
   },
   {
    "duration": 221,
    "start_time": "2023-03-14T19:26:28.002Z"
   },
   {
    "duration": 285,
    "start_time": "2023-03-14T19:26:29.712Z"
   },
   {
    "duration": 37,
    "start_time": "2023-03-14T19:26:31.324Z"
   },
   {
    "duration": 219,
    "start_time": "2023-03-14T19:26:31.909Z"
   },
   {
    "duration": 9,
    "start_time": "2023-03-14T19:26:32.832Z"
   },
   {
    "duration": 188,
    "start_time": "2023-03-14T19:27:13.061Z"
   },
   {
    "duration": 258,
    "start_time": "2023-03-14T19:28:24.314Z"
   },
   {
    "duration": 196,
    "start_time": "2023-03-14T19:28:31.017Z"
   },
   {
    "duration": 261,
    "start_time": "2023-03-14T19:28:35.948Z"
   },
   {
    "duration": 229,
    "start_time": "2023-03-14T19:28:46.219Z"
   },
   {
    "duration": 1672,
    "start_time": "2023-03-14T19:29:08.214Z"
   },
   {
    "duration": 248,
    "start_time": "2023-03-14T19:29:25.809Z"
   },
   {
    "duration": 163,
    "start_time": "2023-03-14T19:29:37.646Z"
   },
   {
    "duration": 1279,
    "start_time": "2023-03-14T19:30:30.422Z"
   },
   {
    "duration": 8,
    "start_time": "2023-03-14T19:30:44.171Z"
   },
   {
    "duration": 6,
    "start_time": "2023-03-14T19:30:47.515Z"
   },
   {
    "duration": 6,
    "start_time": "2023-03-14T19:31:00.152Z"
   },
   {
    "duration": 8,
    "start_time": "2023-03-14T19:31:20.667Z"
   },
   {
    "duration": 7,
    "start_time": "2023-03-14T19:31:24.560Z"
   },
   {
    "duration": 201,
    "start_time": "2023-03-14T19:32:35.154Z"
   },
   {
    "duration": 290,
    "start_time": "2023-03-14T19:33:03.758Z"
   },
   {
    "duration": 183,
    "start_time": "2023-03-14T19:33:36.806Z"
   },
   {
    "duration": 161,
    "start_time": "2023-03-14T19:35:28.622Z"
   },
   {
    "duration": 42,
    "start_time": "2023-03-14T19:36:06.810Z"
   },
   {
    "duration": 204,
    "start_time": "2023-03-14T19:37:18.670Z"
   },
   {
    "duration": 142,
    "start_time": "2023-03-14T19:37:50.602Z"
   },
   {
    "duration": 156,
    "start_time": "2023-03-14T19:38:01.667Z"
   },
   {
    "duration": 145,
    "start_time": "2023-03-14T19:39:21.656Z"
   },
   {
    "duration": 161,
    "start_time": "2023-03-14T19:40:00.669Z"
   },
   {
    "duration": 143,
    "start_time": "2023-03-14T19:42:20.467Z"
   },
   {
    "duration": 148,
    "start_time": "2023-03-14T19:42:53.806Z"
   },
   {
    "duration": 79,
    "start_time": "2023-03-14T19:54:31.060Z"
   },
   {
    "duration": 163,
    "start_time": "2023-03-14T20:00:07.448Z"
   },
   {
    "duration": 11,
    "start_time": "2023-03-14T20:10:54.051Z"
   },
   {
    "duration": 6,
    "start_time": "2023-03-14T20:11:01.666Z"
   },
   {
    "duration": 9,
    "start_time": "2023-03-14T20:12:00.966Z"
   },
   {
    "duration": 43,
    "start_time": "2023-03-14T20:14:14.981Z"
   },
   {
    "duration": 14,
    "start_time": "2023-03-14T20:14:52.166Z"
   },
   {
    "duration": 23,
    "start_time": "2023-03-14T20:15:23.475Z"
   },
   {
    "duration": 23,
    "start_time": "2023-03-14T20:15:37.828Z"
   },
   {
    "duration": 107,
    "start_time": "2023-03-14T20:16:21.351Z"
   },
   {
    "duration": 18,
    "start_time": "2023-03-14T20:16:39.448Z"
   },
   {
    "duration": 180,
    "start_time": "2023-03-14T20:19:09.487Z"
   },
   {
    "duration": 181,
    "start_time": "2023-03-14T20:20:17.660Z"
   },
   {
    "duration": 307,
    "start_time": "2023-03-14T20:21:54.502Z"
   },
   {
    "duration": 191,
    "start_time": "2023-03-14T20:22:06.314Z"
   },
   {
    "duration": 932,
    "start_time": "2023-03-15T08:53:31.321Z"
   },
   {
    "duration": 130,
    "start_time": "2023-03-15T08:53:32.256Z"
   },
   {
    "duration": 24,
    "start_time": "2023-03-15T08:53:32.388Z"
   },
   {
    "duration": 20,
    "start_time": "2023-03-15T08:53:32.414Z"
   },
   {
    "duration": 12,
    "start_time": "2023-03-15T08:53:32.948Z"
   },
   {
    "duration": 19,
    "start_time": "2023-03-15T08:53:33.764Z"
   },
   {
    "duration": 5,
    "start_time": "2023-03-15T08:53:36.214Z"
   },
   {
    "duration": 7,
    "start_time": "2023-03-15T08:53:37.112Z"
   },
   {
    "duration": 9,
    "start_time": "2023-03-15T08:53:37.519Z"
   },
   {
    "duration": 9,
    "start_time": "2023-03-15T08:53:38.612Z"
   },
   {
    "duration": 9,
    "start_time": "2023-03-15T08:53:38.919Z"
   },
   {
    "duration": 6,
    "start_time": "2023-03-15T08:53:39.248Z"
   },
   {
    "duration": 26,
    "start_time": "2023-03-15T08:53:40.156Z"
   },
   {
    "duration": 13,
    "start_time": "2023-03-15T08:53:40.537Z"
   },
   {
    "duration": 15,
    "start_time": "2023-03-15T08:53:40.964Z"
   },
   {
    "duration": 6,
    "start_time": "2023-03-15T08:53:41.640Z"
   },
   {
    "duration": 25,
    "start_time": "2023-03-15T08:53:42.065Z"
   },
   {
    "duration": 211,
    "start_time": "2023-03-15T08:53:43.531Z"
   },
   {
    "duration": 9,
    "start_time": "2023-03-15T08:53:43.997Z"
   },
   {
    "duration": 13,
    "start_time": "2023-03-15T08:53:46.040Z"
   },
   {
    "duration": 9,
    "start_time": "2023-03-15T08:53:46.524Z"
   },
   {
    "duration": 660,
    "start_time": "2023-03-15T08:53:47.331Z"
   },
   {
    "duration": 50,
    "start_time": "2023-03-15T08:53:50.139Z"
   },
   {
    "duration": 9,
    "start_time": "2023-03-15T08:53:52.778Z"
   },
   {
    "duration": 5,
    "start_time": "2023-03-15T08:53:54.451Z"
   },
   {
    "duration": 184,
    "start_time": "2023-03-15T08:53:58.623Z"
   },
   {
    "duration": 10,
    "start_time": "2023-03-15T08:53:59.851Z"
   },
   {
    "duration": 198,
    "start_time": "2023-03-15T08:54:01.739Z"
   },
   {
    "duration": 235,
    "start_time": "2023-03-15T08:54:04.157Z"
   },
   {
    "duration": 215,
    "start_time": "2023-03-15T08:54:05.640Z"
   },
   {
    "duration": 61,
    "start_time": "2023-03-15T08:54:07.360Z"
   },
   {
    "duration": 167,
    "start_time": "2023-03-15T08:54:07.723Z"
   },
   {
    "duration": 158,
    "start_time": "2023-03-15T08:54:08.133Z"
   },
   {
    "duration": 188,
    "start_time": "2023-03-15T08:54:09.446Z"
   },
   {
    "duration": 171,
    "start_time": "2023-03-15T08:54:10.025Z"
   },
   {
    "duration": 146,
    "start_time": "2023-03-15T08:54:24.313Z"
   },
   {
    "duration": 170,
    "start_time": "2023-03-15T08:54:30.120Z"
   },
   {
    "duration": 229,
    "start_time": "2023-03-15T08:54:32.934Z"
   },
   {
    "duration": 214,
    "start_time": "2023-03-15T08:54:47.525Z"
   },
   {
    "duration": 246,
    "start_time": "2023-03-15T08:55:07.299Z"
   },
   {
    "duration": 103,
    "start_time": "2023-03-15T08:57:48.947Z"
   },
   {
    "duration": 10,
    "start_time": "2023-03-15T09:00:24.389Z"
   },
   {
    "duration": 28,
    "start_time": "2023-03-15T09:13:10.363Z"
   },
   {
    "duration": 28,
    "start_time": "2023-03-15T09:13:48.868Z"
   },
   {
    "duration": 1620,
    "start_time": "2023-03-15T09:15:07.816Z"
   },
   {
    "duration": 1415,
    "start_time": "2023-03-15T09:15:44.329Z"
   },
   {
    "duration": 17,
    "start_time": "2023-03-15T09:15:56.813Z"
   },
   {
    "duration": 284,
    "start_time": "2023-03-15T09:16:16.825Z"
   },
   {
    "duration": 231,
    "start_time": "2023-03-15T09:16:53.883Z"
   },
   {
    "duration": 279,
    "start_time": "2023-03-15T09:17:14.518Z"
   },
   {
    "duration": 206,
    "start_time": "2023-03-15T09:17:26.659Z"
   },
   {
    "duration": 233,
    "start_time": "2023-03-15T09:17:31.929Z"
   },
   {
    "duration": 205,
    "start_time": "2023-03-15T09:17:59.619Z"
   },
   {
    "duration": 268,
    "start_time": "2023-03-15T09:18:50.516Z"
   },
   {
    "duration": 23,
    "start_time": "2023-03-15T09:19:18.784Z"
   },
   {
    "duration": 1440,
    "start_time": "2023-03-15T09:19:32.649Z"
   },
   {
    "duration": 203,
    "start_time": "2023-03-15T09:19:45.441Z"
   },
   {
    "duration": 233,
    "start_time": "2023-03-15T09:21:42.610Z"
   },
   {
    "duration": 218,
    "start_time": "2023-03-15T09:21:49.918Z"
   },
   {
    "duration": 354,
    "start_time": "2023-03-15T09:30:50.734Z"
   },
   {
    "duration": 260,
    "start_time": "2023-03-15T09:32:21.771Z"
   },
   {
    "duration": 222,
    "start_time": "2023-03-15T09:33:21.482Z"
   },
   {
    "duration": 16,
    "start_time": "2023-03-15T09:35:13.126Z"
   },
   {
    "duration": 238,
    "start_time": "2023-03-15T09:35:20.644Z"
   },
   {
    "duration": 388,
    "start_time": "2023-03-15T09:37:55.228Z"
   },
   {
    "duration": 501,
    "start_time": "2023-03-15T09:38:46.811Z"
   },
   {
    "duration": 169,
    "start_time": "2023-03-15T09:39:17.538Z"
   },
   {
    "duration": 7,
    "start_time": "2023-03-15T09:40:52.751Z"
   },
   {
    "duration": 181,
    "start_time": "2023-03-15T09:42:17.551Z"
   },
   {
    "duration": 145,
    "start_time": "2023-03-15T09:43:15.811Z"
   },
   {
    "duration": 139,
    "start_time": "2023-03-15T09:43:22.927Z"
   },
   {
    "duration": 159,
    "start_time": "2023-03-15T09:44:06.440Z"
   },
   {
    "duration": 235,
    "start_time": "2023-03-15T09:44:28.680Z"
   },
   {
    "duration": 133,
    "start_time": "2023-03-15T09:48:29.027Z"
   },
   {
    "duration": 91,
    "start_time": "2023-03-15T09:52:32.087Z"
   },
   {
    "duration": 93,
    "start_time": "2023-03-15T10:12:42.873Z"
   },
   {
    "duration": 80,
    "start_time": "2023-03-15T10:13:46.578Z"
   },
   {
    "duration": 138,
    "start_time": "2023-03-15T10:21:23.138Z"
   },
   {
    "duration": 147,
    "start_time": "2023-03-15T10:21:24.559Z"
   },
   {
    "duration": 129,
    "start_time": "2023-03-15T10:21:25.182Z"
   },
   {
    "duration": 443,
    "start_time": "2023-03-15T10:37:15.265Z"
   },
   {
    "duration": 7,
    "start_time": "2023-03-15T10:44:31.415Z"
   },
   {
    "duration": 47,
    "start_time": "2023-03-15T10:47:10.072Z"
   },
   {
    "duration": 19,
    "start_time": "2023-03-15T10:47:22.629Z"
   },
   {
    "duration": 18,
    "start_time": "2023-03-15T10:47:49.975Z"
   },
   {
    "duration": 8,
    "start_time": "2023-03-15T10:49:10.119Z"
   },
   {
    "duration": 6,
    "start_time": "2023-03-15T10:49:12.616Z"
   },
   {
    "duration": 9,
    "start_time": "2023-03-15T10:49:39.132Z"
   },
   {
    "duration": 8,
    "start_time": "2023-03-15T10:52:52.455Z"
   },
   {
    "duration": 9,
    "start_time": "2023-03-15T10:53:06.277Z"
   },
   {
    "duration": 9,
    "start_time": "2023-03-15T10:53:23.073Z"
   },
   {
    "duration": 75,
    "start_time": "2023-03-15T10:56:43.004Z"
   },
   {
    "duration": 8,
    "start_time": "2023-03-15T11:00:33.727Z"
   },
   {
    "duration": 10,
    "start_time": "2023-03-15T11:01:24.812Z"
   },
   {
    "duration": 12,
    "start_time": "2023-03-15T11:02:05.957Z"
   },
   {
    "duration": 12,
    "start_time": "2023-03-15T11:03:05.627Z"
   },
   {
    "duration": 12,
    "start_time": "2023-03-15T11:03:07.228Z"
   },
   {
    "duration": 9,
    "start_time": "2023-03-15T11:19:37.639Z"
   },
   {
    "duration": 10,
    "start_time": "2023-03-15T11:19:46.408Z"
   },
   {
    "duration": 8,
    "start_time": "2023-03-15T11:21:13.221Z"
   },
   {
    "duration": 9,
    "start_time": "2023-03-15T11:21:24.875Z"
   },
   {
    "duration": 11,
    "start_time": "2023-03-15T11:21:34.301Z"
   },
   {
    "duration": 11,
    "start_time": "2023-03-15T11:21:36.976Z"
   },
   {
    "duration": 9,
    "start_time": "2023-03-15T11:22:22.937Z"
   },
   {
    "duration": 77,
    "start_time": "2023-03-15T11:24:39.409Z"
   },
   {
    "duration": 87,
    "start_time": "2023-03-15T11:25:32.534Z"
   },
   {
    "duration": 3,
    "start_time": "2023-03-15T11:39:18.854Z"
   },
   {
    "duration": 53,
    "start_time": "2023-03-15T11:39:19.601Z"
   },
   {
    "duration": 16,
    "start_time": "2023-03-15T11:39:19.926Z"
   },
   {
    "duration": 29,
    "start_time": "2023-03-15T11:39:20.170Z"
   },
   {
    "duration": 12,
    "start_time": "2023-03-15T11:39:20.522Z"
   },
   {
    "duration": 17,
    "start_time": "2023-03-15T11:39:20.905Z"
   },
   {
    "duration": 8,
    "start_time": "2023-03-15T11:39:23.290Z"
   },
   {
    "duration": 17,
    "start_time": "2023-03-15T11:39:23.301Z"
   },
   {
    "duration": 15,
    "start_time": "2023-03-15T11:39:23.466Z"
   },
   {
    "duration": 8,
    "start_time": "2023-03-15T11:39:24.414Z"
   },
   {
    "duration": 7,
    "start_time": "2023-03-15T11:39:24.606Z"
   },
   {
    "duration": 8,
    "start_time": "2023-03-15T11:39:24.890Z"
   },
   {
    "duration": 15,
    "start_time": "2023-03-15T11:39:25.517Z"
   },
   {
    "duration": 11,
    "start_time": "2023-03-15T11:39:25.805Z"
   },
   {
    "duration": 7,
    "start_time": "2023-03-15T11:39:26.414Z"
   },
   {
    "duration": 5,
    "start_time": "2023-03-15T11:39:27.026Z"
   },
   {
    "duration": 17,
    "start_time": "2023-03-15T11:39:27.294Z"
   },
   {
    "duration": 277,
    "start_time": "2023-03-15T11:39:28.302Z"
   },
   {
    "duration": 9,
    "start_time": "2023-03-15T11:39:28.737Z"
   },
   {
    "duration": 16,
    "start_time": "2023-03-15T11:39:29.665Z"
   },
   {
    "duration": 10,
    "start_time": "2023-03-15T11:39:29.921Z"
   },
   {
    "duration": 661,
    "start_time": "2023-03-15T11:39:30.217Z"
   },
   {
    "duration": 40,
    "start_time": "2023-03-15T11:39:30.880Z"
   },
   {
    "duration": 3,
    "start_time": "2023-03-15T11:39:31.106Z"
   },
   {
    "duration": 6,
    "start_time": "2023-03-15T11:39:41.440Z"
   },
   {
    "duration": 172,
    "start_time": "2023-03-15T11:39:42.894Z"
   },
   {
    "duration": 9,
    "start_time": "2023-03-15T11:39:43.217Z"
   },
   {
    "duration": 127,
    "start_time": "2023-03-15T11:39:44.509Z"
   },
   {
    "duration": 181,
    "start_time": "2023-03-15T11:39:45.821Z"
   },
   {
    "duration": 192,
    "start_time": "2023-03-15T11:39:46.506Z"
   },
   {
    "duration": 44,
    "start_time": "2023-03-15T11:39:48.936Z"
   },
   {
    "duration": 173,
    "start_time": "2023-03-15T11:39:49.225Z"
   },
   {
    "duration": 170,
    "start_time": "2023-03-15T11:39:49.446Z"
   },
   {
    "duration": 165,
    "start_time": "2023-03-15T11:39:50.002Z"
   },
   {
    "duration": 159,
    "start_time": "2023-03-15T11:39:50.205Z"
   },
   {
    "duration": 154,
    "start_time": "2023-03-15T11:39:51.109Z"
   },
   {
    "duration": 150,
    "start_time": "2023-03-15T11:39:51.401Z"
   },
   {
    "duration": 345,
    "start_time": "2023-03-15T11:39:52.601Z"
   },
   {
    "duration": 209,
    "start_time": "2023-03-15T11:39:54.553Z"
   },
   {
    "duration": 215,
    "start_time": "2023-03-15T11:39:54.840Z"
   },
   {
    "duration": 209,
    "start_time": "2023-03-15T11:39:55.422Z"
   },
   {
    "duration": 234,
    "start_time": "2023-03-15T11:39:57.095Z"
   },
   {
    "duration": 233,
    "start_time": "2023-03-15T11:39:57.803Z"
   },
   {
    "duration": 229,
    "start_time": "2023-03-15T11:39:58.232Z"
   },
   {
    "duration": 155,
    "start_time": "2023-03-15T11:39:59.317Z"
   },
   {
    "duration": 138,
    "start_time": "2023-03-15T11:40:00.106Z"
   },
   {
    "duration": 132,
    "start_time": "2023-03-15T11:40:01.214Z"
   },
   {
    "duration": 11,
    "start_time": "2023-03-15T11:40:04.306Z"
   },
   {
    "duration": 11,
    "start_time": "2023-03-15T11:40:06.691Z"
   },
   {
    "duration": 9,
    "start_time": "2023-03-15T11:40:12.502Z"
   },
   {
    "duration": 1166,
    "start_time": "2023-03-15T11:51:32.058Z"
   },
   {
    "duration": 59,
    "start_time": "2023-03-15T11:51:33.226Z"
   },
   {
    "duration": 18,
    "start_time": "2023-03-15T11:51:33.287Z"
   },
   {
    "duration": 18,
    "start_time": "2023-03-15T11:51:33.308Z"
   },
   {
    "duration": 13,
    "start_time": "2023-03-15T11:51:33.328Z"
   },
   {
    "duration": 22,
    "start_time": "2023-03-15T11:51:33.359Z"
   },
   {
    "duration": 4,
    "start_time": "2023-03-15T11:51:33.383Z"
   },
   {
    "duration": 8,
    "start_time": "2023-03-15T11:51:33.388Z"
   },
   {
    "duration": 9,
    "start_time": "2023-03-15T11:51:33.398Z"
   },
   {
    "duration": 8,
    "start_time": "2023-03-15T11:51:33.409Z"
   },
   {
    "duration": 8,
    "start_time": "2023-03-15T11:51:33.418Z"
   },
   {
    "duration": 31,
    "start_time": "2023-03-15T11:51:33.428Z"
   },
   {
    "duration": 20,
    "start_time": "2023-03-15T11:51:33.463Z"
   },
   {
    "duration": 9,
    "start_time": "2023-03-15T11:51:33.484Z"
   },
   {
    "duration": 11,
    "start_time": "2023-03-15T11:51:33.494Z"
   },
   {
    "duration": 9,
    "start_time": "2023-03-15T11:51:33.507Z"
   },
   {
    "duration": 18,
    "start_time": "2023-03-15T11:51:33.518Z"
   },
   {
    "duration": 206,
    "start_time": "2023-03-15T11:51:33.537Z"
   },
   {
    "duration": 14,
    "start_time": "2023-03-15T11:51:33.745Z"
   },
   {
    "duration": 24,
    "start_time": "2023-03-15T11:51:33.761Z"
   },
   {
    "duration": 8,
    "start_time": "2023-03-15T11:51:33.787Z"
   },
   {
    "duration": 636,
    "start_time": "2023-03-15T11:51:33.797Z"
   },
   {
    "duration": 37,
    "start_time": "2023-03-15T11:51:34.435Z"
   },
   {
    "duration": 5,
    "start_time": "2023-03-15T11:51:34.473Z"
   },
   {
    "duration": 161,
    "start_time": "2023-03-15T11:51:34.479Z"
   },
   {
    "duration": 8,
    "start_time": "2023-03-15T11:51:34.642Z"
   },
   {
    "duration": 130,
    "start_time": "2023-03-15T11:51:34.665Z"
   },
   {
    "duration": 167,
    "start_time": "2023-03-15T11:51:34.800Z"
   },
   {
    "duration": 161,
    "start_time": "2023-03-15T11:51:34.970Z"
   },
   {
    "duration": 57,
    "start_time": "2023-03-15T11:51:35.133Z"
   },
   {
    "duration": 202,
    "start_time": "2023-03-15T11:51:35.192Z"
   },
   {
    "duration": 179,
    "start_time": "2023-03-15T11:51:35.395Z"
   },
   {
    "duration": 225,
    "start_time": "2023-03-15T11:51:35.578Z"
   },
   {
    "duration": 155,
    "start_time": "2023-03-15T11:51:35.804Z"
   },
   {
    "duration": 148,
    "start_time": "2023-03-15T11:51:35.961Z"
   },
   {
    "duration": 144,
    "start_time": "2023-03-15T11:51:36.110Z"
   },
   {
    "duration": 199,
    "start_time": "2023-03-15T11:51:36.258Z"
   },
   {
    "duration": 193,
    "start_time": "2023-03-15T11:51:36.465Z"
   },
   {
    "duration": 209,
    "start_time": "2023-03-15T11:51:36.660Z"
   },
   {
    "duration": 203,
    "start_time": "2023-03-15T11:51:36.871Z"
   },
   {
    "duration": 239,
    "start_time": "2023-03-15T11:51:37.075Z"
   },
   {
    "duration": 230,
    "start_time": "2023-03-15T11:51:37.316Z"
   },
   {
    "duration": 239,
    "start_time": "2023-03-15T11:51:37.547Z"
   },
   {
    "duration": 223,
    "start_time": "2023-03-15T11:51:37.787Z"
   },
   {
    "duration": 134,
    "start_time": "2023-03-15T11:51:38.011Z"
   },
   {
    "duration": 136,
    "start_time": "2023-03-15T11:51:38.146Z"
   },
   {
    "duration": 16,
    "start_time": "2023-03-15T11:51:38.284Z"
   },
   {
    "duration": 14,
    "start_time": "2023-03-15T11:51:38.301Z"
   },
   {
    "duration": 1195,
    "start_time": "2023-03-15T11:51:55.117Z"
   },
   {
    "duration": 53,
    "start_time": "2023-03-15T11:51:56.314Z"
   },
   {
    "duration": 20,
    "start_time": "2023-03-15T11:51:56.369Z"
   },
   {
    "duration": 22,
    "start_time": "2023-03-15T11:51:56.391Z"
   },
   {
    "duration": 13,
    "start_time": "2023-03-15T11:51:56.417Z"
   },
   {
    "duration": 40,
    "start_time": "2023-03-15T11:51:56.432Z"
   },
   {
    "duration": 6,
    "start_time": "2023-03-15T11:51:56.473Z"
   },
   {
    "duration": 12,
    "start_time": "2023-03-15T11:51:56.482Z"
   },
   {
    "duration": 14,
    "start_time": "2023-03-15T11:51:56.497Z"
   },
   {
    "duration": 10,
    "start_time": "2023-03-15T11:51:56.514Z"
   },
   {
    "duration": 31,
    "start_time": "2023-03-15T11:51:56.526Z"
   },
   {
    "duration": 6,
    "start_time": "2023-03-15T11:51:56.560Z"
   },
   {
    "duration": 20,
    "start_time": "2023-03-15T11:51:56.568Z"
   },
   {
    "duration": 8,
    "start_time": "2023-03-15T11:51:56.591Z"
   },
   {
    "duration": 9,
    "start_time": "2023-03-15T11:51:56.601Z"
   },
   {
    "duration": 7,
    "start_time": "2023-03-15T11:51:56.611Z"
   },
   {
    "duration": 48,
    "start_time": "2023-03-15T11:51:56.620Z"
   },
   {
    "duration": 177,
    "start_time": "2023-03-15T11:51:56.669Z"
   },
   {
    "duration": 14,
    "start_time": "2023-03-15T11:51:56.848Z"
   },
   {
    "duration": 13,
    "start_time": "2023-03-15T11:51:56.864Z"
   },
   {
    "duration": 13,
    "start_time": "2023-03-15T11:51:56.878Z"
   },
   {
    "duration": 571,
    "start_time": "2023-03-15T11:51:56.893Z"
   },
   {
    "duration": 30,
    "start_time": "2023-03-15T11:51:57.466Z"
   },
   {
    "duration": 4,
    "start_time": "2023-03-15T11:51:57.498Z"
   },
   {
    "duration": 163,
    "start_time": "2023-03-15T11:51:57.503Z"
   },
   {
    "duration": 8,
    "start_time": "2023-03-15T11:51:57.668Z"
   },
   {
    "duration": 125,
    "start_time": "2023-03-15T11:51:57.677Z"
   },
   {
    "duration": 168,
    "start_time": "2023-03-15T11:51:57.804Z"
   },
   {
    "duration": 167,
    "start_time": "2023-03-15T11:51:57.973Z"
   },
   {
    "duration": 45,
    "start_time": "2023-03-15T11:51:58.142Z"
   },
   {
    "duration": 148,
    "start_time": "2023-03-15T11:51:58.189Z"
   },
   {
    "duration": 152,
    "start_time": "2023-03-15T11:51:58.339Z"
   },
   {
    "duration": 217,
    "start_time": "2023-03-15T11:51:58.493Z"
   },
   {
    "duration": 150,
    "start_time": "2023-03-15T11:51:58.712Z"
   },
   {
    "duration": 142,
    "start_time": "2023-03-15T11:51:58.864Z"
   },
   {
    "duration": 150,
    "start_time": "2023-03-15T11:51:59.008Z"
   },
   {
    "duration": 201,
    "start_time": "2023-03-15T11:51:59.159Z"
   },
   {
    "duration": 193,
    "start_time": "2023-03-15T11:51:59.361Z"
   },
   {
    "duration": 192,
    "start_time": "2023-03-15T11:51:59.557Z"
   },
   {
    "duration": 179,
    "start_time": "2023-03-15T11:51:59.757Z"
   },
   {
    "duration": 234,
    "start_time": "2023-03-15T11:51:59.940Z"
   },
   {
    "duration": 224,
    "start_time": "2023-03-15T11:52:00.176Z"
   },
   {
    "duration": 221,
    "start_time": "2023-03-15T11:52:00.402Z"
   },
   {
    "duration": 225,
    "start_time": "2023-03-15T11:52:00.625Z"
   },
   {
    "duration": 127,
    "start_time": "2023-03-15T11:52:00.857Z"
   },
   {
    "duration": 131,
    "start_time": "2023-03-15T11:52:00.986Z"
   },
   {
    "duration": 8,
    "start_time": "2023-03-15T11:52:01.118Z"
   },
   {
    "duration": 37,
    "start_time": "2023-03-15T11:52:01.128Z"
   },
   {
    "duration": 37,
    "start_time": "2023-03-15T15:16:18.309Z"
   },
   {
    "duration": 1001,
    "start_time": "2023-03-15T15:16:31.608Z"
   },
   {
    "duration": 57,
    "start_time": "2023-03-15T15:16:32.610Z"
   },
   {
    "duration": 17,
    "start_time": "2023-03-15T15:16:32.669Z"
   },
   {
    "duration": 13,
    "start_time": "2023-03-15T15:16:32.687Z"
   },
   {
    "duration": 7,
    "start_time": "2023-03-15T15:16:32.702Z"
   },
   {
    "duration": 15,
    "start_time": "2023-03-15T15:16:32.711Z"
   },
   {
    "duration": 5,
    "start_time": "2023-03-15T15:16:32.757Z"
   },
   {
    "duration": 9,
    "start_time": "2023-03-15T15:16:32.764Z"
   },
   {
    "duration": 8,
    "start_time": "2023-03-15T15:16:32.774Z"
   },
   {
    "duration": 11,
    "start_time": "2023-03-15T15:16:32.783Z"
   },
   {
    "duration": 6,
    "start_time": "2023-03-15T15:16:32.795Z"
   },
   {
    "duration": 8,
    "start_time": "2023-03-15T15:16:32.802Z"
   },
   {
    "duration": 12,
    "start_time": "2023-03-15T15:16:32.812Z"
   },
   {
    "duration": 32,
    "start_time": "2023-03-15T15:16:32.828Z"
   },
   {
    "duration": 5,
    "start_time": "2023-03-15T15:16:32.862Z"
   },
   {
    "duration": 7,
    "start_time": "2023-03-15T15:16:32.869Z"
   },
   {
    "duration": 18,
    "start_time": "2023-03-15T15:16:32.877Z"
   },
   {
    "duration": 96,
    "start_time": "2023-03-15T15:16:32.896Z"
   },
   {
    "duration": 168,
    "start_time": "2023-03-15T15:16:32.993Z"
   },
   {
    "duration": 7,
    "start_time": "2023-03-15T15:16:33.163Z"
   },
   {
    "duration": 19,
    "start_time": "2023-03-15T15:16:33.171Z"
   },
   {
    "duration": 21,
    "start_time": "2023-03-15T15:16:33.191Z"
   },
   {
    "duration": 475,
    "start_time": "2023-03-15T15:16:33.214Z"
   },
   {
    "duration": 27,
    "start_time": "2023-03-15T15:16:33.691Z"
   },
   {
    "duration": 4,
    "start_time": "2023-03-15T15:16:33.720Z"
   },
   {
    "duration": 148,
    "start_time": "2023-03-15T15:16:33.726Z"
   },
   {
    "duration": 8,
    "start_time": "2023-03-15T15:16:33.876Z"
   },
   {
    "duration": 118,
    "start_time": "2023-03-15T15:16:33.885Z"
   },
   {
    "duration": 137,
    "start_time": "2023-03-15T15:16:34.004Z"
   },
   {
    "duration": 158,
    "start_time": "2023-03-15T15:16:34.142Z"
   },
   {
    "duration": 56,
    "start_time": "2023-03-15T15:16:34.302Z"
   },
   {
    "duration": 144,
    "start_time": "2023-03-15T15:16:34.360Z"
   },
   {
    "duration": 167,
    "start_time": "2023-03-15T15:16:34.506Z"
   },
   {
    "duration": 389,
    "start_time": "2023-03-15T15:16:34.675Z"
   },
   {
    "duration": 292,
    "start_time": "2023-03-15T15:16:35.066Z"
   },
   {
    "duration": 301,
    "start_time": "2023-03-15T15:16:35.360Z"
   },
   {
    "duration": 228,
    "start_time": "2023-03-15T15:16:35.663Z"
   },
   {
    "duration": 368,
    "start_time": "2023-03-15T15:16:35.893Z"
   },
   {
    "duration": 231,
    "start_time": "2023-03-15T15:16:36.262Z"
   },
   {
    "duration": 167,
    "start_time": "2023-03-15T15:16:36.495Z"
   },
   {
    "duration": 160,
    "start_time": "2023-03-15T15:16:36.665Z"
   },
   {
    "duration": 213,
    "start_time": "2023-03-15T15:16:36.826Z"
   },
   {
    "duration": 209,
    "start_time": "2023-03-15T15:16:37.040Z"
   },
   {
    "duration": 190,
    "start_time": "2023-03-15T15:16:37.251Z"
   },
   {
    "duration": 187,
    "start_time": "2023-03-15T15:16:37.443Z"
   },
   {
    "duration": 114,
    "start_time": "2023-03-15T15:16:37.632Z"
   },
   {
    "duration": 102,
    "start_time": "2023-03-15T15:16:37.747Z"
   },
   {
    "duration": 7,
    "start_time": "2023-03-15T15:16:37.856Z"
   },
   {
    "duration": 11,
    "start_time": "2023-03-15T15:16:37.864Z"
   },
   {
    "duration": 51,
    "start_time": "2023-03-15T18:56:18.936Z"
   },
   {
    "duration": 1512,
    "start_time": "2023-03-15T18:56:25.177Z"
   },
   {
    "duration": 107,
    "start_time": "2023-03-15T18:56:26.691Z"
   },
   {
    "duration": 22,
    "start_time": "2023-03-15T18:56:26.800Z"
   },
   {
    "duration": 26,
    "start_time": "2023-03-15T18:56:26.824Z"
   },
   {
    "duration": 18,
    "start_time": "2023-03-15T18:56:26.852Z"
   },
   {
    "duration": 26,
    "start_time": "2023-03-15T18:56:26.872Z"
   },
   {
    "duration": 6,
    "start_time": "2023-03-15T18:56:28.090Z"
   },
   {
    "duration": 6,
    "start_time": "2023-03-15T18:56:28.659Z"
   },
   {
    "duration": 8,
    "start_time": "2023-03-15T18:56:28.966Z"
   },
   {
    "duration": 8,
    "start_time": "2023-03-15T18:56:29.671Z"
   },
   {
    "duration": 3,
    "start_time": "2023-03-15T18:56:30.242Z"
   },
   {
    "duration": 5,
    "start_time": "2023-03-15T18:56:30.417Z"
   },
   {
    "duration": 6,
    "start_time": "2023-03-15T18:56:44.158Z"
   },
   {
    "duration": 15,
    "start_time": "2023-03-15T18:56:46.593Z"
   },
   {
    "duration": 11,
    "start_time": "2023-03-15T18:56:47.674Z"
   },
   {
    "duration": 10,
    "start_time": "2023-03-15T18:56:49.175Z"
   },
   {
    "duration": 6,
    "start_time": "2023-03-15T18:56:52.451Z"
   },
   {
    "duration": 17,
    "start_time": "2023-03-15T18:56:55.120Z"
   },
   {
    "duration": 80,
    "start_time": "2023-03-15T18:57:07.127Z"
   },
   {
    "duration": 63,
    "start_time": "2023-03-15T18:58:03.669Z"
   },
   {
    "duration": 157,
    "start_time": "2023-03-15T18:58:41.356Z"
   },
   {
    "duration": 168,
    "start_time": "2023-03-15T19:00:53.712Z"
   },
   {
    "duration": 180,
    "start_time": "2023-03-15T19:01:34.064Z"
   },
   {
    "duration": 162,
    "start_time": "2023-03-15T19:02:10.975Z"
   },
   {
    "duration": 175,
    "start_time": "2023-03-15T19:03:07.434Z"
   },
   {
    "duration": 172,
    "start_time": "2023-03-15T19:03:24.832Z"
   },
   {
    "duration": 166,
    "start_time": "2023-03-15T19:03:44.327Z"
   },
   {
    "duration": 8,
    "start_time": "2023-03-15T19:03:48.953Z"
   },
   {
    "duration": 71,
    "start_time": "2023-03-15T19:04:11.132Z"
   },
   {
    "duration": 8,
    "start_time": "2023-03-15T19:04:29.916Z"
   },
   {
    "duration": 9,
    "start_time": "2023-03-15T19:04:45.243Z"
   },
   {
    "duration": 9,
    "start_time": "2023-03-15T19:05:00.135Z"
   },
   {
    "duration": 334,
    "start_time": "2023-03-15T19:07:16.794Z"
   },
   {
    "duration": 384,
    "start_time": "2023-03-15T19:07:29.378Z"
   },
   {
    "duration": 5,
    "start_time": "2023-03-15T19:09:15.835Z"
   },
   {
    "duration": 327,
    "start_time": "2023-03-15T19:09:21.049Z"
   },
   {
    "duration": 551,
    "start_time": "2023-03-15T19:10:03.276Z"
   },
   {
    "duration": 452,
    "start_time": "2023-03-15T19:10:13.781Z"
   },
   {
    "duration": 498,
    "start_time": "2023-03-15T19:10:20.867Z"
   },
   {
    "duration": 572,
    "start_time": "2023-03-15T19:10:34.098Z"
   },
   {
    "duration": 505,
    "start_time": "2023-03-15T19:10:42.566Z"
   },
   {
    "duration": 548,
    "start_time": "2023-03-15T19:10:51.551Z"
   },
   {
    "duration": 579,
    "start_time": "2023-03-15T19:11:02.104Z"
   },
   {
    "duration": 10,
    "start_time": "2023-03-15T19:11:17.655Z"
   },
   {
    "duration": 10,
    "start_time": "2023-03-15T19:11:23.672Z"
   },
   {
    "duration": 8,
    "start_time": "2023-03-15T19:11:37.493Z"
   },
   {
    "duration": 299,
    "start_time": "2023-03-15T19:11:47.924Z"
   },
   {
    "duration": 10,
    "start_time": "2023-03-15T19:11:48.980Z"
   },
   {
    "duration": 513,
    "start_time": "2023-03-15T19:11:50.255Z"
   },
   {
    "duration": 10,
    "start_time": "2023-03-15T19:11:51.398Z"
   },
   {
    "duration": 434,
    "start_time": "2023-03-15T19:12:38.483Z"
   },
   {
    "duration": 8,
    "start_time": "2023-03-15T19:12:40.113Z"
   },
   {
    "duration": 575,
    "start_time": "2023-03-15T19:12:42.310Z"
   },
   {
    "duration": 32,
    "start_time": "2023-03-15T19:12:43.900Z"
   },
   {
    "duration": 330,
    "start_time": "2023-03-15T19:13:01.134Z"
   },
   {
    "duration": 10,
    "start_time": "2023-03-15T19:13:02.159Z"
   },
   {
    "duration": 559,
    "start_time": "2023-03-15T19:13:03.658Z"
   },
   {
    "duration": 35,
    "start_time": "2023-03-15T19:13:04.831Z"
   },
   {
    "duration": 6,
    "start_time": "2023-03-15T19:13:07.861Z"
   },
   {
    "duration": 162,
    "start_time": "2023-03-15T19:13:11.099Z"
   },
   {
    "duration": 237,
    "start_time": "2023-03-15T19:13:35.771Z"
   },
   {
    "duration": 13,
    "start_time": "2023-03-15T19:13:56.032Z"
   },
   {
    "duration": 152,
    "start_time": "2023-03-15T19:16:28.683Z"
   },
   {
    "duration": 36,
    "start_time": "2023-03-15T19:18:21.714Z"
   },
   {
    "duration": 34,
    "start_time": "2023-03-15T19:18:55.197Z"
   },
   {
    "duration": 26,
    "start_time": "2023-03-15T19:18:59.362Z"
   },
   {
    "duration": 26,
    "start_time": "2023-03-15T19:19:01.454Z"
   },
   {
    "duration": 3,
    "start_time": "2023-03-15T19:51:02.064Z"
   },
   {
    "duration": 52,
    "start_time": "2023-03-15T19:51:02.294Z"
   },
   {
    "duration": 16,
    "start_time": "2023-03-15T19:51:02.468Z"
   },
   {
    "duration": 16,
    "start_time": "2023-03-15T19:51:02.676Z"
   },
   {
    "duration": 11,
    "start_time": "2023-03-15T19:51:02.834Z"
   },
   {
    "duration": 18,
    "start_time": "2023-03-15T19:51:03.003Z"
   },
   {
    "duration": 5,
    "start_time": "2023-03-15T19:51:04.035Z"
   },
   {
    "duration": 6,
    "start_time": "2023-03-15T19:51:04.572Z"
   },
   {
    "duration": 9,
    "start_time": "2023-03-15T19:51:04.719Z"
   },
   {
    "duration": 8,
    "start_time": "2023-03-15T19:51:05.396Z"
   },
   {
    "duration": 2,
    "start_time": "2023-03-15T19:51:05.840Z"
   },
   {
    "duration": 5,
    "start_time": "2023-03-15T19:51:06.011Z"
   },
   {
    "duration": 6,
    "start_time": "2023-03-15T19:51:06.539Z"
   },
   {
    "duration": 13,
    "start_time": "2023-03-15T19:51:07.015Z"
   },
   {
    "duration": 9,
    "start_time": "2023-03-15T19:51:07.196Z"
   },
   {
    "duration": 112,
    "start_time": "2023-03-15T19:51:07.340Z"
   },
   {
    "duration": 6,
    "start_time": "2023-03-15T19:51:07.864Z"
   },
   {
    "duration": 17,
    "start_time": "2023-03-15T19:51:08.200Z"
   },
   {
    "duration": 81,
    "start_time": "2023-03-15T19:51:08.513Z"
   },
   {
    "duration": 161,
    "start_time": "2023-03-15T19:51:09.037Z"
   },
   {
    "duration": 11,
    "start_time": "2023-03-15T19:51:09.396Z"
   },
   {
    "duration": 355,
    "start_time": "2023-03-15T19:51:11.454Z"
   },
   {
    "duration": 8,
    "start_time": "2023-03-15T19:51:11.811Z"
   },
   {
    "duration": 502,
    "start_time": "2023-03-15T19:51:12.404Z"
   },
   {
    "duration": 30,
    "start_time": "2023-03-15T19:51:13.268Z"
   },
   {
    "duration": 6,
    "start_time": "2023-03-15T19:51:15.512Z"
   },
   {
    "duration": 157,
    "start_time": "2023-03-15T19:51:17.803Z"
   },
   {
    "duration": 9,
    "start_time": "2023-03-15T19:51:30.272Z"
   },
   {
    "duration": 249,
    "start_time": "2023-03-15T19:51:32.718Z"
   },
   {
    "duration": 301,
    "start_time": "2023-03-15T19:54:34.151Z"
   },
   {
    "duration": 407,
    "start_time": "2023-03-15T19:54:40.348Z"
   },
   {
    "duration": 139,
    "start_time": "2023-03-15T19:56:14.273Z"
   },
   {
    "duration": 306,
    "start_time": "2023-03-15T19:56:21.816Z"
   },
   {
    "duration": 264,
    "start_time": "2023-03-15T19:56:40.123Z"
   },
   {
    "duration": 253,
    "start_time": "2023-03-15T19:56:49.377Z"
   },
   {
    "duration": 238,
    "start_time": "2023-03-15T19:56:57.204Z"
   },
   {
    "duration": 390,
    "start_time": "2023-03-15T19:57:11.250Z"
   },
   {
    "duration": 303,
    "start_time": "2023-03-15T20:00:53.264Z"
   },
   {
    "duration": 305,
    "start_time": "2023-03-15T20:01:44.116Z"
   },
   {
    "duration": 12,
    "start_time": "2023-03-15T20:01:58.050Z"
   },
   {
    "duration": 14,
    "start_time": "2023-03-15T20:02:09.813Z"
   },
   {
    "duration": 9,
    "start_time": "2023-03-15T20:02:24.734Z"
   },
   {
    "duration": 37,
    "start_time": "2023-03-15T20:03:11.399Z"
   },
   {
    "duration": 38,
    "start_time": "2023-03-15T20:03:21.736Z"
   },
   {
    "duration": 327,
    "start_time": "2023-03-15T20:03:22.032Z"
   },
   {
    "duration": 149,
    "start_time": "2023-03-15T20:15:18.012Z"
   },
   {
    "duration": 154,
    "start_time": "2023-03-15T20:16:20.288Z"
   },
   {
    "duration": 157,
    "start_time": "2023-03-15T20:17:00.731Z"
   },
   {
    "duration": 158,
    "start_time": "2023-03-15T20:18:01.426Z"
   },
   {
    "duration": 38,
    "start_time": "2023-03-15T20:18:08.320Z"
   },
   {
    "duration": 232,
    "start_time": "2023-03-15T20:18:09.501Z"
   },
   {
    "duration": 140,
    "start_time": "2023-03-15T20:18:40.770Z"
   },
   {
    "duration": 152,
    "start_time": "2023-03-15T20:19:24.470Z"
   },
   {
    "duration": 147,
    "start_time": "2023-03-15T20:22:27.564Z"
   },
   {
    "duration": 169,
    "start_time": "2023-03-15T20:23:27.518Z"
   },
   {
    "duration": 135,
    "start_time": "2023-03-15T20:23:54.821Z"
   },
   {
    "duration": 159,
    "start_time": "2023-03-15T20:24:26.983Z"
   },
   {
    "duration": 127,
    "start_time": "2023-03-15T20:25:34.730Z"
   },
   {
    "duration": 131,
    "start_time": "2023-03-15T20:26:07.236Z"
   },
   {
    "duration": 167,
    "start_time": "2023-03-15T20:43:14.781Z"
   },
   {
    "duration": 178,
    "start_time": "2023-03-15T20:43:29.807Z"
   },
   {
    "duration": 169,
    "start_time": "2023-03-15T20:43:56.651Z"
   },
   {
    "duration": 154,
    "start_time": "2023-03-15T20:48:22.742Z"
   },
   {
    "duration": 597,
    "start_time": "2023-03-15T20:48:59.187Z"
   },
   {
    "duration": 464,
    "start_time": "2023-03-15T20:50:25.888Z"
   },
   {
    "duration": 481,
    "start_time": "2023-03-15T20:52:49.694Z"
   },
   {
    "duration": 520,
    "start_time": "2023-03-15T20:53:05.440Z"
   },
   {
    "duration": 558,
    "start_time": "2023-03-15T20:53:16.368Z"
   },
   {
    "duration": 456,
    "start_time": "2023-03-15T20:53:24.964Z"
   },
   {
    "duration": 437,
    "start_time": "2023-03-15T20:53:54.249Z"
   },
   {
    "duration": 456,
    "start_time": "2023-03-15T20:56:17.590Z"
   },
   {
    "duration": 172,
    "start_time": "2023-03-15T20:58:42.979Z"
   },
   {
    "duration": 169,
    "start_time": "2023-03-15T20:59:05.234Z"
   },
   {
    "duration": 383,
    "start_time": "2023-03-15T20:59:05.704Z"
   },
   {
    "duration": 201,
    "start_time": "2023-03-15T20:59:07.121Z"
   },
   {
    "duration": 198,
    "start_time": "2023-03-15T20:59:08.689Z"
   },
   {
    "duration": 194,
    "start_time": "2023-03-15T20:59:10.229Z"
   },
   {
    "duration": 9,
    "start_time": "2023-03-15T21:08:22.420Z"
   },
   {
    "duration": 5,
    "start_time": "2023-03-15T21:08:25.652Z"
   },
   {
    "duration": 5,
    "start_time": "2023-03-15T21:08:26.154Z"
   },
   {
    "duration": 5,
    "start_time": "2023-03-15T21:08:43.511Z"
   },
   {
    "duration": 7,
    "start_time": "2023-03-15T21:09:53.209Z"
   },
   {
    "duration": 5,
    "start_time": "2023-03-15T21:09:55.385Z"
   },
   {
    "duration": 5,
    "start_time": "2023-03-15T21:09:55.941Z"
   },
   {
    "duration": 4,
    "start_time": "2023-03-15T21:09:56.489Z"
   },
   {
    "duration": 1186,
    "start_time": "2023-03-15T21:17:07.068Z"
   },
   {
    "duration": 12,
    "start_time": "2023-03-15T21:17:19.875Z"
   },
   {
    "duration": 12,
    "start_time": "2023-03-15T21:17:28.597Z"
   },
   {
    "duration": 4,
    "start_time": "2023-03-15T21:17:37.867Z"
   },
   {
    "duration": 17,
    "start_time": "2023-03-15T21:17:52.646Z"
   },
   {
    "duration": 171,
    "start_time": "2023-03-15T21:18:08.063Z"
   },
   {
    "duration": 10,
    "start_time": "2023-03-15T21:19:24.004Z"
   },
   {
    "duration": 198,
    "start_time": "2023-03-15T21:19:26.836Z"
   },
   {
    "duration": 11,
    "start_time": "2023-03-15T21:19:33.902Z"
   },
   {
    "duration": 15,
    "start_time": "2023-03-15T21:19:38.658Z"
   },
   {
    "duration": 14,
    "start_time": "2023-03-15T21:20:11.299Z"
   },
   {
    "duration": 110,
    "start_time": "2023-03-15T21:22:09.023Z"
   },
   {
    "duration": 17,
    "start_time": "2023-03-15T21:24:03.642Z"
   },
   {
    "duration": 14,
    "start_time": "2023-03-15T21:24:39.247Z"
   },
   {
    "duration": 18,
    "start_time": "2023-03-15T21:28:42.395Z"
   },
   {
    "duration": 4,
    "start_time": "2023-03-15T21:28:47.895Z"
   },
   {
    "duration": 17,
    "start_time": "2023-03-15T21:28:48.303Z"
   },
   {
    "duration": 17,
    "start_time": "2023-03-15T21:29:01.508Z"
   },
   {
    "duration": 16,
    "start_time": "2023-03-15T21:29:09.158Z"
   },
   {
    "duration": 115,
    "start_time": "2023-03-15T21:29:17.500Z"
   },
   {
    "duration": 87,
    "start_time": "2023-03-15T21:29:33.397Z"
   },
   {
    "duration": 77,
    "start_time": "2023-03-15T21:30:17.927Z"
   },
   {
    "duration": 100,
    "start_time": "2023-03-15T21:32:12.100Z"
   },
   {
    "duration": 98,
    "start_time": "2023-03-15T21:32:37.352Z"
   },
   {
    "duration": 217,
    "start_time": "2023-03-15T21:32:49.741Z"
   },
   {
    "duration": 71,
    "start_time": "2023-03-15T21:33:46.644Z"
   },
   {
    "duration": 128,
    "start_time": "2023-03-15T21:34:04.008Z"
   },
   {
    "duration": 82,
    "start_time": "2023-03-15T21:34:17.093Z"
   },
   {
    "duration": 93,
    "start_time": "2023-03-15T21:34:23.677Z"
   },
   {
    "duration": 181,
    "start_time": "2023-03-15T21:35:39.885Z"
   },
   {
    "duration": 18,
    "start_time": "2023-03-15T21:35:47.398Z"
   },
   {
    "duration": 20,
    "start_time": "2023-03-15T21:35:53.523Z"
   },
   {
    "duration": 101,
    "start_time": "2023-03-15T21:36:07.184Z"
   },
   {
    "duration": 227,
    "start_time": "2023-03-15T21:36:10.088Z"
   },
   {
    "duration": 148,
    "start_time": "2023-03-15T21:38:01.986Z"
   },
   {
    "duration": 172,
    "start_time": "2023-03-15T21:38:09.912Z"
   },
   {
    "duration": 1300,
    "start_time": "2023-03-15T21:38:24.031Z"
   },
   {
    "duration": 1265,
    "start_time": "2023-03-15T21:38:51.900Z"
   },
   {
    "duration": 84,
    "start_time": "2023-03-15T21:39:12.293Z"
   },
   {
    "duration": 265,
    "start_time": "2023-03-15T21:41:56.002Z"
   },
   {
    "duration": 252,
    "start_time": "2023-03-15T21:42:09.043Z"
   },
   {
    "duration": 253,
    "start_time": "2023-03-15T21:42:17.651Z"
   },
   {
    "duration": 360,
    "start_time": "2023-03-15T21:43:33.092Z"
   },
   {
    "duration": 5,
    "start_time": "2023-03-15T21:43:43.451Z"
   },
   {
    "duration": 11,
    "start_time": "2023-03-15T21:43:47.832Z"
   },
   {
    "duration": 9,
    "start_time": "2023-03-15T21:44:09.432Z"
   },
   {
    "duration": 10,
    "start_time": "2023-03-15T21:44:29.397Z"
   },
   {
    "duration": 12,
    "start_time": "2023-03-15T21:44:31.638Z"
   },
   {
    "duration": 280,
    "start_time": "2023-03-15T21:46:32.009Z"
   },
   {
    "duration": 298,
    "start_time": "2023-03-15T21:46:43.838Z"
   },
   {
    "duration": 269,
    "start_time": "2023-03-15T21:47:41.493Z"
   },
   {
    "duration": 286,
    "start_time": "2023-03-15T21:47:59.929Z"
   },
   {
    "duration": 282,
    "start_time": "2023-03-15T21:48:28.386Z"
   },
   {
    "duration": 277,
    "start_time": "2023-03-15T21:48:39.486Z"
   },
   {
    "duration": 204,
    "start_time": "2023-03-15T21:52:02.158Z"
   },
   {
    "duration": 200,
    "start_time": "2023-03-15T21:52:11.011Z"
   },
   {
    "duration": 177,
    "start_time": "2023-03-15T21:52:40.158Z"
   },
   {
    "duration": 173,
    "start_time": "2023-03-15T21:52:49.063Z"
   },
   {
    "duration": 16,
    "start_time": "2023-03-15T21:53:14.496Z"
   },
   {
    "duration": 368,
    "start_time": "2023-03-15T21:53:26.990Z"
   },
   {
    "duration": 188,
    "start_time": "2023-03-15T21:53:43.394Z"
   },
   {
    "duration": 1166,
    "start_time": "2023-03-15T21:54:38.932Z"
   },
   {
    "duration": 176,
    "start_time": "2023-03-15T21:54:51.721Z"
   },
   {
    "duration": 24,
    "start_time": "2023-03-15T21:55:36.242Z"
   },
   {
    "duration": 178,
    "start_time": "2023-03-15T21:55:57.241Z"
   },
   {
    "duration": 151,
    "start_time": "2023-03-15T21:56:25.219Z"
   },
   {
    "duration": 573,
    "start_time": "2023-03-15T21:58:10.850Z"
   },
   {
    "duration": 207,
    "start_time": "2023-03-15T21:58:17.388Z"
   },
   {
    "duration": 1335,
    "start_time": "2023-03-16T11:26:38.805Z"
   },
   {
    "duration": 122,
    "start_time": "2023-03-16T11:26:40.142Z"
   },
   {
    "duration": 18,
    "start_time": "2023-03-16T11:26:40.329Z"
   },
   {
    "duration": 14,
    "start_time": "2023-03-16T11:26:40.622Z"
   },
   {
    "duration": 10,
    "start_time": "2023-03-16T11:26:41.234Z"
   },
   {
    "duration": 29,
    "start_time": "2023-03-16T11:26:41.568Z"
   },
   {
    "duration": 4,
    "start_time": "2023-03-16T11:26:43.239Z"
   },
   {
    "duration": 4,
    "start_time": "2023-03-16T11:26:43.843Z"
   },
   {
    "duration": 7,
    "start_time": "2023-03-16T11:26:44.050Z"
   },
   {
    "duration": 9,
    "start_time": "2023-03-16T11:26:45.031Z"
   },
   {
    "duration": 3,
    "start_time": "2023-03-16T11:26:45.547Z"
   },
   {
    "duration": 5,
    "start_time": "2023-03-16T11:27:07.999Z"
   },
   {
    "duration": 5,
    "start_time": "2023-03-16T11:27:09.562Z"
   },
   {
    "duration": 17,
    "start_time": "2023-03-16T11:27:11.626Z"
   },
   {
    "duration": 11,
    "start_time": "2023-03-16T11:27:12.018Z"
   },
   {
    "duration": 8,
    "start_time": "2023-03-16T11:27:12.302Z"
   },
   {
    "duration": 5,
    "start_time": "2023-03-16T11:27:12.830Z"
   },
   {
    "duration": 12,
    "start_time": "2023-03-16T11:27:13.318Z"
   },
   {
    "duration": 72,
    "start_time": "2023-03-16T11:27:14.250Z"
   },
   {
    "duration": 185,
    "start_time": "2023-03-16T11:27:58.623Z"
   },
   {
    "duration": 8,
    "start_time": "2023-03-16T11:28:13.729Z"
   },
   {
    "duration": 419,
    "start_time": "2023-03-16T11:28:15.806Z"
   },
   {
    "duration": 10,
    "start_time": "2023-03-16T11:28:16.227Z"
   },
   {
    "duration": 515,
    "start_time": "2023-03-16T11:28:29.247Z"
   },
   {
    "duration": 28,
    "start_time": "2023-03-16T11:28:40.340Z"
   },
   {
    "duration": 4,
    "start_time": "2023-03-16T11:28:51.301Z"
   },
   {
    "duration": 147,
    "start_time": "2023-03-16T11:28:53.301Z"
   },
   {
    "duration": 8,
    "start_time": "2023-03-16T11:28:53.917Z"
   },
   {
    "duration": 34,
    "start_time": "2023-03-16T11:28:56.529Z"
   },
   {
    "duration": 280,
    "start_time": "2023-03-16T11:28:57.452Z"
   },
   {
    "duration": 124,
    "start_time": "2023-03-16T11:29:32.810Z"
   },
   {
    "duration": 189,
    "start_time": "2023-03-16T11:29:36.813Z"
   },
   {
    "duration": 34,
    "start_time": "2023-03-16T11:29:46.721Z"
   },
   {
    "duration": 124,
    "start_time": "2023-03-16T11:29:53.530Z"
   },
   {
    "duration": 179,
    "start_time": "2023-03-16T11:29:54.666Z"
   },
   {
    "duration": 155,
    "start_time": "2023-03-16T11:29:56.300Z"
   },
   {
    "duration": 145,
    "start_time": "2023-03-16T11:29:56.998Z"
   },
   {
    "duration": 148,
    "start_time": "2023-03-16T11:29:57.711Z"
   },
   {
    "duration": 121,
    "start_time": "2023-03-16T11:29:58.121Z"
   },
   {
    "duration": 458,
    "start_time": "2023-03-16T11:30:03.302Z"
   },
   {
    "duration": 242,
    "start_time": "2023-03-16T11:33:36.134Z"
   },
   {
    "duration": 297,
    "start_time": "2023-03-16T11:33:37.460Z"
   },
   {
    "duration": 222,
    "start_time": "2023-03-16T11:33:46.845Z"
   },
   {
    "duration": 225,
    "start_time": "2023-03-16T11:34:01.851Z"
   },
   {
    "duration": 272,
    "start_time": "2023-03-16T11:35:35.961Z"
   },
   {
    "duration": 350,
    "start_time": "2023-03-16T11:37:24.967Z"
   },
   {
    "duration": 234,
    "start_time": "2023-03-16T11:37:44.696Z"
   },
   {
    "duration": 272,
    "start_time": "2023-03-16T11:37:53.044Z"
   },
   {
    "duration": 309,
    "start_time": "2023-03-16T11:38:01.532Z"
   },
   {
    "duration": 292,
    "start_time": "2023-03-16T11:38:17.229Z"
   },
   {
    "duration": 479,
    "start_time": "2023-03-16T11:38:32.639Z"
   },
   {
    "duration": 160,
    "start_time": "2023-03-16T11:38:42.898Z"
   },
   {
    "duration": 152,
    "start_time": "2023-03-16T11:38:43.409Z"
   },
   {
    "duration": 149,
    "start_time": "2023-03-16T11:38:43.800Z"
   },
   {
    "duration": 172,
    "start_time": "2023-03-16T11:38:44.556Z"
   },
   {
    "duration": 39,
    "start_time": "2023-03-16T11:39:47.170Z"
   },
   {
    "duration": 19,
    "start_time": "2023-03-16T11:39:54.960Z"
   },
   {
    "duration": 156,
    "start_time": "2023-03-16T11:40:17.104Z"
   },
   {
    "duration": 280,
    "start_time": "2023-03-16T11:41:27.664Z"
   },
   {
    "duration": 185,
    "start_time": "2023-03-16T11:41:37.812Z"
   },
   {
    "duration": 225,
    "start_time": "2023-03-16T11:41:46.025Z"
   },
   {
    "duration": 195,
    "start_time": "2023-03-16T11:41:53.700Z"
   },
   {
    "duration": 192,
    "start_time": "2023-03-16T11:42:00.404Z"
   },
   {
    "duration": 202,
    "start_time": "2023-03-16T11:42:10.724Z"
   },
   {
    "duration": 178,
    "start_time": "2023-03-16T11:42:16.624Z"
   },
   {
    "duration": 194,
    "start_time": "2023-03-16T11:42:21.746Z"
   },
   {
    "duration": 220,
    "start_time": "2023-03-16T11:42:27.650Z"
   },
   {
    "duration": 210,
    "start_time": "2023-03-16T11:42:32.508Z"
   },
   {
    "duration": 222,
    "start_time": "2023-03-16T11:42:37.257Z"
   },
   {
    "duration": 236,
    "start_time": "2023-03-16T11:42:42.619Z"
   },
   {
    "duration": 227,
    "start_time": "2023-03-16T11:43:04.897Z"
   },
   {
    "duration": 457,
    "start_time": "2023-03-16T11:43:41.904Z"
   },
   {
    "duration": 316,
    "start_time": "2023-03-16T11:43:50.553Z"
   },
   {
    "duration": 373,
    "start_time": "2023-03-16T11:43:57.235Z"
   },
   {
    "duration": 478,
    "start_time": "2023-03-16T11:44:13.556Z"
   },
   {
    "duration": 329,
    "start_time": "2023-03-16T11:44:45.500Z"
   },
   {
    "duration": 366,
    "start_time": "2023-03-16T11:44:52.448Z"
   },
   {
    "duration": 326,
    "start_time": "2023-03-16T11:44:59.128Z"
   },
   {
    "duration": 230,
    "start_time": "2023-03-16T11:46:03.246Z"
   },
   {
    "duration": 226,
    "start_time": "2023-03-16T11:46:14.236Z"
   },
   {
    "duration": 383,
    "start_time": "2023-03-16T11:46:38.218Z"
   },
   {
    "duration": 256,
    "start_time": "2023-03-16T11:46:45.913Z"
   },
   {
    "duration": 135,
    "start_time": "2023-03-16T11:48:22.265Z"
   },
   {
    "duration": 212,
    "start_time": "2023-03-16T11:48:35.012Z"
   },
   {
    "duration": 89,
    "start_time": "2023-03-16T11:48:45.827Z"
   },
   {
    "duration": 163,
    "start_time": "2023-03-16T11:48:54.568Z"
   },
   {
    "duration": 208,
    "start_time": "2023-03-16T11:49:09.348Z"
   },
   {
    "duration": 211,
    "start_time": "2023-03-16T11:49:15.536Z"
   },
   {
    "duration": 132,
    "start_time": "2023-03-16T11:50:37.522Z"
   },
   {
    "duration": 429,
    "start_time": "2023-03-16T11:52:03.712Z"
   },
   {
    "duration": 258,
    "start_time": "2023-03-16T11:52:11.508Z"
   },
   {
    "duration": 237,
    "start_time": "2023-03-16T11:52:34.548Z"
   },
   {
    "duration": 269,
    "start_time": "2023-03-16T11:52:40.252Z"
   },
   {
    "duration": 1491,
    "start_time": "2023-03-16T13:56:29.893Z"
   },
   {
    "duration": 118,
    "start_time": "2023-03-16T13:56:31.386Z"
   },
   {
    "duration": 21,
    "start_time": "2023-03-16T13:56:31.506Z"
   },
   {
    "duration": 25,
    "start_time": "2023-03-16T13:56:31.529Z"
   },
   {
    "duration": 17,
    "start_time": "2023-03-16T13:56:31.556Z"
   },
   {
    "duration": 35,
    "start_time": "2023-03-16T13:56:31.575Z"
   },
   {
    "duration": 5,
    "start_time": "2023-03-16T13:56:32.239Z"
   },
   {
    "duration": 5,
    "start_time": "2023-03-16T13:56:32.741Z"
   },
   {
    "duration": 7,
    "start_time": "2023-03-16T13:56:32.918Z"
   },
   {
    "duration": 9,
    "start_time": "2023-03-16T13:56:33.599Z"
   },
   {
    "duration": 3,
    "start_time": "2023-03-16T13:56:34.272Z"
   },
   {
    "duration": 5,
    "start_time": "2023-03-16T13:56:34.428Z"
   },
   {
    "duration": 5,
    "start_time": "2023-03-16T13:56:34.990Z"
   },
   {
    "duration": 14,
    "start_time": "2023-03-16T13:56:35.730Z"
   },
   {
    "duration": 9,
    "start_time": "2023-03-16T13:56:35.940Z"
   },
   {
    "duration": 10,
    "start_time": "2023-03-16T13:56:36.098Z"
   },
   {
    "duration": 6,
    "start_time": "2023-03-16T13:56:36.481Z"
   },
   {
    "duration": 17,
    "start_time": "2023-03-16T13:56:36.862Z"
   },
   {
    "duration": 87,
    "start_time": "2023-03-16T13:56:37.233Z"
   },
   {
    "duration": 197,
    "start_time": "2023-03-16T13:56:37.753Z"
   },
   {
    "duration": 10,
    "start_time": "2023-03-16T13:56:38.103Z"
   },
   {
    "duration": 376,
    "start_time": "2023-03-16T13:56:38.856Z"
   },
   {
    "duration": 9,
    "start_time": "2023-03-16T13:56:39.234Z"
   },
   {
    "duration": 567,
    "start_time": "2023-03-16T13:56:39.705Z"
   },
   {
    "duration": 33,
    "start_time": "2023-03-16T13:56:40.276Z"
   },
   {
    "duration": 5,
    "start_time": "2023-03-16T13:56:40.967Z"
   },
   {
    "duration": 186,
    "start_time": "2023-03-16T13:56:41.752Z"
   },
   {
    "duration": 9,
    "start_time": "2023-03-16T13:56:42.142Z"
   },
   {
    "duration": 41,
    "start_time": "2023-03-16T13:56:43.057Z"
   },
   {
    "duration": 317,
    "start_time": "2023-03-16T13:56:43.306Z"
   },
   {
    "duration": 160,
    "start_time": "2023-03-16T13:56:43.977Z"
   },
   {
    "duration": 247,
    "start_time": "2023-03-16T13:56:44.808Z"
   },
   {
    "duration": 39,
    "start_time": "2023-03-16T13:56:45.439Z"
   },
   {
    "duration": 166,
    "start_time": "2023-03-16T13:56:45.660Z"
   },
   {
    "duration": 146,
    "start_time": "2023-03-16T13:56:45.858Z"
   },
   {
    "duration": 146,
    "start_time": "2023-03-16T13:56:46.269Z"
   },
   {
    "duration": 170,
    "start_time": "2023-03-16T13:56:46.468Z"
   },
   {
    "duration": 142,
    "start_time": "2023-03-16T13:56:46.894Z"
   },
   {
    "duration": 179,
    "start_time": "2023-03-16T13:56:47.095Z"
   },
   {
    "duration": 524,
    "start_time": "2023-03-16T13:56:48.656Z"
   },
   {
    "duration": 238,
    "start_time": "2023-03-16T13:56:50.308Z"
   },
   {
    "duration": 340,
    "start_time": "2023-03-16T13:56:50.549Z"
   },
   {
    "duration": 203,
    "start_time": "2023-03-16T13:56:50.891Z"
   },
   {
    "duration": 220,
    "start_time": "2023-03-16T13:56:51.186Z"
   },
   {
    "duration": 229,
    "start_time": "2023-03-16T13:56:52.820Z"
   },
   {
    "duration": 237,
    "start_time": "2023-03-16T13:56:53.277Z"
   },
   {
    "duration": 247,
    "start_time": "2023-03-16T13:56:53.692Z"
   },
   {
    "duration": 266,
    "start_time": "2023-03-16T13:56:54.113Z"
   },
   {
    "duration": 136,
    "start_time": "2023-03-16T13:56:55.308Z"
   },
   {
    "duration": 137,
    "start_time": "2023-03-16T13:56:55.711Z"
   },
   {
    "duration": 123,
    "start_time": "2023-03-16T13:56:56.297Z"
   },
   {
    "duration": 6,
    "start_time": "2023-03-16T13:56:57.949Z"
   },
   {
    "duration": 5,
    "start_time": "2023-03-16T13:56:58.557Z"
   },
   {
    "duration": 6,
    "start_time": "2023-03-16T13:56:58.909Z"
   },
   {
    "duration": 5,
    "start_time": "2023-03-16T13:56:59.289Z"
   },
   {
    "duration": 6,
    "start_time": "2023-03-16T13:57:02.111Z"
   },
   {
    "duration": 7,
    "start_time": "2023-03-16T13:57:02.403Z"
   },
   {
    "duration": 4,
    "start_time": "2023-03-16T13:57:02.669Z"
   },
   {
    "duration": 6,
    "start_time": "2023-03-16T13:57:03.029Z"
   },
   {
    "duration": 105,
    "start_time": "2023-03-16T14:03:23.989Z"
   },
   {
    "duration": 429,
    "start_time": "2023-03-16T14:03:35.652Z"
   },
   {
    "duration": 28,
    "start_time": "2023-03-16T14:04:11.195Z"
   },
   {
    "duration": 323,
    "start_time": "2023-03-16T14:05:06.896Z"
   },
   {
    "duration": 471,
    "start_time": "2023-03-16T14:05:11.515Z"
   },
   {
    "duration": 373,
    "start_time": "2023-03-16T14:09:34.343Z"
   },
   {
    "duration": 413,
    "start_time": "2023-03-16T14:10:48.997Z"
   },
   {
    "duration": 451,
    "start_time": "2023-03-16T14:11:01.800Z"
   },
   {
    "duration": 358,
    "start_time": "2023-03-16T14:12:46.827Z"
   },
   {
    "duration": 337,
    "start_time": "2023-03-16T14:12:56.108Z"
   },
   {
    "duration": 10,
    "start_time": "2023-03-16T14:13:41.289Z"
   },
   {
    "duration": 357,
    "start_time": "2023-03-16T14:13:50.975Z"
   },
   {
    "duration": 8,
    "start_time": "2023-03-16T14:13:53.677Z"
   },
   {
    "duration": 3,
    "start_time": "2023-03-16T14:15:27.918Z"
   },
   {
    "duration": 4,
    "start_time": "2023-03-16T14:25:28.556Z"
   },
   {
    "duration": 11,
    "start_time": "2023-03-16T14:25:33.878Z"
   },
   {
    "duration": 12,
    "start_time": "2023-03-16T14:25:41.174Z"
   },
   {
    "duration": 8,
    "start_time": "2023-03-16T14:25:50.007Z"
   },
   {
    "duration": 355,
    "start_time": "2023-03-16T14:26:04.240Z"
   },
   {
    "duration": 357,
    "start_time": "2023-03-16T14:26:27.396Z"
   },
   {
    "duration": 452,
    "start_time": "2023-03-16T14:27:17.439Z"
   },
   {
    "duration": 312,
    "start_time": "2023-03-16T14:27:28.188Z"
   },
   {
    "duration": 329,
    "start_time": "2023-03-16T14:28:36.488Z"
   },
   {
    "duration": 307,
    "start_time": "2023-03-16T14:28:52.176Z"
   },
   {
    "duration": 8,
    "start_time": "2023-03-16T14:29:01.984Z"
   },
   {
    "duration": 109,
    "start_time": "2023-03-16T14:30:01.157Z"
   },
   {
    "duration": 328,
    "start_time": "2023-03-16T14:30:16.655Z"
   },
   {
    "duration": 481,
    "start_time": "2023-03-16T14:30:36.536Z"
   },
   {
    "duration": 322,
    "start_time": "2023-03-16T14:31:50.715Z"
   },
   {
    "duration": 340,
    "start_time": "2023-03-16T14:37:14.329Z"
   },
   {
    "duration": 11,
    "start_time": "2023-03-16T14:37:22.408Z"
   },
   {
    "duration": 9,
    "start_time": "2023-03-16T14:37:29.921Z"
   },
   {
    "duration": 346,
    "start_time": "2023-03-16T14:39:12.956Z"
   },
   {
    "duration": 9,
    "start_time": "2023-03-16T14:39:16.014Z"
   },
   {
    "duration": 2,
    "start_time": "2023-03-16T14:39:28.881Z"
   },
   {
    "duration": 211,
    "start_time": "2023-03-16T14:40:39.744Z"
   },
   {
    "duration": 240,
    "start_time": "2023-03-16T14:41:14.551Z"
   },
   {
    "duration": 221,
    "start_time": "2023-03-16T14:41:22.623Z"
   },
   {
    "duration": 198,
    "start_time": "2023-03-16T14:41:33.349Z"
   },
   {
    "duration": 205,
    "start_time": "2023-03-16T14:41:41.707Z"
   },
   {
    "duration": 346,
    "start_time": "2023-03-16T14:41:46.780Z"
   },
   {
    "duration": 201,
    "start_time": "2023-03-16T14:41:54.617Z"
   },
   {
    "duration": 193,
    "start_time": "2023-03-16T14:42:08.110Z"
   },
   {
    "duration": 188,
    "start_time": "2023-03-16T14:42:19.316Z"
   },
   {
    "duration": 231,
    "start_time": "2023-03-16T14:47:25.612Z"
   },
   {
    "duration": 199,
    "start_time": "2023-03-16T14:47:34.704Z"
   },
   {
    "duration": 220,
    "start_time": "2023-03-16T14:47:42.253Z"
   },
   {
    "duration": 211,
    "start_time": "2023-03-16T14:47:49.081Z"
   },
   {
    "duration": 212,
    "start_time": "2023-03-16T14:47:57.810Z"
   },
   {
    "duration": 217,
    "start_time": "2023-03-16T14:48:37.282Z"
   },
   {
    "duration": 217,
    "start_time": "2023-03-16T14:48:55.289Z"
   },
   {
    "duration": 198,
    "start_time": "2023-03-16T14:50:42.217Z"
   },
   {
    "duration": 232,
    "start_time": "2023-03-16T14:50:58.376Z"
   },
   {
    "duration": 193,
    "start_time": "2023-03-16T14:51:13.368Z"
   },
   {
    "duration": 196,
    "start_time": "2023-03-16T14:51:29.522Z"
   },
   {
    "duration": 323,
    "start_time": "2023-03-16T14:51:44.096Z"
   },
   {
    "duration": 232,
    "start_time": "2023-03-16T14:51:56.332Z"
   },
   {
    "duration": 206,
    "start_time": "2023-03-16T14:53:23.330Z"
   },
   {
    "duration": 202,
    "start_time": "2023-03-16T14:54:27.251Z"
   },
   {
    "duration": 129,
    "start_time": "2023-03-16T14:56:45.516Z"
   },
   {
    "duration": 129,
    "start_time": "2023-03-16T14:56:55.646Z"
   },
   {
    "duration": 122,
    "start_time": "2023-03-16T14:56:57.127Z"
   },
   {
    "duration": 6,
    "start_time": "2023-03-16T14:56:58.658Z"
   },
   {
    "duration": 5,
    "start_time": "2023-03-16T14:56:58.801Z"
   },
   {
    "duration": 5,
    "start_time": "2023-03-16T14:56:58.950Z"
   },
   {
    "duration": 5,
    "start_time": "2023-03-16T14:56:59.353Z"
   },
   {
    "duration": 7,
    "start_time": "2023-03-16T14:57:00.541Z"
   },
   {
    "duration": 5,
    "start_time": "2023-03-16T14:57:00.733Z"
   },
   {
    "duration": 5,
    "start_time": "2023-03-16T14:57:00.935Z"
   },
   {
    "duration": 6,
    "start_time": "2023-03-16T14:57:01.105Z"
   },
   {
    "duration": 80,
    "start_time": "2023-03-16T15:14:53.095Z"
   },
   {
    "duration": 73,
    "start_time": "2023-03-16T15:14:53.587Z"
   },
   {
    "duration": 98,
    "start_time": "2023-03-16T15:16:12.100Z"
   },
   {
    "duration": 84,
    "start_time": "2023-03-16T15:18:35.035Z"
   },
   {
    "duration": 139,
    "start_time": "2023-03-16T15:25:32.530Z"
   },
   {
    "duration": 122,
    "start_time": "2023-03-16T15:26:20.138Z"
   },
   {
    "duration": 157,
    "start_time": "2023-03-16T15:26:20.541Z"
   },
   {
    "duration": 5,
    "start_time": "2023-03-16T15:26:22.384Z"
   },
   {
    "duration": 6,
    "start_time": "2023-03-16T15:26:22.587Z"
   },
   {
    "duration": 5,
    "start_time": "2023-03-16T15:26:22.863Z"
   },
   {
    "duration": 5,
    "start_time": "2023-03-16T15:26:23.088Z"
   },
   {
    "duration": 6,
    "start_time": "2023-03-16T15:26:25.777Z"
   },
   {
    "duration": 5,
    "start_time": "2023-03-16T15:26:26.060Z"
   },
   {
    "duration": 5,
    "start_time": "2023-03-16T15:26:26.341Z"
   },
   {
    "duration": 5,
    "start_time": "2023-03-16T15:26:26.653Z"
   },
   {
    "duration": 1047,
    "start_time": "2023-03-17T13:22:32.005Z"
   },
   {
    "duration": 55,
    "start_time": "2023-03-17T13:22:33.054Z"
   },
   {
    "duration": 24,
    "start_time": "2023-03-17T13:22:33.111Z"
   },
   {
    "duration": 16,
    "start_time": "2023-03-17T13:22:33.137Z"
   },
   {
    "duration": 11,
    "start_time": "2023-03-17T13:22:33.156Z"
   },
   {
    "duration": 28,
    "start_time": "2023-03-17T13:22:33.169Z"
   },
   {
    "duration": 6,
    "start_time": "2023-03-17T13:22:33.199Z"
   },
   {
    "duration": 28,
    "start_time": "2023-03-17T13:22:33.227Z"
   },
   {
    "duration": 21,
    "start_time": "2023-03-17T13:22:33.258Z"
   },
   {
    "duration": 11,
    "start_time": "2023-03-17T13:22:33.281Z"
   },
   {
    "duration": 4,
    "start_time": "2023-03-17T13:22:33.294Z"
   },
   {
    "duration": 7,
    "start_time": "2023-03-17T13:22:33.300Z"
   },
   {
    "duration": 6,
    "start_time": "2023-03-17T13:22:33.309Z"
   },
   {
    "duration": 15,
    "start_time": "2023-03-17T13:22:33.318Z"
   },
   {
    "duration": 8,
    "start_time": "2023-03-17T13:22:33.335Z"
   },
   {
    "duration": 6,
    "start_time": "2023-03-17T13:22:33.345Z"
   },
   {
    "duration": 17,
    "start_time": "2023-03-17T13:22:33.352Z"
   },
   {
    "duration": 15,
    "start_time": "2023-03-17T13:22:33.371Z"
   },
   {
    "duration": 73,
    "start_time": "2023-03-17T13:22:33.387Z"
   },
   {
    "duration": 170,
    "start_time": "2023-03-17T13:22:33.462Z"
   },
   {
    "duration": 8,
    "start_time": "2023-03-17T13:22:33.634Z"
   },
   {
    "duration": 293,
    "start_time": "2023-03-17T13:22:33.643Z"
   },
   {
    "duration": 7,
    "start_time": "2023-03-17T13:22:33.937Z"
   },
   {
    "duration": 445,
    "start_time": "2023-03-17T13:22:33.945Z"
   },
   {
    "duration": 35,
    "start_time": "2023-03-17T13:22:34.392Z"
   },
   {
    "duration": 3,
    "start_time": "2023-03-17T13:22:34.429Z"
   },
   {
    "duration": 162,
    "start_time": "2023-03-17T13:22:34.433Z"
   },
   {
    "duration": 8,
    "start_time": "2023-03-17T13:22:34.596Z"
   },
   {
    "duration": 42,
    "start_time": "2023-03-17T13:22:34.605Z"
   },
   {
    "duration": 262,
    "start_time": "2023-03-17T13:22:34.649Z"
   },
   {
    "duration": 144,
    "start_time": "2023-03-17T13:22:34.913Z"
   },
   {
    "duration": 212,
    "start_time": "2023-03-17T13:22:35.058Z"
   },
   {
    "duration": 30,
    "start_time": "2023-03-17T13:22:35.272Z"
   },
   {
    "duration": 149,
    "start_time": "2023-03-17T13:22:35.304Z"
   },
   {
    "duration": 127,
    "start_time": "2023-03-17T13:22:35.454Z"
   },
   {
    "duration": 129,
    "start_time": "2023-03-17T13:22:35.582Z"
   },
   {
    "duration": 126,
    "start_time": "2023-03-17T13:22:35.712Z"
   },
   {
    "duration": 121,
    "start_time": "2023-03-17T13:22:35.839Z"
   },
   {
    "duration": 124,
    "start_time": "2023-03-17T13:22:35.961Z"
   },
   {
    "duration": 298,
    "start_time": "2023-03-17T13:22:36.087Z"
   },
   {
    "duration": 7,
    "start_time": "2023-03-17T13:22:36.389Z"
   },
   {
    "duration": 5,
    "start_time": "2023-03-17T13:22:36.397Z"
   },
   {
    "duration": 176,
    "start_time": "2023-03-17T13:22:36.403Z"
   },
   {
    "duration": 192,
    "start_time": "2023-03-17T13:22:36.580Z"
   },
   {
    "duration": 242,
    "start_time": "2023-03-17T13:22:36.773Z"
   },
   {
    "duration": 177,
    "start_time": "2023-03-17T13:22:37.016Z"
   },
   {
    "duration": 191,
    "start_time": "2023-03-17T13:22:37.195Z"
   },
   {
    "duration": 201,
    "start_time": "2023-03-17T13:22:37.388Z"
   },
   {
    "duration": 186,
    "start_time": "2023-03-17T13:22:37.591Z"
   },
   {
    "duration": 199,
    "start_time": "2023-03-17T13:22:37.779Z"
   },
   {
    "duration": 116,
    "start_time": "2023-03-17T13:22:37.980Z"
   },
   {
    "duration": 110,
    "start_time": "2023-03-17T13:22:38.098Z"
   },
   {
    "duration": 103,
    "start_time": "2023-03-17T13:22:38.210Z"
   },
   {
    "duration": 114,
    "start_time": "2023-03-17T13:22:38.323Z"
   },
   {
    "duration": 5,
    "start_time": "2023-03-17T13:22:38.438Z"
   },
   {
    "duration": 7,
    "start_time": "2023-03-17T13:22:38.444Z"
   },
   {
    "duration": 7,
    "start_time": "2023-03-17T13:22:38.452Z"
   },
   {
    "duration": 12,
    "start_time": "2023-03-17T13:22:38.460Z"
   },
   {
    "duration": 8,
    "start_time": "2023-03-17T13:22:38.473Z"
   },
   {
    "duration": 22,
    "start_time": "2023-03-17T13:22:38.482Z"
   },
   {
    "duration": 7,
    "start_time": "2023-03-17T13:22:38.506Z"
   },
   {
    "duration": 11,
    "start_time": "2023-03-17T13:22:38.515Z"
   },
   {
    "duration": 226,
    "start_time": "2023-03-17T13:26:55.864Z"
   },
   {
    "duration": 215,
    "start_time": "2023-03-17T13:27:09.176Z"
   },
   {
    "duration": 1037,
    "start_time": "2023-03-17T13:27:16.108Z"
   },
   {
    "duration": 49,
    "start_time": "2023-03-17T13:27:17.147Z"
   },
   {
    "duration": 17,
    "start_time": "2023-03-17T13:27:17.197Z"
   },
   {
    "duration": 12,
    "start_time": "2023-03-17T13:27:17.216Z"
   },
   {
    "duration": 7,
    "start_time": "2023-03-17T13:27:17.230Z"
   },
   {
    "duration": 18,
    "start_time": "2023-03-17T13:27:17.239Z"
   },
   {
    "duration": 4,
    "start_time": "2023-03-17T13:27:17.259Z"
   },
   {
    "duration": 6,
    "start_time": "2023-03-17T13:27:17.264Z"
   },
   {
    "duration": 8,
    "start_time": "2023-03-17T13:27:17.272Z"
   },
   {
    "duration": 8,
    "start_time": "2023-03-17T13:27:17.282Z"
   },
   {
    "duration": 3,
    "start_time": "2023-03-17T13:27:17.292Z"
   },
   {
    "duration": 9,
    "start_time": "2023-03-17T13:27:17.296Z"
   },
   {
    "duration": 5,
    "start_time": "2023-03-17T13:27:17.324Z"
   },
   {
    "duration": 13,
    "start_time": "2023-03-17T13:27:17.331Z"
   },
   {
    "duration": 8,
    "start_time": "2023-03-17T13:27:17.345Z"
   },
   {
    "duration": 7,
    "start_time": "2023-03-17T13:27:17.354Z"
   },
   {
    "duration": 10,
    "start_time": "2023-03-17T13:27:17.362Z"
   },
   {
    "duration": 15,
    "start_time": "2023-03-17T13:27:17.373Z"
   },
   {
    "duration": 80,
    "start_time": "2023-03-17T13:27:17.390Z"
   },
   {
    "duration": 187,
    "start_time": "2023-03-17T13:27:17.471Z"
   },
   {
    "duration": 8,
    "start_time": "2023-03-17T13:27:17.659Z"
   },
   {
    "duration": 304,
    "start_time": "2023-03-17T13:27:17.668Z"
   },
   {
    "duration": 7,
    "start_time": "2023-03-17T13:27:17.973Z"
   },
   {
    "duration": 446,
    "start_time": "2023-03-17T13:27:17.982Z"
   },
   {
    "duration": 369,
    "start_time": "2023-03-17T13:27:18.429Z"
   },
   {
    "duration": 31,
    "start_time": "2023-03-17T13:27:18.800Z"
   },
   {
    "duration": 4,
    "start_time": "2023-03-17T13:27:18.833Z"
   },
   {
    "duration": 155,
    "start_time": "2023-03-17T13:27:18.838Z"
   },
   {
    "duration": 7,
    "start_time": "2023-03-17T13:27:18.994Z"
   },
   {
    "duration": 36,
    "start_time": "2023-03-17T13:27:19.002Z"
   },
   {
    "duration": 332,
    "start_time": "2023-03-17T13:27:19.039Z"
   },
   {
    "duration": 127,
    "start_time": "2023-03-17T13:27:19.372Z"
   },
   {
    "duration": 128,
    "start_time": "2023-03-17T13:27:19.500Z"
   },
   {
    "duration": 29,
    "start_time": "2023-03-17T13:27:19.630Z"
   },
   {
    "duration": 165,
    "start_time": "2023-03-17T13:27:19.660Z"
   },
   {
    "duration": 229,
    "start_time": "2023-03-17T13:27:19.827Z"
   },
   {
    "duration": 276,
    "start_time": "2023-03-17T13:27:20.057Z"
   },
   {
    "duration": 223,
    "start_time": "2023-03-17T13:27:20.334Z"
   },
   {
    "duration": 268,
    "start_time": "2023-03-17T13:27:20.558Z"
   },
   {
    "duration": 223,
    "start_time": "2023-03-17T13:27:20.827Z"
   },
   {
    "duration": 453,
    "start_time": "2023-03-17T13:27:21.054Z"
   },
   {
    "duration": 15,
    "start_time": "2023-03-17T13:27:21.509Z"
   },
   {
    "duration": 2,
    "start_time": "2023-03-17T13:27:21.525Z"
   },
   {
    "duration": 176,
    "start_time": "2023-03-17T13:27:21.528Z"
   },
   {
    "duration": 253,
    "start_time": "2023-03-17T13:27:21.705Z"
   },
   {
    "duration": 160,
    "start_time": "2023-03-17T13:27:21.959Z"
   },
   {
    "duration": 174,
    "start_time": "2023-03-17T13:27:22.123Z"
   },
   {
    "duration": 199,
    "start_time": "2023-03-17T13:27:22.298Z"
   },
   {
    "duration": 199,
    "start_time": "2023-03-17T13:27:22.499Z"
   },
   {
    "duration": 176,
    "start_time": "2023-03-17T13:27:22.700Z"
   },
   {
    "duration": 179,
    "start_time": "2023-03-17T13:27:22.878Z"
   },
   {
    "duration": 109,
    "start_time": "2023-03-17T13:27:23.059Z"
   },
   {
    "duration": 114,
    "start_time": "2023-03-17T13:27:23.170Z"
   },
   {
    "duration": 106,
    "start_time": "2023-03-17T13:27:23.286Z"
   },
   {
    "duration": 118,
    "start_time": "2023-03-17T13:27:23.393Z"
   },
   {
    "duration": 11,
    "start_time": "2023-03-17T13:27:23.513Z"
   },
   {
    "duration": 17,
    "start_time": "2023-03-17T13:27:23.525Z"
   },
   {
    "duration": 14,
    "start_time": "2023-03-17T13:27:23.544Z"
   },
   {
    "duration": 22,
    "start_time": "2023-03-17T13:27:23.559Z"
   },
   {
    "duration": 12,
    "start_time": "2023-03-17T13:27:23.583Z"
   },
   {
    "duration": 13,
    "start_time": "2023-03-17T13:27:23.597Z"
   },
   {
    "duration": 10,
    "start_time": "2023-03-17T13:27:23.612Z"
   },
   {
    "duration": 27,
    "start_time": "2023-03-17T13:27:23.624Z"
   },
   {
    "duration": 648,
    "start_time": "2023-03-17T13:49:49.625Z"
   },
   {
    "duration": 5,
    "start_time": "2023-03-17T13:52:53.176Z"
   },
   {
    "duration": 5,
    "start_time": "2023-03-17T13:53:07.028Z"
   },
   {
    "duration": 4,
    "start_time": "2023-03-17T13:53:26.075Z"
   },
   {
    "duration": 1461,
    "start_time": "2023-03-17T14:25:38.235Z"
   },
   {
    "duration": 264,
    "start_time": "2023-03-17T14:25:39.700Z"
   },
   {
    "duration": 21,
    "start_time": "2023-03-17T14:25:39.966Z"
   },
   {
    "duration": 31,
    "start_time": "2023-03-17T14:25:39.990Z"
   },
   {
    "duration": 55,
    "start_time": "2023-03-17T14:25:40.023Z"
   },
   {
    "duration": 59,
    "start_time": "2023-03-17T14:25:40.080Z"
   },
   {
    "duration": 7,
    "start_time": "2023-03-17T14:25:42.793Z"
   },
   {
    "duration": 10,
    "start_time": "2023-03-17T14:25:43.818Z"
   },
   {
    "duration": 12,
    "start_time": "2023-03-17T14:25:43.989Z"
   },
   {
    "duration": 18,
    "start_time": "2023-03-17T14:25:44.716Z"
   },
   {
    "duration": 2,
    "start_time": "2023-03-17T14:25:45.278Z"
   },
   {
    "duration": 6,
    "start_time": "2023-03-17T14:25:45.432Z"
   },
   {
    "duration": 6,
    "start_time": "2023-03-17T14:25:49.524Z"
   },
   {
    "duration": 15,
    "start_time": "2023-03-17T14:25:50.637Z"
   },
   {
    "duration": 10,
    "start_time": "2023-03-17T14:25:50.959Z"
   },
   {
    "duration": 11,
    "start_time": "2023-03-17T14:25:51.513Z"
   },
   {
    "duration": 8,
    "start_time": "2023-03-17T14:25:51.992Z"
   },
   {
    "duration": 16,
    "start_time": "2023-03-17T14:25:52.729Z"
   },
   {
    "duration": 108,
    "start_time": "2023-03-17T14:25:53.229Z"
   },
   {
    "duration": 272,
    "start_time": "2023-03-17T14:25:54.373Z"
   },
   {
    "duration": 14,
    "start_time": "2023-03-17T14:25:55.441Z"
   },
   {
    "duration": 428,
    "start_time": "2023-03-17T14:25:57.415Z"
   },
   {
    "duration": 11,
    "start_time": "2023-03-17T14:25:58.129Z"
   },
   {
    "duration": 363,
    "start_time": "2023-03-17T14:26:12.225Z"
   },
   {
    "duration": 7,
    "start_time": "2023-03-17T14:26:13.630Z"
   },
   {
    "duration": 568,
    "start_time": "2023-03-17T14:26:15.819Z"
   },
   {
    "duration": 542,
    "start_time": "2023-03-17T14:26:20.248Z"
   },
   {
    "duration": 37,
    "start_time": "2023-03-17T14:26:21.138Z"
   },
   {
    "duration": 6,
    "start_time": "2023-03-17T14:26:27.309Z"
   },
   {
    "duration": 268,
    "start_time": "2023-03-17T14:26:28.813Z"
   },
   {
    "duration": 200,
    "start_time": "2023-03-17T14:27:00.908Z"
   },
   {
    "duration": 13,
    "start_time": "2023-03-17T14:27:09.898Z"
   },
   {
    "duration": 42,
    "start_time": "2023-03-17T14:27:14.043Z"
   },
   {
    "duration": 330,
    "start_time": "2023-03-17T14:27:14.577Z"
   },
   {
    "duration": 448,
    "start_time": "2023-03-17T14:30:59.022Z"
   },
   {
    "duration": 349,
    "start_time": "2023-03-17T14:32:58.821Z"
   },
   {
    "duration": 472,
    "start_time": "2023-03-17T14:33:06.871Z"
   },
   {
    "duration": 429,
    "start_time": "2023-03-17T14:33:11.456Z"
   },
   {
    "duration": 455,
    "start_time": "2023-03-17T14:34:52.132Z"
   },
   {
    "duration": 476,
    "start_time": "2023-03-17T14:34:55.388Z"
   },
   {
    "duration": 434,
    "start_time": "2023-03-17T14:35:25.924Z"
   },
   {
    "duration": 359,
    "start_time": "2023-03-17T14:35:37.424Z"
   },
   {
    "duration": 23,
    "start_time": "2023-03-17T14:35:46.222Z"
   },
   {
    "duration": 61,
    "start_time": "2023-03-17T14:35:46.318Z"
   },
   {
    "duration": 16,
    "start_time": "2023-03-17T14:35:46.467Z"
   },
   {
    "duration": 30,
    "start_time": "2023-03-17T14:35:46.618Z"
   },
   {
    "duration": 11,
    "start_time": "2023-03-17T14:35:46.735Z"
   },
   {
    "duration": 31,
    "start_time": "2023-03-17T14:35:46.935Z"
   },
   {
    "duration": 6,
    "start_time": "2023-03-17T14:35:47.758Z"
   },
   {
    "duration": 7,
    "start_time": "2023-03-17T14:35:48.226Z"
   },
   {
    "duration": 13,
    "start_time": "2023-03-17T14:35:48.339Z"
   },
   {
    "duration": 11,
    "start_time": "2023-03-17T14:35:48.936Z"
   },
   {
    "duration": 3,
    "start_time": "2023-03-17T14:35:49.370Z"
   },
   {
    "duration": 5,
    "start_time": "2023-03-17T14:35:49.537Z"
   },
   {
    "duration": 6,
    "start_time": "2023-03-17T14:35:50.160Z"
   },
   {
    "duration": 21,
    "start_time": "2023-03-17T14:35:50.632Z"
   },
   {
    "duration": 13,
    "start_time": "2023-03-17T14:35:50.959Z"
   },
   {
    "duration": 21,
    "start_time": "2023-03-17T14:35:51.130Z"
   },
   {
    "duration": 7,
    "start_time": "2023-03-17T14:35:51.457Z"
   },
   {
    "duration": 16,
    "start_time": "2023-03-17T14:35:51.743Z"
   },
   {
    "duration": 128,
    "start_time": "2023-03-17T14:35:52.063Z"
   },
   {
    "duration": 197,
    "start_time": "2023-03-17T14:35:52.656Z"
   },
   {
    "duration": 12,
    "start_time": "2023-03-17T14:35:53.160Z"
   },
   {
    "duration": 573,
    "start_time": "2023-03-17T14:35:53.656Z"
   },
   {
    "duration": 16,
    "start_time": "2023-03-17T14:35:54.237Z"
   },
   {
    "duration": 735,
    "start_time": "2023-03-17T14:35:54.260Z"
   },
   {
    "duration": 546,
    "start_time": "2023-03-17T14:35:55.003Z"
   },
   {
    "duration": 49,
    "start_time": "2023-03-17T14:35:55.552Z"
   },
   {
    "duration": 15,
    "start_time": "2023-03-17T14:35:55.603Z"
   },
   {
    "duration": 232,
    "start_time": "2023-03-17T14:35:55.953Z"
   },
   {
    "duration": 11,
    "start_time": "2023-03-17T14:35:56.447Z"
   },
   {
    "duration": 41,
    "start_time": "2023-03-17T14:35:57.038Z"
   },
   {
    "duration": 449,
    "start_time": "2023-03-17T14:35:57.223Z"
   },
   {
    "duration": 430,
    "start_time": "2023-03-17T14:36:03.740Z"
   },
   {
    "duration": 495,
    "start_time": "2023-03-17T14:36:18.938Z"
   },
   {
    "duration": 463,
    "start_time": "2023-03-17T14:37:37.326Z"
   },
   {
    "duration": 220,
    "start_time": "2023-03-17T14:37:42.621Z"
   },
   {
    "duration": 193,
    "start_time": "2023-03-17T14:37:44.938Z"
   },
   {
    "duration": 44,
    "start_time": "2023-03-17T14:37:46.824Z"
   },
   {
    "duration": 174,
    "start_time": "2023-03-17T14:37:47.044Z"
   },
   {
    "duration": 219,
    "start_time": "2023-03-17T14:37:47.450Z"
   },
   {
    "duration": 197,
    "start_time": "2023-03-17T14:37:48.738Z"
   },
   {
    "duration": 214,
    "start_time": "2023-03-17T14:37:49.121Z"
   },
   {
    "duration": 195,
    "start_time": "2023-03-17T14:37:50.134Z"
   },
   {
    "duration": 185,
    "start_time": "2023-03-17T14:37:50.466Z"
   },
   {
    "duration": 466,
    "start_time": "2023-03-17T14:38:03.227Z"
   },
   {
    "duration": 393,
    "start_time": "2023-03-17T14:38:22.324Z"
   },
   {
    "duration": 491,
    "start_time": "2023-03-17T14:38:30.528Z"
   },
   {
    "duration": 4,
    "start_time": "2023-03-17T14:40:22.970Z"
   },
   {
    "duration": 67,
    "start_time": "2023-03-17T14:40:23.163Z"
   },
   {
    "duration": 20,
    "start_time": "2023-03-17T14:40:23.343Z"
   },
   {
    "duration": 22,
    "start_time": "2023-03-17T14:40:23.458Z"
   },
   {
    "duration": 23,
    "start_time": "2023-03-17T14:40:23.619Z"
   },
   {
    "duration": 18,
    "start_time": "2023-03-17T14:40:23.755Z"
   },
   {
    "duration": 5,
    "start_time": "2023-03-17T14:40:24.652Z"
   },
   {
    "duration": 6,
    "start_time": "2023-03-17T14:40:25.069Z"
   },
   {
    "duration": 12,
    "start_time": "2023-03-17T14:40:25.228Z"
   },
   {
    "duration": 20,
    "start_time": "2023-03-17T14:40:25.819Z"
   },
   {
    "duration": 8,
    "start_time": "2023-03-17T14:40:26.244Z"
   },
   {
    "duration": 9,
    "start_time": "2023-03-17T14:40:26.424Z"
   },
   {
    "duration": 14,
    "start_time": "2023-03-17T14:40:27.023Z"
   },
   {
    "duration": 28,
    "start_time": "2023-03-17T14:40:27.625Z"
   },
   {
    "duration": 11,
    "start_time": "2023-03-17T14:40:27.767Z"
   },
   {
    "duration": 7,
    "start_time": "2023-03-17T14:40:28.050Z"
   },
   {
    "duration": 7,
    "start_time": "2023-03-17T14:40:28.433Z"
   },
   {
    "duration": 23,
    "start_time": "2023-03-17T14:40:28.747Z"
   },
   {
    "duration": 114,
    "start_time": "2023-03-17T14:40:29.058Z"
   },
   {
    "duration": 211,
    "start_time": "2023-03-17T14:40:29.536Z"
   },
   {
    "duration": 9,
    "start_time": "2023-03-17T14:40:30.542Z"
   },
   {
    "duration": 439,
    "start_time": "2023-03-17T14:40:31.025Z"
   },
   {
    "duration": 9,
    "start_time": "2023-03-17T14:40:31.467Z"
   },
   {
    "duration": 595,
    "start_time": "2023-03-17T14:40:31.738Z"
   },
   {
    "duration": 624,
    "start_time": "2023-03-17T14:40:32.439Z"
   },
   {
    "duration": 54,
    "start_time": "2023-03-17T14:40:33.065Z"
   },
   {
    "duration": 6,
    "start_time": "2023-03-17T14:40:38.043Z"
   },
   {
    "duration": 277,
    "start_time": "2023-03-17T14:40:40.073Z"
   },
   {
    "duration": 19,
    "start_time": "2023-03-17T14:40:41.026Z"
   },
   {
    "duration": 38,
    "start_time": "2023-03-17T14:40:43.150Z"
   },
   {
    "duration": 425,
    "start_time": "2023-03-17T14:40:44.124Z"
   },
   {
    "duration": 43,
    "start_time": "2023-03-17T14:40:55.535Z"
   },
   {
    "duration": 73,
    "start_time": "2023-03-17T14:41:00.569Z"
   },
   {
    "duration": 4,
    "start_time": "2023-03-17T14:41:11.339Z"
   },
   {
    "duration": 381,
    "start_time": "2023-03-17T14:41:51.447Z"
   },
   {
    "duration": 4,
    "start_time": "2023-03-17T14:44:21.425Z"
   },
   {
    "duration": 62,
    "start_time": "2023-03-17T14:44:22.227Z"
   },
   {
    "duration": 21,
    "start_time": "2023-03-17T14:44:22.520Z"
   },
   {
    "duration": 15,
    "start_time": "2023-03-17T14:44:22.764Z"
   },
   {
    "duration": 19,
    "start_time": "2023-03-17T14:44:23.024Z"
   },
   {
    "duration": 24,
    "start_time": "2023-03-17T14:44:23.333Z"
   },
   {
    "duration": 17,
    "start_time": "2023-03-17T14:44:24.519Z"
   },
   {
    "duration": 7,
    "start_time": "2023-03-17T14:44:25.053Z"
   },
   {
    "duration": 11,
    "start_time": "2023-03-17T14:44:25.225Z"
   },
   {
    "duration": 9,
    "start_time": "2023-03-17T14:44:25.826Z"
   },
   {
    "duration": 2,
    "start_time": "2023-03-17T14:44:26.270Z"
   },
   {
    "duration": 4,
    "start_time": "2023-03-17T14:44:26.431Z"
   },
   {
    "duration": 6,
    "start_time": "2023-03-17T14:44:27.065Z"
   },
   {
    "duration": 15,
    "start_time": "2023-03-17T14:44:31.924Z"
   },
   {
    "duration": 19,
    "start_time": "2023-03-17T14:44:32.226Z"
   },
   {
    "duration": 8,
    "start_time": "2023-03-17T14:44:32.469Z"
   },
   {
    "duration": 6,
    "start_time": "2023-03-17T14:44:32.837Z"
   },
   {
    "duration": 19,
    "start_time": "2023-03-17T14:44:33.147Z"
   },
   {
    "duration": 121,
    "start_time": "2023-03-17T14:44:33.458Z"
   },
   {
    "duration": 225,
    "start_time": "2023-03-17T14:44:33.975Z"
   },
   {
    "duration": 13,
    "start_time": "2023-03-17T14:44:35.616Z"
   },
   {
    "duration": 356,
    "start_time": "2023-03-17T14:44:36.533Z"
   },
   {
    "duration": 23,
    "start_time": "2023-03-17T14:44:36.891Z"
   },
   {
    "duration": 538,
    "start_time": "2023-03-17T14:44:38.023Z"
   },
   {
    "duration": 508,
    "start_time": "2023-03-17T14:44:42.537Z"
   },
   {
    "duration": 31,
    "start_time": "2023-03-17T14:44:43.049Z"
   },
   {
    "duration": 5,
    "start_time": "2023-03-17T14:44:44.924Z"
   },
   {
    "duration": 201,
    "start_time": "2023-03-17T14:44:47.546Z"
   },
   {
    "duration": 10,
    "start_time": "2023-03-17T14:44:53.238Z"
   },
   {
    "duration": 36,
    "start_time": "2023-03-17T14:44:55.926Z"
   },
   {
    "duration": 49,
    "start_time": "2023-03-17T14:44:56.631Z"
   },
   {
    "duration": 508,
    "start_time": "2023-03-17T14:45:14.120Z"
   },
   {
    "duration": 206,
    "start_time": "2023-03-17T14:45:32.547Z"
   },
   {
    "duration": 368,
    "start_time": "2023-03-17T14:45:37.419Z"
   },
   {
    "duration": 387,
    "start_time": "2023-03-17T14:45:49.693Z"
   },
   {
    "duration": 385,
    "start_time": "2023-03-17T14:46:01.439Z"
   },
   {
    "duration": 449,
    "start_time": "2023-03-17T14:48:43.477Z"
   },
   {
    "duration": 19,
    "start_time": "2023-03-17T14:49:04.768Z"
   },
   {
    "duration": 25,
    "start_time": "2023-03-17T14:49:20.822Z"
   },
   {
    "duration": 11,
    "start_time": "2023-03-17T14:49:43.050Z"
   },
   {
    "duration": 12,
    "start_time": "2023-03-17T14:49:50.129Z"
   },
   {
    "duration": 14,
    "start_time": "2023-03-17T14:49:53.534Z"
   },
   {
    "duration": 11,
    "start_time": "2023-03-17T14:51:55.925Z"
   },
   {
    "duration": 12,
    "start_time": "2023-03-17T14:52:02.575Z"
   },
   {
    "duration": 18,
    "start_time": "2023-03-17T14:52:08.039Z"
   },
   {
    "duration": 14,
    "start_time": "2023-03-17T14:52:20.773Z"
   },
   {
    "duration": 14,
    "start_time": "2023-03-17T14:52:52.822Z"
   },
   {
    "duration": 186,
    "start_time": "2023-03-17T14:54:27.076Z"
   },
   {
    "duration": 329,
    "start_time": "2023-03-17T14:54:37.423Z"
   },
   {
    "duration": 328,
    "start_time": "2023-03-17T14:56:26.428Z"
   },
   {
    "duration": 300,
    "start_time": "2023-03-17T14:56:50.624Z"
   },
   {
    "duration": 156,
    "start_time": "2023-03-17T14:57:06.517Z"
   },
   {
    "duration": 199,
    "start_time": "2023-03-17T14:57:07.758Z"
   },
   {
    "duration": 62,
    "start_time": "2023-03-17T14:57:08.775Z"
   },
   {
    "duration": 162,
    "start_time": "2023-03-17T14:57:08.960Z"
   },
   {
    "duration": 143,
    "start_time": "2023-03-17T14:57:09.138Z"
   },
   {
    "duration": 206,
    "start_time": "2023-03-17T14:57:09.575Z"
   },
   {
    "duration": 265,
    "start_time": "2023-03-17T14:57:09.841Z"
   },
   {
    "duration": 147,
    "start_time": "2023-03-17T14:57:10.315Z"
   },
   {
    "duration": 182,
    "start_time": "2023-03-17T14:57:10.524Z"
   },
   {
    "duration": 328,
    "start_time": "2023-03-17T14:57:12.123Z"
   },
   {
    "duration": 621,
    "start_time": "2023-03-17T14:57:12.559Z"
   },
   {
    "duration": 26,
    "start_time": "2023-03-17T14:57:13.181Z"
   },
   {
    "duration": 336,
    "start_time": "2023-03-17T14:59:07.824Z"
   },
   {
    "duration": 378,
    "start_time": "2023-03-17T14:59:54.407Z"
   },
   {
    "duration": 280,
    "start_time": "2023-03-17T15:01:23.106Z"
   },
   {
    "duration": 285,
    "start_time": "2023-03-17T15:01:29.519Z"
   },
   {
    "duration": 757,
    "start_time": "2023-03-17T15:02:16.819Z"
   },
   {
    "duration": 916,
    "start_time": "2023-03-17T15:02:23.347Z"
   },
   {
    "duration": 88,
    "start_time": "2023-03-17T15:03:17.669Z"
   },
   {
    "duration": 784,
    "start_time": "2023-03-17T15:03:26.723Z"
   },
   {
    "duration": 819,
    "start_time": "2023-03-17T15:03:40.533Z"
   },
   {
    "duration": 2,
    "start_time": "2023-03-17T15:03:58.088Z"
   },
   {
    "duration": 678,
    "start_time": "2023-03-17T15:04:02.182Z"
   },
   {
    "duration": 9,
    "start_time": "2023-03-17T15:04:02.862Z"
   },
   {
    "duration": 3,
    "start_time": "2023-03-17T15:04:03.267Z"
   },
   {
    "duration": 339,
    "start_time": "2023-03-17T15:04:06.330Z"
   },
   {
    "duration": 218,
    "start_time": "2023-03-17T15:04:06.716Z"
   },
   {
    "duration": 245,
    "start_time": "2023-03-17T15:04:07.219Z"
   },
   {
    "duration": 220,
    "start_time": "2023-03-17T15:04:07.733Z"
   },
   {
    "duration": 212,
    "start_time": "2023-03-17T15:04:09.033Z"
   },
   {
    "duration": 287,
    "start_time": "2023-03-17T15:04:09.575Z"
   },
   {
    "duration": 278,
    "start_time": "2023-03-17T15:04:10.055Z"
   },
   {
    "duration": 297,
    "start_time": "2023-03-17T15:04:10.358Z"
   },
   {
    "duration": 176,
    "start_time": "2023-03-17T15:04:11.231Z"
   },
   {
    "duration": 196,
    "start_time": "2023-03-17T15:04:11.572Z"
   },
   {
    "duration": 187,
    "start_time": "2023-03-17T15:04:12.094Z"
   },
   {
    "duration": 192,
    "start_time": "2023-03-17T15:04:12.421Z"
   },
   {
    "duration": 7,
    "start_time": "2023-03-17T15:04:19.151Z"
   },
   {
    "duration": 6,
    "start_time": "2023-03-17T15:04:26.549Z"
   },
   {
    "duration": 6,
    "start_time": "2023-03-17T15:04:33.016Z"
   },
   {
    "duration": 5,
    "start_time": "2023-03-17T15:04:37.584Z"
   },
   {
    "duration": 4,
    "start_time": "2023-03-17T15:04:38.135Z"
   },
   {
    "duration": 5,
    "start_time": "2023-03-17T15:04:39.049Z"
   },
   {
    "duration": 6,
    "start_time": "2023-03-17T15:05:02.624Z"
   },
   {
    "duration": 5,
    "start_time": "2023-03-17T15:05:02.830Z"
   },
   {
    "duration": 5,
    "start_time": "2023-03-17T15:05:03.229Z"
   },
   {
    "duration": 5,
    "start_time": "2023-03-17T15:05:05.439Z"
   },
   {
    "duration": 5,
    "start_time": "2023-03-17T15:05:38.868Z"
   },
   {
    "duration": 5,
    "start_time": "2023-03-17T15:05:39.837Z"
   },
   {
    "duration": 5,
    "start_time": "2023-03-17T15:05:40.432Z"
   },
   {
    "duration": 9,
    "start_time": "2023-03-17T15:05:40.793Z"
   },
   {
    "duration": 12,
    "start_time": "2023-03-17T15:05:51.911Z"
   },
   {
    "duration": 5,
    "start_time": "2023-03-17T15:05:53.530Z"
   },
   {
    "duration": 9,
    "start_time": "2023-03-17T15:05:54.292Z"
   },
   {
    "duration": 10,
    "start_time": "2023-03-17T15:05:59.222Z"
   },
   {
    "duration": 6,
    "start_time": "2023-03-17T15:17:37.729Z"
   },
   {
    "duration": 5,
    "start_time": "2023-03-17T15:17:38.367Z"
   },
   {
    "duration": 5,
    "start_time": "2023-03-17T15:17:38.540Z"
   },
   {
    "duration": 6,
    "start_time": "2023-03-17T15:17:38.727Z"
   },
   {
    "duration": 6,
    "start_time": "2023-03-17T15:17:39.070Z"
   },
   {
    "duration": 8,
    "start_time": "2023-03-17T15:17:40.149Z"
   },
   {
    "duration": 13,
    "start_time": "2023-03-17T15:18:52.130Z"
   },
   {
    "duration": 14,
    "start_time": "2023-03-17T15:19:29.279Z"
   },
   {
    "duration": 7,
    "start_time": "2023-03-17T15:19:50.541Z"
   },
   {
    "duration": 47,
    "start_time": "2023-03-17T15:43:50.723Z"
   },
   {
    "duration": 57,
    "start_time": "2023-03-17T15:45:41.805Z"
   },
   {
    "duration": 5,
    "start_time": "2023-03-17T15:46:45.630Z"
   },
   {
    "duration": 5,
    "start_time": "2023-03-17T15:46:45.913Z"
   },
   {
    "duration": 4,
    "start_time": "2023-03-17T15:46:46.424Z"
   },
   {
    "duration": 7,
    "start_time": "2023-03-17T15:46:47.793Z"
   },
   {
    "duration": 17,
    "start_time": "2023-03-17T15:46:49.891Z"
   },
   {
    "duration": 5,
    "start_time": "2023-03-17T15:46:51.307Z"
   },
   {
    "duration": 4,
    "start_time": "2023-03-17T15:46:51.328Z"
   },
   {
    "duration": 14,
    "start_time": "2023-03-17T15:46:51.334Z"
   },
   {
    "duration": 1273,
    "start_time": "2023-03-18T11:04:06.850Z"
   },
   {
    "duration": 55,
    "start_time": "2023-03-18T11:04:08.125Z"
   },
   {
    "duration": 17,
    "start_time": "2023-03-18T11:04:08.182Z"
   },
   {
    "duration": 17,
    "start_time": "2023-03-18T11:04:08.201Z"
   },
   {
    "duration": 10,
    "start_time": "2023-03-18T11:04:08.222Z"
   },
   {
    "duration": 15,
    "start_time": "2023-03-18T11:04:08.234Z"
   },
   {
    "duration": 6,
    "start_time": "2023-03-18T11:04:08.250Z"
   },
   {
    "duration": 36,
    "start_time": "2023-03-18T11:04:08.257Z"
   },
   {
    "duration": 8,
    "start_time": "2023-03-18T11:04:08.294Z"
   },
   {
    "duration": 9,
    "start_time": "2023-03-18T11:04:08.304Z"
   },
   {
    "duration": 4,
    "start_time": "2023-03-18T11:04:08.315Z"
   },
   {
    "duration": 7,
    "start_time": "2023-03-18T11:04:08.321Z"
   },
   {
    "duration": 12,
    "start_time": "2023-03-18T11:04:08.329Z"
   },
   {
    "duration": 16,
    "start_time": "2023-03-18T11:04:08.345Z"
   },
   {
    "duration": 35,
    "start_time": "2023-03-18T11:04:08.363Z"
   },
   {
    "duration": 7,
    "start_time": "2023-03-18T11:04:08.400Z"
   },
   {
    "duration": 5,
    "start_time": "2023-03-18T11:04:08.408Z"
   },
   {
    "duration": 15,
    "start_time": "2023-03-18T11:04:08.414Z"
   },
   {
    "duration": 105,
    "start_time": "2023-03-18T11:04:08.430Z"
   },
   {
    "duration": 195,
    "start_time": "2023-03-18T11:04:08.536Z"
   },
   {
    "duration": 9,
    "start_time": "2023-03-18T11:04:08.732Z"
   },
   {
    "duration": 335,
    "start_time": "2023-03-18T11:04:08.742Z"
   },
   {
    "duration": 11,
    "start_time": "2023-03-18T11:04:09.079Z"
   },
   {
    "duration": 506,
    "start_time": "2023-03-18T11:04:09.092Z"
   },
   {
    "duration": 449,
    "start_time": "2023-03-18T11:04:09.600Z"
   },
   {
    "duration": 45,
    "start_time": "2023-03-18T11:04:10.052Z"
   },
   {
    "duration": 167,
    "start_time": "2023-03-18T11:04:10.099Z"
   },
   {
    "duration": 191,
    "start_time": "2023-03-18T11:04:10.269Z"
   },
   {
    "duration": 9,
    "start_time": "2023-03-18T11:04:10.462Z"
   },
   {
    "duration": 45,
    "start_time": "2023-03-18T11:04:10.474Z"
   },
   {
    "duration": 376,
    "start_time": "2023-03-18T11:04:10.521Z"
   },
   {
    "duration": 247,
    "start_time": "2023-03-18T11:04:10.899Z"
   },
   {
    "duration": 133,
    "start_time": "2023-03-18T11:04:11.148Z"
   },
   {
    "duration": 143,
    "start_time": "2023-03-18T11:04:11.283Z"
   },
   {
    "duration": 36,
    "start_time": "2023-03-18T11:04:11.428Z"
   },
   {
    "duration": 157,
    "start_time": "2023-03-18T11:04:11.466Z"
   },
   {
    "duration": 136,
    "start_time": "2023-03-18T11:04:11.625Z"
   },
   {
    "duration": 138,
    "start_time": "2023-03-18T11:04:11.762Z"
   },
   {
    "duration": 142,
    "start_time": "2023-03-18T11:04:11.902Z"
   },
   {
    "duration": 128,
    "start_time": "2023-03-18T11:04:12.046Z"
   },
   {
    "duration": 233,
    "start_time": "2023-03-18T11:04:12.178Z"
   },
   {
    "duration": 635,
    "start_time": "2023-03-18T11:04:12.412Z"
   },
   {
    "duration": 2,
    "start_time": "2023-03-18T11:04:13.049Z"
   },
   {
    "duration": 585,
    "start_time": "2023-03-18T11:04:13.053Z"
   },
   {
    "duration": 130,
    "start_time": "2023-03-18T11:04:13.640Z"
   },
   {
    "duration": 0,
    "start_time": "2023-03-18T11:04:13.771Z"
   },
   {
    "duration": 0,
    "start_time": "2023-03-18T11:04:13.774Z"
   },
   {
    "duration": 0,
    "start_time": "2023-03-18T11:04:13.775Z"
   },
   {
    "duration": 0,
    "start_time": "2023-03-18T11:04:13.776Z"
   },
   {
    "duration": 0,
    "start_time": "2023-03-18T11:04:13.789Z"
   },
   {
    "duration": 0,
    "start_time": "2023-03-18T11:04:13.791Z"
   },
   {
    "duration": 0,
    "start_time": "2023-03-18T11:04:13.792Z"
   },
   {
    "duration": 0,
    "start_time": "2023-03-18T11:04:13.794Z"
   },
   {
    "duration": 0,
    "start_time": "2023-03-18T11:04:13.795Z"
   },
   {
    "duration": 0,
    "start_time": "2023-03-18T11:04:13.796Z"
   },
   {
    "duration": 0,
    "start_time": "2023-03-18T11:04:13.797Z"
   },
   {
    "duration": 0,
    "start_time": "2023-03-18T11:04:13.798Z"
   },
   {
    "duration": 0,
    "start_time": "2023-03-18T11:04:13.800Z"
   },
   {
    "duration": 0,
    "start_time": "2023-03-18T11:04:13.801Z"
   },
   {
    "duration": 0,
    "start_time": "2023-03-18T11:04:13.802Z"
   },
   {
    "duration": 0,
    "start_time": "2023-03-18T11:04:13.803Z"
   },
   {
    "duration": 0,
    "start_time": "2023-03-18T11:04:13.804Z"
   },
   {
    "duration": 0,
    "start_time": "2023-03-18T11:04:13.805Z"
   },
   {
    "duration": 0,
    "start_time": "2023-03-18T11:04:13.806Z"
   },
   {
    "duration": 0,
    "start_time": "2023-03-18T11:04:13.807Z"
   },
   {
    "duration": 0,
    "start_time": "2023-03-18T11:04:13.809Z"
   },
   {
    "duration": 0,
    "start_time": "2023-03-18T11:04:13.810Z"
   },
   {
    "duration": 1274,
    "start_time": "2023-03-18T11:08:17.283Z"
   },
   {
    "duration": 56,
    "start_time": "2023-03-18T11:08:18.559Z"
   },
   {
    "duration": 21,
    "start_time": "2023-03-18T11:08:18.617Z"
   },
   {
    "duration": 17,
    "start_time": "2023-03-18T11:08:18.640Z"
   },
   {
    "duration": 31,
    "start_time": "2023-03-18T11:08:18.658Z"
   },
   {
    "duration": 17,
    "start_time": "2023-03-18T11:08:18.691Z"
   },
   {
    "duration": 5,
    "start_time": "2023-03-18T11:08:18.709Z"
   },
   {
    "duration": 6,
    "start_time": "2023-03-18T11:08:18.716Z"
   },
   {
    "duration": 8,
    "start_time": "2023-03-18T11:08:18.724Z"
   },
   {
    "duration": 7,
    "start_time": "2023-03-18T11:08:18.735Z"
   },
   {
    "duration": 3,
    "start_time": "2023-03-18T11:08:18.744Z"
   },
   {
    "duration": 41,
    "start_time": "2023-03-18T11:08:18.748Z"
   },
   {
    "duration": 6,
    "start_time": "2023-03-18T11:08:18.791Z"
   },
   {
    "duration": 14,
    "start_time": "2023-03-18T11:08:18.798Z"
   },
   {
    "duration": 10,
    "start_time": "2023-03-18T11:08:18.814Z"
   },
   {
    "duration": 6,
    "start_time": "2023-03-18T11:08:18.825Z"
   },
   {
    "duration": 6,
    "start_time": "2023-03-18T11:08:18.832Z"
   },
   {
    "duration": 23,
    "start_time": "2023-03-18T11:08:18.839Z"
   },
   {
    "duration": 81,
    "start_time": "2023-03-18T11:08:18.888Z"
   },
   {
    "duration": 196,
    "start_time": "2023-03-18T11:08:18.971Z"
   },
   {
    "duration": 9,
    "start_time": "2023-03-18T11:08:19.168Z"
   },
   {
    "duration": 312,
    "start_time": "2023-03-18T11:08:19.179Z"
   },
   {
    "duration": 8,
    "start_time": "2023-03-18T11:08:19.492Z"
   },
   {
    "duration": 484,
    "start_time": "2023-03-18T11:08:19.502Z"
   },
   {
    "duration": 439,
    "start_time": "2023-03-18T11:08:19.988Z"
   },
   {
    "duration": 28,
    "start_time": "2023-03-18T11:08:20.429Z"
   },
   {
    "duration": 4,
    "start_time": "2023-03-18T11:08:20.458Z"
   },
   {
    "duration": 197,
    "start_time": "2023-03-18T11:08:20.465Z"
   },
   {
    "duration": 8,
    "start_time": "2023-03-18T11:08:20.663Z"
   },
   {
    "duration": 44,
    "start_time": "2023-03-18T11:08:20.672Z"
   },
   {
    "duration": 377,
    "start_time": "2023-03-18T11:08:20.718Z"
   },
   {
    "duration": 261,
    "start_time": "2023-03-18T11:08:21.097Z"
   },
   {
    "duration": 153,
    "start_time": "2023-03-18T11:08:21.360Z"
   },
   {
    "duration": 167,
    "start_time": "2023-03-18T11:08:21.515Z"
   },
   {
    "duration": 39,
    "start_time": "2023-03-18T11:08:21.683Z"
   },
   {
    "duration": 160,
    "start_time": "2023-03-18T11:08:21.724Z"
   },
   {
    "duration": 156,
    "start_time": "2023-03-18T11:08:21.888Z"
   },
   {
    "duration": 136,
    "start_time": "2023-03-18T11:08:22.046Z"
   },
   {
    "duration": 156,
    "start_time": "2023-03-18T11:08:22.189Z"
   },
   {
    "duration": 132,
    "start_time": "2023-03-18T11:08:22.347Z"
   },
   {
    "duration": 241,
    "start_time": "2023-03-18T11:08:22.481Z"
   },
   {
    "duration": 612,
    "start_time": "2023-03-18T11:08:22.724Z"
   },
   {
    "duration": 2,
    "start_time": "2023-03-18T11:08:23.338Z"
   },
   {
    "duration": 565,
    "start_time": "2023-03-18T11:08:23.342Z"
   },
   {
    "duration": 2,
    "start_time": "2023-03-18T11:08:23.909Z"
   },
   {
    "duration": 202,
    "start_time": "2023-03-18T11:08:23.913Z"
   },
   {
    "duration": 200,
    "start_time": "2023-03-18T11:08:24.116Z"
   },
   {
    "duration": 177,
    "start_time": "2023-03-18T11:08:24.318Z"
   },
   {
    "duration": 299,
    "start_time": "2023-03-18T11:08:24.496Z"
   },
   {
    "duration": 215,
    "start_time": "2023-03-18T11:08:24.796Z"
   },
   {
    "duration": 211,
    "start_time": "2023-03-18T11:08:25.013Z"
   },
   {
    "duration": 205,
    "start_time": "2023-03-18T11:08:25.225Z"
   },
   {
    "duration": 200,
    "start_time": "2023-03-18T11:08:25.431Z"
   },
   {
    "duration": 139,
    "start_time": "2023-03-18T11:08:25.633Z"
   },
   {
    "duration": 132,
    "start_time": "2023-03-18T11:08:25.774Z"
   },
   {
    "duration": 121,
    "start_time": "2023-03-18T11:08:25.907Z"
   },
   {
    "duration": 136,
    "start_time": "2023-03-18T11:08:26.030Z"
   },
   {
    "duration": 6,
    "start_time": "2023-03-18T11:08:26.168Z"
   },
   {
    "duration": 15,
    "start_time": "2023-03-18T11:08:26.175Z"
   },
   {
    "duration": 4,
    "start_time": "2023-03-18T11:08:26.191Z"
   },
   {
    "duration": 5,
    "start_time": "2023-03-18T11:08:26.197Z"
   },
   {
    "duration": 8,
    "start_time": "2023-03-18T11:08:26.203Z"
   },
   {
    "duration": 7,
    "start_time": "2023-03-18T11:08:26.212Z"
   },
   {
    "duration": 4,
    "start_time": "2023-03-18T11:08:26.220Z"
   },
   {
    "duration": 5,
    "start_time": "2023-03-18T11:08:26.226Z"
   },
   {
    "duration": 5,
    "start_time": "2023-03-18T11:08:26.233Z"
   },
   {
    "duration": 141,
    "start_time": "2023-03-18T11:11:06.841Z"
   },
   {
    "duration": 312,
    "start_time": "2023-03-18T11:12:30.043Z"
   },
   {
    "duration": 434,
    "start_time": "2023-03-18T11:13:26.641Z"
   },
   {
    "duration": 337,
    "start_time": "2023-03-18T11:13:40.874Z"
   },
   {
    "duration": 337,
    "start_time": "2023-03-18T11:13:59.760Z"
   },
   {
    "duration": 351,
    "start_time": "2023-03-18T11:14:56.697Z"
   },
   {
    "duration": 366,
    "start_time": "2023-03-18T11:15:06.804Z"
   },
   {
    "duration": 450,
    "start_time": "2023-03-18T11:15:12.428Z"
   },
   {
    "duration": 344,
    "start_time": "2023-03-18T11:15:18.133Z"
   },
   {
    "duration": 171,
    "start_time": "2023-03-18T11:16:22.460Z"
   },
   {
    "duration": 1229,
    "start_time": "2023-03-18T11:16:44.677Z"
   },
   {
    "duration": 55,
    "start_time": "2023-03-18T11:16:45.908Z"
   },
   {
    "duration": 18,
    "start_time": "2023-03-18T11:16:45.964Z"
   },
   {
    "duration": 15,
    "start_time": "2023-03-18T11:16:45.984Z"
   },
   {
    "duration": 9,
    "start_time": "2023-03-18T11:16:46.001Z"
   },
   {
    "duration": 18,
    "start_time": "2023-03-18T11:16:46.012Z"
   },
   {
    "duration": 5,
    "start_time": "2023-03-18T11:16:46.031Z"
   },
   {
    "duration": 18,
    "start_time": "2023-03-18T11:16:46.038Z"
   },
   {
    "duration": 32,
    "start_time": "2023-03-18T11:16:46.057Z"
   },
   {
    "duration": 8,
    "start_time": "2023-03-18T11:16:46.091Z"
   },
   {
    "duration": 2,
    "start_time": "2023-03-18T11:16:46.100Z"
   },
   {
    "duration": 5,
    "start_time": "2023-03-18T11:16:46.104Z"
   },
   {
    "duration": 6,
    "start_time": "2023-03-18T11:16:46.111Z"
   },
   {
    "duration": 14,
    "start_time": "2023-03-18T11:16:46.120Z"
   },
   {
    "duration": 11,
    "start_time": "2023-03-18T11:16:46.135Z"
   },
   {
    "duration": 6,
    "start_time": "2023-03-18T11:16:46.148Z"
   },
   {
    "duration": 38,
    "start_time": "2023-03-18T11:16:46.156Z"
   },
   {
    "duration": 17,
    "start_time": "2023-03-18T11:16:46.196Z"
   },
   {
    "duration": 104,
    "start_time": "2023-03-18T11:16:46.215Z"
   },
   {
    "duration": 198,
    "start_time": "2023-03-18T11:16:46.320Z"
   },
   {
    "duration": 8,
    "start_time": "2023-03-18T11:16:46.520Z"
   },
   {
    "duration": 340,
    "start_time": "2023-03-18T11:16:46.530Z"
   },
   {
    "duration": 18,
    "start_time": "2023-03-18T11:16:46.872Z"
   },
   {
    "duration": 654,
    "start_time": "2023-03-18T11:16:46.892Z"
   },
   {
    "duration": 1019,
    "start_time": "2023-03-18T11:16:47.590Z"
   },
   {
    "duration": 85,
    "start_time": "2023-03-18T11:16:48.611Z"
   },
   {
    "duration": 4,
    "start_time": "2023-03-18T11:16:48.698Z"
   },
   {
    "duration": 403,
    "start_time": "2023-03-18T11:16:48.704Z"
   },
   {
    "duration": 8,
    "start_time": "2023-03-18T11:16:49.109Z"
   },
   {
    "duration": 71,
    "start_time": "2023-03-18T11:16:49.119Z"
   },
   {
    "duration": 383,
    "start_time": "2023-03-18T11:16:49.192Z"
   },
   {
    "duration": 258,
    "start_time": "2023-03-18T11:16:49.577Z"
   },
   {
    "duration": 141,
    "start_time": "2023-03-18T11:16:49.836Z"
   },
   {
    "duration": 165,
    "start_time": "2023-03-18T11:16:49.979Z"
   },
   {
    "duration": 48,
    "start_time": "2023-03-18T11:16:50.146Z"
   },
   {
    "duration": 148,
    "start_time": "2023-03-18T11:16:50.195Z"
   },
   {
    "duration": 149,
    "start_time": "2023-03-18T11:16:50.345Z"
   },
   {
    "duration": 146,
    "start_time": "2023-03-18T11:16:50.496Z"
   },
   {
    "duration": 150,
    "start_time": "2023-03-18T11:16:50.644Z"
   },
   {
    "duration": 133,
    "start_time": "2023-03-18T11:16:50.796Z"
   },
   {
    "duration": 230,
    "start_time": "2023-03-18T11:16:50.934Z"
   },
   {
    "duration": 575,
    "start_time": "2023-03-18T11:16:51.166Z"
   },
   {
    "duration": 3,
    "start_time": "2023-03-18T11:16:51.743Z"
   },
   {
    "duration": 596,
    "start_time": "2023-03-18T11:16:51.747Z"
   },
   {
    "duration": 3,
    "start_time": "2023-03-18T11:16:52.345Z"
   },
   {
    "duration": 208,
    "start_time": "2023-03-18T11:16:52.350Z"
   },
   {
    "duration": 230,
    "start_time": "2023-03-18T11:16:52.559Z"
   },
   {
    "duration": 210,
    "start_time": "2023-03-18T11:16:52.791Z"
   },
   {
    "duration": 300,
    "start_time": "2023-03-18T11:16:53.003Z"
   },
   {
    "duration": 203,
    "start_time": "2023-03-18T11:16:53.305Z"
   },
   {
    "duration": 205,
    "start_time": "2023-03-18T11:16:53.509Z"
   },
   {
    "duration": 195,
    "start_time": "2023-03-18T11:16:53.716Z"
   },
   {
    "duration": 196,
    "start_time": "2023-03-18T11:16:53.913Z"
   },
   {
    "duration": 120,
    "start_time": "2023-03-18T11:16:54.110Z"
   },
   {
    "duration": 111,
    "start_time": "2023-03-18T11:16:54.231Z"
   },
   {
    "duration": 119,
    "start_time": "2023-03-18T11:16:54.344Z"
   },
   {
    "duration": 119,
    "start_time": "2023-03-18T11:16:54.464Z"
   },
   {
    "duration": 5,
    "start_time": "2023-03-18T11:16:54.589Z"
   },
   {
    "duration": 15,
    "start_time": "2023-03-18T11:16:54.595Z"
   },
   {
    "duration": 21,
    "start_time": "2023-03-18T11:16:54.611Z"
   },
   {
    "duration": 5,
    "start_time": "2023-03-18T11:16:54.633Z"
   },
   {
    "duration": 6,
    "start_time": "2023-03-18T11:16:54.640Z"
   },
   {
    "duration": 17,
    "start_time": "2023-03-18T11:16:54.647Z"
   },
   {
    "duration": 8,
    "start_time": "2023-03-18T11:16:54.665Z"
   },
   {
    "duration": 15,
    "start_time": "2023-03-18T11:16:54.675Z"
   },
   {
    "duration": 5,
    "start_time": "2023-03-18T11:16:54.692Z"
   },
   {
    "duration": 6,
    "start_time": "2023-03-18T11:20:20.138Z"
   },
   {
    "duration": 7,
    "start_time": "2023-03-18T11:21:59.407Z"
   },
   {
    "duration": 7,
    "start_time": "2023-03-18T11:24:45.451Z"
   },
   {
    "duration": 1207,
    "start_time": "2023-03-18T14:48:29.039Z"
   },
   {
    "duration": 100,
    "start_time": "2023-03-18T14:48:30.247Z"
   },
   {
    "duration": 16,
    "start_time": "2023-03-18T14:48:30.349Z"
   },
   {
    "duration": 48,
    "start_time": "2023-03-18T14:48:30.367Z"
   },
   {
    "duration": 30,
    "start_time": "2023-03-18T14:48:30.417Z"
   },
   {
    "duration": 61,
    "start_time": "2023-03-18T14:48:30.449Z"
   },
   {
    "duration": 5,
    "start_time": "2023-03-18T14:48:30.686Z"
   },
   {
    "duration": 5,
    "start_time": "2023-03-18T14:48:31.109Z"
   },
   {
    "duration": 8,
    "start_time": "2023-03-18T14:48:31.288Z"
   },
   {
    "duration": 7,
    "start_time": "2023-03-18T14:48:31.902Z"
   },
   {
    "duration": 2,
    "start_time": "2023-03-18T14:48:32.393Z"
   },
   {
    "duration": 4,
    "start_time": "2023-03-18T14:48:32.592Z"
   },
   {
    "duration": 5,
    "start_time": "2023-03-18T14:48:33.187Z"
   },
   {
    "duration": 14,
    "start_time": "2023-03-18T14:48:33.691Z"
   },
   {
    "duration": 9,
    "start_time": "2023-03-18T14:48:33.818Z"
   },
   {
    "duration": 6,
    "start_time": "2023-03-18T14:48:33.992Z"
   },
   {
    "duration": 4,
    "start_time": "2023-03-18T14:48:34.302Z"
   },
   {
    "duration": 20,
    "start_time": "2023-03-18T14:48:34.624Z"
   },
   {
    "duration": 62,
    "start_time": "2023-03-18T14:48:34.990Z"
   },
   {
    "duration": 153,
    "start_time": "2023-03-18T14:48:35.483Z"
   },
   {
    "duration": 11,
    "start_time": "2023-03-18T14:48:35.990Z"
   },
   {
    "duration": 261,
    "start_time": "2023-03-18T14:48:36.494Z"
   },
   {
    "duration": 7,
    "start_time": "2023-03-18T14:48:36.756Z"
   },
   {
    "duration": 402,
    "start_time": "2023-03-18T14:48:37.008Z"
   },
   {
    "duration": 406,
    "start_time": "2023-03-18T14:48:37.500Z"
   },
   {
    "duration": 26,
    "start_time": "2023-03-18T14:48:37.908Z"
   },
   {
    "duration": 5,
    "start_time": "2023-03-18T14:48:38.329Z"
   },
   {
    "duration": 173,
    "start_time": "2023-03-18T14:48:38.987Z"
   },
   {
    "duration": 8,
    "start_time": "2023-03-18T14:48:39.492Z"
   },
   {
    "duration": 32,
    "start_time": "2023-03-18T14:48:40.093Z"
   },
   {
    "duration": 337,
    "start_time": "2023-03-18T14:48:40.247Z"
   },
   {
    "duration": 255,
    "start_time": "2023-03-18T14:48:40.586Z"
   },
   {
    "duration": 140,
    "start_time": "2023-03-18T14:48:41.295Z"
   },
   {
    "duration": 144,
    "start_time": "2023-03-18T14:49:08.698Z"
   },
   {
    "duration": 32,
    "start_time": "2023-03-18T14:49:10.189Z"
   },
   {
    "duration": 138,
    "start_time": "2023-03-18T14:49:16.327Z"
   },
   {
    "duration": 136,
    "start_time": "2023-03-18T14:49:16.650Z"
   },
   {
    "duration": 112,
    "start_time": "2023-03-18T14:49:17.388Z"
   },
   {
    "duration": 108,
    "start_time": "2023-03-18T14:49:17.691Z"
   },
   {
    "duration": 119,
    "start_time": "2023-03-18T14:49:18.334Z"
   },
   {
    "duration": 182,
    "start_time": "2023-03-18T14:49:18.627Z"
   },
   {
    "duration": 525,
    "start_time": "2023-03-18T14:49:21.089Z"
   },
   {
    "duration": 2,
    "start_time": "2023-03-18T14:49:21.621Z"
   },
   {
    "duration": 493,
    "start_time": "2023-03-18T14:49:22.814Z"
   },
   {
    "duration": 3,
    "start_time": "2023-03-18T14:50:38.283Z"
   },
   {
    "duration": 153,
    "start_time": "2023-03-18T14:50:45.311Z"
   },
   {
    "duration": 157,
    "start_time": "2023-03-18T14:50:45.490Z"
   },
   {
    "duration": 169,
    "start_time": "2023-03-18T14:50:45.649Z"
   },
   {
    "duration": 278,
    "start_time": "2023-03-18T14:50:45.820Z"
   },
   {
    "duration": 164,
    "start_time": "2023-03-18T14:50:46.730Z"
   },
   {
    "duration": 163,
    "start_time": "2023-03-18T14:50:47.190Z"
   },
   {
    "duration": 168,
    "start_time": "2023-03-18T14:50:47.603Z"
   },
   {
    "duration": 162,
    "start_time": "2023-03-18T14:50:48.090Z"
   },
   {
    "duration": 97,
    "start_time": "2023-03-18T14:50:50.643Z"
   },
   {
    "duration": 100,
    "start_time": "2023-03-18T14:50:51.409Z"
   },
   {
    "duration": 105,
    "start_time": "2023-03-18T14:50:52.577Z"
   },
   {
    "duration": 105,
    "start_time": "2023-03-18T14:50:53.091Z"
   },
   {
    "duration": 6,
    "start_time": "2023-03-18T14:50:55.486Z"
   },
   {
    "duration": 6,
    "start_time": "2023-03-18T14:50:56.543Z"
   },
   {
    "duration": 4,
    "start_time": "2023-03-18T14:51:07.895Z"
   },
   {
    "duration": 4,
    "start_time": "2023-03-18T14:51:08.091Z"
   },
   {
    "duration": 5,
    "start_time": "2023-03-18T14:51:08.230Z"
   },
   {
    "duration": 6,
    "start_time": "2023-03-18T14:51:08.539Z"
   },
   {
    "duration": 6,
    "start_time": "2023-03-18T14:51:09.289Z"
   },
   {
    "duration": 6,
    "start_time": "2023-03-18T14:51:09.588Z"
   },
   {
    "duration": 5,
    "start_time": "2023-03-18T14:51:10.029Z"
   },
   {
    "duration": 4,
    "start_time": "2023-03-18T14:51:10.229Z"
   },
   {
    "duration": 5,
    "start_time": "2023-03-18T14:51:10.595Z"
   },
   {
    "duration": 5,
    "start_time": "2023-03-18T15:02:42.783Z"
   },
   {
    "duration": 125,
    "start_time": "2023-03-18T15:04:26.320Z"
   },
   {
    "duration": 7,
    "start_time": "2023-03-18T15:05:59.097Z"
   },
   {
    "duration": 13,
    "start_time": "2023-03-18T15:06:07.778Z"
   },
   {
    "duration": 5,
    "start_time": "2023-03-18T15:06:08.307Z"
   },
   {
    "duration": 13,
    "start_time": "2023-03-18T15:06:09.513Z"
   },
   {
    "duration": 8,
    "start_time": "2023-03-18T15:07:10.718Z"
   },
   {
    "duration": 2,
    "start_time": "2023-03-18T15:07:11.199Z"
   },
   {
    "duration": 33,
    "start_time": "2023-03-18T15:07:12.500Z"
   },
   {
    "duration": 9,
    "start_time": "2023-03-18T15:07:18.191Z"
   },
   {
    "duration": 21,
    "start_time": "2023-03-18T15:07:28.274Z"
   },
   {
    "duration": 6,
    "start_time": "2023-03-18T15:07:29.929Z"
   },
   {
    "duration": 2,
    "start_time": "2023-03-18T15:08:00.729Z"
   },
   {
    "duration": 5,
    "start_time": "2023-03-18T15:08:01.137Z"
   },
   {
    "duration": 15,
    "start_time": "2023-03-18T15:08:02.482Z"
   },
   {
    "duration": 23,
    "start_time": "2023-03-18T15:08:37.776Z"
   },
   {
    "duration": 3,
    "start_time": "2023-03-18T15:08:38.334Z"
   },
   {
    "duration": 42,
    "start_time": "2023-03-18T15:08:38.978Z"
   },
   {
    "duration": 13,
    "start_time": "2023-03-18T15:08:39.299Z"
   },
   {
    "duration": 10,
    "start_time": "2023-03-18T15:08:39.424Z"
   },
   {
    "duration": 9,
    "start_time": "2023-03-18T15:08:39.809Z"
   },
   {
    "duration": 19,
    "start_time": "2023-03-18T15:08:41.158Z"
   },
   {
    "duration": 13,
    "start_time": "2023-03-18T15:10:17.699Z"
   },
   {
    "duration": 2,
    "start_time": "2023-03-18T15:10:18.143Z"
   },
   {
    "duration": 16,
    "start_time": "2023-03-18T15:10:18.907Z"
   },
   {
    "duration": 8,
    "start_time": "2023-03-18T15:10:31.700Z"
   },
   {
    "duration": 7,
    "start_time": "2023-03-18T15:10:33.107Z"
   },
   {
    "duration": 21,
    "start_time": "2023-03-18T15:11:22.395Z"
   },
   {
    "duration": 26,
    "start_time": "2023-03-18T15:11:32.708Z"
   },
   {
    "duration": 2,
    "start_time": "2023-03-18T15:11:39.699Z"
   },
   {
    "duration": 6,
    "start_time": "2023-03-18T15:11:41.833Z"
   },
   {
    "duration": 11,
    "start_time": "2023-03-18T15:11:43.078Z"
   },
   {
    "duration": 7,
    "start_time": "2023-03-18T15:11:49.406Z"
   },
   {
    "duration": 7,
    "start_time": "2023-03-18T15:11:50.194Z"
   },
   {
    "duration": 6,
    "start_time": "2023-03-18T15:11:54.298Z"
   },
   {
    "duration": 23,
    "start_time": "2023-03-18T15:12:14.036Z"
   },
   {
    "duration": 2,
    "start_time": "2023-03-18T15:12:15.417Z"
   },
   {
    "duration": 6,
    "start_time": "2023-03-18T15:12:20.110Z"
   },
   {
    "duration": 7,
    "start_time": "2023-03-18T15:12:22.502Z"
   },
   {
    "duration": 7,
    "start_time": "2023-03-18T15:12:22.794Z"
   },
   {
    "duration": 6,
    "start_time": "2023-03-18T15:12:23.240Z"
   },
   {
    "duration": 6,
    "start_time": "2023-03-18T15:12:24.498Z"
   },
   {
    "duration": 32,
    "start_time": "2023-03-18T15:13:06.002Z"
   },
   {
    "duration": 16,
    "start_time": "2023-03-18T15:13:20.122Z"
   },
   {
    "duration": 2,
    "start_time": "2023-03-18T15:13:22.499Z"
   },
   {
    "duration": 6,
    "start_time": "2023-03-18T15:13:25.907Z"
   },
   {
    "duration": 8,
    "start_time": "2023-03-18T15:13:26.099Z"
   },
   {
    "duration": 5,
    "start_time": "2023-03-18T15:13:27.028Z"
   },
   {
    "duration": 7,
    "start_time": "2023-03-18T15:13:34.795Z"
   },
   {
    "duration": 7,
    "start_time": "2023-03-18T15:13:36.007Z"
   },
   {
    "duration": 3,
    "start_time": "2023-03-18T15:14:18.329Z"
   },
   {
    "duration": 60,
    "start_time": "2023-03-18T15:14:18.499Z"
   },
   {
    "duration": 18,
    "start_time": "2023-03-18T15:14:18.599Z"
   },
   {
    "duration": 17,
    "start_time": "2023-03-18T15:14:18.745Z"
   },
   {
    "duration": 9,
    "start_time": "2023-03-18T15:14:18.895Z"
   },
   {
    "duration": 14,
    "start_time": "2023-03-18T15:14:19.100Z"
   },
   {
    "duration": 5,
    "start_time": "2023-03-18T15:14:19.996Z"
   },
   {
    "duration": 5,
    "start_time": "2023-03-18T15:14:20.595Z"
   },
   {
    "duration": 7,
    "start_time": "2023-03-18T15:14:20.737Z"
   },
   {
    "duration": 9,
    "start_time": "2023-03-18T15:14:21.394Z"
   },
   {
    "duration": 5,
    "start_time": "2023-03-18T15:14:21.891Z"
   },
   {
    "duration": 4,
    "start_time": "2023-03-18T15:14:22.024Z"
   },
   {
    "duration": 6,
    "start_time": "2023-03-18T15:14:22.699Z"
   },
   {
    "duration": 17,
    "start_time": "2023-03-18T15:14:23.299Z"
   },
   {
    "duration": 13,
    "start_time": "2023-03-18T15:14:23.499Z"
   },
   {
    "duration": 10,
    "start_time": "2023-03-18T15:14:23.698Z"
   },
   {
    "duration": 7,
    "start_time": "2023-03-18T15:14:24.036Z"
   },
   {
    "duration": 19,
    "start_time": "2023-03-18T15:14:24.399Z"
   },
   {
    "duration": 111,
    "start_time": "2023-03-18T15:14:24.739Z"
   },
   {
    "duration": 145,
    "start_time": "2023-03-18T15:14:25.299Z"
   },
   {
    "duration": 8,
    "start_time": "2023-03-18T15:14:25.832Z"
   },
   {
    "duration": 371,
    "start_time": "2023-03-18T15:14:26.398Z"
   },
   {
    "duration": 16,
    "start_time": "2023-03-18T15:14:26.771Z"
   },
   {
    "duration": 366,
    "start_time": "2023-03-18T15:14:27.394Z"
   },
   {
    "duration": 374,
    "start_time": "2023-03-18T15:14:28.094Z"
   },
   {
    "duration": 34,
    "start_time": "2023-03-18T15:14:28.470Z"
   },
   {
    "duration": 4,
    "start_time": "2023-03-18T15:14:29.004Z"
   },
   {
    "duration": 165,
    "start_time": "2023-03-18T15:14:29.998Z"
   },
   {
    "duration": 7,
    "start_time": "2023-03-18T15:14:30.544Z"
   },
   {
    "duration": 41,
    "start_time": "2023-03-18T15:14:31.396Z"
   },
   {
    "duration": 303,
    "start_time": "2023-03-18T15:14:31.595Z"
   },
   {
    "duration": 221,
    "start_time": "2023-03-18T15:14:31.899Z"
   },
   {
    "duration": 123,
    "start_time": "2023-03-18T15:14:32.797Z"
   },
   {
    "duration": 226,
    "start_time": "2023-03-18T15:14:33.617Z"
   },
   {
    "duration": 43,
    "start_time": "2023-03-18T15:14:34.399Z"
   },
   {
    "duration": 131,
    "start_time": "2023-03-18T15:14:34.605Z"
   },
   {
    "duration": 118,
    "start_time": "2023-03-18T15:14:34.806Z"
   },
   {
    "duration": 117,
    "start_time": "2023-03-18T15:14:35.194Z"
   },
   {
    "duration": 154,
    "start_time": "2023-03-18T15:14:35.343Z"
   },
   {
    "duration": 130,
    "start_time": "2023-03-18T15:14:35.798Z"
   },
   {
    "duration": 159,
    "start_time": "2023-03-18T15:14:36.002Z"
   },
   {
    "duration": 590,
    "start_time": "2023-03-18T15:14:37.304Z"
   },
   {
    "duration": 4,
    "start_time": "2023-03-18T15:14:37.895Z"
   },
   {
    "duration": 660,
    "start_time": "2023-03-18T15:14:37.901Z"
   },
   {
    "duration": 3,
    "start_time": "2023-03-18T15:14:38.718Z"
   },
   {
    "duration": 283,
    "start_time": "2023-03-18T15:14:40.929Z"
   },
   {
    "duration": 264,
    "start_time": "2023-03-18T15:14:41.214Z"
   },
   {
    "duration": 172,
    "start_time": "2023-03-18T15:14:41.498Z"
   },
   {
    "duration": 156,
    "start_time": "2023-03-18T15:14:41.800Z"
   },
   {
    "duration": 166,
    "start_time": "2023-03-18T15:14:42.505Z"
   },
   {
    "duration": 164,
    "start_time": "2023-03-18T15:14:42.899Z"
   },
   {
    "duration": 176,
    "start_time": "2023-03-18T15:14:43.230Z"
   },
   {
    "duration": 186,
    "start_time": "2023-03-18T15:14:43.598Z"
   },
   {
    "duration": 106,
    "start_time": "2023-03-18T15:14:44.606Z"
   },
   {
    "duration": 116,
    "start_time": "2023-03-18T15:14:44.995Z"
   },
   {
    "duration": 104,
    "start_time": "2023-03-18T15:14:45.527Z"
   },
   {
    "duration": 107,
    "start_time": "2023-03-18T15:14:45.901Z"
   },
   {
    "duration": 17,
    "start_time": "2023-03-18T15:14:48.315Z"
   },
   {
    "duration": 2,
    "start_time": "2023-03-18T15:14:48.920Z"
   },
   {
    "duration": 6,
    "start_time": "2023-03-18T15:14:49.899Z"
   },
   {
    "duration": 11,
    "start_time": "2023-03-18T15:14:50.632Z"
   },
   {
    "duration": 6,
    "start_time": "2023-03-18T15:14:50.898Z"
   },
   {
    "duration": 10,
    "start_time": "2023-03-18T15:14:51.100Z"
   },
   {
    "duration": 4,
    "start_time": "2023-03-18T15:14:51.530Z"
   },
   {
    "duration": 6,
    "start_time": "2023-03-18T15:14:54.823Z"
   },
   {
    "duration": 5,
    "start_time": "2023-03-18T15:14:57.607Z"
   },
   {
    "duration": 3,
    "start_time": "2023-03-18T15:24:18.499Z"
   },
   {
    "duration": 7,
    "start_time": "2023-03-18T15:24:24.518Z"
   },
   {
    "duration": 5,
    "start_time": "2023-03-18T15:24:25.539Z"
   },
   {
    "duration": 5,
    "start_time": "2023-03-18T15:24:25.998Z"
   },
   {
    "duration": 8,
    "start_time": "2023-03-18T15:24:26.196Z"
   },
   {
    "duration": 4,
    "start_time": "2023-03-18T15:24:26.397Z"
   },
   {
    "duration": 4,
    "start_time": "2023-03-18T15:24:26.798Z"
   },
   {
    "duration": 3,
    "start_time": "2023-03-18T15:33:45.203Z"
   },
   {
    "duration": 46,
    "start_time": "2023-03-18T15:33:45.397Z"
   },
   {
    "duration": 12,
    "start_time": "2023-03-18T15:33:45.535Z"
   },
   {
    "duration": 12,
    "start_time": "2023-03-18T15:33:45.740Z"
   },
   {
    "duration": 21,
    "start_time": "2023-03-18T15:33:45.878Z"
   },
   {
    "duration": 19,
    "start_time": "2023-03-18T15:33:46.072Z"
   },
   {
    "duration": 5,
    "start_time": "2023-03-18T15:33:47.098Z"
   },
   {
    "duration": 5,
    "start_time": "2023-03-18T15:33:47.630Z"
   },
   {
    "duration": 19,
    "start_time": "2023-03-18T15:33:47.946Z"
   },
   {
    "duration": 7,
    "start_time": "2023-03-18T15:33:48.936Z"
   },
   {
    "duration": 2,
    "start_time": "2023-03-18T15:33:49.448Z"
   },
   {
    "duration": 5,
    "start_time": "2023-03-18T15:33:49.610Z"
   },
   {
    "duration": 6,
    "start_time": "2023-03-18T15:33:50.277Z"
   },
   {
    "duration": 20,
    "start_time": "2023-03-18T15:33:50.777Z"
   },
   {
    "duration": 11,
    "start_time": "2023-03-18T15:33:50.996Z"
   },
   {
    "duration": 7,
    "start_time": "2023-03-18T15:33:51.137Z"
   },
   {
    "duration": 10,
    "start_time": "2023-03-18T15:33:51.501Z"
   },
   {
    "duration": 14,
    "start_time": "2023-03-18T15:33:51.900Z"
   },
   {
    "duration": 78,
    "start_time": "2023-03-18T15:33:52.277Z"
   },
   {
    "duration": 230,
    "start_time": "2023-03-18T15:33:52.839Z"
   },
   {
    "duration": 13,
    "start_time": "2023-03-18T15:33:53.378Z"
   },
   {
    "duration": 277,
    "start_time": "2023-03-18T15:33:53.899Z"
   },
   {
    "duration": 14,
    "start_time": "2023-03-18T15:33:54.179Z"
   },
   {
    "duration": 398,
    "start_time": "2023-03-18T15:33:54.334Z"
   },
   {
    "duration": 401,
    "start_time": "2023-03-18T15:33:55.030Z"
   },
   {
    "duration": 25,
    "start_time": "2023-03-18T15:33:55.432Z"
   },
   {
    "duration": 5,
    "start_time": "2023-03-18T15:33:56.078Z"
   },
   {
    "duration": 169,
    "start_time": "2023-03-18T15:33:56.777Z"
   },
   {
    "duration": 7,
    "start_time": "2023-03-18T15:33:57.420Z"
   },
   {
    "duration": 44,
    "start_time": "2023-03-18T15:33:58.174Z"
   },
   {
    "duration": 283,
    "start_time": "2023-03-18T15:33:58.343Z"
   },
   {
    "duration": 339,
    "start_time": "2023-03-18T15:33:58.628Z"
   },
   {
    "duration": 130,
    "start_time": "2023-03-18T15:33:59.418Z"
   },
   {
    "duration": 137,
    "start_time": "2023-03-18T15:34:00.177Z"
   },
   {
    "duration": 32,
    "start_time": "2023-03-18T15:34:00.897Z"
   },
   {
    "duration": 138,
    "start_time": "2023-03-18T15:34:01.078Z"
   },
   {
    "duration": 126,
    "start_time": "2023-03-18T15:34:01.278Z"
   },
   {
    "duration": 118,
    "start_time": "2023-03-18T15:34:01.633Z"
   },
   {
    "duration": 165,
    "start_time": "2023-03-18T15:34:01.809Z"
   },
   {
    "duration": 135,
    "start_time": "2023-03-18T15:34:02.199Z"
   },
   {
    "duration": 125,
    "start_time": "2023-03-18T15:34:02.382Z"
   },
   {
    "duration": 720,
    "start_time": "2023-03-18T15:34:03.700Z"
   },
   {
    "duration": 3,
    "start_time": "2023-03-18T15:34:04.422Z"
   },
   {
    "duration": 629,
    "start_time": "2023-03-18T15:34:04.426Z"
   },
   {
    "duration": 2,
    "start_time": "2023-03-18T15:34:10.998Z"
   },
   {
    "duration": 176,
    "start_time": "2023-03-18T15:34:12.730Z"
   },
   {
    "duration": 185,
    "start_time": "2023-03-18T15:34:12.945Z"
   },
   {
    "duration": 153,
    "start_time": "2023-03-18T15:34:13.306Z"
   },
   {
    "duration": 191,
    "start_time": "2023-03-18T15:34:13.491Z"
   },
   {
    "duration": 188,
    "start_time": "2023-03-18T15:34:14.028Z"
   },
   {
    "duration": 182,
    "start_time": "2023-03-18T15:34:14.317Z"
   },
   {
    "duration": 182,
    "start_time": "2023-03-18T15:34:14.699Z"
   },
   {
    "duration": 184,
    "start_time": "2023-03-18T15:34:15.110Z"
   },
   {
    "duration": 156,
    "start_time": "2023-03-18T15:34:18.077Z"
   },
   {
    "duration": 103,
    "start_time": "2023-03-18T15:34:18.441Z"
   },
   {
    "duration": 102,
    "start_time": "2023-03-18T15:34:18.999Z"
   },
   {
    "duration": 135,
    "start_time": "2023-03-18T15:34:19.395Z"
   },
   {
    "duration": 5,
    "start_time": "2023-03-18T15:34:21.528Z"
   },
   {
    "duration": 10,
    "start_time": "2023-03-18T15:34:22.098Z"
   },
   {
    "duration": 5,
    "start_time": "2023-03-18T15:34:22.503Z"
   },
   {
    "duration": 4,
    "start_time": "2023-03-18T15:34:22.636Z"
   },
   {
    "duration": 4,
    "start_time": "2023-03-18T15:34:23.006Z"
   },
   {
    "duration": 4,
    "start_time": "2023-03-18T15:34:23.312Z"
   },
   {
    "duration": 5,
    "start_time": "2023-03-18T15:34:37.833Z"
   },
   {
    "duration": 6,
    "start_time": "2023-03-18T15:34:38.324Z"
   },
   {
    "duration": 6,
    "start_time": "2023-03-18T15:34:38.703Z"
   },
   {
    "duration": 4,
    "start_time": "2023-03-18T15:34:38.800Z"
   },
   {
    "duration": 11,
    "start_time": "2023-03-18T15:34:38.999Z"
   },
   {
    "duration": 5,
    "start_time": "2023-03-18T15:34:39.327Z"
   },
   {
    "duration": 4,
    "start_time": "2023-03-18T15:34:40.404Z"
   },
   {
    "duration": 6,
    "start_time": "2023-03-18T15:34:40.740Z"
   },
   {
    "duration": 9,
    "start_time": "2023-03-18T15:34:41.196Z"
   },
   {
    "duration": 6,
    "start_time": "2023-03-18T15:34:41.399Z"
   },
   {
    "duration": 4,
    "start_time": "2023-03-18T15:34:41.642Z"
   },
   {
    "duration": 68,
    "start_time": "2023-03-18T15:36:58.909Z"
   },
   {
    "duration": 15,
    "start_time": "2023-03-18T15:37:03.828Z"
   },
   {
    "duration": 19,
    "start_time": "2023-03-18T15:37:06.198Z"
   },
   {
    "duration": 5,
    "start_time": "2023-03-18T15:37:13.129Z"
   },
   {
    "duration": 4,
    "start_time": "2023-03-18T15:37:22.727Z"
   },
   {
    "duration": 9,
    "start_time": "2023-03-18T15:38:10.023Z"
   },
   {
    "duration": 5,
    "start_time": "2023-03-18T15:38:10.595Z"
   },
   {
    "duration": 2,
    "start_time": "2023-03-18T15:38:16.445Z"
   },
   {
    "duration": 12,
    "start_time": "2023-03-18T15:38:17.702Z"
   },
   {
    "duration": 9,
    "start_time": "2023-03-18T15:38:19.608Z"
   },
   {
    "duration": 4,
    "start_time": "2023-03-18T15:38:19.974Z"
   },
   {
    "duration": 5,
    "start_time": "2023-03-18T15:38:20.512Z"
   },
   {
    "duration": 6,
    "start_time": "2023-03-18T15:38:22.599Z"
   },
   {
    "duration": 14,
    "start_time": "2023-03-18T15:38:35.909Z"
   },
   {
    "duration": 7,
    "start_time": "2023-03-18T15:38:36.806Z"
   },
   {
    "duration": 9,
    "start_time": "2023-03-18T15:38:44.180Z"
   },
   {
    "duration": 8,
    "start_time": "2023-03-18T15:38:44.404Z"
   },
   {
    "duration": 8,
    "start_time": "2023-03-18T15:38:44.579Z"
   },
   {
    "duration": 6,
    "start_time": "2023-03-18T15:38:45.744Z"
   },
   {
    "duration": 4,
    "start_time": "2023-03-18T15:38:53.519Z"
   },
   {
    "duration": 4,
    "start_time": "2023-03-18T15:38:54.023Z"
   },
   {
    "duration": 4,
    "start_time": "2023-03-18T15:38:54.432Z"
   },
   {
    "duration": 7,
    "start_time": "2023-03-18T15:38:59.703Z"
   },
   {
    "duration": 5,
    "start_time": "2023-03-18T15:39:19.575Z"
   },
   {
    "duration": 9,
    "start_time": "2023-03-18T15:40:30.322Z"
   },
   {
    "duration": 3,
    "start_time": "2023-03-18T15:40:31.499Z"
   },
   {
    "duration": 7,
    "start_time": "2023-03-18T15:40:32.502Z"
   },
   {
    "duration": 8,
    "start_time": "2023-03-18T15:40:48.311Z"
   },
   {
    "duration": 2,
    "start_time": "2023-03-18T15:40:48.813Z"
   },
   {
    "duration": 8,
    "start_time": "2023-03-18T15:40:49.603Z"
   },
   {
    "duration": 4,
    "start_time": "2023-03-18T15:40:54.532Z"
   },
   {
    "duration": 4,
    "start_time": "2023-03-18T15:40:55.716Z"
   },
   {
    "duration": 5,
    "start_time": "2023-03-18T15:40:58.899Z"
   },
   {
    "duration": 9,
    "start_time": "2023-03-18T15:41:36.121Z"
   },
   {
    "duration": 6,
    "start_time": "2023-03-18T15:41:37.614Z"
   },
   {
    "duration": 2,
    "start_time": "2023-03-18T15:41:38.228Z"
   },
   {
    "duration": 11,
    "start_time": "2023-03-18T15:41:41.199Z"
   },
   {
    "duration": 5,
    "start_time": "2023-03-18T15:41:43.404Z"
   },
   {
    "duration": 4,
    "start_time": "2023-03-18T15:41:44.307Z"
   },
   {
    "duration": 6,
    "start_time": "2023-03-18T15:41:45.194Z"
   },
   {
    "duration": 6,
    "start_time": "2023-03-18T15:41:57.590Z"
   },
   {
    "duration": 10,
    "start_time": "2023-03-18T15:46:25.032Z"
   },
   {
    "duration": 2,
    "start_time": "2023-03-18T15:46:25.224Z"
   },
   {
    "duration": 5,
    "start_time": "2023-03-18T15:46:25.795Z"
   },
   {
    "duration": 7,
    "start_time": "2023-03-18T15:46:26.199Z"
   },
   {
    "duration": 4,
    "start_time": "2023-03-18T15:46:26.399Z"
   },
   {
    "duration": 4,
    "start_time": "2023-03-18T15:46:26.506Z"
   },
   {
    "duration": 7,
    "start_time": "2023-03-18T15:48:57.011Z"
   },
   {
    "duration": 2,
    "start_time": "2023-03-18T15:49:04.176Z"
   },
   {
    "duration": 7,
    "start_time": "2023-03-18T15:49:05.735Z"
   },
   {
    "duration": 5,
    "start_time": "2023-03-18T15:49:14.414Z"
   },
   {
    "duration": 4,
    "start_time": "2023-03-18T15:49:14.721Z"
   },
   {
    "duration": 6,
    "start_time": "2023-03-18T15:49:15.002Z"
   },
   {
    "duration": 10,
    "start_time": "2023-03-18T15:56:46.603Z"
   },
   {
    "duration": 5,
    "start_time": "2023-03-18T15:56:47.217Z"
   },
   {
    "duration": 8,
    "start_time": "2023-03-18T15:56:48.497Z"
   },
   {
    "duration": 7,
    "start_time": "2023-03-18T15:56:49.702Z"
   },
   {
    "duration": 4,
    "start_time": "2023-03-18T15:56:50.780Z"
   },
   {
    "duration": 4,
    "start_time": "2023-03-18T15:56:51.320Z"
   },
   {
    "duration": 4,
    "start_time": "2023-03-18T15:56:52.421Z"
   },
   {
    "duration": 11,
    "start_time": "2023-03-18T15:57:07.203Z"
   },
   {
    "duration": 7,
    "start_time": "2023-03-18T15:57:07.807Z"
   },
   {
    "duration": 9,
    "start_time": "2023-03-18T15:57:08.001Z"
   },
   {
    "duration": 6,
    "start_time": "2023-03-18T15:57:08.710Z"
   },
   {
    "duration": 5,
    "start_time": "2023-03-18T15:57:09.920Z"
   },
   {
    "duration": 4,
    "start_time": "2023-03-18T15:57:10.511Z"
   },
   {
    "duration": 10,
    "start_time": "2023-03-18T15:57:10.999Z"
   },
   {
    "duration": 5,
    "start_time": "2023-03-18T15:57:12.900Z"
   },
   {
    "duration": 5,
    "start_time": "2023-03-18T16:00:16.930Z"
   },
   {
    "duration": 13,
    "start_time": "2023-03-18T16:03:13.636Z"
   },
   {
    "duration": 6,
    "start_time": "2023-03-18T16:03:14.117Z"
   },
   {
    "duration": 3,
    "start_time": "2023-03-18T16:03:14.799Z"
   },
   {
    "duration": 6,
    "start_time": "2023-03-18T16:03:15.309Z"
   },
   {
    "duration": 5,
    "start_time": "2023-03-18T16:03:15.706Z"
   },
   {
    "duration": 4,
    "start_time": "2023-03-18T16:03:15.836Z"
   },
   {
    "duration": 4,
    "start_time": "2023-03-18T16:03:16.239Z"
   },
   {
    "duration": 5,
    "start_time": "2023-03-18T16:03:17.907Z"
   },
   {
    "duration": 8,
    "start_time": "2023-03-18T16:03:28.209Z"
   },
   {
    "duration": 7,
    "start_time": "2023-03-18T16:03:34.401Z"
   },
   {
    "duration": 4,
    "start_time": "2023-03-18T16:03:35.902Z"
   },
   {
    "duration": 7,
    "start_time": "2023-03-18T16:03:38.924Z"
   },
   {
    "duration": 4,
    "start_time": "2023-03-18T16:04:04.908Z"
   },
   {
    "duration": 5,
    "start_time": "2023-03-18T16:04:05.408Z"
   },
   {
    "duration": 5,
    "start_time": "2023-03-18T16:04:05.900Z"
   },
   {
    "duration": 4,
    "start_time": "2023-03-18T16:04:09.122Z"
   },
   {
    "duration": 9,
    "start_time": "2023-03-18T16:06:41.405Z"
   },
   {
    "duration": 2,
    "start_time": "2023-03-18T16:06:42.019Z"
   },
   {
    "duration": 6,
    "start_time": "2023-03-18T16:06:42.710Z"
   },
   {
    "duration": 8,
    "start_time": "2023-03-18T16:06:43.707Z"
   },
   {
    "duration": 6,
    "start_time": "2023-03-18T16:06:44.004Z"
   },
   {
    "duration": 6,
    "start_time": "2023-03-18T16:06:44.278Z"
   },
   {
    "duration": 4,
    "start_time": "2023-03-18T16:08:25.003Z"
   },
   {
    "duration": 10,
    "start_time": "2023-03-18T16:08:48.579Z"
   },
   {
    "duration": 5,
    "start_time": "2023-03-18T16:08:54.094Z"
   },
   {
    "duration": 5,
    "start_time": "2023-03-18T16:08:54.410Z"
   },
   {
    "duration": 5,
    "start_time": "2023-03-18T16:08:54.693Z"
   },
   {
    "duration": 6,
    "start_time": "2023-03-18T16:08:55.691Z"
   },
   {
    "duration": 4,
    "start_time": "2023-03-18T16:11:05.393Z"
   },
   {
    "duration": 5,
    "start_time": "2023-03-18T16:11:10.417Z"
   },
   {
    "duration": 6,
    "start_time": "2023-03-18T16:13:07.271Z"
   },
   {
    "duration": 5,
    "start_time": "2023-03-18T16:13:13.398Z"
   },
   {
    "duration": 5,
    "start_time": "2023-03-18T16:13:18.509Z"
   },
   {
    "duration": 4,
    "start_time": "2023-03-18T16:13:26.373Z"
   },
   {
    "duration": 3,
    "start_time": "2023-03-18T16:16:27.480Z"
   },
   {
    "duration": 44,
    "start_time": "2023-03-18T16:16:27.603Z"
   },
   {
    "duration": 12,
    "start_time": "2023-03-18T16:16:27.780Z"
   },
   {
    "duration": 13,
    "start_time": "2023-03-18T16:16:27.914Z"
   },
   {
    "duration": 8,
    "start_time": "2023-03-18T16:16:28.085Z"
   },
   {
    "duration": 13,
    "start_time": "2023-03-18T16:16:28.282Z"
   },
   {
    "duration": 5,
    "start_time": "2023-03-18T16:16:29.289Z"
   },
   {
    "duration": 4,
    "start_time": "2023-03-18T16:16:29.778Z"
   },
   {
    "duration": 7,
    "start_time": "2023-03-18T16:16:29.982Z"
   },
   {
    "duration": 7,
    "start_time": "2023-03-18T16:16:30.610Z"
   },
   {
    "duration": 2,
    "start_time": "2023-03-18T16:16:31.097Z"
   },
   {
    "duration": 4,
    "start_time": "2023-03-18T16:16:31.286Z"
   },
   {
    "duration": 5,
    "start_time": "2023-03-18T16:16:31.985Z"
   },
   {
    "duration": 11,
    "start_time": "2023-03-18T16:16:32.489Z"
   },
   {
    "duration": 7,
    "start_time": "2023-03-18T16:16:32.668Z"
   },
   {
    "duration": 6,
    "start_time": "2023-03-18T16:16:32.849Z"
   },
   {
    "duration": 5,
    "start_time": "2023-03-18T16:16:33.201Z"
   },
   {
    "duration": 14,
    "start_time": "2023-03-18T16:16:33.813Z"
   },
   {
    "duration": 66,
    "start_time": "2023-03-18T16:16:34.309Z"
   },
   {
    "duration": 166,
    "start_time": "2023-03-18T16:16:35.081Z"
   },
   {
    "duration": 9,
    "start_time": "2023-03-18T16:16:35.654Z"
   },
   {
    "duration": 277,
    "start_time": "2023-03-18T16:16:36.133Z"
   },
   {
    "duration": 8,
    "start_time": "2023-03-18T16:16:36.412Z"
   },
   {
    "duration": 462,
    "start_time": "2023-03-18T16:16:36.695Z"
   },
   {
    "duration": 356,
    "start_time": "2023-03-18T16:16:37.277Z"
   },
   {
    "duration": 24,
    "start_time": "2023-03-18T16:16:37.635Z"
   },
   {
    "duration": 4,
    "start_time": "2023-03-18T16:16:38.197Z"
   },
   {
    "duration": 151,
    "start_time": "2023-03-18T16:16:38.979Z"
   },
   {
    "duration": 7,
    "start_time": "2023-03-18T16:16:39.583Z"
   },
   {
    "duration": 28,
    "start_time": "2023-03-18T16:16:40.307Z"
   },
   {
    "duration": 245,
    "start_time": "2023-03-18T16:16:40.499Z"
   },
   {
    "duration": 221,
    "start_time": "2023-03-18T16:16:40.746Z"
   },
   {
    "duration": 117,
    "start_time": "2023-03-18T16:16:41.691Z"
   },
   {
    "duration": 121,
    "start_time": "2023-03-18T16:16:42.700Z"
   },
   {
    "duration": 31,
    "start_time": "2023-03-18T16:16:43.581Z"
   },
   {
    "duration": 138,
    "start_time": "2023-03-18T16:16:43.784Z"
   },
   {
    "duration": 119,
    "start_time": "2023-03-18T16:16:43.950Z"
   },
   {
    "duration": 113,
    "start_time": "2023-03-18T16:16:44.386Z"
   },
   {
    "duration": 110,
    "start_time": "2023-03-18T16:16:44.578Z"
   },
   {
    "duration": 103,
    "start_time": "2023-03-18T16:16:44.955Z"
   },
   {
    "duration": 112,
    "start_time": "2023-03-18T16:16:45.157Z"
   },
   {
    "duration": 603,
    "start_time": "2023-03-18T16:16:46.600Z"
   },
   {
    "duration": 2,
    "start_time": "2023-03-18T16:16:47.205Z"
   },
   {
    "duration": 478,
    "start_time": "2023-03-18T16:16:47.224Z"
   },
   {
    "duration": 2,
    "start_time": "2023-03-18T16:16:48.318Z"
   },
   {
    "duration": 154,
    "start_time": "2023-03-18T16:16:49.866Z"
   },
   {
    "duration": 168,
    "start_time": "2023-03-18T16:16:50.126Z"
   },
   {
    "duration": 143,
    "start_time": "2023-03-18T16:16:50.405Z"
   },
   {
    "duration": 178,
    "start_time": "2023-03-18T16:16:50.682Z"
   },
   {
    "duration": 166,
    "start_time": "2023-03-18T16:16:51.234Z"
   },
   {
    "duration": 181,
    "start_time": "2023-03-18T16:16:51.686Z"
   },
   {
    "duration": 164,
    "start_time": "2023-03-18T16:16:52.184Z"
   },
   {
    "duration": 264,
    "start_time": "2023-03-18T16:16:52.597Z"
   },
   {
    "duration": 103,
    "start_time": "2023-03-18T16:16:53.881Z"
   },
   {
    "duration": 109,
    "start_time": "2023-03-18T16:16:54.297Z"
   },
   {
    "duration": 100,
    "start_time": "2023-03-18T16:16:55.181Z"
   },
   {
    "duration": 104,
    "start_time": "2023-03-18T16:16:55.607Z"
   },
   {
    "duration": 8,
    "start_time": "2023-03-18T16:16:57.970Z"
   },
   {
    "duration": 5,
    "start_time": "2023-03-18T16:16:58.278Z"
   },
   {
    "duration": 2,
    "start_time": "2023-03-18T16:16:58.510Z"
   },
   {
    "duration": 7,
    "start_time": "2023-03-18T16:16:59.555Z"
   },
   {
    "duration": 4,
    "start_time": "2023-03-18T16:17:00.695Z"
   },
   {
    "duration": 5,
    "start_time": "2023-03-18T16:17:01.214Z"
   },
   {
    "duration": 4,
    "start_time": "2023-03-18T16:17:01.632Z"
   },
   {
    "duration": 5,
    "start_time": "2023-03-18T16:17:02.605Z"
   },
   {
    "duration": 9,
    "start_time": "2023-03-18T16:17:13.123Z"
   },
   {
    "duration": 2,
    "start_time": "2023-03-18T16:17:13.331Z"
   },
   {
    "duration": 6,
    "start_time": "2023-03-18T16:17:13.781Z"
   },
   {
    "duration": 4,
    "start_time": "2023-03-18T16:17:14.184Z"
   },
   {
    "duration": 3,
    "start_time": "2023-03-18T16:17:14.726Z"
   },
   {
    "duration": 5,
    "start_time": "2023-03-18T16:17:15.015Z"
   },
   {
    "duration": 9,
    "start_time": "2023-03-18T16:18:12.681Z"
   },
   {
    "duration": 2,
    "start_time": "2023-03-18T16:18:13.057Z"
   },
   {
    "duration": 6,
    "start_time": "2023-03-18T16:18:14.343Z"
   },
   {
    "duration": 4,
    "start_time": "2023-03-18T16:18:34.889Z"
   },
   {
    "duration": 5,
    "start_time": "2023-03-18T16:18:35.132Z"
   },
   {
    "duration": 4,
    "start_time": "2023-03-18T16:18:35.382Z"
   },
   {
    "duration": 5,
    "start_time": "2023-03-18T16:18:36.980Z"
   },
   {
    "duration": 4,
    "start_time": "2023-03-18T16:18:44.141Z"
   },
   {
    "duration": 5,
    "start_time": "2023-03-18T16:18:49.078Z"
   },
   {
    "duration": 5,
    "start_time": "2023-03-18T16:19:05.369Z"
   },
   {
    "duration": 8,
    "start_time": "2023-03-18T16:20:16.858Z"
   },
   {
    "duration": 10,
    "start_time": "2023-03-18T16:21:08.220Z"
   },
   {
    "duration": 2,
    "start_time": "2023-03-18T16:21:08.970Z"
   },
   {
    "duration": 7,
    "start_time": "2023-03-18T16:21:09.604Z"
   },
   {
    "duration": 5,
    "start_time": "2023-03-18T16:21:10.984Z"
   },
   {
    "duration": 4,
    "start_time": "2023-03-18T16:21:11.681Z"
   },
   {
    "duration": 5,
    "start_time": "2023-03-18T16:21:12.173Z"
   },
   {
    "duration": 5,
    "start_time": "2023-03-18T16:21:13.401Z"
   },
   {
    "duration": 11,
    "start_time": "2023-03-18T16:21:41.195Z"
   },
   {
    "duration": 10,
    "start_time": "2023-03-18T16:21:59.363Z"
   },
   {
    "duration": 2,
    "start_time": "2023-03-18T16:22:00.477Z"
   },
   {
    "duration": 20,
    "start_time": "2023-03-18T16:22:01.360Z"
   },
   {
    "duration": 11,
    "start_time": "2023-03-18T16:22:55.563Z"
   },
   {
    "duration": 2,
    "start_time": "2023-03-18T16:22:56.026Z"
   },
   {
    "duration": 6,
    "start_time": "2023-03-18T16:22:56.912Z"
   },
   {
    "duration": 5,
    "start_time": "2023-03-18T16:22:58.413Z"
   },
   {
    "duration": 4,
    "start_time": "2023-03-18T16:22:58.666Z"
   },
   {
    "duration": 4,
    "start_time": "2023-03-18T16:22:59.171Z"
   },
   {
    "duration": 5,
    "start_time": "2023-03-18T16:23:00.828Z"
   },
   {
    "duration": 10,
    "start_time": "2023-03-18T16:23:08.099Z"
   },
   {
    "duration": 3,
    "start_time": "2023-03-18T16:23:08.284Z"
   },
   {
    "duration": 7,
    "start_time": "2023-03-18T16:23:09.130Z"
   },
   {
    "duration": 96,
    "start_time": "2023-03-18T16:23:21.997Z"
   },
   {
    "duration": 10,
    "start_time": "2023-03-18T16:23:38.921Z"
   },
   {
    "duration": 8,
    "start_time": "2023-03-18T16:26:40.417Z"
   },
   {
    "duration": 3,
    "start_time": "2023-03-18T16:26:40.924Z"
   },
   {
    "duration": 9,
    "start_time": "2023-03-18T16:26:41.792Z"
   },
   {
    "duration": 5,
    "start_time": "2023-03-18T16:26:42.887Z"
   },
   {
    "duration": 5,
    "start_time": "2023-03-18T16:26:43.288Z"
   },
   {
    "duration": 5,
    "start_time": "2023-03-18T16:26:43.930Z"
   },
   {
    "duration": 5,
    "start_time": "2023-03-18T16:26:44.995Z"
   },
   {
    "duration": 12,
    "start_time": "2023-03-18T16:26:48.100Z"
   },
   {
    "duration": 3,
    "start_time": "2023-03-18T16:26:49.594Z"
   },
   {
    "duration": 9,
    "start_time": "2023-03-18T16:26:50.898Z"
   },
   {
    "duration": 6,
    "start_time": "2023-03-18T16:26:54.497Z"
   },
   {
    "duration": 4,
    "start_time": "2023-03-18T16:26:54.703Z"
   },
   {
    "duration": 7,
    "start_time": "2023-03-18T16:26:55.499Z"
   },
   {
    "duration": 9,
    "start_time": "2023-03-18T16:29:24.313Z"
   },
   {
    "duration": 2,
    "start_time": "2023-03-18T16:30:37.914Z"
   },
   {
    "duration": 6,
    "start_time": "2023-03-18T16:30:39.214Z"
   },
   {
    "duration": 4,
    "start_time": "2023-03-18T16:30:42.298Z"
   },
   {
    "duration": 4,
    "start_time": "2023-03-18T16:30:42.636Z"
   },
   {
    "duration": 4,
    "start_time": "2023-03-18T16:30:43.008Z"
   },
   {
    "duration": 5,
    "start_time": "2023-03-18T16:30:45.109Z"
   },
   {
    "duration": 11,
    "start_time": "2023-03-18T16:30:47.299Z"
   },
   {
    "duration": 2,
    "start_time": "2023-03-18T16:30:47.421Z"
   },
   {
    "duration": 6,
    "start_time": "2023-03-18T16:30:49.224Z"
   },
   {
    "duration": 4,
    "start_time": "2023-03-18T16:30:50.828Z"
   },
   {
    "duration": 6,
    "start_time": "2023-03-18T16:30:51.281Z"
   },
   {
    "duration": 4,
    "start_time": "2023-03-18T16:30:52.166Z"
   },
   {
    "duration": 1271,
    "start_time": "2023-03-19T14:41:50.885Z"
   },
   {
    "duration": 74,
    "start_time": "2023-03-19T14:41:52.158Z"
   },
   {
    "duration": 23,
    "start_time": "2023-03-19T14:41:52.234Z"
   },
   {
    "duration": 21,
    "start_time": "2023-03-19T14:41:52.259Z"
   },
   {
    "duration": 21,
    "start_time": "2023-03-19T14:41:52.283Z"
   },
   {
    "duration": 40,
    "start_time": "2023-03-19T14:41:52.306Z"
   },
   {
    "duration": 6,
    "start_time": "2023-03-19T14:41:52.348Z"
   },
   {
    "duration": 14,
    "start_time": "2023-03-19T14:41:52.356Z"
   },
   {
    "duration": 22,
    "start_time": "2023-03-19T14:41:52.378Z"
   },
   {
    "duration": 19,
    "start_time": "2023-03-19T14:41:52.402Z"
   },
   {
    "duration": 4,
    "start_time": "2023-03-19T14:41:52.423Z"
   },
   {
    "duration": 11,
    "start_time": "2023-03-19T14:41:52.429Z"
   },
   {
    "duration": 11,
    "start_time": "2023-03-19T14:41:52.441Z"
   },
   {
    "duration": 30,
    "start_time": "2023-03-19T14:41:52.456Z"
   },
   {
    "duration": 28,
    "start_time": "2023-03-19T14:41:52.488Z"
   },
   {
    "duration": 8,
    "start_time": "2023-03-19T14:41:52.519Z"
   },
   {
    "duration": 8,
    "start_time": "2023-03-19T14:41:52.529Z"
   },
   {
    "duration": 19,
    "start_time": "2023-03-19T14:41:52.539Z"
   },
   {
    "duration": 81,
    "start_time": "2023-03-19T14:41:52.562Z"
   },
   {
    "duration": 227,
    "start_time": "2023-03-19T14:41:52.645Z"
   },
   {
    "duration": 10,
    "start_time": "2023-03-19T14:41:52.875Z"
   },
   {
    "duration": 388,
    "start_time": "2023-03-19T14:41:52.887Z"
   },
   {
    "duration": 9,
    "start_time": "2023-03-19T14:41:53.279Z"
   },
   {
    "duration": 523,
    "start_time": "2023-03-19T14:41:53.290Z"
   },
   {
    "duration": 576,
    "start_time": "2023-03-19T14:41:53.815Z"
   },
   {
    "duration": 31,
    "start_time": "2023-03-19T14:41:54.393Z"
   },
   {
    "duration": 10,
    "start_time": "2023-03-19T14:41:54.426Z"
   },
   {
    "duration": 228,
    "start_time": "2023-03-19T14:41:54.438Z"
   },
   {
    "duration": 12,
    "start_time": "2023-03-19T14:41:54.671Z"
   },
   {
    "duration": 36,
    "start_time": "2023-03-19T14:41:54.685Z"
   },
   {
    "duration": 448,
    "start_time": "2023-03-19T14:41:54.724Z"
   },
   {
    "duration": 302,
    "start_time": "2023-03-19T14:41:55.174Z"
   },
   {
    "duration": 170,
    "start_time": "2023-03-19T14:41:55.478Z"
   },
   {
    "duration": 168,
    "start_time": "2023-03-19T14:41:55.650Z"
   },
   {
    "duration": 61,
    "start_time": "2023-03-19T14:41:55.820Z"
   },
   {
    "duration": 150,
    "start_time": "2023-03-19T14:41:55.883Z"
   },
   {
    "duration": 167,
    "start_time": "2023-03-19T14:41:56.035Z"
   },
   {
    "duration": 158,
    "start_time": "2023-03-19T14:41:56.204Z"
   },
   {
    "duration": 165,
    "start_time": "2023-03-19T14:41:56.363Z"
   },
   {
    "duration": 149,
    "start_time": "2023-03-19T14:41:56.530Z"
   },
   {
    "duration": 252,
    "start_time": "2023-03-19T14:41:56.685Z"
   },
   {
    "duration": 652,
    "start_time": "2023-03-19T14:41:56.938Z"
   },
   {
    "duration": 2,
    "start_time": "2023-03-19T14:41:57.592Z"
   },
   {
    "duration": 617,
    "start_time": "2023-03-19T14:41:57.596Z"
   },
   {
    "duration": 3,
    "start_time": "2023-03-19T14:41:58.215Z"
   },
   {
    "duration": 234,
    "start_time": "2023-03-19T14:41:58.219Z"
   },
   {
    "duration": 230,
    "start_time": "2023-03-19T14:41:58.455Z"
   },
   {
    "duration": 232,
    "start_time": "2023-03-19T14:41:58.687Z"
   },
   {
    "duration": 355,
    "start_time": "2023-03-19T14:41:58.921Z"
   },
   {
    "duration": 219,
    "start_time": "2023-03-19T14:41:59.278Z"
   },
   {
    "duration": 223,
    "start_time": "2023-03-19T14:41:59.499Z"
   },
   {
    "duration": 231,
    "start_time": "2023-03-19T14:41:59.724Z"
   },
   {
    "duration": 237,
    "start_time": "2023-03-19T14:41:59.960Z"
   },
   {
    "duration": 154,
    "start_time": "2023-03-19T14:42:00.199Z"
   },
   {
    "duration": 129,
    "start_time": "2023-03-19T14:42:00.362Z"
   },
   {
    "duration": 142,
    "start_time": "2023-03-19T14:42:00.493Z"
   },
   {
    "duration": 149,
    "start_time": "2023-03-19T14:42:00.637Z"
   },
   {
    "duration": 9,
    "start_time": "2023-03-19T14:42:00.788Z"
   },
   {
    "duration": 33,
    "start_time": "2023-03-19T14:42:00.799Z"
   },
   {
    "duration": 51,
    "start_time": "2023-03-19T14:42:00.834Z"
   },
   {
    "duration": 29,
    "start_time": "2023-03-19T14:42:00.888Z"
   },
   {
    "duration": 40,
    "start_time": "2023-03-19T14:42:00.919Z"
   },
   {
    "duration": 37,
    "start_time": "2023-03-19T14:42:00.965Z"
   },
   {
    "duration": 64,
    "start_time": "2023-03-19T14:42:01.004Z"
   },
   {
    "duration": 46,
    "start_time": "2023-03-19T14:42:01.071Z"
   },
   {
    "duration": 29,
    "start_time": "2023-03-19T14:42:01.119Z"
   },
   {
    "duration": 30,
    "start_time": "2023-03-19T14:42:01.150Z"
   },
   {
    "duration": 96,
    "start_time": "2023-03-19T14:42:01.183Z"
   },
   {
    "duration": 44,
    "start_time": "2023-03-19T14:42:01.281Z"
   },
   {
    "duration": 47,
    "start_time": "2023-03-19T14:42:01.327Z"
   },
   {
    "duration": 26,
    "start_time": "2023-03-19T14:44:16.780Z"
   },
   {
    "duration": 1480,
    "start_time": "2023-08-20T16:32:55.641Z"
   },
   {
    "duration": 209,
    "start_time": "2023-08-20T16:32:57.123Z"
   },
   {
    "duration": 21,
    "start_time": "2023-08-20T16:32:57.334Z"
   },
   {
    "duration": 16,
    "start_time": "2023-08-20T16:32:57.357Z"
   },
   {
    "duration": 10,
    "start_time": "2023-08-20T16:32:57.375Z"
   },
   {
    "duration": 29,
    "start_time": "2023-08-20T16:32:57.387Z"
   },
   {
    "duration": 6,
    "start_time": "2023-08-20T16:32:57.418Z"
   },
   {
    "duration": 16,
    "start_time": "2023-08-20T16:32:57.425Z"
   },
   {
    "duration": 18,
    "start_time": "2023-08-20T16:32:57.459Z"
   },
   {
    "duration": 8,
    "start_time": "2023-08-20T16:32:57.480Z"
   },
   {
    "duration": 2,
    "start_time": "2023-08-20T16:32:57.490Z"
   },
   {
    "duration": 6,
    "start_time": "2023-08-20T16:32:57.494Z"
   },
   {
    "duration": 6,
    "start_time": "2023-08-20T16:32:57.501Z"
   },
   {
    "duration": 18,
    "start_time": "2023-08-20T16:32:57.508Z"
   },
   {
    "duration": 35,
    "start_time": "2023-08-20T16:32:57.528Z"
   },
   {
    "duration": 8,
    "start_time": "2023-08-20T16:32:57.564Z"
   },
   {
    "duration": 16,
    "start_time": "2023-08-20T16:32:57.573Z"
   },
   {
    "duration": 22,
    "start_time": "2023-08-20T16:32:57.591Z"
   },
   {
    "duration": 87,
    "start_time": "2023-08-20T16:32:57.615Z"
   },
   {
    "duration": 206,
    "start_time": "2023-08-20T16:32:57.703Z"
   },
   {
    "duration": 9,
    "start_time": "2023-08-20T16:32:57.912Z"
   },
   {
    "duration": 350,
    "start_time": "2023-08-20T16:32:57.923Z"
   },
   {
    "duration": 9,
    "start_time": "2023-08-20T16:32:58.275Z"
   },
   {
    "duration": 523,
    "start_time": "2023-08-20T16:32:58.286Z"
   },
   {
    "duration": 455,
    "start_time": "2023-08-20T16:32:58.811Z"
   },
   {
    "duration": 32,
    "start_time": "2023-08-20T16:32:59.268Z"
   },
   {
    "duration": 5,
    "start_time": "2023-08-20T16:32:59.303Z"
   },
   {
    "duration": 224,
    "start_time": "2023-08-20T16:32:59.313Z"
   },
   {
    "duration": 21,
    "start_time": "2023-08-20T16:32:59.540Z"
   },
   {
    "duration": 44,
    "start_time": "2023-08-20T16:32:59.563Z"
   },
   {
    "duration": 408,
    "start_time": "2023-08-20T16:32:59.609Z"
   },
   {
    "duration": 296,
    "start_time": "2023-08-20T16:33:00.018Z"
   },
   {
    "duration": 169,
    "start_time": "2023-08-20T16:33:00.315Z"
   },
   {
    "duration": 180,
    "start_time": "2023-08-20T16:33:00.486Z"
   },
   {
    "duration": 40,
    "start_time": "2023-08-20T16:33:00.668Z"
   },
   {
    "duration": 182,
    "start_time": "2023-08-20T16:33:00.710Z"
   },
   {
    "duration": 180,
    "start_time": "2023-08-20T16:33:00.894Z"
   },
   {
    "duration": 164,
    "start_time": "2023-08-20T16:33:01.075Z"
   },
   {
    "duration": 176,
    "start_time": "2023-08-20T16:33:01.241Z"
   },
   {
    "duration": 159,
    "start_time": "2023-08-20T16:33:01.419Z"
   },
   {
    "duration": 284,
    "start_time": "2023-08-20T16:33:01.580Z"
   },
   {
    "duration": 695,
    "start_time": "2023-08-20T16:33:01.866Z"
   },
   {
    "duration": 649,
    "start_time": "2023-08-20T16:33:02.563Z"
   },
   {
    "duration": 246,
    "start_time": "2023-08-20T16:33:03.215Z"
   },
   {
    "duration": 218,
    "start_time": "2023-08-20T16:33:03.463Z"
   },
   {
    "duration": 211,
    "start_time": "2023-08-20T16:33:03.683Z"
   },
   {
    "duration": 522,
    "start_time": "2023-08-20T16:33:03.896Z"
   },
   {
    "duration": 240,
    "start_time": "2023-08-20T16:33:04.421Z"
   },
   {
    "duration": 233,
    "start_time": "2023-08-20T16:33:04.663Z"
   },
   {
    "duration": 219,
    "start_time": "2023-08-20T16:33:04.898Z"
   },
   {
    "duration": 228,
    "start_time": "2023-08-20T16:33:05.119Z"
   },
   {
    "duration": 151,
    "start_time": "2023-08-20T16:33:05.349Z"
   },
   {
    "duration": 148,
    "start_time": "2023-08-20T16:33:05.502Z"
   },
   {
    "duration": 149,
    "start_time": "2023-08-20T16:33:05.659Z"
   },
   {
    "duration": 149,
    "start_time": "2023-08-20T16:33:05.810Z"
   },
   {
    "duration": 11,
    "start_time": "2023-08-20T16:33:05.961Z"
   },
   {
    "duration": 22,
    "start_time": "2023-08-20T16:33:05.974Z"
   },
   {
    "duration": 9,
    "start_time": "2023-08-20T16:33:05.998Z"
   },
   {
    "duration": 15,
    "start_time": "2023-08-20T16:33:06.008Z"
   },
   {
    "duration": 12,
    "start_time": "2023-08-20T16:33:06.026Z"
   },
   {
    "duration": 8,
    "start_time": "2023-08-20T16:33:06.040Z"
   },
   {
    "duration": 12,
    "start_time": "2023-08-20T16:33:06.049Z"
   },
   {
    "duration": 14,
    "start_time": "2023-08-20T16:33:06.063Z"
   },
   {
    "duration": 6,
    "start_time": "2023-08-20T16:33:06.079Z"
   },
   {
    "duration": 10,
    "start_time": "2023-08-20T16:33:06.087Z"
   },
   {
    "duration": 18,
    "start_time": "2023-08-20T16:33:06.099Z"
   },
   {
    "duration": 7,
    "start_time": "2023-08-20T16:33:06.119Z"
   },
   {
    "duration": 8,
    "start_time": "2023-08-20T16:33:06.129Z"
   }
  ],
  "kernelspec": {
   "display_name": "Python 3 (ipykernel)",
   "language": "python",
   "name": "python3"
  },
  "language_info": {
   "codemirror_mode": {
    "name": "ipython",
    "version": 3
   },
   "file_extension": ".py",
   "mimetype": "text/x-python",
   "name": "python",
   "nbconvert_exporter": "python",
   "pygments_lexer": "ipython3",
   "version": "3.9.12"
  },
  "toc": {
   "base_numbering": 1,
   "nav_menu": {},
   "number_sections": true,
   "sideBar": true,
   "skip_h1_title": true,
   "title_cell": "Table of Contents",
   "title_sidebar": "Contents",
   "toc_cell": false,
   "toc_position": {
    "height": "calc(100% - 180px)",
    "left": "10px",
    "top": "150px",
    "width": "165px"
   },
   "toc_section_display": true,
   "toc_window_display": true
  }
 },
 "nbformat": 4,
 "nbformat_minor": 2
}
