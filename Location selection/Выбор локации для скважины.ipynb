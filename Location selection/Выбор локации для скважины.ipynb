{
 "cells": [
  {
   "cell_type": "markdown",
   "metadata": {},
   "source": [
    "# Выбор локации для скважины"
   ]
  },
  {
   "cell_type": "markdown",
   "metadata": {},
   "source": [
    "Допустим, вы работаете в добывающей компании «ГлавРосГосНефть». Нужно решить, где бурить новую скважину.\n",
    "\n",
    "Предоставлены пробы нефти в трёх регионах: в каждом 10 000 месторождений, где измерили качество нефти и объём её запасов. Построить модель машинного обучения, которая поможет определить регион, где добыча принесёт наибольшую прибыль. Проанализировать возможную прибыль и риски техникой *Bootstrap.*\n",
    "\n",
    "Шаги для выбора локации:\n",
    "\n",
    "- В избранном регионе ищут месторождения, для каждого определяют значения признаков;\n",
    "- Строят модель и оценивают объём запасов;\n",
    "- Выбирают месторождения с самым высокими оценками значений. Количество месторождений зависит от бюджета компании и стоимости разработки одной скважины;\n",
    "- Прибыль равна суммарной прибыли отобранных месторождений."
   ]
  },
  {
   "cell_type": "markdown",
   "metadata": {},
   "source": [
    "## Загрузка и подготовка данных"
   ]
  },
  {
   "cell_type": "code",
   "execution_count": 1,
   "metadata": {},
   "outputs": [],
   "source": [
    "import pandas as pd\n",
    "import numpy as np\n",
    "\n",
    "from sklearn.model_selection import train_test_split\n",
    "\n",
    "from sklearn.metrics import mean_squared_error\n",
    "from sklearn.metrics import r2_score\n",
    "from sklearn.metrics import mean_absolute_error\n",
    "\n",
    "from scipy import stats as st\n",
    "\n",
    "import seaborn as sns\n",
    "import matplotlib.pyplot as plt \n",
    "\n",
    "\n",
    "from sklearn.linear_model import LinearRegression"
   ]
  },
  {
   "cell_type": "code",
   "execution_count": 2,
   "metadata": {},
   "outputs": [],
   "source": [
    "data0 = pd.read_csv('/datasets/geo_data_0.csv')\n",
    "data1 = pd.read_csv('/datasets/geo_data_1.csv')\n",
    "data2 = pd.read_csv('/datasets/geo_data_2.csv')"
   ]
  },
  {
   "cell_type": "code",
   "execution_count": 3,
   "metadata": {},
   "outputs": [
    {
     "data": {
      "text/html": [
       "<div>\n",
       "<style scoped>\n",
       "    .dataframe tbody tr th:only-of-type {\n",
       "        vertical-align: middle;\n",
       "    }\n",
       "\n",
       "    .dataframe tbody tr th {\n",
       "        vertical-align: top;\n",
       "    }\n",
       "\n",
       "    .dataframe thead th {\n",
       "        text-align: right;\n",
       "    }\n",
       "</style>\n",
       "<table border=\"1\" class=\"dataframe\">\n",
       "  <thead>\n",
       "    <tr style=\"text-align: right;\">\n",
       "      <th></th>\n",
       "      <th>id</th>\n",
       "      <th>f0</th>\n",
       "      <th>f1</th>\n",
       "      <th>f2</th>\n",
       "      <th>product</th>\n",
       "    </tr>\n",
       "  </thead>\n",
       "  <tbody>\n",
       "    <tr>\n",
       "      <th>0</th>\n",
       "      <td>txEyH</td>\n",
       "      <td>0.705745</td>\n",
       "      <td>-0.497823</td>\n",
       "      <td>1.221170</td>\n",
       "      <td>105.280062</td>\n",
       "    </tr>\n",
       "    <tr>\n",
       "      <th>1</th>\n",
       "      <td>2acmU</td>\n",
       "      <td>1.334711</td>\n",
       "      <td>-0.340164</td>\n",
       "      <td>4.365080</td>\n",
       "      <td>73.037750</td>\n",
       "    </tr>\n",
       "    <tr>\n",
       "      <th>2</th>\n",
       "      <td>409Wp</td>\n",
       "      <td>1.022732</td>\n",
       "      <td>0.151990</td>\n",
       "      <td>1.419926</td>\n",
       "      <td>85.265647</td>\n",
       "    </tr>\n",
       "    <tr>\n",
       "      <th>3</th>\n",
       "      <td>iJLyR</td>\n",
       "      <td>-0.032172</td>\n",
       "      <td>0.139033</td>\n",
       "      <td>2.978566</td>\n",
       "      <td>168.620776</td>\n",
       "    </tr>\n",
       "    <tr>\n",
       "      <th>4</th>\n",
       "      <td>Xdl7t</td>\n",
       "      <td>1.988431</td>\n",
       "      <td>0.155413</td>\n",
       "      <td>4.751769</td>\n",
       "      <td>154.036647</td>\n",
       "    </tr>\n",
       "  </tbody>\n",
       "</table>\n",
       "</div>"
      ],
      "text/plain": [
       "      id        f0        f1        f2     product\n",
       "0  txEyH  0.705745 -0.497823  1.221170  105.280062\n",
       "1  2acmU  1.334711 -0.340164  4.365080   73.037750\n",
       "2  409Wp  1.022732  0.151990  1.419926   85.265647\n",
       "3  iJLyR -0.032172  0.139033  2.978566  168.620776\n",
       "4  Xdl7t  1.988431  0.155413  4.751769  154.036647"
      ]
     },
     "execution_count": 3,
     "metadata": {},
     "output_type": "execute_result"
    }
   ],
   "source": [
    "data0.head()"
   ]
  },
  {
   "cell_type": "code",
   "execution_count": 4,
   "metadata": {},
   "outputs": [
    {
     "data": {
      "text/html": [
       "<div>\n",
       "<style scoped>\n",
       "    .dataframe tbody tr th:only-of-type {\n",
       "        vertical-align: middle;\n",
       "    }\n",
       "\n",
       "    .dataframe tbody tr th {\n",
       "        vertical-align: top;\n",
       "    }\n",
       "\n",
       "    .dataframe thead th {\n",
       "        text-align: right;\n",
       "    }\n",
       "</style>\n",
       "<table border=\"1\" class=\"dataframe\">\n",
       "  <thead>\n",
       "    <tr style=\"text-align: right;\">\n",
       "      <th></th>\n",
       "      <th>id</th>\n",
       "      <th>f0</th>\n",
       "      <th>f1</th>\n",
       "      <th>f2</th>\n",
       "      <th>product</th>\n",
       "    </tr>\n",
       "  </thead>\n",
       "  <tbody>\n",
       "    <tr>\n",
       "      <th>0</th>\n",
       "      <td>kBEdx</td>\n",
       "      <td>-15.001348</td>\n",
       "      <td>-8.276000</td>\n",
       "      <td>-0.005876</td>\n",
       "      <td>3.179103</td>\n",
       "    </tr>\n",
       "    <tr>\n",
       "      <th>1</th>\n",
       "      <td>62mP7</td>\n",
       "      <td>14.272088</td>\n",
       "      <td>-3.475083</td>\n",
       "      <td>0.999183</td>\n",
       "      <td>26.953261</td>\n",
       "    </tr>\n",
       "    <tr>\n",
       "      <th>2</th>\n",
       "      <td>vyE1P</td>\n",
       "      <td>6.263187</td>\n",
       "      <td>-5.948386</td>\n",
       "      <td>5.001160</td>\n",
       "      <td>134.766305</td>\n",
       "    </tr>\n",
       "    <tr>\n",
       "      <th>3</th>\n",
       "      <td>KcrkZ</td>\n",
       "      <td>-13.081196</td>\n",
       "      <td>-11.506057</td>\n",
       "      <td>4.999415</td>\n",
       "      <td>137.945408</td>\n",
       "    </tr>\n",
       "    <tr>\n",
       "      <th>4</th>\n",
       "      <td>AHL4O</td>\n",
       "      <td>12.702195</td>\n",
       "      <td>-8.147433</td>\n",
       "      <td>5.004363</td>\n",
       "      <td>134.766305</td>\n",
       "    </tr>\n",
       "  </tbody>\n",
       "</table>\n",
       "</div>"
      ],
      "text/plain": [
       "      id         f0         f1        f2     product\n",
       "0  kBEdx -15.001348  -8.276000 -0.005876    3.179103\n",
       "1  62mP7  14.272088  -3.475083  0.999183   26.953261\n",
       "2  vyE1P   6.263187  -5.948386  5.001160  134.766305\n",
       "3  KcrkZ -13.081196 -11.506057  4.999415  137.945408\n",
       "4  AHL4O  12.702195  -8.147433  5.004363  134.766305"
      ]
     },
     "execution_count": 4,
     "metadata": {},
     "output_type": "execute_result"
    }
   ],
   "source": [
    "data1.head()"
   ]
  },
  {
   "cell_type": "code",
   "execution_count": 5,
   "metadata": {},
   "outputs": [
    {
     "data": {
      "text/html": [
       "<div>\n",
       "<style scoped>\n",
       "    .dataframe tbody tr th:only-of-type {\n",
       "        vertical-align: middle;\n",
       "    }\n",
       "\n",
       "    .dataframe tbody tr th {\n",
       "        vertical-align: top;\n",
       "    }\n",
       "\n",
       "    .dataframe thead th {\n",
       "        text-align: right;\n",
       "    }\n",
       "</style>\n",
       "<table border=\"1\" class=\"dataframe\">\n",
       "  <thead>\n",
       "    <tr style=\"text-align: right;\">\n",
       "      <th></th>\n",
       "      <th>id</th>\n",
       "      <th>f0</th>\n",
       "      <th>f1</th>\n",
       "      <th>f2</th>\n",
       "      <th>product</th>\n",
       "    </tr>\n",
       "  </thead>\n",
       "  <tbody>\n",
       "    <tr>\n",
       "      <th>0</th>\n",
       "      <td>fwXo0</td>\n",
       "      <td>-1.146987</td>\n",
       "      <td>0.963328</td>\n",
       "      <td>-0.828965</td>\n",
       "      <td>27.758673</td>\n",
       "    </tr>\n",
       "    <tr>\n",
       "      <th>1</th>\n",
       "      <td>WJtFt</td>\n",
       "      <td>0.262778</td>\n",
       "      <td>0.269839</td>\n",
       "      <td>-2.530187</td>\n",
       "      <td>56.069697</td>\n",
       "    </tr>\n",
       "    <tr>\n",
       "      <th>2</th>\n",
       "      <td>ovLUW</td>\n",
       "      <td>0.194587</td>\n",
       "      <td>0.289035</td>\n",
       "      <td>-5.586433</td>\n",
       "      <td>62.871910</td>\n",
       "    </tr>\n",
       "    <tr>\n",
       "      <th>3</th>\n",
       "      <td>q6cA6</td>\n",
       "      <td>2.236060</td>\n",
       "      <td>-0.553760</td>\n",
       "      <td>0.930038</td>\n",
       "      <td>114.572842</td>\n",
       "    </tr>\n",
       "    <tr>\n",
       "      <th>4</th>\n",
       "      <td>WPMUX</td>\n",
       "      <td>-0.515993</td>\n",
       "      <td>1.716266</td>\n",
       "      <td>5.899011</td>\n",
       "      <td>149.600746</td>\n",
       "    </tr>\n",
       "  </tbody>\n",
       "</table>\n",
       "</div>"
      ],
      "text/plain": [
       "      id        f0        f1        f2     product\n",
       "0  fwXo0 -1.146987  0.963328 -0.828965   27.758673\n",
       "1  WJtFt  0.262778  0.269839 -2.530187   56.069697\n",
       "2  ovLUW  0.194587  0.289035 -5.586433   62.871910\n",
       "3  q6cA6  2.236060 -0.553760  0.930038  114.572842\n",
       "4  WPMUX -0.515993  1.716266  5.899011  149.600746"
      ]
     },
     "execution_count": 5,
     "metadata": {},
     "output_type": "execute_result"
    }
   ],
   "source": [
    "data2.head()"
   ]
  },
  {
   "cell_type": "code",
   "execution_count": 6,
   "metadata": {},
   "outputs": [
    {
     "name": "stdout",
     "output_type": "stream",
     "text": [
      "<class 'pandas.core.frame.DataFrame'>\n",
      "RangeIndex: 100000 entries, 0 to 99999\n",
      "Data columns (total 5 columns):\n",
      " #   Column   Non-Null Count   Dtype  \n",
      "---  ------   --------------   -----  \n",
      " 0   id       100000 non-null  object \n",
      " 1   f0       100000 non-null  float64\n",
      " 2   f1       100000 non-null  float64\n",
      " 3   f2       100000 non-null  float64\n",
      " 4   product  100000 non-null  float64\n",
      "dtypes: float64(4), object(1)\n",
      "memory usage: 3.8+ MB\n"
     ]
    }
   ],
   "source": [
    "data0.info()"
   ]
  },
  {
   "cell_type": "code",
   "execution_count": 7,
   "metadata": {},
   "outputs": [
    {
     "name": "stdout",
     "output_type": "stream",
     "text": [
      "<class 'pandas.core.frame.DataFrame'>\n",
      "RangeIndex: 100000 entries, 0 to 99999\n",
      "Data columns (total 5 columns):\n",
      " #   Column   Non-Null Count   Dtype  \n",
      "---  ------   --------------   -----  \n",
      " 0   id       100000 non-null  object \n",
      " 1   f0       100000 non-null  float64\n",
      " 2   f1       100000 non-null  float64\n",
      " 3   f2       100000 non-null  float64\n",
      " 4   product  100000 non-null  float64\n",
      "dtypes: float64(4), object(1)\n",
      "memory usage: 3.8+ MB\n"
     ]
    }
   ],
   "source": [
    "data1.info()"
   ]
  },
  {
   "cell_type": "code",
   "execution_count": 8,
   "metadata": {},
   "outputs": [
    {
     "name": "stdout",
     "output_type": "stream",
     "text": [
      "<class 'pandas.core.frame.DataFrame'>\n",
      "RangeIndex: 100000 entries, 0 to 99999\n",
      "Data columns (total 5 columns):\n",
      " #   Column   Non-Null Count   Dtype  \n",
      "---  ------   --------------   -----  \n",
      " 0   id       100000 non-null  object \n",
      " 1   f0       100000 non-null  float64\n",
      " 2   f1       100000 non-null  float64\n",
      " 3   f2       100000 non-null  float64\n",
      " 4   product  100000 non-null  float64\n",
      "dtypes: float64(4), object(1)\n",
      "memory usage: 3.8+ MB\n"
     ]
    }
   ],
   "source": [
    "data2.info()"
   ]
  },
  {
   "cell_type": "code",
   "execution_count": 9,
   "metadata": {},
   "outputs": [
    {
     "name": "stdout",
     "output_type": "stream",
     "text": [
      "Пропуски в данных геологоразведки Региона-1\n",
      "id         0\n",
      "f0         0\n",
      "f1         0\n",
      "f2         0\n",
      "product    0\n",
      "dtype: int64\n",
      "Пропуски в данных геологоразведки Региона-2\n",
      "id         0\n",
      "f0         0\n",
      "f1         0\n",
      "f2         0\n",
      "product    0\n",
      "dtype: int64\n",
      "Пропуски в данных геологоразведки Региона-3\n",
      "id         0\n",
      "f0         0\n",
      "f1         0\n",
      "f2         0\n",
      "product    0\n",
      "dtype: int64\n"
     ]
    }
   ],
   "source": [
    "print(\"Пропуски в данных геологоразведки Региона-1\")\n",
    "print(data0.isna().sum())\n",
    "print(\"Пропуски в данных геологоразведки Региона-2\")\n",
    "print(data1.isna().sum())\n",
    "print(\"Пропуски в данных геологоразведки Региона-3\")\n",
    "print(data2.isna().sum())"
   ]
  },
  {
   "cell_type": "markdown",
   "metadata": {},
   "source": [
    "Данные показывают отсутствие пропусков"
   ]
  },
  {
   "cell_type": "code",
   "execution_count": 10,
   "metadata": {},
   "outputs": [
    {
     "name": "stdout",
     "output_type": "stream",
     "text": [
      "Дубликаты в данных геологоразведки Региона-1\n",
      "0\n",
      "Дубликаты в данных геологоразведки Региона-2\n",
      "0\n",
      "Дубликаты в данных геологоразведки Региона-3\n",
      "0\n"
     ]
    }
   ],
   "source": [
    "print(\"Дубликаты в данных геологоразведки Региона-1\")\n",
    "print(data0.duplicated().sum())\n",
    "print(\"Дубликаты в данных геологоразведки Региона-2\")\n",
    "print(data1.duplicated().sum())\n",
    "print(\"Дубликаты в данных геологоразведки Региона-3\")\n",
    "print(data2.duplicated().sum())"
   ]
  },
  {
   "cell_type": "markdown",
   "metadata": {},
   "source": [
    "В данных нет явных дубликов"
   ]
  },
  {
   "cell_type": "code",
   "execution_count": 11,
   "metadata": {},
   "outputs": [
    {
     "data": {
      "text/plain": [
       "fiKDv    2\n",
       "Tdehs    2\n",
       "HZww2    2\n",
       "A5aEY    2\n",
       "bsk9y    2\n",
       "        ..\n",
       "KGhgS    1\n",
       "AdBtZ    1\n",
       "13KkC    1\n",
       "DzJ1D    1\n",
       "8cA03    1\n",
       "Name: id, Length: 99990, dtype: int64"
      ]
     },
     "execution_count": 11,
     "metadata": {},
     "output_type": "execute_result"
    }
   ],
   "source": [
    "data0['id'].value_counts()"
   ]
  },
  {
   "cell_type": "code",
   "execution_count": 12,
   "metadata": {},
   "outputs": [
    {
     "data": {
      "text/plain": [
       "wt4Uk    2\n",
       "LHZR0    2\n",
       "5ltQ6    2\n",
       "bfPNe    2\n",
       "7mu0m    1\n",
       "        ..\n",
       "xcwQl    1\n",
       "3JEsG    1\n",
       "7QnAl    1\n",
       "QqaSY    1\n",
       "sxaPE    1\n",
       "Name: id, Length: 99996, dtype: int64"
      ]
     },
     "execution_count": 12,
     "metadata": {},
     "output_type": "execute_result"
    }
   ],
   "source": [
    "data1['id'].value_counts()"
   ]
  },
  {
   "cell_type": "code",
   "execution_count": 13,
   "metadata": {},
   "outputs": [
    {
     "data": {
      "text/plain": [
       "Vcm5J    2\n",
       "KUPhW    2\n",
       "xCHr8    2\n",
       "VF7Jo    2\n",
       "TMz8s    1\n",
       "        ..\n",
       "eLgoQ    1\n",
       "0q6Hh    1\n",
       "u6W3f    1\n",
       "nZe2i    1\n",
       "H0dAE    1\n",
       "Name: id, Length: 99996, dtype: int64"
      ]
     },
     "execution_count": 13,
     "metadata": {},
     "output_type": "execute_result"
    }
   ],
   "source": [
    "data2['id'].value_counts()"
   ]
  },
  {
   "cell_type": "code",
   "execution_count": 14,
   "metadata": {},
   "outputs": [
    {
     "data": {
      "text/plain": [
       "2McE8    1\n",
       "RhIbe    1\n",
       "nXWwy    1\n",
       "w9tmr    1\n",
       "M2eQg    1\n",
       "        ..\n",
       "DzJ1D    1\n",
       "Hh5mQ    1\n",
       "DCh8i    1\n",
       "gHx7R    1\n",
       "8cA03    1\n",
       "Name: id, Length: 99990, dtype: int64"
      ]
     },
     "execution_count": 14,
     "metadata": {},
     "output_type": "execute_result"
    }
   ],
   "source": [
    "data0['id'] = data0['id'].drop_duplicates(keep='first')\n",
    "data1['id'] = data1['id'].drop_duplicates(keep='first')\n",
    "data2['id'] = data1['id'].drop_duplicates(keep='first')\n",
    "\n",
    "data0['id'].value_counts()"
   ]
  },
  {
   "cell_type": "code",
   "execution_count": 15,
   "metadata": {},
   "outputs": [
    {
     "data": {
      "text/plain": [
       "X6I0M    1\n",
       "XRtKK    1\n",
       "VGIwj    1\n",
       "AA0Sv    1\n",
       "C9Bs4    1\n",
       "        ..\n",
       "3JEsG    1\n",
       "7QnAl    1\n",
       "QqaSY    1\n",
       "Zpaez    1\n",
       "sxaPE    1\n",
       "Name: id, Length: 99996, dtype: int64"
      ]
     },
     "execution_count": 15,
     "metadata": {},
     "output_type": "execute_result"
    }
   ],
   "source": [
    "data1['id'].value_counts()"
   ]
  },
  {
   "cell_type": "code",
   "execution_count": 16,
   "metadata": {},
   "outputs": [
    {
     "data": {
      "text/plain": [
       "X6I0M    1\n",
       "XRtKK    1\n",
       "VGIwj    1\n",
       "AA0Sv    1\n",
       "C9Bs4    1\n",
       "        ..\n",
       "3JEsG    1\n",
       "7QnAl    1\n",
       "QqaSY    1\n",
       "Zpaez    1\n",
       "sxaPE    1\n",
       "Name: id, Length: 99996, dtype: int64"
      ]
     },
     "execution_count": 16,
     "metadata": {},
     "output_type": "execute_result"
    }
   ],
   "source": [
    "data2['id'].value_counts()"
   ]
  },
  {
   "cell_type": "markdown",
   "metadata": {},
   "source": [
    "Столбец 'id' содержал дубли, которые были обработаны"
   ]
  },
  {
   "cell_type": "code",
   "execution_count": 17,
   "metadata": {},
   "outputs": [],
   "source": [
    "def data_seaborn(data):\n",
    "    sns.heatmap(data.corr(), annot = True, fmt='.1g', linewidths=2, linecolor='black')"
   ]
  },
  {
   "cell_type": "code",
   "execution_count": 18,
   "metadata": {},
   "outputs": [
    {
     "data": {
      "image/png": "[encoded data removed]",
      "text/plain": [
       "<Figure size 432x288 with 2 Axes>"
      ]
     },
     "metadata": {
      "needs_background": "light"
     },
     "output_type": "display_data"
    }
   ],
   "source": [
    "data_seaborn(data0)"
   ]
  },
  {
   "cell_type": "code",
   "execution_count": 19,
   "metadata": {},
   "outputs": [
    {
     "data": {
      "image/png": "[encoded data removed]",
      "text/plain": [
       "<Figure size 432x288 with 2 Axes>"
      ]
     },
     "metadata": {
      "needs_background": "light"
     },
     "output_type": "display_data"
    }
   ],
   "source": [
    "data_seaborn(data1)"
   ]
  },
  {
   "cell_type": "code",
   "execution_count": 20,
   "metadata": {},
   "outputs": [
    {
     "data": {
      "image/png": "[encoded data removed]",
      "text/plain": [
       "<Figure size 432x288 with 2 Axes>"
      ]
     },
     "metadata": {
      "needs_background": "light"
     },
     "output_type": "display_data"
    }
   ],
   "source": [
    "data_seaborn(data2)"
   ]
  },
  {
   "cell_type": "markdown",
   "metadata": {},
   "source": [
    "Во Втором Регионе в отличии от оставшихся двух, объём запасов в скважине сильно коррелируется со значение в столбце f2\n",
    "\n",
    "Во всех регионах product имеет отрицательные, местами очень слабые, корреляционные зависимости с f0 и f1"
   ]
  },
  {
   "cell_type": "code",
   "execution_count": 21,
   "metadata": {},
   "outputs": [],
   "source": [
    "data0 = data0.drop(['id'], axis=1)\n",
    "data1 = data1.drop(['id'], axis=1)\n",
    "data2 = data2.drop(['id'], axis=1)"
   ]
  },
  {
   "cell_type": "markdown",
   "metadata": {},
   "source": [
    "Столбец 'id' не несёт никакой ценности для обучения модели, поэтому можно от него избавится во всех трех наборах данных"
   ]
  },
  {
   "cell_type": "code",
   "execution_count": 22,
   "metadata": {},
   "outputs": [
    {
     "data": {
      "text/plain": [
       "Index(['f0', 'f1', 'f2', 'product'], dtype='object')"
      ]
     },
     "execution_count": 22,
     "metadata": {},
     "output_type": "execute_result"
    }
   ],
   "source": [
    "data0.columns"
   ]
  },
  {
   "cell_type": "code",
   "execution_count": 23,
   "metadata": {},
   "outputs": [
    {
     "data": {
      "text/plain": [
       "Index(['f0', 'f1', 'f2', 'product'], dtype='object')"
      ]
     },
     "execution_count": 23,
     "metadata": {},
     "output_type": "execute_result"
    }
   ],
   "source": [
    "data1.columns"
   ]
  },
  {
   "cell_type": "code",
   "execution_count": 24,
   "metadata": {},
   "outputs": [
    {
     "data": {
      "text/plain": [
       "Index(['f0', 'f1', 'f2', 'product'], dtype='object')"
      ]
     },
     "execution_count": 24,
     "metadata": {},
     "output_type": "execute_result"
    }
   ],
   "source": [
    "data2.columns"
   ]
  },
  {
   "cell_type": "code",
   "execution_count": 25,
   "metadata": {},
   "outputs": [
    {
     "data": {
      "text/plain": [
       "(100000, 4)"
      ]
     },
     "execution_count": 25,
     "metadata": {},
     "output_type": "execute_result"
    }
   ],
   "source": [
    "data0.shape"
   ]
  },
  {
   "cell_type": "code",
   "execution_count": 26,
   "metadata": {},
   "outputs": [
    {
     "data": {
      "text/plain": [
       "(100000, 4)"
      ]
     },
     "execution_count": 26,
     "metadata": {},
     "output_type": "execute_result"
    }
   ],
   "source": [
    "data1.shape"
   ]
  },
  {
   "cell_type": "code",
   "execution_count": 27,
   "metadata": {},
   "outputs": [
    {
     "data": {
      "text/plain": [
       "(100000, 4)"
      ]
     },
     "execution_count": 27,
     "metadata": {},
     "output_type": "execute_result"
    }
   ],
   "source": [
    "data2.shape"
   ]
  },
  {
   "cell_type": "code",
   "execution_count": 28,
   "metadata": {},
   "outputs": [
    {
     "name": "stdout",
     "output_type": "stream",
     "text": [
      "Основные статистические характеристики в данных геологоразведки Региона-1\n",
      "                  f0             f1             f2        product\n",
      "count  100000.000000  100000.000000  100000.000000  100000.000000\n",
      "mean        0.500419       0.250143       2.502647      92.500000\n",
      "std         0.871832       0.504433       3.248248      44.288691\n",
      "min        -1.408605      -0.848218     -12.088328       0.000000\n",
      "25%        -0.072580      -0.200881       0.287748      56.497507\n",
      "50%         0.502360       0.250252       2.515969      91.849972\n",
      "75%         1.073581       0.700646       4.715088     128.564089\n",
      "max         2.362331       1.343769      16.003790     185.364347\n",
      "\n",
      "Основные статистические характеристики в данных геологоразведки Региона-2\n",
      "                  f0             f1             f2        product\n",
      "count  100000.000000  100000.000000  100000.000000  100000.000000\n",
      "mean        1.141296      -4.796579       2.494541      68.825000\n",
      "std         8.965932       5.119872       1.703572      45.944423\n",
      "min       -31.609576     -26.358598      -0.018144       0.000000\n",
      "25%        -6.298551      -8.267985       1.000021      26.953261\n",
      "50%         1.153055      -4.813172       2.011479      57.085625\n",
      "75%         8.621015      -1.332816       3.999904     107.813044\n",
      "max        29.421755      18.734063       5.019721     137.945408\n",
      "\n",
      "Основные статистические характеристики в данных геологоразведки Региона-3\n",
      "                  f0             f1             f2        product\n",
      "count  100000.000000  100000.000000  100000.000000  100000.000000\n",
      "mean        0.002023      -0.002081       2.495128      95.000000\n",
      "std         1.732045       1.730417       3.473445      44.749921\n",
      "min        -8.760004      -7.084020     -11.970335       0.000000\n",
      "25%        -1.162288      -1.174820       0.130359      59.450441\n",
      "50%         0.009424      -0.009482       2.484236      94.925613\n",
      "75%         1.158535       1.163678       4.858794     130.595027\n",
      "max         7.238262       7.844801      16.739402     190.029838\n"
     ]
    }
   ],
   "source": [
    "print(\"Основные статистические характеристики в данных геологоразведки Региона-1\")\n",
    "print(data0.describe())\n",
    "print()\n",
    "print(\"Основные статистические характеристики в данных геологоразведки Региона-2\")\n",
    "print(data1.describe())\n",
    "print()\n",
    "print(\"Основные статистические характеристики в данных геологоразведки Региона-3\")\n",
    "print(data2.describe())"
   ]
  },
  {
   "cell_type": "markdown",
   "metadata": {},
   "source": [
    "В распоряжении три набора данных по 100000 строк и по 4 столбца на каждый датасет. Данные были проверены:\n",
    "- на наличие явных и неявных дубликатов, \n",
    "- на наличие пропусков, \n",
    "- изучены основные статистические характеристики, \n",
    "- проведен корреляционный анализ. \n",
    "\n",
    "В процессе работы было принято решение отказаться от столбца 'id', так как значение не влияет на процесс обучения модели."
   ]
  },
  {
   "cell_type": "markdown",
   "metadata": {},
   "source": [
    "## Обучение и проверка модели"
   ]
  },
  {
   "cell_type": "markdown",
   "metadata": {},
   "source": [
    "- 2.1. Разбить данные на обучающую и валидационную выборки в соотношении 75:25.\n",
    "- 2.2. Обучить модель и сделать предсказания на валидационной выборке.\n",
    "- 2.3. Сохранить предсказания и правильные ответы на валидационной выборке.\n",
    "- 2.4. Напечатать на экране средний запас предсказанного сырья и RMSE модели.\n",
    "- 2.5. Проанализировать результаты.\n"
   ]
  },
  {
   "cell_type": "code",
   "execution_count": 29,
   "metadata": {},
   "outputs": [],
   "source": [
    "#Переменные для признаков и целевого признака Региона-1\n",
    "features0 = data0.drop(['product'], axis=1)\n",
    "target0 = data0['product']"
   ]
  },
  {
   "cell_type": "code",
   "execution_count": 30,
   "metadata": {},
   "outputs": [],
   "source": [
    "#Переменные для признаков и целевого признака Региона-2\n",
    "features1 = data1.drop(['product'], axis=1)\n",
    "target1 = data1['product']"
   ]
  },
  {
   "cell_type": "code",
   "execution_count": 31,
   "metadata": {},
   "outputs": [],
   "source": [
    "#Переменные для признаков и целевого признака Региона-3\n",
    "features2 = data2.drop(['product'], axis=1)\n",
    "target2 = data2['product']"
   ]
  },
  {
   "cell_type": "code",
   "execution_count": 32,
   "metadata": {},
   "outputs": [
    {
     "name": "stdout",
     "output_type": "stream",
     "text": [
      "Тренировочная выборка Региона-1: (75000, 3)\n",
      "Валидационная выборка Региона-1: (25000, 3)\n"
     ]
    }
   ],
   "source": [
    "features_train0, features_valid0, target_train0, target_valid0 = train_test_split(\n",
    "    features0, target0, test_size=0.25, random_state=12345)\n",
    "\n",
    "print('Тренировочная выборка Региона-1:', features_train0.shape)\n",
    "print('Валидационная выборка Региона-1:', features_valid0.shape)"
   ]
  },
  {
   "cell_type": "code",
   "execution_count": 33,
   "metadata": {},
   "outputs": [
    {
     "name": "stdout",
     "output_type": "stream",
     "text": [
      "Тренировочная выборка Региона-2: (75000, 3)\n",
      "Валидационная выборка Региона-2: (25000, 3)\n"
     ]
    }
   ],
   "source": [
    "features_train1, features_valid1, target_train1, target_valid1 = train_test_split(\n",
    "    features1, target1, test_size=0.25, random_state=12345)\n",
    "\n",
    "print('Тренировочная выборка Региона-2:', features_train1.shape)\n",
    "print('Валидационная выборка Региона-2:', features_valid1.shape)"
   ]
  },
  {
   "cell_type": "code",
   "execution_count": 34,
   "metadata": {},
   "outputs": [
    {
     "name": "stdout",
     "output_type": "stream",
     "text": [
      "Тренировочная выборка Региона-3: (75000, 3)\n",
      "Валидационная выборка Региона-3: (25000, 3)\n"
     ]
    }
   ],
   "source": [
    "features_train2, features_valid2, target_train2, target_valid2 = train_test_split(\n",
    "    features2, target2, test_size=0.25, random_state=12345)\n",
    "\n",
    "print('Тренировочная выборка Региона-3:', features_train2.shape)\n",
    "print('Валидационная выборка Региона-3:', features_valid2.shape)"
   ]
  },
  {
   "cell_type": "code",
   "execution_count": 35,
   "metadata": {},
   "outputs": [
    {
     "name": "stdout",
     "output_type": "stream",
     "text": [
      "Cредний запас предсказанного сырья =  92.59256778438035\n"
     ]
    }
   ],
   "source": [
    "model0 = LinearRegression()\n",
    "model0.fit(features_train0, target_train0)\n",
    "predicted_valid0 = model0.predict(features_valid0)\n",
    "\n",
    "print(\"Cредний запас предсказанного сырья = \", predicted_valid0.mean())"
   ]
  },
  {
   "cell_type": "code",
   "execution_count": 36,
   "metadata": {},
   "outputs": [
    {
     "name": "stdout",
     "output_type": "stream",
     "text": [
      "Cредний запас предсказанного сырья =  68.728546895446\n"
     ]
    }
   ],
   "source": [
    "model1 = LinearRegression()\n",
    "model1.fit(features_train1, target_train1)\n",
    "predicted_valid1 = model1.predict(features_valid1)\n",
    "\n",
    "print(\"Cредний запас предсказанного сырья = \", predicted_valid1.mean())"
   ]
  },
  {
   "cell_type": "code",
   "execution_count": 37,
   "metadata": {},
   "outputs": [
    {
     "name": "stdout",
     "output_type": "stream",
     "text": [
      "Cредний запас предсказанного сырья =  94.96504596800489\n"
     ]
    }
   ],
   "source": [
    "model2 = LinearRegression()\n",
    "model2.fit(features_train2, target_train2)\n",
    "predicted_valid2 = model2.predict(features_valid2)\n",
    "\n",
    "print(\"Cредний запас предсказанного сырья = \", predicted_valid2.mean())"
   ]
  },
  {
   "cell_type": "code",
   "execution_count": 38,
   "metadata": {},
   "outputs": [
    {
     "data": {
      "text/plain": [
       "array([ 95.89495185,  77.57258261,  77.89263965, ...,  61.50983303,\n",
       "       118.18039721, 118.16939229])"
      ]
     },
     "execution_count": 38,
     "metadata": {},
     "output_type": "execute_result"
    }
   ],
   "source": [
    "predicted_valid0"
   ]
  },
  {
   "cell_type": "code",
   "execution_count": 39,
   "metadata": {},
   "outputs": [
    {
     "data": {
      "text/plain": [
       "array([ 82.66331365,  54.43178616,  29.74875995, ..., 137.87934053,\n",
       "        83.76196568,  53.95846638])"
      ]
     },
     "execution_count": 39,
     "metadata": {},
     "output_type": "execute_result"
    }
   ],
   "source": [
    "predicted_valid1"
   ]
  },
  {
   "cell_type": "code",
   "execution_count": 40,
   "metadata": {},
   "outputs": [
    {
     "data": {
      "text/plain": [
       "array([ 93.59963303,  75.10515854,  90.06680936, ...,  99.40728116,\n",
       "        77.77991248, 129.03241718])"
      ]
     },
     "execution_count": 40,
     "metadata": {},
     "output_type": "execute_result"
    }
   ],
   "source": [
    "predicted_valid2"
   ]
  },
  {
   "cell_type": "code",
   "execution_count": 41,
   "metadata": {},
   "outputs": [],
   "source": [
    "def ddd(features_valid, target_valid, predicted_valid):\n",
    "\n",
    "    mse_2 = mean_squared_error(target_valid, predicted_valid)\n",
    "\n",
    "    print(\"Стандартное отклонение MSE =\", mse_2)\n",
    "    print(\"Разница между значениями RMSE =\", mse_2 ** 0.5)\n",
    "    \n",
    "    #Среднее абсолютное отклонение\n",
    "    print(\"Среднее абсолютное отклонение MAE регионa = \", mean_absolute_error(target_valid, predicted_valid))\n",
    "    \n",
    "    #Коэффициент детерминации\n",
    "    print(\"Мера общей точности модели R2 региона = \",  r2_score(target_valid, predicted_valid))"
   ]
  },
  {
   "cell_type": "code",
   "execution_count": 42,
   "metadata": {},
   "outputs": [
    {
     "name": "stdout",
     "output_type": "stream",
     "text": [
      "Стандартное отклонение MSE = 1412.2129364399243\n",
      "Разница между значениями RMSE = 37.5794217150813\n",
      "Среднее абсолютное отклонение MAE регионa =  30.919600777151313\n",
      "Мера общей точности модели R2 региона =  0.27994321524487786\n"
     ]
    }
   ],
   "source": [
    "predicted_valid0 = ddd(features_valid0, target_valid0, predicted_valid0)"
   ]
  },
  {
   "cell_type": "code",
   "execution_count": 43,
   "metadata": {},
   "outputs": [
    {
     "name": "stdout",
     "output_type": "stream",
     "text": [
      "Стандартное отклонение MSE = 0.7976263360391157\n",
      "Разница между значениями RMSE = 0.893099286775617\n",
      "Среднее абсолютное отклонение MAE регионa =  0.7187662442124758\n",
      "Мера общей точности модели R2 региона =  0.9996233978805127\n"
     ]
    }
   ],
   "source": [
    "predicted_valid1 = ddd(features_valid1, target_valid1, predicted_valid1)"
   ]
  },
  {
   "cell_type": "code",
   "execution_count": 44,
   "metadata": {},
   "outputs": [
    {
     "name": "stdout",
     "output_type": "stream",
     "text": [
      "Стандартное отклонение MSE = 1602.3775813236196\n",
      "Разница между значениями RMSE = 40.02970873393434\n",
      "Среднее абсолютное отклонение MAE регионa =  32.792652105481814\n",
      "Мера общей точности модели R2 региона =  0.20524758386040443\n"
     ]
    }
   ],
   "source": [
    "predicted_valid2 = ddd( features_valid2, target_valid2, predicted_valid2)"
   ]
  },
  {
   "cell_type": "markdown",
   "metadata": {},
   "source": [
    "Данные разбиты на обучающую и валидационную выборки в соотношении 75:25. Обучена модель линейной регрессии и сделаны предсказания на валидационной выборке"
   ]
  },
  {
   "cell_type": "markdown",
   "metadata": {},
   "source": [
    "- Наилучшее значение RMSE среди моделей:\n",
    "  * Регион1 = 37.5794217150813\n",
    "  * Регион2 = 0.893099286775617\n",
    "  * Регион3 = 40.02970873393434\n",
    "  \n",
    "  \n",
    "- Наилучшее значение MAE среди моделей:\n",
    "  * Регион1 = 30.919600777151313\n",
    "  * Регион2 = 0.7187662442124758\n",
    "  * Регион3 = 32.792652105481814\n",
    "  \n",
    "  \n",
    "- Наилучшее значение R2 среди моделей:\n",
    "  * Регион1 = 0.27994321524487786\n",
    "  * Регион2 = 0.9996233978805127\n",
    "  * Регион3 = 0.20524758386040443"
   ]
  },
  {
   "cell_type": "markdown",
   "metadata": {},
   "source": [
    "## Подготовка к расчёту прибыли"
   ]
  },
  {
   "cell_type": "markdown",
   "metadata": {},
   "source": [
    " - 3.1. Все ключевые значения для расчётов сохранить в отдельных переменных.\n",
    " - 3.2. Рассчитать достаточный объём сырья для безубыточной разработки новой скважины. Сравнить полученный объём сырья со средним запасом в каждом регионе. \n",
    " - 3.3. Написать выводы по этапу подготовки расчёта прибыли.\n"
   ]
  },
  {
   "cell_type": "code",
   "execution_count": 41,
   "metadata": {},
   "outputs": [],
   "source": [
    "mean_predicted_valid0 = predicted_valid0.mean()\n",
    "mean_predicted_valid1 = predicted_valid1.mean()\n",
    "mean_predicted_valid2 = predicted_valid2.mean()\n",
    "\n",
    "product_units = 450\n",
    "points = 500\n",
    "best_points = 200\n",
    "budget = 1e+7"
   ]
  },
  {
   "cell_type": "code",
   "execution_count": 42,
   "metadata": {},
   "outputs": [
    {
     "name": "stdout",
     "output_type": "stream",
     "text": [
      "Достаточный объём сырья для безубыточной разработки новой скважины: 111.11 тыс.баррелей\n"
     ]
    }
   ],
   "source": [
    "point_1 = budget / best_points\n",
    "min_volume = point_1 / product_units\n",
    "\n",
    "print('Достаточный объём сырья для безубыточной разработки новой скважины: %.2f' %min_volume, 'тыс.баррелей')"
   ]
  },
  {
   "cell_type": "code",
   "execution_count": 43,
   "metadata": {},
   "outputs": [
    {
     "name": "stdout",
     "output_type": "stream",
     "text": [
      "Cредний запас Регионе1 =  92.59256778438035\n",
      "Cредний запас Регионе2 =  68.728546895446\n",
      "Cредний запас Регионе3 =  94.96504596800489\n"
     ]
    }
   ],
   "source": [
    "print('Cредний запас Регионе1 = ', mean_predicted_valid0)\n",
    "print('Cредний запас Регионе2 = ', mean_predicted_valid1)\n",
    "print('Cредний запас Регионе3 = ', mean_predicted_valid2)"
   ]
  },
  {
   "cell_type": "markdown",
   "metadata": {},
   "source": [
    "Для безубыточной разработки новой скважины необходимо 111.11 тыс.баррелей, что больше средного запаса по регионам"
   ]
  },
  {
   "cell_type": "markdown",
   "metadata": {},
   "source": [
    "\n",
    "Исходя из результатов исследовани становится очевидно, что предсказанного сырья недостаточно даже для окупаемости проекта. В связи с чем, необходимо реализовать функцию для расчёта прибыли по выбранным 200 лучшим скважинам. Далее посчитать риски и прибыль для каждого региона."
   ]
  },
  {
   "cell_type": "markdown",
   "metadata": {},
   "source": [
    "## Написать функцию для расчёта прибыли по выбранным скважинам и предсказаниям модели:\n",
    "- 4.1. Выберать скважины с максимальными значениями предсказаний. \n",
    "- 4.2. Просуммировать целевое значение объёма сырья, соответствующее этим предсказаниям.\n",
    "- 4.3. Рассчитать прибыль для полученного объёма сырья."
   ]
  },
  {
   "cell_type": "markdown",
   "metadata": {},
   "source": [
    "При разведке региона исследуют 500 точек, из которых с помощью машинного обучения выбирают 200 лучших для разработки."
   ]
  },
  {
   "cell_type": "code",
   "execution_count": 44,
   "metadata": {},
   "outputs": [],
   "source": [
    "def revenue(target, probabilities, count):\n",
    "    \n",
    "    \n",
    "    target = pd.Series(target).reset_index(drop=True)\n",
    "    probabilities = pd.Series(probabilities).reset_index(drop=True)\n",
    "    \n",
    "    probs_sorted = probabilities.sort_values(ascending=False)\n",
    "    selected = target[probs_sorted.index][:count]\n",
    "    \n",
    "    return ((450 * selected.sum()) - budget) / 1000"
   ]
  },
  {
   "cell_type": "code",
   "execution_count": 45,
   "metadata": {
    "scrolled": true
   },
   "outputs": [
    {
     "data": {
      "text/plain": [
       "3320.8260431398508"
      ]
     },
     "execution_count": 45,
     "metadata": {},
     "output_type": "execute_result"
    }
   ],
   "source": [
    "revenue(target_valid0, predicted_valid0, 200)"
   ]
  },
  {
   "cell_type": "code",
   "execution_count": 46,
   "metadata": {},
   "outputs": [
    {
     "data": {
      "text/plain": [
       "2415.0866966815124"
      ]
     },
     "execution_count": 46,
     "metadata": {},
     "output_type": "execute_result"
    }
   ],
   "source": [
    "revenue(target_valid1, predicted_valid1, 200)"
   ]
  },
  {
   "cell_type": "code",
   "execution_count": 47,
   "metadata": {},
   "outputs": [
    {
     "data": {
      "text/plain": [
       "2710.349963599833"
      ]
     },
     "execution_count": 47,
     "metadata": {},
     "output_type": "execute_result"
    }
   ],
   "source": [
    "revenue(target_valid2, predicted_valid2, 200)"
   ]
  },
  {
   "cell_type": "markdown",
   "metadata": {},
   "source": [
    "## Расчёт прибыли и рисков "
   ]
  },
  {
   "cell_type": "markdown",
   "metadata": {},
   "source": [
    "Посчитайте риски и прибыль для каждого региона:\n",
    "-  5.1. Применить технику Bootstrap с 1000 выборок, чтобы найти распределение прибыли.\n",
    "-  5.2. Найти среднюю прибыль, 95%-й доверительный интервал и риск убытков. Убыток — это отрицательная прибыль.\n",
    "-  5.3. Написать выводы: предложить регион для разработки скважин и обосновать выбор."
   ]
  },
  {
   "cell_type": "code",
   "execution_count": 48,
   "metadata": {},
   "outputs": [],
   "source": [
    "def bootstap(target, probabilities):\n",
    "    \n",
    "    values = []\n",
    "    count=0\n",
    "    state = np.random.RandomState(12345)\n",
    "    predict = pd.Series(probabilities, index=target.index)\n",
    "    \n",
    "    for i in range(1000):\n",
    "        \n",
    "        target_subsample = target.sample(500, replace=True, random_state=state)\n",
    "        probs_subsample = predict[target_subsample.index]  \n",
    "        values.append(revenue(target_subsample, probs_subsample, 200))\n",
    "    \n",
    "    for i in values:\n",
    "        if i < 0:\n",
    "            count +=1\n",
    "    \n",
    "    values = pd.Series(values)\n",
    "    mean = values.mean()\n",
    "    \n",
    "    confidence_interval = st.t.interval(0.95, len(values)-1, values.mean(), values.sem())\n",
    "    \n",
    "    lower = values.quantile(0.025)\n",
    "    upper = values.quantile(0.975)\n",
    "    \n",
    "    print(\"Средняя прибыль: {:.2f} млн.руб\".format(mean))\n",
    "    print(\"95й доверительный интервал:\", confidence_interval)\n",
    "    print('Прибыль с вероятностью в 95% будет в диапазоне с {:.2f} млн.руб до {:.2f} млн.руб'\n",
    "          .format((lower), (upper)))\n",
    "    print('Процент вероятности убытка региона: {:.1%}'.format(count/1000))"
   ]
  },
  {
   "cell_type": "code",
   "execution_count": 49,
   "metadata": {},
   "outputs": [
    {
     "name": "stdout",
     "output_type": "stream",
     "text": [
      "Средняя прибыль: 396.16 млн.руб\n",
      "95й доверительный интервал: (379.6203151479725, 412.7096544567697)\n",
      "Прибыль с вероятностью в 95% будет в диапазоне с -111.22 млн.руб до 909.77 млн.руб\n",
      "Процент вероятности убытка региона: 6.9%\n"
     ]
    }
   ],
   "source": [
    "bootstap(target_valid0, predicted_valid0)"
   ]
  },
  {
   "cell_type": "code",
   "execution_count": 50,
   "metadata": {},
   "outputs": [
    {
     "name": "stdout",
     "output_type": "stream",
     "text": [
      "Средняя прибыль: 456.05 млн.руб\n",
      "95й доверительный интервал: (443.14724866390054, 468.942962909421)\n",
      "Прибыль с вероятностью в 95% будет в диапазоне с 33.82 млн.руб до 852.29 млн.руб\n",
      "Процент вероятности убытка региона: 1.5%\n"
     ]
    }
   ],
   "source": [
    "bootstap(target_valid1, predicted_valid1)"
   ]
  },
  {
   "cell_type": "code",
   "execution_count": 51,
   "metadata": {},
   "outputs": [
    {
     "name": "stdout",
     "output_type": "stream",
     "text": [
      "Средняя прибыль: 404.40 млн.руб\n",
      "95й доверительный интервал: (387.44579747128034, 421.3619356654332)\n",
      "Прибыль с вероятностью в 95% будет в диапазоне с -163.35 млн.руб до 950.36 млн.руб\n",
      "Процент вероятности убытка региона: 7.6%\n"
     ]
    }
   ],
   "source": [
    "bootstap(target_valid2, predicted_valid2)"
   ]
  },
  {
   "cell_type": "markdown",
   "metadata": {},
   "source": [
    "Минимальный процент вероятности убытка у Региона2 = 1.5%. Средняя прибыль составляет 453.81 млн.руб"
   ]
  },
  {
   "cell_type": "markdown",
   "metadata": {},
   "source": [
    "**ОБЩИЙ ВЫВОД**\n",
    "\n",
    "В рамках проекта были представлены данные компании «ГлавРосГосНефть»\n",
    "\n",
    "**Цель** - Определить регион с максимальной суммарной прибылью отобранных скважин."
   ]
  },
  {
   "cell_type": "markdown",
   "metadata": {},
   "source": [
    "В процессе реализации проекта были выполнены следующие шаги:\n",
    "- Подготовлены данные для последующих манипуляций;\n",
    "- Обучена модель линейной регрессии;\n",
    "- Рассчитан достаточный объём сырья для безубыточной разработки новой скважины;\n",
    "- Реализована функция для расчёта прибыли по выбранным скважинам и предсказаниям модели;\n",
    "- Посчитаны риски и прибыль для каждого региона."
   ]
  },
  {
   "cell_type": "markdown",
   "metadata": {},
   "source": [
    "По результатам исследования наиболее прибыльным является *Реогион1*:\n",
    "- Средняя прибыль: 456.05 млн.руб\n",
    "- 95й доверительный интервал: (443.14724866390054, 468.942962909421)\n",
    "- Прибыль с вероятностью в 95% будет в диапазоне с 33.82 млн.руб до 852.29 млн.руб\n",
    "- Процент вероятности убытка региона: 1.5%"
   ]
  }
 ],
 "metadata": {
  "ExecuteTimeLog": [
   {
    "duration": 326,
    "start_time": "2023-04-30T11:15:29.015Z"
   },
   {
    "duration": 815,
    "start_time": "2023-04-30T11:16:59.147Z"
   },
   {
    "duration": 20,
    "start_time": "2023-04-30T11:17:13.082Z"
   },
   {
    "duration": 62,
    "start_time": "2023-04-30T11:18:39.035Z"
   },
   {
    "duration": 8,
    "start_time": "2023-04-30T11:18:50.889Z"
   },
   {
    "duration": 299,
    "start_time": "2023-04-30T11:19:07.720Z"
   },
   {
    "duration": 10,
    "start_time": "2023-04-30T11:19:47.026Z"
   },
   {
    "duration": 185,
    "start_time": "2023-04-30T11:20:05.392Z"
   },
   {
    "duration": 9,
    "start_time": "2023-04-30T11:20:24.462Z"
   },
   {
    "duration": 6,
    "start_time": "2023-04-30T11:21:09.591Z"
   },
   {
    "duration": 7,
    "start_time": "2023-04-30T11:21:18.392Z"
   },
   {
    "duration": 7,
    "start_time": "2023-04-30T11:21:28.199Z"
   },
   {
    "duration": 8,
    "start_time": "2023-04-30T11:21:31.939Z"
   },
   {
    "duration": 8,
    "start_time": "2023-04-30T11:21:43.230Z"
   },
   {
    "duration": 7,
    "start_time": "2023-04-30T11:21:43.769Z"
   },
   {
    "duration": 13,
    "start_time": "2023-04-30T11:32:46.481Z"
   },
   {
    "duration": 11,
    "start_time": "2023-04-30T11:33:00.258Z"
   },
   {
    "duration": 12,
    "start_time": "2023-04-30T11:33:02.882Z"
   },
   {
    "duration": 19,
    "start_time": "2023-04-30T11:34:05.999Z"
   },
   {
    "duration": 16,
    "start_time": "2023-04-30T11:34:44.518Z"
   },
   {
    "duration": 17,
    "start_time": "2023-04-30T11:36:28.654Z"
   },
   {
    "duration": 103,
    "start_time": "2023-04-30T11:37:50.489Z"
   },
   {
    "duration": 99,
    "start_time": "2023-04-30T11:38:27.145Z"
   },
   {
    "duration": 10,
    "start_time": "2023-04-30T11:39:31.761Z"
   },
   {
    "duration": 3,
    "start_time": "2023-04-30T11:40:16.952Z"
   },
   {
    "duration": 6,
    "start_time": "2023-04-30T11:40:25.121Z"
   },
   {
    "duration": 3,
    "start_time": "2023-04-30T11:40:28.175Z"
   },
   {
    "duration": 3,
    "start_time": "2023-04-30T11:40:40.892Z"
   },
   {
    "duration": 4,
    "start_time": "2023-04-30T11:41:00.984Z"
   },
   {
    "duration": 3,
    "start_time": "2023-04-30T11:41:01.364Z"
   },
   {
    "duration": 3,
    "start_time": "2023-04-30T11:41:01.733Z"
   },
   {
    "duration": 4,
    "start_time": "2023-04-30T11:43:37.512Z"
   },
   {
    "duration": 4,
    "start_time": "2023-04-30T11:43:52.455Z"
   },
   {
    "duration": 3,
    "start_time": "2023-04-30T11:43:52.855Z"
   },
   {
    "duration": 968,
    "start_time": "2023-04-30T11:49:51.036Z"
   },
   {
    "duration": 2086,
    "start_time": "2023-04-30T11:49:59.459Z"
   },
   {
    "duration": 10,
    "start_time": "2023-04-30T11:50:54.794Z"
   },
   {
    "duration": 12,
    "start_time": "2023-04-30T11:51:06.882Z"
   },
   {
    "duration": 2122,
    "start_time": "2023-04-30T11:51:21.384Z"
   },
   {
    "duration": 4174,
    "start_time": "2023-04-30T11:51:33.668Z"
   },
   {
    "duration": 0,
    "start_time": "2023-04-30T12:00:31.736Z"
   },
   {
    "duration": 0,
    "start_time": "2023-04-30T12:00:31.772Z"
   },
   {
    "duration": 0,
    "start_time": "2023-04-30T12:00:31.775Z"
   },
   {
    "duration": 0,
    "start_time": "2023-04-30T12:00:31.778Z"
   },
   {
    "duration": 0,
    "start_time": "2023-04-30T12:00:31.781Z"
   },
   {
    "duration": 0,
    "start_time": "2023-04-30T12:00:31.782Z"
   },
   {
    "duration": 2,
    "start_time": "2023-04-30T12:00:36.721Z"
   },
   {
    "duration": 293,
    "start_time": "2023-04-30T12:00:37.065Z"
   },
   {
    "duration": 12,
    "start_time": "2023-04-30T12:00:37.360Z"
   },
   {
    "duration": 8,
    "start_time": "2023-04-30T12:00:38.066Z"
   },
   {
    "duration": 7,
    "start_time": "2023-04-30T12:00:38.534Z"
   },
   {
    "duration": 12,
    "start_time": "2023-04-30T12:00:39.015Z"
   },
   {
    "duration": 12,
    "start_time": "2023-04-30T12:00:39.574Z"
   },
   {
    "duration": 12,
    "start_time": "2023-04-30T12:00:40.148Z"
   },
   {
    "duration": 18,
    "start_time": "2023-04-30T12:00:40.868Z"
   },
   {
    "duration": 96,
    "start_time": "2023-04-30T12:00:41.359Z"
   },
   {
    "duration": 6,
    "start_time": "2023-04-30T12:00:41.858Z"
   },
   {
    "duration": 4,
    "start_time": "2023-04-30T12:00:42.192Z"
   },
   {
    "duration": 3,
    "start_time": "2023-04-30T12:00:42.455Z"
   },
   {
    "duration": 4,
    "start_time": "2023-04-30T12:00:42.695Z"
   },
   {
    "duration": 3,
    "start_time": "2023-04-30T12:00:42.927Z"
   },
   {
    "duration": 3,
    "start_time": "2023-04-30T12:00:43.160Z"
   },
   {
    "duration": 3,
    "start_time": "2023-04-30T12:00:43.396Z"
   },
   {
    "duration": 10,
    "start_time": "2023-04-30T12:00:44.112Z"
   },
   {
    "duration": 9,
    "start_time": "2023-04-30T12:00:56.249Z"
   },
   {
    "duration": 10,
    "start_time": "2023-04-30T12:01:02.912Z"
   },
   {
    "duration": 9,
    "start_time": "2023-04-30T12:01:08.828Z"
   },
   {
    "duration": 9,
    "start_time": "2023-04-30T12:01:17.867Z"
   },
   {
    "duration": 10,
    "start_time": "2023-04-30T12:01:27.094Z"
   },
   {
    "duration": 4084,
    "start_time": "2023-04-30T12:01:34.522Z"
   },
   {
    "duration": 8,
    "start_time": "2023-04-30T12:07:54.138Z"
   },
   {
    "duration": 30,
    "start_time": "2023-04-30T12:08:10.622Z"
   },
   {
    "duration": 74,
    "start_time": "2023-04-30T12:09:50.995Z"
   },
   {
    "duration": 84,
    "start_time": "2023-04-30T12:10:22.259Z"
   },
   {
    "duration": 77,
    "start_time": "2023-04-30T12:10:31.278Z"
   },
   {
    "duration": 76,
    "start_time": "2023-04-30T12:10:36.964Z"
   },
   {
    "duration": 8,
    "start_time": "2023-04-30T12:14:49.123Z"
   },
   {
    "duration": 3,
    "start_time": "2023-04-30T12:15:08.151Z"
   },
   {
    "duration": 166,
    "start_time": "2023-04-30T12:15:12.387Z"
   },
   {
    "duration": 173,
    "start_time": "2023-04-30T12:15:19.828Z"
   },
   {
    "duration": 146,
    "start_time": "2023-04-30T12:15:24.152Z"
   },
   {
    "duration": 133,
    "start_time": "2023-04-30T12:15:56.222Z"
   },
   {
    "duration": 152,
    "start_time": "2023-04-30T12:16:03.726Z"
   },
   {
    "duration": 7,
    "start_time": "2023-04-30T12:17:40.768Z"
   },
   {
    "duration": 4,
    "start_time": "2023-04-30T12:17:47.279Z"
   },
   {
    "duration": 4,
    "start_time": "2023-04-30T12:17:50.053Z"
   },
   {
    "duration": 3,
    "start_time": "2023-04-30T12:18:33.479Z"
   },
   {
    "duration": 4,
    "start_time": "2023-04-30T12:18:33.774Z"
   },
   {
    "duration": 5,
    "start_time": "2023-04-30T12:18:34.038Z"
   },
   {
    "duration": 8,
    "start_time": "2023-04-30T12:19:48.230Z"
   },
   {
    "duration": 347,
    "start_time": "2023-04-30T12:20:06.133Z"
   },
   {
    "duration": 9,
    "start_time": "2023-04-30T12:20:09.532Z"
   },
   {
    "duration": 9,
    "start_time": "2023-04-30T12:20:50.872Z"
   },
   {
    "duration": 10,
    "start_time": "2023-04-30T12:23:38.150Z"
   },
   {
    "duration": 12,
    "start_time": "2023-04-30T12:24:13.699Z"
   },
   {
    "duration": 12,
    "start_time": "2023-04-30T12:24:36.306Z"
   },
   {
    "duration": 11,
    "start_time": "2023-04-30T12:25:20.622Z"
   },
   {
    "duration": 9,
    "start_time": "2023-04-30T12:25:20.889Z"
   },
   {
    "duration": 9,
    "start_time": "2023-04-30T12:25:21.131Z"
   },
   {
    "duration": 73,
    "start_time": "2023-04-30T12:27:51.870Z"
   },
   {
    "duration": 36,
    "start_time": "2023-04-30T12:32:16.169Z"
   },
   {
    "duration": 30,
    "start_time": "2023-04-30T12:32:17.299Z"
   },
   {
    "duration": 2203,
    "start_time": "2023-04-30T15:04:30.760Z"
   },
   {
    "duration": 3764,
    "start_time": "2023-04-30T15:04:32.969Z"
   },
   {
    "duration": 33,
    "start_time": "2023-04-30T15:04:36.734Z"
   },
   {
    "duration": 2,
    "start_time": "2023-04-30T15:04:50.051Z"
   },
   {
    "duration": 547,
    "start_time": "2023-04-30T15:04:50.661Z"
   },
   {
    "duration": 23,
    "start_time": "2023-04-30T15:04:52.155Z"
   },
   {
    "duration": 12,
    "start_time": "2023-04-30T15:04:52.675Z"
   },
   {
    "duration": 15,
    "start_time": "2023-04-30T15:04:53.150Z"
   },
   {
    "duration": 30,
    "start_time": "2023-04-30T15:04:53.634Z"
   },
   {
    "duration": 32,
    "start_time": "2023-04-30T15:04:54.037Z"
   },
   {
    "duration": 23,
    "start_time": "2023-04-30T15:04:54.479Z"
   },
   {
    "duration": 28,
    "start_time": "2023-04-30T15:04:54.947Z"
   },
   {
    "duration": 171,
    "start_time": "2023-04-30T15:04:55.365Z"
   },
   {
    "duration": 17,
    "start_time": "2023-04-30T15:04:55.836Z"
   },
   {
    "duration": 11,
    "start_time": "2023-04-30T15:04:56.212Z"
   },
   {
    "duration": 7,
    "start_time": "2023-04-30T15:04:56.427Z"
   },
   {
    "duration": 4,
    "start_time": "2023-04-30T15:04:56.661Z"
   },
   {
    "duration": 4,
    "start_time": "2023-04-30T15:04:56.879Z"
   },
   {
    "duration": 6,
    "start_time": "2023-04-30T15:04:57.136Z"
   },
   {
    "duration": 10,
    "start_time": "2023-04-30T15:04:57.419Z"
   },
   {
    "duration": 70,
    "start_time": "2023-04-30T15:04:57.552Z"
   },
   {
    "duration": 38,
    "start_time": "2023-04-30T15:04:57.752Z"
   },
   {
    "duration": 87,
    "start_time": "2023-04-30T15:04:57.979Z"
   },
   {
    "duration": 142,
    "start_time": "2023-04-30T15:04:58.175Z"
   },
   {
    "duration": 8,
    "start_time": "2023-04-30T15:04:59.923Z"
   },
   {
    "duration": 4,
    "start_time": "2023-04-30T15:05:00.473Z"
   },
   {
    "duration": 8,
    "start_time": "2023-04-30T15:05:00.862Z"
   },
   {
    "duration": 22,
    "start_time": "2023-04-30T15:05:01.446Z"
   },
   {
    "duration": 29,
    "start_time": "2023-04-30T15:05:01.748Z"
   },
   {
    "duration": 29,
    "start_time": "2023-04-30T15:05:01.982Z"
   },
   {
    "duration": 5,
    "start_time": "2023-04-30T15:07:50.641Z"
   },
   {
    "duration": 42,
    "start_time": "2023-04-30T15:12:52.923Z"
   },
   {
    "duration": 68,
    "start_time": "2023-04-30T15:15:46.139Z"
   },
   {
    "duration": 33,
    "start_time": "2023-04-30T15:15:51.761Z"
   },
   {
    "duration": 25,
    "start_time": "2023-04-30T15:17:44.049Z"
   },
   {
    "duration": 167,
    "start_time": "2023-04-30T15:17:44.452Z"
   },
   {
    "duration": 13,
    "start_time": "2023-04-30T15:18:01.836Z"
   },
   {
    "duration": 14,
    "start_time": "2023-04-30T15:18:08.556Z"
   },
   {
    "duration": 40,
    "start_time": "2023-04-30T15:18:26.530Z"
   },
   {
    "duration": 34,
    "start_time": "2023-04-30T15:18:27.131Z"
   },
   {
    "duration": 22,
    "start_time": "2023-04-30T15:18:48.735Z"
   },
   {
    "duration": 4,
    "start_time": "2023-04-30T15:19:20.442Z"
   },
   {
    "duration": 509,
    "start_time": "2023-04-30T15:19:20.826Z"
   },
   {
    "duration": 28,
    "start_time": "2023-04-30T15:19:21.340Z"
   },
   {
    "duration": 13,
    "start_time": "2023-04-30T15:19:21.373Z"
   },
   {
    "duration": 22,
    "start_time": "2023-04-30T15:19:21.533Z"
   },
   {
    "duration": 33,
    "start_time": "2023-04-30T15:19:21.729Z"
   },
   {
    "duration": 30,
    "start_time": "2023-04-30T15:19:21.928Z"
   },
   {
    "duration": 15,
    "start_time": "2023-04-30T15:19:22.166Z"
   },
   {
    "duration": 41,
    "start_time": "2023-04-30T15:19:22.370Z"
   },
   {
    "duration": 166,
    "start_time": "2023-04-30T15:19:22.577Z"
   },
   {
    "duration": 13,
    "start_time": "2023-04-30T15:19:22.750Z"
   },
   {
    "duration": 5,
    "start_time": "2023-04-30T15:19:22.950Z"
   },
   {
    "duration": 10,
    "start_time": "2023-04-30T15:19:23.144Z"
   },
   {
    "duration": 8,
    "start_time": "2023-04-30T15:19:23.341Z"
   },
   {
    "duration": 12,
    "start_time": "2023-04-30T15:19:23.528Z"
   },
   {
    "duration": 5,
    "start_time": "2023-04-30T15:19:23.722Z"
   },
   {
    "duration": 5,
    "start_time": "2023-04-30T15:19:23.931Z"
   },
   {
    "duration": 49,
    "start_time": "2023-04-30T15:19:24.128Z"
   },
   {
    "duration": 54,
    "start_time": "2023-04-30T15:19:24.278Z"
   },
   {
    "duration": 41,
    "start_time": "2023-04-30T15:19:24.446Z"
   },
   {
    "duration": 108,
    "start_time": "2023-04-30T15:19:24.643Z"
   },
   {
    "duration": 10,
    "start_time": "2023-04-30T15:19:25.235Z"
   },
   {
    "duration": 8,
    "start_time": "2023-04-30T15:19:25.438Z"
   },
   {
    "duration": 12,
    "start_time": "2023-04-30T15:19:25.625Z"
   },
   {
    "duration": 25,
    "start_time": "2023-04-30T15:19:25.818Z"
   },
   {
    "duration": 23,
    "start_time": "2023-04-30T15:19:26.034Z"
   },
   {
    "duration": 25,
    "start_time": "2023-04-30T15:19:26.240Z"
   },
   {
    "duration": 17,
    "start_time": "2023-04-30T15:19:26.644Z"
   },
   {
    "duration": 17,
    "start_time": "2023-04-30T15:19:26.843Z"
   },
   {
    "duration": 2,
    "start_time": "2023-04-30T15:19:32.683Z"
   },
   {
    "duration": 22,
    "start_time": "2023-04-30T15:19:37.743Z"
   },
   {
    "duration": 21,
    "start_time": "2023-04-30T15:20:17.160Z"
   },
   {
    "duration": 31,
    "start_time": "2023-04-30T15:20:38.822Z"
   },
   {
    "duration": 34,
    "start_time": "2023-04-30T15:21:09.342Z"
   },
   {
    "duration": 30,
    "start_time": "2023-04-30T15:21:59.730Z"
   },
   {
    "duration": 48,
    "start_time": "2023-04-30T15:28:46.610Z"
   },
   {
    "duration": 17,
    "start_time": "2023-04-30T15:29:12.545Z"
   },
   {
    "duration": 49,
    "start_time": "2023-04-30T15:32:21.436Z"
   },
   {
    "duration": 15,
    "start_time": "2023-04-30T15:33:49.975Z"
   },
   {
    "duration": 38,
    "start_time": "2023-04-30T15:34:04.837Z"
   },
   {
    "duration": 27,
    "start_time": "2023-04-30T15:34:51.337Z"
   },
   {
    "duration": 13,
    "start_time": "2023-04-30T15:35:55.759Z"
   },
   {
    "duration": 6,
    "start_time": "2023-04-30T15:35:59.828Z"
   },
   {
    "duration": 36,
    "start_time": "2023-04-30T15:36:01.226Z"
   },
   {
    "duration": 12,
    "start_time": "2023-04-30T15:36:02.641Z"
   },
   {
    "duration": 34,
    "start_time": "2023-04-30T15:36:11.987Z"
   },
   {
    "duration": 18,
    "start_time": "2023-04-30T15:36:12.738Z"
   },
   {
    "duration": 32,
    "start_time": "2023-04-30T15:36:31.837Z"
   },
   {
    "duration": 11,
    "start_time": "2023-04-30T15:36:32.316Z"
   },
   {
    "duration": 7,
    "start_time": "2023-04-30T15:43:45.416Z"
   },
   {
    "duration": 8,
    "start_time": "2023-04-30T15:44:41.649Z"
   },
   {
    "duration": 4,
    "start_time": "2023-04-30T15:44:46.980Z"
   },
   {
    "duration": 4,
    "start_time": "2023-04-30T15:44:55.386Z"
   },
   {
    "duration": 120,
    "start_time": "2023-04-30T15:54:01.163Z"
   },
   {
    "duration": 1653,
    "start_time": "2023-05-01T09:45:45.209Z"
   },
   {
    "duration": 922,
    "start_time": "2023-05-01T09:45:46.864Z"
   },
   {
    "duration": 21,
    "start_time": "2023-05-01T09:45:47.788Z"
   },
   {
    "duration": 4,
    "start_time": "2023-05-01T09:46:04.505Z"
   },
   {
    "duration": 401,
    "start_time": "2023-05-01T09:46:05.434Z"
   },
   {
    "duration": 10,
    "start_time": "2023-05-01T09:46:06.496Z"
   },
   {
    "duration": 10,
    "start_time": "2023-05-01T09:46:07.094Z"
   },
   {
    "duration": 13,
    "start_time": "2023-05-01T09:46:07.583Z"
   },
   {
    "duration": 18,
    "start_time": "2023-05-01T09:46:08.077Z"
   },
   {
    "duration": 16,
    "start_time": "2023-05-01T09:46:08.516Z"
   },
   {
    "duration": 15,
    "start_time": "2023-05-01T09:46:08.949Z"
   },
   {
    "duration": 22,
    "start_time": "2023-05-01T09:46:09.291Z"
   },
   {
    "duration": 138,
    "start_time": "2023-05-01T09:46:09.547Z"
   },
   {
    "duration": 11,
    "start_time": "2023-05-01T09:46:09.777Z"
   },
   {
    "duration": 4,
    "start_time": "2023-05-01T09:46:10.187Z"
   },
   {
    "duration": 4,
    "start_time": "2023-05-01T09:46:10.447Z"
   },
   {
    "duration": 4,
    "start_time": "2023-05-01T09:46:10.647Z"
   },
   {
    "duration": 4,
    "start_time": "2023-05-01T09:46:11.113Z"
   },
   {
    "duration": 4,
    "start_time": "2023-05-01T09:46:11.377Z"
   },
   {
    "duration": 4,
    "start_time": "2023-05-01T09:46:11.595Z"
   },
   {
    "duration": 48,
    "start_time": "2023-05-01T09:46:11.833Z"
   },
   {
    "duration": 37,
    "start_time": "2023-05-01T09:46:12.086Z"
   },
   {
    "duration": 37,
    "start_time": "2023-05-01T09:46:12.356Z"
   },
   {
    "duration": 96,
    "start_time": "2023-05-01T09:46:12.693Z"
   },
   {
    "duration": 5,
    "start_time": "2023-05-01T09:46:14.907Z"
   },
   {
    "duration": 5,
    "start_time": "2023-05-01T09:46:15.190Z"
   },
   {
    "duration": 5,
    "start_time": "2023-05-01T09:46:15.383Z"
   },
   {
    "duration": 13,
    "start_time": "2023-05-01T09:46:15.843Z"
   },
   {
    "duration": 15,
    "start_time": "2023-05-01T09:46:16.107Z"
   },
   {
    "duration": 15,
    "start_time": "2023-05-01T09:46:16.376Z"
   },
   {
    "duration": 27,
    "start_time": "2023-05-01T09:46:31.415Z"
   },
   {
    "duration": 5,
    "start_time": "2023-05-01T09:46:31.808Z"
   },
   {
    "duration": 5,
    "start_time": "2023-05-01T09:46:32.256Z"
   },
   {
    "duration": 15,
    "start_time": "2023-05-01T09:46:32.861Z"
   },
   {
    "duration": 4,
    "start_time": "2023-05-01T09:46:33.184Z"
   },
   {
    "duration": 4,
    "start_time": "2023-05-01T09:46:33.689Z"
   },
   {
    "duration": 15,
    "start_time": "2023-05-01T09:46:34.117Z"
   },
   {
    "duration": 4,
    "start_time": "2023-05-01T09:46:34.358Z"
   },
   {
    "duration": 5,
    "start_time": "2023-05-01T09:46:34.584Z"
   },
   {
    "duration": 3,
    "start_time": "2023-05-01T10:06:59.898Z"
   },
   {
    "duration": 6,
    "start_time": "2023-05-01T10:07:36.558Z"
   },
   {
    "duration": 7,
    "start_time": "2023-05-01T10:07:56.897Z"
   },
   {
    "duration": 8,
    "start_time": "2023-05-01T10:08:17.226Z"
   },
   {
    "duration": 3,
    "start_time": "2023-05-01T10:13:22.011Z"
   },
   {
    "duration": 8,
    "start_time": "2023-05-01T10:14:23.006Z"
   },
   {
    "duration": 8,
    "start_time": "2023-05-01T10:14:34.357Z"
   },
   {
    "duration": 9,
    "start_time": "2023-05-01T10:14:40.822Z"
   },
   {
    "duration": 7,
    "start_time": "2023-05-01T10:15:05.030Z"
   },
   {
    "duration": 8,
    "start_time": "2023-05-01T10:15:49.809Z"
   },
   {
    "duration": 26,
    "start_time": "2023-05-01T10:15:51.113Z"
   },
   {
    "duration": 5,
    "start_time": "2023-05-01T10:15:51.653Z"
   },
   {
    "duration": 9,
    "start_time": "2023-05-01T10:15:52.270Z"
   },
   {
    "duration": 13,
    "start_time": "2023-05-01T10:15:53.645Z"
   },
   {
    "duration": 5,
    "start_time": "2023-05-01T10:15:54.705Z"
   },
   {
    "duration": 9,
    "start_time": "2023-05-01T10:15:55.621Z"
   },
   {
    "duration": 7,
    "start_time": "2023-05-01T10:27:32.040Z"
   },
   {
    "duration": 3,
    "start_time": "2023-05-01T10:30:55.292Z"
   },
   {
    "duration": 5,
    "start_time": "2023-05-01T10:31:02.570Z"
   },
   {
    "duration": 5,
    "start_time": "2023-05-01T10:31:11.428Z"
   },
   {
    "duration": 5,
    "start_time": "2023-05-01T10:31:20.509Z"
   },
   {
    "duration": 5,
    "start_time": "2023-05-01T10:31:38.612Z"
   },
   {
    "duration": 4,
    "start_time": "2023-05-01T10:35:43.252Z"
   },
   {
    "duration": 6,
    "start_time": "2023-05-01T10:37:45.719Z"
   },
   {
    "duration": 6,
    "start_time": "2023-05-01T10:37:53.611Z"
   },
   {
    "duration": 7,
    "start_time": "2023-05-01T10:40:14.986Z"
   },
   {
    "duration": 6,
    "start_time": "2023-05-01T10:40:37.800Z"
   },
   {
    "duration": 7,
    "start_time": "2023-05-01T10:41:23.395Z"
   },
   {
    "duration": 7,
    "start_time": "2023-05-01T10:42:55.702Z"
   },
   {
    "duration": 6,
    "start_time": "2023-05-01T10:43:29.256Z"
   },
   {
    "duration": 4,
    "start_time": "2023-05-01T10:59:02.214Z"
   },
   {
    "duration": 111,
    "start_time": "2023-05-01T10:59:11.235Z"
   },
   {
    "duration": 4,
    "start_time": "2023-05-01T11:09:23.521Z"
   },
   {
    "duration": 4,
    "start_time": "2023-05-01T11:11:33.212Z"
   },
   {
    "duration": 12,
    "start_time": "2023-05-01T11:12:25.545Z"
   },
   {
    "duration": 13,
    "start_time": "2023-05-01T11:12:48.621Z"
   },
   {
    "duration": 6,
    "start_time": "2023-05-01T11:13:00.926Z"
   },
   {
    "duration": 12,
    "start_time": "2023-05-01T11:13:01.404Z"
   },
   {
    "duration": 11,
    "start_time": "2023-05-01T11:13:24.016Z"
   },
   {
    "duration": 15,
    "start_time": "2023-05-01T11:13:31.212Z"
   },
   {
    "duration": 14,
    "start_time": "2023-05-01T11:13:45.735Z"
   },
   {
    "duration": 15,
    "start_time": "2023-05-01T11:13:49.506Z"
   },
   {
    "duration": 11,
    "start_time": "2023-05-01T11:14:51.542Z"
   },
   {
    "duration": 11,
    "start_time": "2023-05-01T11:15:00.521Z"
   },
   {
    "duration": 12,
    "start_time": "2023-05-01T11:15:11.251Z"
   },
   {
    "duration": 12,
    "start_time": "2023-05-01T11:15:17.096Z"
   },
   {
    "duration": 12,
    "start_time": "2023-05-01T11:15:28.928Z"
   },
   {
    "duration": 4,
    "start_time": "2023-05-01T11:16:33.787Z"
   },
   {
    "duration": 7,
    "start_time": "2023-05-01T11:16:40.496Z"
   },
   {
    "duration": 8,
    "start_time": "2023-05-01T11:16:41.327Z"
   },
   {
    "duration": 8,
    "start_time": "2023-05-01T11:16:41.617Z"
   },
   {
    "duration": 4,
    "start_time": "2023-05-01T11:23:38.353Z"
   },
   {
    "duration": 4,
    "start_time": "2023-05-01T11:28:34.826Z"
   },
   {
    "duration": 3,
    "start_time": "2023-05-01T11:28:41.738Z"
   },
   {
    "duration": 5,
    "start_time": "2023-05-01T11:29:06.933Z"
   },
   {
    "duration": 3,
    "start_time": "2023-05-01T11:31:13.644Z"
   },
   {
    "duration": 3,
    "start_time": "2023-05-01T11:47:37.885Z"
   },
   {
    "duration": 3,
    "start_time": "2023-05-01T11:49:08.808Z"
   },
   {
    "duration": 5,
    "start_time": "2023-05-01T11:49:18.034Z"
   },
   {
    "duration": 3,
    "start_time": "2023-05-01T11:49:18.743Z"
   },
   {
    "duration": 4,
    "start_time": "2023-05-01T11:49:44.501Z"
   },
   {
    "duration": 6,
    "start_time": "2023-05-01T11:49:46.285Z"
   },
   {
    "duration": 7,
    "start_time": "2023-05-01T11:49:46.731Z"
   },
   {
    "duration": 16,
    "start_time": "2023-05-01T11:49:47.016Z"
   },
   {
    "duration": 5,
    "start_time": "2023-05-01T11:49:47.449Z"
   },
   {
    "duration": 5,
    "start_time": "2023-05-01T11:49:47.913Z"
   },
   {
    "duration": 1715,
    "start_time": "2023-05-03T08:03:40.124Z"
   },
   {
    "duration": 1017,
    "start_time": "2023-05-03T08:03:41.842Z"
   },
   {
    "duration": 22,
    "start_time": "2023-05-03T08:03:42.861Z"
   },
   {
    "duration": 14,
    "start_time": "2023-05-03T08:03:42.885Z"
   },
   {
    "duration": 13,
    "start_time": "2023-05-03T08:03:42.901Z"
   },
   {
    "duration": 15,
    "start_time": "2023-05-03T08:03:42.915Z"
   },
   {
    "duration": 13,
    "start_time": "2023-05-03T08:03:42.932Z"
   },
   {
    "duration": 13,
    "start_time": "2023-05-03T08:03:42.946Z"
   },
   {
    "duration": 51,
    "start_time": "2023-05-03T08:03:42.961Z"
   },
   {
    "duration": 145,
    "start_time": "2023-05-03T08:03:43.014Z"
   },
   {
    "duration": 12,
    "start_time": "2023-05-03T08:03:43.162Z"
   },
   {
    "duration": 18,
    "start_time": "2023-05-03T08:03:43.176Z"
   },
   {
    "duration": 6,
    "start_time": "2023-05-03T08:03:43.241Z"
   },
   {
    "duration": 10,
    "start_time": "2023-05-03T08:04:06.362Z"
   },
   {
    "duration": 11,
    "start_time": "2023-05-03T08:04:06.850Z"
   },
   {
    "duration": 10,
    "start_time": "2023-05-03T08:04:07.036Z"
   },
   {
    "duration": 12,
    "start_time": "2023-05-03T08:04:07.221Z"
   },
   {
    "duration": 14,
    "start_time": "2023-05-03T08:04:07.388Z"
   },
   {
    "duration": 14,
    "start_time": "2023-05-03T08:04:07.606Z"
   },
   {
    "duration": 15,
    "start_time": "2023-05-03T08:04:07.783Z"
   },
   {
    "duration": 119,
    "start_time": "2023-05-03T08:04:07.952Z"
   },
   {
    "duration": 188,
    "start_time": "2023-05-03T08:04:08.168Z"
   },
   {
    "duration": 0,
    "start_time": "2023-05-03T08:04:08.359Z"
   },
   {
    "duration": 5,
    "start_time": "2023-05-03T08:04:08.532Z"
   },
   {
    "duration": 4,
    "start_time": "2023-05-03T08:04:08.906Z"
   },
   {
    "duration": 5,
    "start_time": "2023-05-03T08:04:25.571Z"
   },
   {
    "duration": 386,
    "start_time": "2023-05-03T08:04:25.820Z"
   },
   {
    "duration": 10,
    "start_time": "2023-05-03T08:04:26.209Z"
   },
   {
    "duration": 12,
    "start_time": "2023-05-03T08:04:26.312Z"
   },
   {
    "duration": 11,
    "start_time": "2023-05-03T08:04:26.564Z"
   },
   {
    "duration": 21,
    "start_time": "2023-05-03T08:04:26.778Z"
   },
   {
    "duration": 22,
    "start_time": "2023-05-03T08:04:27.026Z"
   },
   {
    "duration": 30,
    "start_time": "2023-05-03T08:04:27.242Z"
   },
   {
    "duration": 20,
    "start_time": "2023-05-03T08:04:27.458Z"
   },
   {
    "duration": 133,
    "start_time": "2023-05-03T08:04:27.652Z"
   },
   {
    "duration": 12,
    "start_time": "2023-05-03T08:04:27.868Z"
   },
   {
    "duration": 4,
    "start_time": "2023-05-03T08:04:28.101Z"
   },
   {
    "duration": 5,
    "start_time": "2023-05-03T08:04:37.391Z"
   },
   {
    "duration": 4,
    "start_time": "2023-05-03T08:04:37.850Z"
   },
   {
    "duration": 3,
    "start_time": "2023-05-03T08:04:38.372Z"
   },
   {
    "duration": 5,
    "start_time": "2023-05-03T08:04:38.810Z"
   },
   {
    "duration": 4,
    "start_time": "2023-05-03T08:04:39.208Z"
   },
   {
    "duration": 48,
    "start_time": "2023-05-03T08:04:39.602Z"
   },
   {
    "duration": 39,
    "start_time": "2023-05-03T08:04:40.282Z"
   },
   {
    "duration": 50,
    "start_time": "2023-05-03T08:04:53.624Z"
   },
   {
    "duration": 100,
    "start_time": "2023-05-03T08:04:54.549Z"
   },
   {
    "duration": 5,
    "start_time": "2023-05-03T08:04:55.506Z"
   },
   {
    "duration": 6,
    "start_time": "2023-05-03T08:04:55.699Z"
   },
   {
    "duration": 5,
    "start_time": "2023-05-03T08:04:55.944Z"
   },
   {
    "duration": 22,
    "start_time": "2023-05-03T08:04:56.237Z"
   },
   {
    "duration": 16,
    "start_time": "2023-05-03T08:04:56.525Z"
   },
   {
    "duration": 16,
    "start_time": "2023-05-03T08:04:56.813Z"
   },
   {
    "duration": 184,
    "start_time": "2023-05-03T08:05:18.015Z"
   },
   {
    "duration": 5,
    "start_time": "2023-05-03T08:05:18.570Z"
   },
   {
    "duration": 7,
    "start_time": "2023-05-03T08:05:19.078Z"
   },
   {
    "duration": 15,
    "start_time": "2023-05-03T08:05:20.279Z"
   },
   {
    "duration": 5,
    "start_time": "2023-05-03T08:05:20.591Z"
   },
   {
    "duration": 8,
    "start_time": "2023-05-03T08:05:20.934Z"
   },
   {
    "duration": 20,
    "start_time": "2023-05-03T08:05:22.045Z"
   },
   {
    "duration": 4,
    "start_time": "2023-05-03T08:05:22.393Z"
   },
   {
    "duration": 6,
    "start_time": "2023-05-03T08:05:22.703Z"
   },
   {
    "duration": 3,
    "start_time": "2023-05-03T08:05:24.934Z"
   },
   {
    "duration": 4,
    "start_time": "2023-05-03T08:07:26.730Z"
   },
   {
    "duration": 6,
    "start_time": "2023-05-03T08:07:37.817Z"
   },
   {
    "duration": 5,
    "start_time": "2023-05-03T08:07:49.259Z"
   },
   {
    "duration": 3,
    "start_time": "2023-05-03T08:09:53.748Z"
   },
   {
    "duration": 3,
    "start_time": "2023-05-03T08:09:54.920Z"
   },
   {
    "duration": 3,
    "start_time": "2023-05-03T08:11:55.843Z"
   },
   {
    "duration": 5,
    "start_time": "2023-05-03T08:16:23.120Z"
   },
   {
    "duration": 351,
    "start_time": "2023-05-03T08:16:23.317Z"
   },
   {
    "duration": 10,
    "start_time": "2023-05-03T08:16:24.723Z"
   },
   {
    "duration": 10,
    "start_time": "2023-05-03T08:16:24.924Z"
   },
   {
    "duration": 10,
    "start_time": "2023-05-03T08:16:25.049Z"
   },
   {
    "duration": 15,
    "start_time": "2023-05-03T08:16:25.201Z"
   },
   {
    "duration": 15,
    "start_time": "2023-05-03T08:16:25.347Z"
   },
   {
    "duration": 14,
    "start_time": "2023-05-03T08:16:25.473Z"
   },
   {
    "duration": 19,
    "start_time": "2023-05-03T08:16:25.644Z"
   },
   {
    "duration": 125,
    "start_time": "2023-05-03T08:16:25.792Z"
   },
   {
    "duration": 12,
    "start_time": "2023-05-03T08:16:25.952Z"
   },
   {
    "duration": 4,
    "start_time": "2023-05-03T08:16:26.116Z"
   },
   {
    "duration": 5,
    "start_time": "2023-05-03T08:16:26.266Z"
   },
   {
    "duration": 5,
    "start_time": "2023-05-03T08:16:26.428Z"
   },
   {
    "duration": 4,
    "start_time": "2023-05-03T08:16:26.581Z"
   },
   {
    "duration": 3,
    "start_time": "2023-05-03T08:16:26.821Z"
   },
   {
    "duration": 4,
    "start_time": "2023-05-03T08:16:26.940Z"
   },
   {
    "duration": 39,
    "start_time": "2023-05-03T08:16:27.076Z"
   },
   {
    "duration": 47,
    "start_time": "2023-05-03T08:16:27.446Z"
   },
   {
    "duration": 37,
    "start_time": "2023-05-03T08:16:27.609Z"
   },
   {
    "duration": 110,
    "start_time": "2023-05-03T08:16:27.763Z"
   },
   {
    "duration": 5,
    "start_time": "2023-05-03T08:16:28.245Z"
   },
   {
    "duration": 5,
    "start_time": "2023-05-03T08:16:28.434Z"
   },
   {
    "duration": 5,
    "start_time": "2023-05-03T08:16:28.585Z"
   },
   {
    "duration": 12,
    "start_time": "2023-05-03T08:16:28.763Z"
   },
   {
    "duration": 12,
    "start_time": "2023-05-03T08:16:29.120Z"
   },
   {
    "duration": 12,
    "start_time": "2023-05-03T08:16:29.282Z"
   },
   {
    "duration": 18,
    "start_time": "2023-05-03T08:16:30.847Z"
   },
   {
    "duration": 5,
    "start_time": "2023-05-03T08:16:31.044Z"
   },
   {
    "duration": 9,
    "start_time": "2023-05-03T08:16:31.230Z"
   },
   {
    "duration": 14,
    "start_time": "2023-05-03T08:16:31.781Z"
   },
   {
    "duration": 6,
    "start_time": "2023-05-03T08:16:31.993Z"
   },
   {
    "duration": 9,
    "start_time": "2023-05-03T08:16:32.130Z"
   },
   {
    "duration": 23,
    "start_time": "2023-05-03T08:16:32.469Z"
   },
   {
    "duration": 4,
    "start_time": "2023-05-03T08:16:32.693Z"
   },
   {
    "duration": 7,
    "start_time": "2023-05-03T08:16:32.802Z"
   },
   {
    "duration": 5,
    "start_time": "2023-05-03T08:16:33.715Z"
   },
   {
    "duration": 8,
    "start_time": "2023-05-03T08:16:33.900Z"
   },
   {
    "duration": 6,
    "start_time": "2023-05-03T08:16:34.065Z"
   },
   {
    "duration": 7,
    "start_time": "2023-05-03T08:16:34.223Z"
   },
   {
    "duration": 4,
    "start_time": "2023-05-03T08:16:34.409Z"
   },
   {
    "duration": 4,
    "start_time": "2023-05-03T08:16:44.616Z"
   },
   {
    "duration": 46,
    "start_time": "2023-05-03T08:17:38.188Z"
   },
   {
    "duration": 52,
    "start_time": "2023-05-03T08:17:48.356Z"
   },
   {
    "duration": 3,
    "start_time": "2023-05-03T08:18:05.777Z"
   },
   {
    "duration": 3,
    "start_time": "2023-05-03T08:20:18.985Z"
   },
   {
    "duration": 13,
    "start_time": "2023-05-03T08:20:39.947Z"
   },
   {
    "duration": 4,
    "start_time": "2023-05-03T08:20:45.036Z"
   },
   {
    "duration": 6,
    "start_time": "2023-05-03T08:22:31.758Z"
   },
   {
    "duration": 7,
    "start_time": "2023-05-03T08:22:35.492Z"
   },
   {
    "duration": 5,
    "start_time": "2023-05-03T08:26:12.715Z"
   },
   {
    "duration": 3,
    "start_time": "2023-05-03T08:26:16.025Z"
   },
   {
    "duration": 12,
    "start_time": "2023-05-03T08:36:13.459Z"
   },
   {
    "duration": 15,
    "start_time": "2023-05-03T08:37:21.143Z"
   },
   {
    "duration": 12,
    "start_time": "2023-05-03T08:37:56.223Z"
   },
   {
    "duration": 4,
    "start_time": "2023-05-03T08:39:24.540Z"
   },
   {
    "duration": 12,
    "start_time": "2023-05-03T08:39:31.898Z"
   },
   {
    "duration": 16,
    "start_time": "2023-05-03T08:40:09.241Z"
   },
   {
    "duration": 7,
    "start_time": "2023-05-03T08:40:48.509Z"
   },
   {
    "duration": 14,
    "start_time": "2023-05-03T08:40:49.371Z"
   },
   {
    "duration": 5,
    "start_time": "2023-05-03T08:41:39.885Z"
   },
   {
    "duration": 14,
    "start_time": "2023-05-03T08:41:40.504Z"
   },
   {
    "duration": 5,
    "start_time": "2023-05-03T08:41:51.648Z"
   },
   {
    "duration": 13,
    "start_time": "2023-05-03T08:41:52.233Z"
   },
   {
    "duration": 6,
    "start_time": "2023-05-03T08:42:25.229Z"
   },
   {
    "duration": 13,
    "start_time": "2023-05-03T08:42:25.860Z"
   },
   {
    "duration": 5,
    "start_time": "2023-05-03T08:46:49.352Z"
   },
   {
    "duration": 14,
    "start_time": "2023-05-03T08:47:30.897Z"
   },
   {
    "duration": 5,
    "start_time": "2023-05-03T08:49:52.572Z"
   },
   {
    "duration": 17,
    "start_time": "2023-05-03T08:50:26.169Z"
   },
   {
    "duration": 5,
    "start_time": "2023-05-03T08:58:09.606Z"
   },
   {
    "duration": 4,
    "start_time": "2023-05-03T08:58:16.249Z"
   },
   {
    "duration": 3,
    "start_time": "2023-05-03T08:58:31.589Z"
   },
   {
    "duration": 5,
    "start_time": "2023-05-03T08:58:40.023Z"
   },
   {
    "duration": 4,
    "start_time": "2023-05-03T08:58:43.074Z"
   },
   {
    "duration": 4,
    "start_time": "2023-05-03T08:58:56.175Z"
   },
   {
    "duration": 4,
    "start_time": "2023-05-03T09:01:15.277Z"
   },
   {
    "duration": 10,
    "start_time": "2023-05-03T09:01:16.346Z"
   },
   {
    "duration": 5,
    "start_time": "2023-05-03T09:01:46.064Z"
   },
   {
    "duration": 10,
    "start_time": "2023-05-03T09:01:46.657Z"
   },
   {
    "duration": 13,
    "start_time": "2023-05-03T09:01:54.523Z"
   },
   {
    "duration": 5,
    "start_time": "2023-05-03T09:02:54.983Z"
   },
   {
    "duration": 11,
    "start_time": "2023-05-03T09:02:55.363Z"
   },
   {
    "duration": 4,
    "start_time": "2023-05-03T09:03:46.347Z"
   },
   {
    "duration": 10,
    "start_time": "2023-05-03T09:03:47.161Z"
   },
   {
    "duration": 4,
    "start_time": "2023-05-03T09:04:25.038Z"
   },
   {
    "duration": 11,
    "start_time": "2023-05-03T09:04:25.518Z"
   },
   {
    "duration": 5,
    "start_time": "2023-05-03T09:04:31.059Z"
   },
   {
    "duration": 5,
    "start_time": "2023-05-03T09:04:34.523Z"
   },
   {
    "duration": 10,
    "start_time": "2023-05-03T09:04:34.853Z"
   },
   {
    "duration": 4,
    "start_time": "2023-05-03T09:05:02.932Z"
   },
   {
    "duration": 9,
    "start_time": "2023-05-03T09:05:03.680Z"
   },
   {
    "duration": 4,
    "start_time": "2023-05-03T09:05:16.263Z"
   },
   {
    "duration": 10,
    "start_time": "2023-05-03T09:05:16.622Z"
   },
   {
    "duration": 4,
    "start_time": "2023-05-03T09:05:41.665Z"
   },
   {
    "duration": 12,
    "start_time": "2023-05-03T09:05:42.131Z"
   },
   {
    "duration": 6,
    "start_time": "2023-05-03T09:06:07.942Z"
   },
   {
    "duration": 4,
    "start_time": "2023-05-03T09:06:11.637Z"
   },
   {
    "duration": 10,
    "start_time": "2023-05-03T09:06:12.448Z"
   },
   {
    "duration": 4,
    "start_time": "2023-05-03T09:06:27.468Z"
   },
   {
    "duration": 14,
    "start_time": "2023-05-03T09:06:27.987Z"
   },
   {
    "duration": 12,
    "start_time": "2023-05-03T09:06:30.293Z"
   },
   {
    "duration": 10,
    "start_time": "2023-05-03T09:06:30.637Z"
   },
   {
    "duration": 7,
    "start_time": "2023-05-03T09:06:33.514Z"
   },
   {
    "duration": 10,
    "start_time": "2023-05-03T09:06:36.882Z"
   },
   {
    "duration": 3,
    "start_time": "2023-05-03T09:07:03.363Z"
   },
   {
    "duration": 5,
    "start_time": "2023-05-03T09:09:07.204Z"
   },
   {
    "duration": 4,
    "start_time": "2023-05-03T09:09:15.754Z"
   },
   {
    "duration": 4,
    "start_time": "2023-05-03T09:09:20.089Z"
   },
   {
    "duration": 10,
    "start_time": "2023-05-03T09:09:20.499Z"
   },
   {
    "duration": 4,
    "start_time": "2023-05-03T09:09:32.287Z"
   },
   {
    "duration": 12,
    "start_time": "2023-05-03T09:09:33.129Z"
   },
   {
    "duration": 5,
    "start_time": "2023-05-03T09:09:38.014Z"
   },
   {
    "duration": 10,
    "start_time": "2023-05-03T09:09:38.726Z"
   },
   {
    "duration": 4,
    "start_time": "2023-05-03T09:09:43.485Z"
   },
   {
    "duration": 10,
    "start_time": "2023-05-03T09:09:43.805Z"
   },
   {
    "duration": 4,
    "start_time": "2023-05-03T09:09:47.670Z"
   },
   {
    "duration": 9,
    "start_time": "2023-05-03T09:09:48.409Z"
   },
   {
    "duration": 5,
    "start_time": "2023-05-03T09:09:57.046Z"
   },
   {
    "duration": 3,
    "start_time": "2023-05-03T09:10:04.963Z"
   },
   {
    "duration": 5,
    "start_time": "2023-05-03T09:10:55.818Z"
   },
   {
    "duration": 6,
    "start_time": "2023-05-03T09:10:56.025Z"
   },
   {
    "duration": 6,
    "start_time": "2023-05-03T09:10:56.209Z"
   },
   {
    "duration": 12,
    "start_time": "2023-05-03T09:10:56.392Z"
   },
   {
    "duration": 3,
    "start_time": "2023-05-03T09:10:56.564Z"
   },
   {
    "duration": 6,
    "start_time": "2023-05-03T09:10:57.490Z"
   },
   {
    "duration": 4,
    "start_time": "2023-05-03T09:10:58.319Z"
   },
   {
    "duration": 12,
    "start_time": "2023-05-03T09:10:58.587Z"
   },
   {
    "duration": 4,
    "start_time": "2023-05-03T09:11:16.966Z"
   },
   {
    "duration": 6,
    "start_time": "2023-05-03T09:11:18.417Z"
   },
   {
    "duration": 7,
    "start_time": "2023-05-03T09:11:19.932Z"
   },
   {
    "duration": 13,
    "start_time": "2023-05-03T09:11:20.521Z"
   },
   {
    "duration": 4,
    "start_time": "2023-05-03T09:11:57.890Z"
   },
   {
    "duration": 10,
    "start_time": "2023-05-03T09:11:58.316Z"
   },
   {
    "duration": 6,
    "start_time": "2023-05-03T09:13:34.445Z"
   },
   {
    "duration": 8,
    "start_time": "2023-05-03T09:13:35.018Z"
   },
   {
    "duration": 8,
    "start_time": "2023-05-03T09:13:35.402Z"
   },
   {
    "duration": 9,
    "start_time": "2023-05-03T09:13:36.234Z"
   },
   {
    "duration": 4,
    "start_time": "2023-05-03T09:13:36.789Z"
   },
   {
    "duration": 5,
    "start_time": "2023-05-03T09:13:37.836Z"
   },
   {
    "duration": 5,
    "start_time": "2023-05-03T09:13:39.086Z"
   },
   {
    "duration": 10,
    "start_time": "2023-05-03T09:13:39.728Z"
   },
   {
    "duration": 12,
    "start_time": "2023-05-03T09:14:29.790Z"
   },
   {
    "duration": 13,
    "start_time": "2023-05-03T09:14:30.241Z"
   },
   {
    "duration": 7,
    "start_time": "2023-05-03T09:14:32.996Z"
   },
   {
    "duration": 11,
    "start_time": "2023-05-03T09:14:33.342Z"
   },
   {
    "duration": 3,
    "start_time": "2023-05-03T09:14:35.712Z"
   },
   {
    "duration": 14,
    "start_time": "2023-05-03T09:14:36.104Z"
   },
   {
    "duration": 11,
    "start_time": "2023-05-03T09:16:27.838Z"
   },
   {
    "duration": 21,
    "start_time": "2023-05-03T09:16:28.889Z"
   },
   {
    "duration": 11,
    "start_time": "2023-05-03T09:16:33.910Z"
   },
   {
    "duration": 9,
    "start_time": "2023-05-03T09:18:49.394Z"
   },
   {
    "duration": 5,
    "start_time": "2023-05-03T09:18:53.620Z"
   },
   {
    "duration": 4,
    "start_time": "2023-05-03T09:19:02.665Z"
   },
   {
    "duration": 4,
    "start_time": "2023-05-03T09:19:49.009Z"
   },
   {
    "duration": 4,
    "start_time": "2023-05-03T09:20:06.967Z"
   },
   {
    "duration": 3,
    "start_time": "2023-05-03T09:20:55.853Z"
   },
   {
    "duration": 6,
    "start_time": "2023-05-03T09:21:05.714Z"
   },
   {
    "duration": 5,
    "start_time": "2023-05-03T09:21:09.338Z"
   },
   {
    "duration": 5,
    "start_time": "2023-05-03T09:21:15.368Z"
   },
   {
    "duration": 5,
    "start_time": "2023-05-03T09:21:17.946Z"
   },
   {
    "duration": 8,
    "start_time": "2023-05-03T09:21:21.191Z"
   },
   {
    "duration": 8,
    "start_time": "2023-05-03T09:21:29.494Z"
   },
   {
    "duration": 5,
    "start_time": "2023-05-03T09:21:49.127Z"
   },
   {
    "duration": 3,
    "start_time": "2023-05-03T09:21:54.942Z"
   },
   {
    "duration": 4,
    "start_time": "2023-05-03T09:22:13.963Z"
   },
   {
    "duration": 4,
    "start_time": "2023-05-03T09:22:22.214Z"
   },
   {
    "duration": 6,
    "start_time": "2023-05-03T09:23:03.786Z"
   },
   {
    "duration": 6,
    "start_time": "2023-05-03T09:23:31.212Z"
   },
   {
    "duration": 10,
    "start_time": "2023-05-03T09:23:31.536Z"
   },
   {
    "duration": 13,
    "start_time": "2023-05-03T09:23:31.940Z"
   },
   {
    "duration": 11,
    "start_time": "2023-05-03T09:23:32.525Z"
   },
   {
    "duration": 5,
    "start_time": "2023-05-03T09:23:40.321Z"
   },
   {
    "duration": 9,
    "start_time": "2023-05-03T09:23:40.523Z"
   },
   {
    "duration": 8,
    "start_time": "2023-05-03T09:23:40.715Z"
   },
   {
    "duration": 8,
    "start_time": "2023-05-03T09:23:40.902Z"
   },
   {
    "duration": 5,
    "start_time": "2023-05-03T09:23:41.086Z"
   },
   {
    "duration": 5,
    "start_time": "2023-05-03T09:23:41.240Z"
   },
   {
    "duration": 5,
    "start_time": "2023-05-03T09:23:41.433Z"
   },
   {
    "duration": 13,
    "start_time": "2023-05-03T09:23:41.608Z"
   },
   {
    "duration": 12,
    "start_time": "2023-05-03T09:23:41.955Z"
   },
   {
    "duration": 14,
    "start_time": "2023-05-03T09:23:42.377Z"
   },
   {
    "duration": 11,
    "start_time": "2023-05-03T09:30:11.217Z"
   },
   {
    "duration": 11,
    "start_time": "2023-05-03T09:30:12.710Z"
   },
   {
    "duration": 16,
    "start_time": "2023-05-03T09:30:13.910Z"
   },
   {
    "duration": 6,
    "start_time": "2023-05-03T09:30:30.395Z"
   },
   {
    "duration": 13,
    "start_time": "2023-05-03T09:30:30.947Z"
   },
   {
    "duration": 13,
    "start_time": "2023-05-03T09:30:48.106Z"
   },
   {
    "duration": 15,
    "start_time": "2023-05-03T09:30:48.989Z"
   },
   {
    "duration": 5,
    "start_time": "2023-05-03T09:31:02.366Z"
   },
   {
    "duration": 10,
    "start_time": "2023-05-03T09:31:02.923Z"
   },
   {
    "duration": 16,
    "start_time": "2023-05-03T09:31:03.601Z"
   },
   {
    "duration": 13,
    "start_time": "2023-05-03T09:31:04.008Z"
   },
   {
    "duration": 5,
    "start_time": "2023-05-03T09:31:12.709Z"
   },
   {
    "duration": 13,
    "start_time": "2023-05-03T09:31:12.995Z"
   },
   {
    "duration": 29,
    "start_time": "2023-05-03T09:31:13.191Z"
   },
   {
    "duration": 10,
    "start_time": "2023-05-03T09:31:13.428Z"
   },
   {
    "duration": 6,
    "start_time": "2023-05-03T09:32:07.265Z"
   },
   {
    "duration": 8,
    "start_time": "2023-05-03T09:32:07.730Z"
   },
   {
    "duration": 8,
    "start_time": "2023-05-03T09:32:08.337Z"
   },
   {
    "duration": 9,
    "start_time": "2023-05-03T09:32:08.694Z"
   },
   {
    "duration": 8,
    "start_time": "2023-05-03T09:32:08.995Z"
   },
   {
    "duration": 4,
    "start_time": "2023-05-03T09:32:09.241Z"
   },
   {
    "duration": 3,
    "start_time": "2023-05-03T09:32:10.653Z"
   },
   {
    "duration": 12,
    "start_time": "2023-05-03T09:32:11.841Z"
   },
   {
    "duration": 9,
    "start_time": "2023-05-03T09:32:12.647Z"
   },
   {
    "duration": 11,
    "start_time": "2023-05-03T09:32:12.989Z"
   },
   {
    "duration": 4,
    "start_time": "2023-05-03T09:32:19.753Z"
   },
   {
    "duration": 11,
    "start_time": "2023-05-03T09:32:20.245Z"
   },
   {
    "duration": 16,
    "start_time": "2023-05-03T09:32:20.895Z"
   },
   {
    "duration": 11,
    "start_time": "2023-05-03T09:32:21.605Z"
   },
   {
    "duration": 4,
    "start_time": "2023-05-03T09:32:27.961Z"
   },
   {
    "duration": 9,
    "start_time": "2023-05-03T09:32:28.350Z"
   },
   {
    "duration": 10,
    "start_time": "2023-05-03T09:32:28.703Z"
   },
   {
    "duration": 12,
    "start_time": "2023-05-03T09:32:29.251Z"
   },
   {
    "duration": 4,
    "start_time": "2023-05-03T09:32:37.806Z"
   },
   {
    "duration": 13,
    "start_time": "2023-05-03T09:32:38.104Z"
   },
   {
    "duration": 19,
    "start_time": "2023-05-03T09:32:38.290Z"
   },
   {
    "duration": 12,
    "start_time": "2023-05-03T09:32:38.535Z"
   },
   {
    "duration": 6,
    "start_time": "2023-05-03T09:32:43.052Z"
   },
   {
    "duration": 7,
    "start_time": "2023-05-03T09:32:43.345Z"
   },
   {
    "duration": 8,
    "start_time": "2023-05-03T09:32:43.571Z"
   },
   {
    "duration": 7,
    "start_time": "2023-05-03T09:32:43.752Z"
   },
   {
    "duration": 4,
    "start_time": "2023-05-03T09:32:43.935Z"
   },
   {
    "duration": 4,
    "start_time": "2023-05-03T09:32:44.121Z"
   },
   {
    "duration": 4,
    "start_time": "2023-05-03T09:32:44.288Z"
   },
   {
    "duration": 13,
    "start_time": "2023-05-03T09:32:44.498Z"
   },
   {
    "duration": 11,
    "start_time": "2023-05-03T09:32:44.655Z"
   },
   {
    "duration": 11,
    "start_time": "2023-05-03T09:32:44.817Z"
   },
   {
    "duration": 1977,
    "start_time": "2023-05-03T11:32:40.443Z"
   },
   {
    "duration": 1891,
    "start_time": "2023-05-03T11:32:42.428Z"
   },
   {
    "duration": 20,
    "start_time": "2023-05-03T11:32:44.327Z"
   },
   {
    "duration": 16,
    "start_time": "2023-05-03T11:32:44.350Z"
   },
   {
    "duration": 23,
    "start_time": "2023-05-03T11:32:44.368Z"
   },
   {
    "duration": 41,
    "start_time": "2023-05-03T11:32:44.393Z"
   },
   {
    "duration": 17,
    "start_time": "2023-05-03T11:32:44.439Z"
   },
   {
    "duration": 32,
    "start_time": "2023-05-03T11:32:44.458Z"
   },
   {
    "duration": 54,
    "start_time": "2023-05-03T11:32:44.493Z"
   },
   {
    "duration": 217,
    "start_time": "2023-05-03T11:32:44.551Z"
   },
   {
    "duration": 16,
    "start_time": "2023-05-03T11:32:44.770Z"
   },
   {
    "duration": 15,
    "start_time": "2023-05-03T11:32:44.788Z"
   },
   {
    "duration": 42,
    "start_time": "2023-05-03T11:32:44.804Z"
   },
   {
    "duration": 15,
    "start_time": "2023-05-03T11:32:44.849Z"
   },
   {
    "duration": 10,
    "start_time": "2023-05-03T11:32:44.866Z"
   },
   {
    "duration": 20,
    "start_time": "2023-05-03T11:32:44.878Z"
   },
   {
    "duration": 5,
    "start_time": "2023-05-03T11:32:45.751Z"
   },
   {
    "duration": 44,
    "start_time": "2023-05-03T11:32:46.346Z"
   },
   {
    "duration": 53,
    "start_time": "2023-05-03T11:32:46.948Z"
   },
   {
    "duration": 55,
    "start_time": "2023-05-03T11:32:47.512Z"
   },
   {
    "duration": 120,
    "start_time": "2023-05-03T11:32:47.781Z"
   },
   {
    "duration": 6,
    "start_time": "2023-05-03T11:32:48.312Z"
   },
   {
    "duration": 7,
    "start_time": "2023-05-03T11:32:48.470Z"
   },
   {
    "duration": 7,
    "start_time": "2023-05-03T11:32:48.611Z"
   },
   {
    "duration": 21,
    "start_time": "2023-05-03T11:32:48.765Z"
   },
   {
    "duration": 20,
    "start_time": "2023-05-03T11:32:48.941Z"
   },
   {
    "duration": 20,
    "start_time": "2023-05-03T11:32:49.079Z"
   },
   {
    "duration": 68,
    "start_time": "2023-05-03T11:32:58.355Z"
   },
   {
    "duration": 9,
    "start_time": "2023-05-03T11:32:58.631Z"
   },
   {
    "duration": 11,
    "start_time": "2023-05-03T11:32:58.920Z"
   },
   {
    "duration": 20,
    "start_time": "2023-05-03T11:32:59.439Z"
   },
   {
    "duration": 11,
    "start_time": "2023-05-03T11:32:59.712Z"
   },
   {
    "duration": 12,
    "start_time": "2023-05-03T11:32:59.927Z"
   },
   {
    "duration": 14,
    "start_time": "2023-05-03T11:33:00.439Z"
   },
   {
    "duration": 6,
    "start_time": "2023-05-03T11:33:00.875Z"
   },
   {
    "duration": 10,
    "start_time": "2023-05-03T11:33:01.070Z"
   },
   {
    "duration": 9,
    "start_time": "2023-05-03T11:33:03.016Z"
   },
   {
    "duration": 7,
    "start_time": "2023-05-03T11:33:03.398Z"
   },
   {
    "duration": 8,
    "start_time": "2023-05-03T11:33:04.566Z"
   },
   {
    "duration": 13,
    "start_time": "2023-05-03T11:33:05.213Z"
   },
   {
    "duration": 7,
    "start_time": "2023-05-03T11:33:07.352Z"
   },
   {
    "duration": 7,
    "start_time": "2023-05-03T11:33:07.908Z"
   },
   {
    "duration": 12,
    "start_time": "2023-05-03T11:33:08.535Z"
   },
   {
    "duration": 14,
    "start_time": "2023-05-03T11:33:08.947Z"
   },
   {
    "duration": 12,
    "start_time": "2023-05-03T11:33:10.126Z"
   },
   {
    "duration": 14,
    "start_time": "2023-05-03T11:33:16.934Z"
   },
   {
    "duration": 4,
    "start_time": "2023-05-03T11:33:17.270Z"
   },
   {
    "duration": 4,
    "start_time": "2023-05-03T11:33:51.143Z"
   },
   {
    "duration": 186,
    "start_time": "2023-05-03T11:34:06.146Z"
   },
   {
    "duration": 4,
    "start_time": "2023-05-03T11:34:16.918Z"
   },
   {
    "duration": 14,
    "start_time": "2023-05-03T11:34:17.337Z"
   },
   {
    "duration": 4,
    "start_time": "2023-05-03T11:35:16.612Z"
   },
   {
    "duration": 14,
    "start_time": "2023-05-03T11:35:17.073Z"
   },
   {
    "duration": 4,
    "start_time": "2023-05-03T11:35:52.564Z"
   },
   {
    "duration": 13,
    "start_time": "2023-05-03T11:35:53.198Z"
   },
   {
    "duration": 7,
    "start_time": "2023-05-03T11:36:39.748Z"
   },
   {
    "duration": 28,
    "start_time": "2023-05-03T11:36:40.104Z"
   },
   {
    "duration": 6,
    "start_time": "2023-05-03T11:36:43.745Z"
   },
   {
    "duration": 13,
    "start_time": "2023-05-03T11:36:44.078Z"
   },
   {
    "duration": 6,
    "start_time": "2023-05-03T11:36:48.970Z"
   },
   {
    "duration": 16,
    "start_time": "2023-05-03T11:36:49.713Z"
   },
   {
    "duration": 4,
    "start_time": "2023-05-03T11:37:20.813Z"
   },
   {
    "duration": 13,
    "start_time": "2023-05-03T11:37:21.515Z"
   },
   {
    "duration": 13,
    "start_time": "2023-05-03T11:37:21.759Z"
   },
   {
    "duration": 22,
    "start_time": "2023-05-03T11:37:22.840Z"
   },
   {
    "duration": 188,
    "start_time": "2023-05-03T11:39:09.608Z"
   },
   {
    "duration": 5,
    "start_time": "2023-05-03T11:41:16.008Z"
   },
   {
    "duration": 305,
    "start_time": "2023-05-03T11:41:23.640Z"
   },
   {
    "duration": 164,
    "start_time": "2023-05-03T11:41:40.651Z"
   },
   {
    "duration": 183,
    "start_time": "2023-05-03T11:42:00.013Z"
   },
   {
    "duration": 30,
    "start_time": "2023-05-03T11:42:39.250Z"
   },
   {
    "duration": 10,
    "start_time": "2023-05-03T11:44:34.204Z"
   },
   {
    "duration": 25,
    "start_time": "2023-05-03T11:45:14.711Z"
   },
   {
    "duration": 30,
    "start_time": "2023-05-03T11:45:38.136Z"
   },
   {
    "duration": 31,
    "start_time": "2023-05-03T11:46:22.434Z"
   },
   {
    "duration": 236,
    "start_time": "2023-05-03T11:46:31.107Z"
   },
   {
    "duration": 9,
    "start_time": "2023-05-03T11:46:44.702Z"
   },
   {
    "duration": 8,
    "start_time": "2023-05-03T11:47:34.750Z"
   },
   {
    "duration": 7,
    "start_time": "2023-05-03T11:48:00.204Z"
   },
   {
    "duration": 24,
    "start_time": "2023-05-03T11:48:15.405Z"
   },
   {
    "duration": 8,
    "start_time": "2023-05-03T11:48:55.205Z"
   },
   {
    "duration": 1677,
    "start_time": "2023-05-03T11:48:56.004Z"
   },
   {
    "duration": 1374,
    "start_time": "2023-05-03T11:49:00.302Z"
   },
   {
    "duration": 7,
    "start_time": "2023-05-03T11:49:11.216Z"
   },
   {
    "duration": 1946,
    "start_time": "2023-05-03T11:49:12.561Z"
   },
   {
    "duration": 12,
    "start_time": "2023-05-03T11:49:26.410Z"
   },
   {
    "duration": 33,
    "start_time": "2023-05-03T11:49:27.629Z"
   },
   {
    "duration": 5,
    "start_time": "2023-05-03T11:52:16.149Z"
   },
   {
    "duration": 18,
    "start_time": "2023-05-03T11:52:16.507Z"
   },
   {
    "duration": 11,
    "start_time": "2023-05-03T11:52:16.749Z"
   },
   {
    "duration": 13,
    "start_time": "2023-05-03T11:52:17.302Z"
   },
   {
    "duration": 8,
    "start_time": "2023-05-03T11:52:18.203Z"
   },
   {
    "duration": 22,
    "start_time": "2023-05-03T11:52:21.138Z"
   },
   {
    "duration": 1760,
    "start_time": "2023-05-03T20:16:26.079Z"
   },
   {
    "duration": 1513,
    "start_time": "2023-05-03T20:16:27.842Z"
   },
   {
    "duration": 19,
    "start_time": "2023-05-03T20:16:29.357Z"
   },
   {
    "duration": 13,
    "start_time": "2023-05-03T20:16:29.379Z"
   },
   {
    "duration": 16,
    "start_time": "2023-05-03T20:16:29.394Z"
   },
   {
    "duration": 36,
    "start_time": "2023-05-03T20:16:29.412Z"
   },
   {
    "duration": 20,
    "start_time": "2023-05-03T20:16:29.450Z"
   },
   {
    "duration": 21,
    "start_time": "2023-05-03T20:16:29.472Z"
   },
   {
    "duration": 35,
    "start_time": "2023-05-03T20:16:29.676Z"
   },
   {
    "duration": 151,
    "start_time": "2023-05-03T20:16:29.821Z"
   },
   {
    "duration": 16,
    "start_time": "2023-05-03T20:16:31.020Z"
   },
   {
    "duration": 6,
    "start_time": "2023-05-03T20:16:31.298Z"
   },
   {
    "duration": 4,
    "start_time": "2023-05-03T20:16:31.978Z"
   },
   {
    "duration": 5,
    "start_time": "2023-05-03T20:16:32.522Z"
   },
   {
    "duration": 5,
    "start_time": "2023-05-03T20:16:32.744Z"
   },
   {
    "duration": 5,
    "start_time": "2023-05-03T20:16:33.253Z"
   },
   {
    "duration": 5,
    "start_time": "2023-05-03T20:16:33.494Z"
   },
   {
    "duration": 52,
    "start_time": "2023-05-03T20:16:34.006Z"
   },
   {
    "duration": 42,
    "start_time": "2023-05-03T20:16:34.289Z"
   },
   {
    "duration": 45,
    "start_time": "2023-05-03T20:16:35.009Z"
   },
   {
    "duration": 121,
    "start_time": "2023-05-03T20:16:35.279Z"
   },
   {
    "duration": 6,
    "start_time": "2023-05-03T20:16:36.279Z"
   },
   {
    "duration": 5,
    "start_time": "2023-05-03T20:16:36.590Z"
   },
   {
    "duration": 7,
    "start_time": "2023-05-03T20:16:36.840Z"
   },
   {
    "duration": 17,
    "start_time": "2023-05-03T20:16:37.074Z"
   },
   {
    "duration": 18,
    "start_time": "2023-05-03T20:16:37.278Z"
   },
   {
    "duration": 18,
    "start_time": "2023-05-03T20:16:37.475Z"
   },
   {
    "duration": 192,
    "start_time": "2023-05-03T20:16:37.845Z"
   },
   {
    "duration": 7,
    "start_time": "2023-05-03T20:16:38.041Z"
   },
   {
    "duration": 9,
    "start_time": "2023-05-03T20:16:38.415Z"
   },
   {
    "duration": 16,
    "start_time": "2023-05-03T20:16:38.978Z"
   },
   {
    "duration": 4,
    "start_time": "2023-05-03T20:16:39.253Z"
   },
   {
    "duration": 7,
    "start_time": "2023-05-03T20:16:40.277Z"
   },
   {
    "duration": 18,
    "start_time": "2023-05-03T20:16:40.287Z"
   },
   {
    "duration": 6,
    "start_time": "2023-05-03T20:16:41.332Z"
   },
   {
    "duration": 16,
    "start_time": "2023-05-03T20:16:41.341Z"
   },
   {
    "duration": 5,
    "start_time": "2023-05-03T20:16:41.385Z"
   },
   {
    "duration": 8,
    "start_time": "2023-05-03T20:16:41.708Z"
   },
   {
    "duration": 8,
    "start_time": "2023-05-03T20:16:42.055Z"
   },
   {
    "duration": 7,
    "start_time": "2023-05-03T20:16:42.269Z"
   },
   {
    "duration": 4,
    "start_time": "2023-05-03T20:16:42.438Z"
   },
   {
    "duration": 5,
    "start_time": "2023-05-03T20:16:42.633Z"
   },
   {
    "duration": 4,
    "start_time": "2023-05-03T20:16:42.832Z"
   },
   {
    "duration": 12,
    "start_time": "2023-05-03T20:16:43.038Z"
   },
   {
    "duration": 11,
    "start_time": "2023-05-03T20:16:43.285Z"
   },
   {
    "duration": 9,
    "start_time": "2023-05-03T20:16:43.588Z"
   },
   {
    "duration": 132,
    "start_time": "2023-05-03T20:16:44.443Z"
   },
   {
    "duration": 21,
    "start_time": "2023-05-03T20:16:47.800Z"
   },
   {
    "duration": 12,
    "start_time": "2023-05-03T20:19:41.167Z"
   },
   {
    "duration": 4,
    "start_time": "2023-05-03T20:22:07.290Z"
   },
   {
    "duration": 10,
    "start_time": "2023-05-03T20:22:07.882Z"
   },
   {
    "duration": 10,
    "start_time": "2023-05-03T20:22:08.415Z"
   },
   {
    "duration": 10,
    "start_time": "2023-05-03T20:22:08.656Z"
   },
   {
    "duration": 5,
    "start_time": "2023-05-03T20:23:09.454Z"
   },
   {
    "duration": 12,
    "start_time": "2023-05-03T20:23:09.982Z"
   },
   {
    "duration": 14,
    "start_time": "2023-05-03T20:23:10.229Z"
   },
   {
    "duration": 13,
    "start_time": "2023-05-03T20:23:11.685Z"
   },
   {
    "duration": 15,
    "start_time": "2023-05-03T20:23:21.780Z"
   },
   {
    "duration": 14,
    "start_time": "2023-05-03T20:31:07.377Z"
   },
   {
    "duration": 17,
    "start_time": "2023-05-03T20:33:13.726Z"
   },
   {
    "duration": 13,
    "start_time": "2023-05-03T20:33:22.006Z"
   },
   {
    "duration": 14,
    "start_time": "2023-05-03T20:33:38.256Z"
   },
   {
    "duration": 13,
    "start_time": "2023-05-03T20:33:43.523Z"
   },
   {
    "duration": 16,
    "start_time": "2023-05-03T20:33:47.756Z"
   },
   {
    "duration": 9,
    "start_time": "2023-05-03T20:35:26.356Z"
   },
   {
    "duration": 7,
    "start_time": "2023-05-03T20:35:43.052Z"
   },
   {
    "duration": 17,
    "start_time": "2023-05-03T20:35:54.428Z"
   },
   {
    "duration": 15,
    "start_time": "2023-05-03T20:36:11.603Z"
   },
   {
    "duration": 23,
    "start_time": "2023-05-03T20:37:39.342Z"
   },
   {
    "duration": 24,
    "start_time": "2023-05-03T20:38:42.344Z"
   },
   {
    "duration": 8,
    "start_time": "2023-05-03T20:38:46.182Z"
   },
   {
    "duration": 26,
    "start_time": "2023-05-03T20:38:51.003Z"
   },
   {
    "duration": 13,
    "start_time": "2023-05-03T20:39:42.381Z"
   },
   {
    "duration": 18,
    "start_time": "2023-05-03T20:39:44.280Z"
   },
   {
    "duration": 21,
    "start_time": "2023-05-03T20:40:55.804Z"
   },
   {
    "duration": 16,
    "start_time": "2023-05-03T20:41:04.889Z"
   },
   {
    "duration": 18,
    "start_time": "2023-05-03T20:41:41.804Z"
   },
   {
    "duration": 23,
    "start_time": "2023-05-03T20:41:47.047Z"
   },
   {
    "duration": 24,
    "start_time": "2023-05-03T20:42:20.973Z"
   },
   {
    "duration": 6,
    "start_time": "2023-05-03T20:42:21.762Z"
   },
   {
    "duration": 26,
    "start_time": "2023-05-03T20:42:37.826Z"
   },
   {
    "duration": 13,
    "start_time": "2023-05-03T20:42:40.076Z"
   },
   {
    "duration": 18,
    "start_time": "2023-05-03T20:42:48.544Z"
   },
   {
    "duration": 8,
    "start_time": "2023-05-03T20:42:49.024Z"
   },
   {
    "duration": 23,
    "start_time": "2023-05-03T20:42:56.207Z"
   },
   {
    "duration": 8,
    "start_time": "2023-05-03T20:42:57.461Z"
   },
   {
    "duration": 17,
    "start_time": "2023-05-03T20:43:07.800Z"
   },
   {
    "duration": 7,
    "start_time": "2023-05-03T20:43:08.816Z"
   },
   {
    "duration": 21,
    "start_time": "2023-05-03T20:45:01.017Z"
   },
   {
    "duration": 7,
    "start_time": "2023-05-03T20:45:02.311Z"
   },
   {
    "duration": 7,
    "start_time": "2023-05-03T20:45:43.167Z"
   },
   {
    "duration": 6,
    "start_time": "2023-05-03T20:45:44.064Z"
   },
   {
    "duration": 20,
    "start_time": "2023-05-03T20:45:59.784Z"
   },
   {
    "duration": 8,
    "start_time": "2023-05-03T20:46:01.305Z"
   },
   {
    "duration": 11,
    "start_time": "2023-05-03T20:46:07.836Z"
   },
   {
    "duration": 5,
    "start_time": "2023-05-03T20:46:08.900Z"
   },
   {
    "duration": 18,
    "start_time": "2023-05-03T20:47:16.953Z"
   },
   {
    "duration": 6,
    "start_time": "2023-05-03T20:47:18.398Z"
   },
   {
    "duration": 3,
    "start_time": "2023-05-03T20:47:42.801Z"
   },
   {
    "duration": 5,
    "start_time": "2023-05-03T20:47:47.533Z"
   },
   {
    "duration": 7,
    "start_time": "2023-05-03T20:47:47.891Z"
   },
   {
    "duration": 13,
    "start_time": "2023-05-03T20:47:53.055Z"
   },
   {
    "duration": 12,
    "start_time": "2023-05-03T20:47:58.930Z"
   },
   {
    "duration": 12,
    "start_time": "2023-05-03T20:55:40.102Z"
   },
   {
    "duration": 11,
    "start_time": "2023-05-03T20:56:04.165Z"
   },
   {
    "duration": 12,
    "start_time": "2023-05-03T20:56:29.569Z"
   },
   {
    "duration": 21,
    "start_time": "2023-05-03T20:56:44.405Z"
   },
   {
    "duration": 32,
    "start_time": "2023-05-03T20:56:51.528Z"
   },
   {
    "duration": 13,
    "start_time": "2023-05-03T20:56:52.613Z"
   },
   {
    "duration": 18,
    "start_time": "2023-05-03T20:56:59.280Z"
   },
   {
    "duration": 6,
    "start_time": "2023-05-03T20:57:00.268Z"
   },
   {
    "duration": 15,
    "start_time": "2023-05-03T20:57:04.493Z"
   },
   {
    "duration": 4,
    "start_time": "2023-05-03T20:58:59.648Z"
   },
   {
    "duration": 17,
    "start_time": "2023-05-03T20:59:47.366Z"
   },
   {
    "duration": 4,
    "start_time": "2023-05-03T21:00:15.160Z"
   },
   {
    "duration": 11,
    "start_time": "2023-05-03T21:00:15.751Z"
   },
   {
    "duration": 9,
    "start_time": "2023-05-03T21:00:16.465Z"
   },
   {
    "duration": 11,
    "start_time": "2023-05-03T21:00:16.983Z"
   },
   {
    "duration": 11,
    "start_time": "2023-05-03T21:00:21.201Z"
   },
   {
    "duration": 5,
    "start_time": "2023-05-03T21:00:24.874Z"
   },
   {
    "duration": 4683,
    "start_time": "2023-05-03T21:00:25.615Z"
   },
   {
    "duration": 4647,
    "start_time": "2023-05-03T21:01:08.908Z"
   },
   {
    "duration": 5,
    "start_time": "2023-05-03T21:02:51.051Z"
   },
   {
    "duration": 9,
    "start_time": "2023-05-03T21:02:51.667Z"
   },
   {
    "duration": 9,
    "start_time": "2023-05-03T21:02:52.514Z"
   },
   {
    "duration": 9,
    "start_time": "2023-05-03T21:02:53.080Z"
   },
   {
    "duration": 4,
    "start_time": "2023-05-03T21:02:59.000Z"
   },
   {
    "duration": 11,
    "start_time": "2023-05-03T21:02:59.288Z"
   },
   {
    "duration": 8,
    "start_time": "2023-05-03T21:02:59.912Z"
   },
   {
    "duration": 9,
    "start_time": "2023-05-03T21:03:00.722Z"
   },
   {
    "duration": 3,
    "start_time": "2023-05-03T21:03:05.164Z"
   },
   {
    "duration": 21,
    "start_time": "2023-05-03T21:03:05.626Z"
   },
   {
    "duration": 8,
    "start_time": "2023-05-03T21:03:05.823Z"
   },
   {
    "duration": 9,
    "start_time": "2023-05-03T21:03:06.548Z"
   },
   {
    "duration": 14,
    "start_time": "2023-05-03T21:03:08.378Z"
   },
   {
    "duration": 5,
    "start_time": "2023-05-03T21:03:09.064Z"
   },
   {
    "duration": 4718,
    "start_time": "2023-05-03T21:03:10.452Z"
   },
   {
    "duration": 4,
    "start_time": "2023-05-03T21:03:26.292Z"
   },
   {
    "duration": 10,
    "start_time": "2023-05-03T21:03:26.716Z"
   },
   {
    "duration": 10,
    "start_time": "2023-05-03T21:03:27.249Z"
   },
   {
    "duration": 9,
    "start_time": "2023-05-03T21:03:27.824Z"
   },
   {
    "duration": 11,
    "start_time": "2023-05-03T21:05:08.457Z"
   },
   {
    "duration": 8,
    "start_time": "2023-05-03T21:05:28.185Z"
   },
   {
    "duration": 14,
    "start_time": "2023-05-03T21:05:42.289Z"
   },
   {
    "duration": 16,
    "start_time": "2023-05-03T21:05:59.689Z"
   },
   {
    "duration": 13,
    "start_time": "2023-05-03T21:06:31.111Z"
   },
   {
    "duration": 4,
    "start_time": "2023-05-03T21:07:14.074Z"
   },
   {
    "duration": 9,
    "start_time": "2023-05-03T21:07:14.381Z"
   },
   {
    "duration": 9,
    "start_time": "2023-05-03T21:07:14.852Z"
   },
   {
    "duration": 11,
    "start_time": "2023-05-03T21:07:15.264Z"
   },
   {
    "duration": 5,
    "start_time": "2023-05-03T21:08:57.213Z"
   },
   {
    "duration": 13,
    "start_time": "2023-05-03T21:08:57.657Z"
   },
   {
    "duration": 9,
    "start_time": "2023-05-03T21:09:13.772Z"
   },
   {
    "duration": 4,
    "start_time": "2023-05-03T21:09:15.470Z"
   },
   {
    "duration": 8,
    "start_time": "2023-05-03T21:09:15.976Z"
   },
   {
    "duration": 6,
    "start_time": "2023-05-03T21:09:25.854Z"
   },
   {
    "duration": 5069,
    "start_time": "2023-05-03T21:09:26.400Z"
   },
   {
    "duration": 17,
    "start_time": "2023-05-03T21:09:38.765Z"
   },
   {
    "duration": 10,
    "start_time": "2023-05-03T21:12:06.419Z"
   },
   {
    "duration": 4,
    "start_time": "2023-05-03T21:12:13.688Z"
   },
   {
    "duration": 10,
    "start_time": "2023-05-03T21:12:14.215Z"
   },
   {
    "duration": 13,
    "start_time": "2023-05-03T21:12:14.430Z"
   },
   {
    "duration": 11,
    "start_time": "2023-05-03T21:12:14.687Z"
   },
   {
    "duration": 20,
    "start_time": "2023-05-03T21:12:15.687Z"
   },
   {
    "duration": 14,
    "start_time": "2023-05-03T21:12:15.971Z"
   },
   {
    "duration": 14,
    "start_time": "2023-05-03T21:12:57.339Z"
   },
   {
    "duration": 14,
    "start_time": "2023-05-03T21:13:17.644Z"
   },
   {
    "duration": 12,
    "start_time": "2023-05-03T21:13:55.053Z"
   },
   {
    "duration": 14,
    "start_time": "2023-05-03T21:14:13.193Z"
   },
   {
    "duration": 1210,
    "start_time": "2023-05-03T21:14:23.534Z"
   },
   {
    "duration": 6246,
    "start_time": "2023-05-03T21:15:15.601Z"
   },
   {
    "duration": 15,
    "start_time": "2023-05-03T21:16:09.131Z"
   },
   {
    "duration": 17,
    "start_time": "2023-05-03T21:16:15.562Z"
   },
   {
    "duration": 13,
    "start_time": "2023-05-03T21:16:17.706Z"
   },
   {
    "duration": 5855,
    "start_time": "2023-05-03T21:16:26.017Z"
   },
   {
    "duration": 5856,
    "start_time": "2023-05-03T21:17:55.942Z"
   },
   {
    "duration": 6419,
    "start_time": "2023-05-03T21:18:21.449Z"
   },
   {
    "duration": 6336,
    "start_time": "2023-05-03T21:19:19.179Z"
   },
   {
    "duration": 6683,
    "start_time": "2023-05-03T21:21:46.397Z"
   },
   {
    "duration": 5661,
    "start_time": "2023-05-03T21:22:35.765Z"
   },
   {
    "duration": 7118,
    "start_time": "2023-05-03T21:23:40.920Z"
   },
   {
    "duration": 6943,
    "start_time": "2023-05-03T21:24:41.162Z"
   },
   {
    "duration": 4,
    "start_time": "2023-05-03T21:26:35.120Z"
   },
   {
    "duration": 14,
    "start_time": "2023-05-03T21:26:35.559Z"
   },
   {
    "duration": 11,
    "start_time": "2023-05-03T21:26:36.296Z"
   },
   {
    "duration": 12,
    "start_time": "2023-05-03T21:26:36.749Z"
   },
   {
    "duration": 8,
    "start_time": "2023-05-03T21:27:26.486Z"
   },
   {
    "duration": 5,
    "start_time": "2023-05-03T21:27:29.315Z"
   },
   {
    "duration": 12,
    "start_time": "2023-05-03T21:27:29.957Z"
   },
   {
    "duration": 12,
    "start_time": "2023-05-03T21:27:31.187Z"
   },
   {
    "duration": 12,
    "start_time": "2023-05-03T21:27:32.204Z"
   },
   {
    "duration": 6,
    "start_time": "2023-05-03T21:27:37.399Z"
   },
   {
    "duration": 5,
    "start_time": "2023-05-03T21:27:40.882Z"
   },
   {
    "duration": 13,
    "start_time": "2023-05-03T21:27:41.434Z"
   },
   {
    "duration": 13,
    "start_time": "2023-05-03T21:27:41.865Z"
   },
   {
    "duration": 13,
    "start_time": "2023-05-03T21:27:42.537Z"
   },
   {
    "duration": 22,
    "start_time": "2023-05-03T21:28:34.443Z"
   },
   {
    "duration": 6333,
    "start_time": "2023-05-03T21:28:35.378Z"
   },
   {
    "duration": 8410,
    "start_time": "2023-05-03T21:29:17.673Z"
   },
   {
    "duration": 4,
    "start_time": "2023-05-03T21:30:21.338Z"
   },
   {
    "duration": 14,
    "start_time": "2023-05-03T21:30:21.713Z"
   },
   {
    "duration": 13,
    "start_time": "2023-05-03T21:30:22.168Z"
   },
   {
    "duration": 10,
    "start_time": "2023-05-03T21:30:23.125Z"
   },
   {
    "duration": 5686,
    "start_time": "2023-05-03T21:30:29.531Z"
   },
   {
    "duration": 4,
    "start_time": "2023-05-03T21:31:43.848Z"
   },
   {
    "duration": 4,
    "start_time": "2023-05-03T21:31:44.849Z"
   },
   {
    "duration": 4,
    "start_time": "2023-05-03T21:31:46.705Z"
   },
   {
    "duration": 10,
    "start_time": "2023-05-03T21:31:47.240Z"
   },
   {
    "duration": 10,
    "start_time": "2023-05-03T21:31:47.511Z"
   },
   {
    "duration": 9,
    "start_time": "2023-05-03T21:31:47.777Z"
   },
   {
    "duration": 5,
    "start_time": "2023-05-03T21:32:07.885Z"
   },
   {
    "duration": 12,
    "start_time": "2023-05-03T21:32:08.408Z"
   },
   {
    "duration": 9,
    "start_time": "2023-05-03T21:32:08.676Z"
   },
   {
    "duration": 9,
    "start_time": "2023-05-03T21:32:09.557Z"
   },
   {
    "duration": 3,
    "start_time": "2023-05-03T21:32:13.176Z"
   },
   {
    "duration": 8,
    "start_time": "2023-05-03T21:32:13.402Z"
   },
   {
    "duration": 9,
    "start_time": "2023-05-03T21:32:13.620Z"
   },
   {
    "duration": 10,
    "start_time": "2023-05-03T21:32:13.950Z"
   },
   {
    "duration": 4,
    "start_time": "2023-05-03T21:35:41.894Z"
   },
   {
    "duration": 4,
    "start_time": "2023-05-03T21:35:50.892Z"
   },
   {
    "duration": 5,
    "start_time": "2023-05-03T21:40:04.110Z"
   },
   {
    "duration": 5,
    "start_time": "2023-05-03T21:40:24.588Z"
   },
   {
    "duration": 5,
    "start_time": "2023-05-03T21:41:01.427Z"
   },
   {
    "duration": 7,
    "start_time": "2023-05-03T21:42:17.271Z"
   },
   {
    "duration": 3,
    "start_time": "2023-05-03T21:43:44.173Z"
   },
   {
    "duration": 5,
    "start_time": "2023-05-03T21:44:33.238Z"
   },
   {
    "duration": 3,
    "start_time": "2023-05-03T21:44:34.182Z"
   },
   {
    "duration": 1182,
    "start_time": "2023-05-03T21:45:07.485Z"
   },
   {
    "duration": 1104,
    "start_time": "2023-05-03T21:45:11.443Z"
   },
   {
    "duration": 5,
    "start_time": "2023-05-03T21:45:22.625Z"
   },
   {
    "duration": 1349,
    "start_time": "2023-05-03T21:45:23.918Z"
   },
   {
    "duration": 5,
    "start_time": "2023-05-03T21:46:33.306Z"
   },
   {
    "duration": 1164,
    "start_time": "2023-05-03T21:46:33.688Z"
   },
   {
    "duration": 77,
    "start_time": "2023-05-03T21:48:23.413Z"
   },
   {
    "duration": 6,
    "start_time": "2023-05-03T21:48:29.983Z"
   },
   {
    "duration": 6,
    "start_time": "2023-05-03T21:48:37.459Z"
   },
   {
    "duration": 1160,
    "start_time": "2023-05-03T21:48:41.348Z"
   },
   {
    "duration": 5,
    "start_time": "2023-05-03T21:49:01.321Z"
   },
   {
    "duration": 1151,
    "start_time": "2023-05-03T21:49:01.873Z"
   },
   {
    "duration": 6,
    "start_time": "2023-05-03T21:49:59.065Z"
   },
   {
    "duration": 1106,
    "start_time": "2023-05-03T21:49:59.565Z"
   },
   {
    "duration": 8,
    "start_time": "2023-05-03T21:50:43.246Z"
   },
   {
    "duration": 1229,
    "start_time": "2023-05-03T21:50:43.837Z"
   },
   {
    "duration": 6,
    "start_time": "2023-05-03T21:51:11.482Z"
   },
   {
    "duration": 1143,
    "start_time": "2023-05-03T21:51:12.014Z"
   },
   {
    "duration": 3,
    "start_time": "2023-05-03T21:52:50.657Z"
   },
   {
    "duration": 5,
    "start_time": "2023-05-03T21:52:51.213Z"
   },
   {
    "duration": 1278,
    "start_time": "2023-05-03T21:52:52.573Z"
   },
   {
    "duration": 3,
    "start_time": "2023-05-03T21:53:01.698Z"
   },
   {
    "duration": 6,
    "start_time": "2023-05-03T21:53:02.143Z"
   },
   {
    "duration": 1109,
    "start_time": "2023-05-03T21:53:02.976Z"
   },
   {
    "duration": 4,
    "start_time": "2023-05-03T21:53:45.875Z"
   },
   {
    "duration": 5,
    "start_time": "2023-05-03T21:53:46.327Z"
   },
   {
    "duration": 1241,
    "start_time": "2023-05-03T21:53:47.065Z"
   },
   {
    "duration": 6,
    "start_time": "2023-05-03T21:54:48.504Z"
   },
   {
    "duration": 1336,
    "start_time": "2023-05-03T21:54:48.935Z"
   },
   {
    "duration": 6,
    "start_time": "2023-05-03T21:55:38.585Z"
   },
   {
    "duration": 1098,
    "start_time": "2023-05-03T21:55:38.861Z"
   },
   {
    "duration": 4,
    "start_time": "2023-05-03T21:56:34.776Z"
   },
   {
    "duration": 9,
    "start_time": "2023-05-03T21:56:35.308Z"
   },
   {
    "duration": 1117,
    "start_time": "2023-05-03T21:56:35.873Z"
   },
   {
    "duration": 4,
    "start_time": "2023-05-03T21:57:01.158Z"
   },
   {
    "duration": 8,
    "start_time": "2023-05-03T21:57:01.579Z"
   },
   {
    "duration": 1214,
    "start_time": "2023-05-03T21:57:03.196Z"
   },
   {
    "duration": 1360,
    "start_time": "2023-05-03T21:57:25.170Z"
   },
   {
    "duration": 1315,
    "start_time": "2023-05-03T21:57:26.532Z"
   },
   {
    "duration": 5,
    "start_time": "2023-05-03T21:59:05.642Z"
   },
   {
    "duration": 1154,
    "start_time": "2023-05-03T21:59:06.219Z"
   },
   {
    "duration": 1156,
    "start_time": "2023-05-03T21:59:07.375Z"
   },
   {
    "duration": 1105,
    "start_time": "2023-05-03T21:59:08.535Z"
   },
   {
    "duration": 9,
    "start_time": "2023-05-03T21:59:27.860Z"
   },
   {
    "duration": 1210,
    "start_time": "2023-05-03T21:59:28.324Z"
   },
   {
    "duration": 1114,
    "start_time": "2023-05-03T21:59:56.624Z"
   },
   {
    "duration": 1175,
    "start_time": "2023-05-03T21:59:57.740Z"
   },
   {
    "duration": 8,
    "start_time": "2023-05-03T22:00:36.823Z"
   },
   {
    "duration": 1095,
    "start_time": "2023-05-03T22:00:37.826Z"
   },
   {
    "duration": 1214,
    "start_time": "2023-05-03T22:00:40.722Z"
   },
   {
    "duration": 1187,
    "start_time": "2023-05-03T22:00:41.938Z"
   },
   {
    "duration": 10,
    "start_time": "2023-05-03T22:01:39.278Z"
   },
   {
    "duration": 14,
    "start_time": "2023-05-03T22:01:45.993Z"
   },
   {
    "duration": 1690,
    "start_time": "2023-05-04T15:00:33.457Z"
   },
   {
    "duration": 1527,
    "start_time": "2023-05-04T15:00:35.149Z"
   },
   {
    "duration": 14,
    "start_time": "2023-05-04T15:00:36.678Z"
   },
   {
    "duration": 11,
    "start_time": "2023-05-04T15:00:37.973Z"
   },
   {
    "duration": 13,
    "start_time": "2023-05-04T15:00:38.477Z"
   },
   {
    "duration": 22,
    "start_time": "2023-05-04T15:00:39.015Z"
   },
   {
    "duration": 21,
    "start_time": "2023-05-04T15:00:39.470Z"
   },
   {
    "duration": 13,
    "start_time": "2023-05-04T15:00:39.924Z"
   },
   {
    "duration": 20,
    "start_time": "2023-05-04T15:00:40.301Z"
   },
   {
    "duration": 122,
    "start_time": "2023-05-04T15:00:40.705Z"
   },
   {
    "duration": 12,
    "start_time": "2023-05-04T15:00:41.204Z"
   },
   {
    "duration": 4,
    "start_time": "2023-05-04T15:00:41.680Z"
   },
   {
    "duration": 4,
    "start_time": "2023-05-04T15:00:42.537Z"
   },
   {
    "duration": 3,
    "start_time": "2023-05-04T15:00:43.312Z"
   },
   {
    "duration": 4,
    "start_time": "2023-05-04T15:00:43.792Z"
   },
   {
    "duration": 4,
    "start_time": "2023-05-04T15:00:44.227Z"
   },
   {
    "duration": 5,
    "start_time": "2023-05-04T15:00:44.661Z"
   },
   {
    "duration": 45,
    "start_time": "2023-05-04T15:00:45.074Z"
   },
   {
    "duration": 35,
    "start_time": "2023-05-04T15:00:45.516Z"
   },
   {
    "duration": 35,
    "start_time": "2023-05-04T15:00:45.903Z"
   },
   {
    "duration": 88,
    "start_time": "2023-05-04T15:00:46.249Z"
   },
   {
    "duration": 4,
    "start_time": "2023-05-04T15:00:46.926Z"
   },
   {
    "duration": 4,
    "start_time": "2023-05-04T15:00:47.360Z"
   },
   {
    "duration": 5,
    "start_time": "2023-05-04T15:00:48.014Z"
   },
   {
    "duration": 14,
    "start_time": "2023-05-04T15:00:48.256Z"
   },
   {
    "duration": 14,
    "start_time": "2023-05-04T15:00:48.483Z"
   },
   {
    "duration": 14,
    "start_time": "2023-05-04T15:00:48.686Z"
   },
   {
    "duration": 96,
    "start_time": "2023-05-04T15:00:49.056Z"
   },
   {
    "duration": 5,
    "start_time": "2023-05-04T15:00:49.250Z"
   },
   {
    "duration": 8,
    "start_time": "2023-05-04T15:00:49.429Z"
   },
   {
    "duration": 17,
    "start_time": "2023-05-04T15:00:49.790Z"
   },
   {
    "duration": 5,
    "start_time": "2023-05-04T15:00:49.982Z"
   },
   {
    "duration": 8,
    "start_time": "2023-05-04T15:00:50.172Z"
   },
   {
    "duration": 15,
    "start_time": "2023-05-04T15:00:50.566Z"
   },
   {
    "duration": 4,
    "start_time": "2023-05-04T15:00:51.050Z"
   },
   {
    "duration": 8,
    "start_time": "2023-05-04T15:00:51.297Z"
   },
   {
    "duration": 5,
    "start_time": "2023-05-04T15:00:52.513Z"
   },
   {
    "duration": 4,
    "start_time": "2023-05-04T15:00:52.783Z"
   },
   {
    "duration": 4,
    "start_time": "2023-05-04T15:00:53.047Z"
   },
   {
    "duration": 4,
    "start_time": "2023-05-04T15:00:53.295Z"
   },
   {
    "duration": 9,
    "start_time": "2023-05-04T15:00:53.579Z"
   },
   {
    "duration": 10,
    "start_time": "2023-05-04T15:00:53.801Z"
   },
   {
    "duration": 10,
    "start_time": "2023-05-04T15:00:54.049Z"
   },
   {
    "duration": 3,
    "start_time": "2023-05-04T15:01:07.163Z"
   },
   {
    "duration": 10,
    "start_time": "2023-05-04T15:01:07.597Z"
   },
   {
    "duration": 9,
    "start_time": "2023-05-04T15:01:08.320Z"
   },
   {
    "duration": 9,
    "start_time": "2023-05-04T15:01:08.879Z"
   },
   {
    "duration": 3,
    "start_time": "2023-05-04T15:02:29.243Z"
   },
   {
    "duration": 11,
    "start_time": "2023-05-04T15:02:29.998Z"
   },
   {
    "duration": 36,
    "start_time": "2023-05-04T15:02:30.012Z"
   },
   {
    "duration": 10,
    "start_time": "2023-05-04T15:02:31.042Z"
   },
   {
    "duration": 9,
    "start_time": "2023-05-04T15:02:49.335Z"
   },
   {
    "duration": 8,
    "start_time": "2023-05-04T15:02:50.164Z"
   },
   {
    "duration": 9,
    "start_time": "2023-05-04T15:02:50.646Z"
   },
   {
    "duration": 4,
    "start_time": "2023-05-04T15:02:52.034Z"
   },
   {
    "duration": 6,
    "start_time": "2023-05-04T15:02:53.033Z"
   },
   {
    "duration": 1004,
    "start_time": "2023-05-04T15:02:54.838Z"
   },
   {
    "duration": 932,
    "start_time": "2023-05-04T15:02:55.848Z"
   },
   {
    "duration": 949,
    "start_time": "2023-05-04T15:02:56.782Z"
   },
   {
    "duration": 150,
    "start_time": "2023-05-04T15:16:09.764Z"
   },
   {
    "duration": 119,
    "start_time": "2023-05-04T15:27:09.895Z"
   },
   {
    "duration": 11,
    "start_time": "2023-05-04T15:27:14.636Z"
   },
   {
    "duration": 488,
    "start_time": "2023-05-04T15:27:20.820Z"
   },
   {
    "duration": 4,
    "start_time": "2023-05-04T15:27:28.574Z"
   },
   {
    "duration": 127,
    "start_time": "2023-05-04T15:28:12.572Z"
   },
   {
    "duration": 17,
    "start_time": "2023-05-04T15:28:17.847Z"
   },
   {
    "duration": 10,
    "start_time": "2023-05-04T15:28:22.907Z"
   },
   {
    "duration": 4,
    "start_time": "2023-05-04T15:28:49.747Z"
   },
   {
    "duration": 7,
    "start_time": "2023-05-04T15:32:58.926Z"
   },
   {
    "duration": 7,
    "start_time": "2023-05-04T15:33:05.757Z"
   },
   {
    "duration": 6,
    "start_time": "2023-05-04T15:33:10.870Z"
   },
   {
    "duration": 8,
    "start_time": "2023-05-04T15:33:26.538Z"
   },
   {
    "duration": 6,
    "start_time": "2023-05-04T15:34:49.945Z"
   },
   {
    "duration": 6,
    "start_time": "2023-05-04T15:34:57.239Z"
   },
   {
    "duration": 6,
    "start_time": "2023-05-04T15:35:11.074Z"
   },
   {
    "duration": 7,
    "start_time": "2023-05-04T15:35:36.491Z"
   },
   {
    "duration": 7,
    "start_time": "2023-05-04T15:35:46.768Z"
   },
   {
    "duration": 8,
    "start_time": "2023-05-04T15:35:50.974Z"
   },
   {
    "duration": 5,
    "start_time": "2023-05-04T15:36:40.445Z"
   },
   {
    "duration": 7,
    "start_time": "2023-05-04T15:37:16.892Z"
   },
   {
    "duration": 6,
    "start_time": "2023-05-04T15:37:34.157Z"
   },
   {
    "duration": 7,
    "start_time": "2023-05-04T15:38:44.302Z"
   },
   {
    "duration": 4,
    "start_time": "2023-05-04T15:39:00.233Z"
   },
   {
    "duration": 4,
    "start_time": "2023-05-04T15:39:05.651Z"
   },
   {
    "duration": 4,
    "start_time": "2023-05-04T15:39:12.812Z"
   },
   {
    "duration": 121,
    "start_time": "2023-05-04T15:39:42.929Z"
   },
   {
    "duration": 5,
    "start_time": "2023-05-04T15:39:43.796Z"
   },
   {
    "duration": 5,
    "start_time": "2023-05-04T15:39:44.214Z"
   },
   {
    "duration": 12,
    "start_time": "2023-05-04T15:39:49.133Z"
   },
   {
    "duration": 5,
    "start_time": "2023-05-04T15:39:49.638Z"
   },
   {
    "duration": 4,
    "start_time": "2023-05-04T15:39:50.173Z"
   },
   {
    "duration": 6,
    "start_time": "2023-05-04T15:39:50.616Z"
   },
   {
    "duration": 7,
    "start_time": "2023-05-04T15:39:51.221Z"
   },
   {
    "duration": 4,
    "start_time": "2023-05-04T15:45:06.005Z"
   },
   {
    "duration": 3,
    "start_time": "2023-05-04T16:07:54.425Z"
   },
   {
    "duration": 11,
    "start_time": "2023-05-04T16:07:54.783Z"
   },
   {
    "duration": 9,
    "start_time": "2023-05-04T16:07:55.156Z"
   },
   {
    "duration": 9,
    "start_time": "2023-05-04T16:07:55.572Z"
   },
   {
    "duration": 3,
    "start_time": "2023-05-04T16:08:05.142Z"
   },
   {
    "duration": 9,
    "start_time": "2023-05-04T16:08:05.506Z"
   },
   {
    "duration": 8,
    "start_time": "2023-05-04T16:08:05.900Z"
   },
   {
    "duration": 10,
    "start_time": "2023-05-04T16:08:06.357Z"
   },
   {
    "duration": 4,
    "start_time": "2023-05-04T16:08:11.183Z"
   },
   {
    "duration": 9,
    "start_time": "2023-05-04T16:08:11.576Z"
   },
   {
    "duration": 9,
    "start_time": "2023-05-04T16:08:11.780Z"
   },
   {
    "duration": 9,
    "start_time": "2023-05-04T16:08:12.205Z"
   },
   {
    "duration": 5,
    "start_time": "2023-05-04T16:09:12.479Z"
   },
   {
    "duration": 965,
    "start_time": "2023-05-04T16:09:12.862Z"
   },
   {
    "duration": 1023,
    "start_time": "2023-05-04T16:09:13.829Z"
   },
   {
    "duration": 959,
    "start_time": "2023-05-04T16:09:14.853Z"
   },
   {
    "duration": 5,
    "start_time": "2023-05-04T16:12:07.829Z"
   },
   {
    "duration": 948,
    "start_time": "2023-05-04T16:12:08.351Z"
   },
   {
    "duration": 1005,
    "start_time": "2023-05-04T16:12:09.300Z"
   },
   {
    "duration": 977,
    "start_time": "2023-05-04T16:12:10.306Z"
   },
   {
    "duration": 5,
    "start_time": "2023-05-04T16:13:23.535Z"
   },
   {
    "duration": 1064,
    "start_time": "2023-05-04T16:13:24.133Z"
   },
   {
    "duration": 930,
    "start_time": "2023-05-04T16:13:25.199Z"
   },
   {
    "duration": 968,
    "start_time": "2023-05-04T16:13:26.130Z"
   },
   {
    "duration": 8,
    "start_time": "2023-05-04T16:13:47.745Z"
   },
   {
    "duration": 997,
    "start_time": "2023-05-04T16:13:48.189Z"
   },
   {
    "duration": 988,
    "start_time": "2023-05-04T16:13:50.744Z"
   },
   {
    "duration": 993,
    "start_time": "2023-05-04T16:13:51.734Z"
   },
   {
    "duration": 6,
    "start_time": "2023-05-04T16:14:08.720Z"
   },
   {
    "duration": 1013,
    "start_time": "2023-05-04T16:14:09.078Z"
   },
   {
    "duration": 943,
    "start_time": "2023-05-04T16:14:11.077Z"
   },
   {
    "duration": 957,
    "start_time": "2023-05-04T16:14:12.022Z"
   },
   {
    "duration": 3,
    "start_time": "2023-05-04T16:25:59.120Z"
   },
   {
    "duration": 345,
    "start_time": "2023-05-04T16:25:59.288Z"
   },
   {
    "duration": 15,
    "start_time": "2023-05-04T16:25:59.634Z"
   },
   {
    "duration": 11,
    "start_time": "2023-05-04T16:25:59.776Z"
   },
   {
    "duration": 12,
    "start_time": "2023-05-04T16:26:00.000Z"
   },
   {
    "duration": 14,
    "start_time": "2023-05-04T16:26:00.176Z"
   },
   {
    "duration": 14,
    "start_time": "2023-05-04T16:26:00.357Z"
   },
   {
    "duration": 13,
    "start_time": "2023-05-04T16:26:00.539Z"
   },
   {
    "duration": 23,
    "start_time": "2023-05-04T16:26:00.726Z"
   },
   {
    "duration": 123,
    "start_time": "2023-05-04T16:26:01.061Z"
   },
   {
    "duration": 10,
    "start_time": "2023-05-04T16:26:01.440Z"
   },
   {
    "duration": 4,
    "start_time": "2023-05-04T16:26:01.840Z"
   },
   {
    "duration": 4,
    "start_time": "2023-05-04T16:26:02.022Z"
   },
   {
    "duration": 4,
    "start_time": "2023-05-04T16:26:02.209Z"
   },
   {
    "duration": 3,
    "start_time": "2023-05-04T16:26:02.544Z"
   },
   {
    "duration": 4,
    "start_time": "2023-05-04T16:26:02.741Z"
   },
   {
    "duration": 4,
    "start_time": "2023-05-04T16:26:02.931Z"
   },
   {
    "duration": 106,
    "start_time": "2023-05-04T16:26:03.122Z"
   },
   {
    "duration": 5,
    "start_time": "2023-05-04T16:26:03.855Z"
   },
   {
    "duration": 7,
    "start_time": "2023-05-04T16:26:04.060Z"
   },
   {
    "duration": 7,
    "start_time": "2023-05-04T16:26:04.253Z"
   },
   {
    "duration": 15,
    "start_time": "2023-05-04T16:26:04.440Z"
   },
   {
    "duration": 13,
    "start_time": "2023-05-04T16:26:04.679Z"
   },
   {
    "duration": 17,
    "start_time": "2023-05-04T16:26:04.875Z"
   },
   {
    "duration": 25,
    "start_time": "2023-05-04T16:26:05.280Z"
   },
   {
    "duration": 4,
    "start_time": "2023-05-04T16:26:05.451Z"
   },
   {
    "duration": 5,
    "start_time": "2023-05-04T16:26:05.661Z"
   },
   {
    "duration": 18,
    "start_time": "2023-05-04T16:26:06.099Z"
   },
   {
    "duration": 7,
    "start_time": "2023-05-04T16:26:06.254Z"
   },
   {
    "duration": 5,
    "start_time": "2023-05-04T16:26:06.453Z"
   },
   {
    "duration": 16,
    "start_time": "2023-05-04T16:26:06.888Z"
   },
   {
    "duration": 4,
    "start_time": "2023-05-04T16:26:07.099Z"
   },
   {
    "duration": 5,
    "start_time": "2023-05-04T16:26:07.299Z"
   },
   {
    "duration": 6,
    "start_time": "2023-05-04T16:26:07.475Z"
   },
   {
    "duration": 5,
    "start_time": "2023-05-04T16:26:07.700Z"
   },
   {
    "duration": 4,
    "start_time": "2023-05-04T16:26:08.728Z"
   },
   {
    "duration": 3,
    "start_time": "2023-05-04T16:26:08.935Z"
   },
   {
    "duration": 3,
    "start_time": "2023-05-04T16:26:09.120Z"
   },
   {
    "duration": 3,
    "start_time": "2023-05-04T16:26:09.941Z"
   },
   {
    "duration": 9,
    "start_time": "2023-05-04T16:26:10.126Z"
   },
   {
    "duration": 9,
    "start_time": "2023-05-04T16:26:10.335Z"
   },
   {
    "duration": 9,
    "start_time": "2023-05-04T16:26:10.600Z"
   },
   {
    "duration": 3,
    "start_time": "2023-05-04T16:26:11.630Z"
   },
   {
    "duration": 5,
    "start_time": "2023-05-04T16:26:11.816Z"
   },
   {
    "duration": 944,
    "start_time": "2023-05-04T16:26:11.991Z"
   },
   {
    "duration": 988,
    "start_time": "2023-05-04T16:26:12.936Z"
   },
   {
    "duration": 1026,
    "start_time": "2023-05-04T16:26:13.926Z"
   },
   {
    "duration": 6,
    "start_time": "2023-05-04T16:27:08.587Z"
   },
   {
    "duration": 993,
    "start_time": "2023-05-04T16:27:08.924Z"
   },
   {
    "duration": 998,
    "start_time": "2023-05-04T16:27:22.943Z"
   },
   {
    "duration": 1056,
    "start_time": "2023-05-04T16:27:23.943Z"
   },
   {
    "duration": 82,
    "start_time": "2023-05-04T16:30:18.794Z"
   },
   {
    "duration": 62,
    "start_time": "2023-05-04T16:30:46.928Z"
   },
   {
    "duration": 10,
    "start_time": "2023-05-04T16:41:15.888Z"
   },
   {
    "duration": 291,
    "start_time": "2023-05-04T16:43:12.892Z"
   },
   {
    "duration": 300,
    "start_time": "2023-05-04T16:43:44.792Z"
   },
   {
    "duration": 239,
    "start_time": "2023-05-04T16:44:32.476Z"
   },
   {
    "duration": 304,
    "start_time": "2023-05-04T16:45:40.431Z"
   },
   {
    "duration": 255,
    "start_time": "2023-05-04T16:45:48.308Z"
   },
   {
    "duration": 231,
    "start_time": "2023-05-04T16:45:55.687Z"
   },
   {
    "duration": 233,
    "start_time": "2023-05-04T16:46:01.763Z"
   },
   {
    "duration": 236,
    "start_time": "2023-05-04T16:46:10.404Z"
   },
   {
    "duration": 238,
    "start_time": "2023-05-04T16:46:22.612Z"
   },
   {
    "duration": 247,
    "start_time": "2023-05-04T16:46:46.888Z"
   },
   {
    "duration": 243,
    "start_time": "2023-05-04T16:47:15.925Z"
   },
   {
    "duration": 255,
    "start_time": "2023-05-04T16:47:25.529Z"
   },
   {
    "duration": 235,
    "start_time": "2023-05-04T16:47:38.503Z"
   },
   {
    "duration": 234,
    "start_time": "2023-05-04T16:47:46.946Z"
   },
   {
    "duration": 307,
    "start_time": "2023-05-04T16:48:04.988Z"
   },
   {
    "duration": 262,
    "start_time": "2023-05-04T16:48:14.808Z"
   },
   {
    "duration": 225,
    "start_time": "2023-05-04T16:49:01.428Z"
   },
   {
    "duration": 192,
    "start_time": "2023-05-04T16:49:38.000Z"
   },
   {
    "duration": 222,
    "start_time": "2023-05-04T16:50:00.442Z"
   },
   {
    "duration": 195,
    "start_time": "2023-05-04T16:50:20.387Z"
   },
   {
    "duration": 220,
    "start_time": "2023-05-04T16:50:43.135Z"
   },
   {
    "duration": 226,
    "start_time": "2023-05-04T16:50:59.483Z"
   },
   {
    "duration": 232,
    "start_time": "2023-05-04T16:51:08.831Z"
   },
   {
    "duration": 215,
    "start_time": "2023-05-04T16:51:54.798Z"
   },
   {
    "duration": 192,
    "start_time": "2023-05-04T16:52:21.232Z"
   },
   {
    "duration": 223,
    "start_time": "2023-05-04T16:52:33.891Z"
   },
   {
    "duration": 288,
    "start_time": "2023-05-04T16:53:49.907Z"
   },
   {
    "duration": 257,
    "start_time": "2023-05-04T16:55:41.288Z"
   },
   {
    "duration": 251,
    "start_time": "2023-05-04T16:56:53.825Z"
   },
   {
    "duration": 252,
    "start_time": "2023-05-04T16:57:05.224Z"
   },
   {
    "duration": 320,
    "start_time": "2023-05-04T16:57:14.703Z"
   },
   {
    "duration": 248,
    "start_time": "2023-05-04T16:57:40.032Z"
   },
   {
    "duration": 244,
    "start_time": "2023-05-04T16:57:59.372Z"
   },
   {
    "duration": 215,
    "start_time": "2023-05-04T16:58:18.677Z"
   },
   {
    "duration": 218,
    "start_time": "2023-05-04T16:58:36.945Z"
   },
   {
    "duration": 222,
    "start_time": "2023-05-04T16:58:50.162Z"
   },
   {
    "duration": 182,
    "start_time": "2023-05-04T16:59:06.237Z"
   },
   {
    "duration": 311,
    "start_time": "2023-05-04T16:59:20.860Z"
   },
   {
    "duration": 1740,
    "start_time": "2023-05-05T15:24:01.459Z"
   },
   {
    "duration": 2168,
    "start_time": "2023-05-05T15:24:03.201Z"
   },
   {
    "duration": 17,
    "start_time": "2023-05-05T15:24:05.371Z"
   },
   {
    "duration": 12,
    "start_time": "2023-05-05T15:24:05.390Z"
   },
   {
    "duration": 17,
    "start_time": "2023-05-05T15:24:05.404Z"
   },
   {
    "duration": 29,
    "start_time": "2023-05-05T15:24:05.423Z"
   },
   {
    "duration": 16,
    "start_time": "2023-05-05T15:24:05.455Z"
   },
   {
    "duration": 16,
    "start_time": "2023-05-05T15:24:05.472Z"
   },
   {
    "duration": 59,
    "start_time": "2023-05-05T15:24:05.490Z"
   },
   {
    "duration": 167,
    "start_time": "2023-05-05T15:24:05.554Z"
   },
   {
    "duration": 31,
    "start_time": "2023-05-05T15:24:05.722Z"
   },
   {
    "duration": 4,
    "start_time": "2023-05-05T15:24:06.857Z"
   },
   {
    "duration": 5,
    "start_time": "2023-05-05T15:24:07.067Z"
   },
   {
    "duration": 4,
    "start_time": "2023-05-05T15:24:07.316Z"
   },
   {
    "duration": 5,
    "start_time": "2023-05-05T15:24:07.518Z"
   },
   {
    "duration": 4,
    "start_time": "2023-05-05T15:24:07.729Z"
   },
   {
    "duration": 5,
    "start_time": "2023-05-05T15:24:07.939Z"
   },
   {
    "duration": 110,
    "start_time": "2023-05-05T15:24:08.132Z"
   },
   {
    "duration": 6,
    "start_time": "2023-05-05T15:24:09.307Z"
   },
   {
    "duration": 8,
    "start_time": "2023-05-05T15:24:09.450Z"
   },
   {
    "duration": 6,
    "start_time": "2023-05-05T15:24:09.656Z"
   },
   {
    "duration": 19,
    "start_time": "2023-05-05T15:24:09.847Z"
   },
   {
    "duration": 23,
    "start_time": "2023-05-05T15:24:10.035Z"
   },
   {
    "duration": 23,
    "start_time": "2023-05-05T15:24:10.226Z"
   },
   {
    "duration": 92,
    "start_time": "2023-05-05T15:24:10.664Z"
   },
   {
    "duration": 5,
    "start_time": "2023-05-05T15:24:10.856Z"
   },
   {
    "duration": 6,
    "start_time": "2023-05-05T15:24:11.056Z"
   },
   {
    "duration": 15,
    "start_time": "2023-05-05T15:24:11.456Z"
   },
   {
    "duration": 9,
    "start_time": "2023-05-05T15:24:11.658Z"
   },
   {
    "duration": 6,
    "start_time": "2023-05-05T15:24:11.848Z"
   },
   {
    "duration": 15,
    "start_time": "2023-05-05T15:24:12.449Z"
   },
   {
    "duration": 4,
    "start_time": "2023-05-05T15:24:12.682Z"
   },
   {
    "duration": 96,
    "start_time": "2023-05-05T15:24:12.914Z"
   },
   {
    "duration": 322,
    "start_time": "2023-05-05T15:24:13.114Z"
   },
   {
    "duration": 11,
    "start_time": "2023-05-05T15:24:13.445Z"
   },
   {
    "duration": 7,
    "start_time": "2023-05-05T15:24:13.525Z"
   },
   {
    "duration": 14,
    "start_time": "2023-05-05T15:24:13.746Z"
   },
   {
    "duration": 5,
    "start_time": "2023-05-05T15:24:15.211Z"
   },
   {
    "duration": 5,
    "start_time": "2023-05-05T15:24:16.015Z"
   },
   {
    "duration": 5,
    "start_time": "2023-05-05T15:24:16.213Z"
   },
   {
    "duration": 6,
    "start_time": "2023-05-05T15:24:17.549Z"
   },
   {
    "duration": 11,
    "start_time": "2023-05-05T15:24:17.975Z"
   },
   {
    "duration": 10,
    "start_time": "2023-05-05T15:24:18.208Z"
   },
   {
    "duration": 10,
    "start_time": "2023-05-05T15:24:18.381Z"
   },
   {
    "duration": 3,
    "start_time": "2023-05-05T15:24:19.014Z"
   },
   {
    "duration": 8,
    "start_time": "2023-05-05T15:24:19.357Z"
   },
   {
    "duration": 1328,
    "start_time": "2023-05-05T15:24:19.557Z"
   },
   {
    "duration": 1308,
    "start_time": "2023-05-05T15:24:20.887Z"
   },
   {
    "duration": 1427,
    "start_time": "2023-05-05T15:24:22.197Z"
   },
   {
    "duration": 124,
    "start_time": "2023-05-05T15:25:01.404Z"
   },
   {
    "duration": 11,
    "start_time": "2023-05-05T15:25:44.436Z"
   },
   {
    "duration": 1326,
    "start_time": "2023-05-05T15:25:46.859Z"
   },
   {
    "duration": 1368,
    "start_time": "2023-05-05T15:25:49.678Z"
   },
   {
    "duration": 1317,
    "start_time": "2023-05-05T15:25:52.009Z"
   },
   {
    "duration": 5,
    "start_time": "2023-05-05T15:26:22.616Z"
   },
   {
    "duration": 79,
    "start_time": "2023-05-05T15:26:22.623Z"
   },
   {
    "duration": 4,
    "start_time": "2023-05-05T15:27:31.867Z"
   },
   {
    "duration": 3,
    "start_time": "2023-05-05T15:27:51.296Z"
   },
   {
    "duration": 88,
    "start_time": "2023-05-05T15:28:51.318Z"
   },
   {
    "duration": 4,
    "start_time": "2023-05-05T15:31:56.674Z"
   },
   {
    "duration": 95,
    "start_time": "2023-05-05T15:32:46.300Z"
   },
   {
    "duration": 33,
    "start_time": "2023-05-05T15:32:46.738Z"
   },
   {
    "duration": 95,
    "start_time": "2023-05-05T15:34:16.229Z"
   },
   {
    "duration": 14,
    "start_time": "2023-05-05T15:34:17.142Z"
   },
   {
    "duration": 111,
    "start_time": "2023-05-05T15:34:40.035Z"
   },
   {
    "duration": 4,
    "start_time": "2023-05-05T15:34:51.272Z"
   },
   {
    "duration": 21,
    "start_time": "2023-05-05T15:34:52.206Z"
   },
   {
    "duration": 12,
    "start_time": "2023-05-05T15:34:55.425Z"
   },
   {
    "duration": 4,
    "start_time": "2023-05-05T15:35:18.474Z"
   },
   {
    "duration": 13,
    "start_time": "2023-05-05T15:35:19.873Z"
   },
   {
    "duration": 16,
    "start_time": "2023-05-05T15:35:53.827Z"
   },
   {
    "duration": 17,
    "start_time": "2023-05-05T15:35:55.027Z"
   },
   {
    "duration": 20,
    "start_time": "2023-05-05T15:36:55.615Z"
   },
   {
    "duration": 14,
    "start_time": "2023-05-05T15:37:10.169Z"
   },
   {
    "duration": 20,
    "start_time": "2023-05-05T15:37:10.961Z"
   },
   {
    "duration": 13,
    "start_time": "2023-05-05T15:38:22.736Z"
   },
   {
    "duration": 68,
    "start_time": "2023-05-05T15:38:23.681Z"
   },
   {
    "duration": 8,
    "start_time": "2023-05-05T15:39:07.367Z"
   },
   {
    "duration": 15,
    "start_time": "2023-05-05T15:39:07.821Z"
   },
   {
    "duration": 16,
    "start_time": "2023-05-05T15:42:40.443Z"
   },
   {
    "duration": 4,
    "start_time": "2023-05-05T15:42:42.902Z"
   },
   {
    "duration": 4,
    "start_time": "2023-05-05T15:43:18.494Z"
   },
   {
    "duration": 34,
    "start_time": "2023-05-05T15:43:19.157Z"
   },
   {
    "duration": 4,
    "start_time": "2023-05-05T15:43:38.322Z"
   },
   {
    "duration": 27,
    "start_time": "2023-05-05T15:43:39.033Z"
   },
   {
    "duration": 9,
    "start_time": "2023-05-05T15:44:05.340Z"
   },
   {
    "duration": 35,
    "start_time": "2023-05-05T15:44:06.140Z"
   },
   {
    "duration": 4,
    "start_time": "2023-05-05T15:45:28.102Z"
   },
   {
    "duration": 9,
    "start_time": "2023-05-05T15:45:43.668Z"
   },
   {
    "duration": 16,
    "start_time": "2023-05-05T15:47:13.068Z"
   },
   {
    "duration": 274,
    "start_time": "2023-05-05T15:47:23.410Z"
   },
   {
    "duration": 3,
    "start_time": "2023-05-05T15:49:19.429Z"
   },
   {
    "duration": 2,
    "start_time": "2023-05-05T15:49:22.004Z"
   },
   {
    "duration": 11,
    "start_time": "2023-05-05T15:49:35.604Z"
   },
   {
    "duration": 9,
    "start_time": "2023-05-05T15:51:06.889Z"
   },
   {
    "duration": 62,
    "start_time": "2023-05-05T15:51:08.287Z"
   },
   {
    "duration": 15,
    "start_time": "2023-05-05T15:51:34.310Z"
   },
   {
    "duration": 19,
    "start_time": "2023-05-05T15:51:36.010Z"
   },
   {
    "duration": 38,
    "start_time": "2023-05-05T15:51:41.831Z"
   },
   {
    "duration": 5,
    "start_time": "2023-05-05T15:52:51.126Z"
   },
   {
    "duration": 22,
    "start_time": "2023-05-05T15:52:52.065Z"
   },
   {
    "duration": 16,
    "start_time": "2023-05-05T15:52:54.303Z"
   },
   {
    "duration": 27,
    "start_time": "2023-05-05T15:52:55.061Z"
   },
   {
    "duration": 11,
    "start_time": "2023-05-05T15:53:24.866Z"
   },
   {
    "duration": 18,
    "start_time": "2023-05-05T15:53:25.197Z"
   },
   {
    "duration": 17,
    "start_time": "2023-05-05T15:53:25.616Z"
   },
   {
    "duration": 56,
    "start_time": "2023-05-05T15:53:26.132Z"
   },
   {
    "duration": 106,
    "start_time": "2023-05-05T15:54:45.230Z"
   },
   {
    "duration": 17,
    "start_time": "2023-05-05T15:54:45.676Z"
   },
   {
    "duration": 4,
    "start_time": "2023-05-05T15:54:53.089Z"
   },
   {
    "duration": 16,
    "start_time": "2023-05-05T15:54:54.083Z"
   },
   {
    "duration": 20,
    "start_time": "2023-05-05T15:54:54.477Z"
   },
   {
    "duration": 18,
    "start_time": "2023-05-05T15:54:54.924Z"
   },
   {
    "duration": 434,
    "start_time": "2023-05-05T16:03:15.075Z"
   },
   {
    "duration": 14,
    "start_time": "2023-05-05T16:04:01.890Z"
   },
   {
    "duration": 474,
    "start_time": "2023-05-05T16:04:10.317Z"
   },
   {
    "duration": 2663,
    "start_time": "2023-05-05T16:06:22.610Z"
   },
   {
    "duration": 8,
    "start_time": "2023-05-05T16:06:34.380Z"
   },
   {
    "duration": 380,
    "start_time": "2023-05-05T16:07:47.096Z"
   },
   {
    "duration": 416,
    "start_time": "2023-05-05T16:08:34.300Z"
   },
   {
    "duration": 384,
    "start_time": "2023-05-05T16:08:40.963Z"
   },
   {
    "duration": 13,
    "start_time": "2023-05-05T16:10:24.123Z"
   },
   {
    "duration": 332,
    "start_time": "2023-05-05T16:10:38.469Z"
   },
   {
    "duration": 354,
    "start_time": "2023-05-05T16:11:39.999Z"
   },
   {
    "duration": 341,
    "start_time": "2023-05-05T16:11:48.036Z"
   },
   {
    "duration": 378,
    "start_time": "2023-05-05T16:11:56.802Z"
   },
   {
    "duration": 3,
    "start_time": "2023-05-05T16:13:47.693Z"
   },
   {
    "duration": 327,
    "start_time": "2023-05-05T16:13:48.472Z"
   },
   {
    "duration": 314,
    "start_time": "2023-05-05T16:13:49.914Z"
   },
   {
    "duration": 330,
    "start_time": "2023-05-05T16:13:50.828Z"
   },
   {
    "duration": 3,
    "start_time": "2023-05-05T16:14:48.926Z"
   },
   {
    "duration": 451,
    "start_time": "2023-05-05T16:14:49.363Z"
   },
   {
    "duration": 369,
    "start_time": "2023-05-05T16:14:50.614Z"
   },
   {
    "duration": 343,
    "start_time": "2023-05-05T16:14:51.211Z"
   },
   {
    "duration": 27,
    "start_time": "2023-05-05T16:16:43.766Z"
   },
   {
    "duration": 511,
    "start_time": "2023-05-05T16:16:55.779Z"
   },
   {
    "duration": 350,
    "start_time": "2023-05-05T16:16:57.144Z"
   },
   {
    "duration": 483,
    "start_time": "2023-05-05T16:16:58.390Z"
   },
   {
    "duration": 6,
    "start_time": "2023-05-05T16:17:39.272Z"
   },
   {
    "duration": 499,
    "start_time": "2023-05-05T16:17:39.891Z"
   },
   {
    "duration": 14,
    "start_time": "2023-05-05T16:17:40.894Z"
   },
   {
    "duration": 19,
    "start_time": "2023-05-05T16:17:41.296Z"
   },
   {
    "duration": 11,
    "start_time": "2023-05-05T16:17:41.623Z"
   },
   {
    "duration": 24,
    "start_time": "2023-05-05T16:17:41.984Z"
   },
   {
    "duration": 22,
    "start_time": "2023-05-05T16:17:42.299Z"
   },
   {
    "duration": 25,
    "start_time": "2023-05-05T16:17:42.542Z"
   },
   {
    "duration": 37,
    "start_time": "2023-05-05T16:17:43.235Z"
   },
   {
    "duration": 189,
    "start_time": "2023-05-05T16:17:43.938Z"
   },
   {
    "duration": 4,
    "start_time": "2023-05-05T16:17:50.130Z"
   },
   {
    "duration": 474,
    "start_time": "2023-05-05T16:17:50.503Z"
   },
   {
    "duration": 388,
    "start_time": "2023-05-05T16:17:50.981Z"
   },
   {
    "duration": 429,
    "start_time": "2023-05-05T16:17:51.377Z"
   },
   {
    "duration": 15,
    "start_time": "2023-05-05T16:17:52.212Z"
   },
   {
    "duration": 364,
    "start_time": "2023-05-05T16:18:06.797Z"
   },
   {
    "duration": 20,
    "start_time": "2023-05-05T16:18:12.916Z"
   },
   {
    "duration": 36,
    "start_time": "2023-05-05T16:18:21.433Z"
   },
   {
    "duration": 13,
    "start_time": "2023-05-05T16:18:41.568Z"
   },
   {
    "duration": 561,
    "start_time": "2023-05-05T16:18:42.090Z"
   },
   {
    "duration": 16,
    "start_time": "2023-05-05T16:18:42.653Z"
   },
   {
    "duration": 40,
    "start_time": "2023-05-05T16:18:42.671Z"
   },
   {
    "duration": 23,
    "start_time": "2023-05-05T16:18:42.776Z"
   },
   {
    "duration": 24,
    "start_time": "2023-05-05T16:18:42.960Z"
   },
   {
    "duration": 23,
    "start_time": "2023-05-05T16:18:43.126Z"
   },
   {
    "duration": 18,
    "start_time": "2023-05-05T16:18:43.333Z"
   },
   {
    "duration": 27,
    "start_time": "2023-05-05T16:18:43.686Z"
   },
   {
    "duration": 222,
    "start_time": "2023-05-05T16:18:44.305Z"
   },
   {
    "duration": 4,
    "start_time": "2023-05-05T16:18:44.999Z"
   },
   {
    "duration": 394,
    "start_time": "2023-05-05T16:18:45.196Z"
   },
   {
    "duration": 612,
    "start_time": "2023-05-05T16:18:45.593Z"
   },
   {
    "duration": 397,
    "start_time": "2023-05-05T16:18:46.209Z"
   },
   {
    "duration": 18,
    "start_time": "2023-05-05T16:18:46.611Z"
   },
   {
    "duration": 350,
    "start_time": "2023-05-05T16:18:59.660Z"
   },
   {
    "duration": 22,
    "start_time": "2023-05-05T16:19:28.899Z"
   },
   {
    "duration": 354,
    "start_time": "2023-05-05T16:21:44.568Z"
   },
   {
    "duration": 15,
    "start_time": "2023-05-05T16:21:45.618Z"
   },
   {
    "duration": 11,
    "start_time": "2023-05-05T16:21:59.162Z"
   },
   {
    "duration": 587,
    "start_time": "2023-05-05T16:21:59.832Z"
   },
   {
    "duration": 18,
    "start_time": "2023-05-05T16:22:00.422Z"
   },
   {
    "duration": 13,
    "start_time": "2023-05-05T16:22:00.602Z"
   },
   {
    "duration": 15,
    "start_time": "2023-05-05T16:22:00.820Z"
   },
   {
    "duration": 21,
    "start_time": "2023-05-05T16:22:01.068Z"
   },
   {
    "duration": 16,
    "start_time": "2023-05-05T16:22:01.316Z"
   },
   {
    "duration": 34,
    "start_time": "2023-05-05T16:22:01.558Z"
   },
   {
    "duration": 29,
    "start_time": "2023-05-05T16:22:02.008Z"
   },
   {
    "duration": 218,
    "start_time": "2023-05-05T16:22:02.774Z"
   },
   {
    "duration": 6,
    "start_time": "2023-05-05T16:22:03.515Z"
   },
   {
    "duration": 378,
    "start_time": "2023-05-05T16:22:03.731Z"
   },
   {
    "duration": 384,
    "start_time": "2023-05-05T16:22:04.111Z"
   },
   {
    "duration": 333,
    "start_time": "2023-05-05T16:22:04.497Z"
   },
   {
    "duration": 13,
    "start_time": "2023-05-05T16:22:04.832Z"
   },
   {
    "duration": 2179,
    "start_time": "2023-05-05T16:24:05.672Z"
   },
   {
    "duration": 4,
    "start_time": "2023-05-05T16:24:40.400Z"
   },
   {
    "duration": 497,
    "start_time": "2023-05-05T16:24:40.918Z"
   },
   {
    "duration": 10,
    "start_time": "2023-05-05T16:24:41.418Z"
   },
   {
    "duration": 52,
    "start_time": "2023-05-05T16:24:41.430Z"
   },
   {
    "duration": 12,
    "start_time": "2023-05-05T16:24:41.572Z"
   },
   {
    "duration": 38,
    "start_time": "2023-05-05T16:24:41.726Z"
   },
   {
    "duration": 17,
    "start_time": "2023-05-05T16:24:41.892Z"
   },
   {
    "duration": 19,
    "start_time": "2023-05-05T16:24:42.081Z"
   },
   {
    "duration": 36,
    "start_time": "2023-05-05T16:24:42.409Z"
   },
   {
    "duration": 207,
    "start_time": "2023-05-05T16:24:42.892Z"
   },
   {
    "duration": 18,
    "start_time": "2023-05-05T16:24:43.368Z"
   },
   {
    "duration": 341,
    "start_time": "2023-05-05T16:24:43.564Z"
   },
   {
    "duration": 391,
    "start_time": "2023-05-05T16:24:43.924Z"
   },
   {
    "duration": 337,
    "start_time": "2023-05-05T16:24:44.368Z"
   },
   {
    "duration": 135,
    "start_time": "2023-05-05T16:34:57.037Z"
   },
   {
    "duration": 15,
    "start_time": "2023-05-05T16:35:05.068Z"
   },
   {
    "duration": 15,
    "start_time": "2023-05-05T16:35:15.398Z"
   },
   {
    "duration": 18,
    "start_time": "2023-05-05T16:35:18.793Z"
   },
   {
    "duration": 15,
    "start_time": "2023-05-05T16:35:31.069Z"
   },
   {
    "duration": 122,
    "start_time": "2023-05-05T16:35:36.408Z"
   },
   {
    "duration": 104,
    "start_time": "2023-05-05T16:35:40.570Z"
   },
   {
    "duration": 111,
    "start_time": "2023-05-05T16:36:45.381Z"
   },
   {
    "duration": 174,
    "start_time": "2023-05-05T16:36:45.714Z"
   },
   {
    "duration": 4,
    "start_time": "2023-05-05T16:43:04.187Z"
   },
   {
    "duration": 404,
    "start_time": "2023-05-05T16:43:04.576Z"
   },
   {
    "duration": 20,
    "start_time": "2023-05-05T16:43:46.601Z"
   },
   {
    "duration": 3,
    "start_time": "2023-05-05T16:44:02.211Z"
   },
   {
    "duration": 14,
    "start_time": "2023-05-05T16:44:12.253Z"
   },
   {
    "duration": 529,
    "start_time": "2023-05-05T16:44:12.689Z"
   },
   {
    "duration": 3,
    "start_time": "2023-05-05T16:44:27.935Z"
   },
   {
    "duration": 375,
    "start_time": "2023-05-05T16:44:28.399Z"
   },
   {
    "duration": 5,
    "start_time": "2023-05-05T16:44:38.877Z"
   },
   {
    "duration": 416,
    "start_time": "2023-05-05T16:44:39.292Z"
   },
   {
    "duration": 112,
    "start_time": "2023-05-05T16:47:48.153Z"
   },
   {
    "duration": 244,
    "start_time": "2023-05-05T16:48:03.707Z"
   },
   {
    "duration": 220,
    "start_time": "2023-05-05T16:48:10.834Z"
   },
   {
    "duration": 191,
    "start_time": "2023-05-05T16:48:35.577Z"
   },
   {
    "duration": 1717,
    "start_time": "2023-05-05T16:48:43.014Z"
   },
   {
    "duration": 1777,
    "start_time": "2023-05-05T16:49:05.108Z"
   },
   {
    "duration": 5,
    "start_time": "2023-05-05T16:49:22.610Z"
   },
   {
    "duration": 608,
    "start_time": "2023-05-05T16:49:23.772Z"
   },
   {
    "duration": 14,
    "start_time": "2023-05-05T16:49:25.091Z"
   },
   {
    "duration": 25,
    "start_time": "2023-05-05T16:49:25.764Z"
   },
   {
    "duration": 17,
    "start_time": "2023-05-05T16:49:26.211Z"
   },
   {
    "duration": 31,
    "start_time": "2023-05-05T16:49:26.706Z"
   },
   {
    "duration": 28,
    "start_time": "2023-05-05T16:49:27.571Z"
   },
   {
    "duration": 17,
    "start_time": "2023-05-05T16:49:28.689Z"
   },
   {
    "duration": 30,
    "start_time": "2023-05-05T16:49:33.696Z"
   },
   {
    "duration": 231,
    "start_time": "2023-05-05T16:49:35.580Z"
   },
   {
    "duration": 164,
    "start_time": "2023-05-05T16:49:37.027Z"
   },
   {
    "duration": 178,
    "start_time": "2023-05-05T16:49:38.319Z"
   },
   {
    "duration": 155,
    "start_time": "2023-05-05T16:49:39.471Z"
   },
   {
    "duration": 185,
    "start_time": "2023-05-05T16:49:40.280Z"
   },
   {
    "duration": 202,
    "start_time": "2023-05-05T16:50:37.893Z"
   },
   {
    "duration": 235,
    "start_time": "2023-05-05T16:50:43.476Z"
   },
   {
    "duration": 1509,
    "start_time": "2023-05-05T16:51:08.017Z"
   },
   {
    "duration": 1567,
    "start_time": "2023-05-05T16:51:13.372Z"
   },
   {
    "duration": 1218,
    "start_time": "2023-05-05T16:51:31.674Z"
   },
   {
    "duration": 1334,
    "start_time": "2023-05-05T16:51:36.984Z"
   },
   {
    "duration": 4,
    "start_time": "2023-05-05T16:51:58.426Z"
   },
   {
    "duration": 587,
    "start_time": "2023-05-05T16:51:58.934Z"
   },
   {
    "duration": 10,
    "start_time": "2023-05-05T16:51:59.523Z"
   },
   {
    "duration": 46,
    "start_time": "2023-05-05T16:51:59.535Z"
   },
   {
    "duration": 11,
    "start_time": "2023-05-05T16:51:59.614Z"
   },
   {
    "duration": 16,
    "start_time": "2023-05-05T16:51:59.796Z"
   },
   {
    "duration": 39,
    "start_time": "2023-05-05T16:51:59.931Z"
   },
   {
    "duration": 24,
    "start_time": "2023-05-05T16:52:00.128Z"
   },
   {
    "duration": 41,
    "start_time": "2023-05-05T16:52:00.475Z"
   },
   {
    "duration": 198,
    "start_time": "2023-05-05T16:52:01.525Z"
   },
   {
    "duration": 112,
    "start_time": "2023-05-05T16:52:01.994Z"
   },
   {
    "duration": 137,
    "start_time": "2023-05-05T16:52:02.278Z"
   },
   {
    "duration": 145,
    "start_time": "2023-05-05T16:52:02.586Z"
   },
   {
    "duration": 230,
    "start_time": "2023-05-05T16:52:02.903Z"
   },
   {
    "duration": 156,
    "start_time": "2023-05-05T16:52:15.485Z"
   },
   {
    "duration": 239,
    "start_time": "2023-05-05T16:52:24.972Z"
   },
   {
    "duration": 1427,
    "start_time": "2023-05-05T16:52:33.593Z"
   },
   {
    "duration": 1399,
    "start_time": "2023-05-05T16:52:38.974Z"
   },
   {
    "duration": 7,
    "start_time": "2023-05-05T16:52:57.333Z"
   },
   {
    "duration": 527,
    "start_time": "2023-05-05T16:52:58.010Z"
   },
   {
    "duration": 20,
    "start_time": "2023-05-05T16:52:58.599Z"
   },
   {
    "duration": 11,
    "start_time": "2023-05-05T16:52:58.818Z"
   },
   {
    "duration": 10,
    "start_time": "2023-05-05T16:52:59.022Z"
   },
   {
    "duration": 39,
    "start_time": "2023-05-05T16:52:59.238Z"
   },
   {
    "duration": 28,
    "start_time": "2023-05-05T16:52:59.480Z"
   },
   {
    "duration": 32,
    "start_time": "2023-05-05T16:52:59.662Z"
   },
   {
    "duration": 27,
    "start_time": "2023-05-05T16:53:00.294Z"
   },
   {
    "duration": 209,
    "start_time": "2023-05-05T16:53:01.173Z"
   },
   {
    "duration": 136,
    "start_time": "2023-05-05T16:53:01.584Z"
   },
   {
    "duration": 168,
    "start_time": "2023-05-05T16:53:02.108Z"
   },
   {
    "duration": 170,
    "start_time": "2023-05-05T16:53:02.458Z"
   },
   {
    "duration": 156,
    "start_time": "2023-05-05T16:53:02.716Z"
   },
   {
    "duration": 240,
    "start_time": "2023-05-05T16:53:39.463Z"
   },
   {
    "duration": 124,
    "start_time": "2023-05-05T16:53:40.713Z"
   },
   {
    "duration": 187,
    "start_time": "2023-05-05T16:53:41.631Z"
   },
   {
    "duration": 1553,
    "start_time": "2023-05-05T16:54:04.678Z"
   },
   {
    "duration": 4,
    "start_time": "2023-05-05T16:54:18.316Z"
   },
   {
    "duration": 606,
    "start_time": "2023-05-05T16:54:18.822Z"
   },
   {
    "duration": 10,
    "start_time": "2023-05-05T16:54:19.430Z"
   },
   {
    "duration": 48,
    "start_time": "2023-05-05T16:54:19.460Z"
   },
   {
    "duration": 40,
    "start_time": "2023-05-05T16:54:19.534Z"
   },
   {
    "duration": 30,
    "start_time": "2023-05-05T16:54:19.675Z"
   },
   {
    "duration": 29,
    "start_time": "2023-05-05T16:54:19.873Z"
   },
   {
    "duration": 51,
    "start_time": "2023-05-05T16:54:20.018Z"
   },
   {
    "duration": 47,
    "start_time": "2023-05-05T16:54:20.362Z"
   },
   {
    "duration": 217,
    "start_time": "2023-05-05T16:54:21.518Z"
   },
   {
    "duration": 142,
    "start_time": "2023-05-05T16:54:22.563Z"
   },
   {
    "duration": 141,
    "start_time": "2023-05-05T16:54:22.882Z"
   },
   {
    "duration": 178,
    "start_time": "2023-05-05T16:54:23.207Z"
   },
   {
    "duration": 1563,
    "start_time": "2023-05-05T16:54:24.465Z"
   },
   {
    "duration": 0,
    "start_time": "2023-05-05T16:54:26.030Z"
   },
   {
    "duration": 0,
    "start_time": "2023-05-05T16:54:26.031Z"
   },
   {
    "duration": 1544,
    "start_time": "2023-05-05T16:54:40.468Z"
   },
   {
    "duration": 1413,
    "start_time": "2023-05-05T16:54:42.299Z"
   },
   {
    "duration": 0,
    "start_time": "2023-05-05T16:54:43.714Z"
   },
   {
    "duration": 4,
    "start_time": "2023-05-05T16:54:58.910Z"
   },
   {
    "duration": 581,
    "start_time": "2023-05-05T16:54:59.484Z"
   },
   {
    "duration": 21,
    "start_time": "2023-05-05T16:55:00.068Z"
   },
   {
    "duration": 61,
    "start_time": "2023-05-05T16:55:00.132Z"
   },
   {
    "duration": 12,
    "start_time": "2023-05-05T16:55:00.324Z"
   },
   {
    "duration": 24,
    "start_time": "2023-05-05T16:55:00.511Z"
   },
   {
    "duration": 37,
    "start_time": "2023-05-05T16:55:00.713Z"
   },
   {
    "duration": 43,
    "start_time": "2023-05-05T16:55:00.943Z"
   },
   {
    "duration": 29,
    "start_time": "2023-05-05T16:55:01.297Z"
   },
   {
    "duration": 222,
    "start_time": "2023-05-05T16:55:02.463Z"
   },
   {
    "duration": 140,
    "start_time": "2023-05-05T16:55:02.883Z"
   },
   {
    "duration": 162,
    "start_time": "2023-05-05T16:55:03.196Z"
   },
   {
    "duration": 146,
    "start_time": "2023-05-05T16:55:03.491Z"
   },
   {
    "duration": 383,
    "start_time": "2023-05-05T16:55:04.129Z"
   },
   {
    "duration": 143,
    "start_time": "2023-05-05T16:55:04.891Z"
   },
   {
    "duration": 141,
    "start_time": "2023-05-05T16:55:07.998Z"
   },
   {
    "duration": 127,
    "start_time": "2023-05-05T16:55:17.274Z"
   },
   {
    "duration": 150,
    "start_time": "2023-05-05T16:55:17.447Z"
   },
   {
    "duration": 130,
    "start_time": "2023-05-05T16:55:17.675Z"
   },
   {
    "duration": 356,
    "start_time": "2023-05-05T16:55:17.942Z"
   },
   {
    "duration": 199,
    "start_time": "2023-05-05T16:55:19.186Z"
   },
   {
    "duration": 262,
    "start_time": "2023-05-05T16:55:30.717Z"
   },
   {
    "duration": 161,
    "start_time": "2023-05-05T16:55:31.204Z"
   },
   {
    "duration": 131,
    "start_time": "2023-05-05T16:55:31.768Z"
   },
   {
    "duration": 1300,
    "start_time": "2023-05-05T16:57:41.927Z"
   },
   {
    "duration": 11,
    "start_time": "2023-05-05T16:58:24.275Z"
   },
   {
    "duration": 6,
    "start_time": "2023-05-05T16:58:28.667Z"
   },
   {
    "duration": 6,
    "start_time": "2023-05-05T16:58:28.823Z"
   },
   {
    "duration": 5,
    "start_time": "2023-05-05T16:58:29.023Z"
   },
   {
    "duration": 5,
    "start_time": "2023-05-05T16:58:29.212Z"
   },
   {
    "duration": 5,
    "start_time": "2023-05-05T16:58:29.397Z"
   },
   {
    "duration": 13,
    "start_time": "2023-05-05T16:58:29.562Z"
   },
   {
    "duration": 115,
    "start_time": "2023-05-05T16:58:33.675Z"
   },
   {
    "duration": 29,
    "start_time": "2023-05-05T17:06:30.372Z"
   },
   {
    "duration": 9,
    "start_time": "2023-05-05T17:06:44.975Z"
   },
   {
    "duration": 562,
    "start_time": "2023-05-05T17:06:45.665Z"
   },
   {
    "duration": 25,
    "start_time": "2023-05-05T17:06:46.353Z"
   },
   {
    "duration": 13,
    "start_time": "2023-05-05T17:06:46.575Z"
   },
   {
    "duration": 19,
    "start_time": "2023-05-05T17:06:46.783Z"
   },
   {
    "duration": 18,
    "start_time": "2023-05-05T17:06:47.001Z"
   },
   {
    "duration": 18,
    "start_time": "2023-05-05T17:06:47.201Z"
   },
   {
    "duration": 20,
    "start_time": "2023-05-05T17:06:47.374Z"
   },
   {
    "duration": 25,
    "start_time": "2023-05-05T17:06:47.785Z"
   },
   {
    "duration": 210,
    "start_time": "2023-05-05T17:06:48.381Z"
   },
   {
    "duration": 125,
    "start_time": "2023-05-05T17:06:48.803Z"
   },
   {
    "duration": 129,
    "start_time": "2023-05-05T17:06:49.097Z"
   },
   {
    "duration": 130,
    "start_time": "2023-05-05T17:06:49.295Z"
   },
   {
    "duration": 196,
    "start_time": "2023-05-05T17:06:49.474Z"
   },
   {
    "duration": 125,
    "start_time": "2023-05-05T17:06:50.010Z"
   },
   {
    "duration": 119,
    "start_time": "2023-05-05T17:06:50.514Z"
   },
   {
    "duration": 4,
    "start_time": "2023-05-05T17:06:51.399Z"
   },
   {
    "duration": 386,
    "start_time": "2023-05-05T17:06:51.626Z"
   },
   {
    "duration": 389,
    "start_time": "2023-05-05T17:06:52.015Z"
   },
   {
    "duration": 337,
    "start_time": "2023-05-05T17:06:52.570Z"
   },
   {
    "duration": 19,
    "start_time": "2023-05-05T17:06:53.437Z"
   },
   {
    "duration": 5,
    "start_time": "2023-05-05T17:06:54.399Z"
   },
   {
    "duration": 18,
    "start_time": "2023-05-05T17:06:54.570Z"
   },
   {
    "duration": 11,
    "start_time": "2023-05-05T17:06:54.776Z"
   },
   {
    "duration": 6,
    "start_time": "2023-05-05T17:06:55.001Z"
   },
   {
    "duration": 9,
    "start_time": "2023-05-05T17:06:55.472Z"
   },
   {
    "duration": 5,
    "start_time": "2023-05-05T17:06:55.719Z"
   },
   {
    "duration": 195,
    "start_time": "2023-05-05T17:06:55.938Z"
   },
   {
    "duration": 13,
    "start_time": "2023-05-05T17:06:59.083Z"
   },
   {
    "duration": 6,
    "start_time": "2023-05-05T17:07:01.015Z"
   },
   {
    "duration": 13,
    "start_time": "2023-05-05T17:07:01.336Z"
   },
   {
    "duration": 24,
    "start_time": "2023-05-05T17:07:01.783Z"
   },
   {
    "duration": 30,
    "start_time": "2023-05-05T17:07:04.169Z"
   },
   {
    "duration": 16,
    "start_time": "2023-05-05T17:07:04.202Z"
   },
   {
    "duration": 21,
    "start_time": "2023-05-05T17:07:04.640Z"
   },
   {
    "duration": 185,
    "start_time": "2023-05-05T17:07:04.663Z"
   },
   {
    "duration": 56,
    "start_time": "2023-05-05T17:07:04.857Z"
   },
   {
    "duration": 151,
    "start_time": "2023-05-05T17:07:04.943Z"
   },
   {
    "duration": 12,
    "start_time": "2023-05-05T17:07:28.598Z"
   },
   {
    "duration": 15,
    "start_time": "2023-05-05T17:13:13.916Z"
   },
   {
    "duration": 11,
    "start_time": "2023-05-05T17:20:15.472Z"
   },
   {
    "duration": 6,
    "start_time": "2023-05-05T17:20:18.124Z"
   },
   {
    "duration": 22,
    "start_time": "2023-05-05T17:20:19.091Z"
   },
   {
    "duration": 5,
    "start_time": "2023-05-05T17:44:22.539Z"
   },
   {
    "duration": 664,
    "start_time": "2023-05-05T17:44:23.835Z"
   },
   {
    "duration": 15,
    "start_time": "2023-05-05T17:44:24.502Z"
   },
   {
    "duration": 15,
    "start_time": "2023-05-05T17:44:24.519Z"
   },
   {
    "duration": 73,
    "start_time": "2023-05-05T17:44:24.559Z"
   },
   {
    "duration": 35,
    "start_time": "2023-05-05T17:44:24.720Z"
   },
   {
    "duration": 41,
    "start_time": "2023-05-05T17:44:24.875Z"
   },
   {
    "duration": 28,
    "start_time": "2023-05-05T17:44:25.209Z"
   },
   {
    "duration": 53,
    "start_time": "2023-05-05T17:44:25.524Z"
   },
   {
    "duration": 262,
    "start_time": "2023-05-05T17:44:26.035Z"
   },
   {
    "duration": 265,
    "start_time": "2023-05-05T17:44:26.434Z"
   },
   {
    "duration": 254,
    "start_time": "2023-05-05T17:44:26.726Z"
   },
   {
    "duration": 193,
    "start_time": "2023-05-05T17:44:27.063Z"
   },
   {
    "duration": 367,
    "start_time": "2023-05-05T17:44:27.334Z"
   },
   {
    "duration": 231,
    "start_time": "2023-05-05T17:44:27.706Z"
   },
   {
    "duration": 176,
    "start_time": "2023-05-05T17:44:27.939Z"
   },
   {
    "duration": 4,
    "start_time": "2023-05-05T17:44:28.623Z"
   },
   {
    "duration": 431,
    "start_time": "2023-05-05T17:44:28.901Z"
   },
   {
    "duration": 438,
    "start_time": "2023-05-05T17:44:29.336Z"
   },
   {
    "duration": 386,
    "start_time": "2023-05-05T17:44:29.780Z"
   },
   {
    "duration": 33,
    "start_time": "2023-05-05T17:44:30.168Z"
   },
   {
    "duration": 9,
    "start_time": "2023-05-05T17:44:30.680Z"
   },
   {
    "duration": 6,
    "start_time": "2023-05-05T17:44:31.004Z"
   },
   {
    "duration": 5,
    "start_time": "2023-05-05T17:44:31.184Z"
   },
   {
    "duration": 10,
    "start_time": "2023-05-05T17:44:31.384Z"
   },
   {
    "duration": 16,
    "start_time": "2023-05-05T17:44:31.564Z"
   },
   {
    "duration": 6,
    "start_time": "2023-05-05T17:44:31.719Z"
   },
   {
    "duration": 155,
    "start_time": "2023-05-05T17:44:31.866Z"
   },
   {
    "duration": 9,
    "start_time": "2023-05-05T17:44:33.705Z"
   },
   {
    "duration": 13,
    "start_time": "2023-05-05T17:44:33.879Z"
   },
   {
    "duration": 6,
    "start_time": "2023-05-05T17:44:34.126Z"
   },
   {
    "duration": 32,
    "start_time": "2023-05-05T17:44:34.366Z"
   },
   {
    "duration": 20,
    "start_time": "2023-05-05T17:44:34.580Z"
   },
   {
    "duration": 19,
    "start_time": "2023-05-05T17:44:34.801Z"
   },
   {
    "duration": 5,
    "start_time": "2023-05-05T17:44:35.015Z"
   },
   {
    "duration": 101,
    "start_time": "2023-05-05T17:44:35.267Z"
   },
   {
    "duration": 29,
    "start_time": "2023-05-05T17:44:35.487Z"
   },
   {
    "duration": 29,
    "start_time": "2023-05-05T17:44:35.710Z"
   },
   {
    "duration": 4,
    "start_time": "2023-05-05T17:44:38.033Z"
   },
   {
    "duration": 4,
    "start_time": "2023-05-05T17:44:39.210Z"
   },
   {
    "duration": 5,
    "start_time": "2023-05-05T17:44:39.420Z"
   },
   {
    "duration": 5,
    "start_time": "2023-05-05T17:44:41.106Z"
   },
   {
    "duration": 10,
    "start_time": "2023-05-05T17:44:41.704Z"
   },
   {
    "duration": 14,
    "start_time": "2023-05-05T17:44:42.059Z"
   },
   {
    "duration": 13,
    "start_time": "2023-05-05T17:44:42.360Z"
   },
   {
    "duration": 21,
    "start_time": "2023-05-05T17:47:51.471Z"
   },
   {
    "duration": 25,
    "start_time": "2023-05-05T17:48:01.279Z"
   },
   {
    "duration": 35,
    "start_time": "2023-05-05T17:48:06.924Z"
   },
   {
    "duration": 28,
    "start_time": "2023-05-05T17:48:18.577Z"
   },
   {
    "duration": 46,
    "start_time": "2023-05-05T17:48:57.946Z"
   },
   {
    "duration": 115,
    "start_time": "2023-05-05T17:49:21.060Z"
   },
   {
    "duration": 11,
    "start_time": "2023-05-05T17:49:38.053Z"
   },
   {
    "duration": 26,
    "start_time": "2023-05-05T17:49:38.641Z"
   },
   {
    "duration": 12,
    "start_time": "2023-05-05T17:49:39.339Z"
   },
   {
    "duration": 9,
    "start_time": "2023-05-05T17:49:40.167Z"
   },
   {
    "duration": 76,
    "start_time": "2023-05-05T17:50:34.894Z"
   },
   {
    "duration": 38,
    "start_time": "2023-05-05T17:50:35.626Z"
   },
   {
    "duration": 64,
    "start_time": "2023-05-05T17:50:36.226Z"
   },
   {
    "duration": 10,
    "start_time": "2023-05-05T17:50:37.847Z"
   },
   {
    "duration": 5,
    "start_time": "2023-05-05T17:51:12.201Z"
   },
   {
    "duration": 12,
    "start_time": "2023-05-05T17:51:12.820Z"
   },
   {
    "duration": 16,
    "start_time": "2023-05-05T17:51:13.471Z"
   },
   {
    "duration": 8,
    "start_time": "2023-05-05T17:51:14.229Z"
   },
   {
    "duration": 14,
    "start_time": "2023-05-05T17:52:05.789Z"
   },
   {
    "duration": 5,
    "start_time": "2023-05-05T17:53:00.034Z"
   },
   {
    "duration": 20,
    "start_time": "2023-05-05T17:53:04.403Z"
   },
   {
    "duration": 11,
    "start_time": "2023-05-05T17:53:04.905Z"
   },
   {
    "duration": 6,
    "start_time": "2023-05-05T17:53:07.832Z"
   },
   {
    "duration": 26,
    "start_time": "2023-05-05T17:53:08.879Z"
   },
   {
    "duration": 22,
    "start_time": "2023-05-05T17:53:09.590Z"
   },
   {
    "duration": 27,
    "start_time": "2023-05-05T17:53:10.075Z"
   },
   {
    "duration": 13,
    "start_time": "2023-05-05T17:53:47.523Z"
   },
   {
    "duration": 13,
    "start_time": "2023-05-05T17:54:15.474Z"
   },
   {
    "duration": 6,
    "start_time": "2023-05-05T17:54:47.467Z"
   },
   {
    "duration": 4,
    "start_time": "2023-05-05T17:54:48.523Z"
   },
   {
    "duration": 5,
    "start_time": "2023-05-05T17:54:48.714Z"
   },
   {
    "duration": 6,
    "start_time": "2023-05-05T17:54:50.956Z"
   },
   {
    "duration": 12,
    "start_time": "2023-05-05T17:54:51.905Z"
   },
   {
    "duration": 8,
    "start_time": "2023-05-05T17:54:52.413Z"
   },
   {
    "duration": 10,
    "start_time": "2023-05-05T17:54:52.682Z"
   },
   {
    "duration": 5,
    "start_time": "2023-05-05T17:55:39.830Z"
   },
   {
    "duration": 572,
    "start_time": "2023-05-05T17:55:40.367Z"
   },
   {
    "duration": 28,
    "start_time": "2023-05-05T17:55:40.942Z"
   },
   {
    "duration": 146,
    "start_time": "2023-05-05T17:55:40.972Z"
   },
   {
    "duration": 21,
    "start_time": "2023-05-05T17:55:41.177Z"
   },
   {
    "duration": 38,
    "start_time": "2023-05-05T17:55:41.368Z"
   },
   {
    "duration": 53,
    "start_time": "2023-05-05T17:55:41.563Z"
   },
   {
    "duration": 25,
    "start_time": "2023-05-05T17:55:41.793Z"
   },
   {
    "duration": 51,
    "start_time": "2023-05-05T17:55:42.181Z"
   },
   {
    "duration": 287,
    "start_time": "2023-05-05T17:55:42.721Z"
   },
   {
    "duration": 151,
    "start_time": "2023-05-05T17:55:43.082Z"
   },
   {
    "duration": 201,
    "start_time": "2023-05-05T17:55:43.258Z"
   },
   {
    "duration": 158,
    "start_time": "2023-05-05T17:55:43.461Z"
   },
   {
    "duration": 328,
    "start_time": "2023-05-05T17:55:43.622Z"
   },
   {
    "duration": 170,
    "start_time": "2023-05-05T17:55:43.958Z"
   },
   {
    "duration": 170,
    "start_time": "2023-05-05T17:55:44.133Z"
   },
   {
    "duration": 4,
    "start_time": "2023-05-05T17:55:44.525Z"
   },
   {
    "duration": 444,
    "start_time": "2023-05-05T17:55:44.697Z"
   },
   {
    "duration": 669,
    "start_time": "2023-05-05T17:55:45.152Z"
   },
   {
    "duration": 441,
    "start_time": "2023-05-05T17:55:45.823Z"
   },
   {
    "duration": 11,
    "start_time": "2023-05-05T17:55:46.272Z"
   },
   {
    "duration": 8,
    "start_time": "2023-05-05T17:55:47.251Z"
   },
   {
    "duration": 6,
    "start_time": "2023-05-05T17:55:47.501Z"
   },
   {
    "duration": 12,
    "start_time": "2023-05-05T17:55:47.780Z"
   },
   {
    "duration": 11,
    "start_time": "2023-05-05T17:55:47.988Z"
   },
   {
    "duration": 12,
    "start_time": "2023-05-05T17:55:48.240Z"
   },
   {
    "duration": 8,
    "start_time": "2023-05-05T17:55:48.487Z"
   },
   {
    "duration": 164,
    "start_time": "2023-05-05T17:55:48.735Z"
   },
   {
    "duration": 11,
    "start_time": "2023-05-05T17:55:50.386Z"
   },
   {
    "duration": 16,
    "start_time": "2023-05-05T17:55:50.634Z"
   },
   {
    "duration": 7,
    "start_time": "2023-05-05T17:55:50.915Z"
   },
   {
    "duration": 36,
    "start_time": "2023-05-05T17:55:51.138Z"
   },
   {
    "duration": 39,
    "start_time": "2023-05-05T17:55:51.446Z"
   },
   {
    "duration": 27,
    "start_time": "2023-05-05T17:55:51.697Z"
   },
   {
    "duration": 96,
    "start_time": "2023-05-05T17:55:51.964Z"
   },
   {
    "duration": 39,
    "start_time": "2023-05-05T17:55:52.206Z"
   },
   {
    "duration": 126,
    "start_time": "2023-05-05T17:55:52.436Z"
   },
   {
    "duration": 8,
    "start_time": "2023-05-05T17:55:52.687Z"
   },
   {
    "duration": 10,
    "start_time": "2023-05-05T17:55:52.920Z"
   },
   {
    "duration": 16,
    "start_time": "2023-05-05T17:55:53.156Z"
   },
   {
    "duration": 30,
    "start_time": "2023-05-05T17:55:53.388Z"
   },
   {
    "duration": 4,
    "start_time": "2023-05-05T17:55:55.427Z"
   },
   {
    "duration": 9,
    "start_time": "2023-05-05T17:55:56.959Z"
   },
   {
    "duration": 8,
    "start_time": "2023-05-05T17:55:57.182Z"
   },
   {
    "duration": 5,
    "start_time": "2023-05-05T17:55:59.566Z"
   },
   {
    "duration": 8,
    "start_time": "2023-05-05T17:56:00.254Z"
   },
   {
    "duration": 10,
    "start_time": "2023-05-05T17:56:00.843Z"
   },
   {
    "duration": 19,
    "start_time": "2023-05-05T17:56:01.067Z"
   },
   {
    "duration": 6,
    "start_time": "2023-05-05T17:56:20.487Z"
   },
   {
    "duration": 4,
    "start_time": "2023-05-05T17:57:11.927Z"
   },
   {
    "duration": 36,
    "start_time": "2023-05-05T17:57:12.324Z"
   },
   {
    "duration": 29,
    "start_time": "2023-05-05T17:57:12.708Z"
   },
   {
    "duration": 45,
    "start_time": "2023-05-05T17:57:13.424Z"
   },
   {
    "duration": 5,
    "start_time": "2023-05-05T17:57:27.634Z"
   },
   {
    "duration": 614,
    "start_time": "2023-05-05T17:57:28.201Z"
   },
   {
    "duration": 16,
    "start_time": "2023-05-05T17:57:28.818Z"
   },
   {
    "duration": 84,
    "start_time": "2023-05-05T17:57:28.837Z"
   },
   {
    "duration": 12,
    "start_time": "2023-05-05T17:57:29.107Z"
   },
   {
    "duration": 53,
    "start_time": "2023-05-05T17:57:29.324Z"
   },
   {
    "duration": 32,
    "start_time": "2023-05-05T17:57:29.521Z"
   },
   {
    "duration": 43,
    "start_time": "2023-05-05T17:57:29.718Z"
   },
   {
    "duration": 72,
    "start_time": "2023-05-05T17:57:30.088Z"
   },
   {
    "duration": 309,
    "start_time": "2023-05-05T17:57:30.644Z"
   },
   {
    "duration": 213,
    "start_time": "2023-05-05T17:57:31.015Z"
   },
   {
    "duration": 191,
    "start_time": "2023-05-05T17:57:31.231Z"
   },
   {
    "duration": 177,
    "start_time": "2023-05-05T17:57:31.426Z"
   },
   {
    "duration": 259,
    "start_time": "2023-05-05T17:57:31.716Z"
   },
   {
    "duration": 142,
    "start_time": "2023-05-05T17:57:31.990Z"
   },
   {
    "duration": 187,
    "start_time": "2023-05-05T17:57:32.181Z"
   },
   {
    "duration": 4,
    "start_time": "2023-05-05T17:57:32.787Z"
   },
   {
    "duration": 479,
    "start_time": "2023-05-05T17:57:32.969Z"
   },
   {
    "duration": 434,
    "start_time": "2023-05-05T17:57:33.456Z"
   },
   {
    "duration": 425,
    "start_time": "2023-05-05T17:57:33.893Z"
   },
   {
    "duration": 16,
    "start_time": "2023-05-05T17:57:34.322Z"
   },
   {
    "duration": 63,
    "start_time": "2023-05-05T17:57:34.341Z"
   },
   {
    "duration": 19,
    "start_time": "2023-05-05T17:57:34.407Z"
   },
   {
    "duration": 7,
    "start_time": "2023-05-05T17:57:34.588Z"
   },
   {
    "duration": 9,
    "start_time": "2023-05-05T17:57:34.756Z"
   },
   {
    "duration": 6,
    "start_time": "2023-05-05T17:57:34.924Z"
   },
   {
    "duration": 7,
    "start_time": "2023-05-05T17:57:35.098Z"
   },
   {
    "duration": 258,
    "start_time": "2023-05-05T17:57:35.267Z"
   },
   {
    "duration": 6,
    "start_time": "2023-05-05T17:57:36.502Z"
   },
   {
    "duration": 7,
    "start_time": "2023-05-05T17:57:36.755Z"
   },
   {
    "duration": 6,
    "start_time": "2023-05-05T17:57:36.926Z"
   },
   {
    "duration": 20,
    "start_time": "2023-05-05T17:57:37.117Z"
   },
   {
    "duration": 28,
    "start_time": "2023-05-05T17:57:37.265Z"
   },
   {
    "duration": 23,
    "start_time": "2023-05-05T17:57:37.432Z"
   },
   {
    "duration": 85,
    "start_time": "2023-05-05T17:57:37.602Z"
   },
   {
    "duration": 22,
    "start_time": "2023-05-05T17:57:37.790Z"
   },
   {
    "duration": 35,
    "start_time": "2023-05-05T17:57:37.967Z"
   },
   {
    "duration": 42,
    "start_time": "2023-05-05T17:57:38.102Z"
   },
   {
    "duration": 13,
    "start_time": "2023-05-05T17:57:38.291Z"
   },
   {
    "duration": 14,
    "start_time": "2023-05-05T17:57:38.479Z"
   },
   {
    "duration": 18,
    "start_time": "2023-05-05T17:57:38.635Z"
   },
   {
    "duration": 5,
    "start_time": "2023-05-05T17:57:45.229Z"
   },
   {
    "duration": 12,
    "start_time": "2023-05-05T17:57:45.966Z"
   },
   {
    "duration": 9,
    "start_time": "2023-05-05T17:57:46.163Z"
   },
   {
    "duration": 5,
    "start_time": "2023-05-05T17:57:47.423Z"
   },
   {
    "duration": 10,
    "start_time": "2023-05-05T17:57:47.801Z"
   },
   {
    "duration": 9,
    "start_time": "2023-05-05T17:57:47.963Z"
   },
   {
    "duration": 14,
    "start_time": "2023-05-05T17:57:48.121Z"
   },
   {
    "duration": 9,
    "start_time": "2023-05-05T17:58:19.782Z"
   },
   {
    "duration": 28,
    "start_time": "2023-05-05T17:58:20.669Z"
   },
   {
    "duration": 14,
    "start_time": "2023-05-05T17:58:22.624Z"
   },
   {
    "duration": 26,
    "start_time": "2023-05-05T17:58:22.966Z"
   },
   {
    "duration": 5,
    "start_time": "2023-05-05T17:58:28.115Z"
   },
   {
    "duration": 30,
    "start_time": "2023-05-05T17:58:28.859Z"
   },
   {
    "duration": 10,
    "start_time": "2023-05-05T17:58:29.030Z"
   },
   {
    "duration": 9,
    "start_time": "2023-05-05T17:58:29.218Z"
   },
   {
    "duration": 5,
    "start_time": "2023-05-05T18:00:56.832Z"
   },
   {
    "duration": 13,
    "start_time": "2023-05-05T18:00:57.882Z"
   },
   {
    "duration": 5,
    "start_time": "2023-05-05T18:01:14.107Z"
   },
   {
    "duration": 20,
    "start_time": "2023-05-05T18:01:15.059Z"
   },
   {
    "duration": 10,
    "start_time": "2023-05-05T18:01:15.803Z"
   },
   {
    "duration": 12,
    "start_time": "2023-05-05T18:01:16.293Z"
   },
   {
    "duration": 5,
    "start_time": "2023-05-05T18:01:27.933Z"
   },
   {
    "duration": 11,
    "start_time": "2023-05-05T18:01:28.775Z"
   },
   {
    "duration": 10,
    "start_time": "2023-05-05T18:01:29.373Z"
   },
   {
    "duration": 9,
    "start_time": "2023-05-05T18:01:29.807Z"
   },
   {
    "duration": 8,
    "start_time": "2023-05-05T18:01:45.936Z"
   },
   {
    "duration": 14,
    "start_time": "2023-05-05T18:01:46.875Z"
   },
   {
    "duration": 13,
    "start_time": "2023-05-05T18:01:47.380Z"
   },
   {
    "duration": 10,
    "start_time": "2023-05-05T18:01:47.868Z"
   },
   {
    "duration": 4,
    "start_time": "2023-05-05T18:06:12.017Z"
   },
   {
    "duration": 8,
    "start_time": "2023-05-05T18:06:12.819Z"
   },
   {
    "duration": 7,
    "start_time": "2023-05-05T18:06:13.398Z"
   },
   {
    "duration": 7,
    "start_time": "2023-05-05T18:06:13.998Z"
   },
   {
    "duration": 7,
    "start_time": "2023-05-05T18:06:19.631Z"
   },
   {
    "duration": 5,
    "start_time": "2023-05-05T18:07:53.778Z"
   },
   {
    "duration": 8,
    "start_time": "2023-05-05T18:07:54.432Z"
   },
   {
    "duration": 4,
    "start_time": "2023-05-05T18:08:09.702Z"
   },
   {
    "duration": 30,
    "start_time": "2023-05-05T18:08:10.329Z"
   },
   {
    "duration": 4,
    "start_time": "2023-05-05T18:08:16.986Z"
   },
   {
    "duration": 8,
    "start_time": "2023-05-05T18:08:17.786Z"
   },
   {
    "duration": 10,
    "start_time": "2023-05-05T18:09:37.337Z"
   },
   {
    "duration": 11,
    "start_time": "2023-05-05T18:09:37.985Z"
   },
   {
    "duration": 14,
    "start_time": "2023-05-05T18:09:38.536Z"
   },
   {
    "duration": 7,
    "start_time": "2023-05-05T18:09:38.779Z"
   },
   {
    "duration": 7,
    "start_time": "2023-05-05T18:10:17.180Z"
   },
   {
    "duration": 12,
    "start_time": "2023-05-05T18:10:17.748Z"
   },
   {
    "duration": 12,
    "start_time": "2023-05-05T18:10:18.378Z"
   },
   {
    "duration": 11,
    "start_time": "2023-05-05T18:10:18.742Z"
   },
   {
    "duration": 5,
    "start_time": "2023-05-05T18:12:44.875Z"
   },
   {
    "duration": 10,
    "start_time": "2023-05-05T18:12:45.369Z"
   },
   {
    "duration": 21,
    "start_time": "2023-05-05T18:12:45.540Z"
   },
   {
    "duration": 11,
    "start_time": "2023-05-05T18:12:45.763Z"
   },
   {
    "duration": 7,
    "start_time": "2023-05-05T18:14:38.871Z"
   },
   {
    "duration": 7,
    "start_time": "2023-05-05T18:14:39.527Z"
   },
   {
    "duration": 8,
    "start_time": "2023-05-05T18:14:39.784Z"
   },
   {
    "duration": 7,
    "start_time": "2023-05-05T18:14:40.110Z"
   },
   {
    "duration": 4,
    "start_time": "2023-05-05T18:14:45.217Z"
   },
   {
    "duration": 9,
    "start_time": "2023-05-05T18:14:45.825Z"
   },
   {
    "duration": 7,
    "start_time": "2023-05-05T18:14:46.390Z"
   },
   {
    "duration": 9,
    "start_time": "2023-05-05T18:14:46.886Z"
   },
   {
    "duration": 5,
    "start_time": "2023-05-05T18:14:50.874Z"
   },
   {
    "duration": 10,
    "start_time": "2023-05-05T18:14:51.228Z"
   },
   {
    "duration": 8,
    "start_time": "2023-05-05T18:14:51.393Z"
   },
   {
    "duration": 10,
    "start_time": "2023-05-05T18:14:51.794Z"
   },
   {
    "duration": 4,
    "start_time": "2023-05-05T18:15:04.034Z"
   },
   {
    "duration": 513,
    "start_time": "2023-05-05T18:15:04.786Z"
   },
   {
    "duration": 13,
    "start_time": "2023-05-05T18:15:05.302Z"
   },
   {
    "duration": 13,
    "start_time": "2023-05-05T18:15:05.484Z"
   },
   {
    "duration": 17,
    "start_time": "2023-05-05T18:15:05.701Z"
   },
   {
    "duration": 41,
    "start_time": "2023-05-05T18:15:05.924Z"
   },
   {
    "duration": 26,
    "start_time": "2023-05-05T18:15:06.178Z"
   },
   {
    "duration": 24,
    "start_time": "2023-05-05T18:15:06.389Z"
   },
   {
    "duration": 41,
    "start_time": "2023-05-05T18:15:06.809Z"
   },
   {
    "duration": 209,
    "start_time": "2023-05-05T18:15:07.492Z"
   },
   {
    "duration": 146,
    "start_time": "2023-05-05T18:15:07.983Z"
   },
   {
    "duration": 138,
    "start_time": "2023-05-05T18:15:08.174Z"
   },
   {
    "duration": 164,
    "start_time": "2023-05-05T18:15:08.381Z"
   },
   {
    "duration": 260,
    "start_time": "2023-05-05T18:15:08.604Z"
   },
   {
    "duration": 128,
    "start_time": "2023-05-05T18:15:08.874Z"
   },
   {
    "duration": 137,
    "start_time": "2023-05-05T18:15:09.080Z"
   },
   {
    "duration": 5,
    "start_time": "2023-05-05T18:15:09.991Z"
   },
   {
    "duration": 365,
    "start_time": "2023-05-05T18:15:10.218Z"
   },
   {
    "duration": 365,
    "start_time": "2023-05-05T18:15:10.585Z"
   },
   {
    "duration": 356,
    "start_time": "2023-05-05T18:15:10.952Z"
   },
   {
    "duration": 15,
    "start_time": "2023-05-05T18:15:11.310Z"
   },
   {
    "duration": 7,
    "start_time": "2023-05-05T18:15:11.686Z"
   },
   {
    "duration": 5,
    "start_time": "2023-05-05T18:15:11.878Z"
   },
   {
    "duration": 7,
    "start_time": "2023-05-05T18:15:12.040Z"
   },
   {
    "duration": 8,
    "start_time": "2023-05-05T18:15:12.215Z"
   },
   {
    "duration": 5,
    "start_time": "2023-05-05T18:15:12.378Z"
   },
   {
    "duration": 5,
    "start_time": "2023-05-05T18:15:12.719Z"
   },
   {
    "duration": 132,
    "start_time": "2023-05-05T18:15:12.894Z"
   },
   {
    "duration": 5,
    "start_time": "2023-05-05T18:15:14.278Z"
   },
   {
    "duration": 6,
    "start_time": "2023-05-05T18:15:14.508Z"
   },
   {
    "duration": 7,
    "start_time": "2023-05-05T18:15:14.724Z"
   },
   {
    "duration": 15,
    "start_time": "2023-05-05T18:15:15.096Z"
   },
   {
    "duration": 19,
    "start_time": "2023-05-05T18:15:15.374Z"
   },
   {
    "duration": 28,
    "start_time": "2023-05-05T18:15:15.529Z"
   },
   {
    "duration": 44,
    "start_time": "2023-05-05T18:15:15.823Z"
   },
   {
    "duration": 91,
    "start_time": "2023-05-05T18:15:15.975Z"
   },
   {
    "duration": 101,
    "start_time": "2023-05-05T18:15:16.147Z"
   },
   {
    "duration": 4,
    "start_time": "2023-05-05T18:15:16.347Z"
   },
   {
    "duration": 8,
    "start_time": "2023-05-05T18:15:16.506Z"
   },
   {
    "duration": 12,
    "start_time": "2023-05-05T18:15:16.679Z"
   },
   {
    "duration": 11,
    "start_time": "2023-05-05T18:15:16.882Z"
   },
   {
    "duration": 4,
    "start_time": "2023-05-05T18:15:18.420Z"
   },
   {
    "duration": 5,
    "start_time": "2023-05-05T18:15:19.176Z"
   },
   {
    "duration": 6,
    "start_time": "2023-05-05T18:15:19.386Z"
   },
   {
    "duration": 5,
    "start_time": "2023-05-05T18:15:21.479Z"
   },
   {
    "duration": 10,
    "start_time": "2023-05-05T18:15:21.877Z"
   },
   {
    "duration": 9,
    "start_time": "2023-05-05T18:15:22.075Z"
   },
   {
    "duration": 9,
    "start_time": "2023-05-05T18:15:22.276Z"
   },
   {
    "duration": 9,
    "start_time": "2023-05-05T18:15:23.878Z"
   },
   {
    "duration": 5,
    "start_time": "2023-05-05T18:15:55.169Z"
   },
   {
    "duration": 9,
    "start_time": "2023-05-05T18:15:55.883Z"
   },
   {
    "duration": 9,
    "start_time": "2023-05-05T18:15:56.607Z"
   },
   {
    "duration": 8,
    "start_time": "2023-05-05T18:15:56.912Z"
   },
   {
    "duration": 5,
    "start_time": "2023-05-05T18:16:46.128Z"
   },
   {
    "duration": 8,
    "start_time": "2023-05-05T18:16:46.830Z"
   },
   {
    "duration": 11,
    "start_time": "2023-05-05T18:16:47.397Z"
   },
   {
    "duration": 8,
    "start_time": "2023-05-05T18:16:47.674Z"
   },
   {
    "duration": 11,
    "start_time": "2023-05-05T18:17:05.788Z"
   },
   {
    "duration": 12,
    "start_time": "2023-05-05T18:17:06.292Z"
   },
   {
    "duration": 9,
    "start_time": "2023-05-05T18:17:06.409Z"
   },
   {
    "duration": 10,
    "start_time": "2023-05-05T18:17:06.602Z"
   },
   {
    "duration": 5,
    "start_time": "2023-05-05T18:18:06.295Z"
   },
   {
    "duration": 15,
    "start_time": "2023-05-05T18:18:07.123Z"
   },
   {
    "duration": 5,
    "start_time": "2023-05-05T18:18:26.383Z"
   },
   {
    "duration": 17,
    "start_time": "2023-05-05T18:18:27.001Z"
   },
   {
    "duration": 18,
    "start_time": "2023-05-05T18:18:27.630Z"
   },
   {
    "duration": 34,
    "start_time": "2023-05-05T18:18:28.134Z"
   },
   {
    "duration": 3,
    "start_time": "2023-05-05T18:18:39.009Z"
   },
   {
    "duration": 8,
    "start_time": "2023-05-05T18:18:39.580Z"
   },
   {
    "duration": 7,
    "start_time": "2023-05-05T18:18:39.785Z"
   },
   {
    "duration": 6,
    "start_time": "2023-05-05T18:18:40.389Z"
   },
   {
    "duration": 23,
    "start_time": "2023-05-05T18:20:20.887Z"
   },
   {
    "duration": 4,
    "start_time": "2023-05-05T18:20:26.216Z"
   },
   {
    "duration": 5,
    "start_time": "2023-05-05T18:20:32.088Z"
   },
   {
    "duration": 16,
    "start_time": "2023-05-05T18:20:54.381Z"
   },
   {
    "duration": 10,
    "start_time": "2023-05-05T18:21:10.584Z"
   },
   {
    "duration": 52,
    "start_time": "2023-05-05T18:21:17.689Z"
   },
   {
    "duration": 1714,
    "start_time": "2023-05-05T18:22:20.974Z"
   },
   {
    "duration": 533,
    "start_time": "2023-05-05T18:22:22.695Z"
   },
   {
    "duration": 28,
    "start_time": "2023-05-05T18:22:23.230Z"
   },
   {
    "duration": 121,
    "start_time": "2023-05-05T18:22:23.260Z"
   },
   {
    "duration": 50,
    "start_time": "2023-05-05T18:22:23.383Z"
   },
   {
    "duration": 83,
    "start_time": "2023-05-05T18:22:23.435Z"
   },
   {
    "duration": 19,
    "start_time": "2023-05-05T18:22:23.520Z"
   },
   {
    "duration": 88,
    "start_time": "2023-05-05T18:22:23.544Z"
   },
   {
    "duration": 39,
    "start_time": "2023-05-05T18:22:23.634Z"
   },
   {
    "duration": 280,
    "start_time": "2023-05-05T18:22:23.676Z"
   },
   {
    "duration": 137,
    "start_time": "2023-05-05T18:22:23.958Z"
   },
   {
    "duration": 132,
    "start_time": "2023-05-05T18:22:24.096Z"
   },
   {
    "duration": 133,
    "start_time": "2023-05-05T18:22:24.230Z"
   },
   {
    "duration": 231,
    "start_time": "2023-05-05T18:22:24.369Z"
   },
   {
    "duration": 122,
    "start_time": "2023-05-05T18:22:24.601Z"
   },
   {
    "duration": 164,
    "start_time": "2023-05-05T18:22:24.726Z"
   },
   {
    "duration": 4,
    "start_time": "2023-05-05T18:22:24.893Z"
   },
   {
    "duration": 416,
    "start_time": "2023-05-05T18:22:24.899Z"
   },
   {
    "duration": 360,
    "start_time": "2023-05-05T18:22:25.317Z"
   },
   {
    "duration": 358,
    "start_time": "2023-05-05T18:22:25.678Z"
   },
   {
    "duration": 17,
    "start_time": "2023-05-05T18:22:26.039Z"
   },
   {
    "duration": 37,
    "start_time": "2023-05-05T18:22:26.060Z"
   },
   {
    "duration": 19,
    "start_time": "2023-05-05T18:22:26.099Z"
   },
   {
    "duration": 10,
    "start_time": "2023-05-05T18:22:26.120Z"
   },
   {
    "duration": 58,
    "start_time": "2023-05-05T18:22:26.132Z"
   },
   {
    "duration": 16,
    "start_time": "2023-05-05T18:22:26.192Z"
   },
   {
    "duration": 11,
    "start_time": "2023-05-05T18:22:26.211Z"
   },
   {
    "duration": 143,
    "start_time": "2023-05-05T18:22:26.224Z"
   },
   {
    "duration": 8,
    "start_time": "2023-05-05T18:22:26.370Z"
   },
   {
    "duration": 6,
    "start_time": "2023-05-05T18:22:26.381Z"
   },
   {
    "duration": 22,
    "start_time": "2023-05-05T18:22:26.390Z"
   },
   {
    "duration": 30,
    "start_time": "2023-05-05T18:22:26.414Z"
   },
   {
    "duration": 50,
    "start_time": "2023-05-05T18:22:26.446Z"
   },
   {
    "duration": 18,
    "start_time": "2023-05-05T18:22:26.498Z"
   },
   {
    "duration": 19,
    "start_time": "2023-05-05T18:22:26.518Z"
   },
   {
    "duration": 118,
    "start_time": "2023-05-05T18:22:26.538Z"
   },
   {
    "duration": 188,
    "start_time": "2023-05-05T18:22:26.659Z"
   },
   {
    "duration": 99,
    "start_time": "2023-05-05T18:22:26.850Z"
   },
   {
    "duration": 46,
    "start_time": "2023-05-05T18:22:26.951Z"
   },
   {
    "duration": 15,
    "start_time": "2023-05-05T18:22:26.999Z"
   },
   {
    "duration": 6,
    "start_time": "2023-05-05T18:22:27.018Z"
   },
   {
    "duration": 4,
    "start_time": "2023-05-05T18:22:27.026Z"
   },
   {
    "duration": 51,
    "start_time": "2023-05-05T18:22:27.032Z"
   },
   {
    "duration": 15,
    "start_time": "2023-05-05T18:22:27.085Z"
   },
   {
    "duration": 7,
    "start_time": "2023-05-05T18:22:27.103Z"
   },
   {
    "duration": 16,
    "start_time": "2023-05-05T18:22:27.112Z"
   },
   {
    "duration": 25,
    "start_time": "2023-05-05T18:22:27.130Z"
   },
   {
    "duration": 40,
    "start_time": "2023-05-05T18:22:27.156Z"
   },
   {
    "duration": 12,
    "start_time": "2023-05-05T18:22:27.197Z"
   },
   {
    "duration": 929,
    "start_time": "2023-05-05T18:22:27.211Z"
   },
   {
    "duration": 882,
    "start_time": "2023-05-05T18:22:28.145Z"
   },
   {
    "duration": 801,
    "start_time": "2023-05-05T18:22:29.029Z"
   },
   {
    "duration": 3,
    "start_time": "2023-05-05T18:23:31.896Z"
   },
   {
    "duration": 2,
    "start_time": "2023-05-05T18:23:34.237Z"
   },
   {
    "duration": 150,
    "start_time": "2023-05-05T18:23:46.674Z"
   },
   {
    "duration": 15,
    "start_time": "2023-05-05T18:26:16.281Z"
   },
   {
    "duration": 7,
    "start_time": "2023-05-05T18:26:25.980Z"
   },
   {
    "duration": 5,
    "start_time": "2023-05-05T18:26:39.176Z"
   },
   {
    "duration": 4,
    "start_time": "2023-05-05T18:26:55.074Z"
   },
   {
    "duration": 9,
    "start_time": "2023-05-05T18:26:55.809Z"
   },
   {
    "duration": 8,
    "start_time": "2023-05-05T18:26:57.204Z"
   },
   {
    "duration": 8,
    "start_time": "2023-05-05T18:26:58.068Z"
   },
   {
    "duration": 5,
    "start_time": "2023-05-05T18:27:08.077Z"
   },
   {
    "duration": 11,
    "start_time": "2023-05-05T18:27:08.863Z"
   },
   {
    "duration": 4,
    "start_time": "2023-05-05T18:27:12.470Z"
   },
   {
    "duration": 9,
    "start_time": "2023-05-05T18:27:13.095Z"
   },
   {
    "duration": 14,
    "start_time": "2023-05-05T18:27:13.284Z"
   },
   {
    "duration": 7,
    "start_time": "2023-05-05T18:27:13.780Z"
   },
   {
    "duration": 5,
    "start_time": "2023-05-05T18:27:38.514Z"
   },
   {
    "duration": 8,
    "start_time": "2023-05-05T18:27:39.176Z"
   },
   {
    "duration": 13,
    "start_time": "2023-05-05T18:27:40.242Z"
   },
   {
    "duration": 7,
    "start_time": "2023-05-05T18:27:40.774Z"
   },
   {
    "duration": 4,
    "start_time": "2023-05-05T18:27:53.976Z"
   },
   {
    "duration": 3,
    "start_time": "2023-05-05T18:28:00.434Z"
   },
   {
    "duration": 4,
    "start_time": "2023-05-05T18:28:04.570Z"
   },
   {
    "duration": 116,
    "start_time": "2023-05-05T18:28:33.752Z"
   },
   {
    "duration": 5,
    "start_time": "2023-05-05T18:28:35.579Z"
   },
   {
    "duration": 67,
    "start_time": "2023-05-05T18:28:42.676Z"
   },
   {
    "duration": 4,
    "start_time": "2023-05-05T18:28:50.516Z"
   },
   {
    "duration": 4,
    "start_time": "2023-05-05T18:28:58.484Z"
   },
   {
    "duration": 12,
    "start_time": "2023-05-05T18:28:59.371Z"
   },
   {
    "duration": 11,
    "start_time": "2023-05-05T18:28:59.898Z"
   },
   {
    "duration": 11,
    "start_time": "2023-05-05T18:29:00.498Z"
   },
   {
    "duration": 16,
    "start_time": "2023-05-05T18:29:05.137Z"
   },
   {
    "duration": 975,
    "start_time": "2023-05-05T18:29:05.512Z"
   },
   {
    "duration": 934,
    "start_time": "2023-05-05T18:29:06.490Z"
   },
   {
    "duration": 943,
    "start_time": "2023-05-05T18:29:07.426Z"
   },
   {
    "duration": 4,
    "start_time": "2023-05-05T18:29:27.696Z"
   },
   {
    "duration": 11,
    "start_time": "2023-05-05T18:29:59.635Z"
   },
   {
    "duration": 2161,
    "start_time": "2023-05-05T18:30:18.586Z"
   },
   {
    "duration": 668,
    "start_time": "2023-05-05T18:30:20.750Z"
   },
   {
    "duration": 18,
    "start_time": "2023-05-05T18:30:21.421Z"
   },
   {
    "duration": 17,
    "start_time": "2023-05-05T18:30:21.445Z"
   },
   {
    "duration": 66,
    "start_time": "2023-05-05T18:30:21.468Z"
   },
   {
    "duration": 62,
    "start_time": "2023-05-05T18:30:21.536Z"
   },
   {
    "duration": 32,
    "start_time": "2023-05-05T18:30:21.603Z"
   },
   {
    "duration": 39,
    "start_time": "2023-05-05T18:30:21.637Z"
   },
   {
    "duration": 81,
    "start_time": "2023-05-05T18:30:21.678Z"
   },
   {
    "duration": 270,
    "start_time": "2023-05-05T18:30:21.764Z"
   },
   {
    "duration": 150,
    "start_time": "2023-05-05T18:30:22.036Z"
   },
   {
    "duration": 167,
    "start_time": "2023-05-05T18:30:22.197Z"
   },
   {
    "duration": 167,
    "start_time": "2023-05-05T18:30:22.365Z"
   },
   {
    "duration": 289,
    "start_time": "2023-05-05T18:30:22.536Z"
   },
   {
    "duration": 182,
    "start_time": "2023-05-05T18:30:22.827Z"
   },
   {
    "duration": 152,
    "start_time": "2023-05-05T18:30:23.017Z"
   },
   {
    "duration": 38,
    "start_time": "2023-05-05T18:30:23.174Z"
   },
   {
    "duration": 452,
    "start_time": "2023-05-05T18:30:23.220Z"
   },
   {
    "duration": 450,
    "start_time": "2023-05-05T18:30:23.678Z"
   },
   {
    "duration": 446,
    "start_time": "2023-05-05T18:30:24.131Z"
   },
   {
    "duration": 26,
    "start_time": "2023-05-05T18:30:24.580Z"
   },
   {
    "duration": 13,
    "start_time": "2023-05-05T18:30:24.611Z"
   },
   {
    "duration": 38,
    "start_time": "2023-05-05T18:30:24.626Z"
   },
   {
    "duration": 58,
    "start_time": "2023-05-05T18:30:24.668Z"
   },
   {
    "duration": 63,
    "start_time": "2023-05-05T18:30:24.728Z"
   },
   {
    "duration": 44,
    "start_time": "2023-05-05T18:30:24.793Z"
   },
   {
    "duration": 69,
    "start_time": "2023-05-05T18:30:24.841Z"
   },
   {
    "duration": 199,
    "start_time": "2023-05-05T18:30:24.912Z"
   },
   {
    "duration": 7,
    "start_time": "2023-05-05T18:30:25.114Z"
   },
   {
    "duration": 106,
    "start_time": "2023-05-05T18:30:25.124Z"
   },
   {
    "duration": 87,
    "start_time": "2023-05-05T18:30:25.233Z"
   },
   {
    "duration": 77,
    "start_time": "2023-05-05T18:30:25.322Z"
   },
   {
    "duration": 121,
    "start_time": "2023-05-05T18:30:25.401Z"
   },
   {
    "duration": 37,
    "start_time": "2023-05-05T18:30:25.524Z"
   },
   {
    "duration": 69,
    "start_time": "2023-05-05T18:30:25.564Z"
   },
   {
    "duration": 20,
    "start_time": "2023-05-05T18:30:25.645Z"
   },
   {
    "duration": 143,
    "start_time": "2023-05-05T18:30:25.671Z"
   },
   {
    "duration": 29,
    "start_time": "2023-05-05T18:30:25.817Z"
   },
   {
    "duration": 170,
    "start_time": "2023-05-05T18:30:25.849Z"
   },
   {
    "duration": 187,
    "start_time": "2023-05-05T18:30:26.030Z"
   },
   {
    "duration": 10,
    "start_time": "2023-05-05T18:30:26.231Z"
   },
   {
    "duration": 89,
    "start_time": "2023-05-05T18:30:26.243Z"
   },
   {
    "duration": 81,
    "start_time": "2023-05-05T18:30:26.335Z"
   },
   {
    "duration": 114,
    "start_time": "2023-05-05T18:30:26.423Z"
   },
   {
    "duration": 267,
    "start_time": "2023-05-05T18:30:26.543Z"
   },
   {
    "duration": 0,
    "start_time": "2023-05-05T18:30:26.821Z"
   },
   {
    "duration": 0,
    "start_time": "2023-05-05T18:30:26.829Z"
   },
   {
    "duration": 0,
    "start_time": "2023-05-05T18:30:26.831Z"
   },
   {
    "duration": 0,
    "start_time": "2023-05-05T18:30:26.832Z"
   },
   {
    "duration": 0,
    "start_time": "2023-05-05T18:30:26.834Z"
   },
   {
    "duration": 0,
    "start_time": "2023-05-05T18:30:26.835Z"
   },
   {
    "duration": 0,
    "start_time": "2023-05-05T18:30:26.836Z"
   },
   {
    "duration": 0,
    "start_time": "2023-05-05T18:30:26.840Z"
   },
   {
    "duration": 0,
    "start_time": "2023-05-05T18:30:26.842Z"
   },
   {
    "duration": 0,
    "start_time": "2023-05-05T18:30:26.843Z"
   },
   {
    "duration": 5,
    "start_time": "2023-05-05T18:31:16.846Z"
   },
   {
    "duration": 9,
    "start_time": "2023-05-05T18:31:20.695Z"
   },
   {
    "duration": 5,
    "start_time": "2023-05-05T18:31:21.790Z"
   },
   {
    "duration": 3,
    "start_time": "2023-05-05T18:31:27.925Z"
   },
   {
    "duration": 15,
    "start_time": "2023-05-05T18:31:28.766Z"
   },
   {
    "duration": 14,
    "start_time": "2023-05-05T18:31:28.971Z"
   },
   {
    "duration": 8,
    "start_time": "2023-05-05T18:31:34.399Z"
   },
   {
    "duration": 42,
    "start_time": "2023-05-05T18:31:45.486Z"
   },
   {
    "duration": 12,
    "start_time": "2023-05-05T18:31:46.614Z"
   },
   {
    "duration": 16,
    "start_time": "2023-05-05T18:31:47.318Z"
   },
   {
    "duration": 10,
    "start_time": "2023-05-05T18:31:47.579Z"
   },
   {
    "duration": 42,
    "start_time": "2023-05-05T18:31:47.941Z"
   },
   {
    "duration": 23,
    "start_time": "2023-05-05T18:31:48.682Z"
   },
   {
    "duration": 5,
    "start_time": "2023-05-05T18:31:54.616Z"
   },
   {
    "duration": 29,
    "start_time": "2023-05-05T18:31:55.732Z"
   },
   {
    "duration": 27,
    "start_time": "2023-05-05T18:31:56.562Z"
   },
   {
    "duration": 15,
    "start_time": "2023-05-05T18:31:57.030Z"
   },
   {
    "duration": 12,
    "start_time": "2023-05-05T18:32:00.536Z"
   },
   {
    "duration": 1378,
    "start_time": "2023-05-05T18:32:01.435Z"
   },
   {
    "duration": 1106,
    "start_time": "2023-05-05T18:32:02.815Z"
   },
   {
    "duration": 1049,
    "start_time": "2023-05-05T18:32:03.930Z"
   },
   {
    "duration": 18,
    "start_time": "2023-05-05T18:33:23.103Z"
   },
   {
    "duration": 1215,
    "start_time": "2023-05-05T18:33:23.451Z"
   },
   {
    "duration": 1043,
    "start_time": "2023-05-05T18:33:24.669Z"
   },
   {
    "duration": 1045,
    "start_time": "2023-05-05T18:33:25.718Z"
   },
   {
    "duration": 11,
    "start_time": "2023-05-05T18:34:03.399Z"
   },
   {
    "duration": 961,
    "start_time": "2023-05-05T18:34:03.810Z"
   },
   {
    "duration": 1017,
    "start_time": "2023-05-05T18:34:05.556Z"
   },
   {
    "duration": 1042,
    "start_time": "2023-05-05T18:34:06.579Z"
   },
   {
    "duration": 11,
    "start_time": "2023-05-05T18:34:13.213Z"
   },
   {
    "duration": 1003,
    "start_time": "2023-05-05T18:34:13.426Z"
   },
   {
    "duration": 1048,
    "start_time": "2023-05-05T18:34:14.432Z"
   },
   {
    "duration": 1097,
    "start_time": "2023-05-05T18:34:15.488Z"
   },
   {
    "duration": 17,
    "start_time": "2023-05-05T18:34:28.069Z"
   },
   {
    "duration": 972,
    "start_time": "2023-05-05T18:34:28.434Z"
   },
   {
    "duration": 986,
    "start_time": "2023-05-05T18:34:29.408Z"
   },
   {
    "duration": 1135,
    "start_time": "2023-05-05T18:34:30.396Z"
   },
   {
    "duration": 24,
    "start_time": "2023-05-05T18:34:51.836Z"
   },
   {
    "duration": 959,
    "start_time": "2023-05-05T18:34:52.317Z"
   },
   {
    "duration": 941,
    "start_time": "2023-05-05T18:34:53.278Z"
   },
   {
    "duration": 943,
    "start_time": "2023-05-05T18:34:54.221Z"
   },
   {
    "duration": 16,
    "start_time": "2023-05-05T18:36:56.264Z"
   },
   {
    "duration": 5,
    "start_time": "2023-05-05T18:37:02.706Z"
   },
   {
    "duration": 5,
    "start_time": "2023-05-05T18:37:05.831Z"
   },
   {
    "duration": 8,
    "start_time": "2023-05-05T18:37:06.033Z"
   },
   {
    "duration": 16,
    "start_time": "2023-05-05T18:37:06.275Z"
   },
   {
    "duration": 30,
    "start_time": "2023-05-05T18:37:06.478Z"
   },
   {
    "duration": 3,
    "start_time": "2023-05-05T18:37:08.117Z"
   },
   {
    "duration": 10,
    "start_time": "2023-05-05T18:37:09.471Z"
   },
   {
    "duration": 23,
    "start_time": "2023-05-05T18:37:09.659Z"
   },
   {
    "duration": 3,
    "start_time": "2023-05-05T18:37:11.035Z"
   },
   {
    "duration": 14,
    "start_time": "2023-05-05T18:37:11.503Z"
   },
   {
    "duration": 8,
    "start_time": "2023-05-05T18:37:11.709Z"
   },
   {
    "duration": 8,
    "start_time": "2023-05-05T18:37:11.934Z"
   },
   {
    "duration": 13,
    "start_time": "2023-05-05T18:37:14.282Z"
   },
   {
    "duration": 988,
    "start_time": "2023-05-05T18:37:15.034Z"
   },
   {
    "duration": 1075,
    "start_time": "2023-05-05T18:37:16.025Z"
   },
   {
    "duration": 1028,
    "start_time": "2023-05-05T18:37:17.111Z"
   },
   {
    "duration": 16,
    "start_time": "2023-05-05T18:37:30.418Z"
   },
   {
    "duration": 7,
    "start_time": "2023-05-05T18:37:31.282Z"
   },
   {
    "duration": 59,
    "start_time": "2023-05-05T18:37:32.022Z"
   },
   {
    "duration": 25,
    "start_time": "2023-05-05T18:37:32.436Z"
   },
   {
    "duration": 69,
    "start_time": "2023-05-05T18:37:32.768Z"
   },
   {
    "duration": 10,
    "start_time": "2023-05-05T18:37:33.279Z"
   },
   {
    "duration": 4,
    "start_time": "2023-05-05T18:37:34.226Z"
   },
   {
    "duration": 14,
    "start_time": "2023-05-05T18:37:34.596Z"
   },
   {
    "duration": 10,
    "start_time": "2023-05-05T18:37:34.799Z"
   },
   {
    "duration": 17,
    "start_time": "2023-05-05T18:37:34.970Z"
   },
   {
    "duration": 6,
    "start_time": "2023-05-05T18:37:36.282Z"
   },
   {
    "duration": 10,
    "start_time": "2023-05-05T18:37:36.958Z"
   },
   {
    "duration": 4,
    "start_time": "2023-05-05T18:37:37.126Z"
   },
   {
    "duration": 20,
    "start_time": "2023-05-05T18:37:38.278Z"
   },
   {
    "duration": 6,
    "start_time": "2023-05-05T18:37:38.621Z"
   },
   {
    "duration": 6,
    "start_time": "2023-05-05T18:37:38.809Z"
   },
   {
    "duration": 8,
    "start_time": "2023-05-05T18:37:39.017Z"
   },
   {
    "duration": 238,
    "start_time": "2023-05-05T18:37:39.770Z"
   },
   {
    "duration": 998,
    "start_time": "2023-05-05T18:37:40.011Z"
   },
   {
    "duration": 935,
    "start_time": "2023-05-05T18:37:41.015Z"
   },
   {
    "duration": 843,
    "start_time": "2023-05-05T18:37:41.960Z"
   },
   {
    "duration": 1840,
    "start_time": "2023-05-05T18:37:50.191Z"
   },
   {
    "duration": 607,
    "start_time": "2023-05-05T18:37:52.038Z"
   },
   {
    "duration": 50,
    "start_time": "2023-05-05T18:37:52.655Z"
   },
   {
    "duration": 15,
    "start_time": "2023-05-05T18:37:52.715Z"
   },
   {
    "duration": 102,
    "start_time": "2023-05-05T18:37:52.734Z"
   },
   {
    "duration": 68,
    "start_time": "2023-05-05T18:37:52.838Z"
   },
   {
    "duration": 47,
    "start_time": "2023-05-05T18:37:52.914Z"
   },
   {
    "duration": 41,
    "start_time": "2023-05-05T18:37:52.971Z"
   },
   {
    "duration": 48,
    "start_time": "2023-05-05T18:37:53.018Z"
   },
   {
    "duration": 275,
    "start_time": "2023-05-05T18:37:53.068Z"
   },
   {
    "duration": 147,
    "start_time": "2023-05-05T18:37:53.345Z"
   },
   {
    "duration": 123,
    "start_time": "2023-05-05T18:37:53.496Z"
   },
   {
    "duration": 142,
    "start_time": "2023-05-05T18:37:53.622Z"
   },
   {
    "duration": 227,
    "start_time": "2023-05-05T18:37:53.773Z"
   },
   {
    "duration": 126,
    "start_time": "2023-05-05T18:37:54.006Z"
   },
   {
    "duration": 128,
    "start_time": "2023-05-05T18:37:54.134Z"
   },
   {
    "duration": 3,
    "start_time": "2023-05-05T18:37:54.264Z"
   },
   {
    "duration": 353,
    "start_time": "2023-05-05T18:37:54.270Z"
   },
   {
    "duration": 370,
    "start_time": "2023-05-05T18:37:54.625Z"
   },
   {
    "duration": 399,
    "start_time": "2023-05-05T18:37:55.000Z"
   },
   {
    "duration": 13,
    "start_time": "2023-05-05T18:37:55.408Z"
   },
   {
    "duration": 84,
    "start_time": "2023-05-05T18:37:55.423Z"
   },
   {
    "duration": 11,
    "start_time": "2023-05-05T18:37:55.508Z"
   },
   {
    "duration": 79,
    "start_time": "2023-05-05T18:37:55.521Z"
   },
   {
    "duration": 11,
    "start_time": "2023-05-05T18:37:55.602Z"
   },
   {
    "duration": 11,
    "start_time": "2023-05-05T18:37:55.615Z"
   },
   {
    "duration": 51,
    "start_time": "2023-05-05T18:37:55.628Z"
   },
   {
    "duration": 138,
    "start_time": "2023-05-05T18:37:55.683Z"
   },
   {
    "duration": 6,
    "start_time": "2023-05-05T18:37:55.822Z"
   },
   {
    "duration": 87,
    "start_time": "2023-05-05T18:37:55.830Z"
   },
   {
    "duration": 20,
    "start_time": "2023-05-05T18:37:55.920Z"
   },
   {
    "duration": 125,
    "start_time": "2023-05-05T18:37:55.942Z"
   },
   {
    "duration": 51,
    "start_time": "2023-05-05T18:37:56.082Z"
   },
   {
    "duration": 84,
    "start_time": "2023-05-05T18:37:56.136Z"
   },
   {
    "duration": 60,
    "start_time": "2023-05-05T18:37:56.222Z"
   },
   {
    "duration": 112,
    "start_time": "2023-05-05T18:37:56.290Z"
   },
   {
    "duration": 73,
    "start_time": "2023-05-05T18:37:56.407Z"
   },
   {
    "duration": 65,
    "start_time": "2023-05-05T18:37:56.483Z"
   },
   {
    "duration": 100,
    "start_time": "2023-05-05T18:37:56.556Z"
   },
   {
    "duration": 102,
    "start_time": "2023-05-05T18:37:56.658Z"
   },
   {
    "duration": 36,
    "start_time": "2023-05-05T18:37:56.786Z"
   },
   {
    "duration": 34,
    "start_time": "2023-05-05T18:37:56.825Z"
   },
   {
    "duration": 52,
    "start_time": "2023-05-05T18:37:56.862Z"
   },
   {
    "duration": 14,
    "start_time": "2023-05-05T18:37:56.916Z"
   },
   {
    "duration": 5,
    "start_time": "2023-05-05T18:37:56.932Z"
   },
   {
    "duration": 66,
    "start_time": "2023-05-05T18:37:56.939Z"
   },
   {
    "duration": 11,
    "start_time": "2023-05-05T18:37:57.006Z"
   },
   {
    "duration": 8,
    "start_time": "2023-05-05T18:37:57.019Z"
   },
   {
    "duration": 15,
    "start_time": "2023-05-05T18:37:57.029Z"
   },
   {
    "duration": 49,
    "start_time": "2023-05-05T18:37:57.058Z"
   },
   {
    "duration": 13,
    "start_time": "2023-05-05T18:37:57.109Z"
   },
   {
    "duration": 16,
    "start_time": "2023-05-05T18:37:57.123Z"
   },
   {
    "duration": 981,
    "start_time": "2023-05-05T18:37:57.141Z"
   },
   {
    "duration": 867,
    "start_time": "2023-05-05T18:37:58.124Z"
   },
   {
    "duration": 848,
    "start_time": "2023-05-05T18:37:59.006Z"
   },
   {
    "duration": 20,
    "start_time": "2023-05-05T18:38:38.618Z"
   },
   {
    "duration": 10,
    "start_time": "2023-05-05T18:38:39.041Z"
   },
   {
    "duration": 50,
    "start_time": "2023-05-05T18:38:39.463Z"
   },
   {
    "duration": 11,
    "start_time": "2023-05-05T18:38:39.890Z"
   },
   {
    "duration": 48,
    "start_time": "2023-05-05T18:38:41.030Z"
   },
   {
    "duration": 5,
    "start_time": "2023-05-05T18:38:41.332Z"
   },
   {
    "duration": 5,
    "start_time": "2023-05-05T18:38:41.801Z"
   },
   {
    "duration": 7,
    "start_time": "2023-05-05T18:38:58.776Z"
   },
   {
    "duration": 14,
    "start_time": "2023-05-05T18:38:59.989Z"
   },
   {
    "duration": 18,
    "start_time": "2023-05-05T18:39:00.488Z"
   },
   {
    "duration": 10,
    "start_time": "2023-05-05T18:39:01.012Z"
   },
   {
    "duration": 1650,
    "start_time": "2023-05-05T18:49:57.766Z"
   },
   {
    "duration": 495,
    "start_time": "2023-05-05T18:49:59.418Z"
   },
   {
    "duration": 32,
    "start_time": "2023-05-05T18:49:59.915Z"
   },
   {
    "duration": 14,
    "start_time": "2023-05-05T18:49:59.949Z"
   },
   {
    "duration": 41,
    "start_time": "2023-05-05T18:49:59.967Z"
   },
   {
    "duration": 54,
    "start_time": "2023-05-05T18:50:00.010Z"
   },
   {
    "duration": 38,
    "start_time": "2023-05-05T18:50:00.072Z"
   },
   {
    "duration": 35,
    "start_time": "2023-05-05T18:50:00.111Z"
   },
   {
    "duration": 89,
    "start_time": "2023-05-05T18:50:00.148Z"
   },
   {
    "duration": 240,
    "start_time": "2023-05-05T18:50:00.239Z"
   },
   {
    "duration": 200,
    "start_time": "2023-05-05T18:50:00.487Z"
   },
   {
    "duration": 291,
    "start_time": "2023-05-05T18:50:00.688Z"
   },
   {
    "duration": 301,
    "start_time": "2023-05-05T18:50:00.983Z"
   },
   {
    "duration": 496,
    "start_time": "2023-05-05T18:50:01.289Z"
   },
   {
    "duration": 276,
    "start_time": "2023-05-05T18:50:01.788Z"
   },
   {
    "duration": 275,
    "start_time": "2023-05-05T18:50:02.067Z"
   },
   {
    "duration": 4,
    "start_time": "2023-05-05T18:50:02.347Z"
   },
   {
    "duration": 744,
    "start_time": "2023-05-05T18:50:02.353Z"
   },
   {
    "duration": 493,
    "start_time": "2023-05-05T18:50:03.100Z"
   },
   {
    "duration": 374,
    "start_time": "2023-05-05T18:50:03.595Z"
   },
   {
    "duration": 13,
    "start_time": "2023-05-05T18:50:03.981Z"
   },
   {
    "duration": 8,
    "start_time": "2023-05-05T18:50:03.996Z"
   },
   {
    "duration": 12,
    "start_time": "2023-05-05T18:50:04.006Z"
   },
   {
    "duration": 69,
    "start_time": "2023-05-05T18:50:04.020Z"
   },
   {
    "duration": 8,
    "start_time": "2023-05-05T18:50:04.091Z"
   },
   {
    "duration": 8,
    "start_time": "2023-05-05T18:50:04.101Z"
   },
   {
    "duration": 12,
    "start_time": "2023-05-05T18:50:04.112Z"
   },
   {
    "duration": 194,
    "start_time": "2023-05-05T18:50:04.127Z"
   },
   {
    "duration": 6,
    "start_time": "2023-05-05T18:50:04.323Z"
   },
   {
    "duration": 199,
    "start_time": "2023-05-05T18:50:04.331Z"
   },
   {
    "duration": 103,
    "start_time": "2023-05-05T18:50:04.532Z"
   },
   {
    "duration": 71,
    "start_time": "2023-05-05T18:50:04.637Z"
   },
   {
    "duration": 17,
    "start_time": "2023-05-05T18:50:04.710Z"
   },
   {
    "duration": 62,
    "start_time": "2023-05-05T18:50:04.729Z"
   },
   {
    "duration": 29,
    "start_time": "2023-05-05T18:50:04.793Z"
   },
   {
    "duration": 99,
    "start_time": "2023-05-05T18:50:04.849Z"
   },
   {
    "duration": 56,
    "start_time": "2023-05-05T18:50:04.953Z"
   },
   {
    "duration": 12,
    "start_time": "2023-05-05T18:50:05.052Z"
   },
   {
    "duration": 113,
    "start_time": "2023-05-05T18:50:05.069Z"
   },
   {
    "duration": 74,
    "start_time": "2023-05-05T18:50:05.187Z"
   },
   {
    "duration": 42,
    "start_time": "2023-05-05T18:50:05.341Z"
   },
   {
    "duration": 31,
    "start_time": "2023-05-05T18:50:05.384Z"
   },
   {
    "duration": 63,
    "start_time": "2023-05-05T18:50:05.417Z"
   },
   {
    "duration": 9,
    "start_time": "2023-05-05T18:50:05.482Z"
   },
   {
    "duration": 16,
    "start_time": "2023-05-05T18:50:05.493Z"
   },
   {
    "duration": 70,
    "start_time": "2023-05-05T18:50:05.511Z"
   },
   {
    "duration": 22,
    "start_time": "2023-05-05T18:50:05.583Z"
   },
   {
    "duration": 27,
    "start_time": "2023-05-05T18:50:05.607Z"
   },
   {
    "duration": 65,
    "start_time": "2023-05-05T18:50:05.636Z"
   },
   {
    "duration": 28,
    "start_time": "2023-05-05T18:50:05.703Z"
   },
   {
    "duration": 71,
    "start_time": "2023-05-05T18:50:05.733Z"
   },
   {
    "duration": 8,
    "start_time": "2023-05-05T18:50:05.807Z"
   },
   {
    "duration": 1005,
    "start_time": "2023-05-05T18:50:05.817Z"
   },
   {
    "duration": 839,
    "start_time": "2023-05-05T18:50:06.824Z"
   },
   {
    "duration": 833,
    "start_time": "2023-05-05T18:50:07.670Z"
   },
   {
    "duration": 104,
    "start_time": "2023-05-05T18:52:14.411Z"
   },
   {
    "duration": 105,
    "start_time": "2023-05-05T18:52:24.096Z"
   },
   {
    "duration": 17,
    "start_time": "2023-05-05T18:56:35.421Z"
   },
   {
    "duration": 6,
    "start_time": "2023-05-05T18:56:36.695Z"
   },
   {
    "duration": 14,
    "start_time": "2023-05-05T18:57:10.020Z"
   },
   {
    "duration": 5,
    "start_time": "2023-05-05T18:57:11.315Z"
   },
   {
    "duration": 35,
    "start_time": "2023-05-05T18:57:31.740Z"
   },
   {
    "duration": 5,
    "start_time": "2023-05-05T18:57:33.687Z"
   },
   {
    "duration": 5,
    "start_time": "2023-05-05T18:57:39.130Z"
   },
   {
    "duration": 11,
    "start_time": "2023-05-05T18:57:39.761Z"
   },
   {
    "duration": 8,
    "start_time": "2023-05-05T18:57:40.593Z"
   },
   {
    "duration": 8,
    "start_time": "2023-05-05T18:57:41.499Z"
   },
   {
    "duration": 3,
    "start_time": "2023-05-05T18:57:44.285Z"
   },
   {
    "duration": 3,
    "start_time": "2023-05-05T18:57:45.825Z"
   },
   {
    "duration": 5,
    "start_time": "2023-05-05T18:57:46.094Z"
   },
   {
    "duration": 3,
    "start_time": "2023-05-05T18:57:51.807Z"
   },
   {
    "duration": 7,
    "start_time": "2023-05-05T18:57:53.604Z"
   },
   {
    "duration": 7,
    "start_time": "2023-05-05T18:57:54.085Z"
   },
   {
    "duration": 7,
    "start_time": "2023-05-05T18:57:54.392Z"
   },
   {
    "duration": 17,
    "start_time": "2023-05-05T18:58:06.589Z"
   },
   {
    "duration": 13,
    "start_time": "2023-05-05T18:58:06.894Z"
   },
   {
    "duration": 31,
    "start_time": "2023-05-05T18:58:08.242Z"
   },
   {
    "duration": 51,
    "start_time": "2023-05-05T18:58:08.436Z"
   },
   {
    "duration": 30,
    "start_time": "2023-05-05T18:58:08.643Z"
   },
   {
    "duration": 13,
    "start_time": "2023-05-05T18:58:08.807Z"
   },
   {
    "duration": 6,
    "start_time": "2023-05-05T18:58:08.975Z"
   },
   {
    "duration": 24,
    "start_time": "2023-05-05T18:58:09.135Z"
   },
   {
    "duration": 5,
    "start_time": "2023-05-05T18:58:09.299Z"
   },
   {
    "duration": 4,
    "start_time": "2023-05-05T18:58:09.433Z"
   },
   {
    "duration": 8,
    "start_time": "2023-05-05T18:58:09.612Z"
   },
   {
    "duration": 8,
    "start_time": "2023-05-05T18:58:09.789Z"
   },
   {
    "duration": 7,
    "start_time": "2023-05-05T18:58:09.976Z"
   },
   {
    "duration": 4,
    "start_time": "2023-05-05T18:58:11.214Z"
   },
   {
    "duration": 5,
    "start_time": "2023-05-05T18:58:11.960Z"
   },
   {
    "duration": 4,
    "start_time": "2023-05-05T18:58:12.159Z"
   },
   {
    "duration": 4,
    "start_time": "2023-05-05T18:58:13.499Z"
   },
   {
    "duration": 7,
    "start_time": "2023-05-05T18:58:13.933Z"
   },
   {
    "duration": 14,
    "start_time": "2023-05-05T18:58:14.164Z"
   },
   {
    "duration": 6,
    "start_time": "2023-05-05T18:58:14.398Z"
   },
   {
    "duration": 7,
    "start_time": "2023-05-05T18:58:15.532Z"
   },
   {
    "duration": 919,
    "start_time": "2023-05-05T18:58:15.720Z"
   },
   {
    "duration": 839,
    "start_time": "2023-05-05T18:58:16.642Z"
   },
   {
    "duration": 806,
    "start_time": "2023-05-05T18:58:17.483Z"
   },
   {
    "duration": 5,
    "start_time": "2023-05-05T19:01:09.233Z"
   },
   {
    "duration": 5,
    "start_time": "2023-05-05T19:01:09.802Z"
   },
   {
    "duration": 5,
    "start_time": "2023-05-05T19:01:10.092Z"
   },
   {
    "duration": 21,
    "start_time": "2023-05-05T19:01:10.336Z"
   },
   {
    "duration": 13,
    "start_time": "2023-05-05T19:01:10.608Z"
   },
   {
    "duration": 23,
    "start_time": "2023-05-05T19:01:10.936Z"
   },
   {
    "duration": 13,
    "start_time": "2023-05-05T19:01:11.301Z"
   },
   {
    "duration": 5,
    "start_time": "2023-05-05T19:01:11.609Z"
   },
   {
    "duration": 21,
    "start_time": "2023-05-05T19:01:11.972Z"
   },
   {
    "duration": 32,
    "start_time": "2023-05-05T19:01:56.524Z"
   },
   {
    "duration": 14,
    "start_time": "2023-05-05T19:01:57.919Z"
   },
   {
    "duration": 5,
    "start_time": "2023-05-05T19:02:02.783Z"
   },
   {
    "duration": 9,
    "start_time": "2023-05-05T19:02:02.985Z"
   },
   {
    "duration": 8,
    "start_time": "2023-05-05T19:02:03.189Z"
   },
   {
    "duration": 8,
    "start_time": "2023-05-05T19:02:03.397Z"
   },
   {
    "duration": 3,
    "start_time": "2023-05-05T19:02:05.026Z"
   },
   {
    "duration": 8,
    "start_time": "2023-05-05T19:02:06.065Z"
   },
   {
    "duration": 5,
    "start_time": "2023-05-05T19:02:06.260Z"
   },
   {
    "duration": 7,
    "start_time": "2023-05-05T19:02:07.759Z"
   },
   {
    "duration": 7,
    "start_time": "2023-05-05T19:02:08.181Z"
   },
   {
    "duration": 6,
    "start_time": "2023-05-05T19:02:08.383Z"
   },
   {
    "duration": 7,
    "start_time": "2023-05-05T19:02:08.708Z"
   },
   {
    "duration": 7,
    "start_time": "2023-05-05T19:02:09.929Z"
   },
   {
    "duration": 834,
    "start_time": "2023-05-05T19:02:10.113Z"
   },
   {
    "duration": 7,
    "start_time": "2023-05-05T19:02:57.567Z"
   },
   {
    "duration": 6,
    "start_time": "2023-05-05T19:03:01.186Z"
   },
   {
    "duration": 14,
    "start_time": "2023-05-05T19:03:01.967Z"
   },
   {
    "duration": 7,
    "start_time": "2023-05-05T19:03:02.509Z"
   },
   {
    "duration": 7,
    "start_time": "2023-05-05T19:03:02.831Z"
   },
   {
    "duration": 3,
    "start_time": "2023-05-05T19:03:48.810Z"
   },
   {
    "duration": 146,
    "start_time": "2023-05-05T19:03:49.321Z"
   },
   {
    "duration": 19,
    "start_time": "2023-05-05T19:03:49.537Z"
   },
   {
    "duration": 3,
    "start_time": "2023-05-05T19:05:44.484Z"
   },
   {
    "duration": 4,
    "start_time": "2023-05-05T19:05:47.435Z"
   },
   {
    "duration": 26,
    "start_time": "2023-05-05T19:05:48.631Z"
   },
   {
    "duration": 19,
    "start_time": "2023-05-05T19:05:49.563Z"
   },
   {
    "duration": 4,
    "start_time": "2023-05-05T19:06:33.584Z"
   },
   {
    "duration": 22,
    "start_time": "2023-05-05T19:06:34.386Z"
   },
   {
    "duration": 17,
    "start_time": "2023-05-05T19:06:34.788Z"
   },
   {
    "duration": 23,
    "start_time": "2023-05-05T19:06:35.269Z"
   },
   {
    "duration": 4,
    "start_time": "2023-05-05T19:06:41.821Z"
   },
   {
    "duration": 14,
    "start_time": "2023-05-05T19:06:42.336Z"
   },
   {
    "duration": 6,
    "start_time": "2023-05-05T19:06:42.522Z"
   },
   {
    "duration": 8,
    "start_time": "2023-05-05T19:06:42.712Z"
   },
   {
    "duration": 5,
    "start_time": "2023-05-05T19:07:53.968Z"
   },
   {
    "duration": 7,
    "start_time": "2023-05-05T19:07:54.684Z"
   },
   {
    "duration": 4,
    "start_time": "2023-05-05T19:08:26.981Z"
   },
   {
    "duration": 18,
    "start_time": "2023-05-05T19:08:28.470Z"
   },
   {
    "duration": 15,
    "start_time": "2023-05-05T19:08:28.928Z"
   },
   {
    "duration": 14,
    "start_time": "2023-05-05T19:08:29.407Z"
   },
   {
    "duration": 4,
    "start_time": "2023-05-05T19:08:38.783Z"
   },
   {
    "duration": 5,
    "start_time": "2023-05-05T19:08:39.283Z"
   },
   {
    "duration": 5,
    "start_time": "2023-05-05T19:08:39.532Z"
   },
   {
    "duration": 7,
    "start_time": "2023-05-05T19:11:20.638Z"
   },
   {
    "duration": 10,
    "start_time": "2023-05-05T19:11:22.024Z"
   },
   {
    "duration": 14,
    "start_time": "2023-05-05T19:11:22.273Z"
   },
   {
    "duration": 15,
    "start_time": "2023-05-05T19:11:23.255Z"
   },
   {
    "duration": 4,
    "start_time": "2023-05-05T19:11:54.902Z"
   },
   {
    "duration": 8,
    "start_time": "2023-05-05T19:11:55.528Z"
   },
   {
    "duration": 8,
    "start_time": "2023-05-05T19:11:55.825Z"
   },
   {
    "duration": 13,
    "start_time": "2023-05-05T19:11:56.671Z"
   },
   {
    "duration": 7,
    "start_time": "2023-05-05T19:13:19.966Z"
   },
   {
    "duration": 9,
    "start_time": "2023-05-05T19:13:20.571Z"
   },
   {
    "duration": 8,
    "start_time": "2023-05-05T19:13:20.843Z"
   },
   {
    "duration": 12,
    "start_time": "2023-05-05T19:13:21.133Z"
   },
   {
    "duration": 4,
    "start_time": "2023-05-05T19:13:52.999Z"
   },
   {
    "duration": 7,
    "start_time": "2023-05-05T19:13:53.912Z"
   },
   {
    "duration": 8,
    "start_time": "2023-05-05T19:13:54.217Z"
   },
   {
    "duration": 7,
    "start_time": "2023-05-05T19:13:54.501Z"
   },
   {
    "duration": 6,
    "start_time": "2023-05-05T19:14:03.775Z"
   },
   {
    "duration": 462,
    "start_time": "2023-05-05T19:14:04.305Z"
   },
   {
    "duration": 15,
    "start_time": "2023-05-05T19:14:04.770Z"
   },
   {
    "duration": 15,
    "start_time": "2023-05-05T19:14:04.787Z"
   },
   {
    "duration": 15,
    "start_time": "2023-05-05T19:14:04.971Z"
   },
   {
    "duration": 18,
    "start_time": "2023-05-05T19:14:05.099Z"
   },
   {
    "duration": 20,
    "start_time": "2023-05-05T19:14:05.269Z"
   },
   {
    "duration": 43,
    "start_time": "2023-05-05T19:14:05.437Z"
   },
   {
    "duration": 32,
    "start_time": "2023-05-05T19:14:05.762Z"
   },
   {
    "duration": 187,
    "start_time": "2023-05-05T19:14:06.217Z"
   },
   {
    "duration": 119,
    "start_time": "2023-05-05T19:14:06.700Z"
   },
   {
    "duration": 90,
    "start_time": "2023-05-05T19:14:06.870Z"
   },
   {
    "duration": 101,
    "start_time": "2023-05-05T19:14:07.038Z"
   },
   {
    "duration": 186,
    "start_time": "2023-05-05T19:14:07.209Z"
   },
   {
    "duration": 118,
    "start_time": "2023-05-05T19:14:07.398Z"
   },
   {
    "duration": 109,
    "start_time": "2023-05-05T19:14:07.518Z"
   },
   {
    "duration": 4,
    "start_time": "2023-05-05T19:14:08.004Z"
   },
   {
    "duration": 436,
    "start_time": "2023-05-05T19:14:08.177Z"
   },
   {
    "duration": 356,
    "start_time": "2023-05-05T19:14:08.615Z"
   },
   {
    "duration": 322,
    "start_time": "2023-05-05T19:14:08.972Z"
   },
   {
    "duration": 14,
    "start_time": "2023-05-05T19:14:09.296Z"
   },
   {
    "duration": 12,
    "start_time": "2023-05-05T19:14:09.370Z"
   },
   {
    "duration": 5,
    "start_time": "2023-05-05T19:14:09.531Z"
   },
   {
    "duration": 5,
    "start_time": "2023-05-05T19:14:09.695Z"
   },
   {
    "duration": 4,
    "start_time": "2023-05-05T19:14:09.898Z"
   },
   {
    "duration": 4,
    "start_time": "2023-05-05T19:14:10.026Z"
   },
   {
    "duration": 5,
    "start_time": "2023-05-05T19:14:10.202Z"
   },
   {
    "duration": 119,
    "start_time": "2023-05-05T19:14:10.373Z"
   },
   {
    "duration": 9,
    "start_time": "2023-05-05T19:14:11.460Z"
   },
   {
    "duration": 6,
    "start_time": "2023-05-05T19:14:11.613Z"
   },
   {
    "duration": 6,
    "start_time": "2023-05-05T19:14:11.791Z"
   },
   {
    "duration": 14,
    "start_time": "2023-05-05T19:14:11.996Z"
   },
   {
    "duration": 13,
    "start_time": "2023-05-05T19:14:12.126Z"
   },
   {
    "duration": 15,
    "start_time": "2023-05-05T19:14:12.295Z"
   },
   {
    "duration": 19,
    "start_time": "2023-05-05T19:14:12.504Z"
   },
   {
    "duration": 33,
    "start_time": "2023-05-05T19:14:12.654Z"
   },
   {
    "duration": 38,
    "start_time": "2023-05-05T19:14:12.849Z"
   },
   {
    "duration": 6,
    "start_time": "2023-05-05T19:14:13.048Z"
   },
   {
    "duration": 9,
    "start_time": "2023-05-05T19:14:13.138Z"
   },
   {
    "duration": 8,
    "start_time": "2023-05-05T19:14:13.305Z"
   },
   {
    "duration": 16,
    "start_time": "2023-05-05T19:14:13.635Z"
   },
   {
    "duration": 3,
    "start_time": "2023-05-05T19:14:14.995Z"
   },
   {
    "duration": 6,
    "start_time": "2023-05-05T19:14:15.741Z"
   },
   {
    "duration": 5,
    "start_time": "2023-05-05T19:14:15.921Z"
   },
   {
    "duration": 8,
    "start_time": "2023-05-05T19:14:17.254Z"
   },
   {
    "duration": 11,
    "start_time": "2023-05-05T19:14:17.660Z"
   },
   {
    "duration": 13,
    "start_time": "2023-05-05T19:14:17.833Z"
   },
   {
    "duration": 8,
    "start_time": "2023-05-05T19:14:18.021Z"
   },
   {
    "duration": 5,
    "start_time": "2023-05-05T19:14:18.930Z"
   },
   {
    "duration": 1380,
    "start_time": "2023-05-05T19:14:19.137Z"
   },
   {
    "duration": 1289,
    "start_time": "2023-05-05T19:14:20.519Z"
   },
   {
    "duration": 1297,
    "start_time": "2023-05-05T19:14:21.810Z"
   },
   {
    "duration": 4,
    "start_time": "2023-05-05T19:16:58.883Z"
   },
   {
    "duration": 11,
    "start_time": "2023-05-05T19:17:08.066Z"
   },
   {
    "duration": 17,
    "start_time": "2023-05-05T19:17:09.086Z"
   },
   {
    "duration": 13,
    "start_time": "2023-05-05T19:17:28.885Z"
   },
   {
    "duration": 16,
    "start_time": "2023-05-05T19:17:29.212Z"
   },
   {
    "duration": 4,
    "start_time": "2023-05-05T19:17:29.701Z"
   },
   {
    "duration": 23,
    "start_time": "2023-05-05T19:17:33.196Z"
   },
   {
    "duration": 15,
    "start_time": "2023-05-05T19:17:33.603Z"
   },
   {
    "duration": 17,
    "start_time": "2023-05-05T19:17:34.015Z"
   },
   {
    "duration": 4,
    "start_time": "2023-05-05T19:17:39.424Z"
   },
   {
    "duration": 15,
    "start_time": "2023-05-05T19:17:40.286Z"
   },
   {
    "duration": 16,
    "start_time": "2023-05-05T19:17:40.905Z"
   },
   {
    "duration": 15,
    "start_time": "2023-05-05T19:17:41.175Z"
   },
   {
    "duration": 3,
    "start_time": "2023-05-05T19:17:56.806Z"
   },
   {
    "duration": 4,
    "start_time": "2023-05-05T19:19:04.421Z"
   },
   {
    "duration": 23,
    "start_time": "2023-05-05T19:19:05.326Z"
   },
   {
    "duration": 20,
    "start_time": "2023-05-05T19:19:06.286Z"
   },
   {
    "duration": 4,
    "start_time": "2023-05-05T19:19:45.110Z"
   },
   {
    "duration": 11,
    "start_time": "2023-05-05T19:19:46.994Z"
   },
   {
    "duration": 11,
    "start_time": "2023-05-05T19:19:48.322Z"
   },
   {
    "duration": 11,
    "start_time": "2023-05-05T19:19:48.805Z"
   },
   {
    "duration": 6,
    "start_time": "2023-05-05T19:19:50.708Z"
   },
   {
    "duration": 1384,
    "start_time": "2023-05-05T19:19:50.905Z"
   },
   {
    "duration": 1414,
    "start_time": "2023-05-05T19:19:52.291Z"
   },
   {
    "duration": 1422,
    "start_time": "2023-05-05T19:19:53.707Z"
   },
   {
    "duration": 6,
    "start_time": "2023-05-05T19:20:15.905Z"
   },
   {
    "duration": 11,
    "start_time": "2023-05-05T19:20:17.103Z"
   },
   {
    "duration": 10,
    "start_time": "2023-05-05T19:20:17.979Z"
   },
   {
    "duration": 11,
    "start_time": "2023-05-05T19:20:18.430Z"
   },
   {
    "duration": 7,
    "start_time": "2023-05-05T19:20:38.267Z"
   },
   {
    "duration": 10,
    "start_time": "2023-05-05T19:20:39.003Z"
   },
   {
    "duration": 12,
    "start_time": "2023-05-05T19:20:39.605Z"
   },
   {
    "duration": 12,
    "start_time": "2023-05-05T19:20:40.097Z"
   },
   {
    "duration": 7,
    "start_time": "2023-05-05T19:20:42.625Z"
   },
   {
    "duration": 1396,
    "start_time": "2023-05-05T19:20:42.812Z"
   },
   {
    "duration": 1393,
    "start_time": "2023-05-05T19:20:44.211Z"
   },
   {
    "duration": 1534,
    "start_time": "2023-05-05T19:20:45.606Z"
   },
   {
    "duration": 1749,
    "start_time": "2023-05-05T19:22:15.050Z"
   },
   {
    "duration": 459,
    "start_time": "2023-05-05T19:22:16.802Z"
   },
   {
    "duration": 21,
    "start_time": "2023-05-05T19:22:17.267Z"
   },
   {
    "duration": 22,
    "start_time": "2023-05-05T19:22:17.290Z"
   },
   {
    "duration": 13,
    "start_time": "2023-05-05T19:22:17.315Z"
   },
   {
    "duration": 26,
    "start_time": "2023-05-05T19:22:17.330Z"
   },
   {
    "duration": 32,
    "start_time": "2023-05-05T19:22:17.360Z"
   },
   {
    "duration": 17,
    "start_time": "2023-05-05T19:22:17.394Z"
   },
   {
    "duration": 45,
    "start_time": "2023-05-05T19:22:17.412Z"
   },
   {
    "duration": 165,
    "start_time": "2023-05-05T19:22:17.463Z"
   },
   {
    "duration": 149,
    "start_time": "2023-05-05T19:22:17.630Z"
   },
   {
    "duration": 143,
    "start_time": "2023-05-05T19:22:17.782Z"
   },
   {
    "duration": 124,
    "start_time": "2023-05-05T19:22:17.944Z"
   },
   {
    "duration": 182,
    "start_time": "2023-05-05T19:22:18.077Z"
   },
   {
    "duration": 102,
    "start_time": "2023-05-05T19:22:18.266Z"
   },
   {
    "duration": 104,
    "start_time": "2023-05-05T19:22:18.370Z"
   },
   {
    "duration": 3,
    "start_time": "2023-05-05T19:22:18.476Z"
   },
   {
    "duration": 375,
    "start_time": "2023-05-05T19:22:18.480Z"
   },
   {
    "duration": 310,
    "start_time": "2023-05-05T19:22:18.862Z"
   },
   {
    "duration": 308,
    "start_time": "2023-05-05T19:22:19.175Z"
   },
   {
    "duration": 13,
    "start_time": "2023-05-05T19:22:19.485Z"
   },
   {
    "duration": 15,
    "start_time": "2023-05-05T19:22:19.500Z"
   },
   {
    "duration": 14,
    "start_time": "2023-05-05T19:22:19.517Z"
   },
   {
    "duration": 11,
    "start_time": "2023-05-05T19:22:19.533Z"
   },
   {
    "duration": 37,
    "start_time": "2023-05-05T19:22:19.549Z"
   },
   {
    "duration": 7,
    "start_time": "2023-05-05T19:22:19.587Z"
   },
   {
    "duration": 8,
    "start_time": "2023-05-05T19:22:19.596Z"
   },
   {
    "duration": 112,
    "start_time": "2023-05-05T19:22:19.605Z"
   },
   {
    "duration": 5,
    "start_time": "2023-05-05T19:22:19.719Z"
   },
   {
    "duration": 10,
    "start_time": "2023-05-05T19:22:19.726Z"
   },
   {
    "duration": 40,
    "start_time": "2023-05-05T19:22:19.740Z"
   },
   {
    "duration": 19,
    "start_time": "2023-05-05T19:22:19.782Z"
   },
   {
    "duration": 17,
    "start_time": "2023-05-05T19:22:19.802Z"
   },
   {
    "duration": 17,
    "start_time": "2023-05-05T19:22:19.820Z"
   },
   {
    "duration": 47,
    "start_time": "2023-05-05T19:22:19.840Z"
   },
   {
    "duration": 190,
    "start_time": "2023-05-05T19:22:19.890Z"
   },
   {
    "duration": 81,
    "start_time": "2023-05-05T19:22:20.083Z"
   },
   {
    "duration": 206,
    "start_time": "2023-05-05T19:22:20.166Z"
   },
   {
    "duration": 13,
    "start_time": "2023-05-05T19:22:20.374Z"
   },
   {
    "duration": 8,
    "start_time": "2023-05-05T19:22:20.390Z"
   },
   {
    "duration": 9,
    "start_time": "2023-05-05T19:22:20.403Z"
   },
   {
    "duration": 4,
    "start_time": "2023-05-05T19:22:20.414Z"
   },
   {
    "duration": 12,
    "start_time": "2023-05-05T19:22:20.420Z"
   },
   {
    "duration": 43,
    "start_time": "2023-05-05T19:22:20.434Z"
   },
   {
    "duration": 12,
    "start_time": "2023-05-05T19:22:20.479Z"
   },
   {
    "duration": 14,
    "start_time": "2023-05-05T19:22:20.494Z"
   },
   {
    "duration": 9,
    "start_time": "2023-05-05T19:22:20.510Z"
   },
   {
    "duration": 24,
    "start_time": "2023-05-05T19:22:20.521Z"
   },
   {
    "duration": 43,
    "start_time": "2023-05-05T19:22:20.548Z"
   },
   {
    "duration": 1342,
    "start_time": "2023-05-05T19:22:20.594Z"
   },
   {
    "duration": 1279,
    "start_time": "2023-05-05T19:22:21.938Z"
   },
   {
    "duration": 1274,
    "start_time": "2023-05-05T19:22:23.219Z"
   },
   {
    "duration": 5,
    "start_time": "2023-05-05T19:22:40.670Z"
   },
   {
    "duration": 8,
    "start_time": "2023-05-05T19:22:41.199Z"
   },
   {
    "duration": 10,
    "start_time": "2023-05-05T19:22:41.469Z"
   },
   {
    "duration": 8,
    "start_time": "2023-05-05T19:22:41.830Z"
   },
   {
    "duration": 7,
    "start_time": "2023-05-05T19:22:47.660Z"
   },
   {
    "duration": 5,
    "start_time": "2023-05-05T19:22:47.905Z"
   },
   {
    "duration": 5,
    "start_time": "2023-05-05T19:22:48.129Z"
   },
   {
    "duration": 15,
    "start_time": "2023-05-05T19:22:48.308Z"
   },
   {
    "duration": 14,
    "start_time": "2023-05-05T19:22:48.516Z"
   },
   {
    "duration": 18,
    "start_time": "2023-05-05T19:22:48.756Z"
   },
   {
    "duration": 92,
    "start_time": "2023-05-05T19:22:48.956Z"
   },
   {
    "duration": 17,
    "start_time": "2023-05-05T19:22:49.196Z"
   },
   {
    "duration": 17,
    "start_time": "2023-05-05T19:22:49.401Z"
   },
   {
    "duration": 4,
    "start_time": "2023-05-05T19:22:49.599Z"
   },
   {
    "duration": 7,
    "start_time": "2023-05-05T19:22:49.800Z"
   },
   {
    "duration": 12,
    "start_time": "2023-05-05T19:22:50.032Z"
   },
   {
    "duration": 9,
    "start_time": "2023-05-05T19:22:50.223Z"
   },
   {
    "duration": 5,
    "start_time": "2023-05-05T19:22:51.648Z"
   },
   {
    "duration": 4,
    "start_time": "2023-05-05T19:22:52.504Z"
   },
   {
    "duration": 4,
    "start_time": "2023-05-05T19:22:52.702Z"
   },
   {
    "duration": 5,
    "start_time": "2023-05-05T19:22:54.085Z"
   },
   {
    "duration": 9,
    "start_time": "2023-05-05T19:22:54.467Z"
   },
   {
    "duration": 11,
    "start_time": "2023-05-05T19:22:54.646Z"
   },
   {
    "duration": 8,
    "start_time": "2023-05-05T19:22:54.894Z"
   },
   {
    "duration": 7,
    "start_time": "2023-05-05T19:22:55.800Z"
   },
   {
    "duration": 1380,
    "start_time": "2023-05-05T19:22:56.003Z"
   },
   {
    "duration": 1276,
    "start_time": "2023-05-05T19:22:57.385Z"
   },
   {
    "duration": 1337,
    "start_time": "2023-05-05T19:22:58.668Z"
   },
   {
    "duration": 7,
    "start_time": "2023-05-05T19:23:03.137Z"
   },
   {
    "duration": 9,
    "start_time": "2023-05-05T19:23:03.966Z"
   },
   {
    "duration": 7,
    "start_time": "2023-05-05T19:23:04.211Z"
   },
   {
    "duration": 8,
    "start_time": "2023-05-05T19:23:04.484Z"
   },
   {
    "duration": 12,
    "start_time": "2023-05-05T19:23:06.080Z"
   },
   {
    "duration": 1386,
    "start_time": "2023-05-05T19:23:07.100Z"
   },
   {
    "duration": 1402,
    "start_time": "2023-05-05T19:23:08.489Z"
   },
   {
    "duration": 1330,
    "start_time": "2023-05-05T19:23:09.893Z"
   },
   {
    "duration": 4,
    "start_time": "2023-05-05T19:23:50.925Z"
   },
   {
    "duration": 9,
    "start_time": "2023-05-05T19:23:52.136Z"
   },
   {
    "duration": 4,
    "start_time": "2023-05-05T19:23:54.398Z"
   },
   {
    "duration": 7,
    "start_time": "2023-05-05T19:23:54.817Z"
   },
   {
    "duration": 7,
    "start_time": "2023-05-05T19:23:55.030Z"
   },
   {
    "duration": 5,
    "start_time": "2023-05-05T19:24:15.506Z"
   },
   {
    "duration": 7,
    "start_time": "2023-05-05T19:24:16.314Z"
   },
   {
    "duration": 9,
    "start_time": "2023-05-05T19:24:16.969Z"
   },
   {
    "duration": 7,
    "start_time": "2023-05-05T19:24:17.314Z"
   },
   {
    "duration": 7,
    "start_time": "2023-05-05T19:24:49.044Z"
   },
   {
    "duration": 16,
    "start_time": "2023-05-05T19:24:49.760Z"
   },
   {
    "duration": 8,
    "start_time": "2023-05-05T19:24:50.397Z"
   },
   {
    "duration": 9,
    "start_time": "2023-05-05T19:24:50.705Z"
   },
   {
    "duration": 20,
    "start_time": "2023-05-05T19:25:03.776Z"
   },
   {
    "duration": 5,
    "start_time": "2023-05-05T19:25:12.299Z"
   },
   {
    "duration": 17,
    "start_time": "2023-05-05T19:25:33.869Z"
   },
   {
    "duration": 4,
    "start_time": "2023-05-05T19:26:03.617Z"
   },
   {
    "duration": 18,
    "start_time": "2023-05-05T19:26:04.937Z"
   },
   {
    "duration": 8,
    "start_time": "2023-05-05T19:26:06.330Z"
   },
   {
    "duration": 8,
    "start_time": "2023-05-05T19:26:07.599Z"
   },
   {
    "duration": 8,
    "start_time": "2023-05-05T19:26:10.201Z"
   },
   {
    "duration": 3,
    "start_time": "2023-05-05T19:26:34.420Z"
   },
   {
    "duration": 7,
    "start_time": "2023-05-05T19:26:38.566Z"
   },
   {
    "duration": 12,
    "start_time": "2023-05-05T19:26:39.219Z"
   },
   {
    "duration": 7,
    "start_time": "2023-05-05T19:26:39.915Z"
   },
   {
    "duration": 12,
    "start_time": "2023-05-05T19:26:40.636Z"
   },
   {
    "duration": 5,
    "start_time": "2023-05-05T19:26:51.715Z"
   },
   {
    "duration": 3,
    "start_time": "2023-05-05T19:27:01.019Z"
   },
   {
    "duration": 3,
    "start_time": "2023-05-05T19:27:01.395Z"
   },
   {
    "duration": 3,
    "start_time": "2023-05-05T19:27:06.128Z"
   },
   {
    "duration": 148,
    "start_time": "2023-05-05T19:27:17.209Z"
   },
   {
    "duration": 23,
    "start_time": "2023-05-05T19:27:38.299Z"
   },
   {
    "duration": 17,
    "start_time": "2023-05-05T19:27:39.317Z"
   },
   {
    "duration": 5,
    "start_time": "2023-05-05T19:27:43.796Z"
   },
   {
    "duration": 16,
    "start_time": "2023-05-05T19:27:46.210Z"
   },
   {
    "duration": 5,
    "start_time": "2023-05-05T19:27:48.666Z"
   },
   {
    "duration": 8,
    "start_time": "2023-05-05T19:27:57.340Z"
   },
   {
    "duration": 11,
    "start_time": "2023-05-05T19:27:57.930Z"
   },
   {
    "duration": 12,
    "start_time": "2023-05-05T19:27:58.202Z"
   },
   {
    "duration": 14,
    "start_time": "2023-05-05T19:27:58.814Z"
   },
   {
    "duration": 6,
    "start_time": "2023-05-05T19:28:02.584Z"
   },
   {
    "duration": 1364,
    "start_time": "2023-05-05T19:28:02.803Z"
   },
   {
    "duration": 1420,
    "start_time": "2023-05-05T19:28:04.171Z"
   },
   {
    "duration": 1444,
    "start_time": "2023-05-05T19:28:05.592Z"
   },
   {
    "duration": 5,
    "start_time": "2023-05-05T19:28:43.196Z"
   },
   {
    "duration": 13,
    "start_time": "2023-05-05T19:28:44.062Z"
   },
   {
    "duration": 10,
    "start_time": "2023-05-05T19:28:44.626Z"
   },
   {
    "duration": 16,
    "start_time": "2023-05-05T19:28:45.258Z"
   },
   {
    "duration": 6,
    "start_time": "2023-05-05T19:28:49.386Z"
   },
   {
    "duration": 1458,
    "start_time": "2023-05-05T19:28:49.601Z"
   },
   {
    "duration": 1461,
    "start_time": "2023-05-05T19:28:51.061Z"
   },
   {
    "duration": 1411,
    "start_time": "2023-05-05T19:28:52.524Z"
   },
   {
    "duration": 5,
    "start_time": "2023-05-05T19:30:27.739Z"
   },
   {
    "duration": 3,
    "start_time": "2023-05-05T19:30:34.411Z"
   },
   {
    "duration": 3,
    "start_time": "2023-05-05T19:30:40.034Z"
   },
   {
    "duration": 6,
    "start_time": "2023-05-05T19:30:45.478Z"
   },
   {
    "duration": 4,
    "start_time": "2023-05-05T19:30:53.612Z"
   },
   {
    "duration": 5,
    "start_time": "2023-05-05T19:31:02.510Z"
   },
   {
    "duration": 5,
    "start_time": "2023-05-05T19:31:05.723Z"
   },
   {
    "duration": 1527,
    "start_time": "2023-05-05T19:43:57.209Z"
   },
   {
    "duration": 200,
    "start_time": "2023-05-05T19:55:13.010Z"
   },
   {
    "duration": 173,
    "start_time": "2023-05-05T19:56:23.504Z"
   },
   {
    "duration": 1699,
    "start_time": "2023-05-05T19:57:04.213Z"
   },
   {
    "duration": 88,
    "start_time": "2023-05-05T19:57:20.415Z"
   },
   {
    "duration": 1779,
    "start_time": "2023-05-05T19:57:21.705Z"
   },
   {
    "duration": 1682,
    "start_time": "2023-05-05T19:57:29.981Z"
   },
   {
    "duration": 10,
    "start_time": "2023-05-05T19:57:40.414Z"
   },
   {
    "duration": 25,
    "start_time": "2023-05-05T19:57:40.727Z"
   },
   {
    "duration": 10,
    "start_time": "2023-05-05T19:57:41.164Z"
   },
   {
    "duration": 433,
    "start_time": "2023-05-05T19:57:50.297Z"
   },
   {
    "duration": 13,
    "start_time": "2023-05-05T19:57:51.312Z"
   },
   {
    "duration": 11,
    "start_time": "2023-05-05T19:57:51.998Z"
   },
   {
    "duration": 16,
    "start_time": "2023-05-05T19:57:52.672Z"
   },
   {
    "duration": 26,
    "start_time": "2023-05-05T19:57:53.048Z"
   },
   {
    "duration": 24,
    "start_time": "2023-05-05T19:57:53.516Z"
   },
   {
    "duration": 24,
    "start_time": "2023-05-05T19:57:53.939Z"
   },
   {
    "duration": 22,
    "start_time": "2023-05-05T19:57:54.960Z"
   },
   {
    "duration": 194,
    "start_time": "2023-05-05T19:57:56.714Z"
   },
   {
    "duration": 112,
    "start_time": "2023-05-05T19:57:58.211Z"
   },
   {
    "duration": 113,
    "start_time": "2023-05-05T19:57:59.201Z"
   },
   {
    "duration": 24,
    "start_time": "2023-05-05T19:58:23.007Z"
   },
   {
    "duration": 117,
    "start_time": "2023-05-05T20:00:00.410Z"
   },
   {
    "duration": 135,
    "start_time": "2023-05-05T20:00:00.715Z"
   },
   {
    "duration": 91,
    "start_time": "2023-05-05T20:00:02.148Z"
   },
   {
    "duration": 153,
    "start_time": "2023-05-05T20:00:04.855Z"
   },
   {
    "duration": 102,
    "start_time": "2023-05-05T20:00:08.303Z"
   },
   {
    "duration": 6,
    "start_time": "2023-05-05T20:01:17.850Z"
   },
   {
    "duration": 91,
    "start_time": "2023-05-05T20:01:59.216Z"
   },
   {
    "duration": 249,
    "start_time": "2023-05-05T20:02:03.609Z"
   },
   {
    "duration": 313,
    "start_time": "2023-05-05T20:02:29.019Z"
   },
   {
    "duration": 1213,
    "start_time": "2023-05-06T19:29:43.227Z"
   },
   {
    "duration": 1911,
    "start_time": "2023-05-06T19:29:44.442Z"
   },
   {
    "duration": 26,
    "start_time": "2023-05-06T19:29:46.355Z"
   },
   {
    "duration": 18,
    "start_time": "2023-05-06T19:29:46.383Z"
   },
   {
    "duration": 17,
    "start_time": "2023-05-06T19:29:46.403Z"
   },
   {
    "duration": 24,
    "start_time": "2023-05-06T19:29:46.421Z"
   },
   {
    "duration": 20,
    "start_time": "2023-05-06T19:29:46.447Z"
   },
   {
    "duration": 39,
    "start_time": "2023-05-06T19:29:46.469Z"
   },
   {
    "duration": 20,
    "start_time": "2023-05-06T19:29:46.510Z"
   },
   {
    "duration": 150,
    "start_time": "2023-05-06T19:29:46.533Z"
   },
   {
    "duration": 95,
    "start_time": "2023-05-06T19:29:46.685Z"
   },
   {
    "duration": 63,
    "start_time": "2023-05-06T19:29:46.782Z"
   },
   {
    "duration": 79,
    "start_time": "2023-05-06T19:29:46.846Z"
   },
   {
    "duration": 143,
    "start_time": "2023-05-06T19:29:46.928Z"
   },
   {
    "duration": 101,
    "start_time": "2023-05-06T19:29:47.080Z"
   },
   {
    "duration": 59,
    "start_time": "2023-05-06T19:29:47.183Z"
   },
   {
    "duration": 3,
    "start_time": "2023-05-06T19:29:47.243Z"
   },
   {
    "duration": 332,
    "start_time": "2023-05-06T19:29:47.249Z"
   },
   {
    "duration": 299,
    "start_time": "2023-05-06T19:29:47.583Z"
   },
   {
    "duration": 291,
    "start_time": "2023-05-06T19:29:47.883Z"
   },
   {
    "duration": 14,
    "start_time": "2023-05-06T19:29:48.176Z"
   },
   {
    "duration": 9,
    "start_time": "2023-05-06T19:29:48.191Z"
   },
   {
    "duration": 16,
    "start_time": "2023-05-06T19:29:48.202Z"
   },
   {
    "duration": 8,
    "start_time": "2023-05-06T19:29:48.220Z"
   },
   {
    "duration": 9,
    "start_time": "2023-05-06T19:29:48.229Z"
   },
   {
    "duration": 41,
    "start_time": "2023-05-06T19:29:48.239Z"
   },
   {
    "duration": 8,
    "start_time": "2023-05-06T19:29:48.282Z"
   },
   {
    "duration": 115,
    "start_time": "2023-05-06T19:29:48.291Z"
   },
   {
    "duration": 4,
    "start_time": "2023-05-06T19:29:48.408Z"
   },
   {
    "duration": 6,
    "start_time": "2023-05-06T19:29:48.414Z"
   },
   {
    "duration": 17,
    "start_time": "2023-05-06T19:29:48.422Z"
   },
   {
    "duration": 48,
    "start_time": "2023-05-06T19:29:48.440Z"
   },
   {
    "duration": 18,
    "start_time": "2023-05-06T19:29:48.490Z"
   },
   {
    "duration": 24,
    "start_time": "2023-05-06T19:29:48.512Z"
   },
   {
    "duration": 41,
    "start_time": "2023-05-06T19:29:48.539Z"
   },
   {
    "duration": 215,
    "start_time": "2023-05-06T19:29:48.581Z"
   },
   {
    "duration": 184,
    "start_time": "2023-05-06T19:29:48.797Z"
   },
   {
    "duration": 5,
    "start_time": "2023-05-06T19:29:48.983Z"
   },
   {
    "duration": 122,
    "start_time": "2023-05-06T19:29:49.059Z"
   },
   {
    "duration": 10,
    "start_time": "2023-05-06T19:29:49.183Z"
   },
   {
    "duration": 3,
    "start_time": "2023-05-06T19:29:49.198Z"
   },
   {
    "duration": 29,
    "start_time": "2023-05-06T19:29:49.203Z"
   },
   {
    "duration": 11,
    "start_time": "2023-05-06T19:29:49.234Z"
   },
   {
    "duration": 34,
    "start_time": "2023-05-06T19:29:49.247Z"
   },
   {
    "duration": 148,
    "start_time": "2023-05-06T19:29:49.283Z"
   },
   {
    "duration": 0,
    "start_time": "2023-05-06T19:29:49.433Z"
   },
   {
    "duration": 0,
    "start_time": "2023-05-06T19:29:49.434Z"
   },
   {
    "duration": 0,
    "start_time": "2023-05-06T19:29:49.435Z"
   },
   {
    "duration": 0,
    "start_time": "2023-05-06T19:29:49.437Z"
   },
   {
    "duration": 0,
    "start_time": "2023-05-06T19:29:49.439Z"
   },
   {
    "duration": 0,
    "start_time": "2023-05-06T19:29:49.458Z"
   },
   {
    "duration": 0,
    "start_time": "2023-05-06T19:29:49.459Z"
   },
   {
    "duration": 0,
    "start_time": "2023-05-06T19:29:49.460Z"
   },
   {
    "duration": 0,
    "start_time": "2023-05-06T19:29:49.461Z"
   },
   {
    "duration": 0,
    "start_time": "2023-05-06T19:29:49.462Z"
   },
   {
    "duration": 1431,
    "start_time": "2023-05-06T19:33:48.902Z"
   },
   {
    "duration": 476,
    "start_time": "2023-05-06T19:33:50.335Z"
   },
   {
    "duration": 14,
    "start_time": "2023-05-06T19:33:50.812Z"
   },
   {
    "duration": 11,
    "start_time": "2023-05-06T19:33:50.829Z"
   },
   {
    "duration": 19,
    "start_time": "2023-05-06T19:33:50.842Z"
   },
   {
    "duration": 48,
    "start_time": "2023-05-06T19:33:50.862Z"
   },
   {
    "duration": 12,
    "start_time": "2023-05-06T19:33:50.912Z"
   },
   {
    "duration": 19,
    "start_time": "2023-05-06T19:33:50.925Z"
   },
   {
    "duration": 47,
    "start_time": "2023-05-06T19:33:50.946Z"
   },
   {
    "duration": 182,
    "start_time": "2023-05-06T19:33:50.997Z"
   },
   {
    "duration": 57,
    "start_time": "2023-05-06T19:33:51.183Z"
   },
   {
    "duration": 81,
    "start_time": "2023-05-06T19:33:51.241Z"
   },
   {
    "duration": 81,
    "start_time": "2023-05-06T19:33:51.324Z"
   },
   {
    "duration": 130,
    "start_time": "2023-05-06T19:33:51.407Z"
   },
   {
    "duration": 83,
    "start_time": "2023-05-06T19:33:51.539Z"
   },
   {
    "duration": 103,
    "start_time": "2023-05-06T19:33:51.623Z"
   },
   {
    "duration": 6,
    "start_time": "2023-05-06T19:33:51.728Z"
   },
   {
    "duration": 352,
    "start_time": "2023-05-06T19:33:51.736Z"
   },
   {
    "duration": 376,
    "start_time": "2023-05-06T19:33:52.099Z"
   },
   {
    "duration": 310,
    "start_time": "2023-05-06T19:33:52.481Z"
   },
   {
    "duration": 13,
    "start_time": "2023-05-06T19:33:52.794Z"
   },
   {
    "duration": 12,
    "start_time": "2023-05-06T19:33:52.808Z"
   },
   {
    "duration": 6,
    "start_time": "2023-05-06T19:33:52.821Z"
   },
   {
    "duration": 4,
    "start_time": "2023-05-06T19:33:52.922Z"
   },
   {
    "duration": 4,
    "start_time": "2023-05-06T19:33:53.106Z"
   },
   {
    "duration": 4,
    "start_time": "2023-05-06T19:33:53.296Z"
   },
   {
    "duration": 4,
    "start_time": "2023-05-06T19:33:53.470Z"
   },
   {
    "duration": 110,
    "start_time": "2023-05-06T19:33:53.706Z"
   },
   {
    "duration": 5,
    "start_time": "2023-05-06T19:33:56.093Z"
   },
   {
    "duration": 5,
    "start_time": "2023-05-06T19:33:56.370Z"
   },
   {
    "duration": 6,
    "start_time": "2023-05-06T19:33:56.633Z"
   },
   {
    "duration": 19,
    "start_time": "2023-05-06T19:33:56.874Z"
   },
   {
    "duration": 18,
    "start_time": "2023-05-06T19:33:57.076Z"
   },
   {
    "duration": 16,
    "start_time": "2023-05-06T19:33:57.374Z"
   },
   {
    "duration": 40,
    "start_time": "2023-05-06T19:33:57.626Z"
   },
   {
    "duration": 74,
    "start_time": "2023-05-06T19:33:57.794Z"
   },
   {
    "duration": 40,
    "start_time": "2023-05-06T19:33:58.016Z"
   },
   {
    "duration": 4,
    "start_time": "2023-05-06T19:33:58.390Z"
   },
   {
    "duration": 4,
    "start_time": "2023-05-06T19:33:58.690Z"
   },
   {
    "duration": 4,
    "start_time": "2023-05-06T19:33:59.280Z"
   },
   {
    "duration": 3,
    "start_time": "2023-05-06T19:34:06.497Z"
   },
   {
    "duration": 4,
    "start_time": "2023-05-06T19:34:07.526Z"
   },
   {
    "duration": 4,
    "start_time": "2023-05-06T19:34:07.695Z"
   },
   {
    "duration": 6,
    "start_time": "2023-05-06T19:34:09.237Z"
   },
   {
    "duration": 13,
    "start_time": "2023-05-06T19:34:09.694Z"
   },
   {
    "duration": 9,
    "start_time": "2023-05-06T19:34:09.866Z"
   },
   {
    "duration": 17,
    "start_time": "2023-05-06T19:34:10.082Z"
   },
   {
    "duration": 8,
    "start_time": "2023-05-06T19:34:10.965Z"
   },
   {
    "duration": 1104,
    "start_time": "2023-05-06T19:34:11.216Z"
   },
   {
    "duration": 1089,
    "start_time": "2023-05-06T19:34:12.322Z"
   },
   {
    "duration": 1028,
    "start_time": "2023-05-06T19:34:13.413Z"
   }
  ],
  "kernelspec": {
   "display_name": "Python 3 (ipykernel)",
   "language": "python",
   "name": "python3"
  },
  "language_info": {
   "codemirror_mode": {
    "name": "ipython",
    "version": 3
   },
   "file_extension": ".py",
   "mimetype": "text/x-python",
   "name": "python",
   "nbconvert_exporter": "python",
   "pygments_lexer": "ipython3",
   "version": "3.9.12"
  },
  "toc": {
   "base_numbering": 1,
   "nav_menu": {
    "height": "116px",
    "width": "250px"
   },
   "number_sections": true,
   "sideBar": true,
   "skip_h1_title": true,
   "title_cell": "Table of Contents",
   "title_sidebar": "Contents",
   "toc_cell": false,
   "toc_position": {
    "height": "calc(100% - 180px)",
    "left": "10px",
    "top": "150px",
    "width": "165px"
   },
   "toc_section_display": true,
   "toc_window_display": true
  }
 },
 "nbformat": 4,
 "nbformat_minor": 2
}
