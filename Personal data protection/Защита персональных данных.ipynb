{
 "cells": [
  {
   "cell_type": "markdown",
   "metadata": {
    "toc": true
   },
   "source": [
    "<h1>Содержание<span class=\"tocSkip\"></span></h1>\n",
    "<div class=\"toc\"><ul class=\"toc-item\"><li><span><a href=\"#Загрузка-данных\" data-toc-modified-id=\"Загрузка-данных-1\"><span class=\"toc-item-num\">1&nbsp;&nbsp;</span>Загрузка данных</a></span></li><li><span><a href=\"#Умножение-матриц\" data-toc-modified-id=\"Умножение-матриц-2\"><span class=\"toc-item-num\">2&nbsp;&nbsp;</span>Умножение матриц</a></span></li><li><span><a href=\"#Алгоритм-преобразования\" data-toc-modified-id=\"Алгоритм-преобразования-3\"><span class=\"toc-item-num\">3&nbsp;&nbsp;</span>Алгоритм преобразования</a></span></li><li><span><a href=\"#Проверка-алгоритма\" data-toc-modified-id=\"Проверка-алгоритма-4\"><span class=\"toc-item-num\">4&nbsp;&nbsp;</span>Проверка алгоритма</a></span></li><li><span><a href=\"#Чек-лист-проверки\" data-toc-modified-id=\"Чек-лист-проверки-5\"><span class=\"toc-item-num\">5&nbsp;&nbsp;</span>Чек-лист проверки</a></span></li></ul></div>"
   ]
  },
  {
   "cell_type": "markdown",
   "metadata": {},
   "source": [
    "# Защита персональных данных клиентов"
   ]
  },
  {
   "cell_type": "markdown",
   "metadata": {},
   "source": [
    "Вам нужно защитить данные клиентов страховой компании «Хоть потоп». Разработайте такой метод преобразования данных, чтобы по ним было сложно восстановить персональную информацию. Обоснуйте корректность его работы.\n",
    "\n",
    "Нужно защитить данные, чтобы при преобразовании качество моделей машинного обучения не ухудшилось. Подбирать наилучшую модель не требуется."
   ]
  },
  {
   "cell_type": "markdown",
   "metadata": {},
   "source": [
    "## Загрузка данных"
   ]
  },
  {
   "cell_type": "code",
   "execution_count": 1,
   "metadata": {},
   "outputs": [],
   "source": [
    "import pandas as pd\n",
    "import numpy as np\n",
    "\n",
    "from sklearn.model_selection import train_test_split\n",
    "\n",
    "from sklearn.metrics import r2_score\n",
    "from numpy.linalg import inv\n",
    "\n",
    "import matplotlib.pyplot as plt\n",
    "import seaborn as sns\n"
   ]
  },
  {
   "cell_type": "code",
   "execution_count": 2,
   "metadata": {},
   "outputs": [],
   "source": [
    "data = pd.read_csv('/datasets/insurance.csv')"
   ]
  },
  {
   "cell_type": "code",
   "execution_count": 3,
   "metadata": {},
   "outputs": [
    {
     "data": {
      "text/html": [
       "<div>\n",
       "<style scoped>\n",
       "    .dataframe tbody tr th:only-of-type {\n",
       "        vertical-align: middle;\n",
       "    }\n",
       "\n",
       "    .dataframe tbody tr th {\n",
       "        vertical-align: top;\n",
       "    }\n",
       "\n",
       "    .dataframe thead th {\n",
       "        text-align: right;\n",
       "    }\n",
       "</style>\n",
       "<table border=\"1\" class=\"dataframe\">\n",
       "  <thead>\n",
       "    <tr style=\"text-align: right;\">\n",
       "      <th></th>\n",
       "      <th>Пол</th>\n",
       "      <th>Возраст</th>\n",
       "      <th>Зарплата</th>\n",
       "      <th>Члены семьи</th>\n",
       "      <th>Страховые выплаты</th>\n",
       "    </tr>\n",
       "  </thead>\n",
       "  <tbody>\n",
       "    <tr>\n",
       "      <th>0</th>\n",
       "      <td>1</td>\n",
       "      <td>41.0</td>\n",
       "      <td>49600.0</td>\n",
       "      <td>1</td>\n",
       "      <td>0</td>\n",
       "    </tr>\n",
       "    <tr>\n",
       "      <th>1</th>\n",
       "      <td>0</td>\n",
       "      <td>46.0</td>\n",
       "      <td>38000.0</td>\n",
       "      <td>1</td>\n",
       "      <td>1</td>\n",
       "    </tr>\n",
       "    <tr>\n",
       "      <th>2</th>\n",
       "      <td>0</td>\n",
       "      <td>29.0</td>\n",
       "      <td>21000.0</td>\n",
       "      <td>0</td>\n",
       "      <td>0</td>\n",
       "    </tr>\n",
       "    <tr>\n",
       "      <th>3</th>\n",
       "      <td>0</td>\n",
       "      <td>21.0</td>\n",
       "      <td>41700.0</td>\n",
       "      <td>2</td>\n",
       "      <td>0</td>\n",
       "    </tr>\n",
       "    <tr>\n",
       "      <th>4</th>\n",
       "      <td>1</td>\n",
       "      <td>28.0</td>\n",
       "      <td>26100.0</td>\n",
       "      <td>0</td>\n",
       "      <td>0</td>\n",
       "    </tr>\n",
       "  </tbody>\n",
       "</table>\n",
       "</div>"
      ],
      "text/plain": [
       "   Пол  Возраст  Зарплата  Члены семьи  Страховые выплаты\n",
       "0    1     41.0   49600.0            1                  0\n",
       "1    0     46.0   38000.0            1                  1\n",
       "2    0     29.0   21000.0            0                  0\n",
       "3    0     21.0   41700.0            2                  0\n",
       "4    1     28.0   26100.0            0                  0"
      ]
     },
     "execution_count": 3,
     "metadata": {},
     "output_type": "execute_result"
    }
   ],
   "source": [
    "data.head()"
   ]
  },
  {
   "cell_type": "code",
   "execution_count": 4,
   "metadata": {},
   "outputs": [
    {
     "name": "stdout",
     "output_type": "stream",
     "text": [
      "<class 'pandas.core.frame.DataFrame'>\n",
      "RangeIndex: 5000 entries, 0 to 4999\n",
      "Data columns (total 5 columns):\n",
      " #   Column             Non-Null Count  Dtype  \n",
      "---  ------             --------------  -----  \n",
      " 0   Пол                5000 non-null   int64  \n",
      " 1   Возраст            5000 non-null   float64\n",
      " 2   Зарплата           5000 non-null   float64\n",
      " 3   Члены семьи        5000 non-null   int64  \n",
      " 4   Страховые выплаты  5000 non-null   int64  \n",
      "dtypes: float64(2), int64(3)\n",
      "memory usage: 195.4 KB\n"
     ]
    }
   ],
   "source": [
    "data.info()"
   ]
  },
  {
   "cell_type": "code",
   "execution_count": 5,
   "metadata": {},
   "outputs": [
    {
     "data": {
      "text/plain": [
       "Пол                  0\n",
       "Возраст              0\n",
       "Зарплата             0\n",
       "Члены семьи          0\n",
       "Страховые выплаты    0\n",
       "dtype: int64"
      ]
     },
     "execution_count": 5,
     "metadata": {},
     "output_type": "execute_result"
    }
   ],
   "source": [
    "data.isna().sum()"
   ]
  },
  {
   "cell_type": "code",
   "execution_count": 6,
   "metadata": {},
   "outputs": [
    {
     "data": {
      "text/html": [
       "<div>\n",
       "<style scoped>\n",
       "    .dataframe tbody tr th:only-of-type {\n",
       "        vertical-align: middle;\n",
       "    }\n",
       "\n",
       "    .dataframe tbody tr th {\n",
       "        vertical-align: top;\n",
       "    }\n",
       "\n",
       "    .dataframe thead th {\n",
       "        text-align: right;\n",
       "    }\n",
       "</style>\n",
       "<table border=\"1\" class=\"dataframe\">\n",
       "  <thead>\n",
       "    <tr style=\"text-align: right;\">\n",
       "      <th></th>\n",
       "      <th>Пол</th>\n",
       "      <th>Возраст</th>\n",
       "      <th>Зарплата</th>\n",
       "      <th>Члены семьи</th>\n",
       "      <th>Страховые выплаты</th>\n",
       "    </tr>\n",
       "  </thead>\n",
       "  <tbody>\n",
       "    <tr>\n",
       "      <th>count</th>\n",
       "      <td>5000.000000</td>\n",
       "      <td>5000.000000</td>\n",
       "      <td>5000.000000</td>\n",
       "      <td>5000.000000</td>\n",
       "      <td>5000.000000</td>\n",
       "    </tr>\n",
       "    <tr>\n",
       "      <th>mean</th>\n",
       "      <td>0.499000</td>\n",
       "      <td>30.952800</td>\n",
       "      <td>39916.360000</td>\n",
       "      <td>1.194200</td>\n",
       "      <td>0.148000</td>\n",
       "    </tr>\n",
       "    <tr>\n",
       "      <th>std</th>\n",
       "      <td>0.500049</td>\n",
       "      <td>8.440807</td>\n",
       "      <td>9900.083569</td>\n",
       "      <td>1.091387</td>\n",
       "      <td>0.463183</td>\n",
       "    </tr>\n",
       "    <tr>\n",
       "      <th>min</th>\n",
       "      <td>0.000000</td>\n",
       "      <td>18.000000</td>\n",
       "      <td>5300.000000</td>\n",
       "      <td>0.000000</td>\n",
       "      <td>0.000000</td>\n",
       "    </tr>\n",
       "    <tr>\n",
       "      <th>25%</th>\n",
       "      <td>0.000000</td>\n",
       "      <td>24.000000</td>\n",
       "      <td>33300.000000</td>\n",
       "      <td>0.000000</td>\n",
       "      <td>0.000000</td>\n",
       "    </tr>\n",
       "    <tr>\n",
       "      <th>50%</th>\n",
       "      <td>0.000000</td>\n",
       "      <td>30.000000</td>\n",
       "      <td>40200.000000</td>\n",
       "      <td>1.000000</td>\n",
       "      <td>0.000000</td>\n",
       "    </tr>\n",
       "    <tr>\n",
       "      <th>75%</th>\n",
       "      <td>1.000000</td>\n",
       "      <td>37.000000</td>\n",
       "      <td>46600.000000</td>\n",
       "      <td>2.000000</td>\n",
       "      <td>0.000000</td>\n",
       "    </tr>\n",
       "    <tr>\n",
       "      <th>max</th>\n",
       "      <td>1.000000</td>\n",
       "      <td>65.000000</td>\n",
       "      <td>79000.000000</td>\n",
       "      <td>6.000000</td>\n",
       "      <td>5.000000</td>\n",
       "    </tr>\n",
       "  </tbody>\n",
       "</table>\n",
       "</div>"
      ],
      "text/plain": [
       "               Пол      Возраст      Зарплата  Члены семьи  Страховые выплаты\n",
       "count  5000.000000  5000.000000   5000.000000  5000.000000        5000.000000\n",
       "mean      0.499000    30.952800  39916.360000     1.194200           0.148000\n",
       "std       0.500049     8.440807   9900.083569     1.091387           0.463183\n",
       "min       0.000000    18.000000   5300.000000     0.000000           0.000000\n",
       "25%       0.000000    24.000000  33300.000000     0.000000           0.000000\n",
       "50%       0.000000    30.000000  40200.000000     1.000000           0.000000\n",
       "75%       1.000000    37.000000  46600.000000     2.000000           0.000000\n",
       "max       1.000000    65.000000  79000.000000     6.000000           5.000000"
      ]
     },
     "execution_count": 6,
     "metadata": {},
     "output_type": "execute_result"
    }
   ],
   "source": [
    "data.describe()"
   ]
  },
  {
   "cell_type": "code",
   "execution_count": 7,
   "metadata": {},
   "outputs": [
    {
     "data": {
      "image/png": "[encoded data removed]",
      "text/plain": [
       "<Figure size 432x288 with 1 Axes>"
      ]
     },
     "metadata": {
      "needs_background": "light"
     },
     "output_type": "display_data"
    }
   ],
   "source": [
    "sns.countplot(x='Пол',data=data)\n",
    "sns.despine(left=True)"
   ]
  },
  {
   "cell_type": "markdown",
   "metadata": {},
   "source": [
    "Количество мужчин и женщин среди клиентов равно друг другу."
   ]
  },
  {
   "cell_type": "code",
   "execution_count": 8,
   "metadata": {},
   "outputs": [
    {
     "data": {
      "image/png": "[encoded data removed]",
      "text/plain": [
       "<Figure size 432x288 with 1 Axes>"
      ]
     },
     "metadata": {
      "needs_background": "light"
     },
     "output_type": "display_data"
    }
   ],
   "source": [
    "sns.countplot(x='Члены семьи',data=data)\n",
    "sns.despine(left=True)"
   ]
  },
  {
   "cell_type": "markdown",
   "metadata": {},
   "source": [
    "Больше всего тех у кого 1 ребёнок и тех у кого детей нет вообще."
   ]
  },
  {
   "cell_type": "code",
   "execution_count": 9,
   "metadata": {},
   "outputs": [
    {
     "data": {
      "image/png": "[encoded data removed]",
      "text/plain": [
       "<Figure size 432x288 with 1 Axes>"
      ]
     },
     "metadata": {
      "needs_background": "light"
     },
     "output_type": "display_data"
    }
   ],
   "source": [
    "sns.countplot(x='Страховые выплаты',data=data)\n",
    "sns.despine(left=True)"
   ]
  },
  {
   "cell_type": "markdown",
   "metadata": {},
   "source": [
    "Количество клиентов, что ещё не получили страховую выплату - составляют львиную долю."
   ]
  },
  {
   "cell_type": "code",
   "execution_count": 10,
   "metadata": {},
   "outputs": [
    {
     "data": {
      "text/plain": [
       "<AxesSubplot:xlabel='Зарплата', ylabel='Count'>"
      ]
     },
     "execution_count": 10,
     "metadata": {},
     "output_type": "execute_result"
    },
    {
     "data": {
      "image/png": "[encoded data removed]",
      "text/plain": [
       "<Figure size 432x288 with 1 Axes>"
      ]
     },
     "metadata": {
      "needs_background": "light"
     },
     "output_type": "display_data"
    }
   ],
   "source": [
    "sns.histplot(data=data, x=\"Зарплата\", kde=True)"
   ]
  },
  {
   "cell_type": "markdown",
   "metadata": {},
   "source": [
    "На графике видно: средняя зарплата среди клиентов ~40000, максимум стремится к 80000, минимум меньше 10000."
   ]
  },
  {
   "cell_type": "code",
   "execution_count": 11,
   "metadata": {},
   "outputs": [
    {
     "data": {
      "text/plain": [
       "<AxesSubplot:xlabel='Возраст', ylabel='Count'>"
      ]
     },
     "execution_count": 11,
     "metadata": {},
     "output_type": "execute_result"
    },
    {
     "data": {
      "image/png": "[encoded data removed]",
      "text/plain": [
       "<Figure size 432x288 with 1 Axes>"
      ]
     },
     "metadata": {
      "needs_background": "light"
     },
     "output_type": "display_data"
    }
   ],
   "source": [
    "sns.histplot(data=data, x=\"Возраст\", kde=True)"
   ]
  },
  {
   "cell_type": "markdown",
   "metadata": {},
   "source": [
    "Основной контингент клиентов находится в возрастной категории с 20 до 37 лет."
   ]
  },
  {
   "cell_type": "code",
   "execution_count": 12,
   "metadata": {},
   "outputs": [
    {
     "data": {
      "text/plain": [
       "<AxesSubplot:>"
      ]
     },
     "execution_count": 12,
     "metadata": {},
     "output_type": "execute_result"
    },
    {
     "data": {
      "image/png": "[encoded data removed]",
      "text/plain": [
       "<Figure size 432x288 with 2 Axes>"
      ]
     },
     "metadata": {
      "needs_background": "light"
     },
     "output_type": "display_data"
    }
   ],
   "source": [
    "sns.heatmap(data.corr(), annot = True, fmt='.1g', linewidths=2, linecolor='black')"
   ]
  },
  {
   "cell_type": "markdown",
   "metadata": {},
   "source": [
    "На тепловой карте видна корреляционная зависимость между Страховыми выплатами и Возрастом (0.7)"
   ]
  },
  {
   "cell_type": "code",
   "execution_count": 13,
   "metadata": {},
   "outputs": [],
   "source": [
    "features = data.drop(['Страховые выплаты'], axis=1)\n",
    "target = data['Страховые выплаты']"
   ]
  },
  {
   "cell_type": "code",
   "execution_count": 14,
   "metadata": {},
   "outputs": [
    {
     "name": "stdout",
     "output_type": "stream",
     "text": [
      "Тренировочная выборка: (3500, 4)\n",
      "Тестовая выборка: (1500, 4)\n"
     ]
    }
   ],
   "source": [
    "features_train, features_test, target_train, target_test = train_test_split(\n",
    "    features, target, test_size=.3, random_state=12345)\n",
    "\n",
    "print('Тренировочная выборка:', features_train.shape)\n",
    "print('Тестовая выборка:', features_test.shape)"
   ]
  },
  {
   "cell_type": "markdown",
   "metadata": {},
   "source": [
    "**ВЫВОД 1:**\n",
    "\n",
    "В процессе предобработки проделаны следующие шаги:\n",
    "* Исследованы данные на наличие аномалий, пропусков, исследованы типы данных и прочее;\n",
    "* Данные разбиты на обучающую и тестовую выборки и готовы для дальнейшей работы над ними."
   ]
  },
  {
   "cell_type": "markdown",
   "metadata": {},
   "source": [
    "## Умножение матриц"
   ]
  },
  {
   "cell_type": "markdown",
   "metadata": {},
   "source": [
    "В этом задании вы можете записывать формулы в *Jupyter Notebook.*\n",
    "\n",
    "Чтобы записать формулу внутри текста, окружите её символами доллара \\\\$; если снаружи —  двойными символами \\\\$\\\\$. Эти формулы записываются на языке вёрстки *LaTeX.* \n",
    "\n",
    "Для примера мы записали формулы линейной регрессии. Можете их скопировать и отредактировать, чтобы решить задачу.\n",
    "\n",
    "Работать в *LaTeX* необязательно."
   ]
  },
  {
   "cell_type": "markdown",
   "metadata": {},
   "source": [
    "Обозначения:\n",
    "\n",
    "- $X$ — матрица признаков (нулевой столбец состоит из единиц)\n",
    "\n",
    "- $y$ — вектор целевого признака\n",
    "\n",
    "- $P$ — матрица, на которую умножаются признаки\n",
    "\n",
    "- $w$ — вектор весов линейной регрессии (нулевой элемент равен сдвигу)"
   ]
  },
  {
   "cell_type": "markdown",
   "metadata": {},
   "source": [
    "Предсказания:\n",
    "\n",
    "$$\n",
    "a = Xw\n",
    "$$\n",
    "\n",
    "Задача обучения:\n",
    "\n",
    "$$\n",
    "w = \\arg\\min_w MSE(Xw, y)\n",
    "$$\n",
    "\n",
    "Формула обучения:\n",
    "\n",
    "$$\n",
    "w = (X^T X)^{-1} X^T y\n",
    "$$"
   ]
  },
  {
   "cell_type": "markdown",
   "metadata": {},
   "source": [
    "**Ответ:** b. Не изменится.\n",
    "\n",
    "**Обоснование:** \n",
    "\n",
    "Обучающуя выборка представлена как матрица X, в которой строки соответствуют объектам, а столбцы — признакам. Матрица, на которую умножаются признаки - P. Чтобы получить вектор предсказаний a, умножим матрицу X на матрицу P. Формула предсказаний будет иметь следующий вид:\n",
    "\n",
    "$$\n",
    "a = XPw\n",
    "$$\n",
    "\n",
    "$$\n",
    "w = (X^T X)^{-1} X^T y = ((XP)^T (XP))^{-1}(XP)^T y\n",
    "$$"
   ]
  },
  {
   "cell_type": "markdown",
   "metadata": {},
   "source": [
    "Cвойства матриц:\n",
    "* Если любую матрицу A умножить на единичную (или наоборот), получится эта же матрица A:\n",
    "\n",
    "    $$AE = EA = A$$\n",
    "    \n",
    "* Обратная для квадратной матрицы A — A^-1, произведение которой на А равно единичной матрице. Умножение может быть в любом порядке:\n",
    "\n",
    " $$AA^{-1} = A^{-1} A = E$$\n",
    " \n",
    "* Свойства транспонирования матриц:\n",
    "\n",
    "$$(AB)^T = A^T B^T $$\n",
    "\n",
    "* Свойства обратной матрицы:\n",
    "\n",
    "$$ (AB)^{-1} = A^{-1} B^{-1} $$\n",
    "\n",
    "* Группировка матриц различным образом:\n",
    "\n",
    "$$A(BC) = (AB)C$$"
   ]
  },
  {
   "cell_type": "markdown",
   "metadata": {},
   "source": [
    "С помощью свойства транспонирования расроем скобки:\n",
    "        \n",
    "$$\n",
    "w' = ((XP)^T (XP))^{-1}(XP)^T y\n",
    "$$\n",
    "\n",
    "$$\n",
    "w' = (P^T X^T XP)^{-1}P^TX^T y\n",
    "$$"
   ]
  },
  {
   "cell_type": "markdown",
   "metadata": {},
   "source": [
    "Далее используем свойство обратной матрицы:\n",
    "\n",
    "$$\n",
    "w' = (P^T (X^T X) P)^{-1}P^TX^T y\n",
    "$$\n",
    "\n",
    "$$\n",
    "w' = P^{-1} (X^T X)^{-1}(P^T)^{-1} P^TX^T y\n",
    "$$"
   ]
  },
  {
   "cell_type": "markdown",
   "metadata": {},
   "source": [
    "Применим свойство обратной матрицы:\n",
    "    \n",
    "$$\n",
    "w' = P^{-1} X^{-1}(X^T)^{-1}X^T y\n",
    "$$\n",
    "\n",
    "$$\n",
    "w' = P^{-1}(X^TX)^{-1}X^T y\n",
    "$$\n",
    "\n",
    "$$\n",
    "w' = P^{-1}w\n",
    "$$"
   ]
  },
  {
   "cell_type": "markdown",
   "metadata": {},
   "source": [
    "Сделаем подстановку в формаулу предсказаний и получим вид:\n",
    "\n",
    "$$\n",
    "a' = XPw'a' = XPP^{-1}a' = Xw = a\n",
    "$$\n",
    "    "
   ]
  },
  {
   "cell_type": "markdown",
   "metadata": {},
   "source": [
    "## Алгоритм преобразования"
   ]
  },
  {
   "cell_type": "markdown",
   "metadata": {},
   "source": [
    "**Алгоритм**\n",
    "\n",
    "Нужно защитить данные, чтобы при преобразовании качество моделей машинного обучения не ухудшилось. \n",
    "Для этого нужно провести ленейное проеобразование:\n",
    "* Для начала нужно сгененировати матрицу P и проверить её на обратимость\n",
    "* Далее провести проеобразование, для этого X * P\n",
    "* Проверка восстановления первоначальных данных \n",
    "* Проверка алгоритма "
   ]
  },
  {
   "cell_type": "markdown",
   "metadata": {},
   "source": [
    "**Обоснование**\n",
    "\n",
    "Матрицу X с размерностью MxN умножаем на матрицу P с размерностью NxN. Матрица X' будет иметь размерность матрицы X:\n",
    "\n",
    "$$\n",
    "X' = XP\n",
    "$$\n",
    "\n",
    "Задача обучения:\n",
    "\n",
    "$$\n",
    "w = \\arg\\min_w MSE(Xw, y)\n",
    "$$\n",
    "\n",
    "Для обучения применим формулу из предыдущей части проекта:\n",
    "\n",
    "$$\n",
    "w' = ((XP)^T (XP))^{-1}(XP)^T y\n",
    "$$\n",
    "\n",
    "Для обучения:\n",
    "\n",
    "$$\n",
    "a' = XP((XP)^T (XP))^{-1}(XP)^T y\n",
    "$$\n",
    "\n",
    "Для проверки качества:\n",
    "\n",
    "$$\n",
    "MSE(a'y)\n",
    "$$\n",
    "\n",
    "Для дешифровки преобразованную матрицу P умножаем на обратную матрицу $P^{-1}$ :\n",
    "\n",
    "$$\n",
    "XPP^{-1} = XE = X\n",
    "$$"
   ]
  },
  {
   "cell_type": "markdown",
   "metadata": {},
   "source": [
    "## Проверка алгоритма"
   ]
  },
  {
   "cell_type": "code",
   "execution_count": 15,
   "metadata": {},
   "outputs": [],
   "source": [
    "#Алгоритм линейной регрессии\n",
    "class LinearRegression:\n",
    "    def fit(self, train_features, train_target):\n",
    "        X = np.concatenate((np.ones((train_features.shape[0], 1)), train_features), axis=1)\n",
    "        y = train_target\n",
    "        w = np.linalg.inv(X.T @ X) @ X.T @ y\n",
    "        self.w = w[1:]\n",
    "        self.w0 = w[0]\n",
    "\n",
    "    def predict(self, test_features):\n",
    "        return test_features.dot(self.w) + self.w0"
   ]
  },
  {
   "cell_type": "code",
   "execution_count": 16,
   "metadata": {},
   "outputs": [
    {
     "name": "stdout",
     "output_type": "stream",
     "text": [
      "Значение метрики R2 = 0.4305278542485148\n"
     ]
    }
   ],
   "source": [
    "model = LinearRegression()\n",
    "model.fit(features_train, target_train)\n",
    "predictions = model.predict(features_test)\n",
    "print(\"Значение метрики R2 =\", r2_score(target_test, predictions))"
   ]
  },
  {
   "cell_type": "code",
   "execution_count": 17,
   "metadata": {},
   "outputs": [
    {
     "data": {
      "text/plain": [
       "array([[3, 0, 3, 3],\n",
       "       [0, 3, 3, 4],\n",
       "       [3, 0, 0, 2],\n",
       "       [4, 4, 4, 2]])"
      ]
     },
     "execution_count": 17,
     "metadata": {},
     "output_type": "execute_result"
    }
   ],
   "source": [
    "# генерация матрицы\n",
    "matrix = np.random.randint(5, size=(4, 4))\n",
    "matrix"
   ]
  },
  {
   "cell_type": "code",
   "execution_count": 18,
   "metadata": {},
   "outputs": [
    {
     "data": {
      "text/plain": [
       "array([[ 0.        , -0.14814815,  0.18518519,  0.11111111],\n",
       "       [-0.33333333,  0.11111111,  0.11111111,  0.16666667],\n",
       "       [ 0.33333333, -0.07407407, -0.40740741,  0.05555556],\n",
       "       [ 0.        ,  0.22222222,  0.22222222, -0.16666667]])"
      ]
     },
     "execution_count": 18,
     "metadata": {},
     "output_type": "execute_result"
    }
   ],
   "source": [
    "# проверка матрицы на обратимость\n",
    "np.linalg.inv(matrix)"
   ]
  },
  {
   "cell_type": "code",
   "execution_count": 19,
   "metadata": {},
   "outputs": [],
   "source": [
    "features_train = features_train @ matrix\n",
    "features_test = features_test @ matrix"
   ]
  },
  {
   "cell_type": "code",
   "execution_count": 20,
   "metadata": {},
   "outputs": [
    {
     "name": "stdout",
     "output_type": "stream",
     "text": [
      "Значение метрики R2 = 0.43052785421094375\n"
     ]
    }
   ],
   "source": [
    "#проверка на преобразованных признаках\n",
    "model = LinearRegression()\n",
    "model.fit(features_train, target_train)\n",
    "predictions = model.predict(features_test)\n",
    "print('Значение метрики R2 =',r2_score(target_test, predictions))"
   ]
  },
  {
   "cell_type": "markdown",
   "metadata": {},
   "source": [
    "Значение модели машинного обучения на преобразованных данных не ухудшилось. "
   ]
  },
  {
   "cell_type": "markdown",
   "metadata": {},
   "source": [
    "**ОБЩИЙ ВЫВОД:**\n",
    "\n",
    "- Проведена предобработка данных:\n",
    "   данные проеверены на наличие аномалий, пропусков и подготовлены для последующей работы;\n",
    "- Обоснована связь параметров линейной регрессии в исходной задаче и в преобразованной;\n",
    "- Описан алгоритм преобразования данных для решения задачи;\n",
    "- Применив матричные операции запрограммировали алгоритм:\n",
    "     - Реализован алгоритм линейной регрессии;\n",
    "     - Сгенерирована матрица;\n",
    "     - Матрица проверена на обратимость;\n",
    "     - Проведена проверка на преобразованных признаках.\n",
    "\n",
    "Качество линейной регрессии не отличается до и после преобразования. \n",
    "\n",
    "Данные успешно зашифрованы - цель проекта достигнута!"
   ]
  }
 ],
 "metadata": {
  "ExecuteTimeLog": [
   {
    "duration": 395,
    "start_time": "2023-05-27T10:23:56.102Z"
   },
   {
    "duration": 86,
    "start_time": "2023-05-27T10:23:56.605Z"
   },
   {
    "duration": 15,
    "start_time": "2023-05-27T10:24:14.405Z"
   },
   {
    "duration": 6,
    "start_time": "2023-05-27T10:24:52.739Z"
   },
   {
    "duration": 13,
    "start_time": "2023-05-27T10:25:06.228Z"
   },
   {
    "duration": 6,
    "start_time": "2023-05-27T10:25:15.033Z"
   },
   {
    "duration": 9,
    "start_time": "2023-05-27T10:25:33.817Z"
   },
   {
    "duration": 7,
    "start_time": "2023-05-27T10:25:41.459Z"
   },
   {
    "duration": 9,
    "start_time": "2023-05-27T10:25:48.718Z"
   },
   {
    "duration": 11,
    "start_time": "2023-05-27T10:26:11.308Z"
   },
   {
    "duration": 678,
    "start_time": "2023-05-27T10:38:03.115Z"
   },
   {
    "duration": 3,
    "start_time": "2023-05-27T10:39:04.407Z"
   },
   {
    "duration": 133,
    "start_time": "2023-05-27T10:40:56.015Z"
   },
   {
    "duration": 9,
    "start_time": "2023-05-27T10:41:15.946Z"
   },
   {
    "duration": 6,
    "start_time": "2023-05-27T10:41:59.390Z"
   },
   {
    "duration": 6,
    "start_time": "2023-05-27T10:42:08.295Z"
   },
   {
    "duration": 988,
    "start_time": "2023-05-27T13:33:12.335Z"
   },
   {
    "duration": 961,
    "start_time": "2023-05-27T13:33:20.329Z"
   },
   {
    "duration": 119,
    "start_time": "2023-05-27T13:33:21.292Z"
   },
   {
    "duration": 16,
    "start_time": "2023-05-27T13:33:21.413Z"
   },
   {
    "duration": 10,
    "start_time": "2023-05-27T13:33:21.430Z"
   },
   {
    "duration": 5,
    "start_time": "2023-05-27T13:33:21.442Z"
   },
   {
    "duration": 4,
    "start_time": "2023-05-27T13:33:21.449Z"
   },
   {
    "duration": 6,
    "start_time": "2023-05-27T13:33:21.454Z"
   },
   {
    "duration": 57,
    "start_time": "2023-05-27T14:28:53.536Z"
   },
   {
    "duration": 8,
    "start_time": "2023-05-28T14:15:37.361Z"
   },
   {
    "duration": 48,
    "start_time": "2023-05-28T14:17:26.276Z"
   },
   {
    "duration": 969,
    "start_time": "2023-05-28T14:17:34.057Z"
   },
   {
    "duration": 71,
    "start_time": "2023-05-28T14:17:35.028Z"
   },
   {
    "duration": 14,
    "start_time": "2023-05-28T14:17:35.101Z"
   },
   {
    "duration": 11,
    "start_time": "2023-05-28T14:17:35.116Z"
   },
   {
    "duration": 5,
    "start_time": "2023-05-28T14:17:35.128Z"
   },
   {
    "duration": 16,
    "start_time": "2023-05-28T14:17:35.135Z"
   },
   {
    "duration": 26,
    "start_time": "2023-05-28T14:17:35.153Z"
   },
   {
    "duration": 9,
    "start_time": "2023-05-28T14:17:35.181Z"
   },
   {
    "duration": 257,
    "start_time": "2023-05-28T14:17:35.191Z"
   },
   {
    "duration": 3,
    "start_time": "2023-05-28T14:17:55.993Z"
   },
   {
    "duration": 6,
    "start_time": "2023-05-28T14:17:59.748Z"
   },
   {
    "duration": 6,
    "start_time": "2023-05-28T14:18:47.769Z"
   },
   {
    "duration": 7,
    "start_time": "2023-05-28T14:18:53.193Z"
   },
   {
    "duration": 4,
    "start_time": "2023-05-28T14:20:39.025Z"
   },
   {
    "duration": 81,
    "start_time": "2023-05-28T14:20:58.976Z"
   },
   {
    "duration": 3,
    "start_time": "2023-05-28T14:21:40.468Z"
   },
   {
    "duration": 104,
    "start_time": "2023-05-28T14:21:45.072Z"
   },
   {
    "duration": 4,
    "start_time": "2023-05-28T14:21:51.515Z"
   },
   {
    "duration": 5,
    "start_time": "2023-05-28T14:21:51.873Z"
   },
   {
    "duration": 6,
    "start_time": "2023-05-28T14:23:42.476Z"
   },
   {
    "duration": 6,
    "start_time": "2023-05-28T14:24:30.960Z"
   },
   {
    "duration": 6,
    "start_time": "2023-05-28T14:25:41.199Z"
   },
   {
    "duration": 13,
    "start_time": "2023-05-28T14:26:14.464Z"
   },
   {
    "duration": 6,
    "start_time": "2023-05-28T14:26:21.440Z"
   },
   {
    "duration": 1090,
    "start_time": "2023-05-28T17:45:39.660Z"
   },
   {
    "duration": 77,
    "start_time": "2023-05-28T17:45:40.752Z"
   },
   {
    "duration": 16,
    "start_time": "2023-05-28T17:45:40.830Z"
   },
   {
    "duration": 10,
    "start_time": "2023-05-28T17:45:40.848Z"
   },
   {
    "duration": 5,
    "start_time": "2023-05-28T17:45:40.860Z"
   },
   {
    "duration": 5,
    "start_time": "2023-05-28T17:45:40.867Z"
   },
   {
    "duration": 9,
    "start_time": "2023-05-28T17:45:40.873Z"
   },
   {
    "duration": 9,
    "start_time": "2023-05-28T17:45:40.884Z"
   },
   {
    "duration": 13,
    "start_time": "2023-05-28T17:45:40.895Z"
   },
   {
    "duration": 70,
    "start_time": "2023-05-28T17:45:40.910Z"
   },
   {
    "duration": 98,
    "start_time": "2023-05-28T17:45:40.982Z"
   },
   {
    "duration": 14,
    "start_time": "2023-05-28T17:45:41.082Z"
   },
   {
    "duration": 12,
    "start_time": "2023-05-28T17:45:58.878Z"
   },
   {
    "duration": 5,
    "start_time": "2023-05-28T17:46:04.853Z"
   },
   {
    "duration": 12,
    "start_time": "2023-05-28T17:46:14.073Z"
   },
   {
    "duration": 12,
    "start_time": "2023-05-28T17:46:59.178Z"
   },
   {
    "duration": 9,
    "start_time": "2023-05-28T17:47:09.640Z"
   },
   {
    "duration": 7,
    "start_time": "2023-05-28T17:48:09.056Z"
   },
   {
    "duration": 7,
    "start_time": "2023-05-28T17:48:13.493Z"
   },
   {
    "duration": 96,
    "start_time": "2023-05-28T17:48:27.894Z"
   },
   {
    "duration": 10,
    "start_time": "2023-05-28T17:48:32.083Z"
   },
   {
    "duration": 10,
    "start_time": "2023-05-28T17:49:47.209Z"
   },
   {
    "duration": 13,
    "start_time": "2023-05-28T17:49:53.468Z"
   },
   {
    "duration": 29,
    "start_time": "2023-05-28T17:50:09.475Z"
   },
   {
    "duration": 86,
    "start_time": "2023-05-28T17:56:06.841Z"
   },
   {
    "duration": 73,
    "start_time": "2023-05-28T17:56:39.869Z"
   },
   {
    "duration": 8,
    "start_time": "2023-05-28T18:03:10.378Z"
   },
   {
    "duration": 1065,
    "start_time": "2023-05-28T18:06:32.449Z"
   },
   {
    "duration": 28,
    "start_time": "2023-05-28T18:06:33.516Z"
   },
   {
    "duration": 16,
    "start_time": "2023-05-28T18:06:33.546Z"
   },
   {
    "duration": 33,
    "start_time": "2023-05-28T18:06:33.563Z"
   },
   {
    "duration": 8,
    "start_time": "2023-05-28T18:06:33.599Z"
   },
   {
    "duration": 46,
    "start_time": "2023-05-28T18:06:33.609Z"
   },
   {
    "duration": 4,
    "start_time": "2023-05-28T18:06:33.657Z"
   },
   {
    "duration": 12,
    "start_time": "2023-05-28T18:06:33.662Z"
   },
   {
    "duration": 5,
    "start_time": "2023-05-28T18:06:33.676Z"
   },
   {
    "duration": 17,
    "start_time": "2023-05-28T18:06:33.683Z"
   },
   {
    "duration": 177,
    "start_time": "2023-05-28T18:06:33.702Z"
   },
   {
    "duration": 9,
    "start_time": "2023-05-28T18:06:33.881Z"
   },
   {
    "duration": 86,
    "start_time": "2023-05-28T18:06:33.893Z"
   },
   {
    "duration": 12,
    "start_time": "2023-05-28T18:06:33.984Z"
   },
   {
    "duration": 1161,
    "start_time": "2023-05-28T18:20:17.881Z"
   },
   {
    "duration": 32,
    "start_time": "2023-05-28T18:20:19.044Z"
   },
   {
    "duration": 16,
    "start_time": "2023-05-28T18:20:19.078Z"
   },
   {
    "duration": 21,
    "start_time": "2023-05-28T18:20:19.096Z"
   },
   {
    "duration": 6,
    "start_time": "2023-05-28T18:20:19.119Z"
   },
   {
    "duration": 50,
    "start_time": "2023-05-28T18:20:19.127Z"
   },
   {
    "duration": 4,
    "start_time": "2023-05-28T18:20:19.178Z"
   },
   {
    "duration": 13,
    "start_time": "2023-05-28T18:20:19.184Z"
   },
   {
    "duration": 4,
    "start_time": "2023-05-28T18:20:19.199Z"
   },
   {
    "duration": 11,
    "start_time": "2023-05-28T18:20:19.204Z"
   },
   {
    "duration": 74,
    "start_time": "2023-05-28T18:20:19.217Z"
   },
   {
    "duration": 89,
    "start_time": "2023-05-28T18:20:19.297Z"
   },
   {
    "duration": 92,
    "start_time": "2023-05-28T18:20:19.388Z"
   },
   {
    "duration": 13,
    "start_time": "2023-05-28T18:20:19.483Z"
   },
   {
    "duration": 2219,
    "start_time": "2023-05-28T18:49:46.692Z"
   },
   {
    "duration": 27,
    "start_time": "2023-05-28T18:49:48.913Z"
   },
   {
    "duration": 16,
    "start_time": "2023-05-28T18:50:04.588Z"
   },
   {
    "duration": 11,
    "start_time": "2023-05-28T18:50:04.859Z"
   },
   {
    "duration": 7,
    "start_time": "2023-05-28T18:50:05.057Z"
   },
   {
    "duration": 21,
    "start_time": "2023-05-28T18:50:05.438Z"
   },
   {
    "duration": 4,
    "start_time": "2023-05-28T18:50:06.111Z"
   },
   {
    "duration": 7,
    "start_time": "2023-05-28T18:50:06.699Z"
   },
   {
    "duration": 4,
    "start_time": "2023-05-28T18:52:07.097Z"
   },
   {
    "duration": 9,
    "start_time": "2023-05-28T18:52:08.293Z"
   },
   {
    "duration": 4,
    "start_time": "2023-05-28T18:52:09.993Z"
   },
   {
    "duration": 4,
    "start_time": "2023-05-28T18:52:12.494Z"
   },
   {
    "duration": 4,
    "start_time": "2023-05-28T18:52:37.438Z"
   },
   {
    "duration": 6,
    "start_time": "2023-05-28T18:52:37.987Z"
   },
   {
    "duration": 58,
    "start_time": "2023-05-28T19:42:13.402Z"
   },
   {
    "duration": 1153,
    "start_time": "2023-05-28T19:42:18.865Z"
   },
   {
    "duration": 680,
    "start_time": "2023-05-28T19:42:41.823Z"
   },
   {
    "duration": 169,
    "start_time": "2023-05-28T19:42:45.671Z"
   },
   {
    "duration": 83,
    "start_time": "2023-05-28T19:42:58.298Z"
   },
   {
    "duration": 13,
    "start_time": "2023-05-28T19:43:10.395Z"
   },
   {
    "duration": 14,
    "start_time": "2023-05-28T19:44:24.381Z"
   },
   {
    "duration": 3,
    "start_time": "2023-05-28T19:44:30.246Z"
   },
   {
    "duration": 81,
    "start_time": "2023-05-28T19:44:30.621Z"
   },
   {
    "duration": 17,
    "start_time": "2023-05-28T19:44:31.087Z"
   },
   {
    "duration": 15,
    "start_time": "2023-05-28T19:44:31.341Z"
   },
   {
    "duration": 7,
    "start_time": "2023-05-28T19:44:31.603Z"
   },
   {
    "duration": 32,
    "start_time": "2023-05-28T19:44:31.822Z"
   },
   {
    "duration": 243,
    "start_time": "2023-05-28T19:44:32.051Z"
   },
   {
    "duration": 5,
    "start_time": "2023-05-28T19:44:32.742Z"
   },
   {
    "duration": 13,
    "start_time": "2023-05-28T19:44:49.393Z"
   },
   {
    "duration": 27968,
    "start_time": "2023-05-28T19:45:58.971Z"
   },
   {
    "duration": 143804,
    "start_time": "2023-05-28T19:51:15.947Z"
   },
   {
    "duration": 137,
    "start_time": "2023-05-28T19:55:12.412Z"
   },
   {
    "duration": 125,
    "start_time": "2023-05-28T19:55:26.989Z"
   },
   {
    "duration": 105,
    "start_time": "2023-05-28T19:57:09.553Z"
   },
   {
    "duration": 151,
    "start_time": "2023-05-28T19:57:14.300Z"
   },
   {
    "duration": 90,
    "start_time": "2023-05-28T19:57:20.678Z"
   },
   {
    "duration": 1855,
    "start_time": "2023-05-28T19:57:38.487Z"
   },
   {
    "duration": 152,
    "start_time": "2023-05-28T19:57:47.802Z"
   },
   {
    "duration": 173,
    "start_time": "2023-05-28T19:57:57.812Z"
   },
   {
    "duration": 184,
    "start_time": "2023-05-28T19:58:35.510Z"
   },
   {
    "duration": 191,
    "start_time": "2023-05-28T19:58:41.077Z"
   },
   {
    "duration": 1271,
    "start_time": "2023-05-28T20:06:06.182Z"
   },
   {
    "duration": 2044,
    "start_time": "2023-05-28T20:08:55.655Z"
   },
   {
    "duration": 149,
    "start_time": "2023-05-28T20:10:52.982Z"
   },
   {
    "duration": 23,
    "start_time": "2023-05-28T20:11:05.271Z"
   },
   {
    "duration": 153,
    "start_time": "2023-05-28T20:11:52.891Z"
   },
   {
    "duration": 140,
    "start_time": "2023-05-28T20:11:57.279Z"
   },
   {
    "duration": 151,
    "start_time": "2023-05-28T20:12:02.377Z"
   },
   {
    "duration": 141,
    "start_time": "2023-05-28T20:13:42.382Z"
   },
   {
    "duration": 130,
    "start_time": "2023-05-28T20:20:01.815Z"
   },
   {
    "duration": 1893,
    "start_time": "2023-05-28T20:21:54.476Z"
   },
   {
    "duration": 34,
    "start_time": "2023-05-28T20:21:56.372Z"
   },
   {
    "duration": 13,
    "start_time": "2023-05-28T20:21:56.408Z"
   },
   {
    "duration": 52,
    "start_time": "2023-05-28T20:21:56.423Z"
   },
   {
    "duration": 14,
    "start_time": "2023-05-28T20:21:56.477Z"
   },
   {
    "duration": 30,
    "start_time": "2023-05-28T20:21:56.492Z"
   },
   {
    "duration": 171,
    "start_time": "2023-05-28T20:21:56.524Z"
   },
   {
    "duration": 0,
    "start_time": "2023-05-28T20:21:56.697Z"
   },
   {
    "duration": 0,
    "start_time": "2023-05-28T20:21:56.698Z"
   },
   {
    "duration": 0,
    "start_time": "2023-05-28T20:21:56.699Z"
   },
   {
    "duration": 0,
    "start_time": "2023-05-28T20:21:56.700Z"
   },
   {
    "duration": 0,
    "start_time": "2023-05-28T20:21:56.702Z"
   },
   {
    "duration": 0,
    "start_time": "2023-05-28T20:21:56.703Z"
   },
   {
    "duration": 0,
    "start_time": "2023-05-28T20:21:56.704Z"
   },
   {
    "duration": 0,
    "start_time": "2023-05-28T20:21:56.705Z"
   },
   {
    "duration": 14,
    "start_time": "2023-05-28T20:22:32.682Z"
   },
   {
    "duration": 211,
    "start_time": "2023-05-28T20:22:42.653Z"
   },
   {
    "duration": 178,
    "start_time": "2023-05-28T20:22:58.632Z"
   },
   {
    "duration": 187,
    "start_time": "2023-05-28T20:23:08.916Z"
   },
   {
    "duration": 188,
    "start_time": "2023-05-28T20:23:16.266Z"
   },
   {
    "duration": 205,
    "start_time": "2023-05-28T20:23:20.782Z"
   },
   {
    "duration": 204,
    "start_time": "2023-05-28T20:27:01.513Z"
   },
   {
    "duration": 9163,
    "start_time": "2023-05-28T20:27:24.354Z"
   },
   {
    "duration": 160,
    "start_time": "2023-05-28T20:27:49.253Z"
   },
   {
    "duration": 152,
    "start_time": "2023-05-28T20:28:40.515Z"
   },
   {
    "duration": 359,
    "start_time": "2023-05-28T20:30:34.989Z"
   },
   {
    "duration": 285,
    "start_time": "2023-05-28T20:31:28.208Z"
   },
   {
    "duration": 18,
    "start_time": "2023-05-28T20:32:23.552Z"
   },
   {
    "duration": 127,
    "start_time": "2023-05-28T20:32:36.392Z"
   },
   {
    "duration": 22456,
    "start_time": "2023-05-28T20:33:33.885Z"
   },
   {
    "duration": 178,
    "start_time": "2023-05-28T20:37:57.185Z"
   },
   {
    "duration": 212,
    "start_time": "2023-05-28T20:38:16.876Z"
   },
   {
    "duration": 12,
    "start_time": "2023-05-28T20:38:27.389Z"
   },
   {
    "duration": 10,
    "start_time": "2023-05-28T20:38:41.687Z"
   },
   {
    "duration": 21,
    "start_time": "2023-05-28T20:38:58.340Z"
   },
   {
    "duration": 15,
    "start_time": "2023-05-28T20:39:13.201Z"
   },
   {
    "duration": 106,
    "start_time": "2023-05-28T20:40:00.487Z"
   },
   {
    "duration": 575,
    "start_time": "2023-05-28T20:40:07.302Z"
   },
   {
    "duration": 15,
    "start_time": "2023-05-28T20:40:15.295Z"
   },
   {
    "duration": 102,
    "start_time": "2023-05-28T20:41:39.906Z"
   },
   {
    "duration": 31623,
    "start_time": "2023-05-28T20:41:45.448Z"
   },
   {
    "duration": 20,
    "start_time": "2023-05-28T20:42:27.954Z"
   },
   {
    "duration": 34206,
    "start_time": "2023-05-28T20:42:33.184Z"
   },
   {
    "duration": 31,
    "start_time": "2023-05-28T20:43:23.964Z"
   },
   {
    "duration": 475,
    "start_time": "2023-05-28T20:45:10.516Z"
   },
   {
    "duration": 43,
    "start_time": "2023-05-28T20:45:59.018Z"
   },
   {
    "duration": 282,
    "start_time": "2023-05-28T20:50:26.700Z"
   },
   {
    "duration": 291,
    "start_time": "2023-05-28T20:50:43.252Z"
   },
   {
    "duration": 297,
    "start_time": "2023-05-28T20:50:51.512Z"
   },
   {
    "duration": 119,
    "start_time": "2023-05-28T20:53:53.651Z"
   },
   {
    "duration": 117,
    "start_time": "2023-05-28T20:57:13.880Z"
   },
   {
    "duration": 137,
    "start_time": "2023-05-28T20:59:25.073Z"
   },
   {
    "duration": 1487,
    "start_time": "2023-08-20T16:59:39.156Z"
   },
   {
    "duration": 122,
    "start_time": "2023-08-20T16:59:40.645Z"
   },
   {
    "duration": 17,
    "start_time": "2023-08-20T16:59:40.769Z"
   },
   {
    "duration": 18,
    "start_time": "2023-08-20T16:59:40.789Z"
   },
   {
    "duration": 24,
    "start_time": "2023-08-20T16:59:40.810Z"
   },
   {
    "duration": 40,
    "start_time": "2023-08-20T16:59:40.836Z"
   },
   {
    "duration": 143,
    "start_time": "2023-08-20T16:59:40.878Z"
   },
   {
    "duration": 148,
    "start_time": "2023-08-20T16:59:41.023Z"
   },
   {
    "duration": 136,
    "start_time": "2023-08-20T16:59:41.173Z"
   },
   {
    "duration": 270,
    "start_time": "2023-08-20T16:59:41.313Z"
   },
   {
    "duration": 315,
    "start_time": "2023-08-20T16:59:41.585Z"
   },
   {
    "duration": 463,
    "start_time": "2023-08-20T16:59:41.903Z"
   },
   {
    "duration": 5,
    "start_time": "2023-08-20T16:59:42.368Z"
   },
   {
    "duration": 9,
    "start_time": "2023-08-20T16:59:42.375Z"
   },
   {
    "duration": 5,
    "start_time": "2023-08-20T16:59:42.385Z"
   },
   {
    "duration": 69,
    "start_time": "2023-08-20T16:59:42.392Z"
   },
   {
    "duration": 5,
    "start_time": "2023-08-20T16:59:42.464Z"
   },
   {
    "duration": 92,
    "start_time": "2023-08-20T16:59:42.472Z"
   },
   {
    "duration": 5,
    "start_time": "2023-08-20T16:59:42.567Z"
   },
   {
    "duration": 85,
    "start_time": "2023-08-20T16:59:42.575Z"
   }
  ],
  "kernelspec": {
   "display_name": "Python 3 (ipykernel)",
   "language": "python",
   "name": "python3"
  },
  "language_info": {
   "codemirror_mode": {
    "name": "ipython",
    "version": 3
   },
   "file_extension": ".py",
   "mimetype": "text/x-python",
   "name": "python",
   "nbconvert_exporter": "python",
   "pygments_lexer": "ipython3",
   "version": "3.9.12"
  },
  "toc": {
   "base_numbering": 1,
   "nav_menu": {},
   "number_sections": true,
   "sideBar": true,
   "skip_h1_title": true,
   "title_cell": "Содержание",
   "title_sidebar": "Contents",
   "toc_cell": true,
   "toc_position": {
    "height": "calc(100% - 180px)",
    "left": "10px",
    "top": "150px",
    "width": "165px"
   },
   "toc_section_display": true,
   "toc_window_display": true
  }
 },
 "nbformat": 4,
 "nbformat_minor": 2
}
