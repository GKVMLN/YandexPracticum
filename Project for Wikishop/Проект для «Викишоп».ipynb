{
 "cells": [
  {
   "cell_type": "markdown",
   "metadata": {
    "toc": true
   },
   "source": [
    "<h1>Содержание<span class=\"tocSkip\"></span></h1>\n",
    "<div class=\"toc\"><ul class=\"toc-item\"><li><span><a href=\"#Подготовка\" data-toc-modified-id=\"Подготовка-1\"><span class=\"toc-item-num\">1&nbsp;&nbsp;</span>Подготовка</a></span></li><li><span><a href=\"#Обучение\" data-toc-modified-id=\"Обучение-2\"><span class=\"toc-item-num\">2&nbsp;&nbsp;</span>Обучение</a></span></li><li><span><a href=\"#Выводы\" data-toc-modified-id=\"Выводы-3\"><span class=\"toc-item-num\">3&nbsp;&nbsp;</span>Выводы</a></span></li><li><span><a href=\"#Чек-лист-проверки\" data-toc-modified-id=\"Чек-лист-проверки-4\"><span class=\"toc-item-num\">4&nbsp;&nbsp;</span>Чек-лист проверки</a></span></li></ul></div>"
   ]
  },
  {
   "cell_type": "markdown",
   "metadata": {},
   "source": [
    "# Проект для «Викишоп»"
   ]
  },
  {
   "cell_type": "markdown",
   "metadata": {},
   "source": [
    "Интернет-магазин «Викишоп» запускает новый сервис. Теперь пользователи могут редактировать и дополнять описания товаров, как в вики-сообществах. То есть клиенты предлагают свои правки и комментируют изменения других. Магазину нужен инструмент, который будет искать токсичные комментарии и отправлять их на модерацию. \n",
    "\n",
    "Обучите модель классифицировать комментарии на позитивные и негативные. В вашем распоряжении набор данных с разметкой о токсичности правок.\n",
    "\n",
    "Постройте модель со значением метрики качества *F1* не меньше 0.75. \n",
    "\n",
    "**Инструкция по выполнению проекта**\n",
    "\n",
    "1. Загрузите и подготовьте данные.\n",
    "2. Обучите разные модели. \n",
    "3. Сделайте выводы.\n",
    "\n",
    "Для выполнения проекта применять *BERT* необязательно, но вы можете попробовать.\n",
    "\n",
    "**Описание данных**\n",
    "\n",
    "Данные находятся в файле `toxic_comments.csv`. Столбец *text* в нём содержит текст комментария, а *toxic* — целевой признак."
   ]
  },
  {
   "cell_type": "markdown",
   "metadata": {},
   "source": [
    "## Подготовка"
   ]
  },
  {
   "cell_type": "code",
   "execution_count": 1,
   "metadata": {},
   "outputs": [],
   "source": [
    "import pandas as pd\n",
    "import numpy as np\n",
    "import sys\n",
    "import time\n",
    "\n",
    "import seaborn as sns\n",
    "import matplotlib.pyplot as plt\n",
    "\n",
    "from pymystem3 import Mystem\n",
    "import re \n",
    "import spacy\n",
    "from nltk.corpus import wordnet\n",
    "import nltk\n",
    "from nltk.corpus import stopwords as nltk_stopwords\n",
    "from nltk.stem import WordNetLemmatizer\n",
    "from sklearn.feature_extraction.text import TfidfVectorizer\n",
    "from sklearn.feature_extraction.text import CountVectorizer\n",
    "\n",
    "from sklearn.pipeline import Pipeline\n",
    "from sklearn.model_selection import train_test_split, GridSearchCV, cross_val_score\n",
    "from sklearn.linear_model import LogisticRegression\n",
    "from sklearn.ensemble import RandomForestClassifier\n",
    "from sklearn.tree import DecisionTreeClassifier\n",
    "from catboost import CatBoostClassifier\n",
    "\n",
    "from sklearn.metrics import f1_score, roc_curve, roc_auc_score"
   ]
  },
  {
   "cell_type": "code",
   "execution_count": 2,
   "metadata": {},
   "outputs": [],
   "source": [
    "data = pd.read_csv('/datasets/toxic_comments.csv', index_col=0)"
   ]
  },
  {
   "cell_type": "code",
   "execution_count": 3,
   "metadata": {},
   "outputs": [
    {
     "name": "stdout",
     "output_type": "stream",
     "text": [
      "<class 'pandas.core.frame.DataFrame'>\n",
      "Int64Index: 159292 entries, 0 to 159450\n",
      "Data columns (total 2 columns):\n",
      " #   Column  Non-Null Count   Dtype \n",
      "---  ------  --------------   ----- \n",
      " 0   text    159292 non-null  object\n",
      " 1   toxic   159292 non-null  int64 \n",
      "dtypes: int64(1), object(1)\n",
      "memory usage: 3.6+ MB\n"
     ]
    }
   ],
   "source": [
    "data.info()"
   ]
  },
  {
   "cell_type": "code",
   "execution_count": 4,
   "metadata": {},
   "outputs": [
    {
     "data": {
      "text/html": [
       "<div>\n",
       "<style scoped>\n",
       "    .dataframe tbody tr th:only-of-type {\n",
       "        vertical-align: middle;\n",
       "    }\n",
       "\n",
       "    .dataframe tbody tr th {\n",
       "        vertical-align: top;\n",
       "    }\n",
       "\n",
       "    .dataframe thead th {\n",
       "        text-align: right;\n",
       "    }\n",
       "</style>\n",
       "<table border=\"1\" class=\"dataframe\">\n",
       "  <thead>\n",
       "    <tr style=\"text-align: right;\">\n",
       "      <th></th>\n",
       "      <th>text</th>\n",
       "      <th>toxic</th>\n",
       "    </tr>\n",
       "  </thead>\n",
       "  <tbody>\n",
       "    <tr>\n",
       "      <th>149567</th>\n",
       "      <td>\"\\n\\nPlease stop. If you continue to create in...</td>\n",
       "      <td>0</td>\n",
       "    </tr>\n",
       "    <tr>\n",
       "      <th>11583</th>\n",
       "      <td>Alright instead of citations and crap you shou...</td>\n",
       "      <td>0</td>\n",
       "    </tr>\n",
       "    <tr>\n",
       "      <th>110770</th>\n",
       "      <td>Futurix, you have mistakenly presented an argu...</td>\n",
       "      <td>0</td>\n",
       "    </tr>\n",
       "    <tr>\n",
       "      <th>19504</th>\n",
       "      <td>\":::Thanks!  Helpful.  And, btw, I appreciate ...</td>\n",
       "      <td>0</td>\n",
       "    </tr>\n",
       "    <tr>\n",
       "      <th>150087</th>\n",
       "      <td>February 2009 \\n Please stop your disruptive e...</td>\n",
       "      <td>0</td>\n",
       "    </tr>\n",
       "    <tr>\n",
       "      <th>81955</th>\n",
       "      <td>Sure Jimmy - plenty of info (and pictures) in ...</td>\n",
       "      <td>0</td>\n",
       "    </tr>\n",
       "    <tr>\n",
       "      <th>39202</th>\n",
       "      <td>You advise is needed \\n\\nHello Roger,\\n\\nThis ...</td>\n",
       "      <td>0</td>\n",
       "    </tr>\n",
       "    <tr>\n",
       "      <th>107789</th>\n",
       "      <td>\"There you go. Thanks for spotting that!  | ta...</td>\n",
       "      <td>0</td>\n",
       "    </tr>\n",
       "    <tr>\n",
       "      <th>155165</th>\n",
       "      <td>Many of us used to think of you guys as simply...</td>\n",
       "      <td>0</td>\n",
       "    </tr>\n",
       "    <tr>\n",
       "      <th>122545</th>\n",
       "      <td>\"\\n\\nI provided three cites that male tennis p...</td>\n",
       "      <td>0</td>\n",
       "    </tr>\n",
       "  </tbody>\n",
       "</table>\n",
       "</div>"
      ],
      "text/plain": [
       "                                                     text  toxic\n",
       "149567  \"\\n\\nPlease stop. If you continue to create in...      0\n",
       "11583   Alright instead of citations and crap you shou...      0\n",
       "110770  Futurix, you have mistakenly presented an argu...      0\n",
       "19504   \":::Thanks!  Helpful.  And, btw, I appreciate ...      0\n",
       "150087  February 2009 \\n Please stop your disruptive e...      0\n",
       "81955   Sure Jimmy - plenty of info (and pictures) in ...      0\n",
       "39202   You advise is needed \\n\\nHello Roger,\\n\\nThis ...      0\n",
       "107789  \"There you go. Thanks for spotting that!  | ta...      0\n",
       "155165  Many of us used to think of you guys as simply...      0\n",
       "122545  \"\\n\\nI provided three cites that male tennis p...      0"
      ]
     },
     "execution_count": 4,
     "metadata": {},
     "output_type": "execute_result"
    }
   ],
   "source": [
    "data.sample(10)"
   ]
  },
  {
   "cell_type": "code",
   "execution_count": 5,
   "metadata": {},
   "outputs": [
    {
     "data": {
      "text/plain": [
       "0"
      ]
     },
     "execution_count": 5,
     "metadata": {},
     "output_type": "execute_result"
    }
   ],
   "source": [
    "data.duplicated().sum()"
   ]
  },
  {
   "cell_type": "code",
   "execution_count": 6,
   "metadata": {},
   "outputs": [
    {
     "data": {
      "text/plain": [
       "text     0\n",
       "toxic    0\n",
       "dtype: int64"
      ]
     },
     "execution_count": 6,
     "metadata": {},
     "output_type": "execute_result"
    }
   ],
   "source": [
    "data.isna().sum()"
   ]
  },
  {
   "cell_type": "code",
   "execution_count": 7,
   "metadata": {},
   "outputs": [
    {
     "data": {
      "text/plain": [
       "0    0.898388\n",
       "1    0.101612\n",
       "Name: toxic, dtype: float64"
      ]
     },
     "execution_count": 7,
     "metadata": {},
     "output_type": "execute_result"
    }
   ],
   "source": [
    "data['toxic'].value_counts(normalize=True)"
   ]
  },
  {
   "cell_type": "code",
   "execution_count": 8,
   "metadata": {},
   "outputs": [
    {
     "data": {
      "text/plain": [
       "<AxesSubplot:xlabel='toxic', ylabel='count'>"
      ]
     },
     "execution_count": 8,
     "metadata": {},
     "output_type": "execute_result"
    },
    {
     "data": {
      "image/png": "[encoded data removed]",
      "text/plain": [
       "<Figure size 432x288 with 1 Axes>"
      ]
     },
     "metadata": {
      "needs_background": "light"
     },
     "output_type": "display_data"
    }
   ],
   "source": [
    "plt.figure(figsize=(6, 4))\n",
    "sns.countplot(x='toxic', data=data)\n",
    "\n",
    "plt.title(\"Распределение комментариев на позитивные и негативные\")"
   ]
  },
  {
   "cell_type": "markdown",
   "metadata": {},
   "source": [
    "Дисбаланс классов будем обрабатывает в процессе обучения"
   ]
  },
  {
   "cell_type": "code",
   "execution_count": 9,
   "metadata": {},
   "outputs": [],
   "source": [
    "nlp = spacy.load('en_core_web_sm')"
   ]
  },
  {
   "cell_type": "code",
   "execution_count": 10,
   "metadata": {},
   "outputs": [],
   "source": [
    "def lemma_clear(text): \n",
    "\n",
    "    lemm = nlp(text) \n",
    "    lemm = \" \".join([token.lemma_ for token in lemm])  \n",
    "    return \" \".join(lemm.split())"
   ]
  },
  {
   "cell_type": "code",
   "execution_count": 15,
   "metadata": {},
   "outputs": [
    {
     "name": "stdout",
     "output_type": "stream",
     "text": [
      "CPU times: user 35min 51s, sys: 5.06 s, total: 35min 56s\n",
      "Wall time: 35min 58s\n"
     ]
    }
   ],
   "source": [
    "%%time\n",
    "data['text'] = data['text'].apply(lemma_clear)"
   ]
  },
  {
   "cell_type": "code",
   "execution_count": 40,
   "metadata": {},
   "outputs": [
    {
     "data": {
      "text/html": [
       "<div>\n",
       "<style scoped>\n",
       "    .dataframe tbody tr th:only-of-type {\n",
       "        vertical-align: middle;\n",
       "    }\n",
       "\n",
       "    .dataframe tbody tr th {\n",
       "        vertical-align: top;\n",
       "    }\n",
       "\n",
       "    .dataframe thead th {\n",
       "        text-align: right;\n",
       "    }\n",
       "</style>\n",
       "<table border=\"1\" class=\"dataframe\">\n",
       "  <thead>\n",
       "    <tr style=\"text-align: right;\">\n",
       "      <th></th>\n",
       "      <th>text</th>\n",
       "      <th>toxic</th>\n",
       "    </tr>\n",
       "  </thead>\n",
       "  <tbody>\n",
       "    <tr>\n",
       "      <th>9403</th>\n",
       "      <td>the only problem be that you move the name to ...</td>\n",
       "      <td>0</td>\n",
       "    </tr>\n",
       "    <tr>\n",
       "      <th>156178</th>\n",
       "      <td>allen fyi here be one religious organisation s...</td>\n",
       "      <td>0</td>\n",
       "    </tr>\n",
       "    <tr>\n",
       "      <th>55101</th>\n",
       "      <td>btw this should answer the question as to whet...</td>\n",
       "      <td>0</td>\n",
       "    </tr>\n",
       "    <tr>\n",
       "      <th>134072</th>\n",
       "      <td>i take the definition from wikipedia article o...</td>\n",
       "      <td>0</td>\n",
       "    </tr>\n",
       "    <tr>\n",
       "      <th>157483</th>\n",
       "      <td>whoa that be even more ambitious p i prefer to...</td>\n",
       "      <td>0</td>\n",
       "    </tr>\n",
       "  </tbody>\n",
       "</table>\n",
       "</div>"
      ],
      "text/plain": [
       "                                                     text  toxic\n",
       "9403    the only problem be that you move the name to ...      0\n",
       "156178  allen fyi here be one religious organisation s...      0\n",
       "55101   btw this should answer the question as to whet...      0\n",
       "134072  i take the definition from wikipedia article o...      0\n",
       "157483  whoa that be even more ambitious p i prefer to...      0"
      ]
     },
     "execution_count": 40,
     "metadata": {},
     "output_type": "execute_result"
    }
   ],
   "source": [
    "data.sample(5)"
   ]
  },
  {
   "cell_type": "markdown",
   "metadata": {},
   "source": [
    "**ВЫВОД 1**\n",
    "На первом этапе данные были:\n",
    "- проверены на наличие пропусков, \n",
    "- дублей, \n",
    "- изучен баланс классов, \n",
    "- лемматизирован,\n",
    "- очищен текст. \n",
    "\n",
    "Далее подготовим данные и обучим модели "
   ]
  },
  {
   "cell_type": "markdown",
   "metadata": {},
   "source": [
    "## Обучение"
   ]
  },
  {
   "cell_type": "code",
   "execution_count": 49,
   "metadata": {},
   "outputs": [
    {
     "name": "stdout",
     "output_type": "stream",
     "text": [
      "Тренировочная выборка: (95575, 1)\n",
      "Валидационная выборка: (31859, 1)\n",
      "Тестовая выборка: (31858, 1)\n",
      "\n",
      "Целевой признак тренировочная выборки: (95575,)\n",
      "Целевой признак валидационной выборки: (31859,)\n",
      "Целевой признак тестовой выборки: (31858,)\n"
     ]
    }
   ],
   "source": [
    "#Переменные для признаков и целевого признака\n",
    "features = data.drop(['toxic'], axis=1)\n",
    "target = data['toxic']\n",
    "\n",
    "#Деление на выборки\n",
    "features_train, features_fv, target_train, target_fv = train_test_split(\n",
    "    features, target, test_size=0.4, random_state=12345, stratify = target)\n",
    "\n",
    "#Деление на выборки\n",
    "features_test, features_valid, target_test, target_valid = train_test_split(\n",
    "    features_fv, target_fv, test_size=0.5, random_state=12345)\n",
    "\n",
    "print('Тренировочная выборка:', features_train.shape)\n",
    "print('Валидационная выборка:', features_valid.shape)\n",
    "print('Тестовая выборка:', features_test.shape)\n",
    "print()\n",
    "print('Целевой признак тренировочная выборки:', target_train.shape)\n",
    "print('Целевой признак валидационной выборки:', target_valid.shape)\n",
    "print('Целевой признак тестовой выборки:', target_test.shape)"
   ]
  },
  {
   "cell_type": "code",
   "execution_count": 42,
   "metadata": {},
   "outputs": [
    {
     "name": "stderr",
     "output_type": "stream",
     "text": [
      "[nltk_data] Downloading package stopwords to /home/jovyan/nltk_data...\n",
      "[nltk_data]   Package stopwords is already up-to-date!\n"
     ]
    }
   ],
   "source": [
    "#Получение стоп-слов для английского языка\n",
    "nltk.download('stopwords')\n",
    "stopwords = set(nltk_stopwords.words('english'))"
   ]
  },
  {
   "cell_type": "code",
   "execution_count": 52,
   "metadata": {},
   "outputs": [],
   "source": [
    "#Получение TF-IDF для корпуса текста\n",
    "count_tf_idf = TfidfVectorizer(stop_words=stopwords)"
   ]
  },
  {
   "cell_type": "code",
   "execution_count": 53,
   "metadata": {},
   "outputs": [],
   "source": [
    "features_train = count_tf_idf.fit_transform(features_train['text'])"
   ]
  },
  {
   "cell_type": "code",
   "execution_count": 54,
   "metadata": {},
   "outputs": [],
   "source": [
    "features_valid = count_tf_idf.transform(features_valid['text'])"
   ]
  },
  {
   "cell_type": "code",
   "execution_count": 55,
   "metadata": {},
   "outputs": [],
   "source": [
    "features_test = count_tf_idf.transform(features_test['text'])"
   ]
  },
  {
   "cell_type": "code",
   "execution_count": 56,
   "metadata": {},
   "outputs": [
    {
     "name": "stdout",
     "output_type": "stream",
     "text": [
      "Размер матрицы train: (95575, 116359)\n",
      "Размер матрицы valid: (31859, 116359)\n",
      "Размер матрицы test: (31858, 116359)\n"
     ]
    }
   ],
   "source": [
    "print(\"Размер матрицы train:\", features_train.shape)\n",
    "print(\"Размер матрицы valid:\", features_valid.shape)\n",
    "print(\"Размер матрицы test:\", features_test.shape)"
   ]
  },
  {
   "cell_type": "markdown",
   "metadata": {},
   "source": [
    "**LogisticRegression**"
   ]
  },
  {
   "cell_type": "code",
   "execution_count": 59,
   "metadata": {},
   "outputs": [],
   "source": [
    "pipeline = Pipeline([\n",
    "    #('tfidf', TfidfVectorizer(stop_words=stopwords)),\n",
    "    ('model', LogisticRegression(class_weight='balanced', random_state=12345, solver='liblinear'))])\n",
    "\n",
    "params={'model__C':[.01,.05,.1,.5,1,5,10]}\n",
    "\n",
    "grid = GridSearchCV(pipeline, cv=5, param_grid=params ,scoring='f1')"
   ]
  },
  {
   "cell_type": "code",
   "execution_count": 60,
   "metadata": {},
   "outputs": [
    {
     "name": "stdout",
     "output_type": "stream",
     "text": [
      "CPU times: user 1min 51s, sys: 3min 26s, total: 5min 18s\n",
      "Wall time: 5min 18s\n"
     ]
    },
    {
     "data": {
      "text/plain": [
       "GridSearchCV(cv=5,\n",
       "             estimator=Pipeline(steps=[('model',\n",
       "                                        LogisticRegression(class_weight='balanced',\n",
       "                                                           random_state=12345,\n",
       "                                                           solver='liblinear'))]),\n",
       "             param_grid={'model__C': [0.01, 0.05, 0.1, 0.5, 1, 5, 10]},\n",
       "             scoring='f1')"
      ]
     },
     "execution_count": 60,
     "metadata": {},
     "output_type": "execute_result"
    }
   ],
   "source": [
    "%%time\n",
    "grid.fit(features_train, target_train)"
   ]
  },
  {
   "cell_type": "code",
   "execution_count": 61,
   "metadata": {},
   "outputs": [
    {
     "name": "stdout",
     "output_type": "stream",
     "text": [
      "Best Grid: {'model__C': 10}\n",
      "F1: 0.7636976962555222\n",
      "AUC-ROC: 0.964903158188323\n"
     ]
    },
    {
     "data": {
      "image/png": "[encoded data removed]",
      "text/plain": [
       "<Figure size 432x288 with 1 Axes>"
      ]
     },
     "metadata": {
      "needs_background": "light"
     },
     "output_type": "display_data"
    }
   ],
   "source": [
    "probabilities_valid = grid.predict_proba(features_valid)[:, 1]\n",
    "probabilities_one_valid = probabilities_valid\n",
    "\n",
    "fpr, tpr, thresholds = roc_curve(target_valid, probabilities_one_valid) \n",
    "\n",
    "plt.figure()\n",
    "plt.plot(fpr, tpr)\n",
    "plt.xlim([0.0, 1.0])\n",
    "plt.ylim([0.0, 1.0])\n",
    "plt.xlabel('False Positive Rate')\n",
    "plt.ylabel('True Positive Rate')\n",
    "plt.title('ROC-кривая')\n",
    "\n",
    "plt.plot([0, 1], [0, 1], linestyle='--')\n",
    "\n",
    "auc_roc = roc_auc_score(target_valid, probabilities_valid)\n",
    "\n",
    "print('Best Grid:', grid.best_params_)\n",
    "print('F1:', grid.best_score_)\n",
    "print(\"AUC-ROC:\", auc_roc)"
   ]
  },
  {
   "cell_type": "markdown",
   "metadata": {},
   "source": [
    "**DecisionTreeClassifier**"
   ]
  },
  {
   "cell_type": "code",
   "execution_count": 62,
   "metadata": {},
   "outputs": [
    {
     "name": "stdout",
     "output_type": "stream",
     "text": [
      "F1: 0.6386850601702377\n",
      "CPU times: user 1min 1s, sys: 145 ms, total: 1min 1s\n",
      "Wall time: 1min 1s\n"
     ]
    }
   ],
   "source": [
    "%%time\n",
    "\n",
    "model = DecisionTreeClassifier(class_weight='balanced',\n",
    "                               max_depth=20, random_state=12345,\n",
    "                               min_samples_leaf=14)\n",
    "\n",
    "model.fit(features_train, target_train)\n",
    "\n",
    "scores = cross_val_score(model, \n",
    "                         features_train, \n",
    "                         target_train,\n",
    "                         scoring='f1',\n",
    "                         cv=5)\n",
    "\n",
    "final_scor = scores.max()\n",
    "\n",
    "print('F1:', final_scor)"
   ]
  },
  {
   "cell_type": "markdown",
   "metadata": {},
   "source": [
    "**RandomForestClassifier**"
   ]
  },
  {
   "cell_type": "code",
   "execution_count": 63,
   "metadata": {},
   "outputs": [
    {
     "name": "stdout",
     "output_type": "stream",
     "text": [
      "F1: 0.3997087732071351\n",
      "CPU times: user 1min 58s, sys: 239 ms, total: 1min 58s\n",
      "Wall time: 1min 58s\n"
     ]
    }
   ],
   "source": [
    "%%time\n",
    "\n",
    "model = RandomForestClassifier(class_weight='balanced', max_depth=20, random_state=12345, \n",
    "                              min_samples_leaf=10)\n",
    "\n",
    "scores = cross_val_score(model, \n",
    "                         features_train, \n",
    "                         target_train,\n",
    "                         scoring='f1',\n",
    "                         cv=5)\n",
    "\n",
    "final_scor = scores.max()\n",
    "\n",
    "print('F1:', final_scor)"
   ]
  },
  {
   "cell_type": "markdown",
   "metadata": {},
   "source": [
    "**BERT:** https://colab.research.google.com/drive/13kHHhpYMy8oEi3mX-9b2cWMsVLoALQ7h?usp=drive_link"
   ]
  },
  {
   "cell_type": "markdown",
   "metadata": {},
   "source": [
    "**Тестирование модели**"
   ]
  },
  {
   "cell_type": "code",
   "execution_count": 64,
   "metadata": {},
   "outputs": [
    {
     "name": "stdout",
     "output_type": "stream",
     "text": [
      "F1: 0.7695645884565313\n",
      "CPU times: user 8.41 ms, sys: 3.43 ms, total: 11.8 ms\n",
      "Wall time: 14.4 ms\n"
     ]
    }
   ],
   "source": [
    "%%time\n",
    "\n",
    "predict = grid.predict(features_test)\n",
    "print(\"F1:\", f1_score(target_test, predict))"
   ]
  },
  {
   "cell_type": "markdown",
   "metadata": {},
   "source": [
    "## Выводы"
   ]
  },
  {
   "cell_type": "markdown",
   "metadata": {},
   "source": [
    "В рамках проета были прелставлены данные интернет-магазина «Викишоп». \n",
    "\n",
    "**Цель проекта:** обучить модель классифицировать комментарии на позитивные и негативные.\n",
    "\n",
    "**Требования:** метрика качества F1 должна быть не меньше 0.75"
   ]
  },
  {
   "cell_type": "markdown",
   "metadata": {},
   "source": [
    "**LogisticRegression:** F1 = 0.76\n",
    "\n",
    "**RandomForestClassifier:** F1 = 0.39\n",
    "\n",
    "**DecisionTreeClassifier:** F1 = 0.61\n",
    "\n",
    "**На Тесте:** F1 = 0.76"
   ]
  },
  {
   "cell_type": "markdown",
   "metadata": {},
   "source": [
    "Наилучшее значение метрики F1 показала модель LogisticRegression"
   ]
  }
 ],
 "metadata": {
  "ExecuteTimeLog": [
   {
    "duration": 417,
    "start_time": "2023-06-29T15:37:55.801Z"
   },
   {
    "duration": 2,
    "start_time": "2023-06-29T15:38:07.538Z"
   },
   {
    "duration": 2398,
    "start_time": "2023-06-29T15:38:34.317Z"
   },
   {
    "duration": 36,
    "start_time": "2023-06-29T15:38:46.189Z"
   },
   {
    "duration": 16,
    "start_time": "2023-06-29T15:38:56.679Z"
   },
   {
    "duration": 12,
    "start_time": "2023-06-29T15:39:03.491Z"
   },
   {
    "duration": 12,
    "start_time": "2023-06-29T15:39:34.389Z"
   },
   {
    "duration": 2296,
    "start_time": "2023-06-30T07:42:31.839Z"
   },
   {
    "duration": 112,
    "start_time": "2023-06-30T08:06:13.769Z"
   },
   {
    "duration": 2420,
    "start_time": "2023-06-30T08:06:19.697Z"
   },
   {
    "duration": 37,
    "start_time": "2023-06-30T08:06:22.118Z"
   },
   {
    "duration": 24,
    "start_time": "2023-06-30T08:06:22.157Z"
   },
   {
    "duration": 15,
    "start_time": "2023-06-30T08:06:22.183Z"
   },
   {
    "duration": 975,
    "start_time": "2023-06-30T08:07:44.928Z"
   },
   {
    "duration": 47,
    "start_time": "2023-06-30T08:07:45.905Z"
   },
   {
    "duration": 7,
    "start_time": "2023-06-30T08:07:46.293Z"
   },
   {
    "duration": 11,
    "start_time": "2023-06-30T08:07:46.728Z"
   },
   {
    "duration": 292,
    "start_time": "2023-06-30T08:08:11.220Z"
   },
   {
    "duration": 245,
    "start_time": "2023-06-30T08:08:18.556Z"
   },
   {
    "duration": 32,
    "start_time": "2023-06-30T08:08:32.925Z"
   },
   {
    "duration": 1068,
    "start_time": "2023-06-30T08:10:25.537Z"
   },
   {
    "duration": 336,
    "start_time": "2023-06-30T08:10:42.129Z"
   },
   {
    "duration": 245,
    "start_time": "2023-06-30T08:10:50.278Z"
   },
   {
    "duration": 216,
    "start_time": "2023-06-30T08:10:56.533Z"
   },
   {
    "duration": 4478,
    "start_time": "2023-06-30T08:12:44.916Z"
   },
   {
    "duration": 911,
    "start_time": "2023-06-30T08:12:49.396Z"
   },
   {
    "duration": 49,
    "start_time": "2023-06-30T08:12:50.309Z"
   },
   {
    "duration": 39,
    "start_time": "2023-06-30T08:12:50.360Z"
   },
   {
    "duration": 325,
    "start_time": "2023-06-30T08:12:50.403Z"
   },
   {
    "duration": 38,
    "start_time": "2023-06-30T08:12:50.730Z"
   },
   {
    "duration": 3357,
    "start_time": "2023-06-30T08:14:00.805Z"
   },
   {
    "duration": 872,
    "start_time": "2023-06-30T08:14:04.164Z"
   },
   {
    "duration": 40,
    "start_time": "2023-06-30T08:14:05.038Z"
   },
   {
    "duration": 16,
    "start_time": "2023-06-30T08:14:05.080Z"
   },
   {
    "duration": 271,
    "start_time": "2023-06-30T08:14:05.099Z"
   },
   {
    "duration": 37,
    "start_time": "2023-06-30T08:14:05.372Z"
   },
   {
    "duration": 50,
    "start_time": "2023-06-30T08:18:43.266Z"
   },
   {
    "duration": 2982,
    "start_time": "2023-06-30T08:18:51.653Z"
   },
   {
    "duration": 2394,
    "start_time": "2023-06-30T08:18:54.637Z"
   },
   {
    "duration": 38,
    "start_time": "2023-06-30T08:18:57.033Z"
   },
   {
    "duration": 11,
    "start_time": "2023-06-30T08:18:57.072Z"
   },
   {
    "duration": 267,
    "start_time": "2023-06-30T08:18:57.085Z"
   },
   {
    "duration": 30,
    "start_time": "2023-06-30T08:18:57.353Z"
   },
   {
    "duration": 1651,
    "start_time": "2023-07-02T19:03:09.350Z"
   },
   {
    "duration": 3559,
    "start_time": "2023-07-02T19:03:16.582Z"
   },
   {
    "duration": 38,
    "start_time": "2023-07-02T19:03:20.876Z"
   },
   {
    "duration": 11,
    "start_time": "2023-07-02T19:03:22.587Z"
   },
   {
    "duration": 283,
    "start_time": "2023-07-02T19:03:26.013Z"
   },
   {
    "duration": 33,
    "start_time": "2023-07-02T19:03:27.031Z"
   },
   {
    "duration": 1428,
    "start_time": "2023-07-04T13:02:10.324Z"
   },
   {
    "duration": 2387,
    "start_time": "2023-07-04T13:02:11.755Z"
   },
   {
    "duration": 36,
    "start_time": "2023-07-04T13:02:14.143Z"
   },
   {
    "duration": 9,
    "start_time": "2023-07-04T13:02:14.181Z"
   },
   {
    "duration": 243,
    "start_time": "2023-07-04T13:02:14.192Z"
   },
   {
    "duration": 30,
    "start_time": "2023-07-04T13:02:14.437Z"
   },
   {
    "duration": 1919,
    "start_time": "2023-07-04T13:02:45.718Z"
   },
   {
    "duration": 1563,
    "start_time": "2023-07-04T13:43:12.499Z"
   },
   {
    "duration": 1228,
    "start_time": "2023-07-04T13:43:14.064Z"
   },
   {
    "duration": 53,
    "start_time": "2023-07-04T13:43:15.295Z"
   },
   {
    "duration": 16,
    "start_time": "2023-07-04T13:43:15.350Z"
   },
   {
    "duration": 382,
    "start_time": "2023-07-04T13:43:15.369Z"
   },
   {
    "duration": 47,
    "start_time": "2023-07-04T13:43:15.754Z"
   },
   {
    "duration": 2395,
    "start_time": "2023-07-04T13:43:15.804Z"
   },
   {
    "duration": 4,
    "start_time": "2023-07-04T13:44:51.741Z"
   },
   {
    "duration": 193,
    "start_time": "2023-07-04T13:47:11.056Z"
   },
   {
    "duration": 921,
    "start_time": "2023-07-04T13:47:22.226Z"
   },
   {
    "duration": 1511,
    "start_time": "2023-07-04T13:47:45.946Z"
   },
   {
    "duration": 3596,
    "start_time": "2023-07-04T13:47:47.460Z"
   },
   {
    "duration": 48,
    "start_time": "2023-07-04T13:47:51.059Z"
   },
   {
    "duration": 38,
    "start_time": "2023-07-04T13:47:51.114Z"
   },
   {
    "duration": 327,
    "start_time": "2023-07-04T13:47:51.154Z"
   },
   {
    "duration": 52,
    "start_time": "2023-07-04T13:47:51.483Z"
   },
   {
    "duration": 2390,
    "start_time": "2023-07-04T13:47:51.538Z"
   },
   {
    "duration": 9,
    "start_time": "2023-07-04T13:47:53.931Z"
   },
   {
    "duration": 1669,
    "start_time": "2023-07-04T13:47:53.942Z"
   },
   {
    "duration": 4,
    "start_time": "2023-07-04T13:48:15.280Z"
   },
   {
    "duration": 6788,
    "start_time": "2023-07-04T13:48:32.917Z"
   },
   {
    "duration": 1608,
    "start_time": "2023-07-04T13:48:56.371Z"
   },
   {
    "duration": 984,
    "start_time": "2023-07-04T13:48:57.982Z"
   },
   {
    "duration": 46,
    "start_time": "2023-07-04T13:48:58.968Z"
   },
   {
    "duration": 20,
    "start_time": "2023-07-04T13:48:59.019Z"
   },
   {
    "duration": 301,
    "start_time": "2023-07-04T13:48:59.042Z"
   },
   {
    "duration": 33,
    "start_time": "2023-07-04T13:48:59.345Z"
   },
   {
    "duration": 2245,
    "start_time": "2023-07-04T13:48:59.380Z"
   },
   {
    "duration": 48,
    "start_time": "2023-07-04T13:49:01.633Z"
   },
   {
    "duration": 4720,
    "start_time": "2023-07-04T13:49:01.683Z"
   },
   {
    "duration": 1417,
    "start_time": "2023-07-04T17:14:40.944Z"
   },
   {
    "duration": 2635,
    "start_time": "2023-07-04T17:14:42.363Z"
   },
   {
    "duration": 35,
    "start_time": "2023-07-04T17:14:45.000Z"
   },
   {
    "duration": 21,
    "start_time": "2023-07-04T17:14:45.037Z"
   },
   {
    "duration": 238,
    "start_time": "2023-07-04T17:14:45.060Z"
   },
   {
    "duration": 28,
    "start_time": "2023-07-04T17:14:45.300Z"
   },
   {
    "duration": 2089,
    "start_time": "2023-07-04T17:14:45.329Z"
   },
   {
    "duration": 18,
    "start_time": "2023-07-04T17:14:47.420Z"
   },
   {
    "duration": 4218,
    "start_time": "2023-07-04T17:14:47.440Z"
   },
   {
    "duration": 9,
    "start_time": "2023-07-04T17:14:58.248Z"
   },
   {
    "duration": 3,
    "start_time": "2023-07-04T17:17:31.458Z"
   },
   {
    "duration": 4262,
    "start_time": "2023-07-04T17:17:32.531Z"
   },
   {
    "duration": 8,
    "start_time": "2023-07-04T17:17:36.795Z"
   },
   {
    "duration": 4,
    "start_time": "2023-07-04T17:18:20.105Z"
   },
   {
    "duration": 2019,
    "start_time": "2023-07-04T17:18:28.315Z"
   },
   {
    "duration": 1176,
    "start_time": "2023-07-04T17:18:30.336Z"
   },
   {
    "duration": 39,
    "start_time": "2023-07-04T17:18:31.514Z"
   },
   {
    "duration": 56,
    "start_time": "2023-07-04T17:18:31.556Z"
   },
   {
    "duration": 267,
    "start_time": "2023-07-04T17:18:31.613Z"
   },
   {
    "duration": 28,
    "start_time": "2023-07-04T17:18:31.882Z"
   },
   {
    "duration": 2205,
    "start_time": "2023-07-04T17:18:31.911Z"
   },
   {
    "duration": 47,
    "start_time": "2023-07-04T17:18:34.118Z"
   },
   {
    "duration": 17,
    "start_time": "2023-07-04T17:18:34.167Z"
   },
   {
    "duration": 4374,
    "start_time": "2023-07-04T17:18:34.187Z"
   },
   {
    "duration": 7,
    "start_time": "2023-07-04T17:18:38.563Z"
   },
   {
    "duration": 1574,
    "start_time": "2023-07-04T17:19:37.533Z"
   },
   {
    "duration": 920,
    "start_time": "2023-07-04T17:19:39.109Z"
   },
   {
    "duration": 31,
    "start_time": "2023-07-04T17:19:40.031Z"
   },
   {
    "duration": 21,
    "start_time": "2023-07-04T17:19:40.065Z"
   },
   {
    "duration": 253,
    "start_time": "2023-07-04T17:19:40.088Z"
   },
   {
    "duration": 35,
    "start_time": "2023-07-04T17:19:40.343Z"
   },
   {
    "duration": 2111,
    "start_time": "2023-07-04T17:19:40.380Z"
   },
   {
    "duration": 14,
    "start_time": "2023-07-04T17:19:42.493Z"
   },
   {
    "duration": 1227,
    "start_time": "2023-07-04T17:20:55.513Z"
   },
   {
    "duration": 946,
    "start_time": "2023-07-04T17:20:56.742Z"
   },
   {
    "duration": 32,
    "start_time": "2023-07-04T17:20:57.690Z"
   },
   {
    "duration": 14,
    "start_time": "2023-07-04T17:20:57.724Z"
   },
   {
    "duration": 249,
    "start_time": "2023-07-04T17:20:57.739Z"
   },
   {
    "duration": 28,
    "start_time": "2023-07-04T17:20:57.990Z"
   },
   {
    "duration": 2085,
    "start_time": "2023-07-04T17:20:58.020Z"
   },
   {
    "duration": 70,
    "start_time": "2023-07-04T17:21:00.107Z"
   },
   {
    "duration": 45,
    "start_time": "2023-07-04T17:21:00.179Z"
   },
   {
    "duration": 54,
    "start_time": "2023-07-04T17:21:00.226Z"
   },
   {
    "duration": 977,
    "start_time": "2023-07-04T17:21:00.281Z"
   },
   {
    "duration": 1106,
    "start_time": "2023-07-04T17:24:09.209Z"
   },
   {
    "duration": 954,
    "start_time": "2023-07-04T17:24:10.318Z"
   },
   {
    "duration": 35,
    "start_time": "2023-07-04T17:24:11.274Z"
   },
   {
    "duration": 17,
    "start_time": "2023-07-04T17:24:11.311Z"
   },
   {
    "duration": 263,
    "start_time": "2023-07-04T17:24:11.330Z"
   },
   {
    "duration": 28,
    "start_time": "2023-07-04T17:24:11.595Z"
   },
   {
    "duration": 2341,
    "start_time": "2023-07-04T17:24:11.625Z"
   },
   {
    "duration": 7,
    "start_time": "2023-07-04T17:24:13.968Z"
   },
   {
    "duration": 19,
    "start_time": "2023-07-04T17:24:13.977Z"
   },
   {
    "duration": 105,
    "start_time": "2023-07-04T17:25:10.033Z"
   },
   {
    "duration": 4214,
    "start_time": "2023-07-04T17:25:49.506Z"
   },
   {
    "duration": 3586,
    "start_time": "2023-07-04T17:25:55.831Z"
   },
   {
    "duration": 7,
    "start_time": "2023-07-04T17:25:59.419Z"
   },
   {
    "duration": 3537,
    "start_time": "2023-07-04T17:26:43.019Z"
   },
   {
    "duration": 8,
    "start_time": "2023-07-04T17:26:46.559Z"
   },
   {
    "duration": 3552,
    "start_time": "2023-07-04T17:28:07.572Z"
   },
   {
    "duration": 7,
    "start_time": "2023-07-04T17:28:11.126Z"
   },
   {
    "duration": 1058,
    "start_time": "2023-07-04T17:28:28.731Z"
   },
   {
    "duration": 452,
    "start_time": "2023-07-04T17:28:37.645Z"
   },
   {
    "duration": 1354,
    "start_time": "2023-07-04T17:28:59.256Z"
   },
   {
    "duration": 3529,
    "start_time": "2023-07-04T17:29:06.161Z"
   },
   {
    "duration": 3,
    "start_time": "2023-07-04T17:29:29.764Z"
   },
   {
    "duration": 3533,
    "start_time": "2023-07-04T17:29:34.007Z"
   },
   {
    "duration": 1175,
    "start_time": "2023-07-04T17:30:07.046Z"
   },
   {
    "duration": 946,
    "start_time": "2023-07-04T17:30:08.224Z"
   },
   {
    "duration": 35,
    "start_time": "2023-07-04T17:30:09.172Z"
   },
   {
    "duration": 18,
    "start_time": "2023-07-04T17:30:09.210Z"
   },
   {
    "duration": 270,
    "start_time": "2023-07-04T17:30:09.230Z"
   },
   {
    "duration": 43,
    "start_time": "2023-07-04T17:30:09.502Z"
   },
   {
    "duration": 2155,
    "start_time": "2023-07-04T17:30:09.547Z"
   },
   {
    "duration": 1433,
    "start_time": "2023-07-04T17:32:11.250Z"
   },
   {
    "duration": 989,
    "start_time": "2023-07-04T17:32:12.686Z"
   },
   {
    "duration": 35,
    "start_time": "2023-07-04T17:32:13.677Z"
   },
   {
    "duration": 11,
    "start_time": "2023-07-04T17:32:13.714Z"
   },
   {
    "duration": 263,
    "start_time": "2023-07-04T17:32:13.728Z"
   },
   {
    "duration": 30,
    "start_time": "2023-07-04T17:32:13.993Z"
   },
   {
    "duration": 2154,
    "start_time": "2023-07-04T17:32:14.024Z"
   },
   {
    "duration": 4460,
    "start_time": "2023-07-04T17:32:16.180Z"
   },
   {
    "duration": 12,
    "start_time": "2023-07-04T17:32:20.642Z"
   },
   {
    "duration": 1376,
    "start_time": "2023-07-04T17:37:32.265Z"
   },
   {
    "duration": 959,
    "start_time": "2023-07-04T17:37:33.643Z"
   },
   {
    "duration": 52,
    "start_time": "2023-07-04T17:37:34.604Z"
   },
   {
    "duration": 14,
    "start_time": "2023-07-04T17:37:34.658Z"
   },
   {
    "duration": 261,
    "start_time": "2023-07-04T17:37:34.675Z"
   },
   {
    "duration": 39,
    "start_time": "2023-07-04T17:37:34.939Z"
   },
   {
    "duration": 2182,
    "start_time": "2023-07-04T17:37:34.980Z"
   },
   {
    "duration": 4490,
    "start_time": "2023-07-04T17:37:37.164Z"
   },
   {
    "duration": 8,
    "start_time": "2023-07-04T17:37:41.656Z"
   },
   {
    "duration": 1265,
    "start_time": "2023-07-04T18:18:51.969Z"
   },
   {
    "duration": 987,
    "start_time": "2023-07-04T18:18:53.236Z"
   },
   {
    "duration": 44,
    "start_time": "2023-07-04T18:18:54.225Z"
   },
   {
    "duration": 13,
    "start_time": "2023-07-04T18:18:54.271Z"
   },
   {
    "duration": 273,
    "start_time": "2023-07-04T18:18:54.286Z"
   },
   {
    "duration": 30,
    "start_time": "2023-07-04T18:18:54.561Z"
   },
   {
    "duration": 2174,
    "start_time": "2023-07-04T18:18:54.593Z"
   },
   {
    "duration": 4331,
    "start_time": "2023-07-04T18:18:56.769Z"
   },
   {
    "duration": 8,
    "start_time": "2023-07-04T18:19:01.102Z"
   },
   {
    "duration": 966,
    "start_time": "2023-07-04T18:19:01.112Z"
   },
   {
    "duration": 6,
    "start_time": "2023-07-04T18:20:10.248Z"
   },
   {
    "duration": 8,
    "start_time": "2023-07-04T18:20:29.844Z"
   },
   {
    "duration": 1352,
    "start_time": "2023-07-04T18:21:17.571Z"
   },
   {
    "duration": 982,
    "start_time": "2023-07-04T18:21:18.925Z"
   },
   {
    "duration": 34,
    "start_time": "2023-07-04T18:21:19.909Z"
   },
   {
    "duration": 11,
    "start_time": "2023-07-04T18:21:19.955Z"
   },
   {
    "duration": 267,
    "start_time": "2023-07-04T18:21:19.968Z"
   },
   {
    "duration": 33,
    "start_time": "2023-07-04T18:21:20.237Z"
   },
   {
    "duration": 3155,
    "start_time": "2023-07-04T18:21:20.272Z"
   },
   {
    "duration": 4458,
    "start_time": "2023-07-04T18:21:23.429Z"
   },
   {
    "duration": 8,
    "start_time": "2023-07-04T18:21:27.889Z"
   },
   {
    "duration": 10,
    "start_time": "2023-07-04T18:26:22.072Z"
   },
   {
    "duration": 8,
    "start_time": "2023-07-04T18:26:33.662Z"
   },
   {
    "duration": 113,
    "start_time": "2023-07-04T18:35:28.622Z"
   },
   {
    "duration": 545,
    "start_time": "2023-07-04T18:36:02.112Z"
   },
   {
    "duration": 244,
    "start_time": "2023-07-04T18:36:06.347Z"
   },
   {
    "duration": 4,
    "start_time": "2023-07-04T18:37:25.521Z"
   },
   {
    "duration": 3,
    "start_time": "2023-07-04T18:37:49.802Z"
   },
   {
    "duration": 7384,
    "start_time": "2023-07-04T18:43:13.470Z"
   },
   {
    "duration": 5,
    "start_time": "2023-07-04T18:44:59.312Z"
   },
   {
    "duration": 3,
    "start_time": "2023-07-04T18:45:21.601Z"
   },
   {
    "duration": 3,
    "start_time": "2023-07-04T18:53:56.468Z"
   },
   {
    "duration": 46,
    "start_time": "2023-07-04T18:54:01.303Z"
   },
   {
    "duration": 28,
    "start_time": "2023-07-04T18:55:34.004Z"
   },
   {
    "duration": 5,
    "start_time": "2023-07-04T19:00:34.352Z"
   },
   {
    "duration": 12,
    "start_time": "2023-07-04T19:00:47.236Z"
   },
   {
    "duration": 3,
    "start_time": "2023-07-04T19:00:47.839Z"
   },
   {
    "duration": 15,
    "start_time": "2023-07-04T19:03:37.963Z"
   },
   {
    "duration": 3545,
    "start_time": "2023-07-04T19:05:19.208Z"
   },
   {
    "duration": 2340,
    "start_time": "2023-07-04T19:05:22.755Z"
   },
   {
    "duration": 34,
    "start_time": "2023-07-04T19:05:25.097Z"
   },
   {
    "duration": 34,
    "start_time": "2023-07-04T19:05:25.133Z"
   },
   {
    "duration": 280,
    "start_time": "2023-07-04T19:05:25.169Z"
   },
   {
    "duration": 29,
    "start_time": "2023-07-04T19:05:25.450Z"
   },
   {
    "duration": 3408,
    "start_time": "2023-07-04T19:05:25.481Z"
   },
   {
    "duration": 4441,
    "start_time": "2023-07-04T19:05:28.892Z"
   },
   {
    "duration": 18,
    "start_time": "2023-07-04T19:05:33.335Z"
   },
   {
    "duration": 68,
    "start_time": "2023-07-04T19:05:33.355Z"
   },
   {
    "duration": 6,
    "start_time": "2023-07-04T19:05:33.425Z"
   },
   {
    "duration": 201,
    "start_time": "2023-07-04T19:05:33.433Z"
   },
   {
    "duration": 4,
    "start_time": "2023-07-04T19:05:33.636Z"
   },
   {
    "duration": 3726,
    "start_time": "2023-07-04T19:06:46.243Z"
   },
   {
    "duration": 1506,
    "start_time": "2023-07-04T19:07:44.409Z"
   },
   {
    "duration": 874,
    "start_time": "2023-07-04T19:07:45.917Z"
   },
   {
    "duration": 34,
    "start_time": "2023-07-04T19:07:46.793Z"
   },
   {
    "duration": 27,
    "start_time": "2023-07-04T19:07:46.828Z"
   },
   {
    "duration": 249,
    "start_time": "2023-07-04T19:07:46.857Z"
   },
   {
    "duration": 29,
    "start_time": "2023-07-04T19:07:47.108Z"
   },
   {
    "duration": 3163,
    "start_time": "2023-07-04T19:07:47.138Z"
   },
   {
    "duration": 4438,
    "start_time": "2023-07-04T19:07:50.303Z"
   },
   {
    "duration": 11,
    "start_time": "2023-07-04T19:07:54.743Z"
   },
   {
    "duration": 68,
    "start_time": "2023-07-04T19:07:54.755Z"
   },
   {
    "duration": 5,
    "start_time": "2023-07-04T19:07:54.825Z"
   },
   {
    "duration": 172,
    "start_time": "2023-07-04T19:07:54.831Z"
   },
   {
    "duration": 3,
    "start_time": "2023-07-04T19:07:55.005Z"
   },
   {
    "duration": 3854,
    "start_time": "2023-07-04T19:07:55.010Z"
   },
   {
    "duration": 1629,
    "start_time": "2023-07-04T19:07:58.866Z"
   },
   {
    "duration": 1716,
    "start_time": "2023-07-04T19:08:00.497Z"
   },
   {
    "duration": 4,
    "start_time": "2023-07-04T19:09:02.560Z"
   },
   {
    "duration": 1594,
    "start_time": "2023-07-04T19:12:28.301Z"
   },
   {
    "duration": 871,
    "start_time": "2023-07-04T19:12:29.898Z"
   },
   {
    "duration": 36,
    "start_time": "2023-07-04T19:12:30.771Z"
   },
   {
    "duration": 43,
    "start_time": "2023-07-04T19:12:30.809Z"
   },
   {
    "duration": 283,
    "start_time": "2023-07-04T19:12:30.855Z"
   },
   {
    "duration": 34,
    "start_time": "2023-07-04T19:12:31.140Z"
   },
   {
    "duration": 3125,
    "start_time": "2023-07-04T19:12:31.176Z"
   },
   {
    "duration": 4388,
    "start_time": "2023-07-04T19:12:34.304Z"
   },
   {
    "duration": 8,
    "start_time": "2023-07-04T19:12:38.693Z"
   },
   {
    "duration": 70,
    "start_time": "2023-07-04T19:12:38.703Z"
   },
   {
    "duration": 6,
    "start_time": "2023-07-04T19:12:38.775Z"
   },
   {
    "duration": 259,
    "start_time": "2023-07-04T19:12:38.783Z"
   },
   {
    "duration": 3,
    "start_time": "2023-07-04T19:12:39.044Z"
   },
   {
    "duration": 3824,
    "start_time": "2023-07-04T19:12:39.049Z"
   },
   {
    "duration": 1815,
    "start_time": "2023-07-04T19:12:42.875Z"
   },
   {
    "duration": 1618,
    "start_time": "2023-07-04T19:12:44.692Z"
   },
   {
    "duration": 4,
    "start_time": "2023-07-04T19:12:46.312Z"
   },
   {
    "duration": 1842,
    "start_time": "2023-07-05T06:12:21.736Z"
   },
   {
    "duration": 3405,
    "start_time": "2023-07-05T06:12:23.580Z"
   },
   {
    "duration": 32,
    "start_time": "2023-07-05T06:12:26.986Z"
   },
   {
    "duration": 34,
    "start_time": "2023-07-05T06:12:27.019Z"
   },
   {
    "duration": 234,
    "start_time": "2023-07-05T06:12:27.056Z"
   },
   {
    "duration": 31,
    "start_time": "2023-07-05T06:12:27.292Z"
   },
   {
    "duration": 2737,
    "start_time": "2023-07-05T06:12:27.324Z"
   },
   {
    "duration": 4004,
    "start_time": "2023-07-05T06:12:30.063Z"
   },
   {
    "duration": 8,
    "start_time": "2023-07-05T06:12:34.069Z"
   },
   {
    "duration": 58,
    "start_time": "2023-07-05T06:12:34.078Z"
   },
   {
    "duration": 6,
    "start_time": "2023-07-05T06:12:34.138Z"
   },
   {
    "duration": 228,
    "start_time": "2023-07-05T06:12:34.146Z"
   },
   {
    "duration": 2,
    "start_time": "2023-07-05T06:12:34.376Z"
   },
   {
    "duration": 3555,
    "start_time": "2023-07-05T06:12:34.381Z"
   },
   {
    "duration": 1677,
    "start_time": "2023-07-05T06:12:37.938Z"
   },
   {
    "duration": 1651,
    "start_time": "2023-07-05T06:12:39.620Z"
   },
   {
    "duration": 3,
    "start_time": "2023-07-05T06:12:41.273Z"
   },
   {
    "duration": 8,
    "start_time": "2023-07-05T06:18:26.896Z"
   },
   {
    "duration": 1670,
    "start_time": "2023-07-05T06:27:26.247Z"
   },
   {
    "duration": 3185,
    "start_time": "2023-07-05T06:27:27.919Z"
   },
   {
    "duration": 36,
    "start_time": "2023-07-05T06:27:31.107Z"
   },
   {
    "duration": 31,
    "start_time": "2023-07-05T06:27:31.144Z"
   },
   {
    "duration": 228,
    "start_time": "2023-07-05T06:27:31.178Z"
   },
   {
    "duration": 30,
    "start_time": "2023-07-05T06:27:31.407Z"
   },
   {
    "duration": 166,
    "start_time": "2023-07-05T06:27:31.439Z"
   },
   {
    "duration": 3940,
    "start_time": "2023-07-05T06:27:31.607Z"
   },
   {
    "duration": 7,
    "start_time": "2023-07-05T06:27:35.549Z"
   },
   {
    "duration": 204,
    "start_time": "2023-07-05T06:27:35.557Z"
   },
   {
    "duration": 44,
    "start_time": "2023-07-05T06:27:35.763Z"
   },
   {
    "duration": 388,
    "start_time": "2023-07-05T06:27:35.808Z"
   },
   {
    "duration": 2,
    "start_time": "2023-07-05T06:27:36.198Z"
   },
   {
    "duration": 3424,
    "start_time": "2023-07-05T06:27:36.202Z"
   },
   {
    "duration": 1634,
    "start_time": "2023-07-05T06:27:39.628Z"
   },
   {
    "duration": 1586,
    "start_time": "2023-07-05T06:27:41.264Z"
   },
   {
    "duration": 5,
    "start_time": "2023-07-05T06:27:42.852Z"
   },
   {
    "duration": 137,
    "start_time": "2023-07-05T06:27:42.859Z"
   },
   {
    "duration": 85,
    "start_time": "2023-07-05T06:27:53.267Z"
   },
   {
    "duration": 110,
    "start_time": "2023-07-05T06:28:00.055Z"
   },
   {
    "duration": 6,
    "start_time": "2023-07-05T06:28:23.267Z"
   },
   {
    "duration": 3,
    "start_time": "2023-07-05T06:34:08.794Z"
   },
   {
    "duration": 3110,
    "start_time": "2023-07-05T06:34:10.524Z"
   },
   {
    "duration": 7,
    "start_time": "2023-07-05T06:34:13.638Z"
   },
   {
    "duration": 3,
    "start_time": "2023-07-05T06:36:22.991Z"
   },
   {
    "duration": 4,
    "start_time": "2023-07-05T06:36:28.596Z"
   },
   {
    "duration": 3274,
    "start_time": "2023-07-05T06:36:29.493Z"
   },
   {
    "duration": 6,
    "start_time": "2023-07-05T06:36:32.769Z"
   },
   {
    "duration": 45,
    "start_time": "2023-07-05T06:36:41.721Z"
   },
   {
    "duration": 5,
    "start_time": "2023-07-05T06:36:42.693Z"
   },
   {
    "duration": 3,
    "start_time": "2023-07-05T06:36:46.814Z"
   },
   {
    "duration": 11,
    "start_time": "2023-07-05T06:36:47.296Z"
   },
   {
    "duration": 3481,
    "start_time": "2023-07-05T06:36:47.560Z"
   },
   {
    "duration": 1613,
    "start_time": "2023-07-05T06:36:51.043Z"
   },
   {
    "duration": 1580,
    "start_time": "2023-07-05T06:36:52.659Z"
   },
   {
    "duration": 6,
    "start_time": "2023-07-05T06:36:54.241Z"
   },
   {
    "duration": 4,
    "start_time": "2023-07-05T06:39:27.092Z"
   },
   {
    "duration": 147,
    "start_time": "2023-07-05T06:39:50.992Z"
   },
   {
    "duration": 1593,
    "start_time": "2023-07-05T06:40:10.365Z"
   },
   {
    "duration": 737,
    "start_time": "2023-07-05T06:40:11.960Z"
   },
   {
    "duration": 33,
    "start_time": "2023-07-05T06:40:12.699Z"
   },
   {
    "duration": 12,
    "start_time": "2023-07-05T06:40:12.734Z"
   },
   {
    "duration": 239,
    "start_time": "2023-07-05T06:40:12.748Z"
   },
   {
    "duration": 30,
    "start_time": "2023-07-05T06:40:12.989Z"
   },
   {
    "duration": 8,
    "start_time": "2023-07-05T06:40:13.020Z"
   },
   {
    "duration": 140,
    "start_time": "2023-07-05T06:40:13.030Z"
   },
   {
    "duration": 4,
    "start_time": "2023-07-05T06:40:13.172Z"
   },
   {
    "duration": 3871,
    "start_time": "2023-07-05T06:40:13.178Z"
   },
   {
    "duration": 8,
    "start_time": "2023-07-05T06:40:17.051Z"
   },
   {
    "duration": 65,
    "start_time": "2023-07-05T06:40:17.060Z"
   },
   {
    "duration": 6,
    "start_time": "2023-07-05T06:40:17.127Z"
   },
   {
    "duration": 300,
    "start_time": "2023-07-05T06:40:17.136Z"
   },
   {
    "duration": 2,
    "start_time": "2023-07-05T06:40:17.438Z"
   },
   {
    "duration": 3707,
    "start_time": "2023-07-05T06:40:17.442Z"
   },
   {
    "duration": 1727,
    "start_time": "2023-07-05T06:40:21.151Z"
   },
   {
    "duration": 1745,
    "start_time": "2023-07-05T06:40:22.880Z"
   },
   {
    "duration": 4,
    "start_time": "2023-07-05T06:40:24.627Z"
   },
   {
    "duration": 9,
    "start_time": "2023-07-05T06:40:24.632Z"
   },
   {
    "duration": 156,
    "start_time": "2023-07-05T06:40:24.643Z"
   },
   {
    "duration": 41,
    "start_time": "2023-07-05T06:44:59.290Z"
   },
   {
    "duration": 83,
    "start_time": "2023-07-05T06:45:32.502Z"
   },
   {
    "duration": 93,
    "start_time": "2023-07-05T06:45:53.799Z"
   },
   {
    "duration": 1588,
    "start_time": "2023-07-05T06:46:33.566Z"
   },
   {
    "duration": 742,
    "start_time": "2023-07-05T06:46:35.156Z"
   },
   {
    "duration": 31,
    "start_time": "2023-07-05T06:46:35.900Z"
   },
   {
    "duration": 19,
    "start_time": "2023-07-05T06:46:35.933Z"
   },
   {
    "duration": 229,
    "start_time": "2023-07-05T06:46:35.955Z"
   },
   {
    "duration": 34,
    "start_time": "2023-07-05T06:46:36.186Z"
   },
   {
    "duration": 9,
    "start_time": "2023-07-05T06:46:36.221Z"
   },
   {
    "duration": 130,
    "start_time": "2023-07-05T06:46:36.232Z"
   },
   {
    "duration": 3,
    "start_time": "2023-07-05T06:46:36.364Z"
   },
   {
    "duration": 3853,
    "start_time": "2023-07-05T06:46:36.369Z"
   },
   {
    "duration": 8,
    "start_time": "2023-07-05T06:46:40.224Z"
   },
   {
    "duration": 161,
    "start_time": "2023-07-05T06:46:40.234Z"
   },
   {
    "duration": 212,
    "start_time": "2023-07-05T06:46:40.396Z"
   },
   {
    "duration": 2,
    "start_time": "2023-07-05T06:46:40.611Z"
   },
   {
    "duration": 4108,
    "start_time": "2023-07-05T06:46:40.615Z"
   },
   {
    "duration": 1320,
    "start_time": "2023-07-05T06:46:44.725Z"
   },
   {
    "duration": 1301,
    "start_time": "2023-07-05T06:46:46.046Z"
   },
   {
    "duration": 4,
    "start_time": "2023-07-05T06:46:47.349Z"
   },
   {
    "duration": 89,
    "start_time": "2023-07-05T07:07:15.603Z"
   },
   {
    "duration": 1690,
    "start_time": "2023-07-05T07:07:22.209Z"
   },
   {
    "duration": 793,
    "start_time": "2023-07-05T07:07:23.902Z"
   },
   {
    "duration": 34,
    "start_time": "2023-07-05T07:07:24.697Z"
   },
   {
    "duration": 27,
    "start_time": "2023-07-05T07:07:24.733Z"
   },
   {
    "duration": 247,
    "start_time": "2023-07-05T07:07:24.763Z"
   },
   {
    "duration": 28,
    "start_time": "2023-07-05T07:07:25.012Z"
   },
   {
    "duration": 27,
    "start_time": "2023-07-05T07:07:25.042Z"
   },
   {
    "duration": 148,
    "start_time": "2023-07-05T07:07:25.070Z"
   },
   {
    "duration": 4,
    "start_time": "2023-07-05T07:07:25.220Z"
   },
   {
    "duration": 4187,
    "start_time": "2023-07-05T07:07:25.226Z"
   },
   {
    "duration": 7,
    "start_time": "2023-07-05T07:07:29.415Z"
   },
   {
    "duration": 171,
    "start_time": "2023-07-05T07:07:29.423Z"
   },
   {
    "duration": 192,
    "start_time": "2023-07-05T07:07:29.596Z"
   },
   {
    "duration": 3,
    "start_time": "2023-07-05T07:07:29.791Z"
   },
   {
    "duration": 4121,
    "start_time": "2023-07-05T07:07:29.796Z"
   },
   {
    "duration": 1320,
    "start_time": "2023-07-05T07:07:33.919Z"
   },
   {
    "duration": 1335,
    "start_time": "2023-07-05T07:07:35.241Z"
   },
   {
    "duration": 4,
    "start_time": "2023-07-05T07:07:36.577Z"
   },
   {
    "duration": 1849,
    "start_time": "2023-07-05T07:08:01.906Z"
   },
   {
    "duration": 1571,
    "start_time": "2023-07-05T07:08:07.602Z"
   },
   {
    "duration": 790,
    "start_time": "2023-07-05T07:08:09.175Z"
   },
   {
    "duration": 28,
    "start_time": "2023-07-05T07:08:09.967Z"
   },
   {
    "duration": 43,
    "start_time": "2023-07-05T07:08:09.996Z"
   },
   {
    "duration": 230,
    "start_time": "2023-07-05T07:08:10.041Z"
   },
   {
    "duration": 26,
    "start_time": "2023-07-05T07:08:10.272Z"
   },
   {
    "duration": 17,
    "start_time": "2023-07-05T07:08:10.300Z"
   },
   {
    "duration": 138,
    "start_time": "2023-07-05T07:08:10.318Z"
   },
   {
    "duration": 1801,
    "start_time": "2023-07-05T07:08:10.458Z"
   },
   {
    "duration": 7,
    "start_time": "2023-07-05T07:08:12.260Z"
   },
   {
    "duration": 3877,
    "start_time": "2023-07-05T07:08:12.269Z"
   },
   {
    "duration": 7,
    "start_time": "2023-07-05T07:08:16.148Z"
   },
   {
    "duration": 159,
    "start_time": "2023-07-05T07:08:16.156Z"
   },
   {
    "duration": 227,
    "start_time": "2023-07-05T07:08:16.318Z"
   },
   {
    "duration": 3,
    "start_time": "2023-07-05T07:08:16.547Z"
   },
   {
    "duration": 4220,
    "start_time": "2023-07-05T07:08:16.552Z"
   },
   {
    "duration": 1330,
    "start_time": "2023-07-05T07:08:20.774Z"
   },
   {
    "duration": 1320,
    "start_time": "2023-07-05T07:08:22.106Z"
   },
   {
    "duration": 4,
    "start_time": "2023-07-05T07:08:23.427Z"
   },
   {
    "duration": 254,
    "start_time": "2023-07-05T07:14:30.400Z"
   },
   {
    "duration": 44,
    "start_time": "2023-07-05T07:14:37.350Z"
   },
   {
    "duration": 791,
    "start_time": "2023-07-05T07:14:53.412Z"
   },
   {
    "duration": 41,
    "start_time": "2023-07-05T07:14:54.205Z"
   },
   {
    "duration": 14,
    "start_time": "2023-07-05T07:14:54.248Z"
   },
   {
    "duration": 230,
    "start_time": "2023-07-05T07:14:54.264Z"
   },
   {
    "duration": 37,
    "start_time": "2023-07-05T07:14:54.496Z"
   },
   {
    "duration": 18,
    "start_time": "2023-07-05T07:14:54.534Z"
   },
   {
    "duration": 138,
    "start_time": "2023-07-05T07:14:54.554Z"
   },
   {
    "duration": 51,
    "start_time": "2023-07-05T07:14:58.543Z"
   },
   {
    "duration": 0,
    "start_time": "2023-07-05T07:14:58.596Z"
   },
   {
    "duration": 0,
    "start_time": "2023-07-05T07:14:58.597Z"
   },
   {
    "duration": 0,
    "start_time": "2023-07-05T07:14:58.599Z"
   },
   {
    "duration": 0,
    "start_time": "2023-07-05T07:14:58.600Z"
   },
   {
    "duration": 0,
    "start_time": "2023-07-05T07:14:58.602Z"
   },
   {
    "duration": 0,
    "start_time": "2023-07-05T07:14:58.602Z"
   },
   {
    "duration": 0,
    "start_time": "2023-07-05T07:14:58.603Z"
   },
   {
    "duration": 0,
    "start_time": "2023-07-05T07:14:58.604Z"
   },
   {
    "duration": 1735,
    "start_time": "2023-07-05T07:15:06.119Z"
   },
   {
    "duration": 3327,
    "start_time": "2023-07-05T07:15:07.855Z"
   },
   {
    "duration": 112,
    "start_time": "2023-07-05T07:15:11.184Z"
   },
   {
    "duration": 17,
    "start_time": "2023-07-05T07:15:11.297Z"
   },
   {
    "duration": 233,
    "start_time": "2023-07-05T07:15:11.320Z"
   },
   {
    "duration": 25,
    "start_time": "2023-07-05T07:15:11.555Z"
   },
   {
    "duration": 8,
    "start_time": "2023-07-05T07:15:11.581Z"
   },
   {
    "duration": 161,
    "start_time": "2023-07-05T07:15:11.591Z"
   },
   {
    "duration": 1898,
    "start_time": "2023-07-05T07:15:11.754Z"
   },
   {
    "duration": 4,
    "start_time": "2023-07-05T07:15:13.654Z"
   },
   {
    "duration": 4177,
    "start_time": "2023-07-05T07:15:13.660Z"
   },
   {
    "duration": 9,
    "start_time": "2023-07-05T07:15:17.839Z"
   },
   {
    "duration": 88,
    "start_time": "2023-07-05T07:15:17.850Z"
   },
   {
    "duration": 200,
    "start_time": "2023-07-05T07:15:17.942Z"
   },
   {
    "duration": 4,
    "start_time": "2023-07-05T07:15:18.144Z"
   },
   {
    "duration": 4701,
    "start_time": "2023-07-05T07:15:18.150Z"
   },
   {
    "duration": 1502,
    "start_time": "2023-07-05T07:15:22.853Z"
   },
   {
    "duration": 1446,
    "start_time": "2023-07-05T07:15:24.357Z"
   },
   {
    "duration": 3,
    "start_time": "2023-07-05T07:15:25.805Z"
   },
   {
    "duration": 149,
    "start_time": "2023-07-05T07:15:58.353Z"
   },
   {
    "duration": 1809,
    "start_time": "2023-07-05T07:16:05.510Z"
   },
   {
    "duration": 3268,
    "start_time": "2023-07-05T07:16:07.322Z"
   },
   {
    "duration": 110,
    "start_time": "2023-07-05T07:16:10.592Z"
   },
   {
    "duration": 24,
    "start_time": "2023-07-05T07:16:10.704Z"
   },
   {
    "duration": 298,
    "start_time": "2023-07-05T07:16:10.732Z"
   },
   {
    "duration": 28,
    "start_time": "2023-07-05T07:16:11.032Z"
   },
   {
    "duration": 16,
    "start_time": "2023-07-05T07:16:11.062Z"
   },
   {
    "duration": 145,
    "start_time": "2023-07-05T07:16:11.080Z"
   },
   {
    "duration": 1899,
    "start_time": "2023-07-05T07:16:11.231Z"
   },
   {
    "duration": 4,
    "start_time": "2023-07-05T07:16:13.132Z"
   },
   {
    "duration": 4308,
    "start_time": "2023-07-05T07:16:13.138Z"
   },
   {
    "duration": 8,
    "start_time": "2023-07-05T07:16:17.449Z"
   },
   {
    "duration": 96,
    "start_time": "2023-07-05T07:16:17.458Z"
   },
   {
    "duration": 198,
    "start_time": "2023-07-05T07:16:17.558Z"
   },
   {
    "duration": 2,
    "start_time": "2023-07-05T07:16:17.758Z"
   },
   {
    "duration": 4763,
    "start_time": "2023-07-05T07:16:17.762Z"
   },
   {
    "duration": 1431,
    "start_time": "2023-07-05T07:16:22.526Z"
   },
   {
    "duration": 1378,
    "start_time": "2023-07-05T07:16:23.959Z"
   },
   {
    "duration": 4,
    "start_time": "2023-07-05T07:16:25.339Z"
   },
   {
    "duration": 52,
    "start_time": "2023-07-05T07:18:01.360Z"
   },
   {
    "duration": 1863,
    "start_time": "2023-07-05T07:18:28.233Z"
   },
   {
    "duration": 3304,
    "start_time": "2023-07-05T07:18:30.098Z"
   },
   {
    "duration": 128,
    "start_time": "2023-07-05T07:18:33.404Z"
   },
   {
    "duration": 10,
    "start_time": "2023-07-05T07:18:33.534Z"
   },
   {
    "duration": 241,
    "start_time": "2023-07-05T07:18:33.546Z"
   },
   {
    "duration": 34,
    "start_time": "2023-07-05T07:18:33.788Z"
   },
   {
    "duration": 53,
    "start_time": "2023-07-05T07:18:33.824Z"
   },
   {
    "duration": 134,
    "start_time": "2023-07-05T07:18:33.879Z"
   },
   {
    "duration": 1900,
    "start_time": "2023-07-05T07:18:34.015Z"
   },
   {
    "duration": 36,
    "start_time": "2023-07-05T07:18:35.917Z"
   },
   {
    "duration": 4339,
    "start_time": "2023-07-05T07:18:35.956Z"
   },
   {
    "duration": 6,
    "start_time": "2023-07-05T07:18:40.298Z"
   },
   {
    "duration": 88,
    "start_time": "2023-07-05T07:18:40.305Z"
   },
   {
    "duration": 248,
    "start_time": "2023-07-05T07:18:40.396Z"
   },
   {
    "duration": 3,
    "start_time": "2023-07-05T07:18:40.646Z"
   },
   {
    "duration": 4476,
    "start_time": "2023-07-05T07:18:40.651Z"
   },
   {
    "duration": 1354,
    "start_time": "2023-07-05T07:18:45.129Z"
   },
   {
    "duration": 1405,
    "start_time": "2023-07-05T07:18:46.485Z"
   },
   {
    "duration": 5,
    "start_time": "2023-07-05T07:18:47.892Z"
   },
   {
    "duration": 28347,
    "start_time": "2023-07-05T07:18:47.899Z"
   },
   {
    "duration": 0,
    "start_time": "2023-07-05T07:19:16.247Z"
   },
   {
    "duration": 4,
    "start_time": "2023-07-05T07:19:42.681Z"
   },
   {
    "duration": 29501,
    "start_time": "2023-07-05T07:19:48.122Z"
   },
   {
    "duration": 27992,
    "start_time": "2023-07-05T07:20:30.022Z"
   },
   {
    "duration": 1787,
    "start_time": "2023-07-05T16:10:20.469Z"
   },
   {
    "duration": 2621,
    "start_time": "2023-07-05T16:10:22.258Z"
   },
   {
    "duration": 111,
    "start_time": "2023-07-05T16:10:24.891Z"
   },
   {
    "duration": 10,
    "start_time": "2023-07-05T16:10:25.005Z"
   },
   {
    "duration": 248,
    "start_time": "2023-07-05T16:10:25.017Z"
   },
   {
    "duration": 34,
    "start_time": "2023-07-05T16:10:25.267Z"
   },
   {
    "duration": 9,
    "start_time": "2023-07-05T16:10:25.302Z"
   },
   {
    "duration": 137,
    "start_time": "2023-07-05T16:10:25.312Z"
   },
   {
    "duration": 2139,
    "start_time": "2023-07-05T16:10:25.451Z"
   },
   {
    "duration": 5,
    "start_time": "2023-07-05T16:10:27.593Z"
   },
   {
    "duration": 4380,
    "start_time": "2023-07-05T16:10:27.599Z"
   },
   {
    "duration": 14,
    "start_time": "2023-07-05T16:10:31.981Z"
   },
   {
    "duration": 112,
    "start_time": "2023-07-05T16:10:31.997Z"
   },
   {
    "duration": 219,
    "start_time": "2023-07-05T16:10:32.111Z"
   },
   {
    "duration": 3,
    "start_time": "2023-07-05T16:10:32.332Z"
   },
   {
    "duration": 4374,
    "start_time": "2023-07-05T16:10:32.336Z"
   },
   {
    "duration": 1278,
    "start_time": "2023-07-05T16:10:36.712Z"
   },
   {
    "duration": 1256,
    "start_time": "2023-07-05T16:10:37.992Z"
   },
   {
    "duration": 4,
    "start_time": "2023-07-05T16:10:39.250Z"
   },
   {
    "duration": 139,
    "start_time": "2023-07-05T16:10:39.255Z"
   },
   {
    "duration": 3,
    "start_time": "2023-07-05T16:11:37.132Z"
   },
   {
    "duration": 53941,
    "start_time": "2023-07-05T16:14:45.040Z"
   },
   {
    "duration": 4,
    "start_time": "2023-07-05T16:16:43.667Z"
   },
   {
    "duration": 2166,
    "start_time": "2023-07-05T19:45:10.003Z"
   },
   {
    "duration": 3465,
    "start_time": "2023-07-05T19:45:12.172Z"
   },
   {
    "duration": 149,
    "start_time": "2023-07-05T19:45:15.641Z"
   },
   {
    "duration": 15,
    "start_time": "2023-07-05T19:45:15.794Z"
   },
   {
    "duration": 295,
    "start_time": "2023-07-05T19:45:15.811Z"
   },
   {
    "duration": 29,
    "start_time": "2023-07-05T19:45:16.108Z"
   },
   {
    "duration": 43,
    "start_time": "2023-07-05T19:45:16.158Z"
   },
   {
    "duration": 204,
    "start_time": "2023-07-05T19:45:16.204Z"
   },
   {
    "duration": 2032,
    "start_time": "2023-07-05T19:45:16.410Z"
   },
   {
    "duration": 49,
    "start_time": "2023-07-05T19:45:18.444Z"
   },
   {
    "duration": 5109,
    "start_time": "2023-07-05T19:45:18.497Z"
   },
   {
    "duration": 9,
    "start_time": "2023-07-05T19:45:23.608Z"
   },
   {
    "duration": 118,
    "start_time": "2023-07-05T19:45:23.622Z"
   },
   {
    "duration": 256,
    "start_time": "2023-07-05T19:45:23.742Z"
   },
   {
    "duration": 3,
    "start_time": "2023-07-05T19:45:24.000Z"
   },
   {
    "duration": 5617,
    "start_time": "2023-07-05T19:45:24.005Z"
   },
   {
    "duration": 1720,
    "start_time": "2023-07-05T19:45:29.624Z"
   },
   {
    "duration": 1657,
    "start_time": "2023-07-05T19:45:31.346Z"
   },
   {
    "duration": 5,
    "start_time": "2023-07-05T19:45:33.005Z"
   },
   {
    "duration": 165362,
    "start_time": "2023-07-05T19:45:33.011Z"
   },
   {
    "duration": 1688,
    "start_time": "2023-07-05T19:51:46.517Z"
   },
   {
    "duration": 893,
    "start_time": "2023-07-05T19:51:48.208Z"
   },
   {
    "duration": 136,
    "start_time": "2023-07-05T19:51:49.103Z"
   },
   {
    "duration": 26,
    "start_time": "2023-07-05T19:51:49.240Z"
   },
   {
    "duration": 254,
    "start_time": "2023-07-05T19:51:49.268Z"
   },
   {
    "duration": 44,
    "start_time": "2023-07-05T19:51:49.524Z"
   },
   {
    "duration": 13,
    "start_time": "2023-07-05T19:51:49.570Z"
   },
   {
    "duration": 147,
    "start_time": "2023-07-05T19:51:49.585Z"
   },
   {
    "duration": 1904,
    "start_time": "2023-07-05T19:51:49.733Z"
   },
   {
    "duration": 32,
    "start_time": "2023-07-05T19:51:51.639Z"
   },
   {
    "duration": 4334,
    "start_time": "2023-07-05T19:51:51.673Z"
   },
   {
    "duration": 8,
    "start_time": "2023-07-05T19:51:56.009Z"
   },
   {
    "duration": 98,
    "start_time": "2023-07-05T19:51:56.019Z"
   },
   {
    "duration": 129,
    "start_time": "2023-07-05T19:51:56.120Z"
   },
   {
    "duration": 6,
    "start_time": "2023-07-05T19:51:56.251Z"
   },
   {
    "duration": 4507,
    "start_time": "2023-07-05T19:51:56.259Z"
   },
   {
    "duration": 1398,
    "start_time": "2023-07-05T19:52:00.768Z"
   },
   {
    "duration": 1399,
    "start_time": "2023-07-05T19:52:02.168Z"
   },
   {
    "duration": 4,
    "start_time": "2023-07-05T19:52:03.569Z"
   },
   {
    "duration": 1800,
    "start_time": "2023-07-05T19:53:37.673Z"
   },
   {
    "duration": 854,
    "start_time": "2023-07-05T19:53:39.476Z"
   },
   {
    "duration": 146,
    "start_time": "2023-07-05T19:53:40.332Z"
   },
   {
    "duration": 14,
    "start_time": "2023-07-05T19:53:40.481Z"
   },
   {
    "duration": 268,
    "start_time": "2023-07-05T19:53:40.497Z"
   },
   {
    "duration": 31,
    "start_time": "2023-07-05T19:53:40.767Z"
   },
   {
    "duration": 11,
    "start_time": "2023-07-05T19:53:40.800Z"
   },
   {
    "duration": 156,
    "start_time": "2023-07-05T19:53:40.812Z"
   },
   {
    "duration": 1895,
    "start_time": "2023-07-05T19:53:40.970Z"
   },
   {
    "duration": 5,
    "start_time": "2023-07-05T19:53:42.868Z"
   },
   {
    "duration": 4350,
    "start_time": "2023-07-05T19:53:42.874Z"
   },
   {
    "duration": 8,
    "start_time": "2023-07-05T19:53:47.226Z"
   },
   {
    "duration": 98,
    "start_time": "2023-07-05T19:53:47.236Z"
   },
   {
    "duration": 248,
    "start_time": "2023-07-05T19:53:47.336Z"
   },
   {
    "duration": 2,
    "start_time": "2023-07-05T19:53:47.586Z"
   },
   {
    "duration": 4780,
    "start_time": "2023-07-05T19:53:47.590Z"
   },
   {
    "duration": 1398,
    "start_time": "2023-07-05T19:53:52.372Z"
   },
   {
    "duration": 1352,
    "start_time": "2023-07-05T19:53:53.771Z"
   },
   {
    "duration": 5,
    "start_time": "2023-07-05T19:53:55.124Z"
   },
   {
    "duration": 1780,
    "start_time": "2023-07-05T20:00:12.524Z"
   },
   {
    "duration": 889,
    "start_time": "2023-07-05T20:00:14.306Z"
   },
   {
    "duration": 151,
    "start_time": "2023-07-05T20:00:15.197Z"
   },
   {
    "duration": 28,
    "start_time": "2023-07-05T20:00:15.353Z"
   },
   {
    "duration": 304,
    "start_time": "2023-07-05T20:00:15.383Z"
   },
   {
    "duration": 32,
    "start_time": "2023-07-05T20:00:15.689Z"
   },
   {
    "duration": 13,
    "start_time": "2023-07-05T20:00:15.723Z"
   },
   {
    "duration": 138,
    "start_time": "2023-07-05T20:00:15.754Z"
   },
   {
    "duration": 1976,
    "start_time": "2023-07-05T20:00:15.894Z"
   },
   {
    "duration": 21,
    "start_time": "2023-07-05T20:00:17.873Z"
   },
   {
    "duration": 4922,
    "start_time": "2023-07-05T20:00:17.896Z"
   },
   {
    "duration": 10,
    "start_time": "2023-07-05T20:00:22.821Z"
   },
   {
    "duration": 110,
    "start_time": "2023-07-05T20:00:22.834Z"
   },
   {
    "duration": 245,
    "start_time": "2023-07-05T20:00:22.946Z"
   },
   {
    "duration": 4,
    "start_time": "2023-07-05T20:00:23.194Z"
   },
   {
    "duration": 1882,
    "start_time": "2023-07-05T20:00:26.212Z"
   },
   {
    "duration": 984,
    "start_time": "2023-07-05T20:00:28.097Z"
   },
   {
    "duration": 140,
    "start_time": "2023-07-05T20:00:29.086Z"
   },
   {
    "duration": 12,
    "start_time": "2023-07-05T20:00:29.228Z"
   },
   {
    "duration": 282,
    "start_time": "2023-07-05T20:00:29.257Z"
   },
   {
    "duration": 49,
    "start_time": "2023-07-05T20:00:29.541Z"
   },
   {
    "duration": 11,
    "start_time": "2023-07-05T20:00:29.591Z"
   },
   {
    "duration": 164,
    "start_time": "2023-07-05T20:00:29.604Z"
   },
   {
    "duration": 2044,
    "start_time": "2023-07-05T20:00:29.771Z"
   },
   {
    "duration": 12,
    "start_time": "2023-07-05T20:00:31.818Z"
   },
   {
    "duration": 5374,
    "start_time": "2023-07-05T20:00:31.832Z"
   },
   {
    "duration": 8,
    "start_time": "2023-07-05T20:00:37.208Z"
   },
   {
    "duration": 110,
    "start_time": "2023-07-05T20:00:37.218Z"
   },
   {
    "duration": 198,
    "start_time": "2023-07-05T20:00:37.330Z"
   },
   {
    "duration": 3,
    "start_time": "2023-07-05T20:00:37.530Z"
   },
   {
    "duration": 5488,
    "start_time": "2023-07-05T20:00:37.534Z"
   },
   {
    "duration": 1667,
    "start_time": "2023-07-05T20:00:43.024Z"
   },
   {
    "duration": 1724,
    "start_time": "2023-07-05T20:00:44.696Z"
   },
   {
    "duration": 4,
    "start_time": "2023-07-05T20:00:46.422Z"
   },
   {
    "duration": 46399,
    "start_time": "2023-07-05T20:00:46.428Z"
   },
   {
    "duration": 123,
    "start_time": "2023-07-05T20:01:32.829Z"
   },
   {
    "duration": 136,
    "start_time": "2023-07-05T20:01:32.954Z"
   },
   {
    "duration": 1630,
    "start_time": "2023-07-05T20:04:53.362Z"
   },
   {
    "duration": 845,
    "start_time": "2023-07-05T20:04:54.994Z"
   },
   {
    "duration": 131,
    "start_time": "2023-07-05T20:04:55.841Z"
   },
   {
    "duration": 12,
    "start_time": "2023-07-05T20:04:55.974Z"
   },
   {
    "duration": 253,
    "start_time": "2023-07-05T20:04:55.988Z"
   },
   {
    "duration": 41,
    "start_time": "2023-07-05T20:04:56.243Z"
   },
   {
    "duration": 20,
    "start_time": "2023-07-05T20:04:56.286Z"
   },
   {
    "duration": 159,
    "start_time": "2023-07-05T20:04:56.308Z"
   },
   {
    "duration": 1932,
    "start_time": "2023-07-05T20:04:56.471Z"
   },
   {
    "duration": 16,
    "start_time": "2023-07-05T20:04:58.405Z"
   },
   {
    "duration": 4442,
    "start_time": "2023-07-05T20:04:58.422Z"
   },
   {
    "duration": 7,
    "start_time": "2023-07-05T20:05:02.871Z"
   },
   {
    "duration": 92,
    "start_time": "2023-07-05T20:05:02.880Z"
   },
   {
    "duration": 213,
    "start_time": "2023-07-05T20:05:02.975Z"
   },
   {
    "duration": 3,
    "start_time": "2023-07-05T20:05:03.190Z"
   },
   {
    "duration": 4782,
    "start_time": "2023-07-05T20:05:03.195Z"
   },
   {
    "duration": 1615,
    "start_time": "2023-07-05T20:05:07.985Z"
   },
   {
    "duration": 1496,
    "start_time": "2023-07-05T20:05:09.602Z"
   },
   {
    "duration": 4,
    "start_time": "2023-07-05T20:05:11.100Z"
   },
   {
    "duration": 159072,
    "start_time": "2023-07-05T20:05:11.105Z"
   },
   {
    "duration": 1945,
    "start_time": "2023-07-06T05:42:04.790Z"
   },
   {
    "duration": 3417,
    "start_time": "2023-07-06T05:42:06.737Z"
   },
   {
    "duration": 135,
    "start_time": "2023-07-06T05:42:10.156Z"
   },
   {
    "duration": 15,
    "start_time": "2023-07-06T05:42:10.294Z"
   },
   {
    "duration": 267,
    "start_time": "2023-07-06T05:42:10.311Z"
   },
   {
    "duration": 31,
    "start_time": "2023-07-06T05:42:10.580Z"
   },
   {
    "duration": 13,
    "start_time": "2023-07-06T05:42:10.613Z"
   },
   {
    "duration": 147,
    "start_time": "2023-07-06T05:42:10.628Z"
   },
   {
    "duration": 2534,
    "start_time": "2023-07-06T05:42:10.777Z"
   },
   {
    "duration": 12,
    "start_time": "2023-07-06T05:42:13.315Z"
   },
   {
    "duration": 4052,
    "start_time": "2023-07-06T05:42:13.329Z"
   },
   {
    "duration": 8,
    "start_time": "2023-07-06T05:42:17.383Z"
   },
   {
    "duration": 103,
    "start_time": "2023-07-06T05:42:17.392Z"
   },
   {
    "duration": 226,
    "start_time": "2023-07-06T05:42:17.497Z"
   },
   {
    "duration": 3,
    "start_time": "2023-07-06T05:42:17.725Z"
   },
   {
    "duration": 4462,
    "start_time": "2023-07-06T05:42:17.730Z"
   },
   {
    "duration": 1496,
    "start_time": "2023-07-06T05:42:22.193Z"
   },
   {
    "duration": 1385,
    "start_time": "2023-07-06T05:42:23.691Z"
   },
   {
    "duration": 5,
    "start_time": "2023-07-06T05:42:25.078Z"
   },
   {
    "duration": 1806,
    "start_time": "2023-07-06T05:43:49.494Z"
   },
   {
    "duration": 837,
    "start_time": "2023-07-06T05:43:51.302Z"
   },
   {
    "duration": 137,
    "start_time": "2023-07-06T05:43:52.141Z"
   },
   {
    "duration": 14,
    "start_time": "2023-07-06T05:43:52.281Z"
   },
   {
    "duration": 292,
    "start_time": "2023-07-06T05:43:52.299Z"
   },
   {
    "duration": 32,
    "start_time": "2023-07-06T05:43:52.593Z"
   },
   {
    "duration": 8,
    "start_time": "2023-07-06T05:43:52.627Z"
   },
   {
    "duration": 144,
    "start_time": "2023-07-06T05:43:52.637Z"
   },
   {
    "duration": 2118,
    "start_time": "2023-07-06T05:43:52.783Z"
   },
   {
    "duration": 14,
    "start_time": "2023-07-06T05:43:54.904Z"
   },
   {
    "duration": 3970,
    "start_time": "2023-07-06T05:43:54.919Z"
   },
   {
    "duration": 8,
    "start_time": "2023-07-06T05:43:58.891Z"
   },
   {
    "duration": 105,
    "start_time": "2023-07-06T05:43:58.901Z"
   },
   {
    "duration": 167,
    "start_time": "2023-07-06T05:43:59.009Z"
   },
   {
    "duration": 3,
    "start_time": "2023-07-06T05:43:59.178Z"
   },
   {
    "duration": 4548,
    "start_time": "2023-07-06T05:43:59.183Z"
   },
   {
    "duration": 1418,
    "start_time": "2023-07-06T05:44:03.733Z"
   },
   {
    "duration": 1297,
    "start_time": "2023-07-06T05:44:05.154Z"
   },
   {
    "duration": 4,
    "start_time": "2023-07-06T05:44:06.453Z"
   },
   {
    "duration": 160128,
    "start_time": "2023-07-06T05:44:06.459Z"
   },
   {
    "duration": 5,
    "start_time": "2023-07-06T05:46:46.589Z"
   },
   {
    "duration": 158,
    "start_time": "2023-07-06T05:46:46.596Z"
   },
   {
    "duration": 0,
    "start_time": "2023-07-06T05:46:46.755Z"
   },
   {
    "duration": 0,
    "start_time": "2023-07-06T05:46:46.756Z"
   },
   {
    "duration": 4,
    "start_time": "2023-07-06T05:47:12.028Z"
   },
   {
    "duration": 12,
    "start_time": "2023-07-06T05:47:32.466Z"
   },
   {
    "duration": 10,
    "start_time": "2023-07-06T05:47:49.154Z"
   },
   {
    "duration": 117806,
    "start_time": "2023-07-06T05:48:09.490Z"
   },
   {
    "duration": 4,
    "start_time": "2023-07-06T05:50:28.585Z"
   },
   {
    "duration": 17,
    "start_time": "2023-07-06T05:51:24.263Z"
   },
   {
    "duration": 24,
    "start_time": "2023-07-06T05:52:01.261Z"
   },
   {
    "duration": 4,
    "start_time": "2023-07-06T05:52:47.728Z"
   },
   {
    "duration": 152,
    "start_time": "2023-07-06T05:52:53.305Z"
   },
   {
    "duration": 4,
    "start_time": "2023-07-06T05:53:48.050Z"
   },
   {
    "duration": 146,
    "start_time": "2023-07-06T05:53:51.622Z"
   },
   {
    "duration": 153,
    "start_time": "2023-07-06T05:56:45.602Z"
   },
   {
    "duration": 761820,
    "start_time": "2023-07-06T05:57:57.777Z"
   },
   {
    "duration": 13,
    "start_time": "2023-07-06T06:10:39.599Z"
   },
   {
    "duration": 123,
    "start_time": "2023-07-06T06:10:52.517Z"
   },
   {
    "duration": 13,
    "start_time": "2023-07-06T06:10:59.472Z"
   },
   {
    "duration": 13,
    "start_time": "2023-07-06T06:11:05.273Z"
   },
   {
    "duration": 12,
    "start_time": "2023-07-06T06:11:11.080Z"
   },
   {
    "duration": 14,
    "start_time": "2023-07-06T06:11:19.703Z"
   },
   {
    "duration": 12,
    "start_time": "2023-07-06T06:11:52.614Z"
   },
   {
    "duration": 12,
    "start_time": "2023-07-06T06:12:03.812Z"
   },
   {
    "duration": 1792,
    "start_time": "2023-07-06T06:12:17.359Z"
   },
   {
    "duration": 860,
    "start_time": "2023-07-06T06:12:19.153Z"
   },
   {
    "duration": 153,
    "start_time": "2023-07-06T06:12:20.014Z"
   },
   {
    "duration": 13,
    "start_time": "2023-07-06T06:12:20.169Z"
   },
   {
    "duration": 277,
    "start_time": "2023-07-06T06:12:20.183Z"
   },
   {
    "duration": 35,
    "start_time": "2023-07-06T06:12:20.462Z"
   },
   {
    "duration": 38,
    "start_time": "2023-07-06T06:12:20.498Z"
   },
   {
    "duration": 166,
    "start_time": "2023-07-06T06:12:20.538Z"
   },
   {
    "duration": 2131,
    "start_time": "2023-07-06T06:12:20.706Z"
   },
   {
    "duration": 27,
    "start_time": "2023-07-06T06:12:22.840Z"
   },
   {
    "duration": 4095,
    "start_time": "2023-07-06T06:12:22.869Z"
   },
   {
    "duration": 8,
    "start_time": "2023-07-06T06:12:26.966Z"
   },
   {
    "duration": 99,
    "start_time": "2023-07-06T06:12:26.976Z"
   },
   {
    "duration": 140,
    "start_time": "2023-07-06T06:12:27.076Z"
   },
   {
    "duration": 3,
    "start_time": "2023-07-06T06:12:27.218Z"
   },
   {
    "duration": 4456,
    "start_time": "2023-07-06T06:12:27.222Z"
   },
   {
    "duration": 1474,
    "start_time": "2023-07-06T06:12:31.680Z"
   },
   {
    "duration": 1411,
    "start_time": "2023-07-06T06:12:33.156Z"
   },
   {
    "duration": 4,
    "start_time": "2023-07-06T06:12:34.569Z"
   },
   {
    "duration": 1771,
    "start_time": "2023-07-06T06:13:25.739Z"
   },
   {
    "duration": 856,
    "start_time": "2023-07-06T06:13:27.511Z"
   },
   {
    "duration": 136,
    "start_time": "2023-07-06T06:13:28.369Z"
   },
   {
    "duration": 11,
    "start_time": "2023-07-06T06:13:28.508Z"
   },
   {
    "duration": 265,
    "start_time": "2023-07-06T06:13:28.520Z"
   },
   {
    "duration": 32,
    "start_time": "2023-07-06T06:13:28.787Z"
   },
   {
    "duration": 11,
    "start_time": "2023-07-06T06:13:28.821Z"
   },
   {
    "duration": 194,
    "start_time": "2023-07-06T06:13:28.834Z"
   },
   {
    "duration": 2077,
    "start_time": "2023-07-06T06:13:29.029Z"
   },
   {
    "duration": 260,
    "start_time": "2023-07-06T06:13:31.109Z"
   },
   {
    "duration": 4178,
    "start_time": "2023-07-06T06:13:31.371Z"
   },
   {
    "duration": 7,
    "start_time": "2023-07-06T06:13:35.551Z"
   },
   {
    "duration": 83,
    "start_time": "2023-07-06T06:13:35.567Z"
   },
   {
    "duration": 161,
    "start_time": "2023-07-06T06:13:35.652Z"
   },
   {
    "duration": 4,
    "start_time": "2023-07-06T06:13:35.815Z"
   },
   {
    "duration": 4256,
    "start_time": "2023-07-06T06:13:35.820Z"
   },
   {
    "duration": 1275,
    "start_time": "2023-07-06T06:13:40.078Z"
   },
   {
    "duration": 1352,
    "start_time": "2023-07-06T06:13:41.355Z"
   },
   {
    "duration": 4,
    "start_time": "2023-07-06T06:13:42.709Z"
   },
   {
    "duration": 161,
    "start_time": "2023-07-06T06:13:42.715Z"
   },
   {
    "duration": 0,
    "start_time": "2023-07-06T06:13:42.879Z"
   },
   {
    "duration": 0,
    "start_time": "2023-07-06T06:13:42.881Z"
   },
   {
    "duration": 1,
    "start_time": "2023-07-06T06:13:42.881Z"
   },
   {
    "duration": 2042,
    "start_time": "2023-07-06T06:13:48.313Z"
   },
   {
    "duration": 2102,
    "start_time": "2023-07-06T06:13:59.192Z"
   },
   {
    "duration": 4692,
    "start_time": "2023-07-06T06:14:06.601Z"
   },
   {
    "duration": 15,
    "start_time": "2023-07-06T06:14:48.104Z"
   },
   {
    "duration": 4687,
    "start_time": "2023-07-06T06:14:54.427Z"
   },
   {
    "duration": 13,
    "start_time": "2023-07-06T06:15:19.602Z"
   },
   {
    "duration": 5356,
    "start_time": "2023-07-06T06:15:26.878Z"
   },
   {
    "duration": 15,
    "start_time": "2023-07-06T06:16:05.042Z"
   },
   {
    "duration": 18,
    "start_time": "2023-07-06T06:16:14.774Z"
   },
   {
    "duration": 17,
    "start_time": "2023-07-06T06:16:30.887Z"
   },
   {
    "duration": 4855,
    "start_time": "2023-07-06T06:16:37.323Z"
   },
   {
    "duration": 4786,
    "start_time": "2023-07-06T06:16:52.107Z"
   },
   {
    "duration": 12784,
    "start_time": "2023-07-06T06:17:04.909Z"
   },
   {
    "duration": 11277,
    "start_time": "2023-07-06T06:17:26.858Z"
   },
   {
    "duration": 10466,
    "start_time": "2023-07-06T06:17:51.798Z"
   },
   {
    "duration": 10894,
    "start_time": "2023-07-06T06:18:09.568Z"
   },
   {
    "duration": 129,
    "start_time": "2023-07-06T06:18:49.578Z"
   },
   {
    "duration": 149,
    "start_time": "2023-07-06T06:18:55.321Z"
   },
   {
    "duration": 11379,
    "start_time": "2023-07-06T06:19:01.902Z"
   },
   {
    "duration": 5,
    "start_time": "2023-07-06T06:19:21.070Z"
   },
   {
    "duration": 34447,
    "start_time": "2023-07-06T06:19:25.304Z"
   },
   {
    "duration": 0,
    "start_time": "2023-07-06T06:19:59.753Z"
   },
   {
    "duration": 0,
    "start_time": "2023-07-06T06:19:59.755Z"
   },
   {
    "duration": 0,
    "start_time": "2023-07-06T06:19:59.756Z"
   },
   {
    "duration": 11043,
    "start_time": "2023-07-06T06:20:03.185Z"
   },
   {
    "duration": 11392,
    "start_time": "2023-07-06T06:20:20.609Z"
   },
   {
    "duration": 167671,
    "start_time": "2023-07-06T06:20:48.876Z"
   },
   {
    "duration": 18,
    "start_time": "2023-07-06T06:23:36.550Z"
   },
   {
    "duration": 0,
    "start_time": "2023-07-06T06:23:36.572Z"
   },
   {
    "duration": 0,
    "start_time": "2023-07-06T06:25:04.926Z"
   },
   {
    "duration": 79395,
    "start_time": "2023-07-06T06:25:07.651Z"
   },
   {
    "duration": 4,
    "start_time": "2023-07-06T06:29:04.758Z"
   },
   {
    "duration": 131,
    "start_time": "2023-07-06T06:30:32.069Z"
   },
   {
    "duration": 146,
    "start_time": "2023-07-06T06:30:50.552Z"
   },
   {
    "duration": 1939,
    "start_time": "2023-07-06T06:33:47.015Z"
   },
   {
    "duration": 938,
    "start_time": "2023-07-06T06:33:48.956Z"
   },
   {
    "duration": 159,
    "start_time": "2023-07-06T06:33:49.896Z"
   },
   {
    "duration": 14,
    "start_time": "2023-07-06T06:33:50.068Z"
   },
   {
    "duration": 337,
    "start_time": "2023-07-06T06:33:50.084Z"
   },
   {
    "duration": 46,
    "start_time": "2023-07-06T06:33:50.422Z"
   },
   {
    "duration": 20,
    "start_time": "2023-07-06T06:33:50.470Z"
   },
   {
    "duration": 186,
    "start_time": "2023-07-06T06:33:50.491Z"
   },
   {
    "duration": 2207,
    "start_time": "2023-07-06T06:33:50.679Z"
   },
   {
    "duration": 24,
    "start_time": "2023-07-06T06:33:52.890Z"
   },
   {
    "duration": 4431,
    "start_time": "2023-07-06T06:33:52.917Z"
   },
   {
    "duration": 8,
    "start_time": "2023-07-06T06:33:57.351Z"
   },
   {
    "duration": 104,
    "start_time": "2023-07-06T06:33:57.366Z"
   },
   {
    "duration": 230,
    "start_time": "2023-07-06T06:33:57.472Z"
   },
   {
    "duration": 4,
    "start_time": "2023-07-06T06:33:57.704Z"
   },
   {
    "duration": 5056,
    "start_time": "2023-07-06T06:33:57.711Z"
   },
   {
    "duration": 1566,
    "start_time": "2023-07-06T06:34:02.770Z"
   },
   {
    "duration": 1444,
    "start_time": "2023-07-06T06:34:04.338Z"
   },
   {
    "duration": 4,
    "start_time": "2023-07-06T06:34:05.785Z"
   },
   {
    "duration": 108600,
    "start_time": "2023-07-06T06:34:05.791Z"
   },
   {
    "duration": 175,
    "start_time": "2023-07-06T06:35:54.394Z"
   },
   {
    "duration": 79905,
    "start_time": "2023-07-06T06:35:54.572Z"
   },
   {
    "duration": 246,
    "start_time": "2023-07-06T06:37:14.479Z"
   },
   {
    "duration": 22878,
    "start_time": "2023-07-06T06:37:14.727Z"
   },
   {
    "duration": 26,
    "start_time": "2023-07-06T06:37:37.607Z"
   },
   {
    "duration": 2076,
    "start_time": "2023-07-06T09:29:01.367Z"
   },
   {
    "duration": 3721,
    "start_time": "2023-07-06T09:29:03.445Z"
   },
   {
    "duration": 108,
    "start_time": "2023-07-06T09:29:07.168Z"
   },
   {
    "duration": 18,
    "start_time": "2023-07-06T09:29:07.279Z"
   },
   {
    "duration": 285,
    "start_time": "2023-07-06T09:29:07.299Z"
   },
   {
    "duration": 31,
    "start_time": "2023-07-06T09:29:07.587Z"
   },
   {
    "duration": 12,
    "start_time": "2023-07-06T09:29:07.620Z"
   },
   {
    "duration": 183,
    "start_time": "2023-07-06T09:29:07.634Z"
   },
   {
    "duration": 2028,
    "start_time": "2023-07-06T09:29:07.819Z"
   },
   {
    "duration": 6,
    "start_time": "2023-07-06T09:29:09.855Z"
   },
   {
    "duration": 4445,
    "start_time": "2023-07-06T09:29:09.863Z"
   },
   {
    "duration": 7,
    "start_time": "2023-07-06T09:29:14.310Z"
   },
   {
    "duration": 139,
    "start_time": "2023-07-06T09:29:14.320Z"
   },
   {
    "duration": 227,
    "start_time": "2023-07-06T09:29:14.461Z"
   },
   {
    "duration": 3,
    "start_time": "2023-07-06T09:29:14.690Z"
   },
   {
    "duration": 4759,
    "start_time": "2023-07-06T09:29:14.695Z"
   },
   {
    "duration": 1416,
    "start_time": "2023-07-06T09:29:19.456Z"
   },
   {
    "duration": 1398,
    "start_time": "2023-07-06T09:29:20.874Z"
   },
   {
    "duration": 5,
    "start_time": "2023-07-06T09:29:22.274Z"
   },
   {
    "duration": 116499,
    "start_time": "2023-07-06T09:29:22.280Z"
   },
   {
    "duration": 193,
    "start_time": "2023-07-06T09:31:18.781Z"
   },
   {
    "duration": 83285,
    "start_time": "2023-07-06T09:31:18.976Z"
   },
   {
    "duration": 296,
    "start_time": "2023-07-06T09:32:42.263Z"
   },
   {
    "duration": 25217,
    "start_time": "2023-07-06T09:32:42.561Z"
   },
   {
    "duration": 17,
    "start_time": "2023-07-06T09:33:07.780Z"
   },
   {
    "duration": 172,
    "start_time": "2023-07-06T09:35:57.592Z"
   },
   {
    "duration": 1923,
    "start_time": "2023-07-06T09:38:30.441Z"
   },
   {
    "duration": 3588,
    "start_time": "2023-07-06T09:38:32.370Z"
   },
   {
    "duration": 108,
    "start_time": "2023-07-06T09:38:35.960Z"
   },
   {
    "duration": 12,
    "start_time": "2023-07-06T09:38:36.070Z"
   },
   {
    "duration": 258,
    "start_time": "2023-07-06T09:38:36.084Z"
   },
   {
    "duration": 39,
    "start_time": "2023-07-06T09:38:36.344Z"
   },
   {
    "duration": 13,
    "start_time": "2023-07-06T09:38:36.385Z"
   },
   {
    "duration": 165,
    "start_time": "2023-07-06T09:38:36.401Z"
   },
   {
    "duration": 2102,
    "start_time": "2023-07-06T09:38:36.568Z"
   },
   {
    "duration": 7,
    "start_time": "2023-07-06T09:38:38.673Z"
   },
   {
    "duration": 4353,
    "start_time": "2023-07-06T09:38:38.682Z"
   },
   {
    "duration": 7,
    "start_time": "2023-07-06T09:38:43.037Z"
   },
   {
    "duration": 95,
    "start_time": "2023-07-06T09:38:43.053Z"
   },
   {
    "duration": 219,
    "start_time": "2023-07-06T09:38:43.150Z"
   },
   {
    "duration": 2,
    "start_time": "2023-07-06T09:38:43.371Z"
   },
   {
    "duration": 4544,
    "start_time": "2023-07-06T09:38:43.375Z"
   },
   {
    "duration": 1451,
    "start_time": "2023-07-06T09:38:47.921Z"
   },
   {
    "duration": 1400,
    "start_time": "2023-07-06T09:38:49.374Z"
   },
   {
    "duration": 4,
    "start_time": "2023-07-06T09:38:50.776Z"
   },
   {
    "duration": 1968,
    "start_time": "2023-07-06T09:40:39.975Z"
   },
   {
    "duration": 903,
    "start_time": "2023-07-06T09:40:41.945Z"
   },
   {
    "duration": 118,
    "start_time": "2023-07-06T09:40:42.849Z"
   },
   {
    "duration": 11,
    "start_time": "2023-07-06T09:40:42.968Z"
   },
   {
    "duration": 274,
    "start_time": "2023-07-06T09:40:42.981Z"
   },
   {
    "duration": 34,
    "start_time": "2023-07-06T09:40:43.259Z"
   },
   {
    "duration": 12,
    "start_time": "2023-07-06T09:40:43.295Z"
   },
   {
    "duration": 179,
    "start_time": "2023-07-06T09:40:43.309Z"
   },
   {
    "duration": 2101,
    "start_time": "2023-07-06T09:40:43.489Z"
   },
   {
    "duration": 6,
    "start_time": "2023-07-06T09:40:45.592Z"
   },
   {
    "duration": 4583,
    "start_time": "2023-07-06T09:40:45.599Z"
   },
   {
    "duration": 8,
    "start_time": "2023-07-06T09:40:50.183Z"
   },
   {
    "duration": 93,
    "start_time": "2023-07-06T09:40:50.192Z"
   },
   {
    "duration": 139,
    "start_time": "2023-07-06T09:40:50.288Z"
   },
   {
    "duration": 2,
    "start_time": "2023-07-06T09:40:50.430Z"
   },
   {
    "duration": 4454,
    "start_time": "2023-07-06T09:40:50.434Z"
   },
   {
    "duration": 1375,
    "start_time": "2023-07-06T09:40:54.890Z"
   },
   {
    "duration": 1461,
    "start_time": "2023-07-06T09:40:56.267Z"
   },
   {
    "duration": 4,
    "start_time": "2023-07-06T09:40:57.730Z"
   },
   {
    "duration": 118751,
    "start_time": "2023-07-06T09:40:57.736Z"
   },
   {
    "duration": 209,
    "start_time": "2023-07-06T09:42:56.490Z"
   },
   {
    "duration": 82025,
    "start_time": "2023-07-06T09:42:56.700Z"
   },
   {
    "duration": 162,
    "start_time": "2023-07-06T09:45:55.837Z"
   },
   {
    "duration": 3637,
    "start_time": "2023-07-06T09:47:08.468Z"
   },
   {
    "duration": 3472,
    "start_time": "2023-07-06T09:47:12.108Z"
   },
   {
    "duration": 114,
    "start_time": "2023-07-06T09:47:15.582Z"
   },
   {
    "duration": 12,
    "start_time": "2023-07-06T09:47:15.698Z"
   },
   {
    "duration": 253,
    "start_time": "2023-07-06T09:47:15.713Z"
   },
   {
    "duration": 28,
    "start_time": "2023-07-06T09:47:15.968Z"
   },
   {
    "duration": 8,
    "start_time": "2023-07-06T09:47:15.998Z"
   },
   {
    "duration": 163,
    "start_time": "2023-07-06T09:47:16.008Z"
   },
   {
    "duration": 2345,
    "start_time": "2023-07-06T09:47:16.175Z"
   },
   {
    "duration": 12,
    "start_time": "2023-07-06T09:47:18.522Z"
   },
   {
    "duration": 4671,
    "start_time": "2023-07-06T09:47:18.536Z"
   },
   {
    "duration": 8,
    "start_time": "2023-07-06T09:47:23.209Z"
   },
   {
    "duration": 115,
    "start_time": "2023-07-06T09:47:23.218Z"
   },
   {
    "duration": 165,
    "start_time": "2023-07-06T09:47:23.336Z"
   },
   {
    "duration": 3,
    "start_time": "2023-07-06T09:47:23.503Z"
   },
   {
    "duration": 4693,
    "start_time": "2023-07-06T09:47:23.508Z"
   },
   {
    "duration": 1388,
    "start_time": "2023-07-06T09:47:28.203Z"
   },
   {
    "duration": 1399,
    "start_time": "2023-07-06T09:47:29.593Z"
   },
   {
    "duration": 5,
    "start_time": "2023-07-06T09:47:30.994Z"
   },
   {
    "duration": 367,
    "start_time": "2023-07-06T09:47:31.001Z"
   },
   {
    "duration": 15,
    "start_time": "2023-07-06T09:47:31.369Z"
   },
   {
    "duration": 0,
    "start_time": "2023-07-06T09:47:31.386Z"
   },
   {
    "duration": 0,
    "start_time": "2023-07-06T09:47:31.387Z"
   },
   {
    "duration": 0,
    "start_time": "2023-07-06T09:47:31.388Z"
   },
   {
    "duration": 1750,
    "start_time": "2023-07-06T09:50:34.108Z"
   },
   {
    "duration": 941,
    "start_time": "2023-07-06T09:50:35.860Z"
   },
   {
    "duration": 120,
    "start_time": "2023-07-06T09:50:36.803Z"
   },
   {
    "duration": 11,
    "start_time": "2023-07-06T09:50:36.925Z"
   },
   {
    "duration": 260,
    "start_time": "2023-07-06T09:50:36.938Z"
   },
   {
    "duration": 30,
    "start_time": "2023-07-06T09:50:37.199Z"
   },
   {
    "duration": 25,
    "start_time": "2023-07-06T09:50:37.230Z"
   },
   {
    "duration": 173,
    "start_time": "2023-07-06T09:50:37.257Z"
   },
   {
    "duration": 2171,
    "start_time": "2023-07-06T09:50:37.432Z"
   },
   {
    "duration": 6,
    "start_time": "2023-07-06T09:50:39.606Z"
   },
   {
    "duration": 4485,
    "start_time": "2023-07-06T09:50:39.614Z"
   },
   {
    "duration": 8,
    "start_time": "2023-07-06T09:50:44.102Z"
   },
   {
    "duration": 101,
    "start_time": "2023-07-06T09:50:44.112Z"
   },
   {
    "duration": 170,
    "start_time": "2023-07-06T09:50:44.215Z"
   },
   {
    "duration": 2,
    "start_time": "2023-07-06T09:50:44.387Z"
   },
   {
    "duration": 4649,
    "start_time": "2023-07-06T09:50:44.391Z"
   },
   {
    "duration": 1407,
    "start_time": "2023-07-06T09:50:49.042Z"
   },
   {
    "duration": 1372,
    "start_time": "2023-07-06T09:50:50.450Z"
   },
   {
    "duration": 5,
    "start_time": "2023-07-06T09:50:51.824Z"
   },
   {
    "duration": 1844,
    "start_time": "2023-07-06T09:51:44.107Z"
   },
   {
    "duration": 987,
    "start_time": "2023-07-06T09:51:45.954Z"
   },
   {
    "duration": 132,
    "start_time": "2023-07-06T09:51:46.943Z"
   },
   {
    "duration": 13,
    "start_time": "2023-07-06T09:51:47.078Z"
   },
   {
    "duration": 281,
    "start_time": "2023-07-06T09:51:47.093Z"
   },
   {
    "duration": 28,
    "start_time": "2023-07-06T09:51:47.376Z"
   },
   {
    "duration": 9,
    "start_time": "2023-07-06T09:51:47.406Z"
   },
   {
    "duration": 243,
    "start_time": "2023-07-06T09:51:47.417Z"
   },
   {
    "duration": 2160,
    "start_time": "2023-07-06T09:51:47.663Z"
   },
   {
    "duration": 4,
    "start_time": "2023-07-06T09:51:49.826Z"
   },
   {
    "duration": 4360,
    "start_time": "2023-07-06T09:51:49.831Z"
   },
   {
    "duration": 8,
    "start_time": "2023-07-06T09:51:54.194Z"
   },
   {
    "duration": 107,
    "start_time": "2023-07-06T09:51:54.204Z"
   },
   {
    "duration": 224,
    "start_time": "2023-07-06T09:51:54.313Z"
   },
   {
    "duration": 3,
    "start_time": "2023-07-06T09:51:54.539Z"
   },
   {
    "duration": 4595,
    "start_time": "2023-07-06T09:51:54.544Z"
   },
   {
    "duration": 1383,
    "start_time": "2023-07-06T09:51:59.140Z"
   },
   {
    "duration": 1456,
    "start_time": "2023-07-06T09:52:00.525Z"
   },
   {
    "duration": 4,
    "start_time": "2023-07-06T09:52:01.983Z"
   },
   {
    "duration": 118793,
    "start_time": "2023-07-06T09:52:01.989Z"
   },
   {
    "duration": 172,
    "start_time": "2023-07-06T09:54:00.784Z"
   },
   {
    "duration": 80063,
    "start_time": "2023-07-06T09:54:00.959Z"
   },
   {
    "duration": 184,
    "start_time": "2023-07-06T09:57:50.147Z"
   },
   {
    "duration": 3586,
    "start_time": "2023-07-06T09:57:55.286Z"
   },
   {
    "duration": 3613,
    "start_time": "2023-07-06T09:58:08.415Z"
   },
   {
    "duration": 130,
    "start_time": "2023-07-06T09:58:12.030Z"
   },
   {
    "duration": 12,
    "start_time": "2023-07-06T09:58:12.162Z"
   },
   {
    "duration": 273,
    "start_time": "2023-07-06T09:58:12.177Z"
   },
   {
    "duration": 30,
    "start_time": "2023-07-06T09:58:12.453Z"
   },
   {
    "duration": 17,
    "start_time": "2023-07-06T09:58:12.485Z"
   },
   {
    "duration": 160,
    "start_time": "2023-07-06T09:58:12.504Z"
   },
   {
    "duration": 2200,
    "start_time": "2023-07-06T09:58:12.665Z"
   },
   {
    "duration": 26,
    "start_time": "2023-07-06T09:58:14.868Z"
   },
   {
    "duration": 4668,
    "start_time": "2023-07-06T09:58:14.897Z"
   },
   {
    "duration": 7,
    "start_time": "2023-07-06T09:58:19.567Z"
   },
   {
    "duration": 105,
    "start_time": "2023-07-06T09:58:19.576Z"
   },
   {
    "duration": 231,
    "start_time": "2023-07-06T09:58:19.683Z"
   },
   {
    "duration": 2,
    "start_time": "2023-07-06T09:58:19.916Z"
   },
   {
    "duration": 4729,
    "start_time": "2023-07-06T09:58:19.920Z"
   },
   {
    "duration": 1447,
    "start_time": "2023-07-06T09:58:24.651Z"
   },
   {
    "duration": 1553,
    "start_time": "2023-07-06T09:58:26.101Z"
   },
   {
    "duration": 5,
    "start_time": "2023-07-06T09:58:27.656Z"
   },
   {
    "duration": 210,
    "start_time": "2023-07-06T09:58:27.878Z"
   },
   {
    "duration": 110186,
    "start_time": "2023-07-06T09:58:38.529Z"
   },
   {
    "duration": 12,
    "start_time": "2023-07-06T10:00:28.717Z"
   },
   {
    "duration": 2083,
    "start_time": "2023-07-06T10:00:42.399Z"
   },
   {
    "duration": 961,
    "start_time": "2023-07-06T10:00:44.485Z"
   },
   {
    "duration": 124,
    "start_time": "2023-07-06T10:00:45.448Z"
   },
   {
    "duration": 12,
    "start_time": "2023-07-06T10:00:45.574Z"
   },
   {
    "duration": 271,
    "start_time": "2023-07-06T10:00:45.587Z"
   },
   {
    "duration": 32,
    "start_time": "2023-07-06T10:00:45.860Z"
   },
   {
    "duration": 10,
    "start_time": "2023-07-06T10:00:45.894Z"
   },
   {
    "duration": 163,
    "start_time": "2023-07-06T10:00:45.906Z"
   },
   {
    "duration": 2254,
    "start_time": "2023-07-06T10:00:46.071Z"
   },
   {
    "duration": 13,
    "start_time": "2023-07-06T10:00:48.329Z"
   },
   {
    "duration": 4369,
    "start_time": "2023-07-06T10:00:48.354Z"
   },
   {
    "duration": 8,
    "start_time": "2023-07-06T10:00:52.726Z"
   },
   {
    "duration": 118,
    "start_time": "2023-07-06T10:00:52.736Z"
   },
   {
    "duration": 144,
    "start_time": "2023-07-06T10:00:52.856Z"
   },
   {
    "duration": 2,
    "start_time": "2023-07-06T10:00:53.002Z"
   },
   {
    "duration": 4658,
    "start_time": "2023-07-06T10:00:53.006Z"
   },
   {
    "duration": 1469,
    "start_time": "2023-07-06T10:00:57.667Z"
   },
   {
    "duration": 1419,
    "start_time": "2023-07-06T10:00:59.138Z"
   },
   {
    "duration": 5,
    "start_time": "2023-07-06T10:01:00.559Z"
   },
   {
    "duration": 1773,
    "start_time": "2023-07-06T10:01:55.088Z"
   },
   {
    "duration": 983,
    "start_time": "2023-07-06T10:01:56.863Z"
   },
   {
    "duration": 129,
    "start_time": "2023-07-06T10:01:57.848Z"
   },
   {
    "duration": 11,
    "start_time": "2023-07-06T10:01:57.978Z"
   },
   {
    "duration": 259,
    "start_time": "2023-07-06T10:01:57.991Z"
   },
   {
    "duration": 29,
    "start_time": "2023-07-06T10:01:58.255Z"
   },
   {
    "duration": 29,
    "start_time": "2023-07-06T10:01:58.286Z"
   },
   {
    "duration": 155,
    "start_time": "2023-07-06T10:01:58.316Z"
   },
   {
    "duration": 2173,
    "start_time": "2023-07-06T10:01:58.473Z"
   },
   {
    "duration": 40,
    "start_time": "2023-07-06T10:02:00.655Z"
   },
   {
    "duration": 4458,
    "start_time": "2023-07-06T10:02:00.698Z"
   },
   {
    "duration": 9,
    "start_time": "2023-07-06T10:02:05.159Z"
   },
   {
    "duration": 100,
    "start_time": "2023-07-06T10:02:05.170Z"
   },
   {
    "duration": 194,
    "start_time": "2023-07-06T10:02:05.272Z"
   },
   {
    "duration": 3,
    "start_time": "2023-07-06T10:02:05.468Z"
   },
   {
    "duration": 4911,
    "start_time": "2023-07-06T10:02:05.473Z"
   },
   {
    "duration": 1489,
    "start_time": "2023-07-06T10:02:10.387Z"
   },
   {
    "duration": 1432,
    "start_time": "2023-07-06T10:02:11.878Z"
   },
   {
    "duration": 5,
    "start_time": "2023-07-06T10:02:13.311Z"
   },
   {
    "duration": 120251,
    "start_time": "2023-07-06T10:02:13.317Z"
   },
   {
    "duration": 180,
    "start_time": "2023-07-06T10:04:13.570Z"
   },
   {
    "duration": 83828,
    "start_time": "2023-07-06T10:04:13.751Z"
   },
   {
    "duration": 5560,
    "start_time": "2023-07-06T10:20:02.627Z"
   },
   {
    "duration": 21709,
    "start_time": "2023-07-06T10:20:08.189Z"
   },
   {
    "duration": 157,
    "start_time": "2023-07-06T10:20:29.900Z"
   },
   {
    "duration": 18,
    "start_time": "2023-07-06T10:20:30.059Z"
   },
   {
    "duration": 0,
    "start_time": "2023-07-06T10:20:30.079Z"
   },
   {
    "duration": 0,
    "start_time": "2023-07-06T10:20:30.081Z"
   },
   {
    "duration": 17597,
    "start_time": "2023-07-06T10:21:09.251Z"
   },
   {
    "duration": 143319,
    "start_time": "2023-07-06T10:21:37.947Z"
   },
   {
    "duration": 133,
    "start_time": "2023-07-06T10:30:31.596Z"
   },
   {
    "duration": 3274,
    "start_time": "2023-07-07T16:24:39.682Z"
   },
   {
    "duration": 6745,
    "start_time": "2023-07-07T16:24:42.959Z"
   },
   {
    "duration": 175,
    "start_time": "2023-07-07T16:24:49.707Z"
   },
   {
    "duration": 16,
    "start_time": "2023-07-07T16:24:49.884Z"
   },
   {
    "duration": 313,
    "start_time": "2023-07-07T16:24:49.903Z"
   },
   {
    "duration": 34,
    "start_time": "2023-07-07T16:24:50.224Z"
   },
   {
    "duration": 21,
    "start_time": "2023-07-07T16:24:50.267Z"
   },
   {
    "duration": 174,
    "start_time": "2023-07-07T16:24:50.290Z"
   },
   {
    "duration": 7115,
    "start_time": "2023-07-07T16:24:50.467Z"
   },
   {
    "duration": 16,
    "start_time": "2023-07-07T16:24:57.588Z"
   },
   {
    "duration": 134,
    "start_time": "2023-07-07T16:24:57.610Z"
   },
   {
    "duration": 232,
    "start_time": "2023-07-07T16:24:57.747Z"
   },
   {
    "duration": 3,
    "start_time": "2023-07-07T16:24:57.981Z"
   },
   {
    "duration": 7003,
    "start_time": "2023-07-07T16:24:57.988Z"
   },
   {
    "duration": 2067,
    "start_time": "2023-07-07T16:25:05.003Z"
   },
   {
    "duration": 2233,
    "start_time": "2023-07-07T16:25:07.074Z"
   },
   {
    "duration": 5,
    "start_time": "2023-07-07T16:25:09.311Z"
   },
   {
    "duration": 110290,
    "start_time": "2023-07-07T16:25:09.318Z"
   },
   {
    "duration": 222,
    "start_time": "2023-07-07T16:26:59.615Z"
   },
   {
    "duration": 99279,
    "start_time": "2023-07-07T16:26:59.841Z"
   },
   {
    "duration": 170727,
    "start_time": "2023-07-07T16:28:39.122Z"
   },
   {
    "duration": 22367,
    "start_time": "2023-07-07T16:31:29.851Z"
   },
   {
    "duration": 187,
    "start_time": "2023-07-07T16:31:52.220Z"
   },
   {
    "duration": 9,
    "start_time": "2023-07-07T17:19:12.424Z"
   },
   {
    "duration": 2590,
    "start_time": "2023-07-07T17:19:20.558Z"
   },
   {
    "duration": 1181,
    "start_time": "2023-07-07T17:19:23.153Z"
   },
   {
    "duration": 52,
    "start_time": "2023-07-07T17:19:24.337Z"
   },
   {
    "duration": 21,
    "start_time": "2023-07-07T17:19:24.392Z"
   },
   {
    "duration": 290,
    "start_time": "2023-07-07T17:19:24.415Z"
   },
   {
    "duration": 39,
    "start_time": "2023-07-07T17:19:24.711Z"
   },
   {
    "duration": 18,
    "start_time": "2023-07-07T17:19:24.753Z"
   },
   {
    "duration": 182,
    "start_time": "2023-07-07T17:19:24.773Z"
   },
   {
    "duration": 7027,
    "start_time": "2023-07-07T17:19:24.964Z"
   },
   {
    "duration": 32,
    "start_time": "2023-07-07T17:19:31.995Z"
   },
   {
    "duration": 256,
    "start_time": "2023-07-07T17:19:32.029Z"
   },
   {
    "duration": 297,
    "start_time": "2023-07-07T17:19:32.295Z"
   },
   {
    "duration": 8,
    "start_time": "2023-07-07T17:19:32.600Z"
   },
   {
    "duration": 7187,
    "start_time": "2023-07-07T17:19:32.616Z"
   },
   {
    "duration": 2113,
    "start_time": "2023-07-07T17:19:39.808Z"
   },
   {
    "duration": 2206,
    "start_time": "2023-07-07T17:19:41.923Z"
   },
   {
    "duration": 6,
    "start_time": "2023-07-07T17:19:44.137Z"
   },
   {
    "duration": 116566,
    "start_time": "2023-07-07T17:19:44.146Z"
   },
   {
    "duration": 189,
    "start_time": "2023-07-07T17:21:40.715Z"
   },
   {
    "duration": 100187,
    "start_time": "2023-07-07T17:21:40.910Z"
   },
   {
    "duration": 15991,
    "start_time": "2023-07-07T17:26:55.256Z"
   },
   {
    "duration": 16,
    "start_time": "2023-07-07T17:27:11.250Z"
   },
   {
    "duration": 956,
    "start_time": "2023-07-07T17:27:11.273Z"
   },
   {
    "duration": 53,
    "start_time": "2023-07-07T17:27:12.231Z"
   },
   {
    "duration": 9186,
    "start_time": "2023-07-07T17:28:16.234Z"
   },
   {
    "duration": 3245,
    "start_time": "2023-07-07T17:29:09.611Z"
   },
   {
    "duration": 1040,
    "start_time": "2023-07-07T17:29:19.644Z"
   },
   {
    "duration": 42,
    "start_time": "2023-07-07T17:29:20.690Z"
   },
   {
    "duration": 14,
    "start_time": "2023-07-07T17:29:21.122Z"
   },
   {
    "duration": 255,
    "start_time": "2023-07-07T17:29:21.625Z"
   },
   {
    "duration": 46,
    "start_time": "2023-07-07T17:29:22.033Z"
   },
   {
    "duration": 7,
    "start_time": "2023-07-07T17:29:22.238Z"
   },
   {
    "duration": 385,
    "start_time": "2023-07-07T17:29:22.416Z"
   },
   {
    "duration": 881,
    "start_time": "2023-07-07T17:30:16.742Z"
   },
   {
    "duration": 45,
    "start_time": "2023-07-07T17:30:57.128Z"
   },
   {
    "duration": 3,
    "start_time": "2023-07-07T17:32:17.733Z"
   },
   {
    "duration": 9,
    "start_time": "2023-07-07T17:32:35.842Z"
   },
   {
    "duration": 5,
    "start_time": "2023-07-07T17:32:49.052Z"
   },
   {
    "duration": 928,
    "start_time": "2023-07-07T17:34:46.790Z"
   },
   {
    "duration": 4,
    "start_time": "2023-07-07T17:35:13.230Z"
   },
   {
    "duration": 608,
    "start_time": "2023-07-07T17:35:14.010Z"
   },
   {
    "duration": 38,
    "start_time": "2023-07-07T17:35:25.644Z"
   },
   {
    "duration": 14,
    "start_time": "2023-07-07T17:35:54.192Z"
   },
   {
    "duration": 35,
    "start_time": "2023-07-07T17:35:55.030Z"
   },
   {
    "duration": 10,
    "start_time": "2023-07-07T17:36:04.932Z"
   },
   {
    "duration": 29,
    "start_time": "2023-07-07T17:36:22.884Z"
   },
   {
    "duration": 18,
    "start_time": "2023-07-07T17:36:32.036Z"
   },
   {
    "duration": 4,
    "start_time": "2023-07-07T17:37:08.623Z"
   },
   {
    "duration": 6,
    "start_time": "2023-07-07T17:37:12.447Z"
   },
   {
    "duration": 155,
    "start_time": "2023-07-07T17:38:40.384Z"
   },
   {
    "duration": 669,
    "start_time": "2023-07-07T17:38:44.686Z"
   },
   {
    "duration": 707,
    "start_time": "2023-07-07T17:39:14.946Z"
   },
   {
    "duration": 635,
    "start_time": "2023-07-07T17:39:25.080Z"
   },
   {
    "duration": 614,
    "start_time": "2023-07-07T17:40:29.908Z"
   },
   {
    "duration": 7,
    "start_time": "2023-07-07T17:40:41.385Z"
   },
   {
    "duration": 15,
    "start_time": "2023-07-07T17:40:42.386Z"
   },
   {
    "duration": 14,
    "start_time": "2023-07-07T17:40:43.993Z"
   },
   {
    "duration": 5,
    "start_time": "2023-07-07T17:40:44.996Z"
   },
   {
    "duration": 6,
    "start_time": "2023-07-07T17:41:15.705Z"
   },
   {
    "duration": 13,
    "start_time": "2023-07-07T17:41:16.371Z"
   },
   {
    "duration": 10,
    "start_time": "2023-07-07T17:41:16.899Z"
   },
   {
    "duration": 11,
    "start_time": "2023-07-07T17:41:17.493Z"
   },
   {
    "duration": 8,
    "start_time": "2023-07-07T17:41:51.577Z"
   },
   {
    "duration": 32,
    "start_time": "2023-07-07T17:41:52.293Z"
   },
   {
    "duration": 7,
    "start_time": "2023-07-07T17:42:44.043Z"
   },
   {
    "duration": 42,
    "start_time": "2023-07-07T17:42:45.056Z"
   },
   {
    "duration": 2859,
    "start_time": "2023-07-07T17:43:27.391Z"
   },
   {
    "duration": 1093,
    "start_time": "2023-07-07T17:43:43.637Z"
   },
   {
    "duration": 4,
    "start_time": "2023-07-07T17:43:44.733Z"
   },
   {
    "duration": 35,
    "start_time": "2023-07-07T17:43:45.911Z"
   },
   {
    "duration": 34,
    "start_time": "2023-07-07T17:43:56.196Z"
   },
   {
    "duration": 39,
    "start_time": "2023-07-07T17:44:05.659Z"
   },
   {
    "duration": 26,
    "start_time": "2023-07-07T17:46:28.201Z"
   },
   {
    "duration": 4,
    "start_time": "2023-07-07T17:46:40.746Z"
   },
   {
    "duration": 24,
    "start_time": "2023-07-07T17:46:41.818Z"
   },
   {
    "duration": 729,
    "start_time": "2023-07-07T17:48:14.501Z"
   },
   {
    "duration": 113,
    "start_time": "2023-07-07T17:48:15.979Z"
   },
   {
    "duration": 46,
    "start_time": "2023-07-07T17:48:23.661Z"
   },
   {
    "duration": 8,
    "start_time": "2023-07-07T17:48:41.989Z"
   },
   {
    "duration": 41,
    "start_time": "2023-07-07T17:48:57.680Z"
   },
   {
    "duration": 11,
    "start_time": "2023-07-07T17:49:02.745Z"
   },
   {
    "duration": 15,
    "start_time": "2023-07-07T17:49:03.188Z"
   },
   {
    "duration": 8,
    "start_time": "2023-07-07T17:49:50.586Z"
   },
   {
    "duration": 26,
    "start_time": "2023-07-07T17:49:51.332Z"
   },
   {
    "duration": 8,
    "start_time": "2023-07-07T18:01:57.716Z"
   },
   {
    "duration": 31,
    "start_time": "2023-07-07T18:03:28.088Z"
   },
   {
    "duration": 15,
    "start_time": "2023-07-07T18:04:23.152Z"
   },
   {
    "duration": 40,
    "start_time": "2023-07-07T18:04:32.086Z"
   },
   {
    "duration": 4,
    "start_time": "2023-07-07T18:04:49.151Z"
   },
   {
    "duration": 4,
    "start_time": "2023-07-07T18:04:57.644Z"
   },
   {
    "duration": 41,
    "start_time": "2023-07-07T18:13:01.781Z"
   },
   {
    "duration": 11,
    "start_time": "2023-07-07T18:13:49.855Z"
   },
   {
    "duration": 34,
    "start_time": "2023-07-07T18:13:50.712Z"
   },
   {
    "duration": 6,
    "start_time": "2023-07-07T18:13:59.002Z"
   },
   {
    "duration": 51,
    "start_time": "2023-07-07T18:14:00.342Z"
   },
   {
    "duration": 647,
    "start_time": "2023-07-07T18:14:54.632Z"
   },
   {
    "duration": 8,
    "start_time": "2023-07-07T18:14:55.282Z"
   },
   {
    "duration": 24,
    "start_time": "2023-07-07T18:14:55.705Z"
   },
   {
    "duration": 24,
    "start_time": "2023-07-07T18:16:13.707Z"
   },
   {
    "duration": 116,
    "start_time": "2023-07-07T18:17:10.438Z"
   },
   {
    "duration": 582,
    "start_time": "2023-07-07T18:17:15.608Z"
   },
   {
    "duration": 4,
    "start_time": "2023-07-07T18:17:18.925Z"
   },
   {
    "duration": 23,
    "start_time": "2023-07-07T18:17:20.117Z"
   },
   {
    "duration": 5181,
    "start_time": "2023-07-07T18:17:36.798Z"
   },
   {
    "duration": 917,
    "start_time": "2023-07-07T18:17:41.981Z"
   },
   {
    "duration": 39,
    "start_time": "2023-07-07T18:17:42.901Z"
   },
   {
    "duration": 13,
    "start_time": "2023-07-07T18:17:42.942Z"
   },
   {
    "duration": 275,
    "start_time": "2023-07-07T18:17:42.957Z"
   },
   {
    "duration": 65,
    "start_time": "2023-07-07T18:17:43.234Z"
   },
   {
    "duration": 10,
    "start_time": "2023-07-07T18:17:43.304Z"
   },
   {
    "duration": 137,
    "start_time": "2023-07-07T18:17:43.316Z"
   },
   {
    "duration": 671,
    "start_time": "2023-07-07T18:17:43.460Z"
   },
   {
    "duration": 5,
    "start_time": "2023-07-07T18:17:44.134Z"
   },
   {
    "duration": 486,
    "start_time": "2023-07-07T18:17:44.141Z"
   },
   {
    "duration": 0,
    "start_time": "2023-07-07T18:17:44.632Z"
   },
   {
    "duration": 0,
    "start_time": "2023-07-07T18:17:44.633Z"
   },
   {
    "duration": 0,
    "start_time": "2023-07-07T18:17:44.636Z"
   },
   {
    "duration": 0,
    "start_time": "2023-07-07T18:17:44.637Z"
   },
   {
    "duration": 0,
    "start_time": "2023-07-07T18:17:44.639Z"
   },
   {
    "duration": 0,
    "start_time": "2023-07-07T18:17:44.640Z"
   },
   {
    "duration": 0,
    "start_time": "2023-07-07T18:17:44.642Z"
   },
   {
    "duration": 0,
    "start_time": "2023-07-07T18:17:44.643Z"
   },
   {
    "duration": 0,
    "start_time": "2023-07-07T18:17:44.644Z"
   },
   {
    "duration": 0,
    "start_time": "2023-07-07T18:17:44.645Z"
   },
   {
    "duration": 1,
    "start_time": "2023-07-07T18:17:44.645Z"
   },
   {
    "duration": 0,
    "start_time": "2023-07-07T18:17:44.646Z"
   },
   {
    "duration": 0,
    "start_time": "2023-07-07T18:17:44.660Z"
   },
   {
    "duration": 0,
    "start_time": "2023-07-07T18:17:44.661Z"
   },
   {
    "duration": 0,
    "start_time": "2023-07-07T18:17:44.661Z"
   },
   {
    "duration": 0,
    "start_time": "2023-07-07T18:17:44.662Z"
   },
   {
    "duration": 0,
    "start_time": "2023-07-07T18:17:44.663Z"
   },
   {
    "duration": 0,
    "start_time": "2023-07-07T18:17:44.668Z"
   },
   {
    "duration": 866,
    "start_time": "2023-07-07T18:34:56.217Z"
   },
   {
    "duration": 6,
    "start_time": "2023-07-07T18:35:39.111Z"
   },
   {
    "duration": 930,
    "start_time": "2023-07-07T18:35:39.688Z"
   },
   {
    "duration": 16,
    "start_time": "2023-07-07T18:35:40.621Z"
   },
   {
    "duration": 66,
    "start_time": "2023-07-07T18:35:55.305Z"
   },
   {
    "duration": 73,
    "start_time": "2023-07-07T18:36:02.375Z"
   },
   {
    "duration": 67,
    "start_time": "2023-07-07T18:36:07.686Z"
   },
   {
    "duration": 681,
    "start_time": "2023-07-07T18:39:49.130Z"
   },
   {
    "duration": 28,
    "start_time": "2023-07-07T18:39:49.813Z"
   },
   {
    "duration": 10,
    "start_time": "2023-07-07T18:40:47.501Z"
   },
   {
    "duration": 56,
    "start_time": "2023-07-07T18:43:25.780Z"
   },
   {
    "duration": 80,
    "start_time": "2023-07-07T18:43:50.594Z"
   },
   {
    "duration": 4,
    "start_time": "2023-07-07T18:44:47.051Z"
   },
   {
    "duration": 11,
    "start_time": "2023-07-07T18:48:53.971Z"
   },
   {
    "duration": 13,
    "start_time": "2023-07-07T18:49:07.244Z"
   },
   {
    "duration": 5454,
    "start_time": "2023-07-07T18:49:18.435Z"
   },
   {
    "duration": 979,
    "start_time": "2023-07-07T18:49:23.895Z"
   },
   {
    "duration": 46,
    "start_time": "2023-07-07T18:49:24.876Z"
   },
   {
    "duration": 14,
    "start_time": "2023-07-07T18:49:24.925Z"
   },
   {
    "duration": 296,
    "start_time": "2023-07-07T18:49:24.940Z"
   },
   {
    "duration": 54,
    "start_time": "2023-07-07T18:49:25.238Z"
   },
   {
    "duration": 20,
    "start_time": "2023-07-07T18:49:25.294Z"
   },
   {
    "duration": 158,
    "start_time": "2023-07-07T18:49:25.316Z"
   },
   {
    "duration": 7,
    "start_time": "2023-07-07T18:49:25.477Z"
   },
   {
    "duration": 7,
    "start_time": "2023-07-07T18:49:25.488Z"
   },
   {
    "duration": 29,
    "start_time": "2023-07-07T18:49:25.497Z"
   },
   {
    "duration": 5776,
    "start_time": "2023-07-07T18:49:25.530Z"
   },
   {
    "duration": 18,
    "start_time": "2023-07-07T18:49:31.309Z"
   },
   {
    "duration": 166,
    "start_time": "2023-07-07T18:49:31.330Z"
   },
   {
    "duration": 303,
    "start_time": "2023-07-07T18:49:31.499Z"
   },
   {
    "duration": 4,
    "start_time": "2023-07-07T18:49:31.809Z"
   },
   {
    "duration": 6191,
    "start_time": "2023-07-07T18:49:31.816Z"
   },
   {
    "duration": 1860,
    "start_time": "2023-07-07T18:49:38.009Z"
   },
   {
    "duration": 1832,
    "start_time": "2023-07-07T18:49:39.871Z"
   },
   {
    "duration": 12,
    "start_time": "2023-07-07T18:49:41.711Z"
   },
   {
    "duration": 572,
    "start_time": "2023-07-07T18:49:41.733Z"
   },
   {
    "duration": 0,
    "start_time": "2023-07-07T18:49:42.306Z"
   },
   {
    "duration": 0,
    "start_time": "2023-07-07T18:49:42.308Z"
   },
   {
    "duration": 0,
    "start_time": "2023-07-07T18:49:42.309Z"
   },
   {
    "duration": 0,
    "start_time": "2023-07-07T18:49:42.310Z"
   },
   {
    "duration": 0,
    "start_time": "2023-07-07T18:49:42.311Z"
   },
   {
    "duration": 0,
    "start_time": "2023-07-07T18:49:42.313Z"
   },
   {
    "duration": 4890,
    "start_time": "2023-07-07T18:50:27.422Z"
   },
   {
    "duration": 20,
    "start_time": "2023-07-07T18:50:32.314Z"
   },
   {
    "duration": 23154,
    "start_time": "2023-07-07T18:50:38.388Z"
   },
   {
    "duration": 6176,
    "start_time": "2023-07-07T18:51:01.547Z"
   },
   {
    "duration": 53,
    "start_time": "2023-07-07T18:51:07.725Z"
   },
   {
    "duration": 20,
    "start_time": "2023-07-07T18:51:07.781Z"
   },
   {
    "duration": 373,
    "start_time": "2023-07-07T18:51:07.804Z"
   },
   {
    "duration": 57,
    "start_time": "2023-07-07T18:51:08.179Z"
   },
   {
    "duration": 11,
    "start_time": "2023-07-07T18:51:08.240Z"
   },
   {
    "duration": 202,
    "start_time": "2023-07-07T18:51:08.254Z"
   },
   {
    "duration": 6880,
    "start_time": "2023-07-07T18:51:08.458Z"
   },
   {
    "duration": 10,
    "start_time": "2023-07-07T18:51:15.342Z"
   },
   {
    "duration": 166,
    "start_time": "2023-07-07T18:51:15.354Z"
   },
   {
    "duration": 348,
    "start_time": "2023-07-07T18:51:15.522Z"
   },
   {
    "duration": 13,
    "start_time": "2023-07-07T18:51:15.877Z"
   },
   {
    "duration": 7766,
    "start_time": "2023-07-07T18:51:15.900Z"
   },
   {
    "duration": 2262,
    "start_time": "2023-07-07T18:51:23.679Z"
   },
   {
    "duration": 2191,
    "start_time": "2023-07-07T18:51:25.942Z"
   },
   {
    "duration": 9,
    "start_time": "2023-07-07T18:51:28.142Z"
   },
   {
    "duration": 653,
    "start_time": "2023-07-07T18:51:28.153Z"
   },
   {
    "duration": 0,
    "start_time": "2023-07-07T18:51:28.808Z"
   },
   {
    "duration": 0,
    "start_time": "2023-07-07T18:51:28.809Z"
   },
   {
    "duration": 0,
    "start_time": "2023-07-07T18:51:28.814Z"
   },
   {
    "duration": 0,
    "start_time": "2023-07-07T18:51:28.815Z"
   },
   {
    "duration": 0,
    "start_time": "2023-07-07T18:51:28.817Z"
   },
   {
    "duration": 0,
    "start_time": "2023-07-07T18:51:28.818Z"
   },
   {
    "duration": 179,
    "start_time": "2023-07-07T18:51:29.393Z"
   },
   {
    "duration": 5,
    "start_time": "2023-07-07T18:51:33.853Z"
   },
   {
    "duration": 895,
    "start_time": "2023-07-07T18:51:57.386Z"
   },
   {
    "duration": 15,
    "start_time": "2023-07-07T18:52:07.932Z"
   },
   {
    "duration": 5,
    "start_time": "2023-07-07T18:52:16.451Z"
   },
   {
    "duration": 28,
    "start_time": "2023-07-07T18:52:24.804Z"
   },
   {
    "duration": 8,
    "start_time": "2023-07-07T18:53:18.792Z"
   },
   {
    "duration": 1530540,
    "start_time": "2023-07-07T18:54:09.885Z"
   },
   {
    "duration": 1123,
    "start_time": "2023-07-07T19:19:40.432Z"
   },
   {
    "duration": 0,
    "start_time": "2023-07-07T19:19:41.559Z"
   },
   {
    "duration": 18,
    "start_time": "2023-07-07T19:19:52.215Z"
   },
   {
    "duration": 143,
    "start_time": "2023-07-07T19:20:29.037Z"
   },
   {
    "duration": 6,
    "start_time": "2023-07-07T19:20:34.399Z"
   },
   {
    "duration": 18,
    "start_time": "2023-07-07T19:20:37.846Z"
   },
   {
    "duration": 5249,
    "start_time": "2023-07-07T19:20:38.772Z"
   },
   {
    "duration": 1760,
    "start_time": "2023-07-07T19:20:44.024Z"
   },
   {
    "duration": 1988,
    "start_time": "2023-07-07T19:20:45.786Z"
   },
   {
    "duration": 6,
    "start_time": "2023-07-07T19:20:47.776Z"
   },
   {
    "duration": 23401,
    "start_time": "2023-07-07T19:21:09.227Z"
   },
   {
    "duration": 1080,
    "start_time": "2023-07-07T19:21:44.037Z"
   },
   {
    "duration": 12,
    "start_time": "2023-07-07T19:22:56.285Z"
   },
   {
    "duration": 3,
    "start_time": "2023-07-07T19:23:15.722Z"
   },
   {
    "duration": 3,
    "start_time": "2023-07-07T19:23:24.741Z"
   },
   {
    "duration": 59743,
    "start_time": "2023-07-07T19:24:06.788Z"
   },
   {
    "duration": 9,
    "start_time": "2023-07-07T19:25:06.539Z"
   },
   {
    "duration": 6,
    "start_time": "2023-07-07T19:25:06.551Z"
   },
   {
    "duration": 5,
    "start_time": "2023-07-07T19:25:09.052Z"
   },
   {
    "duration": 4,
    "start_time": "2023-07-07T19:25:11.153Z"
   },
   {
    "duration": 12988,
    "start_time": "2023-07-07T19:25:18.432Z"
   },
   {
    "duration": 60467,
    "start_time": "2023-07-07T19:25:32.842Z"
   },
   {
    "duration": 5295,
    "start_time": "2023-07-07T19:26:33.312Z"
   },
   {
    "duration": 3,
    "start_time": "2023-07-07T19:26:38.612Z"
   },
   {
    "duration": 6,
    "start_time": "2023-07-07T19:26:38.618Z"
   },
   {
    "duration": 3,
    "start_time": "2023-07-07T19:27:05.804Z"
   },
   {
    "duration": 6,
    "start_time": "2023-07-07T19:27:05.809Z"
   },
   {
    "duration": 4,
    "start_time": "2023-07-07T19:29:23.036Z"
   },
   {
    "duration": 6,
    "start_time": "2023-07-07T19:29:23.042Z"
   },
   {
    "duration": 6822,
    "start_time": "2023-07-07T19:29:23.050Z"
   },
   {
    "duration": 4,
    "start_time": "2023-07-07T19:29:35.746Z"
   },
   {
    "duration": 3,
    "start_time": "2023-07-07T19:29:37.448Z"
   },
   {
    "duration": 377446,
    "start_time": "2023-07-07T19:29:38.486Z"
   },
   {
    "duration": 205,
    "start_time": "2023-07-07T19:38:07.422Z"
   },
   {
    "duration": 81423,
    "start_time": "2023-07-07T19:38:14.218Z"
   },
   {
    "duration": 151746,
    "start_time": "2023-07-07T19:39:35.645Z"
   },
   {
    "duration": 208,
    "start_time": "2023-07-07T19:42:07.394Z"
   },
   {
    "duration": 28,
    "start_time": "2023-07-07T19:42:07.606Z"
   },
   {
    "duration": 22128,
    "start_time": "2023-07-07T19:44:38.248Z"
   },
   {
    "duration": 30,
    "start_time": "2023-07-07T19:46:41.443Z"
   },
   {
    "duration": 29,
    "start_time": "2023-07-07T19:46:52.181Z"
   },
   {
    "duration": 166,
    "start_time": "2023-07-07T19:47:15.849Z"
   },
   {
    "duration": 182,
    "start_time": "2023-07-07T20:45:27.224Z"
   },
   {
    "duration": 172,
    "start_time": "2023-07-07T20:47:42.445Z"
   },
   {
    "duration": 121,
    "start_time": "2023-07-07T20:48:59.718Z"
   },
   {
    "duration": 2988,
    "start_time": "2023-07-08T04:39:12.946Z"
   },
   {
    "duration": 4094,
    "start_time": "2023-07-08T04:39:30.467Z"
   },
   {
    "duration": 1347,
    "start_time": "2023-07-08T04:40:08.782Z"
   },
   {
    "duration": 1868,
    "start_time": "2023-07-08T04:40:19.000Z"
   },
   {
    "duration": 716,
    "start_time": "2023-07-08T04:41:58.302Z"
   },
   {
    "duration": 1285,
    "start_time": "2023-07-08T04:42:04.060Z"
   },
   {
    "duration": 8792,
    "start_time": "2023-07-20T17:07:41.004Z"
   },
   {
    "duration": 2404,
    "start_time": "2023-07-20T17:07:53.593Z"
   },
   {
    "duration": 27,
    "start_time": "2023-07-20T17:07:56.690Z"
   },
   {
    "duration": 11,
    "start_time": "2023-07-20T17:07:57.354Z"
   },
   {
    "duration": 248,
    "start_time": "2023-07-20T17:07:57.968Z"
   },
   {
    "duration": 21,
    "start_time": "2023-07-20T17:07:58.402Z"
   },
   {
    "duration": 8,
    "start_time": "2023-07-20T17:07:58.986Z"
   },
   {
    "duration": 133,
    "start_time": "2023-07-20T17:07:59.484Z"
   },
   {
    "duration": 625,
    "start_time": "2023-07-20T17:08:45.264Z"
   },
   {
    "duration": 3,
    "start_time": "2023-07-20T17:09:04.720Z"
   },
   {
    "duration": 3,
    "start_time": "2023-07-20T17:09:24.945Z"
   },
   {
    "duration": 34,
    "start_time": "2023-07-20T17:09:33.397Z"
   },
   {
    "duration": 3,
    "start_time": "2023-07-20T17:10:00.143Z"
   },
   {
    "duration": 22,
    "start_time": "2023-07-20T17:10:12.948Z"
   },
   {
    "duration": 370,
    "start_time": "2023-07-20T17:10:52.636Z"
   },
   {
    "duration": 17,
    "start_time": "2023-07-20T17:10:58.857Z"
   },
   {
    "duration": 8,
    "start_time": "2023-07-20T17:11:03.422Z"
   },
   {
    "duration": 18,
    "start_time": "2023-07-20T17:11:11.686Z"
   },
   {
    "duration": 7,
    "start_time": "2023-07-20T17:11:16.716Z"
   },
   {
    "duration": 1550,
    "start_time": "2023-07-20T17:11:57.290Z"
   },
   {
    "duration": 4342,
    "start_time": "2023-07-20T17:22:50.813Z"
   },
   {
    "duration": 833,
    "start_time": "2023-07-20T17:22:55.158Z"
   },
   {
    "duration": 42,
    "start_time": "2023-07-20T17:22:55.994Z"
   },
   {
    "duration": 24,
    "start_time": "2023-07-20T17:22:56.041Z"
   },
   {
    "duration": 318,
    "start_time": "2023-07-20T17:22:56.067Z"
   },
   {
    "duration": 23,
    "start_time": "2023-07-20T17:22:56.387Z"
   },
   {
    "duration": 15,
    "start_time": "2023-07-20T17:22:56.412Z"
   },
   {
    "duration": 122,
    "start_time": "2023-07-20T17:22:56.428Z"
   },
   {
    "duration": 465,
    "start_time": "2023-07-20T17:22:56.552Z"
   },
   {
    "duration": 4,
    "start_time": "2023-07-20T17:22:57.019Z"
   },
   {
    "duration": 12,
    "start_time": "2023-07-20T17:22:57.029Z"
   },
   {
    "duration": 26,
    "start_time": "2023-07-20T17:22:57.043Z"
   },
   {
    "duration": 20,
    "start_time": "2023-07-20T17:22:57.071Z"
   },
   {
    "duration": 28,
    "start_time": "2023-07-20T17:22:57.092Z"
   },
   {
    "duration": 2158320,
    "start_time": "2023-07-20T17:22:57.122Z"
   },
   {
    "duration": 9,
    "start_time": "2023-07-20T17:58:55.444Z"
   },
   {
    "duration": 3870,
    "start_time": "2023-07-20T17:58:55.454Z"
   },
   {
    "duration": 6,
    "start_time": "2023-07-20T17:58:59.326Z"
   },
   {
    "duration": 60,
    "start_time": "2023-07-20T17:58:59.333Z"
   },
   {
    "duration": 236,
    "start_time": "2023-07-20T17:58:59.400Z"
   },
   {
    "duration": 2,
    "start_time": "2023-07-20T17:58:59.638Z"
   },
   {
    "duration": 3741,
    "start_time": "2023-07-20T17:58:59.641Z"
   },
   {
    "duration": 1250,
    "start_time": "2023-07-20T17:59:03.383Z"
   },
   {
    "duration": 1254,
    "start_time": "2023-07-20T17:59:04.635Z"
   },
   {
    "duration": 3,
    "start_time": "2023-07-20T17:59:05.891Z"
   },
   {
    "duration": 51,
    "start_time": "2023-07-20T17:59:05.895Z"
   },
   {
    "duration": 12,
    "start_time": "2023-07-20T17:59:05.948Z"
   },
   {
    "duration": 335548,
    "start_time": "2023-07-20T17:59:05.962Z"
   },
   {
    "duration": 135,
    "start_time": "2023-07-20T18:04:41.512Z"
   },
   {
    "duration": 64331,
    "start_time": "2023-07-20T18:04:41.648Z"
   },
   {
    "duration": 123252,
    "start_time": "2023-07-20T18:05:45.980Z"
   },
   {
    "duration": 15,
    "start_time": "2023-07-20T18:07:49.234Z"
   },
   {
    "duration": 382,
    "start_time": "2023-07-20T18:07:49.251Z"
   },
   {
    "duration": 0,
    "start_time": "2023-07-20T18:07:49.636Z"
   },
   {
    "duration": 0,
    "start_time": "2023-07-20T18:07:49.640Z"
   },
   {
    "duration": 0,
    "start_time": "2023-07-20T18:07:49.641Z"
   },
   {
    "duration": 0,
    "start_time": "2023-07-20T18:07:49.645Z"
   },
   {
    "duration": 7,
    "start_time": "2023-07-20T18:10:19.860Z"
   },
   {
    "duration": 7,
    "start_time": "2023-07-20T18:10:25.884Z"
   },
   {
    "duration": 6,
    "start_time": "2023-07-20T18:11:43.112Z"
   },
   {
    "duration": 25,
    "start_time": "2023-07-20T18:12:31.690Z"
   },
   {
    "duration": 2886,
    "start_time": "2023-07-20T18:12:52.102Z"
   },
   {
    "duration": 6,
    "start_time": "2023-07-20T18:12:58.020Z"
   },
   {
    "duration": 9,
    "start_time": "2023-07-20T18:13:44.589Z"
   },
   {
    "duration": 86,
    "start_time": "2023-07-20T18:14:27.917Z"
   },
   {
    "duration": 4,
    "start_time": "2023-07-20T18:14:35.014Z"
   },
   {
    "duration": 3,
    "start_time": "2023-07-20T18:15:24.682Z"
   },
   {
    "duration": 3,
    "start_time": "2023-07-20T18:15:30.701Z"
   },
   {
    "duration": 491,
    "start_time": "2023-07-20T18:15:32.187Z"
   },
   {
    "duration": 4,
    "start_time": "2023-07-20T18:17:22.850Z"
   },
   {
    "duration": 425,
    "start_time": "2023-07-20T18:18:00.655Z"
   },
   {
    "duration": 12,
    "start_time": "2023-07-20T18:30:48.762Z"
   },
   {
    "duration": 66,
    "start_time": "2023-07-20T18:30:52.575Z"
   },
   {
    "duration": 3,
    "start_time": "2023-07-20T18:31:01.896Z"
   },
   {
    "duration": 446,
    "start_time": "2023-07-20T18:31:02.995Z"
   },
   {
    "duration": 8,
    "start_time": "2023-07-20T18:36:40.542Z"
   },
   {
    "duration": 3587,
    "start_time": "2023-07-20T18:36:41.183Z"
   },
   {
    "duration": 1164,
    "start_time": "2023-07-20T18:36:44.771Z"
   },
   {
    "duration": 1300,
    "start_time": "2023-07-20T18:36:45.936Z"
   },
   {
    "duration": 4,
    "start_time": "2023-07-20T18:36:47.238Z"
   },
   {
    "duration": 3,
    "start_time": "2023-07-20T18:36:59.250Z"
   },
   {
    "duration": 440,
    "start_time": "2023-07-20T18:37:00.044Z"
   },
   {
    "duration": 4,
    "start_time": "2023-07-20T18:37:45.266Z"
   },
   {
    "duration": 318546,
    "start_time": "2023-07-20T18:37:45.871Z"
   },
   {
    "duration": 145,
    "start_time": "2023-07-20T18:43:04.419Z"
   },
   {
    "duration": 61645,
    "start_time": "2023-07-20T18:43:04.565Z"
   },
   {
    "duration": 118569,
    "start_time": "2023-07-20T18:44:06.212Z"
   },
   {
    "duration": 17,
    "start_time": "2023-07-20T18:46:04.783Z"
   },
   {
    "duration": 18,
    "start_time": "2023-07-20T18:46:04.802Z"
   },
   {
    "duration": 18,
    "start_time": "2023-07-20T18:51:50.147Z"
   },
   {
    "duration": 18,
    "start_time": "2023-07-20T18:52:18.870Z"
   },
   {
    "duration": 16,
    "start_time": "2023-07-20T18:54:08.306Z"
   },
   {
    "duration": 16,
    "start_time": "2023-07-20T19:02:35.428Z"
   },
   {
    "duration": 16,
    "start_time": "2023-07-20T19:02:59.334Z"
   },
   {
    "duration": 18,
    "start_time": "2023-07-20T19:03:16.643Z"
   },
   {
    "duration": 215,
    "start_time": "2023-07-20T19:04:17.143Z"
   },
   {
    "duration": 131,
    "start_time": "2023-07-20T19:04:46.692Z"
   }
  ],
  "kernelspec": {
   "display_name": "Python 3 (ipykernel)",
   "language": "python",
   "name": "python3"
  },
  "language_info": {
   "codemirror_mode": {
    "name": "ipython",
    "version": 3
   },
   "file_extension": ".py",
   "mimetype": "text/x-python",
   "name": "python",
   "nbconvert_exporter": "python",
   "pygments_lexer": "ipython3",
   "version": "3.9.12"
  },
  "toc": {
   "base_numbering": 1,
   "nav_menu": {},
   "number_sections": true,
   "sideBar": true,
   "skip_h1_title": true,
   "title_cell": "Содержание",
   "title_sidebar": "Contents",
   "toc_cell": true,
   "toc_position": {
    "height": "calc(100% - 180px)",
    "left": "10px",
    "top": "150px",
    "width": "302.391px"
   },
   "toc_section_display": true,
   "toc_window_display": false
  }
 },
 "nbformat": 4,
 "nbformat_minor": 2
}
