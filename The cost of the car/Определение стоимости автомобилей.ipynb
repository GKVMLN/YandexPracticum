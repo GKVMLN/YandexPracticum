{
 "cells": [
  {
   "cell_type": "markdown",
   "metadata": {},
   "source": [
    "# Определение стоимости автомобилей"
   ]
  },
  {
   "cell_type": "markdown",
   "metadata": {},
   "source": [
    "Сервис по продаже автомобилей с пробегом «Не бит, не крашен» разрабатывает приложение для привлечения новых клиентов. В нём можно быстро узнать рыночную стоимость своего автомобиля. В вашем распоряжении исторические данные: технические характеристики, комплектации и цены автомобилей. Вам нужно построить модель для определения стоимости. \n",
    "\n",
    "Заказчику важны:\n",
    "\n",
    "- качество предсказания;\n",
    "- скорость предсказания;\n",
    "- время обучения."
   ]
  },
  {
   "cell_type": "markdown",
   "metadata": {},
   "source": [
    "## Подготовка данных"
   ]
  },
  {
   "cell_type": "code",
   "execution_count": 1,
   "metadata": {},
   "outputs": [],
   "source": [
    "import warnings\n",
    "import time\n",
    "\n",
    "import pandas as pd\n",
    "import numpy as np\n",
    "\n",
    "import seaborn as sns\n",
    "import matplotlib.pyplot as plt\n",
    "\n",
    "from sklearn.model_selection import train_test_split, GridSearchCV\n",
    "from sklearn.metrics import mean_squared_error\n",
    "from sklearn.preprocessing import OneHotEncoder, OrdinalEncoder, StandardScaler\n",
    "\n",
    "from sklearn.dummy import DummyRegressor\n",
    "\n",
    "from sklearn.linear_model import LinearRegression\n",
    "from sklearn.tree import DecisionTreeRegressor\n",
    "from sklearn.ensemble import RandomForestRegressor\n",
    "\n",
    "from catboost import CatBoostRegressor, Pool, cv\n",
    "from lightgbm import LGBMRegressor\n",
    "import category_encoders as ce"
   ]
  },
  {
   "cell_type": "code",
   "execution_count": 2,
   "metadata": {},
   "outputs": [],
   "source": [
    "data = pd.read_csv('/datasets/autos.csv')"
   ]
  },
  {
   "cell_type": "code",
   "execution_count": 3,
   "metadata": {},
   "outputs": [
    {
     "name": "stdout",
     "output_type": "stream",
     "text": [
      "<class 'pandas.core.frame.DataFrame'>\n",
      "RangeIndex: 354369 entries, 0 to 354368\n",
      "Data columns (total 16 columns):\n",
      " #   Column             Non-Null Count   Dtype \n",
      "---  ------             --------------   ----- \n",
      " 0   DateCrawled        354369 non-null  object\n",
      " 1   Price              354369 non-null  int64 \n",
      " 2   VehicleType        316879 non-null  object\n",
      " 3   RegistrationYear   354369 non-null  int64 \n",
      " 4   Gearbox            334536 non-null  object\n",
      " 5   Power              354369 non-null  int64 \n",
      " 6   Model              334664 non-null  object\n",
      " 7   Kilometer          354369 non-null  int64 \n",
      " 8   RegistrationMonth  354369 non-null  int64 \n",
      " 9   FuelType           321474 non-null  object\n",
      " 10  Brand              354369 non-null  object\n",
      " 11  Repaired           283215 non-null  object\n",
      " 12  DateCreated        354369 non-null  object\n",
      " 13  NumberOfPictures   354369 non-null  int64 \n",
      " 14  PostalCode         354369 non-null  int64 \n",
      " 15  LastSeen           354369 non-null  object\n",
      "dtypes: int64(7), object(9)\n",
      "memory usage: 43.3+ MB\n"
     ]
    }
   ],
   "source": [
    "data.info()"
   ]
  },
  {
   "cell_type": "code",
   "execution_count": 4,
   "metadata": {},
   "outputs": [
    {
     "data": {
      "text/html": [
       "<div>\n",
       "<style scoped>\n",
       "    .dataframe tbody tr th:only-of-type {\n",
       "        vertical-align: middle;\n",
       "    }\n",
       "\n",
       "    .dataframe tbody tr th {\n",
       "        vertical-align: top;\n",
       "    }\n",
       "\n",
       "    .dataframe thead th {\n",
       "        text-align: right;\n",
       "    }\n",
       "</style>\n",
       "<table border=\"1\" class=\"dataframe\">\n",
       "  <thead>\n",
       "    <tr style=\"text-align: right;\">\n",
       "      <th></th>\n",
       "      <th>DateCrawled</th>\n",
       "      <th>Price</th>\n",
       "      <th>VehicleType</th>\n",
       "      <th>RegistrationYear</th>\n",
       "      <th>Gearbox</th>\n",
       "      <th>Power</th>\n",
       "      <th>Model</th>\n",
       "      <th>Kilometer</th>\n",
       "      <th>RegistrationMonth</th>\n",
       "      <th>FuelType</th>\n",
       "      <th>Brand</th>\n",
       "      <th>Repaired</th>\n",
       "      <th>DateCreated</th>\n",
       "      <th>NumberOfPictures</th>\n",
       "      <th>PostalCode</th>\n",
       "      <th>LastSeen</th>\n",
       "    </tr>\n",
       "  </thead>\n",
       "  <tbody>\n",
       "    <tr>\n",
       "      <th>0</th>\n",
       "      <td>2016-03-24 11:52:17</td>\n",
       "      <td>480</td>\n",
       "      <td>NaN</td>\n",
       "      <td>1993</td>\n",
       "      <td>manual</td>\n",
       "      <td>0</td>\n",
       "      <td>golf</td>\n",
       "      <td>150000</td>\n",
       "      <td>0</td>\n",
       "      <td>petrol</td>\n",
       "      <td>volkswagen</td>\n",
       "      <td>NaN</td>\n",
       "      <td>2016-03-24 00:00:00</td>\n",
       "      <td>0</td>\n",
       "      <td>70435</td>\n",
       "      <td>2016-04-07 03:16:57</td>\n",
       "    </tr>\n",
       "    <tr>\n",
       "      <th>1</th>\n",
       "      <td>2016-03-24 10:58:45</td>\n",
       "      <td>18300</td>\n",
       "      <td>coupe</td>\n",
       "      <td>2011</td>\n",
       "      <td>manual</td>\n",
       "      <td>190</td>\n",
       "      <td>NaN</td>\n",
       "      <td>125000</td>\n",
       "      <td>5</td>\n",
       "      <td>gasoline</td>\n",
       "      <td>audi</td>\n",
       "      <td>yes</td>\n",
       "      <td>2016-03-24 00:00:00</td>\n",
       "      <td>0</td>\n",
       "      <td>66954</td>\n",
       "      <td>2016-04-07 01:46:50</td>\n",
       "    </tr>\n",
       "    <tr>\n",
       "      <th>2</th>\n",
       "      <td>2016-03-14 12:52:21</td>\n",
       "      <td>9800</td>\n",
       "      <td>suv</td>\n",
       "      <td>2004</td>\n",
       "      <td>auto</td>\n",
       "      <td>163</td>\n",
       "      <td>grand</td>\n",
       "      <td>125000</td>\n",
       "      <td>8</td>\n",
       "      <td>gasoline</td>\n",
       "      <td>jeep</td>\n",
       "      <td>NaN</td>\n",
       "      <td>2016-03-14 00:00:00</td>\n",
       "      <td>0</td>\n",
       "      <td>90480</td>\n",
       "      <td>2016-04-05 12:47:46</td>\n",
       "    </tr>\n",
       "    <tr>\n",
       "      <th>3</th>\n",
       "      <td>2016-03-17 16:54:04</td>\n",
       "      <td>1500</td>\n",
       "      <td>small</td>\n",
       "      <td>2001</td>\n",
       "      <td>manual</td>\n",
       "      <td>75</td>\n",
       "      <td>golf</td>\n",
       "      <td>150000</td>\n",
       "      <td>6</td>\n",
       "      <td>petrol</td>\n",
       "      <td>volkswagen</td>\n",
       "      <td>no</td>\n",
       "      <td>2016-03-17 00:00:00</td>\n",
       "      <td>0</td>\n",
       "      <td>91074</td>\n",
       "      <td>2016-03-17 17:40:17</td>\n",
       "    </tr>\n",
       "    <tr>\n",
       "      <th>4</th>\n",
       "      <td>2016-03-31 17:25:20</td>\n",
       "      <td>3600</td>\n",
       "      <td>small</td>\n",
       "      <td>2008</td>\n",
       "      <td>manual</td>\n",
       "      <td>69</td>\n",
       "      <td>fabia</td>\n",
       "      <td>90000</td>\n",
       "      <td>7</td>\n",
       "      <td>gasoline</td>\n",
       "      <td>skoda</td>\n",
       "      <td>no</td>\n",
       "      <td>2016-03-31 00:00:00</td>\n",
       "      <td>0</td>\n",
       "      <td>60437</td>\n",
       "      <td>2016-04-06 10:17:21</td>\n",
       "    </tr>\n",
       "  </tbody>\n",
       "</table>\n",
       "</div>"
      ],
      "text/plain": [
       "           DateCrawled  Price VehicleType  RegistrationYear Gearbox  Power  \\\n",
       "0  2016-03-24 11:52:17    480         NaN              1993  manual      0   \n",
       "1  2016-03-24 10:58:45  18300       coupe              2011  manual    190   \n",
       "2  2016-03-14 12:52:21   9800         suv              2004    auto    163   \n",
       "3  2016-03-17 16:54:04   1500       small              2001  manual     75   \n",
       "4  2016-03-31 17:25:20   3600       small              2008  manual     69   \n",
       "\n",
       "   Model  Kilometer  RegistrationMonth  FuelType       Brand Repaired  \\\n",
       "0   golf     150000                  0    petrol  volkswagen      NaN   \n",
       "1    NaN     125000                  5  gasoline        audi      yes   \n",
       "2  grand     125000                  8  gasoline        jeep      NaN   \n",
       "3   golf     150000                  6    petrol  volkswagen       no   \n",
       "4  fabia      90000                  7  gasoline       skoda       no   \n",
       "\n",
       "           DateCreated  NumberOfPictures  PostalCode             LastSeen  \n",
       "0  2016-03-24 00:00:00                 0       70435  2016-04-07 03:16:57  \n",
       "1  2016-03-24 00:00:00                 0       66954  2016-04-07 01:46:50  \n",
       "2  2016-03-14 00:00:00                 0       90480  2016-04-05 12:47:46  \n",
       "3  2016-03-17 00:00:00                 0       91074  2016-03-17 17:40:17  \n",
       "4  2016-03-31 00:00:00                 0       60437  2016-04-06 10:17:21  "
      ]
     },
     "execution_count": 4,
     "metadata": {},
     "output_type": "execute_result"
    }
   ],
   "source": [
    "data.head()"
   ]
  },
  {
   "cell_type": "code",
   "execution_count": 5,
   "metadata": {},
   "outputs": [
    {
     "data": {
      "text/plain": [
       "DateCrawled              0\n",
       "Price                    0\n",
       "VehicleType          37490\n",
       "RegistrationYear         0\n",
       "Gearbox              19833\n",
       "Power                    0\n",
       "Model                19705\n",
       "Kilometer                0\n",
       "RegistrationMonth        0\n",
       "FuelType             32895\n",
       "Brand                    0\n",
       "Repaired             71154\n",
       "DateCreated              0\n",
       "NumberOfPictures         0\n",
       "PostalCode               0\n",
       "LastSeen                 0\n",
       "dtype: int64"
      ]
     },
     "execution_count": 5,
     "metadata": {},
     "output_type": "execute_result"
    }
   ],
   "source": [
    "data.isna().sum()"
   ]
  },
  {
   "cell_type": "code",
   "execution_count": 6,
   "metadata": {},
   "outputs": [
    {
     "data": {
      "text/plain": [
       "sedan          91457\n",
       "small          79831\n",
       "wagon          65166\n",
       "NaN            37490\n",
       "bus            28775\n",
       "convertible    20203\n",
       "coupe          16163\n",
       "suv            11996\n",
       "other           3288\n",
       "Name: VehicleType, dtype: int64"
      ]
     },
     "execution_count": 6,
     "metadata": {},
     "output_type": "execute_result"
    }
   ],
   "source": [
    "#тип автомобильного кузова\n",
    "data['VehicleType'].value_counts(dropna=False)"
   ]
  },
  {
   "cell_type": "code",
   "execution_count": 7,
   "metadata": {},
   "outputs": [
    {
     "data": {
      "text/plain": [
       "manual    268251\n",
       "auto       66285\n",
       "NaN        19833\n",
       "Name: Gearbox, dtype: int64"
      ]
     },
     "execution_count": 7,
     "metadata": {},
     "output_type": "execute_result"
    }
   ],
   "source": [
    "#тип коробки передач\n",
    "data['Gearbox'].value_counts(dropna=False)"
   ]
  },
  {
   "cell_type": "code",
   "execution_count": 8,
   "metadata": {},
   "outputs": [
    {
     "data": {
      "text/plain": [
       "golf                  29232\n",
       "other                 24421\n",
       "3er                   19761\n",
       "NaN                   19705\n",
       "polo                  13066\n",
       "                      ...  \n",
       "i3                        8\n",
       "serie_3                   4\n",
       "rangerover                4\n",
       "range_rover_evoque        2\n",
       "serie_1                   2\n",
       "Name: Model, Length: 251, dtype: int64"
      ]
     },
     "execution_count": 8,
     "metadata": {},
     "output_type": "execute_result"
    }
   ],
   "source": [
    "#модель автомобиля\n",
    "data['Model'].value_counts(dropna=False)"
   ]
  },
  {
   "cell_type": "code",
   "execution_count": 9,
   "metadata": {},
   "outputs": [
    {
     "data": {
      "text/plain": [
       "petrol      216352\n",
       "gasoline     98720\n",
       "NaN          32895\n",
       "lpg           5310\n",
       "cng            565\n",
       "hybrid         233\n",
       "other          204\n",
       "electric        90\n",
       "Name: FuelType, dtype: int64"
      ]
     },
     "execution_count": 9,
     "metadata": {},
     "output_type": "execute_result"
    }
   ],
   "source": [
    "#тип топлива\n",
    "data['FuelType'].value_counts(dropna=False)"
   ]
  },
  {
   "cell_type": "code",
   "execution_count": 10,
   "metadata": {},
   "outputs": [
    {
     "data": {
      "text/plain": [
       "no     247161\n",
       "NaN     71154\n",
       "yes     36054\n",
       "Name: Repaired, dtype: int64"
      ]
     },
     "execution_count": 10,
     "metadata": {},
     "output_type": "execute_result"
    }
   ],
   "source": [
    "#была машина в ремонте или нет\n",
    "data['Repaired'].value_counts(dropna=False)"
   ]
  },
  {
   "cell_type": "markdown",
   "metadata": {},
   "source": [
    "В 5 столбцах были найдены пропуски, все они относятся к категориальным признакам. Возможно, причиной могла послужить невнимательность или же неосведомленность пользователей «Не бит, не крашен». \n",
    "\n",
    "Так как значения NaN могут привести к некорректным результатам при работе с данными, поставим своего рода //заглушку со значением - indefined "
   ]
  },
  {
   "cell_type": "code",
   "execution_count": 11,
   "metadata": {},
   "outputs": [
    {
     "data": {
      "text/plain": [
       "DateCrawled          0\n",
       "Price                0\n",
       "VehicleType          0\n",
       "RegistrationYear     0\n",
       "Gearbox              0\n",
       "Power                0\n",
       "Model                0\n",
       "Kilometer            0\n",
       "RegistrationMonth    0\n",
       "FuelType             0\n",
       "Brand                0\n",
       "Repaired             0\n",
       "DateCreated          0\n",
       "NumberOfPictures     0\n",
       "PostalCode           0\n",
       "LastSeen             0\n",
       "dtype: int64"
      ]
     },
     "execution_count": 11,
     "metadata": {},
     "output_type": "execute_result"
    }
   ],
   "source": [
    "#обработка пропусков\n",
    "data = data.fillna('indefined')\n",
    "data.isna().sum()"
   ]
  },
  {
   "cell_type": "markdown",
   "metadata": {},
   "source": [
    "Всё, пропуски обработаны, двигаемся дальше...\n",
    "\n",
    "Проверим данные на наличие дублей"
   ]
  },
  {
   "cell_type": "code",
   "execution_count": 12,
   "metadata": {},
   "outputs": [
    {
     "data": {
      "text/plain": [
       "4"
      ]
     },
     "execution_count": 12,
     "metadata": {},
     "output_type": "execute_result"
    }
   ],
   "source": [
    "data.duplicated().sum()"
   ]
  },
  {
   "cell_type": "code",
   "execution_count": 13,
   "metadata": {},
   "outputs": [
    {
     "data": {
      "text/plain": [
       "0"
      ]
     },
     "execution_count": 13,
     "metadata": {},
     "output_type": "execute_result"
    }
   ],
   "source": [
    "data = data.drop_duplicates().reset_index(drop=True)\n",
    "data.duplicated().sum()"
   ]
  },
  {
   "cell_type": "code",
   "execution_count": 14,
   "metadata": {},
   "outputs": [
    {
     "data": {
      "text/plain": [
       "<AxesSubplot:>"
      ]
     },
     "execution_count": 14,
     "metadata": {},
     "output_type": "execute_result"
    },
    {
     "data": {
      "image/png": "[encoded data removed]",
      "text/plain": [
       "<Figure size 432x288 with 2 Axes>"
      ]
     },
     "metadata": {
      "needs_background": "light"
     },
     "output_type": "display_data"
    }
   ],
   "source": [
    "sns.heatmap(\n",
    "    data.corr(), \n",
    "    annot = True, \n",
    "    fmt='.1g', \n",
    "    linewidths=2, \n",
    "    linecolor='black')"
   ]
  },
  {
   "cell_type": "code",
   "execution_count": 15,
   "metadata": {},
   "outputs": [
    {
     "data": {
      "text/plain": [
       "0    354365\n",
       "Name: NumberOfPictures, dtype: int64"
      ]
     },
     "execution_count": 15,
     "metadata": {},
     "output_type": "execute_result"
    }
   ],
   "source": [
    "data['NumberOfPictures'].value_counts()"
   ]
  },
  {
   "cell_type": "markdown",
   "metadata": {},
   "source": [
    "Целевой признак - Price. \n",
    "Нужно спрогнозровать рыночную стоимость автомобиля. Среди данных о технических характеристиках, комплектации и ценах других автомобилей, имеются неинформативные признаки для прогноза:\n",
    "* PostalCode — почтовый индекс владельца анкеты (пользователя)\n",
    "* DateCrawled — дата скачивания анкеты из базы\n",
    "* DateCreated — дата создания анкеты\n",
    "* RegistrationMonth — месяц регистрации автомобиля\n",
    "* LastSeen — дата последней активности пользователя\n",
    "* NumberOfPictures — количество фотографий автомобиля\n",
    "\n",
    "От этих признаков мы избавимся. NumberOfPictures содержит в себе только одно единственное значение: 0. Оставшиеся признаки никак не влияют на формирование цены."
   ]
  },
  {
   "cell_type": "code",
   "execution_count": 16,
   "metadata": {},
   "outputs": [],
   "source": [
    "data = data.drop(['PostalCode', 'DateCrawled', 'LastSeen', 'NumberOfPictures', 'RegistrationMonth'], axis=1)"
   ]
  },
  {
   "cell_type": "code",
   "execution_count": 17,
   "metadata": {},
   "outputs": [],
   "source": [
    "data = data.drop(['DateCreated'], axis=1)"
   ]
  },
  {
   "cell_type": "code",
   "execution_count": 18,
   "metadata": {},
   "outputs": [
    {
     "name": "stdout",
     "output_type": "stream",
     "text": [
      "<class 'pandas.core.frame.DataFrame'>\n",
      "RangeIndex: 354365 entries, 0 to 354364\n",
      "Data columns (total 10 columns):\n",
      " #   Column            Non-Null Count   Dtype \n",
      "---  ------            --------------   ----- \n",
      " 0   Price             354365 non-null  int64 \n",
      " 1   VehicleType       354365 non-null  object\n",
      " 2   RegistrationYear  354365 non-null  int64 \n",
      " 3   Gearbox           354365 non-null  object\n",
      " 4   Power             354365 non-null  int64 \n",
      " 5   Model             354365 non-null  object\n",
      " 6   Kilometer         354365 non-null  int64 \n",
      " 7   FuelType          354365 non-null  object\n",
      " 8   Brand             354365 non-null  object\n",
      " 9   Repaired          354365 non-null  object\n",
      "dtypes: int64(4), object(6)\n",
      "memory usage: 27.0+ MB\n"
     ]
    }
   ],
   "source": [
    "data.info()"
   ]
  },
  {
   "cell_type": "markdown",
   "metadata": {},
   "source": [
    "Неинформативные признаки удалены, далее проверим данные на аномалии "
   ]
  },
  {
   "cell_type": "code",
   "execution_count": 19,
   "metadata": {},
   "outputs": [
    {
     "data": {
      "text/html": [
       "<div>\n",
       "<style scoped>\n",
       "    .dataframe tbody tr th:only-of-type {\n",
       "        vertical-align: middle;\n",
       "    }\n",
       "\n",
       "    .dataframe tbody tr th {\n",
       "        vertical-align: top;\n",
       "    }\n",
       "\n",
       "    .dataframe thead th {\n",
       "        text-align: right;\n",
       "    }\n",
       "</style>\n",
       "<table border=\"1\" class=\"dataframe\">\n",
       "  <thead>\n",
       "    <tr style=\"text-align: right;\">\n",
       "      <th></th>\n",
       "      <th>Price</th>\n",
       "      <th>RegistrationYear</th>\n",
       "      <th>Power</th>\n",
       "      <th>Kilometer</th>\n",
       "    </tr>\n",
       "  </thead>\n",
       "  <tbody>\n",
       "    <tr>\n",
       "      <th>count</th>\n",
       "      <td>354365.000000</td>\n",
       "      <td>354365.000000</td>\n",
       "      <td>354365.000000</td>\n",
       "      <td>354365.000000</td>\n",
       "    </tr>\n",
       "    <tr>\n",
       "      <th>mean</th>\n",
       "      <td>4416.679830</td>\n",
       "      <td>2004.234481</td>\n",
       "      <td>110.093816</td>\n",
       "      <td>128211.363989</td>\n",
       "    </tr>\n",
       "    <tr>\n",
       "      <th>std</th>\n",
       "      <td>4514.176349</td>\n",
       "      <td>90.228466</td>\n",
       "      <td>189.851330</td>\n",
       "      <td>37905.083858</td>\n",
       "    </tr>\n",
       "    <tr>\n",
       "      <th>min</th>\n",
       "      <td>0.000000</td>\n",
       "      <td>1000.000000</td>\n",
       "      <td>0.000000</td>\n",
       "      <td>5000.000000</td>\n",
       "    </tr>\n",
       "    <tr>\n",
       "      <th>25%</th>\n",
       "      <td>1050.000000</td>\n",
       "      <td>1999.000000</td>\n",
       "      <td>69.000000</td>\n",
       "      <td>125000.000000</td>\n",
       "    </tr>\n",
       "    <tr>\n",
       "      <th>50%</th>\n",
       "      <td>2700.000000</td>\n",
       "      <td>2003.000000</td>\n",
       "      <td>105.000000</td>\n",
       "      <td>150000.000000</td>\n",
       "    </tr>\n",
       "    <tr>\n",
       "      <th>75%</th>\n",
       "      <td>6400.000000</td>\n",
       "      <td>2008.000000</td>\n",
       "      <td>143.000000</td>\n",
       "      <td>150000.000000</td>\n",
       "    </tr>\n",
       "    <tr>\n",
       "      <th>max</th>\n",
       "      <td>20000.000000</td>\n",
       "      <td>9999.000000</td>\n",
       "      <td>20000.000000</td>\n",
       "      <td>150000.000000</td>\n",
       "    </tr>\n",
       "  </tbody>\n",
       "</table>\n",
       "</div>"
      ],
      "text/plain": [
       "               Price  RegistrationYear          Power      Kilometer\n",
       "count  354365.000000     354365.000000  354365.000000  354365.000000\n",
       "mean     4416.679830       2004.234481     110.093816  128211.363989\n",
       "std      4514.176349         90.228466     189.851330   37905.083858\n",
       "min         0.000000       1000.000000       0.000000    5000.000000\n",
       "25%      1050.000000       1999.000000      69.000000  125000.000000\n",
       "50%      2700.000000       2003.000000     105.000000  150000.000000\n",
       "75%      6400.000000       2008.000000     143.000000  150000.000000\n",
       "max     20000.000000       9999.000000   20000.000000  150000.000000"
      ]
     },
     "execution_count": 19,
     "metadata": {},
     "output_type": "execute_result"
    }
   ],
   "source": [
    "data.describe()"
   ]
  },
  {
   "cell_type": "code",
   "execution_count": 20,
   "metadata": {},
   "outputs": [
    {
     "data": {
      "image/png": "[encoded data removed]",
      "text/plain": [
       "<Figure size 720x504 with 1 Axes>"
      ]
     },
     "metadata": {
      "needs_background": "light"
     },
     "output_type": "display_data"
    }
   ],
   "source": [
    "data.boxplot(['Price'],figsize=(10, 7))\n",
    "\n",
    "plt.title('Распределение стоимости автомобилей')\n",
    "plt.ylabel('Стоимость в Евро')\n",
    "\n",
    "plt.show()"
   ]
  },
  {
   "cell_type": "markdown",
   "metadata": {},
   "source": [
    "На диаграмме размаха можно увидеть что Q2 равен 2.7 тысяч евро. Выбрасы начинаются к отметке ~ 14 т.е. Но для цен автомобилей эти отметки приемлемы. Минимум начинается с отметки 0, обработаем значения так, чтобы прайс начинался с 200 евро"
   ]
  },
  {
   "cell_type": "code",
   "execution_count": 21,
   "metadata": {},
   "outputs": [],
   "source": [
    "data = data.query('Price > 200')"
   ]
  },
  {
   "cell_type": "markdown",
   "metadata": {},
   "source": [
    "<div class=\"alert alert-warning\">\n",
    "<b>Комментарий 👉</b>\n",
    "\n",
    "(Отвлечение ... что-то менять не надо) Мне это напомнило один известный фильм, где автомобиль за 500 долларов был способен доехать до Сан-Франциско и обратно ))))\n",
    "</div>"
   ]
  },
  {
   "cell_type": "code",
   "execution_count": 22,
   "metadata": {},
   "outputs": [
    {
     "data": {
      "image/png": "[encoded data removed]",
      "text/plain": [
       "<Figure size 720x504 with 1 Axes>"
      ]
     },
     "metadata": {},
     "output_type": "display_data"
    }
   ],
   "source": [
    "sns.set_style('darkgrid')\n",
    "\n",
    "data['Price'].hist(bins=50,figsize=(10, 7))\n",
    "\n",
    "plt.title('Распределение стоимости автомобилей')\n",
    "plt.xlabel('Стоимость в Евро')\n",
    "plt.ylabel('Количество')\n",
    "\n",
    "plt.show()"
   ]
  },
  {
   "cell_type": "code",
   "execution_count": 23,
   "metadata": {},
   "outputs": [
    {
     "data": {
      "image/png": "[encoded data removed]",
      "text/plain": [
       "<Figure size 720x504 with 1 Axes>"
      ]
     },
     "metadata": {},
     "output_type": "display_data"
    }
   ],
   "source": [
    "data.boxplot(['Kilometer'],figsize=(10, 7))\n",
    "plt.title('Пробег (км)')\n",
    "plt.show()"
   ]
  },
  {
   "cell_type": "markdown",
   "metadata": {},
   "source": [
    "Занчения признака Kilometer в пределах нормы, не требуют доработки "
   ]
  },
  {
   "cell_type": "markdown",
   "metadata": {},
   "source": [
    "<div class=\"alert alert-warning\">\n",
    "<b>Комментарий 👉</b>\n",
    "\n",
    "Верно! Пробег я бы тоже не трогал. Тут сложно сказать что выброс, что не выброс. С одной стороны \"старая\" машина могла большую часть жизни провести в гараже, а с другой стороны, свежий экземпляр накатать в такси сотни тысяч миль.\n",
    "</div>"
   ]
  },
  {
   "cell_type": "code",
   "execution_count": 24,
   "metadata": {},
   "outputs": [
    {
     "data": {
      "image/png": "[encoded data removed]",
      "text/plain": [
       "<Figure size 720x504 with 1 Axes>"
      ]
     },
     "metadata": {},
     "output_type": "display_data"
    }
   ],
   "source": [
    "data.boxplot(['RegistrationYear'],figsize=(10, 7))\n",
    "plt.title('Год регистрации автомобиля')\n",
    "plt.show()"
   ]
  },
  {
   "cell_type": "code",
   "execution_count": 25,
   "metadata": {},
   "outputs": [],
   "source": [
    "#срез временного отрезка\n",
    "data = data.query('RegistrationYear >= 1950 & RegistrationYear <= 2016')"
   ]
  },
  {
   "cell_type": "code",
   "execution_count": 26,
   "metadata": {},
   "outputs": [
    {
     "data": {
      "image/png": "[encoded data removed]",
      "text/plain": [
       "<Figure size 720x504 with 1 Axes>"
      ]
     },
     "metadata": {},
     "output_type": "display_data"
    }
   ],
   "source": [
    "sns.set_style('darkgrid')\n",
    "\n",
    "data['RegistrationYear'].hist(bins=50,figsize=(10, 7))\n",
    "\n",
    "plt.title('Год регистрации автомобиля')\n",
    "plt.xlabel('Года')\n",
    "plt.ylabel('Количество')\n",
    "\n",
    "plt.show()"
   ]
  },
  {
   "cell_type": "code",
   "execution_count": 27,
   "metadata": {},
   "outputs": [
    {
     "data": {
      "image/png": "[encoded data removed]",
      "text/plain": [
       "<Figure size 720x504 with 1 Axes>"
      ]
     },
     "metadata": {},
     "output_type": "display_data"
    }
   ],
   "source": [
    "data.boxplot(['Power'],figsize=(10, 7))\n",
    "plt.title('Мощность (л. с.)')\n",
    "plt.show()"
   ]
  },
  {
   "cell_type": "markdown",
   "metadata": {},
   "source": [
    "Современный автомобиль имеет двигатель мощностью как минимум 120 лошадиных сил. Мотору маленького автомобиля достаточно 70 лошадей. Максимальное значение равно 2000 л.с."
   ]
  },
  {
   "cell_type": "markdown",
   "metadata": {},
   "source": [
    "Q1 равен 75 л.с. \n",
    "\n",
    "Q2 равен 105 л.с.\n",
    "\n",
    "С учетом этого обработаем признак следующим образом:"
   ]
  },
  {
   "cell_type": "code",
   "execution_count": 28,
   "metadata": {},
   "outputs": [],
   "source": [
    "#возьмем данные меньше 2000\n",
    "data = data.query('Power <= 2000')"
   ]
  },
  {
   "cell_type": "code",
   "execution_count": 29,
   "metadata": {},
   "outputs": [],
   "source": [
    "#заполним 0 медианой\n",
    "med  = data['Power'].median()\n",
    "data['Power'] = data['Power'].replace(0, med)\n",
    "\n",
    "#изменим тип данных на int\n",
    "data['Power'] = data['Power'].astype('int')"
   ]
  },
  {
   "cell_type": "code",
   "execution_count": 30,
   "metadata": {},
   "outputs": [
    {
     "data": {
      "image/png": "[encoded data removed]",
      "text/plain": [
       "<Figure size 720x504 with 1 Axes>"
      ]
     },
     "metadata": {},
     "output_type": "display_data"
    }
   ],
   "source": [
    "sns.set_style('darkgrid')\n",
    "\n",
    "data['Power'].hist(bins=50,figsize=(10, 7))\n",
    "\n",
    "plt.title('Mощность (л. с.)')\n",
    "plt.show()"
   ]
  },
  {
   "cell_type": "code",
   "execution_count": 31,
   "metadata": {
    "scrolled": true
   },
   "outputs": [
    {
     "name": "stdout",
     "output_type": "stream",
     "text": [
      "<class 'pandas.core.frame.DataFrame'>\n",
      "Int64Index: 321113 entries, 0 to 354364\n",
      "Data columns (total 10 columns):\n",
      " #   Column            Non-Null Count   Dtype \n",
      "---  ------            --------------   ----- \n",
      " 0   Price             321113 non-null  int64 \n",
      " 1   VehicleType       321113 non-null  object\n",
      " 2   RegistrationYear  321113 non-null  int64 \n",
      " 3   Gearbox           321113 non-null  object\n",
      " 4   Power             321113 non-null  int64 \n",
      " 5   Model             321113 non-null  object\n",
      " 6   Kilometer         321113 non-null  int64 \n",
      " 7   FuelType          321113 non-null  object\n",
      " 8   Brand             321113 non-null  object\n",
      " 9   Repaired          321113 non-null  object\n",
      "dtypes: int64(4), object(6)\n",
      "memory usage: 26.9+ MB\n"
     ]
    }
   ],
   "source": [
    "data.info()"
   ]
  },
  {
   "cell_type": "markdown",
   "metadata": {},
   "source": [
    "**ВЫВОД 1:**\n",
    "\n",
    "На этапе предобработки:\n",
    "- данные были проверены на наличение пропусков;\n",
    "- обработаны дубликаты;\n",
    "- изучены корреляционные зависимости между целевым и обучающими признаками;\n",
    "- отсечены неинформативные признаки;\n",
    "- обработы выбросы в данных.\n",
    "\n",
    "Из 16 начальных признаков, осталось 10:\n",
    "\n",
    "**object:**\n",
    "* VehicleType, Gearbox, Model, FuelType, Brand, Repaired\n",
    "\n",
    "**int64:**\n",
    "* RegistrationYear, Kilometer, Power, Price\n"
   ]
  },
  {
   "cell_type": "markdown",
   "metadata": {},
   "source": [
    "## Обучение моделей"
   ]
  },
  {
   "cell_type": "code",
   "execution_count": 32,
   "metadata": {},
   "outputs": [],
   "source": [
    "features_train, features_valid, target_train, target_valid = train_test_split(\n",
    "    data.drop('Price', axis=1), data.Price, test_size=0.5, random_state=12345)\n",
    "\n",
    "features_test, features_valid, target_test, target_valid = train_test_split(\n",
    "    features_valid, target_valid, test_size=0.5, random_state=12345)"
   ]
  },
  {
   "cell_type": "code",
   "execution_count": 33,
   "metadata": {},
   "outputs": [
    {
     "name": "stdout",
     "output_type": "stream",
     "text": [
      "Тренировочная выборка: (160556, 9)\n",
      "Валидационная выборка: (80279, 9)\n",
      "Тестовая выборка: (80278, 9)\n",
      "\n",
      "Целевой признак тренировочная выборки: (160556,)\n",
      "Целевой признак валидационной выборки: (80279,)\n",
      "Целевой признак тестовой выборки: (80278,)\n"
     ]
    }
   ],
   "source": [
    "print('Тренировочная выборка:', features_train.shape)\n",
    "print('Валидационная выборка:', features_valid.shape)\n",
    "print('Тестовая выборка:', features_test.shape)\n",
    "print()\n",
    "print('Целевой признак тренировочная выборки:', target_train.shape)\n",
    "print('Целевой признак валидационной выборки:', target_valid.shape)\n",
    "print('Целевой признак тестовой выборки:', target_test.shape)"
   ]
  },
  {
   "cell_type": "code",
   "execution_count": 34,
   "metadata": {},
   "outputs": [
    {
     "data": {
      "text/plain": [
       "TargetEncoder(cols=['VehicleType', 'Gearbox', 'Model', 'FuelType', 'Brand',\n",
       "                    'Repaired'])"
      ]
     },
     "execution_count": 34,
     "metadata": {},
     "output_type": "execute_result"
    }
   ],
   "source": [
    "encoder = ce.TargetEncoder()\n",
    "encoder.fit(features_train, target_train)"
   ]
  },
  {
   "cell_type": "code",
   "execution_count": 35,
   "metadata": {},
   "outputs": [],
   "source": [
    "features_train_te = encoder.transform(features_train)"
   ]
  },
  {
   "cell_type": "code",
   "execution_count": 36,
   "metadata": {},
   "outputs": [],
   "source": [
    "features_valid_te = encoder.transform(features_valid)"
   ]
  },
  {
   "cell_type": "code",
   "execution_count": 37,
   "metadata": {},
   "outputs": [],
   "source": [
    "features_test_te = encoder.transform(features_test)"
   ]
  },
  {
   "cell_type": "code",
   "execution_count": 38,
   "metadata": {},
   "outputs": [
    {
     "name": "stdout",
     "output_type": "stream",
     "text": [
      "Тренировочная выборка: (160556, 9)\n",
      "Валидационная выборка: (80279, 9)\n",
      "Тестовая выборка: (80278, 9)\n"
     ]
    }
   ],
   "source": [
    "print('Тренировочная выборка:', features_train_te.shape)\n",
    "print('Валидационная выборка:', features_valid_te.shape)\n",
    "print('Тестовая выборка:', features_test_te.shape)"
   ]
  },
  {
   "cell_type": "code",
   "execution_count": 39,
   "metadata": {},
   "outputs": [
    {
     "data": {
      "text/html": [
       "<div>\n",
       "<style scoped>\n",
       "    .dataframe tbody tr th:only-of-type {\n",
       "        vertical-align: middle;\n",
       "    }\n",
       "\n",
       "    .dataframe tbody tr th {\n",
       "        vertical-align: top;\n",
       "    }\n",
       "\n",
       "    .dataframe thead th {\n",
       "        text-align: right;\n",
       "    }\n",
       "</style>\n",
       "<table border=\"1\" class=\"dataframe\">\n",
       "  <thead>\n",
       "    <tr style=\"text-align: right;\">\n",
       "      <th></th>\n",
       "      <th>VehicleType</th>\n",
       "      <th>RegistrationYear</th>\n",
       "      <th>Gearbox</th>\n",
       "      <th>Power</th>\n",
       "      <th>Model</th>\n",
       "      <th>Kilometer</th>\n",
       "      <th>FuelType</th>\n",
       "      <th>Brand</th>\n",
       "      <th>Repaired</th>\n",
       "    </tr>\n",
       "  </thead>\n",
       "  <tbody>\n",
       "    <tr>\n",
       "      <th>323518</th>\n",
       "      <td>2836.600384</td>\n",
       "      <td>2006</td>\n",
       "      <td>4204.06543</td>\n",
       "      <td>60</td>\n",
       "      <td>2949.661624</td>\n",
       "      <td>80000</td>\n",
       "      <td>3967.857526</td>\n",
       "      <td>3495.420578</td>\n",
       "      <td>5442.939391</td>\n",
       "    </tr>\n",
       "    <tr>\n",
       "      <th>280472</th>\n",
       "      <td>5042.508221</td>\n",
       "      <td>2004</td>\n",
       "      <td>4204.06543</td>\n",
       "      <td>125</td>\n",
       "      <td>2786.631910</td>\n",
       "      <td>150000</td>\n",
       "      <td>3967.857526</td>\n",
       "      <td>3495.420578</td>\n",
       "      <td>5442.939391</td>\n",
       "    </tr>\n",
       "  </tbody>\n",
       "</table>\n",
       "</div>"
      ],
      "text/plain": [
       "        VehicleType  RegistrationYear     Gearbox  Power        Model  \\\n",
       "323518  2836.600384              2006  4204.06543     60  2949.661624   \n",
       "280472  5042.508221              2004  4204.06543    125  2786.631910   \n",
       "\n",
       "        Kilometer     FuelType        Brand     Repaired  \n",
       "323518      80000  3967.857526  3495.420578  5442.939391  \n",
       "280472     150000  3967.857526  3495.420578  5442.939391  "
      ]
     },
     "execution_count": 39,
     "metadata": {},
     "output_type": "execute_result"
    }
   ],
   "source": [
    "features_train_te.head(2)"
   ]
  },
  {
   "cell_type": "code",
   "execution_count": 40,
   "metadata": {},
   "outputs": [
    {
     "data": {
      "text/html": [
       "<div>\n",
       "<style scoped>\n",
       "    .dataframe tbody tr th:only-of-type {\n",
       "        vertical-align: middle;\n",
       "    }\n",
       "\n",
       "    .dataframe tbody tr th {\n",
       "        vertical-align: top;\n",
       "    }\n",
       "\n",
       "    .dataframe thead th {\n",
       "        text-align: right;\n",
       "    }\n",
       "</style>\n",
       "<table border=\"1\" class=\"dataframe\">\n",
       "  <thead>\n",
       "    <tr style=\"text-align: right;\">\n",
       "      <th></th>\n",
       "      <th>VehicleType</th>\n",
       "      <th>RegistrationYear</th>\n",
       "      <th>Gearbox</th>\n",
       "      <th>Power</th>\n",
       "      <th>Model</th>\n",
       "      <th>Kilometer</th>\n",
       "      <th>FuelType</th>\n",
       "      <th>Brand</th>\n",
       "      <th>Repaired</th>\n",
       "    </tr>\n",
       "  </thead>\n",
       "  <tbody>\n",
       "    <tr>\n",
       "      <th>64084</th>\n",
       "      <td>4892.299898</td>\n",
       "      <td>1997</td>\n",
       "      <td>4204.06543</td>\n",
       "      <td>170</td>\n",
       "      <td>6641.925654</td>\n",
       "      <td>150000</td>\n",
       "      <td>3967.857526</td>\n",
       "      <td>6485.572898</td>\n",
       "      <td>5442.939391</td>\n",
       "    </tr>\n",
       "    <tr>\n",
       "      <th>332276</th>\n",
       "      <td>5042.508221</td>\n",
       "      <td>2006</td>\n",
       "      <td>4204.06543</td>\n",
       "      <td>140</td>\n",
       "      <td>4668.913811</td>\n",
       "      <td>150000</td>\n",
       "      <td>6752.287716</td>\n",
       "      <td>4661.291102</td>\n",
       "      <td>3000.369102</td>\n",
       "    </tr>\n",
       "  </tbody>\n",
       "</table>\n",
       "</div>"
      ],
      "text/plain": [
       "        VehicleType  RegistrationYear     Gearbox  Power        Model  \\\n",
       "64084   4892.299898              1997  4204.06543    170  6641.925654   \n",
       "332276  5042.508221              2006  4204.06543    140  4668.913811   \n",
       "\n",
       "        Kilometer     FuelType        Brand     Repaired  \n",
       "64084      150000  3967.857526  6485.572898  5442.939391  \n",
       "332276     150000  6752.287716  4661.291102  3000.369102  "
      ]
     },
     "execution_count": 40,
     "metadata": {},
     "output_type": "execute_result"
    }
   ],
   "source": [
    "features_valid_te.head(2)"
   ]
  },
  {
   "cell_type": "code",
   "execution_count": 41,
   "metadata": {},
   "outputs": [
    {
     "data": {
      "text/html": [
       "<div>\n",
       "<style scoped>\n",
       "    .dataframe tbody tr th:only-of-type {\n",
       "        vertical-align: middle;\n",
       "    }\n",
       "\n",
       "    .dataframe tbody tr th {\n",
       "        vertical-align: top;\n",
       "    }\n",
       "\n",
       "    .dataframe thead th {\n",
       "        text-align: right;\n",
       "    }\n",
       "</style>\n",
       "<table border=\"1\" class=\"dataframe\">\n",
       "  <thead>\n",
       "    <tr style=\"text-align: right;\">\n",
       "      <th></th>\n",
       "      <th>VehicleType</th>\n",
       "      <th>RegistrationYear</th>\n",
       "      <th>Gearbox</th>\n",
       "      <th>Power</th>\n",
       "      <th>Model</th>\n",
       "      <th>Kilometer</th>\n",
       "      <th>FuelType</th>\n",
       "      <th>Brand</th>\n",
       "      <th>Repaired</th>\n",
       "    </tr>\n",
       "  </thead>\n",
       "  <tbody>\n",
       "    <tr>\n",
       "      <th>26269</th>\n",
       "      <td>5042.508221</td>\n",
       "      <td>2012</td>\n",
       "      <td>7119.379511</td>\n",
       "      <td>140</td>\n",
       "      <td>4668.913811</td>\n",
       "      <td>150000</td>\n",
       "      <td>6752.287716</td>\n",
       "      <td>4661.291102</td>\n",
       "      <td>5442.939391</td>\n",
       "    </tr>\n",
       "    <tr>\n",
       "      <th>222477</th>\n",
       "      <td>4892.299898</td>\n",
       "      <td>1995</td>\n",
       "      <td>4204.065430</td>\n",
       "      <td>105</td>\n",
       "      <td>3237.784702</td>\n",
       "      <td>90000</td>\n",
       "      <td>3967.857526</td>\n",
       "      <td>2956.335150</td>\n",
       "      <td>2183.939569</td>\n",
       "    </tr>\n",
       "  </tbody>\n",
       "</table>\n",
       "</div>"
      ],
      "text/plain": [
       "        VehicleType  RegistrationYear      Gearbox  Power        Model  \\\n",
       "26269   5042.508221              2012  7119.379511    140  4668.913811   \n",
       "222477  4892.299898              1995  4204.065430    105  3237.784702   \n",
       "\n",
       "        Kilometer     FuelType        Brand     Repaired  \n",
       "26269      150000  6752.287716  4661.291102  5442.939391  \n",
       "222477      90000  3967.857526  2956.335150  2183.939569  "
      ]
     },
     "execution_count": 41,
     "metadata": {},
     "output_type": "execute_result"
    }
   ],
   "source": [
    "features_test_te.head(2)"
   ]
  },
  {
   "cell_type": "markdown",
   "metadata": {},
   "source": [
    "У признаков разный масштаб, чтобы избежать ловушки необходимо их стандартизировать. Это можно сделать с StandardScaler()"
   ]
  },
  {
   "cell_type": "code",
   "execution_count": 42,
   "metadata": {},
   "outputs": [],
   "source": [
    "#Создадим список всех численных признаков\n",
    "numeric = ['RegistrationYear', 'Kilometer', 'Power']"
   ]
  },
  {
   "cell_type": "code",
   "execution_count": 43,
   "metadata": {},
   "outputs": [
    {
     "data": {
      "text/plain": [
       "StandardScaler()"
      ]
     },
     "execution_count": 43,
     "metadata": {},
     "output_type": "execute_result"
    }
   ],
   "source": [
    "#Создадим объект этой структуры и настроим его на обучающих данных\n",
    "scaler = StandardScaler()\n",
    "scaler.fit(features_train_te[numeric]) "
   ]
  },
  {
   "cell_type": "code",
   "execution_count": 44,
   "metadata": {},
   "outputs": [],
   "source": [
    "#Сохраним проеобразование для тренировочный выборки \n",
    "features_train_te[numeric] = scaler.transform(features_train_te[numeric])"
   ]
  },
  {
   "cell_type": "code",
   "execution_count": 45,
   "metadata": {},
   "outputs": [],
   "source": [
    "#Сохраним проеобразование для валидационной выборки\n",
    "features_valid_te[numeric] = scaler.transform(features_valid_te[numeric])"
   ]
  },
  {
   "cell_type": "code",
   "execution_count": 46,
   "metadata": {},
   "outputs": [],
   "source": [
    "#Сохраним проеобразование для тестовой выборки\n",
    "features_test_te[numeric] = scaler.transform(features_test_te[numeric])"
   ]
  },
  {
   "cell_type": "markdown",
   "metadata": {},
   "source": [
    "**LGBMRegressor**"
   ]
  },
  {
   "cell_type": "code",
   "execution_count": 47,
   "metadata": {},
   "outputs": [
    {
     "name": "stdout",
     "output_type": "stream",
     "text": [
      "CPU times: user 3.48 s, sys: 41.7 ms, total: 3.52 s\n",
      "Wall time: 3.49 s\n"
     ]
    }
   ],
   "source": [
    "%%time\n",
    "start = time.time()\n",
    "\n",
    "model_LGBM = LGBMRegressor(random_state=12345)\n",
    "model_LGBM.fit(features_train_te, target_train)\n",
    "\n",
    "end = time.time()\n",
    "lgbm_fit = end-start"
   ]
  },
  {
   "cell_type": "code",
   "execution_count": 48,
   "metadata": {},
   "outputs": [
    {
     "name": "stdout",
     "output_type": "stream",
     "text": [
      "CPU times: user 543 ms, sys: 0 ns, total: 543 ms\n",
      "Wall time: 597 ms\n"
     ]
    }
   ],
   "source": [
    "%%time\n",
    "start = time.time()\n",
    "\n",
    "predicted = model_LGBM.predict(features_valid_te)\n",
    "\n",
    "end = time.time()\n",
    "lgbm_pred = end-start"
   ]
  },
  {
   "cell_type": "code",
   "execution_count": 49,
   "metadata": {},
   "outputs": [
    {
     "name": "stdout",
     "output_type": "stream",
     "text": [
      "Разница между значениями RMSE = 1703.6935412997789\n"
     ]
    }
   ],
   "source": [
    "lgbm_rmse = mean_squared_error(target_valid, predicted)**0.5\n",
    "print(\"Разница между значениями RMSE =\", lgbm_rmse)"
   ]
  },
  {
   "cell_type": "markdown",
   "metadata": {},
   "source": [
    "**CatBoostRegressor**"
   ]
  },
  {
   "cell_type": "code",
   "execution_count": 50,
   "metadata": {},
   "outputs": [
    {
     "name": "stdout",
     "output_type": "stream",
     "text": [
      "CPU times: user 135 µs, sys: 0 ns, total: 135 µs\n",
      "Wall time: 141 µs\n"
     ]
    }
   ],
   "source": [
    "%%time\n",
    "model_cat = CatBoostRegressor(verbose=False)\n",
    "parametrs = {\n",
    "             \"depth\": [4, 6, 10],\n",
    "             \"iterations\": [60]}"
   ]
  },
  {
   "cell_type": "code",
   "execution_count": 51,
   "metadata": {},
   "outputs": [
    {
     "name": "stdout",
     "output_type": "stream",
     "text": [
      "{'depth': 10, 'iterations': 60}\n",
      "CPU times: user 21.1 s, sys: 159 ms, total: 21.3 s\n",
      "Wall time: 33.1 s\n"
     ]
    }
   ],
   "source": [
    "%%time\n",
    "start = time.time()\n",
    "\n",
    "grid = GridSearchCV(model_cat, parametrs, cv=5)\n",
    "model_grid = grid.fit(features_train_te, target_train)\n",
    "\n",
    "end = time.time()\n",
    "cat_fit = end-start\n",
    "\n",
    "print(model_grid.best_params_)"
   ]
  },
  {
   "cell_type": "code",
   "execution_count": 52,
   "metadata": {},
   "outputs": [
    {
     "name": "stdout",
     "output_type": "stream",
     "text": [
      "CPU times: user 22.4 ms, sys: 0 ns, total: 22.4 ms\n",
      "Wall time: 20.3 ms\n"
     ]
    }
   ],
   "source": [
    "%%time\n",
    "start = time.time()\n",
    "\n",
    "predicted = model_grid.predict(features_valid_te)\n",
    "\n",
    "end = time.time()\n",
    "cat_pred = end-start"
   ]
  },
  {
   "cell_type": "code",
   "execution_count": 53,
   "metadata": {},
   "outputs": [
    {
     "name": "stdout",
     "output_type": "stream",
     "text": [
      "Разница между значениями RMSE = 1652.9868863796887\n"
     ]
    }
   ],
   "source": [
    "cat_rmse = mean_squared_error(target_valid, predicted)**0.5\n",
    "print(\"Разница между значениями RMSE =\", cat_rmse)"
   ]
  },
  {
   "cell_type": "markdown",
   "metadata": {},
   "source": [
    "**LinearRegression**"
   ]
  },
  {
   "cell_type": "code",
   "execution_count": 54,
   "metadata": {},
   "outputs": [
    {
     "name": "stdout",
     "output_type": "stream",
     "text": [
      "CPU times: user 29.8 ms, sys: 4.02 ms, total: 33.8 ms\n",
      "Wall time: 25.1 ms\n"
     ]
    }
   ],
   "source": [
    "%%time\n",
    "start = time.time()\n",
    "\n",
    "model = LinearRegression()\n",
    "model.fit(features_train_te, target_train)\n",
    "\n",
    "end = time.time()\n",
    "lr_fit = end-start"
   ]
  },
  {
   "cell_type": "code",
   "execution_count": 55,
   "metadata": {},
   "outputs": [
    {
     "name": "stdout",
     "output_type": "stream",
     "text": [
      "CPU times: user 0 ns, sys: 14.6 ms, total: 14.6 ms\n",
      "Wall time: 5.18 ms\n"
     ]
    }
   ],
   "source": [
    "%%time\n",
    "start = time.time()\n",
    "\n",
    "predicted = model.predict(features_valid_te)\n",
    "\n",
    "end = time.time()\n",
    "lr_pred = end-start"
   ]
  },
  {
   "cell_type": "code",
   "execution_count": 56,
   "metadata": {},
   "outputs": [
    {
     "name": "stdout",
     "output_type": "stream",
     "text": [
      "Разница между значениями RMSE = 2889.968427773761\n"
     ]
    }
   ],
   "source": [
    "lr_rmse = mean_squared_error(target_valid, predicted) ** 0.5\n",
    "print(\"Разница между значениями RMSE =\", lr_rmse)"
   ]
  },
  {
   "cell_type": "markdown",
   "metadata": {},
   "source": [
    "**RandomForestRegressor**"
   ]
  },
  {
   "cell_type": "code",
   "execution_count": 57,
   "metadata": {},
   "outputs": [
    {
     "name": "stdout",
     "output_type": "stream",
     "text": [
      "CPU times: user 3.35 s, sys: 2 ms, total: 3.35 s\n",
      "Wall time: 3.35 s\n"
     ]
    }
   ],
   "source": [
    "%%time\n",
    "start = time.time()\n",
    "\n",
    "model_rfr = RandomForestRegressor(random_state=12345, n_estimators=12, max_depth=60, min_samples_leaf=4)\n",
    "model_rfr.fit(features_train_te, target_train)\n",
    "\n",
    "end = time.time()\n",
    "rfr_fit = end-start"
   ]
  },
  {
   "cell_type": "code",
   "execution_count": 58,
   "metadata": {},
   "outputs": [
    {
     "name": "stdout",
     "output_type": "stream",
     "text": [
      "CPU times: user 205 ms, sys: 7 µs, total: 205 ms\n",
      "Wall time: 209 ms\n"
     ]
    }
   ],
   "source": [
    "%%time\n",
    "start = time.time()\n",
    "\n",
    "predicted_rfr = model_rfr.predict(features_valid_te)\n",
    "\n",
    "end = time.time()\n",
    "rfr_pred = end-start"
   ]
  },
  {
   "cell_type": "code",
   "execution_count": 59,
   "metadata": {},
   "outputs": [
    {
     "name": "stdout",
     "output_type": "stream",
     "text": [
      "Разница между значениями RMSE = 1646.742053546613\n"
     ]
    }
   ],
   "source": [
    "rfr_rmse = mean_squared_error(target_valid, predicted_rfr) ** 0.5\n",
    "print(\"Разница между значениями RMSE =\", rfr_rmse)"
   ]
  },
  {
   "cell_type": "markdown",
   "metadata": {},
   "source": [
    "**ВЫВОД 2.**\n",
    " Процессы этапа:\n",
    "\n",
    "Для начала мы подготовили данные с помощью метода OHE, далее стантартезировали их с StandardScaler и обучили следующие модели: LGBMRegressor, CatBoostRegressor, LinearRegression, RandomForestRegressor"
   ]
  },
  {
   "cell_type": "markdown",
   "metadata": {},
   "source": [
    "## Анализ моделей"
   ]
  },
  {
   "cell_type": "code",
   "execution_count": 60,
   "metadata": {},
   "outputs": [],
   "source": [
    "df = {\n",
    "    'RMSE':[lgbm_rmse, cat_rmse, lr_rmse, rfr_rmse],\n",
    "    'Время обучения':[lgbm_fit, cat_fit, lr_fit, rfr_fit],\n",
    "    'Время предсказания':[lgbm_pred, cat_pred, lr_pred, rfr_pred]\n",
    "     }\n",
    "\n",
    "index = ['LGBMRegressor', \n",
    "         'CatBoostRegressor', \n",
    "         'LinearRegression', \n",
    "         'RandomForestRegressor']"
   ]
  },
  {
   "cell_type": "code",
   "execution_count": 61,
   "metadata": {},
   "outputs": [
    {
     "data": {
      "text/html": [
       "<div>\n",
       "<style scoped>\n",
       "    .dataframe tbody tr th:only-of-type {\n",
       "        vertical-align: middle;\n",
       "    }\n",
       "\n",
       "    .dataframe tbody tr th {\n",
       "        vertical-align: top;\n",
       "    }\n",
       "\n",
       "    .dataframe thead th {\n",
       "        text-align: right;\n",
       "    }\n",
       "</style>\n",
       "<table border=\"1\" class=\"dataframe\">\n",
       "  <thead>\n",
       "    <tr style=\"text-align: right;\">\n",
       "      <th></th>\n",
       "      <th>RMSE</th>\n",
       "      <th>Время обучения</th>\n",
       "      <th>Время предсказания</th>\n",
       "    </tr>\n",
       "  </thead>\n",
       "  <tbody>\n",
       "    <tr>\n",
       "      <th>LGBMRegressor</th>\n",
       "      <td>1703.693541</td>\n",
       "      <td>3.493331</td>\n",
       "      <td>0.596552</td>\n",
       "    </tr>\n",
       "    <tr>\n",
       "      <th>CatBoostRegressor</th>\n",
       "      <td>1652.986886</td>\n",
       "      <td>33.090862</td>\n",
       "      <td>0.020260</td>\n",
       "    </tr>\n",
       "    <tr>\n",
       "      <th>LinearRegression</th>\n",
       "      <td>2889.968428</td>\n",
       "      <td>0.025014</td>\n",
       "      <td>0.005142</td>\n",
       "    </tr>\n",
       "    <tr>\n",
       "      <th>RandomForestRegressor</th>\n",
       "      <td>1646.742054</td>\n",
       "      <td>3.349779</td>\n",
       "      <td>0.209142</td>\n",
       "    </tr>\n",
       "  </tbody>\n",
       "</table>\n",
       "</div>"
      ],
      "text/plain": [
       "                              RMSE  Время обучения  Время предсказания\n",
       "LGBMRegressor          1703.693541        3.493331            0.596552\n",
       "CatBoostRegressor      1652.986886       33.090862            0.020260\n",
       "LinearRegression       2889.968428        0.025014            0.005142\n",
       "RandomForestRegressor  1646.742054        3.349779            0.209142"
      ]
     },
     "execution_count": 61,
     "metadata": {},
     "output_type": "execute_result"
    }
   ],
   "source": [
    "df = pd.DataFrame(data=df, index=index)\n",
    "df"
   ]
  },
  {
   "cell_type": "markdown",
   "metadata": {},
   "source": [
    "Для проверки тестовой модели возьмем CatBoostRegressor, опираясь на полученные данные"
   ]
  },
  {
   "cell_type": "markdown",
   "metadata": {},
   "source": [
    "**Проверка на тестовой выборке**"
   ]
  },
  {
   "cell_type": "code",
   "execution_count": 62,
   "metadata": {},
   "outputs": [
    {
     "name": "stdout",
     "output_type": "stream",
     "text": [
      "CPU times: user 2.34 s, sys: 25 ms, total: 2.37 s\n",
      "Wall time: 3.1 s\n"
     ]
    },
    {
     "data": {
      "text/plain": [
       "<catboost.core.CatBoostRegressor at 0x7f06b17c14c0>"
      ]
     },
     "execution_count": 62,
     "metadata": {},
     "output_type": "execute_result"
    }
   ],
   "source": [
    "%%time\n",
    "model_cat = CatBoostRegressor(iterations=60, depth=10, verbose=False)\n",
    "model_cat.fit(features_train_te, target_train)"
   ]
  },
  {
   "cell_type": "code",
   "execution_count": 63,
   "metadata": {},
   "outputs": [
    {
     "name": "stdout",
     "output_type": "stream",
     "text": [
      "Разница между значениями RMSE = 1654.3206044448955\n",
      "CPU times: user 23.8 ms, sys: 101 µs, total: 23.9 ms\n",
      "Wall time: 22.5 ms\n"
     ]
    }
   ],
   "source": [
    "%%time\n",
    "predicted = model_cat.predict(features_test_te)\n",
    "rmse = mean_squared_error(target_test, predicted)**0.5\n",
    "print(\"Разница между значениями RMSE =\", rmse)"
   ]
  },
  {
   "cell_type": "code",
   "execution_count": 64,
   "metadata": {},
   "outputs": [],
   "source": [
    "dummy_regr = DummyRegressor(strategy=\"mean\")"
   ]
  },
  {
   "cell_type": "code",
   "execution_count": 65,
   "metadata": {},
   "outputs": [
    {
     "data": {
      "text/plain": [
       "DummyRegressor()"
      ]
     },
     "execution_count": 65,
     "metadata": {},
     "output_type": "execute_result"
    }
   ],
   "source": [
    "dummy_regr.fit(features_train_te, target_train)"
   ]
  },
  {
   "cell_type": "code",
   "execution_count": 66,
   "metadata": {},
   "outputs": [],
   "source": [
    "dummy_pred = dummy_regr.predict(features_test_te)"
   ]
  },
  {
   "cell_type": "code",
   "execution_count": 67,
   "metadata": {},
   "outputs": [
    {
     "name": "stdout",
     "output_type": "stream",
     "text": [
      "Разница между значениями RMSE = 4551.292307856599\n"
     ]
    }
   ],
   "source": [
    "rmse = mean_squared_error(target_test, dummy_pred)**0.5\n",
    "print(\"Разница между значениями RMSE =\", rmse)"
   ]
  },
  {
   "cell_type": "markdown",
   "metadata": {},
   "source": [
    "**ИТОГОВЫЙ ВЫВОД**\n",
    "\n",
    "В рамках проекта были предсавлены данные от сервиса по продаже автомобилей с пробегом «Не бит, не крашен».\n",
    "\n",
    "**Цель** проекта: Разработка модели ML для прогноза рыночной стоимости автомобиля.\n",
    "\n",
    "Для решения цели необходимо выполнить следущие **критерии** заказчика:\n",
    "   - качество предсказания;\n",
    "   - время обучения модели;\n",
    "   - время предсказания модели.\n",
    "   \n",
    "В процессе реализации проекта были выполнены следующие шаги:\n",
    "   - Проведена преобработка и анализ данных;\n",
    "   - Обучены 4 модели;\n",
    "   - На основе критериев заказчика выбрана модель CatBoostRegressor и проверена на тестовой выборке.\n",
    "   \n",
    "Показатели модели CatBoostRegressor на тестовой выборке:\n",
    "\n",
    "   - качество предсказания: 1727\n",
    "   - время обучения модели: 3.14 s\n",
    "   - время предсказания модели: 25.1 ms"
   ]
  }
 ],
 "metadata": {
  "ExecuteTimeLog": [
   {
    "duration": 388,
    "start_time": "2023-06-12T18:44:40.014Z"
   },
   {
    "duration": 1078,
    "start_time": "2023-06-12T18:44:41.021Z"
   },
   {
    "duration": 132,
    "start_time": "2023-06-12T18:44:51.123Z"
   },
   {
    "duration": 13,
    "start_time": "2023-06-12T18:45:23.528Z"
   },
   {
    "duration": 132,
    "start_time": "2023-06-12T18:45:39.380Z"
   },
   {
    "duration": 21,
    "start_time": "2023-06-12T18:45:46.052Z"
   },
   {
    "duration": 128,
    "start_time": "2023-06-12T18:46:42.015Z"
   },
   {
    "duration": 126,
    "start_time": "2023-06-12T18:46:48.289Z"
   },
   {
    "duration": 496,
    "start_time": "2023-06-12T18:47:51.840Z"
   },
   {
    "duration": 464,
    "start_time": "2023-06-12T18:48:00.216Z"
   },
   {
    "duration": 1556,
    "start_time": "2023-06-12T18:48:26.076Z"
   },
   {
    "duration": 560,
    "start_time": "2023-06-12T18:51:47.225Z"
   },
   {
    "duration": 67,
    "start_time": "2023-06-12T18:52:02.675Z"
   },
   {
    "duration": 100,
    "start_time": "2023-06-12T18:52:08.256Z"
   },
   {
    "duration": 575,
    "start_time": "2023-06-12T18:52:22.525Z"
   },
   {
    "duration": 547,
    "start_time": "2023-06-12T18:52:28.829Z"
   },
   {
    "duration": 439,
    "start_time": "2023-06-12T18:56:12.843Z"
   },
   {
    "duration": 450,
    "start_time": "2023-06-12T18:56:22.021Z"
   },
   {
    "duration": 1633,
    "start_time": "2023-06-12T18:56:38.121Z"
   },
   {
    "duration": 489,
    "start_time": "2023-06-12T19:03:19.164Z"
   },
   {
    "duration": 491,
    "start_time": "2023-06-12T19:03:25.581Z"
   },
   {
    "duration": 619,
    "start_time": "2023-06-12T19:03:34.233Z"
   },
   {
    "duration": 1113,
    "start_time": "2023-06-12T19:03:52.456Z"
   },
   {
    "duration": 1023,
    "start_time": "2023-06-12T19:04:02.035Z"
   },
   {
    "duration": 1971,
    "start_time": "2023-06-12T19:05:47.324Z"
   },
   {
    "duration": 1685,
    "start_time": "2023-06-12T19:06:11.662Z"
   },
   {
    "duration": 1376,
    "start_time": "2023-06-12T19:06:51.687Z"
   },
   {
    "duration": 6,
    "start_time": "2023-06-12T19:07:03.379Z"
   },
   {
    "duration": 8,
    "start_time": "2023-06-12T19:07:49.149Z"
   },
   {
    "duration": 8,
    "start_time": "2023-06-12T19:08:11.141Z"
   },
   {
    "duration": 8,
    "start_time": "2023-06-12T19:08:18.280Z"
   },
   {
    "duration": 1525,
    "start_time": "2023-06-12T19:08:28.582Z"
   },
   {
    "duration": 1397,
    "start_time": "2023-06-12T19:08:42.296Z"
   },
   {
    "duration": 10,
    "start_time": "2023-06-12T19:10:13.192Z"
   },
   {
    "duration": 40,
    "start_time": "2023-06-12T19:10:20.898Z"
   },
   {
    "duration": 28,
    "start_time": "2023-06-12T19:10:44.067Z"
   },
   {
    "duration": 20,
    "start_time": "2023-06-12T19:11:02.653Z"
   },
   {
    "duration": 47,
    "start_time": "2023-06-12T19:11:18.072Z"
   },
   {
    "duration": 47,
    "start_time": "2023-06-12T19:11:56.323Z"
   },
   {
    "duration": 40,
    "start_time": "2023-06-12T19:13:52.772Z"
   },
   {
    "duration": 35,
    "start_time": "2023-06-12T19:13:53.012Z"
   },
   {
    "duration": 35,
    "start_time": "2023-06-12T19:13:53.226Z"
   },
   {
    "duration": 47,
    "start_time": "2023-06-12T19:13:53.461Z"
   },
   {
    "duration": 45,
    "start_time": "2023-06-12T19:13:53.708Z"
   },
   {
    "duration": 153,
    "start_time": "2023-06-12T19:30:52.061Z"
   },
   {
    "duration": 291,
    "start_time": "2023-06-12T19:31:15.103Z"
   },
   {
    "duration": 312,
    "start_time": "2023-06-12T19:31:18.875Z"
   },
   {
    "duration": 290,
    "start_time": "2023-06-12T19:31:34.281Z"
   },
   {
    "duration": 348,
    "start_time": "2023-06-12T19:32:04.971Z"
   },
   {
    "duration": 349,
    "start_time": "2023-06-13T08:28:20.734Z"
   },
   {
    "duration": 975,
    "start_time": "2023-06-13T08:28:21.085Z"
   },
   {
    "duration": 111,
    "start_time": "2023-06-13T08:28:22.061Z"
   },
   {
    "duration": 16,
    "start_time": "2023-06-13T08:28:22.174Z"
   },
   {
    "duration": 104,
    "start_time": "2023-06-13T08:28:22.192Z"
   },
   {
    "duration": 25,
    "start_time": "2023-06-13T08:28:22.298Z"
   },
   {
    "duration": 64,
    "start_time": "2023-06-13T08:28:22.324Z"
   },
   {
    "duration": 30,
    "start_time": "2023-06-13T08:28:22.389Z"
   },
   {
    "duration": 28,
    "start_time": "2023-06-13T08:28:22.420Z"
   },
   {
    "duration": 36,
    "start_time": "2023-06-13T08:28:22.450Z"
   },
   {
    "duration": 274,
    "start_time": "2023-06-13T08:28:22.488Z"
   },
   {
    "duration": 428,
    "start_time": "2023-06-13T08:28:22.763Z"
   },
   {
    "duration": 942,
    "start_time": "2023-06-13T08:28:23.193Z"
   },
   {
    "duration": 59,
    "start_time": "2023-06-13T08:33:13.332Z"
   },
   {
    "duration": 1030,
    "start_time": "2023-06-13T08:34:07.891Z"
   },
   {
    "duration": 587,
    "start_time": "2023-06-13T08:34:13.710Z"
   },
   {
    "duration": 8,
    "start_time": "2023-06-13T08:38:14.645Z"
   },
   {
    "duration": 47,
    "start_time": "2023-06-13T08:54:03.645Z"
   },
   {
    "duration": 78,
    "start_time": "2023-06-13T08:54:28.942Z"
   },
   {
    "duration": 48,
    "start_time": "2023-06-13T08:55:06.991Z"
   },
   {
    "duration": 76,
    "start_time": "2023-06-13T08:55:15.138Z"
   },
   {
    "duration": 17,
    "start_time": "2023-06-13T08:55:35.152Z"
   },
   {
    "duration": 14,
    "start_time": "2023-06-13T08:55:44.691Z"
   },
   {
    "duration": 13,
    "start_time": "2023-06-13T08:55:48.081Z"
   },
   {
    "duration": 1169,
    "start_time": "2023-06-13T08:55:56.847Z"
   },
   {
    "duration": 736,
    "start_time": "2023-06-13T08:55:58.018Z"
   },
   {
    "duration": 103,
    "start_time": "2023-06-13T08:55:58.756Z"
   },
   {
    "duration": 24,
    "start_time": "2023-06-13T08:55:58.860Z"
   },
   {
    "duration": 108,
    "start_time": "2023-06-13T08:55:58.885Z"
   },
   {
    "duration": 26,
    "start_time": "2023-06-13T08:55:58.995Z"
   },
   {
    "duration": 28,
    "start_time": "2023-06-13T08:55:59.023Z"
   },
   {
    "duration": 43,
    "start_time": "2023-06-13T08:55:59.052Z"
   },
   {
    "duration": 44,
    "start_time": "2023-06-13T08:55:59.096Z"
   },
   {
    "duration": 39,
    "start_time": "2023-06-13T08:55:59.142Z"
   },
   {
    "duration": 246,
    "start_time": "2023-06-13T08:55:59.182Z"
   },
   {
    "duration": 440,
    "start_time": "2023-06-13T08:55:59.429Z"
   },
   {
    "duration": 1075,
    "start_time": "2023-06-13T08:55:59.870Z"
   },
   {
    "duration": 534,
    "start_time": "2023-06-13T08:56:00.948Z"
   },
   {
    "duration": 7,
    "start_time": "2023-06-13T08:56:01.484Z"
   },
   {
    "duration": 130,
    "start_time": "2023-06-13T08:56:01.492Z"
   },
   {
    "duration": 0,
    "start_time": "2023-06-13T08:56:01.624Z"
   },
   {
    "duration": 32,
    "start_time": "2023-06-13T08:56:12.315Z"
   },
   {
    "duration": 88,
    "start_time": "2023-06-13T08:56:18.006Z"
   },
   {
    "duration": 139,
    "start_time": "2023-06-13T09:01:07.076Z"
   },
   {
    "duration": 78,
    "start_time": "2023-06-13T09:01:21.242Z"
   },
   {
    "duration": 10,
    "start_time": "2023-06-13T09:07:24.636Z"
   },
   {
    "duration": 2,
    "start_time": "2023-06-13T09:07:52.745Z"
   },
   {
    "duration": 19,
    "start_time": "2023-06-13T09:07:57.214Z"
   },
   {
    "duration": 16,
    "start_time": "2023-06-13T09:08:31.087Z"
   },
   {
    "duration": 15,
    "start_time": "2023-06-13T09:09:01.781Z"
   },
   {
    "duration": 15,
    "start_time": "2023-06-13T09:09:57.489Z"
   },
   {
    "duration": 554,
    "start_time": "2023-06-13T09:10:51.070Z"
   },
   {
    "duration": 109498,
    "start_time": "2023-06-13T09:13:15.796Z"
   },
   {
    "duration": 113,
    "start_time": "2023-06-13T09:20:31.643Z"
   },
   {
    "duration": 231,
    "start_time": "2023-06-13T09:22:30.531Z"
   },
   {
    "duration": 3899,
    "start_time": "2023-06-13T09:23:54.238Z"
   },
   {
    "duration": 4788,
    "start_time": "2023-06-13T09:24:09.840Z"
   },
   {
    "duration": 200,
    "start_time": "2023-06-13T09:24:58.633Z"
   },
   {
    "duration": 8,
    "start_time": "2023-06-13T09:25:34.906Z"
   },
   {
    "duration": 225,
    "start_time": "2023-06-13T09:27:52.083Z"
   },
   {
    "duration": 170,
    "start_time": "2023-06-13T09:28:07.473Z"
   },
   {
    "duration": 182,
    "start_time": "2023-06-13T09:28:14.895Z"
   },
   {
    "duration": 458,
    "start_time": "2023-06-13T09:29:24.536Z"
   },
   {
    "duration": 215,
    "start_time": "2023-06-13T09:29:40.355Z"
   },
   {
    "duration": 181,
    "start_time": "2023-06-13T09:29:50.886Z"
   },
   {
    "duration": 13,
    "start_time": "2023-06-13T09:30:33.190Z"
   },
   {
    "duration": 1213,
    "start_time": "2023-06-13T09:35:20.817Z"
   },
   {
    "duration": 800,
    "start_time": "2023-06-13T09:35:22.032Z"
   },
   {
    "duration": 118,
    "start_time": "2023-06-13T09:35:22.836Z"
   },
   {
    "duration": 29,
    "start_time": "2023-06-13T09:35:22.956Z"
   },
   {
    "duration": 110,
    "start_time": "2023-06-13T09:35:22.987Z"
   },
   {
    "duration": 29,
    "start_time": "2023-06-13T09:35:23.099Z"
   },
   {
    "duration": 32,
    "start_time": "2023-06-13T09:35:23.129Z"
   },
   {
    "duration": 39,
    "start_time": "2023-06-13T09:35:23.177Z"
   },
   {
    "duration": 28,
    "start_time": "2023-06-13T09:35:23.219Z"
   },
   {
    "duration": 57,
    "start_time": "2023-06-13T09:35:23.249Z"
   },
   {
    "duration": 278,
    "start_time": "2023-06-13T09:35:23.307Z"
   },
   {
    "duration": 500,
    "start_time": "2023-06-13T09:35:23.586Z"
   },
   {
    "duration": 1125,
    "start_time": "2023-06-13T09:35:24.088Z"
   },
   {
    "duration": 611,
    "start_time": "2023-06-13T09:35:25.215Z"
   },
   {
    "duration": 7,
    "start_time": "2023-06-13T09:35:25.827Z"
   },
   {
    "duration": 52,
    "start_time": "2023-06-13T09:35:25.835Z"
   },
   {
    "duration": 100,
    "start_time": "2023-06-13T09:35:25.891Z"
   },
   {
    "duration": 93,
    "start_time": "2023-06-13T09:35:25.993Z"
   },
   {
    "duration": 156,
    "start_time": "2023-06-13T09:35:26.088Z"
   },
   {
    "duration": 194,
    "start_time": "2023-06-13T09:35:26.245Z"
   },
   {
    "duration": 10,
    "start_time": "2023-06-13T09:35:26.441Z"
   },
   {
    "duration": 67,
    "start_time": "2023-06-13T09:35:26.452Z"
   },
   {
    "duration": 60,
    "start_time": "2023-06-13T09:35:43.732Z"
   },
   {
    "duration": 44,
    "start_time": "2023-06-13T09:35:49.089Z"
   },
   {
    "duration": 7,
    "start_time": "2023-06-13T09:42:06.559Z"
   },
   {
    "duration": 7,
    "start_time": "2023-06-13T09:42:16.240Z"
   },
   {
    "duration": 99,
    "start_time": "2023-06-13T09:42:33.942Z"
   },
   {
    "duration": 24,
    "start_time": "2023-06-13T09:42:37.685Z"
   },
   {
    "duration": 7,
    "start_time": "2023-06-13T09:42:51.320Z"
   },
   {
    "duration": 321,
    "start_time": "2023-06-13T09:49:10.354Z"
   },
   {
    "duration": 359,
    "start_time": "2023-06-13T09:50:22.981Z"
   },
   {
    "duration": 461,
    "start_time": "2023-06-13T09:56:56.741Z"
   },
   {
    "duration": 1093,
    "start_time": "2023-06-13T09:57:12.589Z"
   },
   {
    "duration": 772,
    "start_time": "2023-06-13T09:57:13.684Z"
   },
   {
    "duration": 121,
    "start_time": "2023-06-13T09:57:14.458Z"
   },
   {
    "duration": 15,
    "start_time": "2023-06-13T09:57:14.581Z"
   },
   {
    "duration": 116,
    "start_time": "2023-06-13T09:57:14.598Z"
   },
   {
    "duration": 44,
    "start_time": "2023-06-13T09:57:14.715Z"
   },
   {
    "duration": 54,
    "start_time": "2023-06-13T09:57:14.760Z"
   },
   {
    "duration": 54,
    "start_time": "2023-06-13T09:57:14.816Z"
   },
   {
    "duration": 57,
    "start_time": "2023-06-13T09:57:14.872Z"
   },
   {
    "duration": 48,
    "start_time": "2023-06-13T09:57:14.931Z"
   },
   {
    "duration": 283,
    "start_time": "2023-06-13T09:57:14.980Z"
   },
   {
    "duration": 456,
    "start_time": "2023-06-13T09:57:15.265Z"
   },
   {
    "duration": 1100,
    "start_time": "2023-06-13T09:57:15.722Z"
   },
   {
    "duration": 564,
    "start_time": "2023-06-13T09:57:16.824Z"
   },
   {
    "duration": 7,
    "start_time": "2023-06-13T09:57:17.389Z"
   },
   {
    "duration": 48,
    "start_time": "2023-06-13T09:57:17.397Z"
   },
   {
    "duration": 79,
    "start_time": "2023-06-13T09:57:17.447Z"
   },
   {
    "duration": 80,
    "start_time": "2023-06-13T09:57:17.528Z"
   },
   {
    "duration": 470,
    "start_time": "2023-06-13T09:57:17.610Z"
   },
   {
    "duration": 273,
    "start_time": "2023-06-13T09:57:18.081Z"
   },
   {
    "duration": 1527,
    "start_time": "2023-06-13T11:03:47.938Z"
   },
   {
    "duration": 3277,
    "start_time": "2023-06-13T11:03:49.467Z"
   },
   {
    "duration": 130,
    "start_time": "2023-06-13T11:03:52.746Z"
   },
   {
    "duration": 17,
    "start_time": "2023-06-13T11:03:52.879Z"
   },
   {
    "duration": 123,
    "start_time": "2023-06-13T11:03:52.898Z"
   },
   {
    "duration": 44,
    "start_time": "2023-06-13T11:03:53.022Z"
   },
   {
    "duration": 28,
    "start_time": "2023-06-13T11:03:53.068Z"
   },
   {
    "duration": 44,
    "start_time": "2023-06-13T11:03:53.098Z"
   },
   {
    "duration": 37,
    "start_time": "2023-06-13T11:03:53.144Z"
   },
   {
    "duration": 37,
    "start_time": "2023-06-13T11:03:53.183Z"
   },
   {
    "duration": 283,
    "start_time": "2023-06-13T11:03:53.222Z"
   },
   {
    "duration": 510,
    "start_time": "2023-06-13T11:03:53.507Z"
   },
   {
    "duration": 1185,
    "start_time": "2023-06-13T11:03:54.019Z"
   },
   {
    "duration": 621,
    "start_time": "2023-06-13T11:03:55.205Z"
   },
   {
    "duration": 8,
    "start_time": "2023-06-13T11:03:55.828Z"
   },
   {
    "duration": 47,
    "start_time": "2023-06-13T11:03:55.837Z"
   },
   {
    "duration": 93,
    "start_time": "2023-06-13T11:03:55.886Z"
   },
   {
    "duration": 118,
    "start_time": "2023-06-13T11:03:55.980Z"
   },
   {
    "duration": 466,
    "start_time": "2023-06-13T11:03:56.100Z"
   },
   {
    "duration": 295,
    "start_time": "2023-06-13T11:03:56.569Z"
   },
   {
    "duration": 470,
    "start_time": "2023-06-13T11:04:06.015Z"
   },
   {
    "duration": 450,
    "start_time": "2023-06-13T11:04:15.436Z"
   },
   {
    "duration": 271,
    "start_time": "2023-06-13T11:04:15.887Z"
   },
   {
    "duration": 450,
    "start_time": "2023-06-13T11:05:16.612Z"
   },
   {
    "duration": 389,
    "start_time": "2023-06-13T11:05:17.064Z"
   },
   {
    "duration": 262,
    "start_time": "2023-06-13T11:11:35.186Z"
   },
   {
    "duration": 46,
    "start_time": "2023-06-13T11:12:49.926Z"
   },
   {
    "duration": 101,
    "start_time": "2023-06-13T11:26:41.036Z"
   },
   {
    "duration": 36,
    "start_time": "2023-06-13T11:26:52.497Z"
   },
   {
    "duration": 32,
    "start_time": "2023-06-13T11:29:34.963Z"
   },
   {
    "duration": 57,
    "start_time": "2023-06-13T11:29:47.081Z"
   },
   {
    "duration": 40,
    "start_time": "2023-06-13T11:29:55.393Z"
   },
   {
    "duration": 44,
    "start_time": "2023-06-13T11:30:18.204Z"
   },
   {
    "duration": 53,
    "start_time": "2023-06-13T11:30:26.745Z"
   },
   {
    "duration": 256,
    "start_time": "2023-06-13T11:30:42.502Z"
   },
   {
    "duration": 37,
    "start_time": "2023-06-13T11:30:43.074Z"
   },
   {
    "duration": 260,
    "start_time": "2023-06-13T11:30:44.576Z"
   },
   {
    "duration": 45,
    "start_time": "2023-06-13T11:31:13.888Z"
   },
   {
    "duration": 271,
    "start_time": "2023-06-13T11:31:14.551Z"
   },
   {
    "duration": 242,
    "start_time": "2023-06-13T11:31:51.356Z"
   },
   {
    "duration": 406,
    "start_time": "2023-06-13T11:32:27.588Z"
   },
   {
    "duration": 314,
    "start_time": "2023-06-13T11:33:20.496Z"
   },
   {
    "duration": 259,
    "start_time": "2023-06-13T11:33:44.247Z"
   },
   {
    "duration": 241,
    "start_time": "2023-06-13T11:34:27.939Z"
   },
   {
    "duration": 389,
    "start_time": "2023-06-13T11:34:43.217Z"
   },
   {
    "duration": 301,
    "start_time": "2023-06-13T11:34:57.707Z"
   },
   {
    "duration": 450,
    "start_time": "2023-06-13T11:35:35.940Z"
   },
   {
    "duration": 400,
    "start_time": "2023-06-13T11:36:33.280Z"
   },
   {
    "duration": 240,
    "start_time": "2023-06-13T11:36:57.243Z"
   },
   {
    "duration": 38,
    "start_time": "2023-06-13T11:39:02.856Z"
   },
   {
    "duration": 39,
    "start_time": "2023-06-13T11:39:27.604Z"
   },
   {
    "duration": 11,
    "start_time": "2023-06-13T11:39:50.835Z"
   },
   {
    "duration": 12,
    "start_time": "2023-06-13T11:41:58.814Z"
   },
   {
    "duration": 9,
    "start_time": "2023-06-13T11:42:04.149Z"
   },
   {
    "duration": 18,
    "start_time": "2023-06-13T11:42:08.096Z"
   },
   {
    "duration": 45,
    "start_time": "2023-06-13T11:42:25.104Z"
   },
   {
    "duration": 303,
    "start_time": "2023-06-13T11:43:19.304Z"
   },
   {
    "duration": 234,
    "start_time": "2023-06-13T11:46:47.525Z"
   },
   {
    "duration": 322,
    "start_time": "2023-06-13T11:47:32.618Z"
   },
   {
    "duration": 430,
    "start_time": "2023-06-13T11:48:10.019Z"
   },
   {
    "duration": 1197,
    "start_time": "2023-06-13T12:47:16.159Z"
   },
   {
    "duration": 848,
    "start_time": "2023-06-13T12:47:17.359Z"
   },
   {
    "duration": 118,
    "start_time": "2023-06-13T12:47:18.209Z"
   },
   {
    "duration": 33,
    "start_time": "2023-06-13T12:47:18.330Z"
   },
   {
    "duration": 124,
    "start_time": "2023-06-13T12:47:18.365Z"
   },
   {
    "duration": 29,
    "start_time": "2023-06-13T12:47:18.491Z"
   },
   {
    "duration": 48,
    "start_time": "2023-06-13T12:47:18.522Z"
   },
   {
    "duration": 33,
    "start_time": "2023-06-13T12:47:18.572Z"
   },
   {
    "duration": 49,
    "start_time": "2023-06-13T12:47:18.607Z"
   },
   {
    "duration": 29,
    "start_time": "2023-06-13T12:47:18.660Z"
   },
   {
    "duration": 343,
    "start_time": "2023-06-13T12:47:18.691Z"
   },
   {
    "duration": 529,
    "start_time": "2023-06-13T12:47:19.036Z"
   },
   {
    "duration": 1163,
    "start_time": "2023-06-13T12:47:19.566Z"
   },
   {
    "duration": 605,
    "start_time": "2023-06-13T12:47:20.731Z"
   },
   {
    "duration": 7,
    "start_time": "2023-06-13T12:47:21.338Z"
   },
   {
    "duration": 67,
    "start_time": "2023-06-13T12:47:21.347Z"
   },
   {
    "duration": 92,
    "start_time": "2023-06-13T12:47:21.417Z"
   },
   {
    "duration": 96,
    "start_time": "2023-06-13T12:47:21.511Z"
   },
   {
    "duration": 463,
    "start_time": "2023-06-13T12:47:21.609Z"
   },
   {
    "duration": 273,
    "start_time": "2023-06-13T12:47:22.074Z"
   },
   {
    "duration": 47,
    "start_time": "2023-06-13T12:47:22.357Z"
   },
   {
    "duration": 319,
    "start_time": "2023-06-13T12:47:22.406Z"
   },
   {
    "duration": 249,
    "start_time": "2023-06-13T12:47:22.726Z"
   },
   {
    "duration": 448,
    "start_time": "2023-06-13T12:47:22.978Z"
   },
   {
    "duration": 414,
    "start_time": "2023-06-13T12:47:23.428Z"
   },
   {
    "duration": 48,
    "start_time": "2023-06-13T12:47:23.844Z"
   },
   {
    "duration": 425,
    "start_time": "2023-06-13T12:47:23.894Z"
   },
   {
    "duration": 117,
    "start_time": "2023-06-13T12:47:24.322Z"
   },
   {
    "duration": 32,
    "start_time": "2023-06-13T12:47:38.788Z"
   },
   {
    "duration": 41,
    "start_time": "2023-06-13T12:49:20.253Z"
   },
   {
    "duration": 5,
    "start_time": "2023-06-13T12:49:44.122Z"
   },
   {
    "duration": 3,
    "start_time": "2023-06-13T12:49:55.210Z"
   },
   {
    "duration": 5,
    "start_time": "2023-06-13T12:49:59.296Z"
   },
   {
    "duration": 9,
    "start_time": "2023-06-13T12:50:12.413Z"
   },
   {
    "duration": 73,
    "start_time": "2023-06-13T12:51:00.156Z"
   },
   {
    "duration": 797,
    "start_time": "2023-06-13T12:51:06.401Z"
   },
   {
    "duration": 761,
    "start_time": "2023-06-13T12:51:16.703Z"
   },
   {
    "duration": 12,
    "start_time": "2023-06-13T12:52:39.897Z"
   },
   {
    "duration": 14,
    "start_time": "2023-06-13T12:52:57.748Z"
   },
   {
    "duration": 860,
    "start_time": "2023-06-13T13:02:39.991Z"
   },
   {
    "duration": 792,
    "start_time": "2023-06-13T13:02:51.502Z"
   },
   {
    "duration": 802,
    "start_time": "2023-06-13T13:03:04.392Z"
   },
   {
    "duration": 1103,
    "start_time": "2023-06-13T13:03:20.011Z"
   },
   {
    "duration": 841,
    "start_time": "2023-06-13T13:03:21.116Z"
   },
   {
    "duration": 122,
    "start_time": "2023-06-13T13:03:21.958Z"
   },
   {
    "duration": 18,
    "start_time": "2023-06-13T13:03:22.082Z"
   },
   {
    "duration": 130,
    "start_time": "2023-06-13T13:03:22.104Z"
   },
   {
    "duration": 34,
    "start_time": "2023-06-13T13:03:22.236Z"
   },
   {
    "duration": 28,
    "start_time": "2023-06-13T13:03:22.272Z"
   },
   {
    "duration": 55,
    "start_time": "2023-06-13T13:03:22.302Z"
   },
   {
    "duration": 29,
    "start_time": "2023-06-13T13:03:22.359Z"
   },
   {
    "duration": 44,
    "start_time": "2023-06-13T13:03:22.390Z"
   },
   {
    "duration": 264,
    "start_time": "2023-06-13T13:03:22.436Z"
   },
   {
    "duration": 476,
    "start_time": "2023-06-13T13:03:22.703Z"
   },
   {
    "duration": 1093,
    "start_time": "2023-06-13T13:03:23.181Z"
   },
   {
    "duration": 581,
    "start_time": "2023-06-13T13:03:24.277Z"
   },
   {
    "duration": 8,
    "start_time": "2023-06-13T13:03:24.860Z"
   },
   {
    "duration": 50,
    "start_time": "2023-06-13T13:03:24.870Z"
   },
   {
    "duration": 91,
    "start_time": "2023-06-13T13:03:24.922Z"
   },
   {
    "duration": 91,
    "start_time": "2023-06-13T13:03:25.014Z"
   },
   {
    "duration": 438,
    "start_time": "2023-06-13T13:03:25.107Z"
   },
   {
    "duration": 259,
    "start_time": "2023-06-13T13:03:25.547Z"
   },
   {
    "duration": 52,
    "start_time": "2023-06-13T13:03:25.808Z"
   },
   {
    "duration": 304,
    "start_time": "2023-06-13T13:03:25.862Z"
   },
   {
    "duration": 237,
    "start_time": "2023-06-13T13:03:26.167Z"
   },
   {
    "duration": 424,
    "start_time": "2023-06-13T13:03:26.406Z"
   },
   {
    "duration": 412,
    "start_time": "2023-06-13T13:03:26.832Z"
   },
   {
    "duration": 51,
    "start_time": "2023-06-13T13:03:27.246Z"
   },
   {
    "duration": 437,
    "start_time": "2023-06-13T13:03:27.298Z"
   },
   {
    "duration": 39,
    "start_time": "2023-06-13T13:03:27.737Z"
   },
   {
    "duration": 5,
    "start_time": "2023-06-13T13:06:22.489Z"
   },
   {
    "duration": 28,
    "start_time": "2023-06-13T13:06:34.409Z"
   },
   {
    "duration": 6,
    "start_time": "2023-06-13T13:06:38.349Z"
   },
   {
    "duration": 18,
    "start_time": "2023-06-13T13:07:00.005Z"
   },
   {
    "duration": 32,
    "start_time": "2023-06-13T13:07:23.409Z"
   },
   {
    "duration": 31,
    "start_time": "2023-06-13T13:07:31.500Z"
   },
   {
    "duration": 19,
    "start_time": "2023-06-13T13:07:41.685Z"
   },
   {
    "duration": 99,
    "start_time": "2023-06-13T13:08:36.800Z"
   },
   {
    "duration": 4,
    "start_time": "2023-06-13T13:08:43.228Z"
   },
   {
    "duration": 872,
    "start_time": "2023-06-13T13:08:50.202Z"
   },
   {
    "duration": 826,
    "start_time": "2023-06-13T13:08:58.736Z"
   },
   {
    "duration": 888,
    "start_time": "2023-06-13T13:09:08.355Z"
   },
   {
    "duration": 1269,
    "start_time": "2023-06-13T13:09:14.561Z"
   },
   {
    "duration": 853,
    "start_time": "2023-06-13T13:09:15.832Z"
   },
   {
    "duration": 125,
    "start_time": "2023-06-13T13:09:16.686Z"
   },
   {
    "duration": 17,
    "start_time": "2023-06-13T13:09:16.813Z"
   },
   {
    "duration": 132,
    "start_time": "2023-06-13T13:09:16.833Z"
   },
   {
    "duration": 30,
    "start_time": "2023-06-13T13:09:16.966Z"
   },
   {
    "duration": 34,
    "start_time": "2023-06-13T13:09:16.998Z"
   },
   {
    "duration": 39,
    "start_time": "2023-06-13T13:09:17.033Z"
   },
   {
    "duration": 35,
    "start_time": "2023-06-13T13:09:17.074Z"
   },
   {
    "duration": 43,
    "start_time": "2023-06-13T13:09:17.111Z"
   },
   {
    "duration": 286,
    "start_time": "2023-06-13T13:09:17.156Z"
   },
   {
    "duration": 514,
    "start_time": "2023-06-13T13:09:17.444Z"
   },
   {
    "duration": 1255,
    "start_time": "2023-06-13T13:09:17.960Z"
   },
   {
    "duration": 573,
    "start_time": "2023-06-13T13:09:19.218Z"
   },
   {
    "duration": 8,
    "start_time": "2023-06-13T13:09:19.793Z"
   },
   {
    "duration": 55,
    "start_time": "2023-06-13T13:09:19.802Z"
   },
   {
    "duration": 101,
    "start_time": "2023-06-13T13:09:19.859Z"
   },
   {
    "duration": 77,
    "start_time": "2023-06-13T13:09:19.962Z"
   },
   {
    "duration": 466,
    "start_time": "2023-06-13T13:09:20.057Z"
   },
   {
    "duration": 278,
    "start_time": "2023-06-13T13:09:20.525Z"
   },
   {
    "duration": 61,
    "start_time": "2023-06-13T13:09:20.806Z"
   },
   {
    "duration": 310,
    "start_time": "2023-06-13T13:09:20.869Z"
   },
   {
    "duration": 241,
    "start_time": "2023-06-13T13:09:21.181Z"
   },
   {
    "duration": 438,
    "start_time": "2023-06-13T13:09:21.423Z"
   },
   {
    "duration": 408,
    "start_time": "2023-06-13T13:09:21.862Z"
   },
   {
    "duration": 40,
    "start_time": "2023-06-13T13:09:22.271Z"
   },
   {
    "duration": 415,
    "start_time": "2023-06-13T13:09:22.313Z"
   },
   {
    "duration": 5,
    "start_time": "2023-06-13T13:09:22.730Z"
   },
   {
    "duration": 11,
    "start_time": "2023-06-13T13:09:34.435Z"
   },
   {
    "duration": 13,
    "start_time": "2023-06-13T13:09:41.602Z"
   },
   {
    "duration": 34,
    "start_time": "2023-06-13T13:11:31.011Z"
   },
   {
    "duration": 306,
    "start_time": "2023-06-13T13:11:31.839Z"
   },
   {
    "duration": 237,
    "start_time": "2023-06-13T13:11:32.389Z"
   },
   {
    "duration": 405,
    "start_time": "2023-06-13T13:11:33.318Z"
   },
   {
    "duration": 384,
    "start_time": "2023-06-13T13:11:33.804Z"
   },
   {
    "duration": 47,
    "start_time": "2023-06-13T13:11:34.638Z"
   },
   {
    "duration": 326,
    "start_time": "2023-06-13T13:11:35.302Z"
   },
   {
    "duration": 87,
    "start_time": "2023-06-13T13:12:03.492Z"
   },
   {
    "duration": 7,
    "start_time": "2023-06-13T13:12:24.791Z"
   },
   {
    "duration": 80,
    "start_time": "2023-06-13T13:12:37.789Z"
   },
   {
    "duration": 100,
    "start_time": "2023-06-13T13:15:10.238Z"
   },
   {
    "duration": 251,
    "start_time": "2023-06-13T13:16:24.312Z"
   },
   {
    "duration": 168,
    "start_time": "2023-06-13T13:18:27.196Z"
   },
   {
    "duration": 4,
    "start_time": "2023-06-13T13:18:45.950Z"
   },
   {
    "duration": 1939,
    "start_time": "2023-06-13T16:22:58.683Z"
   },
   {
    "duration": 1480,
    "start_time": "2023-06-13T16:23:00.624Z"
   },
   {
    "duration": 195,
    "start_time": "2023-06-13T16:23:02.106Z"
   },
   {
    "duration": 126,
    "start_time": "2023-06-13T16:23:02.307Z"
   },
   {
    "duration": 270,
    "start_time": "2023-06-13T16:23:02.436Z"
   },
   {
    "duration": 68,
    "start_time": "2023-06-13T16:23:02.708Z"
   },
   {
    "duration": 110,
    "start_time": "2023-06-13T16:23:02.777Z"
   },
   {
    "duration": 88,
    "start_time": "2023-06-13T16:23:02.889Z"
   },
   {
    "duration": 175,
    "start_time": "2023-06-13T16:23:02.980Z"
   },
   {
    "duration": 100,
    "start_time": "2023-06-13T16:23:03.157Z"
   },
   {
    "duration": 482,
    "start_time": "2023-06-13T16:23:03.259Z"
   },
   {
    "duration": 558,
    "start_time": "2023-06-13T16:23:03.743Z"
   },
   {
    "duration": 1273,
    "start_time": "2023-06-13T16:23:04.303Z"
   },
   {
    "duration": 692,
    "start_time": "2023-06-13T16:23:05.579Z"
   },
   {
    "duration": 10,
    "start_time": "2023-06-13T16:23:06.273Z"
   },
   {
    "duration": 96,
    "start_time": "2023-06-13T16:23:06.285Z"
   },
   {
    "duration": 183,
    "start_time": "2023-06-13T16:23:06.387Z"
   },
   {
    "duration": 122,
    "start_time": "2023-06-13T16:23:06.581Z"
   },
   {
    "duration": 699,
    "start_time": "2023-06-13T16:23:06.705Z"
   },
   {
    "duration": 328,
    "start_time": "2023-06-13T16:23:07.406Z"
   },
   {
    "duration": 60,
    "start_time": "2023-06-13T16:23:07.735Z"
   },
   {
    "duration": 501,
    "start_time": "2023-06-13T16:23:07.801Z"
   },
   {
    "duration": 419,
    "start_time": "2023-06-13T16:23:08.307Z"
   },
   {
    "duration": 642,
    "start_time": "2023-06-13T16:23:08.728Z"
   },
   {
    "duration": 565,
    "start_time": "2023-06-13T16:23:09.372Z"
   },
   {
    "duration": 53,
    "start_time": "2023-06-13T16:23:09.939Z"
   },
   {
    "duration": 514,
    "start_time": "2023-06-13T16:23:09.997Z"
   },
   {
    "duration": 5,
    "start_time": "2023-06-13T16:23:10.513Z"
   },
   {
    "duration": 166,
    "start_time": "2023-06-13T16:23:10.519Z"
   },
   {
    "duration": 171,
    "start_time": "2023-06-13T16:23:10.687Z"
   },
   {
    "duration": 10,
    "start_time": "2023-06-13T16:23:10.874Z"
   },
   {
    "duration": 138,
    "start_time": "2023-06-13T16:25:16.396Z"
   },
   {
    "duration": 12,
    "start_time": "2023-06-13T16:25:16.894Z"
   },
   {
    "duration": 48,
    "start_time": "2023-06-13T16:25:22.226Z"
   },
   {
    "duration": 85,
    "start_time": "2023-06-13T16:25:23.703Z"
   },
   {
    "duration": 36,
    "start_time": "2023-06-13T16:25:43.663Z"
   },
   {
    "duration": 20,
    "start_time": "2023-06-13T16:25:51.011Z"
   },
   {
    "duration": 147,
    "start_time": "2023-06-13T16:26:05.073Z"
   },
   {
    "duration": 326,
    "start_time": "2023-06-13T16:26:40.292Z"
   },
   {
    "duration": 275,
    "start_time": "2023-06-13T16:26:47.591Z"
   },
   {
    "duration": 274,
    "start_time": "2023-06-13T16:26:53.299Z"
   },
   {
    "duration": 332,
    "start_time": "2023-06-13T16:27:01.801Z"
   },
   {
    "duration": 332,
    "start_time": "2023-06-13T16:27:09.938Z"
   },
   {
    "duration": 330,
    "start_time": "2023-06-13T16:27:14.273Z"
   },
   {
    "duration": 441,
    "start_time": "2023-06-13T16:27:20.467Z"
   },
   {
    "duration": 333,
    "start_time": "2023-06-13T16:27:33.500Z"
   },
   {
    "duration": 332,
    "start_time": "2023-06-13T16:27:51.010Z"
   },
   {
    "duration": 34,
    "start_time": "2023-06-13T16:29:39.643Z"
   },
   {
    "duration": 9,
    "start_time": "2023-06-13T16:41:43.006Z"
   },
   {
    "duration": 144,
    "start_time": "2023-06-13T16:41:46.628Z"
   },
   {
    "duration": 3,
    "start_time": "2023-06-13T16:48:22.284Z"
   },
   {
    "duration": 4,
    "start_time": "2023-06-13T16:49:01.245Z"
   },
   {
    "duration": 1765,
    "start_time": "2023-06-13T17:07:05.463Z"
   },
   {
    "duration": 1166,
    "start_time": "2023-06-13T17:07:07.231Z"
   },
   {
    "duration": 235,
    "start_time": "2023-06-13T17:07:08.398Z"
   },
   {
    "duration": 50,
    "start_time": "2023-06-13T17:07:08.635Z"
   },
   {
    "duration": 245,
    "start_time": "2023-06-13T17:07:08.692Z"
   },
   {
    "duration": 72,
    "start_time": "2023-06-13T17:07:08.939Z"
   },
   {
    "duration": 116,
    "start_time": "2023-06-13T17:07:09.014Z"
   },
   {
    "duration": 148,
    "start_time": "2023-06-13T17:07:09.132Z"
   },
   {
    "duration": 126,
    "start_time": "2023-06-13T17:07:09.287Z"
   },
   {
    "duration": 84,
    "start_time": "2023-06-13T17:07:09.415Z"
   },
   {
    "duration": 477,
    "start_time": "2023-06-13T17:07:09.501Z"
   },
   {
    "duration": 630,
    "start_time": "2023-06-13T17:07:09.984Z"
   },
   {
    "duration": 1366,
    "start_time": "2023-06-13T17:07:10.617Z"
   },
   {
    "duration": 732,
    "start_time": "2023-06-13T17:07:11.996Z"
   },
   {
    "duration": 22,
    "start_time": "2023-06-13T17:07:12.731Z"
   },
   {
    "duration": 114,
    "start_time": "2023-06-13T17:07:12.756Z"
   },
   {
    "duration": 205,
    "start_time": "2023-06-13T17:07:12.875Z"
   },
   {
    "duration": 209,
    "start_time": "2023-06-13T17:07:13.085Z"
   },
   {
    "duration": 719,
    "start_time": "2023-06-13T17:07:13.300Z"
   },
   {
    "duration": 394,
    "start_time": "2023-06-13T17:07:14.020Z"
   },
   {
    "duration": 62,
    "start_time": "2023-06-13T17:07:14.416Z"
   },
   {
    "duration": 1118,
    "start_time": "2023-06-13T17:07:14.490Z"
   },
   {
    "duration": 395,
    "start_time": "2023-06-13T17:07:15.610Z"
   },
   {
    "duration": 1324,
    "start_time": "2023-06-13T17:07:16.007Z"
   },
   {
    "duration": 1964,
    "start_time": "2023-06-13T17:07:17.333Z"
   },
   {
    "duration": 3390,
    "start_time": "2023-06-13T17:07:19.299Z"
   },
   {
    "duration": 1884,
    "start_time": "2023-06-13T17:07:22.691Z"
   },
   {
    "duration": 44,
    "start_time": "2023-06-13T17:07:24.577Z"
   },
   {
    "duration": 187,
    "start_time": "2023-06-13T17:07:24.623Z"
   },
   {
    "duration": 309,
    "start_time": "2023-06-13T17:07:24.812Z"
   },
   {
    "duration": 159,
    "start_time": "2023-06-13T17:07:25.122Z"
   },
   {
    "duration": 50,
    "start_time": "2023-06-13T17:07:25.287Z"
   },
   {
    "duration": 51,
    "start_time": "2023-06-13T17:08:58.690Z"
   },
   {
    "duration": 3451,
    "start_time": "2023-06-13T17:09:06.739Z"
   },
   {
    "duration": 1617,
    "start_time": "2023-06-13T17:09:10.195Z"
   },
   {
    "duration": 211,
    "start_time": "2023-06-13T17:09:11.814Z"
   },
   {
    "duration": 32,
    "start_time": "2023-06-13T17:09:12.028Z"
   },
   {
    "duration": 189,
    "start_time": "2023-06-13T17:09:12.066Z"
   },
   {
    "duration": 82,
    "start_time": "2023-06-13T17:09:12.257Z"
   },
   {
    "duration": 132,
    "start_time": "2023-06-13T17:09:12.341Z"
   },
   {
    "duration": 123,
    "start_time": "2023-06-13T17:09:12.475Z"
   },
   {
    "duration": 95,
    "start_time": "2023-06-13T17:09:12.603Z"
   },
   {
    "duration": 98,
    "start_time": "2023-06-13T17:09:12.701Z"
   },
   {
    "duration": 552,
    "start_time": "2023-06-13T17:09:12.804Z"
   },
   {
    "duration": 602,
    "start_time": "2023-06-13T17:09:13.360Z"
   },
   {
    "duration": 1437,
    "start_time": "2023-06-13T17:09:13.963Z"
   },
   {
    "duration": 681,
    "start_time": "2023-06-13T17:09:15.403Z"
   },
   {
    "duration": 12,
    "start_time": "2023-06-13T17:09:16.088Z"
   },
   {
    "duration": 67,
    "start_time": "2023-06-13T17:09:16.103Z"
   },
   {
    "duration": 184,
    "start_time": "2023-06-13T17:09:16.172Z"
   },
   {
    "duration": 151,
    "start_time": "2023-06-13T17:09:16.368Z"
   },
   {
    "duration": 714,
    "start_time": "2023-06-13T17:09:16.521Z"
   },
   {
    "duration": 342,
    "start_time": "2023-06-13T17:09:17.237Z"
   },
   {
    "duration": 53,
    "start_time": "2023-06-13T17:09:17.582Z"
   },
   {
    "duration": 530,
    "start_time": "2023-06-13T17:09:17.637Z"
   },
   {
    "duration": 436,
    "start_time": "2023-06-13T17:09:18.168Z"
   },
   {
    "duration": 694,
    "start_time": "2023-06-13T17:09:18.605Z"
   },
   {
    "duration": 674,
    "start_time": "2023-06-13T17:09:19.300Z"
   },
   {
    "duration": 48,
    "start_time": "2023-06-13T17:09:19.977Z"
   },
   {
    "duration": 582,
    "start_time": "2023-06-13T17:09:20.027Z"
   },
   {
    "duration": 54,
    "start_time": "2023-06-13T17:09:20.614Z"
   },
   {
    "duration": 195,
    "start_time": "2023-06-13T17:09:20.673Z"
   },
   {
    "duration": 354,
    "start_time": "2023-06-13T17:09:20.870Z"
   },
   {
    "duration": 165,
    "start_time": "2023-06-13T17:09:21.226Z"
   },
   {
    "duration": 9,
    "start_time": "2023-06-13T17:09:21.399Z"
   },
   {
    "duration": 209,
    "start_time": "2023-06-13T17:09:21.410Z"
   },
   {
    "duration": 0,
    "start_time": "2023-06-13T17:09:21.621Z"
   },
   {
    "duration": 0,
    "start_time": "2023-06-13T17:09:21.622Z"
   },
   {
    "duration": 10,
    "start_time": "2023-06-13T17:17:25.998Z"
   },
   {
    "duration": 6,
    "start_time": "2023-06-13T17:17:30.382Z"
   },
   {
    "duration": 3572,
    "start_time": "2023-06-13T17:17:47.997Z"
   },
   {
    "duration": 2039,
    "start_time": "2023-06-13T17:17:51.571Z"
   },
   {
    "duration": 197,
    "start_time": "2023-06-13T17:17:53.612Z"
   },
   {
    "duration": 16,
    "start_time": "2023-06-13T17:17:53.811Z"
   },
   {
    "duration": 199,
    "start_time": "2023-06-13T17:17:53.830Z"
   },
   {
    "duration": 74,
    "start_time": "2023-06-13T17:17:54.031Z"
   },
   {
    "duration": 139,
    "start_time": "2023-06-13T17:17:54.106Z"
   },
   {
    "duration": 114,
    "start_time": "2023-06-13T17:17:54.250Z"
   },
   {
    "duration": 69,
    "start_time": "2023-06-13T17:17:54.370Z"
   },
   {
    "duration": 88,
    "start_time": "2023-06-13T17:17:54.441Z"
   },
   {
    "duration": 460,
    "start_time": "2023-06-13T17:17:54.530Z"
   },
   {
    "duration": 619,
    "start_time": "2023-06-13T17:17:54.999Z"
   },
   {
    "duration": 1378,
    "start_time": "2023-06-13T17:17:55.620Z"
   },
   {
    "duration": 675,
    "start_time": "2023-06-13T17:17:57.004Z"
   },
   {
    "duration": 10,
    "start_time": "2023-06-13T17:17:57.681Z"
   },
   {
    "duration": 70,
    "start_time": "2023-06-13T17:17:57.693Z"
   },
   {
    "duration": 163,
    "start_time": "2023-06-13T17:17:57.765Z"
   },
   {
    "duration": 89,
    "start_time": "2023-06-13T17:17:57.930Z"
   },
   {
    "duration": 690,
    "start_time": "2023-06-13T17:17:58.020Z"
   },
   {
    "duration": 334,
    "start_time": "2023-06-13T17:17:58.713Z"
   },
   {
    "duration": 52,
    "start_time": "2023-06-13T17:17:59.057Z"
   },
   {
    "duration": 471,
    "start_time": "2023-06-13T17:17:59.111Z"
   },
   {
    "duration": 377,
    "start_time": "2023-06-13T17:17:59.584Z"
   },
   {
    "duration": 671,
    "start_time": "2023-06-13T17:17:59.963Z"
   },
   {
    "duration": 630,
    "start_time": "2023-06-13T17:18:00.636Z"
   },
   {
    "duration": 48,
    "start_time": "2023-06-13T17:18:01.267Z"
   },
   {
    "duration": 557,
    "start_time": "2023-06-13T17:18:01.317Z"
   },
   {
    "duration": 49,
    "start_time": "2023-06-13T17:18:01.881Z"
   },
   {
    "duration": 117,
    "start_time": "2023-06-13T17:18:01.932Z"
   },
   {
    "duration": 326,
    "start_time": "2023-06-13T17:18:02.051Z"
   },
   {
    "duration": 142,
    "start_time": "2023-06-13T17:18:02.383Z"
   },
   {
    "duration": 177,
    "start_time": "2023-06-13T17:18:02.527Z"
   },
   {
    "duration": 3601,
    "start_time": "2023-06-13T17:20:37.892Z"
   },
   {
    "duration": 1830,
    "start_time": "2023-06-13T17:20:41.496Z"
   },
   {
    "duration": 203,
    "start_time": "2023-06-13T17:20:43.328Z"
   },
   {
    "duration": 52,
    "start_time": "2023-06-13T17:20:43.533Z"
   },
   {
    "duration": 209,
    "start_time": "2023-06-13T17:20:43.591Z"
   },
   {
    "duration": 36,
    "start_time": "2023-06-13T17:20:43.802Z"
   },
   {
    "duration": 82,
    "start_time": "2023-06-13T17:20:43.859Z"
   },
   {
    "duration": 97,
    "start_time": "2023-06-13T17:20:43.942Z"
   },
   {
    "duration": 92,
    "start_time": "2023-06-13T17:20:44.041Z"
   },
   {
    "duration": 85,
    "start_time": "2023-06-13T17:20:44.136Z"
   },
   {
    "duration": 551,
    "start_time": "2023-06-13T17:20:44.222Z"
   },
   {
    "duration": 573,
    "start_time": "2023-06-13T17:20:44.780Z"
   },
   {
    "duration": 1374,
    "start_time": "2023-06-13T17:20:45.355Z"
   },
   {
    "duration": 754,
    "start_time": "2023-06-13T17:20:46.731Z"
   },
   {
    "duration": 12,
    "start_time": "2023-06-13T17:20:47.494Z"
   },
   {
    "duration": 46,
    "start_time": "2023-06-13T17:20:47.508Z"
   },
   {
    "duration": 135,
    "start_time": "2023-06-13T17:20:47.558Z"
   },
   {
    "duration": 62,
    "start_time": "2023-06-13T17:20:47.695Z"
   },
   {
    "duration": 669,
    "start_time": "2023-06-13T17:20:47.759Z"
   },
   {
    "duration": 378,
    "start_time": "2023-06-13T17:20:48.430Z"
   },
   {
    "duration": 56,
    "start_time": "2023-06-13T17:20:48.809Z"
   },
   {
    "duration": 687,
    "start_time": "2023-06-13T17:20:48.874Z"
   },
   {
    "duration": 726,
    "start_time": "2023-06-13T17:20:49.563Z"
   },
   {
    "duration": 39,
    "start_time": "2023-06-13T17:20:50.290Z"
   },
   {
    "duration": 531,
    "start_time": "2023-06-13T17:20:50.331Z"
   },
   {
    "duration": 43,
    "start_time": "2023-06-13T17:20:50.872Z"
   },
   {
    "duration": 117,
    "start_time": "2023-06-13T17:20:50.918Z"
   },
   {
    "duration": 324,
    "start_time": "2023-06-13T17:20:51.039Z"
   },
   {
    "duration": 140,
    "start_time": "2023-06-13T17:20:51.365Z"
   },
   {
    "duration": 9,
    "start_time": "2023-06-13T17:20:51.507Z"
   },
   {
    "duration": 994,
    "start_time": "2023-06-13T17:20:51.519Z"
   },
   {
    "duration": 595,
    "start_time": "2023-06-13T17:20:52.516Z"
   },
   {
    "duration": 5,
    "start_time": "2023-06-13T17:20:53.116Z"
   },
   {
    "duration": 7,
    "start_time": "2023-06-13T17:21:11.042Z"
   },
   {
    "duration": 175,
    "start_time": "2023-06-13T17:21:14.921Z"
   },
   {
    "duration": 512,
    "start_time": "2023-06-13T17:21:19.813Z"
   },
   {
    "duration": 5,
    "start_time": "2023-06-13T17:21:21.994Z"
   },
   {
    "duration": 2861,
    "start_time": "2023-06-13T17:22:05.217Z"
   },
   {
    "duration": 203,
    "start_time": "2023-06-13T17:22:13.014Z"
   },
   {
    "duration": 14,
    "start_time": "2023-06-13T17:23:35.804Z"
   },
   {
    "duration": 3,
    "start_time": "2023-06-13T17:26:48.423Z"
   },
   {
    "duration": 6,
    "start_time": "2023-06-13T17:27:42.096Z"
   },
   {
    "duration": 19,
    "start_time": "2023-06-13T17:27:42.786Z"
   },
   {
    "duration": 4,
    "start_time": "2023-06-13T17:28:22.916Z"
   },
   {
    "duration": 19,
    "start_time": "2023-06-13T17:28:23.500Z"
   },
   {
    "duration": 137,
    "start_time": "2023-06-13T17:28:56.201Z"
   },
   {
    "duration": 37,
    "start_time": "2023-06-13T17:28:56.900Z"
   },
   {
    "duration": 1835,
    "start_time": "2023-06-14T08:51:23.141Z"
   },
   {
    "duration": 3085,
    "start_time": "2023-06-14T08:51:24.978Z"
   },
   {
    "duration": 116,
    "start_time": "2023-06-14T08:51:28.064Z"
   },
   {
    "duration": 18,
    "start_time": "2023-06-14T08:51:28.182Z"
   },
   {
    "duration": 126,
    "start_time": "2023-06-14T08:51:28.202Z"
   },
   {
    "duration": 45,
    "start_time": "2023-06-14T08:51:28.330Z"
   },
   {
    "duration": 45,
    "start_time": "2023-06-14T08:51:28.377Z"
   },
   {
    "duration": 43,
    "start_time": "2023-06-14T08:51:28.424Z"
   },
   {
    "duration": 44,
    "start_time": "2023-06-14T08:51:28.469Z"
   },
   {
    "duration": 71,
    "start_time": "2023-06-14T08:51:28.517Z"
   },
   {
    "duration": 269,
    "start_time": "2023-06-14T08:51:28.590Z"
   },
   {
    "duration": 478,
    "start_time": "2023-06-14T08:51:28.861Z"
   },
   {
    "duration": 1246,
    "start_time": "2023-06-14T08:51:29.341Z"
   },
   {
    "duration": 682,
    "start_time": "2023-06-14T08:51:30.590Z"
   },
   {
    "duration": 10,
    "start_time": "2023-06-14T08:51:31.274Z"
   },
   {
    "duration": 69,
    "start_time": "2023-06-14T08:51:31.285Z"
   },
   {
    "duration": 113,
    "start_time": "2023-06-14T08:51:31.356Z"
   },
   {
    "duration": 66,
    "start_time": "2023-06-14T08:51:31.471Z"
   },
   {
    "duration": 533,
    "start_time": "2023-06-14T08:51:31.539Z"
   },
   {
    "duration": 314,
    "start_time": "2023-06-14T08:51:32.074Z"
   },
   {
    "duration": 45,
    "start_time": "2023-06-14T08:51:32.390Z"
   },
   {
    "duration": 474,
    "start_time": "2023-06-14T08:51:32.437Z"
   },
   {
    "duration": 533,
    "start_time": "2023-06-14T08:51:32.914Z"
   },
   {
    "duration": 29,
    "start_time": "2023-06-14T08:51:33.449Z"
   },
   {
    "duration": 330,
    "start_time": "2023-06-14T08:51:33.479Z"
   },
   {
    "duration": 29,
    "start_time": "2023-06-14T08:51:33.812Z"
   },
   {
    "duration": 107,
    "start_time": "2023-06-14T08:51:33.844Z"
   },
   {
    "duration": 377,
    "start_time": "2023-06-14T08:51:33.960Z"
   },
   {
    "duration": 80,
    "start_time": "2023-06-14T08:51:34.338Z"
   },
   {
    "duration": 7,
    "start_time": "2023-06-14T08:51:34.420Z"
   },
   {
    "duration": 1188,
    "start_time": "2023-06-14T08:51:34.429Z"
   },
   {
    "duration": 592,
    "start_time": "2023-06-14T08:51:35.619Z"
   },
   {
    "duration": 5,
    "start_time": "2023-06-14T08:51:36.212Z"
   },
   {
    "duration": 27,
    "start_time": "2023-06-14T08:51:36.219Z"
   },
   {
    "duration": 4,
    "start_time": "2023-06-14T08:51:36.258Z"
   },
   {
    "duration": 30,
    "start_time": "2023-06-14T08:51:36.264Z"
   },
   {
    "duration": 141,
    "start_time": "2023-06-14T08:51:36.296Z"
   },
   {
    "duration": 50,
    "start_time": "2023-06-14T08:51:36.439Z"
   },
   {
    "duration": 97,
    "start_time": "2023-06-14T08:54:55.696Z"
   },
   {
    "duration": 9,
    "start_time": "2023-06-14T08:55:16.950Z"
   },
   {
    "duration": 10,
    "start_time": "2023-06-14T08:57:45.580Z"
   },
   {
    "duration": 9,
    "start_time": "2023-06-14T08:57:52.278Z"
   },
   {
    "duration": 3,
    "start_time": "2023-06-14T08:58:50.990Z"
   },
   {
    "duration": 441,
    "start_time": "2023-06-14T08:59:02.566Z"
   },
   {
    "duration": 3,
    "start_time": "2023-06-14T08:59:03.391Z"
   },
   {
    "duration": 557,
    "start_time": "2023-06-14T09:00:14.528Z"
   },
   {
    "duration": 4,
    "start_time": "2023-06-14T09:00:26.852Z"
   },
   {
    "duration": 5,
    "start_time": "2023-06-14T09:02:02.883Z"
   },
   {
    "duration": 631,
    "start_time": "2023-06-14T09:02:31.690Z"
   },
   {
    "duration": 5,
    "start_time": "2023-06-14T09:02:32.324Z"
   },
   {
    "duration": 591,
    "start_time": "2023-06-14T09:02:37.401Z"
   },
   {
    "duration": 5,
    "start_time": "2023-06-14T09:02:37.995Z"
   },
   {
    "duration": 15,
    "start_time": "2023-06-14T09:02:42.355Z"
   },
   {
    "duration": 4,
    "start_time": "2023-06-14T09:04:08.620Z"
   },
   {
    "duration": 4,
    "start_time": "2023-06-14T09:04:20.638Z"
   },
   {
    "duration": 38,
    "start_time": "2023-06-14T09:05:30.044Z"
   },
   {
    "duration": 1412,
    "start_time": "2023-06-14T09:09:06.957Z"
   },
   {
    "duration": 789,
    "start_time": "2023-06-14T09:09:08.371Z"
   },
   {
    "duration": 120,
    "start_time": "2023-06-14T09:09:09.162Z"
   },
   {
    "duration": 16,
    "start_time": "2023-06-14T09:09:09.285Z"
   },
   {
    "duration": 121,
    "start_time": "2023-06-14T09:09:09.303Z"
   },
   {
    "duration": 37,
    "start_time": "2023-06-14T09:09:09.426Z"
   },
   {
    "duration": 62,
    "start_time": "2023-06-14T09:09:09.464Z"
   },
   {
    "duration": 36,
    "start_time": "2023-06-14T09:09:09.527Z"
   },
   {
    "duration": 36,
    "start_time": "2023-06-14T09:09:09.564Z"
   },
   {
    "duration": 61,
    "start_time": "2023-06-14T09:09:09.602Z"
   },
   {
    "duration": 277,
    "start_time": "2023-06-14T09:09:09.665Z"
   },
   {
    "duration": 437,
    "start_time": "2023-06-14T09:09:09.943Z"
   },
   {
    "duration": 1131,
    "start_time": "2023-06-14T09:09:10.381Z"
   },
   {
    "duration": 570,
    "start_time": "2023-06-14T09:09:11.515Z"
   },
   {
    "duration": 7,
    "start_time": "2023-06-14T09:09:12.087Z"
   },
   {
    "duration": 33,
    "start_time": "2023-06-14T09:09:12.096Z"
   },
   {
    "duration": 98,
    "start_time": "2023-06-14T09:09:12.130Z"
   },
   {
    "duration": 78,
    "start_time": "2023-06-14T09:09:12.230Z"
   },
   {
    "duration": 593,
    "start_time": "2023-06-14T09:09:12.310Z"
   },
   {
    "duration": 292,
    "start_time": "2023-06-14T09:09:12.905Z"
   },
   {
    "duration": 34,
    "start_time": "2023-06-14T09:09:13.199Z"
   },
   {
    "duration": 439,
    "start_time": "2023-06-14T09:09:13.235Z"
   },
   {
    "duration": 650,
    "start_time": "2023-06-14T09:09:13.676Z"
   },
   {
    "duration": 42,
    "start_time": "2023-06-14T09:09:14.327Z"
   },
   {
    "duration": 329,
    "start_time": "2023-06-14T09:09:14.371Z"
   },
   {
    "duration": 29,
    "start_time": "2023-06-14T09:09:14.702Z"
   },
   {
    "duration": 85,
    "start_time": "2023-06-14T09:09:14.733Z"
   },
   {
    "duration": 282,
    "start_time": "2023-06-14T09:09:14.820Z"
   },
   {
    "duration": 70,
    "start_time": "2023-06-14T09:09:15.104Z"
   },
   {
    "duration": 4,
    "start_time": "2023-06-14T09:09:15.176Z"
   },
   {
    "duration": 1094,
    "start_time": "2023-06-14T09:09:15.182Z"
   },
   {
    "duration": 783,
    "start_time": "2023-06-14T09:09:16.278Z"
   },
   {
    "duration": 6,
    "start_time": "2023-06-14T09:09:17.063Z"
   },
   {
    "duration": 28,
    "start_time": "2023-06-14T09:09:17.071Z"
   },
   {
    "duration": 3,
    "start_time": "2023-06-14T09:09:17.100Z"
   },
   {
    "duration": 23,
    "start_time": "2023-06-14T09:09:17.105Z"
   },
   {
    "duration": 75,
    "start_time": "2023-06-14T09:09:17.130Z"
   },
   {
    "duration": 35,
    "start_time": "2023-06-14T09:09:17.207Z"
   },
   {
    "duration": 44,
    "start_time": "2023-06-14T09:09:17.244Z"
   },
   {
    "duration": 3,
    "start_time": "2023-06-14T09:09:41.572Z"
   },
   {
    "duration": 917,
    "start_time": "2023-06-14T09:09:42.044Z"
   },
   {
    "duration": 128,
    "start_time": "2023-06-14T09:09:42.963Z"
   },
   {
    "duration": 22,
    "start_time": "2023-06-14T09:09:43.930Z"
   },
   {
    "duration": 106,
    "start_time": "2023-06-14T09:09:44.398Z"
   },
   {
    "duration": 30,
    "start_time": "2023-06-14T09:09:44.687Z"
   },
   {
    "duration": 29,
    "start_time": "2023-06-14T09:09:44.883Z"
   },
   {
    "duration": 33,
    "start_time": "2023-06-14T09:09:45.221Z"
   },
   {
    "duration": 31,
    "start_time": "2023-06-14T09:09:45.415Z"
   },
   {
    "duration": 29,
    "start_time": "2023-06-14T09:09:45.571Z"
   },
   {
    "duration": 221,
    "start_time": "2023-06-14T09:09:45.919Z"
   },
   {
    "duration": 436,
    "start_time": "2023-06-14T09:09:46.222Z"
   },
   {
    "duration": 974,
    "start_time": "2023-06-14T09:09:46.660Z"
   },
   {
    "duration": 595,
    "start_time": "2023-06-14T09:09:47.635Z"
   },
   {
    "duration": 8,
    "start_time": "2023-06-14T09:09:48.232Z"
   },
   {
    "duration": 43,
    "start_time": "2023-06-14T09:09:48.242Z"
   },
   {
    "duration": 79,
    "start_time": "2023-06-14T09:09:48.287Z"
   },
   {
    "duration": 56,
    "start_time": "2023-06-14T09:09:48.367Z"
   },
   {
    "duration": 486,
    "start_time": "2023-06-14T09:09:48.425Z"
   },
   {
    "duration": 276,
    "start_time": "2023-06-14T09:09:50.522Z"
   },
   {
    "duration": 26,
    "start_time": "2023-06-14T09:09:50.801Z"
   },
   {
    "duration": 443,
    "start_time": "2023-06-14T09:09:50.941Z"
   },
   {
    "duration": 463,
    "start_time": "2023-06-14T09:09:51.455Z"
   },
   {
    "duration": 27,
    "start_time": "2023-06-14T09:09:51.934Z"
   },
   {
    "duration": 316,
    "start_time": "2023-06-14T09:09:52.373Z"
   },
   {
    "duration": 40,
    "start_time": "2023-06-14T09:09:52.692Z"
   },
   {
    "duration": 73,
    "start_time": "2023-06-14T09:09:52.741Z"
   },
   {
    "duration": 360,
    "start_time": "2023-06-14T09:09:52.905Z"
   },
   {
    "duration": 64,
    "start_time": "2023-06-14T09:09:53.267Z"
   },
   {
    "duration": 5,
    "start_time": "2023-06-14T09:09:55.649Z"
   },
   {
    "duration": 3,
    "start_time": "2023-06-14T09:10:06.093Z"
   },
   {
    "duration": 910,
    "start_time": "2023-06-14T09:10:13.383Z"
   },
   {
    "duration": 47,
    "start_time": "2023-06-14T09:10:58.000Z"
   },
   {
    "duration": 8,
    "start_time": "2023-06-14T09:11:20.748Z"
   },
   {
    "duration": 1576,
    "start_time": "2023-06-14T09:11:32.080Z"
   },
   {
    "duration": 3047,
    "start_time": "2023-06-14T09:11:33.658Z"
   },
   {
    "duration": 128,
    "start_time": "2023-06-14T09:11:36.707Z"
   },
   {
    "duration": 26,
    "start_time": "2023-06-14T09:11:36.837Z"
   },
   {
    "duration": 128,
    "start_time": "2023-06-14T09:11:36.867Z"
   },
   {
    "duration": 32,
    "start_time": "2023-06-14T09:11:36.996Z"
   },
   {
    "duration": 50,
    "start_time": "2023-06-14T09:11:37.030Z"
   },
   {
    "duration": 38,
    "start_time": "2023-06-14T09:11:37.082Z"
   },
   {
    "duration": 41,
    "start_time": "2023-06-14T09:11:37.121Z"
   },
   {
    "duration": 31,
    "start_time": "2023-06-14T09:11:37.164Z"
   },
   {
    "duration": 296,
    "start_time": "2023-06-14T09:11:37.197Z"
   },
   {
    "duration": 516,
    "start_time": "2023-06-14T09:11:37.495Z"
   },
   {
    "duration": 1162,
    "start_time": "2023-06-14T09:11:38.013Z"
   },
   {
    "duration": 667,
    "start_time": "2023-06-14T09:11:39.178Z"
   },
   {
    "duration": 11,
    "start_time": "2023-06-14T09:11:39.847Z"
   },
   {
    "duration": 38,
    "start_time": "2023-06-14T09:11:39.859Z"
   },
   {
    "duration": 73,
    "start_time": "2023-06-14T09:11:39.899Z"
   },
   {
    "duration": 64,
    "start_time": "2023-06-14T09:11:39.974Z"
   },
   {
    "duration": 545,
    "start_time": "2023-06-14T09:11:40.039Z"
   },
   {
    "duration": 276,
    "start_time": "2023-06-14T09:11:40.586Z"
   },
   {
    "duration": 33,
    "start_time": "2023-06-14T09:11:40.864Z"
   },
   {
    "duration": 446,
    "start_time": "2023-06-14T09:11:40.898Z"
   },
   {
    "duration": 563,
    "start_time": "2023-06-14T09:11:41.346Z"
   },
   {
    "duration": 46,
    "start_time": "2023-06-14T09:11:41.911Z"
   },
   {
    "duration": 383,
    "start_time": "2023-06-14T09:11:41.959Z"
   },
   {
    "duration": 37,
    "start_time": "2023-06-14T09:11:42.344Z"
   },
   {
    "duration": 83,
    "start_time": "2023-06-14T09:11:42.383Z"
   },
   {
    "duration": 289,
    "start_time": "2023-06-14T09:11:42.468Z"
   },
   {
    "duration": 81,
    "start_time": "2023-06-14T09:11:42.759Z"
   },
   {
    "duration": 18,
    "start_time": "2023-06-14T09:11:42.841Z"
   },
   {
    "duration": 7,
    "start_time": "2023-06-14T09:11:42.860Z"
   },
   {
    "duration": 993,
    "start_time": "2023-06-14T09:11:42.869Z"
   },
   {
    "duration": 51,
    "start_time": "2023-06-14T09:14:36.447Z"
   },
   {
    "duration": 6,
    "start_time": "2023-06-14T09:14:47.314Z"
   },
   {
    "duration": 6,
    "start_time": "2023-06-14T09:14:54.991Z"
   },
   {
    "duration": 1746,
    "start_time": "2023-06-14T09:15:05.285Z"
   },
   {
    "duration": 2886,
    "start_time": "2023-06-14T09:15:07.034Z"
   },
   {
    "duration": 117,
    "start_time": "2023-06-14T09:15:09.922Z"
   },
   {
    "duration": 25,
    "start_time": "2023-06-14T09:15:10.042Z"
   },
   {
    "duration": 123,
    "start_time": "2023-06-14T09:15:10.068Z"
   },
   {
    "duration": 27,
    "start_time": "2023-06-14T09:15:10.192Z"
   },
   {
    "duration": 39,
    "start_time": "2023-06-14T09:15:10.221Z"
   },
   {
    "duration": 34,
    "start_time": "2023-06-14T09:15:10.262Z"
   },
   {
    "duration": 28,
    "start_time": "2023-06-14T09:15:10.298Z"
   },
   {
    "duration": 43,
    "start_time": "2023-06-14T09:15:10.328Z"
   },
   {
    "duration": 271,
    "start_time": "2023-06-14T09:15:10.372Z"
   },
   {
    "duration": 460,
    "start_time": "2023-06-14T09:15:10.644Z"
   },
   {
    "duration": 1054,
    "start_time": "2023-06-14T09:15:11.106Z"
   },
   {
    "duration": 588,
    "start_time": "2023-06-14T09:15:12.162Z"
   },
   {
    "duration": 11,
    "start_time": "2023-06-14T09:15:12.751Z"
   },
   {
    "duration": 26,
    "start_time": "2023-06-14T09:15:12.763Z"
   },
   {
    "duration": 87,
    "start_time": "2023-06-14T09:15:12.791Z"
   },
   {
    "duration": 57,
    "start_time": "2023-06-14T09:15:12.880Z"
   },
   {
    "duration": 443,
    "start_time": "2023-06-14T09:15:12.939Z"
   },
   {
    "duration": 264,
    "start_time": "2023-06-14T09:15:13.385Z"
   },
   {
    "duration": 33,
    "start_time": "2023-06-14T09:15:13.656Z"
   },
   {
    "duration": 475,
    "start_time": "2023-06-14T09:15:13.691Z"
   },
   {
    "duration": 474,
    "start_time": "2023-06-14T09:15:14.167Z"
   },
   {
    "duration": 36,
    "start_time": "2023-06-14T09:15:14.643Z"
   },
   {
    "duration": 320,
    "start_time": "2023-06-14T09:15:14.680Z"
   },
   {
    "duration": 28,
    "start_time": "2023-06-14T09:15:15.001Z"
   },
   {
    "duration": 82,
    "start_time": "2023-06-14T09:15:15.030Z"
   },
   {
    "duration": 254,
    "start_time": "2023-06-14T09:15:15.114Z"
   },
   {
    "duration": 73,
    "start_time": "2023-06-14T09:15:15.370Z"
   },
   {
    "duration": 4,
    "start_time": "2023-06-14T09:15:15.458Z"
   },
   {
    "duration": 1010,
    "start_time": "2023-06-14T09:15:15.464Z"
   },
   {
    "duration": 674,
    "start_time": "2023-06-14T09:15:16.476Z"
   },
   {
    "duration": 7,
    "start_time": "2023-06-14T09:15:17.153Z"
   },
   {
    "duration": 37,
    "start_time": "2023-06-14T09:15:17.162Z"
   },
   {
    "duration": 3,
    "start_time": "2023-06-14T09:15:17.201Z"
   },
   {
    "duration": 23,
    "start_time": "2023-06-14T09:15:17.205Z"
   },
   {
    "duration": 68,
    "start_time": "2023-06-14T09:15:17.230Z"
   },
   {
    "duration": 33,
    "start_time": "2023-06-14T09:15:17.300Z"
   },
   {
    "duration": 46,
    "start_time": "2023-06-14T09:15:17.334Z"
   },
   {
    "duration": 24,
    "start_time": "2023-06-14T09:29:08.293Z"
   },
   {
    "duration": 135,
    "start_time": "2023-06-14T09:55:25.535Z"
   },
   {
    "duration": 29,
    "start_time": "2023-06-14T09:56:04.027Z"
   },
   {
    "duration": 4,
    "start_time": "2023-06-14T09:56:10.892Z"
   },
   {
    "duration": 5,
    "start_time": "2023-06-14T10:00:14.797Z"
   },
   {
    "duration": 23488,
    "start_time": "2023-06-14T10:00:19.670Z"
   },
   {
    "duration": 1612,
    "start_time": "2023-06-14T10:02:36.207Z"
   },
   {
    "duration": 918,
    "start_time": "2023-06-14T10:02:37.821Z"
   },
   {
    "duration": 129,
    "start_time": "2023-06-14T10:02:38.741Z"
   },
   {
    "duration": 19,
    "start_time": "2023-06-14T10:02:38.874Z"
   },
   {
    "duration": 132,
    "start_time": "2023-06-14T10:02:38.895Z"
   },
   {
    "duration": 45,
    "start_time": "2023-06-14T10:02:39.030Z"
   },
   {
    "duration": 33,
    "start_time": "2023-06-14T10:02:39.077Z"
   },
   {
    "duration": 53,
    "start_time": "2023-06-14T10:02:39.112Z"
   },
   {
    "duration": 40,
    "start_time": "2023-06-14T10:02:39.167Z"
   },
   {
    "duration": 56,
    "start_time": "2023-06-14T10:02:39.211Z"
   },
   {
    "duration": 311,
    "start_time": "2023-06-14T10:02:39.269Z"
   },
   {
    "duration": 506,
    "start_time": "2023-06-14T10:02:39.582Z"
   },
   {
    "duration": 1110,
    "start_time": "2023-06-14T10:02:40.091Z"
   },
   {
    "duration": 613,
    "start_time": "2023-06-14T10:02:41.203Z"
   },
   {
    "duration": 8,
    "start_time": "2023-06-14T10:02:41.818Z"
   },
   {
    "duration": 47,
    "start_time": "2023-06-14T10:02:41.828Z"
   },
   {
    "duration": 102,
    "start_time": "2023-06-14T10:02:41.877Z"
   },
   {
    "duration": 82,
    "start_time": "2023-06-14T10:02:41.981Z"
   },
   {
    "duration": 507,
    "start_time": "2023-06-14T10:02:42.065Z"
   },
   {
    "duration": 300,
    "start_time": "2023-06-14T10:02:42.574Z"
   },
   {
    "duration": 34,
    "start_time": "2023-06-14T10:02:42.876Z"
   },
   {
    "duration": 551,
    "start_time": "2023-06-14T10:02:42.912Z"
   },
   {
    "duration": 507,
    "start_time": "2023-06-14T10:02:43.465Z"
   },
   {
    "duration": 37,
    "start_time": "2023-06-14T10:02:43.974Z"
   },
   {
    "duration": 431,
    "start_time": "2023-06-14T10:02:44.014Z"
   },
   {
    "duration": 32,
    "start_time": "2023-06-14T10:02:44.447Z"
   },
   {
    "duration": 76,
    "start_time": "2023-06-14T10:02:44.481Z"
   },
   {
    "duration": 272,
    "start_time": "2023-06-14T10:02:44.560Z"
   },
   {
    "duration": 74,
    "start_time": "2023-06-14T10:02:44.834Z"
   },
   {
    "duration": 7,
    "start_time": "2023-06-14T10:02:44.910Z"
   },
   {
    "duration": 1092,
    "start_time": "2023-06-14T10:02:44.919Z"
   },
   {
    "duration": 673,
    "start_time": "2023-06-14T10:02:46.013Z"
   },
   {
    "duration": 6,
    "start_time": "2023-06-14T10:02:46.688Z"
   },
   {
    "duration": 53,
    "start_time": "2023-06-14T10:02:46.695Z"
   },
   {
    "duration": 3,
    "start_time": "2023-06-14T10:02:46.750Z"
   },
   {
    "duration": 21,
    "start_time": "2023-06-14T10:02:46.755Z"
   },
   {
    "duration": 80,
    "start_time": "2023-06-14T10:02:46.778Z"
   },
   {
    "duration": 40,
    "start_time": "2023-06-14T10:02:46.861Z"
   },
   {
    "duration": 60,
    "start_time": "2023-06-14T10:02:46.904Z"
   },
   {
    "duration": 23798,
    "start_time": "2023-06-14T10:02:46.966Z"
   },
   {
    "duration": 32,
    "start_time": "2023-06-14T10:04:37.843Z"
   },
   {
    "duration": 101,
    "start_time": "2023-06-14T10:13:19.206Z"
   },
   {
    "duration": 102,
    "start_time": "2023-06-14T10:13:51.049Z"
   },
   {
    "duration": 4,
    "start_time": "2023-06-14T10:13:58.765Z"
   },
   {
    "duration": 12,
    "start_time": "2023-06-14T10:14:01.075Z"
   },
   {
    "duration": 2,
    "start_time": "2023-06-14T10:14:10.511Z"
   },
   {
    "duration": 12,
    "start_time": "2023-06-14T10:14:11.570Z"
   },
   {
    "duration": 4,
    "start_time": "2023-06-14T10:14:32.638Z"
   },
   {
    "duration": 11,
    "start_time": "2023-06-14T10:14:38.052Z"
   },
   {
    "duration": 4,
    "start_time": "2023-06-14T10:14:48.677Z"
   },
   {
    "duration": 112135,
    "start_time": "2023-06-14T10:15:26.956Z"
   },
   {
    "duration": 4,
    "start_time": "2023-06-14T10:18:27.297Z"
   },
   {
    "duration": 4,
    "start_time": "2023-06-14T10:19:12.353Z"
   },
   {
    "duration": 3,
    "start_time": "2023-06-14T10:19:13.221Z"
   },
   {
    "duration": 15,
    "start_time": "2023-06-14T10:21:05.524Z"
   },
   {
    "duration": 25,
    "start_time": "2023-06-14T10:21:05.543Z"
   },
   {
    "duration": 119683,
    "start_time": "2023-06-14T10:21:05.571Z"
   },
   {
    "duration": 8,
    "start_time": "2023-06-14T10:23:05.256Z"
   },
   {
    "duration": 2274,
    "start_time": "2023-06-14T15:27:53.515Z"
   },
   {
    "duration": 2003,
    "start_time": "2023-06-14T15:27:55.792Z"
   },
   {
    "duration": 154,
    "start_time": "2023-06-14T15:27:57.797Z"
   },
   {
    "duration": 109,
    "start_time": "2023-06-14T15:27:57.958Z"
   },
   {
    "duration": 534,
    "start_time": "2023-06-14T15:27:58.076Z"
   },
   {
    "duration": 315,
    "start_time": "2023-06-14T15:27:58.612Z"
   },
   {
    "duration": 245,
    "start_time": "2023-06-14T15:27:58.929Z"
   },
   {
    "duration": 319,
    "start_time": "2023-06-14T15:27:59.181Z"
   },
   {
    "duration": 236,
    "start_time": "2023-06-14T15:27:59.503Z"
   },
   {
    "duration": 341,
    "start_time": "2023-06-14T15:27:59.748Z"
   },
   {
    "duration": 692,
    "start_time": "2023-06-14T15:28:00.092Z"
   },
   {
    "duration": 649,
    "start_time": "2023-06-14T15:28:00.786Z"
   },
   {
    "duration": 1666,
    "start_time": "2023-06-14T15:28:01.441Z"
   },
   {
    "duration": 815,
    "start_time": "2023-06-14T15:28:03.109Z"
   },
   {
    "duration": 25,
    "start_time": "2023-06-14T15:28:03.927Z"
   },
   {
    "duration": 197,
    "start_time": "2023-06-14T15:28:03.960Z"
   },
   {
    "duration": 366,
    "start_time": "2023-06-14T15:28:04.164Z"
   },
   {
    "duration": 302,
    "start_time": "2023-06-14T15:28:04.532Z"
   },
   {
    "duration": 819,
    "start_time": "2023-06-14T15:28:04.836Z"
   },
   {
    "duration": 387,
    "start_time": "2023-06-14T15:28:05.670Z"
   },
   {
    "duration": 51,
    "start_time": "2023-06-14T15:28:06.059Z"
   },
   {
    "duration": 820,
    "start_time": "2023-06-14T15:28:06.113Z"
   },
   {
    "duration": 724,
    "start_time": "2023-06-14T15:28:06.935Z"
   },
   {
    "duration": 48,
    "start_time": "2023-06-14T15:28:07.661Z"
   },
   {
    "duration": 714,
    "start_time": "2023-06-14T15:28:07.714Z"
   },
   {
    "duration": 46,
    "start_time": "2023-06-14T15:28:08.431Z"
   },
   {
    "duration": 272,
    "start_time": "2023-06-14T15:28:08.489Z"
   },
   {
    "duration": 478,
    "start_time": "2023-06-14T15:28:08.766Z"
   },
   {
    "duration": 103,
    "start_time": "2023-06-14T15:28:09.254Z"
   },
   {
    "duration": 38,
    "start_time": "2023-06-14T15:28:09.360Z"
   },
   {
    "duration": 1450,
    "start_time": "2023-06-14T15:28:09.401Z"
   },
   {
    "duration": 846,
    "start_time": "2023-06-14T15:28:10.853Z"
   },
   {
    "duration": 9,
    "start_time": "2023-06-14T15:28:11.701Z"
   },
   {
    "duration": 195,
    "start_time": "2023-06-14T15:28:11.712Z"
   },
   {
    "duration": 162,
    "start_time": "2023-06-14T15:28:11.909Z"
   },
   {
    "duration": 26,
    "start_time": "2023-06-14T15:28:12.077Z"
   },
   {
    "duration": 350,
    "start_time": "2023-06-14T15:28:12.106Z"
   },
   {
    "duration": 166,
    "start_time": "2023-06-14T15:28:12.463Z"
   },
   {
    "duration": 163,
    "start_time": "2023-06-14T15:28:12.631Z"
   },
   {
    "duration": 67668,
    "start_time": "2023-06-14T15:28:12.796Z"
   },
   {
    "duration": 75,
    "start_time": "2023-06-14T15:29:20.472Z"
   },
   {
    "duration": 56,
    "start_time": "2023-06-14T15:29:20.548Z"
   },
   {
    "duration": 143674,
    "start_time": "2023-06-14T15:29:20.606Z"
   },
   {
    "duration": 4,
    "start_time": "2023-06-14T15:31:44.283Z"
   },
   {
    "duration": 5,
    "start_time": "2023-06-14T15:32:57.711Z"
   },
   {
    "duration": 9773,
    "start_time": "2023-06-14T15:34:25.782Z"
   },
   {
    "duration": 1714,
    "start_time": "2023-06-14T15:35:18.181Z"
   },
   {
    "duration": 7117,
    "start_time": "2023-06-14T15:35:25.802Z"
   },
   {
    "duration": 4,
    "start_time": "2023-06-14T15:39:39.464Z"
   },
   {
    "duration": 13,
    "start_time": "2023-06-14T15:39:41.495Z"
   },
   {
    "duration": 1861,
    "start_time": "2023-06-14T15:39:50.491Z"
   },
   {
    "duration": 1043,
    "start_time": "2023-06-14T15:39:52.362Z"
   },
   {
    "duration": 175,
    "start_time": "2023-06-14T15:39:53.407Z"
   },
   {
    "duration": 20,
    "start_time": "2023-06-14T15:39:53.591Z"
   },
   {
    "duration": 191,
    "start_time": "2023-06-14T15:39:53.613Z"
   },
   {
    "duration": 55,
    "start_time": "2023-06-14T15:39:53.806Z"
   },
   {
    "duration": 133,
    "start_time": "2023-06-14T15:39:53.871Z"
   },
   {
    "duration": 117,
    "start_time": "2023-06-14T15:39:54.006Z"
   },
   {
    "duration": 108,
    "start_time": "2023-06-14T15:39:54.126Z"
   },
   {
    "duration": 121,
    "start_time": "2023-06-14T15:39:54.237Z"
   },
   {
    "duration": 399,
    "start_time": "2023-06-14T15:39:54.360Z"
   },
   {
    "duration": 599,
    "start_time": "2023-06-14T15:39:54.764Z"
   },
   {
    "duration": 1429,
    "start_time": "2023-06-14T15:39:55.365Z"
   },
   {
    "duration": 701,
    "start_time": "2023-06-14T15:39:56.797Z"
   },
   {
    "duration": 9,
    "start_time": "2023-06-14T15:39:57.500Z"
   },
   {
    "duration": 65,
    "start_time": "2023-06-14T15:39:57.510Z"
   },
   {
    "duration": 116,
    "start_time": "2023-06-14T15:39:57.577Z"
   },
   {
    "duration": 95,
    "start_time": "2023-06-14T15:39:57.695Z"
   },
   {
    "duration": 601,
    "start_time": "2023-06-14T15:39:57.795Z"
   },
   {
    "duration": 394,
    "start_time": "2023-06-14T15:39:58.399Z"
   },
   {
    "duration": 53,
    "start_time": "2023-06-14T15:39:58.796Z"
   },
   {
    "duration": 661,
    "start_time": "2023-06-14T15:39:58.851Z"
   },
   {
    "duration": 619,
    "start_time": "2023-06-14T15:39:59.514Z"
   },
   {
    "duration": 56,
    "start_time": "2023-06-14T15:40:00.135Z"
   },
   {
    "duration": 435,
    "start_time": "2023-06-14T15:40:00.195Z"
   },
   {
    "duration": 56,
    "start_time": "2023-06-14T15:40:00.632Z"
   },
   {
    "duration": 118,
    "start_time": "2023-06-14T15:40:00.690Z"
   },
   {
    "duration": 458,
    "start_time": "2023-06-14T15:40:00.810Z"
   },
   {
    "duration": 92,
    "start_time": "2023-06-14T15:40:01.271Z"
   },
   {
    "duration": 43,
    "start_time": "2023-06-14T15:40:01.365Z"
   },
   {
    "duration": 1366,
    "start_time": "2023-06-14T15:40:01.410Z"
   },
   {
    "duration": 860,
    "start_time": "2023-06-14T15:40:02.779Z"
   },
   {
    "duration": 9,
    "start_time": "2023-06-14T15:40:03.641Z"
   },
   {
    "duration": 139,
    "start_time": "2023-06-14T15:40:03.653Z"
   },
   {
    "duration": 29,
    "start_time": "2023-06-14T15:40:03.794Z"
   },
   {
    "duration": 91,
    "start_time": "2023-06-14T15:40:03.825Z"
   },
   {
    "duration": 183,
    "start_time": "2023-06-14T15:40:03.918Z"
   },
   {
    "duration": 52,
    "start_time": "2023-06-14T15:40:04.103Z"
   },
   {
    "duration": 80,
    "start_time": "2023-06-14T15:40:04.157Z"
   },
   {
    "duration": 51413,
    "start_time": "2023-06-14T15:40:04.239Z"
   },
   {
    "duration": 14,
    "start_time": "2023-06-14T15:40:55.657Z"
   },
   {
    "duration": 183,
    "start_time": "2023-06-14T15:40:55.755Z"
   },
   {
    "duration": 0,
    "start_time": "2023-06-14T15:40:55.941Z"
   },
   {
    "duration": 0,
    "start_time": "2023-06-14T15:40:55.942Z"
   },
   {
    "duration": 0,
    "start_time": "2023-06-14T15:40:55.944Z"
   },
   {
    "duration": 5,
    "start_time": "2023-06-14T15:41:02.904Z"
   },
   {
    "duration": 6,
    "start_time": "2023-06-14T15:41:03.552Z"
   },
   {
    "duration": 158374,
    "start_time": "2023-06-14T15:41:54.081Z"
   },
   {
    "duration": 14,
    "start_time": "2023-06-14T15:44:32.466Z"
   },
   {
    "duration": 3,
    "start_time": "2023-06-14T15:47:43.898Z"
   },
   {
    "duration": 1807,
    "start_time": "2023-06-14T15:48:43.632Z"
   },
   {
    "duration": 1053,
    "start_time": "2023-06-14T15:48:45.441Z"
   },
   {
    "duration": 164,
    "start_time": "2023-06-14T15:48:46.497Z"
   },
   {
    "duration": 27,
    "start_time": "2023-06-14T15:48:46.670Z"
   },
   {
    "duration": 139,
    "start_time": "2023-06-14T15:48:46.699Z"
   },
   {
    "duration": 50,
    "start_time": "2023-06-14T15:48:46.840Z"
   },
   {
    "duration": 39,
    "start_time": "2023-06-14T15:48:46.893Z"
   },
   {
    "duration": 60,
    "start_time": "2023-06-14T15:48:46.935Z"
   },
   {
    "duration": 36,
    "start_time": "2023-06-14T15:48:46.997Z"
   },
   {
    "duration": 57,
    "start_time": "2023-06-14T15:48:47.036Z"
   },
   {
    "duration": 359,
    "start_time": "2023-06-14T15:48:47.096Z"
   },
   {
    "duration": 631,
    "start_time": "2023-06-14T15:48:47.456Z"
   },
   {
    "duration": 1475,
    "start_time": "2023-06-14T15:48:48.090Z"
   },
   {
    "duration": 791,
    "start_time": "2023-06-14T15:48:49.570Z"
   },
   {
    "duration": 15,
    "start_time": "2023-06-14T15:48:50.366Z"
   },
   {
    "duration": 123,
    "start_time": "2023-06-14T15:48:50.384Z"
   },
   {
    "duration": 198,
    "start_time": "2023-06-14T15:48:50.513Z"
   },
   {
    "duration": 91,
    "start_time": "2023-06-14T15:48:50.713Z"
   },
   {
    "duration": 657,
    "start_time": "2023-06-14T15:48:50.806Z"
   },
   {
    "duration": 367,
    "start_time": "2023-06-14T15:48:51.465Z"
   },
   {
    "duration": 51,
    "start_time": "2023-06-14T15:48:51.834Z"
   },
   {
    "duration": 734,
    "start_time": "2023-06-14T15:48:51.887Z"
   },
   {
    "duration": 700,
    "start_time": "2023-06-14T15:48:52.623Z"
   },
   {
    "duration": 53,
    "start_time": "2023-06-14T15:48:53.324Z"
   },
   {
    "duration": 547,
    "start_time": "2023-06-14T15:48:53.379Z"
   },
   {
    "duration": 49,
    "start_time": "2023-06-14T15:48:53.928Z"
   },
   {
    "duration": 222,
    "start_time": "2023-06-14T15:48:53.979Z"
   },
   {
    "duration": 377,
    "start_time": "2023-06-14T15:48:54.219Z"
   },
   {
    "duration": 102,
    "start_time": "2023-06-14T15:48:54.599Z"
   },
   {
    "duration": 225,
    "start_time": "2023-06-14T15:48:54.704Z"
   },
   {
    "duration": 1498,
    "start_time": "2023-06-14T15:48:54.932Z"
   },
   {
    "duration": 895,
    "start_time": "2023-06-14T15:48:56.432Z"
   },
   {
    "duration": 7,
    "start_time": "2023-06-14T15:48:57.330Z"
   },
   {
    "duration": 140,
    "start_time": "2023-06-14T15:48:57.348Z"
   },
   {
    "duration": 10,
    "start_time": "2023-06-14T15:48:57.490Z"
   },
   {
    "duration": 32,
    "start_time": "2023-06-14T15:48:57.502Z"
   },
   {
    "duration": 183,
    "start_time": "2023-06-14T15:48:57.536Z"
   },
   {
    "duration": 63,
    "start_time": "2023-06-14T15:48:57.721Z"
   },
   {
    "duration": 80,
    "start_time": "2023-06-14T15:48:57.786Z"
   },
   {
    "duration": 81206,
    "start_time": "2023-06-14T15:48:57.869Z"
   },
   {
    "duration": 17,
    "start_time": "2023-06-14T15:50:19.148Z"
   },
   {
    "duration": 19,
    "start_time": "2023-06-14T15:50:19.177Z"
   },
   {
    "duration": 140381,
    "start_time": "2023-06-14T15:50:19.198Z"
   },
   {
    "duration": 4,
    "start_time": "2023-06-14T15:52:39.582Z"
   },
   {
    "duration": 12,
    "start_time": "2023-06-14T15:52:39.588Z"
   },
   {
    "duration": 132,
    "start_time": "2023-06-14T15:52:39.603Z"
   },
   {
    "duration": 131,
    "start_time": "2023-06-14T15:59:16.618Z"
   },
   {
    "duration": 57140,
    "start_time": "2023-06-14T16:00:14.610Z"
   },
   {
    "duration": 59580,
    "start_time": "2023-06-14T16:01:35.172Z"
   },
   {
    "duration": 11,
    "start_time": "2023-06-14T16:12:48.889Z"
   },
   {
    "duration": 4,
    "start_time": "2023-06-14T16:13:06.203Z"
   },
   {
    "duration": 14,
    "start_time": "2023-06-14T16:13:07.441Z"
   },
   {
    "duration": 3,
    "start_time": "2023-06-14T16:14:18.659Z"
   },
   {
    "duration": 4,
    "start_time": "2023-06-14T16:14:19.103Z"
   },
   {
    "duration": 3,
    "start_time": "2023-06-14T16:16:07.346Z"
   },
   {
    "duration": 3,
    "start_time": "2023-06-14T16:16:08.591Z"
   },
   {
    "duration": 3,
    "start_time": "2023-06-14T16:16:35.630Z"
   },
   {
    "duration": 11,
    "start_time": "2023-06-14T16:18:48.173Z"
   },
   {
    "duration": 7,
    "start_time": "2023-06-14T16:19:31.408Z"
   },
   {
    "duration": 2784,
    "start_time": "2023-06-14T16:19:48.135Z"
   },
   {
    "duration": 861,
    "start_time": "2023-06-14T16:19:50.921Z"
   },
   {
    "duration": 124,
    "start_time": "2023-06-14T16:19:51.786Z"
   },
   {
    "duration": 33,
    "start_time": "2023-06-14T16:19:51.913Z"
   },
   {
    "duration": 209,
    "start_time": "2023-06-14T16:19:51.954Z"
   },
   {
    "duration": 31,
    "start_time": "2023-06-14T16:19:52.165Z"
   },
   {
    "duration": 76,
    "start_time": "2023-06-14T16:19:52.197Z"
   },
   {
    "duration": 58,
    "start_time": "2023-06-14T16:19:52.275Z"
   },
   {
    "duration": 83,
    "start_time": "2023-06-14T16:19:52.335Z"
   },
   {
    "duration": 49,
    "start_time": "2023-06-14T16:19:52.420Z"
   },
   {
    "duration": 317,
    "start_time": "2023-06-14T16:19:52.470Z"
   },
   {
    "duration": 528,
    "start_time": "2023-06-14T16:19:52.789Z"
   },
   {
    "duration": 1241,
    "start_time": "2023-06-14T16:19:53.320Z"
   },
   {
    "duration": 605,
    "start_time": "2023-06-14T16:19:54.563Z"
   },
   {
    "duration": 8,
    "start_time": "2023-06-14T16:19:55.169Z"
   },
   {
    "duration": 42,
    "start_time": "2023-06-14T16:19:55.178Z"
   },
   {
    "duration": 90,
    "start_time": "2023-06-14T16:19:55.222Z"
   },
   {
    "duration": 79,
    "start_time": "2023-06-14T16:19:55.314Z"
   },
   {
    "duration": 467,
    "start_time": "2023-06-14T16:19:55.394Z"
   },
   {
    "duration": 286,
    "start_time": "2023-06-14T16:19:55.862Z"
   },
   {
    "duration": 48,
    "start_time": "2023-06-14T16:19:56.150Z"
   },
   {
    "duration": 562,
    "start_time": "2023-06-14T16:19:56.199Z"
   },
   {
    "duration": 475,
    "start_time": "2023-06-14T16:19:56.763Z"
   },
   {
    "duration": 43,
    "start_time": "2023-06-14T16:19:57.240Z"
   },
   {
    "duration": 349,
    "start_time": "2023-06-14T16:19:57.285Z"
   },
   {
    "duration": 41,
    "start_time": "2023-06-14T16:19:57.641Z"
   },
   {
    "duration": 75,
    "start_time": "2023-06-14T16:19:57.684Z"
   },
   {
    "duration": 249,
    "start_time": "2023-06-14T16:19:57.761Z"
   },
   {
    "duration": 78,
    "start_time": "2023-06-14T16:19:58.012Z"
   },
   {
    "duration": 5,
    "start_time": "2023-06-14T16:19:58.092Z"
   },
   {
    "duration": 935,
    "start_time": "2023-06-14T16:19:58.099Z"
   },
   {
    "duration": 731,
    "start_time": "2023-06-14T16:19:59.035Z"
   },
   {
    "duration": 6,
    "start_time": "2023-06-14T16:19:59.768Z"
   },
   {
    "duration": 56,
    "start_time": "2023-06-14T16:19:59.776Z"
   },
   {
    "duration": 30,
    "start_time": "2023-06-14T16:19:59.834Z"
   },
   {
    "duration": 51,
    "start_time": "2023-06-14T16:19:59.866Z"
   },
   {
    "duration": 136,
    "start_time": "2023-06-14T16:19:59.919Z"
   },
   {
    "duration": 54,
    "start_time": "2023-06-14T16:20:00.061Z"
   },
   {
    "duration": 48,
    "start_time": "2023-06-14T16:20:00.118Z"
   },
   {
    "duration": 33,
    "start_time": "2023-06-14T16:20:00.171Z"
   },
   {
    "duration": 29,
    "start_time": "2023-06-14T16:20:00.205Z"
   },
   {
    "duration": 166,
    "start_time": "2023-06-14T16:20:00.236Z"
   },
   {
    "duration": 0,
    "start_time": "2023-06-14T16:20:00.404Z"
   },
   {
    "duration": 0,
    "start_time": "2023-06-14T16:20:00.404Z"
   },
   {
    "duration": 0,
    "start_time": "2023-06-14T16:20:00.406Z"
   },
   {
    "duration": 0,
    "start_time": "2023-06-14T16:20:00.407Z"
   },
   {
    "duration": 0,
    "start_time": "2023-06-14T16:20:00.407Z"
   },
   {
    "duration": 0,
    "start_time": "2023-06-14T16:20:00.408Z"
   },
   {
    "duration": 0,
    "start_time": "2023-06-14T16:20:00.409Z"
   },
   {
    "duration": 2,
    "start_time": "2023-06-14T16:20:22.899Z"
   },
   {
    "duration": 1711,
    "start_time": "2023-06-14T16:23:46.453Z"
   },
   {
    "duration": 905,
    "start_time": "2023-06-14T16:23:48.167Z"
   },
   {
    "duration": 129,
    "start_time": "2023-06-14T16:23:49.073Z"
   },
   {
    "duration": 40,
    "start_time": "2023-06-14T16:23:49.204Z"
   },
   {
    "duration": 135,
    "start_time": "2023-06-14T16:23:49.248Z"
   },
   {
    "duration": 32,
    "start_time": "2023-06-14T16:23:49.385Z"
   },
   {
    "duration": 67,
    "start_time": "2023-06-14T16:23:49.419Z"
   },
   {
    "duration": 40,
    "start_time": "2023-06-14T16:23:49.488Z"
   },
   {
    "duration": 58,
    "start_time": "2023-06-14T16:23:49.530Z"
   },
   {
    "duration": 45,
    "start_time": "2023-06-14T16:23:49.590Z"
   },
   {
    "duration": 371,
    "start_time": "2023-06-14T16:23:49.637Z"
   },
   {
    "duration": 652,
    "start_time": "2023-06-14T16:23:50.011Z"
   },
   {
    "duration": 1218,
    "start_time": "2023-06-14T16:23:50.665Z"
   },
   {
    "duration": 606,
    "start_time": "2023-06-14T16:23:51.884Z"
   },
   {
    "duration": 8,
    "start_time": "2023-06-14T16:23:52.492Z"
   },
   {
    "duration": 55,
    "start_time": "2023-06-14T16:23:52.501Z"
   },
   {
    "duration": 73,
    "start_time": "2023-06-14T16:23:52.558Z"
   },
   {
    "duration": 136,
    "start_time": "2023-06-14T16:23:52.632Z"
   },
   {
    "duration": 494,
    "start_time": "2023-06-14T16:23:52.770Z"
   },
   {
    "duration": 320,
    "start_time": "2023-06-14T16:23:53.265Z"
   },
   {
    "duration": 39,
    "start_time": "2023-06-14T16:23:53.587Z"
   },
   {
    "duration": 594,
    "start_time": "2023-06-14T16:23:53.628Z"
   },
   {
    "duration": 466,
    "start_time": "2023-06-14T16:23:54.224Z"
   },
   {
    "duration": 35,
    "start_time": "2023-06-14T16:23:54.692Z"
   },
   {
    "duration": 338,
    "start_time": "2023-06-14T16:23:54.741Z"
   },
   {
    "duration": 32,
    "start_time": "2023-06-14T16:23:55.080Z"
   },
   {
    "duration": 83,
    "start_time": "2023-06-14T16:23:55.114Z"
   },
   {
    "duration": 256,
    "start_time": "2023-06-14T16:23:55.200Z"
   },
   {
    "duration": 67,
    "start_time": "2023-06-14T16:23:55.458Z"
   },
   {
    "duration": 4,
    "start_time": "2023-06-14T16:23:55.526Z"
   },
   {
    "duration": 841,
    "start_time": "2023-06-14T16:23:55.541Z"
   },
   {
    "duration": 718,
    "start_time": "2023-06-14T16:23:56.384Z"
   },
   {
    "duration": 5,
    "start_time": "2023-06-14T16:23:57.104Z"
   },
   {
    "duration": 16,
    "start_time": "2023-06-14T16:23:57.111Z"
   },
   {
    "duration": 18,
    "start_time": "2023-06-14T16:23:57.129Z"
   },
   {
    "duration": 24,
    "start_time": "2023-06-14T16:23:57.152Z"
   },
   {
    "duration": 82,
    "start_time": "2023-06-14T16:23:57.178Z"
   },
   {
    "duration": 37,
    "start_time": "2023-06-14T16:23:57.262Z"
   },
   {
    "duration": 52,
    "start_time": "2023-06-14T16:23:57.301Z"
   },
   {
    "duration": 3,
    "start_time": "2023-06-14T16:23:57.355Z"
   },
   {
    "duration": 7,
    "start_time": "2023-06-14T16:23:57.360Z"
   },
   {
    "duration": 1995,
    "start_time": "2023-06-14T16:24:58.861Z"
   },
   {
    "duration": 1048,
    "start_time": "2023-06-14T16:25:00.858Z"
   },
   {
    "duration": 138,
    "start_time": "2023-06-14T16:25:01.909Z"
   },
   {
    "duration": 140,
    "start_time": "2023-06-14T16:25:02.049Z"
   },
   {
    "duration": 167,
    "start_time": "2023-06-14T16:25:02.190Z"
   },
   {
    "duration": 37,
    "start_time": "2023-06-14T16:25:02.359Z"
   },
   {
    "duration": 40,
    "start_time": "2023-06-14T16:25:02.398Z"
   },
   {
    "duration": 55,
    "start_time": "2023-06-14T16:25:02.445Z"
   },
   {
    "duration": 64,
    "start_time": "2023-06-14T16:25:02.501Z"
   },
   {
    "duration": 56,
    "start_time": "2023-06-14T16:25:02.568Z"
   },
   {
    "duration": 280,
    "start_time": "2023-06-14T16:25:02.625Z"
   },
   {
    "duration": 518,
    "start_time": "2023-06-14T16:25:02.907Z"
   },
   {
    "duration": 1193,
    "start_time": "2023-06-14T16:25:03.427Z"
   },
   {
    "duration": 587,
    "start_time": "2023-06-14T16:25:04.623Z"
   },
   {
    "duration": 7,
    "start_time": "2023-06-14T16:25:05.212Z"
   },
   {
    "duration": 60,
    "start_time": "2023-06-14T16:25:05.220Z"
   },
   {
    "duration": 116,
    "start_time": "2023-06-14T16:25:05.281Z"
   },
   {
    "duration": 70,
    "start_time": "2023-06-14T16:25:05.399Z"
   },
   {
    "duration": 487,
    "start_time": "2023-06-14T16:25:05.471Z"
   },
   {
    "duration": 281,
    "start_time": "2023-06-14T16:25:05.960Z"
   },
   {
    "duration": 44,
    "start_time": "2023-06-14T16:25:06.247Z"
   },
   {
    "duration": 565,
    "start_time": "2023-06-14T16:25:06.293Z"
   },
   {
    "duration": 453,
    "start_time": "2023-06-14T16:25:06.861Z"
   },
   {
    "duration": 39,
    "start_time": "2023-06-14T16:25:07.316Z"
   },
   {
    "duration": 341,
    "start_time": "2023-06-14T16:25:07.357Z"
   },
   {
    "duration": 32,
    "start_time": "2023-06-14T16:25:07.700Z"
   },
   {
    "duration": 68,
    "start_time": "2023-06-14T16:25:07.742Z"
   },
   {
    "duration": 254,
    "start_time": "2023-06-14T16:25:07.814Z"
   },
   {
    "duration": 87,
    "start_time": "2023-06-14T16:25:08.070Z"
   },
   {
    "duration": 5,
    "start_time": "2023-06-14T16:25:08.159Z"
   },
   {
    "duration": 952,
    "start_time": "2023-06-14T16:25:08.165Z"
   },
   {
    "duration": 743,
    "start_time": "2023-06-14T16:25:09.118Z"
   },
   {
    "duration": 7,
    "start_time": "2023-06-14T16:25:09.867Z"
   },
   {
    "duration": 35,
    "start_time": "2023-06-14T16:25:09.876Z"
   },
   {
    "duration": 9,
    "start_time": "2023-06-14T16:25:09.913Z"
   },
   {
    "duration": 33,
    "start_time": "2023-06-14T16:25:09.924Z"
   },
   {
    "duration": 86,
    "start_time": "2023-06-14T16:25:09.959Z"
   },
   {
    "duration": 45,
    "start_time": "2023-06-14T16:25:10.047Z"
   },
   {
    "duration": 70,
    "start_time": "2023-06-14T16:25:10.094Z"
   },
   {
    "duration": 3,
    "start_time": "2023-06-14T16:25:10.165Z"
   },
   {
    "duration": 6,
    "start_time": "2023-06-14T16:25:10.171Z"
   },
   {
    "duration": 1552,
    "start_time": "2023-06-14T16:31:11.149Z"
   },
   {
    "duration": 864,
    "start_time": "2023-06-14T16:31:12.703Z"
   },
   {
    "duration": 130,
    "start_time": "2023-06-14T16:31:13.569Z"
   },
   {
    "duration": 17,
    "start_time": "2023-06-14T16:31:13.701Z"
   },
   {
    "duration": 248,
    "start_time": "2023-06-14T16:31:13.719Z"
   },
   {
    "duration": 39,
    "start_time": "2023-06-14T16:31:13.969Z"
   },
   {
    "duration": 63,
    "start_time": "2023-06-14T16:31:14.010Z"
   },
   {
    "duration": 81,
    "start_time": "2023-06-14T16:31:14.074Z"
   },
   {
    "duration": 73,
    "start_time": "2023-06-14T16:31:14.156Z"
   },
   {
    "duration": 47,
    "start_time": "2023-06-14T16:31:14.231Z"
   },
   {
    "duration": 275,
    "start_time": "2023-06-14T16:31:14.280Z"
   },
   {
    "duration": 500,
    "start_time": "2023-06-14T16:31:14.556Z"
   },
   {
    "duration": 1175,
    "start_time": "2023-06-14T16:31:15.058Z"
   },
   {
    "duration": 605,
    "start_time": "2023-06-14T16:31:16.235Z"
   },
   {
    "duration": 17,
    "start_time": "2023-06-14T16:31:16.843Z"
   },
   {
    "duration": 40,
    "start_time": "2023-06-14T16:31:16.864Z"
   },
   {
    "duration": 97,
    "start_time": "2023-06-14T16:31:16.906Z"
   },
   {
    "duration": 74,
    "start_time": "2023-06-14T16:31:17.005Z"
   },
   {
    "duration": 478,
    "start_time": "2023-06-14T16:31:17.080Z"
   },
   {
    "duration": 273,
    "start_time": "2023-06-14T16:31:17.559Z"
   },
   {
    "duration": 41,
    "start_time": "2023-06-14T16:31:17.834Z"
   },
   {
    "duration": 599,
    "start_time": "2023-06-14T16:31:17.877Z"
   },
   {
    "duration": 445,
    "start_time": "2023-06-14T16:31:18.478Z"
   },
   {
    "duration": 41,
    "start_time": "2023-06-14T16:31:18.925Z"
   },
   {
    "duration": 354,
    "start_time": "2023-06-14T16:31:18.968Z"
   },
   {
    "duration": 41,
    "start_time": "2023-06-14T16:31:19.324Z"
   },
   {
    "duration": 88,
    "start_time": "2023-06-14T16:31:19.367Z"
   },
   {
    "duration": 253,
    "start_time": "2023-06-14T16:31:19.459Z"
   },
   {
    "duration": 99,
    "start_time": "2023-06-14T16:31:19.714Z"
   },
   {
    "duration": 5,
    "start_time": "2023-06-14T16:31:19.817Z"
   },
   {
    "duration": 987,
    "start_time": "2023-06-14T16:31:19.823Z"
   },
   {
    "duration": 706,
    "start_time": "2023-06-14T16:31:20.811Z"
   },
   {
    "duration": 6,
    "start_time": "2023-06-14T16:31:21.519Z"
   },
   {
    "duration": 31,
    "start_time": "2023-06-14T16:31:21.527Z"
   },
   {
    "duration": 6,
    "start_time": "2023-06-14T16:31:21.560Z"
   },
   {
    "duration": 21,
    "start_time": "2023-06-14T16:31:21.568Z"
   },
   {
    "duration": 87,
    "start_time": "2023-06-14T16:31:21.591Z"
   },
   {
    "duration": 37,
    "start_time": "2023-06-14T16:31:21.680Z"
   },
   {
    "duration": 53,
    "start_time": "2023-06-14T16:31:21.718Z"
   },
   {
    "duration": 3,
    "start_time": "2023-06-14T16:31:21.772Z"
   },
   {
    "duration": 34672,
    "start_time": "2023-06-14T16:31:21.777Z"
   },
   {
    "duration": 5,
    "start_time": "2023-06-14T16:31:56.451Z"
   },
   {
    "duration": 101,
    "start_time": "2023-06-14T16:31:56.458Z"
   },
   {
    "duration": 1785,
    "start_time": "2023-06-14T16:32:57.823Z"
   },
   {
    "duration": 889,
    "start_time": "2023-06-14T16:32:59.610Z"
   },
   {
    "duration": 122,
    "start_time": "2023-06-14T16:33:00.501Z"
   },
   {
    "duration": 44,
    "start_time": "2023-06-14T16:33:00.624Z"
   },
   {
    "duration": 136,
    "start_time": "2023-06-14T16:33:00.671Z"
   },
   {
    "duration": 47,
    "start_time": "2023-06-14T16:33:00.809Z"
   },
   {
    "duration": 43,
    "start_time": "2023-06-14T16:33:00.858Z"
   },
   {
    "duration": 60,
    "start_time": "2023-06-14T16:33:00.902Z"
   },
   {
    "duration": 51,
    "start_time": "2023-06-14T16:33:00.964Z"
   },
   {
    "duration": 70,
    "start_time": "2023-06-14T16:33:01.017Z"
   },
   {
    "duration": 297,
    "start_time": "2023-06-14T16:33:01.089Z"
   },
   {
    "duration": 528,
    "start_time": "2023-06-14T16:33:01.389Z"
   },
   {
    "duration": 1179,
    "start_time": "2023-06-14T16:33:01.919Z"
   },
   {
    "duration": 592,
    "start_time": "2023-06-14T16:33:03.101Z"
   },
   {
    "duration": 7,
    "start_time": "2023-06-14T16:33:03.694Z"
   },
   {
    "duration": 53,
    "start_time": "2023-06-14T16:33:03.703Z"
   },
   {
    "duration": 73,
    "start_time": "2023-06-14T16:33:03.758Z"
   },
   {
    "duration": 69,
    "start_time": "2023-06-14T16:33:03.833Z"
   },
   {
    "duration": 529,
    "start_time": "2023-06-14T16:33:03.903Z"
   },
   {
    "duration": 272,
    "start_time": "2023-06-14T16:33:04.434Z"
   },
   {
    "duration": 44,
    "start_time": "2023-06-14T16:33:04.708Z"
   },
   {
    "duration": 542,
    "start_time": "2023-06-14T16:33:04.754Z"
   },
   {
    "duration": 476,
    "start_time": "2023-06-14T16:33:05.298Z"
   },
   {
    "duration": 33,
    "start_time": "2023-06-14T16:33:05.776Z"
   },
   {
    "duration": 348,
    "start_time": "2023-06-14T16:33:05.810Z"
   },
   {
    "duration": 31,
    "start_time": "2023-06-14T16:33:06.160Z"
   },
   {
    "duration": 73,
    "start_time": "2023-06-14T16:33:06.192Z"
   },
   {
    "duration": 247,
    "start_time": "2023-06-14T16:33:06.267Z"
   },
   {
    "duration": 79,
    "start_time": "2023-06-14T16:33:06.515Z"
   },
   {
    "duration": 22,
    "start_time": "2023-06-14T16:33:06.596Z"
   },
   {
    "duration": 960,
    "start_time": "2023-06-14T16:33:06.620Z"
   },
   {
    "duration": 722,
    "start_time": "2023-06-14T16:33:07.582Z"
   },
   {
    "duration": 8,
    "start_time": "2023-06-14T16:33:08.306Z"
   },
   {
    "duration": 75,
    "start_time": "2023-06-14T16:33:08.316Z"
   },
   {
    "duration": 16,
    "start_time": "2023-06-14T16:33:08.393Z"
   },
   {
    "duration": 61,
    "start_time": "2023-06-14T16:33:08.411Z"
   },
   {
    "duration": 98,
    "start_time": "2023-06-14T16:33:08.474Z"
   },
   {
    "duration": 34,
    "start_time": "2023-06-14T16:33:08.574Z"
   },
   {
    "duration": 46,
    "start_time": "2023-06-14T16:33:08.610Z"
   },
   {
    "duration": 3,
    "start_time": "2023-06-14T16:33:08.658Z"
   },
   {
    "duration": 140,
    "start_time": "2023-06-14T16:33:08.664Z"
   },
   {
    "duration": 43294,
    "start_time": "2023-06-14T16:34:02.166Z"
   },
   {
    "duration": 3,
    "start_time": "2023-06-14T16:38:35.915Z"
   },
   {
    "duration": 3,
    "start_time": "2023-06-14T16:40:54.654Z"
   },
   {
    "duration": 71,
    "start_time": "2023-06-14T16:41:59.674Z"
   },
   {
    "duration": 1647,
    "start_time": "2023-06-14T16:42:34.514Z"
   },
   {
    "duration": 899,
    "start_time": "2023-06-14T16:42:36.163Z"
   },
   {
    "duration": 121,
    "start_time": "2023-06-14T16:42:37.064Z"
   },
   {
    "duration": 17,
    "start_time": "2023-06-14T16:42:37.187Z"
   },
   {
    "duration": 148,
    "start_time": "2023-06-14T16:42:37.206Z"
   },
   {
    "duration": 30,
    "start_time": "2023-06-14T16:42:37.356Z"
   },
   {
    "duration": 37,
    "start_time": "2023-06-14T16:42:37.387Z"
   },
   {
    "duration": 46,
    "start_time": "2023-06-14T16:42:37.426Z"
   },
   {
    "duration": 36,
    "start_time": "2023-06-14T16:42:37.474Z"
   },
   {
    "duration": 46,
    "start_time": "2023-06-14T16:42:37.513Z"
   },
   {
    "duration": 296,
    "start_time": "2023-06-14T16:42:37.562Z"
   },
   {
    "duration": 596,
    "start_time": "2023-06-14T16:42:37.860Z"
   },
   {
    "duration": 1267,
    "start_time": "2023-06-14T16:42:38.458Z"
   },
   {
    "duration": 655,
    "start_time": "2023-06-14T16:42:39.727Z"
   },
   {
    "duration": 9,
    "start_time": "2023-06-14T16:42:40.384Z"
   },
   {
    "duration": 56,
    "start_time": "2023-06-14T16:42:40.395Z"
   },
   {
    "duration": 74,
    "start_time": "2023-06-14T16:42:40.454Z"
   },
   {
    "duration": 72,
    "start_time": "2023-06-14T16:42:40.530Z"
   },
   {
    "duration": 479,
    "start_time": "2023-06-14T16:42:40.604Z"
   },
   {
    "duration": 292,
    "start_time": "2023-06-14T16:42:41.085Z"
   },
   {
    "duration": 38,
    "start_time": "2023-06-14T16:42:41.379Z"
   },
   {
    "duration": 544,
    "start_time": "2023-06-14T16:42:41.419Z"
   },
   {
    "duration": 444,
    "start_time": "2023-06-14T16:42:41.964Z"
   },
   {
    "duration": 53,
    "start_time": "2023-06-14T16:42:42.410Z"
   },
   {
    "duration": 334,
    "start_time": "2023-06-14T16:42:42.465Z"
   },
   {
    "duration": 42,
    "start_time": "2023-06-14T16:42:42.801Z"
   },
   {
    "duration": 67,
    "start_time": "2023-06-14T16:42:42.845Z"
   },
   {
    "duration": 272,
    "start_time": "2023-06-14T16:42:42.915Z"
   },
   {
    "duration": 81,
    "start_time": "2023-06-14T16:42:43.188Z"
   },
   {
    "duration": 21,
    "start_time": "2023-06-14T16:42:43.271Z"
   },
   {
    "duration": 1061,
    "start_time": "2023-06-14T16:42:43.294Z"
   },
   {
    "duration": 720,
    "start_time": "2023-06-14T16:42:44.357Z"
   },
   {
    "duration": 6,
    "start_time": "2023-06-14T16:42:45.079Z"
   },
   {
    "duration": 31,
    "start_time": "2023-06-14T16:42:45.087Z"
   },
   {
    "duration": 5,
    "start_time": "2023-06-14T16:42:45.119Z"
   },
   {
    "duration": 29,
    "start_time": "2023-06-14T16:42:45.126Z"
   },
   {
    "duration": 72,
    "start_time": "2023-06-14T16:42:45.157Z"
   },
   {
    "duration": 48,
    "start_time": "2023-06-14T16:42:45.232Z"
   },
   {
    "duration": 32,
    "start_time": "2023-06-14T16:42:45.282Z"
   },
   {
    "duration": 3,
    "start_time": "2023-06-14T16:42:45.316Z"
   },
   {
    "duration": 5985,
    "start_time": "2023-06-14T16:42:52.865Z"
   },
   {
    "duration": 3,
    "start_time": "2023-06-14T16:43:06.837Z"
   },
   {
    "duration": 3,
    "start_time": "2023-06-14T16:43:22.319Z"
   },
   {
    "duration": 52090,
    "start_time": "2023-06-14T16:44:53.472Z"
   },
   {
    "duration": 11,
    "start_time": "2023-06-14T16:47:27.223Z"
   },
   {
    "duration": 3,
    "start_time": "2023-06-14T16:47:45.915Z"
   },
   {
    "duration": 5203,
    "start_time": "2023-06-14T16:50:10.991Z"
   },
   {
    "duration": 26551,
    "start_time": "2023-06-14T16:51:46.700Z"
   },
   {
    "duration": 1816,
    "start_time": "2023-06-15T14:34:36.527Z"
   },
   {
    "duration": 3158,
    "start_time": "2023-06-15T14:34:38.345Z"
   },
   {
    "duration": 129,
    "start_time": "2023-06-15T14:34:41.504Z"
   },
   {
    "duration": 16,
    "start_time": "2023-06-15T14:34:41.636Z"
   },
   {
    "duration": 138,
    "start_time": "2023-06-15T14:34:41.654Z"
   },
   {
    "duration": 46,
    "start_time": "2023-06-15T14:34:41.793Z"
   },
   {
    "duration": 45,
    "start_time": "2023-06-15T14:34:41.841Z"
   },
   {
    "duration": 60,
    "start_time": "2023-06-15T14:34:41.888Z"
   },
   {
    "duration": 42,
    "start_time": "2023-06-15T14:34:41.950Z"
   },
   {
    "duration": 41,
    "start_time": "2023-06-15T14:34:42.007Z"
   },
   {
    "duration": 327,
    "start_time": "2023-06-15T14:34:42.050Z"
   },
   {
    "duration": 486,
    "start_time": "2023-06-15T14:34:42.378Z"
   },
   {
    "duration": 974,
    "start_time": "2023-06-15T14:34:42.866Z"
   },
   {
    "duration": 621,
    "start_time": "2023-06-15T14:34:43.842Z"
   },
   {
    "duration": 9,
    "start_time": "2023-06-15T14:34:44.465Z"
   },
   {
    "duration": 48,
    "start_time": "2023-06-15T14:34:44.476Z"
   },
   {
    "duration": 77,
    "start_time": "2023-06-15T14:34:44.525Z"
   },
   {
    "duration": 60,
    "start_time": "2023-06-15T14:34:44.604Z"
   },
   {
    "duration": 390,
    "start_time": "2023-06-15T14:34:44.665Z"
   },
   {
    "duration": 236,
    "start_time": "2023-06-15T14:34:45.057Z"
   },
   {
    "duration": 39,
    "start_time": "2023-06-15T14:34:45.295Z"
   },
   {
    "duration": 442,
    "start_time": "2023-06-15T14:34:45.336Z"
   },
   {
    "duration": 353,
    "start_time": "2023-06-15T14:34:45.779Z"
   },
   {
    "duration": 28,
    "start_time": "2023-06-15T14:34:46.133Z"
   },
   {
    "duration": 308,
    "start_time": "2023-06-15T14:34:46.162Z"
   },
   {
    "duration": 25,
    "start_time": "2023-06-15T14:34:46.472Z"
   },
   {
    "duration": 65,
    "start_time": "2023-06-15T14:34:46.505Z"
   },
   {
    "duration": 231,
    "start_time": "2023-06-15T14:34:46.571Z"
   },
   {
    "duration": 67,
    "start_time": "2023-06-15T14:34:46.804Z"
   },
   {
    "duration": 4,
    "start_time": "2023-06-15T14:34:46.873Z"
   },
   {
    "duration": 736,
    "start_time": "2023-06-15T14:34:46.878Z"
   },
   {
    "duration": 653,
    "start_time": "2023-06-15T14:34:47.616Z"
   },
   {
    "duration": 5,
    "start_time": "2023-06-15T14:34:48.271Z"
   },
   {
    "duration": 21,
    "start_time": "2023-06-15T14:34:48.277Z"
   },
   {
    "duration": 5,
    "start_time": "2023-06-15T14:34:48.299Z"
   },
   {
    "duration": 25,
    "start_time": "2023-06-15T14:34:48.309Z"
   },
   {
    "duration": 57,
    "start_time": "2023-06-15T14:34:48.336Z"
   },
   {
    "duration": 42,
    "start_time": "2023-06-15T14:34:48.394Z"
   },
   {
    "duration": 29,
    "start_time": "2023-06-15T14:34:48.437Z"
   },
   {
    "duration": 1514,
    "start_time": "2023-06-15T14:39:26.274Z"
   },
   {
    "duration": 739,
    "start_time": "2023-06-15T14:39:27.789Z"
   },
   {
    "duration": 125,
    "start_time": "2023-06-15T14:39:28.530Z"
   },
   {
    "duration": 14,
    "start_time": "2023-06-15T14:39:28.657Z"
   },
   {
    "duration": 114,
    "start_time": "2023-06-15T14:39:28.672Z"
   },
   {
    "duration": 39,
    "start_time": "2023-06-15T14:39:28.788Z"
   },
   {
    "duration": 26,
    "start_time": "2023-06-15T14:39:28.828Z"
   },
   {
    "duration": 28,
    "start_time": "2023-06-15T14:39:28.855Z"
   },
   {
    "duration": 53,
    "start_time": "2023-06-15T14:39:28.884Z"
   },
   {
    "duration": 31,
    "start_time": "2023-06-15T14:39:28.941Z"
   },
   {
    "duration": 252,
    "start_time": "2023-06-15T14:39:28.974Z"
   },
   {
    "duration": 425,
    "start_time": "2023-06-15T14:39:29.227Z"
   },
   {
    "duration": 1018,
    "start_time": "2023-06-15T14:39:29.654Z"
   },
   {
    "duration": 514,
    "start_time": "2023-06-15T14:39:30.673Z"
   },
   {
    "duration": 6,
    "start_time": "2023-06-15T14:39:31.189Z"
   },
   {
    "duration": 74,
    "start_time": "2023-06-15T14:39:31.197Z"
   },
   {
    "duration": 73,
    "start_time": "2023-06-15T14:39:31.273Z"
   },
   {
    "duration": 77,
    "start_time": "2023-06-15T14:39:31.348Z"
   },
   {
    "duration": 405,
    "start_time": "2023-06-15T14:39:31.426Z"
   },
   {
    "duration": 247,
    "start_time": "2023-06-15T14:39:31.833Z"
   },
   {
    "duration": 43,
    "start_time": "2023-06-15T14:39:32.081Z"
   },
   {
    "duration": 604,
    "start_time": "2023-06-15T14:39:32.125Z"
   },
   {
    "duration": 421,
    "start_time": "2023-06-15T14:39:32.734Z"
   },
   {
    "duration": 29,
    "start_time": "2023-06-15T14:39:33.157Z"
   },
   {
    "duration": 307,
    "start_time": "2023-06-15T14:39:33.188Z"
   },
   {
    "duration": 30,
    "start_time": "2023-06-15T14:39:33.497Z"
   },
   {
    "duration": 56,
    "start_time": "2023-06-15T14:39:33.529Z"
   },
   {
    "duration": 228,
    "start_time": "2023-06-15T14:39:33.608Z"
   },
   {
    "duration": 85,
    "start_time": "2023-06-15T14:39:33.838Z"
   },
   {
    "duration": 5,
    "start_time": "2023-06-15T14:39:33.925Z"
   },
   {
    "duration": 693,
    "start_time": "2023-06-15T14:39:33.932Z"
   },
   {
    "duration": 623,
    "start_time": "2023-06-15T14:39:34.627Z"
   },
   {
    "duration": 5,
    "start_time": "2023-06-15T14:39:35.252Z"
   },
   {
    "duration": 28,
    "start_time": "2023-06-15T14:39:35.259Z"
   },
   {
    "duration": 14,
    "start_time": "2023-06-15T14:39:35.289Z"
   },
   {
    "duration": 31,
    "start_time": "2023-06-15T14:39:35.304Z"
   },
   {
    "duration": 66,
    "start_time": "2023-06-15T14:39:35.337Z"
   },
   {
    "duration": 50,
    "start_time": "2023-06-15T14:39:35.405Z"
   },
   {
    "duration": 35,
    "start_time": "2023-06-15T14:39:35.457Z"
   },
   {
    "duration": 337317,
    "start_time": "2023-06-15T14:39:35.494Z"
   },
   {
    "duration": 1800,
    "start_time": "2023-06-15T14:45:12.813Z"
   },
   {
    "duration": 3966,
    "start_time": "2023-06-15T14:45:14.623Z"
   },
   {
    "duration": 133,
    "start_time": "2023-06-15T14:45:18.590Z"
   },
   {
    "duration": 54798,
    "start_time": "2023-06-15T14:45:18.725Z"
   },
   {
    "duration": 291,
    "start_time": "2023-06-15T14:46:13.551Z"
   },
   {
    "duration": 4,
    "start_time": "2023-06-15T15:14:01.431Z"
   },
   {
    "duration": 1581,
    "start_time": "2023-06-15T15:26:17.438Z"
   },
   {
    "duration": 798,
    "start_time": "2023-06-15T15:26:19.029Z"
   },
   {
    "duration": 114,
    "start_time": "2023-06-15T15:26:19.831Z"
   },
   {
    "duration": 25,
    "start_time": "2023-06-15T15:26:19.949Z"
   },
   {
    "duration": 107,
    "start_time": "2023-06-15T15:26:19.975Z"
   },
   {
    "duration": 48,
    "start_time": "2023-06-15T15:26:20.084Z"
   },
   {
    "duration": 33,
    "start_time": "2023-06-15T15:26:20.138Z"
   },
   {
    "duration": 84,
    "start_time": "2023-06-15T15:26:20.172Z"
   },
   {
    "duration": 38,
    "start_time": "2023-06-15T15:26:20.257Z"
   },
   {
    "duration": 80,
    "start_time": "2023-06-15T15:26:20.297Z"
   },
   {
    "duration": 403,
    "start_time": "2023-06-15T15:26:20.378Z"
   },
   {
    "duration": 456,
    "start_time": "2023-06-15T15:26:20.782Z"
   },
   {
    "duration": 1115,
    "start_time": "2023-06-15T15:26:21.239Z"
   },
   {
    "duration": 649,
    "start_time": "2023-06-15T15:26:22.358Z"
   },
   {
    "duration": 14,
    "start_time": "2023-06-15T15:26:23.008Z"
   },
   {
    "duration": 47,
    "start_time": "2023-06-15T15:26:23.025Z"
   },
   {
    "duration": 99,
    "start_time": "2023-06-15T15:26:23.073Z"
   },
   {
    "duration": 63,
    "start_time": "2023-06-15T15:26:23.174Z"
   },
   {
    "duration": 488,
    "start_time": "2023-06-15T15:26:23.238Z"
   },
   {
    "duration": 276,
    "start_time": "2023-06-15T15:26:23.727Z"
   },
   {
    "duration": 40,
    "start_time": "2023-06-15T15:26:24.006Z"
   },
   {
    "duration": 517,
    "start_time": "2023-06-15T15:26:24.047Z"
   },
   {
    "duration": 399,
    "start_time": "2023-06-15T15:26:24.566Z"
   },
   {
    "duration": 30,
    "start_time": "2023-06-15T15:26:24.967Z"
   },
   {
    "duration": 382,
    "start_time": "2023-06-15T15:26:25.006Z"
   },
   {
    "duration": 41,
    "start_time": "2023-06-15T15:26:25.389Z"
   },
   {
    "duration": 80,
    "start_time": "2023-06-15T15:26:25.432Z"
   },
   {
    "duration": 271,
    "start_time": "2023-06-15T15:26:25.516Z"
   },
   {
    "duration": 111,
    "start_time": "2023-06-15T15:26:25.789Z"
   },
   {
    "duration": 12,
    "start_time": "2023-06-15T15:26:25.902Z"
   },
   {
    "duration": 830,
    "start_time": "2023-06-15T15:26:25.916Z"
   },
   {
    "duration": 725,
    "start_time": "2023-06-15T15:26:26.756Z"
   },
   {
    "duration": 6,
    "start_time": "2023-06-15T15:26:27.483Z"
   },
   {
    "duration": 41,
    "start_time": "2023-06-15T15:26:27.490Z"
   },
   {
    "duration": 7,
    "start_time": "2023-06-15T15:26:27.532Z"
   },
   {
    "duration": 22,
    "start_time": "2023-06-15T15:26:27.541Z"
   },
   {
    "duration": 66,
    "start_time": "2023-06-15T15:26:27.564Z"
   },
   {
    "duration": 38,
    "start_time": "2023-06-15T15:26:27.632Z"
   },
   {
    "duration": 50,
    "start_time": "2023-06-15T15:26:27.673Z"
   },
   {
    "duration": 469622,
    "start_time": "2023-06-15T15:26:27.725Z"
   },
   {
    "duration": 9,
    "start_time": "2023-06-15T15:34:17.354Z"
   },
   {
    "duration": 1452,
    "start_time": "2023-06-15T15:49:22.416Z"
   },
   {
    "duration": 821,
    "start_time": "2023-06-15T15:49:23.871Z"
   },
   {
    "duration": 126,
    "start_time": "2023-06-15T15:49:24.694Z"
   },
   {
    "duration": 15,
    "start_time": "2023-06-15T15:49:24.822Z"
   },
   {
    "duration": 126,
    "start_time": "2023-06-15T15:49:24.839Z"
   },
   {
    "duration": 26,
    "start_time": "2023-06-15T15:49:24.966Z"
   },
   {
    "duration": 51,
    "start_time": "2023-06-15T15:49:24.994Z"
   },
   {
    "duration": 40,
    "start_time": "2023-06-15T15:49:25.046Z"
   },
   {
    "duration": 81,
    "start_time": "2023-06-15T15:49:25.088Z"
   },
   {
    "duration": 31,
    "start_time": "2023-06-15T15:49:25.171Z"
   },
   {
    "duration": 255,
    "start_time": "2023-06-15T15:49:25.204Z"
   },
   {
    "duration": 437,
    "start_time": "2023-06-15T15:49:25.461Z"
   },
   {
    "duration": 1032,
    "start_time": "2023-06-15T15:49:25.899Z"
   },
   {
    "duration": 579,
    "start_time": "2023-06-15T15:49:26.934Z"
   },
   {
    "duration": 7,
    "start_time": "2023-06-15T15:49:27.523Z"
   },
   {
    "duration": 41,
    "start_time": "2023-06-15T15:49:27.531Z"
   },
   {
    "duration": 85,
    "start_time": "2023-06-15T15:49:27.573Z"
   },
   {
    "duration": 75,
    "start_time": "2023-06-15T15:49:27.660Z"
   },
   {
    "duration": 399,
    "start_time": "2023-06-15T15:49:27.736Z"
   },
   {
    "duration": 252,
    "start_time": "2023-06-15T15:49:28.137Z"
   },
   {
    "duration": 39,
    "start_time": "2023-06-15T15:49:28.391Z"
   },
   {
    "duration": 496,
    "start_time": "2023-06-15T15:49:28.432Z"
   },
   {
    "duration": 392,
    "start_time": "2023-06-15T15:49:28.929Z"
   },
   {
    "duration": 30,
    "start_time": "2023-06-15T15:49:29.323Z"
   },
   {
    "duration": 318,
    "start_time": "2023-06-15T15:49:29.355Z"
   },
   {
    "duration": 36,
    "start_time": "2023-06-15T15:49:29.675Z"
   },
   {
    "duration": 58,
    "start_time": "2023-06-15T15:49:29.712Z"
   },
   {
    "duration": 247,
    "start_time": "2023-06-15T15:49:29.772Z"
   },
   {
    "duration": 70,
    "start_time": "2023-06-15T15:49:30.022Z"
   },
   {
    "duration": 50,
    "start_time": "2023-06-15T15:49:30.094Z"
   },
   {
    "duration": 778,
    "start_time": "2023-06-15T15:49:30.146Z"
   },
   {
    "duration": 627,
    "start_time": "2023-06-15T15:49:30.926Z"
   },
   {
    "duration": 5,
    "start_time": "2023-06-15T15:49:31.555Z"
   },
   {
    "duration": 69,
    "start_time": "2023-06-15T15:49:31.562Z"
   },
   {
    "duration": 25,
    "start_time": "2023-06-15T15:49:31.632Z"
   },
   {
    "duration": 41,
    "start_time": "2023-06-15T15:49:31.658Z"
   },
   {
    "duration": 119,
    "start_time": "2023-06-15T15:49:31.701Z"
   },
   {
    "duration": 31,
    "start_time": "2023-06-15T15:49:31.822Z"
   },
   {
    "duration": 42,
    "start_time": "2023-06-15T15:49:31.855Z"
   },
   {
    "duration": 345120,
    "start_time": "2023-06-15T15:49:31.899Z"
   },
   {
    "duration": 4672,
    "start_time": "2023-06-15T15:55:17.027Z"
   },
   {
    "duration": 72505,
    "start_time": "2023-06-15T15:55:21.701Z"
   },
   {
    "duration": 7,
    "start_time": "2023-06-15T16:03:01.051Z"
   },
   {
    "duration": 4,
    "start_time": "2023-06-15T16:04:19.932Z"
   },
   {
    "duration": 108959,
    "start_time": "2023-06-15T16:04:23.576Z"
   },
   {
    "duration": 137,
    "start_time": "2023-06-15T16:06:12.537Z"
   },
   {
    "duration": 4,
    "start_time": "2023-06-15T16:07:06.455Z"
   },
   {
    "duration": 51054,
    "start_time": "2023-06-15T16:07:07.405Z"
   },
   {
    "duration": 171,
    "start_time": "2023-06-15T16:07:58.462Z"
   },
   {
    "duration": 110,
    "start_time": "2023-06-15T16:10:01.363Z"
   },
   {
    "duration": 10,
    "start_time": "2023-06-15T16:10:34.004Z"
   },
   {
    "duration": 9,
    "start_time": "2023-06-15T16:11:24.795Z"
   },
   {
    "duration": 85,
    "start_time": "2023-06-15T16:11:33.056Z"
   },
   {
    "duration": 2,
    "start_time": "2023-06-15T16:11:38.350Z"
   },
   {
    "duration": 3843,
    "start_time": "2023-06-15T16:18:44.875Z"
   },
   {
    "duration": 1480,
    "start_time": "2023-06-15T16:19:08.674Z"
   },
   {
    "duration": 798,
    "start_time": "2023-06-15T16:19:10.156Z"
   },
   {
    "duration": 163,
    "start_time": "2023-06-15T16:19:10.956Z"
   },
   {
    "duration": 17,
    "start_time": "2023-06-15T16:19:11.121Z"
   },
   {
    "duration": 158,
    "start_time": "2023-06-15T16:19:11.141Z"
   },
   {
    "duration": 47,
    "start_time": "2023-06-15T16:19:11.301Z"
   },
   {
    "duration": 56,
    "start_time": "2023-06-15T16:19:11.350Z"
   },
   {
    "duration": 58,
    "start_time": "2023-06-15T16:19:11.410Z"
   },
   {
    "duration": 29,
    "start_time": "2023-06-15T16:19:11.470Z"
   },
   {
    "duration": 35,
    "start_time": "2023-06-15T16:19:11.506Z"
   },
   {
    "duration": 351,
    "start_time": "2023-06-15T16:19:11.544Z"
   },
   {
    "duration": 426,
    "start_time": "2023-06-15T16:19:11.896Z"
   },
   {
    "duration": 1011,
    "start_time": "2023-06-15T16:19:12.324Z"
   },
   {
    "duration": 712,
    "start_time": "2023-06-15T16:19:13.338Z"
   },
   {
    "duration": 11,
    "start_time": "2023-06-15T16:19:14.052Z"
   },
   {
    "duration": 50,
    "start_time": "2023-06-15T16:19:14.065Z"
   },
   {
    "duration": 129,
    "start_time": "2023-06-15T16:19:14.117Z"
   },
   {
    "duration": 90,
    "start_time": "2023-06-15T16:19:14.247Z"
   },
   {
    "duration": 522,
    "start_time": "2023-06-15T16:19:14.340Z"
   },
   {
    "duration": 446,
    "start_time": "2023-06-15T16:19:14.864Z"
   },
   {
    "duration": 37,
    "start_time": "2023-06-15T16:19:15.313Z"
   },
   {
    "duration": 600,
    "start_time": "2023-06-15T16:19:15.352Z"
   },
   {
    "duration": 390,
    "start_time": "2023-06-15T16:19:15.954Z"
   },
   {
    "duration": 29,
    "start_time": "2023-06-15T16:19:16.346Z"
   },
   {
    "duration": 336,
    "start_time": "2023-06-15T16:19:16.376Z"
   },
   {
    "duration": 34,
    "start_time": "2023-06-15T16:19:16.716Z"
   },
   {
    "duration": 120,
    "start_time": "2023-06-15T16:19:16.752Z"
   },
   {
    "duration": 296,
    "start_time": "2023-06-15T16:19:16.874Z"
   },
   {
    "duration": 112,
    "start_time": "2023-06-15T16:19:17.171Z"
   },
   {
    "duration": 6,
    "start_time": "2023-06-15T16:19:17.285Z"
   },
   {
    "duration": 877,
    "start_time": "2023-06-15T16:19:17.307Z"
   },
   {
    "duration": 695,
    "start_time": "2023-06-15T16:19:18.186Z"
   },
   {
    "duration": 6,
    "start_time": "2023-06-15T16:19:18.883Z"
   },
   {
    "duration": 41,
    "start_time": "2023-06-15T16:19:18.891Z"
   },
   {
    "duration": 8,
    "start_time": "2023-06-15T16:19:18.935Z"
   },
   {
    "duration": 31,
    "start_time": "2023-06-15T16:19:18.945Z"
   },
   {
    "duration": 82,
    "start_time": "2023-06-15T16:19:18.978Z"
   },
   {
    "duration": 46,
    "start_time": "2023-06-15T16:19:19.062Z"
   },
   {
    "duration": 44,
    "start_time": "2023-06-15T16:19:19.110Z"
   },
   {
    "duration": 397776,
    "start_time": "2023-06-15T16:19:19.156Z"
   },
   {
    "duration": 5,
    "start_time": "2023-06-15T16:25:56.937Z"
   },
   {
    "duration": 53921,
    "start_time": "2023-06-15T16:25:56.944Z"
   },
   {
    "duration": 101,
    "start_time": "2023-06-15T16:26:50.866Z"
   },
   {
    "duration": 72642,
    "start_time": "2023-06-15T16:26:50.970Z"
   },
   {
    "duration": 4715,
    "start_time": "2023-06-15T16:28:03.614Z"
   },
   {
    "duration": 97,
    "start_time": "2023-06-15T16:28:08.332Z"
   },
   {
    "duration": 1501,
    "start_time": "2023-06-15T17:25:13.635Z"
   },
   {
    "duration": 759,
    "start_time": "2023-06-15T17:25:15.138Z"
   },
   {
    "duration": 117,
    "start_time": "2023-06-15T17:25:15.899Z"
   },
   {
    "duration": 17,
    "start_time": "2023-06-15T17:25:16.018Z"
   },
   {
    "duration": 111,
    "start_time": "2023-06-15T17:25:16.036Z"
   },
   {
    "duration": 26,
    "start_time": "2023-06-15T17:25:16.149Z"
   },
   {
    "duration": 70,
    "start_time": "2023-06-15T17:25:16.176Z"
   },
   {
    "duration": 41,
    "start_time": "2023-06-15T17:25:16.247Z"
   },
   {
    "duration": 60,
    "start_time": "2023-06-15T17:25:16.290Z"
   },
   {
    "duration": 70,
    "start_time": "2023-06-15T17:25:16.354Z"
   },
   {
    "duration": 259,
    "start_time": "2023-06-15T17:25:16.426Z"
   },
   {
    "duration": 436,
    "start_time": "2023-06-15T17:25:16.687Z"
   },
   {
    "duration": 1018,
    "start_time": "2023-06-15T17:25:17.125Z"
   },
   {
    "duration": 557,
    "start_time": "2023-06-15T17:25:18.145Z"
   },
   {
    "duration": 14,
    "start_time": "2023-06-15T17:25:18.705Z"
   },
   {
    "duration": 48,
    "start_time": "2023-06-15T17:25:18.723Z"
   },
   {
    "duration": 75,
    "start_time": "2023-06-15T17:25:18.772Z"
   },
   {
    "duration": 73,
    "start_time": "2023-06-15T17:25:18.849Z"
   },
   {
    "duration": 408,
    "start_time": "2023-06-15T17:25:18.924Z"
   },
   {
    "duration": 319,
    "start_time": "2023-06-15T17:25:19.334Z"
   },
   {
    "duration": 31,
    "start_time": "2023-06-15T17:25:19.654Z"
   },
   {
    "duration": 389,
    "start_time": "2023-06-15T17:25:19.686Z"
   },
   {
    "duration": 364,
    "start_time": "2023-06-15T17:25:20.076Z"
   },
   {
    "duration": 28,
    "start_time": "2023-06-15T17:25:20.442Z"
   },
   {
    "duration": 316,
    "start_time": "2023-06-15T17:25:20.471Z"
   },
   {
    "duration": 38,
    "start_time": "2023-06-15T17:25:20.789Z"
   },
   {
    "duration": 64,
    "start_time": "2023-06-15T17:25:20.829Z"
   },
   {
    "duration": 239,
    "start_time": "2023-06-15T17:25:20.907Z"
   },
   {
    "duration": 71,
    "start_time": "2023-06-15T17:25:21.148Z"
   },
   {
    "duration": 4,
    "start_time": "2023-06-15T17:25:21.222Z"
   },
   {
    "duration": 704,
    "start_time": "2023-06-15T17:25:21.227Z"
   },
   {
    "duration": 707,
    "start_time": "2023-06-15T17:25:21.933Z"
   },
   {
    "duration": 7,
    "start_time": "2023-06-15T17:25:22.642Z"
   },
   {
    "duration": 17,
    "start_time": "2023-06-15T17:25:22.651Z"
   },
   {
    "duration": 6,
    "start_time": "2023-06-15T17:25:22.670Z"
   },
   {
    "duration": 40,
    "start_time": "2023-06-15T17:25:22.681Z"
   },
   {
    "duration": 62,
    "start_time": "2023-06-15T17:25:22.722Z"
   },
   {
    "duration": 44,
    "start_time": "2023-06-15T17:25:22.786Z"
   },
   {
    "duration": 31,
    "start_time": "2023-06-15T17:25:22.832Z"
   },
   {
    "duration": 272750,
    "start_time": "2023-06-15T17:25:22.865Z"
   },
   {
    "duration": 1803,
    "start_time": "2023-06-15T17:29:55.617Z"
   },
   {
    "duration": 6,
    "start_time": "2023-06-15T17:29:57.422Z"
   },
   {
    "duration": 14,
    "start_time": "2023-06-15T17:29:57.430Z"
   },
   {
    "duration": 2859,
    "start_time": "2023-06-15T17:29:57.446Z"
   },
   {
    "duration": 69,
    "start_time": "2023-06-15T17:30:00.307Z"
   },
   {
    "duration": 6,
    "start_time": "2023-06-15T17:30:00.378Z"
   },
   {
    "duration": 21527,
    "start_time": "2023-06-15T17:30:00.386Z"
   },
   {
    "duration": 199,
    "start_time": "2023-06-15T17:30:21.915Z"
   },
   {
    "duration": 91,
    "start_time": "2023-06-15T17:30:22.117Z"
   },
   {
    "duration": 188,
    "start_time": "2023-06-15T17:30:22.213Z"
   },
   {
    "duration": 207,
    "start_time": "2023-06-15T17:30:22.403Z"
   },
   {
    "duration": 7,
    "start_time": "2023-06-15T17:30:22.612Z"
   },
   {
    "duration": 4115,
    "start_time": "2023-06-15T17:30:22.621Z"
   },
   {
    "duration": 2702,
    "start_time": "2023-06-15T17:32:31.121Z"
   },
   {
    "duration": 71,
    "start_time": "2023-06-15T17:32:34.725Z"
   },
   {
    "duration": 2738,
    "start_time": "2023-06-15T17:32:46.057Z"
   },
   {
    "duration": 2664,
    "start_time": "2023-06-15T17:33:14.375Z"
   },
   {
    "duration": 76,
    "start_time": "2023-06-15T17:33:25.974Z"
   },
   {
    "duration": 2774,
    "start_time": "2023-06-15T17:34:13.433Z"
   },
   {
    "duration": 3,
    "start_time": "2023-06-15T17:35:02.116Z"
   },
   {
    "duration": 46314,
    "start_time": "2023-06-15T17:36:32.434Z"
   },
   {
    "duration": 173,
    "start_time": "2023-06-15T17:37:18.750Z"
   },
   {
    "duration": 13,
    "start_time": "2023-06-15T17:37:42.376Z"
   },
   {
    "duration": 37589,
    "start_time": "2023-06-15T17:38:40.915Z"
   },
   {
    "duration": 1631,
    "start_time": "2023-06-15T17:39:20.264Z"
   },
   {
    "duration": 838,
    "start_time": "2023-06-15T17:39:21.900Z"
   },
   {
    "duration": 135,
    "start_time": "2023-06-15T17:39:22.740Z"
   },
   {
    "duration": 17,
    "start_time": "2023-06-15T17:39:22.877Z"
   },
   {
    "duration": 136,
    "start_time": "2023-06-15T17:39:22.906Z"
   },
   {
    "duration": 46,
    "start_time": "2023-06-15T17:39:23.044Z"
   },
   {
    "duration": 54,
    "start_time": "2023-06-15T17:39:23.091Z"
   },
   {
    "duration": 39,
    "start_time": "2023-06-15T17:39:23.147Z"
   },
   {
    "duration": 56,
    "start_time": "2023-06-15T17:39:23.187Z"
   },
   {
    "duration": 42,
    "start_time": "2023-06-15T17:39:23.246Z"
   },
   {
    "duration": 327,
    "start_time": "2023-06-15T17:39:23.290Z"
   },
   {
    "duration": 459,
    "start_time": "2023-06-15T17:39:23.618Z"
   },
   {
    "duration": 1052,
    "start_time": "2023-06-15T17:39:24.079Z"
   },
   {
    "duration": 575,
    "start_time": "2023-06-15T17:39:25.133Z"
   },
   {
    "duration": 7,
    "start_time": "2023-06-15T17:39:25.710Z"
   },
   {
    "duration": 28,
    "start_time": "2023-06-15T17:39:25.718Z"
   },
   {
    "duration": 87,
    "start_time": "2023-06-15T17:39:25.748Z"
   },
   {
    "duration": 57,
    "start_time": "2023-06-15T17:39:25.837Z"
   },
   {
    "duration": 412,
    "start_time": "2023-06-15T17:39:25.895Z"
   },
   {
    "duration": 384,
    "start_time": "2023-06-15T17:39:26.309Z"
   },
   {
    "duration": 37,
    "start_time": "2023-06-15T17:39:26.695Z"
   },
   {
    "duration": 391,
    "start_time": "2023-06-15T17:39:26.734Z"
   },
   {
    "duration": 568,
    "start_time": "2023-06-15T17:39:27.127Z"
   },
   {
    "duration": 44,
    "start_time": "2023-06-15T17:39:27.697Z"
   },
   {
    "duration": 357,
    "start_time": "2023-06-15T17:39:27.743Z"
   },
   {
    "duration": 29,
    "start_time": "2023-06-15T17:39:28.102Z"
   },
   {
    "duration": 127,
    "start_time": "2023-06-15T17:39:28.133Z"
   },
   {
    "duration": 222,
    "start_time": "2023-06-15T17:39:28.265Z"
   },
   {
    "duration": 69,
    "start_time": "2023-06-15T17:39:28.489Z"
   },
   {
    "duration": 4,
    "start_time": "2023-06-15T17:39:28.560Z"
   },
   {
    "duration": 756,
    "start_time": "2023-06-15T17:39:28.566Z"
   },
   {
    "duration": 646,
    "start_time": "2023-06-15T17:39:29.323Z"
   },
   {
    "duration": 6,
    "start_time": "2023-06-15T17:39:29.971Z"
   },
   {
    "duration": 15,
    "start_time": "2023-06-15T17:39:29.978Z"
   },
   {
    "duration": 13,
    "start_time": "2023-06-15T17:39:29.995Z"
   },
   {
    "duration": 52,
    "start_time": "2023-06-15T17:39:30.009Z"
   },
   {
    "duration": 80,
    "start_time": "2023-06-15T17:39:30.063Z"
   },
   {
    "duration": 32,
    "start_time": "2023-06-15T17:39:30.144Z"
   },
   {
    "duration": 49,
    "start_time": "2023-06-15T17:39:30.177Z"
   },
   {
    "duration": 325782,
    "start_time": "2023-06-15T17:39:30.228Z"
   },
   {
    "duration": 2021,
    "start_time": "2023-06-15T17:44:56.011Z"
   },
   {
    "duration": 5,
    "start_time": "2023-06-15T17:44:58.034Z"
   },
   {
    "duration": 20,
    "start_time": "2023-06-15T17:44:58.041Z"
   },
   {
    "duration": 43949,
    "start_time": "2023-06-15T17:44:58.064Z"
   },
   {
    "duration": 97,
    "start_time": "2023-06-15T17:45:42.014Z"
   },
   {
    "duration": 5,
    "start_time": "2023-06-15T17:45:42.112Z"
   },
   {
    "duration": 21190,
    "start_time": "2023-06-15T17:45:42.118Z"
   },
   {
    "duration": 199,
    "start_time": "2023-06-15T17:46:03.309Z"
   },
   {
    "duration": 4,
    "start_time": "2023-06-15T17:46:03.510Z"
   },
   {
    "duration": 34095,
    "start_time": "2023-06-15T17:46:03.516Z"
   },
   {
    "duration": 505,
    "start_time": "2023-06-15T17:46:37.613Z"
   },
   {
    "duration": 5,
    "start_time": "2023-06-15T17:46:38.120Z"
   },
   {
    "duration": 4160,
    "start_time": "2023-06-15T17:46:38.127Z"
   },
   {
    "duration": 17,
    "start_time": "2023-06-15T17:46:42.289Z"
   },
   {
    "duration": 92,
    "start_time": "2023-06-15T17:52:28.003Z"
   },
   {
    "duration": 73,
    "start_time": "2023-06-15T17:52:53.149Z"
   },
   {
    "duration": 15,
    "start_time": "2023-06-15T17:55:57.509Z"
   },
   {
    "duration": 13,
    "start_time": "2023-06-15T17:56:24.838Z"
   },
   {
    "duration": 10,
    "start_time": "2023-06-15T17:56:36.374Z"
   },
   {
    "duration": 11,
    "start_time": "2023-06-15T17:56:59.145Z"
   },
   {
    "duration": 14,
    "start_time": "2023-06-15T17:57:13.424Z"
   },
   {
    "duration": 4231,
    "start_time": "2023-06-15T17:58:02.062Z"
   },
   {
    "duration": 4209,
    "start_time": "2023-06-15T17:58:18.553Z"
   },
   {
    "duration": 98,
    "start_time": "2023-06-15T17:58:34.858Z"
   },
   {
    "duration": 114,
    "start_time": "2023-06-15T17:58:55.172Z"
   },
   {
    "duration": 11,
    "start_time": "2023-06-15T18:00:06.874Z"
   },
   {
    "duration": 10,
    "start_time": "2023-06-15T18:00:26.284Z"
   },
   {
    "duration": 19,
    "start_time": "2023-06-15T18:00:36.907Z"
   },
   {
    "duration": 15,
    "start_time": "2023-06-15T18:01:33.430Z"
   },
   {
    "duration": 13,
    "start_time": "2023-06-15T18:01:49.108Z"
   },
   {
    "duration": 1857,
    "start_time": "2023-06-16T09:27:02.135Z"
   },
   {
    "duration": 5,
    "start_time": "2023-06-16T09:27:11.712Z"
   },
   {
    "duration": 1231,
    "start_time": "2023-06-16T09:27:13.666Z"
   },
   {
    "duration": 2,
    "start_time": "2023-06-16T09:27:21.147Z"
   },
   {
    "duration": 1571,
    "start_time": "2023-06-16T09:27:33.476Z"
   },
   {
    "duration": 897,
    "start_time": "2023-06-16T09:27:35.050Z"
   },
   {
    "duration": 170,
    "start_time": "2023-06-16T09:27:35.948Z"
   },
   {
    "duration": 18,
    "start_time": "2023-06-16T09:27:36.121Z"
   },
   {
    "duration": 155,
    "start_time": "2023-06-16T09:27:36.155Z"
   },
   {
    "duration": 54,
    "start_time": "2023-06-16T09:27:36.312Z"
   },
   {
    "duration": 64,
    "start_time": "2023-06-16T09:27:36.368Z"
   },
   {
    "duration": 70,
    "start_time": "2023-06-16T09:27:36.434Z"
   },
   {
    "duration": 56,
    "start_time": "2023-06-16T09:27:36.505Z"
   },
   {
    "duration": 58,
    "start_time": "2023-06-16T09:27:36.567Z"
   },
   {
    "duration": 372,
    "start_time": "2023-06-16T09:27:36.627Z"
   },
   {
    "duration": 497,
    "start_time": "2023-06-16T09:27:37.002Z"
   },
   {
    "duration": 1145,
    "start_time": "2023-06-16T09:27:37.501Z"
   },
   {
    "duration": 631,
    "start_time": "2023-06-16T09:27:38.648Z"
   },
   {
    "duration": 8,
    "start_time": "2023-06-16T09:27:39.281Z"
   },
   {
    "duration": 50,
    "start_time": "2023-06-16T09:27:39.291Z"
   },
   {
    "duration": 103,
    "start_time": "2023-06-16T09:27:39.344Z"
   },
   {
    "duration": 70,
    "start_time": "2023-06-16T09:27:39.449Z"
   },
   {
    "duration": 519,
    "start_time": "2023-06-16T09:27:39.520Z"
   },
   {
    "duration": 328,
    "start_time": "2023-06-16T09:27:40.040Z"
   },
   {
    "duration": 39,
    "start_time": "2023-06-16T09:27:40.372Z"
   },
   {
    "duration": 606,
    "start_time": "2023-06-16T09:27:40.413Z"
   },
   {
    "duration": 494,
    "start_time": "2023-06-16T09:27:41.021Z"
   },
   {
    "duration": 38,
    "start_time": "2023-06-16T09:27:41.518Z"
   },
   {
    "duration": 492,
    "start_time": "2023-06-16T09:27:41.557Z"
   },
   {
    "duration": 35,
    "start_time": "2023-06-16T09:27:42.051Z"
   },
   {
    "duration": 100,
    "start_time": "2023-06-16T09:27:42.088Z"
   },
   {
    "duration": 324,
    "start_time": "2023-06-16T09:27:42.192Z"
   },
   {
    "duration": 117,
    "start_time": "2023-06-16T09:27:42.518Z"
   },
   {
    "duration": 91,
    "start_time": "2023-06-16T09:27:42.638Z"
   },
   {
    "duration": 938,
    "start_time": "2023-06-16T09:27:42.732Z"
   },
   {
    "duration": 724,
    "start_time": "2023-06-16T09:27:43.671Z"
   },
   {
    "duration": 9,
    "start_time": "2023-06-16T09:27:44.397Z"
   },
   {
    "duration": 48,
    "start_time": "2023-06-16T09:27:44.408Z"
   },
   {
    "duration": 37,
    "start_time": "2023-06-16T09:27:44.468Z"
   },
   {
    "duration": 39,
    "start_time": "2023-06-16T09:27:44.507Z"
   },
   {
    "duration": 100,
    "start_time": "2023-06-16T09:27:44.548Z"
   },
   {
    "duration": 46,
    "start_time": "2023-06-16T09:27:44.650Z"
   },
   {
    "duration": 35,
    "start_time": "2023-06-16T09:27:44.698Z"
   },
   {
    "duration": 1639,
    "start_time": "2023-06-16T09:30:55.772Z"
   },
   {
    "duration": 934,
    "start_time": "2023-06-16T09:30:57.413Z"
   },
   {
    "duration": 181,
    "start_time": "2023-06-16T09:30:58.348Z"
   },
   {
    "duration": 43,
    "start_time": "2023-06-16T09:30:58.532Z"
   },
   {
    "duration": 148,
    "start_time": "2023-06-16T09:30:58.580Z"
   },
   {
    "duration": 59,
    "start_time": "2023-06-16T09:30:58.730Z"
   },
   {
    "duration": 33,
    "start_time": "2023-06-16T09:30:58.791Z"
   },
   {
    "duration": 61,
    "start_time": "2023-06-16T09:30:58.826Z"
   },
   {
    "duration": 34,
    "start_time": "2023-06-16T09:30:58.889Z"
   },
   {
    "duration": 64,
    "start_time": "2023-06-16T09:30:58.925Z"
   },
   {
    "duration": 341,
    "start_time": "2023-06-16T09:30:58.990Z"
   },
   {
    "duration": 547,
    "start_time": "2023-06-16T09:30:59.333Z"
   },
   {
    "duration": 1239,
    "start_time": "2023-06-16T09:30:59.882Z"
   },
   {
    "duration": 669,
    "start_time": "2023-06-16T09:31:01.123Z"
   },
   {
    "duration": 9,
    "start_time": "2023-06-16T09:31:01.794Z"
   },
   {
    "duration": 119,
    "start_time": "2023-06-16T09:31:01.805Z"
   },
   {
    "duration": 116,
    "start_time": "2023-06-16T09:31:01.926Z"
   },
   {
    "duration": 108,
    "start_time": "2023-06-16T09:31:02.044Z"
   },
   {
    "duration": 660,
    "start_time": "2023-06-16T09:31:02.154Z"
   },
   {
    "duration": 331,
    "start_time": "2023-06-16T09:31:02.816Z"
   },
   {
    "duration": 38,
    "start_time": "2023-06-16T09:31:03.148Z"
   },
   {
    "duration": 713,
    "start_time": "2023-06-16T09:31:03.188Z"
   },
   {
    "duration": 536,
    "start_time": "2023-06-16T09:31:03.903Z"
   },
   {
    "duration": 36,
    "start_time": "2023-06-16T09:31:04.440Z"
   },
   {
    "duration": 432,
    "start_time": "2023-06-16T09:31:04.478Z"
   },
   {
    "duration": 31,
    "start_time": "2023-06-16T09:31:04.912Z"
   },
   {
    "duration": 80,
    "start_time": "2023-06-16T09:31:04.958Z"
   },
   {
    "duration": 283,
    "start_time": "2023-06-16T09:31:05.041Z"
   },
   {
    "duration": 118,
    "start_time": "2023-06-16T09:31:05.327Z"
   },
   {
    "duration": 83,
    "start_time": "2023-06-16T09:31:05.453Z"
   },
   {
    "duration": 1123,
    "start_time": "2023-06-16T09:31:05.538Z"
   },
   {
    "duration": 797,
    "start_time": "2023-06-16T09:31:06.669Z"
   },
   {
    "duration": 10,
    "start_time": "2023-06-16T09:31:07.468Z"
   },
   {
    "duration": 38,
    "start_time": "2023-06-16T09:31:07.479Z"
   },
   {
    "duration": 3,
    "start_time": "2023-06-16T09:31:07.520Z"
   },
   {
    "duration": 85,
    "start_time": "2023-06-16T09:31:07.525Z"
   },
   {
    "duration": 153,
    "start_time": "2023-06-16T09:31:07.613Z"
   },
   {
    "duration": 50,
    "start_time": "2023-06-16T09:31:07.774Z"
   },
   {
    "duration": 64,
    "start_time": "2023-06-16T09:31:07.827Z"
   },
   {
    "duration": 410484,
    "start_time": "2023-06-16T09:31:07.894Z"
   },
   {
    "duration": 2115,
    "start_time": "2023-06-16T09:37:58.381Z"
   },
   {
    "duration": 14,
    "start_time": "2023-06-16T09:38:00.560Z"
   },
   {
    "duration": 47,
    "start_time": "2023-06-16T09:38:00.576Z"
   },
   {
    "duration": 63869,
    "start_time": "2023-06-16T09:38:00.625Z"
   },
   {
    "duration": 140,
    "start_time": "2023-06-16T09:39:04.496Z"
   },
   {
    "duration": 5,
    "start_time": "2023-06-16T09:39:04.638Z"
   },
   {
    "duration": 45730,
    "start_time": "2023-06-16T09:39:04.645Z"
   },
   {
    "duration": 281,
    "start_time": "2023-06-16T09:39:50.377Z"
   },
   {
    "duration": 8,
    "start_time": "2023-06-16T09:39:50.660Z"
   },
   {
    "duration": 39950,
    "start_time": "2023-06-16T09:39:50.672Z"
   },
   {
    "duration": 516,
    "start_time": "2023-06-16T09:40:30.624Z"
   },
   {
    "duration": 5,
    "start_time": "2023-06-16T09:40:31.142Z"
   },
   {
    "duration": 69,
    "start_time": "2023-06-16T09:40:31.156Z"
   },
   {
    "duration": 5502,
    "start_time": "2023-06-16T09:40:31.227Z"
   },
   {
    "duration": 100,
    "start_time": "2023-06-16T09:40:36.731Z"
   },
   {
    "duration": 5,
    "start_time": "2023-06-16T09:40:36.833Z"
   },
   {
    "duration": 23,
    "start_time": "2023-06-16T09:40:36.840Z"
   },
   {
    "duration": 24,
    "start_time": "2023-06-16T09:40:36.868Z"
   },
   {
    "duration": 33,
    "start_time": "2023-06-16T09:40:36.894Z"
   },
   {
    "duration": 3,
    "start_time": "2023-06-16T09:46:53.116Z"
   },
   {
    "duration": 6,
    "start_time": "2023-06-16T09:46:53.688Z"
   },
   {
    "duration": 5,
    "start_time": "2023-06-16T09:46:54.481Z"
   },
   {
    "duration": 7,
    "start_time": "2023-06-16T09:46:55.143Z"
   },
   {
    "duration": 222,
    "start_time": "2023-06-16T10:01:44.629Z"
   },
   {
    "duration": 273,
    "start_time": "2023-06-16T10:02:15.200Z"
   },
   {
    "duration": 269,
    "start_time": "2023-06-16T10:07:11.279Z"
   },
   {
    "duration": 6,
    "start_time": "2023-06-16T10:07:51.881Z"
   },
   {
    "duration": 1050,
    "start_time": "2023-06-16T10:07:52.449Z"
   },
   {
    "duration": 189,
    "start_time": "2023-06-16T10:07:53.501Z"
   },
   {
    "duration": 26,
    "start_time": "2023-06-16T10:07:53.747Z"
   },
   {
    "duration": 146,
    "start_time": "2023-06-16T10:07:56.803Z"
   },
   {
    "duration": 55,
    "start_time": "2023-06-16T10:07:57.329Z"
   },
   {
    "duration": 59,
    "start_time": "2023-06-16T10:07:57.933Z"
   },
   {
    "duration": 54,
    "start_time": "2023-06-16T10:07:58.448Z"
   },
   {
    "duration": 54,
    "start_time": "2023-06-16T10:07:58.947Z"
   },
   {
    "duration": 55,
    "start_time": "2023-06-16T10:07:59.639Z"
   },
   {
    "duration": 358,
    "start_time": "2023-06-16T10:08:00.837Z"
   },
   {
    "duration": 488,
    "start_time": "2023-06-16T10:08:01.709Z"
   },
   {
    "duration": 1137,
    "start_time": "2023-06-16T10:08:02.199Z"
   },
   {
    "duration": 752,
    "start_time": "2023-06-16T10:08:03.338Z"
   },
   {
    "duration": 8,
    "start_time": "2023-06-16T10:08:04.092Z"
   },
   {
    "duration": 33,
    "start_time": "2023-06-16T10:08:04.102Z"
   },
   {
    "duration": 135,
    "start_time": "2023-06-16T10:08:04.136Z"
   },
   {
    "duration": 89,
    "start_time": "2023-06-16T10:08:04.280Z"
   },
   {
    "duration": 541,
    "start_time": "2023-06-16T10:08:04.375Z"
   },
   {
    "duration": 25,
    "start_time": "2023-06-16T10:08:04.919Z"
   },
   {
    "duration": 307,
    "start_time": "2023-06-16T10:08:04.956Z"
   },
   {
    "duration": 562,
    "start_time": "2023-06-16T10:08:05.271Z"
   },
   {
    "duration": 562,
    "start_time": "2023-06-16T10:08:06.621Z"
   },
   {
    "duration": 298,
    "start_time": "2023-06-16T10:08:07.328Z"
   },
   {
    "duration": 44,
    "start_time": "2023-06-16T10:08:14.143Z"
   },
   {
    "duration": 36,
    "start_time": "2023-06-16T10:08:25.147Z"
   },
   {
    "duration": 278,
    "start_time": "2023-06-16T10:08:25.651Z"
   },
   {
    "duration": 311,
    "start_time": "2023-06-16T10:09:16.942Z"
   },
   {
    "duration": 20,
    "start_time": "2023-06-16T10:14:25.119Z"
   },
   {
    "duration": 90,
    "start_time": "2023-06-16T10:21:49.946Z"
   },
   {
    "duration": 101,
    "start_time": "2023-06-16T10:25:02.131Z"
   },
   {
    "duration": 274,
    "start_time": "2023-06-16T10:25:08.538Z"
   },
   {
    "duration": 32,
    "start_time": "2023-06-16T10:25:12.213Z"
   },
   {
    "duration": 14,
    "start_time": "2023-06-16T10:25:12.615Z"
   },
   {
    "duration": 267,
    "start_time": "2023-06-16T10:25:13.009Z"
   },
   {
    "duration": 25,
    "start_time": "2023-06-16T10:27:19.353Z"
   },
   {
    "duration": 6,
    "start_time": "2023-06-16T10:27:29.700Z"
   },
   {
    "duration": 16,
    "start_time": "2023-06-16T10:27:47.671Z"
   },
   {
    "duration": 20,
    "start_time": "2023-06-16T10:28:40.723Z"
   },
   {
    "duration": 12,
    "start_time": "2023-06-16T10:28:41.023Z"
   },
   {
    "duration": 281,
    "start_time": "2023-06-16T10:28:41.527Z"
   },
   {
    "duration": 29,
    "start_time": "2023-06-16T10:29:23.917Z"
   },
   {
    "duration": 13,
    "start_time": "2023-06-16T10:29:25.323Z"
   },
   {
    "duration": 397,
    "start_time": "2023-06-16T10:29:25.923Z"
   },
   {
    "duration": 144,
    "start_time": "2023-06-16T10:29:42.422Z"
   },
   {
    "duration": 172,
    "start_time": "2023-06-16T10:30:35.824Z"
   },
   {
    "duration": 4,
    "start_time": "2023-06-16T10:38:31.416Z"
   },
   {
    "duration": 754,
    "start_time": "2023-06-16T10:38:45.243Z"
   },
   {
    "duration": 8,
    "start_time": "2023-06-16T10:40:36.956Z"
   },
   {
    "duration": 5,
    "start_time": "2023-06-16T10:40:50.900Z"
   },
   {
    "duration": 7329,
    "start_time": "2023-06-16T10:43:44.203Z"
   },
   {
    "duration": 7812,
    "start_time": "2023-06-16T10:44:12.010Z"
   },
   {
    "duration": 78,
    "start_time": "2023-06-16T10:44:49.772Z"
   },
   {
    "duration": 0,
    "start_time": "2023-06-16T10:44:49.855Z"
   },
   {
    "duration": 9,
    "start_time": "2023-06-16T10:44:55.230Z"
   },
   {
    "duration": 1838,
    "start_time": "2023-06-16T10:45:08.430Z"
   },
   {
    "duration": 1634,
    "start_time": "2023-06-16T10:45:10.274Z"
   },
   {
    "duration": 9,
    "start_time": "2023-06-16T10:45:25.182Z"
   },
   {
    "duration": 1019,
    "start_time": "2023-06-16T10:45:26.117Z"
   },
   {
    "duration": 195,
    "start_time": "2023-06-16T10:45:27.138Z"
   },
   {
    "duration": 45,
    "start_time": "2023-06-16T10:45:27.335Z"
   },
   {
    "duration": 172,
    "start_time": "2023-06-16T10:45:27.900Z"
   },
   {
    "duration": 56,
    "start_time": "2023-06-16T10:45:28.121Z"
   },
   {
    "duration": 32,
    "start_time": "2023-06-16T10:45:28.318Z"
   },
   {
    "duration": 65,
    "start_time": "2023-06-16T10:45:28.742Z"
   },
   {
    "duration": 63,
    "start_time": "2023-06-16T10:45:28.954Z"
   },
   {
    "duration": 47,
    "start_time": "2023-06-16T10:45:29.201Z"
   },
   {
    "duration": 403,
    "start_time": "2023-06-16T10:45:29.809Z"
   },
   {
    "duration": 567,
    "start_time": "2023-06-16T10:45:30.214Z"
   },
   {
    "duration": 1308,
    "start_time": "2023-06-16T10:45:30.787Z"
   },
   {
    "duration": 690,
    "start_time": "2023-06-16T10:45:32.097Z"
   },
   {
    "duration": 12,
    "start_time": "2023-06-16T10:45:32.791Z"
   },
   {
    "duration": 307,
    "start_time": "2023-06-16T10:45:32.806Z"
   },
   {
    "duration": 135,
    "start_time": "2023-06-16T10:45:33.115Z"
   },
   {
    "duration": 103,
    "start_time": "2023-06-16T10:45:33.252Z"
   },
   {
    "duration": 543,
    "start_time": "2023-06-16T10:45:33.363Z"
   },
   {
    "duration": 57,
    "start_time": "2023-06-16T10:45:33.911Z"
   },
   {
    "duration": 349,
    "start_time": "2023-06-16T10:45:34.275Z"
   },
   {
    "duration": 644,
    "start_time": "2023-06-16T10:45:34.700Z"
   },
   {
    "duration": 630,
    "start_time": "2023-06-16T10:45:35.510Z"
   },
   {
    "duration": 58,
    "start_time": "2023-06-16T10:45:36.142Z"
   },
   {
    "duration": 416,
    "start_time": "2023-06-16T10:45:36.412Z"
   },
   {
    "duration": 495,
    "start_time": "2023-06-16T10:45:36.846Z"
   },
   {
    "duration": 26,
    "start_time": "2023-06-16T10:45:38.218Z"
   },
   {
    "duration": 90,
    "start_time": "2023-06-16T10:45:38.585Z"
   },
   {
    "duration": 310,
    "start_time": "2023-06-16T10:45:39.222Z"
   },
   {
    "duration": 135,
    "start_time": "2023-06-16T10:45:39.667Z"
   },
   {
    "duration": 5,
    "start_time": "2023-06-16T10:45:41.926Z"
   },
   {
    "duration": 839,
    "start_time": "2023-06-16T10:45:42.804Z"
   },
   {
    "duration": 4,
    "start_time": "2023-06-16T10:45:45.343Z"
   },
   {
    "duration": 98,
    "start_time": "2023-06-16T10:46:03.222Z"
   },
   {
    "duration": 5,
    "start_time": "2023-06-16T10:46:13.242Z"
   },
   {
    "duration": 3,
    "start_time": "2023-06-16T10:49:24.105Z"
   },
   {
    "duration": 17,
    "start_time": "2023-06-16T10:49:52.541Z"
   },
   {
    "duration": 10,
    "start_time": "2023-06-16T10:50:55.926Z"
   },
   {
    "duration": 12,
    "start_time": "2023-06-16T10:50:58.934Z"
   },
   {
    "duration": 14,
    "start_time": "2023-06-16T10:52:14.922Z"
   },
   {
    "duration": 16,
    "start_time": "2023-06-16T10:52:35.549Z"
   },
   {
    "duration": 14,
    "start_time": "2023-06-16T10:52:38.280Z"
   },
   {
    "duration": 2031,
    "start_time": "2023-06-16T10:52:59.607Z"
   },
   {
    "duration": 1207,
    "start_time": "2023-06-16T10:53:01.642Z"
   },
   {
    "duration": 246,
    "start_time": "2023-06-16T10:53:02.852Z"
   },
   {
    "duration": 22,
    "start_time": "2023-06-16T10:53:03.101Z"
   },
   {
    "duration": 249,
    "start_time": "2023-06-16T10:53:03.126Z"
   },
   {
    "duration": 129,
    "start_time": "2023-06-16T10:53:03.377Z"
   },
   {
    "duration": 180,
    "start_time": "2023-06-16T10:53:03.510Z"
   },
   {
    "duration": 426,
    "start_time": "2023-06-16T10:53:03.692Z"
   },
   {
    "duration": 176,
    "start_time": "2023-06-16T10:53:04.121Z"
   },
   {
    "duration": 149,
    "start_time": "2023-06-16T10:53:04.299Z"
   },
   {
    "duration": 636,
    "start_time": "2023-06-16T10:53:04.450Z"
   },
   {
    "duration": 639,
    "start_time": "2023-06-16T10:53:05.089Z"
   },
   {
    "duration": 1332,
    "start_time": "2023-06-16T10:53:05.730Z"
   },
   {
    "duration": 725,
    "start_time": "2023-06-16T10:53:07.067Z"
   },
   {
    "duration": 12,
    "start_time": "2023-06-16T10:53:07.794Z"
   },
   {
    "duration": 51,
    "start_time": "2023-06-16T10:53:07.808Z"
   },
   {
    "duration": 118,
    "start_time": "2023-06-16T10:53:07.861Z"
   },
   {
    "duration": 114,
    "start_time": "2023-06-16T10:53:07.982Z"
   },
   {
    "duration": 726,
    "start_time": "2023-06-16T10:53:08.099Z"
   },
   {
    "duration": 54,
    "start_time": "2023-06-16T10:53:08.828Z"
   },
   {
    "duration": 367,
    "start_time": "2023-06-16T10:53:08.883Z"
   },
   {
    "duration": 864,
    "start_time": "2023-06-16T10:53:09.256Z"
   },
   {
    "duration": 586,
    "start_time": "2023-06-16T10:53:10.123Z"
   },
   {
    "duration": 31,
    "start_time": "2023-06-16T10:53:10.711Z"
   },
   {
    "duration": 290,
    "start_time": "2023-06-16T10:53:10.757Z"
   },
   {
    "duration": 535,
    "start_time": "2023-06-16T10:53:11.049Z"
   },
   {
    "duration": 32,
    "start_time": "2023-06-16T10:53:11.588Z"
   },
   {
    "duration": 109,
    "start_time": "2023-06-16T10:53:11.622Z"
   },
   {
    "duration": 415,
    "start_time": "2023-06-16T10:53:11.733Z"
   },
   {
    "duration": 167,
    "start_time": "2023-06-16T10:53:12.153Z"
   },
   {
    "duration": 13,
    "start_time": "2023-06-16T10:53:12.322Z"
   },
   {
    "duration": 262,
    "start_time": "2023-06-16T10:53:12.338Z"
   },
   {
    "duration": 0,
    "start_time": "2023-06-16T10:53:12.606Z"
   },
   {
    "duration": 0,
    "start_time": "2023-06-16T10:53:12.608Z"
   },
   {
    "duration": 0,
    "start_time": "2023-06-16T10:53:12.609Z"
   },
   {
    "duration": 0,
    "start_time": "2023-06-16T10:53:12.610Z"
   },
   {
    "duration": 0,
    "start_time": "2023-06-16T10:53:12.612Z"
   },
   {
    "duration": 0,
    "start_time": "2023-06-16T10:53:12.613Z"
   },
   {
    "duration": 0,
    "start_time": "2023-06-16T10:53:12.614Z"
   },
   {
    "duration": 0,
    "start_time": "2023-06-16T10:53:12.615Z"
   },
   {
    "duration": 0,
    "start_time": "2023-06-16T10:53:12.616Z"
   },
   {
    "duration": 0,
    "start_time": "2023-06-16T10:53:12.618Z"
   },
   {
    "duration": 0,
    "start_time": "2023-06-16T10:53:12.620Z"
   },
   {
    "duration": 0,
    "start_time": "2023-06-16T10:53:12.621Z"
   },
   {
    "duration": 0,
    "start_time": "2023-06-16T10:53:12.622Z"
   },
   {
    "duration": 0,
    "start_time": "2023-06-16T10:53:12.624Z"
   },
   {
    "duration": 0,
    "start_time": "2023-06-16T10:53:12.625Z"
   },
   {
    "duration": 0,
    "start_time": "2023-06-16T10:53:12.626Z"
   },
   {
    "duration": 0,
    "start_time": "2023-06-16T10:53:12.628Z"
   },
   {
    "duration": 0,
    "start_time": "2023-06-16T10:53:12.629Z"
   },
   {
    "duration": 0,
    "start_time": "2023-06-16T10:53:12.630Z"
   },
   {
    "duration": 0,
    "start_time": "2023-06-16T10:53:12.654Z"
   },
   {
    "duration": 0,
    "start_time": "2023-06-16T10:53:12.656Z"
   },
   {
    "duration": 0,
    "start_time": "2023-06-16T10:53:12.657Z"
   },
   {
    "duration": 0,
    "start_time": "2023-06-16T10:53:12.659Z"
   },
   {
    "duration": 0,
    "start_time": "2023-06-16T10:53:12.660Z"
   },
   {
    "duration": 0,
    "start_time": "2023-06-16T10:53:12.661Z"
   },
   {
    "duration": 0,
    "start_time": "2023-06-16T10:53:12.662Z"
   },
   {
    "duration": 0,
    "start_time": "2023-06-16T10:53:12.664Z"
   },
   {
    "duration": 0,
    "start_time": "2023-06-16T10:53:12.665Z"
   },
   {
    "duration": 0,
    "start_time": "2023-06-16T10:53:12.667Z"
   },
   {
    "duration": 0,
    "start_time": "2023-06-16T10:53:12.668Z"
   },
   {
    "duration": 0,
    "start_time": "2023-06-16T10:53:12.669Z"
   },
   {
    "duration": 0,
    "start_time": "2023-06-16T10:53:12.671Z"
   },
   {
    "duration": 0,
    "start_time": "2023-06-16T10:53:12.672Z"
   },
   {
    "duration": 6,
    "start_time": "2023-06-16T10:53:30.880Z"
   },
   {
    "duration": 6,
    "start_time": "2023-06-16T10:53:46.536Z"
   },
   {
    "duration": 907,
    "start_time": "2023-06-16T10:53:48.132Z"
   },
   {
    "duration": 17,
    "start_time": "2023-06-16T10:54:07.757Z"
   },
   {
    "duration": 559,
    "start_time": "2023-06-16T10:54:44.160Z"
   },
   {
    "duration": 10,
    "start_time": "2023-06-16T10:54:44.812Z"
   },
   {
    "duration": 51,
    "start_time": "2023-06-16T10:55:32.780Z"
   },
   {
    "duration": 551,
    "start_time": "2023-06-16T10:56:45.045Z"
   },
   {
    "duration": 12,
    "start_time": "2023-06-16T10:56:46.702Z"
   },
   {
    "duration": 12,
    "start_time": "2023-06-16T10:59:06.811Z"
   },
   {
    "duration": 29,
    "start_time": "2023-06-16T10:59:11.126Z"
   },
   {
    "duration": 1908,
    "start_time": "2023-06-16T11:00:51.067Z"
   },
   {
    "duration": 1036,
    "start_time": "2023-06-16T11:00:52.978Z"
   },
   {
    "duration": 174,
    "start_time": "2023-06-16T11:00:54.016Z"
   },
   {
    "duration": 26,
    "start_time": "2023-06-16T11:00:54.192Z"
   },
   {
    "duration": 195,
    "start_time": "2023-06-16T11:00:54.221Z"
   },
   {
    "duration": 47,
    "start_time": "2023-06-16T11:00:54.418Z"
   },
   {
    "duration": 78,
    "start_time": "2023-06-16T11:00:54.471Z"
   },
   {
    "duration": 59,
    "start_time": "2023-06-16T11:00:54.551Z"
   },
   {
    "duration": 92,
    "start_time": "2023-06-16T11:00:54.611Z"
   },
   {
    "duration": 75,
    "start_time": "2023-06-16T11:00:54.705Z"
   },
   {
    "duration": 397,
    "start_time": "2023-06-16T11:00:54.782Z"
   },
   {
    "duration": 504,
    "start_time": "2023-06-16T11:00:55.181Z"
   },
   {
    "duration": 1227,
    "start_time": "2023-06-16T11:00:55.687Z"
   },
   {
    "duration": 721,
    "start_time": "2023-06-16T11:00:56.917Z"
   },
   {
    "duration": 15,
    "start_time": "2023-06-16T11:00:57.640Z"
   },
   {
    "duration": 58,
    "start_time": "2023-06-16T11:00:57.658Z"
   },
   {
    "duration": 111,
    "start_time": "2023-06-16T11:00:57.717Z"
   },
   {
    "duration": 81,
    "start_time": "2023-06-16T11:00:57.830Z"
   },
   {
    "duration": 548,
    "start_time": "2023-06-16T11:00:57.912Z"
   },
   {
    "duration": 43,
    "start_time": "2023-06-16T11:00:58.468Z"
   },
   {
    "duration": 306,
    "start_time": "2023-06-16T11:00:58.513Z"
   },
   {
    "duration": 594,
    "start_time": "2023-06-16T11:00:58.821Z"
   },
   {
    "duration": 481,
    "start_time": "2023-06-16T11:00:59.416Z"
   },
   {
    "duration": 31,
    "start_time": "2023-06-16T11:00:59.899Z"
   },
   {
    "duration": 276,
    "start_time": "2023-06-16T11:00:59.931Z"
   },
   {
    "duration": 389,
    "start_time": "2023-06-16T11:01:00.209Z"
   },
   {
    "duration": 24,
    "start_time": "2023-06-16T11:01:00.600Z"
   },
   {
    "duration": 117,
    "start_time": "2023-06-16T11:01:00.626Z"
   },
   {
    "duration": 295,
    "start_time": "2023-06-16T11:01:00.745Z"
   },
   {
    "duration": 113,
    "start_time": "2023-06-16T11:01:01.042Z"
   },
   {
    "duration": 923,
    "start_time": "2023-06-16T11:01:01.157Z"
   },
   {
    "duration": 809,
    "start_time": "2023-06-16T11:01:02.082Z"
   },
   {
    "duration": 6,
    "start_time": "2023-06-16T11:01:02.893Z"
   },
   {
    "duration": 45,
    "start_time": "2023-06-16T11:01:02.901Z"
   },
   {
    "duration": 62,
    "start_time": "2023-06-16T11:01:02.949Z"
   },
   {
    "duration": 127,
    "start_time": "2023-06-16T11:01:03.012Z"
   },
   {
    "duration": 80,
    "start_time": "2023-06-16T11:01:03.141Z"
   },
   {
    "duration": 51,
    "start_time": "2023-06-16T11:01:03.223Z"
   },
   {
    "duration": 44,
    "start_time": "2023-06-16T11:01:03.276Z"
   },
   {
    "duration": 520743,
    "start_time": "2023-06-16T11:01:03.322Z"
   },
   {
    "duration": 2092,
    "start_time": "2023-06-16T11:09:44.073Z"
   },
   {
    "duration": 6,
    "start_time": "2023-06-16T11:09:46.167Z"
   },
   {
    "duration": 34,
    "start_time": "2023-06-16T11:09:46.175Z"
   },
   {
    "duration": 59341,
    "start_time": "2023-06-16T11:09:46.211Z"
   },
   {
    "duration": 121,
    "start_time": "2023-06-16T11:10:45.554Z"
   },
   {
    "duration": 5,
    "start_time": "2023-06-16T11:10:45.676Z"
   },
   {
    "duration": 25386,
    "start_time": "2023-06-16T11:10:45.683Z"
   },
   {
    "duration": 198,
    "start_time": "2023-06-16T11:11:11.074Z"
   },
   {
    "duration": 82,
    "start_time": "2023-06-16T11:11:11.276Z"
   },
   {
    "duration": 38351,
    "start_time": "2023-06-16T11:11:11.360Z"
   },
   {
    "duration": 509,
    "start_time": "2023-06-16T11:11:49.713Z"
   },
   {
    "duration": 5,
    "start_time": "2023-06-16T11:11:50.224Z"
   },
   {
    "duration": 57,
    "start_time": "2023-06-16T11:11:50.231Z"
   },
   {
    "duration": 5542,
    "start_time": "2023-06-16T11:11:50.290Z"
   },
   {
    "duration": 88,
    "start_time": "2023-06-16T11:11:55.835Z"
   },
   {
    "duration": 3,
    "start_time": "2023-06-16T11:11:55.924Z"
   },
   {
    "duration": 27,
    "start_time": "2023-06-16T11:11:55.929Z"
   },
   {
    "duration": 24,
    "start_time": "2023-06-16T11:11:55.959Z"
   },
   {
    "duration": 12,
    "start_time": "2023-06-16T11:11:55.985Z"
   },
   {
    "duration": 55,
    "start_time": "2023-06-16T12:46:19.123Z"
   },
   {
    "duration": 19365,
    "start_time": "2023-06-16T12:50:15.826Z"
   },
   {
    "duration": 2490,
    "start_time": "2023-06-16T12:51:46.355Z"
   },
   {
    "duration": 4,
    "start_time": "2023-06-16T12:52:01.391Z"
   },
   {
    "duration": 162,
    "start_time": "2023-06-16T12:52:41.703Z"
   },
   {
    "duration": 4,
    "start_time": "2023-06-16T12:52:49.346Z"
   },
   {
    "duration": 1373,
    "start_time": "2023-06-16T12:52:50.493Z"
   },
   {
    "duration": 124,
    "start_time": "2023-06-16T12:52:51.868Z"
   },
   {
    "duration": 18,
    "start_time": "2023-06-16T12:52:53.615Z"
   },
   {
    "duration": 133,
    "start_time": "2023-06-16T12:52:53.791Z"
   },
   {
    "duration": 43,
    "start_time": "2023-06-16T12:52:53.996Z"
   },
   {
    "duration": 43,
    "start_time": "2023-06-16T12:52:54.294Z"
   },
   {
    "duration": 36,
    "start_time": "2023-06-16T12:52:54.715Z"
   },
   {
    "duration": 33,
    "start_time": "2023-06-16T12:52:54.916Z"
   },
   {
    "duration": 41,
    "start_time": "2023-06-16T12:52:55.175Z"
   },
   {
    "duration": 315,
    "start_time": "2023-06-16T12:52:55.615Z"
   },
   {
    "duration": 586,
    "start_time": "2023-06-16T12:52:56.027Z"
   },
   {
    "duration": 1356,
    "start_time": "2023-06-16T12:52:56.615Z"
   },
   {
    "duration": 883,
    "start_time": "2023-06-16T12:52:57.973Z"
   },
   {
    "duration": 8,
    "start_time": "2023-06-16T12:52:58.858Z"
   },
   {
    "duration": 60,
    "start_time": "2023-06-16T12:52:58.867Z"
   },
   {
    "duration": 89,
    "start_time": "2023-06-16T12:52:58.930Z"
   },
   {
    "duration": 69,
    "start_time": "2023-06-16T12:52:59.022Z"
   },
   {
    "duration": 593,
    "start_time": "2023-06-16T12:52:59.093Z"
   },
   {
    "duration": 48,
    "start_time": "2023-06-16T12:52:59.688Z"
   },
   {
    "duration": 342,
    "start_time": "2023-06-16T12:52:59.738Z"
   },
   {
    "duration": 562,
    "start_time": "2023-06-16T12:53:00.082Z"
   },
   {
    "duration": 684,
    "start_time": "2023-06-16T12:53:00.646Z"
   },
   {
    "duration": 37,
    "start_time": "2023-06-16T12:53:01.332Z"
   },
   {
    "duration": 448,
    "start_time": "2023-06-16T12:53:01.371Z"
   },
   {
    "duration": 392,
    "start_time": "2023-06-16T12:53:01.821Z"
   },
   {
    "duration": 31,
    "start_time": "2023-06-16T12:53:02.221Z"
   },
   {
    "duration": 113,
    "start_time": "2023-06-16T12:53:02.255Z"
   },
   {
    "duration": 364,
    "start_time": "2023-06-16T12:53:02.370Z"
   },
   {
    "duration": 81,
    "start_time": "2023-06-16T12:53:02.736Z"
   },
   {
    "duration": 18424,
    "start_time": "2023-06-16T12:53:03.563Z"
   },
   {
    "duration": 18655,
    "start_time": "2023-06-16T12:56:18.997Z"
   },
   {
    "duration": 3166,
    "start_time": "2023-06-16T13:00:01.816Z"
   },
   {
    "duration": 970,
    "start_time": "2023-06-16T13:00:04.985Z"
   },
   {
    "duration": 151,
    "start_time": "2023-06-16T13:00:05.956Z"
   },
   {
    "duration": 20,
    "start_time": "2023-06-16T13:00:06.114Z"
   },
   {
    "duration": 125,
    "start_time": "2023-06-16T13:00:06.136Z"
   },
   {
    "duration": 96,
    "start_time": "2023-06-16T13:00:06.262Z"
   },
   {
    "duration": 100,
    "start_time": "2023-06-16T13:00:06.360Z"
   },
   {
    "duration": 74,
    "start_time": "2023-06-16T13:00:06.462Z"
   },
   {
    "duration": 220,
    "start_time": "2023-06-16T13:00:06.538Z"
   },
   {
    "duration": 82,
    "start_time": "2023-06-16T13:00:06.760Z"
   },
   {
    "duration": 324,
    "start_time": "2023-06-16T13:00:06.844Z"
   },
   {
    "duration": 539,
    "start_time": "2023-06-16T13:00:07.170Z"
   },
   {
    "duration": 1282,
    "start_time": "2023-06-16T13:00:07.711Z"
   },
   {
    "duration": 805,
    "start_time": "2023-06-16T13:00:09.001Z"
   },
   {
    "duration": 12,
    "start_time": "2023-06-16T13:00:09.808Z"
   },
   {
    "duration": 39,
    "start_time": "2023-06-16T13:00:09.822Z"
   },
   {
    "duration": 95,
    "start_time": "2023-06-16T13:00:09.863Z"
   },
   {
    "duration": 81,
    "start_time": "2023-06-16T13:00:09.960Z"
   },
   {
    "duration": 707,
    "start_time": "2023-06-16T13:00:10.042Z"
   },
   {
    "duration": 40,
    "start_time": "2023-06-16T13:00:10.751Z"
   },
   {
    "duration": 582,
    "start_time": "2023-06-16T13:00:10.794Z"
   },
   {
    "duration": 510,
    "start_time": "2023-06-16T13:00:11.378Z"
   },
   {
    "duration": 488,
    "start_time": "2023-06-16T13:00:11.890Z"
   },
   {
    "duration": 46,
    "start_time": "2023-06-16T13:00:12.379Z"
   },
   {
    "duration": 274,
    "start_time": "2023-06-16T13:00:12.427Z"
   },
   {
    "duration": 372,
    "start_time": "2023-06-16T13:00:12.704Z"
   },
   {
    "duration": 45,
    "start_time": "2023-06-16T13:00:13.077Z"
   },
   {
    "duration": 71,
    "start_time": "2023-06-16T13:00:13.124Z"
   },
   {
    "duration": 286,
    "start_time": "2023-06-16T13:00:13.198Z"
   },
   {
    "duration": 82,
    "start_time": "2023-06-16T13:00:13.485Z"
   },
   {
    "duration": 17760,
    "start_time": "2023-06-16T13:00:13.568Z"
   },
   {
    "duration": 1084,
    "start_time": "2023-06-16T13:00:31.331Z"
   },
   {
    "duration": 724,
    "start_time": "2023-06-16T13:00:32.418Z"
   },
   {
    "duration": 7,
    "start_time": "2023-06-16T13:00:33.144Z"
   },
   {
    "duration": 17,
    "start_time": "2023-06-16T13:00:33.152Z"
   },
   {
    "duration": 8,
    "start_time": "2023-06-16T13:00:33.171Z"
   },
   {
    "duration": 35,
    "start_time": "2023-06-16T13:00:33.181Z"
   },
   {
    "duration": 78,
    "start_time": "2023-06-16T13:00:33.218Z"
   },
   {
    "duration": 47,
    "start_time": "2023-06-16T13:00:33.297Z"
   },
   {
    "duration": 38,
    "start_time": "2023-06-16T13:00:33.346Z"
   },
   {
    "duration": 194746,
    "start_time": "2023-06-16T13:00:33.388Z"
   },
   {
    "duration": 1691,
    "start_time": "2023-06-16T13:03:48.135Z"
   },
   {
    "duration": 6,
    "start_time": "2023-06-16T13:03:49.833Z"
   },
   {
    "duration": 71,
    "start_time": "2023-06-16T13:03:49.840Z"
   },
   {
    "duration": 57499,
    "start_time": "2023-06-16T13:03:49.922Z"
   },
   {
    "duration": 147,
    "start_time": "2023-06-16T13:04:47.423Z"
   },
   {
    "duration": 5,
    "start_time": "2023-06-16T13:04:47.572Z"
   },
   {
    "duration": 78858,
    "start_time": "2023-06-16T13:04:47.579Z"
   },
   {
    "duration": 272,
    "start_time": "2023-06-16T13:06:06.439Z"
   },
   {
    "duration": 16,
    "start_time": "2023-06-16T13:06:06.713Z"
   },
   {
    "duration": 43857,
    "start_time": "2023-06-16T13:06:06.802Z"
   },
   {
    "duration": 583,
    "start_time": "2023-06-16T13:06:50.661Z"
   },
   {
    "duration": 4,
    "start_time": "2023-06-16T13:06:51.248Z"
   },
   {
    "duration": 105,
    "start_time": "2023-06-16T13:06:51.254Z"
   },
   {
    "duration": 0,
    "start_time": "2023-06-16T13:06:51.361Z"
   },
   {
    "duration": 0,
    "start_time": "2023-06-16T13:06:51.362Z"
   },
   {
    "duration": 0,
    "start_time": "2023-06-16T13:06:51.363Z"
   },
   {
    "duration": 0,
    "start_time": "2023-06-16T13:06:51.364Z"
   },
   {
    "duration": 0,
    "start_time": "2023-06-16T13:06:51.365Z"
   },
   {
    "duration": 0,
    "start_time": "2023-06-16T13:06:51.367Z"
   },
   {
    "duration": 0,
    "start_time": "2023-06-16T13:06:51.368Z"
   },
   {
    "duration": 2245,
    "start_time": "2023-06-16T13:10:53.733Z"
   },
   {
    "duration": 970,
    "start_time": "2023-06-16T13:10:55.980Z"
   },
   {
    "duration": 160,
    "start_time": "2023-06-16T13:10:56.951Z"
   },
   {
    "duration": 25,
    "start_time": "2023-06-16T13:10:57.115Z"
   },
   {
    "duration": 147,
    "start_time": "2023-06-16T13:10:57.143Z"
   },
   {
    "duration": 44,
    "start_time": "2023-06-16T13:10:57.292Z"
   },
   {
    "duration": 29,
    "start_time": "2023-06-16T13:10:57.338Z"
   },
   {
    "duration": 70,
    "start_time": "2023-06-16T13:10:57.369Z"
   },
   {
    "duration": 32,
    "start_time": "2023-06-16T13:10:57.441Z"
   },
   {
    "duration": 57,
    "start_time": "2023-06-16T13:10:57.475Z"
   },
   {
    "duration": 308,
    "start_time": "2023-06-16T13:10:57.534Z"
   },
   {
    "duration": 585,
    "start_time": "2023-06-16T13:10:57.843Z"
   },
   {
    "duration": 1283,
    "start_time": "2023-06-16T13:10:58.430Z"
   },
   {
    "duration": 798,
    "start_time": "2023-06-16T13:10:59.723Z"
   },
   {
    "duration": 11,
    "start_time": "2023-06-16T13:11:00.526Z"
   },
   {
    "duration": 59,
    "start_time": "2023-06-16T13:11:00.539Z"
   },
   {
    "duration": 130,
    "start_time": "2023-06-16T13:11:00.600Z"
   },
   {
    "duration": 81,
    "start_time": "2023-06-16T13:11:00.732Z"
   },
   {
    "duration": 529,
    "start_time": "2023-06-16T13:11:00.815Z"
   },
   {
    "duration": 39,
    "start_time": "2023-06-16T13:11:01.346Z"
   },
   {
    "duration": 333,
    "start_time": "2023-06-16T13:11:01.387Z"
   },
   {
    "duration": 467,
    "start_time": "2023-06-16T13:11:01.724Z"
   },
   {
    "duration": 493,
    "start_time": "2023-06-16T13:11:02.194Z"
   },
   {
    "duration": 47,
    "start_time": "2023-06-16T13:11:02.688Z"
   },
   {
    "duration": 272,
    "start_time": "2023-06-16T13:11:02.737Z"
   },
   {
    "duration": 356,
    "start_time": "2023-06-16T13:11:03.015Z"
   },
   {
    "duration": 45,
    "start_time": "2023-06-16T13:11:03.373Z"
   },
   {
    "duration": 120,
    "start_time": "2023-06-16T13:11:03.419Z"
   },
   {
    "duration": 266,
    "start_time": "2023-06-16T13:11:03.541Z"
   },
   {
    "duration": 76,
    "start_time": "2023-06-16T13:11:03.809Z"
   },
   {
    "duration": 17972,
    "start_time": "2023-06-16T13:11:03.888Z"
   },
   {
    "duration": 970,
    "start_time": "2023-06-16T13:11:21.862Z"
   },
   {
    "duration": 750,
    "start_time": "2023-06-16T13:11:22.834Z"
   },
   {
    "duration": 5,
    "start_time": "2023-06-16T13:11:23.586Z"
   },
   {
    "duration": 47,
    "start_time": "2023-06-16T13:11:23.606Z"
   },
   {
    "duration": 26,
    "start_time": "2023-06-16T13:11:23.654Z"
   },
   {
    "duration": 26,
    "start_time": "2023-06-16T13:11:23.682Z"
   },
   {
    "duration": 87,
    "start_time": "2023-06-16T13:11:23.718Z"
   },
   {
    "duration": 44,
    "start_time": "2023-06-16T13:11:23.815Z"
   },
   {
    "duration": 38,
    "start_time": "2023-06-16T13:11:23.861Z"
   },
   {
    "duration": 2415,
    "start_time": "2023-06-16T13:16:01.116Z"
   },
   {
    "duration": 912,
    "start_time": "2023-06-16T13:16:03.534Z"
   },
   {
    "duration": 128,
    "start_time": "2023-06-16T13:16:04.447Z"
   },
   {
    "duration": 34,
    "start_time": "2023-06-16T13:16:04.577Z"
   },
   {
    "duration": 133,
    "start_time": "2023-06-16T13:16:04.620Z"
   },
   {
    "duration": 31,
    "start_time": "2023-06-16T13:16:04.754Z"
   },
   {
    "duration": 128,
    "start_time": "2023-06-16T13:16:04.786Z"
   },
   {
    "duration": 124,
    "start_time": "2023-06-16T13:16:04.917Z"
   },
   {
    "duration": 117,
    "start_time": "2023-06-16T13:16:05.043Z"
   },
   {
    "duration": 47,
    "start_time": "2023-06-16T13:16:05.163Z"
   },
   {
    "duration": 325,
    "start_time": "2023-06-16T13:16:05.226Z"
   },
   {
    "duration": 551,
    "start_time": "2023-06-16T13:16:05.552Z"
   },
   {
    "duration": 1235,
    "start_time": "2023-06-16T13:16:06.112Z"
   },
   {
    "duration": 761,
    "start_time": "2023-06-16T13:16:07.349Z"
   },
   {
    "duration": 10,
    "start_time": "2023-06-16T13:16:08.121Z"
   },
   {
    "duration": 38,
    "start_time": "2023-06-16T13:16:08.132Z"
   },
   {
    "duration": 94,
    "start_time": "2023-06-16T13:16:08.172Z"
   },
   {
    "duration": 84,
    "start_time": "2023-06-16T13:16:08.268Z"
   },
   {
    "duration": 540,
    "start_time": "2023-06-16T13:16:08.354Z"
   },
   {
    "duration": 48,
    "start_time": "2023-06-16T13:16:08.895Z"
   },
   {
    "duration": 327,
    "start_time": "2023-06-16T13:16:08.945Z"
   },
   {
    "duration": 482,
    "start_time": "2023-06-16T13:16:09.274Z"
   },
   {
    "duration": 472,
    "start_time": "2023-06-16T13:16:09.757Z"
   },
   {
    "duration": 35,
    "start_time": "2023-06-16T13:16:10.231Z"
   },
   {
    "duration": 324,
    "start_time": "2023-06-16T13:16:10.268Z"
   },
   {
    "duration": 395,
    "start_time": "2023-06-16T13:16:10.594Z"
   },
   {
    "duration": 43,
    "start_time": "2023-06-16T13:16:10.991Z"
   },
   {
    "duration": 86,
    "start_time": "2023-06-16T13:16:11.039Z"
   },
   {
    "duration": 297,
    "start_time": "2023-06-16T13:16:11.127Z"
   },
   {
    "duration": 90,
    "start_time": "2023-06-16T13:16:11.431Z"
   },
   {
    "duration": 17928,
    "start_time": "2023-06-16T13:16:11.528Z"
   },
   {
    "duration": 969,
    "start_time": "2023-06-16T13:16:29.459Z"
   },
   {
    "duration": 749,
    "start_time": "2023-06-16T13:16:30.430Z"
   },
   {
    "duration": 5,
    "start_time": "2023-06-16T13:16:31.181Z"
   },
   {
    "duration": 128,
    "start_time": "2023-06-16T13:16:31.188Z"
   },
   {
    "duration": 34,
    "start_time": "2023-06-16T13:16:31.324Z"
   },
   {
    "duration": 40,
    "start_time": "2023-06-16T13:16:31.360Z"
   },
   {
    "duration": 135,
    "start_time": "2023-06-16T13:16:31.406Z"
   },
   {
    "duration": 39,
    "start_time": "2023-06-16T13:16:31.543Z"
   },
   {
    "duration": 61,
    "start_time": "2023-06-16T13:16:31.585Z"
   },
   {
    "duration": 233668,
    "start_time": "2023-06-16T13:16:31.648Z"
   },
   {
    "duration": 2005,
    "start_time": "2023-06-16T13:20:25.318Z"
   },
   {
    "duration": 6,
    "start_time": "2023-06-16T13:20:27.325Z"
   },
   {
    "duration": 6,
    "start_time": "2023-06-16T13:20:27.333Z"
   },
   {
    "duration": 53901,
    "start_time": "2023-06-16T13:20:27.340Z"
   },
   {
    "duration": 119,
    "start_time": "2023-06-16T13:21:21.242Z"
   },
   {
    "duration": 5,
    "start_time": "2023-06-16T13:21:21.363Z"
   },
   {
    "duration": 27643,
    "start_time": "2023-06-16T13:21:21.369Z"
   },
   {
    "duration": 194,
    "start_time": "2023-06-16T13:21:49.020Z"
   },
   {
    "duration": 15,
    "start_time": "2023-06-16T13:21:49.306Z"
   },
   {
    "duration": 39264,
    "start_time": "2023-06-16T13:21:49.407Z"
   },
   {
    "duration": 523,
    "start_time": "2023-06-16T13:22:28.673Z"
   },
   {
    "duration": 10,
    "start_time": "2023-06-16T13:22:29.198Z"
   },
   {
    "duration": 33,
    "start_time": "2023-06-16T13:22:29.212Z"
   },
   {
    "duration": 5126,
    "start_time": "2023-06-16T13:22:29.248Z"
   },
   {
    "duration": 86,
    "start_time": "2023-06-16T13:22:34.375Z"
   },
   {
    "duration": 3,
    "start_time": "2023-06-16T13:22:34.462Z"
   },
   {
    "duration": 8,
    "start_time": "2023-06-16T13:22:34.467Z"
   },
   {
    "duration": 6,
    "start_time": "2023-06-16T13:22:34.477Z"
   },
   {
    "duration": 29,
    "start_time": "2023-06-16T13:22:34.485Z"
   },
   {
    "duration": 1690,
    "start_time": "2023-06-17T09:52:05.961Z"
   },
   {
    "duration": 1454,
    "start_time": "2023-06-17T09:52:18.021Z"
   },
   {
    "duration": 0,
    "start_time": "2023-06-17T09:52:19.477Z"
   },
   {
    "duration": 0,
    "start_time": "2023-06-17T09:52:19.479Z"
   },
   {
    "duration": 0,
    "start_time": "2023-06-17T09:52:19.479Z"
   },
   {
    "duration": 0,
    "start_time": "2023-06-17T09:52:19.481Z"
   },
   {
    "duration": 0,
    "start_time": "2023-06-17T09:52:19.481Z"
   },
   {
    "duration": 0,
    "start_time": "2023-06-17T09:52:19.483Z"
   },
   {
    "duration": 0,
    "start_time": "2023-06-17T09:52:19.484Z"
   },
   {
    "duration": 0,
    "start_time": "2023-06-17T09:52:19.485Z"
   },
   {
    "duration": 0,
    "start_time": "2023-06-17T09:52:19.487Z"
   },
   {
    "duration": 0,
    "start_time": "2023-06-17T09:52:19.488Z"
   },
   {
    "duration": 0,
    "start_time": "2023-06-17T09:52:19.489Z"
   },
   {
    "duration": 0,
    "start_time": "2023-06-17T09:52:19.490Z"
   },
   {
    "duration": 0,
    "start_time": "2023-06-17T09:52:19.492Z"
   },
   {
    "duration": 0,
    "start_time": "2023-06-17T09:52:19.493Z"
   },
   {
    "duration": 0,
    "start_time": "2023-06-17T09:52:19.494Z"
   },
   {
    "duration": 0,
    "start_time": "2023-06-17T09:52:19.495Z"
   },
   {
    "duration": 0,
    "start_time": "2023-06-17T09:52:19.496Z"
   },
   {
    "duration": 0,
    "start_time": "2023-06-17T09:52:19.497Z"
   },
   {
    "duration": 0,
    "start_time": "2023-06-17T09:52:19.499Z"
   },
   {
    "duration": 0,
    "start_time": "2023-06-17T09:52:19.500Z"
   },
   {
    "duration": 0,
    "start_time": "2023-06-17T09:52:19.502Z"
   },
   {
    "duration": 0,
    "start_time": "2023-06-17T09:52:19.503Z"
   },
   {
    "duration": 0,
    "start_time": "2023-06-17T09:52:19.504Z"
   },
   {
    "duration": 0,
    "start_time": "2023-06-17T09:52:19.505Z"
   },
   {
    "duration": 0,
    "start_time": "2023-06-17T09:52:19.507Z"
   },
   {
    "duration": 0,
    "start_time": "2023-06-17T09:52:19.508Z"
   },
   {
    "duration": 0,
    "start_time": "2023-06-17T09:52:19.509Z"
   },
   {
    "duration": 0,
    "start_time": "2023-06-17T09:52:19.510Z"
   },
   {
    "duration": 0,
    "start_time": "2023-06-17T09:52:19.511Z"
   },
   {
    "duration": 0,
    "start_time": "2023-06-17T09:52:19.513Z"
   },
   {
    "duration": 0,
    "start_time": "2023-06-17T09:52:19.514Z"
   },
   {
    "duration": 0,
    "start_time": "2023-06-17T09:52:19.568Z"
   },
   {
    "duration": 0,
    "start_time": "2023-06-17T09:52:19.569Z"
   },
   {
    "duration": 0,
    "start_time": "2023-06-17T09:52:19.571Z"
   },
   {
    "duration": 0,
    "start_time": "2023-06-17T09:52:19.572Z"
   },
   {
    "duration": 0,
    "start_time": "2023-06-17T09:52:19.573Z"
   },
   {
    "duration": 0,
    "start_time": "2023-06-17T09:52:19.575Z"
   },
   {
    "duration": 0,
    "start_time": "2023-06-17T09:52:19.576Z"
   },
   {
    "duration": 0,
    "start_time": "2023-06-17T09:52:19.577Z"
   },
   {
    "duration": 0,
    "start_time": "2023-06-17T09:52:19.578Z"
   },
   {
    "duration": 0,
    "start_time": "2023-06-17T09:52:19.580Z"
   },
   {
    "duration": 0,
    "start_time": "2023-06-17T09:52:19.581Z"
   },
   {
    "duration": 0,
    "start_time": "2023-06-17T09:52:19.583Z"
   },
   {
    "duration": 0,
    "start_time": "2023-06-17T09:52:19.584Z"
   },
   {
    "duration": 0,
    "start_time": "2023-06-17T09:52:19.586Z"
   },
   {
    "duration": 0,
    "start_time": "2023-06-17T09:52:19.587Z"
   },
   {
    "duration": 0,
    "start_time": "2023-06-17T09:52:19.588Z"
   },
   {
    "duration": 0,
    "start_time": "2023-06-17T09:52:19.589Z"
   },
   {
    "duration": 0,
    "start_time": "2023-06-17T09:52:19.591Z"
   },
   {
    "duration": 0,
    "start_time": "2023-06-17T09:52:19.592Z"
   },
   {
    "duration": 0,
    "start_time": "2023-06-17T09:52:19.593Z"
   },
   {
    "duration": 0,
    "start_time": "2023-06-17T09:52:19.595Z"
   },
   {
    "duration": 0,
    "start_time": "2023-06-17T09:52:19.596Z"
   },
   {
    "duration": 0,
    "start_time": "2023-06-17T09:52:19.597Z"
   },
   {
    "duration": 0,
    "start_time": "2023-06-17T09:52:19.599Z"
   },
   {
    "duration": 0,
    "start_time": "2023-06-17T09:52:19.600Z"
   },
   {
    "duration": 0,
    "start_time": "2023-06-17T09:52:19.601Z"
   },
   {
    "duration": 0,
    "start_time": "2023-06-17T09:52:19.603Z"
   },
   {
    "duration": 0,
    "start_time": "2023-06-17T09:52:19.604Z"
   },
   {
    "duration": 1387,
    "start_time": "2023-06-17T09:52:56.529Z"
   },
   {
    "duration": 2716,
    "start_time": "2023-06-17T09:52:57.919Z"
   },
   {
    "duration": 119,
    "start_time": "2023-06-17T09:53:00.637Z"
   },
   {
    "duration": 24,
    "start_time": "2023-06-17T09:53:00.757Z"
   },
   {
    "duration": 132,
    "start_time": "2023-06-17T09:53:00.783Z"
   },
   {
    "duration": 31,
    "start_time": "2023-06-17T09:53:00.917Z"
   },
   {
    "duration": 52,
    "start_time": "2023-06-17T09:53:00.949Z"
   },
   {
    "duration": 76,
    "start_time": "2023-06-17T09:53:01.002Z"
   },
   {
    "duration": 59,
    "start_time": "2023-06-17T09:53:01.081Z"
   },
   {
    "duration": 61,
    "start_time": "2023-06-17T09:53:01.142Z"
   },
   {
    "duration": 322,
    "start_time": "2023-06-17T09:53:01.204Z"
   },
   {
    "duration": 441,
    "start_time": "2023-06-17T09:53:01.527Z"
   },
   {
    "duration": 943,
    "start_time": "2023-06-17T09:53:01.969Z"
   },
   {
    "duration": 540,
    "start_time": "2023-06-17T09:53:02.915Z"
   },
   {
    "duration": 7,
    "start_time": "2023-06-17T09:53:03.456Z"
   },
   {
    "duration": 27,
    "start_time": "2023-06-17T09:53:03.468Z"
   },
   {
    "duration": 87,
    "start_time": "2023-06-17T09:53:03.497Z"
   },
   {
    "duration": 54,
    "start_time": "2023-06-17T09:53:03.586Z"
   },
   {
    "duration": 473,
    "start_time": "2023-06-17T09:53:03.641Z"
   },
   {
    "duration": 32,
    "start_time": "2023-06-17T09:53:04.116Z"
   },
   {
    "duration": 254,
    "start_time": "2023-06-17T09:53:04.151Z"
   },
   {
    "duration": 479,
    "start_time": "2023-06-17T09:53:04.406Z"
   },
   {
    "duration": 394,
    "start_time": "2023-06-17T09:53:04.886Z"
   },
   {
    "duration": 27,
    "start_time": "2023-06-17T09:53:05.281Z"
   },
   {
    "duration": 218,
    "start_time": "2023-06-17T09:53:05.309Z"
   },
   {
    "duration": 326,
    "start_time": "2023-06-17T09:53:05.528Z"
   },
   {
    "duration": 26,
    "start_time": "2023-06-17T09:53:05.856Z"
   },
   {
    "duration": 66,
    "start_time": "2023-06-17T09:53:05.884Z"
   },
   {
    "duration": 261,
    "start_time": "2023-06-17T09:53:05.952Z"
   },
   {
    "duration": 86,
    "start_time": "2023-06-17T09:53:06.215Z"
   },
   {
    "duration": 685,
    "start_time": "2023-06-17T09:53:06.303Z"
   },
   {
    "duration": 588,
    "start_time": "2023-06-17T09:53:06.990Z"
   },
   {
    "duration": 5,
    "start_time": "2023-06-17T09:53:07.579Z"
   },
   {
    "duration": 12,
    "start_time": "2023-06-17T09:53:07.585Z"
   },
   {
    "duration": 2,
    "start_time": "2023-06-17T09:53:07.598Z"
   },
   {
    "duration": 13,
    "start_time": "2023-06-17T09:53:07.602Z"
   },
   {
    "duration": 78,
    "start_time": "2023-06-17T09:53:07.617Z"
   },
   {
    "duration": 32,
    "start_time": "2023-06-17T09:53:07.696Z"
   },
   {
    "duration": 43,
    "start_time": "2023-06-17T09:53:07.729Z"
   },
   {
    "duration": 5305,
    "start_time": "2023-06-17T09:53:07.774Z"
   },
   {
    "duration": 1806,
    "start_time": "2023-06-17T09:53:13.084Z"
   },
   {
    "duration": 76,
    "start_time": "2023-06-17T09:53:14.892Z"
   },
   {
    "duration": 3,
    "start_time": "2023-06-17T09:53:14.970Z"
   },
   {
    "duration": 42222,
    "start_time": "2023-06-17T09:53:14.975Z"
   },
   {
    "duration": 108,
    "start_time": "2023-06-17T09:53:57.198Z"
   },
   {
    "duration": 5,
    "start_time": "2023-06-17T09:53:57.308Z"
   },
   {
    "duration": 14458,
    "start_time": "2023-06-17T09:53:57.314Z"
   },
   {
    "duration": 198,
    "start_time": "2023-06-17T09:54:11.774Z"
   },
   {
    "duration": 5,
    "start_time": "2023-06-17T09:54:12.067Z"
   },
   {
    "duration": 4,
    "start_time": "2023-06-17T09:54:53.143Z"
   },
   {
    "duration": 709,
    "start_time": "2023-06-17T09:54:56.012Z"
   },
   {
    "duration": 124,
    "start_time": "2023-06-17T09:54:57.112Z"
   },
   {
    "duration": 12,
    "start_time": "2023-06-17T09:54:58.368Z"
   },
   {
    "duration": 120,
    "start_time": "2023-06-17T09:54:58.661Z"
   },
   {
    "duration": 31,
    "start_time": "2023-06-17T09:54:58.911Z"
   },
   {
    "duration": 29,
    "start_time": "2023-06-17T09:54:59.337Z"
   },
   {
    "duration": 31,
    "start_time": "2023-06-17T09:54:59.543Z"
   },
   {
    "duration": 31,
    "start_time": "2023-06-17T09:54:59.798Z"
   },
   {
    "duration": 30,
    "start_time": "2023-06-17T09:55:00.710Z"
   },
   {
    "duration": 36,
    "start_time": "2023-06-17T09:55:34.976Z"
   },
   {
    "duration": 31,
    "start_time": "2023-06-17T09:55:41.425Z"
   },
   {
    "duration": 31,
    "start_time": "2023-06-17T09:55:47.640Z"
   },
   {
    "duration": 34,
    "start_time": "2023-06-17T09:55:54.924Z"
   },
   {
    "duration": 36,
    "start_time": "2023-06-17T09:55:59.673Z"
   },
   {
    "duration": 31,
    "start_time": "2023-06-17T09:56:09.625Z"
   },
   {
    "duration": 29,
    "start_time": "2023-06-17T09:56:14.219Z"
   },
   {
    "duration": 237,
    "start_time": "2023-06-17T10:08:29.276Z"
   },
   {
    "duration": 420,
    "start_time": "2023-06-17T10:08:30.327Z"
   },
   {
    "duration": 930,
    "start_time": "2023-06-17T10:08:31.255Z"
   },
   {
    "duration": 574,
    "start_time": "2023-06-17T10:08:32.187Z"
   },
   {
    "duration": 6,
    "start_time": "2023-06-17T10:08:34.302Z"
   },
   {
    "duration": 24,
    "start_time": "2023-06-17T10:08:35.163Z"
   },
   {
    "duration": 79,
    "start_time": "2023-06-17T10:08:35.634Z"
   },
   {
    "duration": 51,
    "start_time": "2023-06-17T10:08:36.108Z"
   },
   {
    "duration": 404,
    "start_time": "2023-06-17T10:08:36.321Z"
   },
   {
    "duration": 24,
    "start_time": "2023-06-17T10:08:37.013Z"
   },
   {
    "duration": 229,
    "start_time": "2023-06-17T10:08:37.363Z"
   },
   {
    "duration": 516,
    "start_time": "2023-06-17T10:08:37.593Z"
   },
   {
    "duration": 400,
    "start_time": "2023-06-17T10:08:38.111Z"
   },
   {
    "duration": 24,
    "start_time": "2023-06-17T10:08:38.513Z"
   },
   {
    "duration": 4,
    "start_time": "2023-06-17T10:08:38.539Z"
   },
   {
    "duration": 234,
    "start_time": "2023-06-17T10:08:38.712Z"
   },
   {
    "duration": 352,
    "start_time": "2023-06-17T10:08:38.948Z"
   },
   {
    "duration": 21,
    "start_time": "2023-06-17T10:08:40.498Z"
   },
   {
    "duration": 65,
    "start_time": "2023-06-17T10:08:41.245Z"
   },
   {
    "duration": 209,
    "start_time": "2023-06-17T10:08:41.492Z"
   },
   {
    "duration": 8,
    "start_time": "2023-06-17T10:09:26.940Z"
   },
   {
    "duration": 115,
    "start_time": "2023-06-17T10:10:17.127Z"
   },
   {
    "duration": 5,
    "start_time": "2023-06-17T10:11:04.067Z"
   },
   {
    "duration": 4,
    "start_time": "2023-06-17T10:12:59.040Z"
   },
   {
    "duration": 6,
    "start_time": "2023-06-17T10:13:20.919Z"
   },
   {
    "duration": 7,
    "start_time": "2023-06-17T10:13:50.124Z"
   },
   {
    "duration": 1034,
    "start_time": "2023-06-17T10:14:49.743Z"
   },
   {
    "duration": 993,
    "start_time": "2023-06-17T10:17:42.601Z"
   },
   {
    "duration": 4,
    "start_time": "2023-06-17T10:18:00.309Z"
   },
   {
    "duration": 692,
    "start_time": "2023-06-17T10:18:00.505Z"
   },
   {
    "duration": 119,
    "start_time": "2023-06-17T10:18:01.199Z"
   },
   {
    "duration": 14,
    "start_time": "2023-06-17T10:18:01.400Z"
   },
   {
    "duration": 114,
    "start_time": "2023-06-17T10:18:01.543Z"
   },
   {
    "duration": 32,
    "start_time": "2023-06-17T10:18:01.712Z"
   },
   {
    "duration": 41,
    "start_time": "2023-06-17T10:18:02.198Z"
   },
   {
    "duration": 35,
    "start_time": "2023-06-17T10:18:02.400Z"
   },
   {
    "duration": 31,
    "start_time": "2023-06-17T10:18:02.557Z"
   },
   {
    "duration": 31,
    "start_time": "2023-06-17T10:18:02.749Z"
   },
   {
    "duration": 241,
    "start_time": "2023-06-17T10:18:03.500Z"
   },
   {
    "duration": 427,
    "start_time": "2023-06-17T10:18:03.854Z"
   },
   {
    "duration": 918,
    "start_time": "2023-06-17T10:18:04.283Z"
   },
   {
    "duration": 539,
    "start_time": "2023-06-17T10:18:05.204Z"
   },
   {
    "duration": 7,
    "start_time": "2023-06-17T10:18:05.745Z"
   },
   {
    "duration": 23,
    "start_time": "2023-06-17T10:18:05.755Z"
   },
   {
    "duration": 0,
    "start_time": "2023-06-17T10:18:05.780Z"
   },
   {
    "duration": 81,
    "start_time": "2023-06-17T10:18:05.954Z"
   },
   {
    "duration": 412,
    "start_time": "2023-06-17T10:18:06.148Z"
   },
   {
    "duration": 32,
    "start_time": "2023-06-17T10:18:06.722Z"
   },
   {
    "duration": 246,
    "start_time": "2023-06-17T10:18:07.119Z"
   },
   {
    "duration": 394,
    "start_time": "2023-06-17T10:18:07.450Z"
   },
   {
    "duration": 379,
    "start_time": "2023-06-17T10:18:07.925Z"
   },
   {
    "duration": 23,
    "start_time": "2023-06-17T10:18:08.306Z"
   },
   {
    "duration": 54,
    "start_time": "2023-06-17T10:18:08.331Z"
   },
   {
    "duration": 311,
    "start_time": "2023-06-17T10:18:08.640Z"
   },
   {
    "duration": 24,
    "start_time": "2023-06-17T10:18:59.704Z"
   },
   {
    "duration": 20,
    "start_time": "2023-06-17T10:22:16.658Z"
   },
   {
    "duration": 1397,
    "start_time": "2023-06-17T10:24:23.929Z"
   },
   {
    "duration": 782,
    "start_time": "2023-06-17T10:24:25.328Z"
   },
   {
    "duration": 121,
    "start_time": "2023-06-17T10:24:26.112Z"
   },
   {
    "duration": 14,
    "start_time": "2023-06-17T10:24:26.235Z"
   },
   {
    "duration": 129,
    "start_time": "2023-06-17T10:24:26.251Z"
   },
   {
    "duration": 32,
    "start_time": "2023-06-17T10:24:26.381Z"
   },
   {
    "duration": 34,
    "start_time": "2023-06-17T10:24:26.414Z"
   },
   {
    "duration": 55,
    "start_time": "2023-06-17T10:24:26.449Z"
   },
   {
    "duration": 47,
    "start_time": "2023-06-17T10:24:26.505Z"
   },
   {
    "duration": 35,
    "start_time": "2023-06-17T10:24:26.555Z"
   },
   {
    "duration": 292,
    "start_time": "2023-06-17T10:24:26.592Z"
   },
   {
    "duration": 467,
    "start_time": "2023-06-17T10:24:26.886Z"
   },
   {
    "duration": 1032,
    "start_time": "2023-06-17T10:24:27.354Z"
   },
   {
    "duration": 558,
    "start_time": "2023-06-17T10:24:28.388Z"
   },
   {
    "duration": 7,
    "start_time": "2023-06-17T10:24:28.948Z"
   },
   {
    "duration": 128,
    "start_time": "2023-06-17T10:24:28.956Z"
   },
   {
    "duration": 0,
    "start_time": "2023-06-17T10:24:29.086Z"
   },
   {
    "duration": 1,
    "start_time": "2023-06-17T10:24:29.088Z"
   },
   {
    "duration": 0,
    "start_time": "2023-06-17T10:24:29.090Z"
   },
   {
    "duration": 0,
    "start_time": "2023-06-17T10:24:29.091Z"
   },
   {
    "duration": 0,
    "start_time": "2023-06-17T10:24:29.092Z"
   },
   {
    "duration": 0,
    "start_time": "2023-06-17T10:24:29.093Z"
   },
   {
    "duration": 0,
    "start_time": "2023-06-17T10:24:29.093Z"
   },
   {
    "duration": 0,
    "start_time": "2023-06-17T10:24:29.094Z"
   },
   {
    "duration": 0,
    "start_time": "2023-06-17T10:24:29.095Z"
   },
   {
    "duration": 0,
    "start_time": "2023-06-17T10:24:29.096Z"
   },
   {
    "duration": 0,
    "start_time": "2023-06-17T10:24:29.097Z"
   },
   {
    "duration": 0,
    "start_time": "2023-06-17T10:24:29.098Z"
   },
   {
    "duration": 0,
    "start_time": "2023-06-17T10:24:29.099Z"
   },
   {
    "duration": 0,
    "start_time": "2023-06-17T10:24:29.100Z"
   },
   {
    "duration": 0,
    "start_time": "2023-06-17T10:24:29.101Z"
   },
   {
    "duration": 0,
    "start_time": "2023-06-17T10:24:29.102Z"
   },
   {
    "duration": 0,
    "start_time": "2023-06-17T10:24:29.103Z"
   },
   {
    "duration": 0,
    "start_time": "2023-06-17T10:24:29.104Z"
   },
   {
    "duration": 0,
    "start_time": "2023-06-17T10:24:29.105Z"
   },
   {
    "duration": 0,
    "start_time": "2023-06-17T10:24:29.106Z"
   },
   {
    "duration": 0,
    "start_time": "2023-06-17T10:24:29.107Z"
   },
   {
    "duration": 0,
    "start_time": "2023-06-17T10:24:29.108Z"
   },
   {
    "duration": 0,
    "start_time": "2023-06-17T10:24:29.109Z"
   },
   {
    "duration": 0,
    "start_time": "2023-06-17T10:24:29.110Z"
   },
   {
    "duration": 0,
    "start_time": "2023-06-17T10:24:29.111Z"
   },
   {
    "duration": 0,
    "start_time": "2023-06-17T10:24:29.112Z"
   },
   {
    "duration": 0,
    "start_time": "2023-06-17T10:24:29.113Z"
   },
   {
    "duration": 0,
    "start_time": "2023-06-17T10:24:29.114Z"
   },
   {
    "duration": 0,
    "start_time": "2023-06-17T10:24:29.115Z"
   },
   {
    "duration": 0,
    "start_time": "2023-06-17T10:24:29.116Z"
   },
   {
    "duration": 0,
    "start_time": "2023-06-17T10:24:29.117Z"
   },
   {
    "duration": 0,
    "start_time": "2023-06-17T10:24:29.168Z"
   },
   {
    "duration": 0,
    "start_time": "2023-06-17T10:24:29.169Z"
   },
   {
    "duration": 0,
    "start_time": "2023-06-17T10:24:29.170Z"
   },
   {
    "duration": 0,
    "start_time": "2023-06-17T10:24:29.171Z"
   },
   {
    "duration": 0,
    "start_time": "2023-06-17T10:24:29.172Z"
   },
   {
    "duration": 0,
    "start_time": "2023-06-17T10:24:29.173Z"
   },
   {
    "duration": 0,
    "start_time": "2023-06-17T10:24:29.174Z"
   },
   {
    "duration": 0,
    "start_time": "2023-06-17T10:24:29.175Z"
   },
   {
    "duration": 0,
    "start_time": "2023-06-17T10:24:29.176Z"
   },
   {
    "duration": 0,
    "start_time": "2023-06-17T10:24:29.177Z"
   },
   {
    "duration": 0,
    "start_time": "2023-06-17T10:24:29.178Z"
   },
   {
    "duration": 0,
    "start_time": "2023-06-17T10:24:29.179Z"
   },
   {
    "duration": 15,
    "start_time": "2023-06-17T10:26:08.409Z"
   },
   {
    "duration": 90,
    "start_time": "2023-06-17T10:26:12.347Z"
   },
   {
    "duration": 13,
    "start_time": "2023-06-17T10:27:01.353Z"
   },
   {
    "duration": 13,
    "start_time": "2023-06-17T10:29:28.115Z"
   },
   {
    "duration": 13,
    "start_time": "2023-06-17T10:30:43.034Z"
   },
   {
    "duration": 1451,
    "start_time": "2023-06-17T10:31:43.473Z"
   },
   {
    "duration": 811,
    "start_time": "2023-06-17T10:31:44.926Z"
   },
   {
    "duration": 134,
    "start_time": "2023-06-17T10:31:45.739Z"
   },
   {
    "duration": 15,
    "start_time": "2023-06-17T10:31:45.875Z"
   },
   {
    "duration": 127,
    "start_time": "2023-06-17T10:31:45.891Z"
   },
   {
    "duration": 51,
    "start_time": "2023-06-17T10:31:46.020Z"
   },
   {
    "duration": 38,
    "start_time": "2023-06-17T10:31:46.072Z"
   },
   {
    "duration": 34,
    "start_time": "2023-06-17T10:31:46.111Z"
   },
   {
    "duration": 36,
    "start_time": "2023-06-17T10:31:46.147Z"
   },
   {
    "duration": 32,
    "start_time": "2023-06-17T10:31:46.186Z"
   },
   {
    "duration": 293,
    "start_time": "2023-06-17T10:31:46.219Z"
   },
   {
    "duration": 887,
    "start_time": "2023-06-17T10:31:46.514Z"
   },
   {
    "duration": 1413,
    "start_time": "2023-06-17T10:31:47.403Z"
   },
   {
    "duration": 546,
    "start_time": "2023-06-17T10:31:48.817Z"
   },
   {
    "duration": 9,
    "start_time": "2023-06-17T10:31:49.364Z"
   },
   {
    "duration": 29,
    "start_time": "2023-06-17T10:31:49.374Z"
   },
   {
    "duration": 108,
    "start_time": "2023-06-17T10:31:49.404Z"
   },
   {
    "duration": 70,
    "start_time": "2023-06-17T10:31:49.513Z"
   },
   {
    "duration": 438,
    "start_time": "2023-06-17T10:31:49.584Z"
   },
   {
    "duration": 34,
    "start_time": "2023-06-17T10:31:50.024Z"
   },
   {
    "duration": 262,
    "start_time": "2023-06-17T10:31:50.059Z"
   },
   {
    "duration": 537,
    "start_time": "2023-06-17T10:31:50.323Z"
   },
   {
    "duration": 421,
    "start_time": "2023-06-17T10:31:50.861Z"
   },
   {
    "duration": 35,
    "start_time": "2023-06-17T10:31:51.284Z"
   },
   {
    "duration": 235,
    "start_time": "2023-06-17T10:31:51.321Z"
   },
   {
    "duration": 329,
    "start_time": "2023-06-17T10:31:51.557Z"
   },
   {
    "duration": 27,
    "start_time": "2023-06-17T10:31:51.887Z"
   },
   {
    "duration": 85,
    "start_time": "2023-06-17T10:31:51.918Z"
   },
   {
    "duration": 235,
    "start_time": "2023-06-17T10:31:52.005Z"
   },
   {
    "duration": 83,
    "start_time": "2023-06-17T10:31:52.242Z"
   },
   {
    "duration": 966,
    "start_time": "2023-06-17T10:31:52.327Z"
   },
   {
    "duration": 889,
    "start_time": "2023-06-17T10:31:53.295Z"
   },
   {
    "duration": 6,
    "start_time": "2023-06-17T10:31:54.187Z"
   },
   {
    "duration": 25,
    "start_time": "2023-06-17T10:31:54.195Z"
   },
   {
    "duration": 3,
    "start_time": "2023-06-17T10:31:54.222Z"
   },
   {
    "duration": 20,
    "start_time": "2023-06-17T10:31:54.228Z"
   },
   {
    "duration": 77,
    "start_time": "2023-06-17T10:31:54.269Z"
   },
   {
    "duration": 52,
    "start_time": "2023-06-17T10:31:54.348Z"
   },
   {
    "duration": 36,
    "start_time": "2023-06-17T10:31:54.401Z"
   },
   {
    "duration": 3188,
    "start_time": "2023-06-17T10:31:54.439Z"
   },
   {
    "duration": 85,
    "start_time": "2023-06-17T10:31:57.629Z"
   },
   {
    "duration": 10,
    "start_time": "2023-06-17T10:31:57.716Z"
   },
   {
    "duration": 0,
    "start_time": "2023-06-17T10:31:57.728Z"
   },
   {
    "duration": 0,
    "start_time": "2023-06-17T10:31:57.729Z"
   },
   {
    "duration": 0,
    "start_time": "2023-06-17T10:31:57.730Z"
   },
   {
    "duration": 0,
    "start_time": "2023-06-17T10:31:57.731Z"
   },
   {
    "duration": 0,
    "start_time": "2023-06-17T10:31:57.733Z"
   },
   {
    "duration": 0,
    "start_time": "2023-06-17T10:31:57.735Z"
   },
   {
    "duration": 0,
    "start_time": "2023-06-17T10:31:57.736Z"
   },
   {
    "duration": 0,
    "start_time": "2023-06-17T10:31:57.738Z"
   },
   {
    "duration": 0,
    "start_time": "2023-06-17T10:31:57.740Z"
   },
   {
    "duration": 0,
    "start_time": "2023-06-17T10:31:57.742Z"
   },
   {
    "duration": 0,
    "start_time": "2023-06-17T10:31:57.744Z"
   },
   {
    "duration": 0,
    "start_time": "2023-06-17T10:31:57.745Z"
   },
   {
    "duration": 0,
    "start_time": "2023-06-17T10:31:57.747Z"
   },
   {
    "duration": 0,
    "start_time": "2023-06-17T10:31:57.749Z"
   },
   {
    "duration": 0,
    "start_time": "2023-06-17T10:31:57.751Z"
   },
   {
    "duration": 0,
    "start_time": "2023-06-17T10:31:57.752Z"
   },
   {
    "duration": 0,
    "start_time": "2023-06-17T10:31:57.754Z"
   },
   {
    "duration": 1535,
    "start_time": "2023-06-17T10:34:08.812Z"
   },
   {
    "duration": 982,
    "start_time": "2023-06-17T10:34:10.350Z"
   },
   {
    "duration": 456,
    "start_time": "2023-06-17T10:34:11.333Z"
   },
   {
    "duration": 27,
    "start_time": "2023-06-17T10:34:11.791Z"
   },
   {
    "duration": 396,
    "start_time": "2023-06-17T10:34:11.821Z"
   },
   {
    "duration": 50,
    "start_time": "2023-06-17T10:34:12.267Z"
   },
   {
    "duration": 105,
    "start_time": "2023-06-17T10:34:12.369Z"
   },
   {
    "duration": 113,
    "start_time": "2023-06-17T10:34:12.477Z"
   },
   {
    "duration": 105,
    "start_time": "2023-06-17T10:34:12.592Z"
   },
   {
    "duration": 94,
    "start_time": "2023-06-17T10:34:12.699Z"
   },
   {
    "duration": 823,
    "start_time": "2023-06-17T10:34:12.794Z"
   },
   {
    "duration": 822,
    "start_time": "2023-06-17T10:34:13.669Z"
   },
   {
    "duration": 1157,
    "start_time": "2023-06-17T10:34:14.492Z"
   },
   {
    "duration": 590,
    "start_time": "2023-06-17T10:34:15.652Z"
   },
   {
    "duration": 7,
    "start_time": "2023-06-17T10:34:16.243Z"
   },
   {
    "duration": 48,
    "start_time": "2023-06-17T10:34:16.251Z"
   },
   {
    "duration": 29,
    "start_time": "2023-06-17T10:34:16.300Z"
   },
   {
    "duration": 106,
    "start_time": "2023-06-17T10:34:16.331Z"
   },
   {
    "duration": 74,
    "start_time": "2023-06-17T10:34:16.438Z"
   },
   {
    "duration": 489,
    "start_time": "2023-06-17T10:34:16.514Z"
   },
   {
    "duration": 34,
    "start_time": "2023-06-17T10:34:17.004Z"
   },
   {
    "duration": 376,
    "start_time": "2023-06-17T10:34:17.045Z"
   },
   {
    "duration": 584,
    "start_time": "2023-06-17T10:34:17.423Z"
   },
   {
    "duration": 531,
    "start_time": "2023-06-17T10:34:18.010Z"
   },
   {
    "duration": 33,
    "start_time": "2023-06-17T10:34:18.542Z"
   },
   {
    "duration": 275,
    "start_time": "2023-06-17T10:34:18.578Z"
   },
   {
    "duration": 404,
    "start_time": "2023-06-17T10:34:18.854Z"
   },
   {
    "duration": 36,
    "start_time": "2023-06-17T10:34:19.260Z"
   },
   {
    "duration": 87,
    "start_time": "2023-06-17T10:34:19.298Z"
   },
   {
    "duration": 288,
    "start_time": "2023-06-17T10:34:19.387Z"
   },
   {
    "duration": 90,
    "start_time": "2023-06-17T10:34:19.678Z"
   },
   {
    "duration": 813,
    "start_time": "2023-06-17T10:34:19.771Z"
   },
   {
    "duration": 692,
    "start_time": "2023-06-17T10:34:20.587Z"
   },
   {
    "duration": 6,
    "start_time": "2023-06-17T10:34:21.281Z"
   },
   {
    "duration": 24,
    "start_time": "2023-06-17T10:34:21.289Z"
   },
   {
    "duration": 3,
    "start_time": "2023-06-17T10:34:21.315Z"
   },
   {
    "duration": 18,
    "start_time": "2023-06-17T10:34:21.321Z"
   },
   {
    "duration": 104,
    "start_time": "2023-06-17T10:34:21.341Z"
   },
   {
    "duration": 50,
    "start_time": "2023-06-17T10:34:21.447Z"
   },
   {
    "duration": 33,
    "start_time": "2023-06-17T10:34:21.499Z"
   },
   {
    "duration": 337035,
    "start_time": "2023-06-17T10:34:21.536Z"
   },
   {
    "duration": 912,
    "start_time": "2023-06-17T10:39:58.572Z"
   },
   {
    "duration": 6,
    "start_time": "2023-06-17T10:39:59.486Z"
   },
   {
    "duration": 11,
    "start_time": "2023-06-17T10:39:59.493Z"
   },
   {
    "duration": 45216,
    "start_time": "2023-06-17T10:39:59.569Z"
   },
   {
    "duration": 66,
    "start_time": "2023-06-17T10:40:44.787Z"
   },
   {
    "duration": 5,
    "start_time": "2023-06-17T10:40:44.855Z"
   },
   {
    "duration": 36307,
    "start_time": "2023-06-17T10:40:44.862Z"
   },
   {
    "duration": 204,
    "start_time": "2023-06-17T10:41:21.172Z"
   },
   {
    "duration": 91,
    "start_time": "2023-06-17T10:41:21.379Z"
   },
   {
    "duration": 33423,
    "start_time": "2023-06-17T10:41:21.472Z"
   },
   {
    "duration": 475,
    "start_time": "2023-06-17T10:41:54.896Z"
   },
   {
    "duration": 4,
    "start_time": "2023-06-17T10:41:55.373Z"
   },
   {
    "duration": 12,
    "start_time": "2023-06-17T10:41:55.378Z"
   },
   {
    "duration": 4817,
    "start_time": "2023-06-17T10:41:55.392Z"
   },
   {
    "duration": 66,
    "start_time": "2023-06-17T10:42:00.210Z"
   },
   {
    "duration": 4,
    "start_time": "2023-06-17T10:42:00.278Z"
   },
   {
    "duration": 84,
    "start_time": "2023-06-17T10:42:00.283Z"
   },
   {
    "duration": 34,
    "start_time": "2023-06-17T10:42:00.369Z"
   },
   {
    "duration": 37,
    "start_time": "2023-06-17T10:42:00.404Z"
   },
   {
    "duration": 68,
    "start_time": "2023-06-17T10:42:00.444Z"
   },
   {
    "duration": 126,
    "start_time": "2023-06-17T10:56:05.834Z"
   },
   {
    "duration": 16,
    "start_time": "2023-06-17T10:56:12.971Z"
   },
   {
    "duration": 4,
    "start_time": "2023-06-17T10:56:20.834Z"
   },
   {
    "duration": 6,
    "start_time": "2023-06-17T10:56:23.434Z"
   },
   {
    "duration": 757,
    "start_time": "2023-06-17T10:56:24.700Z"
   },
   {
    "duration": 8,
    "start_time": "2023-06-17T10:56:30.875Z"
   },
   {
    "duration": 11,
    "start_time": "2023-06-17T11:00:13.704Z"
   },
   {
    "duration": 3240,
    "start_time": "2023-06-17T11:13:09.656Z"
   },
   {
    "duration": 16,
    "start_time": "2023-06-17T11:13:17.555Z"
   },
   {
    "duration": 2084,
    "start_time": "2023-06-17T11:15:51.820Z"
   },
   {
    "duration": 2263,
    "start_time": "2023-06-17T11:15:53.906Z"
   },
   {
    "duration": 0,
    "start_time": "2023-06-17T11:15:56.173Z"
   },
   {
    "duration": 0,
    "start_time": "2023-06-17T11:15:56.174Z"
   },
   {
    "duration": 0,
    "start_time": "2023-06-17T11:15:56.175Z"
   },
   {
    "duration": 0,
    "start_time": "2023-06-17T11:15:56.176Z"
   },
   {
    "duration": 0,
    "start_time": "2023-06-17T11:15:56.177Z"
   },
   {
    "duration": 0,
    "start_time": "2023-06-17T11:15:56.179Z"
   },
   {
    "duration": 0,
    "start_time": "2023-06-17T11:15:56.180Z"
   },
   {
    "duration": 0,
    "start_time": "2023-06-17T11:15:56.181Z"
   },
   {
    "duration": 0,
    "start_time": "2023-06-17T11:15:56.182Z"
   },
   {
    "duration": 0,
    "start_time": "2023-06-17T11:15:56.183Z"
   },
   {
    "duration": 0,
    "start_time": "2023-06-17T11:15:56.184Z"
   },
   {
    "duration": 0,
    "start_time": "2023-06-17T11:15:56.185Z"
   },
   {
    "duration": 0,
    "start_time": "2023-06-17T11:15:56.187Z"
   },
   {
    "duration": 0,
    "start_time": "2023-06-17T11:15:56.188Z"
   },
   {
    "duration": 0,
    "start_time": "2023-06-17T11:15:56.189Z"
   },
   {
    "duration": 0,
    "start_time": "2023-06-17T11:15:56.190Z"
   },
   {
    "duration": 0,
    "start_time": "2023-06-17T11:15:56.191Z"
   },
   {
    "duration": 0,
    "start_time": "2023-06-17T11:15:56.192Z"
   },
   {
    "duration": 0,
    "start_time": "2023-06-17T11:15:56.196Z"
   },
   {
    "duration": 0,
    "start_time": "2023-06-17T11:15:56.197Z"
   },
   {
    "duration": 0,
    "start_time": "2023-06-17T11:15:56.198Z"
   },
   {
    "duration": 0,
    "start_time": "2023-06-17T11:15:56.200Z"
   },
   {
    "duration": 0,
    "start_time": "2023-06-17T11:15:56.201Z"
   },
   {
    "duration": 0,
    "start_time": "2023-06-17T11:15:56.202Z"
   },
   {
    "duration": 0,
    "start_time": "2023-06-17T11:15:56.204Z"
   },
   {
    "duration": 0,
    "start_time": "2023-06-17T11:15:56.205Z"
   },
   {
    "duration": 0,
    "start_time": "2023-06-17T11:15:56.269Z"
   },
   {
    "duration": 0,
    "start_time": "2023-06-17T11:15:56.270Z"
   },
   {
    "duration": 0,
    "start_time": "2023-06-17T11:15:56.271Z"
   },
   {
    "duration": 0,
    "start_time": "2023-06-17T11:15:56.272Z"
   },
   {
    "duration": 0,
    "start_time": "2023-06-17T11:15:56.273Z"
   },
   {
    "duration": 0,
    "start_time": "2023-06-17T11:15:56.274Z"
   },
   {
    "duration": 0,
    "start_time": "2023-06-17T11:15:56.275Z"
   },
   {
    "duration": 1,
    "start_time": "2023-06-17T11:15:56.276Z"
   },
   {
    "duration": 0,
    "start_time": "2023-06-17T11:15:56.277Z"
   },
   {
    "duration": 0,
    "start_time": "2023-06-17T11:15:56.278Z"
   },
   {
    "duration": 0,
    "start_time": "2023-06-17T11:15:56.280Z"
   },
   {
    "duration": 0,
    "start_time": "2023-06-17T11:15:56.281Z"
   },
   {
    "duration": 0,
    "start_time": "2023-06-17T11:15:56.282Z"
   },
   {
    "duration": 0,
    "start_time": "2023-06-17T11:15:56.283Z"
   },
   {
    "duration": 0,
    "start_time": "2023-06-17T11:15:56.284Z"
   },
   {
    "duration": 0,
    "start_time": "2023-06-17T11:15:56.285Z"
   },
   {
    "duration": 0,
    "start_time": "2023-06-17T11:15:56.286Z"
   },
   {
    "duration": 0,
    "start_time": "2023-06-17T11:15:56.288Z"
   },
   {
    "duration": 0,
    "start_time": "2023-06-17T11:15:56.289Z"
   },
   {
    "duration": 0,
    "start_time": "2023-06-17T11:15:56.290Z"
   },
   {
    "duration": 0,
    "start_time": "2023-06-17T11:15:56.291Z"
   },
   {
    "duration": 0,
    "start_time": "2023-06-17T11:15:56.292Z"
   },
   {
    "duration": 0,
    "start_time": "2023-06-17T11:15:56.293Z"
   },
   {
    "duration": 0,
    "start_time": "2023-06-17T11:15:56.294Z"
   },
   {
    "duration": 0,
    "start_time": "2023-06-17T11:15:56.295Z"
   },
   {
    "duration": 0,
    "start_time": "2023-06-17T11:15:56.297Z"
   },
   {
    "duration": 0,
    "start_time": "2023-06-17T11:15:56.298Z"
   },
   {
    "duration": 0,
    "start_time": "2023-06-17T11:15:56.299Z"
   },
   {
    "duration": 0,
    "start_time": "2023-06-17T11:15:56.300Z"
   },
   {
    "duration": 0,
    "start_time": "2023-06-17T11:15:56.301Z"
   },
   {
    "duration": 0,
    "start_time": "2023-06-17T11:15:56.302Z"
   },
   {
    "duration": 0,
    "start_time": "2023-06-17T11:15:56.303Z"
   },
   {
    "duration": 1142,
    "start_time": "2023-06-17T11:58:53.842Z"
   },
   {
    "duration": 1113,
    "start_time": "2023-06-17T11:59:02.291Z"
   },
   {
    "duration": 979,
    "start_time": "2023-06-17T11:59:09.226Z"
   },
   {
    "duration": 23,
    "start_time": "2023-06-17T11:59:10.927Z"
   },
   {
    "duration": 4742,
    "start_time": "2023-06-17T12:05:44.912Z"
   },
   {
    "duration": 15,
    "start_time": "2023-06-17T12:05:53.633Z"
   },
   {
    "duration": 9,
    "start_time": "2023-06-17T12:06:08.719Z"
   },
   {
    "duration": 11,
    "start_time": "2023-06-17T12:12:12.695Z"
   },
   {
    "duration": 128,
    "start_time": "2023-06-17T12:12:24.182Z"
   },
   {
    "duration": 17,
    "start_time": "2023-06-17T12:13:49.640Z"
   },
   {
    "duration": 9,
    "start_time": "2023-06-17T12:29:38.423Z"
   },
   {
    "duration": 10,
    "start_time": "2023-06-17T12:29:44.942Z"
   },
   {
    "duration": 5,
    "start_time": "2023-06-17T13:16:14.682Z"
   },
   {
    "duration": 20,
    "start_time": "2023-06-17T13:16:28.880Z"
   },
   {
    "duration": 10,
    "start_time": "2023-06-17T13:17:03.808Z"
   },
   {
    "duration": 11,
    "start_time": "2023-06-17T13:17:57.014Z"
   },
   {
    "duration": 9,
    "start_time": "2023-06-17T13:17:59.753Z"
   },
   {
    "duration": 102022,
    "start_time": "2023-06-17T13:18:49.014Z"
   },
   {
    "duration": 14,
    "start_time": "2023-06-17T13:21:22.823Z"
   },
   {
    "duration": 81,
    "start_time": "2023-06-17T13:21:43.308Z"
   },
   {
    "duration": 3,
    "start_time": "2023-06-17T13:21:49.934Z"
   },
   {
    "duration": 19,
    "start_time": "2023-06-17T13:22:05.316Z"
   },
   {
    "duration": 4,
    "start_time": "2023-06-17T13:22:20.111Z"
   },
   {
    "duration": 887,
    "start_time": "2023-06-17T13:22:20.720Z"
   },
   {
    "duration": 190,
    "start_time": "2023-06-17T13:22:23.973Z"
   },
   {
    "duration": 17,
    "start_time": "2023-06-17T13:22:24.448Z"
   },
   {
    "duration": 137,
    "start_time": "2023-06-17T13:22:24.809Z"
   },
   {
    "duration": 33,
    "start_time": "2023-06-17T13:22:25.020Z"
   },
   {
    "duration": 32,
    "start_time": "2023-06-17T13:22:25.712Z"
   },
   {
    "duration": 34,
    "start_time": "2023-06-17T13:22:25.924Z"
   },
   {
    "duration": 31,
    "start_time": "2023-06-17T13:22:26.108Z"
   },
   {
    "duration": 51,
    "start_time": "2023-06-17T13:22:26.257Z"
   },
   {
    "duration": 352,
    "start_time": "2023-06-17T13:22:27.095Z"
   },
   {
    "duration": 467,
    "start_time": "2023-06-17T13:22:27.545Z"
   },
   {
    "duration": 1098,
    "start_time": "2023-06-17T13:22:28.014Z"
   },
   {
    "duration": 611,
    "start_time": "2023-06-17T13:22:29.113Z"
   },
   {
    "duration": 7,
    "start_time": "2023-06-17T13:22:29.726Z"
   },
   {
    "duration": 51,
    "start_time": "2023-06-17T13:22:29.734Z"
   },
   {
    "duration": 29,
    "start_time": "2023-06-17T13:22:29.795Z"
   },
   {
    "duration": 106,
    "start_time": "2023-06-17T13:22:29.825Z"
   },
   {
    "duration": 64,
    "start_time": "2023-06-17T13:22:29.933Z"
   },
   {
    "duration": 622,
    "start_time": "2023-06-17T13:22:29.999Z"
   },
   {
    "duration": 24,
    "start_time": "2023-06-17T13:22:30.623Z"
   },
   {
    "duration": 277,
    "start_time": "2023-06-17T13:22:31.145Z"
   },
   {
    "duration": 504,
    "start_time": "2023-06-17T13:22:31.425Z"
   },
   {
    "duration": 470,
    "start_time": "2023-06-17T13:22:32.387Z"
   },
   {
    "duration": 40,
    "start_time": "2023-06-17T13:22:32.859Z"
   },
   {
    "duration": 250,
    "start_time": "2023-06-17T13:22:33.587Z"
   },
   {
    "duration": 428,
    "start_time": "2023-06-17T13:22:33.908Z"
   },
   {
    "duration": 32,
    "start_time": "2023-06-17T13:22:34.643Z"
   },
   {
    "duration": 81,
    "start_time": "2023-06-17T13:22:35.171Z"
   },
   {
    "duration": 245,
    "start_time": "2023-06-17T13:22:35.411Z"
   },
   {
    "duration": 85,
    "start_time": "2023-06-17T13:22:35.989Z"
   },
   {
    "duration": 124,
    "start_time": "2023-06-17T13:22:38.730Z"
   },
   {
    "duration": 5,
    "start_time": "2023-06-17T13:22:39.642Z"
   },
   {
    "duration": 3,
    "start_time": "2023-06-17T13:22:40.260Z"
   },
   {
    "duration": 1203,
    "start_time": "2023-06-17T13:22:40.856Z"
   },
   {
    "duration": 639,
    "start_time": "2023-06-17T13:22:53.502Z"
   },
   {
    "duration": 638,
    "start_time": "2023-06-17T13:23:02.810Z"
   },
   {
    "duration": 4,
    "start_time": "2023-06-17T13:23:13.509Z"
   },
   {
    "duration": 12,
    "start_time": "2023-06-17T13:23:21.734Z"
   },
   {
    "duration": 3,
    "start_time": "2023-06-17T13:24:09.006Z"
   },
   {
    "duration": 23,
    "start_time": "2023-06-17T13:24:09.712Z"
   },
   {
    "duration": 82,
    "start_time": "2023-06-17T13:24:10.519Z"
   },
   {
    "duration": 36,
    "start_time": "2023-06-17T13:24:11.310Z"
   },
   {
    "duration": 38,
    "start_time": "2023-06-17T13:24:11.811Z"
   },
   {
    "duration": 115,
    "start_time": "2023-06-17T13:24:28.044Z"
   },
   {
    "duration": 5,
    "start_time": "2023-06-17T13:25:00.005Z"
   },
   {
    "duration": 9250,
    "start_time": "2023-06-17T13:25:00.807Z"
   },
   {
    "duration": 79,
    "start_time": "2023-06-17T13:25:13.254Z"
   },
   {
    "duration": 10,
    "start_time": "2023-06-17T13:25:17.202Z"
   },
   {
    "duration": 1240,
    "start_time": "2023-06-17T13:25:28.861Z"
   },
   {
    "duration": 842,
    "start_time": "2023-06-17T13:25:30.102Z"
   },
   {
    "duration": 138,
    "start_time": "2023-06-17T13:25:30.945Z"
   },
   {
    "duration": 25,
    "start_time": "2023-06-17T13:25:31.093Z"
   },
   {
    "duration": 137,
    "start_time": "2023-06-17T13:25:31.119Z"
   },
   {
    "duration": 45,
    "start_time": "2023-06-17T13:25:31.258Z"
   },
   {
    "duration": 30,
    "start_time": "2023-06-17T13:25:31.304Z"
   },
   {
    "duration": 71,
    "start_time": "2023-06-17T13:25:31.336Z"
   },
   {
    "duration": 35,
    "start_time": "2023-06-17T13:25:31.408Z"
   },
   {
    "duration": 83,
    "start_time": "2023-06-17T13:25:31.445Z"
   },
   {
    "duration": 321,
    "start_time": "2023-06-17T13:25:31.529Z"
   },
   {
    "duration": 442,
    "start_time": "2023-06-17T13:25:31.851Z"
   },
   {
    "duration": 1053,
    "start_time": "2023-06-17T13:25:32.296Z"
   },
   {
    "duration": 632,
    "start_time": "2023-06-17T13:25:33.351Z"
   },
   {
    "duration": 17,
    "start_time": "2023-06-17T13:25:33.987Z"
   },
   {
    "duration": 33,
    "start_time": "2023-06-17T13:25:34.010Z"
   },
   {
    "duration": 39,
    "start_time": "2023-06-17T13:25:34.044Z"
   },
   {
    "duration": 108,
    "start_time": "2023-06-17T13:25:34.086Z"
   },
   {
    "duration": 63,
    "start_time": "2023-06-17T13:25:34.198Z"
   },
   {
    "duration": 445,
    "start_time": "2023-06-17T13:25:34.262Z"
   },
   {
    "duration": 24,
    "start_time": "2023-06-17T13:25:34.709Z"
   },
   {
    "duration": 275,
    "start_time": "2023-06-17T13:25:34.735Z"
   },
   {
    "duration": 462,
    "start_time": "2023-06-17T13:25:35.011Z"
   },
   {
    "duration": 410,
    "start_time": "2023-06-17T13:25:35.475Z"
   },
   {
    "duration": 24,
    "start_time": "2023-06-17T13:25:35.889Z"
   },
   {
    "duration": 240,
    "start_time": "2023-06-17T13:25:35.915Z"
   },
   {
    "duration": 347,
    "start_time": "2023-06-17T13:25:36.157Z"
   },
   {
    "duration": 27,
    "start_time": "2023-06-17T13:25:36.509Z"
   },
   {
    "duration": 89,
    "start_time": "2023-06-17T13:25:36.537Z"
   },
   {
    "duration": 232,
    "start_time": "2023-06-17T13:25:36.627Z"
   },
   {
    "duration": 89,
    "start_time": "2023-06-17T13:25:36.861Z"
   },
   {
    "duration": 118,
    "start_time": "2023-06-17T13:25:36.951Z"
   },
   {
    "duration": 5,
    "start_time": "2023-06-17T13:25:37.078Z"
   },
   {
    "duration": 13,
    "start_time": "2023-06-17T13:25:37.084Z"
   },
   {
    "duration": 1089,
    "start_time": "2023-06-17T13:25:37.098Z"
   },
   {
    "duration": 568,
    "start_time": "2023-06-17T13:25:38.192Z"
   },
   {
    "duration": 604,
    "start_time": "2023-06-17T13:25:38.762Z"
   },
   {
    "duration": 6,
    "start_time": "2023-06-17T13:25:39.367Z"
   },
   {
    "duration": 24,
    "start_time": "2023-06-17T13:25:39.375Z"
   },
   {
    "duration": 2,
    "start_time": "2023-06-17T13:25:39.401Z"
   },
   {
    "duration": 27,
    "start_time": "2023-06-17T13:25:39.404Z"
   },
   {
    "duration": 76,
    "start_time": "2023-06-17T13:25:39.432Z"
   },
   {
    "duration": 33,
    "start_time": "2023-06-17T13:25:39.510Z"
   },
   {
    "duration": 57,
    "start_time": "2023-06-17T13:25:39.545Z"
   },
   {
    "duration": 236,
    "start_time": "2023-06-17T13:25:39.604Z"
   },
   {
    "duration": 90,
    "start_time": "2023-06-17T13:25:39.842Z"
   },
   {
    "duration": 10,
    "start_time": "2023-06-17T13:25:39.933Z"
   },
   {
    "duration": 0,
    "start_time": "2023-06-17T13:25:39.945Z"
   },
   {
    "duration": 0,
    "start_time": "2023-06-17T13:25:39.946Z"
   },
   {
    "duration": 0,
    "start_time": "2023-06-17T13:25:39.947Z"
   },
   {
    "duration": 0,
    "start_time": "2023-06-17T13:25:39.948Z"
   },
   {
    "duration": 1,
    "start_time": "2023-06-17T13:25:39.949Z"
   },
   {
    "duration": 0,
    "start_time": "2023-06-17T13:25:39.951Z"
   },
   {
    "duration": 0,
    "start_time": "2023-06-17T13:25:39.952Z"
   },
   {
    "duration": 0,
    "start_time": "2023-06-17T13:25:39.953Z"
   },
   {
    "duration": 0,
    "start_time": "2023-06-17T13:25:39.954Z"
   },
   {
    "duration": 0,
    "start_time": "2023-06-17T13:25:39.955Z"
   },
   {
    "duration": 0,
    "start_time": "2023-06-17T13:25:39.956Z"
   },
   {
    "duration": 0,
    "start_time": "2023-06-17T13:25:39.957Z"
   },
   {
    "duration": 0,
    "start_time": "2023-06-17T13:25:39.959Z"
   },
   {
    "duration": 0,
    "start_time": "2023-06-17T13:25:39.960Z"
   },
   {
    "duration": 0,
    "start_time": "2023-06-17T13:25:39.961Z"
   },
   {
    "duration": 0,
    "start_time": "2023-06-17T13:25:39.962Z"
   },
   {
    "duration": 0,
    "start_time": "2023-06-17T13:25:39.963Z"
   },
   {
    "duration": 108926,
    "start_time": "2023-06-17T13:25:50.649Z"
   },
   {
    "duration": 602,
    "start_time": "2023-06-17T13:27:39.580Z"
   },
   {
    "duration": 11,
    "start_time": "2023-06-17T13:27:40.183Z"
   },
   {
    "duration": 4,
    "start_time": "2023-06-17T13:28:58.913Z"
   },
   {
    "duration": 33671,
    "start_time": "2023-06-17T13:28:59.432Z"
   },
   {
    "duration": 26,
    "start_time": "2023-06-17T13:29:33.105Z"
   },
   {
    "duration": 4,
    "start_time": "2023-06-17T13:29:33.133Z"
   },
   {
    "duration": 52,
    "start_time": "2023-06-17T13:30:26.612Z"
   },
   {
    "duration": 23,
    "start_time": "2023-06-17T13:30:27.458Z"
   },
   {
    "duration": 5,
    "start_time": "2023-06-17T13:30:34.507Z"
   },
   {
    "duration": 3938,
    "start_time": "2023-06-17T13:30:37.680Z"
   },
   {
    "duration": 252,
    "start_time": "2023-06-17T13:30:57.354Z"
   },
   {
    "duration": 4,
    "start_time": "2023-06-17T13:30:57.946Z"
   },
   {
    "duration": 12,
    "start_time": "2023-06-17T13:31:14.054Z"
   },
   {
    "duration": 1188,
    "start_time": "2023-06-17T13:59:47.603Z"
   },
   {
    "duration": 831,
    "start_time": "2023-06-17T13:59:48.793Z"
   },
   {
    "duration": 123,
    "start_time": "2023-06-17T13:59:49.626Z"
   },
   {
    "duration": 27,
    "start_time": "2023-06-17T13:59:49.752Z"
   },
   {
    "duration": 138,
    "start_time": "2023-06-17T13:59:49.784Z"
   },
   {
    "duration": 30,
    "start_time": "2023-06-17T13:59:49.923Z"
   },
   {
    "duration": 53,
    "start_time": "2023-06-17T13:59:49.955Z"
   },
   {
    "duration": 38,
    "start_time": "2023-06-17T13:59:50.010Z"
   },
   {
    "duration": 59,
    "start_time": "2023-06-17T13:59:50.050Z"
   },
   {
    "duration": 41,
    "start_time": "2023-06-17T13:59:50.110Z"
   },
   {
    "duration": 315,
    "start_time": "2023-06-17T13:59:50.168Z"
   },
   {
    "duration": 455,
    "start_time": "2023-06-17T13:59:50.485Z"
   },
   {
    "duration": 1043,
    "start_time": "2023-06-17T13:59:50.941Z"
   },
   {
    "duration": 662,
    "start_time": "2023-06-17T13:59:51.987Z"
   },
   {
    "duration": 7,
    "start_time": "2023-06-17T13:59:52.651Z"
   },
   {
    "duration": 42,
    "start_time": "2023-06-17T13:59:52.668Z"
   },
   {
    "duration": 36,
    "start_time": "2023-06-17T13:59:52.711Z"
   },
   {
    "duration": 92,
    "start_time": "2023-06-17T13:59:52.749Z"
   },
   {
    "duration": 83,
    "start_time": "2023-06-17T13:59:52.843Z"
   },
   {
    "duration": 475,
    "start_time": "2023-06-17T13:59:52.927Z"
   },
   {
    "duration": 24,
    "start_time": "2023-06-17T13:59:53.403Z"
   },
   {
    "duration": 268,
    "start_time": "2023-06-17T13:59:53.429Z"
   },
   {
    "duration": 456,
    "start_time": "2023-06-17T13:59:53.699Z"
   },
   {
    "duration": 482,
    "start_time": "2023-06-17T13:59:54.157Z"
   },
   {
    "duration": 49,
    "start_time": "2023-06-17T13:59:54.640Z"
   },
   {
    "duration": 224,
    "start_time": "2023-06-17T13:59:54.695Z"
   },
   {
    "duration": 330,
    "start_time": "2023-06-17T13:59:54.920Z"
   },
   {
    "duration": 39,
    "start_time": "2023-06-17T13:59:55.251Z"
   },
   {
    "duration": 79,
    "start_time": "2023-06-17T13:59:55.292Z"
   },
   {
    "duration": 230,
    "start_time": "2023-06-17T13:59:55.375Z"
   },
   {
    "duration": 79,
    "start_time": "2023-06-17T13:59:55.606Z"
   },
   {
    "duration": 120,
    "start_time": "2023-06-17T13:59:55.687Z"
   },
   {
    "duration": 5,
    "start_time": "2023-06-17T13:59:55.809Z"
   },
   {
    "duration": 5,
    "start_time": "2023-06-17T13:59:55.815Z"
   },
   {
    "duration": 1123,
    "start_time": "2023-06-17T13:59:55.822Z"
   },
   {
    "duration": 611,
    "start_time": "2023-06-17T13:59:56.947Z"
   },
   {
    "duration": 579,
    "start_time": "2023-06-17T13:59:57.560Z"
   },
   {
    "duration": 4,
    "start_time": "2023-06-17T13:59:58.141Z"
   },
   {
    "duration": 11,
    "start_time": "2023-06-17T13:59:58.146Z"
   },
   {
    "duration": 18,
    "start_time": "2023-06-17T13:59:58.158Z"
   },
   {
    "duration": 23,
    "start_time": "2023-06-17T13:59:58.181Z"
   },
   {
    "duration": 76,
    "start_time": "2023-06-17T13:59:58.206Z"
   },
   {
    "duration": 35,
    "start_time": "2023-06-17T13:59:58.284Z"
   },
   {
    "duration": 56,
    "start_time": "2023-06-17T13:59:58.321Z"
   },
   {
    "duration": 203103,
    "start_time": "2023-06-17T13:59:58.378Z"
   },
   {
    "duration": 594,
    "start_time": "2023-06-17T14:03:21.483Z"
   },
   {
    "duration": 4,
    "start_time": "2023-06-17T14:03:22.079Z"
   },
   {
    "duration": 14,
    "start_time": "2023-06-17T14:03:22.085Z"
   },
   {
    "duration": 31682,
    "start_time": "2023-06-17T14:03:22.100Z"
   },
   {
    "duration": 26,
    "start_time": "2023-06-17T14:03:53.784Z"
   },
   {
    "duration": 5,
    "start_time": "2023-06-17T14:03:53.812Z"
   },
   {
    "duration": 77,
    "start_time": "2023-06-17T14:03:53.819Z"
   },
   {
    "duration": 75,
    "start_time": "2023-06-17T14:03:53.898Z"
   },
   {
    "duration": 6,
    "start_time": "2023-06-17T14:03:53.975Z"
   },
   {
    "duration": 3716,
    "start_time": "2023-06-17T14:03:53.984Z"
   },
   {
    "duration": 228,
    "start_time": "2023-06-17T14:03:57.702Z"
   },
   {
    "duration": 5,
    "start_time": "2023-06-17T14:03:57.932Z"
   },
   {
    "duration": 15,
    "start_time": "2023-06-17T14:03:57.938Z"
   },
   {
    "duration": 2694,
    "start_time": "2023-06-17T14:03:57.955Z"
   },
   {
    "duration": 161,
    "start_time": "2023-06-17T14:04:00.651Z"
   },
   {
    "duration": 2,
    "start_time": "2023-06-17T14:04:00.814Z"
   },
   {
    "duration": 71,
    "start_time": "2023-06-17T14:04:00.818Z"
   },
   {
    "duration": 47,
    "start_time": "2023-06-17T14:04:00.891Z"
   },
   {
    "duration": 43,
    "start_time": "2023-06-17T14:04:00.939Z"
   },
   {
    "duration": 3302,
    "start_time": "2023-06-17T14:04:45.885Z"
   },
   {
    "duration": 25,
    "start_time": "2023-06-17T14:04:54.632Z"
   },
   {
    "duration": 7,
    "start_time": "2023-06-17T14:05:13.626Z"
   },
   {
    "duration": 10,
    "start_time": "2023-06-17T14:05:14.468Z"
   },
   {
    "duration": 5,
    "start_time": "2023-06-17T14:05:18.226Z"
   },
   {
    "duration": 68,
    "start_time": "2023-06-17T14:07:58.885Z"
   },
   {
    "duration": 9,
    "start_time": "2023-06-17T14:08:02.903Z"
   },
   {
    "duration": 83816,
    "start_time": "2023-06-17T14:15:09.074Z"
   },
   {
    "duration": 588,
    "start_time": "2023-06-17T14:16:32.892Z"
   },
   {
    "duration": 5,
    "start_time": "2023-06-17T14:16:33.482Z"
   },
   {
    "duration": 65,
    "start_time": "2023-06-17T14:24:10.884Z"
   },
   {
    "duration": 3047,
    "start_time": "2023-06-17T14:26:57.396Z"
   },
   {
    "duration": 1195,
    "start_time": "2023-06-17T14:27:09.948Z"
   },
   {
    "duration": 797,
    "start_time": "2023-06-17T14:27:11.144Z"
   },
   {
    "duration": 135,
    "start_time": "2023-06-17T14:27:11.943Z"
   },
   {
    "duration": 18,
    "start_time": "2023-06-17T14:27:12.080Z"
   },
   {
    "duration": 118,
    "start_time": "2023-06-17T14:27:12.099Z"
   },
   {
    "duration": 30,
    "start_time": "2023-06-17T14:27:12.218Z"
   },
   {
    "duration": 54,
    "start_time": "2023-06-17T14:27:12.249Z"
   },
   {
    "duration": 46,
    "start_time": "2023-06-17T14:27:12.304Z"
   },
   {
    "duration": 50,
    "start_time": "2023-06-17T14:27:12.352Z"
   },
   {
    "duration": 41,
    "start_time": "2023-06-17T14:27:12.406Z"
   },
   {
    "duration": 278,
    "start_time": "2023-06-17T14:27:12.449Z"
   },
   {
    "duration": 456,
    "start_time": "2023-06-17T14:27:12.729Z"
   },
   {
    "duration": 1072,
    "start_time": "2023-06-17T14:27:13.187Z"
   },
   {
    "duration": 626,
    "start_time": "2023-06-17T14:27:14.260Z"
   },
   {
    "duration": 7,
    "start_time": "2023-06-17T14:27:14.888Z"
   },
   {
    "duration": 31,
    "start_time": "2023-06-17T14:27:14.896Z"
   },
   {
    "duration": 50,
    "start_time": "2023-06-17T14:27:14.929Z"
   },
   {
    "duration": 90,
    "start_time": "2023-06-17T14:27:14.985Z"
   },
   {
    "duration": 58,
    "start_time": "2023-06-17T14:27:15.080Z"
   },
   {
    "duration": 456,
    "start_time": "2023-06-17T14:27:15.140Z"
   },
   {
    "duration": 26,
    "start_time": "2023-06-17T14:27:15.598Z"
   },
   {
    "duration": 281,
    "start_time": "2023-06-17T14:27:15.626Z"
   },
   {
    "duration": 434,
    "start_time": "2023-06-17T14:27:15.909Z"
   },
   {
    "duration": 392,
    "start_time": "2023-06-17T14:27:16.345Z"
   },
   {
    "duration": 35,
    "start_time": "2023-06-17T14:27:16.739Z"
   },
   {
    "duration": 218,
    "start_time": "2023-06-17T14:27:16.782Z"
   },
   {
    "duration": 341,
    "start_time": "2023-06-17T14:27:17.001Z"
   },
   {
    "duration": 37,
    "start_time": "2023-06-17T14:27:17.346Z"
   },
   {
    "duration": 70,
    "start_time": "2023-06-17T14:27:17.385Z"
   },
   {
    "duration": 239,
    "start_time": "2023-06-17T14:27:17.457Z"
   },
   {
    "duration": 90,
    "start_time": "2023-06-17T14:27:17.697Z"
   },
   {
    "duration": 122,
    "start_time": "2023-06-17T14:27:17.789Z"
   },
   {
    "duration": 4,
    "start_time": "2023-06-17T14:27:17.913Z"
   },
   {
    "duration": 3,
    "start_time": "2023-06-17T14:27:17.919Z"
   },
   {
    "duration": 1137,
    "start_time": "2023-06-17T14:27:17.923Z"
   },
   {
    "duration": 554,
    "start_time": "2023-06-17T14:27:19.062Z"
   },
   {
    "duration": 579,
    "start_time": "2023-06-17T14:27:19.617Z"
   },
   {
    "duration": 4,
    "start_time": "2023-06-17T14:27:20.198Z"
   },
   {
    "duration": 14,
    "start_time": "2023-06-17T14:27:20.203Z"
   },
   {
    "duration": 8,
    "start_time": "2023-06-17T14:27:20.219Z"
   },
   {
    "duration": 34,
    "start_time": "2023-06-17T14:27:20.228Z"
   },
   {
    "duration": 72,
    "start_time": "2023-06-17T14:27:20.263Z"
   },
   {
    "duration": 57,
    "start_time": "2023-06-17T14:27:20.337Z"
   },
   {
    "duration": 38,
    "start_time": "2023-06-17T14:27:20.396Z"
   },
   {
    "duration": 190,
    "start_time": "2023-06-17T14:27:20.436Z"
   },
   {
    "duration": 75,
    "start_time": "2023-06-17T14:27:20.627Z"
   },
   {
    "duration": 10,
    "start_time": "2023-06-17T14:27:20.704Z"
   },
   {
    "duration": 0,
    "start_time": "2023-06-17T14:27:20.715Z"
   },
   {
    "duration": 0,
    "start_time": "2023-06-17T14:27:20.717Z"
   },
   {
    "duration": 0,
    "start_time": "2023-06-17T14:27:20.718Z"
   },
   {
    "duration": 0,
    "start_time": "2023-06-17T14:27:20.718Z"
   },
   {
    "duration": 0,
    "start_time": "2023-06-17T14:27:20.719Z"
   },
   {
    "duration": 0,
    "start_time": "2023-06-17T14:27:20.720Z"
   },
   {
    "duration": 0,
    "start_time": "2023-06-17T14:27:20.721Z"
   },
   {
    "duration": 0,
    "start_time": "2023-06-17T14:27:20.722Z"
   },
   {
    "duration": 0,
    "start_time": "2023-06-17T14:27:20.723Z"
   },
   {
    "duration": 0,
    "start_time": "2023-06-17T14:27:20.724Z"
   },
   {
    "duration": 0,
    "start_time": "2023-06-17T14:27:20.725Z"
   },
   {
    "duration": 0,
    "start_time": "2023-06-17T14:27:20.725Z"
   },
   {
    "duration": 0,
    "start_time": "2023-06-17T14:27:20.726Z"
   },
   {
    "duration": 0,
    "start_time": "2023-06-17T14:27:20.727Z"
   },
   {
    "duration": 0,
    "start_time": "2023-06-17T14:27:20.728Z"
   },
   {
    "duration": 0,
    "start_time": "2023-06-17T14:27:20.729Z"
   },
   {
    "duration": 0,
    "start_time": "2023-06-17T14:27:20.730Z"
   },
   {
    "duration": 1258,
    "start_time": "2023-06-17T14:28:24.751Z"
   },
   {
    "duration": 829,
    "start_time": "2023-06-17T14:28:26.011Z"
   },
   {
    "duration": 133,
    "start_time": "2023-06-17T14:28:26.841Z"
   },
   {
    "duration": 16,
    "start_time": "2023-06-17T14:28:26.982Z"
   },
   {
    "duration": 133,
    "start_time": "2023-06-17T14:28:27.000Z"
   },
   {
    "duration": 42,
    "start_time": "2023-06-17T14:28:27.135Z"
   },
   {
    "duration": 33,
    "start_time": "2023-06-17T14:28:27.181Z"
   },
   {
    "duration": 34,
    "start_time": "2023-06-17T14:28:27.216Z"
   },
   {
    "duration": 46,
    "start_time": "2023-06-17T14:28:27.252Z"
   },
   {
    "duration": 32,
    "start_time": "2023-06-17T14:28:27.300Z"
   },
   {
    "duration": 277,
    "start_time": "2023-06-17T14:28:27.333Z"
   },
   {
    "duration": 443,
    "start_time": "2023-06-17T14:28:27.612Z"
   },
   {
    "duration": 1026,
    "start_time": "2023-06-17T14:28:28.057Z"
   },
   {
    "duration": 662,
    "start_time": "2023-06-17T14:28:29.085Z"
   },
   {
    "duration": 7,
    "start_time": "2023-06-17T14:28:29.749Z"
   },
   {
    "duration": 52,
    "start_time": "2023-06-17T14:28:29.757Z"
   },
   {
    "duration": 27,
    "start_time": "2023-06-17T14:28:29.810Z"
   },
   {
    "duration": 91,
    "start_time": "2023-06-17T14:28:29.838Z"
   },
   {
    "duration": 64,
    "start_time": "2023-06-17T14:28:29.930Z"
   },
   {
    "duration": 467,
    "start_time": "2023-06-17T14:28:29.995Z"
   },
   {
    "duration": 37,
    "start_time": "2023-06-17T14:28:30.468Z"
   },
   {
    "duration": 259,
    "start_time": "2023-06-17T14:28:30.507Z"
   },
   {
    "duration": 447,
    "start_time": "2023-06-17T14:28:30.768Z"
   },
   {
    "duration": 421,
    "start_time": "2023-06-17T14:28:31.217Z"
   },
   {
    "duration": 34,
    "start_time": "2023-06-17T14:28:31.640Z"
   },
   {
    "duration": 232,
    "start_time": "2023-06-17T14:28:31.676Z"
   },
   {
    "duration": 337,
    "start_time": "2023-06-17T14:28:31.909Z"
   },
   {
    "duration": 34,
    "start_time": "2023-06-17T14:28:32.248Z"
   },
   {
    "duration": 69,
    "start_time": "2023-06-17T14:28:32.284Z"
   },
   {
    "duration": 256,
    "start_time": "2023-06-17T14:28:32.354Z"
   },
   {
    "duration": 74,
    "start_time": "2023-06-17T14:28:32.612Z"
   },
   {
    "duration": 129,
    "start_time": "2023-06-17T14:28:32.688Z"
   },
   {
    "duration": 6,
    "start_time": "2023-06-17T14:28:32.819Z"
   },
   {
    "duration": 4,
    "start_time": "2023-06-17T14:28:32.826Z"
   },
   {
    "duration": 1087,
    "start_time": "2023-06-17T14:28:32.832Z"
   },
   {
    "duration": 608,
    "start_time": "2023-06-17T14:28:33.920Z"
   },
   {
    "duration": 577,
    "start_time": "2023-06-17T14:28:34.529Z"
   },
   {
    "duration": 3,
    "start_time": "2023-06-17T14:28:35.108Z"
   },
   {
    "duration": 11,
    "start_time": "2023-06-17T14:28:35.112Z"
   },
   {
    "duration": 5,
    "start_time": "2023-06-17T14:28:35.125Z"
   },
   {
    "duration": 18,
    "start_time": "2023-06-17T14:28:35.134Z"
   },
   {
    "duration": 67,
    "start_time": "2023-06-17T14:28:35.171Z"
   },
   {
    "duration": 51,
    "start_time": "2023-06-17T14:28:35.239Z"
   },
   {
    "duration": 35,
    "start_time": "2023-06-17T14:28:35.291Z"
   },
   {
    "duration": 24752,
    "start_time": "2023-06-17T14:28:35.328Z"
   },
   {
    "duration": 598,
    "start_time": "2023-06-17T14:29:00.082Z"
   },
   {
    "duration": 4,
    "start_time": "2023-06-17T14:29:00.684Z"
   },
   {
    "duration": 31,
    "start_time": "2023-06-17T14:29:00.689Z"
   },
   {
    "duration": 31088,
    "start_time": "2023-06-17T14:29:00.721Z"
   },
   {
    "duration": 28,
    "start_time": "2023-06-17T14:29:31.811Z"
   },
   {
    "duration": 6,
    "start_time": "2023-06-17T14:29:31.840Z"
   },
   {
    "duration": 69,
    "start_time": "2023-06-17T14:29:31.848Z"
   },
   {
    "duration": 59,
    "start_time": "2023-06-17T14:29:31.919Z"
   },
   {
    "duration": 90,
    "start_time": "2023-06-17T14:29:31.980Z"
   },
   {
    "duration": 3687,
    "start_time": "2023-06-17T14:29:32.071Z"
   },
   {
    "duration": 243,
    "start_time": "2023-06-17T14:29:35.760Z"
   },
   {
    "duration": 4,
    "start_time": "2023-06-17T14:29:36.005Z"
   },
   {
    "duration": 10,
    "start_time": "2023-06-17T14:29:36.011Z"
   },
   {
    "duration": 3126,
    "start_time": "2023-06-17T14:29:36.022Z"
   },
   {
    "duration": 34,
    "start_time": "2023-06-17T14:29:39.150Z"
   },
   {
    "duration": 2,
    "start_time": "2023-06-17T14:29:39.186Z"
   },
   {
    "duration": 10,
    "start_time": "2023-06-17T14:29:39.189Z"
   },
   {
    "duration": 15,
    "start_time": "2023-06-17T14:29:39.201Z"
   },
   {
    "duration": 9,
    "start_time": "2023-06-17T14:29:39.218Z"
   },
   {
    "duration": 10,
    "start_time": "2023-06-17T14:32:51.706Z"
   },
   {
    "duration": 10,
    "start_time": "2023-06-17T14:35:21.320Z"
   },
   {
    "duration": 3,
    "start_time": "2023-06-17T14:36:41.211Z"
   },
   {
    "duration": 13,
    "start_time": "2023-06-17T14:36:45.468Z"
   },
   {
    "duration": 4,
    "start_time": "2023-06-17T14:36:54.327Z"
   },
   {
    "duration": 9,
    "start_time": "2023-06-17T14:36:54.939Z"
   },
   {
    "duration": 3159,
    "start_time": "2023-06-17T14:37:16.121Z"
   },
   {
    "duration": 28,
    "start_time": "2023-06-17T14:37:19.282Z"
   },
   {
    "duration": 54,
    "start_time": "2023-06-17T14:42:27.206Z"
   },
   {
    "duration": 74,
    "start_time": "2023-06-17T15:00:37.806Z"
   },
   {
    "duration": 3,
    "start_time": "2023-06-17T16:22:49.540Z"
   },
   {
    "duration": 819,
    "start_time": "2023-06-17T16:22:50.266Z"
   },
   {
    "duration": 136,
    "start_time": "2023-06-17T16:22:51.086Z"
   },
   {
    "duration": 21,
    "start_time": "2023-06-17T16:22:52.065Z"
   },
   {
    "duration": 120,
    "start_time": "2023-06-17T16:22:52.231Z"
   },
   {
    "duration": 31,
    "start_time": "2023-06-17T16:22:52.600Z"
   },
   {
    "duration": 30,
    "start_time": "2023-06-17T16:22:53.408Z"
   },
   {
    "duration": 34,
    "start_time": "2023-06-17T16:22:53.594Z"
   },
   {
    "duration": 46,
    "start_time": "2023-06-17T16:22:53.758Z"
   },
   {
    "duration": 52,
    "start_time": "2023-06-17T16:22:53.963Z"
   },
   {
    "duration": 268,
    "start_time": "2023-06-17T16:22:55.091Z"
   },
   {
    "duration": 439,
    "start_time": "2023-06-17T16:22:55.496Z"
   },
   {
    "duration": 968,
    "start_time": "2023-06-17T16:22:55.936Z"
   },
   {
    "duration": 690,
    "start_time": "2023-06-17T16:22:56.905Z"
   },
   {
    "duration": 9,
    "start_time": "2023-06-17T16:22:57.596Z"
   },
   {
    "duration": 27,
    "start_time": "2023-06-17T16:22:57.607Z"
   },
   {
    "duration": 25,
    "start_time": "2023-06-17T16:22:57.635Z"
   },
   {
    "duration": 98,
    "start_time": "2023-06-17T16:22:57.667Z"
   },
   {
    "duration": 59,
    "start_time": "2023-06-17T16:22:57.767Z"
   },
   {
    "duration": 449,
    "start_time": "2023-06-17T16:22:57.892Z"
   },
   {
    "duration": 32,
    "start_time": "2023-06-17T16:22:59.063Z"
   },
   {
    "duration": 258,
    "start_time": "2023-06-17T16:22:59.720Z"
   },
   {
    "duration": 446,
    "start_time": "2023-06-17T16:22:59.981Z"
   },
   {
    "duration": 440,
    "start_time": "2023-06-17T16:23:00.697Z"
   },
   {
    "duration": 34,
    "start_time": "2023-06-17T16:23:01.139Z"
   },
   {
    "duration": 222,
    "start_time": "2023-06-17T16:23:03.096Z"
   },
   {
    "duration": 335,
    "start_time": "2023-06-17T16:23:03.444Z"
   },
   {
    "duration": 23,
    "start_time": "2023-06-17T16:23:04.013Z"
   },
   {
    "duration": 77,
    "start_time": "2023-06-17T16:23:04.831Z"
   },
   {
    "duration": 234,
    "start_time": "2023-06-17T16:23:05.082Z"
   },
   {
    "duration": 89,
    "start_time": "2023-06-17T16:23:06.032Z"
   },
   {
    "duration": 127,
    "start_time": "2023-06-17T16:23:15.832Z"
   },
   {
    "duration": 5,
    "start_time": "2023-06-17T16:23:18.060Z"
   },
   {
    "duration": 3,
    "start_time": "2023-06-17T16:23:18.691Z"
   },
   {
    "duration": 2,
    "start_time": "2023-06-17T16:23:19.163Z"
   },
   {
    "duration": 23,
    "start_time": "2023-06-17T16:23:19.500Z"
   },
   {
    "duration": 13,
    "start_time": "2023-06-17T16:23:29.119Z"
   },
   {
    "duration": 912,
    "start_time": "2023-06-17T16:23:44.761Z"
   },
   {
    "duration": 892,
    "start_time": "2023-06-17T16:24:45.188Z"
   },
   {
    "duration": 1117,
    "start_time": "2023-06-17T16:24:46.081Z"
   },
   {
    "duration": 606,
    "start_time": "2023-06-17T16:24:47.199Z"
   },
   {
    "duration": 586,
    "start_time": "2023-06-17T16:24:48.951Z"
   },
   {
    "duration": 4,
    "start_time": "2023-06-17T16:24:53.058Z"
   },
   {
    "duration": 10,
    "start_time": "2023-06-17T16:24:55.096Z"
   },
   {
    "duration": 887,
    "start_time": "2023-06-17T16:26:28.842Z"
   },
   {
    "duration": 1195,
    "start_time": "2023-06-17T16:26:31.295Z"
   },
   {
    "duration": 656,
    "start_time": "2023-06-17T16:26:32.492Z"
   },
   {
    "duration": 625,
    "start_time": "2023-06-17T16:26:38.261Z"
   },
   {
    "duration": 15,
    "start_time": "2023-06-17T16:26:45.044Z"
   },
   {
    "duration": 3,
    "start_time": "2023-06-17T16:29:21.736Z"
   },
   {
    "duration": 17,
    "start_time": "2023-06-17T16:29:22.499Z"
   },
   {
    "duration": 61,
    "start_time": "2023-06-17T16:29:23.104Z"
   },
   {
    "duration": 52,
    "start_time": "2023-06-17T16:29:23.651Z"
   },
   {
    "duration": 51,
    "start_time": "2023-06-17T16:29:24.293Z"
   },
   {
    "duration": 156216,
    "start_time": "2023-06-17T16:29:27.165Z"
   },
   {
    "duration": 596,
    "start_time": "2023-06-17T16:32:03.395Z"
   },
   {
    "duration": 7,
    "start_time": "2023-06-17T16:32:03.993Z"
   },
   {
    "duration": 999,
    "start_time": "2023-06-17T17:03:05.370Z"
   },
   {
    "duration": 115,
    "start_time": "2023-06-17T17:05:55.907Z"
   },
   {
    "duration": 1041,
    "start_time": "2023-06-17T17:06:00.320Z"
   },
   {
    "duration": 17,
    "start_time": "2023-06-17T17:06:01.363Z"
   },
   {
    "duration": 20,
    "start_time": "2023-06-17T17:06:01.412Z"
   },
   {
    "duration": 962,
    "start_time": "2023-06-17T17:06:24.519Z"
   },
   {
    "duration": 10,
    "start_time": "2023-06-17T17:06:25.483Z"
   },
   {
    "duration": 11,
    "start_time": "2023-06-17T17:06:28.125Z"
   },
   {
    "duration": 1118,
    "start_time": "2023-06-17T17:07:11.602Z"
   },
   {
    "duration": 274,
    "start_time": "2023-06-17T17:07:12.721Z"
   },
   {
    "duration": 249,
    "start_time": "2023-06-17T17:07:21.229Z"
   },
   {
    "duration": 123,
    "start_time": "2023-06-17T17:07:22.068Z"
   },
   {
    "duration": 129,
    "start_time": "2023-06-17T17:07:23.495Z"
   },
   {
    "duration": 4,
    "start_time": "2023-06-17T17:07:24.567Z"
   },
   {
    "duration": 9,
    "start_time": "2023-06-17T17:07:25.362Z"
   },
   {
    "duration": 11,
    "start_time": "2023-06-17T17:07:29.270Z"
   },
   {
    "duration": 12,
    "start_time": "2023-06-17T17:07:30.416Z"
   },
   {
    "duration": 11,
    "start_time": "2023-06-17T17:07:39.610Z"
   },
   {
    "duration": 2,
    "start_time": "2023-06-17T17:08:43.858Z"
   },
   {
    "duration": 15,
    "start_time": "2023-06-17T17:08:44.796Z"
   },
   {
    "duration": 64,
    "start_time": "2023-06-17T17:08:55.796Z"
   },
   {
    "duration": 17,
    "start_time": "2023-06-17T17:08:56.023Z"
   },
   {
    "duration": 64,
    "start_time": "2023-06-17T17:09:03.394Z"
   },
   {
    "duration": 19,
    "start_time": "2023-06-17T17:09:04.026Z"
   },
   {
    "duration": 1089,
    "start_time": "2023-06-17T17:09:10.094Z"
   },
   {
    "duration": 255,
    "start_time": "2023-06-17T17:09:12.173Z"
   },
   {
    "duration": 131,
    "start_time": "2023-06-17T17:09:12.666Z"
   },
   {
    "duration": 22,
    "start_time": "2023-06-17T17:10:13.695Z"
   },
   {
    "duration": 3,
    "start_time": "2023-06-17T17:11:01.888Z"
   },
   {
    "duration": 1065,
    "start_time": "2023-06-17T17:11:02.651Z"
   },
   {
    "duration": 18,
    "start_time": "2023-06-17T17:11:11.908Z"
   },
   {
    "duration": 263,
    "start_time": "2023-06-17T17:11:30.097Z"
   },
   {
    "duration": 126,
    "start_time": "2023-06-17T17:11:34.723Z"
   },
   {
    "duration": 131,
    "start_time": "2023-06-17T17:11:38.464Z"
   },
   {
    "duration": 4,
    "start_time": "2023-06-17T17:11:41.715Z"
   },
   {
    "duration": 12,
    "start_time": "2023-06-17T17:11:44.035Z"
   },
   {
    "duration": 9,
    "start_time": "2023-06-17T17:12:00.597Z"
   },
   {
    "duration": 240,
    "start_time": "2023-06-17T17:12:15.610Z"
   },
   {
    "duration": 137,
    "start_time": "2023-06-17T17:12:19.121Z"
   },
   {
    "duration": 146,
    "start_time": "2023-06-17T17:12:22.107Z"
   },
   {
    "duration": 9,
    "start_time": "2023-06-17T17:12:24.922Z"
   },
   {
    "duration": 3,
    "start_time": "2023-06-17T17:12:27.507Z"
   },
   {
    "duration": 2,
    "start_time": "2023-06-17T17:12:32.002Z"
   },
   {
    "duration": 977,
    "start_time": "2023-06-17T17:12:32.506Z"
   },
   {
    "duration": 244,
    "start_time": "2023-06-17T17:12:34.635Z"
   },
   {
    "duration": 122,
    "start_time": "2023-06-17T17:12:35.166Z"
   },
   {
    "duration": 973,
    "start_time": "2023-06-17T17:12:42.050Z"
   },
   {
    "duration": 19,
    "start_time": "2023-06-17T17:12:43.024Z"
   },
   {
    "duration": 16,
    "start_time": "2023-06-17T17:12:43.175Z"
   },
   {
    "duration": 752,
    "start_time": "2023-06-17T17:13:28.088Z"
   },
   {
    "duration": 236,
    "start_time": "2023-06-17T17:13:33.161Z"
   },
   {
    "duration": 120,
    "start_time": "2023-06-17T17:13:34.810Z"
   },
   {
    "duration": 132,
    "start_time": "2023-06-17T17:13:35.980Z"
   },
   {
    "duration": 4,
    "start_time": "2023-06-17T17:13:37.029Z"
   },
   {
    "duration": 9,
    "start_time": "2023-06-17T17:13:37.951Z"
   },
   {
    "duration": 10,
    "start_time": "2023-06-17T17:13:39.510Z"
   },
   {
    "duration": 10,
    "start_time": "2023-06-17T17:13:55.408Z"
   },
   {
    "duration": 1218,
    "start_time": "2023-06-17T17:15:31.000Z"
   },
   {
    "duration": 828,
    "start_time": "2023-06-17T17:15:32.220Z"
   },
   {
    "duration": 125,
    "start_time": "2023-06-17T17:15:33.049Z"
   },
   {
    "duration": 14,
    "start_time": "2023-06-17T17:15:33.176Z"
   },
   {
    "duration": 113,
    "start_time": "2023-06-17T17:15:33.192Z"
   },
   {
    "duration": 31,
    "start_time": "2023-06-17T17:15:33.306Z"
   },
   {
    "duration": 45,
    "start_time": "2023-06-17T17:15:33.338Z"
   },
   {
    "duration": 33,
    "start_time": "2023-06-17T17:15:33.385Z"
   },
   {
    "duration": 50,
    "start_time": "2023-06-17T17:15:33.420Z"
   },
   {
    "duration": 42,
    "start_time": "2023-06-17T17:15:33.472Z"
   },
   {
    "duration": 283,
    "start_time": "2023-06-17T17:15:33.516Z"
   },
   {
    "duration": 491,
    "start_time": "2023-06-17T17:15:33.801Z"
   },
   {
    "duration": 980,
    "start_time": "2023-06-17T17:15:34.294Z"
   },
   {
    "duration": 624,
    "start_time": "2023-06-17T17:15:35.276Z"
   },
   {
    "duration": 8,
    "start_time": "2023-06-17T17:15:35.901Z"
   },
   {
    "duration": 32,
    "start_time": "2023-06-17T17:15:35.910Z"
   },
   {
    "duration": 40,
    "start_time": "2023-06-17T17:15:35.944Z"
   },
   {
    "duration": 93,
    "start_time": "2023-06-17T17:15:35.985Z"
   },
   {
    "duration": 58,
    "start_time": "2023-06-17T17:15:36.080Z"
   },
   {
    "duration": 444,
    "start_time": "2023-06-17T17:15:36.139Z"
   },
   {
    "duration": 38,
    "start_time": "2023-06-17T17:15:36.585Z"
   },
   {
    "duration": 258,
    "start_time": "2023-06-17T17:15:36.625Z"
   },
   {
    "duration": 440,
    "start_time": "2023-06-17T17:15:36.886Z"
   },
   {
    "duration": 357,
    "start_time": "2023-06-17T17:15:37.328Z"
   },
   {
    "duration": 24,
    "start_time": "2023-06-17T17:15:37.686Z"
   },
   {
    "duration": 405,
    "start_time": "2023-06-17T17:15:37.711Z"
   },
   {
    "duration": 305,
    "start_time": "2023-06-17T17:15:38.118Z"
   },
   {
    "duration": 22,
    "start_time": "2023-06-17T17:15:38.427Z"
   },
   {
    "duration": 75,
    "start_time": "2023-06-17T17:15:38.451Z"
   },
   {
    "duration": 221,
    "start_time": "2023-06-17T17:15:38.528Z"
   },
   {
    "duration": 75,
    "start_time": "2023-06-17T17:15:38.751Z"
   },
   {
    "duration": 134,
    "start_time": "2023-06-17T17:15:38.828Z"
   },
   {
    "duration": 7,
    "start_time": "2023-06-17T17:15:38.964Z"
   },
   {
    "duration": 789,
    "start_time": "2023-06-17T17:15:38.973Z"
   },
   {
    "duration": 235,
    "start_time": "2023-06-17T17:15:39.768Z"
   },
   {
    "duration": 127,
    "start_time": "2023-06-17T17:15:40.005Z"
   },
   {
    "duration": 134,
    "start_time": "2023-06-17T17:15:40.134Z"
   },
   {
    "duration": 4,
    "start_time": "2023-06-17T17:15:40.269Z"
   },
   {
    "duration": 18,
    "start_time": "2023-06-17T17:15:40.275Z"
   },
   {
    "duration": 23,
    "start_time": "2023-06-17T17:15:40.294Z"
   },
   {
    "duration": 22,
    "start_time": "2023-06-17T17:15:40.318Z"
   },
   {
    "duration": 5,
    "start_time": "2023-06-17T17:15:40.341Z"
   },
   {
    "duration": 21,
    "start_time": "2023-06-17T17:15:40.347Z"
   },
   {
    "duration": 64,
    "start_time": "2023-06-17T17:15:40.369Z"
   },
   {
    "duration": 45,
    "start_time": "2023-06-17T17:15:40.434Z"
   },
   {
    "duration": 37,
    "start_time": "2023-06-17T17:15:40.480Z"
   },
   {
    "duration": 6256,
    "start_time": "2023-06-17T17:15:40.519Z"
   },
   {
    "duration": 600,
    "start_time": "2023-06-17T17:15:46.776Z"
   },
   {
    "duration": 4,
    "start_time": "2023-06-17T17:15:47.378Z"
   },
   {
    "duration": 4,
    "start_time": "2023-06-17T17:15:47.384Z"
   },
   {
    "duration": 30102,
    "start_time": "2023-06-17T17:15:47.389Z"
   },
   {
    "duration": 25,
    "start_time": "2023-06-17T17:16:17.493Z"
   },
   {
    "duration": 4,
    "start_time": "2023-06-17T17:16:17.520Z"
   },
   {
    "duration": 52,
    "start_time": "2023-06-17T17:16:17.525Z"
   },
   {
    "duration": 11,
    "start_time": "2023-06-17T17:16:17.580Z"
   },
   {
    "duration": 99,
    "start_time": "2023-06-17T17:16:17.669Z"
   },
   {
    "duration": 3712,
    "start_time": "2023-06-17T17:16:17.770Z"
   },
   {
    "duration": 264,
    "start_time": "2023-06-17T17:16:21.484Z"
   },
   {
    "duration": 5,
    "start_time": "2023-06-17T17:16:21.750Z"
   },
   {
    "duration": 13,
    "start_time": "2023-06-17T17:16:21.757Z"
   },
   {
    "duration": 25,
    "start_time": "2023-06-17T17:16:21.772Z"
   },
   {
    "duration": 3050,
    "start_time": "2023-06-17T17:16:21.799Z"
   },
   {
    "duration": 26,
    "start_time": "2023-06-17T17:16:24.851Z"
   },
   {
    "duration": 5,
    "start_time": "2023-06-17T17:16:24.879Z"
   },
   {
    "duration": 8,
    "start_time": "2023-06-17T17:16:24.886Z"
   },
   {
    "duration": 3,
    "start_time": "2023-06-17T17:16:24.896Z"
   },
   {
    "duration": 8,
    "start_time": "2023-06-17T17:16:24.901Z"
   },
   {
    "duration": 68,
    "start_time": "2023-06-17T17:27:38.529Z"
   },
   {
    "duration": 64,
    "start_time": "2023-06-17T17:29:24.293Z"
   },
   {
    "duration": 1636,
    "start_time": "2023-08-21T13:17:06.315Z"
   },
   {
    "duration": 0,
    "start_time": "2023-08-21T13:17:07.955Z"
   },
   {
    "duration": 0,
    "start_time": "2023-08-21T13:17:07.956Z"
   },
   {
    "duration": 0,
    "start_time": "2023-08-21T13:17:07.957Z"
   },
   {
    "duration": 0,
    "start_time": "2023-08-21T13:17:07.958Z"
   },
   {
    "duration": 0,
    "start_time": "2023-08-21T13:17:07.959Z"
   },
   {
    "duration": 0,
    "start_time": "2023-08-21T13:17:07.960Z"
   },
   {
    "duration": 0,
    "start_time": "2023-08-21T13:17:07.961Z"
   },
   {
    "duration": 0,
    "start_time": "2023-08-21T13:17:07.962Z"
   },
   {
    "duration": 0,
    "start_time": "2023-08-21T13:17:07.963Z"
   },
   {
    "duration": 0,
    "start_time": "2023-08-21T13:17:07.964Z"
   },
   {
    "duration": 0,
    "start_time": "2023-08-21T13:17:07.964Z"
   },
   {
    "duration": 0,
    "start_time": "2023-08-21T13:17:07.965Z"
   },
   {
    "duration": 0,
    "start_time": "2023-08-21T13:17:07.966Z"
   },
   {
    "duration": 0,
    "start_time": "2023-08-21T13:17:07.967Z"
   },
   {
    "duration": 0,
    "start_time": "2023-08-21T13:17:07.968Z"
   },
   {
    "duration": 0,
    "start_time": "2023-08-21T13:17:07.970Z"
   },
   {
    "duration": 0,
    "start_time": "2023-08-21T13:17:07.970Z"
   },
   {
    "duration": 0,
    "start_time": "2023-08-21T13:17:07.972Z"
   },
   {
    "duration": 0,
    "start_time": "2023-08-21T13:17:07.973Z"
   },
   {
    "duration": 0,
    "start_time": "2023-08-21T13:17:07.974Z"
   },
   {
    "duration": 0,
    "start_time": "2023-08-21T13:17:07.975Z"
   },
   {
    "duration": 0,
    "start_time": "2023-08-21T13:17:07.976Z"
   },
   {
    "duration": 0,
    "start_time": "2023-08-21T13:17:07.978Z"
   },
   {
    "duration": 0,
    "start_time": "2023-08-21T13:17:07.979Z"
   },
   {
    "duration": 0,
    "start_time": "2023-08-21T13:17:07.980Z"
   },
   {
    "duration": 0,
    "start_time": "2023-08-21T13:17:07.981Z"
   },
   {
    "duration": 0,
    "start_time": "2023-08-21T13:17:07.982Z"
   },
   {
    "duration": 0,
    "start_time": "2023-08-21T13:17:07.983Z"
   },
   {
    "duration": 0,
    "start_time": "2023-08-21T13:17:07.984Z"
   },
   {
    "duration": 0,
    "start_time": "2023-08-21T13:17:07.985Z"
   },
   {
    "duration": 0,
    "start_time": "2023-08-21T13:17:07.986Z"
   },
   {
    "duration": 0,
    "start_time": "2023-08-21T13:17:07.987Z"
   },
   {
    "duration": 0,
    "start_time": "2023-08-21T13:17:07.988Z"
   },
   {
    "duration": 0,
    "start_time": "2023-08-21T13:17:07.989Z"
   },
   {
    "duration": 0,
    "start_time": "2023-08-21T13:17:08.049Z"
   },
   {
    "duration": 0,
    "start_time": "2023-08-21T13:17:08.051Z"
   },
   {
    "duration": 0,
    "start_time": "2023-08-21T13:17:08.052Z"
   },
   {
    "duration": 0,
    "start_time": "2023-08-21T13:17:08.053Z"
   },
   {
    "duration": 0,
    "start_time": "2023-08-21T13:17:08.054Z"
   },
   {
    "duration": 0,
    "start_time": "2023-08-21T13:17:08.055Z"
   },
   {
    "duration": 0,
    "start_time": "2023-08-21T13:17:08.057Z"
   },
   {
    "duration": 0,
    "start_time": "2023-08-21T13:17:08.058Z"
   },
   {
    "duration": 0,
    "start_time": "2023-08-21T13:17:08.059Z"
   },
   {
    "duration": 0,
    "start_time": "2023-08-21T13:17:08.060Z"
   },
   {
    "duration": 0,
    "start_time": "2023-08-21T13:17:08.061Z"
   },
   {
    "duration": 0,
    "start_time": "2023-08-21T13:17:08.063Z"
   },
   {
    "duration": 0,
    "start_time": "2023-08-21T13:17:08.064Z"
   },
   {
    "duration": 0,
    "start_time": "2023-08-21T13:17:08.065Z"
   },
   {
    "duration": 0,
    "start_time": "2023-08-21T13:17:08.066Z"
   },
   {
    "duration": 0,
    "start_time": "2023-08-21T13:17:08.067Z"
   },
   {
    "duration": 0,
    "start_time": "2023-08-21T13:17:08.068Z"
   },
   {
    "duration": 0,
    "start_time": "2023-08-21T13:17:08.069Z"
   },
   {
    "duration": 0,
    "start_time": "2023-08-21T13:17:08.071Z"
   },
   {
    "duration": 0,
    "start_time": "2023-08-21T13:17:08.072Z"
   },
   {
    "duration": 0,
    "start_time": "2023-08-21T13:17:08.073Z"
   },
   {
    "duration": 0,
    "start_time": "2023-08-21T13:17:08.075Z"
   },
   {
    "duration": 0,
    "start_time": "2023-08-21T13:17:08.076Z"
   },
   {
    "duration": 0,
    "start_time": "2023-08-21T13:17:08.077Z"
   },
   {
    "duration": 0,
    "start_time": "2023-08-21T13:17:08.079Z"
   },
   {
    "duration": 0,
    "start_time": "2023-08-21T13:17:08.080Z"
   },
   {
    "duration": 0,
    "start_time": "2023-08-21T13:17:08.081Z"
   },
   {
    "duration": 0,
    "start_time": "2023-08-21T13:17:08.083Z"
   },
   {
    "duration": 0,
    "start_time": "2023-08-21T13:17:08.084Z"
   },
   {
    "duration": 0,
    "start_time": "2023-08-21T13:17:08.085Z"
   },
   {
    "duration": 0,
    "start_time": "2023-08-21T13:17:08.088Z"
   },
   {
    "duration": 0,
    "start_time": "2023-08-21T13:17:08.089Z"
   },
   {
    "duration": 2775,
    "start_time": "2023-08-21T13:18:50.471Z"
   },
   {
    "duration": 1504,
    "start_time": "2023-08-21T13:19:20.137Z"
   },
   {
    "duration": 1065,
    "start_time": "2023-08-21T13:19:21.642Z"
   },
   {
    "duration": 164,
    "start_time": "2023-08-21T13:19:22.708Z"
   },
   {
    "duration": 14,
    "start_time": "2023-08-21T13:19:22.874Z"
   },
   {
    "duration": 268,
    "start_time": "2023-08-21T13:19:22.890Z"
   },
   {
    "duration": 31,
    "start_time": "2023-08-21T13:19:23.160Z"
   },
   {
    "duration": 85,
    "start_time": "2023-08-21T13:19:23.192Z"
   },
   {
    "duration": 82,
    "start_time": "2023-08-21T13:19:23.279Z"
   },
   {
    "duration": 91,
    "start_time": "2023-08-21T13:19:23.363Z"
   },
   {
    "duration": 40,
    "start_time": "2023-08-21T13:19:23.456Z"
   },
   {
    "duration": 597,
    "start_time": "2023-08-21T13:19:23.498Z"
   },
   {
    "duration": 596,
    "start_time": "2023-08-21T13:19:24.097Z"
   },
   {
    "duration": 921,
    "start_time": "2023-08-21T13:19:24.694Z"
   },
   {
    "duration": 588,
    "start_time": "2023-08-21T13:19:25.617Z"
   },
   {
    "duration": 7,
    "start_time": "2023-08-21T13:19:26.206Z"
   },
   {
    "duration": 37,
    "start_time": "2023-08-21T13:19:26.214Z"
   },
   {
    "duration": 26,
    "start_time": "2023-08-21T13:19:26.252Z"
   },
   {
    "duration": 95,
    "start_time": "2023-08-21T13:19:26.280Z"
   },
   {
    "duration": 51,
    "start_time": "2023-08-21T13:19:26.376Z"
   },
   {
    "duration": 469,
    "start_time": "2023-08-21T13:19:26.428Z"
   },
   {
    "duration": 23,
    "start_time": "2023-08-21T13:19:26.898Z"
   },
   {
    "duration": 256,
    "start_time": "2023-08-21T13:19:26.923Z"
   },
   {
    "duration": 372,
    "start_time": "2023-08-21T13:19:27.181Z"
   },
   {
    "duration": 342,
    "start_time": "2023-08-21T13:19:27.554Z"
   },
   {
    "duration": 23,
    "start_time": "2023-08-21T13:19:27.898Z"
   },
   {
    "duration": 219,
    "start_time": "2023-08-21T13:19:27.922Z"
   },
   {
    "duration": 302,
    "start_time": "2023-08-21T13:19:28.143Z"
   },
   {
    "duration": 24,
    "start_time": "2023-08-21T13:19:28.452Z"
   },
   {
    "duration": 72,
    "start_time": "2023-08-21T13:19:28.478Z"
   },
   {
    "duration": 217,
    "start_time": "2023-08-21T13:19:28.552Z"
   },
   {
    "duration": 79,
    "start_time": "2023-08-21T13:19:28.770Z"
   },
   {
    "duration": 107,
    "start_time": "2023-08-21T13:19:28.851Z"
   },
   {
    "duration": 5,
    "start_time": "2023-08-21T13:19:28.960Z"
   },
   {
    "duration": 731,
    "start_time": "2023-08-21T13:19:28.966Z"
   },
   {
    "duration": 226,
    "start_time": "2023-08-21T13:19:29.698Z"
   },
   {
    "duration": 118,
    "start_time": "2023-08-21T13:19:29.925Z"
   },
   {
    "duration": 118,
    "start_time": "2023-08-21T13:19:30.045Z"
   },
   {
    "duration": 3,
    "start_time": "2023-08-21T13:19:30.165Z"
   },
   {
    "duration": 27,
    "start_time": "2023-08-21T13:19:30.170Z"
   },
   {
    "duration": 24,
    "start_time": "2023-08-21T13:19:30.198Z"
   },
   {
    "duration": 24,
    "start_time": "2023-08-21T13:19:30.224Z"
   },
   {
    "duration": 16,
    "start_time": "2023-08-21T13:19:30.250Z"
   },
   {
    "duration": 45,
    "start_time": "2023-08-21T13:19:30.268Z"
   },
   {
    "duration": 60,
    "start_time": "2023-08-21T13:19:30.314Z"
   },
   {
    "duration": 32,
    "start_time": "2023-08-21T13:19:30.375Z"
   },
   {
    "duration": 52,
    "start_time": "2023-08-21T13:19:30.408Z"
   },
   {
    "duration": 3497,
    "start_time": "2023-08-21T13:19:30.461Z"
   },
   {
    "duration": 600,
    "start_time": "2023-08-21T13:19:33.960Z"
   },
   {
    "duration": 4,
    "start_time": "2023-08-21T13:19:34.562Z"
   },
   {
    "duration": 4,
    "start_time": "2023-08-21T13:19:34.568Z"
   },
   {
    "duration": 33097,
    "start_time": "2023-08-21T13:19:34.574Z"
   },
   {
    "duration": 23,
    "start_time": "2023-08-21T13:20:07.672Z"
   },
   {
    "duration": 4,
    "start_time": "2023-08-21T13:20:07.697Z"
   },
   {
    "duration": 45,
    "start_time": "2023-08-21T13:20:07.702Z"
   },
   {
    "duration": 13,
    "start_time": "2023-08-21T13:20:07.748Z"
   },
   {
    "duration": 93,
    "start_time": "2023-08-21T13:20:07.763Z"
   },
   {
    "duration": 3496,
    "start_time": "2023-08-21T13:20:07.859Z"
   },
   {
    "duration": 212,
    "start_time": "2023-08-21T13:20:11.357Z"
   },
   {
    "duration": 4,
    "start_time": "2023-08-21T13:20:11.571Z"
   },
   {
    "duration": 7,
    "start_time": "2023-08-21T13:20:11.576Z"
   },
   {
    "duration": 11,
    "start_time": "2023-08-21T13:20:11.584Z"
   },
   {
    "duration": 3117,
    "start_time": "2023-08-21T13:20:11.596Z"
   },
   {
    "duration": 25,
    "start_time": "2023-08-21T13:20:14.715Z"
   },
   {
    "duration": 14,
    "start_time": "2023-08-21T13:20:14.742Z"
   },
   {
    "duration": 24,
    "start_time": "2023-08-21T13:20:14.757Z"
   },
   {
    "duration": 74,
    "start_time": "2023-08-21T13:20:14.782Z"
   },
   {
    "duration": 79,
    "start_time": "2023-08-21T13:20:14.858Z"
   }
  ],
  "kernelspec": {
   "display_name": "Python 3 (ipykernel)",
   "language": "python",
   "name": "python3"
  },
  "language_info": {
   "codemirror_mode": {
    "name": "ipython",
    "version": 3
   },
   "file_extension": ".py",
   "mimetype": "text/x-python",
   "name": "python",
   "nbconvert_exporter": "python",
   "pygments_lexer": "ipython3",
   "version": "3.9.12"
  },
  "toc": {
   "base_numbering": 1,
   "nav_menu": {
    "height": "101px",
    "width": "188px"
   },
   "number_sections": true,
   "sideBar": true,
   "skip_h1_title": true,
   "title_cell": "Table of Contents",
   "title_sidebar": "Contents",
   "toc_cell": false,
   "toc_position": {
    "height": "calc(100% - 180px)",
    "left": "10px",
    "top": "150px",
    "width": "165px"
   },
   "toc_section_display": true,
   "toc_window_display": true
  }
 },
 "nbformat": 4,
 "nbformat_minor": 2
}
