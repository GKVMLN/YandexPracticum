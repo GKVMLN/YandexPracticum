{
 "cells": [
  {
   "cell_type": "markdown",
   "metadata": {
    "toc": true
   },
   "source": [
    "<h1>Содержание<span class=\"tocSkip\"></span></h1>\n",
    "<div class=\"toc\"><ul class=\"toc-item\"><li><span><a href=\"#Подготовка-данных\" data-toc-modified-id=\"Подготовка-данных-1\"><span class=\"toc-item-num\">1&nbsp;&nbsp;</span>Подготовка данных</a></span></li><li><span><a href=\"#Анализ-данных\" data-toc-modified-id=\"Анализ-данных-2\"><span class=\"toc-item-num\">2&nbsp;&nbsp;</span>Анализ данных</a></span></li><li><span><a href=\"#Модель\" data-toc-modified-id=\"Модель-3\"><span class=\"toc-item-num\">3&nbsp;&nbsp;</span>Модель</a></span></li></ul></div>"
   ]
  },
  {
   "cell_type": "markdown",
   "metadata": {},
   "source": [
    "# Восстановление золота из руды"
   ]
  },
  {
   "cell_type": "markdown",
   "metadata": {},
   "source": [
    "Подготовьте прототип модели машинного обучения для «Цифры». Компания разрабатывает решения для эффективной работы промышленных предприятий.\n",
    "\n",
    "Модель должна предсказать коэффициент восстановления золота из золотосодержащей руды. Используйте данные с параметрами добычи и очистки. \n",
    "\n",
    "Модель поможет оптимизировать производство, чтобы не запускать предприятие с убыточными характеристиками.\n",
    "\n",
    "Вам нужно:\n",
    "\n",
    "1. Подготовить данные;\n",
    "2. Провести исследовательский анализ данных;\n",
    "3. Построить и обучить модель.\n",
    "\n",
    "Чтобы выполнить проект, обращайтесь к библиотекам *pandas*, *matplotlib* и *sklearn.* Вам поможет их документация."
   ]
  },
  {
   "cell_type": "markdown",
   "metadata": {},
   "source": [
    "## Подготовка данных"
   ]
  },
  {
   "cell_type": "code",
   "execution_count": 1,
   "metadata": {},
   "outputs": [],
   "source": [
    "import warnings\n",
    "\n",
    "import pandas as pd\n",
    "import numpy as np\n",
    "\n",
    "import seaborn as sns\n",
    "import matplotlib.pyplot as plt\n",
    "\n",
    "from sklearn.model_selection import train_test_split\n",
    "from sklearn.model_selection import cross_val_score\n",
    "from sklearn.model_selection import GridSearchCV\n",
    "\n",
    "from sklearn.metrics import mean_absolute_error as MAE\n",
    "from sklearn.metrics import fbeta_score, make_scorer\n",
    "from sklearn.metrics import accuracy_score\n",
    "from sklearn.metrics import mean_squared_error\n",
    "from sklearn.metrics import mean_absolute_error\n",
    "\n",
    "from sklearn.linear_model import LinearRegression\n",
    "from sklearn.ensemble import RandomForestRegressor\n",
    "from sklearn.tree import DecisionTreeRegressor\n",
    "from sklearn.dummy import DummyRegressor"
   ]
  },
  {
   "cell_type": "code",
   "execution_count": 2,
   "metadata": {},
   "outputs": [],
   "source": [
    "train_data = pd.read_csv(\"/datasets/gold_industry_train.csv\")\n",
    "test_data = pd.read_csv(\"/datasets/gold_industry_test.csv\")\n",
    "full_data = pd.read_csv(\"/datasets/gold_industry_full.csv\")"
   ]
  },
  {
   "cell_type": "code",
   "execution_count": 3,
   "metadata": {
    "scrolled": true
   },
   "outputs": [
    {
     "name": "stdout",
     "output_type": "stream",
     "text": [
      "<class 'pandas.core.frame.DataFrame'>\n",
      "RangeIndex: 14579 entries, 0 to 14578\n",
      "Data columns (total 87 columns):\n",
      " #   Column                                              Non-Null Count  Dtype  \n",
      "---  ------                                              --------------  -----  \n",
      " 0   date                                                14579 non-null  object \n",
      " 1   rougher.input.feed_au                               14579 non-null  float64\n",
      " 2   rougher.input.feed_ag                               14579 non-null  float64\n",
      " 3   rougher.input.feed_pb                               14507 non-null  float64\n",
      " 4   rougher.input.feed_sol                              14502 non-null  float64\n",
      " 5   rougher.input.feed_rate                             14572 non-null  float64\n",
      " 6   rougher.input.feed_size                             14478 non-null  float64\n",
      " 7   rougher.input.floatbank10_sulfate                   14548 non-null  float64\n",
      " 8   rougher.input.floatbank10_xanthate                  14572 non-null  float64\n",
      " 9   rougher.state.floatbank10_a_air                     14579 non-null  float64\n",
      " 10  rougher.state.floatbank10_a_level                   14579 non-null  float64\n",
      " 11  rougher.state.floatbank10_b_air                     14579 non-null  float64\n",
      " 12  rougher.state.floatbank10_b_level                   14579 non-null  float64\n",
      " 13  rougher.state.floatbank10_c_air                     14579 non-null  float64\n",
      " 14  rougher.state.floatbank10_c_level                   14579 non-null  float64\n",
      " 15  rougher.state.floatbank10_d_air                     14579 non-null  float64\n",
      " 16  rougher.state.floatbank10_d_level                   14579 non-null  float64\n",
      " 17  rougher.state.floatbank10_e_air                     14150 non-null  float64\n",
      " 18  rougher.state.floatbank10_e_level                   14579 non-null  float64\n",
      " 19  rougher.state.floatbank10_f_air                     14579 non-null  float64\n",
      " 20  rougher.state.floatbank10_f_level                   14579 non-null  float64\n",
      " 21  rougher.input.floatbank11_sulfate                   14543 non-null  float64\n",
      " 22  rougher.input.floatbank11_xanthate                  14172 non-null  float64\n",
      " 23  rougher.calculation.sulfate_to_au_concentrate       14578 non-null  float64\n",
      " 24  rougher.calculation.floatbank10_sulfate_to_au_feed  14578 non-null  float64\n",
      " 25  rougher.calculation.floatbank11_sulfate_to_au_feed  14578 non-null  float64\n",
      " 26  rougher.calculation.au_pb_ratio                     14579 non-null  float64\n",
      " 27  rougher.output.concentrate_au                       14579 non-null  float64\n",
      " 28  rougher.output.concentrate_ag                       14579 non-null  float64\n",
      " 29  rougher.output.concentrate_pb                       14579 non-null  float64\n",
      " 30  rougher.output.concentrate_sol                      14561 non-null  float64\n",
      " 31  rougher.output.recovery                             14579 non-null  float64\n",
      " 32  rougher.output.tail_au                              14579 non-null  float64\n",
      " 33  rougher.output.tail_ag                              14578 non-null  float64\n",
      " 34  rougher.output.tail_pb                              14579 non-null  float64\n",
      " 35  rougher.output.tail_sol                             14579 non-null  float64\n",
      " 36  primary_cleaner.input.sulfate                       14556 non-null  float64\n",
      " 37  primary_cleaner.input.depressant                    14551 non-null  float64\n",
      " 38  primary_cleaner.input.feed_size                     14579 non-null  float64\n",
      " 39  primary_cleaner.input.xanthate                      14518 non-null  float64\n",
      " 40  primary_cleaner.state.floatbank8_a_air              14576 non-null  float64\n",
      " 41  primary_cleaner.state.floatbank8_a_level            14579 non-null  float64\n",
      " 42  primary_cleaner.state.floatbank8_b_air              14576 non-null  float64\n",
      " 43  primary_cleaner.state.floatbank8_b_level            14579 non-null  float64\n",
      " 44  primary_cleaner.state.floatbank8_c_air              14579 non-null  float64\n",
      " 45  primary_cleaner.state.floatbank8_c_level            14579 non-null  float64\n",
      " 46  primary_cleaner.state.floatbank8_d_air              14578 non-null  float64\n",
      " 47  primary_cleaner.state.floatbank8_d_level            14579 non-null  float64\n",
      " 48  primary_cleaner.output.concentrate_au               14579 non-null  float64\n",
      " 49  primary_cleaner.output.concentrate_ag               14579 non-null  float64\n",
      " 50  primary_cleaner.output.concentrate_pb               14491 non-null  float64\n",
      " 51  primary_cleaner.output.concentrate_sol              14314 non-null  float64\n",
      " 52  primary_cleaner.output.tail_au                      14579 non-null  float64\n",
      " 53  primary_cleaner.output.tail_ag                      14575 non-null  float64\n",
      " 54  primary_cleaner.output.tail_pb                      14573 non-null  float64\n",
      " 55  primary_cleaner.output.tail_sol                     14534 non-null  float64\n",
      " 56  secondary_cleaner.state.floatbank2_a_air            14485 non-null  float64\n",
      " 57  secondary_cleaner.state.floatbank2_a_level          14579 non-null  float64\n",
      " 58  secondary_cleaner.state.floatbank2_b_air            14557 non-null  float64\n",
      " 59  secondary_cleaner.state.floatbank2_b_level          14579 non-null  float64\n",
      " 60  secondary_cleaner.state.floatbank3_a_air            14567 non-null  float64\n",
      " 61  secondary_cleaner.state.floatbank3_a_level          14579 non-null  float64\n",
      " 62  secondary_cleaner.state.floatbank3_b_air            14579 non-null  float64\n",
      " 63  secondary_cleaner.state.floatbank3_b_level          14579 non-null  float64\n",
      " 64  secondary_cleaner.state.floatbank4_a_air            14574 non-null  float64\n",
      " 65  secondary_cleaner.state.floatbank4_a_level          14579 non-null  float64\n",
      " 66  secondary_cleaner.state.floatbank4_b_air            14579 non-null  float64\n",
      " 67  secondary_cleaner.state.floatbank4_b_level          14579 non-null  float64\n",
      " 68  secondary_cleaner.state.floatbank5_a_air            14579 non-null  float64\n",
      " 69  secondary_cleaner.state.floatbank5_a_level          14579 non-null  float64\n",
      " 70  secondary_cleaner.state.floatbank5_b_air            14579 non-null  float64\n",
      " 71  secondary_cleaner.state.floatbank5_b_level          14579 non-null  float64\n",
      " 72  secondary_cleaner.state.floatbank6_a_air            14578 non-null  float64\n",
      " 73  secondary_cleaner.state.floatbank6_a_level          14579 non-null  float64\n",
      " 74  secondary_cleaner.output.tail_au                    14579 non-null  float64\n",
      " 75  secondary_cleaner.output.tail_ag                    14578 non-null  float64\n",
      " 76  secondary_cleaner.output.tail_pb                    14575 non-null  float64\n",
      " 77  secondary_cleaner.output.tail_sol                   13659 non-null  float64\n",
      " 78  final.output.concentrate_au                         14579 non-null  float64\n",
      " 79  final.output.concentrate_ag                         14578 non-null  float64\n",
      " 80  final.output.concentrate_pb                         14578 non-null  float64\n",
      " 81  final.output.concentrate_sol                        14387 non-null  float64\n",
      " 82  final.output.recovery                               14579 non-null  float64\n",
      " 83  final.output.tail_au                                14579 non-null  float64\n",
      " 84  final.output.tail_ag                                14578 non-null  float64\n",
      " 85  final.output.tail_pb                                14504 non-null  float64\n",
      " 86  final.output.tail_sol                               14574 non-null  float64\n",
      "dtypes: float64(86), object(1)\n",
      "memory usage: 9.7+ MB\n"
     ]
    }
   ],
   "source": [
    "train_data.info()"
   ]
  },
  {
   "cell_type": "code",
   "execution_count": 4,
   "metadata": {
    "scrolled": false
   },
   "outputs": [
    {
     "name": "stdout",
     "output_type": "stream",
     "text": [
      "<class 'pandas.core.frame.DataFrame'>\n",
      "RangeIndex: 4860 entries, 0 to 4859\n",
      "Data columns (total 53 columns):\n",
      " #   Column                                      Non-Null Count  Dtype  \n",
      "---  ------                                      --------------  -----  \n",
      " 0   date                                        4860 non-null   object \n",
      " 1   rougher.input.feed_au                       4860 non-null   float64\n",
      " 2   rougher.input.feed_ag                       4860 non-null   float64\n",
      " 3   rougher.input.feed_pb                       4832 non-null   float64\n",
      " 4   rougher.input.feed_sol                      4838 non-null   float64\n",
      " 5   rougher.input.feed_rate                     4856 non-null   float64\n",
      " 6   rougher.input.feed_size                     4816 non-null   float64\n",
      " 7   rougher.input.floatbank10_sulfate           4857 non-null   float64\n",
      " 8   rougher.input.floatbank10_xanthate          4859 non-null   float64\n",
      " 9   rougher.state.floatbank10_a_air             4859 non-null   float64\n",
      " 10  rougher.state.floatbank10_a_level           4859 non-null   float64\n",
      " 11  rougher.state.floatbank10_b_air             4859 non-null   float64\n",
      " 12  rougher.state.floatbank10_b_level           4859 non-null   float64\n",
      " 13  rougher.state.floatbank10_c_air             4859 non-null   float64\n",
      " 14  rougher.state.floatbank10_c_level           4859 non-null   float64\n",
      " 15  rougher.state.floatbank10_d_air             4860 non-null   float64\n",
      " 16  rougher.state.floatbank10_d_level           4860 non-null   float64\n",
      " 17  rougher.state.floatbank10_e_air             4853 non-null   float64\n",
      " 18  rougher.state.floatbank10_e_level           4860 non-null   float64\n",
      " 19  rougher.state.floatbank10_f_air             4860 non-null   float64\n",
      " 20  rougher.state.floatbank10_f_level           4860 non-null   float64\n",
      " 21  rougher.input.floatbank11_sulfate           4852 non-null   float64\n",
      " 22  rougher.input.floatbank11_xanthate          4814 non-null   float64\n",
      " 23  primary_cleaner.input.sulfate               4859 non-null   float64\n",
      " 24  primary_cleaner.input.depressant            4851 non-null   float64\n",
      " 25  primary_cleaner.input.feed_size             4860 non-null   float64\n",
      " 26  primary_cleaner.input.xanthate              4817 non-null   float64\n",
      " 27  primary_cleaner.state.floatbank8_a_air      4859 non-null   float64\n",
      " 28  primary_cleaner.state.floatbank8_a_level    4859 non-null   float64\n",
      " 29  primary_cleaner.state.floatbank8_b_air      4859 non-null   float64\n",
      " 30  primary_cleaner.state.floatbank8_b_level    4859 non-null   float64\n",
      " 31  primary_cleaner.state.floatbank8_c_air      4858 non-null   float64\n",
      " 32  primary_cleaner.state.floatbank8_c_level    4859 non-null   float64\n",
      " 33  primary_cleaner.state.floatbank8_d_air      4858 non-null   float64\n",
      " 34  primary_cleaner.state.floatbank8_d_level    4859 non-null   float64\n",
      " 35  secondary_cleaner.state.floatbank2_a_air    4734 non-null   float64\n",
      " 36  secondary_cleaner.state.floatbank2_a_level  4859 non-null   float64\n",
      " 37  secondary_cleaner.state.floatbank2_b_air    4859 non-null   float64\n",
      " 38  secondary_cleaner.state.floatbank2_b_level  4859 non-null   float64\n",
      " 39  secondary_cleaner.state.floatbank3_a_air    4859 non-null   float64\n",
      " 40  secondary_cleaner.state.floatbank3_a_level  4859 non-null   float64\n",
      " 41  secondary_cleaner.state.floatbank3_b_air    4859 non-null   float64\n",
      " 42  secondary_cleaner.state.floatbank3_b_level  4859 non-null   float64\n",
      " 43  secondary_cleaner.state.floatbank4_a_air    4859 non-null   float64\n",
      " 44  secondary_cleaner.state.floatbank4_a_level  4859 non-null   float64\n",
      " 45  secondary_cleaner.state.floatbank4_b_air    4859 non-null   float64\n",
      " 46  secondary_cleaner.state.floatbank4_b_level  4859 non-null   float64\n",
      " 47  secondary_cleaner.state.floatbank5_a_air    4859 non-null   float64\n",
      " 48  secondary_cleaner.state.floatbank5_a_level  4859 non-null   float64\n",
      " 49  secondary_cleaner.state.floatbank5_b_air    4859 non-null   float64\n",
      " 50  secondary_cleaner.state.floatbank5_b_level  4859 non-null   float64\n",
      " 51  secondary_cleaner.state.floatbank6_a_air    4859 non-null   float64\n",
      " 52  secondary_cleaner.state.floatbank6_a_level  4859 non-null   float64\n",
      "dtypes: float64(52), object(1)\n",
      "memory usage: 2.0+ MB\n"
     ]
    }
   ],
   "source": [
    "test_data.info()"
   ]
  },
  {
   "cell_type": "code",
   "execution_count": 5,
   "metadata": {
    "scrolled": false
   },
   "outputs": [
    {
     "name": "stdout",
     "output_type": "stream",
     "text": [
      "<class 'pandas.core.frame.DataFrame'>\n",
      "RangeIndex: 19439 entries, 0 to 19438\n",
      "Data columns (total 87 columns):\n",
      " #   Column                                              Non-Null Count  Dtype  \n",
      "---  ------                                              --------------  -----  \n",
      " 0   date                                                19439 non-null  object \n",
      " 1   rougher.input.feed_au                               19439 non-null  float64\n",
      " 2   rougher.input.feed_ag                               19439 non-null  float64\n",
      " 3   rougher.input.feed_pb                               19339 non-null  float64\n",
      " 4   rougher.input.feed_sol                              19340 non-null  float64\n",
      " 5   rougher.input.feed_rate                             19428 non-null  float64\n",
      " 6   rougher.input.feed_size                             19294 non-null  float64\n",
      " 7   rougher.input.floatbank10_sulfate                   19405 non-null  float64\n",
      " 8   rougher.input.floatbank10_xanthate                  19431 non-null  float64\n",
      " 9   rougher.state.floatbank10_a_air                     19438 non-null  float64\n",
      " 10  rougher.state.floatbank10_a_level                   19438 non-null  float64\n",
      " 11  rougher.state.floatbank10_b_air                     19438 non-null  float64\n",
      " 12  rougher.state.floatbank10_b_level                   19438 non-null  float64\n",
      " 13  rougher.state.floatbank10_c_air                     19438 non-null  float64\n",
      " 14  rougher.state.floatbank10_c_level                   19438 non-null  float64\n",
      " 15  rougher.state.floatbank10_d_air                     19439 non-null  float64\n",
      " 16  rougher.state.floatbank10_d_level                   19439 non-null  float64\n",
      " 17  rougher.state.floatbank10_e_air                     19003 non-null  float64\n",
      " 18  rougher.state.floatbank10_e_level                   19439 non-null  float64\n",
      " 19  rougher.state.floatbank10_f_air                     19439 non-null  float64\n",
      " 20  rougher.state.floatbank10_f_level                   19439 non-null  float64\n",
      " 21  rougher.input.floatbank11_sulfate                   19395 non-null  float64\n",
      " 22  rougher.input.floatbank11_xanthate                  18986 non-null  float64\n",
      " 23  rougher.calculation.sulfate_to_au_concentrate       19437 non-null  float64\n",
      " 24  rougher.calculation.floatbank10_sulfate_to_au_feed  19437 non-null  float64\n",
      " 25  rougher.calculation.floatbank11_sulfate_to_au_feed  19437 non-null  float64\n",
      " 26  rougher.calculation.au_pb_ratio                     19439 non-null  float64\n",
      " 27  rougher.output.concentrate_au                       19439 non-null  float64\n",
      " 28  rougher.output.concentrate_ag                       19439 non-null  float64\n",
      " 29  rougher.output.concentrate_pb                       19439 non-null  float64\n",
      " 30  rougher.output.concentrate_sol                      19416 non-null  float64\n",
      " 31  rougher.output.recovery                             19439 non-null  float64\n",
      " 32  rougher.output.tail_au                              19439 non-null  float64\n",
      " 33  rougher.output.tail_ag                              19438 non-null  float64\n",
      " 34  rougher.output.tail_pb                              19439 non-null  float64\n",
      " 35  rougher.output.tail_sol                             19439 non-null  float64\n",
      " 36  primary_cleaner.input.sulfate                       19415 non-null  float64\n",
      " 37  primary_cleaner.input.depressant                    19402 non-null  float64\n",
      " 38  primary_cleaner.input.feed_size                     19439 non-null  float64\n",
      " 39  primary_cleaner.input.xanthate                      19335 non-null  float64\n",
      " 40  primary_cleaner.state.floatbank8_a_air              19435 non-null  float64\n",
      " 41  primary_cleaner.state.floatbank8_a_level            19438 non-null  float64\n",
      " 42  primary_cleaner.state.floatbank8_b_air              19435 non-null  float64\n",
      " 43  primary_cleaner.state.floatbank8_b_level            19438 non-null  float64\n",
      " 44  primary_cleaner.state.floatbank8_c_air              19437 non-null  float64\n",
      " 45  primary_cleaner.state.floatbank8_c_level            19438 non-null  float64\n",
      " 46  primary_cleaner.state.floatbank8_d_air              19436 non-null  float64\n",
      " 47  primary_cleaner.state.floatbank8_d_level            19438 non-null  float64\n",
      " 48  primary_cleaner.output.concentrate_au               19439 non-null  float64\n",
      " 49  primary_cleaner.output.concentrate_ag               19439 non-null  float64\n",
      " 50  primary_cleaner.output.concentrate_pb               19323 non-null  float64\n",
      " 51  primary_cleaner.output.concentrate_sol              19069 non-null  float64\n",
      " 52  primary_cleaner.output.tail_au                      19439 non-null  float64\n",
      " 53  primary_cleaner.output.tail_ag                      19435 non-null  float64\n",
      " 54  primary_cleaner.output.tail_pb                      19418 non-null  float64\n",
      " 55  primary_cleaner.output.tail_sol                     19377 non-null  float64\n",
      " 56  secondary_cleaner.state.floatbank2_a_air            19219 non-null  float64\n",
      " 57  secondary_cleaner.state.floatbank2_a_level          19438 non-null  float64\n",
      " 58  secondary_cleaner.state.floatbank2_b_air            19416 non-null  float64\n",
      " 59  secondary_cleaner.state.floatbank2_b_level          19438 non-null  float64\n",
      " 60  secondary_cleaner.state.floatbank3_a_air            19426 non-null  float64\n",
      " 61  secondary_cleaner.state.floatbank3_a_level          19438 non-null  float64\n",
      " 62  secondary_cleaner.state.floatbank3_b_air            19438 non-null  float64\n",
      " 63  secondary_cleaner.state.floatbank3_b_level          19438 non-null  float64\n",
      " 64  secondary_cleaner.state.floatbank4_a_air            19433 non-null  float64\n",
      " 65  secondary_cleaner.state.floatbank4_a_level          19438 non-null  float64\n",
      " 66  secondary_cleaner.state.floatbank4_b_air            19438 non-null  float64\n",
      " 67  secondary_cleaner.state.floatbank4_b_level          19438 non-null  float64\n",
      " 68  secondary_cleaner.state.floatbank5_a_air            19438 non-null  float64\n",
      " 69  secondary_cleaner.state.floatbank5_a_level          19438 non-null  float64\n",
      " 70  secondary_cleaner.state.floatbank5_b_air            19438 non-null  float64\n",
      " 71  secondary_cleaner.state.floatbank5_b_level          19438 non-null  float64\n",
      " 72  secondary_cleaner.state.floatbank6_a_air            19437 non-null  float64\n",
      " 73  secondary_cleaner.state.floatbank6_a_level          19438 non-null  float64\n",
      " 74  secondary_cleaner.output.tail_au                    19439 non-null  float64\n",
      " 75  secondary_cleaner.output.tail_ag                    19437 non-null  float64\n",
      " 76  secondary_cleaner.output.tail_pb                    19427 non-null  float64\n",
      " 77  secondary_cleaner.output.tail_sol                   17691 non-null  float64\n",
      " 78  final.output.concentrate_au                         19439 non-null  float64\n",
      " 79  final.output.concentrate_ag                         19438 non-null  float64\n",
      " 80  final.output.concentrate_pb                         19438 non-null  float64\n",
      " 81  final.output.concentrate_sol                        19228 non-null  float64\n",
      " 82  final.output.recovery                               19439 non-null  float64\n",
      " 83  final.output.tail_au                                19439 non-null  float64\n",
      " 84  final.output.tail_ag                                19438 non-null  float64\n",
      " 85  final.output.tail_pb                                19338 non-null  float64\n",
      " 86  final.output.tail_sol                               19433 non-null  float64\n",
      "dtypes: float64(86), object(1)\n",
      "memory usage: 12.9+ MB\n"
     ]
    }
   ],
   "source": [
    "full_data.info()"
   ]
  },
  {
   "cell_type": "code",
   "execution_count": 6,
   "metadata": {},
   "outputs": [
    {
     "data": {
      "text/plain": [
       "date                        0\n",
       "rougher.input.feed_au       0\n",
       "rougher.input.feed_ag       0\n",
       "rougher.input.feed_pb     100\n",
       "rougher.input.feed_sol     99\n",
       "                         ... \n",
       "final.output.recovery       0\n",
       "final.output.tail_au        0\n",
       "final.output.tail_ag        1\n",
       "final.output.tail_pb      101\n",
       "final.output.tail_sol       6\n",
       "Length: 87, dtype: int64"
      ]
     },
     "execution_count": 6,
     "metadata": {},
     "output_type": "execute_result"
    }
   ],
   "source": [
    "full_data.isna().sum()"
   ]
  },
  {
   "cell_type": "code",
   "execution_count": 7,
   "metadata": {
    "scrolled": true
   },
   "outputs": [
    {
     "data": {
      "text/plain": [
       "date                                            0\n",
       "rougher.input.feed_au                           0\n",
       "rougher.input.feed_ag                           0\n",
       "rougher.input.feed_pb                          28\n",
       "rougher.input.feed_sol                         22\n",
       "rougher.input.feed_rate                         4\n",
       "rougher.input.feed_size                        44\n",
       "rougher.input.floatbank10_sulfate               3\n",
       "rougher.input.floatbank10_xanthate              1\n",
       "rougher.state.floatbank10_a_air                 1\n",
       "rougher.state.floatbank10_a_level               1\n",
       "rougher.state.floatbank10_b_air                 1\n",
       "rougher.state.floatbank10_b_level               1\n",
       "rougher.state.floatbank10_c_air                 1\n",
       "rougher.state.floatbank10_c_level               1\n",
       "rougher.state.floatbank10_d_air                 0\n",
       "rougher.state.floatbank10_d_level               0\n",
       "rougher.state.floatbank10_e_air                 7\n",
       "rougher.state.floatbank10_e_level               0\n",
       "rougher.state.floatbank10_f_air                 0\n",
       "rougher.state.floatbank10_f_level               0\n",
       "rougher.input.floatbank11_sulfate               8\n",
       "rougher.input.floatbank11_xanthate             46\n",
       "primary_cleaner.input.sulfate                   1\n",
       "primary_cleaner.input.depressant                9\n",
       "primary_cleaner.input.feed_size                 0\n",
       "primary_cleaner.input.xanthate                 43\n",
       "primary_cleaner.state.floatbank8_a_air          1\n",
       "primary_cleaner.state.floatbank8_a_level        1\n",
       "primary_cleaner.state.floatbank8_b_air          1\n",
       "primary_cleaner.state.floatbank8_b_level        1\n",
       "primary_cleaner.state.floatbank8_c_air          2\n",
       "primary_cleaner.state.floatbank8_c_level        1\n",
       "primary_cleaner.state.floatbank8_d_air          2\n",
       "primary_cleaner.state.floatbank8_d_level        1\n",
       "secondary_cleaner.state.floatbank2_a_air      126\n",
       "secondary_cleaner.state.floatbank2_a_level      1\n",
       "secondary_cleaner.state.floatbank2_b_air        1\n",
       "secondary_cleaner.state.floatbank2_b_level      1\n",
       "secondary_cleaner.state.floatbank3_a_air        1\n",
       "secondary_cleaner.state.floatbank3_a_level      1\n",
       "secondary_cleaner.state.floatbank3_b_air        1\n",
       "secondary_cleaner.state.floatbank3_b_level      1\n",
       "secondary_cleaner.state.floatbank4_a_air        1\n",
       "secondary_cleaner.state.floatbank4_a_level      1\n",
       "secondary_cleaner.state.floatbank4_b_air        1\n",
       "secondary_cleaner.state.floatbank4_b_level      1\n",
       "secondary_cleaner.state.floatbank5_a_air        1\n",
       "secondary_cleaner.state.floatbank5_a_level      1\n",
       "secondary_cleaner.state.floatbank5_b_air        1\n",
       "secondary_cleaner.state.floatbank5_b_level      1\n",
       "secondary_cleaner.state.floatbank6_a_air        1\n",
       "secondary_cleaner.state.floatbank6_a_level      1\n",
       "dtype: int64"
      ]
     },
     "execution_count": 7,
     "metadata": {},
     "output_type": "execute_result"
    }
   ],
   "source": [
    "test_data.isna().sum()"
   ]
  },
  {
   "cell_type": "code",
   "execution_count": 8,
   "metadata": {},
   "outputs": [
    {
     "data": {
      "text/plain": [
       "date                       0\n",
       "rougher.input.feed_au      0\n",
       "rougher.input.feed_ag      0\n",
       "rougher.input.feed_pb     72\n",
       "rougher.input.feed_sol    77\n",
       "                          ..\n",
       "final.output.recovery      0\n",
       "final.output.tail_au       0\n",
       "final.output.tail_ag       1\n",
       "final.output.tail_pb      75\n",
       "final.output.tail_sol      5\n",
       "Length: 87, dtype: int64"
      ]
     },
     "execution_count": 8,
     "metadata": {},
     "output_type": "execute_result"
    }
   ],
   "source": [
    "train_data.isna().sum()"
   ]
  },
  {
   "cell_type": "code",
   "execution_count": 9,
   "metadata": {},
   "outputs": [],
   "source": [
    "train_data = train_data.fillna(method='ffill')"
   ]
  },
  {
   "cell_type": "code",
   "execution_count": 10,
   "metadata": {},
   "outputs": [],
   "source": [
    "full_data = full_data.fillna(method='ffill')"
   ]
  },
  {
   "cell_type": "code",
   "execution_count": 11,
   "metadata": {},
   "outputs": [],
   "source": [
    "test_data = test_data.fillna(method='ffill')"
   ]
  },
  {
   "cell_type": "markdown",
   "metadata": {},
   "source": [
    "Пропуски в данных заполнили предыдушим наблюдением "
   ]
  },
  {
   "cell_type": "markdown",
   "metadata": {},
   "source": [
    "1.2. Проверьте, что эффективность обогащения рассчитана правильно. Вычислите её на обучающей выборке для признака rougher.output.recovery. Найдите MAE между вашими расчётами и значением признака. Опишите выводы."
   ]
  },
  {
   "cell_type": "code",
   "execution_count": 12,
   "metadata": {},
   "outputs": [],
   "source": [
    "#доля золота в сырье/концентрате до флотации/очистки\n",
    "C = train_data['rougher.output.concentrate_au']\n",
    "\n",
    "# доля золота в концентрате после флотации/очистки\n",
    "F = train_data['rougher.input.feed_au']\n",
    "\n",
    "#доля золота в отвальных хвостах после флотации/очистки\n",
    "T = train_data['rougher.output.tail_au']\n",
    "\n",
    "ttt = train_data['rougher.output.recovery']"
   ]
  },
  {
   "cell_type": "code",
   "execution_count": 13,
   "metadata": {},
   "outputs": [],
   "source": [
    "recovery = ((C * (F - T)) / (F * (C - T))) * 100"
   ]
  },
  {
   "cell_type": "code",
   "execution_count": 14,
   "metadata": {},
   "outputs": [
    {
     "name": "stdout",
     "output_type": "stream",
     "text": [
      "Средняя абсолютная ошибка =  9.83758577644259e-15\n"
     ]
    }
   ],
   "source": [
    "print(\"Средняя абсолютная ошибка = \", MAE(ttt, recovery))"
   ]
  },
  {
   "cell_type": "markdown",
   "metadata": {},
   "source": [
    "Различия между расчитанными и истинными значиениями равно 9.8. \n",
    "\n",
    "Различия в пределах нормы - эффективность обогащения рассчитана правильно."
   ]
  },
  {
   "cell_type": "markdown",
   "metadata": {},
   "source": [
    "1.3. Проанализируйте признаки, недоступные в тестовой выборке. Что это за параметры? К какому типу относятся?"
   ]
  },
  {
   "cell_type": "code",
   "execution_count": 15,
   "metadata": {
    "scrolled": true
   },
   "outputs": [
    {
     "name": "stdout",
     "output_type": "stream",
     "text": [
      "\n",
      "Признаки недоступные в тестовой выборке:\n",
      "\n",
      "Количество признаков в тренировочной выборке =  87\n",
      "Количество признаков в тестовой выборке =  53\n",
      "\n",
      "1 final.output.concentrate_ag\n",
      "2 final.output.concentrate_au\n",
      "3 final.output.concentrate_pb\n",
      "4 final.output.concentrate_sol\n",
      "5 final.output.recovery\n",
      "6 final.output.tail_ag\n",
      "7 final.output.tail_au\n",
      "8 final.output.tail_pb\n",
      "9 final.output.tail_sol\n",
      "10 primary_cleaner.output.concentrate_ag\n",
      "11 primary_cleaner.output.concentrate_au\n",
      "12 primary_cleaner.output.concentrate_pb\n",
      "13 primary_cleaner.output.concentrate_sol\n",
      "14 primary_cleaner.output.tail_ag\n",
      "15 primary_cleaner.output.tail_au\n",
      "16 primary_cleaner.output.tail_pb\n",
      "17 primary_cleaner.output.tail_sol\n",
      "18 rougher.calculation.au_pb_ratio\n",
      "19 rougher.calculation.floatbank10_sulfate_to_au_feed\n",
      "20 rougher.calculation.floatbank11_sulfate_to_au_feed\n",
      "21 rougher.calculation.sulfate_to_au_concentrate\n",
      "22 rougher.output.concentrate_ag\n",
      "23 rougher.output.concentrate_au\n",
      "24 rougher.output.concentrate_pb\n",
      "25 rougher.output.concentrate_sol\n",
      "26 rougher.output.recovery\n",
      "27 rougher.output.tail_ag\n",
      "28 rougher.output.tail_au\n",
      "29 rougher.output.tail_pb\n",
      "30 rougher.output.tail_sol\n",
      "31 secondary_cleaner.output.tail_ag\n",
      "32 secondary_cleaner.output.tail_au\n",
      "33 secondary_cleaner.output.tail_pb\n",
      "34 secondary_cleaner.output.tail_sol\n"
     ]
    }
   ],
   "source": [
    "def difference(test, train):\n",
    "    \n",
    "    train = train.columns\n",
    "    test = test.columns       \n",
    "    diff = train.difference(test)\n",
    "    col = 0\n",
    "        \n",
    "    print()\n",
    "    print('Признаки недоступные в тестовой выборке:')\n",
    "    print()\n",
    "    print('Количество признаков в тренировочной выборке = ', len(train))\n",
    "    print('Количество признаков в тестовой выборке = ', len(test))\n",
    "    print()\n",
    "        \n",
    "    for i in diff:            \n",
    "        col += 1\n",
    "        print(col, i)\n",
    "            \n",
    "difference(test_data, train_data)            "
   ]
  },
  {
   "cell_type": "markdown",
   "metadata": {},
   "source": [
    "В тестовой выборке недоступно 34 признака: \n",
    "    \n",
    "    - final.output. - финальные характеристики параметров продукта\n",
    "    - primary_cleaner.output. - первичная очистка параметров продукта\n",
    "    - rougher.calculation. - расчётные характеристики флотации\n",
    "    - rougher.output. - флотационные параметры продукта\n",
    "    - secondary_cleaner.output. - параметры продукта вторичной очистки и пр.\n",
    "\n",
    "Данные относятся:\n",
    "- к параметрам расчётной характеристики\n",
    "- к типу парметра продукта, \n",
    "- к этапу технологического процесса,\n"
   ]
  },
  {
   "cell_type": "markdown",
   "metadata": {},
   "source": [
    "**1.4.** Проведите предобработку данных."
   ]
  },
  {
   "cell_type": "markdown",
   "metadata": {},
   "source": [
    "Проверка на наличие дублей"
   ]
  },
  {
   "cell_type": "code",
   "execution_count": 16,
   "metadata": {},
   "outputs": [
    {
     "data": {
      "text/plain": [
       "0"
      ]
     },
     "execution_count": 16,
     "metadata": {},
     "output_type": "execute_result"
    }
   ],
   "source": [
    "test_data.duplicated().sum()"
   ]
  },
  {
   "cell_type": "code",
   "execution_count": 17,
   "metadata": {},
   "outputs": [
    {
     "data": {
      "text/plain": [
       "0"
      ]
     },
     "execution_count": 17,
     "metadata": {},
     "output_type": "execute_result"
    }
   ],
   "source": [
    "train_data.duplicated().sum()"
   ]
  },
  {
   "cell_type": "code",
   "execution_count": 18,
   "metadata": {},
   "outputs": [
    {
     "data": {
      "text/plain": [
       "0"
      ]
     },
     "execution_count": 18,
     "metadata": {},
     "output_type": "execute_result"
    }
   ],
   "source": [
    "full_data.duplicated().sum()"
   ]
  },
  {
   "cell_type": "markdown",
   "metadata": {},
   "source": [
    "Так как модель будет работать в режиме онлайн на новых данных, где не будет возможности измерять те признаки, которых нет в тестовом датасете, избавимся от лишних признаков в обучающей выборке."
   ]
  },
  {
   "cell_type": "code",
   "execution_count": 19,
   "metadata": {},
   "outputs": [],
   "source": [
    "train_data = train_data[test_data.columns]"
   ]
  },
  {
   "cell_type": "code",
   "execution_count": 20,
   "metadata": {},
   "outputs": [
    {
     "name": "stdout",
     "output_type": "stream",
     "text": [
      "Количество признаков в обучающей выборке =  53\n",
      "Количество признаков в тестовой выборке =  53\n"
     ]
    }
   ],
   "source": [
    "print(\"Количество признаков в обучающей выборке = \", len(train_data.columns))\n",
    "print(\"Количество признаков в тестовой выборке = \", len(test_data.columns))"
   ]
  },
  {
   "cell_type": "markdown",
   "metadata": {},
   "source": [
    "**Вывод к ШАГУ 1:**\n",
    "\n",
    "В расопоряжении три набора данных:\n",
    "- тестовая\n",
    "- обчающая \n",
    "- общий набор данных\n",
    "\n",
    "Два целевых признака:\n",
    "- эффективность обогащения чернового концентрата: rougher.output.recovery\n",
    "- эффективность обогащения финального концентрата: final.output.recovery\n",
    "\n",
    "В процессе предобработки выполнены следоующие шаги:\n",
    "- Исследовано среднее абсолютное отклонение(MAE) между расчетами эффективности обогащения и признаком rougher.output.recovery\n",
    "- Обработы пропуски\n",
    "- Удалены лишние признаки \n",
    "- Данные проверены на наличие явных дублей"
   ]
  },
  {
   "cell_type": "markdown",
   "metadata": {},
   "source": [
    "## Анализ данных"
   ]
  },
  {
   "cell_type": "markdown",
   "metadata": {},
   "source": [
    "**2.1.** Посмотрите, как меняется концентрация металлов (Au, Ag, Pb) на различных этапах: в сырье, в черновом концентрате, в концентрате после первой очистки и в финальном концентрате. Какие особенности имеют распределения? Опишите выводы."
   ]
  },
  {
   "cell_type": "code",
   "execution_count": 21,
   "metadata": {},
   "outputs": [
    {
     "data": {
      "image/png": "[encoded data removed]",
      "text/plain": [
       "<Figure size 1040x800 with 1 Axes>"
      ]
     },
     "metadata": {
      "needs_background": "light"
     },
     "output_type": "display_data"
    }
   ],
   "source": [
    "warnings.filterwarnings('ignore')\n",
    "plt.figure(figsize=(13,10), dpi= 80)\n",
    "\n",
    "sns.distplot(full_data[\"rougher.input.feed_au\"], color=\"dodgerblue\", label=\"В сырье\", hist_kws={'alpha':.5}, kde_kws={'linewidth':3})\n",
    "sns.distplot(full_data['rougher.output.concentrate_au'], color=\"orange\", label=\"После флотации\", hist_kws={'alpha':.5}, kde_kws={'linewidth':3})\n",
    "sns.distplot(full_data['primary_cleaner.output.concentrate_au'], color=\"g\", label=\"Первичная очистка\", hist_kws={'alpha':.5}, kde_kws={'linewidth':3})\n",
    "sns.distplot(full_data['final.output.concentrate_au'], color=\"deeppink\", label=\"Финальный концентрат\", hist_kws={'alpha':.5}, kde_kws={'linewidth':3})\n",
    "\n",
    "plt.ylim(0, 0.25)\n",
    "\n",
    "plt.xlabel(\"Концентрация золота\")\n",
    "plt.ylabel(\"Содержание металла\")\n",
    "plt.title(\"Гистограмма распределения концентрации ЗОЛОТА на различных этапах технологического процесса\", fontsize=12)\n",
    "\n",
    "plt.legend()\n",
    "plt.show()"
   ]
  },
  {
   "cell_type": "code",
   "execution_count": 22,
   "metadata": {},
   "outputs": [
    {
     "data": {
      "image/png": "[encoded data removed]",
      "text/plain": [
       "<Figure size 1040x800 with 1 Axes>"
      ]
     },
     "metadata": {
      "needs_background": "light"
     },
     "output_type": "display_data"
    }
   ],
   "source": [
    "warnings.filterwarnings('ignore')\n",
    "plt.figure(figsize=(13,10), dpi= 80)\n",
    "\n",
    "sns.distplot(full_data[\"rougher.input.feed_ag\"], color=\"dodgerblue\", label=\"В сырье\", hist_kws={'alpha':.5}, kde_kws={'linewidth':3})\n",
    "sns.distplot(full_data['rougher.output.concentrate_ag'], color=\"orange\", label=\"После флотации\", hist_kws={'alpha':.5}, kde_kws={'linewidth':3})\n",
    "sns.distplot(full_data['primary_cleaner.output.concentrate_ag'], color=\"g\", label=\"Первичная очистка\", hist_kws={'alpha':.5}, kde_kws={'linewidth':3})\n",
    "sns.distplot(full_data['final.output.concentrate_ag'], color=\"deeppink\", label=\"Финальный концентрат\", hist_kws={'alpha':.5}, kde_kws={'linewidth':3})\n",
    "\n",
    "plt.ylim(0, 0.35)\n",
    "\n",
    "plt.xlabel(\"Концентрация серебра\")\n",
    "plt.ylabel(\"Содержание металла\")\n",
    "plt.title(\"Гистограмма распределения концентрации СЕРЕБРА на различных этапах технологического процесса\", fontsize=12)\n",
    "\n",
    "plt.legend()\n",
    "plt.show()"
   ]
  },
  {
   "cell_type": "code",
   "execution_count": 23,
   "metadata": {},
   "outputs": [
    {
     "data": {
      "image/png": "[encoded data removed]",
      "text/plain": [
       "<Figure size 1040x800 with 1 Axes>"
      ]
     },
     "metadata": {
      "needs_background": "light"
     },
     "output_type": "display_data"
    }
   ],
   "source": [
    "warnings.filterwarnings('ignore')\n",
    "plt.figure(figsize=(13,10), dpi= 80)\n",
    "\n",
    "sns.distplot(full_data[\"rougher.input.feed_pb\"], color=\"dodgerblue\", label=\"В сырье\", hist_kws={'alpha':.5}, kde_kws={'linewidth':3})\n",
    "sns.distplot(full_data['rougher.output.concentrate_pb'], color=\"orange\", label=\"После флотации\", hist_kws={'alpha':.5}, kde_kws={'linewidth':3})\n",
    "sns.distplot(full_data['primary_cleaner.output.concentrate_pb'], color=\"g\", label=\"Первичная очистка\", hist_kws={'alpha':.5}, kde_kws={'linewidth':3})\n",
    "sns.distplot(full_data['final.output.concentrate_pb'], color=\"deeppink\", label=\"Финальный концентрат\", hist_kws={'alpha':.5}, kde_kws={'linewidth':3})\n",
    "\n",
    "plt.ylim(0, 0.40)\n",
    "\n",
    "plt.xlabel(\"Концентрация свинца\")\n",
    "plt.ylabel(\"Содержание металла\")\n",
    "plt.title(\"Гистограмма распределения концентрации СВИНЦА на различных этапах технологического процесса\", fontsize=12)\n",
    "\n",
    "plt.legend()\n",
    "plt.show()"
   ]
  },
  {
   "cell_type": "markdown",
   "metadata": {},
   "source": [
    "Изменение концентрации металлов (Au, Ag, Pb) на различных этапах: в сырье, в черновом концентрате, в концентрате после первой очистки и в финальном концентрате:\n",
    "- Au. Концентрация золота возрастает на каждом этапе.\n",
    "- Ag. Концентрация серебра начинает постепенно возратать начиная с первичной очистки, финальный концентрат достиг отметку ~0.33\n",
    "- Pb. Концентрация свинца снижается на первых трёх этапах и в финальном концентрате начинает повышаться"
   ]
  },
  {
   "cell_type": "markdown",
   "metadata": {},
   "source": [
    "2.2.  Сравните распределения размеров гранул исходного сырья на обучающей и тестовой выборках. Если распределения сильно отличаются друг от друга, оценка модели будет неправильной."
   ]
  },
  {
   "cell_type": "code",
   "execution_count": 24,
   "metadata": {},
   "outputs": [
    {
     "data": {
      "image/png": "[encoded data removed]",
      "text/plain": [
       "<Figure size 1280x800 with 1 Axes>"
      ]
     },
     "metadata": {
      "needs_background": "light"
     },
     "output_type": "display_data"
    }
   ],
   "source": [
    "plt.figure(figsize=(16,10), dpi= 80)\n",
    "\n",
    "sns.kdeplot(train_data['rougher.input.feed_size'], shade=True, color=\"g\", label=\"На обучающей выборке\", alpha=.5)\n",
    "sns.kdeplot(test_data['rougher.input.feed_size'], shade=True, color=\"deeppink\", label=\"На тестовой выборке\", alpha=.5)\n",
    "\n",
    "plt.title('Распределения размеров гранул исходного сырья на обучающей и тестовой выборках', fontsize=12)\n",
    "plt.legend()\n",
    "plt.show()"
   ]
  },
  {
   "cell_type": "markdown",
   "metadata": {},
   "source": [
    "Количество наблюдений исходного сырья на обучающей и тестовой выборках разнятся. В обучающей выборке больше данных чем в тестовой.\n",
    "\n",
    "Распределения гранул двух выборок находятся в одном диапазоне."
   ]
  },
  {
   "cell_type": "markdown",
   "metadata": {},
   "source": [
    "**2.3.** Исследуйте суммарную концентрацию металлов на разных стадиях: в сырье, в черновом концентрате, в концентрате после первой очистки и в финальном концентрате."
   ]
  },
  {
   "cell_type": "code",
   "execution_count": 25,
   "metadata": {},
   "outputs": [],
   "source": [
    "#в сырье\n",
    "rougher_feed = (full_data[\"rougher.input.feed_pb\"] + full_data[\"rougher.input.feed_au\"] + full_data[\"rougher.input.feed_ag\"] + full_data[\"rougher.input.feed_sol\"])\n",
    "#В черновом концентрате \n",
    "rougher_concentrate = (full_data['rougher.output.concentrate_pb'] + full_data['rougher.output.concentrate_au'] + \n",
    "                       full_data['rougher.output.concentrate_ag'] + full_data['rougher.output.concentrate_sol'])\n",
    "#в концентрате после первой очистки\n",
    "cleaner_concentrate = (full_data['primary_cleaner.output.concentrate_pb'] + full_data['primary_cleaner.output.concentrate_au'] + \n",
    "                       full_data['primary_cleaner.output.concentrate_ag'] + full_data['primary_cleaner.output.concentrate_sol'])\n",
    "\n",
    "#в финальном концентрате\n",
    "final_concentrate = (full_data['final.output.concentrate_pb'] + full_data['final.output.concentrate_au'] + \n",
    "                     full_data['final.output.concentrate_ag'] + full_data['final.output.concentrate_sol'])"
   ]
  },
  {
   "cell_type": "code",
   "execution_count": 26,
   "metadata": {},
   "outputs": [
    {
     "data": {
      "image/png": "[encoded data removed]",
      "text/plain": [
       "<Figure size 1040x800 with 1 Axes>"
      ]
     },
     "metadata": {
      "needs_background": "light"
     },
     "output_type": "display_data"
    }
   ],
   "source": [
    "plt.figure(figsize=(13,10), dpi= 80)\n",
    "\n",
    "sns.distplot(rougher_feed, color=\"dodgerblue\", label=\"В сырье\", hist_kws={'alpha':.5}, kde_kws={'linewidth':3})\n",
    "sns.distplot(rougher_concentrate, color=\"orange\", label=\"В черновом концентрате\", hist_kws={'alpha':.5}, kde_kws={'linewidth':3})\n",
    "sns.distplot(cleaner_concentrate, color=\"g\", label=\"В концентрате после первой очистки\", hist_kws={'alpha':.5}, kde_kws={'linewidth':3})\n",
    "sns.distplot(final_concentrate, color=\"deeppink\", label=\"В финальном концентрате\", hist_kws={'alpha':.5}, kde_kws={'linewidth':3})\n",
    "\n",
    "plt.ylim(0, 0.17)\n",
    "\n",
    "# Decoration\n",
    "plt.title('Суммарная концентрация металлов на разных стадиях', fontsize=20)\n",
    "plt.legend()\n",
    "plt.show()"
   ]
  },
  {
   "cell_type": "markdown",
   "metadata": {},
   "source": [
    "На графике видны аномальные значения, обработаем и построим график заново"
   ]
  },
  {
   "cell_type": "code",
   "execution_count": 27,
   "metadata": {},
   "outputs": [],
   "source": [
    "rougher_feed = rougher_feed[rougher_feed > 1]\n",
    "rougher_concentrate = rougher_concentrate[rougher_concentrate > 1]\n",
    "cleaner_concentrate = cleaner_concentrate[cleaner_concentrate > 1]\n",
    "final_concentrate = final_concentrate[final_concentrate > 1]"
   ]
  },
  {
   "cell_type": "code",
   "execution_count": 28,
   "metadata": {},
   "outputs": [
    {
     "data": {
      "image/png": "[encoded data removed]",
      "text/plain": [
       "<Figure size 1040x800 with 1 Axes>"
      ]
     },
     "metadata": {
      "needs_background": "light"
     },
     "output_type": "display_data"
    }
   ],
   "source": [
    "plt.figure(figsize=(13,10), dpi= 80)\n",
    "\n",
    "sns.distplot(rougher_feed, color=\"dodgerblue\", label=\"В сырье\", hist_kws={'alpha':.5}, kde_kws={'linewidth':3})\n",
    "sns.distplot(rougher_concentrate, color=\"orange\", label=\"В черновом концентрате\", hist_kws={'alpha':.5}, kde_kws={'linewidth':3})\n",
    "sns.distplot(cleaner_concentrate, color=\"g\", label=\"В концентрате после первой очистки\", hist_kws={'alpha':.5}, kde_kws={'linewidth':3})\n",
    "sns.distplot(final_concentrate, color=\"deeppink\", label=\"В финальном концентрате\", hist_kws={'alpha':.5}, kde_kws={'linewidth':3})\n",
    "\n",
    "plt.ylim(0, 0.17)\n",
    "\n",
    "# Decoration\n",
    "plt.title('Суммарная концентрация металлов на разных стадиях', fontsize=20)\n",
    "plt.legend()\n",
    "plt.show()"
   ]
  },
  {
   "cell_type": "markdown",
   "metadata": {},
   "source": [
    "Суммарная концентрация металлов в финальном концентрате больше, чем на предыдущих стадиях "
   ]
  },
  {
   "cell_type": "markdown",
   "metadata": {},
   "source": [
    "**Вывод к ШАГУ 2:**\n",
    "- Исследовано изменение концентрации металлов (Au, Ag, Pb) на различных этапах\n",
    "- Исследовано распределение размеров гранул исходного сырья на обучающей и тестовой выборках\n",
    "- Исследовано суммарная концентрация металлов на разных стадиях\n",
    "\n",
    "Так же в процессе исследования были найдены и обработаны аномальные значения"
   ]
  },
  {
   "cell_type": "markdown",
   "metadata": {},
   "source": [
    "## Модель"
   ]
  },
  {
   "cell_type": "markdown",
   "metadata": {},
   "source": [
    "**3.1.** Напишите функцию для вычисления итоговой sMAPE."
   ]
  },
  {
   "cell_type": "code",
   "execution_count": 29,
   "metadata": {},
   "outputs": [],
   "source": [
    "def sMAPE_final(rougher, final):\n",
    "    \n",
    "    return (.25 * rougher) + (.75 * final)\n",
    "    "
   ]
  },
  {
   "cell_type": "code",
   "execution_count": 30,
   "metadata": {},
   "outputs": [],
   "source": [
    "def sMAPE(y_true, y_pred):\n",
    "    error = abs(y_true - y_pred)\n",
    "    scale = (abs(y_true) + abs(y_pred)) / 2 + 0.000000001\n",
    "    result = (error / scale).mean()\n",
    "    return result * 100"
   ]
  },
  {
   "cell_type": "code",
   "execution_count": 31,
   "metadata": {},
   "outputs": [],
   "source": [
    "smape_scorer = make_scorer(sMAPE, greater_is_better=False)"
   ]
  },
  {
   "cell_type": "markdown",
   "metadata": {},
   "source": [
    "3.2. Обучите разные модели и оцените их качество кросс-валидацией. Выберите лучшую модель и проверьте её на тестовой выборке. Опишите выводы."
   ]
  },
  {
   "cell_type": "code",
   "execution_count": 32,
   "metadata": {},
   "outputs": [],
   "source": [
    "train_data = train_data.drop(['date'], axis=1)\n",
    "test_data = test_data.drop(['date'], axis=1)"
   ]
  },
  {
   "cell_type": "code",
   "execution_count": 33,
   "metadata": {},
   "outputs": [
    {
     "name": "stdout",
     "output_type": "stream",
     "text": [
      "Features Rougher на трейне = (14579, 52)\n",
      "Target Rougher на трейне = (14579,)\n",
      "\n",
      "Features Rougher на тестовой = (4860, 52)\n",
      "Target Rougher на тесте = (4860,)\n",
      "\n",
      "Features Final на трейне = (14579, 52)\n",
      "Target Final на трейне = (14579,)\n",
      "\n",
      "Features Final на тестовой = (4860, 52)\n",
      "Target Final на тесте = (4860,)\n"
     ]
    }
   ],
   "source": [
    "features_train_rougher = train_data\n",
    "features_test_rougher = test_data\n",
    "\n",
    "features_train_final = train_data\n",
    "features_test_final = test_data\n",
    "\n",
    "target_train_rougher = full_data.loc[features_train_rougher.index, 'rougher.output.recovery']\n",
    "target_test_rougher = full_data.loc[features_test_rougher.index, 'rougher.output.recovery']\n",
    "\n",
    "target_train_final = full_data.loc[features_train_final.index, 'final.output.recovery']\n",
    "target_test_final = full_data.loc[features_test_final.index, 'final.output.recovery']\n",
    "\n",
    "print(f'Features Rougher на трейне = {features_train_rougher.shape}')\n",
    "print(f'Target Rougher на трейне = {target_train_rougher.shape}') \n",
    "print()\n",
    "print(f'Features Rougher на тестовой = {features_test_rougher.shape}')\n",
    "print(f'Target Rougher на тесте = {target_test_rougher.shape}')\n",
    "\n",
    "print()\n",
    "print(f'Features Final на трейне = {features_train_final.shape}')\n",
    "print(f'Target Final на трейне = {target_train_final.shape}') \n",
    "print()\n",
    "print(f'Features Final на тестовой = {features_test_final.shape}')\n",
    "print(f'Target Final на тесте = {target_test_final.shape}')"
   ]
  },
  {
   "cell_type": "code",
   "execution_count": 34,
   "metadata": {},
   "outputs": [
    {
     "name": "stdout",
     "output_type": "stream",
     "text": [
      "CPU times: user 1.09 s, sys: 1.8 s, total: 2.89 s\n",
      "Wall time: 2.88 s\n"
     ]
    }
   ],
   "source": [
    "%%time\n",
    "model_lr = LinearRegression()\n",
    "\n",
    "model_rougher_lr = model_lr.fit(features_train_rougher, target_train_rougher)\n",
    "model_final_lr = model_lr.fit(features_train_final, target_train_final)\n",
    "\n",
    "scores_rougher = cross_val_score(model_lr,\n",
    "                          features_train_rougher,\n",
    "                          target_train_rougher,\n",
    "                          scoring=smape_scorer,\n",
    "                          cv=5)\n",
    "\n",
    "scores_final = cross_val_score(model_lr,\n",
    "                        features_train_final,\n",
    "                        target_train_final,\n",
    "                        scoring=smape_scorer,\n",
    "                        cv=5)\n",
    "\n",
    "final_scores_rougher_lr = pd.Series(scores_rougher).mean() \n",
    "final_scores_final_lr = pd.Series(scores_final).mean()"
   ]
  },
  {
   "cell_type": "code",
   "execution_count": 35,
   "metadata": {},
   "outputs": [
    {
     "name": "stdout",
     "output_type": "stream",
     "text": [
      "sMAPE финального концентрата = -13.781732828237228\n",
      "sMAPE на чернового концентрата = -11.169089731566947\n",
      "Итоговое sMAPE = -11.822250505734516\n"
     ]
    }
   ],
   "source": [
    "print(f'sMAPE финального концентрата = {final_scores_rougher_lr}')\n",
    "print(f'sMAPE на чернового концентрата = {final_scores_final_lr}')\n",
    "print(f'Итоговое sMAPE = {sMAPE_final(final_scores_rougher_lr, final_scores_final_lr)}')"
   ]
  },
  {
   "cell_type": "code",
   "execution_count": 36,
   "metadata": {},
   "outputs": [
    {
     "name": "stdout",
     "output_type": "stream",
     "text": [
      "CPU times: user 1min 1s, sys: 169 ms, total: 1min 1s\n",
      "Wall time: 1min 1s\n"
     ]
    }
   ],
   "source": [
    "%%time\n",
    "\n",
    "model_rfr = RandomForestRegressor(random_state=12345, n_estimators=12, max_depth=60, min_samples_leaf=4)\n",
    "            \n",
    "scores_rougher = cross_val_score(model_rfr,\n",
    "                                features_train_rougher,\n",
    "                                 target_train_rougher,\n",
    "                                 scoring=smape_scorer,\n",
    "                                 cv=5)\n",
    "            \n",
    "scores_final = cross_val_score(model_rfr,\n",
    "                               features_train_final,\n",
    "                               target_train_final,\n",
    "                               scoring=smape_scorer,\n",
    "                               cv=5)\n",
    "            \n",
    "            \n",
    "final_scores_rougher_rfr = pd.Series(scores_rougher).mean()\n",
    "final_scores_final_rfr = pd.Series(scores_final).mean()\n",
    "            "
   ]
  },
  {
   "cell_type": "code",
   "execution_count": 37,
   "metadata": {},
   "outputs": [
    {
     "name": "stdout",
     "output_type": "stream",
     "text": [
      "sMAPE финального концентрата = -15.414051587116045\n",
      "sMAPE на чернового концентрата = -11.977327655907157\n",
      "Итоговое sMAPE = -12.836508638709379\n"
     ]
    }
   ],
   "source": [
    "print(f'sMAPE финального концентрата = {final_scores_rougher_rfr}')\n",
    "print(f'sMAPE на чернового концентрата = {final_scores_final_rfr}')\n",
    "print(f'Итоговое sMAPE = {sMAPE_final(final_scores_rougher_rfr, final_scores_final_rfr)}')"
   ]
  },
  {
   "cell_type": "code",
   "execution_count": 38,
   "metadata": {},
   "outputs": [],
   "source": [
    "rf1 = DecisionTreeRegressor()\n",
    "parametrs = { 'max_depth': range (1,13, 2),\n",
    "              'min_samples_leaf': range (1,8)}"
   ]
  },
  {
   "cell_type": "code",
   "execution_count": 39,
   "metadata": {},
   "outputs": [],
   "source": [
    "grid = GridSearchCV(rf1, parametrs, cv=5)"
   ]
  },
  {
   "cell_type": "code",
   "execution_count": 40,
   "metadata": {},
   "outputs": [],
   "source": [
    "model_grid_rougher = grid.fit(features_train_rougher, target_train_rougher)\n",
    "model_grid_final = grid.fit(features_train_final, target_train_final)"
   ]
  },
  {
   "cell_type": "code",
   "execution_count": 41,
   "metadata": {},
   "outputs": [
    {
     "name": "stdout",
     "output_type": "stream",
     "text": [
      "rougher= {'max_depth': 3, 'min_samples_leaf': 7}\n",
      "final= {'max_depth': 3, 'min_samples_leaf': 7}\n"
     ]
    }
   ],
   "source": [
    "print('rougher=', model_grid_rougher.best_params_)\n",
    "print('final=', model_grid_final.best_params_)"
   ]
  },
  {
   "cell_type": "code",
   "execution_count": 42,
   "metadata": {},
   "outputs": [
    {
     "name": "stdout",
     "output_type": "stream",
     "text": [
      "CPU times: user 9min 33s, sys: 307 ms, total: 9min 34s\n",
      "Wall time: 9min 34s\n"
     ]
    }
   ],
   "source": [
    "%%time\n",
    "\n",
    "scores_rougher = cross_val_score(model_grid_rougher,\n",
    "                          features_train_rougher,\n",
    "                          target_train_rougher,\n",
    "                          scoring=smape_scorer,\n",
    "                          cv=5)\n",
    "\n",
    "scores_final = cross_val_score(model_grid_final,\n",
    "                        features_train_final,\n",
    "                        target_train_final,\n",
    "                        scoring=smape_scorer,\n",
    "                        cv=5)\n",
    "\n",
    "final_scores_rougher_dtr = pd.Series(scores_rougher).mean() \n",
    "final_scores_final_dtr = pd.Series(scores_final).mean()"
   ]
  },
  {
   "cell_type": "code",
   "execution_count": 43,
   "metadata": {},
   "outputs": [
    {
     "name": "stdout",
     "output_type": "stream",
     "text": [
      "sMAPE финального концентрата = -14.50885028234874\n",
      "sMAPE на чернового концентрата = -11.12728820340655\n",
      "Итоговое sMAPE = -11.972678723142097\n"
     ]
    }
   ],
   "source": [
    "print(f'sMAPE финального концентрата = {final_scores_rougher_dtr}')\n",
    "print(f'sMAPE на чернового концентрата = {final_scores_final_dtr}')\n",
    "print(f'Итоговое sMAPE = {sMAPE_final(final_scores_rougher_dtr, final_scores_final_dtr)}')"
   ]
  },
  {
   "cell_type": "markdown",
   "metadata": {},
   "source": [
    "**ТЕСТИРОВАНИЕ МОДЕЛИ**"
   ]
  },
  {
   "cell_type": "code",
   "execution_count": 44,
   "metadata": {},
   "outputs": [
    {
     "name": "stdout",
     "output_type": "stream",
     "text": [
      "Итоговое sMAPE = 13.97809578804573\n",
      "CPU times: user 410 ms, sys: 990 ms, total: 1.4 s\n",
      "Wall time: 1.39 s\n"
     ]
    }
   ],
   "source": [
    "%%time\n",
    "\n",
    "model = LinearRegression()\n",
    "\n",
    "model_rougher = model.fit(features_train_rougher, target_train_rougher)\n",
    "predicted_rougher = model_rougher.predict(features_test_rougher)\n",
    "\n",
    "\n",
    "model_final = model.fit(features_train_final, target_train_final)\n",
    "predicted_final = model_rougher.predict(features_test_final)\n",
    "\n",
    "rougher = sMAPE(target_test_rougher, predicted_rougher)\n",
    "final = sMAPE(target_test_final, predicted_final)\n",
    "\n",
    "final_smape_test = sMAPE_final(rougher, final)\n",
    "\n",
    "print(f'Итоговое sMAPE = {final_smape_test}')"
   ]
  },
  {
   "cell_type": "markdown",
   "metadata": {},
   "source": [
    "Симметричное среднее абсолютное процентное отклонение на тестовой модели больше предыдущих результатов, далее необходимо проверить модель на адекватность."
   ]
  },
  {
   "cell_type": "code",
   "execution_count": 45,
   "metadata": {},
   "outputs": [],
   "source": [
    "dummy_regr = DummyRegressor(strategy=\"median\")"
   ]
  },
  {
   "cell_type": "code",
   "execution_count": 46,
   "metadata": {},
   "outputs": [],
   "source": [
    "dummy_rougher = dummy_regr.fit(features_train_rougher, target_train_rougher)\n",
    "dummy_final = dummy_regr.fit(features_train_final, target_train_final)"
   ]
  },
  {
   "cell_type": "code",
   "execution_count": 47,
   "metadata": {},
   "outputs": [],
   "source": [
    "dummy_pred_rougher = dummy_regr.predict(features_test_rougher)\n",
    "dummy_pred_final = dummy_regr.predict(features_test_final)"
   ]
  },
  {
   "cell_type": "code",
   "execution_count": 48,
   "metadata": {},
   "outputs": [],
   "source": [
    "rougher_sMAPE = sMAPE(target_test_rougher, dummy_pred_rougher)\n",
    "final_sMAPE = sMAPE(target_test_final, dummy_pred_final)"
   ]
  },
  {
   "cell_type": "code",
   "execution_count": 49,
   "metadata": {},
   "outputs": [],
   "source": [
    "final_sMAPE = sMAPE_final(rougher_sMAPE, final_sMAPE)"
   ]
  },
  {
   "cell_type": "code",
   "execution_count": 50,
   "metadata": {},
   "outputs": [
    {
     "data": {
      "text/plain": [
       "13.679839716793428"
      ]
     },
     "execution_count": 50,
     "metadata": {},
     "output_type": "execute_result"
    }
   ],
   "source": [
    "final_sMAPE"
   ]
  },
  {
   "cell_type": "markdown",
   "metadata": {},
   "source": [
    "Значение финальной модели = 13.97809578804573\n",
    "\n",
    "Значение фиктивной модели = 13.679839716793428\n",
    "\n",
    "Хоть и не сильно, но значение финальной модели больше фиктивной."
   ]
  },
  {
   "cell_type": "markdown",
   "metadata": {},
   "source": [
    "**Вывод к ШАГУ 3:**\n",
    "\n",
    "- Реализаваны функции для вычисления sMAPE\n",
    "- Обучены три модели и исследовано их качество кросс-валидацией\n",
    "- Для тестовой выборки обучили модель LinearRegression()\n",
    "- Проверили модель на адекватность"
   ]
  },
  {
   "cell_type": "markdown",
   "metadata": {},
   "source": [
    "**ИТОГОВЫЙ ВЫВОД:**"
   ]
  },
  {
   "cell_type": "markdown",
   "metadata": {},
   "source": [
    "В распоряжении были данные организации ЦИФРЫ, что разрабатывает решения для эффективной работы промышленных предприятий.\n",
    "\n",
    "Задача проекта - прогноз величин:\n",
    "- эффективность обогащения чернового концентрата\n",
    "- эффективность обогащения финального концентрата\n",
    "\n",
    "В процессе работы выполнены следубщие шаги:\n",
    "- Данные исследованы и обработаны для последующих манипуляций\n",
    "- Исследовательский анализ данных:\n",
    "     - Исследовано изменение концентрации металло:\n",
    "          - Концентрация золота после первичной очистки уменьшается, и возрастает в финальном концентрате.\n",
    "          - Концентрация серебра начинает постепенно возратать начиная с первичной очистки, финальный концентрат достиг отметку ~0.33.\n",
    "          - Концентрация свинца снижается на первых трёх этапах и в финальном концентрате начинает повышаться.\n",
    "     - Исследовано распределение размеров гранул:\n",
    "          - Они находятся в одном диапазоне.\n",
    "     - Исследовано суммарная концентрация металлов:\n",
    "          - В финальном концентрате суммарная концентрация металлов повышается.\n",
    "- Обучены разные модели и исследовано их качество кросс-валидацией\n",
    "- С помощью фиктивного классификатора DummyRegressor, проверили модель на адекватность. Значение фиктивного классификатора меньше значения финальной модели"
   ]
  },
  {
   "cell_type": "markdown",
   "metadata": {},
   "source": [
    "Для тестирования была выбрана модель LinearRegression()\n",
    "\n",
    "Симметричное среднее абсолютное процентное отклонение на тестовой модели = 13.97809578804573\n"
   ]
  }
 ],
 "metadata": {
  "ExecuteTimeLog": [
   {
    "duration": 446,
    "start_time": "2023-05-08T08:58:37.193Z"
   },
   {
    "duration": 109,
    "start_time": "2023-05-08T08:58:37.903Z"
   },
   {
    "duration": 3,
    "start_time": "2023-05-08T08:59:11.936Z"
   },
   {
    "duration": 51,
    "start_time": "2023-05-08T08:59:12.707Z"
   },
   {
    "duration": 48,
    "start_time": "2023-05-08T08:59:30.957Z"
   },
   {
    "duration": 2974,
    "start_time": "2023-05-08T09:00:43.949Z"
   },
   {
    "duration": 20,
    "start_time": "2023-05-08T09:01:22.723Z"
   },
   {
    "duration": 15,
    "start_time": "2023-05-08T09:02:04.136Z"
   },
   {
    "duration": 19,
    "start_time": "2023-05-08T09:02:04.921Z"
   },
   {
    "duration": 17,
    "start_time": "2023-05-08T09:12:26.028Z"
   },
   {
    "duration": 10,
    "start_time": "2023-05-08T09:12:43.864Z"
   },
   {
    "duration": 8,
    "start_time": "2023-05-08T09:13:02.032Z"
   },
   {
    "duration": 13,
    "start_time": "2023-05-08T09:13:16.315Z"
   },
   {
    "duration": 47,
    "start_time": "2023-05-08T09:25:20.154Z"
   },
   {
    "duration": 27,
    "start_time": "2023-05-08T09:25:45.941Z"
   },
   {
    "duration": 35,
    "start_time": "2023-05-08T09:25:50.211Z"
   },
   {
    "duration": 21,
    "start_time": "2023-05-08T09:26:06.172Z"
   },
   {
    "duration": 22,
    "start_time": "2023-05-08T09:26:09.793Z"
   },
   {
    "duration": 17,
    "start_time": "2023-05-08T09:26:15.945Z"
   },
   {
    "duration": 12,
    "start_time": "2023-05-08T09:26:29.179Z"
   },
   {
    "duration": 10,
    "start_time": "2023-05-08T09:26:31.462Z"
   },
   {
    "duration": 38,
    "start_time": "2023-05-08T09:26:39.801Z"
   },
   {
    "duration": 25,
    "start_time": "2023-05-08T09:27:13.593Z"
   },
   {
    "duration": 14,
    "start_time": "2023-05-08T09:27:45.666Z"
   },
   {
    "duration": 35,
    "start_time": "2023-05-08T09:29:07.868Z"
   },
   {
    "duration": 12,
    "start_time": "2023-05-08T09:29:15.271Z"
   },
   {
    "duration": 22,
    "start_time": "2023-05-08T09:29:19.491Z"
   },
   {
    "duration": 416,
    "start_time": "2023-05-08T13:30:36.063Z"
   },
   {
    "duration": 2782,
    "start_time": "2023-05-08T13:30:36.482Z"
   },
   {
    "duration": 17,
    "start_time": "2023-05-08T13:30:39.265Z"
   },
   {
    "duration": 12,
    "start_time": "2023-05-08T13:30:39.284Z"
   },
   {
    "duration": 17,
    "start_time": "2023-05-08T13:30:39.298Z"
   },
   {
    "duration": 40,
    "start_time": "2023-05-08T13:30:39.316Z"
   },
   {
    "duration": 9,
    "start_time": "2023-05-08T13:30:39.358Z"
   },
   {
    "duration": 11,
    "start_time": "2023-05-08T13:30:39.370Z"
   },
   {
    "duration": 31,
    "start_time": "2023-05-08T13:30:39.383Z"
   },
   {
    "duration": 33,
    "start_time": "2023-05-08T13:30:39.416Z"
   },
   {
    "duration": 24,
    "start_time": "2023-05-08T13:30:39.450Z"
   },
   {
    "duration": 4,
    "start_time": "2023-05-08T13:57:09.129Z"
   },
   {
    "duration": 9,
    "start_time": "2023-05-08T13:57:10.356Z"
   },
   {
    "duration": 15,
    "start_time": "2023-05-08T13:57:18.630Z"
   },
   {
    "duration": 3,
    "start_time": "2023-05-08T14:00:02.306Z"
   },
   {
    "duration": 7,
    "start_time": "2023-05-08T14:00:03.477Z"
   },
   {
    "duration": 5,
    "start_time": "2023-05-08T14:00:14.488Z"
   },
   {
    "duration": 775,
    "start_time": "2023-05-08T14:00:50.700Z"
   },
   {
    "duration": 142,
    "start_time": "2023-05-08T14:03:01.878Z"
   },
   {
    "duration": 4,
    "start_time": "2023-05-08T14:03:55.088Z"
   },
   {
    "duration": 5,
    "start_time": "2023-05-08T14:03:55.381Z"
   },
   {
    "duration": 14,
    "start_time": "2023-05-08T14:03:55.874Z"
   },
   {
    "duration": 3,
    "start_time": "2023-05-08T14:04:31.128Z"
   },
   {
    "duration": 871,
    "start_time": "2023-05-08T14:04:31.278Z"
   },
   {
    "duration": 29,
    "start_time": "2023-05-08T14:04:32.152Z"
   },
   {
    "duration": 14,
    "start_time": "2023-05-08T14:04:32.183Z"
   },
   {
    "duration": 26,
    "start_time": "2023-05-08T14:04:32.199Z"
   },
   {
    "duration": 16,
    "start_time": "2023-05-08T14:04:32.241Z"
   },
   {
    "duration": 11,
    "start_time": "2023-05-08T14:04:32.263Z"
   },
   {
    "duration": 10,
    "start_time": "2023-05-08T14:04:32.464Z"
   },
   {
    "duration": 16,
    "start_time": "2023-05-08T14:04:32.655Z"
   },
   {
    "duration": 11,
    "start_time": "2023-05-08T14:04:32.865Z"
   },
   {
    "duration": 21,
    "start_time": "2023-05-08T14:04:33.052Z"
   },
   {
    "duration": 92,
    "start_time": "2023-05-08T14:04:33.223Z"
   },
   {
    "duration": 86,
    "start_time": "2023-05-08T14:04:33.422Z"
   },
   {
    "duration": 9,
    "start_time": "2023-05-08T14:04:33.604Z"
   },
   {
    "duration": 78,
    "start_time": "2023-05-08T14:04:33.802Z"
   },
   {
    "duration": 3,
    "start_time": "2023-05-08T14:04:34.005Z"
   },
   {
    "duration": 4,
    "start_time": "2023-05-08T14:04:34.200Z"
   },
   {
    "duration": 13,
    "start_time": "2023-05-08T14:04:34.796Z"
   },
   {
    "duration": 4,
    "start_time": "2023-05-08T14:04:47.457Z"
   },
   {
    "duration": 5,
    "start_time": "2023-05-08T14:04:47.869Z"
   },
   {
    "duration": 21,
    "start_time": "2023-05-08T14:04:53.154Z"
   },
   {
    "duration": 20,
    "start_time": "2023-05-08T14:05:00.828Z"
   },
   {
    "duration": 15,
    "start_time": "2023-05-08T14:05:04.766Z"
   },
   {
    "duration": 8,
    "start_time": "2023-05-08T14:06:41.590Z"
   },
   {
    "duration": 5,
    "start_time": "2023-05-08T14:06:42.451Z"
   },
   {
    "duration": 5,
    "start_time": "2023-05-08T14:06:42.906Z"
   },
   {
    "duration": 14,
    "start_time": "2023-05-08T14:06:43.472Z"
   },
   {
    "duration": 13,
    "start_time": "2023-05-08T14:08:01.253Z"
   },
   {
    "duration": 13,
    "start_time": "2023-05-08T14:08:02.168Z"
   },
   {
    "duration": 14,
    "start_time": "2023-05-08T14:08:10.590Z"
   },
   {
    "duration": 15,
    "start_time": "2023-05-08T14:08:11.067Z"
   },
   {
    "duration": 4,
    "start_time": "2023-05-08T14:09:23.173Z"
   },
   {
    "duration": 11,
    "start_time": "2023-05-08T14:09:23.637Z"
   },
   {
    "duration": 17,
    "start_time": "2023-05-08T14:09:24.238Z"
   },
   {
    "duration": 18,
    "start_time": "2023-05-08T14:10:13.615Z"
   },
   {
    "duration": 3,
    "start_time": "2023-05-08T14:10:14.084Z"
   },
   {
    "duration": 6,
    "start_time": "2023-05-08T14:10:14.646Z"
   },
   {
    "duration": 21,
    "start_time": "2023-05-08T14:10:15.170Z"
   },
   {
    "duration": 2,
    "start_time": "2023-05-08T14:17:35.949Z"
   },
   {
    "duration": 4,
    "start_time": "2023-05-08T14:17:43.002Z"
   },
   {
    "duration": 13,
    "start_time": "2023-05-08T14:17:43.557Z"
   },
   {
    "duration": 1068,
    "start_time": "2023-05-09T09:46:01.465Z"
   },
   {
    "duration": 2880,
    "start_time": "2023-05-09T09:46:02.535Z"
   },
   {
    "duration": 19,
    "start_time": "2023-05-09T09:46:05.417Z"
   },
   {
    "duration": 12,
    "start_time": "2023-05-09T09:46:05.438Z"
   },
   {
    "duration": 20,
    "start_time": "2023-05-09T09:46:05.452Z"
   },
   {
    "duration": 24,
    "start_time": "2023-05-09T09:46:05.473Z"
   },
   {
    "duration": 8,
    "start_time": "2023-05-09T09:46:05.499Z"
   },
   {
    "duration": 8,
    "start_time": "2023-05-09T09:46:05.509Z"
   },
   {
    "duration": 27,
    "start_time": "2023-05-09T09:46:05.519Z"
   },
   {
    "duration": 10,
    "start_time": "2023-05-09T09:46:05.549Z"
   },
   {
    "duration": 27,
    "start_time": "2023-05-09T09:46:05.586Z"
   },
   {
    "duration": 4,
    "start_time": "2023-05-09T09:46:05.616Z"
   },
   {
    "duration": 6,
    "start_time": "2023-05-09T09:46:05.621Z"
   },
   {
    "duration": 131,
    "start_time": "2023-05-09T09:46:05.629Z"
   },
   {
    "duration": 3,
    "start_time": "2023-05-09T09:46:29.298Z"
   },
   {
    "duration": 5,
    "start_time": "2023-05-09T09:46:30.214Z"
   },
   {
    "duration": 5,
    "start_time": "2023-05-09T09:46:30.850Z"
   },
   {
    "duration": 4,
    "start_time": "2023-05-09T09:46:56.143Z"
   },
   {
    "duration": 5,
    "start_time": "2023-05-09T09:46:56.537Z"
   },
   {
    "duration": 5,
    "start_time": "2023-05-09T09:52:31.986Z"
   },
   {
    "duration": 4,
    "start_time": "2023-05-09T09:52:32.383Z"
   },
   {
    "duration": 11,
    "start_time": "2023-05-09T10:05:44.654Z"
   },
   {
    "duration": 3,
    "start_time": "2023-05-09T10:06:05.417Z"
   },
   {
    "duration": 5,
    "start_time": "2023-05-09T10:06:06.486Z"
   },
   {
    "duration": 3,
    "start_time": "2023-05-09T10:06:06.689Z"
   },
   {
    "duration": 12,
    "start_time": "2023-05-09T10:06:07.360Z"
   },
   {
    "duration": 4,
    "start_time": "2023-05-09T10:06:19.986Z"
   },
   {
    "duration": 2,
    "start_time": "2023-05-09T10:06:31.282Z"
   },
   {
    "duration": 3,
    "start_time": "2023-05-09T10:07:15.820Z"
   },
   {
    "duration": 9,
    "start_time": "2023-05-09T10:07:16.403Z"
   },
   {
    "duration": 10,
    "start_time": "2023-05-09T10:07:39.929Z"
   },
   {
    "duration": 3,
    "start_time": "2023-05-09T10:08:01.926Z"
   },
   {
    "duration": 3,
    "start_time": "2023-05-09T10:08:13.921Z"
   },
   {
    "duration": 9,
    "start_time": "2023-05-09T10:08:14.382Z"
   },
   {
    "duration": 3,
    "start_time": "2023-05-09T10:08:38.106Z"
   },
   {
    "duration": 3,
    "start_time": "2023-05-09T10:08:46.875Z"
   },
   {
    "duration": 8,
    "start_time": "2023-05-09T10:08:47.110Z"
   },
   {
    "duration": 3,
    "start_time": "2023-05-09T10:10:03.820Z"
   },
   {
    "duration": 4,
    "start_time": "2023-05-09T10:10:04.213Z"
   },
   {
    "duration": 56,
    "start_time": "2023-05-09T10:17:13.195Z"
   },
   {
    "duration": 40,
    "start_time": "2023-05-09T10:17:19.464Z"
   },
   {
    "duration": 56,
    "start_time": "2023-05-09T10:17:23.389Z"
   },
   {
    "duration": 2,
    "start_time": "2023-05-09T10:17:37.815Z"
   },
   {
    "duration": 777,
    "start_time": "2023-05-09T10:17:38.103Z"
   },
   {
    "duration": 18,
    "start_time": "2023-05-09T10:17:38.882Z"
   },
   {
    "duration": 12,
    "start_time": "2023-05-09T10:17:38.902Z"
   },
   {
    "duration": 17,
    "start_time": "2023-05-09T10:17:38.953Z"
   },
   {
    "duration": 11,
    "start_time": "2023-05-09T10:17:39.162Z"
   },
   {
    "duration": 7,
    "start_time": "2023-05-09T10:17:39.339Z"
   },
   {
    "duration": 10,
    "start_time": "2023-05-09T10:17:39.520Z"
   },
   {
    "duration": 16,
    "start_time": "2023-05-09T10:17:39.687Z"
   },
   {
    "duration": 10,
    "start_time": "2023-05-09T10:17:39.904Z"
   },
   {
    "duration": 20,
    "start_time": "2023-05-09T10:17:40.069Z"
   },
   {
    "duration": 4,
    "start_time": "2023-05-09T10:17:40.612Z"
   },
   {
    "duration": 5,
    "start_time": "2023-05-09T10:17:40.781Z"
   },
   {
    "duration": 6,
    "start_time": "2023-05-09T10:17:40.989Z"
   },
   {
    "duration": 44,
    "start_time": "2023-05-09T10:17:58.780Z"
   },
   {
    "duration": 45,
    "start_time": "2023-05-09T10:18:04.330Z"
   },
   {
    "duration": 8,
    "start_time": "2023-05-09T10:19:58.969Z"
   },
   {
    "duration": 3,
    "start_time": "2023-05-09T10:20:14.681Z"
   },
   {
    "duration": 3,
    "start_time": "2023-05-09T10:20:18.853Z"
   },
   {
    "duration": 5,
    "start_time": "2023-05-09T10:20:25.911Z"
   },
   {
    "duration": 6,
    "start_time": "2023-05-09T10:20:37.213Z"
   },
   {
    "duration": 3,
    "start_time": "2023-05-09T10:20:49.715Z"
   },
   {
    "duration": 3,
    "start_time": "2023-05-09T10:21:18.112Z"
   },
   {
    "duration": 3,
    "start_time": "2023-05-09T10:21:37.614Z"
   },
   {
    "duration": 3,
    "start_time": "2023-05-09T10:21:39.494Z"
   },
   {
    "duration": 3,
    "start_time": "2023-05-09T10:21:39.812Z"
   },
   {
    "duration": 4,
    "start_time": "2023-05-09T10:21:40.178Z"
   },
   {
    "duration": 59,
    "start_time": "2023-05-09T10:22:17.061Z"
   },
   {
    "duration": 3,
    "start_time": "2023-05-09T10:22:21.404Z"
   },
   {
    "duration": 4,
    "start_time": "2023-05-09T10:22:22.268Z"
   },
   {
    "duration": 2,
    "start_time": "2023-05-09T10:22:30.817Z"
   },
   {
    "duration": 3,
    "start_time": "2023-05-09T10:22:31.227Z"
   },
   {
    "duration": 3,
    "start_time": "2023-05-09T10:22:31.595Z"
   },
   {
    "duration": 3,
    "start_time": "2023-05-09T10:22:47.066Z"
   },
   {
    "duration": 4,
    "start_time": "2023-05-09T10:22:53.113Z"
   },
   {
    "duration": 3,
    "start_time": "2023-05-09T10:23:15.709Z"
   },
   {
    "duration": 6,
    "start_time": "2023-05-09T10:23:15.713Z"
   },
   {
    "duration": 16,
    "start_time": "2023-05-09T10:23:15.720Z"
   },
   {
    "duration": 2,
    "start_time": "2023-05-09T10:24:41.189Z"
   },
   {
    "duration": 4,
    "start_time": "2023-05-09T10:24:41.874Z"
   },
   {
    "duration": 3,
    "start_time": "2023-05-09T10:24:50.586Z"
   },
   {
    "duration": 3,
    "start_time": "2023-05-09T10:24:50.776Z"
   },
   {
    "duration": 3,
    "start_time": "2023-05-09T10:24:53.274Z"
   },
   {
    "duration": 3,
    "start_time": "2023-05-09T10:24:53.734Z"
   },
   {
    "duration": 4,
    "start_time": "2023-05-09T10:24:53.968Z"
   },
   {
    "duration": 3,
    "start_time": "2023-05-09T10:25:12.413Z"
   },
   {
    "duration": 4,
    "start_time": "2023-05-09T10:25:12.653Z"
   },
   {
    "duration": 3,
    "start_time": "2023-05-09T10:25:51.217Z"
   },
   {
    "duration": 3,
    "start_time": "2023-05-09T10:25:51.495Z"
   },
   {
    "duration": 3,
    "start_time": "2023-05-09T10:26:09.929Z"
   },
   {
    "duration": 3,
    "start_time": "2023-05-09T10:26:10.150Z"
   },
   {
    "duration": 4,
    "start_time": "2023-05-09T10:26:51.460Z"
   },
   {
    "duration": 10,
    "start_time": "2023-05-09T10:27:35.014Z"
   },
   {
    "duration": 3,
    "start_time": "2023-05-09T10:27:46.997Z"
   },
   {
    "duration": 2,
    "start_time": "2023-05-09T10:27:47.209Z"
   },
   {
    "duration": 2,
    "start_time": "2023-05-09T10:28:10.622Z"
   },
   {
    "duration": 4,
    "start_time": "2023-05-09T10:28:18.734Z"
   },
   {
    "duration": 49,
    "start_time": "2023-05-09T10:28:34.223Z"
   },
   {
    "duration": 4,
    "start_time": "2023-05-09T10:29:07.660Z"
   },
   {
    "duration": 9,
    "start_time": "2023-05-09T10:30:27.988Z"
   },
   {
    "duration": 3,
    "start_time": "2023-05-09T10:32:31.734Z"
   },
   {
    "duration": 3,
    "start_time": "2023-05-09T10:34:49.020Z"
   },
   {
    "duration": 8,
    "start_time": "2023-05-09T10:35:17.663Z"
   },
   {
    "duration": 10,
    "start_time": "2023-05-09T10:35:48.842Z"
   },
   {
    "duration": 11,
    "start_time": "2023-05-09T10:35:49.254Z"
   },
   {
    "duration": 11,
    "start_time": "2023-05-09T10:36:22.049Z"
   },
   {
    "duration": 16,
    "start_time": "2023-05-09T10:36:37.554Z"
   },
   {
    "duration": 4,
    "start_time": "2023-05-09T10:36:51.958Z"
   },
   {
    "duration": 4,
    "start_time": "2023-05-09T10:37:37.569Z"
   },
   {
    "duration": 11,
    "start_time": "2023-05-09T10:37:38.194Z"
   },
   {
    "duration": 5,
    "start_time": "2023-05-09T10:37:45.486Z"
   },
   {
    "duration": 8,
    "start_time": "2023-05-09T10:38:19.739Z"
   },
   {
    "duration": 6,
    "start_time": "2023-05-09T10:40:26.852Z"
   },
   {
    "duration": 9,
    "start_time": "2023-05-09T10:40:27.545Z"
   },
   {
    "duration": 5,
    "start_time": "2023-05-09T10:41:01.044Z"
   },
   {
    "duration": 5,
    "start_time": "2023-05-09T10:41:17.214Z"
   },
   {
    "duration": 10,
    "start_time": "2023-05-09T10:41:18.118Z"
   },
   {
    "duration": 12,
    "start_time": "2023-05-09T10:41:29.665Z"
   },
   {
    "duration": 4,
    "start_time": "2023-05-09T10:42:02.885Z"
   },
   {
    "duration": 10,
    "start_time": "2023-05-09T10:42:03.140Z"
   },
   {
    "duration": 12,
    "start_time": "2023-05-09T10:42:08.602Z"
   },
   {
    "duration": 5,
    "start_time": "2023-05-09T10:42:15.421Z"
   },
   {
    "duration": 8,
    "start_time": "2023-05-09T10:42:15.975Z"
   },
   {
    "duration": 4,
    "start_time": "2023-05-09T10:42:53.051Z"
   },
   {
    "duration": 5,
    "start_time": "2023-05-09T10:42:58.173Z"
   },
   {
    "duration": 12,
    "start_time": "2023-05-09T10:43:22.657Z"
   },
   {
    "duration": 5,
    "start_time": "2023-05-09T10:43:34.345Z"
   },
   {
    "duration": 6,
    "start_time": "2023-05-09T10:44:02.025Z"
   },
   {
    "duration": 14,
    "start_time": "2023-05-09T10:44:10.674Z"
   },
   {
    "duration": 5,
    "start_time": "2023-05-09T10:44:14.924Z"
   },
   {
    "duration": 5,
    "start_time": "2023-05-09T10:45:23.118Z"
   },
   {
    "duration": 5,
    "start_time": "2023-05-09T10:45:42.090Z"
   },
   {
    "duration": 12,
    "start_time": "2023-05-09T10:46:09.942Z"
   },
   {
    "duration": 12,
    "start_time": "2023-05-09T10:46:13.707Z"
   },
   {
    "duration": 9,
    "start_time": "2023-05-09T10:46:21.616Z"
   },
   {
    "duration": 6,
    "start_time": "2023-05-09T10:46:26.477Z"
   },
   {
    "duration": 10,
    "start_time": "2023-05-09T10:46:36.945Z"
   },
   {
    "duration": 5,
    "start_time": "2023-05-09T10:46:43.422Z"
   },
   {
    "duration": 5,
    "start_time": "2023-05-09T10:46:54.354Z"
   },
   {
    "duration": 4,
    "start_time": "2023-05-09T10:48:03.156Z"
   },
   {
    "duration": 7,
    "start_time": "2023-05-09T10:48:03.741Z"
   },
   {
    "duration": 5,
    "start_time": "2023-05-09T10:48:39.670Z"
   },
   {
    "duration": 17,
    "start_time": "2023-05-09T10:48:40.195Z"
   },
   {
    "duration": 4,
    "start_time": "2023-05-09T10:48:53.020Z"
   },
   {
    "duration": 9,
    "start_time": "2023-05-09T10:48:53.322Z"
   },
   {
    "duration": 5,
    "start_time": "2023-05-09T10:49:51.390Z"
   },
   {
    "duration": 8,
    "start_time": "2023-05-09T10:49:52.151Z"
   },
   {
    "duration": 5,
    "start_time": "2023-05-09T10:50:21.790Z"
   },
   {
    "duration": 5,
    "start_time": "2023-05-09T10:51:06.369Z"
   },
   {
    "duration": 8,
    "start_time": "2023-05-09T10:51:07.644Z"
   },
   {
    "duration": 6,
    "start_time": "2023-05-09T10:51:16.527Z"
   },
   {
    "duration": 10,
    "start_time": "2023-05-09T10:51:16.809Z"
   },
   {
    "duration": 4,
    "start_time": "2023-05-09T10:51:35.345Z"
   },
   {
    "duration": 9,
    "start_time": "2023-05-09T10:51:35.850Z"
   },
   {
    "duration": 4,
    "start_time": "2023-05-09T10:54:06.902Z"
   },
   {
    "duration": 13,
    "start_time": "2023-05-09T10:54:07.856Z"
   },
   {
    "duration": 49,
    "start_time": "2023-05-09T10:54:18.000Z"
   },
   {
    "duration": 17,
    "start_time": "2023-05-09T10:54:18.244Z"
   },
   {
    "duration": 4,
    "start_time": "2023-05-09T10:54:29.194Z"
   },
   {
    "duration": 8,
    "start_time": "2023-05-09T10:54:29.678Z"
   },
   {
    "duration": 7,
    "start_time": "2023-05-09T10:55:04.606Z"
   },
   {
    "duration": 12,
    "start_time": "2023-05-09T10:55:05.149Z"
   },
   {
    "duration": 6,
    "start_time": "2023-05-09T10:55:39.450Z"
   },
   {
    "duration": 16,
    "start_time": "2023-05-09T10:55:39.950Z"
   },
   {
    "duration": 5,
    "start_time": "2023-05-09T10:55:46.541Z"
   },
   {
    "duration": 19,
    "start_time": "2023-05-09T10:55:47.143Z"
   },
   {
    "duration": 8,
    "start_time": "2023-05-09T10:55:56.745Z"
   },
   {
    "duration": 13,
    "start_time": "2023-05-09T10:55:56.954Z"
   },
   {
    "duration": 13,
    "start_time": "2023-05-09T10:56:24.553Z"
   },
   {
    "duration": 12,
    "start_time": "2023-05-09T10:57:26.690Z"
   },
   {
    "duration": 15,
    "start_time": "2023-05-09T10:57:33.076Z"
   },
   {
    "duration": 17,
    "start_time": "2023-05-09T10:58:02.176Z"
   },
   {
    "duration": 12,
    "start_time": "2023-05-09T10:58:15.584Z"
   },
   {
    "duration": 11,
    "start_time": "2023-05-09T10:58:23.893Z"
   },
   {
    "duration": 47,
    "start_time": "2023-05-09T11:13:10.446Z"
   },
   {
    "duration": 12,
    "start_time": "2023-05-09T11:14:47.360Z"
   },
   {
    "duration": 22,
    "start_time": "2023-05-09T11:24:26.056Z"
   },
   {
    "duration": 12,
    "start_time": "2023-05-09T11:24:44.447Z"
   },
   {
    "duration": 142,
    "start_time": "2023-05-09T11:24:44.753Z"
   },
   {
    "duration": 73,
    "start_time": "2023-05-09T11:24:50.447Z"
   },
   {
    "duration": 144,
    "start_time": "2023-05-09T11:24:50.850Z"
   },
   {
    "duration": 4586,
    "start_time": "2023-05-09T11:30:39.748Z"
   },
   {
    "duration": 9,
    "start_time": "2023-05-09T11:31:01.113Z"
   },
   {
    "duration": 6,
    "start_time": "2023-05-09T11:31:13.444Z"
   },
   {
    "duration": 39,
    "start_time": "2023-05-09T11:31:21.202Z"
   },
   {
    "duration": 50,
    "start_time": "2023-05-09T11:31:43.523Z"
   },
   {
    "duration": 58,
    "start_time": "2023-05-09T11:31:52.056Z"
   },
   {
    "duration": 5,
    "start_time": "2023-05-09T11:32:02.058Z"
   },
   {
    "duration": 9,
    "start_time": "2023-05-09T11:32:09.305Z"
   },
   {
    "duration": 6,
    "start_time": "2023-05-09T11:32:15.075Z"
   },
   {
    "duration": 5,
    "start_time": "2023-05-09T11:34:18.209Z"
   },
   {
    "duration": 6,
    "start_time": "2023-05-09T11:34:31.004Z"
   },
   {
    "duration": 5,
    "start_time": "2023-05-09T11:35:19.575Z"
   },
   {
    "duration": 5,
    "start_time": "2023-05-09T11:35:37.247Z"
   },
   {
    "duration": 21,
    "start_time": "2023-05-09T11:37:07.884Z"
   },
   {
    "duration": 15,
    "start_time": "2023-05-09T11:37:17.165Z"
   },
   {
    "duration": 12,
    "start_time": "2023-05-09T11:37:48.860Z"
   },
   {
    "duration": 26,
    "start_time": "2023-05-09T11:37:55.304Z"
   },
   {
    "duration": 53,
    "start_time": "2023-05-09T11:37:55.544Z"
   },
   {
    "duration": 143,
    "start_time": "2023-05-09T11:37:55.971Z"
   },
   {
    "duration": 10,
    "start_time": "2023-05-09T11:37:56.183Z"
   },
   {
    "duration": 5,
    "start_time": "2023-05-09T11:37:56.462Z"
   },
   {
    "duration": 1168,
    "start_time": "2023-05-09T11:38:04.816Z"
   },
   {
    "duration": 841,
    "start_time": "2023-05-09T11:38:05.987Z"
   },
   {
    "duration": 25,
    "start_time": "2023-05-09T11:38:06.830Z"
   },
   {
    "duration": 29,
    "start_time": "2023-05-09T11:38:06.858Z"
   },
   {
    "duration": 23,
    "start_time": "2023-05-09T11:38:06.891Z"
   },
   {
    "duration": 19,
    "start_time": "2023-05-09T11:38:06.916Z"
   },
   {
    "duration": 8,
    "start_time": "2023-05-09T11:38:06.937Z"
   },
   {
    "duration": 40,
    "start_time": "2023-05-09T11:38:06.947Z"
   },
   {
    "duration": 23,
    "start_time": "2023-05-09T11:38:06.989Z"
   },
   {
    "duration": 13,
    "start_time": "2023-05-09T11:38:07.014Z"
   },
   {
    "duration": 59,
    "start_time": "2023-05-09T11:38:07.029Z"
   },
   {
    "duration": 5,
    "start_time": "2023-05-09T11:38:07.090Z"
   },
   {
    "duration": 11,
    "start_time": "2023-05-09T11:38:07.097Z"
   },
   {
    "duration": 5,
    "start_time": "2023-05-09T11:38:07.112Z"
   },
   {
    "duration": 11,
    "start_time": "2023-05-09T11:38:07.119Z"
   },
   {
    "duration": 124,
    "start_time": "2023-05-09T11:38:07.131Z"
   },
   {
    "duration": 0,
    "start_time": "2023-05-09T11:38:07.257Z"
   },
   {
    "duration": 0,
    "start_time": "2023-05-09T11:38:07.258Z"
   },
   {
    "duration": 0,
    "start_time": "2023-05-09T11:38:07.261Z"
   },
   {
    "duration": 0,
    "start_time": "2023-05-09T11:38:07.262Z"
   },
   {
    "duration": 0,
    "start_time": "2023-05-09T11:38:07.264Z"
   },
   {
    "duration": 0,
    "start_time": "2023-05-09T11:38:07.265Z"
   },
   {
    "duration": 18,
    "start_time": "2023-05-09T11:38:23.425Z"
   },
   {
    "duration": 6,
    "start_time": "2023-05-09T11:38:25.802Z"
   },
   {
    "duration": 5,
    "start_time": "2023-05-09T11:38:26.117Z"
   },
   {
    "duration": 16,
    "start_time": "2023-05-09T11:38:26.621Z"
   },
   {
    "duration": 13,
    "start_time": "2023-05-09T11:38:41.423Z"
   },
   {
    "duration": 33,
    "start_time": "2023-05-09T11:38:46.661Z"
   },
   {
    "duration": 91,
    "start_time": "2023-05-09T11:38:46.928Z"
   },
   {
    "duration": 150,
    "start_time": "2023-05-09T11:38:47.209Z"
   },
   {
    "duration": 13,
    "start_time": "2023-05-09T11:38:47.480Z"
   },
   {
    "duration": 4,
    "start_time": "2023-05-09T11:38:47.943Z"
   },
   {
    "duration": 4,
    "start_time": "2023-05-09T11:38:48.242Z"
   },
   {
    "duration": 6,
    "start_time": "2023-05-09T11:44:08.913Z"
   },
   {
    "duration": 4,
    "start_time": "2023-05-09T11:44:09.408Z"
   },
   {
    "duration": 5,
    "start_time": "2023-05-09T11:44:09.942Z"
   },
   {
    "duration": 4,
    "start_time": "2023-05-09T11:45:38.900Z"
   },
   {
    "duration": 45,
    "start_time": "2023-05-09T16:53:16.059Z"
   },
   {
    "duration": 5,
    "start_time": "2023-05-09T16:53:17.493Z"
   },
   {
    "duration": 1124,
    "start_time": "2023-05-09T16:53:25.824Z"
   },
   {
    "duration": 2375,
    "start_time": "2023-05-09T16:53:26.950Z"
   },
   {
    "duration": 17,
    "start_time": "2023-05-09T16:53:29.327Z"
   },
   {
    "duration": 12,
    "start_time": "2023-05-09T16:53:29.346Z"
   },
   {
    "duration": 21,
    "start_time": "2023-05-09T16:53:29.360Z"
   },
   {
    "duration": 13,
    "start_time": "2023-05-09T16:53:29.383Z"
   },
   {
    "duration": 5,
    "start_time": "2023-05-09T16:53:29.398Z"
   },
   {
    "duration": 10,
    "start_time": "2023-05-09T16:53:29.405Z"
   },
   {
    "duration": 10,
    "start_time": "2023-05-09T16:53:29.433Z"
   },
   {
    "duration": 19,
    "start_time": "2023-05-09T16:53:29.445Z"
   },
   {
    "duration": 3,
    "start_time": "2023-05-09T16:53:29.465Z"
   },
   {
    "duration": 12,
    "start_time": "2023-05-09T16:53:29.470Z"
   },
   {
    "duration": 5,
    "start_time": "2023-05-09T16:53:29.484Z"
   },
   {
    "duration": 12,
    "start_time": "2023-05-09T16:53:29.490Z"
   },
   {
    "duration": 41,
    "start_time": "2023-05-09T16:53:29.503Z"
   },
   {
    "duration": 121,
    "start_time": "2023-05-09T16:53:29.546Z"
   },
   {
    "duration": 128,
    "start_time": "2023-05-09T16:53:29.669Z"
   },
   {
    "duration": 5,
    "start_time": "2023-05-09T16:53:29.799Z"
   },
   {
    "duration": 15,
    "start_time": "2023-05-09T16:53:29.806Z"
   },
   {
    "duration": 90,
    "start_time": "2023-05-09T16:54:41.872Z"
   },
   {
    "duration": 7,
    "start_time": "2023-05-09T16:54:47.945Z"
   },
   {
    "duration": 7,
    "start_time": "2023-05-09T16:54:52.854Z"
   },
   {
    "duration": 10,
    "start_time": "2023-05-09T16:54:53.460Z"
   },
   {
    "duration": 7,
    "start_time": "2023-05-09T16:56:14.405Z"
   },
   {
    "duration": 8,
    "start_time": "2023-05-09T16:56:29.730Z"
   },
   {
    "duration": 30,
    "start_time": "2023-05-09T16:56:42.850Z"
   },
   {
    "duration": 6,
    "start_time": "2023-05-09T16:58:04.108Z"
   },
   {
    "duration": 12,
    "start_time": "2023-05-09T16:58:04.588Z"
   },
   {
    "duration": 5,
    "start_time": "2023-05-09T16:58:05.013Z"
   },
   {
    "duration": 1133,
    "start_time": "2023-05-09T16:58:32.564Z"
   },
   {
    "duration": 0,
    "start_time": "2023-05-09T16:58:33.699Z"
   },
   {
    "duration": 0,
    "start_time": "2023-05-09T16:58:33.701Z"
   },
   {
    "duration": 3,
    "start_time": "2023-05-09T16:58:56.210Z"
   },
   {
    "duration": 828,
    "start_time": "2023-05-09T16:58:56.386Z"
   },
   {
    "duration": 21,
    "start_time": "2023-05-09T16:58:57.216Z"
   },
   {
    "duration": 10,
    "start_time": "2023-05-09T16:58:57.239Z"
   },
   {
    "duration": 23,
    "start_time": "2023-05-09T16:58:57.251Z"
   },
   {
    "duration": 9,
    "start_time": "2023-05-09T16:58:57.275Z"
   },
   {
    "duration": 7,
    "start_time": "2023-05-09T16:58:57.285Z"
   },
   {
    "duration": 9,
    "start_time": "2023-05-09T16:58:57.393Z"
   },
   {
    "duration": 11,
    "start_time": "2023-05-09T16:58:57.745Z"
   },
   {
    "duration": 14,
    "start_time": "2023-05-09T16:58:57.913Z"
   },
   {
    "duration": 5,
    "start_time": "2023-05-09T16:58:58.057Z"
   },
   {
    "duration": 4,
    "start_time": "2023-05-09T16:58:58.809Z"
   },
   {
    "duration": 5,
    "start_time": "2023-05-09T16:58:58.979Z"
   },
   {
    "duration": 4,
    "start_time": "2023-05-09T16:58:59.165Z"
   },
   {
    "duration": 12,
    "start_time": "2023-05-09T16:58:59.934Z"
   },
   {
    "duration": 5,
    "start_time": "2023-05-09T16:59:40.417Z"
   },
   {
    "duration": 8,
    "start_time": "2023-05-09T16:59:41.953Z"
   },
   {
    "duration": 22,
    "start_time": "2023-05-09T16:59:43.909Z"
   },
   {
    "duration": 115,
    "start_time": "2023-05-09T16:59:44.153Z"
   },
   {
    "duration": 87,
    "start_time": "2023-05-09T16:59:44.480Z"
   },
   {
    "duration": 5,
    "start_time": "2023-05-09T16:59:52.555Z"
   },
   {
    "duration": 4,
    "start_time": "2023-05-09T16:59:52.809Z"
   },
   {
    "duration": 5,
    "start_time": "2023-05-09T17:06:15.885Z"
   },
   {
    "duration": 5,
    "start_time": "2023-05-09T17:06:24.910Z"
   },
   {
    "duration": 1338,
    "start_time": "2023-05-09T17:06:41.224Z"
   },
   {
    "duration": 0,
    "start_time": "2023-05-09T17:06:42.564Z"
   },
   {
    "duration": 0,
    "start_time": "2023-05-09T17:06:42.565Z"
   },
   {
    "duration": 5,
    "start_time": "2023-05-09T17:06:42.762Z"
   },
   {
    "duration": 1044,
    "start_time": "2023-05-09T17:09:22.025Z"
   },
   {
    "duration": 795,
    "start_time": "2023-05-09T17:09:23.071Z"
   },
   {
    "duration": 19,
    "start_time": "2023-05-09T17:09:24.836Z"
   },
   {
    "duration": 11,
    "start_time": "2023-05-09T17:09:25.643Z"
   },
   {
    "duration": 16,
    "start_time": "2023-05-09T17:09:26.145Z"
   },
   {
    "duration": 18,
    "start_time": "2023-05-09T17:09:26.714Z"
   },
   {
    "duration": 8,
    "start_time": "2023-05-09T17:09:27.229Z"
   },
   {
    "duration": 9,
    "start_time": "2023-05-09T17:09:27.822Z"
   },
   {
    "duration": 12,
    "start_time": "2023-05-09T17:09:28.411Z"
   },
   {
    "duration": 13,
    "start_time": "2023-05-09T17:09:28.993Z"
   },
   {
    "duration": 4,
    "start_time": "2023-05-09T17:09:29.544Z"
   },
   {
    "duration": 6,
    "start_time": "2023-05-09T17:09:51.410Z"
   },
   {
    "duration": 4,
    "start_time": "2023-05-09T17:09:58.853Z"
   },
   {
    "duration": 6,
    "start_time": "2023-05-09T17:10:00.113Z"
   },
   {
    "duration": 5,
    "start_time": "2023-05-09T17:10:00.652Z"
   },
   {
    "duration": 11,
    "start_time": "2023-05-09T17:10:02.580Z"
   },
   {
    "duration": 25,
    "start_time": "2023-05-09T17:10:08.053Z"
   },
   {
    "duration": 116,
    "start_time": "2023-05-09T17:10:08.389Z"
   },
   {
    "duration": 86,
    "start_time": "2023-05-09T17:10:08.812Z"
   },
   {
    "duration": 5,
    "start_time": "2023-05-09T17:10:09.905Z"
   },
   {
    "duration": 3,
    "start_time": "2023-05-09T17:10:10.586Z"
   },
   {
    "duration": 93,
    "start_time": "2023-05-09T17:21:58.416Z"
   },
   {
    "duration": 402,
    "start_time": "2023-05-09T17:22:23.279Z"
   },
   {
    "duration": 1472,
    "start_time": "2023-05-09T17:22:29.227Z"
   },
   {
    "duration": 1297,
    "start_time": "2023-05-09T17:22:52.617Z"
   },
   {
    "duration": 1434,
    "start_time": "2023-05-09T17:28:22.999Z"
   },
   {
    "duration": 2288,
    "start_time": "2023-05-09T17:37:08.353Z"
   },
   {
    "duration": 1107,
    "start_time": "2023-05-09T17:37:28.891Z"
   },
   {
    "duration": 4,
    "start_time": "2023-05-09T17:37:48.299Z"
   },
   {
    "duration": 5,
    "start_time": "2023-05-09T17:39:17.873Z"
   },
   {
    "duration": 4,
    "start_time": "2023-05-09T17:40:23.478Z"
   },
   {
    "duration": 103,
    "start_time": "2023-05-09T17:41:44.495Z"
   },
   {
    "duration": 1562,
    "start_time": "2023-05-09T17:41:46.977Z"
   },
   {
    "duration": 1298,
    "start_time": "2023-05-09T17:41:56.397Z"
   },
   {
    "duration": 790,
    "start_time": "2023-05-09T17:41:57.697Z"
   },
   {
    "duration": 18,
    "start_time": "2023-05-09T17:41:58.488Z"
   },
   {
    "duration": 12,
    "start_time": "2023-05-09T17:41:58.507Z"
   },
   {
    "duration": 16,
    "start_time": "2023-05-09T17:41:58.534Z"
   },
   {
    "duration": 11,
    "start_time": "2023-05-09T17:41:58.552Z"
   },
   {
    "duration": 6,
    "start_time": "2023-05-09T17:41:58.564Z"
   },
   {
    "duration": 11,
    "start_time": "2023-05-09T17:41:58.571Z"
   },
   {
    "duration": 13,
    "start_time": "2023-05-09T17:41:58.583Z"
   },
   {
    "duration": 41,
    "start_time": "2023-05-09T17:41:58.597Z"
   },
   {
    "duration": 4,
    "start_time": "2023-05-09T17:41:58.639Z"
   },
   {
    "duration": 7,
    "start_time": "2023-05-09T17:41:58.645Z"
   },
   {
    "duration": 14,
    "start_time": "2023-05-09T17:41:58.653Z"
   },
   {
    "duration": 4,
    "start_time": "2023-05-09T17:41:58.669Z"
   },
   {
    "duration": 10,
    "start_time": "2023-05-09T17:41:58.674Z"
   },
   {
    "duration": 19,
    "start_time": "2023-05-09T17:41:58.685Z"
   },
   {
    "duration": 138,
    "start_time": "2023-05-09T17:41:58.706Z"
   },
   {
    "duration": 97,
    "start_time": "2023-05-09T17:41:58.846Z"
   },
   {
    "duration": 265,
    "start_time": "2023-05-09T17:41:58.945Z"
   },
   {
    "duration": 5,
    "start_time": "2023-05-09T17:42:40.793Z"
   },
   {
    "duration": 3,
    "start_time": "2023-05-09T17:42:41.234Z"
   },
   {
    "duration": 205,
    "start_time": "2023-05-09T17:46:28.561Z"
   },
   {
    "duration": 222,
    "start_time": "2023-05-09T17:47:43.811Z"
   },
   {
    "duration": 113,
    "start_time": "2023-05-09T17:48:13.138Z"
   },
   {
    "duration": 209,
    "start_time": "2023-05-09T17:48:35.376Z"
   },
   {
    "duration": 256,
    "start_time": "2023-05-09T17:50:22.530Z"
   },
   {
    "duration": 195,
    "start_time": "2023-05-09T17:50:43.414Z"
   },
   {
    "duration": 216,
    "start_time": "2023-05-09T17:53:22.012Z"
   },
   {
    "duration": 218,
    "start_time": "2023-05-09T17:54:12.468Z"
   },
   {
    "duration": 193,
    "start_time": "2023-05-09T17:54:38.876Z"
   },
   {
    "duration": 204,
    "start_time": "2023-05-09T17:54:50.300Z"
   },
   {
    "duration": 252,
    "start_time": "2023-05-09T17:55:26.556Z"
   },
   {
    "duration": 193,
    "start_time": "2023-05-09T17:55:32.262Z"
   },
   {
    "duration": 186,
    "start_time": "2023-05-09T17:55:52.561Z"
   },
   {
    "duration": 189,
    "start_time": "2023-05-09T17:55:59.823Z"
   },
   {
    "duration": 186,
    "start_time": "2023-05-09T17:56:11.870Z"
   },
   {
    "duration": 767,
    "start_time": "2023-05-09T18:07:58.951Z"
   },
   {
    "duration": 666,
    "start_time": "2023-05-09T18:08:25.333Z"
   },
   {
    "duration": 783,
    "start_time": "2023-05-09T18:09:16.210Z"
   },
   {
    "duration": 624,
    "start_time": "2023-05-09T18:09:34.983Z"
   },
   {
    "duration": 747,
    "start_time": "2023-05-09T18:09:41.903Z"
   },
   {
    "duration": 670,
    "start_time": "2023-05-09T18:10:39.575Z"
   },
   {
    "duration": 418,
    "start_time": "2023-05-09T18:11:01.632Z"
   },
   {
    "duration": 1491,
    "start_time": "2023-05-09T18:11:17.207Z"
   },
   {
    "duration": 1576,
    "start_time": "2023-05-09T18:11:57.013Z"
   },
   {
    "duration": 1233,
    "start_time": "2023-05-09T18:12:14.378Z"
   },
   {
    "duration": 1229,
    "start_time": "2023-05-09T18:12:21.749Z"
   },
   {
    "duration": 1401,
    "start_time": "2023-05-09T18:12:30.418Z"
   },
   {
    "duration": 1508,
    "start_time": "2023-05-09T18:14:49.890Z"
   },
   {
    "duration": 1341,
    "start_time": "2023-05-09T18:15:28.020Z"
   },
   {
    "duration": 1357,
    "start_time": "2023-05-09T18:17:06.784Z"
   },
   {
    "duration": 1243,
    "start_time": "2023-05-09T18:17:35.543Z"
   },
   {
    "duration": 1305,
    "start_time": "2023-05-09T18:19:46.057Z"
   },
   {
    "duration": 1212,
    "start_time": "2023-05-09T18:20:28.583Z"
   },
   {
    "duration": 1227,
    "start_time": "2023-05-09T18:21:33.619Z"
   },
   {
    "duration": 379,
    "start_time": "2023-05-09T18:22:34.180Z"
   },
   {
    "duration": 1240,
    "start_time": "2023-05-09T18:22:51.015Z"
   },
   {
    "duration": 1230,
    "start_time": "2023-05-09T18:23:23.828Z"
   },
   {
    "duration": 1246,
    "start_time": "2023-05-09T18:23:32.201Z"
   },
   {
    "duration": 1214,
    "start_time": "2023-05-09T18:23:41.500Z"
   },
   {
    "duration": 1292,
    "start_time": "2023-05-09T18:24:58.921Z"
   },
   {
    "duration": 1355,
    "start_time": "2023-05-09T18:26:53.855Z"
   },
   {
    "duration": 1322,
    "start_time": "2023-05-09T18:27:01.637Z"
   },
   {
    "duration": 1230,
    "start_time": "2023-05-09T18:27:20.069Z"
   },
   {
    "duration": 1332,
    "start_time": "2023-05-09T18:28:25.657Z"
   },
   {
    "duration": 1270,
    "start_time": "2023-05-09T18:28:34.295Z"
   },
   {
    "duration": 1211,
    "start_time": "2023-05-09T18:28:42.065Z"
   },
   {
    "duration": 1670,
    "start_time": "2023-05-09T18:29:01.194Z"
   },
   {
    "duration": 1551,
    "start_time": "2023-05-09T18:29:26.261Z"
   },
   {
    "duration": 1433,
    "start_time": "2023-05-09T18:30:22.770Z"
   },
   {
    "duration": 1335,
    "start_time": "2023-05-09T18:30:29.410Z"
   },
   {
    "duration": 1323,
    "start_time": "2023-05-09T18:30:37.129Z"
   },
   {
    "duration": 1291,
    "start_time": "2023-05-09T18:30:47.752Z"
   },
   {
    "duration": 1231,
    "start_time": "2023-05-09T18:32:43.919Z"
   },
   {
    "duration": 1222,
    "start_time": "2023-05-09T18:33:04.498Z"
   },
   {
    "duration": 1297,
    "start_time": "2023-05-09T18:34:02.737Z"
   },
   {
    "duration": 1279,
    "start_time": "2023-05-09T18:34:14.063Z"
   },
   {
    "duration": 1113,
    "start_time": "2023-05-09T18:34:25.000Z"
   },
   {
    "duration": 1267,
    "start_time": "2023-05-09T18:34:31.268Z"
   },
   {
    "duration": 1253,
    "start_time": "2023-05-09T18:34:39.498Z"
   },
   {
    "duration": 1192,
    "start_time": "2023-05-09T18:34:47.012Z"
   },
   {
    "duration": 1259,
    "start_time": "2023-05-09T18:35:11.861Z"
   },
   {
    "duration": 3,
    "start_time": "2023-05-09T18:39:54.349Z"
   },
   {
    "duration": 1303,
    "start_time": "2023-05-09T18:41:40.241Z"
   },
   {
    "duration": 1312,
    "start_time": "2023-05-09T18:42:52.229Z"
   },
   {
    "duration": 1220,
    "start_time": "2023-05-09T18:43:14.417Z"
   },
   {
    "duration": 1258,
    "start_time": "2023-05-09T18:43:19.807Z"
   },
   {
    "duration": 1137,
    "start_time": "2023-05-09T18:43:26.691Z"
   },
   {
    "duration": 1298,
    "start_time": "2023-05-09T18:43:32.678Z"
   },
   {
    "duration": 1278,
    "start_time": "2023-05-09T18:43:39.339Z"
   },
   {
    "duration": 11,
    "start_time": "2023-05-09T18:44:53.012Z"
   },
   {
    "duration": 173,
    "start_time": "2023-05-09T18:45:31.819Z"
   },
   {
    "duration": 157,
    "start_time": "2023-05-09T18:45:47.267Z"
   },
   {
    "duration": 15,
    "start_time": "2023-05-09T18:49:39.512Z"
   },
   {
    "duration": 1420,
    "start_time": "2023-05-09T18:49:50.545Z"
   },
   {
    "duration": 889,
    "start_time": "2023-05-09T18:49:51.968Z"
   },
   {
    "duration": 21,
    "start_time": "2023-05-09T18:49:52.858Z"
   },
   {
    "duration": 18,
    "start_time": "2023-05-09T18:49:52.881Z"
   },
   {
    "duration": 35,
    "start_time": "2023-05-09T18:49:52.902Z"
   },
   {
    "duration": 14,
    "start_time": "2023-05-09T18:49:52.939Z"
   },
   {
    "duration": 29,
    "start_time": "2023-05-09T18:49:52.954Z"
   },
   {
    "duration": 25,
    "start_time": "2023-05-09T18:49:52.986Z"
   },
   {
    "duration": 128,
    "start_time": "2023-05-09T18:49:53.013Z"
   },
   {
    "duration": 0,
    "start_time": "2023-05-09T18:49:53.143Z"
   },
   {
    "duration": 0,
    "start_time": "2023-05-09T18:49:53.144Z"
   },
   {
    "duration": 0,
    "start_time": "2023-05-09T18:49:53.145Z"
   },
   {
    "duration": 0,
    "start_time": "2023-05-09T18:49:53.146Z"
   },
   {
    "duration": 0,
    "start_time": "2023-05-09T18:49:53.147Z"
   },
   {
    "duration": 0,
    "start_time": "2023-05-09T18:49:53.148Z"
   },
   {
    "duration": 0,
    "start_time": "2023-05-09T18:49:53.150Z"
   },
   {
    "duration": 0,
    "start_time": "2023-05-09T18:49:53.150Z"
   },
   {
    "duration": 0,
    "start_time": "2023-05-09T18:49:53.151Z"
   },
   {
    "duration": 0,
    "start_time": "2023-05-09T18:49:53.153Z"
   },
   {
    "duration": 0,
    "start_time": "2023-05-09T18:49:53.154Z"
   },
   {
    "duration": 0,
    "start_time": "2023-05-09T18:49:53.155Z"
   },
   {
    "duration": 0,
    "start_time": "2023-05-09T18:49:53.156Z"
   },
   {
    "duration": 0,
    "start_time": "2023-05-09T18:49:53.157Z"
   },
   {
    "duration": 0,
    "start_time": "2023-05-09T18:49:53.158Z"
   },
   {
    "duration": 0,
    "start_time": "2023-05-09T18:49:53.161Z"
   },
   {
    "duration": 11,
    "start_time": "2023-05-09T18:50:04.918Z"
   },
   {
    "duration": 11,
    "start_time": "2023-05-09T18:50:08.190Z"
   },
   {
    "duration": 15,
    "start_time": "2023-05-09T18:50:08.545Z"
   },
   {
    "duration": 12,
    "start_time": "2023-05-09T18:50:08.889Z"
   },
   {
    "duration": 5,
    "start_time": "2023-05-09T18:50:11.994Z"
   },
   {
    "duration": 5,
    "start_time": "2023-05-09T18:50:14.390Z"
   },
   {
    "duration": 7,
    "start_time": "2023-05-09T18:50:17.785Z"
   },
   {
    "duration": 3,
    "start_time": "2023-05-09T18:50:27.670Z"
   },
   {
    "duration": 6,
    "start_time": "2023-05-09T18:50:27.926Z"
   },
   {
    "duration": 6,
    "start_time": "2023-05-09T18:50:28.383Z"
   },
   {
    "duration": 13,
    "start_time": "2023-05-09T18:50:29.528Z"
   },
   {
    "duration": 24,
    "start_time": "2023-05-09T18:50:31.837Z"
   },
   {
    "duration": 123,
    "start_time": "2023-05-09T18:50:32.027Z"
   },
   {
    "duration": 90,
    "start_time": "2023-05-09T18:50:32.254Z"
   },
   {
    "duration": 5,
    "start_time": "2023-05-09T18:50:33.002Z"
   },
   {
    "duration": 3,
    "start_time": "2023-05-09T18:50:33.329Z"
   },
   {
    "duration": 1193,
    "start_time": "2023-05-09T18:50:34.587Z"
   },
   {
    "duration": 1369,
    "start_time": "2023-05-09T18:50:35.782Z"
   },
   {
    "duration": 1294,
    "start_time": "2023-05-09T18:50:37.152Z"
   },
   {
    "duration": 171,
    "start_time": "2023-05-09T18:50:42.881Z"
   },
   {
    "duration": 177,
    "start_time": "2023-05-09T18:50:55.951Z"
   },
   {
    "duration": 152,
    "start_time": "2023-05-09T18:51:12.619Z"
   },
   {
    "duration": 167,
    "start_time": "2023-05-09T18:51:17.904Z"
   },
   {
    "duration": 175,
    "start_time": "2023-05-09T18:51:22.435Z"
   },
   {
    "duration": 150,
    "start_time": "2023-05-09T18:51:29.015Z"
   },
   {
    "duration": 180,
    "start_time": "2023-05-09T18:58:17.055Z"
   },
   {
    "duration": 130,
    "start_time": "2023-05-09T18:58:31.734Z"
   },
   {
    "duration": 176,
    "start_time": "2023-05-09T18:58:41.254Z"
   },
   {
    "duration": 276,
    "start_time": "2023-05-09T18:58:48.599Z"
   },
   {
    "duration": 1745,
    "start_time": "2023-05-09T19:00:41.511Z"
   },
   {
    "duration": 2048,
    "start_time": "2023-05-09T19:00:55.599Z"
   },
   {
    "duration": 1865,
    "start_time": "2023-05-09T19:01:03.943Z"
   },
   {
    "duration": 1768,
    "start_time": "2023-05-09T19:01:20.107Z"
   },
   {
    "duration": 1703,
    "start_time": "2023-05-09T19:01:26.520Z"
   },
   {
    "duration": 1214,
    "start_time": "2023-05-09T19:05:39.278Z"
   },
   {
    "duration": 1669,
    "start_time": "2023-05-09T19:05:47.598Z"
   },
   {
    "duration": 1513,
    "start_time": "2023-05-10T08:10:36.719Z"
   },
   {
    "duration": 2302,
    "start_time": "2023-05-10T08:10:40.659Z"
   },
   {
    "duration": 20,
    "start_time": "2023-05-10T08:10:42.963Z"
   },
   {
    "duration": 11,
    "start_time": "2023-05-10T08:10:42.985Z"
   },
   {
    "duration": 18,
    "start_time": "2023-05-10T08:10:42.998Z"
   },
   {
    "duration": 11,
    "start_time": "2023-05-10T08:10:43.017Z"
   },
   {
    "duration": 6,
    "start_time": "2023-05-10T08:10:43.029Z"
   },
   {
    "duration": 36,
    "start_time": "2023-05-10T08:10:43.037Z"
   },
   {
    "duration": 12,
    "start_time": "2023-05-10T08:10:43.074Z"
   },
   {
    "duration": 31,
    "start_time": "2023-05-10T08:10:43.088Z"
   },
   {
    "duration": 4,
    "start_time": "2023-05-10T08:10:43.121Z"
   },
   {
    "duration": 4,
    "start_time": "2023-05-10T08:10:44.611Z"
   },
   {
    "duration": 5,
    "start_time": "2023-05-10T08:10:45.036Z"
   },
   {
    "duration": 4,
    "start_time": "2023-05-10T08:10:45.356Z"
   },
   {
    "duration": 9,
    "start_time": "2023-05-10T08:10:45.848Z"
   },
   {
    "duration": 21,
    "start_time": "2023-05-10T08:10:46.812Z"
   },
   {
    "duration": 117,
    "start_time": "2023-05-10T08:10:47.025Z"
   },
   {
    "duration": 82,
    "start_time": "2023-05-10T08:10:47.341Z"
   },
   {
    "duration": 4,
    "start_time": "2023-05-10T08:10:48.220Z"
   },
   {
    "duration": 4,
    "start_time": "2023-05-10T08:10:48.473Z"
   },
   {
    "duration": 962,
    "start_time": "2023-05-10T08:10:49.638Z"
   },
   {
    "duration": 1212,
    "start_time": "2023-05-10T08:10:50.602Z"
   },
   {
    "duration": 1211,
    "start_time": "2023-05-10T08:10:51.816Z"
   },
   {
    "duration": 164,
    "start_time": "2023-05-10T08:10:53.029Z"
   },
   {
    "duration": 493,
    "start_time": "2023-05-10T08:15:31.629Z"
   },
   {
    "duration": 458,
    "start_time": "2023-05-10T08:15:45.957Z"
   },
   {
    "duration": 473,
    "start_time": "2023-05-10T08:16:23.150Z"
   },
   {
    "duration": 433,
    "start_time": "2023-05-10T08:17:30.610Z"
   },
   {
    "duration": 533,
    "start_time": "2023-05-10T08:17:45.902Z"
   },
   {
    "duration": 414,
    "start_time": "2023-05-10T08:17:58.415Z"
   },
   {
    "duration": 95,
    "start_time": "2023-05-10T08:21:08.328Z"
   },
   {
    "duration": 1294,
    "start_time": "2023-05-10T08:21:16.548Z"
   },
   {
    "duration": 1617,
    "start_time": "2023-05-10T08:21:46.098Z"
   },
   {
    "duration": 1313,
    "start_time": "2023-05-10T08:22:17.671Z"
   },
   {
    "duration": 2,
    "start_time": "2023-05-10T08:23:20.819Z"
   },
   {
    "duration": 1589,
    "start_time": "2023-05-10T08:23:39.651Z"
   },
   {
    "duration": 1428,
    "start_time": "2023-05-10T08:23:46.750Z"
   },
   {
    "duration": 1420,
    "start_time": "2023-05-10T08:25:37.201Z"
   },
   {
    "duration": 1306,
    "start_time": "2023-05-10T08:25:48.461Z"
   },
   {
    "duration": 1453,
    "start_time": "2023-05-10T08:25:54.748Z"
   },
   {
    "duration": 1514,
    "start_time": "2023-05-10T08:26:03.662Z"
   },
   {
    "duration": 1519,
    "start_time": "2023-05-10T08:26:09.068Z"
   },
   {
    "duration": 1528,
    "start_time": "2023-05-10T08:26:15.004Z"
   },
   {
    "duration": 1452,
    "start_time": "2023-05-10T08:27:35.419Z"
   },
   {
    "duration": 1505,
    "start_time": "2023-05-10T08:27:43.072Z"
   },
   {
    "duration": 1297,
    "start_time": "2023-05-10T08:27:58.168Z"
   },
   {
    "duration": 1325,
    "start_time": "2023-05-10T08:31:42.447Z"
   },
   {
    "duration": 1539,
    "start_time": "2023-05-10T08:31:57.434Z"
   },
   {
    "duration": 1426,
    "start_time": "2023-05-10T08:33:40.454Z"
   },
   {
    "duration": 1327,
    "start_time": "2023-05-10T08:33:57.135Z"
   },
   {
    "duration": 1418,
    "start_time": "2023-05-10T08:34:40.060Z"
   },
   {
    "duration": 1549,
    "start_time": "2023-05-10T08:34:54.902Z"
   },
   {
    "duration": 1404,
    "start_time": "2023-05-10T08:36:23.564Z"
   },
   {
    "duration": 1389,
    "start_time": "2023-05-10T08:36:49.671Z"
   },
   {
    "duration": 1390,
    "start_time": "2023-05-10T08:37:00.547Z"
   },
   {
    "duration": 1430,
    "start_time": "2023-05-10T08:37:21.753Z"
   },
   {
    "duration": 1280,
    "start_time": "2023-05-10T08:37:32.683Z"
   },
   {
    "duration": 1475,
    "start_time": "2023-05-10T08:37:59.897Z"
   },
   {
    "duration": 1503,
    "start_time": "2023-05-10T08:38:55.158Z"
   },
   {
    "duration": 1251,
    "start_time": "2023-05-10T08:39:08.114Z"
   },
   {
    "duration": 1347,
    "start_time": "2023-05-10T08:39:16.171Z"
   },
   {
    "duration": 502,
    "start_time": "2023-05-10T08:40:35.747Z"
   },
   {
    "duration": 1475,
    "start_time": "2023-05-10T10:41:45.622Z"
   },
   {
    "duration": 2795,
    "start_time": "2023-05-10T10:41:47.099Z"
   },
   {
    "duration": 21,
    "start_time": "2023-05-10T10:41:49.896Z"
   },
   {
    "duration": 19,
    "start_time": "2023-05-10T10:41:49.919Z"
   },
   {
    "duration": 21,
    "start_time": "2023-05-10T10:41:49.939Z"
   },
   {
    "duration": 14,
    "start_time": "2023-05-10T10:41:49.962Z"
   },
   {
    "duration": 7,
    "start_time": "2023-05-10T10:41:49.978Z"
   },
   {
    "duration": 19,
    "start_time": "2023-05-10T10:41:49.987Z"
   },
   {
    "duration": 29,
    "start_time": "2023-05-10T10:41:50.008Z"
   },
   {
    "duration": 13,
    "start_time": "2023-05-10T10:41:50.039Z"
   },
   {
    "duration": 6,
    "start_time": "2023-05-10T10:41:50.054Z"
   },
   {
    "duration": 9,
    "start_time": "2023-05-10T10:41:50.062Z"
   },
   {
    "duration": 21,
    "start_time": "2023-05-10T10:41:50.072Z"
   },
   {
    "duration": 7,
    "start_time": "2023-05-10T10:41:50.094Z"
   },
   {
    "duration": 13,
    "start_time": "2023-05-10T10:41:50.103Z"
   },
   {
    "duration": 37,
    "start_time": "2023-05-10T10:41:50.117Z"
   },
   {
    "duration": 122,
    "start_time": "2023-05-10T10:41:50.155Z"
   },
   {
    "duration": 93,
    "start_time": "2023-05-10T10:41:50.279Z"
   },
   {
    "duration": 5,
    "start_time": "2023-05-10T10:41:50.374Z"
   },
   {
    "duration": 16,
    "start_time": "2023-05-10T10:41:50.381Z"
   },
   {
    "duration": 1509,
    "start_time": "2023-05-10T10:41:50.398Z"
   },
   {
    "duration": 1584,
    "start_time": "2023-05-10T10:41:51.909Z"
   },
   {
    "duration": 1527,
    "start_time": "2023-05-10T10:41:53.495Z"
   },
   {
    "duration": 463,
    "start_time": "2023-05-10T10:41:55.024Z"
   },
   {
    "duration": 838,
    "start_time": "2023-05-10T10:46:31.100Z"
   },
   {
    "duration": 746,
    "start_time": "2023-05-10T10:47:11.835Z"
   },
   {
    "duration": 550,
    "start_time": "2023-05-10T10:47:25.386Z"
   },
   {
    "duration": 606,
    "start_time": "2023-05-10T10:50:00.674Z"
   },
   {
    "duration": 702,
    "start_time": "2023-05-10T10:50:11.579Z"
   },
   {
    "duration": 1054,
    "start_time": "2023-05-10T10:58:10.384Z"
   },
   {
    "duration": 1056,
    "start_time": "2023-05-10T10:58:33.580Z"
   },
   {
    "duration": 1942,
    "start_time": "2023-05-10T10:58:48.717Z"
   },
   {
    "duration": 1958,
    "start_time": "2023-05-10T10:59:16.537Z"
   },
   {
    "duration": 2138,
    "start_time": "2023-05-10T11:00:40.215Z"
   },
   {
    "duration": 285,
    "start_time": "2023-05-10T11:02:53.313Z"
   },
   {
    "duration": 1892,
    "start_time": "2023-05-10T11:03:06.846Z"
   },
   {
    "duration": 16,
    "start_time": "2023-05-10T11:03:46.087Z"
   },
   {
    "duration": 2005,
    "start_time": "2023-05-10T11:04:25.426Z"
   },
   {
    "duration": 99,
    "start_time": "2023-05-10T11:05:07.649Z"
   },
   {
    "duration": 1898,
    "start_time": "2023-05-10T11:05:29.745Z"
   },
   {
    "duration": 11,
    "start_time": "2023-05-10T11:05:54.711Z"
   },
   {
    "duration": 5,
    "start_time": "2023-05-10T11:06:04.012Z"
   },
   {
    "duration": 11,
    "start_time": "2023-05-10T11:06:32.260Z"
   },
   {
    "duration": 9,
    "start_time": "2023-05-10T11:06:43.692Z"
   },
   {
    "duration": 1867,
    "start_time": "2023-05-10T11:08:29.856Z"
   },
   {
    "duration": 11,
    "start_time": "2023-05-10T11:09:49.592Z"
   },
   {
    "duration": 5,
    "start_time": "2023-05-10T11:09:53.948Z"
   },
   {
    "duration": 6,
    "start_time": "2023-05-10T11:09:54.412Z"
   },
   {
    "duration": 1803,
    "start_time": "2023-05-10T11:10:26.112Z"
   },
   {
    "duration": 1575,
    "start_time": "2023-05-10T11:13:36.144Z"
   },
   {
    "duration": 1350,
    "start_time": "2023-05-10T11:14:09.941Z"
   },
   {
    "duration": 1427,
    "start_time": "2023-05-10T11:14:21.792Z"
   },
   {
    "duration": 1492,
    "start_time": "2023-05-10T11:14:42.123Z"
   },
   {
    "duration": 1562,
    "start_time": "2023-05-10T11:15:07.962Z"
   },
   {
    "duration": 1594,
    "start_time": "2023-05-10T11:15:18.785Z"
   },
   {
    "duration": 1411,
    "start_time": "2023-05-10T11:15:44.338Z"
   },
   {
    "duration": 1693,
    "start_time": "2023-05-10T11:15:51.308Z"
   },
   {
    "duration": 1448,
    "start_time": "2023-05-10T11:16:06.371Z"
   },
   {
    "duration": 8,
    "start_time": "2023-05-10T11:19:35.802Z"
   },
   {
    "duration": 9,
    "start_time": "2023-05-10T11:19:52.450Z"
   },
   {
    "duration": 13,
    "start_time": "2023-05-10T11:20:01.338Z"
   },
   {
    "duration": 9,
    "start_time": "2023-05-10T11:20:22.301Z"
   },
   {
    "duration": 16,
    "start_time": "2023-05-10T11:20:26.632Z"
   },
   {
    "duration": 8,
    "start_time": "2023-05-10T11:20:30.099Z"
   },
   {
    "duration": 9,
    "start_time": "2023-05-10T11:20:36.435Z"
   },
   {
    "duration": 9,
    "start_time": "2023-05-10T11:20:41.231Z"
   },
   {
    "duration": 8,
    "start_time": "2023-05-10T11:20:49.705Z"
   },
   {
    "duration": 743,
    "start_time": "2023-05-10T11:21:31.131Z"
   },
   {
    "duration": 9,
    "start_time": "2023-05-10T11:22:17.764Z"
   },
   {
    "duration": 10,
    "start_time": "2023-05-10T11:22:46.706Z"
   },
   {
    "duration": 12,
    "start_time": "2023-05-10T11:23:25.145Z"
   },
   {
    "duration": 10,
    "start_time": "2023-05-10T11:23:39.308Z"
   },
   {
    "duration": 4,
    "start_time": "2023-05-10T11:23:45.535Z"
   },
   {
    "duration": 12,
    "start_time": "2023-05-10T11:23:46.944Z"
   },
   {
    "duration": 4,
    "start_time": "2023-05-10T11:25:43.503Z"
   },
   {
    "duration": 7,
    "start_time": "2023-05-10T11:26:53.602Z"
   },
   {
    "duration": 7,
    "start_time": "2023-05-10T11:27:07.506Z"
   },
   {
    "duration": 4,
    "start_time": "2023-05-10T11:27:36.904Z"
   },
   {
    "duration": 11,
    "start_time": "2023-05-10T11:27:40.144Z"
   },
   {
    "duration": 2,
    "start_time": "2023-05-10T11:28:31.846Z"
   },
   {
    "duration": 5,
    "start_time": "2023-05-10T11:28:35.782Z"
   },
   {
    "duration": 6,
    "start_time": "2023-05-10T11:28:53.525Z"
   },
   {
    "duration": 6,
    "start_time": "2023-05-10T11:29:06.966Z"
   },
   {
    "duration": 4,
    "start_time": "2023-05-10T11:30:25.417Z"
   },
   {
    "duration": 1408,
    "start_time": "2023-05-10T11:30:57.354Z"
   },
   {
    "duration": 6,
    "start_time": "2023-05-10T11:31:15.897Z"
   },
   {
    "duration": 1545,
    "start_time": "2023-05-10T11:31:16.505Z"
   },
   {
    "duration": 6,
    "start_time": "2023-05-10T11:31:40.357Z"
   },
   {
    "duration": 1685,
    "start_time": "2023-05-10T11:31:41.064Z"
   },
   {
    "duration": 1568,
    "start_time": "2023-05-10T11:32:33.286Z"
   },
   {
    "duration": 1458,
    "start_time": "2023-05-10T11:32:46.303Z"
   },
   {
    "duration": 6,
    "start_time": "2023-05-10T11:33:03.252Z"
   },
   {
    "duration": 1468,
    "start_time": "2023-05-10T11:33:03.955Z"
   },
   {
    "duration": 7,
    "start_time": "2023-05-10T11:33:25.146Z"
   },
   {
    "duration": 1407,
    "start_time": "2023-05-10T11:33:25.630Z"
   },
   {
    "duration": 5,
    "start_time": "2023-05-10T11:33:28.220Z"
   },
   {
    "duration": 1294,
    "start_time": "2023-05-10T11:33:33.623Z"
   },
   {
    "duration": 6,
    "start_time": "2023-05-10T11:34:56.932Z"
   },
   {
    "duration": 1523,
    "start_time": "2023-05-10T11:34:57.491Z"
   },
   {
    "duration": 47,
    "start_time": "2023-05-10T11:47:20.751Z"
   },
   {
    "duration": 48,
    "start_time": "2023-05-10T11:47:33.364Z"
   },
   {
    "duration": 44,
    "start_time": "2023-05-10T11:47:42.793Z"
   },
   {
    "duration": 43,
    "start_time": "2023-05-10T11:48:05.288Z"
   },
   {
    "duration": 47,
    "start_time": "2023-05-10T11:48:09.529Z"
   },
   {
    "duration": 43,
    "start_time": "2023-05-10T11:48:14.759Z"
   },
   {
    "duration": 60,
    "start_time": "2023-05-10T11:48:19.782Z"
   },
   {
    "duration": 49,
    "start_time": "2023-05-10T11:48:34.886Z"
   },
   {
    "duration": 2,
    "start_time": "2023-05-10T11:52:00.107Z"
   },
   {
    "duration": 12,
    "start_time": "2023-05-10T11:56:03.184Z"
   },
   {
    "duration": 12,
    "start_time": "2023-05-10T11:56:03.600Z"
   },
   {
    "duration": 5,
    "start_time": "2023-05-10T11:56:18.443Z"
   },
   {
    "duration": 5,
    "start_time": "2023-05-10T11:56:24.625Z"
   },
   {
    "duration": 9,
    "start_time": "2023-05-10T12:01:29.995Z"
   },
   {
    "duration": 2,
    "start_time": "2023-05-10T12:04:54.227Z"
   },
   {
    "duration": 4,
    "start_time": "2023-05-10T12:05:09.111Z"
   },
   {
    "duration": 4,
    "start_time": "2023-05-10T12:05:20.331Z"
   },
   {
    "duration": 3,
    "start_time": "2023-05-10T12:05:27.334Z"
   },
   {
    "duration": 3,
    "start_time": "2023-05-10T12:05:27.794Z"
   },
   {
    "duration": 3,
    "start_time": "2023-05-10T12:05:35.707Z"
   },
   {
    "duration": 2,
    "start_time": "2023-05-10T12:06:05.446Z"
   },
   {
    "duration": 18,
    "start_time": "2023-05-10T12:11:13.511Z"
   },
   {
    "duration": 2,
    "start_time": "2023-05-10T12:12:49.624Z"
   },
   {
    "duration": 17,
    "start_time": "2023-05-10T12:12:50.048Z"
   },
   {
    "duration": 12,
    "start_time": "2023-05-10T12:18:14.233Z"
   },
   {
    "duration": 5,
    "start_time": "2023-05-10T12:18:29.159Z"
   },
   {
    "duration": 6,
    "start_time": "2023-05-10T12:18:49.819Z"
   },
   {
    "duration": 14,
    "start_time": "2023-05-10T12:19:11.186Z"
   },
   {
    "duration": 12,
    "start_time": "2023-05-10T12:20:26.322Z"
   },
   {
    "duration": 14,
    "start_time": "2023-05-10T12:21:18.577Z"
   },
   {
    "duration": 42,
    "start_time": "2023-05-10T12:31:15.950Z"
   },
   {
    "duration": 3,
    "start_time": "2023-05-10T12:31:23.882Z"
   },
   {
    "duration": 3,
    "start_time": "2023-05-10T12:33:34.431Z"
   },
   {
    "duration": 3,
    "start_time": "2023-05-10T12:34:09.108Z"
   },
   {
    "duration": 3,
    "start_time": "2023-05-10T12:35:13.890Z"
   },
   {
    "duration": 3,
    "start_time": "2023-05-10T12:35:14.184Z"
   },
   {
    "duration": 3,
    "start_time": "2023-05-10T12:35:14.454Z"
   },
   {
    "duration": 3,
    "start_time": "2023-05-10T12:37:55.459Z"
   },
   {
    "duration": 4,
    "start_time": "2023-05-10T12:38:02.376Z"
   },
   {
    "duration": 4,
    "start_time": "2023-05-10T12:38:12.623Z"
   },
   {
    "duration": 4,
    "start_time": "2023-05-10T12:38:20.838Z"
   },
   {
    "duration": 3,
    "start_time": "2023-05-10T12:38:26.252Z"
   },
   {
    "duration": 4,
    "start_time": "2023-05-10T12:40:08.048Z"
   },
   {
    "duration": 3,
    "start_time": "2023-05-10T12:47:06.447Z"
   },
   {
    "duration": 4,
    "start_time": "2023-05-10T12:47:20.126Z"
   },
   {
    "duration": 10,
    "start_time": "2023-05-10T12:48:40.682Z"
   },
   {
    "duration": 4,
    "start_time": "2023-05-10T12:48:59.311Z"
   },
   {
    "duration": 18,
    "start_time": "2023-05-10T12:49:06.652Z"
   },
   {
    "duration": 15,
    "start_time": "2023-05-10T12:50:38.895Z"
   },
   {
    "duration": 1561,
    "start_time": "2023-05-10T17:18:51.601Z"
   },
   {
    "duration": 3494,
    "start_time": "2023-05-10T17:18:53.164Z"
   },
   {
    "duration": 20,
    "start_time": "2023-05-10T17:18:56.660Z"
   },
   {
    "duration": 14,
    "start_time": "2023-05-10T17:18:56.682Z"
   },
   {
    "duration": 30,
    "start_time": "2023-05-10T17:18:56.698Z"
   },
   {
    "duration": 13,
    "start_time": "2023-05-10T17:18:56.729Z"
   },
   {
    "duration": 10,
    "start_time": "2023-05-10T17:18:56.744Z"
   },
   {
    "duration": 16,
    "start_time": "2023-05-10T17:18:56.756Z"
   },
   {
    "duration": 23,
    "start_time": "2023-05-10T17:18:56.773Z"
   },
   {
    "duration": 22,
    "start_time": "2023-05-10T17:18:56.799Z"
   },
   {
    "duration": 4,
    "start_time": "2023-05-10T17:18:56.823Z"
   },
   {
    "duration": 4,
    "start_time": "2023-05-10T17:18:56.829Z"
   },
   {
    "duration": 8,
    "start_time": "2023-05-10T17:18:56.835Z"
   },
   {
    "duration": 18,
    "start_time": "2023-05-10T17:18:56.845Z"
   },
   {
    "duration": 36,
    "start_time": "2023-05-10T17:18:56.865Z"
   },
   {
    "duration": 55,
    "start_time": "2023-05-10T17:18:56.902Z"
   },
   {
    "duration": 135,
    "start_time": "2023-05-10T17:18:56.959Z"
   },
   {
    "duration": 111,
    "start_time": "2023-05-10T17:18:57.096Z"
   },
   {
    "duration": 6,
    "start_time": "2023-05-10T17:18:57.208Z"
   },
   {
    "duration": 10,
    "start_time": "2023-05-10T17:18:57.216Z"
   },
   {
    "duration": 1689,
    "start_time": "2023-05-10T17:18:57.228Z"
   },
   {
    "duration": 1773,
    "start_time": "2023-05-10T17:18:58.919Z"
   },
   {
    "duration": 1592,
    "start_time": "2023-05-10T17:19:00.694Z"
   },
   {
    "duration": 486,
    "start_time": "2023-05-10T17:19:02.288Z"
   },
   {
    "duration": 13,
    "start_time": "2023-05-10T17:19:02.776Z"
   },
   {
    "duration": 1739,
    "start_time": "2023-05-10T17:19:02.791Z"
   },
   {
    "duration": 6,
    "start_time": "2023-05-10T17:19:04.532Z"
   },
   {
    "duration": 1601,
    "start_time": "2023-05-10T17:19:04.541Z"
   },
   {
    "duration": 3,
    "start_time": "2023-05-10T17:19:06.143Z"
   },
   {
    "duration": 5,
    "start_time": "2023-05-10T17:19:06.148Z"
   },
   {
    "duration": 4,
    "start_time": "2023-05-10T17:19:06.155Z"
   },
   {
    "duration": 5,
    "start_time": "2023-05-10T17:19:06.160Z"
   },
   {
    "duration": 21,
    "start_time": "2023-05-10T17:19:06.166Z"
   },
   {
    "duration": 6,
    "start_time": "2023-05-10T17:19:06.189Z"
   },
   {
    "duration": 12,
    "start_time": "2023-05-10T17:19:06.197Z"
   },
   {
    "duration": 120,
    "start_time": "2023-05-10T17:19:06.210Z"
   },
   {
    "duration": 3,
    "start_time": "2023-05-10T17:19:20.611Z"
   },
   {
    "duration": 15,
    "start_time": "2023-05-10T17:19:21.177Z"
   },
   {
    "duration": 4,
    "start_time": "2023-05-10T17:19:47.911Z"
   },
   {
    "duration": 4,
    "start_time": "2023-05-10T17:20:17.852Z"
   },
   {
    "duration": 18,
    "start_time": "2023-05-10T17:22:41.637Z"
   },
   {
    "duration": 4,
    "start_time": "2023-05-10T17:24:01.881Z"
   },
   {
    "duration": 16,
    "start_time": "2023-05-10T17:24:02.235Z"
   },
   {
    "duration": 3,
    "start_time": "2023-05-10T17:24:19.189Z"
   },
   {
    "duration": 15,
    "start_time": "2023-05-10T17:24:19.619Z"
   },
   {
    "duration": 4,
    "start_time": "2023-05-10T17:25:47.925Z"
   },
   {
    "duration": 25,
    "start_time": "2023-05-10T17:25:48.305Z"
   },
   {
    "duration": 3,
    "start_time": "2023-05-10T17:26:27.182Z"
   },
   {
    "duration": 18,
    "start_time": "2023-05-10T17:26:27.677Z"
   },
   {
    "duration": 12,
    "start_time": "2023-05-10T17:26:42.437Z"
   },
   {
    "duration": 26,
    "start_time": "2023-05-10T17:26:42.907Z"
   },
   {
    "duration": 12,
    "start_time": "2023-05-10T17:26:50.321Z"
   },
   {
    "duration": 10,
    "start_time": "2023-05-10T17:27:13.989Z"
   },
   {
    "duration": 25,
    "start_time": "2023-05-10T17:29:22.229Z"
   },
   {
    "duration": 5,
    "start_time": "2023-05-10T17:38:53.702Z"
   },
   {
    "duration": 996,
    "start_time": "2023-05-10T17:38:57.864Z"
   },
   {
    "duration": 23,
    "start_time": "2023-05-10T17:38:58.862Z"
   },
   {
    "duration": 20,
    "start_time": "2023-05-10T17:38:58.888Z"
   },
   {
    "duration": 18,
    "start_time": "2023-05-10T17:38:58.911Z"
   },
   {
    "duration": 11,
    "start_time": "2023-05-10T17:38:59.028Z"
   },
   {
    "duration": 10,
    "start_time": "2023-05-10T17:38:59.177Z"
   },
   {
    "duration": 10,
    "start_time": "2023-05-10T17:38:59.337Z"
   },
   {
    "duration": 9,
    "start_time": "2023-05-10T17:38:59.505Z"
   },
   {
    "duration": 15,
    "start_time": "2023-05-10T17:38:59.658Z"
   },
   {
    "duration": 5,
    "start_time": "2023-05-10T17:38:59.853Z"
   },
   {
    "duration": 5,
    "start_time": "2023-05-10T17:39:01.133Z"
   },
   {
    "duration": 5,
    "start_time": "2023-05-10T17:39:02.302Z"
   },
   {
    "duration": 5,
    "start_time": "2023-05-10T17:39:02.502Z"
   },
   {
    "duration": 15,
    "start_time": "2023-05-10T17:39:02.983Z"
   },
   {
    "duration": 24,
    "start_time": "2023-05-10T17:39:03.843Z"
   },
   {
    "duration": 169,
    "start_time": "2023-05-10T17:39:04.031Z"
   },
   {
    "duration": 133,
    "start_time": "2023-05-10T17:39:04.211Z"
   },
   {
    "duration": 6,
    "start_time": "2023-05-10T17:39:04.739Z"
   },
   {
    "duration": 5,
    "start_time": "2023-05-10T17:39:04.928Z"
   },
   {
    "duration": 1744,
    "start_time": "2023-05-10T17:39:05.485Z"
   },
   {
    "duration": 2109,
    "start_time": "2023-05-10T17:39:07.232Z"
   },
   {
    "duration": 1876,
    "start_time": "2023-05-10T17:39:09.343Z"
   },
   {
    "duration": 773,
    "start_time": "2023-05-10T17:39:11.221Z"
   },
   {
    "duration": 11,
    "start_time": "2023-05-10T17:39:11.996Z"
   },
   {
    "duration": 1921,
    "start_time": "2023-05-10T17:39:12.010Z"
   },
   {
    "duration": 7,
    "start_time": "2023-05-10T17:39:13.933Z"
   },
   {
    "duration": 1723,
    "start_time": "2023-05-10T17:39:13.943Z"
   },
   {
    "duration": 4,
    "start_time": "2023-05-10T17:39:15.669Z"
   },
   {
    "duration": 32,
    "start_time": "2023-05-10T17:39:15.675Z"
   },
   {
    "duration": 3,
    "start_time": "2023-05-10T17:39:15.713Z"
   },
   {
    "duration": 15,
    "start_time": "2023-05-10T17:39:15.719Z"
   },
   {
    "duration": 9,
    "start_time": "2023-05-10T17:39:15.735Z"
   },
   {
    "duration": 16,
    "start_time": "2023-05-10T17:39:15.746Z"
   },
   {
    "duration": 0,
    "start_time": "2023-05-10T17:39:15.765Z"
   },
   {
    "duration": 0,
    "start_time": "2023-05-10T17:39:15.767Z"
   },
   {
    "duration": 5,
    "start_time": "2023-05-10T17:39:24.519Z"
   },
   {
    "duration": 8,
    "start_time": "2023-05-10T17:39:44.849Z"
   },
   {
    "duration": 6,
    "start_time": "2023-05-10T17:39:46.002Z"
   },
   {
    "duration": 85,
    "start_time": "2023-05-10T17:42:49.047Z"
   },
   {
    "duration": 17,
    "start_time": "2023-05-10T17:43:21.854Z"
   },
   {
    "duration": 12,
    "start_time": "2023-05-10T17:43:22.256Z"
   },
   {
    "duration": 5,
    "start_time": "2023-05-10T17:43:22.622Z"
   },
   {
    "duration": 7,
    "start_time": "2023-05-10T17:43:25.157Z"
   },
   {
    "duration": 5,
    "start_time": "2023-05-10T17:43:25.433Z"
   },
   {
    "duration": 5,
    "start_time": "2023-05-10T17:43:25.667Z"
   },
   {
    "duration": 6,
    "start_time": "2023-05-10T17:43:25.905Z"
   },
   {
    "duration": 85,
    "start_time": "2023-05-10T17:43:26.117Z"
   },
   {
    "duration": 3,
    "start_time": "2023-05-10T17:44:14.634Z"
   },
   {
    "duration": 9,
    "start_time": "2023-05-10T17:44:15.025Z"
   },
   {
    "duration": 13,
    "start_time": "2023-05-10T17:44:15.653Z"
   },
   {
    "duration": 14,
    "start_time": "2023-05-10T17:44:33.941Z"
   },
   {
    "duration": 13,
    "start_time": "2023-05-10T17:44:34.360Z"
   },
   {
    "duration": 3,
    "start_time": "2023-05-10T17:44:45.168Z"
   },
   {
    "duration": 16,
    "start_time": "2023-05-10T17:44:45.513Z"
   },
   {
    "duration": 17,
    "start_time": "2023-05-10T17:44:46.014Z"
   },
   {
    "duration": 13,
    "start_time": "2023-05-10T17:44:46.446Z"
   },
   {
    "duration": 81,
    "start_time": "2023-05-10T17:46:18.070Z"
   },
   {
    "duration": 0,
    "start_time": "2023-05-10T17:46:18.153Z"
   },
   {
    "duration": 0,
    "start_time": "2023-05-10T17:46:18.155Z"
   },
   {
    "duration": 0,
    "start_time": "2023-05-10T17:46:18.156Z"
   },
   {
    "duration": 0,
    "start_time": "2023-05-10T17:46:18.158Z"
   },
   {
    "duration": 0,
    "start_time": "2023-05-10T17:46:33.201Z"
   },
   {
    "duration": 0,
    "start_time": "2023-05-10T17:46:33.202Z"
   },
   {
    "duration": 0,
    "start_time": "2023-05-10T17:46:33.203Z"
   },
   {
    "duration": 0,
    "start_time": "2023-05-10T17:46:33.205Z"
   },
   {
    "duration": 0,
    "start_time": "2023-05-10T17:46:33.206Z"
   },
   {
    "duration": 0,
    "start_time": "2023-05-10T17:46:33.207Z"
   },
   {
    "duration": 0,
    "start_time": "2023-05-10T17:46:33.209Z"
   },
   {
    "duration": 1,
    "start_time": "2023-05-10T17:46:33.210Z"
   },
   {
    "duration": 0,
    "start_time": "2023-05-10T17:46:33.212Z"
   },
   {
    "duration": 0,
    "start_time": "2023-05-10T17:46:33.214Z"
   },
   {
    "duration": 0,
    "start_time": "2023-05-10T17:46:33.216Z"
   },
   {
    "duration": 0,
    "start_time": "2023-05-10T17:46:33.217Z"
   },
   {
    "duration": 0,
    "start_time": "2023-05-10T17:46:33.219Z"
   },
   {
    "duration": 0,
    "start_time": "2023-05-10T17:46:33.220Z"
   },
   {
    "duration": 0,
    "start_time": "2023-05-10T17:46:33.222Z"
   },
   {
    "duration": 0,
    "start_time": "2023-05-10T17:46:33.228Z"
   },
   {
    "duration": 0,
    "start_time": "2023-05-10T17:46:33.229Z"
   },
   {
    "duration": 0,
    "start_time": "2023-05-10T17:46:33.231Z"
   },
   {
    "duration": 0,
    "start_time": "2023-05-10T17:46:33.232Z"
   },
   {
    "duration": 0,
    "start_time": "2023-05-10T17:46:33.234Z"
   },
   {
    "duration": 0,
    "start_time": "2023-05-10T17:46:33.235Z"
   },
   {
    "duration": 0,
    "start_time": "2023-05-10T17:46:33.237Z"
   },
   {
    "duration": 0,
    "start_time": "2023-05-10T17:46:33.238Z"
   },
   {
    "duration": 0,
    "start_time": "2023-05-10T17:46:33.239Z"
   },
   {
    "duration": 0,
    "start_time": "2023-05-10T17:46:33.240Z"
   },
   {
    "duration": 0,
    "start_time": "2023-05-10T17:46:33.242Z"
   },
   {
    "duration": 0,
    "start_time": "2023-05-10T17:46:33.243Z"
   },
   {
    "duration": 0,
    "start_time": "2023-05-10T17:46:33.286Z"
   },
   {
    "duration": 0,
    "start_time": "2023-05-10T17:46:33.288Z"
   },
   {
    "duration": 0,
    "start_time": "2023-05-10T17:46:33.289Z"
   },
   {
    "duration": 0,
    "start_time": "2023-05-10T17:46:33.291Z"
   },
   {
    "duration": 0,
    "start_time": "2023-05-10T17:46:33.292Z"
   },
   {
    "duration": 0,
    "start_time": "2023-05-10T17:46:33.294Z"
   },
   {
    "duration": 0,
    "start_time": "2023-05-10T17:46:33.295Z"
   },
   {
    "duration": 1,
    "start_time": "2023-05-10T17:46:33.296Z"
   },
   {
    "duration": 0,
    "start_time": "2023-05-10T17:46:33.298Z"
   },
   {
    "duration": 0,
    "start_time": "2023-05-10T17:46:33.299Z"
   },
   {
    "duration": 0,
    "start_time": "2023-05-10T17:46:33.301Z"
   },
   {
    "duration": 0,
    "start_time": "2023-05-10T17:46:33.302Z"
   },
   {
    "duration": 0,
    "start_time": "2023-05-10T17:46:33.304Z"
   },
   {
    "duration": 3,
    "start_time": "2023-05-10T17:46:42.174Z"
   },
   {
    "duration": 1071,
    "start_time": "2023-05-10T17:46:42.813Z"
   },
   {
    "duration": 32,
    "start_time": "2023-05-10T17:46:43.893Z"
   },
   {
    "duration": 19,
    "start_time": "2023-05-10T17:46:43.927Z"
   },
   {
    "duration": 41,
    "start_time": "2023-05-10T17:46:43.949Z"
   },
   {
    "duration": 16,
    "start_time": "2023-05-10T17:46:43.992Z"
   },
   {
    "duration": 8,
    "start_time": "2023-05-10T17:46:44.853Z"
   },
   {
    "duration": 16,
    "start_time": "2023-05-10T17:46:45.205Z"
   },
   {
    "duration": 13,
    "start_time": "2023-05-10T17:46:45.315Z"
   },
   {
    "duration": 16,
    "start_time": "2023-05-10T17:46:45.555Z"
   },
   {
    "duration": 5,
    "start_time": "2023-05-10T17:46:45.780Z"
   },
   {
    "duration": 5,
    "start_time": "2023-05-10T17:46:46.450Z"
   },
   {
    "duration": 6,
    "start_time": "2023-05-10T17:46:46.643Z"
   },
   {
    "duration": 6,
    "start_time": "2023-05-10T17:46:46.817Z"
   },
   {
    "duration": 14,
    "start_time": "2023-05-10T17:46:47.141Z"
   },
   {
    "duration": 24,
    "start_time": "2023-05-10T17:46:48.022Z"
   },
   {
    "duration": 167,
    "start_time": "2023-05-10T17:46:48.209Z"
   },
   {
    "duration": 131,
    "start_time": "2023-05-10T17:46:48.379Z"
   },
   {
    "duration": 6,
    "start_time": "2023-05-10T17:46:49.117Z"
   },
   {
    "duration": 9,
    "start_time": "2023-05-10T17:46:49.314Z"
   },
   {
    "duration": 1867,
    "start_time": "2023-05-10T17:46:50.324Z"
   },
   {
    "duration": 1941,
    "start_time": "2023-05-10T17:46:52.194Z"
   },
   {
    "duration": 1948,
    "start_time": "2023-05-10T17:46:54.141Z"
   },
   {
    "duration": 738,
    "start_time": "2023-05-10T17:46:56.093Z"
   },
   {
    "duration": 9,
    "start_time": "2023-05-10T17:46:56.833Z"
   },
   {
    "duration": 2037,
    "start_time": "2023-05-10T17:46:56.844Z"
   },
   {
    "duration": 7,
    "start_time": "2023-05-10T17:47:01.739Z"
   },
   {
    "duration": 1934,
    "start_time": "2023-05-10T17:47:02.128Z"
   },
   {
    "duration": 4,
    "start_time": "2023-05-10T17:47:04.074Z"
   },
   {
    "duration": 4,
    "start_time": "2023-05-10T17:47:04.658Z"
   },
   {
    "duration": 4,
    "start_time": "2023-05-10T17:47:05.025Z"
   },
   {
    "duration": 3,
    "start_time": "2023-05-10T17:47:05.865Z"
   },
   {
    "duration": 11,
    "start_time": "2023-05-10T17:47:06.214Z"
   },
   {
    "duration": 10,
    "start_time": "2023-05-10T17:47:06.567Z"
   },
   {
    "duration": 6,
    "start_time": "2023-05-10T17:47:06.968Z"
   },
   {
    "duration": 10,
    "start_time": "2023-05-10T17:47:07.548Z"
   },
   {
    "duration": 540,
    "start_time": "2023-05-10T17:47:16.155Z"
   },
   {
    "duration": 6,
    "start_time": "2023-05-10T17:53:26.864Z"
   },
   {
    "duration": 8,
    "start_time": "2023-05-10T17:54:42.003Z"
   },
   {
    "duration": 6,
    "start_time": "2023-05-10T17:54:58.628Z"
   },
   {
    "duration": 8,
    "start_time": "2023-05-10T17:55:22.579Z"
   },
   {
    "duration": 4,
    "start_time": "2023-05-10T17:56:41.061Z"
   },
   {
    "duration": 8,
    "start_time": "2023-05-10T17:57:46.620Z"
   },
   {
    "duration": 10,
    "start_time": "2023-05-10T17:58:10.910Z"
   },
   {
    "duration": 13,
    "start_time": "2023-05-10T17:58:29.213Z"
   },
   {
    "duration": 8,
    "start_time": "2023-05-10T17:58:34.874Z"
   },
   {
    "duration": 8,
    "start_time": "2023-05-10T17:59:26.210Z"
   },
   {
    "duration": 19,
    "start_time": "2023-05-10T18:00:29.283Z"
   },
   {
    "duration": 34,
    "start_time": "2023-05-10T18:02:11.473Z"
   },
   {
    "duration": 10,
    "start_time": "2023-05-10T18:02:12.231Z"
   },
   {
    "duration": 9,
    "start_time": "2023-05-10T18:02:21.539Z"
   },
   {
    "duration": 3,
    "start_time": "2023-05-10T18:02:32.963Z"
   },
   {
    "duration": 3,
    "start_time": "2023-05-10T18:02:33.375Z"
   },
   {
    "duration": 19,
    "start_time": "2023-05-10T18:02:34.122Z"
   },
   {
    "duration": 11,
    "start_time": "2023-05-10T18:03:50.302Z"
   },
   {
    "duration": 9,
    "start_time": "2023-05-10T18:04:42.236Z"
   },
   {
    "duration": 13,
    "start_time": "2023-05-10T18:06:13.562Z"
   },
   {
    "duration": 12,
    "start_time": "2023-05-10T18:09:36.463Z"
   },
   {
    "duration": 74,
    "start_time": "2023-05-10T18:10:28.973Z"
   },
   {
    "duration": 14,
    "start_time": "2023-05-10T18:10:42.879Z"
   },
   {
    "duration": 25,
    "start_time": "2023-05-10T18:11:11.581Z"
   },
   {
    "duration": 77,
    "start_time": "2023-05-10T18:11:28.355Z"
   },
   {
    "duration": 62,
    "start_time": "2023-05-10T18:11:33.409Z"
   },
   {
    "duration": 77,
    "start_time": "2023-05-10T18:11:39.069Z"
   },
   {
    "duration": 66,
    "start_time": "2023-05-10T18:11:45.355Z"
   },
   {
    "duration": 70,
    "start_time": "2023-05-10T18:11:49.252Z"
   },
   {
    "duration": 80,
    "start_time": "2023-05-10T18:11:57.471Z"
   },
   {
    "duration": 24,
    "start_time": "2023-05-10T18:12:01.473Z"
   },
   {
    "duration": 75,
    "start_time": "2023-05-10T18:12:08.533Z"
   },
   {
    "duration": 12,
    "start_time": "2023-05-10T18:12:27.643Z"
   },
   {
    "duration": 19,
    "start_time": "2023-05-10T18:12:53.208Z"
   },
   {
    "duration": 13,
    "start_time": "2023-05-10T18:15:58.447Z"
   },
   {
    "duration": 15,
    "start_time": "2023-05-10T18:16:45.492Z"
   },
   {
    "duration": 12,
    "start_time": "2023-05-10T18:17:25.815Z"
   },
   {
    "duration": 14,
    "start_time": "2023-05-10T18:17:57.015Z"
   },
   {
    "duration": 14,
    "start_time": "2023-05-10T18:18:06.227Z"
   },
   {
    "duration": 13,
    "start_time": "2023-05-10T18:18:12.613Z"
   },
   {
    "duration": 27,
    "start_time": "2023-05-10T18:19:33.886Z"
   },
   {
    "duration": 14,
    "start_time": "2023-05-10T18:19:44.430Z"
   },
   {
    "duration": 556,
    "start_time": "2023-05-10T18:20:39.442Z"
   },
   {
    "duration": 32,
    "start_time": "2023-05-10T18:20:56.781Z"
   },
   {
    "duration": 5,
    "start_time": "2023-05-10T18:21:12.401Z"
   },
   {
    "duration": 1405,
    "start_time": "2023-05-10T18:21:12.855Z"
   },
   {
    "duration": 32,
    "start_time": "2023-05-10T18:21:14.266Z"
   },
   {
    "duration": 25,
    "start_time": "2023-05-10T18:21:14.305Z"
   },
   {
    "duration": 34,
    "start_time": "2023-05-10T18:21:14.336Z"
   },
   {
    "duration": 21,
    "start_time": "2023-05-10T18:21:14.372Z"
   },
   {
    "duration": 16,
    "start_time": "2023-05-10T18:21:14.400Z"
   },
   {
    "duration": 20,
    "start_time": "2023-05-10T18:21:14.422Z"
   },
   {
    "duration": 17,
    "start_time": "2023-05-10T18:21:15.266Z"
   },
   {
    "duration": 42,
    "start_time": "2023-05-10T18:21:16.013Z"
   },
   {
    "duration": 28,
    "start_time": "2023-05-10T18:21:16.185Z"
   },
   {
    "duration": 8,
    "start_time": "2023-05-10T18:21:16.975Z"
   },
   {
    "duration": 6,
    "start_time": "2023-05-10T18:21:17.161Z"
   },
   {
    "duration": 10,
    "start_time": "2023-05-10T18:21:17.305Z"
   },
   {
    "duration": 16,
    "start_time": "2023-05-10T18:21:17.625Z"
   },
   {
    "duration": 54,
    "start_time": "2023-05-10T18:21:18.365Z"
   },
   {
    "duration": 206,
    "start_time": "2023-05-10T18:21:18.553Z"
   },
   {
    "duration": 152,
    "start_time": "2023-05-10T18:21:18.761Z"
   },
   {
    "duration": 7,
    "start_time": "2023-05-10T18:21:19.251Z"
   },
   {
    "duration": 9,
    "start_time": "2023-05-10T18:21:19.602Z"
   },
   {
    "duration": 2330,
    "start_time": "2023-05-10T18:21:20.179Z"
   },
   {
    "duration": 2110,
    "start_time": "2023-05-10T18:21:22.512Z"
   },
   {
    "duration": 2254,
    "start_time": "2023-05-10T18:21:24.624Z"
   },
   {
    "duration": 703,
    "start_time": "2023-05-10T18:21:26.887Z"
   },
   {
    "duration": 12,
    "start_time": "2023-05-10T18:21:27.601Z"
   },
   {
    "duration": 2252,
    "start_time": "2023-05-10T18:21:27.615Z"
   },
   {
    "duration": 7,
    "start_time": "2023-05-10T18:21:29.869Z"
   },
   {
    "duration": 2473,
    "start_time": "2023-05-10T18:21:29.877Z"
   },
   {
    "duration": 7,
    "start_time": "2023-05-10T18:21:32.352Z"
   },
   {
    "duration": 7,
    "start_time": "2023-05-10T18:21:32.362Z"
   },
   {
    "duration": 31,
    "start_time": "2023-05-10T18:21:32.371Z"
   },
   {
    "duration": 24,
    "start_time": "2023-05-10T18:21:32.407Z"
   },
   {
    "duration": 15,
    "start_time": "2023-05-10T18:21:36.352Z"
   },
   {
    "duration": 401,
    "start_time": "2023-05-10T18:21:39.104Z"
   },
   {
    "duration": 814,
    "start_time": "2023-05-10T18:23:38.009Z"
   },
   {
    "duration": 43,
    "start_time": "2023-05-10T18:24:42.809Z"
   },
   {
    "duration": 8,
    "start_time": "2023-05-10T18:27:22.287Z"
   },
   {
    "duration": 3,
    "start_time": "2023-05-10T18:27:30.244Z"
   },
   {
    "duration": 716,
    "start_time": "2023-05-10T18:27:51.687Z"
   },
   {
    "duration": 12,
    "start_time": "2023-05-10T18:32:33.851Z"
   },
   {
    "duration": 9,
    "start_time": "2023-05-10T18:33:41.717Z"
   },
   {
    "duration": 1038,
    "start_time": "2023-05-10T18:33:42.342Z"
   },
   {
    "duration": 37,
    "start_time": "2023-05-10T18:33:43.382Z"
   },
   {
    "duration": 18,
    "start_time": "2023-05-10T18:33:43.428Z"
   },
   {
    "duration": 25,
    "start_time": "2023-05-10T18:33:43.449Z"
   },
   {
    "duration": 18,
    "start_time": "2023-05-10T18:33:43.629Z"
   },
   {
    "duration": 13,
    "start_time": "2023-05-10T18:33:43.832Z"
   },
   {
    "duration": 25,
    "start_time": "2023-05-10T18:33:44.012Z"
   },
   {
    "duration": 15,
    "start_time": "2023-05-10T18:33:44.208Z"
   },
   {
    "duration": 16,
    "start_time": "2023-05-10T18:33:44.357Z"
   },
   {
    "duration": 5,
    "start_time": "2023-05-10T18:33:44.558Z"
   },
   {
    "duration": 5,
    "start_time": "2023-05-10T18:33:45.131Z"
   },
   {
    "duration": 8,
    "start_time": "2023-05-10T18:33:45.304Z"
   },
   {
    "duration": 6,
    "start_time": "2023-05-10T18:33:45.469Z"
   },
   {
    "duration": 15,
    "start_time": "2023-05-10T18:33:46.349Z"
   },
   {
    "duration": 29,
    "start_time": "2023-05-10T18:33:46.554Z"
   },
   {
    "duration": 148,
    "start_time": "2023-05-10T18:33:46.716Z"
   },
   {
    "duration": 151,
    "start_time": "2023-05-10T18:33:46.879Z"
   },
   {
    "duration": 11,
    "start_time": "2023-05-10T18:33:47.176Z"
   },
   {
    "duration": 5,
    "start_time": "2023-05-10T18:33:47.340Z"
   },
   {
    "duration": 1755,
    "start_time": "2023-05-10T18:33:47.916Z"
   },
   {
    "duration": 2024,
    "start_time": "2023-05-10T18:33:49.673Z"
   },
   {
    "duration": 1894,
    "start_time": "2023-05-10T18:33:51.699Z"
   },
   {
    "duration": 659,
    "start_time": "2023-05-10T18:33:53.595Z"
   },
   {
    "duration": 12,
    "start_time": "2023-05-10T18:33:54.265Z"
   },
   {
    "duration": 1928,
    "start_time": "2023-05-10T18:33:54.280Z"
   },
   {
    "duration": 7,
    "start_time": "2023-05-10T18:33:56.209Z"
   },
   {
    "duration": 1861,
    "start_time": "2023-05-10T18:33:56.218Z"
   },
   {
    "duration": 6,
    "start_time": "2023-05-10T18:33:58.081Z"
   },
   {
    "duration": 8,
    "start_time": "2023-05-10T18:33:58.102Z"
   },
   {
    "duration": 14,
    "start_time": "2023-05-10T18:33:58.114Z"
   },
   {
    "duration": 10,
    "start_time": "2023-05-10T18:33:58.131Z"
   },
   {
    "duration": 14,
    "start_time": "2023-05-10T18:33:58.144Z"
   },
   {
    "duration": 3333,
    "start_time": "2023-05-10T18:33:58.160Z"
   },
   {
    "duration": 4485,
    "start_time": "2023-05-10T18:35:56.538Z"
   },
   {
    "duration": 2091,
    "start_time": "2023-05-10T18:36:01.040Z"
   },
   {
    "duration": 1547,
    "start_time": "2023-05-10T18:42:40.424Z"
   },
   {
    "duration": 958,
    "start_time": "2023-05-10T18:42:41.973Z"
   },
   {
    "duration": 20,
    "start_time": "2023-05-10T18:42:42.933Z"
   },
   {
    "duration": 13,
    "start_time": "2023-05-10T18:42:42.955Z"
   },
   {
    "duration": 33,
    "start_time": "2023-05-10T18:42:42.988Z"
   },
   {
    "duration": 13,
    "start_time": "2023-05-10T18:42:43.024Z"
   },
   {
    "duration": 9,
    "start_time": "2023-05-10T18:42:43.040Z"
   },
   {
    "duration": 36,
    "start_time": "2023-05-10T18:42:43.051Z"
   },
   {
    "duration": 19,
    "start_time": "2023-05-10T18:42:43.089Z"
   },
   {
    "duration": 20,
    "start_time": "2023-05-10T18:42:43.113Z"
   },
   {
    "duration": 6,
    "start_time": "2023-05-10T18:42:43.134Z"
   },
   {
    "duration": 5,
    "start_time": "2023-05-10T18:42:43.141Z"
   },
   {
    "duration": 8,
    "start_time": "2023-05-10T18:42:43.147Z"
   },
   {
    "duration": 33,
    "start_time": "2023-05-10T18:42:43.157Z"
   },
   {
    "duration": 14,
    "start_time": "2023-05-10T18:42:43.192Z"
   },
   {
    "duration": 33,
    "start_time": "2023-05-10T18:42:43.208Z"
   },
   {
    "duration": 177,
    "start_time": "2023-05-10T18:42:43.242Z"
   },
   {
    "duration": 116,
    "start_time": "2023-05-10T18:42:43.425Z"
   },
   {
    "duration": 6,
    "start_time": "2023-05-10T18:42:43.543Z"
   },
   {
    "duration": 7,
    "start_time": "2023-05-10T18:42:43.551Z"
   },
   {
    "duration": 1818,
    "start_time": "2023-05-10T18:42:43.559Z"
   },
   {
    "duration": 1731,
    "start_time": "2023-05-10T18:42:45.379Z"
   },
   {
    "duration": 1819,
    "start_time": "2023-05-10T18:42:47.112Z"
   },
   {
    "duration": 575,
    "start_time": "2023-05-10T18:42:48.933Z"
   },
   {
    "duration": 11,
    "start_time": "2023-05-10T18:42:49.516Z"
   },
   {
    "duration": 1838,
    "start_time": "2023-05-10T18:42:49.529Z"
   },
   {
    "duration": 7,
    "start_time": "2023-05-10T18:42:51.369Z"
   },
   {
    "duration": 1975,
    "start_time": "2023-05-10T18:42:51.385Z"
   },
   {
    "duration": 4,
    "start_time": "2023-05-10T18:42:53.362Z"
   },
   {
    "duration": 4,
    "start_time": "2023-05-10T18:42:53.368Z"
   },
   {
    "duration": 11,
    "start_time": "2023-05-10T18:42:53.384Z"
   },
   {
    "duration": 13,
    "start_time": "2023-05-10T18:42:53.398Z"
   },
   {
    "duration": 16,
    "start_time": "2023-05-10T18:42:53.413Z"
   },
   {
    "duration": 683,
    "start_time": "2023-05-10T18:42:53.431Z"
   },
   {
    "duration": 2667,
    "start_time": "2023-05-10T18:42:54.122Z"
   },
   {
    "duration": 5115,
    "start_time": "2023-05-10T18:43:48.113Z"
   },
   {
    "duration": 2757,
    "start_time": "2023-05-10T18:43:59.868Z"
   },
   {
    "duration": 5052,
    "start_time": "2023-05-10T18:46:40.576Z"
   },
   {
    "duration": 101666,
    "start_time": "2023-05-10T18:47:35.117Z"
   },
   {
    "duration": 4,
    "start_time": "2023-05-10T18:49:58.225Z"
   },
   {
    "duration": 1873,
    "start_time": "2023-05-10T18:50:27.625Z"
   },
   {
    "duration": 2647,
    "start_time": "2023-05-10T18:50:45.645Z"
   },
   {
    "duration": 173797,
    "start_time": "2023-05-10T18:51:28.771Z"
   },
   {
    "duration": 1391,
    "start_time": "2023-05-10T18:56:51.545Z"
   },
   {
    "duration": 885,
    "start_time": "2023-05-10T18:56:52.938Z"
   },
   {
    "duration": 22,
    "start_time": "2023-05-10T18:56:53.825Z"
   },
   {
    "duration": 17,
    "start_time": "2023-05-10T18:56:53.852Z"
   },
   {
    "duration": 47,
    "start_time": "2023-05-10T18:56:53.871Z"
   },
   {
    "duration": 16,
    "start_time": "2023-05-10T18:56:53.922Z"
   },
   {
    "duration": 10,
    "start_time": "2023-05-10T18:56:53.940Z"
   },
   {
    "duration": 35,
    "start_time": "2023-05-10T18:56:53.952Z"
   },
   {
    "duration": 17,
    "start_time": "2023-05-10T18:56:53.988Z"
   },
   {
    "duration": 19,
    "start_time": "2023-05-10T18:56:54.010Z"
   },
   {
    "duration": 6,
    "start_time": "2023-05-10T18:56:54.032Z"
   },
   {
    "duration": 7,
    "start_time": "2023-05-10T18:56:54.040Z"
   },
   {
    "duration": 41,
    "start_time": "2023-05-10T18:56:54.051Z"
   },
   {
    "duration": 14,
    "start_time": "2023-05-10T18:56:54.099Z"
   },
   {
    "duration": 16,
    "start_time": "2023-05-10T18:56:54.118Z"
   },
   {
    "duration": 30,
    "start_time": "2023-05-10T18:56:54.141Z"
   },
   {
    "duration": 163,
    "start_time": "2023-05-10T18:56:54.174Z"
   },
   {
    "duration": 119,
    "start_time": "2023-05-10T18:56:54.339Z"
   },
   {
    "duration": 6,
    "start_time": "2023-05-10T18:56:54.461Z"
   },
   {
    "duration": 26,
    "start_time": "2023-05-10T18:56:54.469Z"
   },
   {
    "duration": 1696,
    "start_time": "2023-05-10T18:56:54.501Z"
   },
   {
    "duration": 1702,
    "start_time": "2023-05-10T18:56:56.199Z"
   },
   {
    "duration": 1578,
    "start_time": "2023-05-10T18:56:57.903Z"
   },
   {
    "duration": 466,
    "start_time": "2023-05-10T18:56:59.482Z"
   },
   {
    "duration": 8,
    "start_time": "2023-05-10T18:56:59.949Z"
   },
   {
    "duration": 1730,
    "start_time": "2023-05-10T18:56:59.958Z"
   },
   {
    "duration": 8,
    "start_time": "2023-05-10T18:57:01.695Z"
   },
   {
    "duration": 1745,
    "start_time": "2023-05-10T18:57:01.711Z"
   },
   {
    "duration": 3,
    "start_time": "2023-05-10T18:57:03.458Z"
   },
   {
    "duration": 5,
    "start_time": "2023-05-10T18:57:03.463Z"
   },
   {
    "duration": 4,
    "start_time": "2023-05-10T18:57:03.470Z"
   },
   {
    "duration": 12,
    "start_time": "2023-05-10T18:57:03.492Z"
   },
   {
    "duration": 9,
    "start_time": "2023-05-10T18:57:03.506Z"
   },
   {
    "duration": 795,
    "start_time": "2023-05-10T18:57:03.517Z"
   },
   {
    "duration": 1583,
    "start_time": "2023-05-10T18:57:34.671Z"
   },
   {
    "duration": 871,
    "start_time": "2023-05-10T18:57:36.256Z"
   },
   {
    "duration": 30,
    "start_time": "2023-05-10T18:57:37.129Z"
   },
   {
    "duration": 30,
    "start_time": "2023-05-10T18:57:37.162Z"
   },
   {
    "duration": 25,
    "start_time": "2023-05-10T18:57:37.194Z"
   },
   {
    "duration": 25,
    "start_time": "2023-05-10T18:57:37.220Z"
   },
   {
    "duration": 7,
    "start_time": "2023-05-10T18:57:37.246Z"
   },
   {
    "duration": 11,
    "start_time": "2023-05-10T18:57:37.255Z"
   },
   {
    "duration": 19,
    "start_time": "2023-05-10T18:57:37.285Z"
   },
   {
    "duration": 18,
    "start_time": "2023-05-10T18:57:37.308Z"
   },
   {
    "duration": 6,
    "start_time": "2023-05-10T18:57:37.327Z"
   },
   {
    "duration": 13,
    "start_time": "2023-05-10T18:57:37.335Z"
   },
   {
    "duration": 21,
    "start_time": "2023-05-10T18:57:37.349Z"
   },
   {
    "duration": 14,
    "start_time": "2023-05-10T18:57:37.372Z"
   },
   {
    "duration": 18,
    "start_time": "2023-05-10T18:57:37.392Z"
   },
   {
    "duration": 38,
    "start_time": "2023-05-10T18:57:37.411Z"
   },
   {
    "duration": 155,
    "start_time": "2023-05-10T18:57:37.451Z"
   },
   {
    "duration": 105,
    "start_time": "2023-05-10T18:57:37.608Z"
   },
   {
    "duration": 6,
    "start_time": "2023-05-10T18:57:37.716Z"
   },
   {
    "duration": 7,
    "start_time": "2023-05-10T18:57:37.725Z"
   },
   {
    "duration": 1639,
    "start_time": "2023-05-10T18:57:37.734Z"
   },
   {
    "duration": 1633,
    "start_time": "2023-05-10T18:57:39.375Z"
   },
   {
    "duration": 1674,
    "start_time": "2023-05-10T18:57:41.010Z"
   },
   {
    "duration": 510,
    "start_time": "2023-05-10T18:57:42.686Z"
   },
   {
    "duration": 14,
    "start_time": "2023-05-10T18:57:43.198Z"
   },
   {
    "duration": 1918,
    "start_time": "2023-05-10T18:57:43.214Z"
   },
   {
    "duration": 6,
    "start_time": "2023-05-10T18:57:45.134Z"
   },
   {
    "duration": 1907,
    "start_time": "2023-05-10T18:57:45.144Z"
   },
   {
    "duration": 2,
    "start_time": "2023-05-10T18:57:47.053Z"
   },
   {
    "duration": 12,
    "start_time": "2023-05-10T18:57:47.057Z"
   },
   {
    "duration": 8,
    "start_time": "2023-05-10T18:57:47.071Z"
   },
   {
    "duration": 12,
    "start_time": "2023-05-10T18:57:47.081Z"
   },
   {
    "duration": 19,
    "start_time": "2023-05-10T18:57:47.095Z"
   },
   {
    "duration": 509,
    "start_time": "2023-05-10T18:57:47.116Z"
   },
   {
    "duration": 104491,
    "start_time": "2023-05-10T18:57:47.629Z"
   },
   {
    "duration": 1859,
    "start_time": "2023-05-10T18:59:32.123Z"
   },
   {
    "duration": 11,
    "start_time": "2023-05-10T18:59:33.984Z"
   },
   {
    "duration": 2399,
    "start_time": "2023-05-10T18:59:34.002Z"
   },
   {
    "duration": 3714,
    "start_time": "2023-05-10T18:59:36.407Z"
   },
   {
    "duration": 203725,
    "start_time": "2023-05-10T18:59:40.124Z"
   },
   {
    "duration": 207025,
    "start_time": "2023-05-10T19:03:03.851Z"
   },
   {
    "duration": 3798,
    "start_time": "2023-05-10T19:06:30.878Z"
   },
   {
    "duration": 3649,
    "start_time": "2023-05-10T19:06:34.679Z"
   },
   {
    "duration": 55474,
    "start_time": "2023-05-10T19:08:38.683Z"
   },
   {
    "duration": 107575,
    "start_time": "2023-05-10T19:09:34.159Z"
   },
   {
    "duration": 100022,
    "start_time": "2023-05-10T19:11:21.736Z"
   },
   {
    "duration": 89115,
    "start_time": "2023-05-10T19:13:44.444Z"
   },
   {
    "duration": 173240,
    "start_time": "2023-05-10T19:15:13.561Z"
   },
   {
    "duration": 1524,
    "start_time": "2023-05-10T19:21:04.556Z"
   },
   {
    "duration": 906,
    "start_time": "2023-05-10T19:21:06.082Z"
   },
   {
    "duration": 28,
    "start_time": "2023-05-10T19:21:06.991Z"
   },
   {
    "duration": 13,
    "start_time": "2023-05-10T19:21:07.022Z"
   },
   {
    "duration": 17,
    "start_time": "2023-05-10T19:21:07.036Z"
   },
   {
    "duration": 40,
    "start_time": "2023-05-10T19:21:07.055Z"
   },
   {
    "duration": 9,
    "start_time": "2023-05-10T19:21:07.098Z"
   },
   {
    "duration": 11,
    "start_time": "2023-05-10T19:21:07.109Z"
   },
   {
    "duration": 12,
    "start_time": "2023-05-10T19:21:07.122Z"
   },
   {
    "duration": 48,
    "start_time": "2023-05-10T19:21:07.137Z"
   },
   {
    "duration": 7,
    "start_time": "2023-05-10T19:21:07.188Z"
   },
   {
    "duration": 4,
    "start_time": "2023-05-10T19:21:07.197Z"
   },
   {
    "duration": 9,
    "start_time": "2023-05-10T19:21:07.204Z"
   },
   {
    "duration": 5,
    "start_time": "2023-05-10T19:21:07.215Z"
   },
   {
    "duration": 14,
    "start_time": "2023-05-10T19:21:07.222Z"
   },
   {
    "duration": 76,
    "start_time": "2023-05-10T19:21:07.238Z"
   },
   {
    "duration": 141,
    "start_time": "2023-05-10T19:21:07.316Z"
   },
   {
    "duration": 114,
    "start_time": "2023-05-10T19:21:07.459Z"
   },
   {
    "duration": 14,
    "start_time": "2023-05-10T19:21:07.575Z"
   },
   {
    "duration": 5,
    "start_time": "2023-05-10T19:21:07.592Z"
   },
   {
    "duration": 1810,
    "start_time": "2023-05-10T19:21:07.599Z"
   },
   {
    "duration": 1786,
    "start_time": "2023-05-10T19:21:09.411Z"
   },
   {
    "duration": 1646,
    "start_time": "2023-05-10T19:21:11.201Z"
   },
   {
    "duration": 555,
    "start_time": "2023-05-10T19:21:12.850Z"
   },
   {
    "duration": 8,
    "start_time": "2023-05-10T19:21:13.407Z"
   },
   {
    "duration": 1609,
    "start_time": "2023-05-10T19:21:13.417Z"
   },
   {
    "duration": 6,
    "start_time": "2023-05-10T19:21:15.027Z"
   },
   {
    "duration": 1881,
    "start_time": "2023-05-10T19:21:15.038Z"
   },
   {
    "duration": 3,
    "start_time": "2023-05-10T19:21:16.921Z"
   },
   {
    "duration": 5,
    "start_time": "2023-05-10T19:21:16.925Z"
   },
   {
    "duration": 4,
    "start_time": "2023-05-10T19:21:16.932Z"
   },
   {
    "duration": 9,
    "start_time": "2023-05-10T19:21:16.937Z"
   },
   {
    "duration": 39,
    "start_time": "2023-05-10T19:21:16.949Z"
   },
   {
    "duration": 803,
    "start_time": "2023-05-10T19:21:16.989Z"
   },
   {
    "duration": 35322,
    "start_time": "2023-05-10T19:21:17.806Z"
   },
   {
    "duration": 1741,
    "start_time": "2023-05-10T19:21:53.129Z"
   },
   {
    "duration": 4,
    "start_time": "2023-05-10T19:21:54.871Z"
   },
   {
    "duration": 2508,
    "start_time": "2023-05-10T19:21:54.887Z"
   },
   {
    "duration": 1602,
    "start_time": "2023-05-10T19:21:57.399Z"
   },
   {
    "duration": 71273,
    "start_time": "2023-05-10T19:21:59.008Z"
   },
   {
    "duration": 68857,
    "start_time": "2023-05-10T19:23:10.282Z"
   },
   {
    "duration": 3304,
    "start_time": "2023-05-10T19:24:19.141Z"
   },
   {
    "duration": 3335,
    "start_time": "2023-05-10T19:24:22.447Z"
   },
   {
    "duration": 1837,
    "start_time": "2023-05-11T09:41:17.492Z"
   },
   {
    "duration": 3255,
    "start_time": "2023-05-11T09:41:19.332Z"
   },
   {
    "duration": 26,
    "start_time": "2023-05-11T09:41:22.589Z"
   },
   {
    "duration": 18,
    "start_time": "2023-05-11T09:41:22.619Z"
   },
   {
    "duration": 28,
    "start_time": "2023-05-11T09:41:22.639Z"
   },
   {
    "duration": 22,
    "start_time": "2023-05-11T09:41:22.669Z"
   },
   {
    "duration": 8,
    "start_time": "2023-05-11T09:41:22.699Z"
   },
   {
    "duration": 15,
    "start_time": "2023-05-11T09:41:22.710Z"
   },
   {
    "duration": 16,
    "start_time": "2023-05-11T09:41:22.727Z"
   },
   {
    "duration": 15,
    "start_time": "2023-05-11T09:41:22.746Z"
   },
   {
    "duration": 6,
    "start_time": "2023-05-11T09:41:22.763Z"
   },
   {
    "duration": 35,
    "start_time": "2023-05-11T09:41:22.771Z"
   },
   {
    "duration": 9,
    "start_time": "2023-05-11T09:41:22.810Z"
   },
   {
    "duration": 7,
    "start_time": "2023-05-11T09:41:22.822Z"
   },
   {
    "duration": 20,
    "start_time": "2023-05-11T09:41:22.831Z"
   },
   {
    "duration": 58,
    "start_time": "2023-05-11T09:41:22.852Z"
   },
   {
    "duration": 155,
    "start_time": "2023-05-11T09:41:22.913Z"
   },
   {
    "duration": 111,
    "start_time": "2023-05-11T09:41:23.070Z"
   },
   {
    "duration": 5,
    "start_time": "2023-05-11T09:41:23.183Z"
   },
   {
    "duration": 12,
    "start_time": "2023-05-11T09:41:23.189Z"
   },
   {
    "duration": 1777,
    "start_time": "2023-05-11T09:41:23.207Z"
   },
   {
    "duration": 1669,
    "start_time": "2023-05-11T09:41:24.986Z"
   },
   {
    "duration": 1743,
    "start_time": "2023-05-11T09:41:26.657Z"
   },
   {
    "duration": 625,
    "start_time": "2023-05-11T09:41:28.402Z"
   },
   {
    "duration": 10,
    "start_time": "2023-05-11T09:41:29.030Z"
   },
   {
    "duration": 2006,
    "start_time": "2023-05-11T09:41:29.042Z"
   },
   {
    "duration": 5,
    "start_time": "2023-05-11T09:41:31.050Z"
   },
   {
    "duration": 1758,
    "start_time": "2023-05-11T09:41:31.058Z"
   },
   {
    "duration": 3,
    "start_time": "2023-05-11T09:41:32.818Z"
   },
   {
    "duration": 5,
    "start_time": "2023-05-11T09:41:32.823Z"
   },
   {
    "duration": 5,
    "start_time": "2023-05-11T09:41:32.830Z"
   },
   {
    "duration": 8,
    "start_time": "2023-05-11T09:41:32.838Z"
   },
   {
    "duration": 19,
    "start_time": "2023-05-11T09:41:32.848Z"
   },
   {
    "duration": 350,
    "start_time": "2023-05-11T09:41:32.869Z"
   },
   {
    "duration": 34981,
    "start_time": "2023-05-11T09:41:33.223Z"
   },
   {
    "duration": 1627,
    "start_time": "2023-05-11T09:42:08.208Z"
   },
   {
    "duration": 3,
    "start_time": "2023-05-11T09:42:09.837Z"
   },
   {
    "duration": 3362,
    "start_time": "2023-05-11T09:42:09.841Z"
   },
   {
    "duration": 3391,
    "start_time": "2023-05-11T09:42:13.209Z"
   },
   {
    "duration": 69432,
    "start_time": "2023-05-11T09:42:16.601Z"
   },
   {
    "duration": 67818,
    "start_time": "2023-05-11T09:43:26.035Z"
   },
   {
    "duration": 3271,
    "start_time": "2023-05-11T09:44:33.856Z"
   },
   {
    "duration": 3242,
    "start_time": "2023-05-11T09:44:37.130Z"
   },
   {
    "duration": 3,
    "start_time": "2023-05-11T09:56:29.515Z"
   },
   {
    "duration": 151,
    "start_time": "2023-05-11T09:58:21.323Z"
   },
   {
    "duration": 2149,
    "start_time": "2023-05-11T09:59:00.382Z"
   },
   {
    "duration": 3,
    "start_time": "2023-05-11T10:00:01.314Z"
   },
   {
    "duration": 2421,
    "start_time": "2023-05-11T10:00:07.877Z"
   },
   {
    "duration": 765,
    "start_time": "2023-05-11T10:03:05.547Z"
   },
   {
    "duration": 215,
    "start_time": "2023-05-11T10:03:24.097Z"
   },
   {
    "duration": 4,
    "start_time": "2023-05-11T10:03:41.612Z"
   },
   {
    "duration": 20,
    "start_time": "2023-05-11T10:03:45.287Z"
   },
   {
    "duration": 1298,
    "start_time": "2023-05-11T10:03:57.920Z"
   },
   {
    "duration": 14,
    "start_time": "2023-05-11T10:22:05.088Z"
   },
   {
    "duration": 4,
    "start_time": "2023-05-11T10:22:21.163Z"
   },
   {
    "duration": 180,
    "start_time": "2023-05-11T10:22:29.536Z"
   },
   {
    "duration": 3,
    "start_time": "2023-05-11T10:23:01.717Z"
   },
   {
    "duration": 18,
    "start_time": "2023-05-11T10:23:03.437Z"
   },
   {
    "duration": 6,
    "start_time": "2023-05-11T10:23:34.117Z"
   },
   {
    "duration": 23,
    "start_time": "2023-05-11T10:23:35.166Z"
   },
   {
    "duration": 21,
    "start_time": "2023-05-11T10:24:08.287Z"
   },
   {
    "duration": 26,
    "start_time": "2023-05-11T10:24:11.283Z"
   },
   {
    "duration": 3,
    "start_time": "2023-05-11T10:24:57.264Z"
   },
   {
    "duration": 1522,
    "start_time": "2023-05-11T10:25:00.871Z"
   },
   {
    "duration": 8,
    "start_time": "2023-05-11T10:26:14.319Z"
   },
   {
    "duration": 3,
    "start_time": "2023-05-11T10:26:25.560Z"
   },
   {
    "duration": 2236,
    "start_time": "2023-05-11T10:26:26.976Z"
   },
   {
    "duration": 4,
    "start_time": "2023-05-11T10:26:48.735Z"
   },
   {
    "duration": 12,
    "start_time": "2023-05-11T10:26:54.517Z"
   },
   {
    "duration": 2,
    "start_time": "2023-05-11T10:27:02.565Z"
   },
   {
    "duration": 3,
    "start_time": "2023-05-11T10:27:03.038Z"
   },
   {
    "duration": 4,
    "start_time": "2023-05-11T10:27:03.343Z"
   },
   {
    "duration": 4,
    "start_time": "2023-05-11T10:27:10.845Z"
   },
   {
    "duration": 18,
    "start_time": "2023-05-11T10:27:12.243Z"
   },
   {
    "duration": 4,
    "start_time": "2023-05-11T10:27:32.266Z"
   },
   {
    "duration": 19,
    "start_time": "2023-05-11T10:27:33.207Z"
   },
   {
    "duration": 9,
    "start_time": "2023-05-11T10:29:26.008Z"
   },
   {
    "duration": 10,
    "start_time": "2023-05-11T10:29:35.457Z"
   },
   {
    "duration": 10,
    "start_time": "2023-05-11T10:29:44.629Z"
   },
   {
    "duration": 3,
    "start_time": "2023-05-11T10:29:55.684Z"
   },
   {
    "duration": 3,
    "start_time": "2023-05-11T10:29:56.053Z"
   },
   {
    "duration": 4,
    "start_time": "2023-05-11T10:29:56.373Z"
   },
   {
    "duration": 3,
    "start_time": "2023-05-11T10:29:57.923Z"
   },
   {
    "duration": 4,
    "start_time": "2023-05-11T10:30:15.481Z"
   },
   {
    "duration": 18,
    "start_time": "2023-05-11T10:30:16.072Z"
   },
   {
    "duration": 9,
    "start_time": "2023-05-11T10:30:40.061Z"
   },
   {
    "duration": 3,
    "start_time": "2023-05-11T10:30:43.775Z"
   },
   {
    "duration": 8,
    "start_time": "2023-05-11T10:30:44.303Z"
   },
   {
    "duration": 5,
    "start_time": "2023-05-11T10:30:44.949Z"
   },
   {
    "duration": 10,
    "start_time": "2023-05-11T10:30:48.609Z"
   },
   {
    "duration": 4,
    "start_time": "2023-05-11T10:31:21.688Z"
   },
   {
    "duration": 35,
    "start_time": "2023-05-11T10:31:23.679Z"
   },
   {
    "duration": 1762,
    "start_time": "2023-05-11T12:18:08.309Z"
   },
   {
    "duration": 2281,
    "start_time": "2023-05-11T12:18:10.073Z"
   },
   {
    "duration": 19,
    "start_time": "2023-05-11T12:18:12.356Z"
   },
   {
    "duration": 12,
    "start_time": "2023-05-11T12:18:12.377Z"
   },
   {
    "duration": 27,
    "start_time": "2023-05-11T12:18:12.390Z"
   },
   {
    "duration": 11,
    "start_time": "2023-05-11T12:18:12.418Z"
   },
   {
    "duration": 6,
    "start_time": "2023-05-11T12:18:12.431Z"
   },
   {
    "duration": 8,
    "start_time": "2023-05-11T12:18:12.439Z"
   },
   {
    "duration": 9,
    "start_time": "2023-05-11T12:18:12.449Z"
   },
   {
    "duration": 14,
    "start_time": "2023-05-11T12:18:12.461Z"
   },
   {
    "duration": 4,
    "start_time": "2023-05-11T12:18:12.477Z"
   },
   {
    "duration": 37,
    "start_time": "2023-05-11T12:18:12.482Z"
   },
   {
    "duration": 7,
    "start_time": "2023-05-11T12:18:12.521Z"
   },
   {
    "duration": 5,
    "start_time": "2023-05-11T12:18:12.530Z"
   },
   {
    "duration": 15,
    "start_time": "2023-05-11T12:18:12.536Z"
   },
   {
    "duration": 22,
    "start_time": "2023-05-11T12:18:12.552Z"
   },
   {
    "duration": 162,
    "start_time": "2023-05-11T12:18:12.580Z"
   },
   {
    "duration": 106,
    "start_time": "2023-05-11T12:18:12.744Z"
   },
   {
    "duration": 5,
    "start_time": "2023-05-11T12:18:12.852Z"
   },
   {
    "duration": 19,
    "start_time": "2023-05-11T12:18:12.858Z"
   },
   {
    "duration": 1602,
    "start_time": "2023-05-11T12:18:12.879Z"
   },
   {
    "duration": 1628,
    "start_time": "2023-05-11T12:18:14.483Z"
   },
   {
    "duration": 1345,
    "start_time": "2023-05-11T12:18:16.117Z"
   },
   {
    "duration": 541,
    "start_time": "2023-05-11T12:18:17.464Z"
   },
   {
    "duration": 13,
    "start_time": "2023-05-11T12:18:18.007Z"
   },
   {
    "duration": 1423,
    "start_time": "2023-05-11T12:18:18.022Z"
   },
   {
    "duration": 7,
    "start_time": "2023-05-11T12:18:19.447Z"
   },
   {
    "duration": 1719,
    "start_time": "2023-05-11T12:18:19.457Z"
   },
   {
    "duration": 3,
    "start_time": "2023-05-11T12:18:21.178Z"
   },
   {
    "duration": 11,
    "start_time": "2023-05-11T12:18:21.183Z"
   },
   {
    "duration": 10,
    "start_time": "2023-05-11T12:18:21.196Z"
   },
   {
    "duration": 10,
    "start_time": "2023-05-11T12:18:21.208Z"
   },
   {
    "duration": 9,
    "start_time": "2023-05-11T12:18:21.219Z"
   },
   {
    "duration": 298,
    "start_time": "2023-05-11T12:18:21.229Z"
   },
   {
    "duration": 37566,
    "start_time": "2023-05-11T12:18:21.529Z"
   },
   {
    "duration": 1849,
    "start_time": "2023-05-11T12:18:59.096Z"
   },
   {
    "duration": 3,
    "start_time": "2023-05-11T12:19:00.947Z"
   },
   {
    "duration": 191,
    "start_time": "2023-05-11T12:19:00.951Z"
   },
   {
    "duration": 0,
    "start_time": "2023-05-11T12:19:01.143Z"
   },
   {
    "duration": 0,
    "start_time": "2023-05-11T12:19:01.144Z"
   },
   {
    "duration": 0,
    "start_time": "2023-05-11T12:19:01.145Z"
   },
   {
    "duration": 0,
    "start_time": "2023-05-11T12:19:01.146Z"
   },
   {
    "duration": 0,
    "start_time": "2023-05-11T12:19:01.147Z"
   },
   {
    "duration": 3,
    "start_time": "2023-05-11T12:21:14.409Z"
   },
   {
    "duration": 3,
    "start_time": "2023-05-11T12:23:02.762Z"
   },
   {
    "duration": 19,
    "start_time": "2023-05-11T12:23:03.455Z"
   },
   {
    "duration": 3,
    "start_time": "2023-05-11T12:27:42.235Z"
   },
   {
    "duration": 4,
    "start_time": "2023-05-11T12:27:55.308Z"
   },
   {
    "duration": 25,
    "start_time": "2023-05-11T12:27:56.854Z"
   },
   {
    "duration": 3,
    "start_time": "2023-05-11T12:28:18.573Z"
   },
   {
    "duration": 18,
    "start_time": "2023-05-11T12:28:19.198Z"
   },
   {
    "duration": 3,
    "start_time": "2023-05-11T12:31:07.772Z"
   },
   {
    "duration": 3,
    "start_time": "2023-05-11T12:31:10.535Z"
   },
   {
    "duration": 17,
    "start_time": "2023-05-11T12:31:11.185Z"
   },
   {
    "duration": 218,
    "start_time": "2023-05-11T12:31:19.205Z"
   },
   {
    "duration": 3,
    "start_time": "2023-05-11T12:35:28.862Z"
   },
   {
    "duration": 741,
    "start_time": "2023-05-11T12:36:04.226Z"
   },
   {
    "duration": 107,
    "start_time": "2023-05-11T12:36:17.807Z"
   },
   {
    "duration": 329,
    "start_time": "2023-05-11T12:37:53.786Z"
   },
   {
    "duration": 961,
    "start_time": "2023-05-11T12:38:03.539Z"
   },
   {
    "duration": 391,
    "start_time": "2023-05-11T12:39:57.035Z"
   },
   {
    "duration": 619,
    "start_time": "2023-05-11T12:41:58.346Z"
   },
   {
    "duration": 1184,
    "start_time": "2023-05-11T12:43:33.888Z"
   },
   {
    "duration": 339,
    "start_time": "2023-05-11T12:43:44.242Z"
   },
   {
    "duration": 277,
    "start_time": "2023-05-11T12:44:27.783Z"
   },
   {
    "duration": 741,
    "start_time": "2023-05-11T12:45:03.498Z"
   },
   {
    "duration": 589,
    "start_time": "2023-05-11T12:47:12.037Z"
   },
   {
    "duration": 3,
    "start_time": "2023-05-11T12:51:19.550Z"
   },
   {
    "duration": 3,
    "start_time": "2023-05-11T12:53:29.746Z"
   },
   {
    "duration": 968,
    "start_time": "2023-05-11T12:53:30.457Z"
   },
   {
    "duration": 2,
    "start_time": "2023-05-11T12:54:05.539Z"
   },
   {
    "duration": 3023,
    "start_time": "2023-05-11T12:54:09.758Z"
   },
   {
    "duration": 2,
    "start_time": "2023-05-11T12:54:35.511Z"
   },
   {
    "duration": 3322,
    "start_time": "2023-05-11T12:54:39.042Z"
   },
   {
    "duration": 3635,
    "start_time": "2023-05-11T12:55:52.247Z"
   },
   {
    "duration": 3,
    "start_time": "2023-05-11T12:56:57.587Z"
   },
   {
    "duration": 11,
    "start_time": "2023-05-11T12:56:59.535Z"
   },
   {
    "duration": 3,
    "start_time": "2023-05-11T12:57:02.396Z"
   },
   {
    "duration": 3,
    "start_time": "2023-05-11T12:57:08.187Z"
   },
   {
    "duration": 4053,
    "start_time": "2023-05-11T12:57:13.871Z"
   },
   {
    "duration": 2,
    "start_time": "2023-05-11T12:58:10.738Z"
   },
   {
    "duration": 80,
    "start_time": "2023-05-11T12:59:44.439Z"
   },
   {
    "duration": 1764,
    "start_time": "2023-05-11T13:00:27.268Z"
   },
   {
    "duration": 2339,
    "start_time": "2023-05-11T13:00:29.034Z"
   },
   {
    "duration": 18,
    "start_time": "2023-05-11T13:00:31.375Z"
   },
   {
    "duration": 42,
    "start_time": "2023-05-11T13:00:31.395Z"
   },
   {
    "duration": 38,
    "start_time": "2023-05-11T13:00:31.438Z"
   },
   {
    "duration": 38,
    "start_time": "2023-05-11T13:00:31.478Z"
   },
   {
    "duration": 24,
    "start_time": "2023-05-11T13:00:31.518Z"
   },
   {
    "duration": 47,
    "start_time": "2023-05-11T13:00:31.543Z"
   },
   {
    "duration": 35,
    "start_time": "2023-05-11T13:00:31.592Z"
   },
   {
    "duration": 33,
    "start_time": "2023-05-11T13:00:31.630Z"
   },
   {
    "duration": 30,
    "start_time": "2023-05-11T13:00:31.665Z"
   },
   {
    "duration": 26,
    "start_time": "2023-05-11T13:00:31.697Z"
   },
   {
    "duration": 46,
    "start_time": "2023-05-11T13:00:31.725Z"
   },
   {
    "duration": 39,
    "start_time": "2023-05-11T13:00:31.772Z"
   },
   {
    "duration": 33,
    "start_time": "2023-05-11T13:00:31.813Z"
   },
   {
    "duration": 53,
    "start_time": "2023-05-11T13:00:31.848Z"
   },
   {
    "duration": 144,
    "start_time": "2023-05-11T13:00:31.903Z"
   },
   {
    "duration": 101,
    "start_time": "2023-05-11T13:00:32.049Z"
   },
   {
    "duration": 6,
    "start_time": "2023-05-11T13:00:32.151Z"
   },
   {
    "duration": 29,
    "start_time": "2023-05-11T13:00:32.158Z"
   },
   {
    "duration": 1445,
    "start_time": "2023-05-11T13:00:32.188Z"
   },
   {
    "duration": 1561,
    "start_time": "2023-05-11T13:00:33.635Z"
   },
   {
    "duration": 1466,
    "start_time": "2023-05-11T13:00:35.197Z"
   },
   {
    "duration": 518,
    "start_time": "2023-05-11T13:00:36.665Z"
   },
   {
    "duration": 7,
    "start_time": "2023-05-11T13:00:37.184Z"
   },
   {
    "duration": 1471,
    "start_time": "2023-05-11T13:00:37.192Z"
   },
   {
    "duration": 6,
    "start_time": "2023-05-11T13:00:38.664Z"
   },
   {
    "duration": 1671,
    "start_time": "2023-05-11T13:00:38.673Z"
   },
   {
    "duration": 3,
    "start_time": "2023-05-11T13:00:40.346Z"
   },
   {
    "duration": 26,
    "start_time": "2023-05-11T13:00:40.351Z"
   },
   {
    "duration": 4,
    "start_time": "2023-05-11T13:00:40.379Z"
   },
   {
    "duration": 8,
    "start_time": "2023-05-11T13:00:40.385Z"
   },
   {
    "duration": 10,
    "start_time": "2023-05-11T13:00:40.394Z"
   },
   {
    "duration": 2818,
    "start_time": "2023-05-11T13:00:40.406Z"
   },
   {
    "duration": 53,
    "start_time": "2023-05-11T13:00:59.742Z"
   },
   {
    "duration": 7,
    "start_time": "2023-05-11T13:01:49.325Z"
   },
   {
    "duration": 1807,
    "start_time": "2023-05-11T13:02:03.897Z"
   },
   {
    "duration": 2265,
    "start_time": "2023-05-11T13:02:05.706Z"
   },
   {
    "duration": 21,
    "start_time": "2023-05-11T13:02:07.973Z"
   },
   {
    "duration": 12,
    "start_time": "2023-05-11T13:02:07.996Z"
   },
   {
    "duration": 27,
    "start_time": "2023-05-11T13:02:08.010Z"
   },
   {
    "duration": 13,
    "start_time": "2023-05-11T13:02:08.038Z"
   },
   {
    "duration": 6,
    "start_time": "2023-05-11T13:02:08.053Z"
   },
   {
    "duration": 27,
    "start_time": "2023-05-11T13:02:08.061Z"
   },
   {
    "duration": 10,
    "start_time": "2023-05-11T13:02:09.091Z"
   },
   {
    "duration": 14,
    "start_time": "2023-05-11T13:02:09.409Z"
   },
   {
    "duration": 5,
    "start_time": "2023-05-11T13:02:10.407Z"
   },
   {
    "duration": 3,
    "start_time": "2023-05-11T13:02:11.282Z"
   },
   {
    "duration": 29,
    "start_time": "2023-05-11T13:02:11.287Z"
   },
   {
    "duration": 14,
    "start_time": "2023-05-11T13:02:11.318Z"
   },
   {
    "duration": 11,
    "start_time": "2023-05-11T13:02:11.758Z"
   },
   {
    "duration": 21,
    "start_time": "2023-05-11T13:02:12.748Z"
   },
   {
    "duration": 123,
    "start_time": "2023-05-11T13:02:12.923Z"
   },
   {
    "duration": 107,
    "start_time": "2023-05-11T13:02:13.118Z"
   },
   {
    "duration": 6,
    "start_time": "2023-05-11T13:02:13.478Z"
   },
   {
    "duration": 5,
    "start_time": "2023-05-11T13:02:13.641Z"
   },
   {
    "duration": 1565,
    "start_time": "2023-05-11T13:02:14.120Z"
   },
   {
    "duration": 1576,
    "start_time": "2023-05-11T13:02:15.687Z"
   },
   {
    "duration": 1509,
    "start_time": "2023-05-11T13:02:17.265Z"
   },
   {
    "duration": 509,
    "start_time": "2023-05-11T13:02:18.776Z"
   },
   {
    "duration": 6,
    "start_time": "2023-05-11T13:02:19.287Z"
   },
   {
    "duration": 1557,
    "start_time": "2023-05-11T13:02:19.295Z"
   },
   {
    "duration": 6,
    "start_time": "2023-05-11T13:02:20.854Z"
   },
   {
    "duration": 1717,
    "start_time": "2023-05-11T13:02:20.862Z"
   },
   {
    "duration": 3,
    "start_time": "2023-05-11T13:02:22.582Z"
   },
   {
    "duration": 16,
    "start_time": "2023-05-11T13:02:22.586Z"
   },
   {
    "duration": 21,
    "start_time": "2023-05-11T13:02:22.604Z"
   },
   {
    "duration": 45,
    "start_time": "2023-05-11T13:02:22.626Z"
   },
   {
    "duration": 34,
    "start_time": "2023-05-11T13:02:22.673Z"
   },
   {
    "duration": 3313,
    "start_time": "2023-05-11T13:02:22.708Z"
   },
   {
    "duration": 4,
    "start_time": "2023-05-11T13:02:26.022Z"
   },
   {
    "duration": 4,
    "start_time": "2023-05-11T13:02:40.299Z"
   },
   {
    "duration": 4,
    "start_time": "2023-05-11T13:04:36.593Z"
   },
   {
    "duration": 3365,
    "start_time": "2023-05-11T13:05:47.351Z"
   },
   {
    "duration": 8,
    "start_time": "2023-05-11T13:05:50.721Z"
   },
   {
    "duration": 103,
    "start_time": "2023-05-11T13:05:50.731Z"
   },
   {
    "duration": 64,
    "start_time": "2023-05-11T13:05:50.836Z"
   },
   {
    "duration": 1452,
    "start_time": "2023-05-11T13:09:26.141Z"
   },
   {
    "duration": 814,
    "start_time": "2023-05-11T13:09:27.595Z"
   },
   {
    "duration": 29,
    "start_time": "2023-05-11T13:09:28.411Z"
   },
   {
    "duration": 24,
    "start_time": "2023-05-11T13:09:28.442Z"
   },
   {
    "duration": 27,
    "start_time": "2023-05-11T13:09:28.470Z"
   },
   {
    "duration": 38,
    "start_time": "2023-05-11T13:09:28.499Z"
   },
   {
    "duration": 9,
    "start_time": "2023-05-11T13:09:28.540Z"
   },
   {
    "duration": 12,
    "start_time": "2023-05-11T13:09:28.551Z"
   },
   {
    "duration": 27,
    "start_time": "2023-05-11T13:09:28.566Z"
   },
   {
    "duration": 40,
    "start_time": "2023-05-11T13:09:28.595Z"
   },
   {
    "duration": 6,
    "start_time": "2023-05-11T13:09:28.638Z"
   },
   {
    "duration": 8,
    "start_time": "2023-05-11T13:09:28.646Z"
   },
   {
    "duration": 13,
    "start_time": "2023-05-11T13:09:28.656Z"
   },
   {
    "duration": 8,
    "start_time": "2023-05-11T13:09:28.673Z"
   },
   {
    "duration": 18,
    "start_time": "2023-05-11T13:09:28.683Z"
   },
   {
    "duration": 48,
    "start_time": "2023-05-11T13:09:28.704Z"
   },
   {
    "duration": 157,
    "start_time": "2023-05-11T13:09:28.754Z"
   },
   {
    "duration": 118,
    "start_time": "2023-05-11T13:09:28.913Z"
   },
   {
    "duration": 13,
    "start_time": "2023-05-11T13:09:29.034Z"
   },
   {
    "duration": 12,
    "start_time": "2023-05-11T13:09:29.050Z"
   },
   {
    "duration": 1666,
    "start_time": "2023-05-11T13:09:29.065Z"
   },
   {
    "duration": 1581,
    "start_time": "2023-05-11T13:09:30.733Z"
   },
   {
    "duration": 1662,
    "start_time": "2023-05-11T13:09:32.324Z"
   },
   {
    "duration": 557,
    "start_time": "2023-05-11T13:09:33.988Z"
   },
   {
    "duration": 9,
    "start_time": "2023-05-11T13:09:34.548Z"
   },
   {
    "duration": 1644,
    "start_time": "2023-05-11T13:09:34.559Z"
   },
   {
    "duration": 14,
    "start_time": "2023-05-11T13:09:36.205Z"
   },
   {
    "duration": 1541,
    "start_time": "2023-05-11T13:09:36.221Z"
   },
   {
    "duration": 3,
    "start_time": "2023-05-11T13:09:37.764Z"
   },
   {
    "duration": 10,
    "start_time": "2023-05-11T13:09:37.769Z"
   },
   {
    "duration": 5,
    "start_time": "2023-05-11T13:09:37.780Z"
   },
   {
    "duration": 11,
    "start_time": "2023-05-11T13:09:37.786Z"
   },
   {
    "duration": 24,
    "start_time": "2023-05-11T13:09:37.799Z"
   },
   {
    "duration": 5897,
    "start_time": "2023-05-11T13:09:37.824Z"
   },
   {
    "duration": 9,
    "start_time": "2023-05-11T13:09:43.722Z"
   },
   {
    "duration": 104,
    "start_time": "2023-05-11T13:09:43.733Z"
   },
   {
    "duration": 4,
    "start_time": "2023-05-11T13:09:43.839Z"
   },
   {
    "duration": 190521,
    "start_time": "2023-05-11T13:09:43.845Z"
   },
   {
    "duration": 3,
    "start_time": "2023-05-11T13:12:54.368Z"
   },
   {
    "duration": 10,
    "start_time": "2023-05-11T13:12:54.373Z"
   },
   {
    "duration": 9,
    "start_time": "2023-05-11T13:12:54.387Z"
   },
   {
    "duration": 1884,
    "start_time": "2023-05-11T13:12:54.398Z"
   },
   {
    "duration": 5919,
    "start_time": "2023-05-11T13:13:16.912Z"
   },
   {
    "duration": 4,
    "start_time": "2023-05-11T13:13:25.046Z"
   },
   {
    "duration": 4,
    "start_time": "2023-05-11T13:13:25.649Z"
   },
   {
    "duration": 5,
    "start_time": "2023-05-11T13:13:26.310Z"
   },
   {
    "duration": 6663,
    "start_time": "2023-05-11T13:14:38.564Z"
   },
   {
    "duration": 7,
    "start_time": "2023-05-11T13:14:45.229Z"
   },
   {
    "duration": 86,
    "start_time": "2023-05-11T13:14:45.237Z"
   },
   {
    "duration": 6,
    "start_time": "2023-05-11T13:14:45.325Z"
   },
   {
    "duration": 9416,
    "start_time": "2023-05-11T13:15:18.435Z"
   },
   {
    "duration": 4,
    "start_time": "2023-05-11T13:15:29.308Z"
   },
   {
    "duration": 4,
    "start_time": "2023-05-11T13:15:38.345Z"
   },
   {
    "duration": 4,
    "start_time": "2023-05-11T13:16:01.374Z"
   },
   {
    "duration": 3,
    "start_time": "2023-05-11T13:21:49.142Z"
   },
   {
    "duration": 8517,
    "start_time": "2023-05-11T13:21:55.314Z"
   },
   {
    "duration": 8,
    "start_time": "2023-05-11T13:22:04.806Z"
   },
   {
    "duration": 4,
    "start_time": "2023-05-11T13:22:05.639Z"
   },
   {
    "duration": 3,
    "start_time": "2023-05-11T13:22:06.171Z"
   },
   {
    "duration": 3,
    "start_time": "2023-05-11T13:22:22.255Z"
   },
   {
    "duration": 11248,
    "start_time": "2023-05-11T13:22:25.575Z"
   },
   {
    "duration": 14,
    "start_time": "2023-05-11T13:22:36.834Z"
   },
   {
    "duration": 31,
    "start_time": "2023-05-11T13:22:36.850Z"
   },
   {
    "duration": 22,
    "start_time": "2023-05-11T13:22:36.882Z"
   },
   {
    "duration": 2681,
    "start_time": "2023-05-11T13:26:19.239Z"
   },
   {
    "duration": 6,
    "start_time": "2023-05-11T13:28:16.736Z"
   },
   {
    "duration": 6,
    "start_time": "2023-05-11T13:28:21.835Z"
   },
   {
    "duration": 5,
    "start_time": "2023-05-11T13:29:10.615Z"
   },
   {
    "duration": 117,
    "start_time": "2023-05-11T13:29:11.136Z"
   },
   {
    "duration": 5,
    "start_time": "2023-05-11T13:29:15.013Z"
   },
   {
    "duration": 8,
    "start_time": "2023-05-11T13:29:15.517Z"
   },
   {
    "duration": 4,
    "start_time": "2023-05-11T13:29:40.726Z"
   },
   {
    "duration": 12,
    "start_time": "2023-05-11T13:29:47.009Z"
   },
   {
    "duration": 8,
    "start_time": "2023-05-11T13:30:15.098Z"
   },
   {
    "duration": 4,
    "start_time": "2023-05-11T13:32:02.839Z"
   },
   {
    "duration": 352,
    "start_time": "2023-05-11T13:34:33.153Z"
   },
   {
    "duration": 909,
    "start_time": "2023-05-11T13:34:46.177Z"
   },
   {
    "duration": 914,
    "start_time": "2023-05-11T13:35:13.816Z"
   },
   {
    "duration": 887,
    "start_time": "2023-05-11T13:35:23.059Z"
   },
   {
    "duration": 1778,
    "start_time": "2023-05-11T13:36:07.849Z"
   },
   {
    "duration": 4,
    "start_time": "2023-05-11T13:39:10.269Z"
   },
   {
    "duration": 364,
    "start_time": "2023-05-11T13:39:11.062Z"
   },
   {
    "duration": 6,
    "start_time": "2023-05-11T13:39:23.253Z"
   },
   {
    "duration": 5,
    "start_time": "2023-05-11T13:40:11.158Z"
   },
   {
    "duration": 5,
    "start_time": "2023-05-11T13:40:13.224Z"
   },
   {
    "duration": 37850,
    "start_time": "2023-05-11T13:40:52.111Z"
   },
   {
    "duration": 5,
    "start_time": "2023-05-11T13:41:29.963Z"
   },
   {
    "duration": 16,
    "start_time": "2023-05-11T13:41:29.970Z"
   },
   {
    "duration": 7,
    "start_time": "2023-05-11T13:41:29.988Z"
   },
   {
    "duration": 399,
    "start_time": "2023-05-11T13:42:00.927Z"
   },
   {
    "duration": 4,
    "start_time": "2023-05-11T13:42:01.662Z"
   },
   {
    "duration": 6,
    "start_time": "2023-05-11T13:42:02.235Z"
   },
   {
    "duration": 6,
    "start_time": "2023-05-11T13:42:03.095Z"
   },
   {
    "duration": 2148,
    "start_time": "2023-05-11T13:46:52.577Z"
   },
   {
    "duration": 528,
    "start_time": "2023-05-11T13:48:04.641Z"
   },
   {
    "duration": 2468,
    "start_time": "2023-05-11T13:48:27.358Z"
   },
   {
    "duration": 6313,
    "start_time": "2023-05-11T13:48:49.204Z"
   },
   {
    "duration": 2153,
    "start_time": "2023-05-11T13:49:40.873Z"
   },
   {
    "duration": 539,
    "start_time": "2023-05-11T13:49:56.080Z"
   },
   {
    "duration": 2197,
    "start_time": "2023-05-11T13:49:56.621Z"
   },
   {
    "duration": 3,
    "start_time": "2023-05-11T13:49:58.820Z"
   },
   {
    "duration": 6,
    "start_time": "2023-05-11T13:50:04.387Z"
   },
   {
    "duration": 7,
    "start_time": "2023-05-11T13:50:04.746Z"
   },
   {
    "duration": 6,
    "start_time": "2023-05-11T13:51:12.238Z"
   },
   {
    "duration": 6,
    "start_time": "2023-05-11T13:51:22.630Z"
   },
   {
    "duration": 7,
    "start_time": "2023-05-11T13:51:32.133Z"
   },
   {
    "duration": 6,
    "start_time": "2023-05-11T13:52:03.915Z"
   },
   {
    "duration": 7,
    "start_time": "2023-05-11T13:52:04.260Z"
   },
   {
    "duration": 2220,
    "start_time": "2023-05-11T13:52:35.398Z"
   },
   {
    "duration": 3,
    "start_time": "2023-05-11T13:52:37.620Z"
   },
   {
    "duration": 16,
    "start_time": "2023-05-11T13:52:37.624Z"
   },
   {
    "duration": 6,
    "start_time": "2023-05-11T13:52:37.686Z"
   },
   {
    "duration": 4,
    "start_time": "2023-05-11T13:53:51.434Z"
   },
   {
    "duration": 8726,
    "start_time": "2023-05-11T13:54:44.311Z"
   },
   {
    "duration": 3,
    "start_time": "2023-05-11T13:54:53.039Z"
   },
   {
    "duration": 3,
    "start_time": "2023-05-11T13:55:28.628Z"
   },
   {
    "duration": 4,
    "start_time": "2023-05-11T13:55:53.142Z"
   },
   {
    "duration": 1826,
    "start_time": "2023-05-11T13:57:09.750Z"
   },
   {
    "duration": 739,
    "start_time": "2023-05-11T13:57:11.578Z"
   },
   {
    "duration": 18,
    "start_time": "2023-05-11T13:57:12.318Z"
   },
   {
    "duration": 12,
    "start_time": "2023-05-11T13:57:12.338Z"
   },
   {
    "duration": 19,
    "start_time": "2023-05-11T13:57:12.352Z"
   },
   {
    "duration": 10,
    "start_time": "2023-05-11T13:57:12.372Z"
   },
   {
    "duration": 35,
    "start_time": "2023-05-11T13:57:12.384Z"
   },
   {
    "duration": 8,
    "start_time": "2023-05-11T13:57:12.421Z"
   },
   {
    "duration": 9,
    "start_time": "2023-05-11T13:57:12.430Z"
   },
   {
    "duration": 11,
    "start_time": "2023-05-11T13:57:12.441Z"
   },
   {
    "duration": 4,
    "start_time": "2023-05-11T13:57:12.454Z"
   },
   {
    "duration": 5,
    "start_time": "2023-05-11T13:57:12.460Z"
   },
   {
    "duration": 11,
    "start_time": "2023-05-11T13:57:12.466Z"
   },
   {
    "duration": 4,
    "start_time": "2023-05-11T13:57:12.479Z"
   },
   {
    "duration": 11,
    "start_time": "2023-05-11T13:57:12.518Z"
   },
   {
    "duration": 24,
    "start_time": "2023-05-11T13:57:12.531Z"
   },
   {
    "duration": 149,
    "start_time": "2023-05-11T13:57:12.557Z"
   },
   {
    "duration": 97,
    "start_time": "2023-05-11T13:57:12.707Z"
   },
   {
    "duration": 13,
    "start_time": "2023-05-11T13:57:12.806Z"
   },
   {
    "duration": 7,
    "start_time": "2023-05-11T13:57:12.820Z"
   },
   {
    "duration": 1561,
    "start_time": "2023-05-11T13:57:12.828Z"
   },
   {
    "duration": 1562,
    "start_time": "2023-05-11T13:57:14.391Z"
   },
   {
    "duration": 1510,
    "start_time": "2023-05-11T13:57:15.955Z"
   },
   {
    "duration": 519,
    "start_time": "2023-05-11T13:57:17.466Z"
   },
   {
    "duration": 7,
    "start_time": "2023-05-11T13:57:17.987Z"
   },
   {
    "duration": 1559,
    "start_time": "2023-05-11T13:57:17.996Z"
   },
   {
    "duration": 4,
    "start_time": "2023-05-11T13:57:19.556Z"
   },
   {
    "duration": 1687,
    "start_time": "2023-05-11T13:57:19.563Z"
   },
   {
    "duration": 3,
    "start_time": "2023-05-11T13:57:21.252Z"
   },
   {
    "duration": 17,
    "start_time": "2023-05-11T13:57:21.257Z"
   },
   {
    "duration": 17,
    "start_time": "2023-05-11T13:57:21.276Z"
   },
   {
    "duration": 13,
    "start_time": "2023-05-11T13:57:21.294Z"
   },
   {
    "duration": 22,
    "start_time": "2023-05-11T13:57:21.309Z"
   },
   {
    "duration": 2885,
    "start_time": "2023-05-11T13:57:21.333Z"
   },
   {
    "duration": 7,
    "start_time": "2023-05-11T13:57:24.220Z"
   },
   {
    "duration": 1413,
    "start_time": "2023-05-11T13:58:01.832Z"
   },
   {
    "duration": 726,
    "start_time": "2023-05-11T13:58:03.247Z"
   },
   {
    "duration": 18,
    "start_time": "2023-05-11T13:58:03.974Z"
   },
   {
    "duration": 25,
    "start_time": "2023-05-11T13:58:03.994Z"
   },
   {
    "duration": 17,
    "start_time": "2023-05-11T13:58:04.020Z"
   },
   {
    "duration": 35,
    "start_time": "2023-05-11T13:58:04.039Z"
   },
   {
    "duration": 79,
    "start_time": "2023-05-11T13:58:04.076Z"
   },
   {
    "duration": 29,
    "start_time": "2023-05-11T13:58:04.156Z"
   },
   {
    "duration": 33,
    "start_time": "2023-05-11T13:58:04.186Z"
   },
   {
    "duration": 23,
    "start_time": "2023-05-11T13:58:04.222Z"
   },
   {
    "duration": 4,
    "start_time": "2023-05-11T13:58:04.247Z"
   },
   {
    "duration": 9,
    "start_time": "2023-05-11T13:58:04.253Z"
   },
   {
    "duration": 21,
    "start_time": "2023-05-11T13:58:04.264Z"
   },
   {
    "duration": 7,
    "start_time": "2023-05-11T13:58:04.286Z"
   },
   {
    "duration": 12,
    "start_time": "2023-05-11T13:58:04.295Z"
   },
   {
    "duration": 26,
    "start_time": "2023-05-11T13:58:04.308Z"
   },
   {
    "duration": 144,
    "start_time": "2023-05-11T13:58:04.336Z"
   },
   {
    "duration": 97,
    "start_time": "2023-05-11T13:58:04.482Z"
   },
   {
    "duration": 5,
    "start_time": "2023-05-11T13:58:04.581Z"
   },
   {
    "duration": 26,
    "start_time": "2023-05-11T13:58:04.587Z"
   },
   {
    "duration": 1475,
    "start_time": "2023-05-11T13:58:04.614Z"
   },
   {
    "duration": 1592,
    "start_time": "2023-05-11T13:58:06.090Z"
   },
   {
    "duration": 1419,
    "start_time": "2023-05-11T13:58:07.684Z"
   },
   {
    "duration": 483,
    "start_time": "2023-05-11T13:58:09.105Z"
   },
   {
    "duration": 7,
    "start_time": "2023-05-11T13:58:09.589Z"
   },
   {
    "duration": 1579,
    "start_time": "2023-05-11T13:58:09.597Z"
   },
   {
    "duration": 6,
    "start_time": "2023-05-11T13:58:11.178Z"
   },
   {
    "duration": 1641,
    "start_time": "2023-05-11T13:58:11.187Z"
   },
   {
    "duration": 3,
    "start_time": "2023-05-11T13:58:12.829Z"
   },
   {
    "duration": 8,
    "start_time": "2023-05-11T13:58:12.834Z"
   },
   {
    "duration": 6,
    "start_time": "2023-05-11T13:58:12.844Z"
   },
   {
    "duration": 8,
    "start_time": "2023-05-11T13:58:12.852Z"
   },
   {
    "duration": 10,
    "start_time": "2023-05-11T13:58:12.862Z"
   },
   {
    "duration": 4067,
    "start_time": "2023-05-11T13:58:12.874Z"
   },
   {
    "duration": 5,
    "start_time": "2023-05-11T13:58:17.017Z"
   },
   {
    "duration": 196269,
    "start_time": "2023-05-11T13:58:17.024Z"
   },
   {
    "duration": 157,
    "start_time": "2023-05-11T14:01:33.295Z"
   },
   {
    "duration": 0,
    "start_time": "2023-05-11T14:01:33.454Z"
   },
   {
    "duration": 1,
    "start_time": "2023-05-11T14:01:33.455Z"
   },
   {
    "duration": 0,
    "start_time": "2023-05-11T14:01:33.457Z"
   },
   {
    "duration": 0,
    "start_time": "2023-05-11T14:01:33.458Z"
   },
   {
    "duration": 0,
    "start_time": "2023-05-11T14:01:33.460Z"
   },
   {
    "duration": 0,
    "start_time": "2023-05-11T14:01:33.461Z"
   },
   {
    "duration": 0,
    "start_time": "2023-05-11T14:01:33.462Z"
   },
   {
    "duration": 0,
    "start_time": "2023-05-11T14:01:33.463Z"
   },
   {
    "duration": 5,
    "start_time": "2023-05-11T14:01:50.302Z"
   },
   {
    "duration": 9868,
    "start_time": "2023-05-11T14:01:56.509Z"
   },
   {
    "duration": 3,
    "start_time": "2023-05-11T14:02:06.380Z"
   },
   {
    "duration": 946,
    "start_time": "2023-05-11T14:02:06.384Z"
   },
   {
    "duration": 3186,
    "start_time": "2023-05-11T14:02:07.341Z"
   },
   {
    "duration": 92,
    "start_time": "2023-05-11T14:02:10.531Z"
   },
   {
    "duration": 42,
    "start_time": "2023-05-11T14:02:10.625Z"
   },
   {
    "duration": 16,
    "start_time": "2023-05-11T14:02:10.669Z"
   },
   {
    "duration": 6,
    "start_time": "2023-05-11T14:02:10.687Z"
   },
   {
    "duration": 1890,
    "start_time": "2023-05-11T14:07:09.074Z"
   },
   {
    "duration": 806,
    "start_time": "2023-05-11T14:07:10.966Z"
   },
   {
    "duration": 18,
    "start_time": "2023-05-11T14:07:11.773Z"
   },
   {
    "duration": 25,
    "start_time": "2023-05-11T14:07:11.793Z"
   },
   {
    "duration": 22,
    "start_time": "2023-05-11T14:07:11.821Z"
   },
   {
    "duration": 13,
    "start_time": "2023-05-11T14:07:11.845Z"
   },
   {
    "duration": 7,
    "start_time": "2023-05-11T14:07:11.859Z"
   },
   {
    "duration": 11,
    "start_time": "2023-05-11T14:07:11.867Z"
   },
   {
    "duration": 41,
    "start_time": "2023-05-11T14:07:11.880Z"
   },
   {
    "duration": 14,
    "start_time": "2023-05-11T14:07:11.923Z"
   },
   {
    "duration": 5,
    "start_time": "2023-05-11T14:07:11.939Z"
   },
   {
    "duration": 4,
    "start_time": "2023-05-11T14:07:11.945Z"
   },
   {
    "duration": 17,
    "start_time": "2023-05-11T14:07:11.951Z"
   },
   {
    "duration": 4,
    "start_time": "2023-05-11T14:07:11.971Z"
   },
   {
    "duration": 18,
    "start_time": "2023-05-11T14:07:11.976Z"
   },
   {
    "duration": 38,
    "start_time": "2023-05-11T14:07:12.018Z"
   },
   {
    "duration": 140,
    "start_time": "2023-05-11T14:07:12.057Z"
   },
   {
    "duration": 109,
    "start_time": "2023-05-11T14:07:12.198Z"
   },
   {
    "duration": 10,
    "start_time": "2023-05-11T14:07:12.309Z"
   },
   {
    "duration": 33,
    "start_time": "2023-05-11T14:07:12.321Z"
   },
   {
    "duration": 1649,
    "start_time": "2023-05-11T14:07:12.356Z"
   },
   {
    "duration": 1659,
    "start_time": "2023-05-11T14:07:14.007Z"
   },
   {
    "duration": 1425,
    "start_time": "2023-05-11T14:07:15.668Z"
   },
   {
    "duration": 506,
    "start_time": "2023-05-11T14:07:17.094Z"
   },
   {
    "duration": 20,
    "start_time": "2023-05-11T14:07:17.602Z"
   },
   {
    "duration": 1515,
    "start_time": "2023-05-11T14:07:17.623Z"
   },
   {
    "duration": 6,
    "start_time": "2023-05-11T14:07:19.140Z"
   },
   {
    "duration": 1720,
    "start_time": "2023-05-11T14:07:19.148Z"
   },
   {
    "duration": 4,
    "start_time": "2023-05-11T14:07:20.873Z"
   },
   {
    "duration": 37,
    "start_time": "2023-05-11T14:07:20.878Z"
   },
   {
    "duration": 34,
    "start_time": "2023-05-11T14:07:20.918Z"
   },
   {
    "duration": 49,
    "start_time": "2023-05-11T14:07:20.955Z"
   },
   {
    "duration": 34,
    "start_time": "2023-05-11T14:07:21.005Z"
   },
   {
    "duration": 3277,
    "start_time": "2023-05-11T14:07:21.041Z"
   },
   {
    "duration": 9,
    "start_time": "2023-05-11T14:07:24.320Z"
   },
   {
    "duration": 195050,
    "start_time": "2023-05-11T14:07:24.333Z"
   },
   {
    "duration": 4,
    "start_time": "2023-05-11T14:10:39.386Z"
   },
   {
    "duration": 9301,
    "start_time": "2023-05-11T14:10:39.392Z"
   },
   {
    "duration": 4,
    "start_time": "2023-05-11T14:10:48.695Z"
   },
   {
    "duration": 839,
    "start_time": "2023-05-11T14:10:48.701Z"
   },
   {
    "duration": 2383,
    "start_time": "2023-05-11T14:10:49.546Z"
   },
   {
    "duration": 86,
    "start_time": "2023-05-11T14:10:51.933Z"
   },
   {
    "duration": 40,
    "start_time": "2023-05-11T14:10:52.022Z"
   },
   {
    "duration": 17,
    "start_time": "2023-05-11T14:10:52.065Z"
   },
   {
    "duration": 15,
    "start_time": "2023-05-11T14:10:52.085Z"
   },
   {
    "duration": 4,
    "start_time": "2023-05-11T14:14:37.691Z"
   },
   {
    "duration": 7,
    "start_time": "2023-05-11T14:14:38.141Z"
   },
   {
    "duration": 6,
    "start_time": "2023-05-11T14:14:38.612Z"
   },
   {
    "duration": 7,
    "start_time": "2023-05-11T14:16:45.533Z"
   },
   {
    "duration": 6,
    "start_time": "2023-05-11T14:17:01.735Z"
   },
   {
    "duration": 5,
    "start_time": "2023-05-11T14:17:23.280Z"
   },
   {
    "duration": 37366,
    "start_time": "2023-05-11T14:29:28.018Z"
   },
   {
    "duration": 406,
    "start_time": "2023-05-11T14:30:45.465Z"
   },
   {
    "duration": 1628,
    "start_time": "2023-05-11T14:31:46.276Z"
   },
   {
    "duration": 730,
    "start_time": "2023-05-11T14:31:47.906Z"
   },
   {
    "duration": 18,
    "start_time": "2023-05-11T14:31:48.638Z"
   },
   {
    "duration": 12,
    "start_time": "2023-05-11T14:31:48.658Z"
   },
   {
    "duration": 19,
    "start_time": "2023-05-11T14:31:48.672Z"
   },
   {
    "duration": 33,
    "start_time": "2023-05-11T14:31:48.692Z"
   },
   {
    "duration": 6,
    "start_time": "2023-05-11T14:31:48.726Z"
   },
   {
    "duration": 28,
    "start_time": "2023-05-11T14:31:48.733Z"
   },
   {
    "duration": 9,
    "start_time": "2023-05-11T14:31:48.762Z"
   },
   {
    "duration": 21,
    "start_time": "2023-05-11T14:31:48.772Z"
   },
   {
    "duration": 5,
    "start_time": "2023-05-11T14:31:48.794Z"
   },
   {
    "duration": 10,
    "start_time": "2023-05-11T14:31:48.800Z"
   },
   {
    "duration": 22,
    "start_time": "2023-05-11T14:31:48.811Z"
   },
   {
    "duration": 4,
    "start_time": "2023-05-11T14:31:48.835Z"
   },
   {
    "duration": 23,
    "start_time": "2023-05-11T14:31:48.840Z"
   },
   {
    "duration": 45,
    "start_time": "2023-05-11T14:31:48.865Z"
   },
   {
    "duration": 125,
    "start_time": "2023-05-11T14:31:48.912Z"
   },
   {
    "duration": 98,
    "start_time": "2023-05-11T14:31:49.038Z"
   },
   {
    "duration": 6,
    "start_time": "2023-05-11T14:31:49.138Z"
   },
   {
    "duration": 15,
    "start_time": "2023-05-11T14:31:49.145Z"
   },
   {
    "duration": 1531,
    "start_time": "2023-05-11T14:31:49.162Z"
   },
   {
    "duration": 2063,
    "start_time": "2023-05-11T14:31:50.694Z"
   },
   {
    "duration": 2055,
    "start_time": "2023-05-11T14:31:52.759Z"
   },
   {
    "duration": 482,
    "start_time": "2023-05-11T14:31:54.817Z"
   },
   {
    "duration": 17,
    "start_time": "2023-05-11T14:31:55.300Z"
   },
   {
    "duration": 1647,
    "start_time": "2023-05-11T14:31:55.319Z"
   },
   {
    "duration": 5,
    "start_time": "2023-05-11T14:31:56.968Z"
   },
   {
    "duration": 1672,
    "start_time": "2023-05-11T14:31:56.975Z"
   },
   {
    "duration": 3,
    "start_time": "2023-05-11T14:31:58.648Z"
   },
   {
    "duration": 9,
    "start_time": "2023-05-11T14:31:58.652Z"
   },
   {
    "duration": 4,
    "start_time": "2023-05-11T14:31:58.663Z"
   },
   {
    "duration": 13,
    "start_time": "2023-05-11T14:31:58.668Z"
   },
   {
    "duration": 23,
    "start_time": "2023-05-11T14:31:58.682Z"
   },
   {
    "duration": 3313,
    "start_time": "2023-05-11T14:31:58.706Z"
   },
   {
    "duration": 5,
    "start_time": "2023-05-11T14:32:02.021Z"
   },
   {
    "duration": 184303,
    "start_time": "2023-05-11T14:32:02.028Z"
   },
   {
    "duration": 3,
    "start_time": "2023-05-11T14:35:06.333Z"
   },
   {
    "duration": 8633,
    "start_time": "2023-05-11T14:35:06.337Z"
   },
   {
    "duration": 4,
    "start_time": "2023-05-11T14:35:14.971Z"
   },
   {
    "duration": 37025,
    "start_time": "2023-05-11T14:35:14.976Z"
   },
   {
    "duration": 43085,
    "start_time": "2023-05-11T14:35:52.004Z"
   },
   {
    "duration": 3,
    "start_time": "2023-05-11T14:36:35.091Z"
   },
   {
    "duration": 10,
    "start_time": "2023-05-11T14:36:35.095Z"
   },
   {
    "duration": 6,
    "start_time": "2023-05-11T14:36:35.116Z"
   },
   {
    "duration": 5,
    "start_time": "2023-05-11T14:36:35.123Z"
   },
   {
    "duration": 485,
    "start_time": "2023-05-11T14:36:35.130Z"
   },
   {
    "duration": 280,
    "start_time": "2023-05-11T14:37:36.143Z"
   },
   {
    "duration": 1791,
    "start_time": "2023-05-11T14:44:00.383Z"
   },
   {
    "duration": 2078,
    "start_time": "2023-05-11T14:44:08.023Z"
   },
   {
    "duration": 3,
    "start_time": "2023-05-11T14:44:15.238Z"
   },
   {
    "duration": 6,
    "start_time": "2023-05-11T14:44:15.877Z"
   },
   {
    "duration": 5,
    "start_time": "2023-05-11T14:44:16.590Z"
   },
   {
    "duration": 161,
    "start_time": "2023-05-11T14:45:56.639Z"
   },
   {
    "duration": 1418,
    "start_time": "2023-05-11T14:49:52.824Z"
   },
   {
    "duration": 757,
    "start_time": "2023-05-11T14:49:54.244Z"
   },
   {
    "duration": 28,
    "start_time": "2023-05-11T14:49:55.003Z"
   },
   {
    "duration": 15,
    "start_time": "2023-05-11T14:49:55.034Z"
   },
   {
    "duration": 35,
    "start_time": "2023-05-11T14:49:55.052Z"
   },
   {
    "duration": 14,
    "start_time": "2023-05-11T14:49:55.089Z"
   },
   {
    "duration": 6,
    "start_time": "2023-05-11T14:49:55.117Z"
   },
   {
    "duration": 15,
    "start_time": "2023-05-11T14:49:55.124Z"
   },
   {
    "duration": 20,
    "start_time": "2023-05-11T14:49:55.141Z"
   },
   {
    "duration": 23,
    "start_time": "2023-05-11T14:49:55.164Z"
   },
   {
    "duration": 11,
    "start_time": "2023-05-11T14:49:55.189Z"
   },
   {
    "duration": 17,
    "start_time": "2023-05-11T14:49:55.201Z"
   },
   {
    "duration": 8,
    "start_time": "2023-05-11T14:49:55.219Z"
   },
   {
    "duration": 4,
    "start_time": "2023-05-11T14:49:55.228Z"
   },
   {
    "duration": 24,
    "start_time": "2023-05-11T14:49:55.233Z"
   },
   {
    "duration": 35,
    "start_time": "2023-05-11T14:49:55.258Z"
   },
   {
    "duration": 125,
    "start_time": "2023-05-11T14:49:55.294Z"
   },
   {
    "duration": 97,
    "start_time": "2023-05-11T14:49:55.421Z"
   },
   {
    "duration": 5,
    "start_time": "2023-05-11T14:49:55.520Z"
   },
   {
    "duration": 15,
    "start_time": "2023-05-11T14:49:55.526Z"
   },
   {
    "duration": 1635,
    "start_time": "2023-05-11T14:49:55.542Z"
   },
   {
    "duration": 1672,
    "start_time": "2023-05-11T14:49:57.179Z"
   },
   {
    "duration": 1425,
    "start_time": "2023-05-11T14:49:58.852Z"
   },
   {
    "duration": 519,
    "start_time": "2023-05-11T14:50:00.278Z"
   },
   {
    "duration": 8,
    "start_time": "2023-05-11T14:50:00.799Z"
   },
   {
    "duration": 1638,
    "start_time": "2023-05-11T14:50:00.809Z"
   },
   {
    "duration": 5,
    "start_time": "2023-05-11T14:50:02.449Z"
   },
   {
    "duration": 1681,
    "start_time": "2023-05-11T14:50:02.458Z"
   },
   {
    "duration": 3,
    "start_time": "2023-05-11T14:50:04.140Z"
   },
   {
    "duration": 23,
    "start_time": "2023-05-11T14:50:04.144Z"
   },
   {
    "duration": 12,
    "start_time": "2023-05-11T14:50:04.169Z"
   },
   {
    "duration": 38,
    "start_time": "2023-05-11T14:50:04.183Z"
   },
   {
    "duration": 15,
    "start_time": "2023-05-11T14:50:04.223Z"
   },
   {
    "duration": 2678,
    "start_time": "2023-05-11T14:50:04.240Z"
   },
   {
    "duration": 4,
    "start_time": "2023-05-11T14:50:06.919Z"
   },
   {
    "duration": 185397,
    "start_time": "2023-05-11T14:50:06.925Z"
   },
   {
    "duration": 3,
    "start_time": "2023-05-11T14:53:12.324Z"
   },
   {
    "duration": 8902,
    "start_time": "2023-05-11T14:53:12.329Z"
   },
   {
    "duration": 4,
    "start_time": "2023-05-11T14:53:21.233Z"
   },
   {
    "duration": 1780,
    "start_time": "2023-05-11T14:53:21.238Z"
   },
   {
    "duration": 2133,
    "start_time": "2023-05-11T14:53:23.020Z"
   },
   {
    "duration": 5,
    "start_time": "2023-05-11T14:53:25.155Z"
   },
   {
    "duration": 15,
    "start_time": "2023-05-11T14:53:25.162Z"
   },
   {
    "duration": 15,
    "start_time": "2023-05-11T14:53:25.180Z"
   },
   {
    "duration": 17,
    "start_time": "2023-05-11T14:53:25.197Z"
   },
   {
    "duration": 205,
    "start_time": "2023-05-12T14:55:29.990Z"
   },
   {
    "duration": 203,
    "start_time": "2023-05-12T14:55:39.102Z"
   },
   {
    "duration": 8,
    "start_time": "2023-05-13T09:22:07.140Z"
   },
   {
    "duration": 1911,
    "start_time": "2023-05-13T09:22:15.771Z"
   },
   {
    "duration": 3064,
    "start_time": "2023-05-13T09:22:17.684Z"
   },
   {
    "duration": 18,
    "start_time": "2023-05-13T09:22:20.750Z"
   },
   {
    "duration": 15,
    "start_time": "2023-05-13T09:22:20.770Z"
   },
   {
    "duration": 22,
    "start_time": "2023-05-13T09:22:20.787Z"
   },
   {
    "duration": 39,
    "start_time": "2023-05-13T09:22:20.811Z"
   },
   {
    "duration": 6,
    "start_time": "2023-05-13T09:22:20.851Z"
   },
   {
    "duration": 12,
    "start_time": "2023-05-13T09:22:20.859Z"
   },
   {
    "duration": 20,
    "start_time": "2023-05-13T09:22:20.873Z"
   },
   {
    "duration": 19,
    "start_time": "2023-05-13T09:22:20.896Z"
   },
   {
    "duration": 71,
    "start_time": "2023-05-13T09:22:20.917Z"
   },
   {
    "duration": 59,
    "start_time": "2023-05-13T09:22:20.989Z"
   },
   {
    "duration": 28,
    "start_time": "2023-05-13T09:22:21.049Z"
   },
   {
    "duration": 63,
    "start_time": "2023-05-13T09:22:21.078Z"
   },
   {
    "duration": 24,
    "start_time": "2023-05-13T09:22:21.143Z"
   },
   {
    "duration": 83,
    "start_time": "2023-05-13T09:22:21.168Z"
   },
   {
    "duration": 143,
    "start_time": "2023-05-13T09:22:21.253Z"
   },
   {
    "duration": 122,
    "start_time": "2023-05-13T09:22:21.398Z"
   },
   {
    "duration": 6,
    "start_time": "2023-05-13T09:22:21.522Z"
   },
   {
    "duration": 34,
    "start_time": "2023-05-13T09:22:21.530Z"
   },
   {
    "duration": 1684,
    "start_time": "2023-05-13T09:22:21.566Z"
   },
   {
    "duration": 1892,
    "start_time": "2023-05-13T09:22:23.252Z"
   },
   {
    "duration": 1794,
    "start_time": "2023-05-13T09:22:25.152Z"
   },
   {
    "duration": 618,
    "start_time": "2023-05-13T09:22:26.948Z"
   },
   {
    "duration": 9,
    "start_time": "2023-05-13T09:22:27.568Z"
   },
   {
    "duration": 1699,
    "start_time": "2023-05-13T09:22:27.578Z"
   },
   {
    "duration": 6,
    "start_time": "2023-05-13T09:22:29.279Z"
   },
   {
    "duration": 1988,
    "start_time": "2023-05-13T09:22:29.298Z"
   },
   {
    "duration": 3,
    "start_time": "2023-05-13T09:22:31.288Z"
   },
   {
    "duration": 80,
    "start_time": "2023-05-13T09:22:31.297Z"
   },
   {
    "duration": 104,
    "start_time": "2023-05-13T09:22:31.380Z"
   },
   {
    "duration": 82,
    "start_time": "2023-05-13T09:22:31.485Z"
   },
   {
    "duration": 32,
    "start_time": "2023-05-13T09:22:31.569Z"
   },
   {
    "duration": 9502,
    "start_time": "2023-05-13T09:22:31.605Z"
   },
   {
    "duration": 13,
    "start_time": "2023-05-13T09:22:41.127Z"
   },
   {
    "duration": 184305,
    "start_time": "2023-05-13T09:22:41.216Z"
   },
   {
    "duration": 3,
    "start_time": "2023-05-13T09:25:45.527Z"
   },
   {
    "duration": 8598,
    "start_time": "2023-05-13T09:25:45.532Z"
   },
   {
    "duration": 7,
    "start_time": "2023-05-13T09:25:54.132Z"
   },
   {
    "duration": 1759,
    "start_time": "2023-05-13T09:25:54.141Z"
   },
   {
    "duration": 2281,
    "start_time": "2023-05-13T09:25:55.907Z"
   },
   {
    "duration": 11,
    "start_time": "2023-05-13T09:25:58.190Z"
   },
   {
    "duration": 44,
    "start_time": "2023-05-13T09:25:58.202Z"
   },
   {
    "duration": 7,
    "start_time": "2023-05-13T09:25:58.247Z"
   },
   {
    "duration": 3,
    "start_time": "2023-05-13T09:25:58.255Z"
   },
   {
    "duration": 170719,
    "start_time": "2023-05-13T09:39:54.862Z"
   },
   {
    "duration": 132,
    "start_time": "2023-05-13T09:52:51.358Z"
   },
   {
    "duration": 15,
    "start_time": "2023-05-13T09:53:16.030Z"
   },
   {
    "duration": 4,
    "start_time": "2023-05-13T09:53:36.250Z"
   },
   {
    "duration": 1584,
    "start_time": "2023-05-13T10:23:39.688Z"
   },
   {
    "duration": 921,
    "start_time": "2023-05-13T10:23:41.275Z"
   },
   {
    "duration": 30,
    "start_time": "2023-05-13T10:23:42.203Z"
   },
   {
    "duration": 23,
    "start_time": "2023-05-13T10:23:42.235Z"
   },
   {
    "duration": 17,
    "start_time": "2023-05-13T10:23:42.261Z"
   },
   {
    "duration": 26,
    "start_time": "2023-05-13T10:23:42.280Z"
   },
   {
    "duration": 11,
    "start_time": "2023-05-13T10:23:42.307Z"
   },
   {
    "duration": 27,
    "start_time": "2023-05-13T10:23:42.320Z"
   },
   {
    "duration": 12,
    "start_time": "2023-05-13T10:23:42.349Z"
   },
   {
    "duration": 14,
    "start_time": "2023-05-13T10:23:42.363Z"
   },
   {
    "duration": 5,
    "start_time": "2023-05-13T10:23:42.379Z"
   },
   {
    "duration": 21,
    "start_time": "2023-05-13T10:23:42.385Z"
   },
   {
    "duration": 30,
    "start_time": "2023-05-13T10:23:42.413Z"
   },
   {
    "duration": 4,
    "start_time": "2023-05-13T10:23:42.445Z"
   },
   {
    "duration": 15,
    "start_time": "2023-05-13T10:23:42.451Z"
   },
   {
    "duration": 51,
    "start_time": "2023-05-13T10:23:42.467Z"
   },
   {
    "duration": 140,
    "start_time": "2023-05-13T10:23:42.525Z"
   },
   {
    "duration": 108,
    "start_time": "2023-05-13T10:23:42.667Z"
   },
   {
    "duration": 5,
    "start_time": "2023-05-13T10:23:42.777Z"
   },
   {
    "duration": 21,
    "start_time": "2023-05-13T10:23:42.784Z"
   },
   {
    "duration": 1820,
    "start_time": "2023-05-13T10:23:42.814Z"
   },
   {
    "duration": 1949,
    "start_time": "2023-05-13T10:23:44.637Z"
   },
   {
    "duration": 1445,
    "start_time": "2023-05-13T10:23:46.588Z"
   },
   {
    "duration": 580,
    "start_time": "2023-05-13T10:23:48.038Z"
   },
   {
    "duration": 11,
    "start_time": "2023-05-13T10:23:48.619Z"
   },
   {
    "duration": 1677,
    "start_time": "2023-05-13T10:23:48.631Z"
   },
   {
    "duration": 18,
    "start_time": "2023-05-13T10:23:50.309Z"
   },
   {
    "duration": 1717,
    "start_time": "2023-05-13T10:23:50.339Z"
   },
   {
    "duration": 3,
    "start_time": "2023-05-13T10:23:52.058Z"
   },
   {
    "duration": 8,
    "start_time": "2023-05-13T10:23:52.062Z"
   },
   {
    "duration": 157,
    "start_time": "2023-05-13T10:23:52.071Z"
   },
   {
    "duration": 0,
    "start_time": "2023-05-13T10:23:52.233Z"
   },
   {
    "duration": 0,
    "start_time": "2023-05-13T10:23:52.234Z"
   },
   {
    "duration": 0,
    "start_time": "2023-05-13T10:23:52.235Z"
   },
   {
    "duration": 0,
    "start_time": "2023-05-13T10:23:52.236Z"
   },
   {
    "duration": 0,
    "start_time": "2023-05-13T10:23:52.238Z"
   },
   {
    "duration": 0,
    "start_time": "2023-05-13T10:23:52.239Z"
   },
   {
    "duration": 0,
    "start_time": "2023-05-13T10:23:52.240Z"
   },
   {
    "duration": 0,
    "start_time": "2023-05-13T10:23:52.241Z"
   },
   {
    "duration": 0,
    "start_time": "2023-05-13T10:23:52.242Z"
   },
   {
    "duration": 0,
    "start_time": "2023-05-13T10:23:52.244Z"
   },
   {
    "duration": 0,
    "start_time": "2023-05-13T10:23:52.245Z"
   },
   {
    "duration": 0,
    "start_time": "2023-05-13T10:23:52.248Z"
   },
   {
    "duration": 0,
    "start_time": "2023-05-13T10:23:52.249Z"
   },
   {
    "duration": 0,
    "start_time": "2023-05-13T10:23:52.250Z"
   },
   {
    "duration": 0,
    "start_time": "2023-05-13T10:23:52.252Z"
   },
   {
    "duration": 0,
    "start_time": "2023-05-13T10:23:52.253Z"
   },
   {
    "duration": 0,
    "start_time": "2023-05-13T10:23:52.253Z"
   },
   {
    "duration": 0,
    "start_time": "2023-05-13T10:23:52.255Z"
   },
   {
    "duration": 5,
    "start_time": "2023-05-13T10:24:04.583Z"
   },
   {
    "duration": 9,
    "start_time": "2023-05-13T10:24:08.571Z"
   },
   {
    "duration": 11,
    "start_time": "2023-05-13T10:24:09.336Z"
   },
   {
    "duration": 10169,
    "start_time": "2023-05-13T10:24:09.974Z"
   },
   {
    "duration": 57,
    "start_time": "2023-05-13T10:24:20.146Z"
   },
   {
    "duration": 37,
    "start_time": "2023-05-13T10:24:20.205Z"
   },
   {
    "duration": 4,
    "start_time": "2023-05-13T10:24:24.885Z"
   },
   {
    "duration": 1717,
    "start_time": "2023-05-13T10:32:00.868Z"
   },
   {
    "duration": 1008,
    "start_time": "2023-05-13T10:32:02.588Z"
   },
   {
    "duration": 25,
    "start_time": "2023-05-13T10:32:03.606Z"
   },
   {
    "duration": 33,
    "start_time": "2023-05-13T10:32:03.632Z"
   },
   {
    "duration": 27,
    "start_time": "2023-05-13T10:32:03.669Z"
   },
   {
    "duration": 15,
    "start_time": "2023-05-13T10:32:03.702Z"
   },
   {
    "duration": 43,
    "start_time": "2023-05-13T10:32:03.719Z"
   },
   {
    "duration": 14,
    "start_time": "2023-05-13T10:32:03.764Z"
   },
   {
    "duration": 23,
    "start_time": "2023-05-13T10:32:03.780Z"
   },
   {
    "duration": 53,
    "start_time": "2023-05-13T10:32:03.805Z"
   },
   {
    "duration": 6,
    "start_time": "2023-05-13T10:32:03.860Z"
   },
   {
    "duration": 19,
    "start_time": "2023-05-13T10:32:03.868Z"
   },
   {
    "duration": 44,
    "start_time": "2023-05-13T10:32:03.889Z"
   },
   {
    "duration": 9,
    "start_time": "2023-05-13T10:32:03.944Z"
   },
   {
    "duration": 40,
    "start_time": "2023-05-13T10:32:03.954Z"
   },
   {
    "duration": 53,
    "start_time": "2023-05-13T10:32:03.996Z"
   },
   {
    "duration": 142,
    "start_time": "2023-05-13T10:32:04.052Z"
   },
   {
    "duration": 141,
    "start_time": "2023-05-13T10:32:04.200Z"
   },
   {
    "duration": 7,
    "start_time": "2023-05-13T10:32:04.343Z"
   },
   {
    "duration": 7,
    "start_time": "2023-05-13T10:32:04.352Z"
   },
   {
    "duration": 1906,
    "start_time": "2023-05-13T10:32:04.361Z"
   },
   {
    "duration": 1921,
    "start_time": "2023-05-13T10:32:06.269Z"
   },
   {
    "duration": 1878,
    "start_time": "2023-05-13T10:32:08.191Z"
   },
   {
    "duration": 620,
    "start_time": "2023-05-13T10:32:10.070Z"
   },
   {
    "duration": 16,
    "start_time": "2023-05-13T10:32:10.692Z"
   },
   {
    "duration": 2036,
    "start_time": "2023-05-13T10:32:10.719Z"
   },
   {
    "duration": 9,
    "start_time": "2023-05-13T10:32:12.758Z"
   },
   {
    "duration": 2214,
    "start_time": "2023-05-13T10:32:12.769Z"
   },
   {
    "duration": 14,
    "start_time": "2023-05-13T10:32:14.985Z"
   },
   {
    "duration": 55,
    "start_time": "2023-05-13T10:32:15.008Z"
   },
   {
    "duration": 29,
    "start_time": "2023-05-13T10:32:15.066Z"
   },
   {
    "duration": 68,
    "start_time": "2023-05-13T10:32:15.101Z"
   },
   {
    "duration": 20,
    "start_time": "2023-05-13T10:32:15.172Z"
   },
   {
    "duration": 7415,
    "start_time": "2023-05-13T10:32:15.197Z"
   },
   {
    "duration": 10,
    "start_time": "2023-05-13T10:32:22.613Z"
   },
   {
    "duration": 114,
    "start_time": "2023-05-13T10:32:22.633Z"
   },
   {
    "duration": 14,
    "start_time": "2023-05-13T10:32:22.749Z"
   },
   {
    "duration": 1564,
    "start_time": "2023-05-13T11:26:43.114Z"
   },
   {
    "duration": 898,
    "start_time": "2023-05-13T11:26:44.681Z"
   },
   {
    "duration": 36,
    "start_time": "2023-05-13T11:26:45.580Z"
   },
   {
    "duration": 13,
    "start_time": "2023-05-13T11:26:45.618Z"
   },
   {
    "duration": 17,
    "start_time": "2023-05-13T11:26:45.633Z"
   },
   {
    "duration": 12,
    "start_time": "2023-05-13T11:26:45.652Z"
   },
   {
    "duration": 8,
    "start_time": "2023-05-13T11:26:45.665Z"
   },
   {
    "duration": 38,
    "start_time": "2023-05-13T11:26:45.675Z"
   },
   {
    "duration": 12,
    "start_time": "2023-05-13T11:26:45.716Z"
   },
   {
    "duration": 19,
    "start_time": "2023-05-13T11:26:45.732Z"
   },
   {
    "duration": 5,
    "start_time": "2023-05-13T11:26:45.753Z"
   },
   {
    "duration": 13,
    "start_time": "2023-05-13T11:26:45.759Z"
   },
   {
    "duration": 14,
    "start_time": "2023-05-13T11:26:45.773Z"
   },
   {
    "duration": 12,
    "start_time": "2023-05-13T11:26:45.788Z"
   },
   {
    "duration": 23,
    "start_time": "2023-05-13T11:26:45.803Z"
   },
   {
    "duration": 34,
    "start_time": "2023-05-13T11:26:45.827Z"
   },
   {
    "duration": 162,
    "start_time": "2023-05-13T11:26:45.862Z"
   },
   {
    "duration": 112,
    "start_time": "2023-05-13T11:26:46.026Z"
   },
   {
    "duration": 6,
    "start_time": "2023-05-13T11:26:46.139Z"
   },
   {
    "duration": 9,
    "start_time": "2023-05-13T11:26:46.147Z"
   },
   {
    "duration": 1708,
    "start_time": "2023-05-13T11:26:46.157Z"
   },
   {
    "duration": 1755,
    "start_time": "2023-05-13T11:26:47.867Z"
   },
   {
    "duration": 1613,
    "start_time": "2023-05-13T11:26:49.624Z"
   },
   {
    "duration": 565,
    "start_time": "2023-05-13T11:26:51.239Z"
   },
   {
    "duration": 8,
    "start_time": "2023-05-13T11:26:51.812Z"
   },
   {
    "duration": 1693,
    "start_time": "2023-05-13T11:26:51.822Z"
   },
   {
    "duration": 6,
    "start_time": "2023-05-13T11:26:53.517Z"
   },
   {
    "duration": 1803,
    "start_time": "2023-05-13T11:26:53.526Z"
   },
   {
    "duration": 3,
    "start_time": "2023-05-13T11:26:55.331Z"
   },
   {
    "duration": 21,
    "start_time": "2023-05-13T11:26:55.335Z"
   },
   {
    "duration": 5,
    "start_time": "2023-05-13T11:26:55.359Z"
   },
   {
    "duration": 16,
    "start_time": "2023-05-13T11:26:55.366Z"
   },
   {
    "duration": 21,
    "start_time": "2023-05-13T11:26:55.385Z"
   },
   {
    "duration": 5108,
    "start_time": "2023-05-13T11:26:55.408Z"
   },
   {
    "duration": 81,
    "start_time": "2023-05-13T11:27:00.517Z"
   },
   {
    "duration": 30,
    "start_time": "2023-05-13T11:27:00.610Z"
   },
   {
    "duration": 20,
    "start_time": "2023-05-13T11:27:00.643Z"
   },
   {
    "duration": 174454,
    "start_time": "2023-05-13T11:27:00.665Z"
   },
   {
    "duration": 4,
    "start_time": "2023-05-13T11:29:55.120Z"
   },
   {
    "duration": 7175,
    "start_time": "2023-05-13T11:29:55.126Z"
   },
   {
    "duration": 9,
    "start_time": "2023-05-13T11:30:02.303Z"
   },
   {
    "duration": 1818,
    "start_time": "2023-05-13T11:30:02.314Z"
   },
   {
    "duration": 130,
    "start_time": "2023-05-13T11:30:04.134Z"
   },
   {
    "duration": 0,
    "start_time": "2023-05-13T11:30:04.266Z"
   },
   {
    "duration": 0,
    "start_time": "2023-05-13T11:30:04.268Z"
   },
   {
    "duration": 0,
    "start_time": "2023-05-13T11:30:04.269Z"
   },
   {
    "duration": 0,
    "start_time": "2023-05-13T11:30:04.271Z"
   },
   {
    "duration": 3,
    "start_time": "2023-05-13T11:36:44.448Z"
   },
   {
    "duration": 4,
    "start_time": "2023-05-13T11:36:49.407Z"
   },
   {
    "duration": 3,
    "start_time": "2023-05-13T11:36:49.893Z"
   },
   {
    "duration": 3,
    "start_time": "2023-05-13T11:36:50.680Z"
   },
   {
    "duration": 11,
    "start_time": "2023-05-13T11:36:53.417Z"
   },
   {
    "duration": 1533,
    "start_time": "2023-05-13T11:37:45.446Z"
   },
   {
    "duration": 882,
    "start_time": "2023-05-13T11:37:46.982Z"
   },
   {
    "duration": 20,
    "start_time": "2023-05-13T11:37:47.865Z"
   },
   {
    "duration": 25,
    "start_time": "2023-05-13T11:37:47.887Z"
   },
   {
    "duration": 17,
    "start_time": "2023-05-13T11:37:47.916Z"
   },
   {
    "duration": 11,
    "start_time": "2023-05-13T11:37:47.935Z"
   },
   {
    "duration": 5,
    "start_time": "2023-05-13T11:37:47.948Z"
   },
   {
    "duration": 8,
    "start_time": "2023-05-13T11:37:47.955Z"
   },
   {
    "duration": 46,
    "start_time": "2023-05-13T11:37:47.965Z"
   },
   {
    "duration": 21,
    "start_time": "2023-05-13T11:37:48.013Z"
   },
   {
    "duration": 11,
    "start_time": "2023-05-13T11:37:48.035Z"
   },
   {
    "duration": 4,
    "start_time": "2023-05-13T11:37:48.048Z"
   },
   {
    "duration": 7,
    "start_time": "2023-05-13T11:37:48.054Z"
   },
   {
    "duration": 5,
    "start_time": "2023-05-13T11:37:48.064Z"
   },
   {
    "duration": 14,
    "start_time": "2023-05-13T11:37:48.070Z"
   },
   {
    "duration": 27,
    "start_time": "2023-05-13T11:37:48.097Z"
   },
   {
    "duration": 131,
    "start_time": "2023-05-13T11:37:48.126Z"
   },
   {
    "duration": 100,
    "start_time": "2023-05-13T11:37:48.258Z"
   },
   {
    "duration": 5,
    "start_time": "2023-05-13T11:37:48.360Z"
   },
   {
    "duration": 7,
    "start_time": "2023-05-13T11:37:48.366Z"
   },
   {
    "duration": 1600,
    "start_time": "2023-05-13T11:37:48.375Z"
   },
   {
    "duration": 1702,
    "start_time": "2023-05-13T11:37:49.977Z"
   },
   {
    "duration": 1465,
    "start_time": "2023-05-13T11:37:51.681Z"
   },
   {
    "duration": 563,
    "start_time": "2023-05-13T11:37:53.148Z"
   },
   {
    "duration": 9,
    "start_time": "2023-05-13T11:37:53.716Z"
   },
   {
    "duration": 1639,
    "start_time": "2023-05-13T11:37:53.727Z"
   },
   {
    "duration": 6,
    "start_time": "2023-05-13T11:37:55.367Z"
   },
   {
    "duration": 1902,
    "start_time": "2023-05-13T11:37:55.374Z"
   },
   {
    "duration": 3,
    "start_time": "2023-05-13T11:37:57.280Z"
   },
   {
    "duration": 44,
    "start_time": "2023-05-13T11:37:57.285Z"
   },
   {
    "duration": 26,
    "start_time": "2023-05-13T11:37:57.331Z"
   },
   {
    "duration": 67,
    "start_time": "2023-05-13T11:37:57.358Z"
   },
   {
    "duration": 52,
    "start_time": "2023-05-13T11:37:57.427Z"
   },
   {
    "duration": 4821,
    "start_time": "2023-05-13T11:37:57.481Z"
   },
   {
    "duration": 5,
    "start_time": "2023-05-13T11:38:02.306Z"
   },
   {
    "duration": 18,
    "start_time": "2023-05-13T11:38:02.314Z"
   },
   {
    "duration": 10,
    "start_time": "2023-05-13T11:38:02.334Z"
   },
   {
    "duration": 52,
    "start_time": "2023-05-13T11:38:02.347Z"
   },
   {
    "duration": 147,
    "start_time": "2023-05-13T11:38:02.401Z"
   },
   {
    "duration": 0,
    "start_time": "2023-05-13T11:38:02.550Z"
   },
   {
    "duration": 0,
    "start_time": "2023-05-13T11:38:02.552Z"
   },
   {
    "duration": 0,
    "start_time": "2023-05-13T11:38:02.553Z"
   },
   {
    "duration": 0,
    "start_time": "2023-05-13T11:38:02.555Z"
   },
   {
    "duration": 0,
    "start_time": "2023-05-13T11:38:02.557Z"
   },
   {
    "duration": 0,
    "start_time": "2023-05-13T11:38:02.558Z"
   },
   {
    "duration": 0,
    "start_time": "2023-05-13T11:38:02.559Z"
   },
   {
    "duration": 0,
    "start_time": "2023-05-13T11:38:02.561Z"
   },
   {
    "duration": 0,
    "start_time": "2023-05-13T11:38:02.563Z"
   },
   {
    "duration": 0,
    "start_time": "2023-05-13T11:38:02.565Z"
   },
   {
    "duration": 3,
    "start_time": "2023-05-13T11:38:19.757Z"
   },
   {
    "duration": 1539,
    "start_time": "2023-05-13T11:39:51.803Z"
   },
   {
    "duration": 838,
    "start_time": "2023-05-13T11:39:53.345Z"
   },
   {
    "duration": 31,
    "start_time": "2023-05-13T11:39:54.184Z"
   },
   {
    "duration": 21,
    "start_time": "2023-05-13T11:39:54.217Z"
   },
   {
    "duration": 19,
    "start_time": "2023-05-13T11:39:54.239Z"
   },
   {
    "duration": 14,
    "start_time": "2023-05-13T11:39:54.260Z"
   },
   {
    "duration": 28,
    "start_time": "2023-05-13T11:39:54.276Z"
   },
   {
    "duration": 23,
    "start_time": "2023-05-13T11:39:54.306Z"
   },
   {
    "duration": 11,
    "start_time": "2023-05-13T11:39:54.331Z"
   },
   {
    "duration": 20,
    "start_time": "2023-05-13T11:39:54.345Z"
   },
   {
    "duration": 4,
    "start_time": "2023-05-13T11:39:54.367Z"
   },
   {
    "duration": 21,
    "start_time": "2023-05-13T11:39:54.373Z"
   },
   {
    "duration": 20,
    "start_time": "2023-05-13T11:39:54.395Z"
   },
   {
    "duration": 14,
    "start_time": "2023-05-13T11:39:54.417Z"
   },
   {
    "duration": 14,
    "start_time": "2023-05-13T11:39:54.433Z"
   },
   {
    "duration": 55,
    "start_time": "2023-05-13T11:39:54.449Z"
   },
   {
    "duration": 127,
    "start_time": "2023-05-13T11:39:54.513Z"
   },
   {
    "duration": 93,
    "start_time": "2023-05-13T11:39:54.642Z"
   },
   {
    "duration": 5,
    "start_time": "2023-05-13T11:39:54.737Z"
   },
   {
    "duration": 16,
    "start_time": "2023-05-13T11:39:54.744Z"
   },
   {
    "duration": 1703,
    "start_time": "2023-05-13T11:39:54.761Z"
   },
   {
    "duration": 1618,
    "start_time": "2023-05-13T11:39:56.466Z"
   },
   {
    "duration": 1587,
    "start_time": "2023-05-13T11:39:58.086Z"
   },
   {
    "duration": 483,
    "start_time": "2023-05-13T11:39:59.675Z"
   },
   {
    "duration": 7,
    "start_time": "2023-05-13T11:40:00.160Z"
   },
   {
    "duration": 1625,
    "start_time": "2023-05-13T11:40:00.168Z"
   },
   {
    "duration": 18,
    "start_time": "2023-05-13T11:40:01.795Z"
   },
   {
    "duration": 1724,
    "start_time": "2023-05-13T11:40:01.820Z"
   },
   {
    "duration": 3,
    "start_time": "2023-05-13T11:40:03.545Z"
   },
   {
    "duration": 17,
    "start_time": "2023-05-13T11:40:03.549Z"
   },
   {
    "duration": 24,
    "start_time": "2023-05-13T11:40:03.568Z"
   },
   {
    "duration": 32,
    "start_time": "2023-05-13T11:40:03.594Z"
   },
   {
    "duration": 24,
    "start_time": "2023-05-13T11:40:03.628Z"
   },
   {
    "duration": 5459,
    "start_time": "2023-05-13T11:40:03.654Z"
   },
   {
    "duration": 96,
    "start_time": "2023-05-13T11:40:09.117Z"
   },
   {
    "duration": 7,
    "start_time": "2023-05-13T11:40:09.216Z"
   },
   {
    "duration": 18,
    "start_time": "2023-05-13T11:40:09.225Z"
   },
   {
    "duration": 6,
    "start_time": "2023-05-13T11:40:09.245Z"
   },
   {
    "duration": 1384,
    "start_time": "2023-05-13T12:37:37.387Z"
   },
   {
    "duration": 809,
    "start_time": "2023-05-13T12:37:38.773Z"
   },
   {
    "duration": 31,
    "start_time": "2023-05-13T12:37:39.584Z"
   },
   {
    "duration": 12,
    "start_time": "2023-05-13T12:37:39.617Z"
   },
   {
    "duration": 16,
    "start_time": "2023-05-13T12:37:39.630Z"
   },
   {
    "duration": 11,
    "start_time": "2023-05-13T12:37:39.648Z"
   },
   {
    "duration": 7,
    "start_time": "2023-05-13T12:37:39.661Z"
   },
   {
    "duration": 44,
    "start_time": "2023-05-13T12:37:39.669Z"
   },
   {
    "duration": 10,
    "start_time": "2023-05-13T12:37:39.715Z"
   },
   {
    "duration": 19,
    "start_time": "2023-05-13T12:37:39.728Z"
   },
   {
    "duration": 4,
    "start_time": "2023-05-13T12:37:39.748Z"
   },
   {
    "duration": 8,
    "start_time": "2023-05-13T12:37:39.753Z"
   },
   {
    "duration": 15,
    "start_time": "2023-05-13T12:37:39.762Z"
   },
   {
    "duration": 9,
    "start_time": "2023-05-13T12:37:39.778Z"
   },
   {
    "duration": 18,
    "start_time": "2023-05-13T12:37:39.788Z"
   },
   {
    "duration": 34,
    "start_time": "2023-05-13T12:37:39.812Z"
   },
   {
    "duration": 121,
    "start_time": "2023-05-13T12:37:39.848Z"
   },
   {
    "duration": 107,
    "start_time": "2023-05-13T12:37:39.971Z"
   },
   {
    "duration": 6,
    "start_time": "2023-05-13T12:37:40.080Z"
   },
   {
    "duration": 25,
    "start_time": "2023-05-13T12:37:40.088Z"
   },
   {
    "duration": 2403,
    "start_time": "2023-05-13T12:37:40.115Z"
   },
   {
    "duration": 2719,
    "start_time": "2023-05-13T12:37:42.519Z"
   },
   {
    "duration": 2495,
    "start_time": "2023-05-13T12:37:45.240Z"
   },
   {
    "duration": 979,
    "start_time": "2023-05-13T12:37:47.736Z"
   },
   {
    "duration": 10,
    "start_time": "2023-05-13T12:37:48.718Z"
   },
   {
    "duration": 1727,
    "start_time": "2023-05-13T12:37:48.730Z"
   },
   {
    "duration": 7,
    "start_time": "2023-05-13T12:37:50.459Z"
   },
   {
    "duration": 1697,
    "start_time": "2023-05-13T12:37:50.470Z"
   },
   {
    "duration": 3,
    "start_time": "2023-05-13T12:37:52.168Z"
   },
   {
    "duration": 9,
    "start_time": "2023-05-13T12:37:52.172Z"
   },
   {
    "duration": 6,
    "start_time": "2023-05-13T12:37:52.182Z"
   },
   {
    "duration": 13,
    "start_time": "2023-05-13T12:37:52.189Z"
   },
   {
    "duration": 22,
    "start_time": "2023-05-13T12:37:52.205Z"
   },
   {
    "duration": 4493,
    "start_time": "2023-05-13T12:37:52.229Z"
   },
   {
    "duration": 5,
    "start_time": "2023-05-13T12:37:56.725Z"
   },
   {
    "duration": 572,
    "start_time": "2023-05-13T12:37:56.797Z"
   },
   {
    "duration": 12,
    "start_time": "2023-05-13T12:37:57.371Z"
   },
   {
    "duration": 0,
    "start_time": "2023-05-13T12:37:57.385Z"
   },
   {
    "duration": 0,
    "start_time": "2023-05-13T12:37:57.386Z"
   },
   {
    "duration": 0,
    "start_time": "2023-05-13T12:37:57.387Z"
   },
   {
    "duration": 0,
    "start_time": "2023-05-13T12:37:57.389Z"
   },
   {
    "duration": 0,
    "start_time": "2023-05-13T12:37:57.391Z"
   },
   {
    "duration": 0,
    "start_time": "2023-05-13T12:37:57.392Z"
   },
   {
    "duration": 0,
    "start_time": "2023-05-13T12:37:57.393Z"
   },
   {
    "duration": 0,
    "start_time": "2023-05-13T12:37:57.394Z"
   },
   {
    "duration": 0,
    "start_time": "2023-05-13T12:37:57.395Z"
   },
   {
    "duration": 0,
    "start_time": "2023-05-13T12:37:57.396Z"
   },
   {
    "duration": 0,
    "start_time": "2023-05-13T12:37:57.398Z"
   },
   {
    "duration": 61576,
    "start_time": "2023-05-13T12:38:26.720Z"
   },
   {
    "duration": 8,
    "start_time": "2023-05-13T12:39:28.299Z"
   },
   {
    "duration": 3,
    "start_time": "2023-05-13T12:43:10.262Z"
   },
   {
    "duration": 3,
    "start_time": "2023-05-13T12:43:11.070Z"
   },
   {
    "duration": 9,
    "start_time": "2023-05-13T12:43:12.591Z"
   },
   {
    "duration": 72853,
    "start_time": "2023-05-13T12:45:48.090Z"
   },
   {
    "duration": 5,
    "start_time": "2023-05-13T12:47:00.945Z"
   },
   {
    "duration": 9,
    "start_time": "2023-05-13T12:50:31.068Z"
   },
   {
    "duration": 6317,
    "start_time": "2023-05-13T12:50:38.262Z"
   },
   {
    "duration": 6,
    "start_time": "2023-05-13T12:50:44.581Z"
   },
   {
    "duration": 144962,
    "start_time": "2023-05-13T12:51:41.031Z"
   },
   {
    "duration": 9,
    "start_time": "2023-05-13T12:54:05.996Z"
   },
   {
    "duration": 5,
    "start_time": "2023-05-13T12:55:21.992Z"
   },
   {
    "duration": 1329,
    "start_time": "2023-05-13T12:56:26.980Z"
   },
   {
    "duration": 830,
    "start_time": "2023-05-13T12:56:56.395Z"
   },
   {
    "duration": 4,
    "start_time": "2023-05-13T12:57:48.881Z"
   },
   {
    "duration": 7,
    "start_time": "2023-05-13T12:57:53.918Z"
   },
   {
    "duration": 7,
    "start_time": "2023-05-13T12:57:55.054Z"
   },
   {
    "duration": 12,
    "start_time": "2023-05-13T12:58:11.309Z"
   },
   {
    "duration": 15,
    "start_time": "2023-05-13T12:58:16.497Z"
   },
   {
    "duration": 3,
    "start_time": "2023-05-13T12:58:29.069Z"
   },
   {
    "duration": 5,
    "start_time": "2023-05-13T12:58:30.927Z"
   },
   {
    "duration": 6,
    "start_time": "2023-05-13T12:58:32.870Z"
   },
   {
    "duration": 5,
    "start_time": "2023-05-13T12:58:34.740Z"
   },
   {
    "duration": 15,
    "start_time": "2023-05-13T12:58:55.499Z"
   },
   {
    "duration": 5,
    "start_time": "2023-05-13T12:59:00.328Z"
   },
   {
    "duration": 13,
    "start_time": "2023-05-13T13:00:51.553Z"
   },
   {
    "duration": 5,
    "start_time": "2023-05-13T13:02:10.645Z"
   },
   {
    "duration": 14,
    "start_time": "2023-05-13T13:02:27.966Z"
   },
   {
    "duration": 585,
    "start_time": "2023-05-13T13:05:11.125Z"
   },
   {
    "duration": 771,
    "start_time": "2023-05-13T13:05:32.225Z"
   },
   {
    "duration": 1025,
    "start_time": "2023-05-13T13:05:39.876Z"
   },
   {
    "duration": 790,
    "start_time": "2023-05-13T13:05:56.912Z"
   },
   {
    "duration": 1747,
    "start_time": "2023-05-13T13:16:43.061Z"
   },
   {
    "duration": 2428,
    "start_time": "2023-05-13T13:16:56.840Z"
   },
   {
    "duration": 929,
    "start_time": "2023-05-13T13:17:14.270Z"
   },
   {
    "duration": 701,
    "start_time": "2023-05-13T13:23:04.646Z"
   },
   {
    "duration": 10,
    "start_time": "2023-05-13T13:24:18.516Z"
   },
   {
    "duration": 5,
    "start_time": "2023-05-13T13:25:04.571Z"
   },
   {
    "duration": 8,
    "start_time": "2023-05-13T13:25:04.957Z"
   },
   {
    "duration": 3,
    "start_time": "2023-05-13T13:27:15.887Z"
   },
   {
    "duration": 4,
    "start_time": "2023-05-13T13:27:16.337Z"
   },
   {
    "duration": 6,
    "start_time": "2023-05-13T13:27:16.835Z"
   },
   {
    "duration": 7,
    "start_time": "2023-05-13T13:27:17.359Z"
   },
   {
    "duration": 3,
    "start_time": "2023-05-13T13:27:17.980Z"
   },
   {
    "duration": 8,
    "start_time": "2023-05-13T13:27:25.383Z"
   },
   {
    "duration": 541,
    "start_time": "2023-05-13T13:31:42.863Z"
   },
   {
    "duration": 1417,
    "start_time": "2023-05-13T13:32:27.199Z"
   },
   {
    "duration": 845,
    "start_time": "2023-05-13T13:32:28.620Z"
   },
   {
    "duration": 19,
    "start_time": "2023-05-13T13:32:29.467Z"
   },
   {
    "duration": 31,
    "start_time": "2023-05-13T13:32:29.487Z"
   },
   {
    "duration": 30,
    "start_time": "2023-05-13T13:32:29.520Z"
   },
   {
    "duration": 11,
    "start_time": "2023-05-13T13:32:29.552Z"
   },
   {
    "duration": 6,
    "start_time": "2023-05-13T13:32:29.564Z"
   },
   {
    "duration": 28,
    "start_time": "2023-05-13T13:32:29.571Z"
   },
   {
    "duration": 13,
    "start_time": "2023-05-13T13:32:29.608Z"
   },
   {
    "duration": 14,
    "start_time": "2023-05-13T13:32:29.624Z"
   },
   {
    "duration": 4,
    "start_time": "2023-05-13T13:32:29.639Z"
   },
   {
    "duration": 5,
    "start_time": "2023-05-13T13:32:29.645Z"
   },
   {
    "duration": 9,
    "start_time": "2023-05-13T13:32:29.652Z"
   },
   {
    "duration": 4,
    "start_time": "2023-05-13T13:32:29.665Z"
   },
   {
    "duration": 36,
    "start_time": "2023-05-13T13:32:29.671Z"
   },
   {
    "duration": 39,
    "start_time": "2023-05-13T13:32:29.709Z"
   },
   {
    "duration": 137,
    "start_time": "2023-05-13T13:32:29.750Z"
   },
   {
    "duration": 98,
    "start_time": "2023-05-13T13:32:29.889Z"
   },
   {
    "duration": 19,
    "start_time": "2023-05-13T13:32:29.988Z"
   },
   {
    "duration": 10,
    "start_time": "2023-05-13T13:32:30.013Z"
   },
   {
    "duration": 1558,
    "start_time": "2023-05-13T13:32:30.025Z"
   },
   {
    "duration": 1686,
    "start_time": "2023-05-13T13:32:31.585Z"
   },
   {
    "duration": 1541,
    "start_time": "2023-05-13T13:32:33.273Z"
   },
   {
    "duration": 456,
    "start_time": "2023-05-13T13:32:34.820Z"
   },
   {
    "duration": 27,
    "start_time": "2023-05-13T13:32:35.278Z"
   },
   {
    "duration": 1608,
    "start_time": "2023-05-13T13:32:35.313Z"
   },
   {
    "duration": 6,
    "start_time": "2023-05-13T13:32:36.923Z"
   },
   {
    "duration": 1836,
    "start_time": "2023-05-13T13:32:36.931Z"
   },
   {
    "duration": 3,
    "start_time": "2023-05-13T13:32:38.769Z"
   },
   {
    "duration": 15,
    "start_time": "2023-05-13T13:32:38.773Z"
   },
   {
    "duration": 32,
    "start_time": "2023-05-13T13:32:38.789Z"
   },
   {
    "duration": 28,
    "start_time": "2023-05-13T13:32:38.822Z"
   },
   {
    "duration": 20,
    "start_time": "2023-05-13T13:32:38.853Z"
   },
   {
    "duration": 6233,
    "start_time": "2023-05-13T13:32:38.874Z"
   },
   {
    "duration": 4,
    "start_time": "2023-05-13T13:32:45.112Z"
   },
   {
    "duration": 64252,
    "start_time": "2023-05-13T13:32:45.117Z"
   },
   {
    "duration": 5,
    "start_time": "2023-05-13T13:33:49.371Z"
   },
   {
    "duration": 14,
    "start_time": "2023-05-13T13:33:49.378Z"
   },
   {
    "duration": 27,
    "start_time": "2023-05-13T13:33:49.393Z"
   },
   {
    "duration": 149695,
    "start_time": "2023-05-13T13:33:49.422Z"
   },
   {
    "duration": 4,
    "start_time": "2023-05-13T13:36:19.122Z"
   },
   {
    "duration": 601263,
    "start_time": "2023-05-13T13:36:19.128Z"
   },
   {
    "duration": 15,
    "start_time": "2023-05-13T13:46:20.393Z"
   },
   {
    "duration": 2390,
    "start_time": "2023-05-13T13:46:20.409Z"
   },
   {
    "duration": 5,
    "start_time": "2023-05-13T13:46:22.803Z"
   },
   {
    "duration": 122,
    "start_time": "2023-05-13T13:46:22.810Z"
   },
   {
    "duration": 5,
    "start_time": "2023-05-13T13:46:22.934Z"
   },
   {
    "duration": 10,
    "start_time": "2023-05-13T13:46:22.942Z"
   },
   {
    "duration": 7,
    "start_time": "2023-05-13T13:46:22.954Z"
   },
   {
    "duration": 8,
    "start_time": "2023-05-13T13:46:22.963Z"
   },
   {
    "duration": 11,
    "start_time": "2023-05-13T13:46:22.973Z"
   },
   {
    "duration": 107,
    "start_time": "2023-05-13T13:48:14.113Z"
   },
   {
    "duration": 4,
    "start_time": "2023-05-13T13:49:18.260Z"
   },
   {
    "duration": 83,
    "start_time": "2023-05-13T13:53:33.875Z"
   },
   {
    "duration": 1552,
    "start_time": "2023-07-20T16:32:15.841Z"
   },
   {
    "duration": 2041,
    "start_time": "2023-07-20T16:32:17.394Z"
   },
   {
    "duration": 18,
    "start_time": "2023-07-20T16:32:19.436Z"
   },
   {
    "duration": 12,
    "start_time": "2023-07-20T16:32:19.455Z"
   },
   {
    "duration": 16,
    "start_time": "2023-07-20T16:32:19.468Z"
   },
   {
    "duration": 20,
    "start_time": "2023-07-20T16:32:19.485Z"
   },
   {
    "duration": 7,
    "start_time": "2023-07-20T16:32:19.507Z"
   },
   {
    "duration": 33,
    "start_time": "2023-07-20T16:32:19.516Z"
   },
   {
    "duration": 15,
    "start_time": "2023-07-20T16:32:19.550Z"
   },
   {
    "duration": 15,
    "start_time": "2023-07-20T16:32:19.567Z"
   },
   {
    "duration": 4,
    "start_time": "2023-07-20T16:32:19.584Z"
   },
   {
    "duration": 10,
    "start_time": "2023-07-20T16:32:19.589Z"
   },
   {
    "duration": 5,
    "start_time": "2023-07-20T16:32:19.601Z"
   },
   {
    "duration": 18,
    "start_time": "2023-07-20T16:32:19.609Z"
   },
   {
    "duration": 16,
    "start_time": "2023-07-20T16:32:19.629Z"
   },
   {
    "duration": 28,
    "start_time": "2023-07-20T16:32:19.647Z"
   },
   {
    "duration": 123,
    "start_time": "2023-07-20T16:32:19.677Z"
   },
   {
    "duration": 82,
    "start_time": "2023-07-20T16:32:19.802Z"
   },
   {
    "duration": 5,
    "start_time": "2023-07-20T16:32:19.900Z"
   },
   {
    "duration": 7,
    "start_time": "2023-07-20T16:32:19.907Z"
   },
   {
    "duration": 1547,
    "start_time": "2023-07-20T16:32:19.915Z"
   },
   {
    "duration": 1517,
    "start_time": "2023-07-20T16:32:21.465Z"
   },
   {
    "duration": 1566,
    "start_time": "2023-07-20T16:32:22.984Z"
   },
   {
    "duration": 522,
    "start_time": "2023-07-20T16:32:24.552Z"
   },
   {
    "duration": 9,
    "start_time": "2023-07-20T16:32:25.076Z"
   },
   {
    "duration": 1645,
    "start_time": "2023-07-20T16:32:25.087Z"
   },
   {
    "duration": 5,
    "start_time": "2023-07-20T16:32:26.734Z"
   },
   {
    "duration": 1698,
    "start_time": "2023-07-20T16:32:26.741Z"
   },
   {
    "duration": 3,
    "start_time": "2023-07-20T16:32:28.440Z"
   },
   {
    "duration": 8,
    "start_time": "2023-07-20T16:32:28.444Z"
   },
   {
    "duration": 6,
    "start_time": "2023-07-20T16:32:28.454Z"
   },
   {
    "duration": 9,
    "start_time": "2023-07-20T16:32:28.461Z"
   },
   {
    "duration": 28,
    "start_time": "2023-07-20T16:32:28.471Z"
   },
   {
    "duration": 2902,
    "start_time": "2023-07-20T16:32:28.501Z"
   },
   {
    "duration": 5,
    "start_time": "2023-07-20T16:32:31.405Z"
   },
   {
    "duration": 61774,
    "start_time": "2023-07-20T16:32:31.412Z"
   },
   {
    "duration": 3,
    "start_time": "2023-07-20T16:33:33.188Z"
   },
   {
    "duration": 33,
    "start_time": "2023-07-20T16:33:33.192Z"
   },
   {
    "duration": 19,
    "start_time": "2023-07-20T16:33:33.227Z"
   },
   {
    "duration": 145773,
    "start_time": "2023-07-20T16:33:33.247Z"
   },
   {
    "duration": 4,
    "start_time": "2023-07-20T16:35:59.023Z"
   },
   {
    "duration": 574553,
    "start_time": "2023-07-20T16:35:59.028Z"
   },
   {
    "duration": 3,
    "start_time": "2023-07-20T16:45:33.583Z"
   },
   {
    "duration": 1414,
    "start_time": "2023-07-20T16:45:33.587Z"
   },
   {
    "duration": 3,
    "start_time": "2023-07-20T16:45:35.002Z"
   },
   {
    "duration": 93,
    "start_time": "2023-07-20T16:45:35.007Z"
   },
   {
    "duration": 3,
    "start_time": "2023-07-20T16:45:35.102Z"
   },
   {
    "duration": 19,
    "start_time": "2023-07-20T16:45:35.107Z"
   },
   {
    "duration": 9,
    "start_time": "2023-07-20T16:45:35.128Z"
   },
   {
    "duration": 6,
    "start_time": "2023-07-20T16:45:35.138Z"
   },
   {
    "duration": 6,
    "start_time": "2023-07-20T16:45:35.146Z"
   }
  ],
  "kernelspec": {
   "display_name": "Python 3 (ipykernel)",
   "language": "python",
   "name": "python3"
  },
  "language_info": {
   "codemirror_mode": {
    "name": "ipython",
    "version": 3
   },
   "file_extension": ".py",
   "mimetype": "text/x-python",
   "name": "python",
   "nbconvert_exporter": "python",
   "pygments_lexer": "ipython3",
   "version": "3.9.12"
  },
  "toc": {
   "base_numbering": 1,
   "nav_menu": {},
   "number_sections": true,
   "sideBar": true,
   "skip_h1_title": true,
   "title_cell": "Содержание",
   "title_sidebar": "Contents",
   "toc_cell": true,
   "toc_position": {
    "height": "calc(100% - 180px)",
    "left": "10px",
    "top": "150px",
    "width": "165px"
   },
   "toc_section_display": true,
   "toc_window_display": true
  }
 },
 "nbformat": 4,
 "nbformat_minor": 2
}
